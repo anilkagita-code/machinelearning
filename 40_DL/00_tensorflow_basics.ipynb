{
 "cells": [
  {
   "cell_type": "code",
   "execution_count": 1,
   "id": "4a07b1bc",
   "metadata": {},
   "outputs": [],
   "source": [
    "import tensorflow as tf"
   ]
  },
  {
   "cell_type": "code",
   "execution_count": 2,
   "id": "8d7cbd14",
   "metadata": {},
   "outputs": [
    {
     "data": {
      "text/plain": [
       "'2.6.0-dev20210604'"
      ]
     },
     "execution_count": 2,
     "metadata": {},
     "output_type": "execute_result"
    }
   ],
   "source": [
    "tf.__version__"
   ]
  },
  {
   "cell_type": "markdown",
   "id": "23887e85",
   "metadata": {},
   "source": [
    "##### Constant"
   ]
  },
  {
   "cell_type": "code",
   "execution_count": 3,
   "id": "4e1399c4",
   "metadata": {},
   "outputs": [
    {
     "data": {
      "text/plain": [
       "<tf.Tensor: shape=(), dtype=int32, numpy=10>"
      ]
     },
     "execution_count": 3,
     "metadata": {},
     "output_type": "execute_result"
    }
   ],
   "source": [
    "scalar = tf.constant(10)\n",
    "scalar"
   ]
  },
  {
   "cell_type": "code",
   "execution_count": 4,
   "id": "d297541d",
   "metadata": {},
   "outputs": [
    {
     "data": {
      "text/plain": [
       "0"
      ]
     },
     "execution_count": 4,
     "metadata": {},
     "output_type": "execute_result"
    }
   ],
   "source": [
    "scalar.ndim"
   ]
  },
  {
   "cell_type": "code",
   "execution_count": 5,
   "id": "baa27e1a",
   "metadata": {},
   "outputs": [
    {
     "data": {
      "text/plain": [
       "<tf.Tensor: shape=(2,), dtype=int32, numpy=array([10, 10])>"
      ]
     },
     "execution_count": 5,
     "metadata": {},
     "output_type": "execute_result"
    }
   ],
   "source": [
    "vector = tf.constant([10, 10])\n",
    "vector"
   ]
  },
  {
   "cell_type": "code",
   "execution_count": 6,
   "id": "4aee6f73",
   "metadata": {},
   "outputs": [
    {
     "data": {
      "text/plain": [
       "1"
      ]
     },
     "execution_count": 6,
     "metadata": {},
     "output_type": "execute_result"
    }
   ],
   "source": [
    "vector.ndim"
   ]
  },
  {
   "cell_type": "code",
   "execution_count": 7,
   "id": "58c99e57",
   "metadata": {},
   "outputs": [
    {
     "data": {
      "text/plain": [
       "<tf.Tensor: shape=(2, 2), dtype=int32, numpy=\n",
       "array([[10,  7],\n",
       "       [ 7, 10]])>"
      ]
     },
     "execution_count": 7,
     "metadata": {},
     "output_type": "execute_result"
    }
   ],
   "source": [
    "matrix = tf.constant([[10, 7], \n",
    "                     [7, 10]])\n",
    "matrix"
   ]
  },
  {
   "cell_type": "code",
   "execution_count": 8,
   "id": "374d13d8",
   "metadata": {},
   "outputs": [
    {
     "data": {
      "text/plain": [
       "2"
      ]
     },
     "execution_count": 8,
     "metadata": {},
     "output_type": "execute_result"
    }
   ],
   "source": [
    "matrix.ndim"
   ]
  },
  {
   "cell_type": "code",
   "execution_count": 9,
   "id": "c7cfdc9c",
   "metadata": {},
   "outputs": [
    {
     "data": {
      "text/plain": [
       "<tf.Tensor: shape=(3, 2), dtype=float16, numpy=\n",
       "array([[10.,  7.],\n",
       "       [ 3.,  2.],\n",
       "       [ 8.,  9.]], dtype=float16)>"
      ]
     },
     "execution_count": 9,
     "metadata": {},
     "output_type": "execute_result"
    }
   ],
   "source": [
    "another_matrix = tf.constant([[10., 7.],\n",
    "                             [3., 2.],\n",
    "                             [8., 9.]], dtype=tf.float16)\n",
    "another_matrix"
   ]
  },
  {
   "cell_type": "code",
   "execution_count": 10,
   "id": "6d1d36f0",
   "metadata": {},
   "outputs": [
    {
     "data": {
      "text/plain": [
       "2"
      ]
     },
     "execution_count": 10,
     "metadata": {},
     "output_type": "execute_result"
    }
   ],
   "source": [
    "another_matrix.ndim"
   ]
  },
  {
   "cell_type": "code",
   "execution_count": 11,
   "id": "840f6af4",
   "metadata": {},
   "outputs": [
    {
     "data": {
      "text/plain": [
       "<tf.Tensor: shape=(3, 2, 3), dtype=int16, numpy=\n",
       "array([[[ 1,  2,  3],\n",
       "        [ 4,  5,  6]],\n",
       "\n",
       "       [[ 7,  8,  9],\n",
       "        [10, 11, 12]],\n",
       "\n",
       "       [[13, 14, 15],\n",
       "        [16, 17, 18]]], dtype=int16)>"
      ]
     },
     "execution_count": 11,
     "metadata": {},
     "output_type": "execute_result"
    }
   ],
   "source": [
    "my_tensor = tf.constant([[[1, 2, 3],\n",
    "                         [4, 5, 6]],\n",
    "                        [[7, 8, 9],\n",
    "                        [10, 11, 12]],\n",
    "                        [[13, 14, 15],\n",
    "                        [16, 17, 18]]], dtype=tf.int16)\n",
    "my_tensor"
   ]
  },
  {
   "cell_type": "code",
   "execution_count": 12,
   "id": "855e2d8d",
   "metadata": {},
   "outputs": [
    {
     "data": {
      "text/plain": [
       "3"
      ]
     },
     "execution_count": 12,
     "metadata": {},
     "output_type": "execute_result"
    }
   ],
   "source": [
    "my_tensor.ndim"
   ]
  },
  {
   "cell_type": "markdown",
   "id": "6aeee805",
   "metadata": {},
   "source": [
    "##### Variable"
   ]
  },
  {
   "cell_type": "code",
   "execution_count": 13,
   "id": "aaa0283a",
   "metadata": {},
   "outputs": [
    {
     "data": {
      "text/plain": [
       "(<tf.Variable 'Variable:0' shape=(2,) dtype=int32, numpy=array([10,  7])>,\n",
       " <tf.Tensor: shape=(2,), dtype=int32, numpy=array([10,  7])>)"
      ]
     },
     "execution_count": 13,
     "metadata": {},
     "output_type": "execute_result"
    }
   ],
   "source": [
    "change_tensor = tf.Variable([10, 7])\n",
    "unchange_tensor = tf.constant([10, 7])\n",
    "change_tensor, unchange_tensor"
   ]
  },
  {
   "cell_type": "code",
   "execution_count": 14,
   "id": "56924c04",
   "metadata": {},
   "outputs": [
    {
     "ename": "TypeError",
     "evalue": "'ResourceVariable' object does not support item assignment",
     "output_type": "error",
     "traceback": [
      "\u001b[1;31m---------------------------------------------------------------------------\u001b[0m",
      "\u001b[1;31mTypeError\u001b[0m                                 Traceback (most recent call last)",
      "\u001b[1;32m<ipython-input-14-913b3c3c1c3c>\u001b[0m in \u001b[0;36m<module>\u001b[1;34m\u001b[0m\n\u001b[1;32m----> 1\u001b[1;33m \u001b[0mchange_tensor\u001b[0m\u001b[1;33m[\u001b[0m\u001b[1;36m0\u001b[0m\u001b[1;33m]\u001b[0m \u001b[1;33m=\u001b[0m \u001b[1;36m7\u001b[0m\u001b[1;33m\u001b[0m\u001b[1;33m\u001b[0m\u001b[0m\n\u001b[0m\u001b[0;32m      2\u001b[0m \u001b[0mchange_tensor\u001b[0m\u001b[1;33m\u001b[0m\u001b[1;33m\u001b[0m\u001b[0m\n",
      "\u001b[1;31mTypeError\u001b[0m: 'ResourceVariable' object does not support item assignment"
     ]
    }
   ],
   "source": [
    "change_tensor[0] = 7\n",
    "change_tensor"
   ]
  },
  {
   "cell_type": "code",
   "execution_count": 15,
   "id": "7dc1f576",
   "metadata": {},
   "outputs": [
    {
     "data": {
      "text/plain": [
       "<tf.Variable 'Variable:0' shape=(2,) dtype=int32, numpy=array([7, 7])>"
      ]
     },
     "execution_count": 15,
     "metadata": {},
     "output_type": "execute_result"
    }
   ],
   "source": [
    "change_tensor[0].assign(7)\n",
    "change_tensor"
   ]
  },
  {
   "cell_type": "code",
   "execution_count": 16,
   "id": "02f04704",
   "metadata": {},
   "outputs": [
    {
     "ename": "TypeError",
     "evalue": "'tensorflow.python.framework.ops.EagerTensor' object does not support item assignment",
     "output_type": "error",
     "traceback": [
      "\u001b[1;31m---------------------------------------------------------------------------\u001b[0m",
      "\u001b[1;31mTypeError\u001b[0m                                 Traceback (most recent call last)",
      "\u001b[1;32m<ipython-input-16-b28d089cf2c7>\u001b[0m in \u001b[0;36m<module>\u001b[1;34m\u001b[0m\n\u001b[1;32m----> 1\u001b[1;33m \u001b[0munchange_tensor\u001b[0m\u001b[1;33m[\u001b[0m\u001b[1;36m0\u001b[0m\u001b[1;33m]\u001b[0m \u001b[1;33m=\u001b[0m \u001b[1;36m7\u001b[0m\u001b[1;33m\u001b[0m\u001b[1;33m\u001b[0m\u001b[0m\n\u001b[0m\u001b[0;32m      2\u001b[0m \u001b[0munchange_tensor\u001b[0m\u001b[1;33m\u001b[0m\u001b[1;33m\u001b[0m\u001b[0m\n",
      "\u001b[1;31mTypeError\u001b[0m: 'tensorflow.python.framework.ops.EagerTensor' object does not support item assignment"
     ]
    }
   ],
   "source": [
    "unchange_tensor[0] = 7\n",
    "unchange_tensor"
   ]
  },
  {
   "cell_type": "code",
   "execution_count": 17,
   "id": "05e93c1f",
   "metadata": {},
   "outputs": [
    {
     "ename": "AttributeError",
     "evalue": "'tensorflow.python.framework.ops.EagerTensor' object has no attribute 'assign'",
     "output_type": "error",
     "traceback": [
      "\u001b[1;31m---------------------------------------------------------------------------\u001b[0m",
      "\u001b[1;31mAttributeError\u001b[0m                            Traceback (most recent call last)",
      "\u001b[1;32m<ipython-input-17-0689cb3ab949>\u001b[0m in \u001b[0;36m<module>\u001b[1;34m\u001b[0m\n\u001b[1;32m----> 1\u001b[1;33m \u001b[0munchange_tensor\u001b[0m\u001b[1;33m[\u001b[0m\u001b[1;36m0\u001b[0m\u001b[1;33m]\u001b[0m\u001b[1;33m.\u001b[0m\u001b[0massign\u001b[0m\u001b[1;33m[\u001b[0m\u001b[1;36m7\u001b[0m\u001b[1;33m]\u001b[0m\u001b[1;33m\u001b[0m\u001b[1;33m\u001b[0m\u001b[0m\n\u001b[0m\u001b[0;32m      2\u001b[0m \u001b[0munchange_tensor\u001b[0m\u001b[1;33m\u001b[0m\u001b[1;33m\u001b[0m\u001b[0m\n",
      "\u001b[1;32mC:\\ProgramData\\Anaconda3\\envs\\tensorflow_gpu\\lib\\site-packages\\tensorflow\\python\\framework\\ops.py\u001b[0m in \u001b[0;36m__getattr__\u001b[1;34m(self, name)\u001b[0m\n\u001b[0;32m    399\u001b[0m         \u001b[1;32mimport\u001b[0m \u001b[0mtensorflow\u001b[0m\u001b[1;33m.\u001b[0m\u001b[0mpython\u001b[0m\u001b[1;33m.\u001b[0m\u001b[0mops\u001b[0m\u001b[1;33m.\u001b[0m\u001b[0mnumpy_ops\u001b[0m\u001b[1;33m.\u001b[0m\u001b[0mnp_config\u001b[0m\u001b[1;33m\u001b[0m\u001b[1;33m\u001b[0m\u001b[0m\n\u001b[0;32m    400\u001b[0m         np_config.enable_numpy_behavior()\"\"\".format(type(self).__name__, name))\n\u001b[1;32m--> 401\u001b[1;33m     \u001b[0mself\u001b[0m\u001b[1;33m.\u001b[0m\u001b[0m__getattribute__\u001b[0m\u001b[1;33m(\u001b[0m\u001b[0mname\u001b[0m\u001b[1;33m)\u001b[0m\u001b[1;33m\u001b[0m\u001b[1;33m\u001b[0m\u001b[0m\n\u001b[0m\u001b[0;32m    402\u001b[0m \u001b[1;33m\u001b[0m\u001b[0m\n\u001b[0;32m    403\u001b[0m   \u001b[1;33m@\u001b[0m\u001b[0mstaticmethod\u001b[0m\u001b[1;33m\u001b[0m\u001b[1;33m\u001b[0m\u001b[0m\n",
      "\u001b[1;31mAttributeError\u001b[0m: 'tensorflow.python.framework.ops.EagerTensor' object has no attribute 'assign'"
     ]
    }
   ],
   "source": [
    "unchange_tensor[0].assign[7]\n",
    "unchange_tensor"
   ]
  },
  {
   "cell_type": "markdown",
   "id": "06b1c9bc",
   "metadata": {},
   "source": [
    "##### Random Tensors"
   ]
  },
  {
   "cell_type": "code",
   "execution_count": 18,
   "id": "906185d6",
   "metadata": {},
   "outputs": [],
   "source": [
    "rand_1 = tf.random.Generator.from_seed(42)"
   ]
  },
  {
   "cell_type": "code",
   "execution_count": 19,
   "id": "1369e61d",
   "metadata": {},
   "outputs": [
    {
     "data": {
      "text/plain": [
       "<tf.Tensor: shape=(3, 2), dtype=float32, numpy=\n",
       "array([[-0.7565803 , -0.06854702],\n",
       "       [ 0.07595026, -1.2573844 ],\n",
       "       [-0.23193765, -1.8107855 ]], dtype=float32)>"
      ]
     },
     "execution_count": 19,
     "metadata": {},
     "output_type": "execute_result"
    }
   ],
   "source": [
    "rand_1.normal(shape=(3,2))"
   ]
  },
  {
   "cell_type": "code",
   "execution_count": 20,
   "id": "e5e3b18c",
   "metadata": {},
   "outputs": [
    {
     "data": {
      "text/plain": [
       "<tf.Tensor: shape=(3, 2), dtype=float32, numpy=\n",
       "array([[0.7647915 , 0.03845465],\n",
       "       [0.8506975 , 0.20781887],\n",
       "       [0.711869  , 0.8843919 ]], dtype=float32)>"
      ]
     },
     "execution_count": 20,
     "metadata": {},
     "output_type": "execute_result"
    }
   ],
   "source": [
    "rand_1.uniform(shape=(3,2))"
   ]
  },
  {
   "cell_type": "code",
   "execution_count": 21,
   "id": "c145812b",
   "metadata": {},
   "outputs": [
    {
     "data": {
      "text/plain": [
       "<tf.Tensor: shape=(3, 2), dtype=bool, numpy=\n",
       "array([[False, False],\n",
       "       [False, False],\n",
       "       [False, False]])>"
      ]
     },
     "execution_count": 21,
     "metadata": {},
     "output_type": "execute_result"
    }
   ],
   "source": [
    "rand_1.normal(shape=(3,2)) == rand_1.normal(shape=(3,2))"
   ]
  },
  {
   "cell_type": "code",
   "execution_count": 22,
   "id": "9bcf5c9d",
   "metadata": {},
   "outputs": [
    {
     "data": {
      "text/plain": [
       "<tf.Tensor: shape=(3, 2), dtype=bool, numpy=\n",
       "array([[False, False],\n",
       "       [False, False],\n",
       "       [False, False]])>"
      ]
     },
     "execution_count": 22,
     "metadata": {},
     "output_type": "execute_result"
    }
   ],
   "source": [
    "rand_1 = tf.random.Generator.from_seed(3)\n",
    "rand_1.normal(shape=(3,2)) == rand_1.normal(shape=(3,2))"
   ]
  },
  {
   "cell_type": "code",
   "execution_count": 23,
   "id": "88abd4c9",
   "metadata": {},
   "outputs": [
    {
     "data": {
      "text/plain": [
       "<tf.Tensor: shape=(3, 2), dtype=float32, numpy=\n",
       "array([[0.8398994 , 0.92632127],\n",
       "       [0.10943472, 0.00302172],\n",
       "       [0.19150412, 0.04563546]], dtype=float32)>"
      ]
     },
     "execution_count": 23,
     "metadata": {},
     "output_type": "execute_result"
    }
   ],
   "source": [
    "rand_1.uniform(shape=(3,2))"
   ]
  },
  {
   "cell_type": "code",
   "execution_count": 24,
   "id": "35f33e1e",
   "metadata": {},
   "outputs": [
    {
     "data": {
      "text/plain": [
       "<tf.Tensor: shape=(3, 2), dtype=float32, numpy=\n",
       "array([[0.28062475, 0.50312376],\n",
       "       [0.9028803 , 0.17021883],\n",
       "       [0.1053102 , 0.04724419]], dtype=float32)>"
      ]
     },
     "execution_count": 24,
     "metadata": {},
     "output_type": "execute_result"
    }
   ],
   "source": [
    "rand_1.uniform(shape=(3,2))"
   ]
  },
  {
   "cell_type": "markdown",
   "id": "18b7ac05",
   "metadata": {},
   "source": [
    "##### Shuffle"
   ]
  },
  {
   "cell_type": "markdown",
   "id": "1ec28222",
   "metadata": {},
   "source": [
    "- Randomly shuffles a tensor along its first dimension."
   ]
  },
  {
   "cell_type": "code",
   "execution_count": 25,
   "id": "cb5eb209",
   "metadata": {},
   "outputs": [],
   "source": [
    "import numpy as np"
   ]
  },
  {
   "cell_type": "code",
   "execution_count": 29,
   "id": "991622c5",
   "metadata": {},
   "outputs": [
    {
     "data": {
      "text/plain": [
       "<tf.Tensor: shape=(3, 2), dtype=int32, numpy=\n",
       "array([[3, 4],\n",
       "       [3, 0],\n",
       "       [9, 3]])>"
      ]
     },
     "execution_count": 29,
     "metadata": {},
     "output_type": "execute_result"
    }
   ],
   "source": [
    "not_shuffle = tf.constant(np.random.randint(10, size=(3, 2)))\n",
    "not_shuffle"
   ]
  },
  {
   "cell_type": "code",
   "execution_count": 31,
   "id": "0920c1b1",
   "metadata": {},
   "outputs": [
    {
     "name": "stdout",
     "output_type": "stream",
     "text": [
      "tf.Tensor(\n",
      "[[3 0]\n",
      " [3 4]\n",
      " [9 3]], shape=(3, 2), dtype=int32) tf.Tensor(\n",
      "[[3 0]\n",
      " [9 3]\n",
      " [3 4]], shape=(3, 2), dtype=int32)\n"
     ]
    }
   ],
   "source": [
    "print(tf.random.shuffle(not_shuffle), tf.random.shuffle(not_shuffle))"
   ]
  },
  {
   "cell_type": "code",
   "execution_count": 36,
   "id": "07dbab91",
   "metadata": {},
   "outputs": [
    {
     "data": {
      "text/plain": [
       "<tf.Tensor: shape=(5, 3), dtype=float32, numpy=\n",
       "array([[1., 1., 1.],\n",
       "       [1., 1., 1.],\n",
       "       [1., 1., 1.],\n",
       "       [1., 1., 1.],\n",
       "       [1., 1., 1.]], dtype=float32)>"
      ]
     },
     "execution_count": 36,
     "metadata": {},
     "output_type": "execute_result"
    }
   ],
   "source": [
    "tf.ones(shape=(5, 3), name='tf_ones')"
   ]
  },
  {
   "cell_type": "code",
   "execution_count": 42,
   "id": "19a1fe54",
   "metadata": {},
   "outputs": [
    {
     "data": {
      "text/plain": [
       "<tf.Tensor: shape=(2, 2, 3, 2), dtype=int32, numpy=\n",
       "array([[[[ 1,  2],\n",
       "         [ 3,  4],\n",
       "         [ 5,  6]],\n",
       "\n",
       "        [[ 7,  8],\n",
       "         [ 9, 10],\n",
       "         [11, 12]]],\n",
       "\n",
       "\n",
       "       [[[13, 14],\n",
       "         [15, 16],\n",
       "         [17, 18]],\n",
       "\n",
       "        [[19, 20],\n",
       "         [21, 22],\n",
       "         [23, 24]]]])>"
      ]
     },
     "execution_count": 42,
     "metadata": {},
     "output_type": "execute_result"
    }
   ],
   "source": [
    "tf.constant(np.arange(1, 25), shape=(2, 2, 3, 2), dtype=np.int32)"
   ]
  },
  {
   "cell_type": "code",
   "execution_count": 51,
   "id": "b998b94e",
   "metadata": {},
   "outputs": [
    {
     "name": "stdout",
     "output_type": "stream",
     "text": [
      "\n",
      "Matrix: \n",
      "[[[[0 2 5 4 4]\n",
      "   [3 1 7 5 7]\n",
      "   [6 9 4 9 4]\n",
      "   [4 4 5 3 5]]\n",
      "\n",
      "  [[7 6 8 8 7]\n",
      "   [0 6 5 4 3]\n",
      "   [7 1 5 1 0]\n",
      "   [7 1 2 0 4]]]\n",
      "\n",
      "\n",
      " [[[4 3 5 8 6]\n",
      "   [8 6 0 1 7]\n",
      "   [4 3 8 5 6]\n",
      "   [3 3 7 1 4]]\n",
      "\n",
      "  [[4 5 9 1 1]\n",
      "   [4 5 1 0 8]\n",
      "   [0 2 1 0 2]\n",
      "   [1 0 3 2 7]]]\n",
      "\n",
      "\n",
      " [[[4 8 5 5 9]\n",
      "   [7 2 0 7 7]\n",
      "   [1 6 9 1 1]\n",
      "   [4 0 0 4 5]]\n",
      "\n",
      "  [[3 4 9 7 0]\n",
      "   [3 1 2 7 4]\n",
      "   [3 5 2 7 8]\n",
      "   [3 4 1 1 7]]]], \n",
      "Rank of a matrix: 4, \n",
      "Size of matrix: 120\n"
     ]
    }
   ],
   "source": [
    "print(f'''\n",
    "Matrix: \\n{np.random.randint(10, size=(3, 2, 4, 5))}, \n",
    "Rank of a matrix: {np.random.randint(10, size=(3, 2, 4, 5)).ndim}, \n",
    "Size of matrix: {np.random.randint(10, size=(3, 2, 4, 5)).size}''')"
   ]
  },
  {
   "cell_type": "code",
   "execution_count": 66,
   "id": "2963b03f",
   "metadata": {},
   "outputs": [
    {
     "data": {
      "text/plain": [
       "<tf.Tensor: shape=(3, 2, 3, 2), dtype=int32, numpy=\n",
       "array([[[[4, 0],\n",
       "         [2, 7],\n",
       "         [1, 7]],\n",
       "\n",
       "        [[5, 0],\n",
       "         [0, 2],\n",
       "         [5, 9]]],\n",
       "\n",
       "\n",
       "       [[[8, 0],\n",
       "         [6, 8],\n",
       "         [4, 6]],\n",
       "\n",
       "        [[0, 0],\n",
       "         [0, 4],\n",
       "         [0, 0]]],\n",
       "\n",
       "\n",
       "       [[[8, 9],\n",
       "         [9, 9],\n",
       "         [4, 0]],\n",
       "\n",
       "        [[8, 1],\n",
       "         [8, 9],\n",
       "         [1, 8]]]])>"
      ]
     },
     "execution_count": 66,
     "metadata": {},
     "output_type": "execute_result"
    }
   ],
   "source": [
    "my_matrix = tf.constant(np.random.randint(10, size=(3, 2, 3, 2)))\n",
    "my_matrix"
   ]
  },
  {
   "cell_type": "code",
   "execution_count": 69,
   "id": "058a2aec",
   "metadata": {},
   "outputs": [
    {
     "name": "stdout",
     "output_type": "stream",
     "text": [
      "\n",
      "Matrix: \n",
      "[[[[4 0]\n",
      "   [2 7]\n",
      "   [1 7]]\n",
      "\n",
      "  [[5 0]\n",
      "   [0 2]\n",
      "   [5 9]]]\n",
      "\n",
      "\n",
      " [[[8 0]\n",
      "   [6 8]\n",
      "   [4 6]]\n",
      "\n",
      "  [[0 0]\n",
      "   [0 4]\n",
      "   [0 0]]]\n",
      "\n",
      "\n",
      " [[[8 9]\n",
      "   [9 9]\n",
      "   [4 0]]\n",
      "\n",
      "  [[8 1]\n",
      "   [8 9]\n",
      "   [1 8]]]], \n",
      "Rank of a matrix: 4, \n",
      "Size of matrix: 36,\n",
      "Shape: (3, 2, 3, 2)\n",
      "Shape at 0 index: 3\n",
      "Shape at last dimension: 2,\n",
      "Size: 36\n"
     ]
    }
   ],
   "source": [
    "print(f'''\n",
    "Matrix: \\n{my_matrix}, \n",
    "Rank of a matrix: {my_matrix.ndim}, \n",
    "Size of matrix: {tf.size(my_matrix)},\n",
    "Shape: {my_matrix.shape}\n",
    "Shape at 0 index: {my_matrix.shape[0]}\n",
    "Shape at last dimension: {my_matrix.shape[-1]},\n",
    "Size: {tf.size(my_matrix).numpy()}''')"
   ]
  },
  {
   "cell_type": "code",
   "execution_count": 70,
   "id": "f416bf5f",
   "metadata": {},
   "outputs": [
    {
     "data": {
      "text/plain": [
       "<tf.Tensor: shape=(), dtype=int32, numpy=36>"
      ]
     },
     "execution_count": 70,
     "metadata": {},
     "output_type": "execute_result"
    }
   ],
   "source": [
    "tf.size(my_matrix)"
   ]
  },
  {
   "cell_type": "code",
   "execution_count": 71,
   "id": "87d94c64",
   "metadata": {},
   "outputs": [
    {
     "data": {
      "text/plain": [
       "36"
      ]
     },
     "execution_count": 71,
     "metadata": {},
     "output_type": "execute_result"
    }
   ],
   "source": [
    "tf.size(my_matrix).numpy()"
   ]
  },
  {
   "cell_type": "markdown",
   "id": "0bf0f7e2",
   "metadata": {},
   "source": [
    "##### Indexing just like Python List"
   ]
  },
  {
   "cell_type": "code",
   "execution_count": 81,
   "id": "440ced67",
   "metadata": {},
   "outputs": [
    {
     "data": {
      "text/plain": [
       "array([[[[  0,   1,   2,   3,   4],\n",
       "         [  5,   6,   7,   8,   9],\n",
       "         [ 10,  11,  12,  13,  14],\n",
       "         [ 15,  16,  17,  18,  19]],\n",
       "\n",
       "        [[ 20,  21,  22,  23,  24],\n",
       "         [ 25,  26,  27,  28,  29],\n",
       "         [ 30,  31,  32,  33,  34],\n",
       "         [ 35,  36,  37,  38,  39]],\n",
       "\n",
       "        [[ 40,  41,  42,  43,  44],\n",
       "         [ 45,  46,  47,  48,  49],\n",
       "         [ 50,  51,  52,  53,  54],\n",
       "         [ 55,  56,  57,  58,  59]]],\n",
       "\n",
       "\n",
       "       [[[ 60,  61,  62,  63,  64],\n",
       "         [ 65,  66,  67,  68,  69],\n",
       "         [ 70,  71,  72,  73,  74],\n",
       "         [ 75,  76,  77,  78,  79]],\n",
       "\n",
       "        [[ 80,  81,  82,  83,  84],\n",
       "         [ 85,  86,  87,  88,  89],\n",
       "         [ 90,  91,  92,  93,  94],\n",
       "         [ 95,  96,  97,  98,  99]],\n",
       "\n",
       "        [[100, 101, 102, 103, 104],\n",
       "         [105, 106, 107, 108, 109],\n",
       "         [110, 111, 112, 113, 114],\n",
       "         [115, 116, 117, 118, 119]]]])"
      ]
     },
     "execution_count": 81,
     "metadata": {},
     "output_type": "execute_result"
    }
   ],
   "source": [
    "my_matrix = np.arange(120)\n",
    "my_matrix = my_matrix.reshape((2,3,4,5))\n",
    "my_matrix"
   ]
  },
  {
   "cell_type": "code",
   "execution_count": 82,
   "id": "e7486525",
   "metadata": {},
   "outputs": [
    {
     "name": "stdout",
     "output_type": "stream",
     "text": [
      "\n",
      "First 2 elements of each dimension\n",
      "[[[[ 0  1]\n",
      "   [ 5  6]]\n",
      "\n",
      "  [[20 21]\n",
      "   [25 26]]]\n",
      "\n",
      "\n",
      " [[[60 61]\n",
      "   [65 66]]\n",
      "\n",
      "  [[80 81]\n",
      "   [85 86]]]]\n"
     ]
    }
   ],
   "source": [
    "print(f'''\n",
    "First 2 elements of each dimension\n",
    "{my_matrix[:2, :2, :2, :2]}''')"
   ]
  },
  {
   "cell_type": "code",
   "execution_count": 83,
   "id": "11b325d6",
   "metadata": {},
   "outputs": [
    {
     "name": "stdout",
     "output_type": "stream",
     "text": [
      "\n",
      "Get the first element from each dimension expect for the last one\n",
      "[[[[0 1 2 3 4]]]]\n"
     ]
    }
   ],
   "source": [
    "print(f'''\n",
    "Get the first element from each dimension expect for the last one\n",
    "{my_matrix[:1, :1, :1, :]}''')"
   ]
  },
  {
   "cell_type": "code",
   "execution_count": 86,
   "id": "86785f34",
   "metadata": {},
   "outputs": [
    {
     "name": "stdout",
     "output_type": "stream",
     "text": [
      "\n",
      "Get the first element from each dimension expect for the third one\n",
      "[[[[ 0]\n",
      "   [ 5]\n",
      "   [10]\n",
      "   [15]]]]\n"
     ]
    }
   ],
   "source": [
    "print(f'''\n",
    "Get the first element from each dimension expect for the third one\n",
    "{my_matrix[:1, :1, :, :1]}''')"
   ]
  },
  {
   "cell_type": "code",
   "execution_count": 87,
   "id": "f5bec937",
   "metadata": {},
   "outputs": [
    {
     "name": "stdout",
     "output_type": "stream",
     "text": [
      "\n",
      "Get the first element from each dimension expect for the second one\n",
      "[[[[ 0]]\n",
      "\n",
      "  [[20]]\n",
      "\n",
      "  [[40]]]]\n"
     ]
    }
   ],
   "source": [
    "print(f'''\n",
    "Get the first element from each dimension expect for the second one\n",
    "{my_matrix[:1, :, :1, :1]}''')"
   ]
  },
  {
   "cell_type": "code",
   "execution_count": 88,
   "id": "d8ef7ff2",
   "metadata": {},
   "outputs": [
    {
     "name": "stdout",
     "output_type": "stream",
     "text": [
      "\n",
      "Get the first element from each dimension expect for the first one\n",
      "[[[[ 0]]]\n",
      "\n",
      "\n",
      " [[[60]]]]\n"
     ]
    }
   ],
   "source": [
    "print(f'''\n",
    "Get the first element from each dimension expect for the first one\n",
    "{my_matrix[:, :1, :1, :1]}''')"
   ]
  },
  {
   "cell_type": "markdown",
   "id": "3bbe48cb",
   "metadata": {},
   "source": [
    "##### Extra-dimension"
   ]
  },
  {
   "cell_type": "code",
   "execution_count": 92,
   "id": "4cf5c21d",
   "metadata": {},
   "outputs": [
    {
     "data": {
      "text/plain": [
       "<tf.Tensor: shape=(2, 3), dtype=int32, numpy=\n",
       "array([[7, 3, 8],\n",
       "       [8, 3, 8]])>"
      ]
     },
     "execution_count": 92,
     "metadata": {},
     "output_type": "execute_result"
    }
   ],
   "source": [
    "my_matrix2 = tf.constant( np.random.randint(9, size=(2,3)))\n",
    "my_matrix2"
   ]
  },
  {
   "cell_type": "code",
   "execution_count": 94,
   "id": "47c30dbd",
   "metadata": {},
   "outputs": [
    {
     "data": {
      "text/plain": [
       "(TensorShape([2, 3]), 2)"
      ]
     },
     "execution_count": 94,
     "metadata": {},
     "output_type": "execute_result"
    }
   ],
   "source": [
    "my_matrix2.shape, my_matrix2.ndim"
   ]
  },
  {
   "cell_type": "code",
   "execution_count": 95,
   "id": "a05330d7",
   "metadata": {},
   "outputs": [
    {
     "data": {
      "text/plain": [
       "(TensorShape([2, 3, 1]), 3)"
      ]
     },
     "execution_count": 95,
     "metadata": {},
     "output_type": "execute_result"
    }
   ],
   "source": [
    "my_matrix3 = my_matrix2[..., tf.newaxis]\n",
    "my_matrix3.shape, my_matrix3.ndim"
   ]
  },
  {
   "cell_type": "code",
   "execution_count": 96,
   "id": "7a416021",
   "metadata": {},
   "outputs": [
    {
     "data": {
      "text/plain": [
       "<tf.Tensor: shape=(2, 3, 1), dtype=int32, numpy=\n",
       "array([[[7],\n",
       "        [3],\n",
       "        [8]],\n",
       "\n",
       "       [[8],\n",
       "        [3],\n",
       "        [8]]])>"
      ]
     },
     "execution_count": 96,
     "metadata": {},
     "output_type": "execute_result"
    }
   ],
   "source": [
    "my_matrix3"
   ]
  },
  {
   "cell_type": "code",
   "execution_count": 97,
   "id": "55d96384",
   "metadata": {},
   "outputs": [
    {
     "data": {
      "text/plain": [
       "(TensorShape([2, 3, 1]), 3)"
      ]
     },
     "execution_count": 97,
     "metadata": {},
     "output_type": "execute_result"
    }
   ],
   "source": [
    "my_matrix31 = tf.expand_dims(my_matrix2, axis=-1)\n",
    "my_matrix31.shape, my_matrix31.ndim"
   ]
  },
  {
   "cell_type": "code",
   "execution_count": 98,
   "id": "f376b9f2",
   "metadata": {},
   "outputs": [
    {
     "data": {
      "text/plain": [
       "<tf.Tensor: shape=(2, 3, 1), dtype=int32, numpy=\n",
       "array([[[7],\n",
       "        [3],\n",
       "        [8]],\n",
       "\n",
       "       [[8],\n",
       "        [3],\n",
       "        [8]]])>"
      ]
     },
     "execution_count": 98,
     "metadata": {},
     "output_type": "execute_result"
    }
   ],
   "source": [
    "my_matrix31"
   ]
  },
  {
   "cell_type": "code",
   "execution_count": 99,
   "id": "ff832516",
   "metadata": {},
   "outputs": [
    {
     "data": {
      "text/plain": [
       "<tf.Tensor: shape=(1, 2, 3), dtype=int32, numpy=\n",
       "array([[[7, 3, 8],\n",
       "        [8, 3, 8]]])>"
      ]
     },
     "execution_count": 99,
     "metadata": {},
     "output_type": "execute_result"
    }
   ],
   "source": [
    "tf.expand_dims(my_matrix2, axis=0)"
   ]
  },
  {
   "cell_type": "code",
   "execution_count": 100,
   "id": "a50b1fd2",
   "metadata": {},
   "outputs": [
    {
     "data": {
      "text/plain": [
       "<tf.Tensor: shape=(2, 1, 3), dtype=int32, numpy=\n",
       "array([[[7, 3, 8]],\n",
       "\n",
       "       [[8, 3, 8]]])>"
      ]
     },
     "execution_count": 100,
     "metadata": {},
     "output_type": "execute_result"
    }
   ],
   "source": [
    "tf.expand_dims(my_matrix2, axis=1)"
   ]
  },
  {
   "cell_type": "markdown",
   "id": "7b7c3517",
   "metadata": {},
   "source": [
    "### Tensor Operations"
   ]
  },
  {
   "cell_type": "code",
   "execution_count": 106,
   "id": "f2892866",
   "metadata": {},
   "outputs": [
    {
     "name": "stdout",
     "output_type": "stream",
     "text": [
      "\n",
      "[[3 8 6]\n",
      " [2 1 1]]\n",
      "Adding 10\n",
      "[[13 18 16]\n",
      " [12 11 11]]\n"
     ]
    }
   ],
   "source": [
    "my_matrix2 = tf.constant(np.random.randint(9, size=(2,3)))\n",
    "print(f'''\n",
    "{my_matrix2}\n",
    "Adding 10\n",
    "{my_matrix2+10}''')"
   ]
  },
  {
   "cell_type": "code",
   "execution_count": 107,
   "id": "9410d20e",
   "metadata": {},
   "outputs": [
    {
     "name": "stdout",
     "output_type": "stream",
     "text": [
      "\n",
      "[[3 8 6]\n",
      " [2 1 1]]\n",
      "Adding 10\n",
      "[[30 80 60]\n",
      " [20 10 10]]\n"
     ]
    }
   ],
   "source": [
    "print(f'''\n",
    "{my_matrix2}\n",
    "Multiply by 10\n",
    "{my_matrix2*10}''')"
   ]
  },
  {
   "cell_type": "code",
   "execution_count": 112,
   "id": "bd425000",
   "metadata": {},
   "outputs": [
    {
     "name": "stdout",
     "output_type": "stream",
     "text": [
      "\n",
      "[[3 8 6]\n",
      " [2 1 1]]\n",
      "Multiplying 10\n",
      "[[30 80 60]\n",
      " [20 10 10]]\n"
     ]
    }
   ],
   "source": [
    "print(f'''\n",
    "{my_matrix2}\n",
    "Multiplying 10\n",
    "{tf.math.multiply(my_matrix2, 10) }''')"
   ]
  },
  {
   "cell_type": "code",
   "execution_count": 113,
   "id": "1ade9bae",
   "metadata": {},
   "outputs": [
    {
     "name": "stdout",
     "output_type": "stream",
     "text": [
      "\n",
      "[[3 8 6]\n",
      " [2 1 1]]\n",
      "Multiplying 10\n",
      "[[13 18 16]\n",
      " [12 11 11]]\n"
     ]
    }
   ],
   "source": [
    "print(f'''\n",
    "{my_matrix2}\n",
    "Multiplying 10\n",
    "{tf.math.add(my_matrix2, 10) }''')"
   ]
  },
  {
   "cell_type": "markdown",
   "id": "37ddef39",
   "metadata": {},
   "source": [
    "##### Matrix multiplication"
   ]
  },
  {
   "cell_type": "code",
   "execution_count": 115,
   "id": "8f9c3665",
   "metadata": {},
   "outputs": [
    {
     "data": {
      "text/plain": [
       "array([[1, 2, 3],\n",
       "       [4, 5, 6]])"
      ]
     },
     "execution_count": 115,
     "metadata": {},
     "output_type": "execute_result"
    }
   ],
   "source": [
    "np.arange(1, 7).reshape(2, 3)"
   ]
  },
  {
   "cell_type": "code",
   "execution_count": 118,
   "id": "5f2ffd82",
   "metadata": {},
   "outputs": [
    {
     "data": {
      "text/plain": [
       "array([[ 7,  8],\n",
       "       [ 9, 10],\n",
       "       [11, 12]])"
      ]
     },
     "execution_count": 118,
     "metadata": {},
     "output_type": "execute_result"
    }
   ],
   "source": [
    "np.arange(7, 13).reshape(3, 2)"
   ]
  },
  {
   "cell_type": "code",
   "execution_count": 119,
   "id": "2ddd1925",
   "metadata": {},
   "outputs": [
    {
     "data": {
      "text/plain": [
       "array([[ 58,  64],\n",
       "       [139, 154]])"
      ]
     },
     "execution_count": 119,
     "metadata": {},
     "output_type": "execute_result"
    }
   ],
   "source": [
    "np.dot(np.arange(1, 7).reshape(2, 3), np.arange(7, 13).reshape(3, 2))"
   ]
  },
  {
   "cell_type": "code",
   "execution_count": 120,
   "id": "1210cc07",
   "metadata": {},
   "outputs": [
    {
     "data": {
      "text/plain": [
       "<tf.Tensor: shape=(2, 2), dtype=int32, numpy=\n",
       "array([[ 58,  64],\n",
       "       [139, 154]])>"
      ]
     },
     "execution_count": 120,
     "metadata": {},
     "output_type": "execute_result"
    }
   ],
   "source": [
    "tf.matmul(np.arange(1, 7).reshape(2, 3), np.arange(7, 13).reshape(3, 2))"
   ]
  },
  {
   "cell_type": "code",
   "execution_count": 123,
   "id": "a62b7f36",
   "metadata": {},
   "outputs": [
    {
     "data": {
      "text/plain": [
       "<tf.Tensor: shape=(3, 3), dtype=int32, numpy=\n",
       "array([[ 39,  49,  59],\n",
       "       [ 54,  68,  82],\n",
       "       [ 69,  87, 105]])>"
      ]
     },
     "execution_count": 123,
     "metadata": {},
     "output_type": "execute_result"
    }
   ],
   "source": [
    "tf.matmul( tf.transpose(np.arange(1, 7).reshape(2, 3)), tf.transpose(np.arange(7, 13).reshape(3, 2)))"
   ]
  },
  {
   "cell_type": "code",
   "execution_count": null,
   "id": "1af1a204",
   "metadata": {},
   "outputs": [],
   "source": []
  },
  {
   "cell_type": "markdown",
   "id": "c4288266",
   "metadata": {},
   "source": [
    "##### Casting data"
   ]
  },
  {
   "cell_type": "code",
   "execution_count": 131,
   "id": "f12b2ce2",
   "metadata": {},
   "outputs": [
    {
     "data": {
      "text/plain": [
       "<tf.Tensor: shape=(3, 2), dtype=int32, numpy=\n",
       "array([[1, 2],\n",
       "       [3, 4],\n",
       "       [5, 6]])>"
      ]
     },
     "execution_count": 131,
     "metadata": {},
     "output_type": "execute_result"
    }
   ],
   "source": [
    "const_32 = tf.constant(np.arange(1, 7).reshape(3, 2), dtype=tf.int32)\n",
    "const_32"
   ]
  },
  {
   "cell_type": "code",
   "execution_count": 132,
   "id": "dfcbb3b9",
   "metadata": {},
   "outputs": [
    {
     "data": {
      "text/plain": [
       "<tf.Tensor: shape=(3, 2), dtype=int16, numpy=\n",
       "array([[1, 2],\n",
       "       [3, 4],\n",
       "       [5, 6]], dtype=int16)>"
      ]
     },
     "execution_count": 132,
     "metadata": {},
     "output_type": "execute_result"
    }
   ],
   "source": [
    "tf.cast(const_32, dtype=tf.int16)"
   ]
  },
  {
   "cell_type": "code",
   "execution_count": 133,
   "id": "758f03df",
   "metadata": {},
   "outputs": [
    {
     "data": {
      "text/plain": [
       "<tf.Tensor: shape=(3, 2), dtype=float32, numpy=\n",
       "array([[1., 2.],\n",
       "       [3., 4.],\n",
       "       [5., 6.]], dtype=float32)>"
      ]
     },
     "execution_count": 133,
     "metadata": {},
     "output_type": "execute_result"
    }
   ],
   "source": [
    "const_32 = tf.constant(np.arange(1, 7).reshape(3, 2), dtype=tf.float32)\n",
    "const_32"
   ]
  },
  {
   "cell_type": "code",
   "execution_count": 134,
   "id": "510f4440",
   "metadata": {},
   "outputs": [
    {
     "data": {
      "text/plain": [
       "<tf.Tensor: shape=(3, 2), dtype=int16, numpy=\n",
       "array([[1, 2],\n",
       "       [3, 4],\n",
       "       [5, 6]], dtype=int16)>"
      ]
     },
     "execution_count": 134,
     "metadata": {},
     "output_type": "execute_result"
    }
   ],
   "source": [
    "tf.cast(const_32, dtype=tf.int16)"
   ]
  },
  {
   "cell_type": "code",
   "execution_count": null,
   "id": "8fcbe5e1",
   "metadata": {},
   "outputs": [],
   "source": []
  },
  {
   "cell_type": "markdown",
   "id": "cee5e3aa",
   "metadata": {},
   "source": [
    "##### Aggregating Tensors"
   ]
  },
  {
   "cell_type": "code",
   "execution_count": 137,
   "id": "90f3e485",
   "metadata": {},
   "outputs": [
    {
     "data": {
      "text/plain": [
       "(<tf.Tensor: shape=(3, 2), dtype=float32, numpy=\n",
       " array([[1., 2.],\n",
       "        [3., 4.],\n",
       "        [5., 6.]], dtype=float32)>,\n",
       " <tf.Tensor: shape=(), dtype=float32, numpy=1.0>,\n",
       " <tf.Tensor: shape=(), dtype=float32, numpy=6.0>,\n",
       " <tf.Tensor: shape=(), dtype=float32, numpy=3.5>)"
      ]
     },
     "execution_count": 137,
     "metadata": {},
     "output_type": "execute_result"
    }
   ],
   "source": [
    "const_32, tf.reduce_min(const_32), tf.reduce_max(const_32), tf.reduce_mean(const_32)"
   ]
  },
  {
   "cell_type": "code",
   "execution_count": 141,
   "id": "a2975efa",
   "metadata": {},
   "outputs": [
    {
     "data": {
      "text/plain": [
       "(<tf.Tensor: shape=(), dtype=float32, numpy=720.0>,\n",
       " <tf.Tensor: shape=(), dtype=float32, numpy=21.0>)"
      ]
     },
     "execution_count": 141,
     "metadata": {},
     "output_type": "execute_result"
    }
   ],
   "source": [
    "tf.reduce_prod(const_32), tf.reduce_sum(const_32)"
   ]
  },
  {
   "cell_type": "code",
   "execution_count": 143,
   "id": "eccc466f",
   "metadata": {},
   "outputs": [
    {
     "data": {
      "text/plain": [
       "(<tf.Tensor: shape=(), dtype=float32, numpy=1.7078251>,\n",
       " <tf.Tensor: shape=(), dtype=float32, numpy=2.9166667>)"
      ]
     },
     "execution_count": 143,
     "metadata": {},
     "output_type": "execute_result"
    }
   ],
   "source": [
    "tf.math.reduce_std(const_32), tf.math.reduce_variance(const_32)"
   ]
  },
  {
   "cell_type": "markdown",
   "id": "86981a03",
   "metadata": {},
   "source": [
    "##### Positional Min and Max"
   ]
  },
  {
   "cell_type": "code",
   "execution_count": 148,
   "id": "edee179b",
   "metadata": {},
   "outputs": [
    {
     "data": {
      "text/plain": [
       "<tf.Tensor: shape=(5, 4), dtype=float32, numpy=\n",
       "array([[0.3973397 , 0.424412  , 0.37168002, 0.375906  ],\n",
       "       [0.3075881 , 0.2506727 , 0.82194746, 0.36208236],\n",
       "       [0.80988574, 0.4883306 , 0.8095002 , 0.26410222],\n",
       "       [0.9951496 , 0.471609  , 0.24197567, 0.8959322 ],\n",
       "       [0.32610905, 0.38248146, 0.47827947, 0.27135372]], dtype=float32)>"
      ]
     },
     "execution_count": 148,
     "metadata": {},
     "output_type": "execute_result"
    }
   ],
   "source": [
    "matrix_54 = tf.random.uniform(shape=(5, 4))\n",
    "matrix_54"
   ]
  },
  {
   "cell_type": "code",
   "execution_count": 149,
   "id": "72091553",
   "metadata": {},
   "outputs": [
    {
     "data": {
      "text/plain": [
       "<tf.Tensor: shape=(4,), dtype=int64, numpy=array([3, 2, 1, 3], dtype=int64)>"
      ]
     },
     "execution_count": 149,
     "metadata": {},
     "output_type": "execute_result"
    }
   ],
   "source": [
    "tf.argmax(matrix_54)"
   ]
  },
  {
   "cell_type": "code",
   "execution_count": 154,
   "id": "b75cddaf",
   "metadata": {},
   "outputs": [
    {
     "data": {
      "text/plain": [
       "<tf.Tensor: shape=(4,), dtype=int64, numpy=array([3, 2, 1, 3], dtype=int64)>"
      ]
     },
     "execution_count": 154,
     "metadata": {},
     "output_type": "execute_result"
    }
   ],
   "source": [
    "tf.argmax(matrix_54, axis=0)"
   ]
  },
  {
   "cell_type": "code",
   "execution_count": 155,
   "id": "d2ee02d8",
   "metadata": {},
   "outputs": [
    {
     "data": {
      "text/plain": [
       "<tf.Tensor: shape=(5,), dtype=int64, numpy=array([1, 2, 0, 0, 2], dtype=int64)>"
      ]
     },
     "execution_count": 155,
     "metadata": {},
     "output_type": "execute_result"
    }
   ],
   "source": [
    "tf.argmax(matrix_54, axis=1)"
   ]
  },
  {
   "cell_type": "code",
   "execution_count": 159,
   "id": "711a8393",
   "metadata": {},
   "outputs": [
    {
     "ename": "TypeError",
     "evalue": "Only integers, slices (`:`), ellipsis (`...`), tf.newaxis (`None`) and scalar tf.int32/tf.int64 tensors are valid indices, got <tf.Tensor: shape=(4,), dtype=int64, numpy=array([3, 2, 1, 3], dtype=int64)>",
     "output_type": "error",
     "traceback": [
      "\u001b[1;31m---------------------------------------------------------------------------\u001b[0m",
      "\u001b[1;31mTypeError\u001b[0m                                 Traceback (most recent call last)",
      "\u001b[1;32m<ipython-input-159-83fb23eacacb>\u001b[0m in \u001b[0;36m<module>\u001b[1;34m\u001b[0m\n\u001b[1;32m----> 1\u001b[1;33m \u001b[0mmatrix_54\u001b[0m\u001b[1;33m[\u001b[0m\u001b[0mtf\u001b[0m\u001b[1;33m.\u001b[0m\u001b[0margmax\u001b[0m\u001b[1;33m(\u001b[0m\u001b[0mmatrix_54\u001b[0m\u001b[1;33m)\u001b[0m\u001b[1;33m]\u001b[0m\u001b[1;33m\u001b[0m\u001b[1;33m\u001b[0m\u001b[0m\n\u001b[0m",
      "\u001b[1;32mC:\\ProgramData\\Anaconda3\\envs\\tensorflow_gpu\\lib\\site-packages\\tensorflow\\python\\util\\dispatch.py\u001b[0m in \u001b[0;36mwrapper\u001b[1;34m(*args, **kwargs)\u001b[0m\n\u001b[0;32m    204\u001b[0m     \u001b[1;34m\"\"\"Call target, and fall back on dispatchers if there is a TypeError.\"\"\"\u001b[0m\u001b[1;33m\u001b[0m\u001b[1;33m\u001b[0m\u001b[0m\n\u001b[0;32m    205\u001b[0m     \u001b[1;32mtry\u001b[0m\u001b[1;33m:\u001b[0m\u001b[1;33m\u001b[0m\u001b[1;33m\u001b[0m\u001b[0m\n\u001b[1;32m--> 206\u001b[1;33m       \u001b[1;32mreturn\u001b[0m \u001b[0mtarget\u001b[0m\u001b[1;33m(\u001b[0m\u001b[1;33m*\u001b[0m\u001b[0margs\u001b[0m\u001b[1;33m,\u001b[0m \u001b[1;33m**\u001b[0m\u001b[0mkwargs\u001b[0m\u001b[1;33m)\u001b[0m\u001b[1;33m\u001b[0m\u001b[1;33m\u001b[0m\u001b[0m\n\u001b[0m\u001b[0;32m    207\u001b[0m     \u001b[1;32mexcept\u001b[0m \u001b[1;33m(\u001b[0m\u001b[0mTypeError\u001b[0m\u001b[1;33m,\u001b[0m \u001b[0mValueError\u001b[0m\u001b[1;33m)\u001b[0m\u001b[1;33m:\u001b[0m\u001b[1;33m\u001b[0m\u001b[1;33m\u001b[0m\u001b[0m\n\u001b[0;32m    208\u001b[0m       \u001b[1;31m# Note: convert_to_eager_tensor currently raises a ValueError, not a\u001b[0m\u001b[1;33m\u001b[0m\u001b[1;33m\u001b[0m\u001b[1;33m\u001b[0m\u001b[0m\n",
      "\u001b[1;32mC:\\ProgramData\\Anaconda3\\envs\\tensorflow_gpu\\lib\\site-packages\\tensorflow\\python\\ops\\array_ops.py\u001b[0m in \u001b[0;36m_slice_helper\u001b[1;34m(tensor, slice_spec, var)\u001b[0m\n\u001b[0;32m   1012\u001b[0m       \u001b[0mnew_axis_mask\u001b[0m \u001b[1;33m|=\u001b[0m \u001b[1;33m(\u001b[0m\u001b[1;36m1\u001b[0m \u001b[1;33m<<\u001b[0m \u001b[0mindex\u001b[0m\u001b[1;33m)\u001b[0m\u001b[1;33m\u001b[0m\u001b[1;33m\u001b[0m\u001b[0m\n\u001b[0;32m   1013\u001b[0m     \u001b[1;32melse\u001b[0m\u001b[1;33m:\u001b[0m\u001b[1;33m\u001b[0m\u001b[1;33m\u001b[0m\u001b[0m\n\u001b[1;32m-> 1014\u001b[1;33m       \u001b[0m_check_index\u001b[0m\u001b[1;33m(\u001b[0m\u001b[0ms\u001b[0m\u001b[1;33m)\u001b[0m\u001b[1;33m\u001b[0m\u001b[1;33m\u001b[0m\u001b[0m\n\u001b[0m\u001b[0;32m   1015\u001b[0m       \u001b[0mbegin\u001b[0m\u001b[1;33m.\u001b[0m\u001b[0mappend\u001b[0m\u001b[1;33m(\u001b[0m\u001b[0ms\u001b[0m\u001b[1;33m)\u001b[0m\u001b[1;33m\u001b[0m\u001b[1;33m\u001b[0m\u001b[0m\n\u001b[0;32m   1016\u001b[0m       \u001b[0mend\u001b[0m\u001b[1;33m.\u001b[0m\u001b[0mappend\u001b[0m\u001b[1;33m(\u001b[0m\u001b[0ms\u001b[0m \u001b[1;33m+\u001b[0m \u001b[1;36m1\u001b[0m\u001b[1;33m)\u001b[0m\u001b[1;33m\u001b[0m\u001b[1;33m\u001b[0m\u001b[0m\n",
      "\u001b[1;32mC:\\ProgramData\\Anaconda3\\envs\\tensorflow_gpu\\lib\\site-packages\\tensorflow\\python\\ops\\array_ops.py\u001b[0m in \u001b[0;36m_check_index\u001b[1;34m(idx)\u001b[0m\n\u001b[0;32m    886\u001b[0m     \u001b[1;31m# TODO(slebedev): IndexError seems more appropriate here, but it\u001b[0m\u001b[1;33m\u001b[0m\u001b[1;33m\u001b[0m\u001b[1;33m\u001b[0m\u001b[0m\n\u001b[0;32m    887\u001b[0m     \u001b[1;31m# will break `_slice_helper` contract.\u001b[0m\u001b[1;33m\u001b[0m\u001b[1;33m\u001b[0m\u001b[1;33m\u001b[0m\u001b[0m\n\u001b[1;32m--> 888\u001b[1;33m     \u001b[1;32mraise\u001b[0m \u001b[0mTypeError\u001b[0m\u001b[1;33m(\u001b[0m\u001b[0m_SLICE_TYPE_ERROR\u001b[0m \u001b[1;33m+\u001b[0m \u001b[1;34m\", got {!r}\"\u001b[0m\u001b[1;33m.\u001b[0m\u001b[0mformat\u001b[0m\u001b[1;33m(\u001b[0m\u001b[0midx\u001b[0m\u001b[1;33m)\u001b[0m\u001b[1;33m)\u001b[0m\u001b[1;33m\u001b[0m\u001b[1;33m\u001b[0m\u001b[0m\n\u001b[0m\u001b[0;32m    889\u001b[0m \u001b[1;33m\u001b[0m\u001b[0m\n\u001b[0;32m    890\u001b[0m \u001b[1;33m\u001b[0m\u001b[0m\n",
      "\u001b[1;31mTypeError\u001b[0m: Only integers, slices (`:`), ellipsis (`...`), tf.newaxis (`None`) and scalar tf.int32/tf.int64 tensors are valid indices, got <tf.Tensor: shape=(4,), dtype=int64, numpy=array([3, 2, 1, 3], dtype=int64)>"
     ]
    }
   ],
   "source": [
    "matrix_54[tf.argmax(matrix_54)]"
   ]
  },
  {
   "cell_type": "code",
   "execution_count": 164,
   "id": "959571d4",
   "metadata": {},
   "outputs": [
    {
     "data": {
      "text/plain": [
       "array([1, 1, 3, 2], dtype=int64)"
      ]
     },
     "execution_count": 164,
     "metadata": {},
     "output_type": "execute_result"
    }
   ],
   "source": [
    "tf.argmin(matrix_54).numpy()"
   ]
  },
  {
   "cell_type": "code",
   "execution_count": 162,
   "id": "70e9b238",
   "metadata": {},
   "outputs": [
    {
     "ename": "TypeError",
     "evalue": "Only integers, slices (`:`), ellipsis (`...`), tf.newaxis (`None`) and scalar tf.int32/tf.int64 tensors are valid indices, got array([1, 1, 3, 2], dtype=int64)",
     "output_type": "error",
     "traceback": [
      "\u001b[1;31m---------------------------------------------------------------------------\u001b[0m",
      "\u001b[1;31mTypeError\u001b[0m                                 Traceback (most recent call last)",
      "\u001b[1;32m<ipython-input-162-b348a1e2e4ab>\u001b[0m in \u001b[0;36m<module>\u001b[1;34m\u001b[0m\n\u001b[1;32m----> 1\u001b[1;33m \u001b[0mmatrix_54\u001b[0m\u001b[1;33m[\u001b[0m\u001b[0mtf\u001b[0m\u001b[1;33m.\u001b[0m\u001b[0margmin\u001b[0m\u001b[1;33m(\u001b[0m\u001b[0mmatrix_54\u001b[0m\u001b[1;33m)\u001b[0m\u001b[1;33m.\u001b[0m\u001b[0mnumpy\u001b[0m\u001b[1;33m(\u001b[0m\u001b[1;33m)\u001b[0m\u001b[1;33m]\u001b[0m\u001b[1;33m\u001b[0m\u001b[1;33m\u001b[0m\u001b[0m\n\u001b[0m",
      "\u001b[1;32mC:\\ProgramData\\Anaconda3\\envs\\tensorflow_gpu\\lib\\site-packages\\tensorflow\\python\\util\\dispatch.py\u001b[0m in \u001b[0;36mwrapper\u001b[1;34m(*args, **kwargs)\u001b[0m\n\u001b[0;32m    204\u001b[0m     \u001b[1;34m\"\"\"Call target, and fall back on dispatchers if there is a TypeError.\"\"\"\u001b[0m\u001b[1;33m\u001b[0m\u001b[1;33m\u001b[0m\u001b[0m\n\u001b[0;32m    205\u001b[0m     \u001b[1;32mtry\u001b[0m\u001b[1;33m:\u001b[0m\u001b[1;33m\u001b[0m\u001b[1;33m\u001b[0m\u001b[0m\n\u001b[1;32m--> 206\u001b[1;33m       \u001b[1;32mreturn\u001b[0m \u001b[0mtarget\u001b[0m\u001b[1;33m(\u001b[0m\u001b[1;33m*\u001b[0m\u001b[0margs\u001b[0m\u001b[1;33m,\u001b[0m \u001b[1;33m**\u001b[0m\u001b[0mkwargs\u001b[0m\u001b[1;33m)\u001b[0m\u001b[1;33m\u001b[0m\u001b[1;33m\u001b[0m\u001b[0m\n\u001b[0m\u001b[0;32m    207\u001b[0m     \u001b[1;32mexcept\u001b[0m \u001b[1;33m(\u001b[0m\u001b[0mTypeError\u001b[0m\u001b[1;33m,\u001b[0m \u001b[0mValueError\u001b[0m\u001b[1;33m)\u001b[0m\u001b[1;33m:\u001b[0m\u001b[1;33m\u001b[0m\u001b[1;33m\u001b[0m\u001b[0m\n\u001b[0;32m    208\u001b[0m       \u001b[1;31m# Note: convert_to_eager_tensor currently raises a ValueError, not a\u001b[0m\u001b[1;33m\u001b[0m\u001b[1;33m\u001b[0m\u001b[1;33m\u001b[0m\u001b[0m\n",
      "\u001b[1;32mC:\\ProgramData\\Anaconda3\\envs\\tensorflow_gpu\\lib\\site-packages\\tensorflow\\python\\ops\\array_ops.py\u001b[0m in \u001b[0;36m_slice_helper\u001b[1;34m(tensor, slice_spec, var)\u001b[0m\n\u001b[0;32m   1012\u001b[0m       \u001b[0mnew_axis_mask\u001b[0m \u001b[1;33m|=\u001b[0m \u001b[1;33m(\u001b[0m\u001b[1;36m1\u001b[0m \u001b[1;33m<<\u001b[0m \u001b[0mindex\u001b[0m\u001b[1;33m)\u001b[0m\u001b[1;33m\u001b[0m\u001b[1;33m\u001b[0m\u001b[0m\n\u001b[0;32m   1013\u001b[0m     \u001b[1;32melse\u001b[0m\u001b[1;33m:\u001b[0m\u001b[1;33m\u001b[0m\u001b[1;33m\u001b[0m\u001b[0m\n\u001b[1;32m-> 1014\u001b[1;33m       \u001b[0m_check_index\u001b[0m\u001b[1;33m(\u001b[0m\u001b[0ms\u001b[0m\u001b[1;33m)\u001b[0m\u001b[1;33m\u001b[0m\u001b[1;33m\u001b[0m\u001b[0m\n\u001b[0m\u001b[0;32m   1015\u001b[0m       \u001b[0mbegin\u001b[0m\u001b[1;33m.\u001b[0m\u001b[0mappend\u001b[0m\u001b[1;33m(\u001b[0m\u001b[0ms\u001b[0m\u001b[1;33m)\u001b[0m\u001b[1;33m\u001b[0m\u001b[1;33m\u001b[0m\u001b[0m\n\u001b[0;32m   1016\u001b[0m       \u001b[0mend\u001b[0m\u001b[1;33m.\u001b[0m\u001b[0mappend\u001b[0m\u001b[1;33m(\u001b[0m\u001b[0ms\u001b[0m \u001b[1;33m+\u001b[0m \u001b[1;36m1\u001b[0m\u001b[1;33m)\u001b[0m\u001b[1;33m\u001b[0m\u001b[1;33m\u001b[0m\u001b[0m\n",
      "\u001b[1;32mC:\\ProgramData\\Anaconda3\\envs\\tensorflow_gpu\\lib\\site-packages\\tensorflow\\python\\ops\\array_ops.py\u001b[0m in \u001b[0;36m_check_index\u001b[1;34m(idx)\u001b[0m\n\u001b[0;32m    886\u001b[0m     \u001b[1;31m# TODO(slebedev): IndexError seems more appropriate here, but it\u001b[0m\u001b[1;33m\u001b[0m\u001b[1;33m\u001b[0m\u001b[1;33m\u001b[0m\u001b[0m\n\u001b[0;32m    887\u001b[0m     \u001b[1;31m# will break `_slice_helper` contract.\u001b[0m\u001b[1;33m\u001b[0m\u001b[1;33m\u001b[0m\u001b[1;33m\u001b[0m\u001b[0m\n\u001b[1;32m--> 888\u001b[1;33m     \u001b[1;32mraise\u001b[0m \u001b[0mTypeError\u001b[0m\u001b[1;33m(\u001b[0m\u001b[0m_SLICE_TYPE_ERROR\u001b[0m \u001b[1;33m+\u001b[0m \u001b[1;34m\", got {!r}\"\u001b[0m\u001b[1;33m.\u001b[0m\u001b[0mformat\u001b[0m\u001b[1;33m(\u001b[0m\u001b[0midx\u001b[0m\u001b[1;33m)\u001b[0m\u001b[1;33m)\u001b[0m\u001b[1;33m\u001b[0m\u001b[1;33m\u001b[0m\u001b[0m\n\u001b[0m\u001b[0;32m    889\u001b[0m \u001b[1;33m\u001b[0m\u001b[0m\n\u001b[0;32m    890\u001b[0m \u001b[1;33m\u001b[0m\u001b[0m\n",
      "\u001b[1;31mTypeError\u001b[0m: Only integers, slices (`:`), ellipsis (`...`), tf.newaxis (`None`) and scalar tf.int32/tf.int64 tensors are valid indices, got array([1, 1, 3, 2], dtype=int64)"
     ]
    }
   ],
   "source": [
    "matrix_54[tf.argmin(matrix_54).numpy()]"
   ]
  },
  {
   "cell_type": "code",
   "execution_count": null,
   "id": "44e6eed6",
   "metadata": {},
   "outputs": [],
   "source": []
  },
  {
   "cell_type": "code",
   "execution_count": 174,
   "id": "267fd192",
   "metadata": {},
   "outputs": [
    {
     "data": {
      "text/plain": [
       "<tf.Tensor: shape=(1, 1, 50, 1, 1, 1), dtype=float32, numpy=\n",
       "array([[[[[[0.71128917]]],\n",
       "\n",
       "\n",
       "         [[[0.77877116]]],\n",
       "\n",
       "\n",
       "         [[[0.36490285]]],\n",
       "\n",
       "\n",
       "         [[[0.9530003 ]]],\n",
       "\n",
       "\n",
       "         [[[0.49915147]]],\n",
       "\n",
       "\n",
       "         [[[0.31188822]]],\n",
       "\n",
       "\n",
       "         [[[0.39449155]]],\n",
       "\n",
       "\n",
       "         [[[0.5906935 ]]],\n",
       "\n",
       "\n",
       "         [[[0.13221145]]],\n",
       "\n",
       "\n",
       "         [[[0.37026978]]],\n",
       "\n",
       "\n",
       "         [[[0.5638151 ]]],\n",
       "\n",
       "\n",
       "         [[[0.9600681 ]]],\n",
       "\n",
       "\n",
       "         [[[0.38443553]]],\n",
       "\n",
       "\n",
       "         [[[0.22657108]]],\n",
       "\n",
       "\n",
       "         [[[0.7337091 ]]],\n",
       "\n",
       "\n",
       "         [[[0.18864179]]],\n",
       "\n",
       "\n",
       "         [[[0.2322309 ]]],\n",
       "\n",
       "\n",
       "         [[[0.52372944]]],\n",
       "\n",
       "\n",
       "         [[[0.5088606 ]]],\n",
       "\n",
       "\n",
       "         [[[0.8803636 ]]],\n",
       "\n",
       "\n",
       "         [[[0.11377084]]],\n",
       "\n",
       "\n",
       "         [[[0.6813196 ]]],\n",
       "\n",
       "\n",
       "         [[[0.54288495]]],\n",
       "\n",
       "\n",
       "         [[[0.04928088]]],\n",
       "\n",
       "\n",
       "         [[[0.68769765]]],\n",
       "\n",
       "\n",
       "         [[[0.31924403]]],\n",
       "\n",
       "\n",
       "         [[[0.47953212]]],\n",
       "\n",
       "\n",
       "         [[[0.22639894]]],\n",
       "\n",
       "\n",
       "         [[[0.34083533]]],\n",
       "\n",
       "\n",
       "         [[[0.36209035]]],\n",
       "\n",
       "\n",
       "         [[[0.96956146]]],\n",
       "\n",
       "\n",
       "         [[[0.6346265 ]]],\n",
       "\n",
       "\n",
       "         [[[0.17654824]]],\n",
       "\n",
       "\n",
       "         [[[0.35434842]]],\n",
       "\n",
       "\n",
       "         [[[0.7780837 ]]],\n",
       "\n",
       "\n",
       "         [[[0.4478408 ]]],\n",
       "\n",
       "\n",
       "         [[[0.43103004]]],\n",
       "\n",
       "\n",
       "         [[[0.73788166]]],\n",
       "\n",
       "\n",
       "         [[[0.37174475]]],\n",
       "\n",
       "\n",
       "         [[[0.71096385]]],\n",
       "\n",
       "\n",
       "         [[[0.91982245]]],\n",
       "\n",
       "\n",
       "         [[[0.8890587 ]]],\n",
       "\n",
       "\n",
       "         [[[0.51341915]]],\n",
       "\n",
       "\n",
       "         [[[0.51375294]]],\n",
       "\n",
       "\n",
       "         [[[0.6079956 ]]],\n",
       "\n",
       "\n",
       "         [[[0.53363097]]],\n",
       "\n",
       "\n",
       "         [[[0.30792522]]],\n",
       "\n",
       "\n",
       "         [[[0.72625375]]],\n",
       "\n",
       "\n",
       "         [[[0.4965216 ]]],\n",
       "\n",
       "\n",
       "         [[[0.9710821 ]]]]]], dtype=float32)>"
      ]
     },
     "execution_count": 174,
     "metadata": {},
     "output_type": "execute_result"
    }
   ],
   "source": [
    "matrix_squez = tf.constant(\n",
    "    tf.random.uniform(shape=[50]), shape=(1, 1, 50, 1, 1, 1)\n",
    ")\n",
    "matrix_squez"
   ]
  },
  {
   "cell_type": "code",
   "execution_count": 175,
   "id": "50f5d929",
   "metadata": {},
   "outputs": [
    {
     "data": {
      "text/plain": [
       "6"
      ]
     },
     "execution_count": 175,
     "metadata": {},
     "output_type": "execute_result"
    }
   ],
   "source": [
    "matrix_squez.ndim"
   ]
  },
  {
   "cell_type": "code",
   "execution_count": 176,
   "id": "9fa08521",
   "metadata": {},
   "outputs": [
    {
     "data": {
      "text/plain": [
       "<tf.Tensor: shape=(50,), dtype=float32, numpy=\n",
       "array([0.71128917, 0.77877116, 0.36490285, 0.9530003 , 0.49915147,\n",
       "       0.31188822, 0.39449155, 0.5906935 , 0.13221145, 0.37026978,\n",
       "       0.5638151 , 0.9600681 , 0.38443553, 0.22657108, 0.7337091 ,\n",
       "       0.18864179, 0.2322309 , 0.52372944, 0.5088606 , 0.8803636 ,\n",
       "       0.11377084, 0.6813196 , 0.54288495, 0.04928088, 0.68769765,\n",
       "       0.31924403, 0.47953212, 0.22639894, 0.34083533, 0.36209035,\n",
       "       0.96956146, 0.6346265 , 0.17654824, 0.35434842, 0.7780837 ,\n",
       "       0.4478408 , 0.43103004, 0.73788166, 0.37174475, 0.71096385,\n",
       "       0.91982245, 0.8890587 , 0.51341915, 0.51375294, 0.6079956 ,\n",
       "       0.53363097, 0.30792522, 0.72625375, 0.4965216 , 0.9710821 ],\n",
       "      dtype=float32)>"
      ]
     },
     "execution_count": 176,
     "metadata": {},
     "output_type": "execute_result"
    }
   ],
   "source": [
    "tf.squeeze(matrix_squez)"
   ]
  },
  {
   "cell_type": "code",
   "execution_count": 177,
   "id": "cb022951",
   "metadata": {},
   "outputs": [
    {
     "data": {
      "text/plain": [
       "1"
      ]
     },
     "execution_count": 177,
     "metadata": {},
     "output_type": "execute_result"
    }
   ],
   "source": [
    "tf.squeeze(matrix_squez).ndim"
   ]
  },
  {
   "cell_type": "code",
   "execution_count": 178,
   "id": "faa0aebd",
   "metadata": {},
   "outputs": [
    {
     "data": {
      "text/plain": [
       "<tf.Tensor: shape=(1, 50, 1, 1, 1), dtype=float32, numpy=\n",
       "array([[[[[0.71128917]]],\n",
       "\n",
       "\n",
       "        [[[0.77877116]]],\n",
       "\n",
       "\n",
       "        [[[0.36490285]]],\n",
       "\n",
       "\n",
       "        [[[0.9530003 ]]],\n",
       "\n",
       "\n",
       "        [[[0.49915147]]],\n",
       "\n",
       "\n",
       "        [[[0.31188822]]],\n",
       "\n",
       "\n",
       "        [[[0.39449155]]],\n",
       "\n",
       "\n",
       "        [[[0.5906935 ]]],\n",
       "\n",
       "\n",
       "        [[[0.13221145]]],\n",
       "\n",
       "\n",
       "        [[[0.37026978]]],\n",
       "\n",
       "\n",
       "        [[[0.5638151 ]]],\n",
       "\n",
       "\n",
       "        [[[0.9600681 ]]],\n",
       "\n",
       "\n",
       "        [[[0.38443553]]],\n",
       "\n",
       "\n",
       "        [[[0.22657108]]],\n",
       "\n",
       "\n",
       "        [[[0.7337091 ]]],\n",
       "\n",
       "\n",
       "        [[[0.18864179]]],\n",
       "\n",
       "\n",
       "        [[[0.2322309 ]]],\n",
       "\n",
       "\n",
       "        [[[0.52372944]]],\n",
       "\n",
       "\n",
       "        [[[0.5088606 ]]],\n",
       "\n",
       "\n",
       "        [[[0.8803636 ]]],\n",
       "\n",
       "\n",
       "        [[[0.11377084]]],\n",
       "\n",
       "\n",
       "        [[[0.6813196 ]]],\n",
       "\n",
       "\n",
       "        [[[0.54288495]]],\n",
       "\n",
       "\n",
       "        [[[0.04928088]]],\n",
       "\n",
       "\n",
       "        [[[0.68769765]]],\n",
       "\n",
       "\n",
       "        [[[0.31924403]]],\n",
       "\n",
       "\n",
       "        [[[0.47953212]]],\n",
       "\n",
       "\n",
       "        [[[0.22639894]]],\n",
       "\n",
       "\n",
       "        [[[0.34083533]]],\n",
       "\n",
       "\n",
       "        [[[0.36209035]]],\n",
       "\n",
       "\n",
       "        [[[0.96956146]]],\n",
       "\n",
       "\n",
       "        [[[0.6346265 ]]],\n",
       "\n",
       "\n",
       "        [[[0.17654824]]],\n",
       "\n",
       "\n",
       "        [[[0.35434842]]],\n",
       "\n",
       "\n",
       "        [[[0.7780837 ]]],\n",
       "\n",
       "\n",
       "        [[[0.4478408 ]]],\n",
       "\n",
       "\n",
       "        [[[0.43103004]]],\n",
       "\n",
       "\n",
       "        [[[0.73788166]]],\n",
       "\n",
       "\n",
       "        [[[0.37174475]]],\n",
       "\n",
       "\n",
       "        [[[0.71096385]]],\n",
       "\n",
       "\n",
       "        [[[0.91982245]]],\n",
       "\n",
       "\n",
       "        [[[0.8890587 ]]],\n",
       "\n",
       "\n",
       "        [[[0.51341915]]],\n",
       "\n",
       "\n",
       "        [[[0.51375294]]],\n",
       "\n",
       "\n",
       "        [[[0.6079956 ]]],\n",
       "\n",
       "\n",
       "        [[[0.53363097]]],\n",
       "\n",
       "\n",
       "        [[[0.30792522]]],\n",
       "\n",
       "\n",
       "        [[[0.72625375]]],\n",
       "\n",
       "\n",
       "        [[[0.4965216 ]]],\n",
       "\n",
       "\n",
       "        [[[0.9710821 ]]]]], dtype=float32)>"
      ]
     },
     "execution_count": 178,
     "metadata": {},
     "output_type": "execute_result"
    }
   ],
   "source": [
    "tf.squeeze(matrix_squez, axis=0)"
   ]
  },
  {
   "cell_type": "code",
   "execution_count": 180,
   "id": "1fa47d11",
   "metadata": {},
   "outputs": [
    {
     "data": {
      "text/plain": [
       "<tf.Tensor: shape=(1, 1, 50, 1, 1), dtype=float32, numpy=\n",
       "array([[[[[0.71128917]],\n",
       "\n",
       "         [[0.77877116]],\n",
       "\n",
       "         [[0.36490285]],\n",
       "\n",
       "         [[0.9530003 ]],\n",
       "\n",
       "         [[0.49915147]],\n",
       "\n",
       "         [[0.31188822]],\n",
       "\n",
       "         [[0.39449155]],\n",
       "\n",
       "         [[0.5906935 ]],\n",
       "\n",
       "         [[0.13221145]],\n",
       "\n",
       "         [[0.37026978]],\n",
       "\n",
       "         [[0.5638151 ]],\n",
       "\n",
       "         [[0.9600681 ]],\n",
       "\n",
       "         [[0.38443553]],\n",
       "\n",
       "         [[0.22657108]],\n",
       "\n",
       "         [[0.7337091 ]],\n",
       "\n",
       "         [[0.18864179]],\n",
       "\n",
       "         [[0.2322309 ]],\n",
       "\n",
       "         [[0.52372944]],\n",
       "\n",
       "         [[0.5088606 ]],\n",
       "\n",
       "         [[0.8803636 ]],\n",
       "\n",
       "         [[0.11377084]],\n",
       "\n",
       "         [[0.6813196 ]],\n",
       "\n",
       "         [[0.54288495]],\n",
       "\n",
       "         [[0.04928088]],\n",
       "\n",
       "         [[0.68769765]],\n",
       "\n",
       "         [[0.31924403]],\n",
       "\n",
       "         [[0.47953212]],\n",
       "\n",
       "         [[0.22639894]],\n",
       "\n",
       "         [[0.34083533]],\n",
       "\n",
       "         [[0.36209035]],\n",
       "\n",
       "         [[0.96956146]],\n",
       "\n",
       "         [[0.6346265 ]],\n",
       "\n",
       "         [[0.17654824]],\n",
       "\n",
       "         [[0.35434842]],\n",
       "\n",
       "         [[0.7780837 ]],\n",
       "\n",
       "         [[0.4478408 ]],\n",
       "\n",
       "         [[0.43103004]],\n",
       "\n",
       "         [[0.73788166]],\n",
       "\n",
       "         [[0.37174475]],\n",
       "\n",
       "         [[0.71096385]],\n",
       "\n",
       "         [[0.91982245]],\n",
       "\n",
       "         [[0.8890587 ]],\n",
       "\n",
       "         [[0.51341915]],\n",
       "\n",
       "         [[0.51375294]],\n",
       "\n",
       "         [[0.6079956 ]],\n",
       "\n",
       "         [[0.53363097]],\n",
       "\n",
       "         [[0.30792522]],\n",
       "\n",
       "         [[0.72625375]],\n",
       "\n",
       "         [[0.4965216 ]],\n",
       "\n",
       "         [[0.9710821 ]]]]], dtype=float32)>"
      ]
     },
     "execution_count": 180,
     "metadata": {},
     "output_type": "execute_result"
    }
   ],
   "source": [
    "tf.squeeze(matrix_squez, axis=3)"
   ]
  },
  {
   "cell_type": "code",
   "execution_count": 184,
   "id": "9469d890",
   "metadata": {},
   "outputs": [
    {
     "data": {
      "text/plain": [
       "<tf.Tensor: shape=(1, 1, 50), dtype=float32, numpy=\n",
       "array([[[0.71128917, 0.77877116, 0.36490285, 0.9530003 , 0.49915147,\n",
       "         0.31188822, 0.39449155, 0.5906935 , 0.13221145, 0.37026978,\n",
       "         0.5638151 , 0.9600681 , 0.38443553, 0.22657108, 0.7337091 ,\n",
       "         0.18864179, 0.2322309 , 0.52372944, 0.5088606 , 0.8803636 ,\n",
       "         0.11377084, 0.6813196 , 0.54288495, 0.04928088, 0.68769765,\n",
       "         0.31924403, 0.47953212, 0.22639894, 0.34083533, 0.36209035,\n",
       "         0.96956146, 0.6346265 , 0.17654824, 0.35434842, 0.7780837 ,\n",
       "         0.4478408 , 0.43103004, 0.73788166, 0.37174475, 0.71096385,\n",
       "         0.91982245, 0.8890587 , 0.51341915, 0.51375294, 0.6079956 ,\n",
       "         0.53363097, 0.30792522, 0.72625375, 0.4965216 , 0.9710821 ]]],\n",
       "      dtype=float32)>"
      ]
     },
     "execution_count": 184,
     "metadata": {},
     "output_type": "execute_result"
    }
   ],
   "source": [
    "tf.squeeze(matrix_squez, axis=[3,4, 5])"
   ]
  },
  {
   "cell_type": "markdown",
   "id": "198fba26",
   "metadata": {},
   "source": [
    "##### One-hot encoding"
   ]
  },
  {
   "cell_type": "code",
   "execution_count": 185,
   "id": "3a9c1a92",
   "metadata": {},
   "outputs": [
    {
     "data": {
      "text/plain": [
       "<tf.Tensor: shape=(4, 4), dtype=float32, numpy=\n",
       "array([[1., 0., 0., 0.],\n",
       "       [0., 1., 0., 0.],\n",
       "       [0., 0., 1., 0.],\n",
       "       [0., 0., 0., 1.]], dtype=float32)>"
      ]
     },
     "execution_count": 185,
     "metadata": {},
     "output_type": "execute_result"
    }
   ],
   "source": [
    "color_list = [0, 1, 2, 3] # Colors red, green, blue, yellow\n",
    "tf.one_hot(color_list, depth=4)"
   ]
  },
  {
   "cell_type": "code",
   "execution_count": 186,
   "id": "6bc656b2",
   "metadata": {},
   "outputs": [
    {
     "data": {
      "text/plain": [
       "<tf.Tensor: shape=(4, 4), dtype=string, numpy=\n",
       "array([[b'Y', b'N', b'N', b'N'],\n",
       "       [b'N', b'Y', b'N', b'N'],\n",
       "       [b'N', b'N', b'Y', b'N'],\n",
       "       [b'N', b'N', b'N', b'Y']], dtype=object)>"
      ]
     },
     "execution_count": 186,
     "metadata": {},
     "output_type": "execute_result"
    }
   ],
   "source": [
    "tf.one_hot(color_list, depth=4, on_value='Y', off_value='N')"
   ]
  },
  {
   "cell_type": "markdown",
   "id": "3ac8dc62",
   "metadata": {},
   "source": [
    "##### Math Operations"
   ]
  },
  {
   "cell_type": "code",
   "execution_count": 187,
   "id": "8712244f",
   "metadata": {},
   "outputs": [
    {
     "data": {
      "text/plain": [
       "<tf.Tensor: shape=(9,), dtype=int32, numpy=array([1, 2, 3, 4, 5, 6, 7, 8, 9])>"
      ]
     },
     "execution_count": 187,
     "metadata": {},
     "output_type": "execute_result"
    }
   ],
   "source": [
    "my_list = tf.range(1, 10)\n",
    "my_list"
   ]
  },
  {
   "cell_type": "code",
   "execution_count": 188,
   "id": "09d617f9",
   "metadata": {},
   "outputs": [
    {
     "data": {
      "text/plain": [
       "<tf.Tensor: shape=(9,), dtype=int32, numpy=array([ 1,  4,  9, 16, 25, 36, 49, 64, 81])>"
      ]
     },
     "execution_count": 188,
     "metadata": {},
     "output_type": "execute_result"
    }
   ],
   "source": [
    "tf.square(my_list)"
   ]
  },
  {
   "cell_type": "code",
   "execution_count": 191,
   "id": "27b88ef1",
   "metadata": {},
   "outputs": [
    {
     "data": {
      "text/plain": [
       "<tf.Tensor: shape=(9,), dtype=float32, numpy=\n",
       "array([1.       , 1.4142135, 1.7320508, 2.       , 2.2360678, 2.4494896,\n",
       "       2.6457512, 2.828427 , 3.       ], dtype=float32)>"
      ]
     },
     "execution_count": 191,
     "metadata": {},
     "output_type": "execute_result"
    }
   ],
   "source": [
    "tf.sqrt(tf.cast(my_list, dtype=tf.float32 ))"
   ]
  },
  {
   "cell_type": "code",
   "execution_count": 192,
   "id": "dd1f7d75",
   "metadata": {},
   "outputs": [
    {
     "data": {
      "text/plain": [
       "array([1, 2, 3, 4])"
      ]
     },
     "execution_count": 192,
     "metadata": {},
     "output_type": "execute_result"
    }
   ],
   "source": [
    "tf.constant(np.arange(1, 5)).numpy()"
   ]
  },
  {
   "cell_type": "code",
   "execution_count": 194,
   "id": "759ef936",
   "metadata": {},
   "outputs": [
    {
     "name": "stdout",
     "output_type": "stream",
     "text": [
      "Tue Dec 28 18:42:55 2021       \n",
      "+-----------------------------------------------------------------------------+\n",
      "| NVIDIA-SMI 471.35       Driver Version: 471.35       CUDA Version: 11.4     |\n",
      "|-------------------------------+----------------------+----------------------+\n",
      "| GPU  Name            TCC/WDDM | Bus-Id        Disp.A | Volatile Uncorr. ECC |\n",
      "| Fan  Temp  Perf  Pwr:Usage/Cap|         Memory-Usage | GPU-Util  Compute M. |\n",
      "|                               |                      |               MIG M. |\n",
      "|===============================+======================+======================|\n",
      "|   0  NVIDIA GeForce ... WDDM  | 00000000:01:00.0  On |                  N/A |\n",
      "| N/A   54C    P0    22W /  N/A |   4856MiB /  6144MiB |      0%      Default |\n",
      "|                               |                      |                  N/A |\n",
      "+-------------------------------+----------------------+----------------------+\n",
      "                                                                               \n",
      "+-----------------------------------------------------------------------------+\n",
      "| Processes:                                                                  |\n",
      "|  GPU   GI   CI        PID   Type   Process name                  GPU Memory |\n",
      "|        ID   ID                                                   Usage      |\n",
      "|=============================================================================|\n",
      "|    0   N/A  N/A     11712    C+G   ...4__8j3eq9eme6ctt\\IGCC.exe    N/A      |\n",
      "|    0   N/A  N/A     12456    C+G   ...054.62\\msedgewebview2.exe    N/A      |\n",
      "|    0   N/A  N/A     13636    C+G   ...bbwe\\Microsoft.Photos.exe    N/A      |\n",
      "|    0   N/A  N/A     19324    C+G   ...ekyb3d8bbwe\\onenoteim.exe    N/A      |\n",
      "|    0   N/A  N/A     19340    C+G   ...perience\\NVIDIA Share.exe    N/A      |\n",
      "|    0   N/A  N/A     23060    C+G   ...ekyb3d8bbwe\\YourPhone.exe    N/A      |\n",
      "|    0   N/A  N/A     25764    C+G   ...ge\\Application\\msedge.exe    N/A      |\n",
      "|    0   N/A  N/A     25816    C+G   ...n1h2txyewy\\SearchHost.exe    N/A      |\n",
      "|    0   N/A  N/A     27288    C+G   ...4__htrsf667h5kn2\\AWCC.exe    N/A      |\n",
      "|    0   N/A  N/A     31412    C+G   ...cw5n1h2txyewy\\LockApp.exe    N/A      |\n",
      "|    0   N/A  N/A     32660    C+G   ...artMenuExperienceHost.exe    N/A      |\n",
      "|    0   N/A  N/A     32904    C+G   ...054.62\\msedgewebview2.exe    N/A      |\n",
      "|    0   N/A  N/A     34400      C   ...tensorflow_gpu\\python.exe    N/A      |\n",
      "|    0   N/A  N/A     35424    C+G   ...8wekyb3d8bbwe\\Cortana.exe    N/A      |\n",
      "|    0   N/A  N/A     36116    C+G   Insufficient Permissions        N/A      |\n",
      "|    0   N/A  N/A     39484    C+G   ...lPanel\\SystemSettings.exe    N/A      |\n",
      "|    0   N/A  N/A     40752    C+G   ...kzcwy\\mcafee-security.exe    N/A      |\n",
      "|    0   N/A  N/A     41448    C+G   C:\\Windows\\explorer.exe         N/A      |\n",
      "|    0   N/A  N/A     41628    C+G   ...wekyb3d8bbwe\\Video.UI.exe    N/A      |\n",
      "|    0   N/A  N/A     42436    C+G   ...pp\\Free Snipping Tool.exe    N/A      |\n",
      "+-----------------------------------------------------------------------------+\n"
     ]
    }
   ],
   "source": [
    "!nvidia-smi"
   ]
  },
  {
   "cell_type": "code",
   "execution_count": null,
   "id": "579cf513",
   "metadata": {},
   "outputs": [],
   "source": []
  }
 ],
 "metadata": {
  "kernelspec": {
   "display_name": "Python 3",
   "language": "python",
   "name": "python3"
  },
  "language_info": {
   "codemirror_mode": {
    "name": "ipython",
    "version": 3
   },
   "file_extension": ".py",
   "mimetype": "text/x-python",
   "name": "python",
   "nbconvert_exporter": "python",
   "pygments_lexer": "ipython3",
   "version": "3.9.4"
  }
 },
 "nbformat": 4,
 "nbformat_minor": 5
}
