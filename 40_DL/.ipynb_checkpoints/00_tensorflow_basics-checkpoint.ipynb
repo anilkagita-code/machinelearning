{
 "cells": [
  {
   "cell_type": "code",
   "execution_count": 1,
   "id": "4a07b1bc",
   "metadata": {},
   "outputs": [],
   "source": [
    "import tensorflow as tf"
   ]
  },
  {
   "cell_type": "code",
   "execution_count": 2,
   "id": "8d7cbd14",
   "metadata": {},
   "outputs": [
    {
     "data": {
      "text/plain": [
       "'2.6.0-dev20210604'"
      ]
     },
     "execution_count": 2,
     "metadata": {},
     "output_type": "execute_result"
    }
   ],
   "source": [
    "tf.__version__"
   ]
  },
  {
   "cell_type": "markdown",
   "id": "23887e85",
   "metadata": {},
   "source": [
    "##### Constant"
   ]
  },
  {
   "cell_type": "code",
   "execution_count": 3,
   "id": "4e1399c4",
   "metadata": {},
   "outputs": [
    {
     "data": {
      "text/plain": [
       "<tf.Tensor: shape=(), dtype=int32, numpy=10>"
      ]
     },
     "execution_count": 3,
     "metadata": {},
     "output_type": "execute_result"
    }
   ],
   "source": [
    "scalar = tf.constant(10)\n",
    "scalar"
   ]
  },
  {
   "cell_type": "code",
   "execution_count": 4,
   "id": "d297541d",
   "metadata": {},
   "outputs": [
    {
     "data": {
      "text/plain": [
       "0"
      ]
     },
     "execution_count": 4,
     "metadata": {},
     "output_type": "execute_result"
    }
   ],
   "source": [
    "scalar.ndim"
   ]
  },
  {
   "cell_type": "code",
   "execution_count": 5,
   "id": "baa27e1a",
   "metadata": {},
   "outputs": [
    {
     "data": {
      "text/plain": [
       "<tf.Tensor: shape=(2,), dtype=int32, numpy=array([10, 10])>"
      ]
     },
     "execution_count": 5,
     "metadata": {},
     "output_type": "execute_result"
    }
   ],
   "source": [
    "vector = tf.constant([10, 10])\n",
    "vector"
   ]
  },
  {
   "cell_type": "code",
   "execution_count": 6,
   "id": "4aee6f73",
   "metadata": {},
   "outputs": [
    {
     "data": {
      "text/plain": [
       "1"
      ]
     },
     "execution_count": 6,
     "metadata": {},
     "output_type": "execute_result"
    }
   ],
   "source": [
    "vector.ndim"
   ]
  },
  {
   "cell_type": "code",
   "execution_count": 7,
   "id": "58c99e57",
   "metadata": {},
   "outputs": [
    {
     "data": {
      "text/plain": [
       "<tf.Tensor: shape=(2, 2), dtype=int32, numpy=\n",
       "array([[10,  7],\n",
       "       [ 7, 10]])>"
      ]
     },
     "execution_count": 7,
     "metadata": {},
     "output_type": "execute_result"
    }
   ],
   "source": [
    "matrix = tf.constant([[10, 7], \n",
    "                     [7, 10]])\n",
    "matrix"
   ]
  },
  {
   "cell_type": "code",
   "execution_count": 8,
   "id": "374d13d8",
   "metadata": {},
   "outputs": [
    {
     "data": {
      "text/plain": [
       "2"
      ]
     },
     "execution_count": 8,
     "metadata": {},
     "output_type": "execute_result"
    }
   ],
   "source": [
    "matrix.ndim"
   ]
  },
  {
   "cell_type": "code",
   "execution_count": 9,
   "id": "c7cfdc9c",
   "metadata": {},
   "outputs": [
    {
     "data": {
      "text/plain": [
       "<tf.Tensor: shape=(3, 2), dtype=float16, numpy=\n",
       "array([[10.,  7.],\n",
       "       [ 3.,  2.],\n",
       "       [ 8.,  9.]], dtype=float16)>"
      ]
     },
     "execution_count": 9,
     "metadata": {},
     "output_type": "execute_result"
    }
   ],
   "source": [
    "another_matrix = tf.constant([[10., 7.],\n",
    "                             [3., 2.],\n",
    "                             [8., 9.]], dtype=tf.float16)\n",
    "another_matrix"
   ]
  },
  {
   "cell_type": "code",
   "execution_count": 10,
   "id": "6d1d36f0",
   "metadata": {},
   "outputs": [
    {
     "data": {
      "text/plain": [
       "2"
      ]
     },
     "execution_count": 10,
     "metadata": {},
     "output_type": "execute_result"
    }
   ],
   "source": [
    "another_matrix.ndim"
   ]
  },
  {
   "cell_type": "code",
   "execution_count": 11,
   "id": "840f6af4",
   "metadata": {},
   "outputs": [
    {
     "data": {
      "text/plain": [
       "<tf.Tensor: shape=(3, 2, 3), dtype=int16, numpy=\n",
       "array([[[ 1,  2,  3],\n",
       "        [ 4,  5,  6]],\n",
       "\n",
       "       [[ 7,  8,  9],\n",
       "        [10, 11, 12]],\n",
       "\n",
       "       [[13, 14, 15],\n",
       "        [16, 17, 18]]], dtype=int16)>"
      ]
     },
     "execution_count": 11,
     "metadata": {},
     "output_type": "execute_result"
    }
   ],
   "source": [
    "my_tensor = tf.constant([[[1, 2, 3],\n",
    "                         [4, 5, 6]],\n",
    "                        [[7, 8, 9],\n",
    "                        [10, 11, 12]],\n",
    "                        [[13, 14, 15],\n",
    "                        [16, 17, 18]]], dtype=tf.int16)\n",
    "my_tensor"
   ]
  },
  {
   "cell_type": "code",
   "execution_count": 12,
   "id": "855e2d8d",
   "metadata": {},
   "outputs": [
    {
     "data": {
      "text/plain": [
       "3"
      ]
     },
     "execution_count": 12,
     "metadata": {},
     "output_type": "execute_result"
    }
   ],
   "source": [
    "my_tensor.ndim"
   ]
  },
  {
   "cell_type": "markdown",
   "id": "6aeee805",
   "metadata": {},
   "source": [
    "##### Variable"
   ]
  },
  {
   "cell_type": "code",
   "execution_count": 13,
   "id": "aaa0283a",
   "metadata": {},
   "outputs": [
    {
     "data": {
      "text/plain": [
       "(<tf.Variable 'Variable:0' shape=(2,) dtype=int32, numpy=array([10,  7])>,\n",
       " <tf.Tensor: shape=(2,), dtype=int32, numpy=array([10,  7])>)"
      ]
     },
     "execution_count": 13,
     "metadata": {},
     "output_type": "execute_result"
    }
   ],
   "source": [
    "change_tensor = tf.Variable([10, 7])\n",
    "unchange_tensor = tf.constant([10, 7])\n",
    "change_tensor, unchange_tensor"
   ]
  },
  {
   "cell_type": "code",
   "execution_count": 14,
   "id": "56924c04",
   "metadata": {},
   "outputs": [
    {
     "ename": "TypeError",
     "evalue": "'ResourceVariable' object does not support item assignment",
     "output_type": "error",
     "traceback": [
      "\u001b[1;31m---------------------------------------------------------------------------\u001b[0m",
      "\u001b[1;31mTypeError\u001b[0m                                 Traceback (most recent call last)",
      "\u001b[1;32m<ipython-input-14-913b3c3c1c3c>\u001b[0m in \u001b[0;36m<module>\u001b[1;34m\u001b[0m\n\u001b[1;32m----> 1\u001b[1;33m \u001b[0mchange_tensor\u001b[0m\u001b[1;33m[\u001b[0m\u001b[1;36m0\u001b[0m\u001b[1;33m]\u001b[0m \u001b[1;33m=\u001b[0m \u001b[1;36m7\u001b[0m\u001b[1;33m\u001b[0m\u001b[1;33m\u001b[0m\u001b[0m\n\u001b[0m\u001b[0;32m      2\u001b[0m \u001b[0mchange_tensor\u001b[0m\u001b[1;33m\u001b[0m\u001b[1;33m\u001b[0m\u001b[0m\n",
      "\u001b[1;31mTypeError\u001b[0m: 'ResourceVariable' object does not support item assignment"
     ]
    }
   ],
   "source": [
    "change_tensor[0] = 7\n",
    "change_tensor"
   ]
  },
  {
   "cell_type": "code",
   "execution_count": 15,
   "id": "7dc1f576",
   "metadata": {},
   "outputs": [
    {
     "data": {
      "text/plain": [
       "<tf.Variable 'Variable:0' shape=(2,) dtype=int32, numpy=array([7, 7])>"
      ]
     },
     "execution_count": 15,
     "metadata": {},
     "output_type": "execute_result"
    }
   ],
   "source": [
    "change_tensor[0].assign(7)\n",
    "change_tensor"
   ]
  },
  {
   "cell_type": "code",
   "execution_count": 16,
   "id": "02f04704",
   "metadata": {},
   "outputs": [
    {
     "ename": "TypeError",
     "evalue": "'tensorflow.python.framework.ops.EagerTensor' object does not support item assignment",
     "output_type": "error",
     "traceback": [
      "\u001b[1;31m---------------------------------------------------------------------------\u001b[0m",
      "\u001b[1;31mTypeError\u001b[0m                                 Traceback (most recent call last)",
      "\u001b[1;32m<ipython-input-16-b28d089cf2c7>\u001b[0m in \u001b[0;36m<module>\u001b[1;34m\u001b[0m\n\u001b[1;32m----> 1\u001b[1;33m \u001b[0munchange_tensor\u001b[0m\u001b[1;33m[\u001b[0m\u001b[1;36m0\u001b[0m\u001b[1;33m]\u001b[0m \u001b[1;33m=\u001b[0m \u001b[1;36m7\u001b[0m\u001b[1;33m\u001b[0m\u001b[1;33m\u001b[0m\u001b[0m\n\u001b[0m\u001b[0;32m      2\u001b[0m \u001b[0munchange_tensor\u001b[0m\u001b[1;33m\u001b[0m\u001b[1;33m\u001b[0m\u001b[0m\n",
      "\u001b[1;31mTypeError\u001b[0m: 'tensorflow.python.framework.ops.EagerTensor' object does not support item assignment"
     ]
    }
   ],
   "source": [
    "unchange_tensor[0] = 7\n",
    "unchange_tensor"
   ]
  },
  {
   "cell_type": "code",
   "execution_count": 17,
   "id": "05e93c1f",
   "metadata": {},
   "outputs": [
    {
     "ename": "AttributeError",
     "evalue": "'tensorflow.python.framework.ops.EagerTensor' object has no attribute 'assign'",
     "output_type": "error",
     "traceback": [
      "\u001b[1;31m---------------------------------------------------------------------------\u001b[0m",
      "\u001b[1;31mAttributeError\u001b[0m                            Traceback (most recent call last)",
      "\u001b[1;32m<ipython-input-17-0689cb3ab949>\u001b[0m in \u001b[0;36m<module>\u001b[1;34m\u001b[0m\n\u001b[1;32m----> 1\u001b[1;33m \u001b[0munchange_tensor\u001b[0m\u001b[1;33m[\u001b[0m\u001b[1;36m0\u001b[0m\u001b[1;33m]\u001b[0m\u001b[1;33m.\u001b[0m\u001b[0massign\u001b[0m\u001b[1;33m[\u001b[0m\u001b[1;36m7\u001b[0m\u001b[1;33m]\u001b[0m\u001b[1;33m\u001b[0m\u001b[1;33m\u001b[0m\u001b[0m\n\u001b[0m\u001b[0;32m      2\u001b[0m \u001b[0munchange_tensor\u001b[0m\u001b[1;33m\u001b[0m\u001b[1;33m\u001b[0m\u001b[0m\n",
      "\u001b[1;32mC:\\ProgramData\\Anaconda3\\envs\\tensorflow_gpu\\lib\\site-packages\\tensorflow\\python\\framework\\ops.py\u001b[0m in \u001b[0;36m__getattr__\u001b[1;34m(self, name)\u001b[0m\n\u001b[0;32m    399\u001b[0m         \u001b[1;32mimport\u001b[0m \u001b[0mtensorflow\u001b[0m\u001b[1;33m.\u001b[0m\u001b[0mpython\u001b[0m\u001b[1;33m.\u001b[0m\u001b[0mops\u001b[0m\u001b[1;33m.\u001b[0m\u001b[0mnumpy_ops\u001b[0m\u001b[1;33m.\u001b[0m\u001b[0mnp_config\u001b[0m\u001b[1;33m\u001b[0m\u001b[1;33m\u001b[0m\u001b[0m\n\u001b[0;32m    400\u001b[0m         np_config.enable_numpy_behavior()\"\"\".format(type(self).__name__, name))\n\u001b[1;32m--> 401\u001b[1;33m     \u001b[0mself\u001b[0m\u001b[1;33m.\u001b[0m\u001b[0m__getattribute__\u001b[0m\u001b[1;33m(\u001b[0m\u001b[0mname\u001b[0m\u001b[1;33m)\u001b[0m\u001b[1;33m\u001b[0m\u001b[1;33m\u001b[0m\u001b[0m\n\u001b[0m\u001b[0;32m    402\u001b[0m \u001b[1;33m\u001b[0m\u001b[0m\n\u001b[0;32m    403\u001b[0m   \u001b[1;33m@\u001b[0m\u001b[0mstaticmethod\u001b[0m\u001b[1;33m\u001b[0m\u001b[1;33m\u001b[0m\u001b[0m\n",
      "\u001b[1;31mAttributeError\u001b[0m: 'tensorflow.python.framework.ops.EagerTensor' object has no attribute 'assign'"
     ]
    }
   ],
   "source": [
    "unchange_tensor[0].assign[7]\n",
    "unchange_tensor"
   ]
  },
  {
   "cell_type": "markdown",
   "id": "06b1c9bc",
   "metadata": {},
   "source": [
    "##### Random Tensors"
   ]
  },
  {
   "cell_type": "code",
   "execution_count": 18,
   "id": "906185d6",
   "metadata": {},
   "outputs": [],
   "source": [
    "rand_1 = tf.random.Generator.from_seed(42)"
   ]
  },
  {
   "cell_type": "code",
   "execution_count": 19,
   "id": "1369e61d",
   "metadata": {},
   "outputs": [
    {
     "data": {
      "text/plain": [
       "<tf.Tensor: shape=(3, 2), dtype=float32, numpy=\n",
       "array([[-0.7565803 , -0.06854702],\n",
       "       [ 0.07595026, -1.2573844 ],\n",
       "       [-0.23193765, -1.8107855 ]], dtype=float32)>"
      ]
     },
     "execution_count": 19,
     "metadata": {},
     "output_type": "execute_result"
    }
   ],
   "source": [
    "rand_1.normal(shape=(3,2))"
   ]
  },
  {
   "cell_type": "code",
   "execution_count": 20,
   "id": "e5e3b18c",
   "metadata": {},
   "outputs": [
    {
     "data": {
      "text/plain": [
       "<tf.Tensor: shape=(3, 2), dtype=float32, numpy=\n",
       "array([[0.7647915 , 0.03845465],\n",
       "       [0.8506975 , 0.20781887],\n",
       "       [0.711869  , 0.8843919 ]], dtype=float32)>"
      ]
     },
     "execution_count": 20,
     "metadata": {},
     "output_type": "execute_result"
    }
   ],
   "source": [
    "rand_1.uniform(shape=(3,2))"
   ]
  },
  {
   "cell_type": "code",
   "execution_count": 21,
   "id": "c145812b",
   "metadata": {},
   "outputs": [
    {
     "data": {
      "text/plain": [
       "<tf.Tensor: shape=(3, 2), dtype=bool, numpy=\n",
       "array([[False, False],\n",
       "       [False, False],\n",
       "       [False, False]])>"
      ]
     },
     "execution_count": 21,
     "metadata": {},
     "output_type": "execute_result"
    }
   ],
   "source": [
    "rand_1.normal(shape=(3,2)) == rand_1.normal(shape=(3,2))"
   ]
  },
  {
   "cell_type": "code",
   "execution_count": 22,
   "id": "9bcf5c9d",
   "metadata": {},
   "outputs": [
    {
     "data": {
      "text/plain": [
       "<tf.Tensor: shape=(3, 2), dtype=bool, numpy=\n",
       "array([[False, False],\n",
       "       [False, False],\n",
       "       [False, False]])>"
      ]
     },
     "execution_count": 22,
     "metadata": {},
     "output_type": "execute_result"
    }
   ],
   "source": [
    "rand_1 = tf.random.Generator.from_seed(3)\n",
    "rand_1.normal(shape=(3,2)) == rand_1.normal(shape=(3,2))"
   ]
  },
  {
   "cell_type": "code",
   "execution_count": 23,
   "id": "88abd4c9",
   "metadata": {},
   "outputs": [
    {
     "data": {
      "text/plain": [
       "<tf.Tensor: shape=(3, 2), dtype=float32, numpy=\n",
       "array([[0.8398994 , 0.92632127],\n",
       "       [0.10943472, 0.00302172],\n",
       "       [0.19150412, 0.04563546]], dtype=float32)>"
      ]
     },
     "execution_count": 23,
     "metadata": {},
     "output_type": "execute_result"
    }
   ],
   "source": [
    "rand_1.uniform(shape=(3,2))"
   ]
  },
  {
   "cell_type": "code",
   "execution_count": 24,
   "id": "35f33e1e",
   "metadata": {},
   "outputs": [
    {
     "data": {
      "text/plain": [
       "<tf.Tensor: shape=(3, 2), dtype=float32, numpy=\n",
       "array([[0.28062475, 0.50312376],\n",
       "       [0.9028803 , 0.17021883],\n",
       "       [0.1053102 , 0.04724419]], dtype=float32)>"
      ]
     },
     "execution_count": 24,
     "metadata": {},
     "output_type": "execute_result"
    }
   ],
   "source": [
    "rand_1.uniform(shape=(3,2))"
   ]
  },
  {
   "cell_type": "markdown",
   "id": "18b7ac05",
   "metadata": {},
   "source": [
    "##### Shuffle"
   ]
  },
  {
   "cell_type": "markdown",
   "id": "1ec28222",
   "metadata": {},
   "source": [
    "- Randomly shuffles a tensor along its first dimension."
   ]
  },
  {
   "cell_type": "code",
   "execution_count": 25,
   "id": "cb5eb209",
   "metadata": {},
   "outputs": [],
   "source": [
    "import numpy as np"
   ]
  },
  {
   "cell_type": "code",
   "execution_count": 29,
   "id": "991622c5",
   "metadata": {},
   "outputs": [
    {
     "data": {
      "text/plain": [
       "<tf.Tensor: shape=(3, 2), dtype=int32, numpy=\n",
       "array([[3, 4],\n",
       "       [3, 0],\n",
       "       [9, 3]])>"
      ]
     },
     "execution_count": 29,
     "metadata": {},
     "output_type": "execute_result"
    }
   ],
   "source": [
    "not_shuffle = tf.constant(np.random.randint(10, size=(3, 2)))\n",
    "not_shuffle"
   ]
  },
  {
   "cell_type": "code",
   "execution_count": 31,
   "id": "0920c1b1",
   "metadata": {},
   "outputs": [
    {
     "name": "stdout",
     "output_type": "stream",
     "text": [
      "tf.Tensor(\n",
      "[[3 0]\n",
      " [3 4]\n",
      " [9 3]], shape=(3, 2), dtype=int32) tf.Tensor(\n",
      "[[3 0]\n",
      " [9 3]\n",
      " [3 4]], shape=(3, 2), dtype=int32)\n"
     ]
    }
   ],
   "source": [
    "print(tf.random.shuffle(not_shuffle), tf.random.shuffle(not_shuffle))"
   ]
  },
  {
   "cell_type": "code",
   "execution_count": 36,
   "id": "07dbab91",
   "metadata": {},
   "outputs": [
    {
     "data": {
      "text/plain": [
       "<tf.Tensor: shape=(5, 3), dtype=float32, numpy=\n",
       "array([[1., 1., 1.],\n",
       "       [1., 1., 1.],\n",
       "       [1., 1., 1.],\n",
       "       [1., 1., 1.],\n",
       "       [1., 1., 1.]], dtype=float32)>"
      ]
     },
     "execution_count": 36,
     "metadata": {},
     "output_type": "execute_result"
    }
   ],
   "source": [
    "tf.ones(shape=(5, 3), name='tf_ones')"
   ]
  },
  {
   "cell_type": "code",
   "execution_count": 42,
   "id": "19a1fe54",
   "metadata": {},
   "outputs": [
    {
     "data": {
      "text/plain": [
       "<tf.Tensor: shape=(2, 2, 3, 2), dtype=int32, numpy=\n",
       "array([[[[ 1,  2],\n",
       "         [ 3,  4],\n",
       "         [ 5,  6]],\n",
       "\n",
       "        [[ 7,  8],\n",
       "         [ 9, 10],\n",
       "         [11, 12]]],\n",
       "\n",
       "\n",
       "       [[[13, 14],\n",
       "         [15, 16],\n",
       "         [17, 18]],\n",
       "\n",
       "        [[19, 20],\n",
       "         [21, 22],\n",
       "         [23, 24]]]])>"
      ]
     },
     "execution_count": 42,
     "metadata": {},
     "output_type": "execute_result"
    }
   ],
   "source": [
    "tf.constant(np.arange(1, 25), shape=(2, 2, 3, 2), dtype=np.int32)"
   ]
  },
  {
   "cell_type": "code",
   "execution_count": 51,
   "id": "b998b94e",
   "metadata": {},
   "outputs": [
    {
     "name": "stdout",
     "output_type": "stream",
     "text": [
      "\n",
      "Matrix: \n",
      "[[[[0 2 5 4 4]\n",
      "   [3 1 7 5 7]\n",
      "   [6 9 4 9 4]\n",
      "   [4 4 5 3 5]]\n",
      "\n",
      "  [[7 6 8 8 7]\n",
      "   [0 6 5 4 3]\n",
      "   [7 1 5 1 0]\n",
      "   [7 1 2 0 4]]]\n",
      "\n",
      "\n",
      " [[[4 3 5 8 6]\n",
      "   [8 6 0 1 7]\n",
      "   [4 3 8 5 6]\n",
      "   [3 3 7 1 4]]\n",
      "\n",
      "  [[4 5 9 1 1]\n",
      "   [4 5 1 0 8]\n",
      "   [0 2 1 0 2]\n",
      "   [1 0 3 2 7]]]\n",
      "\n",
      "\n",
      " [[[4 8 5 5 9]\n",
      "   [7 2 0 7 7]\n",
      "   [1 6 9 1 1]\n",
      "   [4 0 0 4 5]]\n",
      "\n",
      "  [[3 4 9 7 0]\n",
      "   [3 1 2 7 4]\n",
      "   [3 5 2 7 8]\n",
      "   [3 4 1 1 7]]]], \n",
      "Rank of a matrix: 4, \n",
      "Size of matrix: 120\n"
     ]
    }
   ],
   "source": [
    "print(f'''\n",
    "Matrix: \\n{np.random.randint(10, size=(3, 2, 4, 5))}, \n",
    "Rank of a matrix: {np.random.randint(10, size=(3, 2, 4, 5)).ndim}, \n",
    "Size of matrix: {np.random.randint(10, size=(3, 2, 4, 5)).size}''')"
   ]
  },
  {
   "cell_type": "code",
   "execution_count": 66,
   "id": "2963b03f",
   "metadata": {},
   "outputs": [
    {
     "data": {
      "text/plain": [
       "<tf.Tensor: shape=(3, 2, 3, 2), dtype=int32, numpy=\n",
       "array([[[[4, 0],\n",
       "         [2, 7],\n",
       "         [1, 7]],\n",
       "\n",
       "        [[5, 0],\n",
       "         [0, 2],\n",
       "         [5, 9]]],\n",
       "\n",
       "\n",
       "       [[[8, 0],\n",
       "         [6, 8],\n",
       "         [4, 6]],\n",
       "\n",
       "        [[0, 0],\n",
       "         [0, 4],\n",
       "         [0, 0]]],\n",
       "\n",
       "\n",
       "       [[[8, 9],\n",
       "         [9, 9],\n",
       "         [4, 0]],\n",
       "\n",
       "        [[8, 1],\n",
       "         [8, 9],\n",
       "         [1, 8]]]])>"
      ]
     },
     "execution_count": 66,
     "metadata": {},
     "output_type": "execute_result"
    }
   ],
   "source": [
    "my_matrix = tf.constant(np.random.randint(10, size=(3, 2, 3, 2)))\n",
    "my_matrix"
   ]
  },
  {
   "cell_type": "code",
   "execution_count": 69,
   "id": "058a2aec",
   "metadata": {},
   "outputs": [
    {
     "name": "stdout",
     "output_type": "stream",
     "text": [
      "\n",
      "Matrix: \n",
      "[[[[4 0]\n",
      "   [2 7]\n",
      "   [1 7]]\n",
      "\n",
      "  [[5 0]\n",
      "   [0 2]\n",
      "   [5 9]]]\n",
      "\n",
      "\n",
      " [[[8 0]\n",
      "   [6 8]\n",
      "   [4 6]]\n",
      "\n",
      "  [[0 0]\n",
      "   [0 4]\n",
      "   [0 0]]]\n",
      "\n",
      "\n",
      " [[[8 9]\n",
      "   [9 9]\n",
      "   [4 0]]\n",
      "\n",
      "  [[8 1]\n",
      "   [8 9]\n",
      "   [1 8]]]], \n",
      "Rank of a matrix: 4, \n",
      "Size of matrix: 36,\n",
      "Shape: (3, 2, 3, 2)\n",
      "Shape at 0 index: 3\n",
      "Shape at last dimension: 2,\n",
      "Size: 36\n"
     ]
    }
   ],
   "source": [
    "print(f'''\n",
    "Matrix: \\n{my_matrix}, \n",
    "Rank of a matrix: {my_matrix.ndim}, \n",
    "Size of matrix: {tf.size(my_matrix)},\n",
    "Shape: {my_matrix.shape}\n",
    "Shape at 0 index: {my_matrix.shape[0]}\n",
    "Shape at last dimension: {my_matrix.shape[-1]},\n",
    "Size: {tf.size(my_matrix).numpy()}''')"
   ]
  },
  {
   "cell_type": "code",
   "execution_count": 70,
   "id": "f416bf5f",
   "metadata": {},
   "outputs": [
    {
     "data": {
      "text/plain": [
       "<tf.Tensor: shape=(), dtype=int32, numpy=36>"
      ]
     },
     "execution_count": 70,
     "metadata": {},
     "output_type": "execute_result"
    }
   ],
   "source": [
    "tf.size(my_matrix)"
   ]
  },
  {
   "cell_type": "code",
   "execution_count": 71,
   "id": "87d94c64",
   "metadata": {},
   "outputs": [
    {
     "data": {
      "text/plain": [
       "36"
      ]
     },
     "execution_count": 71,
     "metadata": {},
     "output_type": "execute_result"
    }
   ],
   "source": [
    "tf.size(my_matrix).numpy()"
   ]
  },
  {
   "cell_type": "markdown",
   "id": "0bf0f7e2",
   "metadata": {},
   "source": [
    "##### Indexing just like Python List"
   ]
  },
  {
   "cell_type": "code",
   "execution_count": 81,
   "id": "440ced67",
   "metadata": {},
   "outputs": [
    {
     "data": {
      "text/plain": [
       "array([[[[  0,   1,   2,   3,   4],\n",
       "         [  5,   6,   7,   8,   9],\n",
       "         [ 10,  11,  12,  13,  14],\n",
       "         [ 15,  16,  17,  18,  19]],\n",
       "\n",
       "        [[ 20,  21,  22,  23,  24],\n",
       "         [ 25,  26,  27,  28,  29],\n",
       "         [ 30,  31,  32,  33,  34],\n",
       "         [ 35,  36,  37,  38,  39]],\n",
       "\n",
       "        [[ 40,  41,  42,  43,  44],\n",
       "         [ 45,  46,  47,  48,  49],\n",
       "         [ 50,  51,  52,  53,  54],\n",
       "         [ 55,  56,  57,  58,  59]]],\n",
       "\n",
       "\n",
       "       [[[ 60,  61,  62,  63,  64],\n",
       "         [ 65,  66,  67,  68,  69],\n",
       "         [ 70,  71,  72,  73,  74],\n",
       "         [ 75,  76,  77,  78,  79]],\n",
       "\n",
       "        [[ 80,  81,  82,  83,  84],\n",
       "         [ 85,  86,  87,  88,  89],\n",
       "         [ 90,  91,  92,  93,  94],\n",
       "         [ 95,  96,  97,  98,  99]],\n",
       "\n",
       "        [[100, 101, 102, 103, 104],\n",
       "         [105, 106, 107, 108, 109],\n",
       "         [110, 111, 112, 113, 114],\n",
       "         [115, 116, 117, 118, 119]]]])"
      ]
     },
     "execution_count": 81,
     "metadata": {},
     "output_type": "execute_result"
    }
   ],
   "source": [
    "my_matrix = np.arange(120)\n",
    "my_matrix = my_matrix.reshape((2,3,4,5))\n",
    "my_matrix"
   ]
  },
  {
   "cell_type": "code",
   "execution_count": 82,
   "id": "e7486525",
   "metadata": {},
   "outputs": [
    {
     "name": "stdout",
     "output_type": "stream",
     "text": [
      "\n",
      "First 2 elements of each dimension\n",
      "[[[[ 0  1]\n",
      "   [ 5  6]]\n",
      "\n",
      "  [[20 21]\n",
      "   [25 26]]]\n",
      "\n",
      "\n",
      " [[[60 61]\n",
      "   [65 66]]\n",
      "\n",
      "  [[80 81]\n",
      "   [85 86]]]]\n"
     ]
    }
   ],
   "source": [
    "print(f'''\n",
    "First 2 elements of each dimension\n",
    "{my_matrix[:2, :2, :2, :2]}''')"
   ]
  },
  {
   "cell_type": "code",
   "execution_count": 83,
   "id": "11b325d6",
   "metadata": {},
   "outputs": [
    {
     "name": "stdout",
     "output_type": "stream",
     "text": [
      "\n",
      "Get the first element from each dimension expect for the last one\n",
      "[[[[0 1 2 3 4]]]]\n"
     ]
    }
   ],
   "source": [
    "print(f'''\n",
    "Get the first element from each dimension expect for the last one\n",
    "{my_matrix[:1, :1, :1, :]}''')"
   ]
  },
  {
   "cell_type": "code",
   "execution_count": 86,
   "id": "86785f34",
   "metadata": {},
   "outputs": [
    {
     "name": "stdout",
     "output_type": "stream",
     "text": [
      "\n",
      "Get the first element from each dimension expect for the third one\n",
      "[[[[ 0]\n",
      "   [ 5]\n",
      "   [10]\n",
      "   [15]]]]\n"
     ]
    }
   ],
   "source": [
    "print(f'''\n",
    "Get the first element from each dimension expect for the third one\n",
    "{my_matrix[:1, :1, :, :1]}''')"
   ]
  },
  {
   "cell_type": "code",
   "execution_count": 87,
   "id": "f5bec937",
   "metadata": {},
   "outputs": [
    {
     "name": "stdout",
     "output_type": "stream",
     "text": [
      "\n",
      "Get the first element from each dimension expect for the second one\n",
      "[[[[ 0]]\n",
      "\n",
      "  [[20]]\n",
      "\n",
      "  [[40]]]]\n"
     ]
    }
   ],
   "source": [
    "print(f'''\n",
    "Get the first element from each dimension expect for the second one\n",
    "{my_matrix[:1, :, :1, :1]}''')"
   ]
  },
  {
   "cell_type": "code",
   "execution_count": 88,
   "id": "d8ef7ff2",
   "metadata": {},
   "outputs": [
    {
     "name": "stdout",
     "output_type": "stream",
     "text": [
      "\n",
      "Get the first element from each dimension expect for the first one\n",
      "[[[[ 0]]]\n",
      "\n",
      "\n",
      " [[[60]]]]\n"
     ]
    }
   ],
   "source": [
    "print(f'''\n",
    "Get the first element from each dimension expect for the first one\n",
    "{my_matrix[:, :1, :1, :1]}''')"
   ]
  },
  {
   "cell_type": "markdown",
   "id": "3bbe48cb",
   "metadata": {},
   "source": [
    "##### Extra-dimension"
   ]
  },
  {
   "cell_type": "code",
   "execution_count": 92,
   "id": "4cf5c21d",
   "metadata": {},
   "outputs": [
    {
     "data": {
      "text/plain": [
       "<tf.Tensor: shape=(2, 3), dtype=int32, numpy=\n",
       "array([[7, 3, 8],\n",
       "       [8, 3, 8]])>"
      ]
     },
     "execution_count": 92,
     "metadata": {},
     "output_type": "execute_result"
    }
   ],
   "source": [
    "my_matrix2 = tf.constant( np.random.randint(9, size=(2,3)))\n",
    "my_matrix2"
   ]
  },
  {
   "cell_type": "code",
   "execution_count": 94,
   "id": "47c30dbd",
   "metadata": {},
   "outputs": [
    {
     "data": {
      "text/plain": [
       "(TensorShape([2, 3]), 2)"
      ]
     },
     "execution_count": 94,
     "metadata": {},
     "output_type": "execute_result"
    }
   ],
   "source": [
    "my_matrix2.shape, my_matrix2.ndim"
   ]
  },
  {
   "cell_type": "code",
   "execution_count": 95,
   "id": "a05330d7",
   "metadata": {},
   "outputs": [
    {
     "data": {
      "text/plain": [
       "(TensorShape([2, 3, 1]), 3)"
      ]
     },
     "execution_count": 95,
     "metadata": {},
     "output_type": "execute_result"
    }
   ],
   "source": [
    "my_matrix3 = my_matrix2[..., tf.newaxis]\n",
    "my_matrix3.shape, my_matrix3.ndim"
   ]
  },
  {
   "cell_type": "code",
   "execution_count": 96,
   "id": "7a416021",
   "metadata": {},
   "outputs": [
    {
     "data": {
      "text/plain": [
       "<tf.Tensor: shape=(2, 3, 1), dtype=int32, numpy=\n",
       "array([[[7],\n",
       "        [3],\n",
       "        [8]],\n",
       "\n",
       "       [[8],\n",
       "        [3],\n",
       "        [8]]])>"
      ]
     },
     "execution_count": 96,
     "metadata": {},
     "output_type": "execute_result"
    }
   ],
   "source": [
    "my_matrix3"
   ]
  },
  {
   "cell_type": "code",
   "execution_count": 97,
   "id": "55d96384",
   "metadata": {},
   "outputs": [
    {
     "data": {
      "text/plain": [
       "(TensorShape([2, 3, 1]), 3)"
      ]
     },
     "execution_count": 97,
     "metadata": {},
     "output_type": "execute_result"
    }
   ],
   "source": [
    "my_matrix31 = tf.expand_dims(my_matrix2, axis=-1)\n",
    "my_matrix31.shape, my_matrix31.ndim"
   ]
  },
  {
   "cell_type": "code",
   "execution_count": 98,
   "id": "f376b9f2",
   "metadata": {},
   "outputs": [
    {
     "data": {
      "text/plain": [
       "<tf.Tensor: shape=(2, 3, 1), dtype=int32, numpy=\n",
       "array([[[7],\n",
       "        [3],\n",
       "        [8]],\n",
       "\n",
       "       [[8],\n",
       "        [3],\n",
       "        [8]]])>"
      ]
     },
     "execution_count": 98,
     "metadata": {},
     "output_type": "execute_result"
    }
   ],
   "source": [
    "my_matrix31"
   ]
  },
  {
   "cell_type": "code",
   "execution_count": 99,
   "id": "ff832516",
   "metadata": {},
   "outputs": [
    {
     "data": {
      "text/plain": [
       "<tf.Tensor: shape=(1, 2, 3), dtype=int32, numpy=\n",
       "array([[[7, 3, 8],\n",
       "        [8, 3, 8]]])>"
      ]
     },
     "execution_count": 99,
     "metadata": {},
     "output_type": "execute_result"
    }
   ],
   "source": [
    "tf.expand_dims(my_matrix2, axis=0)"
   ]
  },
  {
   "cell_type": "code",
   "execution_count": 100,
   "id": "a50b1fd2",
   "metadata": {},
   "outputs": [
    {
     "data": {
      "text/plain": [
       "<tf.Tensor: shape=(2, 1, 3), dtype=int32, numpy=\n",
       "array([[[7, 3, 8]],\n",
       "\n",
       "       [[8, 3, 8]]])>"
      ]
     },
     "execution_count": 100,
     "metadata": {},
     "output_type": "execute_result"
    }
   ],
   "source": [
    "tf.expand_dims(my_matrix2, axis=1)"
   ]
  },
  {
   "cell_type": "markdown",
   "id": "7b7c3517",
   "metadata": {},
   "source": [
    "### Tensor Operations"
   ]
  },
  {
   "cell_type": "code",
   "execution_count": 106,
   "id": "f2892866",
   "metadata": {},
   "outputs": [
    {
     "name": "stdout",
     "output_type": "stream",
     "text": [
      "\n",
      "[[3 8 6]\n",
      " [2 1 1]]\n",
      "Adding 10\n",
      "[[13 18 16]\n",
      " [12 11 11]]\n"
     ]
    }
   ],
   "source": [
    "my_matrix2 = tf.constant(np.random.randint(9, size=(2,3)))\n",
    "print(f'''\n",
    "{my_matrix2}\n",
    "Adding 10\n",
    "{my_matrix2+10}''')"
   ]
  },
  {
   "cell_type": "code",
   "execution_count": 107,
   "id": "9410d20e",
   "metadata": {},
   "outputs": [
    {
     "name": "stdout",
     "output_type": "stream",
     "text": [
      "\n",
      "[[3 8 6]\n",
      " [2 1 1]]\n",
      "Adding 10\n",
      "[[30 80 60]\n",
      " [20 10 10]]\n"
     ]
    }
   ],
   "source": [
    "print(f'''\n",
    "{my_matrix2}\n",
    "Multiply by 10\n",
    "{my_matrix2*10}''')"
   ]
  },
  {
   "cell_type": "code",
   "execution_count": 112,
   "id": "bd425000",
   "metadata": {},
   "outputs": [
    {
     "name": "stdout",
     "output_type": "stream",
     "text": [
      "\n",
      "[[3 8 6]\n",
      " [2 1 1]]\n",
      "Multiplying 10\n",
      "[[30 80 60]\n",
      " [20 10 10]]\n"
     ]
    }
   ],
   "source": [
    "print(f'''\n",
    "{my_matrix2}\n",
    "Multiplying 10\n",
    "{tf.math.multiply(my_matrix2, 10) }''')"
   ]
  },
  {
   "cell_type": "code",
   "execution_count": 113,
   "id": "1ade9bae",
   "metadata": {},
   "outputs": [
    {
     "name": "stdout",
     "output_type": "stream",
     "text": [
      "\n",
      "[[3 8 6]\n",
      " [2 1 1]]\n",
      "Multiplying 10\n",
      "[[13 18 16]\n",
      " [12 11 11]]\n"
     ]
    }
   ],
   "source": [
    "print(f'''\n",
    "{my_matrix2}\n",
    "Multiplying 10\n",
    "{tf.math.add(my_matrix2, 10) }''')"
   ]
  },
  {
   "cell_type": "markdown",
   "id": "37ddef39",
   "metadata": {},
   "source": [
    "##### Matrix multiplication"
   ]
  },
  {
   "cell_type": "code",
   "execution_count": 115,
   "id": "8f9c3665",
   "metadata": {},
   "outputs": [
    {
     "data": {
      "text/plain": [
       "array([[1, 2, 3],\n",
       "       [4, 5, 6]])"
      ]
     },
     "execution_count": 115,
     "metadata": {},
     "output_type": "execute_result"
    }
   ],
   "source": [
    "np.arange(1, 7).reshape(2, 3)"
   ]
  },
  {
   "cell_type": "code",
   "execution_count": 118,
   "id": "5f2ffd82",
   "metadata": {},
   "outputs": [
    {
     "data": {
      "text/plain": [
       "array([[ 7,  8],\n",
       "       [ 9, 10],\n",
       "       [11, 12]])"
      ]
     },
     "execution_count": 118,
     "metadata": {},
     "output_type": "execute_result"
    }
   ],
   "source": [
    "np.arange(7, 13).reshape(3, 2)"
   ]
  },
  {
   "cell_type": "code",
   "execution_count": 119,
   "id": "2ddd1925",
   "metadata": {},
   "outputs": [
    {
     "data": {
      "text/plain": [
       "array([[ 58,  64],\n",
       "       [139, 154]])"
      ]
     },
     "execution_count": 119,
     "metadata": {},
     "output_type": "execute_result"
    }
   ],
   "source": [
    "np.dot(np.arange(1, 7).reshape(2, 3), np.arange(7, 13).reshape(3, 2))"
   ]
  },
  {
   "cell_type": "code",
   "execution_count": 120,
   "id": "1210cc07",
   "metadata": {},
   "outputs": [
    {
     "data": {
      "text/plain": [
       "<tf.Tensor: shape=(2, 2), dtype=int32, numpy=\n",
       "array([[ 58,  64],\n",
       "       [139, 154]])>"
      ]
     },
     "execution_count": 120,
     "metadata": {},
     "output_type": "execute_result"
    }
   ],
   "source": [
    "tf.matmul(np.arange(1, 7).reshape(2, 3), np.arange(7, 13).reshape(3, 2))"
   ]
  },
  {
   "cell_type": "code",
   "execution_count": 123,
   "id": "a62b7f36",
   "metadata": {},
   "outputs": [
    {
     "data": {
      "text/plain": [
       "<tf.Tensor: shape=(3, 3), dtype=int32, numpy=\n",
       "array([[ 39,  49,  59],\n",
       "       [ 54,  68,  82],\n",
       "       [ 69,  87, 105]])>"
      ]
     },
     "execution_count": 123,
     "metadata": {},
     "output_type": "execute_result"
    }
   ],
   "source": [
    "tf.matmul( tf.transpose(np.arange(1, 7).reshape(2, 3)), tf.transpose(np.arange(7, 13).reshape(3, 2)))"
   ]
  },
  {
   "cell_type": "code",
   "execution_count": null,
   "id": "1af1a204",
   "metadata": {},
   "outputs": [],
   "source": []
  },
  {
   "cell_type": "markdown",
   "id": "c4288266",
   "metadata": {},
   "source": [
    "##### Casting data"
   ]
  },
  {
   "cell_type": "code",
   "execution_count": 131,
   "id": "f12b2ce2",
   "metadata": {},
   "outputs": [
    {
     "data": {
      "text/plain": [
       "<tf.Tensor: shape=(3, 2), dtype=int32, numpy=\n",
       "array([[1, 2],\n",
       "       [3, 4],\n",
       "       [5, 6]])>"
      ]
     },
     "execution_count": 131,
     "metadata": {},
     "output_type": "execute_result"
    }
   ],
   "source": [
    "const_32 = tf.constant(np.arange(1, 7).reshape(3, 2), dtype=tf.int32)\n",
    "const_32"
   ]
  },
  {
   "cell_type": "code",
   "execution_count": 132,
   "id": "dfcbb3b9",
   "metadata": {},
   "outputs": [
    {
     "data": {
      "text/plain": [
       "<tf.Tensor: shape=(3, 2), dtype=int16, numpy=\n",
       "array([[1, 2],\n",
       "       [3, 4],\n",
       "       [5, 6]], dtype=int16)>"
      ]
     },
     "execution_count": 132,
     "metadata": {},
     "output_type": "execute_result"
    }
   ],
   "source": [
    "tf.cast(const_32, dtype=tf.int16)"
   ]
  },
  {
   "cell_type": "code",
   "execution_count": 133,
   "id": "758f03df",
   "metadata": {},
   "outputs": [
    {
     "data": {
      "text/plain": [
       "<tf.Tensor: shape=(3, 2), dtype=float32, numpy=\n",
       "array([[1., 2.],\n",
       "       [3., 4.],\n",
       "       [5., 6.]], dtype=float32)>"
      ]
     },
     "execution_count": 133,
     "metadata": {},
     "output_type": "execute_result"
    }
   ],
   "source": [
    "const_32 = tf.constant(np.arange(1, 7).reshape(3, 2), dtype=tf.float32)\n",
    "const_32"
   ]
  },
  {
   "cell_type": "code",
   "execution_count": 134,
   "id": "510f4440",
   "metadata": {},
   "outputs": [
    {
     "data": {
      "text/plain": [
       "<tf.Tensor: shape=(3, 2), dtype=int16, numpy=\n",
       "array([[1, 2],\n",
       "       [3, 4],\n",
       "       [5, 6]], dtype=int16)>"
      ]
     },
     "execution_count": 134,
     "metadata": {},
     "output_type": "execute_result"
    }
   ],
   "source": [
    "tf.cast(const_32, dtype=tf.int16)"
   ]
  },
  {
   "cell_type": "code",
   "execution_count": null,
   "id": "8fcbe5e1",
   "metadata": {},
   "outputs": [],
   "source": []
  },
  {
   "cell_type": "markdown",
   "id": "cee5e3aa",
   "metadata": {},
   "source": [
    "##### Aggregating Tensors"
   ]
  },
  {
   "cell_type": "code",
   "execution_count": 137,
   "id": "90f3e485",
   "metadata": {},
   "outputs": [
    {
     "data": {
      "text/plain": [
       "(<tf.Tensor: shape=(3, 2), dtype=float32, numpy=\n",
       " array([[1., 2.],\n",
       "        [3., 4.],\n",
       "        [5., 6.]], dtype=float32)>,\n",
       " <tf.Tensor: shape=(), dtype=float32, numpy=1.0>,\n",
       " <tf.Tensor: shape=(), dtype=float32, numpy=6.0>,\n",
       " <tf.Tensor: shape=(), dtype=float32, numpy=3.5>)"
      ]
     },
     "execution_count": 137,
     "metadata": {},
     "output_type": "execute_result"
    }
   ],
   "source": [
    "const_32, tf.reduce_min(const_32), tf.reduce_max(const_32), tf.reduce_mean(const_32)"
   ]
  },
  {
   "cell_type": "code",
   "execution_count": 141,
   "id": "a2975efa",
   "metadata": {},
   "outputs": [
    {
     "data": {
      "text/plain": [
       "(<tf.Tensor: shape=(), dtype=float32, numpy=720.0>,\n",
       " <tf.Tensor: shape=(), dtype=float32, numpy=21.0>)"
      ]
     },
     "execution_count": 141,
     "metadata": {},
     "output_type": "execute_result"
    }
   ],
   "source": [
    "tf.reduce_prod(const_32), tf.reduce_sum(const_32)"
   ]
  },
  {
   "cell_type": "code",
   "execution_count": 143,
   "id": "eccc466f",
   "metadata": {},
   "outputs": [
    {
     "data": {
      "text/plain": [
       "(<tf.Tensor: shape=(), dtype=float32, numpy=1.7078251>,\n",
       " <tf.Tensor: shape=(), dtype=float32, numpy=2.9166667>)"
      ]
     },
     "execution_count": 143,
     "metadata": {},
     "output_type": "execute_result"
    }
   ],
   "source": [
    "tf.math.reduce_std(const_32), tf.math.reduce_variance(const_32)"
   ]
  },
  {
   "cell_type": "markdown",
   "id": "86981a03",
   "metadata": {},
   "source": [
    "##### Positional Min and Max"
   ]
  },
  {
   "cell_type": "code",
   "execution_count": 148,
   "id": "edee179b",
   "metadata": {},
   "outputs": [
    {
     "data": {
      "text/plain": [
       "<tf.Tensor: shape=(5, 4), dtype=float32, numpy=\n",
       "array([[0.3973397 , 0.424412  , 0.37168002, 0.375906  ],\n",
       "       [0.3075881 , 0.2506727 , 0.82194746, 0.36208236],\n",
       "       [0.80988574, 0.4883306 , 0.8095002 , 0.26410222],\n",
       "       [0.9951496 , 0.471609  , 0.24197567, 0.8959322 ],\n",
       "       [0.32610905, 0.38248146, 0.47827947, 0.27135372]], dtype=float32)>"
      ]
     },
     "execution_count": 148,
     "metadata": {},
     "output_type": "execute_result"
    }
   ],
   "source": [
    "matrix_54 = tf.random.uniform(shape=(5, 4))\n",
    "matrix_54"
   ]
  },
  {
   "cell_type": "code",
   "execution_count": 149,
   "id": "72091553",
   "metadata": {},
   "outputs": [
    {
     "data": {
      "text/plain": [
       "<tf.Tensor: shape=(4,), dtype=int64, numpy=array([3, 2, 1, 3], dtype=int64)>"
      ]
     },
     "execution_count": 149,
     "metadata": {},
     "output_type": "execute_result"
    }
   ],
   "source": [
    "tf.argmax(matrix_54)"
   ]
  },
  {
   "cell_type": "code",
   "execution_count": 154,
   "id": "b75cddaf",
   "metadata": {},
   "outputs": [
    {
     "data": {
      "text/plain": [
       "<tf.Tensor: shape=(4,), dtype=int64, numpy=array([3, 2, 1, 3], dtype=int64)>"
      ]
     },
     "execution_count": 154,
     "metadata": {},
     "output_type": "execute_result"
    }
   ],
   "source": [
    "tf.argmax(matrix_54, axis=0)"
   ]
  },
  {
   "cell_type": "code",
   "execution_count": 155,
   "id": "d2ee02d8",
   "metadata": {},
   "outputs": [
    {
     "data": {
      "text/plain": [
       "<tf.Tensor: shape=(5,), dtype=int64, numpy=array([1, 2, 0, 0, 2], dtype=int64)>"
      ]
     },
     "execution_count": 155,
     "metadata": {},
     "output_type": "execute_result"
    }
   ],
   "source": [
    "tf.argmax(matrix_54, axis=1)"
   ]
  },
  {
   "cell_type": "code",
   "execution_count": 159,
   "id": "711a8393",
   "metadata": {},
   "outputs": [
    {
     "ename": "TypeError",
     "evalue": "Only integers, slices (`:`), ellipsis (`...`), tf.newaxis (`None`) and scalar tf.int32/tf.int64 tensors are valid indices, got <tf.Tensor: shape=(4,), dtype=int64, numpy=array([3, 2, 1, 3], dtype=int64)>",
     "output_type": "error",
     "traceback": [
      "\u001b[1;31m---------------------------------------------------------------------------\u001b[0m",
      "\u001b[1;31mTypeError\u001b[0m                                 Traceback (most recent call last)",
      "\u001b[1;32m<ipython-input-159-83fb23eacacb>\u001b[0m in \u001b[0;36m<module>\u001b[1;34m\u001b[0m\n\u001b[1;32m----> 1\u001b[1;33m \u001b[0mmatrix_54\u001b[0m\u001b[1;33m[\u001b[0m\u001b[0mtf\u001b[0m\u001b[1;33m.\u001b[0m\u001b[0margmax\u001b[0m\u001b[1;33m(\u001b[0m\u001b[0mmatrix_54\u001b[0m\u001b[1;33m)\u001b[0m\u001b[1;33m]\u001b[0m\u001b[1;33m\u001b[0m\u001b[1;33m\u001b[0m\u001b[0m\n\u001b[0m",
      "\u001b[1;32mC:\\ProgramData\\Anaconda3\\envs\\tensorflow_gpu\\lib\\site-packages\\tensorflow\\python\\util\\dispatch.py\u001b[0m in \u001b[0;36mwrapper\u001b[1;34m(*args, **kwargs)\u001b[0m\n\u001b[0;32m    204\u001b[0m     \u001b[1;34m\"\"\"Call target, and fall back on dispatchers if there is a TypeError.\"\"\"\u001b[0m\u001b[1;33m\u001b[0m\u001b[1;33m\u001b[0m\u001b[0m\n\u001b[0;32m    205\u001b[0m     \u001b[1;32mtry\u001b[0m\u001b[1;33m:\u001b[0m\u001b[1;33m\u001b[0m\u001b[1;33m\u001b[0m\u001b[0m\n\u001b[1;32m--> 206\u001b[1;33m       \u001b[1;32mreturn\u001b[0m \u001b[0mtarget\u001b[0m\u001b[1;33m(\u001b[0m\u001b[1;33m*\u001b[0m\u001b[0margs\u001b[0m\u001b[1;33m,\u001b[0m \u001b[1;33m**\u001b[0m\u001b[0mkwargs\u001b[0m\u001b[1;33m)\u001b[0m\u001b[1;33m\u001b[0m\u001b[1;33m\u001b[0m\u001b[0m\n\u001b[0m\u001b[0;32m    207\u001b[0m     \u001b[1;32mexcept\u001b[0m \u001b[1;33m(\u001b[0m\u001b[0mTypeError\u001b[0m\u001b[1;33m,\u001b[0m \u001b[0mValueError\u001b[0m\u001b[1;33m)\u001b[0m\u001b[1;33m:\u001b[0m\u001b[1;33m\u001b[0m\u001b[1;33m\u001b[0m\u001b[0m\n\u001b[0;32m    208\u001b[0m       \u001b[1;31m# Note: convert_to_eager_tensor currently raises a ValueError, not a\u001b[0m\u001b[1;33m\u001b[0m\u001b[1;33m\u001b[0m\u001b[1;33m\u001b[0m\u001b[0m\n",
      "\u001b[1;32mC:\\ProgramData\\Anaconda3\\envs\\tensorflow_gpu\\lib\\site-packages\\tensorflow\\python\\ops\\array_ops.py\u001b[0m in \u001b[0;36m_slice_helper\u001b[1;34m(tensor, slice_spec, var)\u001b[0m\n\u001b[0;32m   1012\u001b[0m       \u001b[0mnew_axis_mask\u001b[0m \u001b[1;33m|=\u001b[0m \u001b[1;33m(\u001b[0m\u001b[1;36m1\u001b[0m \u001b[1;33m<<\u001b[0m \u001b[0mindex\u001b[0m\u001b[1;33m)\u001b[0m\u001b[1;33m\u001b[0m\u001b[1;33m\u001b[0m\u001b[0m\n\u001b[0;32m   1013\u001b[0m     \u001b[1;32melse\u001b[0m\u001b[1;33m:\u001b[0m\u001b[1;33m\u001b[0m\u001b[1;33m\u001b[0m\u001b[0m\n\u001b[1;32m-> 1014\u001b[1;33m       \u001b[0m_check_index\u001b[0m\u001b[1;33m(\u001b[0m\u001b[0ms\u001b[0m\u001b[1;33m)\u001b[0m\u001b[1;33m\u001b[0m\u001b[1;33m\u001b[0m\u001b[0m\n\u001b[0m\u001b[0;32m   1015\u001b[0m       \u001b[0mbegin\u001b[0m\u001b[1;33m.\u001b[0m\u001b[0mappend\u001b[0m\u001b[1;33m(\u001b[0m\u001b[0ms\u001b[0m\u001b[1;33m)\u001b[0m\u001b[1;33m\u001b[0m\u001b[1;33m\u001b[0m\u001b[0m\n\u001b[0;32m   1016\u001b[0m       \u001b[0mend\u001b[0m\u001b[1;33m.\u001b[0m\u001b[0mappend\u001b[0m\u001b[1;33m(\u001b[0m\u001b[0ms\u001b[0m \u001b[1;33m+\u001b[0m \u001b[1;36m1\u001b[0m\u001b[1;33m)\u001b[0m\u001b[1;33m\u001b[0m\u001b[1;33m\u001b[0m\u001b[0m\n",
      "\u001b[1;32mC:\\ProgramData\\Anaconda3\\envs\\tensorflow_gpu\\lib\\site-packages\\tensorflow\\python\\ops\\array_ops.py\u001b[0m in \u001b[0;36m_check_index\u001b[1;34m(idx)\u001b[0m\n\u001b[0;32m    886\u001b[0m     \u001b[1;31m# TODO(slebedev): IndexError seems more appropriate here, but it\u001b[0m\u001b[1;33m\u001b[0m\u001b[1;33m\u001b[0m\u001b[1;33m\u001b[0m\u001b[0m\n\u001b[0;32m    887\u001b[0m     \u001b[1;31m# will break `_slice_helper` contract.\u001b[0m\u001b[1;33m\u001b[0m\u001b[1;33m\u001b[0m\u001b[1;33m\u001b[0m\u001b[0m\n\u001b[1;32m--> 888\u001b[1;33m     \u001b[1;32mraise\u001b[0m \u001b[0mTypeError\u001b[0m\u001b[1;33m(\u001b[0m\u001b[0m_SLICE_TYPE_ERROR\u001b[0m \u001b[1;33m+\u001b[0m \u001b[1;34m\", got {!r}\"\u001b[0m\u001b[1;33m.\u001b[0m\u001b[0mformat\u001b[0m\u001b[1;33m(\u001b[0m\u001b[0midx\u001b[0m\u001b[1;33m)\u001b[0m\u001b[1;33m)\u001b[0m\u001b[1;33m\u001b[0m\u001b[1;33m\u001b[0m\u001b[0m\n\u001b[0m\u001b[0;32m    889\u001b[0m \u001b[1;33m\u001b[0m\u001b[0m\n\u001b[0;32m    890\u001b[0m \u001b[1;33m\u001b[0m\u001b[0m\n",
      "\u001b[1;31mTypeError\u001b[0m: Only integers, slices (`:`), ellipsis (`...`), tf.newaxis (`None`) and scalar tf.int32/tf.int64 tensors are valid indices, got <tf.Tensor: shape=(4,), dtype=int64, numpy=array([3, 2, 1, 3], dtype=int64)>"
     ]
    }
   ],
   "source": [
    "matrix_54[tf.argmax(matrix_54)]"
   ]
  },
  {
   "cell_type": "code",
   "execution_count": 164,
   "id": "959571d4",
   "metadata": {},
   "outputs": [
    {
     "data": {
      "text/plain": [
       "array([1, 1, 3, 2], dtype=int64)"
      ]
     },
     "execution_count": 164,
     "metadata": {},
     "output_type": "execute_result"
    }
   ],
   "source": [
    "tf.argmin(matrix_54).numpy()"
   ]
  },
  {
   "cell_type": "code",
   "execution_count": 162,
   "id": "70e9b238",
   "metadata": {},
   "outputs": [
    {
     "ename": "TypeError",
     "evalue": "Only integers, slices (`:`), ellipsis (`...`), tf.newaxis (`None`) and scalar tf.int32/tf.int64 tensors are valid indices, got array([1, 1, 3, 2], dtype=int64)",
     "output_type": "error",
     "traceback": [
      "\u001b[1;31m---------------------------------------------------------------------------\u001b[0m",
      "\u001b[1;31mTypeError\u001b[0m                                 Traceback (most recent call last)",
      "\u001b[1;32m<ipython-input-162-b348a1e2e4ab>\u001b[0m in \u001b[0;36m<module>\u001b[1;34m\u001b[0m\n\u001b[1;32m----> 1\u001b[1;33m \u001b[0mmatrix_54\u001b[0m\u001b[1;33m[\u001b[0m\u001b[0mtf\u001b[0m\u001b[1;33m.\u001b[0m\u001b[0margmin\u001b[0m\u001b[1;33m(\u001b[0m\u001b[0mmatrix_54\u001b[0m\u001b[1;33m)\u001b[0m\u001b[1;33m.\u001b[0m\u001b[0mnumpy\u001b[0m\u001b[1;33m(\u001b[0m\u001b[1;33m)\u001b[0m\u001b[1;33m]\u001b[0m\u001b[1;33m\u001b[0m\u001b[1;33m\u001b[0m\u001b[0m\n\u001b[0m",
      "\u001b[1;32mC:\\ProgramData\\Anaconda3\\envs\\tensorflow_gpu\\lib\\site-packages\\tensorflow\\python\\util\\dispatch.py\u001b[0m in \u001b[0;36mwrapper\u001b[1;34m(*args, **kwargs)\u001b[0m\n\u001b[0;32m    204\u001b[0m     \u001b[1;34m\"\"\"Call target, and fall back on dispatchers if there is a TypeError.\"\"\"\u001b[0m\u001b[1;33m\u001b[0m\u001b[1;33m\u001b[0m\u001b[0m\n\u001b[0;32m    205\u001b[0m     \u001b[1;32mtry\u001b[0m\u001b[1;33m:\u001b[0m\u001b[1;33m\u001b[0m\u001b[1;33m\u001b[0m\u001b[0m\n\u001b[1;32m--> 206\u001b[1;33m       \u001b[1;32mreturn\u001b[0m \u001b[0mtarget\u001b[0m\u001b[1;33m(\u001b[0m\u001b[1;33m*\u001b[0m\u001b[0margs\u001b[0m\u001b[1;33m,\u001b[0m \u001b[1;33m**\u001b[0m\u001b[0mkwargs\u001b[0m\u001b[1;33m)\u001b[0m\u001b[1;33m\u001b[0m\u001b[1;33m\u001b[0m\u001b[0m\n\u001b[0m\u001b[0;32m    207\u001b[0m     \u001b[1;32mexcept\u001b[0m \u001b[1;33m(\u001b[0m\u001b[0mTypeError\u001b[0m\u001b[1;33m,\u001b[0m \u001b[0mValueError\u001b[0m\u001b[1;33m)\u001b[0m\u001b[1;33m:\u001b[0m\u001b[1;33m\u001b[0m\u001b[1;33m\u001b[0m\u001b[0m\n\u001b[0;32m    208\u001b[0m       \u001b[1;31m# Note: convert_to_eager_tensor currently raises a ValueError, not a\u001b[0m\u001b[1;33m\u001b[0m\u001b[1;33m\u001b[0m\u001b[1;33m\u001b[0m\u001b[0m\n",
      "\u001b[1;32mC:\\ProgramData\\Anaconda3\\envs\\tensorflow_gpu\\lib\\site-packages\\tensorflow\\python\\ops\\array_ops.py\u001b[0m in \u001b[0;36m_slice_helper\u001b[1;34m(tensor, slice_spec, var)\u001b[0m\n\u001b[0;32m   1012\u001b[0m       \u001b[0mnew_axis_mask\u001b[0m \u001b[1;33m|=\u001b[0m \u001b[1;33m(\u001b[0m\u001b[1;36m1\u001b[0m \u001b[1;33m<<\u001b[0m \u001b[0mindex\u001b[0m\u001b[1;33m)\u001b[0m\u001b[1;33m\u001b[0m\u001b[1;33m\u001b[0m\u001b[0m\n\u001b[0;32m   1013\u001b[0m     \u001b[1;32melse\u001b[0m\u001b[1;33m:\u001b[0m\u001b[1;33m\u001b[0m\u001b[1;33m\u001b[0m\u001b[0m\n\u001b[1;32m-> 1014\u001b[1;33m       \u001b[0m_check_index\u001b[0m\u001b[1;33m(\u001b[0m\u001b[0ms\u001b[0m\u001b[1;33m)\u001b[0m\u001b[1;33m\u001b[0m\u001b[1;33m\u001b[0m\u001b[0m\n\u001b[0m\u001b[0;32m   1015\u001b[0m       \u001b[0mbegin\u001b[0m\u001b[1;33m.\u001b[0m\u001b[0mappend\u001b[0m\u001b[1;33m(\u001b[0m\u001b[0ms\u001b[0m\u001b[1;33m)\u001b[0m\u001b[1;33m\u001b[0m\u001b[1;33m\u001b[0m\u001b[0m\n\u001b[0;32m   1016\u001b[0m       \u001b[0mend\u001b[0m\u001b[1;33m.\u001b[0m\u001b[0mappend\u001b[0m\u001b[1;33m(\u001b[0m\u001b[0ms\u001b[0m \u001b[1;33m+\u001b[0m \u001b[1;36m1\u001b[0m\u001b[1;33m)\u001b[0m\u001b[1;33m\u001b[0m\u001b[1;33m\u001b[0m\u001b[0m\n",
      "\u001b[1;32mC:\\ProgramData\\Anaconda3\\envs\\tensorflow_gpu\\lib\\site-packages\\tensorflow\\python\\ops\\array_ops.py\u001b[0m in \u001b[0;36m_check_index\u001b[1;34m(idx)\u001b[0m\n\u001b[0;32m    886\u001b[0m     \u001b[1;31m# TODO(slebedev): IndexError seems more appropriate here, but it\u001b[0m\u001b[1;33m\u001b[0m\u001b[1;33m\u001b[0m\u001b[1;33m\u001b[0m\u001b[0m\n\u001b[0;32m    887\u001b[0m     \u001b[1;31m# will break `_slice_helper` contract.\u001b[0m\u001b[1;33m\u001b[0m\u001b[1;33m\u001b[0m\u001b[1;33m\u001b[0m\u001b[0m\n\u001b[1;32m--> 888\u001b[1;33m     \u001b[1;32mraise\u001b[0m \u001b[0mTypeError\u001b[0m\u001b[1;33m(\u001b[0m\u001b[0m_SLICE_TYPE_ERROR\u001b[0m \u001b[1;33m+\u001b[0m \u001b[1;34m\", got {!r}\"\u001b[0m\u001b[1;33m.\u001b[0m\u001b[0mformat\u001b[0m\u001b[1;33m(\u001b[0m\u001b[0midx\u001b[0m\u001b[1;33m)\u001b[0m\u001b[1;33m)\u001b[0m\u001b[1;33m\u001b[0m\u001b[1;33m\u001b[0m\u001b[0m\n\u001b[0m\u001b[0;32m    889\u001b[0m \u001b[1;33m\u001b[0m\u001b[0m\n\u001b[0;32m    890\u001b[0m \u001b[1;33m\u001b[0m\u001b[0m\n",
      "\u001b[1;31mTypeError\u001b[0m: Only integers, slices (`:`), ellipsis (`...`), tf.newaxis (`None`) and scalar tf.int32/tf.int64 tensors are valid indices, got array([1, 1, 3, 2], dtype=int64)"
     ]
    }
   ],
   "source": [
    "matrix_54[tf.argmin(matrix_54).numpy()]"
   ]
  },
  {
   "cell_type": "code",
   "execution_count": null,
   "id": "44e6eed6",
   "metadata": {},
   "outputs": [],
   "source": []
  },
  {
   "cell_type": "code",
   "execution_count": 174,
   "id": "267fd192",
   "metadata": {},
   "outputs": [
    {
     "data": {
      "text/plain": [
       "<tf.Tensor: shape=(1, 1, 50, 1, 1, 1), dtype=float32, numpy=\n",
       "array([[[[[[0.71128917]]],\n",
       "\n",
       "\n",
       "         [[[0.77877116]]],\n",
       "\n",
       "\n",
       "         [[[0.36490285]]],\n",
       "\n",
       "\n",
       "         [[[0.9530003 ]]],\n",
       "\n",
       "\n",
       "         [[[0.49915147]]],\n",
       "\n",
       "\n",
       "         [[[0.31188822]]],\n",
       "\n",
       "\n",
       "         [[[0.39449155]]],\n",
       "\n",
       "\n",
       "         [[[0.5906935 ]]],\n",
       "\n",
       "\n",
       "         [[[0.13221145]]],\n",
       "\n",
       "\n",
       "         [[[0.37026978]]],\n",
       "\n",
       "\n",
       "         [[[0.5638151 ]]],\n",
       "\n",
       "\n",
       "         [[[0.9600681 ]]],\n",
       "\n",
       "\n",
       "         [[[0.38443553]]],\n",
       "\n",
       "\n",
       "         [[[0.22657108]]],\n",
       "\n",
       "\n",
       "         [[[0.7337091 ]]],\n",
       "\n",
       "\n",
       "         [[[0.18864179]]],\n",
       "\n",
       "\n",
       "         [[[0.2322309 ]]],\n",
       "\n",
       "\n",
       "         [[[0.52372944]]],\n",
       "\n",
       "\n",
       "         [[[0.5088606 ]]],\n",
       "\n",
       "\n",
       "         [[[0.8803636 ]]],\n",
       "\n",
       "\n",
       "         [[[0.11377084]]],\n",
       "\n",
       "\n",
       "         [[[0.6813196 ]]],\n",
       "\n",
       "\n",
       "         [[[0.54288495]]],\n",
       "\n",
       "\n",
       "         [[[0.04928088]]],\n",
       "\n",
       "\n",
       "         [[[0.68769765]]],\n",
       "\n",
       "\n",
       "         [[[0.31924403]]],\n",
       "\n",
       "\n",
       "         [[[0.47953212]]],\n",
       "\n",
       "\n",
       "         [[[0.22639894]]],\n",
       "\n",
       "\n",
       "         [[[0.34083533]]],\n",
       "\n",
       "\n",
       "         [[[0.36209035]]],\n",
       "\n",
       "\n",
       "         [[[0.96956146]]],\n",
       "\n",
       "\n",
       "         [[[0.6346265 ]]],\n",
       "\n",
       "\n",
       "         [[[0.17654824]]],\n",
       "\n",
       "\n",
       "         [[[0.35434842]]],\n",
       "\n",
       "\n",
       "         [[[0.7780837 ]]],\n",
       "\n",
       "\n",
       "         [[[0.4478408 ]]],\n",
       "\n",
       "\n",
       "         [[[0.43103004]]],\n",
       "\n",
       "\n",
       "         [[[0.73788166]]],\n",
       "\n",
       "\n",
       "         [[[0.37174475]]],\n",
       "\n",
       "\n",
       "         [[[0.71096385]]],\n",
       "\n",
       "\n",
       "         [[[0.91982245]]],\n",
       "\n",
       "\n",
       "         [[[0.8890587 ]]],\n",
       "\n",
       "\n",
       "         [[[0.51341915]]],\n",
       "\n",
       "\n",
       "         [[[0.51375294]]],\n",
       "\n",
       "\n",
       "         [[[0.6079956 ]]],\n",
       "\n",
       "\n",
       "         [[[0.53363097]]],\n",
       "\n",
       "\n",
       "         [[[0.30792522]]],\n",
       "\n",
       "\n",
       "         [[[0.72625375]]],\n",
       "\n",
       "\n",
       "         [[[0.4965216 ]]],\n",
       "\n",
       "\n",
       "         [[[0.9710821 ]]]]]], dtype=float32)>"
      ]
     },
     "execution_count": 174,
     "metadata": {},
     "output_type": "execute_result"
    }
   ],
   "source": [
    "matrix_squez = tf.constant(\n",
    "    tf.random.uniform(shape=[50]), shape=(1, 1, 50, 1, 1, 1)\n",
    ")\n",
    "matrix_squez"
   ]
  },
  {
   "cell_type": "code",
   "execution_count": 175,
   "id": "50f5d929",
   "metadata": {},
   "outputs": [
    {
     "data": {
      "text/plain": [
       "6"
      ]
     },
     "execution_count": 175,
     "metadata": {},
     "output_type": "execute_result"
    }
   ],
   "source": [
    "matrix_squez.ndim"
   ]
  },
  {
   "cell_type": "code",
   "execution_count": 176,
   "id": "9fa08521",
   "metadata": {},
   "outputs": [
    {
     "data": {
      "text/plain": [
       "<tf.Tensor: shape=(50,), dtype=float32, numpy=\n",
       "array([0.71128917, 0.77877116, 0.36490285, 0.9530003 , 0.49915147,\n",
       "       0.31188822, 0.39449155, 0.5906935 , 0.13221145, 0.37026978,\n",
       "       0.5638151 , 0.9600681 , 0.38443553, 0.22657108, 0.7337091 ,\n",
       "       0.18864179, 0.2322309 , 0.52372944, 0.5088606 , 0.8803636 ,\n",
       "       0.11377084, 0.6813196 , 0.54288495, 0.04928088, 0.68769765,\n",
       "       0.31924403, 0.47953212, 0.22639894, 0.34083533, 0.36209035,\n",
       "       0.96956146, 0.6346265 , 0.17654824, 0.35434842, 0.7780837 ,\n",
       "       0.4478408 , 0.43103004, 0.73788166, 0.37174475, 0.71096385,\n",
       "       0.91982245, 0.8890587 , 0.51341915, 0.51375294, 0.6079956 ,\n",
       "       0.53363097, 0.30792522, 0.72625375, 0.4965216 , 0.9710821 ],\n",
       "      dtype=float32)>"
      ]
     },
     "execution_count": 176,
     "metadata": {},
     "output_type": "execute_result"
    }
   ],
   "source": [
    "tf.squeeze(matrix_squez)"
   ]
  },
  {
   "cell_type": "code",
   "execution_count": 177,
   "id": "cb022951",
   "metadata": {},
   "outputs": [
    {
     "data": {
      "text/plain": [
       "1"
      ]
     },
     "execution_count": 177,
     "metadata": {},
     "output_type": "execute_result"
    }
   ],
   "source": [
    "tf.squeeze(matrix_squez).ndim"
   ]
  },
  {
   "cell_type": "code",
   "execution_count": 178,
   "id": "faa0aebd",
   "metadata": {},
   "outputs": [
    {
     "data": {
      "text/plain": [
       "<tf.Tensor: shape=(1, 50, 1, 1, 1), dtype=float32, numpy=\n",
       "array([[[[[0.71128917]]],\n",
       "\n",
       "\n",
       "        [[[0.77877116]]],\n",
       "\n",
       "\n",
       "        [[[0.36490285]]],\n",
       "\n",
       "\n",
       "        [[[0.9530003 ]]],\n",
       "\n",
       "\n",
       "        [[[0.49915147]]],\n",
       "\n",
       "\n",
       "        [[[0.31188822]]],\n",
       "\n",
       "\n",
       "        [[[0.39449155]]],\n",
       "\n",
       "\n",
       "        [[[0.5906935 ]]],\n",
       "\n",
       "\n",
       "        [[[0.13221145]]],\n",
       "\n",
       "\n",
       "        [[[0.37026978]]],\n",
       "\n",
       "\n",
       "        [[[0.5638151 ]]],\n",
       "\n",
       "\n",
       "        [[[0.9600681 ]]],\n",
       "\n",
       "\n",
       "        [[[0.38443553]]],\n",
       "\n",
       "\n",
       "        [[[0.22657108]]],\n",
       "\n",
       "\n",
       "        [[[0.7337091 ]]],\n",
       "\n",
       "\n",
       "        [[[0.18864179]]],\n",
       "\n",
       "\n",
       "        [[[0.2322309 ]]],\n",
       "\n",
       "\n",
       "        [[[0.52372944]]],\n",
       "\n",
       "\n",
       "        [[[0.5088606 ]]],\n",
       "\n",
       "\n",
       "        [[[0.8803636 ]]],\n",
       "\n",
       "\n",
       "        [[[0.11377084]]],\n",
       "\n",
       "\n",
       "        [[[0.6813196 ]]],\n",
       "\n",
       "\n",
       "        [[[0.54288495]]],\n",
       "\n",
       "\n",
       "        [[[0.04928088]]],\n",
       "\n",
       "\n",
       "        [[[0.68769765]]],\n",
       "\n",
       "\n",
       "        [[[0.31924403]]],\n",
       "\n",
       "\n",
       "        [[[0.47953212]]],\n",
       "\n",
       "\n",
       "        [[[0.22639894]]],\n",
       "\n",
       "\n",
       "        [[[0.34083533]]],\n",
       "\n",
       "\n",
       "        [[[0.36209035]]],\n",
       "\n",
       "\n",
       "        [[[0.96956146]]],\n",
       "\n",
       "\n",
       "        [[[0.6346265 ]]],\n",
       "\n",
       "\n",
       "        [[[0.17654824]]],\n",
       "\n",
       "\n",
       "        [[[0.35434842]]],\n",
       "\n",
       "\n",
       "        [[[0.7780837 ]]],\n",
       "\n",
       "\n",
       "        [[[0.4478408 ]]],\n",
       "\n",
       "\n",
       "        [[[0.43103004]]],\n",
       "\n",
       "\n",
       "        [[[0.73788166]]],\n",
       "\n",
       "\n",
       "        [[[0.37174475]]],\n",
       "\n",
       "\n",
       "        [[[0.71096385]]],\n",
       "\n",
       "\n",
       "        [[[0.91982245]]],\n",
       "\n",
       "\n",
       "        [[[0.8890587 ]]],\n",
       "\n",
       "\n",
       "        [[[0.51341915]]],\n",
       "\n",
       "\n",
       "        [[[0.51375294]]],\n",
       "\n",
       "\n",
       "        [[[0.6079956 ]]],\n",
       "\n",
       "\n",
       "        [[[0.53363097]]],\n",
       "\n",
       "\n",
       "        [[[0.30792522]]],\n",
       "\n",
       "\n",
       "        [[[0.72625375]]],\n",
       "\n",
       "\n",
       "        [[[0.4965216 ]]],\n",
       "\n",
       "\n",
       "        [[[0.9710821 ]]]]], dtype=float32)>"
      ]
     },
     "execution_count": 178,
     "metadata": {},
     "output_type": "execute_result"
    }
   ],
   "source": [
    "tf.squeeze(matrix_squez, axis=0)"
   ]
  },
  {
   "cell_type": "code",
   "execution_count": 180,
   "id": "1fa47d11",
   "metadata": {},
   "outputs": [
    {
     "data": {
      "text/plain": [
       "<tf.Tensor: shape=(1, 1, 50, 1, 1), dtype=float32, numpy=\n",
       "array([[[[[0.71128917]],\n",
       "\n",
       "         [[0.77877116]],\n",
       "\n",
       "         [[0.36490285]],\n",
       "\n",
       "         [[0.9530003 ]],\n",
       "\n",
       "         [[0.49915147]],\n",
       "\n",
       "         [[0.31188822]],\n",
       "\n",
       "         [[0.39449155]],\n",
       "\n",
       "         [[0.5906935 ]],\n",
       "\n",
       "         [[0.13221145]],\n",
       "\n",
       "         [[0.37026978]],\n",
       "\n",
       "         [[0.5638151 ]],\n",
       "\n",
       "         [[0.9600681 ]],\n",
       "\n",
       "         [[0.38443553]],\n",
       "\n",
       "         [[0.22657108]],\n",
       "\n",
       "         [[0.7337091 ]],\n",
       "\n",
       "         [[0.18864179]],\n",
       "\n",
       "         [[0.2322309 ]],\n",
       "\n",
       "         [[0.52372944]],\n",
       "\n",
       "         [[0.5088606 ]],\n",
       "\n",
       "         [[0.8803636 ]],\n",
       "\n",
       "         [[0.11377084]],\n",
       "\n",
       "         [[0.6813196 ]],\n",
       "\n",
       "         [[0.54288495]],\n",
       "\n",
       "         [[0.04928088]],\n",
       "\n",
       "         [[0.68769765]],\n",
       "\n",
       "         [[0.31924403]],\n",
       "\n",
       "         [[0.47953212]],\n",
       "\n",
       "         [[0.22639894]],\n",
       "\n",
       "         [[0.34083533]],\n",
       "\n",
       "         [[0.36209035]],\n",
       "\n",
       "         [[0.96956146]],\n",
       "\n",
       "         [[0.6346265 ]],\n",
       "\n",
       "         [[0.17654824]],\n",
       "\n",
       "         [[0.35434842]],\n",
       "\n",
       "         [[0.7780837 ]],\n",
       "\n",
       "         [[0.4478408 ]],\n",
       "\n",
       "         [[0.43103004]],\n",
       "\n",
       "         [[0.73788166]],\n",
       "\n",
       "         [[0.37174475]],\n",
       "\n",
       "         [[0.71096385]],\n",
       "\n",
       "         [[0.91982245]],\n",
       "\n",
       "         [[0.8890587 ]],\n",
       "\n",
       "         [[0.51341915]],\n",
       "\n",
       "         [[0.51375294]],\n",
       "\n",
       "         [[0.6079956 ]],\n",
       "\n",
       "         [[0.53363097]],\n",
       "\n",
       "         [[0.30792522]],\n",
       "\n",
       "         [[0.72625375]],\n",
       "\n",
       "         [[0.4965216 ]],\n",
       "\n",
       "         [[0.9710821 ]]]]], dtype=float32)>"
      ]
     },
     "execution_count": 180,
     "metadata": {},
     "output_type": "execute_result"
    }
   ],
   "source": [
    "tf.squeeze(matrix_squez, axis=3)"
   ]
  },
  {
   "cell_type": "code",
   "execution_count": 184,
   "id": "9469d890",
   "metadata": {},
   "outputs": [
    {
     "data": {
      "text/plain": [
       "<tf.Tensor: shape=(1, 1, 50), dtype=float32, numpy=\n",
       "array([[[0.71128917, 0.77877116, 0.36490285, 0.9530003 , 0.49915147,\n",
       "         0.31188822, 0.39449155, 0.5906935 , 0.13221145, 0.37026978,\n",
       "         0.5638151 , 0.9600681 , 0.38443553, 0.22657108, 0.7337091 ,\n",
       "         0.18864179, 0.2322309 , 0.52372944, 0.5088606 , 0.8803636 ,\n",
       "         0.11377084, 0.6813196 , 0.54288495, 0.04928088, 0.68769765,\n",
       "         0.31924403, 0.47953212, 0.22639894, 0.34083533, 0.36209035,\n",
       "         0.96956146, 0.6346265 , 0.17654824, 0.35434842, 0.7780837 ,\n",
       "         0.4478408 , 0.43103004, 0.73788166, 0.37174475, 0.71096385,\n",
       "         0.91982245, 0.8890587 , 0.51341915, 0.51375294, 0.6079956 ,\n",
       "         0.53363097, 0.30792522, 0.72625375, 0.4965216 , 0.9710821 ]]],\n",
       "      dtype=float32)>"
      ]
     },
     "execution_count": 184,
     "metadata": {},
     "output_type": "execute_result"
    }
   ],
   "source": [
    "tf.squeeze(matrix_squez, axis=[3,4, 5])"
   ]
  },
  {
   "cell_type": "markdown",
   "id": "198fba26",
   "metadata": {},
   "source": [
    "##### One-hot encoding"
   ]
  },
  {
   "cell_type": "code",
   "execution_count": 185,
   "id": "3a9c1a92",
   "metadata": {},
   "outputs": [
    {
     "data": {
      "text/plain": [
       "<tf.Tensor: shape=(4, 4), dtype=float32, numpy=\n",
       "array([[1., 0., 0., 0.],\n",
       "       [0., 1., 0., 0.],\n",
       "       [0., 0., 1., 0.],\n",
       "       [0., 0., 0., 1.]], dtype=float32)>"
      ]
     },
     "execution_count": 185,
     "metadata": {},
     "output_type": "execute_result"
    }
   ],
   "source": [
    "color_list = [0, 1, 2, 3] # Colors red, green, blue, yellow\n",
    "tf.one_hot(color_list, depth=4)"
   ]
  },
  {
   "cell_type": "code",
   "execution_count": 186,
   "id": "6bc656b2",
   "metadata": {},
   "outputs": [
    {
     "data": {
      "text/plain": [
       "<tf.Tensor: shape=(4, 4), dtype=string, numpy=\n",
       "array([[b'Y', b'N', b'N', b'N'],\n",
       "       [b'N', b'Y', b'N', b'N'],\n",
       "       [b'N', b'N', b'Y', b'N'],\n",
       "       [b'N', b'N', b'N', b'Y']], dtype=object)>"
      ]
     },
     "execution_count": 186,
     "metadata": {},
     "output_type": "execute_result"
    }
   ],
   "source": [
    "tf.one_hot(color_list, depth=4, on_value='Y', off_value='N')"
   ]
  },
  {
   "cell_type": "markdown",
   "id": "3ac8dc62",
   "metadata": {},
   "source": [
    "##### Math Operations"
   ]
  },
  {
   "cell_type": "code",
   "execution_count": 187,
   "id": "8712244f",
   "metadata": {},
   "outputs": [
    {
     "data": {
      "text/plain": [
       "<tf.Tensor: shape=(9,), dtype=int32, numpy=array([1, 2, 3, 4, 5, 6, 7, 8, 9])>"
      ]
     },
     "execution_count": 187,
     "metadata": {},
     "output_type": "execute_result"
    }
   ],
   "source": [
    "my_list = tf.range(1, 10)\n",
    "my_list"
   ]
  },
  {
   "cell_type": "code",
   "execution_count": 188,
   "id": "09d617f9",
   "metadata": {},
   "outputs": [
    {
     "data": {
      "text/plain": [
       "<tf.Tensor: shape=(9,), dtype=int32, numpy=array([ 1,  4,  9, 16, 25, 36, 49, 64, 81])>"
      ]
     },
     "execution_count": 188,
     "metadata": {},
     "output_type": "execute_result"
    }
   ],
   "source": [
    "tf.square(my_list)"
   ]
  },
  {
   "cell_type": "code",
   "execution_count": 191,
   "id": "27b88ef1",
   "metadata": {},
   "outputs": [
    {
     "data": {
      "text/plain": [
       "<tf.Tensor: shape=(9,), dtype=float32, numpy=\n",
       "array([1.       , 1.4142135, 1.7320508, 2.       , 2.2360678, 2.4494896,\n",
       "       2.6457512, 2.828427 , 3.       ], dtype=float32)>"
      ]
     },
     "execution_count": 191,
     "metadata": {},
     "output_type": "execute_result"
    }
   ],
   "source": [
    "tf.sqrt(tf.cast(my_list, dtype=tf.float32 ))"
   ]
  },
  {
   "cell_type": "code",
   "execution_count": 192,
   "id": "dd1f7d75",
   "metadata": {},
   "outputs": [
    {
     "data": {
      "text/plain": [
       "array([1, 2, 3, 4])"
      ]
     },
     "execution_count": 192,
     "metadata": {},
     "output_type": "execute_result"
    }
   ],
   "source": [
    "tf.constant(np.arange(1, 5)).numpy()"
   ]
  },
  {
   "cell_type": "code",
   "execution_count": 194,
   "id": "759ef936",
   "metadata": {},
   "outputs": [
    {
     "name": "stdout",
     "output_type": "stream",
     "text": [
      "Tue Dec 28 18:42:55 2021       \n",
      "+-----------------------------------------------------------------------------+\n",
      "| NVIDIA-SMI 471.35       Driver Version: 471.35       CUDA Version: 11.4     |\n",
      "|-------------------------------+----------------------+----------------------+\n",
      "| GPU  Name            TCC/WDDM | Bus-Id        Disp.A | Volatile Uncorr. ECC |\n",
      "| Fan  Temp  Perf  Pwr:Usage/Cap|         Memory-Usage | GPU-Util  Compute M. |\n",
      "|                               |                      |               MIG M. |\n",
      "|===============================+======================+======================|\n",
      "|   0  NVIDIA GeForce ... WDDM  | 00000000:01:00.0  On |                  N/A |\n",
      "| N/A   54C    P0    22W /  N/A |   4856MiB /  6144MiB |      0%      Default |\n",
      "|                               |                      |                  N/A |\n",
      "+-------------------------------+----------------------+----------------------+\n",
      "                                                                               \n",
      "+-----------------------------------------------------------------------------+\n",
      "| Processes:                                                                  |\n",
      "|  GPU   GI   CI        PID   Type   Process name                  GPU Memory |\n",
      "|        ID   ID                                                   Usage      |\n",
      "|=============================================================================|\n",
      "|    0   N/A  N/A     11712    C+G   ...4__8j3eq9eme6ctt\\IGCC.exe    N/A      |\n",
      "|    0   N/A  N/A     12456    C+G   ...054.62\\msedgewebview2.exe    N/A      |\n",
      "|    0   N/A  N/A     13636    C+G   ...bbwe\\Microsoft.Photos.exe    N/A      |\n",
      "|    0   N/A  N/A     19324    C+G   ...ekyb3d8bbwe\\onenoteim.exe    N/A      |\n",
      "|    0   N/A  N/A     19340    C+G   ...perience\\NVIDIA Share.exe    N/A      |\n",
      "|    0   N/A  N/A     23060    C+G   ...ekyb3d8bbwe\\YourPhone.exe    N/A      |\n",
      "|    0   N/A  N/A     25764    C+G   ...ge\\Application\\msedge.exe    N/A      |\n",
      "|    0   N/A  N/A     25816    C+G   ...n1h2txyewy\\SearchHost.exe    N/A      |\n",
      "|    0   N/A  N/A     27288    C+G   ...4__htrsf667h5kn2\\AWCC.exe    N/A      |\n",
      "|    0   N/A  N/A     31412    C+G   ...cw5n1h2txyewy\\LockApp.exe    N/A      |\n",
      "|    0   N/A  N/A     32660    C+G   ...artMenuExperienceHost.exe    N/A      |\n",
      "|    0   N/A  N/A     32904    C+G   ...054.62\\msedgewebview2.exe    N/A      |\n",
      "|    0   N/A  N/A     34400      C   ...tensorflow_gpu\\python.exe    N/A      |\n",
      "|    0   N/A  N/A     35424    C+G   ...8wekyb3d8bbwe\\Cortana.exe    N/A      |\n",
      "|    0   N/A  N/A     36116    C+G   Insufficient Permissions        N/A      |\n",
      "|    0   N/A  N/A     39484    C+G   ...lPanel\\SystemSettings.exe    N/A      |\n",
      "|    0   N/A  N/A     40752    C+G   ...kzcwy\\mcafee-security.exe    N/A      |\n",
      "|    0   N/A  N/A     41448    C+G   C:\\Windows\\explorer.exe         N/A      |\n",
      "|    0   N/A  N/A     41628    C+G   ...wekyb3d8bbwe\\Video.UI.exe    N/A      |\n",
      "|    0   N/A  N/A     42436    C+G   ...pp\\Free Snipping Tool.exe    N/A      |\n",
      "+-----------------------------------------------------------------------------+\n"
     ]
    }
   ],
   "source": [
    "!nvidia-smi"
   ]
  },
  {
   "cell_type": "code",
   "execution_count": null,
   "id": "579cf513",
   "metadata": {},
   "outputs": [],
   "source": []
  },
  {
   "cell_type": "markdown",
   "id": "c393f0ba",
   "metadata": {},
   "source": [
    "### Basic Regression"
   ]
  },
  {
   "cell_type": "code",
   "execution_count": 25,
   "id": "1961a32c",
   "metadata": {},
   "outputs": [],
   "source": [
    "import numpy as np\n",
    "import pandas as pd\n",
    "import matplotlib.pyplot as plt\n",
    "import seaborn as sns"
   ]
  },
  {
   "cell_type": "code",
   "execution_count": 4,
   "id": "9f393842",
   "metadata": {},
   "outputs": [
    {
     "data": {
      "text/html": [
       "<div>\n",
       "<style scoped>\n",
       "    .dataframe tbody tr th:only-of-type {\n",
       "        vertical-align: middle;\n",
       "    }\n",
       "\n",
       "    .dataframe tbody tr th {\n",
       "        vertical-align: top;\n",
       "    }\n",
       "\n",
       "    .dataframe thead th {\n",
       "        text-align: right;\n",
       "    }\n",
       "</style>\n",
       "<table border=\"1\" class=\"dataframe\">\n",
       "  <thead>\n",
       "    <tr style=\"text-align: right;\">\n",
       "      <th></th>\n",
       "      <th>price</th>\n",
       "      <th>feature1</th>\n",
       "      <th>feature2</th>\n",
       "    </tr>\n",
       "  </thead>\n",
       "  <tbody>\n",
       "    <tr>\n",
       "      <th>0</th>\n",
       "      <td>461.527929</td>\n",
       "      <td>999.787558</td>\n",
       "      <td>999.766096</td>\n",
       "    </tr>\n",
       "    <tr>\n",
       "      <th>1</th>\n",
       "      <td>548.130011</td>\n",
       "      <td>998.861615</td>\n",
       "      <td>1001.042403</td>\n",
       "    </tr>\n",
       "    <tr>\n",
       "      <th>2</th>\n",
       "      <td>410.297162</td>\n",
       "      <td>1000.070267</td>\n",
       "      <td>998.844015</td>\n",
       "    </tr>\n",
       "    <tr>\n",
       "      <th>3</th>\n",
       "      <td>540.382220</td>\n",
       "      <td>999.952251</td>\n",
       "      <td>1000.440940</td>\n",
       "    </tr>\n",
       "    <tr>\n",
       "      <th>4</th>\n",
       "      <td>546.024553</td>\n",
       "      <td>1000.446011</td>\n",
       "      <td>1000.338531</td>\n",
       "    </tr>\n",
       "    <tr>\n",
       "      <th>...</th>\n",
       "      <td>...</td>\n",
       "      <td>...</td>\n",
       "      <td>...</td>\n",
       "    </tr>\n",
       "    <tr>\n",
       "      <th>995</th>\n",
       "      <td>476.526078</td>\n",
       "      <td>1000.018988</td>\n",
       "      <td>999.672732</td>\n",
       "    </tr>\n",
       "    <tr>\n",
       "      <th>996</th>\n",
       "      <td>457.313186</td>\n",
       "      <td>998.855379</td>\n",
       "      <td>1000.020026</td>\n",
       "    </tr>\n",
       "    <tr>\n",
       "      <th>997</th>\n",
       "      <td>456.720992</td>\n",
       "      <td>1001.451646</td>\n",
       "      <td>998.847606</td>\n",
       "    </tr>\n",
       "    <tr>\n",
       "      <th>998</th>\n",
       "      <td>403.315576</td>\n",
       "      <td>1000.771023</td>\n",
       "      <td>998.562851</td>\n",
       "    </tr>\n",
       "    <tr>\n",
       "      <th>999</th>\n",
       "      <td>599.367093</td>\n",
       "      <td>999.232244</td>\n",
       "      <td>1001.451407</td>\n",
       "    </tr>\n",
       "  </tbody>\n",
       "</table>\n",
       "<p>1000 rows × 3 columns</p>\n",
       "</div>"
      ],
      "text/plain": [
       "          price     feature1     feature2\n",
       "0    461.527929   999.787558   999.766096\n",
       "1    548.130011   998.861615  1001.042403\n",
       "2    410.297162  1000.070267   998.844015\n",
       "3    540.382220   999.952251  1000.440940\n",
       "4    546.024553  1000.446011  1000.338531\n",
       "..          ...          ...          ...\n",
       "995  476.526078  1000.018988   999.672732\n",
       "996  457.313186   998.855379  1000.020026\n",
       "997  456.720992  1001.451646   998.847606\n",
       "998  403.315576  1000.771023   998.562851\n",
       "999  599.367093   999.232244  1001.451407\n",
       "\n",
       "[1000 rows x 3 columns]"
      ]
     },
     "execution_count": 4,
     "metadata": {},
     "output_type": "execute_result"
    }
   ],
   "source": [
    "df_fakereg = pd.read_csv('data/fake_reg.csv')\n",
    "df_fakereg"
   ]
  },
  {
   "cell_type": "code",
   "execution_count": 5,
   "id": "25e4a4cb",
   "metadata": {},
   "outputs": [
    {
     "data": {
      "text/plain": [
       "<seaborn.axisgrid.PairGrid at 0x1ee293b7b20>"
      ]
     },
     "execution_count": 5,
     "metadata": {},
     "output_type": "execute_result"
    },
    {
     "data": {
      "image/png": "[encoded data removed]",
      "text/plain": [
       "<Figure size 540x540 with 12 Axes>"
      ]
     },
     "metadata": {
      "needs_background": "light"
     },
     "output_type": "display_data"
    }
   ],
   "source": [
    "sns.pairplot(df_fakereg)"
   ]
  },
  {
   "cell_type": "code",
   "execution_count": 6,
   "id": "b180c784",
   "metadata": {},
   "outputs": [],
   "source": [
    "from sklearn.model_selection import train_test_split"
   ]
  },
  {
   "cell_type": "code",
   "execution_count": 7,
   "id": "d1becd44",
   "metadata": {},
   "outputs": [],
   "source": [
    "X = df_fakereg[['feature1', 'feature1']]\n",
    "y = df_fakereg['price']"
   ]
  },
  {
   "cell_type": "code",
   "execution_count": 8,
   "id": "c223262a",
   "metadata": {},
   "outputs": [
    {
     "data": {
      "text/plain": [
       "((700, 2), (300, 2))"
      ]
     },
     "execution_count": 8,
     "metadata": {},
     "output_type": "execute_result"
    }
   ],
   "source": [
    "X_train, X_test, y_train, y_test = train_test_split(X, y, test_size=0.3)\n",
    "X_train.shape, X_test.shape"
   ]
  },
  {
   "cell_type": "code",
   "execution_count": 9,
   "id": "3a9a4236",
   "metadata": {},
   "outputs": [],
   "source": [
    "from sklearn.preprocessing import MinMaxScaler"
   ]
  },
  {
   "cell_type": "code",
   "execution_count": 10,
   "id": "ee96e260",
   "metadata": {},
   "outputs": [],
   "source": [
    "mmscaler = MinMaxScaler(feature_range=(0, 1))"
   ]
  },
  {
   "cell_type": "code",
   "execution_count": 11,
   "id": "9a76eb3a",
   "metadata": {},
   "outputs": [
    {
     "data": {
      "text/plain": [
       "MinMaxScaler()"
      ]
     },
     "execution_count": 11,
     "metadata": {},
     "output_type": "execute_result"
    }
   ],
   "source": [
    "mmscaler.fit(X_train)"
   ]
  },
  {
   "cell_type": "code",
   "execution_count": 12,
   "id": "1c8614df",
   "metadata": {},
   "outputs": [],
   "source": [
    "X_train_sc = mmscaler.transform(X_train)\n",
    "X_test_sc = mmscaler.transform(X_test)"
   ]
  },
  {
   "cell_type": "code",
   "execution_count": 15,
   "id": "23381291",
   "metadata": {},
   "outputs": [],
   "source": [
    "import tensorflow as tf\n",
    "from tensorflow.keras.models import Model\n",
    "from tensorflow.keras.layers import Dense, Input"
   ]
  },
  {
   "cell_type": "code",
   "execution_count": 55,
   "id": "7cd7bdd5",
   "metadata": {},
   "outputs": [],
   "source": [
    "i = Input(shape=(2,))\n",
    "\n",
    "h0 = Dense(4, activation=tf.nn.relu)(i)\n",
    "h0 = Dense(4, activation=tf.nn.relu)(h0)\n",
    "h0 = Dense(4, activation=tf.nn.relu)(h0)\n",
    "\n",
    "y = Dense(1)(h0)\n",
    "\n",
    "mod_basic_reg = Model(inputs=i, outputs=y)"
   ]
  },
  {
   "cell_type": "code",
   "execution_count": 56,
   "id": "468d1f57",
   "metadata": {},
   "outputs": [],
   "source": [
    "mod_basic_reg.compile(optimizer='rmsprop', loss='mse')"
   ]
  },
  {
   "cell_type": "code",
   "execution_count": 57,
   "id": "68ac703c",
   "metadata": {},
   "outputs": [
    {
     "name": "stdout",
     "output_type": "stream",
     "text": [
      "Epoch 1/250\n",
      "22/22 [==============================] - 0s 3ms/step - loss: 261366.5312\n",
      "Epoch 2/250\n",
      "22/22 [==============================] - 0s 2ms/step - loss: 261238.1875\n",
      "Epoch 3/250\n",
      "22/22 [==============================] - 0s 2ms/step - loss: 261157.5469\n",
      "Epoch 4/250\n",
      "22/22 [==============================] - 0s 2ms/step - loss: 261080.5312\n",
      "Epoch 5/250\n",
      "22/22 [==============================] - 0s 2ms/step - loss: 260990.4062\n",
      "Epoch 6/250\n",
      "22/22 [==============================] - 0s 2ms/step - loss: 260887.1562\n",
      "Epoch 7/250\n",
      "22/22 [==============================] - 0s 2ms/step - loss: 260770.7656\n",
      "Epoch 8/250\n",
      "22/22 [==============================] - 0s 2ms/step - loss: 260640.4062\n",
      "Epoch 9/250\n",
      "22/22 [==============================] - 0s 3ms/step - loss: 260496.6094\n",
      "Epoch 10/250\n",
      "22/22 [==============================] - 0s 3ms/step - loss: 260338.3594\n",
      "Epoch 11/250\n",
      "22/22 [==============================] - 0s 3ms/step - loss: 260166.0625\n",
      "Epoch 12/250\n",
      "22/22 [==============================] - 0s 3ms/step - loss: 259978.0625\n",
      "Epoch 13/250\n",
      "22/22 [==============================] - 0s 3ms/step - loss: 259774.9062\n",
      "Epoch 14/250\n",
      "22/22 [==============================] - 0s 3ms/step - loss: 259559.0000\n",
      "Epoch 15/250\n",
      "22/22 [==============================] - 0s 3ms/step - loss: 259327.5000\n",
      "Epoch 16/250\n",
      "22/22 [==============================] - 0s 3ms/step - loss: 259081.4844\n",
      "Epoch 17/250\n",
      "22/22 [==============================] - 0s 3ms/step - loss: 258818.3594: 0s - loss: 258911.17\n",
      "Epoch 18/250\n",
      "22/22 [==============================] - 0s 2ms/step - loss: 258536.0000\n",
      "Epoch 19/250\n",
      "22/22 [==============================] - 0s 3ms/step - loss: 258232.9844\n",
      "Epoch 20/250\n",
      "22/22 [==============================] - 0s 2ms/step - loss: 257909.8750\n",
      "Epoch 21/250\n",
      "22/22 [==============================] - 0s 3ms/step - loss: 257564.6875\n",
      "Epoch 22/250\n",
      "22/22 [==============================] - 0s 3ms/step - loss: 257193.8438\n",
      "Epoch 23/250\n",
      "22/22 [==============================] - 0s 3ms/step - loss: 256801.5469\n",
      "Epoch 24/250\n",
      "22/22 [==============================] - 0s 3ms/step - loss: 256380.7344\n",
      "Epoch 25/250\n",
      "22/22 [==============================] - 0s 3ms/step - loss: 255933.6250\n",
      "Epoch 26/250\n",
      "22/22 [==============================] - 0s 3ms/step - loss: 255461.4219\n",
      "Epoch 27/250\n",
      "22/22 [==============================] - 0s 3ms/step - loss: 254959.8125\n",
      "Epoch 28/250\n",
      "22/22 [==============================] - 0s 3ms/step - loss: 254429.6250\n",
      "Epoch 29/250\n",
      "22/22 [==============================] - 0s 3ms/step - loss: 253864.6562\n",
      "Epoch 30/250\n",
      "22/22 [==============================] - 0s 3ms/step - loss: 253271.8594\n",
      "Epoch 31/250\n",
      "22/22 [==============================] - 0s 3ms/step - loss: 252643.5000\n",
      "Epoch 32/250\n",
      "22/22 [==============================] - 0s 2ms/step - loss: 251979.8906\n",
      "Epoch 33/250\n",
      "22/22 [==============================] - 0s 3ms/step - loss: 251283.6094\n",
      "Epoch 34/250\n",
      "22/22 [==============================] - 0s 3ms/step - loss: 250548.9219\n",
      "Epoch 35/250\n",
      "22/22 [==============================] - 0s 2ms/step - loss: 249774.4062\n",
      "Epoch 36/250\n",
      "22/22 [==============================] - 0s 2ms/step - loss: 248958.5781\n",
      "Epoch 37/250\n",
      "22/22 [==============================] - 0s 2ms/step - loss: 248112.7812\n",
      "Epoch 38/250\n",
      "22/22 [==============================] - 0s 2ms/step - loss: 247214.4688\n",
      "Epoch 39/250\n",
      "22/22 [==============================] - 0s 2ms/step - loss: 246280.8281\n",
      "Epoch 40/250\n",
      "22/22 [==============================] - 0s 2ms/step - loss: 245305.3750\n",
      "Epoch 41/250\n",
      "22/22 [==============================] - 0s 2ms/step - loss: 244277.8125\n",
      "Epoch 42/250\n",
      "22/22 [==============================] - 0s 2ms/step - loss: 243205.0312\n",
      "Epoch 43/250\n",
      "22/22 [==============================] - 0s 3ms/step - loss: 242085.3281\n",
      "Epoch 44/250\n",
      "22/22 [==============================] - 0s 2ms/step - loss: 240917.0938\n",
      "Epoch 45/250\n",
      "22/22 [==============================] - 0s 2ms/step - loss: 239700.6562\n",
      "Epoch 46/250\n",
      "22/22 [==============================] - 0s 2ms/step - loss: 238427.9531\n",
      "Epoch 47/250\n",
      "22/22 [==============================] - 0s 2ms/step - loss: 237110.0781\n",
      "Epoch 48/250\n",
      "22/22 [==============================] - 0s 2ms/step - loss: 235742.7188\n",
      "Epoch 49/250\n",
      "22/22 [==============================] - 0s 2ms/step - loss: 234309.6719\n",
      "Epoch 50/250\n",
      "22/22 [==============================] - 0s 2ms/step - loss: 232825.1719\n",
      "Epoch 51/250\n",
      "22/22 [==============================] - 0s 2ms/step - loss: 231286.3594\n",
      "Epoch 52/250\n",
      "22/22 [==============================] - 0s 2ms/step - loss: 229689.3750\n",
      "Epoch 53/250\n",
      "22/22 [==============================] - 0s 2ms/step - loss: 228033.3906\n",
      "Epoch 54/250\n",
      "22/22 [==============================] - 0s 2ms/step - loss: 226326.5312\n",
      "Epoch 55/250\n",
      "22/22 [==============================] - 0s 2ms/step - loss: 224553.2188\n",
      "Epoch 56/250\n",
      "22/22 [==============================] - 0s 2ms/step - loss: 222715.0000\n",
      "Epoch 57/250\n",
      "22/22 [==============================] - 0s 2ms/step - loss: 220812.9844\n",
      "Epoch 58/250\n",
      "22/22 [==============================] - 0s 2ms/step - loss: 218858.5312\n",
      "Epoch 59/250\n",
      "22/22 [==============================] - 0s 2ms/step - loss: 216827.0469\n",
      "Epoch 60/250\n",
      "22/22 [==============================] - 0s 2ms/step - loss: 214740.1875\n",
      "Epoch 61/250\n",
      "22/22 [==============================] - 0s 2ms/step - loss: 212591.5469\n",
      "Epoch 62/250\n",
      "22/22 [==============================] - 0s 2ms/step - loss: 210381.6406\n",
      "Epoch 63/250\n",
      "22/22 [==============================] - 0s 2ms/step - loss: 208103.3906\n",
      "Epoch 64/250\n",
      "22/22 [==============================] - 0s 2ms/step - loss: 205752.5781\n",
      "Epoch 65/250\n",
      "22/22 [==============================] - 0s 2ms/step - loss: 203336.0625\n",
      "Epoch 66/250\n",
      "22/22 [==============================] - 0s 3ms/step - loss: 200839.4062\n",
      "Epoch 67/250\n",
      "22/22 [==============================] - 0s 3ms/step - loss: 198289.4844\n",
      "Epoch 68/250\n",
      "22/22 [==============================] - 0s 3ms/step - loss: 195667.4688\n",
      "Epoch 69/250\n",
      "22/22 [==============================] - 0s 2ms/step - loss: 192984.1562\n",
      "Epoch 70/250\n",
      "22/22 [==============================] - 0s 2ms/step - loss: 190227.4062\n",
      "Epoch 71/250\n",
      "22/22 [==============================] - 0s 2ms/step - loss: 187411.5781\n",
      "Epoch 72/250\n",
      "22/22 [==============================] - 0s 2ms/step - loss: 184537.1719\n",
      "Epoch 73/250\n",
      "22/22 [==============================] - 0s 2ms/step - loss: 181576.1406\n",
      "Epoch 74/250\n",
      "22/22 [==============================] - 0s 2ms/step - loss: 178550.7656\n",
      "Epoch 75/250\n",
      "22/22 [==============================] - 0s 2ms/step - loss: 175467.6719\n",
      "Epoch 76/250\n",
      "22/22 [==============================] - 0s 2ms/step - loss: 172306.4688\n",
      "Epoch 77/250\n",
      "22/22 [==============================] - 0s 2ms/step - loss: 169086.4062\n",
      "Epoch 78/250\n",
      "22/22 [==============================] - 0s 2ms/step - loss: 165803.9531\n",
      "Epoch 79/250\n",
      "22/22 [==============================] - 0s 2ms/step - loss: 162463.2812\n",
      "Epoch 80/250\n",
      "22/22 [==============================] - 0s 2ms/step - loss: 159075.5312\n",
      "Epoch 81/250\n",
      "22/22 [==============================] - 0s 2ms/step - loss: 155617.1719\n",
      "Epoch 82/250\n",
      "22/22 [==============================] - 0s 2ms/step - loss: 152094.8750\n",
      "Epoch 83/250\n",
      "22/22 [==============================] - 0s 2ms/step - loss: 148521.7656\n",
      "Epoch 84/250\n",
      "22/22 [==============================] - 0s 2ms/step - loss: 144884.4219\n",
      "Epoch 85/250\n",
      "22/22 [==============================] - 0s 2ms/step - loss: 141197.8438\n",
      "Epoch 86/250\n",
      "22/22 [==============================] - 0s 2ms/step - loss: 137464.0156\n",
      "Epoch 87/250\n",
      "22/22 [==============================] - 0s 3ms/step - loss: 133689.8438\n",
      "Epoch 88/250\n",
      "22/22 [==============================] - 0s 2ms/step - loss: 129871.7344\n",
      "Epoch 89/250\n",
      "22/22 [==============================] - 0s 2ms/step - loss: 126015.5547\n",
      "Epoch 90/250\n",
      "22/22 [==============================] - 0s 3ms/step - loss: 122140.7734\n",
      "Epoch 91/250\n",
      "22/22 [==============================] - 0s 3ms/step - loss: 118191.7031\n",
      "Epoch 92/250\n",
      "22/22 [==============================] - 0s 3ms/step - loss: 114238.4219\n",
      "Epoch 93/250\n",
      "22/22 [==============================] - 0s 3ms/step - loss: 110256.2031\n",
      "Epoch 94/250\n",
      "22/22 [==============================] - 0s 3ms/step - loss: 106235.7734\n",
      "Epoch 95/250\n",
      "22/22 [==============================] - 0s 3ms/step - loss: 102186.9375\n",
      "Epoch 96/250\n"
     ]
    },
    {
     "name": "stdout",
     "output_type": "stream",
     "text": [
      "22/22 [==============================] - 0s 3ms/step - loss: 98164.7344\n",
      "Epoch 97/250\n",
      "22/22 [==============================] - 0s 3ms/step - loss: 94130.3750\n",
      "Epoch 98/250\n",
      "22/22 [==============================] - 0s 3ms/step - loss: 90079.5703\n",
      "Epoch 99/250\n",
      "22/22 [==============================] - 0s 3ms/step - loss: 86024.4766\n",
      "Epoch 100/250\n",
      "22/22 [==============================] - 0s 3ms/step - loss: 81987.4375\n",
      "Epoch 101/250\n",
      "22/22 [==============================] - 0s 3ms/step - loss: 77984.2266\n",
      "Epoch 102/250\n",
      "22/22 [==============================] - 0s 3ms/step - loss: 73972.2422\n",
      "Epoch 103/250\n",
      "22/22 [==============================] - 0s 3ms/step - loss: 70008.6094\n",
      "Epoch 104/250\n",
      "22/22 [==============================] - 0s 3ms/step - loss: 66063.7969\n",
      "Epoch 105/250\n",
      "22/22 [==============================] - 0s 3ms/step - loss: 62162.2578\n",
      "Epoch 106/250\n",
      "22/22 [==============================] - 0s 3ms/step - loss: 58357.9883\n",
      "Epoch 107/250\n",
      "22/22 [==============================] - 0s 3ms/step - loss: 54606.9531\n",
      "Epoch 108/250\n",
      "22/22 [==============================] - 0s 3ms/step - loss: 50913.3477\n",
      "Epoch 109/250\n",
      "22/22 [==============================] - 0s 3ms/step - loss: 47285.6719\n",
      "Epoch 110/250\n",
      "22/22 [==============================] - 0s 3ms/step - loss: 43748.5273\n",
      "Epoch 111/250\n",
      "22/22 [==============================] - 0s 3ms/step - loss: 40343.3242\n",
      "Epoch 112/250\n",
      "22/22 [==============================] - 0s 2ms/step - loss: 36998.8906\n",
      "Epoch 113/250\n",
      "22/22 [==============================] - 0s 2ms/step - loss: 33830.7500\n",
      "Epoch 114/250\n",
      "22/22 [==============================] - 0s 2ms/step - loss: 30775.1484\n",
      "Epoch 115/250\n",
      "22/22 [==============================] - 0s 2ms/step - loss: 27848.6152\n",
      "Epoch 116/250\n",
      "22/22 [==============================] - 0s 2ms/step - loss: 25089.9824\n",
      "Epoch 117/250\n",
      "22/22 [==============================] - 0s 2ms/step - loss: 22528.5391\n",
      "Epoch 118/250\n",
      "22/22 [==============================] - 0s 2ms/step - loss: 20140.2734\n",
      "Epoch 119/250\n",
      "22/22 [==============================] - 0s 2ms/step - loss: 17921.9453\n",
      "Epoch 120/250\n",
      "22/22 [==============================] - 0s 2ms/step - loss: 15939.2695\n",
      "Epoch 121/250\n",
      "22/22 [==============================] - 0s 2ms/step - loss: 14169.4629\n",
      "Epoch 122/250\n",
      "22/22 [==============================] - 0s 2ms/step - loss: 12609.1504\n",
      "Epoch 123/250\n",
      "22/22 [==============================] - 0s 2ms/step - loss: 11337.1572\n",
      "Epoch 124/250\n",
      "22/22 [==============================] - 0s 2ms/step - loss: 10303.8516\n",
      "Epoch 125/250\n",
      "22/22 [==============================] - 0s 2ms/step - loss: 9502.8887\n",
      "Epoch 126/250\n",
      "22/22 [==============================] - 0s 3ms/step - loss: 9000.4102\n",
      "Epoch 127/250\n",
      "22/22 [==============================] - 0s 2ms/step - loss: 8687.7285\n",
      "Epoch 128/250\n",
      "22/22 [==============================] - 0s 2ms/step - loss: 8541.1787\n",
      "Epoch 129/250\n",
      "22/22 [==============================] - 0s 2ms/step - loss: 8476.1113\n",
      "Epoch 130/250\n",
      "22/22 [==============================] - 0s 2ms/step - loss: 8455.4844\n",
      "Epoch 131/250\n",
      "22/22 [==============================] - 0s 2ms/step - loss: 8434.1533\n",
      "Epoch 132/250\n",
      "22/22 [==============================] - 0s 2ms/step - loss: 8421.3232\n",
      "Epoch 133/250\n",
      "22/22 [==============================] - 0s 3ms/step - loss: 8405.2910\n",
      "Epoch 134/250\n",
      "22/22 [==============================] - 0s 2ms/step - loss: 8391.6318\n",
      "Epoch 135/250\n",
      "22/22 [==============================] - 0s 2ms/step - loss: 8373.5049\n",
      "Epoch 136/250\n",
      "22/22 [==============================] - 0s 2ms/step - loss: 8355.0225\n",
      "Epoch 137/250\n",
      "22/22 [==============================] - 0s 2ms/step - loss: 8340.8389\n",
      "Epoch 138/250\n",
      "22/22 [==============================] - 0s 2ms/step - loss: 8325.8027\n",
      "Epoch 139/250\n",
      "22/22 [==============================] - 0s 2ms/step - loss: 8310.0537\n",
      "Epoch 140/250\n",
      "22/22 [==============================] - 0s 2ms/step - loss: 8297.6348\n",
      "Epoch 141/250\n",
      "22/22 [==============================] - 0s 2ms/step - loss: 8280.9004\n",
      "Epoch 142/250\n",
      "22/22 [==============================] - 0s 2ms/step - loss: 8267.9805\n",
      "Epoch 143/250\n",
      "22/22 [==============================] - 0s 2ms/step - loss: 8257.7510\n",
      "Epoch 144/250\n",
      "22/22 [==============================] - 0s 2ms/step - loss: 8244.5322\n",
      "Epoch 145/250\n",
      "22/22 [==============================] - 0s 2ms/step - loss: 8230.2969\n",
      "Epoch 146/250\n",
      "22/22 [==============================] - 0s 2ms/step - loss: 8217.4531\n",
      "Epoch 147/250\n",
      "22/22 [==============================] - 0s 2ms/step - loss: 8206.3584\n",
      "Epoch 148/250\n",
      "22/22 [==============================] - 0s 2ms/step - loss: 8191.7573\n",
      "Epoch 149/250\n",
      "22/22 [==============================] - 0s 2ms/step - loss: 8181.9521\n",
      "Epoch 150/250\n",
      "22/22 [==============================] - 0s 2ms/step - loss: 8169.3530\n",
      "Epoch 151/250\n",
      "22/22 [==============================] - 0s 3ms/step - loss: 8153.1313\n",
      "Epoch 152/250\n",
      "22/22 [==============================] - 0s 2ms/step - loss: 8140.8174\n",
      "Epoch 153/250\n",
      "22/22 [==============================] - 0s 2ms/step - loss: 8128.2466\n",
      "Epoch 154/250\n",
      "22/22 [==============================] - 0s 2ms/step - loss: 8116.4443\n",
      "Epoch 155/250\n",
      "22/22 [==============================] - 0s 2ms/step - loss: 8105.7915\n",
      "Epoch 156/250\n",
      "22/22 [==============================] - 0s 2ms/step - loss: 8091.1416\n",
      "Epoch 157/250\n",
      "22/22 [==============================] - 0s 2ms/step - loss: 8080.0928\n",
      "Epoch 158/250\n",
      "22/22 [==============================] - 0s 2ms/step - loss: 8068.4287\n",
      "Epoch 159/250\n",
      "22/22 [==============================] - 0s 2ms/step - loss: 8059.7412\n",
      "Epoch 160/250\n",
      "22/22 [==============================] - 0s 2ms/step - loss: 8043.7686\n",
      "Epoch 161/250\n",
      "22/22 [==============================] - 0s 2ms/step - loss: 8038.8105\n",
      "Epoch 162/250\n",
      "22/22 [==============================] - 0s 2ms/step - loss: 8023.3306\n",
      "Epoch 163/250\n",
      "22/22 [==============================] - 0s 2ms/step - loss: 8014.2192\n",
      "Epoch 164/250\n",
      "22/22 [==============================] - 0s 2ms/step - loss: 8008.4409\n",
      "Epoch 165/250\n",
      "22/22 [==============================] - 0s 2ms/step - loss: 7996.4014\n",
      "Epoch 166/250\n",
      "22/22 [==============================] - 0s 2ms/step - loss: 7983.6729\n",
      "Epoch 167/250\n",
      "22/22 [==============================] - 0s 2ms/step - loss: 7977.6001\n",
      "Epoch 168/250\n",
      "22/22 [==============================] - 0s 2ms/step - loss: 7970.0049\n",
      "Epoch 169/250\n",
      "22/22 [==============================] - 0s 2ms/step - loss: 7953.9980\n",
      "Epoch 170/250\n",
      "22/22 [==============================] - 0s 2ms/step - loss: 7951.3545\n",
      "Epoch 171/250\n",
      "22/22 [==============================] - 0s 2ms/step - loss: 7939.0938\n",
      "Epoch 172/250\n",
      "22/22 [==============================] - 0s 2ms/step - loss: 7928.5386\n",
      "Epoch 173/250\n",
      "22/22 [==============================] - 0s 2ms/step - loss: 7920.7544\n",
      "Epoch 174/250\n",
      "22/22 [==============================] - 0s 2ms/step - loss: 7915.5806\n",
      "Epoch 175/250\n",
      "22/22 [==============================] - 0s 2ms/step - loss: 7902.8364\n",
      "Epoch 176/250\n",
      "22/22 [==============================] - 0s 2ms/step - loss: 7886.2310\n",
      "Epoch 177/250\n",
      "22/22 [==============================] - 0s 2ms/step - loss: 7885.5200\n",
      "Epoch 178/250\n",
      "22/22 [==============================] - 0s 3ms/step - loss: 7874.0498\n",
      "Epoch 179/250\n",
      "22/22 [==============================] - 0s 2ms/step - loss: 7861.9937\n",
      "Epoch 180/250\n",
      "22/22 [==============================] - 0s 2ms/step - loss: 7852.4985\n",
      "Epoch 181/250\n",
      "22/22 [==============================] - 0s 2ms/step - loss: 7844.7236\n",
      "Epoch 182/250\n",
      "22/22 [==============================] - 0s 2ms/step - loss: 7834.1323\n",
      "Epoch 183/250\n",
      "22/22 [==============================] - 0s 2ms/step - loss: 7823.7998\n",
      "Epoch 184/250\n",
      "22/22 [==============================] - 0s 2ms/step - loss: 7813.5015\n",
      "Epoch 185/250\n",
      "22/22 [==============================] - 0s 2ms/step - loss: 7811.6943\n",
      "Epoch 186/250\n",
      "22/22 [==============================] - 0s 2ms/step - loss: 7797.6377\n",
      "Epoch 187/250\n",
      "22/22 [==============================] - 0s 2ms/step - loss: 7793.3267\n",
      "Epoch 188/250\n",
      "22/22 [==============================] - 0s 2ms/step - loss: 7784.3413\n",
      "Epoch 189/250\n",
      "22/22 [==============================] - 0s 2ms/step - loss: 7775.2778\n",
      "Epoch 190/250\n",
      "22/22 [==============================] - 0s 2ms/step - loss: 7766.9688\n",
      "Epoch 191/250\n",
      "22/22 [==============================] - 0s 2ms/step - loss: 7755.8877\n",
      "Epoch 192/250\n"
     ]
    },
    {
     "name": "stdout",
     "output_type": "stream",
     "text": [
      "22/22 [==============================] - 0s 2ms/step - loss: 7748.7095\n",
      "Epoch 193/250\n",
      "22/22 [==============================] - 0s 2ms/step - loss: 7742.1802\n",
      "Epoch 194/250\n",
      "22/22 [==============================] - 0s 2ms/step - loss: 7733.5356\n",
      "Epoch 195/250\n",
      "22/22 [==============================] - 0s 2ms/step - loss: 7728.2285\n",
      "Epoch 196/250\n",
      "22/22 [==============================] - 0s 2ms/step - loss: 7721.0366\n",
      "Epoch 197/250\n",
      "22/22 [==============================] - 0s 2ms/step - loss: 7711.7881\n",
      "Epoch 198/250\n",
      "22/22 [==============================] - 0s 2ms/step - loss: 7707.2378\n",
      "Epoch 199/250\n",
      "22/22 [==============================] - 0s 2ms/step - loss: 7698.1592\n",
      "Epoch 200/250\n",
      "22/22 [==============================] - 0s 2ms/step - loss: 7693.7236\n",
      "Epoch 201/250\n",
      "22/22 [==============================] - 0s 2ms/step - loss: 7680.6978\n",
      "Epoch 202/250\n",
      "22/22 [==============================] - 0s 2ms/step - loss: 7680.1714\n",
      "Epoch 203/250\n",
      "22/22 [==============================] - 0s 2ms/step - loss: 7670.6245\n",
      "Epoch 204/250\n",
      "22/22 [==============================] - 0s 2ms/step - loss: 7661.7744\n",
      "Epoch 205/250\n",
      "22/22 [==============================] - 0s 2ms/step - loss: 7656.6069\n",
      "Epoch 206/250\n",
      "22/22 [==============================] - 0s 2ms/step - loss: 7647.5771\n",
      "Epoch 207/250\n",
      "22/22 [==============================] - 0s 3ms/step - loss: 7643.1152\n",
      "Epoch 208/250\n",
      "22/22 [==============================] - 0s 2ms/step - loss: 7632.7280\n",
      "Epoch 209/250\n",
      "22/22 [==============================] - 0s 2ms/step - loss: 7625.2227\n",
      "Epoch 210/250\n",
      "22/22 [==============================] - 0s 2ms/step - loss: 7623.2578\n",
      "Epoch 211/250\n",
      "22/22 [==============================] - 0s 3ms/step - loss: 7617.7407\n",
      "Epoch 212/250\n",
      "22/22 [==============================] - 0s 2ms/step - loss: 7605.3345\n",
      "Epoch 213/250\n",
      "22/22 [==============================] - 0s 2ms/step - loss: 7603.0620\n",
      "Epoch 214/250\n",
      "22/22 [==============================] - 0s 2ms/step - loss: 7594.4028\n",
      "Epoch 215/250\n",
      "22/22 [==============================] - 0s 2ms/step - loss: 7588.0708\n",
      "Epoch 216/250\n",
      "22/22 [==============================] - 0s 2ms/step - loss: 7585.8560\n",
      "Epoch 217/250\n",
      "22/22 [==============================] - 0s 2ms/step - loss: 7577.5757\n",
      "Epoch 218/250\n",
      "22/22 [==============================] - 0s 2ms/step - loss: 7572.4414\n",
      "Epoch 219/250\n",
      "22/22 [==============================] - 0s 2ms/step - loss: 7564.4355\n",
      "Epoch 220/250\n",
      "22/22 [==============================] - 0s 2ms/step - loss: 7558.3564\n",
      "Epoch 221/250\n",
      "22/22 [==============================] - 0s 2ms/step - loss: 7552.9849\n",
      "Epoch 222/250\n",
      "22/22 [==============================] - 0s 2ms/step - loss: 7548.3398\n",
      "Epoch 223/250\n",
      "22/22 [==============================] - 0s 2ms/step - loss: 7544.2690\n",
      "Epoch 224/250\n",
      "22/22 [==============================] - 0s 2ms/step - loss: 7536.8784\n",
      "Epoch 225/250\n",
      "22/22 [==============================] - 0s 2ms/step - loss: 7526.9385\n",
      "Epoch 226/250\n",
      "22/22 [==============================] - 0s 2ms/step - loss: 7524.2744\n",
      "Epoch 227/250\n",
      "22/22 [==============================] - 0s 2ms/step - loss: 7521.0088\n",
      "Epoch 228/250\n",
      "22/22 [==============================] - 0s 2ms/step - loss: 7513.0649\n",
      "Epoch 229/250\n",
      "22/22 [==============================] - 0s 2ms/step - loss: 7509.9551\n",
      "Epoch 230/250\n",
      "22/22 [==============================] - 0s 2ms/step - loss: 7506.0498\n",
      "Epoch 231/250\n",
      "22/22 [==============================] - 0s 2ms/step - loss: 7499.3242\n",
      "Epoch 232/250\n",
      "22/22 [==============================] - 0s 3ms/step - loss: 7492.0571\n",
      "Epoch 233/250\n",
      "22/22 [==============================] - 0s 3ms/step - loss: 7490.5684\n",
      "Epoch 234/250\n",
      "22/22 [==============================] - 0s 2ms/step - loss: 7484.5142\n",
      "Epoch 235/250\n",
      "22/22 [==============================] - 0s 2ms/step - loss: 7484.4043\n",
      "Epoch 236/250\n",
      "22/22 [==============================] - 0s 3ms/step - loss: 7471.5327\n",
      "Epoch 237/250\n",
      "22/22 [==============================] - 0s 2ms/step - loss: 7463.9995\n",
      "Epoch 238/250\n",
      "22/22 [==============================] - 0s 2ms/step - loss: 7464.3755\n",
      "Epoch 239/250\n",
      "22/22 [==============================] - 0s 3ms/step - loss: 7459.1313\n",
      "Epoch 240/250\n",
      "22/22 [==============================] - 0s 3ms/step - loss: 7452.8013\n",
      "Epoch 241/250\n",
      "22/22 [==============================] - 0s 2ms/step - loss: 7448.1772\n",
      "Epoch 242/250\n",
      "22/22 [==============================] - 0s 2ms/step - loss: 7448.4902\n",
      "Epoch 243/250\n",
      "22/22 [==============================] - 0s 2ms/step - loss: 7441.2300\n",
      "Epoch 244/250\n",
      "22/22 [==============================] - 0s 2ms/step - loss: 7435.8423\n",
      "Epoch 245/250\n",
      "22/22 [==============================] - 0s 2ms/step - loss: 7431.5229\n",
      "Epoch 246/250\n",
      "22/22 [==============================] - 0s 2ms/step - loss: 7424.4819\n",
      "Epoch 247/250\n",
      "22/22 [==============================] - 0s 2ms/step - loss: 7422.3486\n",
      "Epoch 248/250\n",
      "22/22 [==============================] - 0s 2ms/step - loss: 7414.2886\n",
      "Epoch 249/250\n",
      "22/22 [==============================] - 0s 2ms/step - loss: 7414.5679\n",
      "Epoch 250/250\n",
      "22/22 [==============================] - 0s 2ms/step - loss: 7406.0664\n"
     ]
    },
    {
     "data": {
      "text/plain": [
       "<tensorflow.python.keras.callbacks.History at 0x1ef705828e0>"
      ]
     },
     "execution_count": 57,
     "metadata": {},
     "output_type": "execute_result"
    }
   ],
   "source": [
    "mod_basic_reg.fit(x=X_train_sc, y=y_train, epochs=250)"
   ]
  },
  {
   "cell_type": "code",
   "execution_count": 58,
   "id": "05601a2b",
   "metadata": {},
   "outputs": [
    {
     "name": "stdout",
     "output_type": "stream",
     "text": [
      "Model: \"model_2\"\n",
      "_________________________________________________________________\n",
      "Layer (type)                 Output Shape              Param #   \n",
      "=================================================================\n",
      "input_3 (InputLayer)         [(None, 2)]               0         \n",
      "_________________________________________________________________\n",
      "dense_8 (Dense)              (None, 4)                 12        \n",
      "_________________________________________________________________\n",
      "dense_9 (Dense)              (None, 4)                 20        \n",
      "_________________________________________________________________\n",
      "dense_10 (Dense)             (None, 4)                 20        \n",
      "_________________________________________________________________\n",
      "dense_11 (Dense)             (None, 1)                 5         \n",
      "=================================================================\n",
      "Total params: 57\n",
      "Trainable params: 57\n",
      "Non-trainable params: 0\n",
      "_________________________________________________________________\n"
     ]
    }
   ],
   "source": [
    "mod_basic_reg.summary()"
   ]
  },
  {
   "cell_type": "code",
   "execution_count": 59,
   "id": "ae32c71c",
   "metadata": {},
   "outputs": [
    {
     "data": {
      "text/plain": [
       "[<matplotlib.lines.Line2D at 0x1ef71905d90>]"
      ]
     },
     "execution_count": 59,
     "metadata": {},
     "output_type": "execute_result"
    },
    {
     "data": {
      "image/png": "[encoded data removed]",
      "text/plain": [
       "<Figure size 432x288 with 1 Axes>"
      ]
     },
     "metadata": {
      "needs_background": "light"
     },
     "output_type": "display_data"
    }
   ],
   "source": [
    "plt.plot(mod_basic_reg.history.history['loss'])"
   ]
  },
  {
   "cell_type": "code",
   "execution_count": 60,
   "id": "3262f526",
   "metadata": {},
   "outputs": [
    {
     "name": "stdout",
     "output_type": "stream",
     "text": [
      "10/10 [==============================] - 0s 887us/step - loss: 7307.0459\n"
     ]
    },
    {
     "data": {
      "text/plain": [
       "7307.0458984375"
      ]
     },
     "execution_count": 60,
     "metadata": {},
     "output_type": "execute_result"
    }
   ],
   "source": [
    "mod_basic_reg.evaluate(x=X_test_sc, y=y_test)"
   ]
  },
  {
   "cell_type": "code",
   "execution_count": 61,
   "id": "512ada5c",
   "metadata": {},
   "outputs": [
    {
     "name": "stdout",
     "output_type": "stream",
     "text": [
      "22/22 [==============================] - 0s 950us/step - loss: 7398.0190\n"
     ]
    },
    {
     "data": {
      "text/plain": [
       "7398.01904296875"
      ]
     },
     "execution_count": 61,
     "metadata": {},
     "output_type": "execute_result"
    }
   ],
   "source": [
    "mod_basic_reg.evaluate(x=X_train_sc, y=y_train)"
   ]
  },
  {
   "cell_type": "code",
   "execution_count": 62,
   "id": "e8d7aa5e",
   "metadata": {},
   "outputs": [],
   "source": [
    "y_pred = mod_basic_reg.predict(X_test_sc)"
   ]
  },
  {
   "cell_type": "code",
   "execution_count": 63,
   "id": "ece5b4c2",
   "metadata": {},
   "outputs": [
    {
     "data": {
      "text/plain": [
       "array([[476.84747],\n",
       "       [456.39014],\n",
       "       [474.64203],\n",
       "       [389.01517],\n",
       "       [506.61588],\n",
       "       [553.55365],\n",
       "       [465.52518],\n",
       "       [485.98425],\n",
       "       [395.16708],\n",
       "       [500.85797],\n",
       "       [443.7496 ],\n",
       "       [513.7585 ],\n",
       "       [427.116  ],\n",
       "       [525.5451 ],\n",
       "       [385.8458 ],\n",
       "       [457.1832 ],\n",
       "       [524.7789 ],\n",
       "       [433.31912],\n",
       "       [467.62573],\n",
       "       [576.0218 ],\n",
       "       [611.1608 ],\n",
       "       [485.56046],\n",
       "       [397.523  ],\n",
       "       [484.0095 ],\n",
       "       [462.36694],\n",
       "       [507.5262 ],\n",
       "       [478.20013],\n",
       "       [441.48315],\n",
       "       [405.09393],\n",
       "       [485.58752],\n",
       "       [519.5556 ],\n",
       "       [393.98886],\n",
       "       [515.4439 ],\n",
       "       [455.42648],\n",
       "       [428.08978],\n",
       "       [456.16766],\n",
       "       [515.7835 ],\n",
       "       [487.6729 ],\n",
       "       [582.7609 ],\n",
       "       [398.54254],\n",
       "       [389.30655],\n",
       "       [487.39612],\n",
       "       [599.1525 ],\n",
       "       [468.7538 ],\n",
       "       [468.73407],\n",
       "       [498.2592 ],\n",
       "       [569.26373],\n",
       "       [535.56464],\n",
       "       [458.58145],\n",
       "       [497.63065],\n",
       "       [546.1934 ],\n",
       "       [386.39417],\n",
       "       [509.00946],\n",
       "       [468.95648],\n",
       "       [453.14114],\n",
       "       [370.3859 ],\n",
       "       [532.48706],\n",
       "       [501.2072 ],\n",
       "       [543.0073 ],\n",
       "       [558.6937 ],\n",
       "       [572.00446],\n",
       "       [557.6358 ],\n",
       "       [422.5503 ],\n",
       "       [601.4965 ],\n",
       "       [534.1015 ],\n",
       "       [439.34937],\n",
       "       [527.03656],\n",
       "       [616.84326],\n",
       "       [423.2863 ],\n",
       "       [387.05936],\n",
       "       [465.03934],\n",
       "       [436.01852],\n",
       "       [517.76544],\n",
       "       [510.7488 ],\n",
       "       [680.8237 ],\n",
       "       [590.8534 ],\n",
       "       [429.82846],\n",
       "       [479.81546],\n",
       "       [468.85617],\n",
       "       [475.79828],\n",
       "       [433.0173 ],\n",
       "       [525.67883],\n",
       "       [491.7176 ],\n",
       "       [518.12274],\n",
       "       [556.5374 ],\n",
       "       [522.22876],\n",
       "       [494.27026],\n",
       "       [522.6412 ],\n",
       "       [485.51434],\n",
       "       [489.84415],\n",
       "       [482.35693],\n",
       "       [486.13928],\n",
       "       [539.00916],\n",
       "       [461.8104 ],\n",
       "       [466.86057],\n",
       "       [579.17993],\n",
       "       [506.36676],\n",
       "       [486.60345],\n",
       "       [592.05695],\n",
       "       [628.0665 ],\n",
       "       [479.0339 ],\n",
       "       [525.8472 ],\n",
       "       [448.81586],\n",
       "       [409.29327],\n",
       "       [368.4427 ],\n",
       "       [466.4137 ],\n",
       "       [573.4018 ],\n",
       "       [493.56085],\n",
       "       [393.0901 ],\n",
       "       [503.3216 ],\n",
       "       [473.52756],\n",
       "       [403.18002],\n",
       "       [584.99335],\n",
       "       [401.16837],\n",
       "       [490.64886],\n",
       "       [485.8998 ],\n",
       "       [461.68637],\n",
       "       [483.65417],\n",
       "       [390.83182],\n",
       "       [447.48596],\n",
       "       [431.7828 ],\n",
       "       [459.83856],\n",
       "       [449.89417],\n",
       "       [427.4767 ],\n",
       "       [528.1983 ],\n",
       "       [536.0923 ],\n",
       "       [505.0952 ],\n",
       "       [450.16504],\n",
       "       [516.4931 ],\n",
       "       [475.30283],\n",
       "       [523.2839 ],\n",
       "       [520.80725],\n",
       "       [567.67346],\n",
       "       [376.87006],\n",
       "       [451.5369 ],\n",
       "       [517.4497 ],\n",
       "       [456.0568 ],\n",
       "       [543.88574],\n",
       "       [522.7368 ],\n",
       "       [437.20767],\n",
       "       [406.2834 ],\n",
       "       [537.98846],\n",
       "       [536.4177 ],\n",
       "       [423.80942],\n",
       "       [433.90897],\n",
       "       [526.6935 ],\n",
       "       [545.2297 ],\n",
       "       [559.141  ],\n",
       "       [519.6237 ],\n",
       "       [497.31952],\n",
       "       [556.8197 ],\n",
       "       [522.5402 ],\n",
       "       [692.7632 ],\n",
       "       [562.48773],\n",
       "       [593.8561 ],\n",
       "       [539.8414 ],\n",
       "       [426.57974],\n",
       "       [567.87286],\n",
       "       [362.817  ],\n",
       "       [432.45322],\n",
       "       [379.83588],\n",
       "       [424.3015 ],\n",
       "       [512.19275],\n",
       "       [477.37573],\n",
       "       [496.45148],\n",
       "       [471.63263],\n",
       "       [564.0088 ],\n",
       "       [505.54797],\n",
       "       [534.10144],\n",
       "       [513.7058 ],\n",
       "       [477.82593],\n",
       "       [487.83463],\n",
       "       [545.8053 ],\n",
       "       [556.47003],\n",
       "       [389.597  ],\n",
       "       [423.13922],\n",
       "       [494.29904],\n",
       "       [471.27936],\n",
       "       [513.5713 ],\n",
       "       [464.26187],\n",
       "       [535.691  ],\n",
       "       [398.0941 ],\n",
       "       [410.02597],\n",
       "       [470.98975],\n",
       "       [505.5173 ],\n",
       "       [539.6613 ],\n",
       "       [538.78033],\n",
       "       [455.23355],\n",
       "       [438.68735],\n",
       "       [479.5858 ],\n",
       "       [485.51816],\n",
       "       [470.41718],\n",
       "       [481.56906],\n",
       "       [383.4014 ],\n",
       "       [472.79025],\n",
       "       [399.71957],\n",
       "       [504.19205],\n",
       "       [520.94586],\n",
       "       [506.26718],\n",
       "       [427.0378 ],\n",
       "       [475.8302 ],\n",
       "       [532.7358 ],\n",
       "       [503.26016],\n",
       "       [390.15363],\n",
       "       [545.1978 ],\n",
       "       [502.336  ],\n",
       "       [452.02167],\n",
       "       [424.83344],\n",
       "       [448.78064],\n",
       "       [480.94598],\n",
       "       [476.0865 ],\n",
       "       [405.9848 ],\n",
       "       [633.1713 ],\n",
       "       [388.76532],\n",
       "       [545.7392 ],\n",
       "       [568.8253 ],\n",
       "       [401.93704],\n",
       "       [435.70416],\n",
       "       [470.75574],\n",
       "       [471.51953],\n",
       "       [544.3414 ],\n",
       "       [542.90485],\n",
       "       [475.05786],\n",
       "       [584.7755 ],\n",
       "       [582.8883 ],\n",
       "       [604.09515],\n",
       "       [496.85062],\n",
       "       [563.64453],\n",
       "       [433.65927],\n",
       "       [505.67044],\n",
       "       [438.4312 ],\n",
       "       [527.4332 ],\n",
       "       [533.7498 ],\n",
       "       [513.8569 ],\n",
       "       [549.4693 ],\n",
       "       [495.95523],\n",
       "       [644.0456 ],\n",
       "       [429.73062],\n",
       "       [601.23157],\n",
       "       [451.5302 ],\n",
       "       [450.0456 ],\n",
       "       [450.4471 ],\n",
       "       [430.01666],\n",
       "       [475.4319 ],\n",
       "       [485.68442],\n",
       "       [489.15286],\n",
       "       [463.15546],\n",
       "       [509.4227 ],\n",
       "       [570.5535 ],\n",
       "       [421.93393],\n",
       "       [402.6138 ],\n",
       "       [613.5432 ],\n",
       "       [404.66382],\n",
       "       [478.53778],\n",
       "       [569.69006],\n",
       "       [481.60876],\n",
       "       [506.12125],\n",
       "       [554.9349 ],\n",
       "       [478.18616],\n",
       "       [475.0866 ],\n",
       "       [553.1982 ],\n",
       "       [504.44482],\n",
       "       [468.70798],\n",
       "       [472.80972],\n",
       "       [557.97864],\n",
       "       [493.16553],\n",
       "       [619.8598 ],\n",
       "       [441.62296],\n",
       "       [538.4862 ],\n",
       "       [423.26266],\n",
       "       [435.8841 ],\n",
       "       [483.85828],\n",
       "       [510.0926 ],\n",
       "       [614.25275],\n",
       "       [490.80542],\n",
       "       [492.3222 ],\n",
       "       [559.13416],\n",
       "       [519.8147 ],\n",
       "       [489.84503],\n",
       "       [553.5929 ],\n",
       "       [533.5231 ],\n",
       "       [470.41815],\n",
       "       [474.4639 ],\n",
       "       [406.67224],\n",
       "       [451.38968],\n",
       "       [388.59137],\n",
       "       [351.3412 ],\n",
       "       [533.3774 ],\n",
       "       [507.6179 ],\n",
       "       [496.0095 ],\n",
       "       [509.0329 ],\n",
       "       [499.80957],\n",
       "       [625.5809 ],\n",
       "       [460.80582],\n",
       "       [462.68765],\n",
       "       [559.70184],\n",
       "       [468.9203 ],\n",
       "       [517.15564],\n",
       "       [524.7814 ],\n",
       "       [522.99164]], dtype=float32)"
      ]
     },
     "execution_count": 63,
     "metadata": {},
     "output_type": "execute_result"
    }
   ],
   "source": [
    "y_pred"
   ]
  },
  {
   "cell_type": "code",
   "execution_count": 64,
   "id": "a322cad2",
   "metadata": {},
   "outputs": [
    {
     "data": {
      "text/plain": [
       "(300, 1)"
      ]
     },
     "execution_count": 64,
     "metadata": {},
     "output_type": "execute_result"
    }
   ],
   "source": [
    "y_pred.shape"
   ]
  },
  {
   "cell_type": "code",
   "execution_count": 65,
   "id": "eb7fdb9a",
   "metadata": {},
   "outputs": [
    {
     "data": {
      "text/plain": [
       "(300,)"
      ]
     },
     "execution_count": 65,
     "metadata": {},
     "output_type": "execute_result"
    }
   ],
   "source": [
    "y_test.shape"
   ]
  },
  {
   "cell_type": "code",
   "execution_count": 66,
   "id": "3bbc20fa",
   "metadata": {},
   "outputs": [
    {
     "data": {
      "image/png": "[encoded data removed]",
      "text/plain": [
       "<Figure size 432x288 with 1 Axes>"
      ]
     },
     "metadata": {
      "needs_background": "light"
     },
     "output_type": "display_data"
    }
   ],
   "source": [
    "plt.scatter(x=y_test.index, y=y_pred, label='Pred')\n",
    "plt.scatter(x=y_test.index, y=y_test, label='Actual')\n",
    "plt.legend(loc='best')\n",
    "plt.show()"
   ]
  },
  {
   "cell_type": "code",
   "execution_count": 67,
   "id": "7072b9da",
   "metadata": {},
   "outputs": [
    {
     "data": {
      "text/plain": [
       "<matplotlib.collections.PathCollection at 0x1ef71aeec40>"
      ]
     },
     "execution_count": 67,
     "metadata": {},
     "output_type": "execute_result"
    },
    {
     "data": {
      "image/png": "[encoded data removed]",
      "text/plain": [
       "<Figure size 432x288 with 1 Axes>"
      ]
     },
     "metadata": {
      "needs_background": "light"
     },
     "output_type": "display_data"
    }
   ],
   "source": [
    "plt.scatter(y_pred, y_test)"
   ]
  },
  {
   "cell_type": "code",
   "execution_count": 78,
   "id": "8aa31425",
   "metadata": {},
   "outputs": [
    {
     "data": {
      "text/plain": [
       "<AxesSubplot:>"
      ]
     },
     "execution_count": 78,
     "metadata": {},
     "output_type": "execute_result"
    },
    {
     "data": {
      "image/png": "[encoded data removed]",
      "text/plain": [
       "<Figure size 432x288 with 1 Axes>"
      ]
     },
     "metadata": {
      "needs_background": "light"
     },
     "output_type": "display_data"
    }
   ],
   "source": [
    "sns.scatterplot(x=y_test.values, y=y_pred.squeeze())"
   ]
  },
  {
   "cell_type": "code",
   "execution_count": null,
   "id": "51049a71",
   "metadata": {},
   "outputs": [],
   "source": []
  },
  {
   "cell_type": "code",
   "execution_count": 79,
   "id": "a599d30f",
   "metadata": {},
   "outputs": [],
   "source": [
    "from sklearn.metrics import mean_absolute_error, mean_squared_error"
   ]
  },
  {
   "cell_type": "code",
   "execution_count": 80,
   "id": "d3313dd6",
   "metadata": {},
   "outputs": [
    {
     "data": {
      "text/plain": [
       "69.74923808178103"
      ]
     },
     "execution_count": 80,
     "metadata": {},
     "output_type": "execute_result"
    }
   ],
   "source": [
    "mean_absolute_error(y_true=y_test, y_pred=y_pred)"
   ]
  },
  {
   "cell_type": "code",
   "execution_count": 81,
   "id": "0eada0d0",
   "metadata": {},
   "outputs": [
    {
     "data": {
      "text/plain": [
       "7307.045321474594"
      ]
     },
     "execution_count": 81,
     "metadata": {},
     "output_type": "execute_result"
    }
   ],
   "source": [
    "mean_squared_error(y_true=y_test, y_pred=y_pred)"
   ]
  },
  {
   "cell_type": "code",
   "execution_count": 82,
   "id": "ec709b14",
   "metadata": {},
   "outputs": [
    {
     "data": {
      "text/html": [
       "<div>\n",
       "<style scoped>\n",
       "    .dataframe tbody tr th:only-of-type {\n",
       "        vertical-align: middle;\n",
       "    }\n",
       "\n",
       "    .dataframe tbody tr th {\n",
       "        vertical-align: top;\n",
       "    }\n",
       "\n",
       "    .dataframe thead th {\n",
       "        text-align: right;\n",
       "    }\n",
       "</style>\n",
       "<table border=\"1\" class=\"dataframe\">\n",
       "  <thead>\n",
       "    <tr style=\"text-align: right;\">\n",
       "      <th></th>\n",
       "      <th>price</th>\n",
       "      <th>feature1</th>\n",
       "      <th>feature2</th>\n",
       "    </tr>\n",
       "  </thead>\n",
       "  <tbody>\n",
       "    <tr>\n",
       "      <th>count</th>\n",
       "      <td>1000.000000</td>\n",
       "      <td>1000.000000</td>\n",
       "      <td>1000.000000</td>\n",
       "    </tr>\n",
       "    <tr>\n",
       "      <th>mean</th>\n",
       "      <td>498.673029</td>\n",
       "      <td>1000.014171</td>\n",
       "      <td>999.979847</td>\n",
       "    </tr>\n",
       "    <tr>\n",
       "      <th>std</th>\n",
       "      <td>93.785431</td>\n",
       "      <td>0.974018</td>\n",
       "      <td>0.948330</td>\n",
       "    </tr>\n",
       "    <tr>\n",
       "      <th>min</th>\n",
       "      <td>223.346793</td>\n",
       "      <td>997.058347</td>\n",
       "      <td>996.995651</td>\n",
       "    </tr>\n",
       "    <tr>\n",
       "      <th>25%</th>\n",
       "      <td>433.025732</td>\n",
       "      <td>999.332068</td>\n",
       "      <td>999.316106</td>\n",
       "    </tr>\n",
       "    <tr>\n",
       "      <th>50%</th>\n",
       "      <td>502.382117</td>\n",
       "      <td>1000.009915</td>\n",
       "      <td>1000.002243</td>\n",
       "    </tr>\n",
       "    <tr>\n",
       "      <th>75%</th>\n",
       "      <td>564.921588</td>\n",
       "      <td>1000.637580</td>\n",
       "      <td>1000.645380</td>\n",
       "    </tr>\n",
       "    <tr>\n",
       "      <th>max</th>\n",
       "      <td>774.407854</td>\n",
       "      <td>1003.207934</td>\n",
       "      <td>1002.666308</td>\n",
       "    </tr>\n",
       "  </tbody>\n",
       "</table>\n",
       "</div>"
      ],
      "text/plain": [
       "             price     feature1     feature2\n",
       "count  1000.000000  1000.000000  1000.000000\n",
       "mean    498.673029  1000.014171   999.979847\n",
       "std      93.785431     0.974018     0.948330\n",
       "min     223.346793   997.058347   996.995651\n",
       "25%     433.025732   999.332068   999.316106\n",
       "50%     502.382117  1000.009915  1000.002243\n",
       "75%     564.921588  1000.637580  1000.645380\n",
       "max     774.407854  1003.207934  1002.666308"
      ]
     },
     "execution_count": 82,
     "metadata": {},
     "output_type": "execute_result"
    }
   ],
   "source": [
    "df_fakereg.describe()"
   ]
  },
  {
   "cell_type": "code",
   "execution_count": 83,
   "id": "f348468c",
   "metadata": {},
   "outputs": [],
   "source": [
    "new_data = [[998, 1000]]"
   ]
  },
  {
   "cell_type": "code",
   "execution_count": 84,
   "id": "1afc7e72",
   "metadata": {},
   "outputs": [
    {
     "data": {
      "text/plain": [
       "array([[0.16645635, 0.51999716]])"
      ]
     },
     "execution_count": 84,
     "metadata": {},
     "output_type": "execute_result"
    }
   ],
   "source": [
    "new_data_sc = mmscaler.transform(new_data)\n",
    "new_data_sc"
   ]
  },
  {
   "cell_type": "code",
   "execution_count": 85,
   "id": "4ed138ca",
   "metadata": {},
   "outputs": [
    {
     "data": {
      "text/plain": [
       "array([[425.6627]], dtype=float32)"
      ]
     },
     "execution_count": 85,
     "metadata": {},
     "output_type": "execute_result"
    }
   ],
   "source": [
    "mod_basic_reg.predict(new_data_sc)"
   ]
  },
  {
   "cell_type": "code",
   "execution_count": 86,
   "id": "3097fa65",
   "metadata": {},
   "outputs": [],
   "source": [
    "from tensorflow.keras.models import load_model"
   ]
  },
  {
   "cell_type": "code",
   "execution_count": 87,
   "id": "e8a04015",
   "metadata": {},
   "outputs": [],
   "source": [
    "mod_basic_reg.save('my_reg_model.h5')"
   ]
  },
  {
   "cell_type": "code",
   "execution_count": 88,
   "id": "bc9ec8fe",
   "metadata": {},
   "outputs": [],
   "source": [
    "mod_basic_reg_loaded = load_model('my_reg_model.h5')"
   ]
  },
  {
   "cell_type": "code",
   "execution_count": 89,
   "id": "66089042",
   "metadata": {},
   "outputs": [
    {
     "data": {
      "text/plain": [
       "array([[425.6627]], dtype=float32)"
      ]
     },
     "execution_count": 89,
     "metadata": {},
     "output_type": "execute_result"
    }
   ],
   "source": [
    "mod_basic_reg_loaded.predict(new_data_sc)"
   ]
  },
  {
   "cell_type": "code",
   "execution_count": null,
   "id": "875e01d8",
   "metadata": {},
   "outputs": [],
   "source": []
  }
 ],
 "metadata": {
  "kernelspec": {
   "display_name": "Python 3",
   "language": "python",
   "name": "python3"
  },
  "language_info": {
   "codemirror_mode": {
    "name": "ipython",
    "version": 3
   },
   "file_extension": ".py",
   "mimetype": "text/x-python",
   "name": "python",
   "nbconvert_exporter": "python",
   "pygments_lexer": "ipython3",
   "version": "3.9.4"
  }
 },
 "nbformat": 4,
 "nbformat_minor": 5
}
