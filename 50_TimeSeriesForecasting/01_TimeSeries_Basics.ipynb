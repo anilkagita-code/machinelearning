{
 "cells": [
  {
   "cell_type": "markdown",
   "id": "f9a30835",
   "metadata": {},
   "source": [
    "## Datetime"
   ]
  },
  {
   "cell_type": "code",
   "execution_count": 1,
   "id": "6a20b400",
   "metadata": {},
   "outputs": [],
   "source": [
    "import datetime"
   ]
  },
  {
   "cell_type": "code",
   "execution_count": 2,
   "id": "1fdcf9d1",
   "metadata": {},
   "outputs": [
    {
     "data": {
      "text/plain": [
       "datetime.time(12, 30, 5)"
      ]
     },
     "execution_count": 2,
     "metadata": {},
     "output_type": "execute_result"
    }
   ],
   "source": [
    "tm = datetime.time(hour=12, minute=30, second=5)\n",
    "tm"
   ]
  },
  {
   "cell_type": "code",
   "execution_count": 3,
   "id": "9157d064",
   "metadata": {},
   "outputs": [
    {
     "name": "stdout",
     "output_type": "stream",
     "text": [
      "12:30:05\n"
     ]
    }
   ],
   "source": [
    "print(tm)"
   ]
  },
  {
   "cell_type": "code",
   "execution_count": 4,
   "id": "7b793035",
   "metadata": {},
   "outputs": [
    {
     "name": "stdout",
     "output_type": "stream",
     "text": [
      "17:30:05\n"
     ]
    }
   ],
   "source": [
    "tm = datetime.time(hour=17, minute=30, second=5)\n",
    "print(tm)"
   ]
  },
  {
   "cell_type": "code",
   "execution_count": 5,
   "id": "3dd91d6d",
   "metadata": {},
   "outputs": [
    {
     "data": {
      "text/plain": [
       "datetime.date(2021, 12, 1)"
      ]
     },
     "execution_count": 5,
     "metadata": {},
     "output_type": "execute_result"
    }
   ],
   "source": [
    "dt = datetime.date(year=2021, month=12, day=1)\n",
    "dt"
   ]
  },
  {
   "cell_type": "code",
   "execution_count": 6,
   "id": "e31e236f",
   "metadata": {},
   "outputs": [
    {
     "name": "stdout",
     "output_type": "stream",
     "text": [
      "2021-12-01\n"
     ]
    }
   ],
   "source": [
    "print(dt)"
   ]
  },
  {
   "cell_type": "code",
   "execution_count": 7,
   "id": "7e7fe278",
   "metadata": {},
   "outputs": [
    {
     "ename": "ValueError",
     "evalue": "day is out of range for month",
     "output_type": "error",
     "traceback": [
      "\u001b[1;31m---------------------------------------------------------------------------\u001b[0m",
      "\u001b[1;31mValueError\u001b[0m                                Traceback (most recent call last)",
      "\u001b[1;32m<ipython-input-7-f0b60b02a12d>\u001b[0m in \u001b[0;36m<module>\u001b[1;34m\u001b[0m\n\u001b[1;32m----> 1\u001b[1;33m \u001b[0mdt\u001b[0m \u001b[1;33m=\u001b[0m \u001b[0mdatetime\u001b[0m\u001b[1;33m.\u001b[0m\u001b[0mdate\u001b[0m\u001b[1;33m(\u001b[0m\u001b[0myear\u001b[0m\u001b[1;33m=\u001b[0m\u001b[1;36m2021\u001b[0m\u001b[1;33m,\u001b[0m \u001b[0mmonth\u001b[0m\u001b[1;33m=\u001b[0m\u001b[1;36m2\u001b[0m\u001b[1;33m,\u001b[0m \u001b[0mday\u001b[0m\u001b[1;33m=\u001b[0m\u001b[1;36m30\u001b[0m\u001b[1;33m)\u001b[0m\u001b[1;33m\u001b[0m\u001b[1;33m\u001b[0m\u001b[0m\n\u001b[0m\u001b[0;32m      2\u001b[0m \u001b[0mdt\u001b[0m\u001b[1;33m\u001b[0m\u001b[1;33m\u001b[0m\u001b[0m\n",
      "\u001b[1;31mValueError\u001b[0m: day is out of range for month"
     ]
    }
   ],
   "source": [
    "dt = datetime.date(year=2021, month=2, day=30)\n",
    "dt"
   ]
  },
  {
   "cell_type": "code",
   "execution_count": 8,
   "id": "259fe765",
   "metadata": {},
   "outputs": [
    {
     "data": {
      "text/plain": [
       "datetime.datetime(2021, 12, 2, 12, 15, 12)"
      ]
     },
     "execution_count": 8,
     "metadata": {},
     "output_type": "execute_result"
    }
   ],
   "source": [
    "dt = datetime.datetime(year=2021, month=12, day=2, hour=12, minute=15, second=12)\n",
    "dt"
   ]
  },
  {
   "cell_type": "code",
   "execution_count": 9,
   "id": "ab4b6cba",
   "metadata": {},
   "outputs": [],
   "source": [
    "from datetime import datetime, date, time"
   ]
  },
  {
   "cell_type": "code",
   "execution_count": 13,
   "id": "3df942ef",
   "metadata": {},
   "outputs": [
    {
     "name": "stdout",
     "output_type": "stream",
     "text": [
      "date: 2021-12-20 12:30:15\n",
      "day: 20\n",
      "minute: 30\n",
      "weekday: 0\n",
      "ISOWeekday: 1\n",
      "ISOFormat: 2021-12-20T12:30:15\n",
      "ctime: Mon Dec 20 12:30:15 2021\n",
      "Current datetime: 2021-12-19 12:40:55.147720\n"
     ]
    }
   ],
   "source": [
    "d = datetime(2021, 12, 20, 12, 30, 15)\n",
    "print('date:', d)\n",
    "print('day:', d.day)\n",
    "print('minute:', d.minute)\n",
    "print('weekday:', d.weekday())\n",
    "print('ISOWeekday:', d.isoweekday())\n",
    "print('ISOFormat:', d.isoformat())\n",
    "# print(d.strftime())\n",
    "print('ctime:', d.ctime())\n",
    "print('Current datetime:', d.now())"
   ]
  },
  {
   "cell_type": "code",
   "execution_count": 7,
   "id": "1ad566df",
   "metadata": {},
   "outputs": [
    {
     "name": "stdout",
     "output_type": "stream",
     "text": [
      "2021-12-03\n",
      "2021-12-03 17:52:46.200417\n"
     ]
    }
   ],
   "source": [
    "print(date.today())\n",
    "print(datetime.today())"
   ]
  },
  {
   "cell_type": "code",
   "execution_count": 11,
   "id": "b46a5876",
   "metadata": {},
   "outputs": [
    {
     "data": {
      "text/plain": [
       "time.struct_time(tm_year=2021, tm_mon=12, tm_mday=3, tm_hour=12, tm_min=30, tm_sec=15, tm_wday=4, tm_yday=337, tm_isdst=-1)"
      ]
     },
     "execution_count": 11,
     "metadata": {},
     "output_type": "execute_result"
    }
   ],
   "source": [
    "d.timetuple()"
   ]
  },
  {
   "cell_type": "markdown",
   "id": "96135c51",
   "metadata": {},
   "source": [
    "## Datetime Index"
   ]
  },
  {
   "cell_type": "code",
   "execution_count": 14,
   "id": "250e35f8",
   "metadata": {},
   "outputs": [],
   "source": [
    "import numpy as np"
   ]
  },
  {
   "cell_type": "code",
   "execution_count": 15,
   "id": "c04cc445",
   "metadata": {},
   "outputs": [
    {
     "name": "stdout",
     "output_type": "stream",
     "text": [
      "['2021-12-01' '2021-12-02' '2021-12-03']\n",
      "['2021-12-01' '2021-12-02' '2021-12-03']\n",
      "['2021' '2021' '2021']\n",
      "['2021-12' '2021-12' '2021-12']\n",
      "['2021-12-01T00' '2021-12-02T00' '2021-12-03T00']\n",
      "['2021-12-01T00:00:00.000000000' '2021-12-02T00:00:00.000000000'\n",
      " '2021-12-03T00:00:00.000000000']\n"
     ]
    }
   ],
   "source": [
    "print(np.array(['2021-12-01','2021-12-02','2021-12-03']))\n",
    "print(np.array(['2021-12-01','2021-12-02','2021-12-03'], dtype='datetime64'))\n",
    "print(np.array(['2021-12-01','2021-12-02','2021-12-03'], dtype='datetime64[Y]'))\n",
    "print(np.array(['2021-12-01','2021-12-02','2021-12-03'], dtype='datetime64[M]'))\n",
    "print(np.array(['2021-12-01','2021-12-02','2021-12-03'], dtype='datetime64[h]'))\n",
    "print(np.array(['2021-12-01','2021-12-02','2021-12-03'], dtype='datetime64[ns]'))\n"
   ]
  },
  {
   "cell_type": "code",
   "execution_count": 16,
   "id": "4e4deed4",
   "metadata": {},
   "outputs": [
    {
     "data": {
      "text/plain": [
       "array(['2021-11-01', '2021-11-02', '2021-11-03', '2021-11-04',\n",
       "       '2021-11-05', '2021-11-06', '2021-11-07', '2021-11-08',\n",
       "       '2021-11-09', '2021-11-10', '2021-11-11', '2021-11-12',\n",
       "       '2021-11-13', '2021-11-14', '2021-11-15', '2021-11-16',\n",
       "       '2021-11-17', '2021-11-18', '2021-11-19', '2021-11-20',\n",
       "       '2021-11-21', '2021-11-22', '2021-11-23', '2021-11-24',\n",
       "       '2021-11-25', '2021-11-26', '2021-11-27', '2021-11-28',\n",
       "       '2021-11-29', '2021-11-30'], dtype='datetime64[D]')"
      ]
     },
     "execution_count": 16,
     "metadata": {},
     "output_type": "execute_result"
    }
   ],
   "source": [
    "np.arange(start='2021-11-01', stop='2021-12-01', step=1, dtype='datetime64[D]')"
   ]
  },
  {
   "cell_type": "code",
   "execution_count": 17,
   "id": "fd351574",
   "metadata": {},
   "outputs": [
    {
     "data": {
      "text/plain": [
       "array(['2021-10-28', '2021-11-04', '2021-11-11', '2021-11-18'],\n",
       "      dtype='datetime64[W]')"
      ]
     },
     "execution_count": 17,
     "metadata": {},
     "output_type": "execute_result"
    }
   ],
   "source": [
    "np.arange(start='2021-11-01', stop='2021-12-01', step=1, dtype='datetime64[W]')"
   ]
  },
  {
   "cell_type": "code",
   "execution_count": 18,
   "id": "ba640e35",
   "metadata": {},
   "outputs": [
    {
     "data": {
      "text/plain": [
       "array(['2021-11-01', '2021-11-08', '2021-11-15', '2021-11-22',\n",
       "       '2021-11-29'], dtype='datetime64[D]')"
      ]
     },
     "execution_count": 18,
     "metadata": {},
     "output_type": "execute_result"
    }
   ],
   "source": [
    "np.arange(start='2021-11-01', stop='2021-12-01', step=7, dtype='datetime64[D]')"
   ]
  },
  {
   "cell_type": "code",
   "execution_count": 19,
   "id": "55cea0be",
   "metadata": {},
   "outputs": [
    {
     "data": {
      "text/plain": [
       "array(['2000', '2001', '2002', '2003', '2004', '2005', '2006', '2007',\n",
       "       '2008', '2009', '2010', '2011', '2012', '2013', '2014', '2015',\n",
       "       '2016', '2017', '2018', '2019', '2020'], dtype='datetime64[Y]')"
      ]
     },
     "execution_count": 19,
     "metadata": {},
     "output_type": "execute_result"
    }
   ],
   "source": [
    "np.arange(start='2000-11-01', stop='2021-12-01', dtype='datetime64[Y]')"
   ]
  },
  {
   "cell_type": "code",
   "execution_count": null,
   "id": "85201ec2",
   "metadata": {},
   "outputs": [],
   "source": []
  }
 ],
 "metadata": {
  "kernelspec": {
   "display_name": "Python 3",
   "language": "python",
   "name": "python3"
  },
  "language_info": {
   "codemirror_mode": {
    "name": "ipython",
    "version": 3
   },
   "file_extension": ".py",
   "mimetype": "text/x-python",
   "name": "python",
   "nbconvert_exporter": "python",
   "pygments_lexer": "ipython3",
   "version": "3.9.4"
  }
 },
 "nbformat": 4,
 "nbformat_minor": 5
}
