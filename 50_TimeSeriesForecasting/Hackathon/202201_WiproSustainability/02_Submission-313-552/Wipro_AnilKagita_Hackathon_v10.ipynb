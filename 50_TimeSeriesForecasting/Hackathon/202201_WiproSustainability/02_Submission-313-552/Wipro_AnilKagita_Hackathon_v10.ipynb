{
 "cells": [
  {
   "cell_type": "code",
   "execution_count": 1,
   "id": "c37f76af",
   "metadata": {},
   "outputs": [],
   "source": [
    "import tensorflow as tf\n",
    "gpus = tf.config.experimental.list_physical_devices('GPU')\n",
    "for gpu in gpus:\n",
    "    tf.config.experimental.set_memory_growth(gpu, enable=True)"
   ]
  },
  {
   "cell_type": "code",
   "execution_count": 2,
   "id": "c43eca9e",
   "metadata": {},
   "outputs": [
    {
     "name": "stdout",
     "output_type": "stream",
     "text": [
      "Sun Feb  6 09:25:38 2022       \n",
      "+-----------------------------------------------------------------------------+\n",
      "| NVIDIA-SMI 471.35       Driver Version: 471.35       CUDA Version: 11.4     |\n",
      "|-------------------------------+----------------------+----------------------+\n",
      "| GPU  Name            TCC/WDDM | Bus-Id        Disp.A | Volatile Uncorr. ECC |\n",
      "| Fan  Temp  Perf  Pwr:Usage/Cap|         Memory-Usage | GPU-Util  Compute M. |\n",
      "|                               |                      |               MIG M. |\n",
      "|===============================+======================+======================|\n",
      "|   0  NVIDIA GeForce ... WDDM  | 00000000:01:00.0  On |                  N/A |\n",
      "| N/A   51C    P0    24W /  N/A |    660MiB /  6144MiB |      1%      Default |\n",
      "|                               |                      |                  N/A |\n",
      "+-------------------------------+----------------------+----------------------+\n",
      "                                                                               \n",
      "+-----------------------------------------------------------------------------+\n",
      "| Processes:                                                                  |\n",
      "|  GPU   GI   CI        PID   Type   Process name                  GPU Memory |\n",
      "|        ID   ID                                                   Usage      |\n",
      "|=============================================================================|\n",
      "|    0   N/A  N/A      1476    C+G   ...cw5n1h2txyewy\\LockApp.exe    N/A      |\n",
      "|    0   N/A  N/A      1684    C+G   ...ge\\Application\\msedge.exe    N/A      |\n",
      "|    0   N/A  N/A      3348    C+G   ...4__8j3eq9eme6ctt\\IGCC.exe    N/A      |\n",
      "|    0   N/A  N/A      4608    C+G   ...072.76\\msedgewebview2.exe    N/A      |\n",
      "|    0   N/A  N/A      9796    C+G   ...artMenuExperienceHost.exe    N/A      |\n",
      "|    0   N/A  N/A      9828    C+G   ...lPanel\\SystemSettings.exe    N/A      |\n",
      "|    0   N/A  N/A     10812    C+G   ...108.43\\msedgewebview2.exe    N/A      |\n",
      "|    0   N/A  N/A     11096    C+G   ...ng Tool\\App\\Snip.Clip.exe    N/A      |\n",
      "|    0   N/A  N/A     14620    C+G   ...me\\Application\\chrome.exe    N/A      |\n",
      "|    0   N/A  N/A     16268    C+G   ...ekyb3d8bbwe\\YourPhone.exe    N/A      |\n",
      "|    0   N/A  N/A     16744    C+G   C:\\Windows\\explorer.exe         N/A      |\n",
      "|    0   N/A  N/A     17640    C+G   ...bbwe\\Microsoft.Photos.exe    N/A      |\n",
      "|    0   N/A  N/A     18400    C+G   ...ekyb3d8bbwe\\onenoteim.exe    N/A      |\n",
      "|    0   N/A  N/A     19436    C+G   ...n1h2txyewy\\SearchHost.exe    N/A      |\n",
      "|    0   N/A  N/A     20988    C+G   ...4__htrsf667h5kn2\\AWCC.exe    N/A      |\n",
      "|    0   N/A  N/A     21852    C+G   Insufficient Permissions        N/A      |\n",
      "|    0   N/A  N/A     22100    C+G   ...8wekyb3d8bbwe\\Cortana.exe    N/A      |\n",
      "|    0   N/A  N/A     24076    C+G   ...perience\\NVIDIA Share.exe    N/A      |\n",
      "+-----------------------------------------------------------------------------+\n"
     ]
    }
   ],
   "source": [
    "!nvidia-smi"
   ]
  },
  {
   "cell_type": "code",
   "execution_count": 3,
   "id": "ae762ea0",
   "metadata": {},
   "outputs": [],
   "source": [
    "import numpy as np\n",
    "import pandas as pd\n",
    "import matplotlib.pyplot as plt"
   ]
  },
  {
   "cell_type": "markdown",
   "id": "c508ac6c",
   "metadata": {},
   "source": [
    "# Data Pre-processing"
   ]
  },
  {
   "cell_type": "markdown",
   "id": "953ecc6d",
   "metadata": {},
   "source": [
    "### Reading the data converting into TimeSeries format"
   ]
  },
  {
   "cell_type": "code",
   "execution_count": 4,
   "id": "38e18494",
   "metadata": {},
   "outputs": [],
   "source": [
    "COLUMN_LIST_GIVEN = ['Clearsky DHI', 'Clearsky DNI', 'Clearsky GHI', 'Temperature', 'Cloud Type', 'Dew Point', 'Fill Flag', \n",
    "           'Relative Humidity', 'Solar Zenith Angle', 'Pressure', 'Precipitable Water', 'Wind Direction', 'Wind Speed']"
   ]
  },
  {
   "cell_type": "code",
   "execution_count": 5,
   "id": "dbfa6ea4",
   "metadata": {},
   "outputs": [],
   "source": [
    "def convert_ts_csv_to_df(csvfile):\n",
    "    '''Take the CSV file along with the path and return dataframe'''\n",
    "    df = pd.read_csv(csvfile)\n",
    "    df.insert(loc=0, column='Date', \n",
    "                value=pd.to_datetime(df[['Year', 'Month', 'Day', 'Hour', 'Minute']]))\n",
    "    df.drop(columns=['Year', 'Month', 'Day', 'Hour', 'Minute'], axis=1, inplace=True)\n",
    "    df.set_index(keys='Date', inplace=True)\n",
    "    df['Clearsky DHI'] = df['Clearsky DHI'].replace(to_replace=0, value=1)\n",
    "    df['Clearsky DNI'] = df['Clearsky DNI'].replace(to_replace=0, value=1)\n",
    "    df['Clearsky GHI'] = df['Clearsky GHI'].replace(to_replace=0, value=1)\n",
    "    df=df[COLUMN_LIST_GIVEN]\n",
    "    return df"
   ]
  },
  {
   "cell_type": "code",
   "execution_count": 6,
   "id": "23bd95be",
   "metadata": {},
   "outputs": [],
   "source": [
    "training_csv = 'data/train.csv'\n",
    "testing_csv = 'data/test.csv'"
   ]
  },
  {
   "cell_type": "code",
   "execution_count": 7,
   "id": "c6cafb7d",
   "metadata": {},
   "outputs": [
    {
     "data": {
      "text/html": [
       "<div>\n",
       "<style scoped>\n",
       "    .dataframe tbody tr th:only-of-type {\n",
       "        vertical-align: middle;\n",
       "    }\n",
       "\n",
       "    .dataframe tbody tr th {\n",
       "        vertical-align: top;\n",
       "    }\n",
       "\n",
       "    .dataframe thead th {\n",
       "        text-align: right;\n",
       "    }\n",
       "</style>\n",
       "<table border=\"1\" class=\"dataframe\">\n",
       "  <thead>\n",
       "    <tr style=\"text-align: right;\">\n",
       "      <th></th>\n",
       "      <th>Clearsky DHI</th>\n",
       "      <th>Clearsky DNI</th>\n",
       "      <th>Clearsky GHI</th>\n",
       "      <th>Temperature</th>\n",
       "      <th>Cloud Type</th>\n",
       "      <th>Dew Point</th>\n",
       "      <th>Fill Flag</th>\n",
       "      <th>Relative Humidity</th>\n",
       "      <th>Solar Zenith Angle</th>\n",
       "      <th>Pressure</th>\n",
       "      <th>Precipitable Water</th>\n",
       "      <th>Wind Direction</th>\n",
       "      <th>Wind Speed</th>\n",
       "    </tr>\n",
       "    <tr>\n",
       "      <th>Date</th>\n",
       "      <th></th>\n",
       "      <th></th>\n",
       "      <th></th>\n",
       "      <th></th>\n",
       "      <th></th>\n",
       "      <th></th>\n",
       "      <th></th>\n",
       "      <th></th>\n",
       "      <th></th>\n",
       "      <th></th>\n",
       "      <th></th>\n",
       "      <th></th>\n",
       "      <th></th>\n",
       "    </tr>\n",
       "  </thead>\n",
       "  <tbody>\n",
       "    <tr>\n",
       "      <th>2015-04-08 22:00:00</th>\n",
       "      <td>115</td>\n",
       "      <td>555</td>\n",
       "      <td>345</td>\n",
       "      <td>26.0</td>\n",
       "      <td>0</td>\n",
       "      <td>21.0</td>\n",
       "      <td>0</td>\n",
       "      <td>74.22</td>\n",
       "      <td>65.51</td>\n",
       "      <td>1000</td>\n",
       "      <td>3.882</td>\n",
       "      <td>206.3</td>\n",
       "      <td>1.4</td>\n",
       "    </tr>\n",
       "    <tr>\n",
       "      <th>2018-10-15 22:30:00</th>\n",
       "      <td>33</td>\n",
       "      <td>349</td>\n",
       "      <td>71</td>\n",
       "      <td>27.2</td>\n",
       "      <td>0</td>\n",
       "      <td>22.7</td>\n",
       "      <td>29</td>\n",
       "      <td>76.44</td>\n",
       "      <td>83.83</td>\n",
       "      <td>1008</td>\n",
       "      <td>4.000</td>\n",
       "      <td>236.0</td>\n",
       "      <td>0.8</td>\n",
       "    </tr>\n",
       "  </tbody>\n",
       "</table>\n",
       "</div>"
      ],
      "text/plain": [
       "                     Clearsky DHI  Clearsky DNI  Clearsky GHI  Temperature  \\\n",
       "Date                                                                         \n",
       "2015-04-08 22:00:00           115           555           345         26.0   \n",
       "2018-10-15 22:30:00            33           349            71         27.2   \n",
       "\n",
       "                     Cloud Type  Dew Point  Fill Flag  Relative Humidity  \\\n",
       "Date                                                                       \n",
       "2015-04-08 22:00:00           0       21.0          0              74.22   \n",
       "2018-10-15 22:30:00           0       22.7         29              76.44   \n",
       "\n",
       "                     Solar Zenith Angle  Pressure  Precipitable Water  \\\n",
       "Date                                                                    \n",
       "2015-04-08 22:00:00               65.51      1000               3.882   \n",
       "2018-10-15 22:30:00               83.83      1008               4.000   \n",
       "\n",
       "                     Wind Direction  Wind Speed  \n",
       "Date                                             \n",
       "2015-04-08 22:00:00           206.3         1.4  \n",
       "2018-10-15 22:30:00           236.0         0.8  "
      ]
     },
     "execution_count": 7,
     "metadata": {},
     "output_type": "execute_result"
    }
   ],
   "source": [
    "df_solar = convert_ts_csv_to_df(training_csv)\n",
    "df_solar.sample(2)"
   ]
  },
  {
   "cell_type": "code",
   "execution_count": 8,
   "id": "d1833ac9",
   "metadata": {},
   "outputs": [
    {
     "data": {
      "text/html": [
       "<div>\n",
       "<style scoped>\n",
       "    .dataframe tbody tr th:only-of-type {\n",
       "        vertical-align: middle;\n",
       "    }\n",
       "\n",
       "    .dataframe tbody tr th {\n",
       "        vertical-align: top;\n",
       "    }\n",
       "\n",
       "    .dataframe thead th {\n",
       "        text-align: right;\n",
       "    }\n",
       "</style>\n",
       "<table border=\"1\" class=\"dataframe\">\n",
       "  <thead>\n",
       "    <tr style=\"text-align: right;\">\n",
       "      <th></th>\n",
       "      <th>Clearsky DHI</th>\n",
       "      <th>Clearsky DNI</th>\n",
       "      <th>Clearsky GHI</th>\n",
       "      <th>Temperature</th>\n",
       "      <th>Cloud Type</th>\n",
       "      <th>Dew Point</th>\n",
       "      <th>Fill Flag</th>\n",
       "      <th>Relative Humidity</th>\n",
       "      <th>Solar Zenith Angle</th>\n",
       "      <th>Pressure</th>\n",
       "      <th>Precipitable Water</th>\n",
       "      <th>Wind Direction</th>\n",
       "      <th>Wind Speed</th>\n",
       "    </tr>\n",
       "    <tr>\n",
       "      <th>Date</th>\n",
       "      <th></th>\n",
       "      <th></th>\n",
       "      <th></th>\n",
       "      <th></th>\n",
       "      <th></th>\n",
       "      <th></th>\n",
       "      <th></th>\n",
       "      <th></th>\n",
       "      <th></th>\n",
       "      <th></th>\n",
       "      <th></th>\n",
       "      <th></th>\n",
       "      <th></th>\n",
       "    </tr>\n",
       "  </thead>\n",
       "  <tbody>\n",
       "    <tr>\n",
       "      <th>2019-04-29 02:30:00</th>\n",
       "      <td>NaN</td>\n",
       "      <td>NaN</td>\n",
       "      <td>NaN</td>\n",
       "      <td>17.9</td>\n",
       "      <td>0</td>\n",
       "      <td>13.0</td>\n",
       "      <td>0</td>\n",
       "      <td>72.82</td>\n",
       "      <td>116.35</td>\n",
       "      <td>1008</td>\n",
       "      <td>1.8</td>\n",
       "      <td>205</td>\n",
       "      <td>1.3</td>\n",
       "    </tr>\n",
       "    <tr>\n",
       "      <th>2019-02-08 11:00:00</th>\n",
       "      <td>NaN</td>\n",
       "      <td>NaN</td>\n",
       "      <td>NaN</td>\n",
       "      <td>15.1</td>\n",
       "      <td>3</td>\n",
       "      <td>15.1</td>\n",
       "      <td>0</td>\n",
       "      <td>100.00</td>\n",
       "      <td>108.22</td>\n",
       "      <td>1011</td>\n",
       "      <td>3.3</td>\n",
       "      <td>250</td>\n",
       "      <td>2.4</td>\n",
       "    </tr>\n",
       "  </tbody>\n",
       "</table>\n",
       "</div>"
      ],
      "text/plain": [
       "                     Clearsky DHI  Clearsky DNI  Clearsky GHI  Temperature  \\\n",
       "Date                                                                         \n",
       "2019-04-29 02:30:00           NaN           NaN           NaN         17.9   \n",
       "2019-02-08 11:00:00           NaN           NaN           NaN         15.1   \n",
       "\n",
       "                     Cloud Type  Dew Point  Fill Flag  Relative Humidity  \\\n",
       "Date                                                                       \n",
       "2019-04-29 02:30:00           0       13.0          0              72.82   \n",
       "2019-02-08 11:00:00           3       15.1          0             100.00   \n",
       "\n",
       "                     Solar Zenith Angle  Pressure  Precipitable Water  \\\n",
       "Date                                                                    \n",
       "2019-04-29 02:30:00              116.35      1008                 1.8   \n",
       "2019-02-08 11:00:00              108.22      1011                 3.3   \n",
       "\n",
       "                     Wind Direction  Wind Speed  \n",
       "Date                                             \n",
       "2019-04-29 02:30:00             205         1.3  \n",
       "2019-02-08 11:00:00             250         2.4  "
      ]
     },
     "execution_count": 8,
     "metadata": {},
     "output_type": "execute_result"
    }
   ],
   "source": [
    "# Reading the test dataset as Val\n",
    "# Train dataset shall be split into Train and Test\n",
    "# Val is read to understand the data and null values\n",
    "df_solar_test = convert_ts_csv_to_df(testing_csv)\n",
    "df_solar_test.sample(2)"
   ]
  },
  {
   "cell_type": "code",
   "execution_count": 9,
   "id": "0348043a",
   "metadata": {},
   "outputs": [
    {
     "data": {
      "text/plain": [
       "(17520, 13)"
      ]
     },
     "execution_count": 9,
     "metadata": {},
     "output_type": "execute_result"
    }
   ],
   "source": [
    "df_solar_test.shape"
   ]
  },
  {
   "cell_type": "markdown",
   "id": "e5253a45",
   "metadata": {},
   "source": [
    "### Data Check"
   ]
  },
  {
   "cell_type": "markdown",
   "id": "ce54a650",
   "metadata": {},
   "source": [
    "##### Null Check"
   ]
  },
  {
   "cell_type": "code",
   "execution_count": 10,
   "id": "ce0886b6",
   "metadata": {},
   "outputs": [
    {
     "data": {
      "text/plain": [
       "Clearsky DHI          0\n",
       "Clearsky DNI          0\n",
       "Clearsky GHI          0\n",
       "Temperature           0\n",
       "Cloud Type            0\n",
       "Dew Point             0\n",
       "Fill Flag             0\n",
       "Relative Humidity     0\n",
       "Solar Zenith Angle    0\n",
       "Pressure              0\n",
       "Precipitable Water    0\n",
       "Wind Direction        0\n",
       "Wind Speed            0\n",
       "dtype: int64"
      ]
     },
     "execution_count": 10,
     "metadata": {},
     "output_type": "execute_result"
    }
   ],
   "source": [
    "df_solar.isnull().sum()"
   ]
  },
  {
   "cell_type": "code",
   "execution_count": 11,
   "id": "a1714a67",
   "metadata": {},
   "outputs": [
    {
     "data": {
      "text/plain": [
       "Clearsky DHI          17520\n",
       "Clearsky DNI          17520\n",
       "Clearsky GHI          17520\n",
       "Temperature               0\n",
       "Cloud Type                0\n",
       "Dew Point                 0\n",
       "Fill Flag                 0\n",
       "Relative Humidity         0\n",
       "Solar Zenith Angle        0\n",
       "Pressure                  0\n",
       "Precipitable Water        0\n",
       "Wind Direction            0\n",
       "Wind Speed                0\n",
       "dtype: int64"
      ]
     },
     "execution_count": 11,
     "metadata": {},
     "output_type": "execute_result"
    }
   ],
   "source": [
    "df_solar_test.isnull().sum()"
   ]
  },
  {
   "cell_type": "markdown",
   "id": "7f873485",
   "metadata": {},
   "source": [
    "# Feature Selection"
   ]
  },
  {
   "cell_type": "markdown",
   "id": "7ffa4e68",
   "metadata": {},
   "source": [
    "##### Datatype Check and convert to floats for Scaling data"
   ]
  },
  {
   "cell_type": "code",
   "execution_count": 12,
   "id": "808f0a01",
   "metadata": {},
   "outputs": [
    {
     "name": "stdout",
     "output_type": "stream",
     "text": [
      "<class 'pandas.core.frame.DataFrame'>\n",
      "DatetimeIndex: 175296 entries, 2009-01-01 00:00:00 to 2018-12-31 23:30:00\n",
      "Data columns (total 13 columns):\n",
      " #   Column              Non-Null Count   Dtype  \n",
      "---  ------              --------------   -----  \n",
      " 0   Clearsky DHI        175296 non-null  int64  \n",
      " 1   Clearsky DNI        175296 non-null  int64  \n",
      " 2   Clearsky GHI        175296 non-null  int64  \n",
      " 3   Temperature         175296 non-null  float64\n",
      " 4   Cloud Type          175296 non-null  int64  \n",
      " 5   Dew Point           175296 non-null  float64\n",
      " 6   Fill Flag           175296 non-null  int64  \n",
      " 7   Relative Humidity   175296 non-null  float64\n",
      " 8   Solar Zenith Angle  175296 non-null  float64\n",
      " 9   Pressure            175296 non-null  int64  \n",
      " 10  Precipitable Water  175296 non-null  float64\n",
      " 11  Wind Direction      175296 non-null  float64\n",
      " 12  Wind Speed          175296 non-null  float64\n",
      "dtypes: float64(7), int64(6)\n",
      "memory usage: 18.7 MB\n"
     ]
    }
   ],
   "source": [
    "df_solar.info()"
   ]
  },
  {
   "cell_type": "code",
   "execution_count": 13,
   "id": "853d7b28",
   "metadata": {},
   "outputs": [],
   "source": [
    "df_solar = df_solar.astype(np.float64)"
   ]
  },
  {
   "cell_type": "code",
   "execution_count": 14,
   "id": "6a076c35",
   "metadata": {},
   "outputs": [
    {
     "name": "stdout",
     "output_type": "stream",
     "text": [
      "<class 'pandas.core.frame.DataFrame'>\n",
      "DatetimeIndex: 175296 entries, 2009-01-01 00:00:00 to 2018-12-31 23:30:00\n",
      "Data columns (total 13 columns):\n",
      " #   Column              Non-Null Count   Dtype  \n",
      "---  ------              --------------   -----  \n",
      " 0   Clearsky DHI        175296 non-null  float64\n",
      " 1   Clearsky DNI        175296 non-null  float64\n",
      " 2   Clearsky GHI        175296 non-null  float64\n",
      " 3   Temperature         175296 non-null  float64\n",
      " 4   Cloud Type          175296 non-null  float64\n",
      " 5   Dew Point           175296 non-null  float64\n",
      " 6   Fill Flag           175296 non-null  float64\n",
      " 7   Relative Humidity   175296 non-null  float64\n",
      " 8   Solar Zenith Angle  175296 non-null  float64\n",
      " 9   Pressure            175296 non-null  float64\n",
      " 10  Precipitable Water  175296 non-null  float64\n",
      " 11  Wind Direction      175296 non-null  float64\n",
      " 12  Wind Speed          175296 non-null  float64\n",
      "dtypes: float64(13)\n",
      "memory usage: 18.7 MB\n"
     ]
    }
   ],
   "source": [
    "df_solar.info()"
   ]
  },
  {
   "cell_type": "markdown",
   "id": "0ddbe8da",
   "metadata": {},
   "source": [
    "##### Feature update based on domain"
   ]
  },
  {
   "cell_type": "code",
   "execution_count": 15,
   "id": "9cf8e1a2",
   "metadata": {},
   "outputs": [
    {
     "name": "stdout",
     "output_type": "stream",
     "text": [
      "\n",
      "Source: https://www.yellowhaze.in/solar-irradiance/\n",
      "Global Horizontal Irradiance (GHI) = Direct Normal Irradiance (DNI)* cos(solar zenith angle)  +  Diffused Horizontal Irradiance (DHI)\n"
     ]
    }
   ],
   "source": [
    "print('''\n",
    "Source: https://www.yellowhaze.in/solar-irradiance/\n",
    "Global Horizontal Irradiance (GHI) = Direct Normal Irradiance (DNI)* cos(solar zenith angle)  +  Diffused Horizontal Irradiance (DHI)''')"
   ]
  },
  {
   "cell_type": "code",
   "execution_count": 16,
   "id": "99bffe0f",
   "metadata": {},
   "outputs": [
    {
     "data": {
      "text/plain": [
       "count    175296.000000\n",
       "mean         89.729463\n",
       "std          40.085451\n",
       "min           8.550000\n",
       "25%          56.450000\n",
       "50%          89.860000\n",
       "75%         123.060000\n",
       "max         171.550000\n",
       "Name: Solar Zenith Angle, dtype: float64"
      ]
     },
     "execution_count": 16,
     "metadata": {},
     "output_type": "execute_result"
    }
   ],
   "source": [
    "df_solar['Solar Zenith Angle'].describe()"
   ]
  },
  {
   "cell_type": "code",
   "execution_count": 17,
   "id": "d8ae9c53",
   "metadata": {},
   "outputs": [
    {
     "name": "stdout",
     "output_type": "stream",
     "text": [
      "This shows the Zenith Angle is given in degrees with a min or 35 and max of 171 approximately\n"
     ]
    }
   ],
   "source": [
    "print('''This shows the Zenith Angle is given in degrees with a min or 35 and max of 171 approximately''')"
   ]
  },
  {
   "cell_type": "code",
   "execution_count": 18,
   "id": "a5de5018",
   "metadata": {},
   "outputs": [],
   "source": [
    "from math import cos, radians"
   ]
  },
  {
   "cell_type": "code",
   "execution_count": 19,
   "id": "f198ba60",
   "metadata": {},
   "outputs": [],
   "source": [
    "df_solar['Cos Zenith'] = df_solar['Solar Zenith Angle'].apply(lambda x: cos(radians(x)))"
   ]
  },
  {
   "cell_type": "code",
   "execution_count": 20,
   "id": "4bf7e71d",
   "metadata": {},
   "outputs": [
    {
     "data": {
      "text/plain": [
       "count    175296.000000\n",
       "mean          0.003547\n",
       "std           0.595196\n",
       "min          -0.989144\n",
       "25%          -0.545517\n",
       "50%           0.002443\n",
       "75%           0.552664\n",
       "max           0.988886\n",
       "Name: Cos Zenith, dtype: float64"
      ]
     },
     "execution_count": 20,
     "metadata": {},
     "output_type": "execute_result"
    }
   ],
   "source": [
    "df_solar['Cos Zenith'].describe()"
   ]
  },
  {
   "cell_type": "code",
   "execution_count": 21,
   "id": "20715760",
   "metadata": {},
   "outputs": [],
   "source": [
    "df_solar.drop(columns='Solar Zenith Angle', inplace=True)"
   ]
  },
  {
   "cell_type": "code",
   "execution_count": 22,
   "id": "6c833ddf",
   "metadata": {},
   "outputs": [
    {
     "data": {
      "text/html": [
       "<div>\n",
       "<style scoped>\n",
       "    .dataframe tbody tr th:only-of-type {\n",
       "        vertical-align: middle;\n",
       "    }\n",
       "\n",
       "    .dataframe tbody tr th {\n",
       "        vertical-align: top;\n",
       "    }\n",
       "\n",
       "    .dataframe thead th {\n",
       "        text-align: right;\n",
       "    }\n",
       "</style>\n",
       "<table border=\"1\" class=\"dataframe\">\n",
       "  <thead>\n",
       "    <tr style=\"text-align: right;\">\n",
       "      <th></th>\n",
       "      <th>Clearsky DHI</th>\n",
       "      <th>Clearsky DNI</th>\n",
       "      <th>Clearsky GHI</th>\n",
       "      <th>Temperature</th>\n",
       "      <th>Cloud Type</th>\n",
       "      <th>Dew Point</th>\n",
       "      <th>Fill Flag</th>\n",
       "      <th>Relative Humidity</th>\n",
       "      <th>Pressure</th>\n",
       "      <th>Precipitable Water</th>\n",
       "      <th>Wind Direction</th>\n",
       "      <th>Wind Speed</th>\n",
       "      <th>Cos Zenith</th>\n",
       "    </tr>\n",
       "    <tr>\n",
       "      <th>Date</th>\n",
       "      <th></th>\n",
       "      <th></th>\n",
       "      <th></th>\n",
       "      <th></th>\n",
       "      <th></th>\n",
       "      <th></th>\n",
       "      <th></th>\n",
       "      <th></th>\n",
       "      <th></th>\n",
       "      <th></th>\n",
       "      <th></th>\n",
       "      <th></th>\n",
       "      <th></th>\n",
       "    </tr>\n",
       "  </thead>\n",
       "  <tbody>\n",
       "    <tr>\n",
       "      <th>2017-04-17 16:30:00</th>\n",
       "      <td>161.0</td>\n",
       "      <td>832.0</td>\n",
       "      <td>911.0</td>\n",
       "      <td>26.0</td>\n",
       "      <td>0.0</td>\n",
       "      <td>16.0</td>\n",
       "      <td>0.0</td>\n",
       "      <td>57.06</td>\n",
       "      <td>1010.0</td>\n",
       "      <td>3.041</td>\n",
       "      <td>233.2</td>\n",
       "      <td>1.3</td>\n",
       "      <td>0.899482</td>\n",
       "    </tr>\n",
       "    <tr>\n",
       "      <th>2009-06-10 04:00:00</th>\n",
       "      <td>1.0</td>\n",
       "      <td>1.0</td>\n",
       "      <td>1.0</td>\n",
       "      <td>22.0</td>\n",
       "      <td>0.0</td>\n",
       "      <td>20.0</td>\n",
       "      <td>0.0</td>\n",
       "      <td>93.40</td>\n",
       "      <td>1000.0</td>\n",
       "      <td>3.620</td>\n",
       "      <td>299.5</td>\n",
       "      <td>1.2</td>\n",
       "      <td>-0.509342</td>\n",
       "    </tr>\n",
       "  </tbody>\n",
       "</table>\n",
       "</div>"
      ],
      "text/plain": [
       "                     Clearsky DHI  Clearsky DNI  Clearsky GHI  Temperature  \\\n",
       "Date                                                                         \n",
       "2017-04-17 16:30:00         161.0         832.0         911.0         26.0   \n",
       "2009-06-10 04:00:00           1.0           1.0           1.0         22.0   \n",
       "\n",
       "                     Cloud Type  Dew Point  Fill Flag  Relative Humidity  \\\n",
       "Date                                                                       \n",
       "2017-04-17 16:30:00         0.0       16.0        0.0              57.06   \n",
       "2009-06-10 04:00:00         0.0       20.0        0.0              93.40   \n",
       "\n",
       "                     Pressure  Precipitable Water  Wind Direction  Wind Speed  \\\n",
       "Date                                                                            \n",
       "2017-04-17 16:30:00    1010.0               3.041           233.2         1.3   \n",
       "2009-06-10 04:00:00    1000.0               3.620           299.5         1.2   \n",
       "\n",
       "                     Cos Zenith  \n",
       "Date                             \n",
       "2017-04-17 16:30:00    0.899482  \n",
       "2009-06-10 04:00:00   -0.509342  "
      ]
     },
     "execution_count": 22,
     "metadata": {},
     "output_type": "execute_result"
    }
   ],
   "source": [
    "df_solar.sample(2)"
   ]
  },
  {
   "cell_type": "code",
   "execution_count": 23,
   "id": "9281ad50",
   "metadata": {},
   "outputs": [
    {
     "data": {
      "text/plain": [
       "(175296, 13)"
      ]
     },
     "execution_count": 23,
     "metadata": {},
     "output_type": "execute_result"
    }
   ],
   "source": [
    "df_solar.shape"
   ]
  },
  {
   "cell_type": "markdown",
   "id": "ba8e729e",
   "metadata": {},
   "source": [
    "### Adding the Significance of Seasonality into TS\n",
    "Since we using Deep Learning, the significance of Timestamp is lost and the sinificance behaviour of data with respect to Seasonality. In order to avoid it, these parameters are added"
   ]
  },
  {
   "cell_type": "code",
   "execution_count": 24,
   "id": "4c19258f",
   "metadata": {},
   "outputs": [
    {
     "data": {
      "text/html": [
       "<div>\n",
       "<style scoped>\n",
       "    .dataframe tbody tr th:only-of-type {\n",
       "        vertical-align: middle;\n",
       "    }\n",
       "\n",
       "    .dataframe tbody tr th {\n",
       "        vertical-align: top;\n",
       "    }\n",
       "\n",
       "    .dataframe thead th {\n",
       "        text-align: right;\n",
       "    }\n",
       "</style>\n",
       "<table border=\"1\" class=\"dataframe\">\n",
       "  <thead>\n",
       "    <tr style=\"text-align: right;\">\n",
       "      <th></th>\n",
       "      <th>Clearsky DHI</th>\n",
       "      <th>Clearsky DNI</th>\n",
       "      <th>Clearsky GHI</th>\n",
       "      <th>Temperature</th>\n",
       "      <th>Cloud Type</th>\n",
       "      <th>Dew Point</th>\n",
       "      <th>Fill Flag</th>\n",
       "      <th>Relative Humidity</th>\n",
       "      <th>Pressure</th>\n",
       "      <th>Precipitable Water</th>\n",
       "      <th>Wind Direction</th>\n",
       "      <th>Wind Speed</th>\n",
       "      <th>Cos Zenith</th>\n",
       "      <th>ts_Day_sin</th>\n",
       "      <th>ts_Day_cos</th>\n",
       "      <th>ts_Year_sin</th>\n",
       "      <th>ts_Year_cos</th>\n",
       "    </tr>\n",
       "    <tr>\n",
       "      <th>Date</th>\n",
       "      <th></th>\n",
       "      <th></th>\n",
       "      <th></th>\n",
       "      <th></th>\n",
       "      <th></th>\n",
       "      <th></th>\n",
       "      <th></th>\n",
       "      <th></th>\n",
       "      <th></th>\n",
       "      <th></th>\n",
       "      <th></th>\n",
       "      <th></th>\n",
       "      <th></th>\n",
       "      <th></th>\n",
       "      <th></th>\n",
       "      <th></th>\n",
       "      <th></th>\n",
       "    </tr>\n",
       "  </thead>\n",
       "  <tbody>\n",
       "    <tr>\n",
       "      <th>2010-10-02 09:30:00</th>\n",
       "      <td>1.0</td>\n",
       "      <td>1.0</td>\n",
       "      <td>1.0</td>\n",
       "      <td>13.0</td>\n",
       "      <td>0.0</td>\n",
       "      <td>12.0</td>\n",
       "      <td>0.0</td>\n",
       "      <td>95.55</td>\n",
       "      <td>1000.0</td>\n",
       "      <td>1.582</td>\n",
       "      <td>46.8</td>\n",
       "      <td>2.0</td>\n",
       "      <td>-0.440253</td>\n",
       "      <td>0.608761</td>\n",
       "      <td>-0.793353</td>\n",
       "      <td>-0.999914</td>\n",
       "      <td>0.013142</td>\n",
       "    </tr>\n",
       "    <tr>\n",
       "      <th>2009-03-14 03:00:00</th>\n",
       "      <td>1.0</td>\n",
       "      <td>1.0</td>\n",
       "      <td>1.0</td>\n",
       "      <td>13.0</td>\n",
       "      <td>3.0</td>\n",
       "      <td>13.0</td>\n",
       "      <td>0.0</td>\n",
       "      <td>100.00</td>\n",
       "      <td>1010.0</td>\n",
       "      <td>3.118</td>\n",
       "      <td>80.1</td>\n",
       "      <td>3.9</td>\n",
       "      <td>-0.661966</td>\n",
       "      <td>0.707107</td>\n",
       "      <td>0.707107</td>\n",
       "      <td>0.949011</td>\n",
       "      <td>0.315244</td>\n",
       "    </tr>\n",
       "  </tbody>\n",
       "</table>\n",
       "</div>"
      ],
      "text/plain": [
       "                     Clearsky DHI  Clearsky DNI  Clearsky GHI  Temperature  \\\n",
       "Date                                                                         \n",
       "2010-10-02 09:30:00           1.0           1.0           1.0         13.0   \n",
       "2009-03-14 03:00:00           1.0           1.0           1.0         13.0   \n",
       "\n",
       "                     Cloud Type  Dew Point  Fill Flag  Relative Humidity  \\\n",
       "Date                                                                       \n",
       "2010-10-02 09:30:00         0.0       12.0        0.0              95.55   \n",
       "2009-03-14 03:00:00         3.0       13.0        0.0             100.00   \n",
       "\n",
       "                     Pressure  Precipitable Water  Wind Direction  Wind Speed  \\\n",
       "Date                                                                            \n",
       "2010-10-02 09:30:00    1000.0               1.582            46.8         2.0   \n",
       "2009-03-14 03:00:00    1010.0               3.118            80.1         3.9   \n",
       "\n",
       "                     Cos Zenith  ts_Day_sin  ts_Day_cos  ts_Year_sin  \\\n",
       "Date                                                                   \n",
       "2010-10-02 09:30:00   -0.440253    0.608761   -0.793353    -0.999914   \n",
       "2009-03-14 03:00:00   -0.661966    0.707107    0.707107     0.949011   \n",
       "\n",
       "                     ts_Year_cos  \n",
       "Date                              \n",
       "2010-10-02 09:30:00     0.013142  \n",
       "2009-03-14 03:00:00     0.315244  "
      ]
     },
     "execution_count": 24,
     "metadata": {},
     "output_type": "execute_result"
    }
   ],
   "source": [
    "# Getting the time in seconds\n",
    "df_solar['ts'] = df_solar.index.map(pd.Timestamp.timestamp)\n",
    "# Adding columns based on Timestamp to understand Daily and Yearly seasonality\n",
    "day = 60*60*24\n",
    "year = 365.2425*day\n",
    "\n",
    "df_solar['ts_Day_sin'] = np.sin(df_solar['ts'] * (2* np.pi / day))\n",
    "df_solar['ts_Day_cos'] = np.cos(df_solar['ts'] * (2 * np.pi / day))\n",
    "df_solar['ts_Year_sin'] = np.sin(df_solar['ts'] * (2 * np.pi / year))\n",
    "df_solar['ts_Year_cos'] = np.cos(df_solar['ts'] * (2 * np.pi / year))\n",
    "df_solar.drop(columns='ts', inplace=True)\n",
    "df_solar.sample(2)"
   ]
  },
  {
   "cell_type": "markdown",
   "id": "b3908876",
   "metadata": {},
   "source": [
    "### Scaling of Data"
   ]
  },
  {
   "cell_type": "code",
   "execution_count": 25,
   "id": "a5e5faec",
   "metadata": {},
   "outputs": [],
   "source": [
    "from sklearn.preprocessing import StandardScaler"
   ]
  },
  {
   "cell_type": "code",
   "execution_count": 26,
   "id": "def97f55",
   "metadata": {},
   "outputs": [],
   "source": [
    "scalar_std_fs = StandardScaler()"
   ]
  },
  {
   "cell_type": "markdown",
   "id": "f661942c",
   "metadata": {},
   "source": [
    "##### Small trick to ensure we can perform inverse transform"
   ]
  },
  {
   "cell_type": "code",
   "execution_count": 27,
   "id": "30fb8245",
   "metadata": {},
   "outputs": [],
   "source": [
    "scalar_std_fs = scalar_std_fs.fit(df_solar)"
   ]
  },
  {
   "cell_type": "code",
   "execution_count": 28,
   "id": "e35b8644",
   "metadata": {},
   "outputs": [
    {
     "data": {
      "text/plain": [
       "(175296, 17)"
      ]
     },
     "execution_count": 28,
     "metadata": {},
     "output_type": "execute_result"
    }
   ],
   "source": [
    "df_solar.shape"
   ]
  },
  {
   "cell_type": "code",
   "execution_count": 29,
   "id": "31e753e5",
   "metadata": {},
   "outputs": [
    {
     "data": {
      "text/html": [
       "<div>\n",
       "<style scoped>\n",
       "    .dataframe tbody tr th:only-of-type {\n",
       "        vertical-align: middle;\n",
       "    }\n",
       "\n",
       "    .dataframe tbody tr th {\n",
       "        vertical-align: top;\n",
       "    }\n",
       "\n",
       "    .dataframe thead th {\n",
       "        text-align: right;\n",
       "    }\n",
       "</style>\n",
       "<table border=\"1\" class=\"dataframe\">\n",
       "  <thead>\n",
       "    <tr style=\"text-align: right;\">\n",
       "      <th></th>\n",
       "      <th>Clearsky DHI</th>\n",
       "      <th>Clearsky DNI</th>\n",
       "      <th>Clearsky GHI</th>\n",
       "      <th>Temperature</th>\n",
       "      <th>Cloud Type</th>\n",
       "      <th>Dew Point</th>\n",
       "      <th>Fill Flag</th>\n",
       "      <th>Relative Humidity</th>\n",
       "      <th>Pressure</th>\n",
       "      <th>Precipitable Water</th>\n",
       "      <th>Wind Direction</th>\n",
       "      <th>Wind Speed</th>\n",
       "      <th>Cos Zenith</th>\n",
       "      <th>ts_Day_sin</th>\n",
       "      <th>ts_Day_cos</th>\n",
       "      <th>ts_Year_sin</th>\n",
       "      <th>ts_Year_cos</th>\n",
       "    </tr>\n",
       "    <tr>\n",
       "      <th>Date</th>\n",
       "      <th></th>\n",
       "      <th></th>\n",
       "      <th></th>\n",
       "      <th></th>\n",
       "      <th></th>\n",
       "      <th></th>\n",
       "      <th></th>\n",
       "      <th></th>\n",
       "      <th></th>\n",
       "      <th></th>\n",
       "      <th></th>\n",
       "      <th></th>\n",
       "      <th></th>\n",
       "      <th></th>\n",
       "      <th></th>\n",
       "      <th></th>\n",
       "      <th></th>\n",
       "    </tr>\n",
       "  </thead>\n",
       "  <tbody>\n",
       "    <tr>\n",
       "      <th>2017-11-09 11:30:00</th>\n",
       "      <td>-0.824148</td>\n",
       "      <td>-0.891737</td>\n",
       "      <td>-0.775614</td>\n",
       "      <td>-0.477103</td>\n",
       "      <td>1.806671</td>\n",
       "      <td>-0.068860</td>\n",
       "      <td>-0.112603</td>\n",
       "      <td>1.048046</td>\n",
       "      <td>-0.536619</td>\n",
       "      <td>0.724813</td>\n",
       "      <td>-1.587423</td>\n",
       "      <td>-0.049046</td>\n",
       "      <td>-0.201106</td>\n",
       "      <td>0.184592</td>\n",
       "      <td>-1.402115</td>\n",
       "      <td>-1.105359</td>\n",
       "      <td>0.882281</td>\n",
       "    </tr>\n",
       "    <tr>\n",
       "      <th>2015-10-04 05:00:00</th>\n",
       "      <td>-0.824148</td>\n",
       "      <td>-0.891737</td>\n",
       "      <td>-0.775614</td>\n",
       "      <td>-0.365285</td>\n",
       "      <td>-0.509775</td>\n",
       "      <td>0.175139</td>\n",
       "      <td>-0.112603</td>\n",
       "      <td>1.048046</td>\n",
       "      <td>-2.221332</td>\n",
       "      <td>-0.414184</td>\n",
       "      <td>1.119253</td>\n",
       "      <td>-0.361083</td>\n",
       "      <td>-1.486380</td>\n",
       "      <td>1.366025</td>\n",
       "      <td>0.366025</td>\n",
       "      <td>-1.412961</td>\n",
       "      <td>0.057663</td>\n",
       "    </tr>\n",
       "  </tbody>\n",
       "</table>\n",
       "</div>"
      ],
      "text/plain": [
       "                     Clearsky DHI  Clearsky DNI  Clearsky GHI  Temperature  \\\n",
       "Date                                                                         \n",
       "2017-11-09 11:30:00     -0.824148     -0.891737     -0.775614    -0.477103   \n",
       "2015-10-04 05:00:00     -0.824148     -0.891737     -0.775614    -0.365285   \n",
       "\n",
       "                     Cloud Type  Dew Point  Fill Flag  Relative Humidity  \\\n",
       "Date                                                                       \n",
       "2017-11-09 11:30:00    1.806671  -0.068860  -0.112603           1.048046   \n",
       "2015-10-04 05:00:00   -0.509775   0.175139  -0.112603           1.048046   \n",
       "\n",
       "                     Pressure  Precipitable Water  Wind Direction  Wind Speed  \\\n",
       "Date                                                                            \n",
       "2017-11-09 11:30:00 -0.536619            0.724813       -1.587423   -0.049046   \n",
       "2015-10-04 05:00:00 -2.221332           -0.414184        1.119253   -0.361083   \n",
       "\n",
       "                     Cos Zenith  ts_Day_sin  ts_Day_cos  ts_Year_sin  \\\n",
       "Date                                                                   \n",
       "2017-11-09 11:30:00   -0.201106    0.184592   -1.402115    -1.105359   \n",
       "2015-10-04 05:00:00   -1.486380    1.366025    0.366025    -1.412961   \n",
       "\n",
       "                     ts_Year_cos  \n",
       "Date                              \n",
       "2017-11-09 11:30:00     0.882281  \n",
       "2015-10-04 05:00:00     0.057663  "
      ]
     },
     "execution_count": 29,
     "metadata": {},
     "output_type": "execute_result"
    }
   ],
   "source": [
    "df_solar_sc = pd.DataFrame(data=scalar_std_fs.transform(df_solar), index=df_solar.index,  columns=df_solar.columns)\n",
    "df_solar_sc.sample(2)"
   ]
  },
  {
   "cell_type": "markdown",
   "id": "80cde6c6",
   "metadata": {},
   "source": [
    "### Feature Selection"
   ]
  },
  {
   "cell_type": "markdown",
   "id": "565fad5a",
   "metadata": {},
   "source": [
    "##### Any Non-linear regression model can be selected, Choose XGBoost"
   ]
  },
  {
   "cell_type": "code",
   "execution_count": 30,
   "id": "195ed782",
   "metadata": {},
   "outputs": [],
   "source": [
    "from xgboost import XGBRegressor\n",
    "from xgboost import plot_importance"
   ]
  },
  {
   "cell_type": "markdown",
   "id": "a8269783",
   "metadata": {},
   "source": [
    "##### Feature Selection for Clearsky GHI since GHI constitues both DHI, DHI and Zenith Angle"
   ]
  },
  {
   "cell_type": "code",
   "execution_count": 31,
   "id": "d2b39879",
   "metadata": {},
   "outputs": [],
   "source": [
    "y = df_solar_sc['Clearsky GHI']\n",
    "X = df_solar_sc.drop(columns='Clearsky GHI', axis=1)"
   ]
  },
  {
   "cell_type": "code",
   "execution_count": 32,
   "id": "e47fffa6",
   "metadata": {},
   "outputs": [
    {
     "data": {
      "text/plain": [
       "XGBRegressor(base_score=0.5, booster='gbtree', colsample_bylevel=1,\n",
       "             colsample_bynode=1, colsample_bytree=1, enable_categorical=False,\n",
       "             gamma=0, gpu_id=-1, importance_type=None,\n",
       "             interaction_constraints='', learning_rate=0.300000012,\n",
       "             max_delta_step=0, max_depth=6, min_child_weight=1, missing=nan,\n",
       "             monotone_constraints='()', n_estimators=100, n_jobs=12,\n",
       "             num_parallel_tree=1, predictor='auto', random_state=0, reg_alpha=0,\n",
       "             reg_lambda=1, scale_pos_weight=1, subsample=1, tree_method='exact',\n",
       "             validate_parameters=1, verbosity=None)"
      ]
     },
     "execution_count": 32,
     "metadata": {},
     "output_type": "execute_result"
    }
   ],
   "source": [
    "model_xgb = XGBRegressor(n_estimators=100)\n",
    "model_xgb.fit(X, y)"
   ]
  },
  {
   "cell_type": "code",
   "execution_count": 33,
   "id": "57e78e7a",
   "metadata": {},
   "outputs": [
    {
     "data": {
      "text/plain": [
       "array([4.3055901e-04, 4.9750917e-03, 2.2409757e-04, 5.1668508e-06,\n",
       "       5.1780359e-04, 9.5268970e-06, 8.3941568e-06, 4.2294396e-06,\n",
       "       2.3650103e-03, 4.9040673e-06, 4.5308711e-06, 9.8812002e-01,\n",
       "       1.4685062e-03, 1.6244006e-04, 2.7724422e-04, 1.4225190e-03],\n",
       "      dtype=float32)"
      ]
     },
     "execution_count": 33,
     "metadata": {},
     "output_type": "execute_result"
    }
   ],
   "source": [
    "model_xgb.feature_importances_"
   ]
  },
  {
   "cell_type": "code",
   "execution_count": 34,
   "id": "e5f7156b",
   "metadata": {},
   "outputs": [
    {
     "data": {
      "text/plain": [
       "<AxesSubplot:title={'center':'Feature importance'}, xlabel='F score', ylabel='Features'>"
      ]
     },
     "execution_count": 34,
     "metadata": {},
     "output_type": "execute_result"
    },
    {
     "data": {
      "image/png": "[encoded data removed]",
      "text/plain": [
       "<Figure size 432x288 with 1 Axes>"
      ]
     },
     "metadata": {
      "needs_background": "light"
     },
     "output_type": "display_data"
    }
   ],
   "source": [
    "plot_importance(model_xgb)"
   ]
  },
  {
   "cell_type": "markdown",
   "id": "e2f38dc6",
   "metadata": {},
   "source": [
    "### Droping not so significant columns"
   ]
  },
  {
   "cell_type": "code",
   "execution_count": 35,
   "id": "e3098bc0",
   "metadata": {},
   "outputs": [],
   "source": [
    "COLUMNS_DROPPED = ['Cloud Type', 'Pressure', 'Fill Flag', 'Wind Speed', 'Dew Point', 'Wind Direction', 'ts_Day_sin', \n",
    "                       'ts_Day_cos', 'Temperature', 'Relative Humidity']\n"
   ]
  },
  {
   "cell_type": "code",
   "execution_count": 36,
   "id": "e0600cc5",
   "metadata": {},
   "outputs": [
    {
     "data": {
      "text/html": [
       "<div>\n",
       "<style scoped>\n",
       "    .dataframe tbody tr th:only-of-type {\n",
       "        vertical-align: middle;\n",
       "    }\n",
       "\n",
       "    .dataframe tbody tr th {\n",
       "        vertical-align: top;\n",
       "    }\n",
       "\n",
       "    .dataframe thead th {\n",
       "        text-align: right;\n",
       "    }\n",
       "</style>\n",
       "<table border=\"1\" class=\"dataframe\">\n",
       "  <thead>\n",
       "    <tr style=\"text-align: right;\">\n",
       "      <th></th>\n",
       "      <th>Clearsky DHI</th>\n",
       "      <th>Clearsky DNI</th>\n",
       "      <th>Clearsky GHI</th>\n",
       "      <th>Precipitable Water</th>\n",
       "      <th>Cos Zenith</th>\n",
       "      <th>ts_Year_sin</th>\n",
       "      <th>ts_Year_cos</th>\n",
       "    </tr>\n",
       "    <tr>\n",
       "      <th>Date</th>\n",
       "      <th></th>\n",
       "      <th></th>\n",
       "      <th></th>\n",
       "      <th></th>\n",
       "      <th></th>\n",
       "      <th></th>\n",
       "      <th></th>\n",
       "    </tr>\n",
       "  </thead>\n",
       "  <tbody>\n",
       "    <tr>\n",
       "      <th>2011-08-03 01:30:00</th>\n",
       "      <td>1.0</td>\n",
       "      <td>1.0</td>\n",
       "      <td>1.0</td>\n",
       "      <td>4.413</td>\n",
       "      <td>-0.208595</td>\n",
       "      <td>-0.515736</td>\n",
       "      <td>-0.856748</td>\n",
       "    </tr>\n",
       "    <tr>\n",
       "      <th>2016-07-02 23:30:00</th>\n",
       "      <td>66.0</td>\n",
       "      <td>444.0</td>\n",
       "      <td>172.0</td>\n",
       "      <td>3.758</td>\n",
       "      <td>0.238872</td>\n",
       "      <td>-0.020692</td>\n",
       "      <td>-0.999786</td>\n",
       "    </tr>\n",
       "  </tbody>\n",
       "</table>\n",
       "</div>"
      ],
      "text/plain": [
       "                     Clearsky DHI  Clearsky DNI  Clearsky GHI  \\\n",
       "Date                                                            \n",
       "2011-08-03 01:30:00           1.0           1.0           1.0   \n",
       "2016-07-02 23:30:00          66.0         444.0         172.0   \n",
       "\n",
       "                     Precipitable Water  Cos Zenith  ts_Year_sin  ts_Year_cos  \n",
       "Date                                                                           \n",
       "2011-08-03 01:30:00               4.413   -0.208595    -0.515736    -0.856748  \n",
       "2016-07-02 23:30:00               3.758    0.238872    -0.020692    -0.999786  "
      ]
     },
     "execution_count": 36,
     "metadata": {},
     "output_type": "execute_result"
    }
   ],
   "source": [
    "df_solar.drop(columns=COLUMNS_DROPPED, inplace=True)\n",
    "df_solar.sample(2)"
   ]
  },
  {
   "cell_type": "code",
   "execution_count": 37,
   "id": "7f8a117b",
   "metadata": {},
   "outputs": [
    {
     "data": {
      "text/plain": [
       "(175296, 7)"
      ]
     },
     "execution_count": 37,
     "metadata": {},
     "output_type": "execute_result"
    }
   ],
   "source": [
    "df_solar.shape"
   ]
  },
  {
   "cell_type": "code",
   "execution_count": 38,
   "id": "598c7e43",
   "metadata": {},
   "outputs": [
    {
     "name": "stdout",
     "output_type": "stream",
     "text": [
      "\n",
      "Precipitable Water, Cos of Zenith Angle along with time of year components are considered for further analysis\n",
      "To also reduce the curse of dimensionality\n"
     ]
    }
   ],
   "source": [
    "print('''\n",
    "Precipitable Water, Cos of Zenith Angle along with time of year components are considered for further analysis\n",
    "To also reduce the curse of dimensionality'''\n",
    ")"
   ]
  },
  {
   "cell_type": "code",
   "execution_count": null,
   "id": "4cfecdf5",
   "metadata": {},
   "outputs": [],
   "source": []
  },
  {
   "cell_type": "code",
   "execution_count": null,
   "id": "2f6c1d7e",
   "metadata": {},
   "outputs": [],
   "source": []
  },
  {
   "cell_type": "markdown",
   "id": "576d6e69",
   "metadata": {},
   "source": [
    "# Model Building Start"
   ]
  },
  {
   "cell_type": "code",
   "execution_count": 39,
   "id": "29af8cf5",
   "metadata": {},
   "outputs": [],
   "source": [
    "from tensorflow.keras.models import Model, Sequential\n",
    "from tensorflow.keras.layers import Input, LSTM, Dense, GRU, RepeatVector, Conv1D, BatchNormalization, MaxPooling1D, Dropout, Flatten\n",
    "from tensorflow.keras.metrics import MeanSquaredError, RootMeanSquaredError\n",
    "from tensorflow.keras.losses import MeanSquaredError\n",
    "from tensorflow.keras.optimizers import Adam\n",
    "from tensorflow.keras.callbacks import ModelCheckpoint, EarlyStopping\n",
    "from tensorflow.keras.models import load_model\n",
    "from tensorflow.keras.layers import TimeDistributed"
   ]
  },
  {
   "cell_type": "markdown",
   "id": "3a00c977",
   "metadata": {},
   "source": [
    "### Consider only last 3 years data"
   ]
  },
  {
   "cell_type": "markdown",
   "id": "fd0ef59f",
   "metadata": {},
   "source": [
    "### Data Generation for Time Series"
   ]
  },
  {
   "cell_type": "code",
   "execution_count": 40,
   "id": "02608e05",
   "metadata": {},
   "outputs": [],
   "source": [
    "def preprocess_cvs_into_ts(csvfile):\n",
    "    '''Take the CSV file along with the path and return dataframe'''\n",
    "    df = pd.read_csv(csvfile)\n",
    "    df.insert(loc=0, column='Date', \n",
    "                value=pd.to_datetime(df[['Year', 'Month', 'Day', 'Hour', 'Minute']]))\n",
    "    df.drop(columns=['Year', 'Month', 'Day', 'Hour', 'Minute'], axis=1, inplace=True)\n",
    "    df.set_index(keys='Date', inplace=True)\n",
    "    \n",
    "    # Updating 0 to 1 to avoid exploding gradiant problem\n",
    "    # df['Clearsky DHI'] = df['Clearsky DHI'].replace(to_replace=0, value=1)\n",
    "    # df['Clearsky DNI'] = df['Clearsky DNI'].replace(to_replace=0, value=1)\n",
    "    # df['Clearsky GHI'] = df['Clearsky GHI'].replace(to_replace=0, value=1)\n",
    "    #df=df[['Clearsky DHI', 'Clearsky DNI', 'Clearsky GHI', 'Temperature', 'Cloud Type', 'Dew Point', 'Fill Flag', 'Relative Humidity', 'Solar Zenith Angle', 'Pressure', 'Precipitable Water', 'Wind Direction', 'Wind Speed']]\n",
    "    df = df[COLUMN_LIST_GIVEN]\n",
    "    return df\n",
    "\n"
   ]
  },
  {
   "cell_type": "code",
   "execution_count": 41,
   "id": "88c8cfb9",
   "metadata": {},
   "outputs": [],
   "source": [
    "# This is used to try TimeDistributed\n",
    "# COLUMNS_SELECTED = ['Clearsky DHI', 'Clearsky DNI', 'Clearsky GHI']\n",
    "\n",
    "# This is leading to nan problems\n",
    "COLUMNS_SELECTED = ['Clearsky DHI', 'Clearsky DNI', 'Clearsky GHI', 'Cos Zenith', \n",
    "                    'Precipitable Water', 'ts_Year_sin', 'ts_Year_cos']\n",
    "\n"
   ]
  },
  {
   "cell_type": "code",
   "execution_count": 42,
   "id": "4fd7d0dc",
   "metadata": {},
   "outputs": [],
   "source": [
    "def preprocess_ts_features(df):\n",
    "    '''This shall ensure the time series features are added and \n",
    "    non-significant features are removed'''\n",
    "    \n",
    "    # Cos of Zenith angle contributes GHI\n",
    "    df['Cos Zenith'] = np.cos(np.deg2rad(df['Solar Zenith Angle']))\n",
    "    \n",
    "    # Adding the time series features into the dataset for Seasonality\n",
    "    sec_in_day = 60*60*24\n",
    "    sec_in_year = 365.2425*sec_in_day\n",
    "    df['ts'] = df.index.map(pd.Timestamp.timestamp)\n",
    "    df['ts_Day_sin'] = np.sin(df['ts'] * (2* np.pi / sec_in_day))\n",
    "    df['ts_Day_cos'] = np.cos(df['ts'] * (2 * np.pi / sec_in_day))\n",
    "    df['ts_Year_sin'] = np.sin(df['ts'] * (2 * np.pi / sec_in_year))\n",
    "    df['ts_Year_cos'] = np.cos(df['ts'] * (2 * np.pi / sec_in_year))\n",
    "    \n",
    "    # Ordering only the selected Columns in a proper order for further processing\n",
    "    df = df[COLUMNS_SELECTED]\n",
    "    return df"
   ]
  },
  {
   "cell_type": "code",
   "execution_count": 43,
   "id": "ebd909db",
   "metadata": {},
   "outputs": [
    {
     "data": {
      "text/html": [
       "<div>\n",
       "<style scoped>\n",
       "    .dataframe tbody tr th:only-of-type {\n",
       "        vertical-align: middle;\n",
       "    }\n",
       "\n",
       "    .dataframe tbody tr th {\n",
       "        vertical-align: top;\n",
       "    }\n",
       "\n",
       "    .dataframe thead th {\n",
       "        text-align: right;\n",
       "    }\n",
       "</style>\n",
       "<table border=\"1\" class=\"dataframe\">\n",
       "  <thead>\n",
       "    <tr style=\"text-align: right;\">\n",
       "      <th></th>\n",
       "      <th>Clearsky DHI</th>\n",
       "      <th>Clearsky DNI</th>\n",
       "      <th>Clearsky GHI</th>\n",
       "      <th>Cos Zenith</th>\n",
       "      <th>Precipitable Water</th>\n",
       "      <th>ts_Year_sin</th>\n",
       "      <th>ts_Year_cos</th>\n",
       "    </tr>\n",
       "    <tr>\n",
       "      <th>Date</th>\n",
       "      <th></th>\n",
       "      <th></th>\n",
       "      <th></th>\n",
       "      <th></th>\n",
       "      <th></th>\n",
       "      <th></th>\n",
       "      <th></th>\n",
       "    </tr>\n",
       "  </thead>\n",
       "  <tbody>\n",
       "    <tr>\n",
       "      <th>2013-11-25 21:00:00</th>\n",
       "      <td>67</td>\n",
       "      <td>592</td>\n",
       "      <td>230</td>\n",
       "      <td>0.274463</td>\n",
       "      <td>2.852</td>\n",
       "      <td>-0.577590</td>\n",
       "      <td>0.816327</td>\n",
       "    </tr>\n",
       "    <tr>\n",
       "      <th>2018-05-19 07:30:00</th>\n",
       "      <td>0</td>\n",
       "      <td>0</td>\n",
       "      <td>0</td>\n",
       "      <td>-0.516832</td>\n",
       "      <td>3.600</td>\n",
       "      <td>0.686046</td>\n",
       "      <td>-0.727558</td>\n",
       "    </tr>\n",
       "  </tbody>\n",
       "</table>\n",
       "</div>"
      ],
      "text/plain": [
       "                     Clearsky DHI  Clearsky DNI  Clearsky GHI  Cos Zenith  \\\n",
       "Date                                                                        \n",
       "2013-11-25 21:00:00            67           592           230    0.274463   \n",
       "2018-05-19 07:30:00             0             0             0   -0.516832   \n",
       "\n",
       "                     Precipitable Water  ts_Year_sin  ts_Year_cos  \n",
       "Date                                                               \n",
       "2013-11-25 21:00:00               2.852    -0.577590     0.816327  \n",
       "2018-05-19 07:30:00               3.600     0.686046    -0.727558  "
      ]
     },
     "execution_count": 43,
     "metadata": {},
     "output_type": "execute_result"
    }
   ],
   "source": [
    "df_solar = preprocess_cvs_into_ts(training_csv)\n",
    "df_solar = preprocess_ts_features(df_solar)\n",
    "df_solar.sample(2)"
   ]
  },
  {
   "cell_type": "code",
   "execution_count": 44,
   "id": "94e1e3e1",
   "metadata": {},
   "outputs": [
    {
     "data": {
      "text/plain": [
       "(175296, 7)"
      ]
     },
     "execution_count": 44,
     "metadata": {},
     "output_type": "execute_result"
    }
   ],
   "source": [
    "df_solar.shape"
   ]
  },
  {
   "cell_type": "markdown",
   "id": "2082deb5",
   "metadata": {},
   "source": [
    "##### Scaling the data"
   ]
  },
  {
   "cell_type": "code",
   "execution_count": 45,
   "id": "1a1073e9",
   "metadata": {},
   "outputs": [],
   "source": [
    "from sklearn.preprocessing import StandardScaler\n",
    "scalar_std_ts = StandardScaler()"
   ]
  },
  {
   "cell_type": "code",
   "execution_count": 46,
   "id": "fdf1da19",
   "metadata": {},
   "outputs": [
    {
     "data": {
      "text/plain": [
       "(175296, 7)"
      ]
     },
     "execution_count": 46,
     "metadata": {},
     "output_type": "execute_result"
    }
   ],
   "source": [
    "scalar_std_ts = scalar_std_ts.fit(df_solar)\n",
    "solar_data_sc = scalar_std_ts.transform(df_solar)\n",
    "df_solar_data = pd.DataFrame(data=solar_data_sc, index=df_solar.index, columns=df_solar.columns)\n",
    "solar_data_sc.shape"
   ]
  },
  {
   "cell_type": "markdown",
   "id": "cfa45e0b",
   "metadata": {},
   "source": [
    "##### Data Generation\n",
    "1. Take the values of Dataframe for a given batch length and Predict the values of 'Clearsky DHI', 'Clearsky DNI', 'Clearsky GHI' for the next row.\n",
    "2. Move the series by 1 row, repeat step 1"
   ]
  },
  {
   "cell_type": "code",
   "execution_count": 47,
   "id": "82b15bb9",
   "metadata": {},
   "outputs": [
    {
     "name": "stdout",
     "output_type": "stream",
     "text": [
      "\n",
      "The total length of input 52560 and the batch length is 48 with features 7\n",
      "The training start 52560\n"
     ]
    }
   ],
   "source": [
    "# Daily there around 48 observations\n",
    "# Weekly there are around 48*7 = 336 observations\n",
    "# Monthly there are around 48*30 = 1440 observations\n",
    "# Yearly there are around 48*365 = 17520 observations\n",
    "\n",
    "# Ensuring the that total length is not more than 3 years since the model training is taking lot of time\n",
    "# Also to handle out of memory issues\n",
    "total_data_len = solar_data_sc.shape[0]\n",
    "if solar_data_sc.shape[0] > 17520*3:\n",
    "    total_data_len = 17520*3\n",
    "else:\n",
    "    total_data_len = solar_data_sc.shape[0]\n",
    "\n",
    "batch_input_len = 48\n",
    "batch_output_len = 1\n",
    "features_len = 7\n",
    "# train_data_start = total_data_len - batch_input_len*4\n",
    "train_data_start = total_data_len\n",
    "print(f'''\n",
    "The total length of input {total_data_len} and the batch length is {batch_input_len} with features {features_len}\n",
    "The training start {train_data_start}''')"
   ]
  },
  {
   "cell_type": "code",
   "execution_count": 48,
   "id": "90071363",
   "metadata": {},
   "outputs": [],
   "source": [
    "def ts_data_generator(data_arr, batch_len):\n",
    "    X = []\n",
    "    y = []\n",
    "    for i in range(len(data_arr)-batch_len):\n",
    "        X_rows = [row for row in data_arr[i:i+batch_len]]\n",
    "        X.append(X_rows)\n",
    "        y_row = [data_arr[i+batch_len][0],data_arr[i+batch_len][1], data_arr[i+batch_len][2]]\n",
    "        y.append(y_row)\n",
    "    return np.array(X), np.array(y)"
   ]
  },
  {
   "cell_type": "code",
   "execution_count": 49,
   "id": "46f9d4c5",
   "metadata": {},
   "outputs": [],
   "source": [
    "X, y = ts_data_generator(solar_data_sc[-train_data_start:], batch_input_len)"
   ]
  },
  {
   "cell_type": "markdown",
   "id": "4f830006",
   "metadata": {},
   "source": [
    "##### Split the train csv data into train and val"
   ]
  },
  {
   "cell_type": "code",
   "execution_count": 50,
   "id": "a0989cfc",
   "metadata": {},
   "outputs": [
    {
     "data": {
      "text/plain": [
       "((36758, 48, 7), (36758, 3), (15754, 48, 7), (15754, 3))"
      ]
     },
     "execution_count": 50,
     "metadata": {},
     "output_type": "execute_result"
    }
   ],
   "source": [
    "train_split = np.int(X.shape[0]*0.7)\n",
    "\n",
    "X_train, y_train = X[:train_split], y[:train_split]\n",
    "X_val, y_val = X[train_split:], y[train_split:]\n",
    "\n",
    "X_train.shape, y_train.shape, X_val.shape, y_val.shape"
   ]
  },
  {
   "cell_type": "markdown",
   "id": "c6538d84",
   "metadata": {},
   "source": [
    "### Build the Model"
   ]
  },
  {
   "cell_type": "code",
   "execution_count": 51,
   "id": "178eee3b",
   "metadata": {},
   "outputs": [],
   "source": [
    "input_shape = (batch_input_len, features_len)\n",
    "learning_rate = 0.0001"
   ]
  },
  {
   "cell_type": "code",
   "execution_count": 52,
   "id": "c13944ca",
   "metadata": {},
   "outputs": [],
   "source": [
    "def build_GRU_trans1(input_shape, lr):\n",
    "    l0 = Input(shape=input_shape)\n",
    "\n",
    "    l1 = GRU(units=128, activation='relu', recurrent_dropout=.3)(l0)\n",
    "    \n",
    "    l2 = RepeatVector(input_shape[1])(l1)\n",
    "    \n",
    "    l3 = GRU(units=128, activation='relu', recurrent_dropout=.2)(l2)\n",
    "    \n",
    "    y = Flatten()(l3)\n",
    "    y = Dense(units=10, activation='relu')(y)\n",
    "    y = Dense(units=3, activation='linear')(y)\n",
    "\n",
    "    model = Model(inputs=l0, outputs=y)\n",
    "    \n",
    "    model.compile(optimizer=Adam(learning_rate=lr), \n",
    "                    loss=MeanSquaredError(),\n",
    "                   metrics=[MeanSquaredError()])\n",
    "    return model"
   ]
  },
  {
   "cell_type": "code",
   "execution_count": 53,
   "id": "4e8fdd96",
   "metadata": {},
   "outputs": [],
   "source": [
    "def build_LSTM1(input_shape, lr):\n",
    "    l0 = Input(shape=input_shape)\n",
    "\n",
    "    # l1 = LSTM(units=128, activation='tanh', recurrent_dropout=.3, kernel_initializer='he_normal')(l0)\n",
    "    \n",
    "    l1 = LSTM(units=64, activation='tanh', recurrent_dropout=.3, return_sequences=True, kernel_initializer='glorot_uniform')(l0)\n",
    "    l1 = LSTM(units=64, activation='tanh', recurrent_dropout=.3)(l1)\n",
    "    \n",
    "    # y = Dense(units=10, activation='tanh')(l1)\n",
    "    # y = Dropout(rate=.3)(y)\n",
    "    y = Dense(units=3)(l1)\n",
    "\n",
    "    model = Model(inputs=l0, outputs=y)\n",
    "    \n",
    "    model.compile(optimizer=Adam(learning_rate=lr), \n",
    "                    loss=MeanSquaredError(),\n",
    "                   metrics=[MeanSquaredError()])\n",
    "    return model"
   ]
  },
  {
   "cell_type": "code",
   "execution_count": 54,
   "id": "d86f3757",
   "metadata": {},
   "outputs": [],
   "source": [
    "def build_LSTM_trans1(input_shape, lr):\n",
    "    l0 = Input(shape=input_shape)\n",
    "\n",
    "    l1 = LSTM(units=128, activation='relu', recurrent_dropout=.2, return_sequences=True)(l0)\n",
    "    l1 = LSTM(units=64, activation='relu', recurrent_dropout=.2)(l0)\n",
    "    \n",
    "    l2 = RepeatVector(input_shape[1])(l1)\n",
    "    \n",
    "    l3 = LSTM(units=64, activation='relu', recurrent_dropout=.2, return_sequences=True)(l2)\n",
    "    l3 = LSTM(units=128, activation='relu', recurrent_dropout=.2)(l3)\n",
    "\n",
    "    y = Dense(units=10, activation='relu')(l3)\n",
    "    y = Dense(units=3, activation='linear')(y)\n",
    "\n",
    "    model = Model(inputs=l0, outputs=y)\n",
    "    \n",
    "    model.compile(optimizer=Adam(learning_rate=lr), \n",
    "                    loss=MeanSquaredError(),\n",
    "                   metrics=[MeanSquaredError()])\n",
    "    return model"
   ]
  },
  {
   "cell_type": "code",
   "execution_count": 60,
   "id": "988bed1d",
   "metadata": {},
   "outputs": [],
   "source": [
    "# n_timesteps, n_features, n_outputs = X_train.shape[0], X_train[1], X_train[2]\n",
    "\n",
    "def build_Conv_trans1(input_shape, lr):\n",
    "    # l0 = Input(shape=input_shape)\n",
    "    model = Sequential()\n",
    "    model.add(TimeDistributed(Conv1D(filters=48, kernel_size=3, activation='relu', padding='same', \n",
    "                                kernel_initializer='he_normal', input_shape=X_train.shape)))\n",
    "    model.add(TimeDistributed(BatchNormalization()))\n",
    "    model.add(TimeDistributed(Conv1D(filters=48, kernel_size=3, activation='relu', padding='same', kernel_initializer='he_normal')))\n",
    "    model.add(TimeDistributed(Flatten()))\n",
    "    model.add(Dense(units=3, activation='linear'))\n",
    "    \n",
    "#     l1 =     # l1 = TimeDistributed(BatchNormalization())(l1)\n",
    "#     l1 = TimeDistributed(Conv1D(filters=48, kernel_size=3, activation='relu', padding='same', \n",
    "#                                 kernel_initializer='he_normal'))(l1)\n",
    "#     l1 = TimeDistributed(Flatten())(l1)\n",
    "#     #     l2 = Dropout(rate=.3)(l1)\n",
    "#     #     #l2 = RepeatVector(input_shape[1])(l1)\n",
    "    \n",
    "#     #     l3 = Conv1D(filters=8, kernel_size=3, activation='relu')(l2)\n",
    "#     #     l3 = BatchNormalization()(l3)\n",
    "#     #     l3 = Conv1D(filters=16, kernel_size=3, activation='relu')(l1)\n",
    "    \n",
    "#     y = TimeDistributed(Dense(units=10, activation='relu'))(l1)\n",
    "#     y = TimeDistributed(Dropout(rate=0.3))(y)\n",
    "#     y = Dense(units=3, activation='linear')(y)\n",
    "\n",
    "#     model = Model(inputs=l0, outputs=y)\n",
    "    \n",
    "    model.compile(optimizer=Adam(learning_rate=0.001), \n",
    "                    loss=MeanSquaredError(),\n",
    "                   metrics=[MeanSquaredError()])\n",
    "    return model"
   ]
  },
  {
   "cell_type": "code",
   "execution_count": 61,
   "id": "a4663111",
   "metadata": {},
   "outputs": [],
   "source": [
    "def train_model(model_name):\n",
    "    if model_name == 'GRU':\n",
    "        model = build_GRU_trans1(input_shape, learning_rate)\n",
    "    elif model_name == 'LSTM':\n",
    "        model = build_LSTM_trans1(input_shape, learning_rate)\n",
    "    elif model_name == 'LSTM_linear':\n",
    "        model = build_LSTM1(input_shape, learning_rate)\n",
    "    else:\n",
    "        model = build_Conv_trans1(input_shape, learning_rate)\n",
    "    \n",
    "    # model.summary()\n",
    "    # Check points for Early stopping and Saving the best model\n",
    "    cb_earlystop = EarlyStopping(monitor='val_loss', mode='min', verbose=1, patience=200)\n",
    "    cb_modelcp = ModelCheckpoint('best_model1.h5', monitor='val_mean_squared_error', \n",
    "                                 mode='min', verbose=1, save_best_only=True)\n",
    "\n",
    "    # Fit the model\n",
    "\n",
    "    model_hist = model.fit(X_train, y_train, validation_data=(X_val, y_val), \n",
    "                           epochs=10, callbacks=[cb_earlystop, cb_modelcp])\n",
    "    model.summary()\n",
    "    return model"
   ]
  },
  {
   "cell_type": "code",
   "execution_count": 62,
   "id": "ac1b6524",
   "metadata": {},
   "outputs": [],
   "source": [
    "# # model_name = 'LSTM' \n",
    "# # model_name = 'GRU' \n",
    "# model_name = 'CONV' \n",
    "# model = train_model(model_name)"
   ]
  },
  {
   "cell_type": "code",
   "execution_count": 63,
   "id": "78bdf7a4",
   "metadata": {},
   "outputs": [],
   "source": [
    "# model_name = 'LSTM' \n",
    "# # model_name = 'GRU' \n",
    "# # model_name = 'CONV' \n",
    "# model = train_model(model_name)"
   ]
  },
  {
   "cell_type": "code",
   "execution_count": 64,
   "id": "f2672a26",
   "metadata": {},
   "outputs": [
    {
     "name": "stdout",
     "output_type": "stream",
     "text": [
      "WARNING:tensorflow:Layer gru_2 will not use cuDNN kernels since it doesn't meet the criteria. It will use a generic GPU kernel as fallback when running on GPU.\n",
      "WARNING:tensorflow:Layer gru_3 will not use cuDNN kernels since it doesn't meet the criteria. It will use a generic GPU kernel as fallback when running on GPU.\n",
      "Epoch 1/10\n",
      "1149/1149 [==============================] - 176s 150ms/step - loss: 0.0902 - mean_squared_error: 0.0901 - val_loss: 0.0065 - val_mean_squared_error: 0.0065\n",
      "\n",
      "Epoch 00001: val_mean_squared_error improved from inf to 0.00650, saving model to best_model1.h5\n",
      "Epoch 2/10\n",
      "1149/1149 [==============================] - 171s 149ms/step - loss: 0.0086 - mean_squared_error: 0.0086 - val_loss: 0.0027 - val_mean_squared_error: 0.0027\n",
      "\n",
      "Epoch 00002: val_mean_squared_error improved from 0.00650 to 0.00266, saving model to best_model1.h5\n",
      "Epoch 3/10\n",
      "1149/1149 [==============================] - 172s 150ms/step - loss: 0.0052 - mean_squared_error: 0.0052 - val_loss: 0.0020 - val_mean_squared_error: 0.0020\n",
      "\n",
      "Epoch 00003: val_mean_squared_error improved from 0.00266 to 0.00198, saving model to best_model1.h5\n",
      "Epoch 4/10\n",
      "1149/1149 [==============================] - 171s 149ms/step - loss: 0.0039 - mean_squared_error: 0.0039 - val_loss: 0.0014 - val_mean_squared_error: 0.0014\n",
      "\n",
      "Epoch 00004: val_mean_squared_error improved from 0.00198 to 0.00145, saving model to best_model1.h5\n",
      "Epoch 5/10\n",
      "1149/1149 [==============================] - 171s 149ms/step - loss: 0.0031 - mean_squared_error: 0.0031 - val_loss: 0.0020 - val_mean_squared_error: 0.0020\n",
      "\n",
      "Epoch 00005: val_mean_squared_error did not improve from 0.00145\n",
      "Epoch 6/10\n",
      "1149/1149 [==============================] - 171s 149ms/step - loss: 0.0028 - mean_squared_error: 0.0028 - val_loss: 0.0011 - val_mean_squared_error: 0.0011\n",
      "\n",
      "Epoch 00006: val_mean_squared_error improved from 0.00145 to 0.00111, saving model to best_model1.h5\n",
      "Epoch 7/10\n",
      "1149/1149 [==============================] - 174s 151ms/step - loss: 0.0025 - mean_squared_error: 0.0025 - val_loss: 0.0011 - val_mean_squared_error: 0.0011\n",
      "\n",
      "Epoch 00007: val_mean_squared_error did not improve from 0.00111\n",
      "Epoch 8/10\n",
      "1149/1149 [==============================] - 171s 149ms/step - loss: 0.0023 - mean_squared_error: 0.0023 - val_loss: 0.0012 - val_mean_squared_error: 0.0012\n",
      "\n",
      "Epoch 00008: val_mean_squared_error did not improve from 0.00111\n",
      "Epoch 9/10\n",
      "1149/1149 [==============================] - 171s 149ms/step - loss: 0.0022 - mean_squared_error: 0.0022 - val_loss: 0.0012 - val_mean_squared_error: 0.0012\n",
      "\n",
      "Epoch 00009: val_mean_squared_error did not improve from 0.00111\n",
      "Epoch 10/10\n",
      "1149/1149 [==============================] - 172s 150ms/step - loss: 0.0021 - mean_squared_error: 0.0021 - val_loss: 0.0011 - val_mean_squared_error: 0.0011\n",
      "\n",
      "Epoch 00010: val_mean_squared_error did not improve from 0.00111\n",
      "Model: \"model_1\"\n",
      "_________________________________________________________________\n",
      "Layer (type)                 Output Shape              Param #   \n",
      "=================================================================\n",
      "input_2 (InputLayer)         [(None, 48, 7)]           0         \n",
      "_________________________________________________________________\n",
      "gru_2 (GRU)                  (None, 128)               52608     \n",
      "_________________________________________________________________\n",
      "repeat_vector_1 (RepeatVecto (None, 7, 128)            0         \n",
      "_________________________________________________________________\n",
      "gru_3 (GRU)                  (None, 128)               99072     \n",
      "_________________________________________________________________\n",
      "flatten_1 (Flatten)          (None, 128)               0         \n",
      "_________________________________________________________________\n",
      "dense_2 (Dense)              (None, 10)                1290      \n",
      "_________________________________________________________________\n",
      "dense_3 (Dense)              (None, 3)                 33        \n",
      "=================================================================\n",
      "Total params: 153,003\n",
      "Trainable params: 153,003\n",
      "Non-trainable params: 0\n",
      "_________________________________________________________________\n"
     ]
    }
   ],
   "source": [
    "# model_name = 'LSTM' \n",
    "model_name = 'GRU' \n",
    "# model_name = 'CONV' \n",
    "model = train_model(model_name)"
   ]
  },
  {
   "cell_type": "code",
   "execution_count": 65,
   "id": "2e2f9431",
   "metadata": {},
   "outputs": [],
   "source": [
    "# model_name = 'LSTM_linear' \n",
    "# # model_name = 'GRU' \n",
    "# # model_name = 'CONV' \n",
    "# model = train_model(model_name)"
   ]
  },
  {
   "cell_type": "code",
   "execution_count": 66,
   "id": "518c5a92",
   "metadata": {},
   "outputs": [],
   "source": [
    "model.load_weights('best_model1.h5')"
   ]
  },
  {
   "cell_type": "code",
   "execution_count": 67,
   "id": "26c583c2",
   "metadata": {},
   "outputs": [],
   "source": [
    "def plot_model_history(model):\n",
    "    mod_hist = model.history\n",
    "    plt.subplot(1, 2, 1)\n",
    "    plt.plot(mod_hist.history['loss'], label='Train Loss')\n",
    "    plt.plot(mod_hist.history['val_loss'], label='Val Loss')\n",
    "    plt.title('Loss (MSE)')\n",
    "    plt.ylabel('Loss')\n",
    "    plt.xlabel('Epochs')\n",
    "    plt.legend(loc='best')\n",
    "    plt.subplot(1, 2, 2)\n",
    "    plt.plot(mod_hist.history['mean_squared_error'], label='Train Error')\n",
    "    plt.plot(mod_hist.history['val_mean_squared_error'], label='Val Error')\n",
    "    plt.title('Error (MSE)')\n",
    "    plt.ylabel('Loss')\n",
    "    plt.xlabel('Epochs')\n",
    "    plt.legend(loc='best')\n",
    "    "
   ]
  },
  {
   "cell_type": "code",
   "execution_count": 68,
   "id": "50abbc19",
   "metadata": {},
   "outputs": [
    {
     "data": {
      "image/png": "[encoded data removed]",
      "text/plain": [
       "<Figure size 432x288 with 2 Axes>"
      ]
     },
     "metadata": {
      "needs_background": "light"
     },
     "output_type": "display_data"
    }
   ],
   "source": [
    "plot_model_history(model=model)"
   ]
  },
  {
   "cell_type": "code",
   "execution_count": null,
   "id": "3d67aad6",
   "metadata": {},
   "outputs": [],
   "source": []
  },
  {
   "cell_type": "markdown",
   "id": "ed157a1c",
   "metadata": {},
   "source": [
    "### Predict"
   ]
  },
  {
   "cell_type": "code",
   "execution_count": 69,
   "id": "ef87bac2",
   "metadata": {},
   "outputs": [],
   "source": [
    "def ts_data_pred_generator(data_arr, batch_input_len, iter_cnt):\n",
    "    X = [row for row in data_arr[iter_cnt: iter_cnt+batch_input_len]]\n",
    "    y = [data_arr[batch_input_len+iter_cnt][0], data_arr[batch_input_len+iter_cnt][1], data_arr[batch_input_len+iter_cnt][2]]\n",
    "    return np.array(X), np.array(y)"
   ]
  },
  {
   "cell_type": "code",
   "execution_count": 70,
   "id": "176fcc40",
   "metadata": {},
   "outputs": [],
   "source": [
    "def create_df_predict(training_csv, testing_csv, batch_input_len):\n",
    "    df_train = preprocess_cvs_into_ts(training_csv)\n",
    "    df_train = preprocess_ts_features(df_train)\n",
    "    df_test = preprocess_cvs_into_ts(testing_csv)\n",
    "    df_test = preprocess_ts_features(df_test)\n",
    "    test_len = df_test.shape[0]\n",
    "    df_pred = pd.concat([df_train, df_test], axis=0)\n",
    "    df_pred.fillna(0)\n",
    "    return df_pred[-(test_len+batch_input_len):]"
   ]
  },
  {
   "cell_type": "markdown",
   "id": "41d37deb",
   "metadata": {},
   "source": [
    "##### Debugging Start"
   ]
  },
  {
   "cell_type": "code",
   "execution_count": 71,
   "id": "6bda23fe",
   "metadata": {},
   "outputs": [],
   "source": [
    "# Creating train (with batch length) and test dataset\n",
    "df_solar_pred = create_df_predict(training_csv, testing_csv, batch_input_len)\n",
    "\n",
    "# Scaling for data\n",
    "solar_data_pred_sc = scalar_std_ts.transform(df_solar_pred)\n",
    "\n",
    "# Used only for testing\n",
    "cnt = 0\n",
    "\n",
    "# Contains the predicted output\n",
    "x_pred = []\n",
    "\n",
    "tst_len = solar_data_pred_sc.shape[0] - batch_input_len"
   ]
  },
  {
   "cell_type": "code",
   "execution_count": 72,
   "id": "66137cbf",
   "metadata": {},
   "outputs": [
    {
     "data": {
      "text/plain": [
       "17520"
      ]
     },
     "execution_count": 72,
     "metadata": {},
     "output_type": "execute_result"
    }
   ],
   "source": [
    "tst_len"
   ]
  },
  {
   "cell_type": "code",
   "execution_count": 73,
   "id": "d05f7116",
   "metadata": {},
   "outputs": [],
   "source": [
    "# i = 0\n",
    "# X_test, y_test = ts_data_pred_generator(solar_data_pred_sc, batch_input_len, i)"
   ]
  },
  {
   "cell_type": "code",
   "execution_count": 74,
   "id": "6a3e09da",
   "metadata": {},
   "outputs": [],
   "source": [
    "# X_test, y_test"
   ]
  },
  {
   "cell_type": "code",
   "execution_count": 75,
   "id": "8b5c80a2",
   "metadata": {},
   "outputs": [],
   "source": [
    "# X_i = np.expand_dims(X_test, axis=0)\n",
    "# X_i"
   ]
  },
  {
   "cell_type": "code",
   "execution_count": 76,
   "id": "1653bdec",
   "metadata": {},
   "outputs": [],
   "source": [
    "# y_i = model.predict(X_i)\n",
    "# y_i"
   ]
  },
  {
   "cell_type": "code",
   "execution_count": 77,
   "id": "d9de5d11",
   "metadata": {},
   "outputs": [],
   "source": [
    "# solar_data_pred_sc[batch_input_len+i][0:3]"
   ]
  },
  {
   "cell_type": "code",
   "execution_count": 78,
   "id": "b93aed0f",
   "metadata": {},
   "outputs": [],
   "source": [
    "# solar_data_pred_sc[batch_input_len+i][0:3] = y_i"
   ]
  },
  {
   "cell_type": "code",
   "execution_count": 79,
   "id": "0d240fe3",
   "metadata": {},
   "outputs": [],
   "source": [
    "# solar_data_pred_sc[batch_input_len+i][0:3]"
   ]
  },
  {
   "cell_type": "code",
   "execution_count": 80,
   "id": "60068e53",
   "metadata": {},
   "outputs": [],
   "source": [
    "# np.hstack([y_i[0], solar_data_pred_sc[batch_input_len+i][3:]])"
   ]
  },
  {
   "cell_type": "code",
   "execution_count": 81,
   "id": "0e4ae4bd",
   "metadata": {},
   "outputs": [],
   "source": [
    "# solar_data_pred_sc[batch_input_len+i]"
   ]
  },
  {
   "cell_type": "code",
   "execution_count": 82,
   "id": "36db826b",
   "metadata": {},
   "outputs": [],
   "source": [
    "# i = 1\n",
    "# X_test, y_test = ts_data_pred_generator(solar_data_pred_sc, batch_input_len, i)"
   ]
  },
  {
   "cell_type": "code",
   "execution_count": 83,
   "id": "29091e1c",
   "metadata": {},
   "outputs": [],
   "source": [
    "# X_test, y_test"
   ]
  },
  {
   "cell_type": "code",
   "execution_count": 84,
   "id": "4ec8c6d4",
   "metadata": {},
   "outputs": [],
   "source": [
    "# X_i = np.expand_dims(X_test, axis=0)\n",
    "# X_i"
   ]
  },
  {
   "cell_type": "code",
   "execution_count": 85,
   "id": "d638224e",
   "metadata": {},
   "outputs": [],
   "source": [
    "# y_i = model.predict(X_i)\n",
    "# y_i"
   ]
  },
  {
   "cell_type": "markdown",
   "id": "5b049283",
   "metadata": {},
   "source": [
    "##### Debugg End"
   ]
  },
  {
   "cell_type": "code",
   "execution_count": 86,
   "id": "cd2c2066",
   "metadata": {},
   "outputs": [],
   "source": [
    "def model_predict(training_csv, testing_csv, batch_input_len, model):\n",
    "    '''This method takes the test csv file, gives the output as predicted array\n",
    "    Creating df which will contain last rows from train which equal to the length of the batch\n",
    "    append those to the test.\n",
    "    The first prediction for the test row 0 shall consider data from train and predict the 0 row of test\n",
    "    the predictions are updated into test first row and then prediction is done for the 1 row in test\n",
    "    this loop repeats'''\n",
    "    \n",
    "    # Creating train (with batch length) and test dataset\n",
    "    df_solar_pred = create_df_predict(training_csv, testing_csv, batch_input_len)\n",
    "    \n",
    "    # Scaling for data\n",
    "    solar_data_pred_sc = scalar_std_ts.transform(df_solar_pred)\n",
    "    \n",
    "    # Used only for testing\n",
    "    cnt = 0\n",
    "    \n",
    "    # Contains the predicted output\n",
    "    x_pred = []\n",
    "    \n",
    "    tst_len = solar_data_pred_sc.shape[0] - batch_input_len\n",
    "    \n",
    "    # Runs for the entire X test\n",
    "    for i in range(tst_len):\n",
    "        # Tranforming the data into X and y to pass it NN predict\n",
    "        X_test, y_test = ts_data_pred_generator(solar_data_pred_sc, batch_input_len, i)\n",
    "    \n",
    "    \n",
    "        # Since only one value of (batchlength, features) is passed \n",
    "        # it needs to be in the format (n, l, f)\n",
    "        X_i = np.expand_dims(X_test, axis=0)\n",
    "        # print('X_i[-1]\\n', X_i[0][-1])\n",
    "        \n",
    "        # Predicts the next row 'Clearsky DHI', 'Clearsky DNI', 'Clearsky GHI'\n",
    "        y_i = model.predict(X_i)\n",
    "        \n",
    "        # Update predicted 'Clearsky DHI', 'Clearsky DNI', 'Clearsky GHI' since they are not passed\n",
    "        solar_data_pred_sc[batch_input_len+i][0:3] = y_i\n",
    "        \n",
    "        # print(i, end=', ')\n",
    "        if i % 100==0:\n",
    "            print(f'{i}={y_i}', end=', ')\n",
    "        \n",
    "        \n",
    "    # print('x_i_pred\\n', x_i_pred)\n",
    "    # Removing the train appended values and taking only the test output values\n",
    "    solar_data_pred_sc = solar_data_pred_sc[batch_input_len:]\n",
    "    # This trick is used to ensure we are inverse transform. \n",
    "    # Inverse transform needs the same length features which was used for fit/transform\n",
    "    return scalar_std_ts.inverse_transform(solar_data_pred_sc)"
   ]
  },
  {
   "cell_type": "markdown",
   "id": "550a052d",
   "metadata": {},
   "source": [
    "##### Debuggin end"
   ]
  },
  {
   "cell_type": "code",
   "execution_count": 87,
   "id": "c01b09ac",
   "metadata": {},
   "outputs": [
    {
     "name": "stdout",
     "output_type": "stream",
     "text": [
      "0=[[-0.8242414  -0.8669561  -0.76589775]], 100=[[-0.80412936 -0.8666143  -0.7697281 ]], 200=[[-0.8086231  -0.8641439  -0.77240187]], 300=[[-0.81534934 -0.8708281  -0.77036446]], 400=[[-0.81751066 -0.8707066  -0.7723994 ]], 500=[[-0.81007314 -0.8658472  -0.76922476]], 600=[[-0.80134606 -0.872086   -0.75411826]], 700=[[ 0.05542722  0.9481751  -0.06912092]], 800=[[0.42706183 1.5314314  0.9216073 ]], 900=[[0.9971004 1.3074682 1.1770926]], 1000=[[0.30494818 1.5442501  0.86958146]], 1100=[[ 0.13033709  0.42419884 -0.28653246]], 1200=[[-0.836715   -0.88338983 -0.7695858 ]], 1300=[[-0.80980825 -0.87694615 -0.7733082 ]], 1400=[[-0.8079485 -0.8675009 -0.7634966]], 1500=[[-0.8146097 -0.8692278 -0.762819 ]], 1600=[[-0.81085    -0.86576766 -0.7559875 ]], 1700=[[-0.8046945 -0.8618724 -0.7543027]], 1800=[[-0.8025237  -0.87845546 -0.76009744]], 1900=[[0.32702434 0.96160614 0.08865844]], 2000=[[1.0719554 1.2458116 1.1107886]], 2100=[[0.46989995 1.8280869  1.6691705 ]], 2200=[[1.1544912 1.1475703 1.0217955]], 2300=[[ 0.5356857   0.47815147 -0.03991691]], 2400=[[-0.8182708  -0.8555352  -0.75298584]], 2500=[[-0.81174976 -0.87583774 -0.77022344]], 2600=[[-0.8081365 -0.8740913 -0.7606414]], 2700=[[-0.81548107 -0.8745691  -0.76141363]], 2800=[[-0.81560534 -0.87054265 -0.76067835]], 2900=[[-0.8081712 -0.8718387 -0.7621282]], 3000=[[-0.7790426 -0.8536411 -0.774093 ]], 3100=[[0.39753622 1.299937   0.4644782 ]], 3200=[[1.1686578 1.4060094 1.5265253]], 3300=[[1.6746197 1.3128369 1.8068976]], 3400=[[1.0816736 1.3706983 1.4375364]], 3500=[[0.8818889  0.60884005 0.1923426 ]], 3600=[[-0.8003026 -0.87591   -0.7546782]], 3700=[[-0.8170388  -0.87877935 -0.77492493]], 3800=[[-0.81928664 -0.87352437 -0.7717737 ]], 3900=[[-0.83174    -0.8817746  -0.77084905]], 4000=[[-0.8277592  -0.88179094 -0.7792345 ]], 4100=[[-0.8164612  -0.8685697  -0.77390426]], 4200=[[-0.15272647 -0.0745463  -0.5479973 ]], 4300=[[1.2931525  0.91926724 0.7141519 ]], 4400=[[1.193642  1.5051799 1.8788142]], 4500=[[1.3036661 1.5400493 2.1593068]], 4600=[[1.7133802 1.1671154 1.5474861]], 4700=[[0.98654985 0.70380014 0.34217292]], 4800=[[-0.7762497  -0.8729877  -0.77903324]], 4900=[[-0.81954056 -0.86552817 -0.7781146 ]], 5000=[[-0.82411325 -0.86801976 -0.77547866]], 5100=[[-0.83724993 -0.87886083 -0.7777669 ]], 5200=[[-0.82016265 -0.877902   -0.7737444 ]], 5300=[[-0.82237613 -0.87191063 -0.7805421 ]], 5400=[[ 0.20070577  0.34104177 -0.26692364]], 5500=[[1.1740456 1.1209244 1.0383542]], 5600=[[0.8819887 1.6740142 2.0816047]], 5700=[[1.3183212 1.5221872 2.2498465]], 5800=[[1.3043108 1.326745  1.7154608]], 5900=[[1.0680146 0.7652852 0.4389651]], 6000=[[-0.5531682 -0.6625096 -0.7264165]], 6100=[[-0.8183429  -0.87056834 -0.78207916]], 6200=[[-0.80831116 -0.85951614 -0.7685774 ]], 6300=[[-0.81846523 -0.8615641  -0.7681512 ]], 6400=[[-0.833473  -0.876419  -0.7781182]], 6500=[[-0.80574465 -0.86816055 -0.76743424]], 6600=[[ 0.47903752  0.32226387 -0.11243144]], 6700=[[1.2869749 1.077205  1.126281 ]], 6800=[[1.4092417 1.395652  2.0563374]], 6900=[[1.3189081 1.5006764 2.2806323]], 7000=[[1.2618841 1.3116188 1.7323005]], 7100=[[0.64727885 0.98464066 0.5910682 ]], 7200=[[-0.33163795 -0.19132161 -0.6372984 ]], 7300=[[-0.8239757  -0.8769157  -0.78478223]], 7400=[[-0.8196933 -0.8733189 -0.7746324]], 7500=[[-0.82003635 -0.87936324 -0.77406496]], 7600=[[-0.82069033 -0.8815562  -0.770827  ]], 7700=[[-0.8081913 -0.8944277 -0.7658997]], 7800=[[ 0.7002139   0.21998063 -0.05590075]], 7900=[[0.7687673 1.2775304 1.1244454]], 8000=[[1.4539427 1.3293715 1.9919473]], 8100=[[1.7317916 1.3001988 2.1701167]], 8200=[[1.387121  1.2274187 1.6815085]], 8300=[[0.84578574 0.8746813  0.59059   ]], 8400=[[-0.21663612 -0.16601935 -0.5773378 ]], 8500=[[-0.8193586  -0.8707308  -0.78109604]], 8600=[[-0.8156188  -0.89046144 -0.779828  ]], 8700=[[-0.8264477 -0.885156  -0.7808579]], 8800=[[-0.82532984 -0.8888802  -0.7776162 ]], 8900=[[-0.8158599  -0.8935804  -0.77064985]], 9000=[[ 0.5318028   0.22359422 -0.13849978]], 9100=[[1.304096   0.91504794 0.9609588 ]], 9200=[[1.573387  1.2428164 1.8875833]], 9300=[[1.5667338 1.3314586 2.144455 ]], 9400=[[1.2667097 1.2662704 1.6927551]], 9500=[[0.79031724 0.9169112  0.62600774]], 9600=[[-0.24604282 -0.27975664 -0.6003655 ]], 9700=[[-0.8148321 -0.8740196 -0.7729276]], 9800=[[-0.82458305 -0.8843104  -0.78161305]], 9900=[[-0.81360847 -0.8853027  -0.7691974 ]], 10000=[[-0.81300366 -0.88505226 -0.7712348 ]], 10100=[[-0.8039019  -0.86793697 -0.76532143]], 10200=[[ 0.343565    0.15925768 -0.27065238]], 10300=[[1.1774595  0.98606545 0.9344048 ]], 10400=[[1.5836301 1.2195458 1.8257358]], 10500=[[1.4967477 1.3377879 2.0739315]], 10600=[[1.3817887 1.2015073 1.6121864]], 10700=[[0.81593233 0.7867096  0.46737763]], 10800=[[-0.5055981 -0.5589325 -0.6993694]], 10900=[[-0.8041038  -0.86990654 -0.7651561 ]], 11000=[[-0.79667556 -0.87930197 -0.7704399 ]], 11100=[[-0.8309036 -0.8733751 -0.7738349]], 11200=[[-0.82623553 -0.8849198  -0.7808961 ]], 11300=[[-0.8192274 -0.8736624 -0.7690492]], 11400=[[ 0.11576962 -0.02205058 -0.41407073]], 11500=[[0.99802214 1.013336   0.81508356]], 11600=[[0.8657195 1.5070852 1.79782  ]], 11700=[[1.5657346 1.2719767 1.9767494]], 11800=[[1.1186484 1.273706  1.4673845]], 11900=[[0.43366376 0.9354821  0.33551422]], 12000=[[-0.81565624 -0.8089078  -0.77093786]], 12100=[[-0.806344   -0.8658113  -0.76096064]], 12200=[[-0.800631   -0.87330943 -0.7709592 ]], 12300=[[-0.81549394 -0.89036065 -0.7795336 ]], 12400=[[-0.8252283  -0.8930816  -0.78493124]], 12500=[[-0.8155863  -0.87566036 -0.7787259 ]], 12600=[[-0.15071625  0.05507562 -0.52986676]], 12700=[[0.59943444 1.2153852  0.7906715 ]], 12800=[[1.1985035 1.2814693 1.5456944]], 12900=[[1.2605973 1.3591089 1.76176  ]], 13000=[[1.0944886 1.1173425 1.1229551]], 13100=[[ 0.31763414  0.47496036 -0.11561546]], 13200=[[-0.8215944  -0.87668294 -0.76459044]], 13300=[[-0.8061438  -0.8789807  -0.77403575]], 13400=[[-0.81262314 -0.8850053  -0.7752878 ]], 13500=[[-0.8196564  -0.89155143 -0.7779707 ]], 13600=[[-0.8320712  -0.88322395 -0.77750045]], 13700=[[-0.81254447 -0.88871515 -0.77783513]], 13800=[[-0.36521602 -0.49918813 -0.64898664]], 13900=[[0.36583596 1.3147056  0.5755943 ]], 14000=[[1.1957893 1.1903358 1.2767856]], 14100=[[0.9971238 1.3688104 1.4758189]], 14200=[[0.34671065 1.5161775  0.9577861 ]], 14300=[[-0.02095619  0.11420725 -0.45428798]], 14400=[[-0.8307114  -0.9056156  -0.77015704]], 14500=[[-0.8170946 -0.8852734 -0.7728196]], 14600=[[-0.82433593 -0.87561303 -0.76116425]], 14700=[[-0.83575577 -0.88646877 -0.76665473]], 14800=[[-0.81021196 -0.8758268  -0.77085555]], 14900=[[-0.8016204 -0.8720992 -0.7655992]], 15000=[[-0.7695115  -0.73113245 -0.7797908 ]], 15100=[[0.29258293 1.1500981  0.2735206 ]], 15200=[[0.437588  1.6658428 1.2554183]], 15300=[[1.0108279 1.2587359 1.169246 ]], 15400=[[0.30581963 1.2893965  0.58979774]], 15500=[[-0.316274    0.34739658 -0.5027849 ]], 15600=[[-0.8150451 -0.8919353 -0.7678525]], 15700=[[-0.8078726 -0.8654296 -0.7651735]], 15800=[[-0.81424636 -0.8700736  -0.7621996 ]], 15900=[[-0.81751686 -0.87308097 -0.76251817]], 16000=[[-0.8054117  -0.86527354 -0.76047295]], 16100=[[-0.81486005 -0.8678343  -0.7660941 ]], 16200=[[-0.81233656 -0.8785599  -0.7791489 ]], 16300=[[ 0.20002893  0.8674723  -0.00427691]], 16400=[[0.45718682 1.4313866  0.8694112 ]], 16500=[[0.9971673 1.1465268 0.9401068]], 16600=[[0.40115437 1.1501347  0.44094554]], 16700=[[-0.36530384  0.3658376  -0.5259438 ]], 16800=[[-0.8212487 -0.8684751 -0.770595 ]], 16900=[[-0.8121653 -0.879132  -0.7672125]], 17000=[[-0.8058688  -0.8670096  -0.77067965]], 17100=[[-0.81509733 -0.8733487  -0.76941663]], 17200=[[-0.8144485  -0.8735057  -0.77028435]], 17300=[[-0.80975634 -0.86737597 -0.77084965]], 17400=[[-0.7775301  -0.89506036 -0.7458622 ]], 17500=[[ 0.03467474  0.9465268  -0.07817208]], "
     ]
    }
   ],
   "source": [
    "X_pred = model_predict(training_csv, testing_csv, batch_input_len, model)"
   ]
  },
  {
   "cell_type": "code",
   "execution_count": 88,
   "id": "2e1ffc1e",
   "metadata": {},
   "outputs": [
    {
     "data": {
      "text/plain": [
       "(17520, 7)"
      ]
     },
     "execution_count": 88,
     "metadata": {},
     "output_type": "execute_result"
    }
   ],
   "source": [
    "X_pred.shape"
   ]
  },
  {
   "cell_type": "code",
   "execution_count": 89,
   "id": "cc516eea",
   "metadata": {},
   "outputs": [],
   "source": [
    "def generate_pred_outputfile(X_pred):\n",
    "    '''This shall generate the output files for submission'''\n",
    "    # est_period=48*365\n",
    "    est_period=len(X_pred)\n",
    "    start_datetime = \"2019-01-01 00:00:00\"\n",
    "    pred_indx = pd.date_range(start=start_datetime, periods=est_period, freq=\"30T\")\n",
    "    y_pred_const = []\n",
    "    for i in range(len(X_pred)):\n",
    "        y_pred_const.append(X_pred[i][0:3])\n",
    "\n",
    "    df_y_pred = pd.DataFrame(data=y_pred_const, index=pred_indx, columns=['Clearsky DHI', 'Clearsky DNI', 'Clearsky GHI'])\n",
    "    df_X_pred = pd.DataFrame(data=X_pred, index=pred_indx, columns=['Clearsky DHI', 'Clearsky DNI', 'Clearsky GHI', \n",
    "                                                               'Solar Zenith Angle', \n",
    "                                                               'Precipitable Water', 'ts_Year_sin', 'ts_Year_cos'])\n",
    "    df_y_pred.to_csv('submission_y_AnilKagita.csv', index=False)\n",
    "    df_y_pred.to_csv('verify_y_AnilKagita.csv', index=True)\n",
    "    df_X_pred.to_csv('verify_x_AnilKagita.csv', index=True)\n",
    "    return df_y_pred, df_X_pred"
   ]
  },
  {
   "cell_type": "code",
   "execution_count": 90,
   "id": "0901191f",
   "metadata": {},
   "outputs": [],
   "source": [
    "df_y_pred, df_X_pred = generate_pred_outputfile(X_pred)"
   ]
  },
  {
   "cell_type": "code",
   "execution_count": 91,
   "id": "e5217e39",
   "metadata": {},
   "outputs": [],
   "source": [
    "def plot_pred_y(df_y_pred):\n",
    "    plt.figure(figsize=(12, 9))\n",
    "    cnt = 1\n",
    "    for col in df_y_pred.columns:\n",
    "        plt.subplot(3, 1, cnt)\n",
    "        plt.title(col)\n",
    "        plt.plot(df_y_pred[col], label=col)\n",
    "        plt.xticks(rotation=45)\n",
    "        plt.legend(loc='best')\n",
    "        cnt += 1\n",
    "\n",
    "    plt.tight_layout()\n",
    "    plt.show()"
   ]
  },
  {
   "cell_type": "code",
   "execution_count": 92,
   "id": "28aafa4c",
   "metadata": {},
   "outputs": [
    {
     "data": {
      "image/png": "[encoded data removed]",
      "text/plain": [
       "<Figure size 864x648 with 3 Axes>"
      ]
     },
     "metadata": {
      "needs_background": "light"
     },
     "output_type": "display_data"
    }
   ],
   "source": [
    "plot_pred_y(df_y_pred)"
   ]
  },
  {
   "cell_type": "code",
   "execution_count": 93,
   "id": "d40b5ed3",
   "metadata": {},
   "outputs": [],
   "source": [
    "def plot_train_test(df_train_plot, df_test_plot):\n",
    "    plt.figure(figsize=(12, 9))\n",
    "    cnt = 1\n",
    "    for col in df_y_pred.columns:\n",
    "        plt.subplot(3, 1, cnt)\n",
    "        plt.title(col)\n",
    "        plt.plot(df_train_plot[col], label='train')\n",
    "        plt.plot(df_test_plot[col], label='test')\n",
    "        plt.xticks(rotation=45)\n",
    "        plt.legend(loc='best')\n",
    "        cnt += 1\n",
    "\n",
    "    plt.tight_layout()\n",
    "    plt.show()"
   ]
  },
  {
   "cell_type": "code",
   "execution_count": 94,
   "id": "331f9e8c",
   "metadata": {},
   "outputs": [
    {
     "data": {
      "image/png": "[encoded data removed]",
      "text/plain": [
       "<Figure size 864x648 with 3 Axes>"
      ]
     },
     "metadata": {
      "needs_background": "light"
     },
     "output_type": "display_data"
    }
   ],
   "source": [
    "plot_train_test(df_solar[['Clearsky DHI', 'Clearsky DNI', 'Clearsky GHI']][-len(X_pred):], df_y_pred)"
   ]
  },
  {
   "cell_type": "code",
   "execution_count": null,
   "id": "82f1673a",
   "metadata": {},
   "outputs": [],
   "source": []
  },
  {
   "cell_type": "code",
   "execution_count": null,
   "id": "dc9e88f0",
   "metadata": {},
   "outputs": [],
   "source": []
  }
 ],
 "metadata": {
  "kernelspec": {
   "display_name": "Python 3",
   "language": "python",
   "name": "python3"
  },
  "language_info": {
   "codemirror_mode": {
    "name": "ipython",
    "version": 3
   },
   "file_extension": ".py",
   "mimetype": "text/x-python",
   "name": "python",
   "nbconvert_exporter": "python",
   "pygments_lexer": "ipython3",
   "version": "3.9.4"
  }
 },
 "nbformat": 4,
 "nbformat_minor": 5
}
