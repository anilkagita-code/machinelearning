{
 "cells": [
  {
   "cell_type": "code",
   "execution_count": 1,
   "id": "c37f76af",
   "metadata": {},
   "outputs": [],
   "source": [
    "import tensorflow as tf\n",
    "gpus = tf.config.experimental.list_physical_devices('GPU')\n",
    "for gpu in gpus:\n",
    "    tf.config.experimental.set_memory_growth(gpu, enable=True)"
   ]
  },
  {
   "cell_type": "code",
   "execution_count": 2,
   "id": "ae762ea0",
   "metadata": {},
   "outputs": [],
   "source": [
    "import numpy as np\n",
    "import pandas as pd\n",
    "import matplotlib.pyplot as plt"
   ]
  },
  {
   "cell_type": "markdown",
   "id": "c508ac6c",
   "metadata": {},
   "source": [
    "# Data Pre-processing"
   ]
  },
  {
   "cell_type": "markdown",
   "id": "953ecc6d",
   "metadata": {},
   "source": [
    "### Reading the data converting into TimeSeries format"
   ]
  },
  {
   "cell_type": "code",
   "execution_count": null,
   "id": "dbfa6ea4",
   "metadata": {},
   "outputs": [],
   "source": [
    "def convert_ts_csv_to_df(csvfile):\n",
    "    '''Take the CSV file along with the path and return dataframe'''\n",
    "    df = pd.read_csv(csvfile)\n",
    "    df.insert(loc=0, column='Date', \n",
    "                value=pd.to_datetime(df[['Year', 'Month', 'Day', 'Hour', 'Minute']]))\n",
    "    df.drop(columns=['Year', 'Month', 'Day', 'Hour', 'Minute'], axis=1, inplace=True)\n",
    "    df.set_index(keys='Date', inplace=True)\n",
    "    df=df[['Clearsky DHI', 'Clearsky DNI', 'Clearsky GHI', 'Temperature', 'Cloud Type', 'Dew Point', 'Fill Flag', 'Relative Humidity', 'Solar Zenith Angle', 'Pressure', 'Precipitable Water', 'Wind Direction', 'Wind Speed']]\n",
    "    return df"
   ]
  },
  {
   "cell_type": "code",
   "execution_count": null,
   "id": "c6cafb7d",
   "metadata": {},
   "outputs": [],
   "source": [
    "df_solar = convert_ts_csv_to_df('data/train.csv')\n",
    "df_solar.sample(2)"
   ]
  },
  {
   "cell_type": "code",
   "execution_count": null,
   "id": "d1833ac9",
   "metadata": {},
   "outputs": [],
   "source": [
    "# Reading the test dataset as Val\n",
    "# Train dataset shall be split into Train and Test\n",
    "# Val is read to understand the data and null values\n",
    "df_solar_test = convert_ts_csv_to_df('data/test_subset_mini.csv')\n",
    "df_solar_test.sample(2)"
   ]
  },
  {
   "cell_type": "markdown",
   "id": "e5253a45",
   "metadata": {},
   "source": [
    "### Data Check"
   ]
  },
  {
   "cell_type": "markdown",
   "id": "ce54a650",
   "metadata": {},
   "source": [
    "##### Null Check"
   ]
  },
  {
   "cell_type": "code",
   "execution_count": null,
   "id": "ce0886b6",
   "metadata": {},
   "outputs": [],
   "source": [
    "df_solar.isnull().sum()"
   ]
  },
  {
   "cell_type": "code",
   "execution_count": null,
   "id": "a1714a67",
   "metadata": {},
   "outputs": [],
   "source": [
    "df_solar_test.isnull().sum()"
   ]
  },
  {
   "cell_type": "markdown",
   "id": "7f873485",
   "metadata": {},
   "source": [
    "# Feature Selection"
   ]
  },
  {
   "cell_type": "markdown",
   "id": "7ffa4e68",
   "metadata": {},
   "source": [
    "##### Datatype Check and convert to floats for Scaling data"
   ]
  },
  {
   "cell_type": "code",
   "execution_count": null,
   "id": "808f0a01",
   "metadata": {},
   "outputs": [],
   "source": [
    "df_solar.info()"
   ]
  },
  {
   "cell_type": "code",
   "execution_count": null,
   "id": "853d7b28",
   "metadata": {},
   "outputs": [],
   "source": [
    "df_solar = df_solar.astype(np.float64)"
   ]
  },
  {
   "cell_type": "code",
   "execution_count": null,
   "id": "6a076c35",
   "metadata": {},
   "outputs": [],
   "source": [
    "df_solar.info()"
   ]
  },
  {
   "cell_type": "markdown",
   "id": "0ddbe8da",
   "metadata": {},
   "source": [
    "##### Feature update based on domain"
   ]
  },
  {
   "cell_type": "code",
   "execution_count": null,
   "id": "9cf8e1a2",
   "metadata": {},
   "outputs": [],
   "source": [
    "print('''\n",
    "Source: https://www.yellowhaze.in/solar-irradiance/\n",
    "Global Horizontal Irradiance (GHI) = Direct Normal Irradiance (DNI)* cos(solar zenith angle)  +  Diffused Horizontal Irradiance (DHI)''')"
   ]
  },
  {
   "cell_type": "code",
   "execution_count": null,
   "id": "99bffe0f",
   "metadata": {},
   "outputs": [],
   "source": [
    "df_solar['Solar Zenith Angle'].describe()"
   ]
  },
  {
   "cell_type": "code",
   "execution_count": null,
   "id": "d8ae9c53",
   "metadata": {},
   "outputs": [],
   "source": [
    "print('''This shows the Zenith Angle is given in degrees with a min or 35 and max of 171 approximately''')"
   ]
  },
  {
   "cell_type": "code",
   "execution_count": null,
   "id": "a5de5018",
   "metadata": {},
   "outputs": [],
   "source": [
    "from math import cos, radians"
   ]
  },
  {
   "cell_type": "code",
   "execution_count": null,
   "id": "f198ba60",
   "metadata": {},
   "outputs": [],
   "source": [
    "df_solar['Cos Zenith'] = df_solar['Solar Zenith Angle'].apply(lambda x: cos(radians(x)))"
   ]
  },
  {
   "cell_type": "code",
   "execution_count": null,
   "id": "4bf7e71d",
   "metadata": {},
   "outputs": [],
   "source": [
    "df_solar['Cos Zenith'].describe()"
   ]
  },
  {
   "cell_type": "code",
   "execution_count": null,
   "id": "20715760",
   "metadata": {},
   "outputs": [],
   "source": [
    "df_solar.drop(columns='Solar Zenith Angle', inplace=True)"
   ]
  },
  {
   "cell_type": "code",
   "execution_count": null,
   "id": "6c833ddf",
   "metadata": {},
   "outputs": [],
   "source": [
    "df_solar.sample(2)"
   ]
  },
  {
   "cell_type": "code",
   "execution_count": null,
   "id": "9281ad50",
   "metadata": {},
   "outputs": [],
   "source": [
    "df_solar.shape"
   ]
  },
  {
   "cell_type": "markdown",
   "id": "ba8e729e",
   "metadata": {},
   "source": [
    "### Adding the Significance of Seasonality into TS\n",
    "Since we using Deep Learning, the significance of Timestamp is lost and the sinificance behaviour of data with respect to Seasonality. In order to avoid it, these parameters are added"
   ]
  },
  {
   "cell_type": "code",
   "execution_count": null,
   "id": "4c19258f",
   "metadata": {},
   "outputs": [],
   "source": [
    "# Getting the time in seconds\n",
    "df_solar['ts'] = df_solar.index.map(pd.Timestamp.timestamp)\n",
    "# Adding columns based on Timestamp to understand Daily and Yearly seasonality\n",
    "day = 60*60*24\n",
    "year = 365.2425*day\n",
    "\n",
    "df_solar['ts_Day_sin'] = np.sin(df_solar['ts'] * (2* np.pi / day))\n",
    "df_solar['ts_Day_cos'] = np.cos(df_solar['ts'] * (2 * np.pi / day))\n",
    "df_solar['ts_Year_sin'] = np.sin(df_solar['ts'] * (2 * np.pi / year))\n",
    "df_solar['ts_Year_cos'] = np.cos(df_solar['ts'] * (2 * np.pi / year))\n",
    "df_solar.drop(columns='ts', inplace=True)\n",
    "df_solar.sample(2)"
   ]
  },
  {
   "cell_type": "markdown",
   "id": "b3908876",
   "metadata": {},
   "source": [
    "### Scaling of Data"
   ]
  },
  {
   "cell_type": "code",
   "execution_count": null,
   "id": "a5e5faec",
   "metadata": {},
   "outputs": [],
   "source": [
    "from sklearn.preprocessing import StandardScaler"
   ]
  },
  {
   "cell_type": "code",
   "execution_count": null,
   "id": "def97f55",
   "metadata": {},
   "outputs": [],
   "source": [
    "scalar_std_fs = StandardScaler()"
   ]
  },
  {
   "cell_type": "markdown",
   "id": "f661942c",
   "metadata": {},
   "source": [
    "##### Small trick to ensure we can perform inverse transform"
   ]
  },
  {
   "cell_type": "code",
   "execution_count": null,
   "id": "30fb8245",
   "metadata": {},
   "outputs": [],
   "source": [
    "scalar_std_fs = scalar_std_fs.fit(df_solar)"
   ]
  },
  {
   "cell_type": "code",
   "execution_count": null,
   "id": "e35b8644",
   "metadata": {},
   "outputs": [],
   "source": [
    "df_solar.shape"
   ]
  },
  {
   "cell_type": "code",
   "execution_count": null,
   "id": "31e753e5",
   "metadata": {},
   "outputs": [],
   "source": [
    "df_solar_sc = pd.DataFrame(data=scalar_std_fs.transform(df_solar), index=df_solar.index,  columns=df_solar.columns)\n",
    "df_solar_sc.sample(2)"
   ]
  },
  {
   "cell_type": "markdown",
   "id": "80cde6c6",
   "metadata": {},
   "source": [
    "### Feature Selection"
   ]
  },
  {
   "cell_type": "markdown",
   "id": "565fad5a",
   "metadata": {},
   "source": [
    "##### Any Non-linear regression model can be selected, Choose XGBoost"
   ]
  },
  {
   "cell_type": "code",
   "execution_count": null,
   "id": "195ed782",
   "metadata": {},
   "outputs": [],
   "source": [
    "from xgboost import XGBRegressor\n",
    "from xgboost import plot_importance"
   ]
  },
  {
   "cell_type": "markdown",
   "id": "a8269783",
   "metadata": {},
   "source": [
    "##### Feature Selection for Clearsky GHI since GHI constitues both DHI, DHI and Zenith Angle"
   ]
  },
  {
   "cell_type": "code",
   "execution_count": null,
   "id": "d2b39879",
   "metadata": {},
   "outputs": [],
   "source": [
    "y = df_solar_sc['Clearsky GHI']\n",
    "X = df_solar_sc.drop(columns='Clearsky GHI', axis=1)"
   ]
  },
  {
   "cell_type": "code",
   "execution_count": null,
   "id": "e47fffa6",
   "metadata": {},
   "outputs": [],
   "source": [
    "model_xgb = XGBRegressor(n_estimators=100)\n",
    "model_xgb.fit(X, y)"
   ]
  },
  {
   "cell_type": "code",
   "execution_count": null,
   "id": "57e78e7a",
   "metadata": {},
   "outputs": [],
   "source": [
    "model_xgb.feature_importances_"
   ]
  },
  {
   "cell_type": "code",
   "execution_count": null,
   "id": "e5f7156b",
   "metadata": {},
   "outputs": [],
   "source": [
    "plot_importance(model_xgb)"
   ]
  },
  {
   "cell_type": "markdown",
   "id": "e2f38dc6",
   "metadata": {},
   "source": [
    "### Droping not so significant columns"
   ]
  },
  {
   "cell_type": "code",
   "execution_count": null,
   "id": "20aa5b62",
   "metadata": {},
   "outputs": [],
   "source": [
    "df_solar['Cloud Type'].value_counts()"
   ]
  },
  {
   "cell_type": "code",
   "execution_count": null,
   "id": "e0600cc5",
   "metadata": {},
   "outputs": [],
   "source": [
    "df_solar.drop(columns=['Cloud Type', 'Pressure', 'Fill Flag', 'Wind Speed', 'Dew Point', 'Wind Direction'], inplace=True)\n",
    "df_solar.sample(2)"
   ]
  },
  {
   "cell_type": "code",
   "execution_count": null,
   "id": "7f8a117b",
   "metadata": {},
   "outputs": [],
   "source": [
    "df_solar.shape"
   ]
  },
  {
   "cell_type": "code",
   "execution_count": null,
   "id": "598c7e43",
   "metadata": {},
   "outputs": [],
   "source": [
    "print('''\n",
    "Temperature, Relative Humidity, Precipitable Water, Cos of Zenith Angle along with time of Day and time of year components are considered for further analysis\n",
    "To also reduce the curse of dimensionality'''\n",
    ")"
   ]
  },
  {
   "cell_type": "code",
   "execution_count": null,
   "id": "4cfecdf5",
   "metadata": {},
   "outputs": [],
   "source": []
  },
  {
   "cell_type": "code",
   "execution_count": null,
   "id": "42ebac7e",
   "metadata": {},
   "outputs": [],
   "source": []
  },
  {
   "cell_type": "markdown",
   "id": "fda1686f",
   "metadata": {},
   "source": [
    "##### Delete this section - start"
   ]
  },
  {
   "cell_type": "markdown",
   "id": "2df80642",
   "metadata": {},
   "source": [
    "### Learning"
   ]
  },
  {
   "cell_type": "code",
   "execution_count": null,
   "id": "71f88e32",
   "metadata": {},
   "outputs": [],
   "source": [
    "from sklearn.preprocessing import StandardScaler\n",
    "scalar_std_ts = StandardScaler()\n",
    "a = np.arange(0, 20)\n",
    "b = np.arange(20, 60)\n",
    "b.shape\n",
    "a = a.reshape(4, 5)\n",
    "a\n",
    "b = b.reshape(8, 5)\n",
    "b\n",
    "scalar_std_ts = scalar_std_ts.fit(b)\n",
    "b = scalar_std_ts.transform(b)\n",
    "b.shape\n",
    "c = b[0:4,:]\n",
    "scalar_std_ts.inverse_transform(c)\n",
    "d = b[:, 1:3]\n",
    "d\n",
    "scalar_std_ts.inverse_transform(d)"
   ]
  },
  {
   "cell_type": "markdown",
   "id": "d0d65941",
   "metadata": {},
   "source": [
    "##### Delete this section - end"
   ]
  },
  {
   "cell_type": "code",
   "execution_count": null,
   "id": "2f6c1d7e",
   "metadata": {},
   "outputs": [],
   "source": []
  },
  {
   "cell_type": "markdown",
   "id": "576d6e69",
   "metadata": {},
   "source": [
    "# Model Building Start"
   ]
  },
  {
   "cell_type": "code",
   "execution_count": 49,
   "id": "29af8cf5",
   "metadata": {},
   "outputs": [],
   "source": [
    "from tensorflow.keras.models import Model\n",
    "from tensorflow.keras.layers import Input, LSTM, Dense, GRU, RepeatVector, Conv1D\n",
    "from tensorflow.keras.metrics import MeanSquaredError, RootMeanSquaredError\n",
    "from tensorflow.keras.losses import MeanSquaredError\n",
    "from tensorflow.keras.optimizers import Adam\n",
    "from tensorflow.keras.callbacks import ModelCheckpoint, EarlyStopping\n",
    "from tensorflow.keras.models import load_model\n",
    "from tensorflow.keras.layers import TimeDistributed"
   ]
  },
  {
   "cell_type": "markdown",
   "id": "3a00c977",
   "metadata": {},
   "source": [
    "### Consider only last 3 years data"
   ]
  },
  {
   "cell_type": "markdown",
   "id": "fd0ef59f",
   "metadata": {},
   "source": [
    "### Data Generation for Time Series"
   ]
  },
  {
   "cell_type": "code",
   "execution_count": 4,
   "id": "02608e05",
   "metadata": {},
   "outputs": [],
   "source": [
    "def preprocess_cvs_into_ts(csvfile):\n",
    "    '''Take the CSV file along with the path and return dataframe'''\n",
    "    df = pd.read_csv(csvfile)\n",
    "    df.insert(loc=0, column='Date', \n",
    "                value=pd.to_datetime(df[['Year', 'Month', 'Day', 'Hour', 'Minute']]))\n",
    "    df.drop(columns=['Year', 'Month', 'Day', 'Hour', 'Minute'], axis=1, inplace=True)\n",
    "    df.set_index(keys='Date', inplace=True)\n",
    "    df=df[['Clearsky DHI', 'Clearsky DNI', 'Clearsky GHI', 'Temperature', 'Cloud Type', 'Dew Point', 'Fill Flag', 'Relative Humidity', 'Solar Zenith Angle', 'Pressure', 'Precipitable Water', 'Wind Direction', 'Wind Speed']]\n",
    "    return df"
   ]
  },
  {
   "cell_type": "code",
   "execution_count": 83,
   "id": "4fd7d0dc",
   "metadata": {},
   "outputs": [],
   "source": [
    "def preprocess_ts_features(df):\n",
    "    '''This shall ensure the time series features are added and \n",
    "    non-significant features are removed'''\n",
    "    \n",
    "    # Cos of Zenith angle contributes GHI\n",
    "    df['Cos Zenith'] = np.cos(np.deg2rad(df['Solar Zenith Angle']))\n",
    "    \n",
    "    # Adding the time series features into the dataset for Seasonality\n",
    "    sec_in_day = 60*60*24\n",
    "    sec_in_year = 365.2425*sec_in_day\n",
    "    df['ts'] = df.index.map(pd.Timestamp.timestamp)\n",
    "    df['ts_Day_sin'] = np.sin(df['ts'] * (2* np.pi / sec_in_day))\n",
    "    df['ts_Day_cos'] = np.cos(df['ts'] * (2 * np.pi / sec_in_day))\n",
    "    df['ts_Year_sin'] = np.sin(df['ts'] * (2 * np.pi / sec_in_year))\n",
    "    df['ts_Year_cos'] = np.cos(df['ts'] * (2 * np.pi / sec_in_year))\n",
    "    \n",
    "    # Dropping all the insignificant features\n",
    "    df.drop(columns=['Cloud Type', 'Pressure', 'Fill Flag', 'Wind Speed', \n",
    "                     'Dew Point', 'Wind Direction','ts'], inplace=True)\n",
    "    \n",
    "    # Ordering the Columns in a proper order\n",
    "    df = df[['Clearsky DHI', 'Clearsky DNI', 'Clearsky GHI', \n",
    "             'Temperature', 'Relative Humidity', 'Solar Zenith Angle', \n",
    "             'Precipitable Water', 'ts_Day_sin', 'ts_Day_cos', \n",
    "             'ts_Year_sin', 'ts_Year_cos']]\n",
    "    return df"
   ]
  },
  {
   "cell_type": "code",
   "execution_count": 10,
   "id": "ebd909db",
   "metadata": {},
   "outputs": [],
   "source": [
    "df_solar = preprocess_cvs_into_ts('data/train.csv')"
   ]
  },
  {
   "cell_type": "code",
   "execution_count": 11,
   "id": "2be7b473",
   "metadata": {},
   "outputs": [
    {
     "data": {
      "text/html": [
       "<div>\n",
       "<style scoped>\n",
       "    .dataframe tbody tr th:only-of-type {\n",
       "        vertical-align: middle;\n",
       "    }\n",
       "\n",
       "    .dataframe tbody tr th {\n",
       "        vertical-align: top;\n",
       "    }\n",
       "\n",
       "    .dataframe thead th {\n",
       "        text-align: right;\n",
       "    }\n",
       "</style>\n",
       "<table border=\"1\" class=\"dataframe\">\n",
       "  <thead>\n",
       "    <tr style=\"text-align: right;\">\n",
       "      <th></th>\n",
       "      <th>Clearsky DHI</th>\n",
       "      <th>Clearsky DNI</th>\n",
       "      <th>Clearsky GHI</th>\n",
       "      <th>Temperature</th>\n",
       "      <th>Relative Humidity</th>\n",
       "      <th>Solar Zenith Angle</th>\n",
       "      <th>Precipitable Water</th>\n",
       "      <th>ts_Day_sin</th>\n",
       "      <th>ts_Day_cos</th>\n",
       "      <th>ts_Year_sin</th>\n",
       "      <th>ts_Year_cos</th>\n",
       "    </tr>\n",
       "    <tr>\n",
       "      <th>Date</th>\n",
       "      <th></th>\n",
       "      <th></th>\n",
       "      <th></th>\n",
       "      <th></th>\n",
       "      <th></th>\n",
       "      <th></th>\n",
       "      <th></th>\n",
       "      <th></th>\n",
       "      <th></th>\n",
       "      <th></th>\n",
       "      <th></th>\n",
       "    </tr>\n",
       "  </thead>\n",
       "  <tbody>\n",
       "    <tr>\n",
       "      <th>2018-08-01 01:30:00</th>\n",
       "      <td>0</td>\n",
       "      <td>0</td>\n",
       "      <td>0</td>\n",
       "      <td>24.1</td>\n",
       "      <td>100.00</td>\n",
       "      <td>101.75</td>\n",
       "      <td>5.500</td>\n",
       "      <td>0.382683</td>\n",
       "      <td>0.923880</td>\n",
       "      <td>-0.490501</td>\n",
       "      <td>-0.871441</td>\n",
       "    </tr>\n",
       "    <tr>\n",
       "      <th>2016-07-27 15:00:00</th>\n",
       "      <td>143</td>\n",
       "      <td>764</td>\n",
       "      <td>741</td>\n",
       "      <td>32.0</td>\n",
       "      <td>55.82</td>\n",
       "      <td>38.48</td>\n",
       "      <td>4.843</td>\n",
       "      <td>-0.707107</td>\n",
       "      <td>-0.707107</td>\n",
       "      <td>-0.430160</td>\n",
       "      <td>-0.902753</td>\n",
       "    </tr>\n",
       "  </tbody>\n",
       "</table>\n",
       "</div>"
      ],
      "text/plain": [
       "                     Clearsky DHI  Clearsky DNI  Clearsky GHI  Temperature  \\\n",
       "Date                                                                         \n",
       "2018-08-01 01:30:00             0             0             0         24.1   \n",
       "2016-07-27 15:00:00           143           764           741         32.0   \n",
       "\n",
       "                     Relative Humidity  Solar Zenith Angle  \\\n",
       "Date                                                         \n",
       "2018-08-01 01:30:00             100.00              101.75   \n",
       "2016-07-27 15:00:00              55.82               38.48   \n",
       "\n",
       "                     Precipitable Water  ts_Day_sin  ts_Day_cos  ts_Year_sin  \\\n",
       "Date                                                                           \n",
       "2018-08-01 01:30:00               5.500    0.382683    0.923880    -0.490501   \n",
       "2016-07-27 15:00:00               4.843   -0.707107   -0.707107    -0.430160   \n",
       "\n",
       "                     ts_Year_cos  \n",
       "Date                              \n",
       "2018-08-01 01:30:00    -0.871441  \n",
       "2016-07-27 15:00:00    -0.902753  "
      ]
     },
     "execution_count": 11,
     "metadata": {},
     "output_type": "execute_result"
    }
   ],
   "source": [
    "df_solar = preprocess_ts_features(df_solar)\n",
    "df_solar.sample(2)"
   ]
  },
  {
   "cell_type": "code",
   "execution_count": 12,
   "id": "1a1073e9",
   "metadata": {},
   "outputs": [],
   "source": [
    "from sklearn.preprocessing import StandardScaler\n",
    "scalar_std_ts = StandardScaler()"
   ]
  },
  {
   "cell_type": "code",
   "execution_count": 14,
   "id": "fdf1da19",
   "metadata": {},
   "outputs": [
    {
     "data": {
      "text/plain": [
       "(175296, 11)"
      ]
     },
     "execution_count": 14,
     "metadata": {},
     "output_type": "execute_result"
    }
   ],
   "source": [
    "scalar_std_ts = scalar_std_ts.fit(df_solar)\n",
    "solar_data_sc = scalar_std_ts.transform(df_solar)\n",
    "df_solar_data = pd.DataFrame(data=solar_data_sc, index=df_solar.index, columns=df_solar.columns)\n",
    "solar_data_sc.shape"
   ]
  },
  {
   "cell_type": "code",
   "execution_count": 31,
   "id": "82b15bb9",
   "metadata": {},
   "outputs": [],
   "source": [
    "# Daily there around 48 observations\n",
    "# Weekly there are around 48*7 = 336 observations\n",
    "# Monthly there are around 48*30 = 1440 observations\n",
    "# Yearly there are around 48*365 = 17520 observations\n",
    "total_data_len = solar_data_sc.shape[0]\n",
    "batch_input_len = 336\n",
    "batch_output_len = 1\n",
    "features_len = 11\n",
    "train_data_start = total_data_len - batch_input_len*4\n"
   ]
  },
  {
   "cell_type": "code",
   "execution_count": 32,
   "id": "90071363",
   "metadata": {},
   "outputs": [],
   "source": [
    "def ts_data_generator(data_arr, batch_len):\n",
    "    X = []\n",
    "    y = []\n",
    "    for i in range(len(data_arr)-batch_len):\n",
    "        X_rows = [row for row in data_arr[i:i+batch_len]]\n",
    "        X.append(X_rows)\n",
    "        y_row = [data_arr[i+batch_len][0],data_arr[i+batch_len][1], data_arr[i+batch_len][2]]\n",
    "        y.append(y_row)\n",
    "    return np.array(X), np.array(y)"
   ]
  },
  {
   "cell_type": "code",
   "execution_count": 33,
   "id": "7eaa4cb2",
   "metadata": {},
   "outputs": [
    {
     "data": {
      "text/plain": [
       "(175296, 173952, 1344, 1008)"
      ]
     },
     "execution_count": 33,
     "metadata": {},
     "output_type": "execute_result"
    }
   ],
   "source": [
    "total_data_len, train_data_start, total_data_len-train_data_start, train_split"
   ]
  },
  {
   "cell_type": "code",
   "execution_count": 34,
   "id": "2a20a689",
   "metadata": {},
   "outputs": [
    {
     "data": {
      "text/plain": [
       "(1344, 11)"
      ]
     },
     "execution_count": 34,
     "metadata": {},
     "output_type": "execute_result"
    }
   ],
   "source": [
    "solar_data_sc[train_data_start:].shape"
   ]
  },
  {
   "cell_type": "code",
   "execution_count": 25,
   "id": "88a104a4",
   "metadata": {},
   "outputs": [],
   "source": [
    "X, y = ts_data_generator(solar_data_sc[train_data_start:], batch_input_len)"
   ]
  },
  {
   "cell_type": "code",
   "execution_count": 35,
   "id": "9ad6f596",
   "metadata": {},
   "outputs": [
    {
     "data": {
      "text/plain": [
       "((1008, 336, 11), (1008, 3), 1008)"
      ]
     },
     "execution_count": 35,
     "metadata": {},
     "output_type": "execute_result"
    }
   ],
   "source": [
    "X.shape, y.shape, train_split"
   ]
  },
  {
   "cell_type": "code",
   "execution_count": 43,
   "id": "839442b9",
   "metadata": {},
   "outputs": [],
   "source": [
    "train_split = np.int(X.shape[0]*0.7)"
   ]
  },
  {
   "cell_type": "code",
   "execution_count": 44,
   "id": "2cc73967",
   "metadata": {},
   "outputs": [
    {
     "data": {
      "text/plain": [
       "(672, 336, 11)"
      ]
     },
     "execution_count": 44,
     "metadata": {},
     "output_type": "execute_result"
    }
   ],
   "source": [
    "X[test_split:].shape"
   ]
  },
  {
   "cell_type": "code",
   "execution_count": 45,
   "id": "a0989cfc",
   "metadata": {},
   "outputs": [
    {
     "data": {
      "text/plain": [
       "((705, 336, 11), (705, 3), (303, 336, 11), (303, 3))"
      ]
     },
     "execution_count": 45,
     "metadata": {},
     "output_type": "execute_result"
    }
   ],
   "source": [
    "X_train, y_train = X[:train_split], y[:train_split]\n",
    "X_val, y_val = X[train_split:], y[train_split:]\n",
    "\n",
    "X_train.shape, y_train.shape, X_val.shape, y_val.shape"
   ]
  },
  {
   "cell_type": "code",
   "execution_count": null,
   "id": "2f3c95b3",
   "metadata": {},
   "outputs": [],
   "source": []
  },
  {
   "cell_type": "code",
   "execution_count": 47,
   "id": "178eee3b",
   "metadata": {},
   "outputs": [],
   "source": [
    "input_shape = (batch_input_len, features_len)"
   ]
  },
  {
   "cell_type": "code",
   "execution_count": 50,
   "id": "8962146f",
   "metadata": {},
   "outputs": [
    {
     "name": "stdout",
     "output_type": "stream",
     "text": [
      "WARNING:tensorflow:Layer gru will not use cuDNN kernels since it doesn't meet the criteria. It will use a generic GPU kernel as fallback when running on GPU.\n",
      "WARNING:tensorflow:Layer gru_1 will not use cuDNN kernels since it doesn't meet the criteria. It will use a generic GPU kernel as fallback when running on GPU.\n"
     ]
    }
   ],
   "source": [
    "l0 = Input(shape=input_shape)\n",
    "\n",
    "l1 = GRU(units=8, activation='relu', recurrent_dropout=.2)(l0)\n",
    "l1 = RepeatVector(input_shape[1])(l1)\n",
    "l1 = GRU(units=8, activation='relu', recurrent_dropout=.2)(l1)\n",
    "\n",
    "y = Dense(units=5, activation='relu')(l1)\n",
    "y = Dense(units=3, activation='linear')(y)\n",
    "\n",
    "model_lstm1 = Model(inputs=l0, outputs=y)"
   ]
  },
  {
   "cell_type": "code",
   "execution_count": 51,
   "id": "7d69381a",
   "metadata": {},
   "outputs": [
    {
     "name": "stdout",
     "output_type": "stream",
     "text": [
      "Model: \"model\"\n",
      "_________________________________________________________________\n",
      "Layer (type)                 Output Shape              Param #   \n",
      "=================================================================\n",
      "input_1 (InputLayer)         [(None, 336, 11)]         0         \n",
      "_________________________________________________________________\n",
      "gru (GRU)                    (None, 8)                 504       \n",
      "_________________________________________________________________\n",
      "repeat_vector (RepeatVector) (None, 11, 8)             0         \n",
      "_________________________________________________________________\n",
      "gru_1 (GRU)                  (None, 8)                 432       \n",
      "_________________________________________________________________\n",
      "dense (Dense)                (None, 5)                 45        \n",
      "_________________________________________________________________\n",
      "dense_1 (Dense)              (None, 3)                 18        \n",
      "=================================================================\n",
      "Total params: 999\n",
      "Trainable params: 999\n",
      "Non-trainable params: 0\n",
      "_________________________________________________________________\n"
     ]
    }
   ],
   "source": [
    "model_lstm1.compile(optimizer=Adam(learning_rate=0.001), \n",
    "                    loss=MeanSquaredError(),\n",
    "                   metrics=[MeanSquaredError()])\n",
    "model_lstm1.summary()"
   ]
  },
  {
   "cell_type": "code",
   "execution_count": 52,
   "id": "78bdf7a4",
   "metadata": {},
   "outputs": [],
   "source": [
    "# Check points for Early stopping and Saving the best model\n",
    "cb_earlystop = EarlyStopping(monitor='val_loss', mode='min', verbose=1, patience=200)\n",
    "cb_modelcp = ModelCheckpoint('best_model_lstm1.h5', monitor='val_mean_squared_error', \n",
    "                             mode='min', verbose=1, save_best_only=True)"
   ]
  },
  {
   "cell_type": "code",
   "execution_count": 54,
   "id": "f2672a26",
   "metadata": {},
   "outputs": [
    {
     "name": "stdout",
     "output_type": "stream",
     "text": [
      "Epoch 1/2\n",
      "23/23 [==============================] - 30s 1s/step - loss: 0.7471 - mean_squared_error: 0.7628 - val_loss: 0.6570 - val_mean_squared_error: 0.6583\n",
      "\n",
      "Epoch 00001: val_mean_squared_error improved from inf to 0.65826, saving model to best_model_lstm1.h5\n",
      "Epoch 2/2\n",
      "23/23 [==============================] - 24s 1s/step - loss: 0.6851 - mean_squared_error: 0.6830 - val_loss: 0.6215 - val_mean_squared_error: 0.6235\n",
      "\n",
      "Epoch 00002: val_mean_squared_error improved from 0.65826 to 0.62348, saving model to best_model_lstm1.h5\n"
     ]
    }
   ],
   "source": [
    "model_lstm1_hist = model_lstm1.fit(X_train, y_train, \n",
    "                                   validation_data=(X_val, y_val), \n",
    "                                   epochs=2, callbacks=[cb_earlystop, cb_modelcp])"
   ]
  },
  {
   "cell_type": "code",
   "execution_count": 80,
   "id": "d13819c9",
   "metadata": {},
   "outputs": [],
   "source": [
    "y_pred = model_lstm1.predict(X_val[:1:])"
   ]
  },
  {
   "cell_type": "code",
   "execution_count": 81,
   "id": "32c23c2e",
   "metadata": {},
   "outputs": [
    {
     "data": {
      "text/plain": [
       "array([[-0.26638108,  0.06940387,  0.1385091 ]], dtype=float32)"
      ]
     },
     "execution_count": 81,
     "metadata": {},
     "output_type": "execute_result"
    }
   ],
   "source": [
    "y_pred"
   ]
  },
  {
   "cell_type": "code",
   "execution_count": 66,
   "id": "100e9c56",
   "metadata": {},
   "outputs": [
    {
     "data": {
      "text/plain": [
       "(303, 336, 11)"
      ]
     },
     "execution_count": 66,
     "metadata": {},
     "output_type": "execute_result"
    }
   ],
   "source": [
    "X_val.shape"
   ]
  },
  {
   "cell_type": "code",
   "execution_count": 78,
   "id": "96bd7127",
   "metadata": {},
   "outputs": [
    {
     "data": {
      "text/plain": [
       "array([ 0.24819735,  1.70509176,  1.0242    , -0.41001228, -0.82661948,\n",
       "       -0.81175476, -1.48918537, -1.30656296, -0.5411961 , -0.31824423,\n",
       "        1.37818101])"
      ]
     },
     "execution_count": 78,
     "metadata": {},
     "output_type": "execute_result"
    }
   ],
   "source": [
    "X_val[:1:][0][0]"
   ]
  },
  {
   "cell_type": "code",
   "execution_count": null,
   "id": "3d67aad6",
   "metadata": {},
   "outputs": [],
   "source": []
  },
  {
   "cell_type": "markdown",
   "id": "ed157a1c",
   "metadata": {},
   "source": [
    "### Predict"
   ]
  },
  {
   "cell_type": "code",
   "execution_count": 127,
   "id": "176fcc40",
   "metadata": {},
   "outputs": [],
   "source": [
    "def create_df_predict(train_csv, test_csv, batch_len):\n",
    "    df_train = preprocess_cvs_into_ts(train_csv)\n",
    "    df_train = preprocess_ts_features(df_train)\n",
    "    df_test = preprocess_cvs_into_ts(test_csv)\n",
    "    df_test = preprocess_ts_features(df_test)\n",
    "    test_len = df_test.shape[0]\n",
    "    df_pred = pd.concat([df_train, df_test], axis=0)\n",
    "    df_pred.fillna(0)\n",
    "    return df_pred[-(test_len+batch_len):]"
   ]
  },
  {
   "cell_type": "code",
   "execution_count": null,
   "id": "cd2c2066",
   "metadata": {},
   "outputs": [],
   "source": [
    "def model_predict(test_csv):\n",
    "    '''This method takes the test csv file, gives the output as predicted array'''\n",
    "    df_solar_pred = create_df_predict('data/train.csv', test_csv, batch_input_len)\n",
    "    solar_data_pred_sc = scalar_std_ts.transform(df_solar_pred)\n",
    "    X_test, y_test = ts_data_generator(solar_data_pred_sc, batch_input_len)\n",
    "    \n",
    "    cnt = 0\n",
    "    x_pred = []\n",
    "    for i in range(X_test.shape[0]):\n",
    "        X_i = np.expand_dims(X_test[i], axis=0)\n",
    "        print('X_i[-1]\\n', X_i[0][-1])\n",
    "        y_i = model_lstm1.predict(X_i)\n",
    "        print('y_i\\n',y_i)\n",
    "        for j in range(3):\n",
    "            X_test[i+1][-1][j] = y_i[0][j]\n",
    "            print('X_test[i+1][-1][j]\\n', X_test[i+1][-1][j], ' y_i[0][j]: ', y_i[0][j])\n",
    "\n",
    "        print('X_test[i+1][-1]\\n', X_test[i+1][-1])\n",
    "        # print(X_test[i+1][-1][3:])\n",
    "        x_i_pred = np.hstack([y_i[0], X_test[i+1][-1][3:]])\n",
    "        print('x_i_pred\\n', x_i_pred)\n",
    "        x_i_inv_sc = scalar_std_ts.inverse_transform(x_i_pred)\n",
    "        x_pred.append(list(x_i_inv_sc))\n",
    "        cnt += 1\n",
    "        if cnt > 5:\n",
    "            break\n",
    "\n",
    "    return x_pred\n",
    "    "
   ]
  },
  {
   "cell_type": "code",
   "execution_count": 131,
   "id": "d5818274",
   "metadata": {},
   "outputs": [
    {
     "data": {
      "text/html": [
       "<div>\n",
       "<style scoped>\n",
       "    .dataframe tbody tr th:only-of-type {\n",
       "        vertical-align: middle;\n",
       "    }\n",
       "\n",
       "    .dataframe tbody tr th {\n",
       "        vertical-align: top;\n",
       "    }\n",
       "\n",
       "    .dataframe thead th {\n",
       "        text-align: right;\n",
       "    }\n",
       "</style>\n",
       "<table border=\"1\" class=\"dataframe\">\n",
       "  <thead>\n",
       "    <tr style=\"text-align: right;\">\n",
       "      <th></th>\n",
       "      <th>Clearsky DHI</th>\n",
       "      <th>Clearsky DNI</th>\n",
       "      <th>Clearsky GHI</th>\n",
       "      <th>Temperature</th>\n",
       "      <th>Relative Humidity</th>\n",
       "      <th>Solar Zenith Angle</th>\n",
       "      <th>Precipitable Water</th>\n",
       "      <th>ts_Day_sin</th>\n",
       "      <th>ts_Day_cos</th>\n",
       "      <th>ts_Year_sin</th>\n",
       "      <th>ts_Year_cos</th>\n",
       "    </tr>\n",
       "    <tr>\n",
       "      <th>Date</th>\n",
       "      <th></th>\n",
       "      <th></th>\n",
       "      <th></th>\n",
       "      <th></th>\n",
       "      <th></th>\n",
       "      <th></th>\n",
       "      <th></th>\n",
       "      <th></th>\n",
       "      <th></th>\n",
       "      <th></th>\n",
       "      <th></th>\n",
       "    </tr>\n",
       "  </thead>\n",
       "  <tbody>\n",
       "    <tr>\n",
       "      <th>2019-03-15 09:30:00</th>\n",
       "      <td>NaN</td>\n",
       "      <td>NaN</td>\n",
       "      <td>NaN</td>\n",
       "      <td>17.5</td>\n",
       "      <td>97.67</td>\n",
       "      <td>119.34</td>\n",
       "      <td>3.6</td>\n",
       "      <td>6.087614e-01</td>\n",
       "      <td>-0.793353</td>\n",
       "      <td>0.953497</td>\n",
       "      <td>0.301402</td>\n",
       "    </tr>\n",
       "    <tr>\n",
       "      <th>2019-05-17 12:00:00</th>\n",
       "      <td>NaN</td>\n",
       "      <td>NaN</td>\n",
       "      <td>NaN</td>\n",
       "      <td>21.4</td>\n",
       "      <td>88.27</td>\n",
       "      <td>74.10</td>\n",
       "      <td>3.5</td>\n",
       "      <td>7.632139e-12</td>\n",
       "      <td>-1.000000</td>\n",
       "      <td>0.711333</td>\n",
       "      <td>-0.702856</td>\n",
       "    </tr>\n",
       "  </tbody>\n",
       "</table>\n",
       "</div>"
      ],
      "text/plain": [
       "                     Clearsky DHI  Clearsky DNI  Clearsky GHI  Temperature  \\\n",
       "Date                                                                         \n",
       "2019-03-15 09:30:00           NaN           NaN           NaN         17.5   \n",
       "2019-05-17 12:00:00           NaN           NaN           NaN         21.4   \n",
       "\n",
       "                     Relative Humidity  Solar Zenith Angle  \\\n",
       "Date                                                         \n",
       "2019-03-15 09:30:00              97.67              119.34   \n",
       "2019-05-17 12:00:00              88.27               74.10   \n",
       "\n",
       "                     Precipitable Water    ts_Day_sin  ts_Day_cos  \\\n",
       "Date                                                                \n",
       "2019-03-15 09:30:00                 3.6  6.087614e-01   -0.793353   \n",
       "2019-05-17 12:00:00                 3.5  7.632139e-12   -1.000000   \n",
       "\n",
       "                     ts_Year_sin  ts_Year_cos  \n",
       "Date                                           \n",
       "2019-03-15 09:30:00     0.953497     0.301402  \n",
       "2019-05-17 12:00:00     0.711333    -0.702856  "
      ]
     },
     "execution_count": 131,
     "metadata": {},
     "output_type": "execute_result"
    }
   ],
   "source": [
    "df_solar_pred = create_df_predict('data/train.csv', 'data/test.csv', batch_input_len)\n",
    "df_solar_pred.sample(2)"
   ]
  },
  {
   "cell_type": "code",
   "execution_count": 239,
   "id": "fff5e570",
   "metadata": {},
   "outputs": [
    {
     "name": "stdout",
     "output_type": "stream",
     "text": [
      "X_i[-1]\n",
      " [-6.59968704e-04 -3.46991196e-02 -8.28368366e-02  1.04352437e-01\n",
      "  8.87461866e-01  2.61705099e-01  5.14725668e-01 -1.84591911e-01\n",
      "  1.40211477e+00  2.35251224e-03  1.41445850e+00]\n",
      "y_i\n",
      " [[-0.01607201 -0.01058526 -0.07993868]]\n",
      "X_test[i+1][-1][j]\n",
      " -0.01607201062142849  y_i[0][j]:  -0.01607201\n",
      "X_test[i+1][-1][j]\n",
      " -0.010585262440145016  y_i[0][j]:  -0.010585262\n",
      "X_test[i+1][-1][j]\n",
      " -0.07993867993354797  y_i[0][j]:  -0.07993868\n",
      "X_test[i+1][-1]\n",
      " [-1.60720106e-02 -1.05852624e-02 -7.99386799e-02  5.96250708e-02\n",
      "  9.31165096e-01  4.11635235e-01  3.85441085e-01 -7.11253528e-12\n",
      "  1.41421356e+00  2.85932357e-03  1.41445757e+00]\n",
      "x_i_pred\n",
      " [-1.60720106e-02 -1.05852624e-02 -7.99386799e-02  5.96250708e-02\n",
      "  9.31165096e-01  4.11635235e-01  3.85441085e-01 -7.11253528e-12\n",
      "  1.41421356e+00  2.85932357e-03  1.41445757e+00]\n",
      "X_i[-1]\n",
      " [-1.60720106e-02 -1.05852624e-02 -7.99386799e-02  5.96250708e-02\n",
      "  9.31165096e-01  4.11635235e-01  3.85441085e-01 -7.11253528e-12\n",
      "  1.41421356e+00  2.85932357e-03  1.41445757e+00]\n",
      "y_i\n",
      " [[-0.01102245 -0.02138207 -0.07964648]]\n",
      "X_test[i+1][-1][j]\n",
      " -0.011022446677088737  y_i[0][j]:  -0.011022447\n",
      "X_test[i+1][-1][j]\n",
      " -0.02138206921517849  y_i[0][j]:  -0.02138207\n",
      "X_test[i+1][-1][j]\n",
      " -0.07964648306369781  y_i[0][j]:  -0.07964648\n",
      "X_test[i+1][-1]\n",
      " [-0.01102245 -0.02138207 -0.07964648  0.03726139  0.9931627   0.56455898\n",
      "  0.38544108  0.18459191  1.40211477  0.00336613  1.41445645]\n",
      "x_i_pred\n",
      " [-0.01102245 -0.02138207 -0.07964648  0.03726139  0.9931627   0.56455898\n",
      "  0.38544108  0.18459191  1.40211477  0.00336613  1.41445645]\n",
      "X_i[-1]\n",
      " [-0.01102245 -0.02138207 -0.07964648  0.03726139  0.9931627   0.56455898\n",
      "  0.38544108  0.18459191  1.40211477  0.00336613  1.41445645]\n",
      "y_i\n",
      " [[nan nan nan]]\n",
      "X_test[i+1][-1][j]\n",
      " nan  y_i[0][j]:  nan\n",
      "X_test[i+1][-1][j]\n",
      " nan  y_i[0][j]:  nan\n",
      "X_test[i+1][-1][j]\n",
      " nan  y_i[0][j]:  nan\n",
      "X_test[i+1][-1]\n",
      " [       nan        nan        nan 0.02607955 0.96419661 0.71972794\n",
      " 0.38544108 0.3660254  1.3660254  0.00387295 1.41445516]\n",
      "x_i_pred\n",
      " [       nan        nan        nan 0.02607955 0.96419661 0.71972794\n",
      " 0.38544108 0.3660254  1.3660254  0.00387295 1.41445516]\n",
      "X_i[-1]\n",
      " [       nan        nan        nan 0.02607955 0.96419661 0.71972794\n",
      " 0.38544108 0.3660254  1.3660254  0.00387295 1.41445516]\n",
      "y_i\n",
      " [[nan nan nan]]\n",
      "X_test[i+1][-1][j]\n",
      " nan  y_i[0][j]:  nan\n",
      "X_test[i+1][-1][j]\n",
      " nan  y_i[0][j]:  nan\n",
      "X_test[i+1][-1][j]\n",
      " nan  y_i[0][j]:  nan\n",
      "X_test[i+1][-1]\n",
      " [       nan        nan        nan 0.00371586 1.02670239 0.87639371\n",
      " 0.38544108 0.5411961  1.30656296 0.00437976 1.41445368]\n",
      "x_i_pred\n",
      " [       nan        nan        nan 0.00371586 1.02670239 0.87639371\n",
      " 0.38544108 0.5411961  1.30656296 0.00437976 1.41445368]\n",
      "X_i[-1]\n",
      " [       nan        nan        nan 0.00371586 1.02670239 0.87639371\n",
      " 0.38544108 0.5411961  1.30656296 0.00437976 1.41445368]\n",
      "y_i\n",
      " [[nan nan nan]]\n",
      "X_test[i+1][-1][j]\n",
      " nan  y_i[0][j]:  nan\n",
      "X_test[i+1][-1][j]\n",
      " nan  y_i[0][j]:  nan\n",
      "X_test[i+1][-1][j]\n",
      " nan  y_i[0][j]:  nan\n",
      "X_test[i+1][-1]\n",
      " [        nan         nan         nan -0.02982966  1.03330869  1.03455628\n",
      "  0.45008338  0.70710678  1.22474487  0.00488656  1.41445202]\n",
      "x_i_pred\n",
      " [        nan         nan         nan -0.02982966  1.03330869  1.03455628\n",
      "  0.45008338  0.70710678  1.22474487  0.00488656  1.41445202]\n",
      "X_i[-1]\n",
      " [        nan         nan         nan -0.02982966  1.03330869  1.03455628\n",
      "  0.45008338  0.70710678  1.22474487  0.00488656  1.41445202]\n",
      "y_i\n",
      " [[nan nan nan]]\n",
      "X_test[i+1][-1][j]\n",
      " nan  y_i[0][j]:  nan\n",
      "X_test[i+1][-1][j]\n",
      " nan  y_i[0][j]:  nan\n",
      "X_test[i+1][-1][j]\n",
      " nan  y_i[0][j]:  nan\n",
      "X_test[i+1][-1]\n",
      " [        nan         nan         nan -0.0410115   1.04804583  1.19321779\n",
      "  0.51472567  0.86091867  1.12197105  0.00539337  1.41445017]\n",
      "x_i_pred\n",
      " [        nan         nan         nan -0.0410115   1.04804583  1.19321779\n",
      "  0.51472567  0.86091867  1.12197105  0.00539337  1.41445017]\n",
      "[[52.03358373094494, 326.14843309520853, 228.16925952143328, 18.8, 97.7, 106.23, 3.5, -5.030094642409727e-12, 1.0, 0.002021324930284918, 0.9999979571206763], [52.357771914845955, 322.1532932178222, 228.26501362523325, 18.6, 98.92, 112.36, 3.5, 0.13052619221966189, 0.9914448613738617, 0.0023797152497872683, 0.9999971684736562], [nan, nan, nan, 18.5, 98.35, 118.58, 3.5, 0.25881904509256404, 0.9659258262917363, 0.002738105263628894, 0.9999962513827565], [nan, nan, nan, 18.3, 99.58, 124.86, 3.5, 0.3826834323598505, 0.923879532513457, 0.0030964949258335053, 0.9999952058480952], [nan, nan, nan, 18.0, 99.71, 131.2, 3.6, 0.49999999999910455, 0.8660254037849556, 0.003454884190254327, 0.9999940318698066], [nan, nan, nan, 17.9, 100.0, 137.56, 3.7, 0.6087614290000344, 0.7933533402979004, 0.003813273010915163, 0.9999927294480415]]\n"
     ]
    }
   ],
   "source": [
    "cnt = 0\n",
    "x_pred = []\n",
    "for i in range(X_test.shape[0]):\n",
    "    X_i = np.expand_dims(X_test[i], axis=0)\n",
    "    print('X_i[-1]\\n', X_i[0][-1])\n",
    "    y_i = model_lstm1.predict(X_i)\n",
    "    print('y_i\\n',y_i)\n",
    "    for j in range(3):\n",
    "        X_test[i+1][-1][j] = y_i[0][j]\n",
    "        print('X_test[i+1][-1][j]\\n', X_test[i+1][-1][j], ' y_i[0][j]: ', y_i[0][j])\n",
    "    \n",
    "    print('X_test[i+1][-1]\\n', X_test[i+1][-1])\n",
    "    # print(X_test[i+1][-1][3:])\n",
    "    x_i_pred = np.hstack([y_i[0], X_test[i+1][-1][3:]])\n",
    "    print('x_i_pred\\n', x_i_pred)\n",
    "    x_i_inv_sc = scalar_std_ts.inverse_transform(x_i_pred)\n",
    "    x_pred.append(list(x_i_inv_sc))\n",
    "    cnt += 1\n",
    "    if cnt > 5:\n",
    "        break\n",
    "\n",
    "print(x_pred)"
   ]
  },
  {
   "cell_type": "code",
   "execution_count": null,
   "id": "525d2a10",
   "metadata": {},
   "outputs": [],
   "source": []
  },
  {
   "cell_type": "code",
   "execution_count": null,
   "id": "15351320",
   "metadata": {},
   "outputs": [],
   "source": []
  },
  {
   "cell_type": "code",
   "execution_count": null,
   "id": "38dcbac9",
   "metadata": {},
   "outputs": [],
   "source": []
  },
  {
   "cell_type": "code",
   "execution_count": null,
   "id": "797c7063",
   "metadata": {},
   "outputs": [],
   "source": []
  },
  {
   "cell_type": "code",
   "execution_count": null,
   "id": "2aa96f30",
   "metadata": {},
   "outputs": [],
   "source": []
  },
  {
   "cell_type": "markdown",
   "id": "a6e8e402",
   "metadata": {},
   "source": [
    "### Scaling the Updated Data"
   ]
  },
  {
   "cell_type": "code",
   "execution_count": null,
   "id": "5893a953",
   "metadata": {},
   "outputs": [],
   "source": [
    "scalar_std = StandardScaler()\n",
    "scalar_std = scalar_std.fit(df_solar)\n",
    "df_solar_sc = pd.DataFrame(data=scalar_std.transform(df_solar), index=df_solar.index,  columns=df_solar.columns)\n",
    "df_solar_sc.sample(2)"
   ]
  },
  {
   "cell_type": "markdown",
   "id": "61db1987",
   "metadata": {},
   "source": [
    "### Data Generation"
   ]
  },
  {
   "cell_type": "code",
   "execution_count": null,
   "id": "a3d64db6",
   "metadata": {},
   "outputs": [],
   "source": [
    "from tensorflow.keras.preprocessing.sequence import TimeseriesGenerator"
   ]
  },
  {
   "cell_type": "code",
   "execution_count": null,
   "id": "4a6b6654",
   "metadata": {},
   "outputs": [],
   "source": [
    "# # Take only one weeks data for completing the process\n",
    "# # total_length = 17520*2\n",
    "# total_length = df_solar_sc.shape[0]"
   ]
  },
  {
   "cell_type": "code",
   "execution_count": null,
   "id": "16414d53",
   "metadata": {},
   "outputs": [],
   "source": [
    "\n"
   ]
  },
  {
   "cell_type": "markdown",
   "id": "a8af4c1c",
   "metadata": {},
   "source": [
    "### Model Building"
   ]
  },
  {
   "cell_type": "code",
   "execution_count": null,
   "id": "457b5016",
   "metadata": {},
   "outputs": [],
   "source": []
  },
  {
   "cell_type": "code",
   "execution_count": null,
   "id": "ff6f1a82",
   "metadata": {},
   "outputs": [],
   "source": []
  },
  {
   "cell_type": "code",
   "execution_count": null,
   "id": "e4da2478",
   "metadata": {},
   "outputs": [],
   "source": []
  },
  {
   "cell_type": "code",
   "execution_count": null,
   "id": "512beeee",
   "metadata": {},
   "outputs": [],
   "source": []
  },
  {
   "cell_type": "code",
   "execution_count": null,
   "id": "9d516d2d",
   "metadata": {},
   "outputs": [],
   "source": []
  },
  {
   "cell_type": "code",
   "execution_count": null,
   "id": "057b21e0",
   "metadata": {},
   "outputs": [],
   "source": [
    "model_lstm1.load_weights('best_model_lstm1.h5')"
   ]
  },
  {
   "cell_type": "code",
   "execution_count": null,
   "id": "19e55c32",
   "metadata": {},
   "outputs": [],
   "source": [
    "def plot_model_history(model):\n",
    "    mod_hist = model.history\n",
    "    plt.subplot(1, 2, 1)\n",
    "    plt.plot(mod_hist.history['loss'])\n",
    "    plt.plot(mod_hist.history['val_loss'])\n",
    "    plt.title('Loss MSE')\n",
    "    plt.ylabel('Loss')\n",
    "    plt.xlabel('Epochs')\n",
    "    plt.subplot(1, 2, 2)\n",
    "    plt.plot(mod_hist.history['root_mean_squared_error'])\n",
    "    plt.plot(mod_hist.history['val_root_mean_squared_error'])\n",
    "    plt.title('Error RMSE')\n",
    "    plt.ylabel('Loss')\n",
    "    plt.xlabel('Epochs')"
   ]
  },
  {
   "cell_type": "code",
   "execution_count": null,
   "id": "24222842",
   "metadata": {},
   "outputs": [],
   "source": [
    "plot_model_history(model=model_lstm1)"
   ]
  },
  {
   "cell_type": "markdown",
   "id": "3831daa0",
   "metadata": {},
   "source": [
    "##### Inverse Scaling the data"
   ]
  },
  {
   "cell_type": "code",
   "execution_count": null,
   "id": "704ff87c",
   "metadata": {},
   "outputs": [],
   "source": [
    "plt.figure(figsize=(12, 9))\n",
    "cnt = 1\n",
    "for col in df_solar_pred.columns:\n",
    "    plt.subplot(3, 1, cnt)\n",
    "    plt.plot(df_solar_train[col], label='train')\n",
    "    plt.plot(df_solar_test[col], label='test')\n",
    "    plt.plot(df_solar_pred[col], label='Pred')\n",
    "    plt.xticks(rotation=45)\n",
    "    plt.legend(loc='best')\n",
    "    cnt += 1\n",
    "\n",
    "plt.tight_layout()\n",
    "plt.show()"
   ]
  },
  {
   "cell_type": "markdown",
   "id": "5c131f78",
   "metadata": {},
   "source": [
    "### Predicting for Future (Forecasting)"
   ]
  },
  {
   "cell_type": "code",
   "execution_count": null,
   "id": "96c0a993",
   "metadata": {},
   "outputs": [],
   "source": []
  }
 ],
 "metadata": {
  "kernelspec": {
   "display_name": "Python 3",
   "language": "python",
   "name": "python3"
  },
  "language_info": {
   "codemirror_mode": {
    "name": "ipython",
    "version": 3
   },
   "file_extension": ".py",
   "mimetype": "text/x-python",
   "name": "python",
   "nbconvert_exporter": "python",
   "pygments_lexer": "ipython3",
   "version": "3.9.4"
  }
 },
 "nbformat": 4,
 "nbformat_minor": 5
}
