{
 "cells": [
  {
   "cell_type": "code",
   "execution_count": 1,
   "id": "c37f76af",
   "metadata": {},
   "outputs": [],
   "source": [
    "import tensorflow as tf\n",
    "gpus = tf.config.experimental.list_physical_devices('GPU')\n",
    "for gpu in gpus:\n",
    "    tf.config.experimental.set_memory_growth(gpu, enable=True)"
   ]
  },
  {
   "cell_type": "code",
   "execution_count": 2,
   "id": "ae762ea0",
   "metadata": {},
   "outputs": [],
   "source": [
    "import numpy as np\n",
    "import pandas as pd\n",
    "import matplotlib.pyplot as plt"
   ]
  },
  {
   "cell_type": "markdown",
   "id": "c508ac6c",
   "metadata": {},
   "source": [
    "# Data Pre-processing"
   ]
  },
  {
   "cell_type": "markdown",
   "id": "953ecc6d",
   "metadata": {},
   "source": [
    "### Reading the data converting into TimeSeries format"
   ]
  },
  {
   "cell_type": "code",
   "execution_count": 3,
   "id": "dbfa6ea4",
   "metadata": {},
   "outputs": [],
   "source": [
    "def convert_ts_csv_to_df(csvfile):\n",
    "    '''Take the CSV file along with the path and return dataframe'''\n",
    "    df = pd.read_csv(csvfile)\n",
    "    df.insert(loc=0, column='Date', \n",
    "                value=pd.to_datetime(df[['Year', 'Month', 'Day', 'Hour', 'Minute']]))\n",
    "    df.drop(columns=['Year', 'Month', 'Day', 'Hour', 'Minute'], axis=1, inplace=True)\n",
    "    df.set_index(keys='Date', inplace=True)\n",
    "    df=df[['Clearsky DHI', 'Clearsky DNI', 'Clearsky GHI', 'Temperature', 'Cloud Type', 'Dew Point', 'Fill Flag', \n",
    "           'Relative Humidity', 'Solar Zenith Angle', 'Pressure', 'Precipitable Water', 'Wind Direction', 'Wind Speed']]\n",
    "    return df"
   ]
  },
  {
   "cell_type": "code",
   "execution_count": 4,
   "id": "23bd95be",
   "metadata": {},
   "outputs": [],
   "source": [
    "training_csv = 'data/train.csv'\n",
    "testing_csv = 'data/test.csv'"
   ]
  },
  {
   "cell_type": "code",
   "execution_count": 5,
   "id": "c6cafb7d",
   "metadata": {},
   "outputs": [
    {
     "data": {
      "text/html": [
       "<div>\n",
       "<style scoped>\n",
       "    .dataframe tbody tr th:only-of-type {\n",
       "        vertical-align: middle;\n",
       "    }\n",
       "\n",
       "    .dataframe tbody tr th {\n",
       "        vertical-align: top;\n",
       "    }\n",
       "\n",
       "    .dataframe thead th {\n",
       "        text-align: right;\n",
       "    }\n",
       "</style>\n",
       "<table border=\"1\" class=\"dataframe\">\n",
       "  <thead>\n",
       "    <tr style=\"text-align: right;\">\n",
       "      <th></th>\n",
       "      <th>Clearsky DHI</th>\n",
       "      <th>Clearsky DNI</th>\n",
       "      <th>Clearsky GHI</th>\n",
       "      <th>Temperature</th>\n",
       "      <th>Cloud Type</th>\n",
       "      <th>Dew Point</th>\n",
       "      <th>Fill Flag</th>\n",
       "      <th>Relative Humidity</th>\n",
       "      <th>Solar Zenith Angle</th>\n",
       "      <th>Pressure</th>\n",
       "      <th>Precipitable Water</th>\n",
       "      <th>Wind Direction</th>\n",
       "      <th>Wind Speed</th>\n",
       "    </tr>\n",
       "    <tr>\n",
       "      <th>Date</th>\n",
       "      <th></th>\n",
       "      <th></th>\n",
       "      <th></th>\n",
       "      <th></th>\n",
       "      <th></th>\n",
       "      <th></th>\n",
       "      <th></th>\n",
       "      <th></th>\n",
       "      <th></th>\n",
       "      <th></th>\n",
       "      <th></th>\n",
       "      <th></th>\n",
       "      <th></th>\n",
       "    </tr>\n",
       "  </thead>\n",
       "  <tbody>\n",
       "    <tr>\n",
       "      <th>2009-10-27 05:30:00</th>\n",
       "      <td>0</td>\n",
       "      <td>0</td>\n",
       "      <td>0</td>\n",
       "      <td>13.0</td>\n",
       "      <td>7</td>\n",
       "      <td>13.0</td>\n",
       "      <td>0</td>\n",
       "      <td>100.00</td>\n",
       "      <td>160.82</td>\n",
       "      <td>1000</td>\n",
       "      <td>3.460</td>\n",
       "      <td>73.6</td>\n",
       "      <td>2.0</td>\n",
       "    </tr>\n",
       "    <tr>\n",
       "      <th>2012-10-28 10:30:00</th>\n",
       "      <td>0</td>\n",
       "      <td>0</td>\n",
       "      <td>0</td>\n",
       "      <td>10.0</td>\n",
       "      <td>0</td>\n",
       "      <td>8.0</td>\n",
       "      <td>0</td>\n",
       "      <td>91.37</td>\n",
       "      <td>107.32</td>\n",
       "      <td>990</td>\n",
       "      <td>1.878</td>\n",
       "      <td>316.6</td>\n",
       "      <td>2.5</td>\n",
       "    </tr>\n",
       "  </tbody>\n",
       "</table>\n",
       "</div>"
      ],
      "text/plain": [
       "                     Clearsky DHI  Clearsky DNI  Clearsky GHI  Temperature  \\\n",
       "Date                                                                         \n",
       "2009-10-27 05:30:00             0             0             0         13.0   \n",
       "2012-10-28 10:30:00             0             0             0         10.0   \n",
       "\n",
       "                     Cloud Type  Dew Point  Fill Flag  Relative Humidity  \\\n",
       "Date                                                                       \n",
       "2009-10-27 05:30:00           7       13.0          0             100.00   \n",
       "2012-10-28 10:30:00           0        8.0          0              91.37   \n",
       "\n",
       "                     Solar Zenith Angle  Pressure  Precipitable Water  \\\n",
       "Date                                                                    \n",
       "2009-10-27 05:30:00              160.82      1000               3.460   \n",
       "2012-10-28 10:30:00              107.32       990               1.878   \n",
       "\n",
       "                     Wind Direction  Wind Speed  \n",
       "Date                                             \n",
       "2009-10-27 05:30:00            73.6         2.0  \n",
       "2012-10-28 10:30:00           316.6         2.5  "
      ]
     },
     "execution_count": 5,
     "metadata": {},
     "output_type": "execute_result"
    }
   ],
   "source": [
    "df_solar = convert_ts_csv_to_df(training_csv)\n",
    "df_solar.sample(2)"
   ]
  },
  {
   "cell_type": "code",
   "execution_count": 6,
   "id": "d1833ac9",
   "metadata": {},
   "outputs": [
    {
     "data": {
      "text/html": [
       "<div>\n",
       "<style scoped>\n",
       "    .dataframe tbody tr th:only-of-type {\n",
       "        vertical-align: middle;\n",
       "    }\n",
       "\n",
       "    .dataframe tbody tr th {\n",
       "        vertical-align: top;\n",
       "    }\n",
       "\n",
       "    .dataframe thead th {\n",
       "        text-align: right;\n",
       "    }\n",
       "</style>\n",
       "<table border=\"1\" class=\"dataframe\">\n",
       "  <thead>\n",
       "    <tr style=\"text-align: right;\">\n",
       "      <th></th>\n",
       "      <th>Clearsky DHI</th>\n",
       "      <th>Clearsky DNI</th>\n",
       "      <th>Clearsky GHI</th>\n",
       "      <th>Temperature</th>\n",
       "      <th>Cloud Type</th>\n",
       "      <th>Dew Point</th>\n",
       "      <th>Fill Flag</th>\n",
       "      <th>Relative Humidity</th>\n",
       "      <th>Solar Zenith Angle</th>\n",
       "      <th>Pressure</th>\n",
       "      <th>Precipitable Water</th>\n",
       "      <th>Wind Direction</th>\n",
       "      <th>Wind Speed</th>\n",
       "    </tr>\n",
       "    <tr>\n",
       "      <th>Date</th>\n",
       "      <th></th>\n",
       "      <th></th>\n",
       "      <th></th>\n",
       "      <th></th>\n",
       "      <th></th>\n",
       "      <th></th>\n",
       "      <th></th>\n",
       "      <th></th>\n",
       "      <th></th>\n",
       "      <th></th>\n",
       "      <th></th>\n",
       "      <th></th>\n",
       "      <th></th>\n",
       "    </tr>\n",
       "  </thead>\n",
       "  <tbody>\n",
       "    <tr>\n",
       "      <th>2019-11-20 14:30:00</th>\n",
       "      <td>NaN</td>\n",
       "      <td>NaN</td>\n",
       "      <td>NaN</td>\n",
       "      <td>12.6</td>\n",
       "      <td>0</td>\n",
       "      <td>6.5</td>\n",
       "      <td>0</td>\n",
       "      <td>66.43</td>\n",
       "      <td>65.80</td>\n",
       "      <td>1011</td>\n",
       "      <td>0.7</td>\n",
       "      <td>350</td>\n",
       "      <td>3.6</td>\n",
       "    </tr>\n",
       "    <tr>\n",
       "      <th>2019-11-12 22:30:00</th>\n",
       "      <td>NaN</td>\n",
       "      <td>NaN</td>\n",
       "      <td>NaN</td>\n",
       "      <td>6.3</td>\n",
       "      <td>0</td>\n",
       "      <td>-1.2</td>\n",
       "      <td>4</td>\n",
       "      <td>58.86</td>\n",
       "      <td>88.91</td>\n",
       "      <td>1008</td>\n",
       "      <td>0.9</td>\n",
       "      <td>335</td>\n",
       "      <td>4.2</td>\n",
       "    </tr>\n",
       "  </tbody>\n",
       "</table>\n",
       "</div>"
      ],
      "text/plain": [
       "                     Clearsky DHI  Clearsky DNI  Clearsky GHI  Temperature  \\\n",
       "Date                                                                         \n",
       "2019-11-20 14:30:00           NaN           NaN           NaN         12.6   \n",
       "2019-11-12 22:30:00           NaN           NaN           NaN          6.3   \n",
       "\n",
       "                     Cloud Type  Dew Point  Fill Flag  Relative Humidity  \\\n",
       "Date                                                                       \n",
       "2019-11-20 14:30:00           0        6.5          0              66.43   \n",
       "2019-11-12 22:30:00           0       -1.2          4              58.86   \n",
       "\n",
       "                     Solar Zenith Angle  Pressure  Precipitable Water  \\\n",
       "Date                                                                    \n",
       "2019-11-20 14:30:00               65.80      1011                 0.7   \n",
       "2019-11-12 22:30:00               88.91      1008                 0.9   \n",
       "\n",
       "                     Wind Direction  Wind Speed  \n",
       "Date                                             \n",
       "2019-11-20 14:30:00             350         3.6  \n",
       "2019-11-12 22:30:00             335         4.2  "
      ]
     },
     "execution_count": 6,
     "metadata": {},
     "output_type": "execute_result"
    }
   ],
   "source": [
    "# Reading the test dataset as Val\n",
    "# Train dataset shall be split into Train and Test\n",
    "# Val is read to understand the data and null values\n",
    "df_solar_test = convert_ts_csv_to_df(testing_csv)\n",
    "df_solar_test.sample(2)"
   ]
  },
  {
   "cell_type": "markdown",
   "id": "e5253a45",
   "metadata": {},
   "source": [
    "### Data Check"
   ]
  },
  {
   "cell_type": "markdown",
   "id": "ce54a650",
   "metadata": {},
   "source": [
    "##### Null Check"
   ]
  },
  {
   "cell_type": "code",
   "execution_count": 7,
   "id": "ce0886b6",
   "metadata": {},
   "outputs": [
    {
     "data": {
      "text/plain": [
       "Clearsky DHI          0\n",
       "Clearsky DNI          0\n",
       "Clearsky GHI          0\n",
       "Temperature           0\n",
       "Cloud Type            0\n",
       "Dew Point             0\n",
       "Fill Flag             0\n",
       "Relative Humidity     0\n",
       "Solar Zenith Angle    0\n",
       "Pressure              0\n",
       "Precipitable Water    0\n",
       "Wind Direction        0\n",
       "Wind Speed            0\n",
       "dtype: int64"
      ]
     },
     "execution_count": 7,
     "metadata": {},
     "output_type": "execute_result"
    }
   ],
   "source": [
    "df_solar.isnull().sum()"
   ]
  },
  {
   "cell_type": "code",
   "execution_count": 8,
   "id": "a1714a67",
   "metadata": {},
   "outputs": [
    {
     "data": {
      "text/plain": [
       "Clearsky DHI          17520\n",
       "Clearsky DNI          17520\n",
       "Clearsky GHI          17520\n",
       "Temperature               0\n",
       "Cloud Type                0\n",
       "Dew Point                 0\n",
       "Fill Flag                 0\n",
       "Relative Humidity         0\n",
       "Solar Zenith Angle        0\n",
       "Pressure                  0\n",
       "Precipitable Water        0\n",
       "Wind Direction            0\n",
       "Wind Speed                0\n",
       "dtype: int64"
      ]
     },
     "execution_count": 8,
     "metadata": {},
     "output_type": "execute_result"
    }
   ],
   "source": [
    "df_solar_test.isnull().sum()"
   ]
  },
  {
   "cell_type": "markdown",
   "id": "7f873485",
   "metadata": {},
   "source": [
    "# Feature Selection"
   ]
  },
  {
   "cell_type": "markdown",
   "id": "7ffa4e68",
   "metadata": {},
   "source": [
    "##### Datatype Check and convert to floats for Scaling data"
   ]
  },
  {
   "cell_type": "code",
   "execution_count": 9,
   "id": "808f0a01",
   "metadata": {},
   "outputs": [
    {
     "name": "stdout",
     "output_type": "stream",
     "text": [
      "<class 'pandas.core.frame.DataFrame'>\n",
      "DatetimeIndex: 175296 entries, 2009-01-01 00:00:00 to 2018-12-31 23:30:00\n",
      "Data columns (total 13 columns):\n",
      " #   Column              Non-Null Count   Dtype  \n",
      "---  ------              --------------   -----  \n",
      " 0   Clearsky DHI        175296 non-null  int64  \n",
      " 1   Clearsky DNI        175296 non-null  int64  \n",
      " 2   Clearsky GHI        175296 non-null  int64  \n",
      " 3   Temperature         175296 non-null  float64\n",
      " 4   Cloud Type          175296 non-null  int64  \n",
      " 5   Dew Point           175296 non-null  float64\n",
      " 6   Fill Flag           175296 non-null  int64  \n",
      " 7   Relative Humidity   175296 non-null  float64\n",
      " 8   Solar Zenith Angle  175296 non-null  float64\n",
      " 9   Pressure            175296 non-null  int64  \n",
      " 10  Precipitable Water  175296 non-null  float64\n",
      " 11  Wind Direction      175296 non-null  float64\n",
      " 12  Wind Speed          175296 non-null  float64\n",
      "dtypes: float64(7), int64(6)\n",
      "memory usage: 18.7 MB\n"
     ]
    }
   ],
   "source": [
    "df_solar.info()"
   ]
  },
  {
   "cell_type": "code",
   "execution_count": 10,
   "id": "853d7b28",
   "metadata": {},
   "outputs": [],
   "source": [
    "df_solar = df_solar.astype(np.float64)"
   ]
  },
  {
   "cell_type": "code",
   "execution_count": 11,
   "id": "6a076c35",
   "metadata": {},
   "outputs": [
    {
     "name": "stdout",
     "output_type": "stream",
     "text": [
      "<class 'pandas.core.frame.DataFrame'>\n",
      "DatetimeIndex: 175296 entries, 2009-01-01 00:00:00 to 2018-12-31 23:30:00\n",
      "Data columns (total 13 columns):\n",
      " #   Column              Non-Null Count   Dtype  \n",
      "---  ------              --------------   -----  \n",
      " 0   Clearsky DHI        175296 non-null  float64\n",
      " 1   Clearsky DNI        175296 non-null  float64\n",
      " 2   Clearsky GHI        175296 non-null  float64\n",
      " 3   Temperature         175296 non-null  float64\n",
      " 4   Cloud Type          175296 non-null  float64\n",
      " 5   Dew Point           175296 non-null  float64\n",
      " 6   Fill Flag           175296 non-null  float64\n",
      " 7   Relative Humidity   175296 non-null  float64\n",
      " 8   Solar Zenith Angle  175296 non-null  float64\n",
      " 9   Pressure            175296 non-null  float64\n",
      " 10  Precipitable Water  175296 non-null  float64\n",
      " 11  Wind Direction      175296 non-null  float64\n",
      " 12  Wind Speed          175296 non-null  float64\n",
      "dtypes: float64(13)\n",
      "memory usage: 18.7 MB\n"
     ]
    }
   ],
   "source": [
    "df_solar.info()"
   ]
  },
  {
   "cell_type": "markdown",
   "id": "0ddbe8da",
   "metadata": {},
   "source": [
    "##### Feature update based on domain"
   ]
  },
  {
   "cell_type": "code",
   "execution_count": 12,
   "id": "9cf8e1a2",
   "metadata": {},
   "outputs": [
    {
     "name": "stdout",
     "output_type": "stream",
     "text": [
      "\n",
      "Source: https://www.yellowhaze.in/solar-irradiance/\n",
      "Global Horizontal Irradiance (GHI) = Direct Normal Irradiance (DNI)* cos(solar zenith angle)  +  Diffused Horizontal Irradiance (DHI)\n"
     ]
    }
   ],
   "source": [
    "print('''\n",
    "Source: https://www.yellowhaze.in/solar-irradiance/\n",
    "Global Horizontal Irradiance (GHI) = Direct Normal Irradiance (DNI)* cos(solar zenith angle)  +  Diffused Horizontal Irradiance (DHI)''')"
   ]
  },
  {
   "cell_type": "code",
   "execution_count": 13,
   "id": "99bffe0f",
   "metadata": {},
   "outputs": [
    {
     "data": {
      "text/plain": [
       "count    175296.000000\n",
       "mean         89.729463\n",
       "std          40.085451\n",
       "min           8.550000\n",
       "25%          56.450000\n",
       "50%          89.860000\n",
       "75%         123.060000\n",
       "max         171.550000\n",
       "Name: Solar Zenith Angle, dtype: float64"
      ]
     },
     "execution_count": 13,
     "metadata": {},
     "output_type": "execute_result"
    }
   ],
   "source": [
    "df_solar['Solar Zenith Angle'].describe()"
   ]
  },
  {
   "cell_type": "code",
   "execution_count": 14,
   "id": "d8ae9c53",
   "metadata": {},
   "outputs": [
    {
     "name": "stdout",
     "output_type": "stream",
     "text": [
      "This shows the Zenith Angle is given in degrees with a min or 35 and max of 171 approximately\n"
     ]
    }
   ],
   "source": [
    "print('''This shows the Zenith Angle is given in degrees with a min or 35 and max of 171 approximately''')"
   ]
  },
  {
   "cell_type": "code",
   "execution_count": 15,
   "id": "a5de5018",
   "metadata": {},
   "outputs": [],
   "source": [
    "from math import cos, radians"
   ]
  },
  {
   "cell_type": "code",
   "execution_count": 16,
   "id": "f198ba60",
   "metadata": {},
   "outputs": [],
   "source": [
    "df_solar['Cos Zenith'] = df_solar['Solar Zenith Angle'].apply(lambda x: cos(radians(x)))"
   ]
  },
  {
   "cell_type": "code",
   "execution_count": 17,
   "id": "4bf7e71d",
   "metadata": {},
   "outputs": [
    {
     "data": {
      "text/plain": [
       "count    175296.000000\n",
       "mean          0.003547\n",
       "std           0.595196\n",
       "min          -0.989144\n",
       "25%          -0.545517\n",
       "50%           0.002443\n",
       "75%           0.552664\n",
       "max           0.988886\n",
       "Name: Cos Zenith, dtype: float64"
      ]
     },
     "execution_count": 17,
     "metadata": {},
     "output_type": "execute_result"
    }
   ],
   "source": [
    "df_solar['Cos Zenith'].describe()"
   ]
  },
  {
   "cell_type": "code",
   "execution_count": 18,
   "id": "20715760",
   "metadata": {},
   "outputs": [],
   "source": [
    "df_solar.drop(columns='Solar Zenith Angle', inplace=True)"
   ]
  },
  {
   "cell_type": "code",
   "execution_count": 19,
   "id": "6c833ddf",
   "metadata": {},
   "outputs": [
    {
     "data": {
      "text/html": [
       "<div>\n",
       "<style scoped>\n",
       "    .dataframe tbody tr th:only-of-type {\n",
       "        vertical-align: middle;\n",
       "    }\n",
       "\n",
       "    .dataframe tbody tr th {\n",
       "        vertical-align: top;\n",
       "    }\n",
       "\n",
       "    .dataframe thead th {\n",
       "        text-align: right;\n",
       "    }\n",
       "</style>\n",
       "<table border=\"1\" class=\"dataframe\">\n",
       "  <thead>\n",
       "    <tr style=\"text-align: right;\">\n",
       "      <th></th>\n",
       "      <th>Clearsky DHI</th>\n",
       "      <th>Clearsky DNI</th>\n",
       "      <th>Clearsky GHI</th>\n",
       "      <th>Temperature</th>\n",
       "      <th>Cloud Type</th>\n",
       "      <th>Dew Point</th>\n",
       "      <th>Fill Flag</th>\n",
       "      <th>Relative Humidity</th>\n",
       "      <th>Pressure</th>\n",
       "      <th>Precipitable Water</th>\n",
       "      <th>Wind Direction</th>\n",
       "      <th>Wind Speed</th>\n",
       "      <th>Cos Zenith</th>\n",
       "    </tr>\n",
       "    <tr>\n",
       "      <th>Date</th>\n",
       "      <th></th>\n",
       "      <th></th>\n",
       "      <th></th>\n",
       "      <th></th>\n",
       "      <th></th>\n",
       "      <th></th>\n",
       "      <th></th>\n",
       "      <th></th>\n",
       "      <th></th>\n",
       "      <th></th>\n",
       "      <th></th>\n",
       "      <th></th>\n",
       "      <th></th>\n",
       "    </tr>\n",
       "  </thead>\n",
       "  <tbody>\n",
       "    <tr>\n",
       "      <th>2018-08-17 05:00:00</th>\n",
       "      <td>0.0</td>\n",
       "      <td>0.0</td>\n",
       "      <td>0.0</td>\n",
       "      <td>23.8</td>\n",
       "      <td>0.0</td>\n",
       "      <td>23.1</td>\n",
       "      <td>0.0</td>\n",
       "      <td>95.81</td>\n",
       "      <td>1010.0</td>\n",
       "      <td>4.900</td>\n",
       "      <td>225.0</td>\n",
       "      <td>0.7</td>\n",
       "      <td>-0.691261</td>\n",
       "    </tr>\n",
       "    <tr>\n",
       "      <th>2012-04-01 19:30:00</th>\n",
       "      <td>117.0</td>\n",
       "      <td>875.0</td>\n",
       "      <td>813.0</td>\n",
       "      <td>28.0</td>\n",
       "      <td>0.0</td>\n",
       "      <td>17.0</td>\n",
       "      <td>0.0</td>\n",
       "      <td>54.04</td>\n",
       "      <td>1000.0</td>\n",
       "      <td>2.772</td>\n",
       "      <td>263.2</td>\n",
       "      <td>2.9</td>\n",
       "      <td>0.794521</td>\n",
       "    </tr>\n",
       "  </tbody>\n",
       "</table>\n",
       "</div>"
      ],
      "text/plain": [
       "                     Clearsky DHI  Clearsky DNI  Clearsky GHI  Temperature  \\\n",
       "Date                                                                         \n",
       "2018-08-17 05:00:00           0.0           0.0           0.0         23.8   \n",
       "2012-04-01 19:30:00         117.0         875.0         813.0         28.0   \n",
       "\n",
       "                     Cloud Type  Dew Point  Fill Flag  Relative Humidity  \\\n",
       "Date                                                                       \n",
       "2018-08-17 05:00:00         0.0       23.1        0.0              95.81   \n",
       "2012-04-01 19:30:00         0.0       17.0        0.0              54.04   \n",
       "\n",
       "                     Pressure  Precipitable Water  Wind Direction  Wind Speed  \\\n",
       "Date                                                                            \n",
       "2018-08-17 05:00:00    1010.0               4.900           225.0         0.7   \n",
       "2012-04-01 19:30:00    1000.0               2.772           263.2         2.9   \n",
       "\n",
       "                     Cos Zenith  \n",
       "Date                             \n",
       "2018-08-17 05:00:00   -0.691261  \n",
       "2012-04-01 19:30:00    0.794521  "
      ]
     },
     "execution_count": 19,
     "metadata": {},
     "output_type": "execute_result"
    }
   ],
   "source": [
    "df_solar.sample(2)"
   ]
  },
  {
   "cell_type": "code",
   "execution_count": 20,
   "id": "9281ad50",
   "metadata": {},
   "outputs": [
    {
     "data": {
      "text/plain": [
       "(175296, 13)"
      ]
     },
     "execution_count": 20,
     "metadata": {},
     "output_type": "execute_result"
    }
   ],
   "source": [
    "df_solar.shape"
   ]
  },
  {
   "cell_type": "markdown",
   "id": "ba8e729e",
   "metadata": {},
   "source": [
    "### Adding the Significance of Seasonality into TS\n",
    "Since we using Deep Learning, the significance of Timestamp is lost and the sinificance behaviour of data with respect to Seasonality. In order to avoid it, these parameters are added"
   ]
  },
  {
   "cell_type": "code",
   "execution_count": 21,
   "id": "4c19258f",
   "metadata": {},
   "outputs": [
    {
     "data": {
      "text/html": [
       "<div>\n",
       "<style scoped>\n",
       "    .dataframe tbody tr th:only-of-type {\n",
       "        vertical-align: middle;\n",
       "    }\n",
       "\n",
       "    .dataframe tbody tr th {\n",
       "        vertical-align: top;\n",
       "    }\n",
       "\n",
       "    .dataframe thead th {\n",
       "        text-align: right;\n",
       "    }\n",
       "</style>\n",
       "<table border=\"1\" class=\"dataframe\">\n",
       "  <thead>\n",
       "    <tr style=\"text-align: right;\">\n",
       "      <th></th>\n",
       "      <th>Clearsky DHI</th>\n",
       "      <th>Clearsky DNI</th>\n",
       "      <th>Clearsky GHI</th>\n",
       "      <th>Temperature</th>\n",
       "      <th>Cloud Type</th>\n",
       "      <th>Dew Point</th>\n",
       "      <th>Fill Flag</th>\n",
       "      <th>Relative Humidity</th>\n",
       "      <th>Pressure</th>\n",
       "      <th>Precipitable Water</th>\n",
       "      <th>Wind Direction</th>\n",
       "      <th>Wind Speed</th>\n",
       "      <th>Cos Zenith</th>\n",
       "      <th>ts_Day_sin</th>\n",
       "      <th>ts_Day_cos</th>\n",
       "      <th>ts_Year_sin</th>\n",
       "      <th>ts_Year_cos</th>\n",
       "    </tr>\n",
       "    <tr>\n",
       "      <th>Date</th>\n",
       "      <th></th>\n",
       "      <th></th>\n",
       "      <th></th>\n",
       "      <th></th>\n",
       "      <th></th>\n",
       "      <th></th>\n",
       "      <th></th>\n",
       "      <th></th>\n",
       "      <th></th>\n",
       "      <th></th>\n",
       "      <th></th>\n",
       "      <th></th>\n",
       "      <th></th>\n",
       "      <th></th>\n",
       "      <th></th>\n",
       "      <th></th>\n",
       "      <th></th>\n",
       "    </tr>\n",
       "  </thead>\n",
       "  <tbody>\n",
       "    <tr>\n",
       "      <th>2011-01-18 02:00:00</th>\n",
       "      <td>0.0</td>\n",
       "      <td>0.0</td>\n",
       "      <td>0.0</td>\n",
       "      <td>6.0</td>\n",
       "      <td>0.0</td>\n",
       "      <td>6.0</td>\n",
       "      <td>0.0</td>\n",
       "      <td>100.0</td>\n",
       "      <td>1000.0</td>\n",
       "      <td>2.153</td>\n",
       "      <td>61.5</td>\n",
       "      <td>2.6</td>\n",
       "      <td>-0.625787</td>\n",
       "      <td>0.500000</td>\n",
       "      <td>0.866025</td>\n",
       "      <td>0.290615</td>\n",
       "      <td>0.95684</td>\n",
       "    </tr>\n",
       "    <tr>\n",
       "      <th>2015-02-02 08:30:00</th>\n",
       "      <td>0.0</td>\n",
       "      <td>0.0</td>\n",
       "      <td>0.0</td>\n",
       "      <td>14.0</td>\n",
       "      <td>4.0</td>\n",
       "      <td>14.0</td>\n",
       "      <td>0.0</td>\n",
       "      <td>100.0</td>\n",
       "      <td>990.0</td>\n",
       "      <td>3.321</td>\n",
       "      <td>206.7</td>\n",
       "      <td>6.5</td>\n",
       "      <td>-0.773619</td>\n",
       "      <td>0.793353</td>\n",
       "      <td>-0.608761</td>\n",
       "      <td>0.529564</td>\n",
       "      <td>0.84827</td>\n",
       "    </tr>\n",
       "  </tbody>\n",
       "</table>\n",
       "</div>"
      ],
      "text/plain": [
       "                     Clearsky DHI  Clearsky DNI  Clearsky GHI  Temperature  \\\n",
       "Date                                                                         \n",
       "2011-01-18 02:00:00           0.0           0.0           0.0          6.0   \n",
       "2015-02-02 08:30:00           0.0           0.0           0.0         14.0   \n",
       "\n",
       "                     Cloud Type  Dew Point  Fill Flag  Relative Humidity  \\\n",
       "Date                                                                       \n",
       "2011-01-18 02:00:00         0.0        6.0        0.0              100.0   \n",
       "2015-02-02 08:30:00         4.0       14.0        0.0              100.0   \n",
       "\n",
       "                     Pressure  Precipitable Water  Wind Direction  Wind Speed  \\\n",
       "Date                                                                            \n",
       "2011-01-18 02:00:00    1000.0               2.153            61.5         2.6   \n",
       "2015-02-02 08:30:00     990.0               3.321           206.7         6.5   \n",
       "\n",
       "                     Cos Zenith  ts_Day_sin  ts_Day_cos  ts_Year_sin  \\\n",
       "Date                                                                   \n",
       "2011-01-18 02:00:00   -0.625787    0.500000    0.866025     0.290615   \n",
       "2015-02-02 08:30:00   -0.773619    0.793353   -0.608761     0.529564   \n",
       "\n",
       "                     ts_Year_cos  \n",
       "Date                              \n",
       "2011-01-18 02:00:00      0.95684  \n",
       "2015-02-02 08:30:00      0.84827  "
      ]
     },
     "execution_count": 21,
     "metadata": {},
     "output_type": "execute_result"
    }
   ],
   "source": [
    "# Getting the time in seconds\n",
    "df_solar['ts'] = df_solar.index.map(pd.Timestamp.timestamp)\n",
    "# Adding columns based on Timestamp to understand Daily and Yearly seasonality\n",
    "day = 60*60*24\n",
    "year = 365.2425*day\n",
    "\n",
    "df_solar['ts_Day_sin'] = np.sin(df_solar['ts'] * (2* np.pi / day))\n",
    "df_solar['ts_Day_cos'] = np.cos(df_solar['ts'] * (2 * np.pi / day))\n",
    "df_solar['ts_Year_sin'] = np.sin(df_solar['ts'] * (2 * np.pi / year))\n",
    "df_solar['ts_Year_cos'] = np.cos(df_solar['ts'] * (2 * np.pi / year))\n",
    "df_solar.drop(columns='ts', inplace=True)\n",
    "df_solar.sample(2)"
   ]
  },
  {
   "cell_type": "markdown",
   "id": "b3908876",
   "metadata": {},
   "source": [
    "### Scaling of Data"
   ]
  },
  {
   "cell_type": "code",
   "execution_count": 22,
   "id": "a5e5faec",
   "metadata": {},
   "outputs": [],
   "source": [
    "from sklearn.preprocessing import StandardScaler"
   ]
  },
  {
   "cell_type": "code",
   "execution_count": 23,
   "id": "def97f55",
   "metadata": {},
   "outputs": [],
   "source": [
    "scalar_std_fs = StandardScaler()"
   ]
  },
  {
   "cell_type": "markdown",
   "id": "f661942c",
   "metadata": {},
   "source": [
    "##### Small trick to ensure we can perform inverse transform"
   ]
  },
  {
   "cell_type": "code",
   "execution_count": 24,
   "id": "30fb8245",
   "metadata": {},
   "outputs": [],
   "source": [
    "scalar_std_fs = scalar_std_fs.fit(df_solar)"
   ]
  },
  {
   "cell_type": "code",
   "execution_count": 25,
   "id": "e35b8644",
   "metadata": {},
   "outputs": [
    {
     "data": {
      "text/plain": [
       "(175296, 17)"
      ]
     },
     "execution_count": 25,
     "metadata": {},
     "output_type": "execute_result"
    }
   ],
   "source": [
    "df_solar.shape"
   ]
  },
  {
   "cell_type": "code",
   "execution_count": 26,
   "id": "31e753e5",
   "metadata": {},
   "outputs": [
    {
     "data": {
      "text/html": [
       "<div>\n",
       "<style scoped>\n",
       "    .dataframe tbody tr th:only-of-type {\n",
       "        vertical-align: middle;\n",
       "    }\n",
       "\n",
       "    .dataframe tbody tr th {\n",
       "        vertical-align: top;\n",
       "    }\n",
       "\n",
       "    .dataframe thead th {\n",
       "        text-align: right;\n",
       "    }\n",
       "</style>\n",
       "<table border=\"1\" class=\"dataframe\">\n",
       "  <thead>\n",
       "    <tr style=\"text-align: right;\">\n",
       "      <th></th>\n",
       "      <th>Clearsky DHI</th>\n",
       "      <th>Clearsky DNI</th>\n",
       "      <th>Clearsky GHI</th>\n",
       "      <th>Temperature</th>\n",
       "      <th>Cloud Type</th>\n",
       "      <th>Dew Point</th>\n",
       "      <th>Fill Flag</th>\n",
       "      <th>Relative Humidity</th>\n",
       "      <th>Pressure</th>\n",
       "      <th>Precipitable Water</th>\n",
       "      <th>Wind Direction</th>\n",
       "      <th>Wind Speed</th>\n",
       "      <th>Cos Zenith</th>\n",
       "      <th>ts_Day_sin</th>\n",
       "      <th>ts_Day_cos</th>\n",
       "      <th>ts_Year_sin</th>\n",
       "      <th>ts_Year_cos</th>\n",
       "    </tr>\n",
       "    <tr>\n",
       "      <th>Date</th>\n",
       "      <th></th>\n",
       "      <th></th>\n",
       "      <th></th>\n",
       "      <th></th>\n",
       "      <th></th>\n",
       "      <th></th>\n",
       "      <th></th>\n",
       "      <th></th>\n",
       "      <th></th>\n",
       "      <th></th>\n",
       "      <th></th>\n",
       "      <th></th>\n",
       "      <th></th>\n",
       "      <th></th>\n",
       "      <th></th>\n",
       "      <th></th>\n",
       "      <th></th>\n",
       "    </tr>\n",
       "  </thead>\n",
       "  <tbody>\n",
       "    <tr>\n",
       "      <th>2014-05-06 03:30:00</th>\n",
       "      <td>-0.826549</td>\n",
       "      <td>-0.891997</td>\n",
       "      <td>-0.776205</td>\n",
       "      <td>0.081989</td>\n",
       "      <td>-0.840696</td>\n",
       "      <td>0.541137</td>\n",
       "      <td>-0.112603</td>\n",
       "      <td>0.899150</td>\n",
       "      <td>-0.536619</td>\n",
       "      <td>-0.466544</td>\n",
       "      <td>0.455713</td>\n",
       "      <td>0.184982</td>\n",
       "      <td>-0.932792</td>\n",
       "      <td>1.121971</td>\n",
       "      <td>0.860919</td>\n",
       "      <td>1.176838</td>\n",
       "      <td>-0.784032</td>\n",
       "    </tr>\n",
       "    <tr>\n",
       "      <th>2012-11-18 23:30:00</th>\n",
       "      <td>-0.826549</td>\n",
       "      <td>-0.891997</td>\n",
       "      <td>-0.776205</td>\n",
       "      <td>-0.700740</td>\n",
       "      <td>-0.840696</td>\n",
       "      <td>-0.678857</td>\n",
       "      <td>-0.112603</td>\n",
       "      <td>0.107918</td>\n",
       "      <td>1.148093</td>\n",
       "      <td>-0.745799</td>\n",
       "      <td>-1.571264</td>\n",
       "      <td>-0.517101</td>\n",
       "      <td>-0.355563</td>\n",
       "      <td>-0.184592</td>\n",
       "      <td>1.402115</td>\n",
       "      <td>-0.943282</td>\n",
       "      <td>1.053845</td>\n",
       "    </tr>\n",
       "  </tbody>\n",
       "</table>\n",
       "</div>"
      ],
      "text/plain": [
       "                     Clearsky DHI  Clearsky DNI  Clearsky GHI  Temperature  \\\n",
       "Date                                                                         \n",
       "2014-05-06 03:30:00     -0.826549     -0.891997     -0.776205     0.081989   \n",
       "2012-11-18 23:30:00     -0.826549     -0.891997     -0.776205    -0.700740   \n",
       "\n",
       "                     Cloud Type  Dew Point  Fill Flag  Relative Humidity  \\\n",
       "Date                                                                       \n",
       "2014-05-06 03:30:00   -0.840696   0.541137  -0.112603           0.899150   \n",
       "2012-11-18 23:30:00   -0.840696  -0.678857  -0.112603           0.107918   \n",
       "\n",
       "                     Pressure  Precipitable Water  Wind Direction  Wind Speed  \\\n",
       "Date                                                                            \n",
       "2014-05-06 03:30:00 -0.536619           -0.466544        0.455713    0.184982   \n",
       "2012-11-18 23:30:00  1.148093           -0.745799       -1.571264   -0.517101   \n",
       "\n",
       "                     Cos Zenith  ts_Day_sin  ts_Day_cos  ts_Year_sin  \\\n",
       "Date                                                                   \n",
       "2014-05-06 03:30:00   -0.932792    1.121971    0.860919     1.176838   \n",
       "2012-11-18 23:30:00   -0.355563   -0.184592    1.402115    -0.943282   \n",
       "\n",
       "                     ts_Year_cos  \n",
       "Date                              \n",
       "2014-05-06 03:30:00    -0.784032  \n",
       "2012-11-18 23:30:00     1.053845  "
      ]
     },
     "execution_count": 26,
     "metadata": {},
     "output_type": "execute_result"
    }
   ],
   "source": [
    "df_solar_sc = pd.DataFrame(data=scalar_std_fs.transform(df_solar), index=df_solar.index,  columns=df_solar.columns)\n",
    "df_solar_sc.sample(2)"
   ]
  },
  {
   "cell_type": "markdown",
   "id": "80cde6c6",
   "metadata": {},
   "source": [
    "### Feature Selection"
   ]
  },
  {
   "cell_type": "markdown",
   "id": "565fad5a",
   "metadata": {},
   "source": [
    "##### Any Non-linear regression model can be selected, Choose XGBoost"
   ]
  },
  {
   "cell_type": "code",
   "execution_count": 27,
   "id": "195ed782",
   "metadata": {},
   "outputs": [],
   "source": [
    "from xgboost import XGBRegressor\n",
    "from xgboost import plot_importance"
   ]
  },
  {
   "cell_type": "markdown",
   "id": "a8269783",
   "metadata": {},
   "source": [
    "##### Feature Selection for Clearsky GHI since GHI constitues both DHI, DHI and Zenith Angle"
   ]
  },
  {
   "cell_type": "code",
   "execution_count": 28,
   "id": "d2b39879",
   "metadata": {},
   "outputs": [],
   "source": [
    "y = df_solar_sc['Clearsky GHI']\n",
    "X = df_solar_sc.drop(columns='Clearsky GHI', axis=1)"
   ]
  },
  {
   "cell_type": "code",
   "execution_count": 29,
   "id": "e47fffa6",
   "metadata": {},
   "outputs": [
    {
     "data": {
      "text/plain": [
       "XGBRegressor(base_score=0.5, booster='gbtree', colsample_bylevel=1,\n",
       "             colsample_bynode=1, colsample_bytree=1, enable_categorical=False,\n",
       "             gamma=0, gpu_id=-1, importance_type=None,\n",
       "             interaction_constraints='', learning_rate=0.300000012,\n",
       "             max_delta_step=0, max_depth=6, min_child_weight=1, missing=nan,\n",
       "             monotone_constraints='()', n_estimators=100, n_jobs=12,\n",
       "             num_parallel_tree=1, predictor='auto', random_state=0, reg_alpha=0,\n",
       "             reg_lambda=1, scale_pos_weight=1, subsample=1, tree_method='exact',\n",
       "             validate_parameters=1, verbosity=None)"
      ]
     },
     "execution_count": 29,
     "metadata": {},
     "output_type": "execute_result"
    }
   ],
   "source": [
    "model_xgb = XGBRegressor(n_estimators=100)\n",
    "model_xgb.fit(X, y)"
   ]
  },
  {
   "cell_type": "code",
   "execution_count": 30,
   "id": "57e78e7a",
   "metadata": {},
   "outputs": [
    {
     "data": {
      "text/plain": [
       "array([4.2286515e-04, 5.4830168e-03, 2.0059344e-04, 2.9768887e-06,\n",
       "       6.4913166e-04, 6.3149628e-06, 8.1093631e-06, 4.5088855e-06,\n",
       "       2.4446738e-03, 5.4731076e-06, 5.8563846e-06, 9.8745316e-01,\n",
       "       1.4089935e-03, 2.0050186e-04, 2.1678151e-04, 1.4870102e-03],\n",
       "      dtype=float32)"
      ]
     },
     "execution_count": 30,
     "metadata": {},
     "output_type": "execute_result"
    }
   ],
   "source": [
    "model_xgb.feature_importances_"
   ]
  },
  {
   "cell_type": "code",
   "execution_count": 31,
   "id": "e5f7156b",
   "metadata": {},
   "outputs": [
    {
     "data": {
      "text/plain": [
       "<AxesSubplot:title={'center':'Feature importance'}, xlabel='F score', ylabel='Features'>"
      ]
     },
     "execution_count": 31,
     "metadata": {},
     "output_type": "execute_result"
    },
    {
     "data": {
      "image/png": "[encoded data removed]",
      "text/plain": [
       "<Figure size 432x288 with 1 Axes>"
      ]
     },
     "metadata": {
      "needs_background": "light"
     },
     "output_type": "display_data"
    }
   ],
   "source": [
    "plot_importance(model_xgb)"
   ]
  },
  {
   "cell_type": "markdown",
   "id": "e2f38dc6",
   "metadata": {},
   "source": [
    "### Droping not so significant columns"
   ]
  },
  {
   "cell_type": "code",
   "execution_count": 33,
   "id": "e0600cc5",
   "metadata": {},
   "outputs": [
    {
     "data": {
      "text/html": [
       "<div>\n",
       "<style scoped>\n",
       "    .dataframe tbody tr th:only-of-type {\n",
       "        vertical-align: middle;\n",
       "    }\n",
       "\n",
       "    .dataframe tbody tr th {\n",
       "        vertical-align: top;\n",
       "    }\n",
       "\n",
       "    .dataframe thead th {\n",
       "        text-align: right;\n",
       "    }\n",
       "</style>\n",
       "<table border=\"1\" class=\"dataframe\">\n",
       "  <thead>\n",
       "    <tr style=\"text-align: right;\">\n",
       "      <th></th>\n",
       "      <th>Clearsky DHI</th>\n",
       "      <th>Clearsky DNI</th>\n",
       "      <th>Clearsky GHI</th>\n",
       "      <th>Precipitable Water</th>\n",
       "      <th>Cos Zenith</th>\n",
       "      <th>ts_Year_sin</th>\n",
       "      <th>ts_Year_cos</th>\n",
       "    </tr>\n",
       "    <tr>\n",
       "      <th>Date</th>\n",
       "      <th></th>\n",
       "      <th></th>\n",
       "      <th></th>\n",
       "      <th></th>\n",
       "      <th></th>\n",
       "      <th></th>\n",
       "      <th></th>\n",
       "    </tr>\n",
       "  </thead>\n",
       "  <tbody>\n",
       "    <tr>\n",
       "      <th>2010-05-26 12:00:00</th>\n",
       "      <td>74.0</td>\n",
       "      <td>503.0</td>\n",
       "      <td>218.0</td>\n",
       "      <td>3.838</td>\n",
       "      <td>0.285354</td>\n",
       "      <td>0.591911</td>\n",
       "      <td>-0.806003</td>\n",
       "    </tr>\n",
       "    <tr>\n",
       "      <th>2017-03-24 23:00:00</th>\n",
       "      <td>54.0</td>\n",
       "      <td>378.0</td>\n",
       "      <td>118.0</td>\n",
       "      <td>2.490</td>\n",
       "      <td>0.169522</td>\n",
       "      <td>0.991126</td>\n",
       "      <td>0.132923</td>\n",
       "    </tr>\n",
       "  </tbody>\n",
       "</table>\n",
       "</div>"
      ],
      "text/plain": [
       "                     Clearsky DHI  Clearsky DNI  Clearsky GHI  \\\n",
       "Date                                                            \n",
       "2010-05-26 12:00:00          74.0         503.0         218.0   \n",
       "2017-03-24 23:00:00          54.0         378.0         118.0   \n",
       "\n",
       "                     Precipitable Water  Cos Zenith  ts_Year_sin  ts_Year_cos  \n",
       "Date                                                                           \n",
       "2010-05-26 12:00:00               3.838    0.285354     0.591911    -0.806003  \n",
       "2017-03-24 23:00:00               2.490    0.169522     0.991126     0.132923  "
      ]
     },
     "execution_count": 33,
     "metadata": {},
     "output_type": "execute_result"
    }
   ],
   "source": [
    "df_solar.drop(columns=['Cloud Type', 'Pressure', 'Fill Flag', 'Wind Speed', 'Dew Point', 'Wind Direction', 'ts_Day_sin', \n",
    "                       'ts_Day_cos', 'Temperature', 'Relative Humidity'], inplace=True)\n",
    "df_solar.sample(2)"
   ]
  },
  {
   "cell_type": "code",
   "execution_count": 34,
   "id": "7f8a117b",
   "metadata": {},
   "outputs": [
    {
     "data": {
      "text/plain": [
       "(175296, 7)"
      ]
     },
     "execution_count": 34,
     "metadata": {},
     "output_type": "execute_result"
    }
   ],
   "source": [
    "df_solar.shape"
   ]
  },
  {
   "cell_type": "code",
   "execution_count": 35,
   "id": "598c7e43",
   "metadata": {},
   "outputs": [
    {
     "name": "stdout",
     "output_type": "stream",
     "text": [
      "\n",
      "Precipitable Water, Cos of Zenith Angle along with time of year components are considered for further analysis\n",
      "To also reduce the curse of dimensionality\n"
     ]
    }
   ],
   "source": [
    "print('''\n",
    "Precipitable Water, Cos of Zenith Angle along with time of year components are considered for further analysis\n",
    "To also reduce the curse of dimensionality'''\n",
    ")"
   ]
  },
  {
   "cell_type": "code",
   "execution_count": null,
   "id": "4cfecdf5",
   "metadata": {},
   "outputs": [],
   "source": []
  },
  {
   "cell_type": "code",
   "execution_count": null,
   "id": "2f6c1d7e",
   "metadata": {},
   "outputs": [],
   "source": []
  },
  {
   "cell_type": "markdown",
   "id": "576d6e69",
   "metadata": {},
   "source": [
    "# Model Building Start"
   ]
  },
  {
   "cell_type": "code",
   "execution_count": 36,
   "id": "29af8cf5",
   "metadata": {},
   "outputs": [],
   "source": [
    "from tensorflow.keras.models import Model\n",
    "from tensorflow.keras.layers import Input, LSTM, Dense, GRU, RepeatVector, Conv1D, BatchNormalization, MaxPooling1D, Dropout\n",
    "from tensorflow.keras.metrics import MeanSquaredError, RootMeanSquaredError\n",
    "from tensorflow.keras.losses import MeanSquaredError\n",
    "from tensorflow.keras.optimizers import Adam\n",
    "from tensorflow.keras.callbacks import ModelCheckpoint, EarlyStopping\n",
    "from tensorflow.keras.models import load_model\n",
    "from tensorflow.keras.layers import TimeDistributed"
   ]
  },
  {
   "cell_type": "markdown",
   "id": "3a00c977",
   "metadata": {},
   "source": [
    "### Consider only last 3 years data"
   ]
  },
  {
   "cell_type": "markdown",
   "id": "fd0ef59f",
   "metadata": {},
   "source": [
    "### Data Generation for Time Series"
   ]
  },
  {
   "cell_type": "code",
   "execution_count": 37,
   "id": "02608e05",
   "metadata": {},
   "outputs": [],
   "source": [
    "def preprocess_cvs_into_ts(csvfile):\n",
    "    '''Take the CSV file along with the path and return dataframe'''\n",
    "    df = pd.read_csv(csvfile)\n",
    "    df.insert(loc=0, column='Date', \n",
    "                value=pd.to_datetime(df[['Year', 'Month', 'Day', 'Hour', 'Minute']]))\n",
    "    df.drop(columns=['Year', 'Month', 'Day', 'Hour', 'Minute'], axis=1, inplace=True)\n",
    "    df.set_index(keys='Date', inplace=True)\n",
    "    df=df[['Clearsky DHI', 'Clearsky DNI', 'Clearsky GHI', 'Temperature', 'Cloud Type', 'Dew Point', 'Fill Flag', 'Relative Humidity', 'Solar Zenith Angle', 'Pressure', 'Precipitable Water', 'Wind Direction', 'Wind Speed']]\n",
    "    return df"
   ]
  },
  {
   "cell_type": "code",
   "execution_count": 38,
   "id": "4fd7d0dc",
   "metadata": {},
   "outputs": [],
   "source": [
    "def preprocess_ts_features(df):\n",
    "    '''This shall ensure the time series features are added and \n",
    "    non-significant features are removed'''\n",
    "    \n",
    "    # Cos of Zenith angle contributes GHI\n",
    "    df['Cos Zenith'] = np.cos(np.deg2rad(df['Solar Zenith Angle']))\n",
    "    \n",
    "    # Adding the time series features into the dataset for Seasonality\n",
    "    sec_in_day = 60*60*24\n",
    "    sec_in_year = 365.2425*sec_in_day\n",
    "    df['ts'] = df.index.map(pd.Timestamp.timestamp)\n",
    "    df['ts_Day_sin'] = np.sin(df['ts'] * (2* np.pi / sec_in_day))\n",
    "    df['ts_Day_cos'] = np.cos(df['ts'] * (2 * np.pi / sec_in_day))\n",
    "    df['ts_Year_sin'] = np.sin(df['ts'] * (2 * np.pi / sec_in_year))\n",
    "    df['ts_Year_cos'] = np.cos(df['ts'] * (2 * np.pi / sec_in_year))\n",
    "    \n",
    "    # Dropping all the insignificant features\n",
    "    df.drop(columns=['Cloud Type', 'Pressure', 'Fill Flag', 'Wind Speed', \n",
    "                     'Dew Point', 'Wind Direction','ts', 'ts_Day_sin', 'ts_Day_cos', 'Temperature', 'Relative Humidity'], inplace=True)\n",
    "    \n",
    "    # Ordering the Columns in a proper order\n",
    "    df = df[['Clearsky DHI', 'Clearsky DNI', 'Clearsky GHI', \n",
    "             'Solar Zenith Angle', 'Precipitable Water', 'ts_Year_sin', 'ts_Year_cos']]\n",
    "    return df"
   ]
  },
  {
   "cell_type": "code",
   "execution_count": 39,
   "id": "ebd909db",
   "metadata": {},
   "outputs": [
    {
     "data": {
      "text/html": [
       "<div>\n",
       "<style scoped>\n",
       "    .dataframe tbody tr th:only-of-type {\n",
       "        vertical-align: middle;\n",
       "    }\n",
       "\n",
       "    .dataframe tbody tr th {\n",
       "        vertical-align: top;\n",
       "    }\n",
       "\n",
       "    .dataframe thead th {\n",
       "        text-align: right;\n",
       "    }\n",
       "</style>\n",
       "<table border=\"1\" class=\"dataframe\">\n",
       "  <thead>\n",
       "    <tr style=\"text-align: right;\">\n",
       "      <th></th>\n",
       "      <th>Clearsky DHI</th>\n",
       "      <th>Clearsky DNI</th>\n",
       "      <th>Clearsky GHI</th>\n",
       "      <th>Solar Zenith Angle</th>\n",
       "      <th>Precipitable Water</th>\n",
       "      <th>ts_Year_sin</th>\n",
       "      <th>ts_Year_cos</th>\n",
       "    </tr>\n",
       "    <tr>\n",
       "      <th>Date</th>\n",
       "      <th></th>\n",
       "      <th></th>\n",
       "      <th></th>\n",
       "      <th></th>\n",
       "      <th></th>\n",
       "      <th></th>\n",
       "      <th></th>\n",
       "    </tr>\n",
       "  </thead>\n",
       "  <tbody>\n",
       "    <tr>\n",
       "      <th>2010-11-26 23:30:00</th>\n",
       "      <td>0</td>\n",
       "      <td>0</td>\n",
       "      <td>0</td>\n",
       "      <td>102.36</td>\n",
       "      <td>3.094</td>\n",
       "      <td>-0.565852</td>\n",
       "      <td>0.824507</td>\n",
       "    </tr>\n",
       "    <tr>\n",
       "      <th>2012-02-20 10:00:00</th>\n",
       "      <td>0</td>\n",
       "      <td>0</td>\n",
       "      <td>0</td>\n",
       "      <td>118.92</td>\n",
       "      <td>0.687</td>\n",
       "      <td>0.760527</td>\n",
       "      <td>0.649306</td>\n",
       "    </tr>\n",
       "  </tbody>\n",
       "</table>\n",
       "</div>"
      ],
      "text/plain": [
       "                     Clearsky DHI  Clearsky DNI  Clearsky GHI  \\\n",
       "Date                                                            \n",
       "2010-11-26 23:30:00             0             0             0   \n",
       "2012-02-20 10:00:00             0             0             0   \n",
       "\n",
       "                     Solar Zenith Angle  Precipitable Water  ts_Year_sin  \\\n",
       "Date                                                                       \n",
       "2010-11-26 23:30:00              102.36               3.094    -0.565852   \n",
       "2012-02-20 10:00:00              118.92               0.687     0.760527   \n",
       "\n",
       "                     ts_Year_cos  \n",
       "Date                              \n",
       "2010-11-26 23:30:00     0.824507  \n",
       "2012-02-20 10:00:00     0.649306  "
      ]
     },
     "execution_count": 39,
     "metadata": {},
     "output_type": "execute_result"
    }
   ],
   "source": [
    "df_solar = preprocess_cvs_into_ts(training_csv)\n",
    "df_solar = preprocess_ts_features(df_solar)\n",
    "df_solar.sample(2)"
   ]
  },
  {
   "cell_type": "code",
   "execution_count": 40,
   "id": "94e1e3e1",
   "metadata": {},
   "outputs": [
    {
     "data": {
      "text/plain": [
       "(175296, 7)"
      ]
     },
     "execution_count": 40,
     "metadata": {},
     "output_type": "execute_result"
    }
   ],
   "source": [
    "df_solar.shape"
   ]
  },
  {
   "cell_type": "markdown",
   "id": "2082deb5",
   "metadata": {},
   "source": [
    "##### Scaling the data"
   ]
  },
  {
   "cell_type": "code",
   "execution_count": 41,
   "id": "1a1073e9",
   "metadata": {},
   "outputs": [],
   "source": [
    "from sklearn.preprocessing import StandardScaler\n",
    "scalar_std_ts = StandardScaler()"
   ]
  },
  {
   "cell_type": "code",
   "execution_count": 42,
   "id": "fdf1da19",
   "metadata": {},
   "outputs": [
    {
     "data": {
      "text/plain": [
       "(175296, 7)"
      ]
     },
     "execution_count": 42,
     "metadata": {},
     "output_type": "execute_result"
    }
   ],
   "source": [
    "scalar_std_ts = scalar_std_ts.fit(df_solar)\n",
    "solar_data_sc = scalar_std_ts.transform(df_solar)\n",
    "df_solar_data = pd.DataFrame(data=solar_data_sc, index=df_solar.index, columns=df_solar.columns)\n",
    "solar_data_sc.shape"
   ]
  },
  {
   "cell_type": "markdown",
   "id": "cfa45e0b",
   "metadata": {},
   "source": [
    "##### Data Generation\n",
    "1. Take the values of Dataframe for a given batch length and Predict the values of 'Clearsky DHI', 'Clearsky DNI', 'Clearsky GHI' for the next row.\n",
    "2. Move the series by 1 row, repeat step 1"
   ]
  },
  {
   "cell_type": "code",
   "execution_count": 43,
   "id": "82b15bb9",
   "metadata": {},
   "outputs": [
    {
     "name": "stdout",
     "output_type": "stream",
     "text": [
      "\n",
      "The total length of input 52560 and the batch length is 336 with features 7\n",
      "The training start 52560\n"
     ]
    }
   ],
   "source": [
    "# Daily there around 48 observations\n",
    "# Weekly there are around 48*7 = 336 observations\n",
    "# Monthly there are around 48*30 = 1440 observations\n",
    "# Yearly there are around 48*365 = 17520 observations\n",
    "\n",
    "# Ensuring the that total length is not more than 3 years since the model training is taking lot of time\n",
    "# Also to handle out of memory issues\n",
    "total_data_len = solar_data_sc.shape[0]\n",
    "if solar_data_sc.shape[0] > 17520*3:\n",
    "    total_data_len = 17520*3\n",
    "else:\n",
    "    total_data_len = solar_data_sc.shape[0]\n",
    "\n",
    "batch_input_len = 336\n",
    "batch_output_len = 1\n",
    "features_len = 7\n",
    "# train_data_start = total_data_len - batch_input_len*4\n",
    "train_data_start = total_data_len\n",
    "print(f'''\n",
    "The total length of input {total_data_len} and the batch length is {batch_input_len} with features {features_len}\n",
    "The training start {train_data_start}''')"
   ]
  },
  {
   "cell_type": "code",
   "execution_count": 44,
   "id": "90071363",
   "metadata": {},
   "outputs": [],
   "source": [
    "def ts_data_generator(data_arr, batch_len):\n",
    "    X = []\n",
    "    y = []\n",
    "    for i in range(len(data_arr)-batch_len):\n",
    "        X_rows = [row for row in data_arr[i:i+batch_len]]\n",
    "        X.append(X_rows)\n",
    "        y_row = [data_arr[i+batch_len][0],data_arr[i+batch_len][1], data_arr[i+batch_len][2]]\n",
    "        y.append(y_row)\n",
    "    return np.array(X), np.array(y)"
   ]
  },
  {
   "cell_type": "code",
   "execution_count": 45,
   "id": "46f9d4c5",
   "metadata": {},
   "outputs": [],
   "source": [
    "X, y = ts_data_generator(solar_data_sc[-train_data_start:], batch_input_len)"
   ]
  },
  {
   "cell_type": "markdown",
   "id": "4f830006",
   "metadata": {},
   "source": [
    "##### Split the train csv data into train and val"
   ]
  },
  {
   "cell_type": "code",
   "execution_count": 46,
   "id": "a0989cfc",
   "metadata": {},
   "outputs": [
    {
     "data": {
      "text/plain": [
       "((36556, 336, 7), (36556, 3), (15668, 336, 7), (15668, 3))"
      ]
     },
     "execution_count": 46,
     "metadata": {},
     "output_type": "execute_result"
    }
   ],
   "source": [
    "train_split = np.int(X.shape[0]*0.7)\n",
    "\n",
    "X_train, y_train = X[:train_split], y[:train_split]\n",
    "X_val, y_val = X[train_split:], y[train_split:]\n",
    "\n",
    "X_train.shape, y_train.shape, X_val.shape, y_val.shape"
   ]
  },
  {
   "cell_type": "markdown",
   "id": "c6538d84",
   "metadata": {},
   "source": [
    "### Build the Model"
   ]
  },
  {
   "cell_type": "code",
   "execution_count": 53,
   "id": "178eee3b",
   "metadata": {},
   "outputs": [],
   "source": [
    "input_shape = (batch_input_len, features_len)\n",
    "learning_rate = 0.0001"
   ]
  },
  {
   "cell_type": "code",
   "execution_count": 48,
   "id": "c13944ca",
   "metadata": {},
   "outputs": [],
   "source": [
    "def build_GRU_trans1(input_shape, lr):\n",
    "    l0 = Input(shape=input_shape)\n",
    "\n",
    "    l1 = GRU(units=16, activation='relu', recurrent_dropout=.2)(l0)\n",
    "    l1 = RepeatVector(input_shape[1])(l1)\n",
    "    l1 = GRU(units=16, activation='relu', recurrent_dropout=.2)(l1)\n",
    "\n",
    "    y = Dense(units=10, activation='relu')(l1)\n",
    "    y = Dense(units=3, activation='linear')(y)\n",
    "\n",
    "    model = Model(inputs=l0, outputs=y)\n",
    "    \n",
    "    model.compile(optimizer=Adam(learning_rate=lr), \n",
    "                    loss=MeanSquaredError(),\n",
    "                   metrics=[MeanSquaredError()])\n",
    "    return model"
   ]
  },
  {
   "cell_type": "code",
   "execution_count": 61,
   "id": "4e8fdd96",
   "metadata": {},
   "outputs": [],
   "source": [
    "def build_LSTM1(input_shape, lr):\n",
    "    l0 = Input(shape=input_shape)\n",
    "\n",
    "    # l1 = LSTM(units=128, activation='tanh', recurrent_dropout=.3, return_sequences=True)(l0)\n",
    "    \n",
    "    l1 = LSTM(units=128, activation='tanh', recurrent_dropout=.3)(l0)\n",
    "    \n",
    "    y = Dense(units=10, activation='tanh')(l1)\n",
    "    y = Dropout(rate=.3)(y)\n",
    "    y = Dense(units=3, activation='linear')(y)\n",
    "\n",
    "    model = Model(inputs=l0, outputs=y)\n",
    "    \n",
    "    model.compile(optimizer=Adam(learning_rate=lr), \n",
    "                    loss=MeanSquaredError(),\n",
    "                   metrics=[MeanSquaredError()])\n",
    "    return model"
   ]
  },
  {
   "cell_type": "code",
   "execution_count": 51,
   "id": "d86f3757",
   "metadata": {},
   "outputs": [],
   "source": [
    "def build_LSTM_trans1(input_shape, lr):\n",
    "    l0 = Input(shape=input_shape)\n",
    "\n",
    "    l1 = LSTM(units=128, activation='relu', recurrent_dropout=.2, return_sequences=True)(l0)\n",
    "    l1 = LSTM(units=64, activation='relu', recurrent_dropout=.2)(l0)\n",
    "    \n",
    "    l2 = RepeatVector(input_shape[1])(l1)\n",
    "    \n",
    "    l3 = LSTM(units=64, activation='relu', recurrent_dropout=.2, return_sequences=True)(l2)\n",
    "    l3 = LSTM(units=128, activation='relu', recurrent_dropout=.2)(l3)\n",
    "\n",
    "    y = Dense(units=10, activation='relu')(l3)\n",
    "    y = Dense(units=3, activation='linear')(y)\n",
    "\n",
    "    model = Model(inputs=l0, outputs=y)\n",
    "    \n",
    "    model.compile(optimizer=Adam(learning_rate=lr), \n",
    "                    loss=MeanSquaredError(),\n",
    "                   metrics=[MeanSquaredError()])\n",
    "    return model"
   ]
  },
  {
   "cell_type": "code",
   "execution_count": 52,
   "id": "988bed1d",
   "metadata": {},
   "outputs": [],
   "source": [
    "def build_Conv_trans1(input_shape, lr):\n",
    "    l0 = Input(shape=input_shape)\n",
    "\n",
    "    l1 = Conv1D(filters=16, kernel_size=3, activation='relu')(l0)\n",
    "    l1 = BatchNormalization()(l1)\n",
    "    l1 = Conv1D(filters=8, kernel_size=3, activation='relu')(l1)\n",
    "    \n",
    "    l2 = Dropout(rate=.3)(l1)\n",
    "    #l2 = RepeatVector(input_shape[1])(l1)\n",
    "    \n",
    "    l3 = Conv1D(filters=8, kernel_size=3, activation='relu')(l2)\n",
    "    l3 = BatchNormalization()(l3)\n",
    "    l3 = Conv1D(filters=16, kernel_size=3, activation='relu')(l1)\n",
    "\n",
    "    y = Dense(units=10, activation='relu')(l1)\n",
    "    y = Dense(units=3, activation='linear')(y)\n",
    "\n",
    "    model = Model(inputs=l0, outputs=y)\n",
    "    \n",
    "    model.compile(optimizer=Adam(learning_rate=0.001), \n",
    "                    loss=MeanSquaredError(),\n",
    "                   metrics=[MeanSquaredError()])\n",
    "    return model"
   ]
  },
  {
   "cell_type": "code",
   "execution_count": 55,
   "id": "a4663111",
   "metadata": {},
   "outputs": [],
   "source": [
    "def train_model(model_name):\n",
    "    if model_name == 'GRU':\n",
    "        model = build_GRU_trans1(input_shape, learning_rate)\n",
    "    elif model_name == 'LSTM':\n",
    "        model = build_LSTM_trans1(input_shape, learning_rate)\n",
    "    elif model_name == 'LSTM_linear':\n",
    "        model = build_LSTM1(input_shape, learning_rate)\n",
    "    else:\n",
    "        model = build_Conv_trans1(input_shape, learning_rate)\n",
    "    model.summary()\n",
    "    # Check points for Early stopping and Saving the best model\n",
    "    cb_earlystop = EarlyStopping(monitor='val_loss', mode='min', verbose=1, patience=200)\n",
    "    cb_modelcp = ModelCheckpoint('best_model1.h5', monitor='val_mean_squared_error', \n",
    "                                 mode='min', verbose=1, save_best_only=True)\n",
    "\n",
    "    # Fit the model\n",
    "    model_hist = model.fit(X_train, y_train, \n",
    "                                       validation_data=(X_val, y_val), \n",
    "                                       epochs=25, callbacks=[cb_earlystop, cb_modelcp])\n",
    "    return model"
   ]
  },
  {
   "cell_type": "code",
   "execution_count": null,
   "id": "78bdf7a4",
   "metadata": {},
   "outputs": [],
   "source": [
    "# model_name = 'LSTM' \n",
    "# # model_name = 'GRU' \n",
    "# # model_name = 'CONV' \n",
    "# model = train_model(model_name)"
   ]
  },
  {
   "cell_type": "code",
   "execution_count": null,
   "id": "f2672a26",
   "metadata": {},
   "outputs": [],
   "source": [
    "# # model_name = 'LSTM' \n",
    "# model_name = 'GRU' \n",
    "# # model_name = 'CONV' \n",
    "# model = train_model(model_name)"
   ]
  },
  {
   "cell_type": "code",
   "execution_count": 62,
   "id": "2e2f9431",
   "metadata": {},
   "outputs": [
    {
     "name": "stdout",
     "output_type": "stream",
     "text": [
      "WARNING:tensorflow:Layer lstm_5 will not use cuDNN kernels since it doesn't meet the criteria. It will use a generic GPU kernel as fallback when running on GPU.\n",
      "Model: \"model_2\"\n",
      "_________________________________________________________________\n",
      "Layer (type)                 Output Shape              Param #   \n",
      "=================================================================\n",
      "input_4 (InputLayer)         [(None, 336, 7)]          0         \n",
      "_________________________________________________________________\n",
      "lstm_5 (LSTM)                (None, 128)               69632     \n",
      "_________________________________________________________________\n",
      "dense_5 (Dense)              (None, 10)                1290      \n",
      "_________________________________________________________________\n",
      "dropout_2 (Dropout)          (None, 10)                0         \n",
      "_________________________________________________________________\n",
      "dense_6 (Dense)              (None, 3)                 33        \n",
      "=================================================================\n",
      "Total params: 70,955\n",
      "Trainable params: 70,955\n",
      "Non-trainable params: 0\n",
      "_________________________________________________________________\n",
      "Epoch 1/25\n",
      "1143/1143 [==============================] - 1233s 1s/step - loss: 0.2198 - mean_squared_error: 0.2198 - val_loss: 0.0316 - val_mean_squared_error: 0.0316\n",
      "\n",
      "Epoch 00001: val_mean_squared_error improved from inf to 0.03162, saving model to best_model1.h5\n",
      "Epoch 2/25\n",
      "1143/1143 [==============================] - 1238s 1s/step - loss: 0.1122 - mean_squared_error: 0.1122 - val_loss: 0.0195 - val_mean_squared_error: 0.0196\n",
      "\n",
      "Epoch 00002: val_mean_squared_error improved from 0.03162 to 0.01955, saving model to best_model1.h5\n",
      "Epoch 3/25\n",
      "1143/1143 [==============================] - 1227s 1s/step - loss: 0.0964 - mean_squared_error: 0.0963 - val_loss: 0.0161 - val_mean_squared_error: 0.0161\n",
      "\n",
      "Epoch 00003: val_mean_squared_error improved from 0.01955 to 0.01614, saving model to best_model1.h5\n",
      "Epoch 4/25\n",
      "1143/1143 [==============================] - 1233s 1s/step - loss: 0.0878 - mean_squared_error: 0.0878 - val_loss: 0.0143 - val_mean_squared_error: 0.0143\n",
      "\n",
      "Epoch 00004: val_mean_squared_error improved from 0.01614 to 0.01426, saving model to best_model1.h5\n",
      "Epoch 5/25\n",
      "1143/1143 [==============================] - 1222s 1s/step - loss: 0.0826 - mean_squared_error: 0.0826 - val_loss: 0.0123 - val_mean_squared_error: 0.0123\n",
      "\n",
      "Epoch 00005: val_mean_squared_error improved from 0.01426 to 0.01232, saving model to best_model1.h5\n",
      "Epoch 6/25\n",
      "1143/1143 [==============================] - 1223s 1s/step - loss: 0.0783 - mean_squared_error: 0.0782 - val_loss: 0.0099 - val_mean_squared_error: 0.0099\n",
      "\n",
      "Epoch 00006: val_mean_squared_error improved from 0.01232 to 0.00993, saving model to best_model1.h5\n",
      "Epoch 7/25\n",
      "1143/1143 [==============================] - 1222s 1s/step - loss: 0.0765 - mean_squared_error: 0.0765 - val_loss: 0.0095 - val_mean_squared_error: 0.0095\n",
      "\n",
      "Epoch 00007: val_mean_squared_error improved from 0.00993 to 0.00952, saving model to best_model1.h5\n",
      "Epoch 8/25\n",
      "1143/1143 [==============================] - 1224s 1s/step - loss: 0.0751 - mean_squared_error: 0.0751 - val_loss: 0.0088 - val_mean_squared_error: 0.0088\n",
      "\n",
      "Epoch 00008: val_mean_squared_error improved from 0.00952 to 0.00885, saving model to best_model1.h5\n",
      "Epoch 9/25\n",
      "1143/1143 [==============================] - 1226s 1s/step - loss: 0.0732 - mean_squared_error: 0.0732 - val_loss: 0.0107 - val_mean_squared_error: 0.0107\n",
      "\n",
      "Epoch 00009: val_mean_squared_error did not improve from 0.00885\n",
      "Epoch 10/25\n",
      "1143/1143 [==============================] - 1229s 1s/step - loss: 0.0725 - mean_squared_error: 0.0725 - val_loss: 0.0090 - val_mean_squared_error: 0.0090\n",
      "\n",
      "Epoch 00010: val_mean_squared_error did not improve from 0.00885\n",
      "Epoch 11/25\n",
      "1143/1143 [==============================] - 1226s 1s/step - loss: 0.0710 - mean_squared_error: 0.0710 - val_loss: 0.0105 - val_mean_squared_error: 0.0105\n",
      "\n",
      "Epoch 00011: val_mean_squared_error did not improve from 0.00885\n",
      "Epoch 12/25\n",
      "1143/1143 [==============================] - 1222s 1s/step - loss: 0.0711 - mean_squared_error: 0.0712 - val_loss: 0.0095 - val_mean_squared_error: 0.0095\n",
      "\n",
      "Epoch 00012: val_mean_squared_error did not improve from 0.00885\n",
      "Epoch 13/25\n",
      "1143/1143 [==============================] - 1223s 1s/step - loss: 0.0701 - mean_squared_error: 0.0701 - val_loss: 0.0104 - val_mean_squared_error: 0.0104\n",
      "\n",
      "Epoch 00013: val_mean_squared_error did not improve from 0.00885\n",
      "Epoch 14/25\n",
      "1143/1143 [==============================] - 1226s 1s/step - loss: 0.0707 - mean_squared_error: 0.0708 - val_loss: 0.0108 - val_mean_squared_error: 0.0108\n",
      "\n",
      "Epoch 00014: val_mean_squared_error did not improve from 0.00885\n",
      "Epoch 15/25\n",
      "1143/1143 [==============================] - 1225s 1s/step - loss: 0.0714 - mean_squared_error: 0.0714 - val_loss: 0.0075 - val_mean_squared_error: 0.0075\n",
      "\n",
      "Epoch 00015: val_mean_squared_error improved from 0.00885 to 0.00755, saving model to best_model1.h5\n",
      "Epoch 16/25\n",
      "1143/1143 [==============================] - 1223s 1s/step - loss: 0.0698 - mean_squared_error: 0.0698 - val_loss: 0.0078 - val_mean_squared_error: 0.0078\n",
      "\n",
      "Epoch 00016: val_mean_squared_error did not improve from 0.00755\n",
      "Epoch 17/25\n",
      "1143/1143 [==============================] - 1226s 1s/step - loss: 0.0694 - mean_squared_error: 0.0693 - val_loss: 0.0091 - val_mean_squared_error: 0.0091\n",
      "\n",
      "Epoch 00017: val_mean_squared_error did not improve from 0.00755\n",
      "Epoch 18/25\n",
      "1143/1143 [==============================] - 1228s 1s/step - loss: 0.0688 - mean_squared_error: 0.0688 - val_loss: 0.0090 - val_mean_squared_error: 0.0090\n",
      "\n",
      "Epoch 00018: val_mean_squared_error did not improve from 0.00755\n",
      "Epoch 19/25\n",
      "1143/1143 [==============================] - 1223s 1s/step - loss: 0.0693 - mean_squared_error: 0.0693 - val_loss: 0.0113 - val_mean_squared_error: 0.0113\n",
      "\n",
      "Epoch 00019: val_mean_squared_error did not improve from 0.00755\n",
      "Epoch 20/25\n",
      "1143/1143 [==============================] - 1230s 1s/step - loss: 0.0682 - mean_squared_error: 0.0682 - val_loss: 0.0072 - val_mean_squared_error: 0.0072\n",
      "\n",
      "Epoch 00020: val_mean_squared_error improved from 0.00755 to 0.00723, saving model to best_model1.h5\n",
      "Epoch 21/25\n",
      "1143/1143 [==============================] - 1220s 1s/step - loss: 0.0684 - mean_squared_error: 0.0685 - val_loss: 0.0071 - val_mean_squared_error: 0.0072\n",
      "\n",
      "Epoch 00021: val_mean_squared_error improved from 0.00723 to 0.00716, saving model to best_model1.h5\n",
      "Epoch 22/25\n",
      "1143/1143 [==============================] - 1230s 1s/step - loss: 0.0692 - mean_squared_error: 0.0692 - val_loss: 0.0079 - val_mean_squared_error: 0.0079\n",
      "\n",
      "Epoch 00022: val_mean_squared_error did not improve from 0.00716\n",
      "Epoch 23/25\n",
      "1143/1143 [==============================] - 1230s 1s/step - loss: 0.0698 - mean_squared_error: 0.0698 - val_loss: 0.0098 - val_mean_squared_error: 0.0098\n",
      "\n",
      "Epoch 00023: val_mean_squared_error did not improve from 0.00716\n",
      "Epoch 24/25\n",
      "1143/1143 [==============================] - 1230s 1s/step - loss: 0.0695 - mean_squared_error: 0.0694 - val_loss: 0.0087 - val_mean_squared_error: 0.0088\n",
      "\n",
      "Epoch 00024: val_mean_squared_error did not improve from 0.00716\n",
      "Epoch 25/25\n",
      "1143/1143 [==============================] - 1231s 1s/step - loss: 0.0684 - mean_squared_error: 0.0684 - val_loss: 0.0112 - val_mean_squared_error: 0.0112\n",
      "\n",
      "Epoch 00025: val_mean_squared_error did not improve from 0.00716\n"
     ]
    }
   ],
   "source": [
    "model_name = 'LSTM_linear' \n",
    "# model_name = 'GRU' \n",
    "# model_name = 'CONV' \n",
    "model = train_model(model_name)"
   ]
  },
  {
   "cell_type": "raw",
   "id": "a9be3ba2",
   "metadata": {},
   "source": [
    "# # model_name = 'LSTM' \n",
    "# # model_name = 'GRU' \n",
    "# model_name = 'CONV' \n",
    "# model = train_model(model_name)"
   ]
  },
  {
   "cell_type": "code",
   "execution_count": 63,
   "id": "518c5a92",
   "metadata": {},
   "outputs": [],
   "source": [
    "model.load_weights('best_model1.h5')"
   ]
  },
  {
   "cell_type": "code",
   "execution_count": 64,
   "id": "26c583c2",
   "metadata": {},
   "outputs": [],
   "source": [
    "def plot_model_history(model):\n",
    "    mod_hist = model.history\n",
    "    plt.subplot(1, 2, 1)\n",
    "    plt.plot(mod_hist.history['loss'])\n",
    "    plt.plot(mod_hist.history['val_loss'])\n",
    "    plt.title('Loss MSE')\n",
    "    plt.ylabel('Loss')\n",
    "    plt.xlabel('Epochs')\n",
    "    plt.subplot(1, 2, 2)\n",
    "    plt.plot(mod_hist.history['mean_squared_error'])\n",
    "    plt.plot(mod_hist.history['val_mean_squared_error'])\n",
    "    plt.title('Error RMSE')\n",
    "    plt.ylabel('Loss')\n",
    "    plt.xlabel('Epochs')\n",
    "    "
   ]
  },
  {
   "cell_type": "code",
   "execution_count": 65,
   "id": "50abbc19",
   "metadata": {},
   "outputs": [
    {
     "data": {
      "image/png": "[encoded data removed]",
      "text/plain": [
       "<Figure size 432x288 with 2 Axes>"
      ]
     },
     "metadata": {
      "needs_background": "light"
     },
     "output_type": "display_data"
    }
   ],
   "source": [
    "plot_model_history(model=model)"
   ]
  },
  {
   "cell_type": "code",
   "execution_count": null,
   "id": "3d67aad6",
   "metadata": {},
   "outputs": [],
   "source": []
  },
  {
   "cell_type": "markdown",
   "id": "ed157a1c",
   "metadata": {},
   "source": [
    "### Predict"
   ]
  },
  {
   "cell_type": "code",
   "execution_count": 66,
   "id": "176fcc40",
   "metadata": {},
   "outputs": [],
   "source": [
    "def create_df_predict(training_csv, testing_csv, batch_input_len):\n",
    "    df_train = preprocess_cvs_into_ts(training_csv)\n",
    "    df_train = preprocess_ts_features(df_train)\n",
    "    df_test = preprocess_cvs_into_ts(testing_csv)\n",
    "    df_test = preprocess_ts_features(df_test)\n",
    "    test_len = df_test.shape[0]\n",
    "    df_pred = pd.concat([df_train, df_test], axis=0)\n",
    "    df_pred.fillna(0)\n",
    "    return df_pred[-(test_len+batch_input_len):]"
   ]
  },
  {
   "cell_type": "code",
   "execution_count": null,
   "id": "cd2c2066",
   "metadata": {},
   "outputs": [],
   "source": [
    "def model_predict(training_csv, testing_csv, batch_input_len, model):\n",
    "    '''This method takes the test csv file, gives the output as predicted array\n",
    "    Creating df which will contain last rows from train which equal to the length of the batch\n",
    "    append those to the test.\n",
    "    The first prediction for the test row 0 shall consider data from train and predict the 0 row of test\n",
    "    the predictions are updated into test first row and then prediction is done for the 1 row in test\n",
    "    this loop repeats'''\n",
    "    \n",
    "    # Creating train (with batch length) and test dataset\n",
    "    df_solar_pred = create_df_predict(training_csv, testing_csv, batch_input_len)\n",
    "    \n",
    "    # Scaling for data\n",
    "    solar_data_pred_sc = scalar_std_ts.transform(df_solar_pred)\n",
    "    \n",
    "    # Tranforming the data into X and y to pass it NN predict\n",
    "    X_test, y_test = ts_data_generator(solar_data_pred_sc, batch_input_len)\n",
    "    \n",
    "    # Used only for testing\n",
    "    cnt = 0\n",
    "    \n",
    "    # Contains the predicted output\n",
    "    x_pred = []\n",
    "    \n",
    "    # Runs for the entire X test\n",
    "    for i in range(X_test.shape[0]-1):\n",
    "        # Since only one value of (batchlength, features) is passed \n",
    "        # it needs to be in the format (n, l, f)\n",
    "        X_i = np.expand_dims(X_test[i], axis=0)\n",
    "        # print('X_i[-1]\\n', X_i[0][-1])\n",
    "        \n",
    "        # Predicts the next row 'Clearsky DHI', 'Clearsky DNI', 'Clearsky GHI'\n",
    "        y_i = model.predict(X_i)\n",
    "        if i % 100==0:\n",
    "            print(f'{i}={y_i}', end=', ')\n",
    "        \n",
    "        # Update predicted 'Clearsky DHI', 'Clearsky DNI', 'Clearsky GHI' since they are not passed\n",
    "        for j in range(3):\n",
    "            X_test[i+1][-1][j] = y_i[0][j]\n",
    "            # print('X_test[i+1][-1][j]\\n', X_test[i+1][-1][j], ' y_i[0][j]: ', y_i[0][j])\n",
    "        \n",
    "        \n",
    "        # print('X_test[i+1][-1]\\n', X_test[i+1][-1])\n",
    "        # print(X_test[i+1][-1][3:])\n",
    "        \n",
    "        # This trick is used to ensure we are inverse transform. \n",
    "        # Inverse transform needs the same length features which was used for fit/transform\n",
    "        # First 3 values from predict and rest of the values from X[3:]\n",
    "        # Ensure that we pick the next X value and since its a matrix pick the last row [-1]\n",
    "        x_i_pred = np.hstack([y_i[0], X_test[i+1][-1][3:]])\n",
    "        # print('x_i_pred\\n', x_i_pred)\n",
    "        x_i_inv_sc = scalar_std_ts.inverse_transform(x_i_pred)\n",
    "        x_pred.append(list(x_i_inv_sc))\n",
    "        \n",
    "        # Comment this block out\n",
    "        #         cnt += 1\n",
    "        #         if cnt > 5:\n",
    "        #             break\n",
    "\n",
    "    return x_pred\n",
    "    "
   ]
  },
  {
   "cell_type": "code",
   "execution_count": 78,
   "id": "c01b09ac",
   "metadata": {},
   "outputs": [
    {
     "name": "stdout",
     "output_type": "stream",
     "text": [
      "0=[[-0.8209669  -0.83983254 -0.76324576]], 1000=[[nan nan nan]], 2000=[[nan nan nan]], 3000=[[nan nan nan]], 4000=[[nan nan nan]], 5000=[[nan nan nan]], 6000=[[nan nan nan]], 7000=[[nan nan nan]], 8000=[[nan nan nan]], 9000=[[nan nan nan]], 10000=[[nan nan nan]], 11000=[[nan nan nan]], 12000=[[nan nan nan]], 13000=[[nan nan nan]], 14000=[[nan nan nan]], 15000=[[nan nan nan]], 16000=[[nan nan nan]], 17000=[[nan nan nan]], "
     ]
    },
    {
     "ename": "IndexError",
     "evalue": "index 17520 is out of bounds for axis 0 with size 17520",
     "output_type": "error",
     "traceback": [
      "\u001b[1;31m---------------------------------------------------------------------------\u001b[0m",
      "\u001b[1;31mIndexError\u001b[0m                                Traceback (most recent call last)",
      "\u001b[1;32m<ipython-input-78-ff8dd93ea979>\u001b[0m in \u001b[0;36m<module>\u001b[1;34m\u001b[0m\n\u001b[1;32m----> 1\u001b[1;33m \u001b[0mX_pred\u001b[0m \u001b[1;33m=\u001b[0m \u001b[0mmodel_predict\u001b[0m\u001b[1;33m(\u001b[0m\u001b[0mtraining_csv\u001b[0m\u001b[1;33m,\u001b[0m \u001b[0mtesting_csv\u001b[0m\u001b[1;33m,\u001b[0m \u001b[0mbatch_input_len\u001b[0m\u001b[1;33m,\u001b[0m \u001b[0mmodel\u001b[0m\u001b[1;33m)\u001b[0m\u001b[1;33m\u001b[0m\u001b[1;33m\u001b[0m\u001b[0m\n\u001b[0m",
      "\u001b[1;32m<ipython-input-77-5e7d26bb138e>\u001b[0m in \u001b[0;36mmodel_predict\u001b[1;34m(training_csv, testing_csv, batch_input_len, model)\u001b[0m\n\u001b[0;32m     36\u001b[0m         \u001b[1;31m# Update predicted 'Clearsky DHI', 'Clearsky DNI', 'Clearsky GHI' since they are not passed\u001b[0m\u001b[1;33m\u001b[0m\u001b[1;33m\u001b[0m\u001b[1;33m\u001b[0m\u001b[0m\n\u001b[0;32m     37\u001b[0m         \u001b[1;32mfor\u001b[0m \u001b[0mj\u001b[0m \u001b[1;32min\u001b[0m \u001b[0mrange\u001b[0m\u001b[1;33m(\u001b[0m\u001b[1;36m3\u001b[0m\u001b[1;33m)\u001b[0m\u001b[1;33m:\u001b[0m\u001b[1;33m\u001b[0m\u001b[1;33m\u001b[0m\u001b[0m\n\u001b[1;32m---> 38\u001b[1;33m             \u001b[0mX_test\u001b[0m\u001b[1;33m[\u001b[0m\u001b[0mi\u001b[0m\u001b[1;33m+\u001b[0m\u001b[1;36m1\u001b[0m\u001b[1;33m]\u001b[0m\u001b[1;33m[\u001b[0m\u001b[1;33m-\u001b[0m\u001b[1;36m1\u001b[0m\u001b[1;33m]\u001b[0m\u001b[1;33m[\u001b[0m\u001b[0mj\u001b[0m\u001b[1;33m]\u001b[0m \u001b[1;33m=\u001b[0m \u001b[0my_i\u001b[0m\u001b[1;33m[\u001b[0m\u001b[1;36m0\u001b[0m\u001b[1;33m]\u001b[0m\u001b[1;33m[\u001b[0m\u001b[0mj\u001b[0m\u001b[1;33m]\u001b[0m\u001b[1;33m\u001b[0m\u001b[1;33m\u001b[0m\u001b[0m\n\u001b[0m\u001b[0;32m     39\u001b[0m             \u001b[1;31m# print('X_test[i+1][-1][j]\\n', X_test[i+1][-1][j], ' y_i[0][j]: ', y_i[0][j])\u001b[0m\u001b[1;33m\u001b[0m\u001b[1;33m\u001b[0m\u001b[1;33m\u001b[0m\u001b[0m\n\u001b[0;32m     40\u001b[0m \u001b[1;33m\u001b[0m\u001b[0m\n",
      "\u001b[1;31mIndexError\u001b[0m: index 17520 is out of bounds for axis 0 with size 17520"
     ]
    }
   ],
   "source": [
    "X_pred = model_predict(training_csv, testing_csv, batch_input_len, model)"
   ]
  },
  {
   "cell_type": "code",
   "execution_count": 69,
   "id": "cc516eea",
   "metadata": {},
   "outputs": [],
   "source": [
    "def generate_pred_outputfile(X_pred):\n",
    "    '''This shall generate the output files for submission'''\n",
    "    # est_period=48*365\n",
    "    est_period=len(X_pred)\n",
    "    start_datetime = \"2019-01-01 00:00:00\"\n",
    "    pred_indx = pd.date_range(start=start_datetime, periods=est_period, freq=\"30T\")\n",
    "    y_pred_const = []\n",
    "    for i in range(len(X_pred)):\n",
    "        y_pred_const.append(X_pred[i][0:3])\n",
    "\n",
    "    df_y_pred = pd.DataFrame(data=y_pred_const, index=pred_indx, columns=['Clearsky DHI', 'Clearsky DNI', 'Clearsky GHI'])\n",
    "    df_X_pred = pd.DataFrame(data=X_pred, index=pred_indx, columns=['Clearsky DHI', 'Clearsky DNI', 'Clearsky GHI', \n",
    "                                                               'Solar Zenith Angle', \n",
    "                                                               'Precipitable Water', 'ts_Year_sin', 'ts_Year_cos'])\n",
    "    df_y_pred.to_csv('submission_y_AnilKagita.csv', index=False)\n",
    "    df_y_pred.to_csv('verify_y_AnilKagita.csv', index=True)\n",
    "    df_X_pred.to_csv('verify_x_AnilKagita.csv', index=True)\n",
    "    return df_y_pred, df_X_pred"
   ]
  },
  {
   "cell_type": "code",
   "execution_count": 70,
   "id": "0901191f",
   "metadata": {},
   "outputs": [],
   "source": [
    "df_y_pred, df_X_pred = generate_pred_outputfile(X_pred)"
   ]
  },
  {
   "cell_type": "code",
   "execution_count": 71,
   "id": "e5217e39",
   "metadata": {},
   "outputs": [],
   "source": [
    "def plot_pred_y(df_y_pred):\n",
    "    plt.figure(figsize=(12, 9))\n",
    "    cnt = 1\n",
    "    for col in df_y_pred.columns:\n",
    "        plt.subplot(3, 1, cnt)\n",
    "        plt.title(col)\n",
    "        plt.plot(df_y_pred[col], label=col)\n",
    "        plt.xticks(rotation=45)\n",
    "        plt.legend(loc='best')\n",
    "        cnt += 1\n",
    "\n",
    "    plt.tight_layout()\n",
    "    plt.show()"
   ]
  },
  {
   "cell_type": "code",
   "execution_count": 72,
   "id": "28aafa4c",
   "metadata": {},
   "outputs": [
    {
     "data": {
      "image/png": "[encoded data removed]",
      "text/plain": [
       "<Figure size 864x648 with 3 Axes>"
      ]
     },
     "metadata": {
      "needs_background": "light"
     },
     "output_type": "display_data"
    }
   ],
   "source": [
    "plot_pred_y(df_y_pred)"
   ]
  },
  {
   "cell_type": "code",
   "execution_count": null,
   "id": "d40b5ed3",
   "metadata": {},
   "outputs": [],
   "source": []
  },
  {
   "cell_type": "code",
   "execution_count": 75,
   "id": "d8b0b0f6",
   "metadata": {},
   "outputs": [
    {
     "data": {
      "text/plain": [
       "0"
      ]
     },
     "execution_count": 75,
     "metadata": {},
     "output_type": "execute_result"
    }
   ],
   "source": []
  },
  {
   "cell_type": "code",
   "execution_count": null,
   "id": "0b57a122",
   "metadata": {},
   "outputs": [],
   "source": []
  }
 ],
 "metadata": {
  "kernelspec": {
   "display_name": "Python 3",
   "language": "python",
   "name": "python3"
  },
  "language_info": {
   "codemirror_mode": {
    "name": "ipython",
    "version": 3
   },
   "file_extension": ".py",
   "mimetype": "text/x-python",
   "name": "python",
   "nbconvert_exporter": "python",
   "pygments_lexer": "ipython3",
   "version": "3.9.4"
  }
 },
 "nbformat": 4,
 "nbformat_minor": 5
}
