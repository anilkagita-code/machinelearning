{
 "cells": [
  {
   "cell_type": "code",
   "execution_count": 1,
   "id": "c37f76af",
   "metadata": {},
   "outputs": [
    {
     "ename": "ModuleNotFoundError",
     "evalue": "No module named 'tensorflow'",
     "output_type": "error",
     "traceback": [
      "\u001b[1;31m---------------------------------------------------------------------------\u001b[0m",
      "\u001b[1;31mModuleNotFoundError\u001b[0m                       Traceback (most recent call last)",
      "\u001b[1;32m~\\AppData\\Local\\Temp/ipykernel_16144/3104115176.py\u001b[0m in \u001b[0;36m<module>\u001b[1;34m\u001b[0m\n\u001b[1;32m----> 1\u001b[1;33m \u001b[1;32mimport\u001b[0m \u001b[0mtensorflow\u001b[0m \u001b[1;32mas\u001b[0m \u001b[0mtf\u001b[0m\u001b[1;33m\u001b[0m\u001b[1;33m\u001b[0m\u001b[0m\n\u001b[0m\u001b[0;32m      2\u001b[0m \u001b[0mgpus\u001b[0m \u001b[1;33m=\u001b[0m \u001b[0mtf\u001b[0m\u001b[1;33m.\u001b[0m\u001b[0mconfig\u001b[0m\u001b[1;33m.\u001b[0m\u001b[0mexperimental\u001b[0m\u001b[1;33m.\u001b[0m\u001b[0mlist_physical_devices\u001b[0m\u001b[1;33m(\u001b[0m\u001b[1;34m'GPU'\u001b[0m\u001b[1;33m)\u001b[0m\u001b[1;33m\u001b[0m\u001b[1;33m\u001b[0m\u001b[0m\n\u001b[0;32m      3\u001b[0m \u001b[1;32mfor\u001b[0m \u001b[0mgpu\u001b[0m \u001b[1;32min\u001b[0m \u001b[0mgpus\u001b[0m\u001b[1;33m:\u001b[0m\u001b[1;33m\u001b[0m\u001b[1;33m\u001b[0m\u001b[0m\n\u001b[0;32m      4\u001b[0m     \u001b[0mtf\u001b[0m\u001b[1;33m.\u001b[0m\u001b[0mconfig\u001b[0m\u001b[1;33m.\u001b[0m\u001b[0mexperimental\u001b[0m\u001b[1;33m.\u001b[0m\u001b[0mset_memory_growth\u001b[0m\u001b[1;33m(\u001b[0m\u001b[0mgpu\u001b[0m\u001b[1;33m,\u001b[0m \u001b[0menable\u001b[0m\u001b[1;33m=\u001b[0m\u001b[1;32mTrue\u001b[0m\u001b[1;33m)\u001b[0m\u001b[1;33m\u001b[0m\u001b[1;33m\u001b[0m\u001b[0m\n",
      "\u001b[1;31mModuleNotFoundError\u001b[0m: No module named 'tensorflow'"
     ]
    }
   ],
   "source": [
    "import tensorflow as tf\n",
    "gpus = tf.config.experimental.list_physical_devices('GPU')\n",
    "for gpu in gpus:\n",
    "    tf.config.experimental.set_memory_growth(gpu, enable=True)"
   ]
  },
  {
   "cell_type": "code",
   "execution_count": 2,
   "id": "ae762ea0",
   "metadata": {},
   "outputs": [],
   "source": [
    "import numpy as np\n",
    "import pandas as pd\n",
    "import matplotlib.pyplot as plt\n"
   ]
  },
  {
   "cell_type": "markdown",
   "id": "953ecc6d",
   "metadata": {},
   "source": [
    "### Reading the data converting into TimeSeries format"
   ]
  },
  {
   "cell_type": "code",
   "execution_count": 3,
   "id": "82594b9d",
   "metadata": {},
   "outputs": [
    {
     "data": {
      "text/html": [
       "<div>\n",
       "<style scoped>\n",
       "    .dataframe tbody tr th:only-of-type {\n",
       "        vertical-align: middle;\n",
       "    }\n",
       "\n",
       "    .dataframe tbody tr th {\n",
       "        vertical-align: top;\n",
       "    }\n",
       "\n",
       "    .dataframe thead th {\n",
       "        text-align: right;\n",
       "    }\n",
       "</style>\n",
       "<table border=\"1\" class=\"dataframe\">\n",
       "  <thead>\n",
       "    <tr style=\"text-align: right;\">\n",
       "      <th></th>\n",
       "      <th>Clearsky DHI</th>\n",
       "      <th>Clearsky DNI</th>\n",
       "      <th>Clearsky GHI</th>\n",
       "      <th>Cloud Type</th>\n",
       "      <th>Dew Point</th>\n",
       "      <th>Temperature</th>\n",
       "      <th>Pressure</th>\n",
       "      <th>Relative Humidity</th>\n",
       "      <th>Solar Zenith Angle</th>\n",
       "      <th>Precipitable Water</th>\n",
       "      <th>Wind Direction</th>\n",
       "      <th>Wind Speed</th>\n",
       "      <th>Fill Flag</th>\n",
       "    </tr>\n",
       "    <tr>\n",
       "      <th>Date</th>\n",
       "      <th></th>\n",
       "      <th></th>\n",
       "      <th></th>\n",
       "      <th></th>\n",
       "      <th></th>\n",
       "      <th></th>\n",
       "      <th></th>\n",
       "      <th></th>\n",
       "      <th></th>\n",
       "      <th></th>\n",
       "      <th></th>\n",
       "      <th></th>\n",
       "      <th></th>\n",
       "    </tr>\n",
       "  </thead>\n",
       "  <tbody>\n",
       "    <tr>\n",
       "      <th>2017-08-24 23:30:00</th>\n",
       "      <td>39</td>\n",
       "      <td>299</td>\n",
       "      <td>77</td>\n",
       "      <td>1</td>\n",
       "      <td>18.0</td>\n",
       "      <td>29.0</td>\n",
       "      <td>1000</td>\n",
       "      <td>52.95</td>\n",
       "      <td>82.74</td>\n",
       "      <td>4.174</td>\n",
       "      <td>22.0</td>\n",
       "      <td>0.7</td>\n",
       "      <td>0</td>\n",
       "    </tr>\n",
       "    <tr>\n",
       "      <th>2010-07-26 18:00:00</th>\n",
       "      <td>123</td>\n",
       "      <td>871</td>\n",
       "      <td>972</td>\n",
       "      <td>0</td>\n",
       "      <td>21.0</td>\n",
       "      <td>38.0</td>\n",
       "      <td>1000</td>\n",
       "      <td>41.81</td>\n",
       "      <td>13.15</td>\n",
       "      <td>4.840</td>\n",
       "      <td>220.0</td>\n",
       "      <td>1.3</td>\n",
       "      <td>0</td>\n",
       "    </tr>\n",
       "    <tr>\n",
       "      <th>2009-07-21 10:00:00</th>\n",
       "      <td>0</td>\n",
       "      <td>0</td>\n",
       "      <td>0</td>\n",
       "      <td>0</td>\n",
       "      <td>13.0</td>\n",
       "      <td>16.0</td>\n",
       "      <td>1000</td>\n",
       "      <td>86.10</td>\n",
       "      <td>99.10</td>\n",
       "      <td>1.870</td>\n",
       "      <td>5.3</td>\n",
       "      <td>1.1</td>\n",
       "      <td>0</td>\n",
       "    </tr>\n",
       "    <tr>\n",
       "      <th>2009-07-07 15:30:00</th>\n",
       "      <td>128</td>\n",
       "      <td>821</td>\n",
       "      <td>836</td>\n",
       "      <td>3</td>\n",
       "      <td>22.0</td>\n",
       "      <td>28.0</td>\n",
       "      <td>1000</td>\n",
       "      <td>72.87</td>\n",
       "      <td>30.32</td>\n",
       "      <td>5.302</td>\n",
       "      <td>272.8</td>\n",
       "      <td>3.4</td>\n",
       "      <td>4</td>\n",
       "    </tr>\n",
       "    <tr>\n",
       "      <th>2016-02-19 22:30:00</th>\n",
       "      <td>49</td>\n",
       "      <td>520</td>\n",
       "      <td>143</td>\n",
       "      <td>1</td>\n",
       "      <td>11.0</td>\n",
       "      <td>12.0</td>\n",
       "      <td>1010</td>\n",
       "      <td>97.16</td>\n",
       "      <td>79.65</td>\n",
       "      <td>1.216</td>\n",
       "      <td>155.1</td>\n",
       "      <td>1.2</td>\n",
       "      <td>0</td>\n",
       "    </tr>\n",
       "  </tbody>\n",
       "</table>\n",
       "</div>"
      ],
      "text/plain": [
       "                     Clearsky DHI  Clearsky DNI  Clearsky GHI  Cloud Type  \\\n",
       "Date                                                                        \n",
       "2017-08-24 23:30:00            39           299            77           1   \n",
       "2010-07-26 18:00:00           123           871           972           0   \n",
       "2009-07-21 10:00:00             0             0             0           0   \n",
       "2009-07-07 15:30:00           128           821           836           3   \n",
       "2016-02-19 22:30:00            49           520           143           1   \n",
       "\n",
       "                     Dew Point  Temperature  Pressure  Relative Humidity  \\\n",
       "Date                                                                       \n",
       "2017-08-24 23:30:00       18.0         29.0      1000              52.95   \n",
       "2010-07-26 18:00:00       21.0         38.0      1000              41.81   \n",
       "2009-07-21 10:00:00       13.0         16.0      1000              86.10   \n",
       "2009-07-07 15:30:00       22.0         28.0      1000              72.87   \n",
       "2016-02-19 22:30:00       11.0         12.0      1010              97.16   \n",
       "\n",
       "                     Solar Zenith Angle  Precipitable Water  Wind Direction  \\\n",
       "Date                                                                          \n",
       "2017-08-24 23:30:00               82.74               4.174            22.0   \n",
       "2010-07-26 18:00:00               13.15               4.840           220.0   \n",
       "2009-07-21 10:00:00               99.10               1.870             5.3   \n",
       "2009-07-07 15:30:00               30.32               5.302           272.8   \n",
       "2016-02-19 22:30:00               79.65               1.216           155.1   \n",
       "\n",
       "                     Wind Speed  Fill Flag  \n",
       "Date                                        \n",
       "2017-08-24 23:30:00         0.7          0  \n",
       "2010-07-26 18:00:00         1.3          0  \n",
       "2009-07-21 10:00:00         1.1          0  \n",
       "2009-07-07 15:30:00         3.4          4  \n",
       "2016-02-19 22:30:00         1.2          0  "
      ]
     },
     "execution_count": 3,
     "metadata": {},
     "output_type": "execute_result"
    }
   ],
   "source": [
    "# Reading and creating a timeseries dataset\n",
    "df_solar = pd.read_csv('data/train.csv')\n",
    "df_solar.insert(loc=0, column='Date', \n",
    "                value=pd.to_datetime(df_solar[['Year', 'Month', 'Day', 'Hour', 'Minute']]))\n",
    "df_solar.drop(columns=['Year', 'Month', 'Day', 'Hour', 'Minute'], axis=1, inplace=True)\n",
    "df_solar.set_index(keys='Date', inplace=True)\n",
    "df_solar.sample(5)"
   ]
  },
  {
   "cell_type": "code",
   "execution_count": 4,
   "id": "d1833ac9",
   "metadata": {},
   "outputs": [
    {
     "data": {
      "text/html": [
       "<div>\n",
       "<style scoped>\n",
       "    .dataframe tbody tr th:only-of-type {\n",
       "        vertical-align: middle;\n",
       "    }\n",
       "\n",
       "    .dataframe tbody tr th {\n",
       "        vertical-align: top;\n",
       "    }\n",
       "\n",
       "    .dataframe thead th {\n",
       "        text-align: right;\n",
       "    }\n",
       "</style>\n",
       "<table border=\"1\" class=\"dataframe\">\n",
       "  <thead>\n",
       "    <tr style=\"text-align: right;\">\n",
       "      <th></th>\n",
       "      <th>Cloud Type</th>\n",
       "      <th>Dew Point</th>\n",
       "      <th>Temperature</th>\n",
       "      <th>Pressure</th>\n",
       "      <th>Relative Humidity</th>\n",
       "      <th>Solar Zenith Angle</th>\n",
       "      <th>Precipitable Water</th>\n",
       "      <th>Wind Direction</th>\n",
       "      <th>Wind Speed</th>\n",
       "      <th>Fill Flag</th>\n",
       "      <th>Clearsky DHI</th>\n",
       "      <th>Clearsky DNI</th>\n",
       "      <th>Clearsky GHI</th>\n",
       "    </tr>\n",
       "    <tr>\n",
       "      <th>Date</th>\n",
       "      <th></th>\n",
       "      <th></th>\n",
       "      <th></th>\n",
       "      <th></th>\n",
       "      <th></th>\n",
       "      <th></th>\n",
       "      <th></th>\n",
       "      <th></th>\n",
       "      <th></th>\n",
       "      <th></th>\n",
       "      <th></th>\n",
       "      <th></th>\n",
       "      <th></th>\n",
       "    </tr>\n",
       "  </thead>\n",
       "  <tbody>\n",
       "    <tr>\n",
       "      <th>2019-12-26 17:30:00</th>\n",
       "      <td>3</td>\n",
       "      <td>14.7</td>\n",
       "      <td>19.5</td>\n",
       "      <td>1010</td>\n",
       "      <td>73.90</td>\n",
       "      <td>55.21</td>\n",
       "      <td>1.9</td>\n",
       "      <td>89</td>\n",
       "      <td>2.3</td>\n",
       "      <td>0</td>\n",
       "      <td>NaN</td>\n",
       "      <td>NaN</td>\n",
       "      <td>NaN</td>\n",
       "    </tr>\n",
       "    <tr>\n",
       "      <th>2019-07-27 05:30:00</th>\n",
       "      <td>0</td>\n",
       "      <td>18.8</td>\n",
       "      <td>21.8</td>\n",
       "      <td>1011</td>\n",
       "      <td>83.13</td>\n",
       "      <td>128.79</td>\n",
       "      <td>2.9</td>\n",
       "      <td>118</td>\n",
       "      <td>0.9</td>\n",
       "      <td>0</td>\n",
       "      <td>NaN</td>\n",
       "      <td>NaN</td>\n",
       "      <td>NaN</td>\n",
       "    </tr>\n",
       "    <tr>\n",
       "      <th>2019-11-19 00:00:00</th>\n",
       "      <td>7</td>\n",
       "      <td>7.3</td>\n",
       "      <td>11.7</td>\n",
       "      <td>999</td>\n",
       "      <td>74.23</td>\n",
       "      <td>108.18</td>\n",
       "      <td>1.7</td>\n",
       "      <td>281</td>\n",
       "      <td>1.6</td>\n",
       "      <td>0</td>\n",
       "      <td>NaN</td>\n",
       "      <td>NaN</td>\n",
       "      <td>NaN</td>\n",
       "    </tr>\n",
       "    <tr>\n",
       "      <th>2019-03-31 17:30:00</th>\n",
       "      <td>8</td>\n",
       "      <td>8.1</td>\n",
       "      <td>13.1</td>\n",
       "      <td>1007</td>\n",
       "      <td>71.71</td>\n",
       "      <td>27.71</td>\n",
       "      <td>2.9</td>\n",
       "      <td>314</td>\n",
       "      <td>4.5</td>\n",
       "      <td>0</td>\n",
       "      <td>NaN</td>\n",
       "      <td>NaN</td>\n",
       "      <td>NaN</td>\n",
       "    </tr>\n",
       "    <tr>\n",
       "      <th>2019-01-25 18:30:00</th>\n",
       "      <td>0</td>\n",
       "      <td>1.7</td>\n",
       "      <td>10.6</td>\n",
       "      <td>1012</td>\n",
       "      <td>53.93</td>\n",
       "      <td>51.74</td>\n",
       "      <td>0.7</td>\n",
       "      <td>325</td>\n",
       "      <td>3.5</td>\n",
       "      <td>0</td>\n",
       "      <td>NaN</td>\n",
       "      <td>NaN</td>\n",
       "      <td>NaN</td>\n",
       "    </tr>\n",
       "  </tbody>\n",
       "</table>\n",
       "</div>"
      ],
      "text/plain": [
       "                     Cloud Type  Dew Point  Temperature  Pressure  \\\n",
       "Date                                                                \n",
       "2019-12-26 17:30:00           3       14.7         19.5      1010   \n",
       "2019-07-27 05:30:00           0       18.8         21.8      1011   \n",
       "2019-11-19 00:00:00           7        7.3         11.7       999   \n",
       "2019-03-31 17:30:00           8        8.1         13.1      1007   \n",
       "2019-01-25 18:30:00           0        1.7         10.6      1012   \n",
       "\n",
       "                     Relative Humidity  Solar Zenith Angle  \\\n",
       "Date                                                         \n",
       "2019-12-26 17:30:00              73.90               55.21   \n",
       "2019-07-27 05:30:00              83.13              128.79   \n",
       "2019-11-19 00:00:00              74.23              108.18   \n",
       "2019-03-31 17:30:00              71.71               27.71   \n",
       "2019-01-25 18:30:00              53.93               51.74   \n",
       "\n",
       "                     Precipitable Water  Wind Direction  Wind Speed  \\\n",
       "Date                                                                  \n",
       "2019-12-26 17:30:00                 1.9              89         2.3   \n",
       "2019-07-27 05:30:00                 2.9             118         0.9   \n",
       "2019-11-19 00:00:00                 1.7             281         1.6   \n",
       "2019-03-31 17:30:00                 2.9             314         4.5   \n",
       "2019-01-25 18:30:00                 0.7             325         3.5   \n",
       "\n",
       "                     Fill Flag  Clearsky DHI  Clearsky DNI  Clearsky GHI  \n",
       "Date                                                                      \n",
       "2019-12-26 17:30:00          0           NaN           NaN           NaN  \n",
       "2019-07-27 05:30:00          0           NaN           NaN           NaN  \n",
       "2019-11-19 00:00:00          0           NaN           NaN           NaN  \n",
       "2019-03-31 17:30:00          0           NaN           NaN           NaN  \n",
       "2019-01-25 18:30:00          0           NaN           NaN           NaN  "
      ]
     },
     "execution_count": 4,
     "metadata": {},
     "output_type": "execute_result"
    }
   ],
   "source": [
    "# Reading the test dataset as Val\n",
    "# Train dataset shall be split into Train and Test\n",
    "# Val is read to understand the data and null values\n",
    "df_solar_val = pd.read_csv('data/test.csv')\n",
    "df_solar_val.insert(loc=0, column='Date', \n",
    "                value=pd.to_datetime(df_solar_val[['Year', 'Month', 'Day', 'Hour', 'Minute']]))\n",
    "df_solar_val.drop(columns=['Year', 'Month', 'Day', 'Hour', 'Minute'], axis=1, inplace=True)\n",
    "df_solar_val.set_index(keys='Date', inplace=True)\n",
    "df_solar_val.sample(5)"
   ]
  },
  {
   "cell_type": "markdown",
   "id": "e5253a45",
   "metadata": {},
   "source": [
    "### Data Check"
   ]
  },
  {
   "cell_type": "markdown",
   "id": "ce54a650",
   "metadata": {},
   "source": [
    "##### Null Check"
   ]
  },
  {
   "cell_type": "code",
   "execution_count": 5,
   "id": "ce0886b6",
   "metadata": {},
   "outputs": [
    {
     "data": {
      "text/plain": [
       "Clearsky DHI          0\n",
       "Clearsky DNI          0\n",
       "Clearsky GHI          0\n",
       "Cloud Type            0\n",
       "Dew Point             0\n",
       "Temperature           0\n",
       "Pressure              0\n",
       "Relative Humidity     0\n",
       "Solar Zenith Angle    0\n",
       "Precipitable Water    0\n",
       "Wind Direction        0\n",
       "Wind Speed            0\n",
       "Fill Flag             0\n",
       "dtype: int64"
      ]
     },
     "execution_count": 5,
     "metadata": {},
     "output_type": "execute_result"
    }
   ],
   "source": [
    "df_solar.isnull().sum()"
   ]
  },
  {
   "cell_type": "markdown",
   "id": "7ffa4e68",
   "metadata": {},
   "source": [
    "##### Datatype Check anc convert to floats to run tensorflow code"
   ]
  },
  {
   "cell_type": "code",
   "execution_count": 6,
   "id": "808f0a01",
   "metadata": {},
   "outputs": [
    {
     "name": "stdout",
     "output_type": "stream",
     "text": [
      "<class 'pandas.core.frame.DataFrame'>\n",
      "DatetimeIndex: 175296 entries, 2009-01-01 00:00:00 to 2018-12-31 23:30:00\n",
      "Data columns (total 13 columns):\n",
      " #   Column              Non-Null Count   Dtype  \n",
      "---  ------              --------------   -----  \n",
      " 0   Clearsky DHI        175296 non-null  int64  \n",
      " 1   Clearsky DNI        175296 non-null  int64  \n",
      " 2   Clearsky GHI        175296 non-null  int64  \n",
      " 3   Cloud Type          175296 non-null  int64  \n",
      " 4   Dew Point           175296 non-null  float64\n",
      " 5   Temperature         175296 non-null  float64\n",
      " 6   Pressure            175296 non-null  int64  \n",
      " 7   Relative Humidity   175296 non-null  float64\n",
      " 8   Solar Zenith Angle  175296 non-null  float64\n",
      " 9   Precipitable Water  175296 non-null  float64\n",
      " 10  Wind Direction      175296 non-null  float64\n",
      " 11  Wind Speed          175296 non-null  float64\n",
      " 12  Fill Flag           175296 non-null  int64  \n",
      "dtypes: float64(7), int64(6)\n",
      "memory usage: 18.7 MB\n"
     ]
    }
   ],
   "source": [
    "df_solar.info()"
   ]
  },
  {
   "cell_type": "code",
   "execution_count": 7,
   "id": "cbce0d2c",
   "metadata": {},
   "outputs": [],
   "source": [
    "def into_to_float(df):\n",
    "    for col in df.columns:\n",
    "        if df[col].dtype == np.int64:\n",
    "            df[col] = df[col].astype(np.float64)\n",
    "    return df"
   ]
  },
  {
   "cell_type": "code",
   "execution_count": 8,
   "id": "d40f1d65",
   "metadata": {},
   "outputs": [
    {
     "name": "stdout",
     "output_type": "stream",
     "text": [
      "<class 'pandas.core.frame.DataFrame'>\n",
      "DatetimeIndex: 175296 entries, 2009-01-01 00:00:00 to 2018-12-31 23:30:00\n",
      "Data columns (total 13 columns):\n",
      " #   Column              Non-Null Count   Dtype  \n",
      "---  ------              --------------   -----  \n",
      " 0   Clearsky DHI        175296 non-null  float64\n",
      " 1   Clearsky DNI        175296 non-null  float64\n",
      " 2   Clearsky GHI        175296 non-null  float64\n",
      " 3   Cloud Type          175296 non-null  float64\n",
      " 4   Dew Point           175296 non-null  float64\n",
      " 5   Temperature         175296 non-null  float64\n",
      " 6   Pressure            175296 non-null  float64\n",
      " 7   Relative Humidity   175296 non-null  float64\n",
      " 8   Solar Zenith Angle  175296 non-null  float64\n",
      " 9   Precipitable Water  175296 non-null  float64\n",
      " 10  Wind Direction      175296 non-null  float64\n",
      " 11  Wind Speed          175296 non-null  float64\n",
      " 12  Fill Flag           175296 non-null  float64\n",
      "dtypes: float64(13)\n",
      "memory usage: 18.7 MB\n"
     ]
    }
   ],
   "source": [
    "df_solar = into_to_float(df_solar)\n",
    "df_solar.info()"
   ]
  },
  {
   "cell_type": "code",
   "execution_count": 9,
   "id": "6a076c35",
   "metadata": {},
   "outputs": [
    {
     "data": {
      "text/plain": [
       "(175296, 13)"
      ]
     },
     "execution_count": 9,
     "metadata": {},
     "output_type": "execute_result"
    }
   ],
   "source": [
    "df_solar.shape"
   ]
  },
  {
   "cell_type": "markdown",
   "id": "b3908876",
   "metadata": {},
   "source": [
    "### Scaling of Data"
   ]
  },
  {
   "cell_type": "code",
   "execution_count": 10,
   "id": "a5e5faec",
   "metadata": {},
   "outputs": [],
   "source": [
    "from sklearn.preprocessing import StandardScaler"
   ]
  },
  {
   "cell_type": "code",
   "execution_count": 11,
   "id": "def97f55",
   "metadata": {},
   "outputs": [],
   "source": [
    "scalar_std = StandardScaler()"
   ]
  },
  {
   "cell_type": "markdown",
   "id": "f661942c",
   "metadata": {},
   "source": [
    "##### Small trick to ensure we can perform inverse transform"
   ]
  },
  {
   "cell_type": "code",
   "execution_count": 12,
   "id": "30fb8245",
   "metadata": {},
   "outputs": [],
   "source": [
    "scalar_std = scalar_std.fit(df_solar)"
   ]
  },
  {
   "cell_type": "code",
   "execution_count": 13,
   "id": "e35b8644",
   "metadata": {},
   "outputs": [
    {
     "data": {
      "text/plain": [
       "(175296, 13)"
      ]
     },
     "execution_count": 13,
     "metadata": {},
     "output_type": "execute_result"
    }
   ],
   "source": [
    "df_solar.shape"
   ]
  },
  {
   "cell_type": "code",
   "execution_count": 14,
   "id": "31e753e5",
   "metadata": {},
   "outputs": [
    {
     "data": {
      "text/html": [
       "<div>\n",
       "<style scoped>\n",
       "    .dataframe tbody tr th:only-of-type {\n",
       "        vertical-align: middle;\n",
       "    }\n",
       "\n",
       "    .dataframe tbody tr th {\n",
       "        vertical-align: top;\n",
       "    }\n",
       "\n",
       "    .dataframe thead th {\n",
       "        text-align: right;\n",
       "    }\n",
       "</style>\n",
       "<table border=\"1\" class=\"dataframe\">\n",
       "  <thead>\n",
       "    <tr style=\"text-align: right;\">\n",
       "      <th></th>\n",
       "      <th>Clearsky DHI</th>\n",
       "      <th>Clearsky DNI</th>\n",
       "      <th>Clearsky GHI</th>\n",
       "      <th>Cloud Type</th>\n",
       "      <th>Dew Point</th>\n",
       "      <th>Temperature</th>\n",
       "      <th>Pressure</th>\n",
       "      <th>Relative Humidity</th>\n",
       "      <th>Solar Zenith Angle</th>\n",
       "      <th>Precipitable Water</th>\n",
       "      <th>Wind Direction</th>\n",
       "      <th>Wind Speed</th>\n",
       "      <th>Fill Flag</th>\n",
       "    </tr>\n",
       "    <tr>\n",
       "      <th>Date</th>\n",
       "      <th></th>\n",
       "      <th></th>\n",
       "      <th></th>\n",
       "      <th></th>\n",
       "      <th></th>\n",
       "      <th></th>\n",
       "      <th></th>\n",
       "      <th></th>\n",
       "      <th></th>\n",
       "      <th></th>\n",
       "      <th></th>\n",
       "      <th></th>\n",
       "      <th></th>\n",
       "    </tr>\n",
       "  </thead>\n",
       "  <tbody>\n",
       "    <tr>\n",
       "      <th>2009-03-25 11:30:00</th>\n",
       "      <td>-0.826549</td>\n",
       "      <td>-0.891997</td>\n",
       "      <td>-0.776205</td>\n",
       "      <td>1.475750</td>\n",
       "      <td>-0.312859</td>\n",
       "      <td>-0.477103</td>\n",
       "      <td>1.148093</td>\n",
       "      <td>0.623210</td>\n",
       "      <td>0.040926</td>\n",
       "      <td>-0.045723</td>\n",
       "      <td>-0.381538</td>\n",
       "      <td>0.809057</td>\n",
       "      <td>-0.112603</td>\n",
       "    </tr>\n",
       "    <tr>\n",
       "      <th>2018-05-10 11:30:00</th>\n",
       "      <td>0.045709</td>\n",
       "      <td>-0.151516</td>\n",
       "      <td>-0.474103</td>\n",
       "      <td>-0.840696</td>\n",
       "      <td>0.406937</td>\n",
       "      <td>0.283262</td>\n",
       "      <td>0.979621</td>\n",
       "      <td>-0.061813</td>\n",
       "      <td>-0.216525</td>\n",
       "      <td>-0.002413</td>\n",
       "      <td>0.667804</td>\n",
       "      <td>0.028964</td>\n",
       "      <td>0.495704</td>\n",
       "    </tr>\n",
       "  </tbody>\n",
       "</table>\n",
       "</div>"
      ],
      "text/plain": [
       "                     Clearsky DHI  Clearsky DNI  Clearsky GHI  Cloud Type  \\\n",
       "Date                                                                        \n",
       "2009-03-25 11:30:00     -0.826549     -0.891997     -0.776205    1.475750   \n",
       "2018-05-10 11:30:00      0.045709     -0.151516     -0.474103   -0.840696   \n",
       "\n",
       "                     Dew Point  Temperature  Pressure  Relative Humidity  \\\n",
       "Date                                                                       \n",
       "2009-03-25 11:30:00  -0.312859    -0.477103  1.148093           0.623210   \n",
       "2018-05-10 11:30:00   0.406937     0.283262  0.979621          -0.061813   \n",
       "\n",
       "                     Solar Zenith Angle  Precipitable Water  Wind Direction  \\\n",
       "Date                                                                          \n",
       "2009-03-25 11:30:00            0.040926           -0.045723       -0.381538   \n",
       "2018-05-10 11:30:00           -0.216525           -0.002413        0.667804   \n",
       "\n",
       "                     Wind Speed  Fill Flag  \n",
       "Date                                        \n",
       "2009-03-25 11:30:00    0.809057  -0.112603  \n",
       "2018-05-10 11:30:00    0.028964   0.495704  "
      ]
     },
     "execution_count": 14,
     "metadata": {},
     "output_type": "execute_result"
    }
   ],
   "source": [
    "df_solar_sc = pd.DataFrame(data=scalar_std.transform(df_solar), index=df_solar.index,  columns=df_solar.columns)\n",
    "df_solar_sc.sample(2)"
   ]
  },
  {
   "cell_type": "code",
   "execution_count": null,
   "id": "db1dfd7b",
   "metadata": {},
   "outputs": [],
   "source": []
  },
  {
   "cell_type": "markdown",
   "id": "7f873485",
   "metadata": {},
   "source": [
    "### Feature Selection"
   ]
  },
  {
   "cell_type": "markdown",
   "id": "565fad5a",
   "metadata": {},
   "source": [
    "##### Any Non-linear regression model can be selected, Choose XGBoost"
   ]
  },
  {
   "cell_type": "code",
   "execution_count": 15,
   "id": "195ed782",
   "metadata": {},
   "outputs": [],
   "source": [
    "from xgboost import XGBRegressor\n",
    "from xgboost import plot_importance"
   ]
  },
  {
   "cell_type": "markdown",
   "id": "a8269783",
   "metadata": {},
   "source": [
    "##### Feature Selection for Clearsky GHI since GHI constitues both DHI, DHI and Zenith Angle"
   ]
  },
  {
   "cell_type": "code",
   "execution_count": 16,
   "id": "d2b39879",
   "metadata": {},
   "outputs": [],
   "source": [
    "y = df_solar_sc['Clearsky GHI']\n",
    "X = df_solar_sc.drop(columns='Clearsky GHI', axis=1)"
   ]
  },
  {
   "cell_type": "code",
   "execution_count": 17,
   "id": "e47fffa6",
   "metadata": {},
   "outputs": [
    {
     "data": {
      "text/plain": [
       "XGBRegressor(base_score=0.5, booster='gbtree', colsample_bylevel=1,\n",
       "             colsample_bynode=1, colsample_bytree=1, enable_categorical=False,\n",
       "             gamma=0, gpu_id=-1, importance_type=None,\n",
       "             interaction_constraints='', learning_rate=0.300000012,\n",
       "             max_delta_step=0, max_depth=6, min_child_weight=1, missing=nan,\n",
       "             monotone_constraints='()', n_estimators=100, n_jobs=12,\n",
       "             num_parallel_tree=1, predictor='auto', random_state=0, reg_alpha=0,\n",
       "             reg_lambda=1, scale_pos_weight=1, subsample=1, tree_method='exact',\n",
       "             validate_parameters=1, verbosity=None)"
      ]
     },
     "execution_count": 17,
     "metadata": {},
     "output_type": "execute_result"
    }
   ],
   "source": [
    "model_xgb = XGBRegressor(n_estimators=100)\n",
    "model_xgb.fit(X, y)"
   ]
  },
  {
   "cell_type": "code",
   "execution_count": 18,
   "id": "57e78e7a",
   "metadata": {},
   "outputs": [
    {
     "data": {
      "text/plain": [
       "array([3.4929704e-04, 5.0226953e-03, 5.2548199e-05, 1.3788324e-03,\n",
       "       6.6652277e-04, 1.6511603e-05, 1.9034089e-05, 9.9018139e-01,\n",
       "       2.2369381e-03, 2.5792026e-05, 2.6344047e-05, 2.4098292e-05],\n",
       "      dtype=float32)"
      ]
     },
     "execution_count": 18,
     "metadata": {},
     "output_type": "execute_result"
    }
   ],
   "source": [
    "model_xgb.feature_importances_"
   ]
  },
  {
   "cell_type": "code",
   "execution_count": 19,
   "id": "e5f7156b",
   "metadata": {},
   "outputs": [
    {
     "data": {
      "text/plain": [
       "<AxesSubplot:title={'center':'Feature importance'}, xlabel='F score', ylabel='Features'>"
      ]
     },
     "execution_count": 19,
     "metadata": {},
     "output_type": "execute_result"
    },
    {
     "data": {
      "image/png": "[encoded data removed]",
      "text/plain": [
       "<Figure size 432x288 with 1 Axes>"
      ]
     },
     "metadata": {
      "needs_background": "light"
     },
     "output_type": "display_data"
    }
   ],
   "source": [
    "plot_importance(model_xgb)"
   ]
  },
  {
   "cell_type": "markdown",
   "id": "e2f38dc6",
   "metadata": {},
   "source": [
    "### Droping not so significant columns"
   ]
  },
  {
   "cell_type": "code",
   "execution_count": 20,
   "id": "20aa5b62",
   "metadata": {},
   "outputs": [
    {
     "data": {
      "text/plain": [
       "0.0     82788\n",
       "7.0     23163\n",
       "3.0     16255\n",
       "1.0     15698\n",
       "8.0     14276\n",
       "4.0     11738\n",
       "6.0      7902\n",
       "2.0      3018\n",
       "9.0       457\n",
       "10.0        1\n",
       "Name: Cloud Type, dtype: int64"
      ]
     },
     "execution_count": 20,
     "metadata": {},
     "output_type": "execute_result"
    }
   ],
   "source": [
    "df_solar['Cloud Type'].value_counts()"
   ]
  },
  {
   "cell_type": "code",
   "execution_count": 21,
   "id": "e0600cc5",
   "metadata": {},
   "outputs": [
    {
     "data": {
      "text/html": [
       "<div>\n",
       "<style scoped>\n",
       "    .dataframe tbody tr th:only-of-type {\n",
       "        vertical-align: middle;\n",
       "    }\n",
       "\n",
       "    .dataframe tbody tr th {\n",
       "        vertical-align: top;\n",
       "    }\n",
       "\n",
       "    .dataframe thead th {\n",
       "        text-align: right;\n",
       "    }\n",
       "</style>\n",
       "<table border=\"1\" class=\"dataframe\">\n",
       "  <thead>\n",
       "    <tr style=\"text-align: right;\">\n",
       "      <th></th>\n",
       "      <th>Clearsky DHI</th>\n",
       "      <th>Clearsky DNI</th>\n",
       "      <th>Clearsky GHI</th>\n",
       "      <th>Dew Point</th>\n",
       "      <th>Temperature</th>\n",
       "      <th>Relative Humidity</th>\n",
       "      <th>Solar Zenith Angle</th>\n",
       "      <th>Precipitable Water</th>\n",
       "      <th>Wind Direction</th>\n",
       "      <th>Wind Speed</th>\n",
       "    </tr>\n",
       "    <tr>\n",
       "      <th>Date</th>\n",
       "      <th></th>\n",
       "      <th></th>\n",
       "      <th></th>\n",
       "      <th></th>\n",
       "      <th></th>\n",
       "      <th></th>\n",
       "      <th></th>\n",
       "      <th></th>\n",
       "      <th></th>\n",
       "      <th></th>\n",
       "    </tr>\n",
       "  </thead>\n",
       "  <tbody>\n",
       "    <tr>\n",
       "      <th>2018-10-25 04:30:00</th>\n",
       "      <td>0.0</td>\n",
       "      <td>0.0</td>\n",
       "      <td>0.0</td>\n",
       "      <td>8.2</td>\n",
       "      <td>14.0</td>\n",
       "      <td>67.91</td>\n",
       "      <td>157.16</td>\n",
       "      <td>1.20</td>\n",
       "      <td>84.0</td>\n",
       "      <td>2.2</td>\n",
       "    </tr>\n",
       "    <tr>\n",
       "      <th>2010-01-03 21:00:00</th>\n",
       "      <td>58.0</td>\n",
       "      <td>757.0</td>\n",
       "      <td>285.0</td>\n",
       "      <td>-3.0</td>\n",
       "      <td>2.0</td>\n",
       "      <td>69.00</td>\n",
       "      <td>72.57</td>\n",
       "      <td>0.91</td>\n",
       "      <td>317.1</td>\n",
       "      <td>2.2</td>\n",
       "    </tr>\n",
       "  </tbody>\n",
       "</table>\n",
       "</div>"
      ],
      "text/plain": [
       "                     Clearsky DHI  Clearsky DNI  Clearsky GHI  Dew Point  \\\n",
       "Date                                                                       \n",
       "2018-10-25 04:30:00           0.0           0.0           0.0        8.2   \n",
       "2010-01-03 21:00:00          58.0         757.0         285.0       -3.0   \n",
       "\n",
       "                     Temperature  Relative Humidity  Solar Zenith Angle  \\\n",
       "Date                                                                      \n",
       "2018-10-25 04:30:00         14.0              67.91              157.16   \n",
       "2010-01-03 21:00:00          2.0              69.00               72.57   \n",
       "\n",
       "                     Precipitable Water  Wind Direction  Wind Speed  \n",
       "Date                                                                 \n",
       "2018-10-25 04:30:00                1.20            84.0         2.2  \n",
       "2010-01-03 21:00:00                0.91           317.1         2.2  "
      ]
     },
     "execution_count": 21,
     "metadata": {},
     "output_type": "execute_result"
    }
   ],
   "source": [
    "df_solar.drop(columns=['Cloud Type', 'Pressure', 'Fill Flag'], inplace=True)\n",
    "df_solar.sample(2)"
   ]
  },
  {
   "cell_type": "code",
   "execution_count": 22,
   "id": "7f8a117b",
   "metadata": {},
   "outputs": [
    {
     "data": {
      "text/plain": [
       "(175296, 10)"
      ]
     },
     "execution_count": 22,
     "metadata": {},
     "output_type": "execute_result"
    }
   ],
   "source": [
    "df_solar.shape"
   ]
  },
  {
   "cell_type": "markdown",
   "id": "38a97da8",
   "metadata": {},
   "source": [
    "## Model Building Start"
   ]
  },
  {
   "cell_type": "markdown",
   "id": "a6e8e402",
   "metadata": {},
   "source": [
    "### Scaling the Updated Data"
   ]
  },
  {
   "cell_type": "code",
   "execution_count": 23,
   "id": "5893a953",
   "metadata": {},
   "outputs": [
    {
     "data": {
      "text/html": [
       "<div>\n",
       "<style scoped>\n",
       "    .dataframe tbody tr th:only-of-type {\n",
       "        vertical-align: middle;\n",
       "    }\n",
       "\n",
       "    .dataframe tbody tr th {\n",
       "        vertical-align: top;\n",
       "    }\n",
       "\n",
       "    .dataframe thead th {\n",
       "        text-align: right;\n",
       "    }\n",
       "</style>\n",
       "<table border=\"1\" class=\"dataframe\">\n",
       "  <thead>\n",
       "    <tr style=\"text-align: right;\">\n",
       "      <th></th>\n",
       "      <th>Clearsky DHI</th>\n",
       "      <th>Clearsky DNI</th>\n",
       "      <th>Clearsky GHI</th>\n",
       "      <th>Dew Point</th>\n",
       "      <th>Temperature</th>\n",
       "      <th>Relative Humidity</th>\n",
       "      <th>Solar Zenith Angle</th>\n",
       "      <th>Precipitable Water</th>\n",
       "      <th>Wind Direction</th>\n",
       "      <th>Wind Speed</th>\n",
       "    </tr>\n",
       "    <tr>\n",
       "      <th>Date</th>\n",
       "      <th></th>\n",
       "      <th></th>\n",
       "      <th></th>\n",
       "      <th></th>\n",
       "      <th></th>\n",
       "      <th></th>\n",
       "      <th></th>\n",
       "      <th></th>\n",
       "      <th></th>\n",
       "      <th></th>\n",
       "    </tr>\n",
       "  </thead>\n",
       "  <tbody>\n",
       "    <tr>\n",
       "      <th>2017-07-17 17:30:00</th>\n",
       "      <td>1.525432</td>\n",
       "      <td>1.342959</td>\n",
       "      <td>2.165474</td>\n",
       "      <td>1.151133</td>\n",
       "      <td>0.864718</td>\n",
       "      <td>0.280190</td>\n",
       "      <td>-1.962051</td>\n",
       "      <td>1.721597</td>\n",
       "      <td>0.233524</td>\n",
       "      <td>-0.595110</td>\n",
       "    </tr>\n",
       "    <tr>\n",
       "      <th>2014-06-10 04:30:00</th>\n",
       "      <td>-0.826549</td>\n",
       "      <td>-0.891997</td>\n",
       "      <td>-0.776205</td>\n",
       "      <td>1.151133</td>\n",
       "      <td>0.529262</td>\n",
       "      <td>1.048046</td>\n",
       "      <td>0.829743</td>\n",
       "      <td>0.687321</td>\n",
       "      <td>0.355728</td>\n",
       "      <td>-0.517101</td>\n",
       "    </tr>\n",
       "  </tbody>\n",
       "</table>\n",
       "</div>"
      ],
      "text/plain": [
       "                     Clearsky DHI  Clearsky DNI  Clearsky GHI  Dew Point  \\\n",
       "Date                                                                       \n",
       "2017-07-17 17:30:00      1.525432      1.342959      2.165474   1.151133   \n",
       "2014-06-10 04:30:00     -0.826549     -0.891997     -0.776205   1.151133   \n",
       "\n",
       "                     Temperature  Relative Humidity  Solar Zenith Angle  \\\n",
       "Date                                                                      \n",
       "2017-07-17 17:30:00     0.864718           0.280190           -1.962051   \n",
       "2014-06-10 04:30:00     0.529262           1.048046            0.829743   \n",
       "\n",
       "                     Precipitable Water  Wind Direction  Wind Speed  \n",
       "Date                                                                 \n",
       "2017-07-17 17:30:00            1.721597        0.233524   -0.595110  \n",
       "2014-06-10 04:30:00            0.687321        0.355728   -0.517101  "
      ]
     },
     "execution_count": 23,
     "metadata": {},
     "output_type": "execute_result"
    }
   ],
   "source": [
    "scalar_std = StandardScaler()\n",
    "scalar_std = scalar_std.fit(df_solar)\n",
    "df_solar_sc = pd.DataFrame(data=scalar_std.transform(df_solar), index=df_solar.index,  columns=df_solar.columns)\n",
    "df_solar_sc.sample(2)"
   ]
  },
  {
   "cell_type": "markdown",
   "id": "61db1987",
   "metadata": {},
   "source": [
    "### Data Generation"
   ]
  },
  {
   "cell_type": "code",
   "execution_count": 24,
   "id": "a3d64db6",
   "metadata": {},
   "outputs": [],
   "source": [
    "from tensorflow.keras.preprocessing.sequence import TimeseriesGenerator"
   ]
  },
  {
   "cell_type": "code",
   "execution_count": 25,
   "id": "4a6b6654",
   "metadata": {},
   "outputs": [],
   "source": [
    "# Take only one weeks data for completing the process\n",
    "total_length = 48*7\n",
    "# total_length = df_solar_sc.shape[0]"
   ]
  },
  {
   "cell_type": "markdown",
   "id": "80d74a4c",
   "metadata": {},
   "source": [
    "# Dalete this"
   ]
  },
  {
   "cell_type": "code",
   "execution_count": 26,
   "id": "03b4f2de",
   "metadata": {},
   "outputs": [
    {
     "data": {
      "text/plain": [
       "(336, 10)"
      ]
     },
     "execution_count": 26,
     "metadata": {},
     "output_type": "execute_result"
    }
   ],
   "source": [
    "# This needs to be deleted after completing the training\n",
    "df_solar_sc = df_solar_sc[:total_length]\n",
    "df_solar_sc.shape"
   ]
  },
  {
   "cell_type": "code",
   "execution_count": 27,
   "id": "7e6e69ef",
   "metadata": {},
   "outputs": [],
   "source": [
    "X = df_solar_sc.values\n",
    "y = df_solar_sc[['Clearsky DHI', 'Clearsky DNI', 'Clearsky GHI']].values"
   ]
  },
  {
   "cell_type": "code",
   "execution_count": 28,
   "id": "29802477",
   "metadata": {},
   "outputs": [],
   "source": [
    "# These values need to be updated for full dataset\n",
    "input_len = 48\n",
    "output_len = 1\n",
    "stride_len = 1 # Keep this always 1"
   ]
  },
  {
   "cell_type": "code",
   "execution_count": 29,
   "id": "563ba43d",
   "metadata": {},
   "outputs": [],
   "source": [
    "ts_generator = TimeseriesGenerator(data=X, targets=y, length=input_len, batch_size=output_len, stride=stride_len)"
   ]
  },
  {
   "cell_type": "code",
   "execution_count": 30,
   "id": "921dc77c",
   "metadata": {},
   "outputs": [
    {
     "data": {
      "text/plain": [
       "288"
      ]
     },
     "execution_count": 30,
     "metadata": {},
     "output_type": "execute_result"
    }
   ],
   "source": [
    "len(ts_generator)"
   ]
  },
  {
   "cell_type": "code",
   "execution_count": 31,
   "id": "5a912ba2",
   "metadata": {},
   "outputs": [],
   "source": [
    "X_gen = []\n",
    "y_gen = []\n",
    "for i in range(len(ts_generator)):\n",
    "    X_temp, y_temp = ts_generator[i]\n",
    "    # print(f'{X_temp}, {y_temp}')\n",
    "    X_gen.append(X_temp[0])\n",
    "    y_gen.append(y_temp)"
   ]
  },
  {
   "cell_type": "code",
   "execution_count": 32,
   "id": "86fb778e",
   "metadata": {},
   "outputs": [
    {
     "name": "stdout",
     "output_type": "stream",
     "text": [
      "X Shape: (288, 48, 10), y shape: (288, 1, 3)\n"
     ]
    }
   ],
   "source": [
    "X_gen = np.array(X_gen)\n",
    "y_gen = np.array(y_gen)\n",
    "print(f'X Shape: {X_gen.shape}, y shape: {y_gen.shape}')"
   ]
  },
  {
   "cell_type": "code",
   "execution_count": 33,
   "id": "88169789",
   "metadata": {},
   "outputs": [
    {
     "name": "stdout",
     "output_type": "stream",
     "text": [
      "\n",
      "X_train.shape: (240, 48, 10)\n",
      "X_test.shape: (48, 48, 10)\n",
      "y_train.shape: (240, 1, 3)\n",
      "y_test.shape: (48, 1, 3)\n"
     ]
    }
   ],
   "source": [
    "split_length = 48\n",
    "X_train = X_gen[:-split_length]\n",
    "X_test = X_gen[-split_length:]\n",
    "y_train = y_gen[:-split_length]\n",
    "y_test = y_gen[-split_length:]\n",
    "print(f'''\n",
    "X_train.shape: {X_train.shape}\n",
    "X_test.shape: {X_test.shape}\n",
    "y_train.shape: {y_train.shape}\n",
    "y_test.shape: {y_test.shape}''')"
   ]
  },
  {
   "cell_type": "code",
   "execution_count": 34,
   "id": "16414d53",
   "metadata": {},
   "outputs": [],
   "source": [
    "input_shape = (48, 10)"
   ]
  },
  {
   "cell_type": "markdown",
   "id": "a8af4c1c",
   "metadata": {},
   "source": [
    "### Model Building"
   ]
  },
  {
   "cell_type": "code",
   "execution_count": 35,
   "id": "457b5016",
   "metadata": {},
   "outputs": [],
   "source": [
    "from tensorflow.keras.models import Model\n",
    "from tensorflow.keras.layers import Input, LSTM, Dense\n",
    "from tensorflow.keras.metrics import RootMeanSquaredError\n",
    "from tensorflow.keras.losses import MeanSquaredError\n",
    "from tensorflow.keras.optimizers import Adam\n",
    "from tensorflow.keras.callbacks import ModelCheckpoint, EarlyStopping\n",
    "from tensorflow.keras.models import load_model"
   ]
  },
  {
   "cell_type": "code",
   "execution_count": 36,
   "id": "ff6f1a82",
   "metadata": {},
   "outputs": [
    {
     "name": "stdout",
     "output_type": "stream",
     "text": [
      "WARNING:tensorflow:Layer lstm will not use cuDNN kernels since it doesn't meet the criteria. It will use a generic GPU kernel as fallback when running on GPU.\n",
      "WARNING:tensorflow:Layer lstm_1 will not use cuDNN kernels since it doesn't meet the criteria. It will use a generic GPU kernel as fallback when running on GPU.\n"
     ]
    }
   ],
   "source": [
    "l0 = Input(shape=input_shape)\n",
    "\n",
    "l1 = LSTM(units=48, activation='relu', recurrent_dropout=.2, return_sequences=True)(l0)\n",
    "\n",
    "l2 = LSTM(units=48, activation='relu', recurrent_dropout=.2)(l1)\n",
    "\n",
    "y = Dense(units=10, activation='relu')(l2)\n",
    "y = Dense(units=3, activation='linear')(y)\n",
    "\n",
    "model_lstm1 = Model(inputs=l0, outputs=y)"
   ]
  },
  {
   "cell_type": "code",
   "execution_count": 37,
   "id": "e4da2478",
   "metadata": {},
   "outputs": [
    {
     "name": "stdout",
     "output_type": "stream",
     "text": [
      "Model: \"model\"\n",
      "_________________________________________________________________\n",
      "Layer (type)                 Output Shape              Param #   \n",
      "=================================================================\n",
      "input_1 (InputLayer)         [(None, 48, 10)]          0         \n",
      "_________________________________________________________________\n",
      "lstm (LSTM)                  (None, 48, 48)            11328     \n",
      "_________________________________________________________________\n",
      "lstm_1 (LSTM)                (None, 48)                18624     \n",
      "_________________________________________________________________\n",
      "dense (Dense)                (None, 10)                490       \n",
      "_________________________________________________________________\n",
      "dense_1 (Dense)              (None, 3)                 33        \n",
      "=================================================================\n",
      "Total params: 30,475\n",
      "Trainable params: 30,475\n",
      "Non-trainable params: 0\n",
      "_________________________________________________________________\n"
     ]
    }
   ],
   "source": [
    "model_lstm1.compile(optimizer=Adam(learning_rate=0.001), \n",
    "                    loss=MeanSquaredError(),\n",
    "                   metrics=[RootMeanSquaredError()])\n",
    "model_lstm1.summary()"
   ]
  },
  {
   "cell_type": "code",
   "execution_count": 38,
   "id": "512beeee",
   "metadata": {},
   "outputs": [],
   "source": [
    "# Check points for Early stopping and Saving the best model\n",
    "cb_earlystop = EarlyStopping(monitor='val_loss', mode='min', verbose=1, patience=200)\n",
    "cb_modelcp = ModelCheckpoint('best_model_lstm1.h5', monitor='val_root_mean_squared_error', \n",
    "                             mode='min', verbose=1, save_best_only=True)"
   ]
  },
  {
   "cell_type": "code",
   "execution_count": 39,
   "id": "9d516d2d",
   "metadata": {},
   "outputs": [
    {
     "name": "stdout",
     "output_type": "stream",
     "text": [
      "Epoch 1/2\n",
      "8/8 [==============================] - 6s 336ms/step - loss: 0.6658 - root_mean_squared_error: 0.8138 - val_loss: 0.7312 - val_root_mean_squared_error: 0.8275\n",
      "\n",
      "Epoch 00001: val_root_mean_squared_error improved from inf to 0.82750, saving model to best_model_lstm1.h5\n",
      "Epoch 2/2\n",
      "8/8 [==============================] - 2s 310ms/step - loss: 0.6406 - root_mean_squared_error: 0.7988 - val_loss: 0.7242 - val_root_mean_squared_error: 0.8103\n",
      "\n",
      "Epoch 00002: val_root_mean_squared_error improved from 0.82750 to 0.81033, saving model to best_model_lstm1.h5\n"
     ]
    }
   ],
   "source": [
    "model_lstm1_hist = model_lstm1.fit(X_train, y_train, \n",
    "                                   validation_data=(X_test, y_test), \n",
    "                                   epochs=50, callbacks=[cb_earlystop, cb_modelcp])"
   ]
  },
  {
   "cell_type": "code",
   "execution_count": 40,
   "id": "057b21e0",
   "metadata": {},
   "outputs": [],
   "source": [
    "model_lstm1.load_weights('best_model_lstm1.h5')"
   ]
  },
  {
   "cell_type": "code",
   "execution_count": 45,
   "id": "19e55c32",
   "metadata": {},
   "outputs": [],
   "source": [
    "def plot_model_history(model):\n",
    "    mod_hist = model.history\n",
    "    plt.subplot(1, 2, 1)\n",
    "    plt.plot(mod_hist.history['loss'])\n",
    "    plt.plot(mod_hist.history['val_loss'])\n",
    "    plt.title('Loss MSE')\n",
    "    plt.ylabel('Loss')\n",
    "    plt.xlabel('Epochs')\n",
    "    plt.subplot(1, 2, 2)\n",
    "    plt.plot(mod_hist.history['root_mean_squared_error'])\n",
    "    plt.plot(mod_hist.history['val_root_mean_squared_error'])\n",
    "    plt.title('Error RMSE')\n",
    "    plt.ylabel('Loss')\n",
    "    plt.xlabel('Epochs')"
   ]
  },
  {
   "cell_type": "code",
   "execution_count": 46,
   "id": "24222842",
   "metadata": {},
   "outputs": [
    {
     "data": {
      "image/png": "[encoded data removed]",
      "text/plain": [
       "<Figure size 432x288 with 2 Axes>"
      ]
     },
     "metadata": {
      "needs_background": "light"
     },
     "output_type": "display_data"
    }
   ],
   "source": [
    "plot_model_history(model=model_lstm1)"
   ]
  },
  {
   "cell_type": "code",
   "execution_count": 47,
   "id": "f37486bb",
   "metadata": {},
   "outputs": [],
   "source": [
    "y_pred = model_lstm1.predict(X_train[-split_length:])"
   ]
  },
  {
   "cell_type": "code",
   "execution_count": 50,
   "id": "e082081d",
   "metadata": {},
   "outputs": [
    {
     "data": {
      "text/plain": [
       "(48, 3)"
      ]
     },
     "execution_count": 50,
     "metadata": {},
     "output_type": "execute_result"
    }
   ],
   "source": [
    "y_pred.shape"
   ]
  },
  {
   "cell_type": "markdown",
   "id": "3831daa0",
   "metadata": {},
   "source": [
    "##### Inverse Scaling the data"
   ]
  },
  {
   "cell_type": "code",
   "execution_count": 51,
   "id": "2138cdb3",
   "metadata": {},
   "outputs": [],
   "source": [
    "df_solar_total = df_solar[:total_length][['Clearsky DHI', 'Clearsky DNI', 'Clearsky GHI']]\n",
    "df_solar_train = df_solar_total[:-split_length]\n",
    "df_solar_test = df_solar_total[-split_length:]"
   ]
  },
  {
   "cell_type": "code",
   "execution_count": 53,
   "id": "7e2c2aae",
   "metadata": {},
   "outputs": [],
   "source": [
    "df_y_pred = pd.DataFrame(data=y_pred, index=df_solar_test.index, \n",
    "             columns=['Clearsky DHI', 'Clearsky DNI', 'Clearsky GHI'])"
   ]
  },
  {
   "cell_type": "code",
   "execution_count": 54,
   "id": "80a7e128",
   "metadata": {},
   "outputs": [
    {
     "data": {
      "text/plain": [
       "Index(['Dew Point', 'Temperature', 'Relative Humidity', 'Solar Zenith Angle',\n",
       "       'Precipitable Water', 'Wind Direction', 'Wind Speed'],\n",
       "      dtype='object')"
      ]
     },
     "execution_count": 54,
     "metadata": {},
     "output_type": "execute_result"
    }
   ],
   "source": [
    "df_solar.columns[3:]"
   ]
  },
  {
   "cell_type": "code",
   "execution_count": 57,
   "id": "b148901f",
   "metadata": {},
   "outputs": [],
   "source": [
    "df_temp_inv_trans = pd.DataFrame(data=X_test[0][:,3:], index=df_solar_test.index, columns=df_solar.columns[3:])"
   ]
  },
  {
   "cell_type": "code",
   "execution_count": 58,
   "id": "7d04033b",
   "metadata": {},
   "outputs": [],
   "source": [
    "y_pred = pd.concat([df_y_pred, df_temp_inv_trans], axis=1)"
   ]
  },
  {
   "cell_type": "code",
   "execution_count": 59,
   "id": "e12fb2fc",
   "metadata": {},
   "outputs": [],
   "source": [
    "y_pred_sc_inv = scalar_std.inverse_transform(y_pred)"
   ]
  },
  {
   "cell_type": "code",
   "execution_count": 68,
   "id": "86c33c2b",
   "metadata": {},
   "outputs": [
    {
     "data": {
      "text/html": [
       "<div>\n",
       "<style scoped>\n",
       "    .dataframe tbody tr th:only-of-type {\n",
       "        vertical-align: middle;\n",
       "    }\n",
       "\n",
       "    .dataframe tbody tr th {\n",
       "        vertical-align: top;\n",
       "    }\n",
       "\n",
       "    .dataframe thead th {\n",
       "        text-align: right;\n",
       "    }\n",
       "</style>\n",
       "<table border=\"1\" class=\"dataframe\">\n",
       "  <thead>\n",
       "    <tr style=\"text-align: right;\">\n",
       "      <th></th>\n",
       "      <th>Clearsky DHI</th>\n",
       "      <th>Clearsky DNI</th>\n",
       "      <th>Clearsky GHI</th>\n",
       "    </tr>\n",
       "    <tr>\n",
       "      <th>Date</th>\n",
       "      <th></th>\n",
       "      <th></th>\n",
       "      <th></th>\n",
       "    </tr>\n",
       "  </thead>\n",
       "  <tbody>\n",
       "    <tr>\n",
       "      <th>2009-01-07 19:00:00</th>\n",
       "      <td>49.970259</td>\n",
       "      <td>271.144515</td>\n",
       "      <td>241.970618</td>\n",
       "    </tr>\n",
       "    <tr>\n",
       "      <th>2009-01-07 08:30:00</th>\n",
       "      <td>51.931262</td>\n",
       "      <td>289.046385</td>\n",
       "      <td>222.574708</td>\n",
       "    </tr>\n",
       "  </tbody>\n",
       "</table>\n",
       "</div>"
      ],
      "text/plain": [
       "                     Clearsky DHI  Clearsky DNI  Clearsky GHI\n",
       "Date                                                         \n",
       "2009-01-07 19:00:00     49.970259    271.144515    241.970618\n",
       "2009-01-07 08:30:00     51.931262    289.046385    222.574708"
      ]
     },
     "execution_count": 68,
     "metadata": {},
     "output_type": "execute_result"
    }
   ],
   "source": [
    "df_solar_pred = pd.DataFrame(data=y_pred_sc_inv, index=df_solar_test.index, columns=df_solar.columns)\n",
    "df_solar_pred = df_solar_pred[['Clearsky DHI', 'Clearsky DNI', 'Clearsky GHI']]\n",
    "df_solar_pred.sample(2)"
   ]
  },
  {
   "cell_type": "code",
   "execution_count": 69,
   "id": "704ff87c",
   "metadata": {},
   "outputs": [
    {
     "data": {
      "image/png": "[encoded data removed]",
      "text/plain": [
       "<Figure size 864x648 with 3 Axes>"
      ]
     },
     "metadata": {
      "needs_background": "light"
     },
     "output_type": "display_data"
    }
   ],
   "source": [
    "plt.figure(figsize=(12, 9))\n",
    "cnt = 1\n",
    "for col in df_solar_pred.columns:\n",
    "    plt.subplot(3, 1, cnt)\n",
    "    plt.plot(df_solar_train[col], label='train')\n",
    "    plt.plot(df_solar_test[col], label='test')\n",
    "    plt.plot(df_solar_pred[col], label='Pred')\n",
    "    plt.xticks(rotation=45)\n",
    "    cnt += 1\n",
    "\n",
    "plt.tight_layout()\n",
    "plt.show()"
   ]
  },
  {
   "cell_type": "code",
   "execution_count": null,
   "id": "df51c599",
   "metadata": {},
   "outputs": [],
   "source": []
  }
 ],
 "metadata": {
  "kernelspec": {
   "display_name": "Python 3 (ipykernel)",
   "language": "python",
   "name": "python3"
  },
  "language_info": {
   "codemirror_mode": {
    "name": "ipython",
    "version": 3
   },
   "file_extension": ".py",
   "mimetype": "text/x-python",
   "name": "python",
   "nbconvert_exporter": "python",
   "pygments_lexer": "ipython3",
   "version": "3.9.7"
  }
 },
 "nbformat": 4,
 "nbformat_minor": 5
}
