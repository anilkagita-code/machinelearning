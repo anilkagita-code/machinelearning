{
 "cells": [
  {
   "cell_type": "code",
   "execution_count": 7,
   "id": "c37f76af",
   "metadata": {},
   "outputs": [],
   "source": [
    "import tensorflow as tf\n",
    "gpus = tf.config.experimental.list_physical_devices('GPU')\n",
    "for gpu in gpus:\n",
    "    tf.config.experimental.set_memory_growth(gpu, enable=True)"
   ]
  },
  {
   "cell_type": "code",
   "execution_count": 8,
   "id": "ae762ea0",
   "metadata": {},
   "outputs": [],
   "source": [
    "import numpy as np\n",
    "import pandas as pd\n",
    "import matplotlib.pyplot as plt"
   ]
  },
  {
   "cell_type": "markdown",
   "id": "c508ac6c",
   "metadata": {},
   "source": [
    "# Data Pre-processing"
   ]
  },
  {
   "cell_type": "markdown",
   "id": "953ecc6d",
   "metadata": {},
   "source": [
    "### Reading the data converting into TimeSeries format"
   ]
  },
  {
   "cell_type": "code",
   "execution_count": null,
   "id": "dbfa6ea4",
   "metadata": {},
   "outputs": [],
   "source": [
    "def convert_ts_csv_to_df(csvfile):\n",
    "    '''Take the CSV file along with the path and return dataframe'''\n",
    "    df = pd.read_csv(csvfile)\n",
    "    df.insert(loc=0, column='Date', \n",
    "                value=pd.to_datetime(df[['Year', 'Month', 'Day', 'Hour', 'Minute']]))\n",
    "    df.drop(columns=['Year', 'Month', 'Day', 'Hour', 'Minute'], axis=1, inplace=True)\n",
    "    df.set_index(keys='Date', inplace=True)\n",
    "    df=df[['Clearsky DHI', 'Clearsky DNI', 'Clearsky GHI', 'Temperature', 'Cloud Type', 'Dew Point', 'Fill Flag', 'Relative Humidity', 'Solar Zenith Angle', 'Pressure', 'Precipitable Water', 'Wind Direction', 'Wind Speed']]\n",
    "    return df"
   ]
  },
  {
   "cell_type": "code",
   "execution_count": null,
   "id": "c6cafb7d",
   "metadata": {},
   "outputs": [],
   "source": [
    "df_solar = convert_ts_csv_to_df('data/train.csv')\n",
    "df_solar.sample(2)"
   ]
  },
  {
   "cell_type": "code",
   "execution_count": null,
   "id": "d1833ac9",
   "metadata": {},
   "outputs": [],
   "source": [
    "# Reading the test dataset as Val\n",
    "# Train dataset shall be split into Train and Test\n",
    "# Val is read to understand the data and null values\n",
    "df_solar_test = convert_ts_csv_to_df('data/test_subset_mini.csv')\n",
    "df_solar_test.sample(2)"
   ]
  },
  {
   "cell_type": "markdown",
   "id": "e5253a45",
   "metadata": {},
   "source": [
    "### Data Check"
   ]
  },
  {
   "cell_type": "markdown",
   "id": "ce54a650",
   "metadata": {},
   "source": [
    "##### Null Check"
   ]
  },
  {
   "cell_type": "code",
   "execution_count": null,
   "id": "ce0886b6",
   "metadata": {},
   "outputs": [],
   "source": [
    "df_solar.isnull().sum()"
   ]
  },
  {
   "cell_type": "code",
   "execution_count": null,
   "id": "a1714a67",
   "metadata": {},
   "outputs": [],
   "source": [
    "df_solar_test.isnull().sum()"
   ]
  },
  {
   "cell_type": "markdown",
   "id": "7f873485",
   "metadata": {},
   "source": [
    "# Feature Selection"
   ]
  },
  {
   "cell_type": "markdown",
   "id": "7ffa4e68",
   "metadata": {},
   "source": [
    "##### Datatype Check and convert to floats for Scaling data"
   ]
  },
  {
   "cell_type": "code",
   "execution_count": null,
   "id": "808f0a01",
   "metadata": {},
   "outputs": [],
   "source": [
    "df_solar.info()"
   ]
  },
  {
   "cell_type": "code",
   "execution_count": null,
   "id": "853d7b28",
   "metadata": {},
   "outputs": [],
   "source": [
    "df_solar = df_solar.astype(np.float64)"
   ]
  },
  {
   "cell_type": "code",
   "execution_count": null,
   "id": "6a076c35",
   "metadata": {},
   "outputs": [],
   "source": [
    "df_solar.info()"
   ]
  },
  {
   "cell_type": "markdown",
   "id": "0ddbe8da",
   "metadata": {},
   "source": [
    "##### Feature update based on domain"
   ]
  },
  {
   "cell_type": "code",
   "execution_count": null,
   "id": "9cf8e1a2",
   "metadata": {},
   "outputs": [],
   "source": [
    "print('''\n",
    "Source: https://www.yellowhaze.in/solar-irradiance/\n",
    "Global Horizontal Irradiance (GHI) = Direct Normal Irradiance (DNI)* cos(solar zenith angle)  +  Diffused Horizontal Irradiance (DHI)''')"
   ]
  },
  {
   "cell_type": "code",
   "execution_count": null,
   "id": "99bffe0f",
   "metadata": {},
   "outputs": [],
   "source": [
    "df_solar['Solar Zenith Angle'].describe()"
   ]
  },
  {
   "cell_type": "code",
   "execution_count": null,
   "id": "d8ae9c53",
   "metadata": {},
   "outputs": [],
   "source": [
    "print('''This shows the Zenith Angle is given in degrees with a min or 35 and max of 171 approximately''')"
   ]
  },
  {
   "cell_type": "code",
   "execution_count": null,
   "id": "a5de5018",
   "metadata": {},
   "outputs": [],
   "source": [
    "from math import cos, radians"
   ]
  },
  {
   "cell_type": "code",
   "execution_count": null,
   "id": "f198ba60",
   "metadata": {},
   "outputs": [],
   "source": [
    "df_solar['Cos Zenith'] = df_solar['Solar Zenith Angle'].apply(lambda x: cos(radians(x)))"
   ]
  },
  {
   "cell_type": "code",
   "execution_count": null,
   "id": "4bf7e71d",
   "metadata": {},
   "outputs": [],
   "source": [
    "df_solar['Cos Zenith'].describe()"
   ]
  },
  {
   "cell_type": "code",
   "execution_count": null,
   "id": "20715760",
   "metadata": {},
   "outputs": [],
   "source": [
    "df_solar.drop(columns='Solar Zenith Angle', inplace=True)"
   ]
  },
  {
   "cell_type": "code",
   "execution_count": null,
   "id": "6c833ddf",
   "metadata": {},
   "outputs": [],
   "source": [
    "df_solar.sample(2)"
   ]
  },
  {
   "cell_type": "code",
   "execution_count": null,
   "id": "9281ad50",
   "metadata": {},
   "outputs": [],
   "source": [
    "df_solar.shape"
   ]
  },
  {
   "cell_type": "markdown",
   "id": "ba8e729e",
   "metadata": {},
   "source": [
    "### Adding the Significance of Seasonality into TS\n",
    "Since we using Deep Learning, the significance of Timestamp is lost and the sinificance behaviour of data with respect to Seasonality. In order to avoid it, these parameters are added"
   ]
  },
  {
   "cell_type": "code",
   "execution_count": null,
   "id": "4c19258f",
   "metadata": {},
   "outputs": [],
   "source": [
    "# Getting the time in seconds\n",
    "df_solar['ts'] = df_solar.index.map(pd.Timestamp.timestamp)\n",
    "# Adding columns based on Timestamp to understand Daily and Yearly seasonality\n",
    "day = 60*60*24\n",
    "year = 365.2425*day\n",
    "\n",
    "df_solar['ts_Day_sin'] = np.sin(df_solar['ts'] * (2* np.pi / day))\n",
    "df_solar['ts_Day_cos'] = np.cos(df_solar['ts'] * (2 * np.pi / day))\n",
    "df_solar['ts_Year_sin'] = np.sin(df_solar['ts'] * (2 * np.pi / year))\n",
    "df_solar['ts_Year_cos'] = np.cos(df_solar['ts'] * (2 * np.pi / year))\n",
    "df_solar.drop(columns='ts', inplace=True)\n",
    "df_solar.sample(2)"
   ]
  },
  {
   "cell_type": "markdown",
   "id": "b3908876",
   "metadata": {},
   "source": [
    "### Scaling of Data"
   ]
  },
  {
   "cell_type": "code",
   "execution_count": null,
   "id": "a5e5faec",
   "metadata": {},
   "outputs": [],
   "source": [
    "from sklearn.preprocessing import StandardScaler"
   ]
  },
  {
   "cell_type": "code",
   "execution_count": null,
   "id": "def97f55",
   "metadata": {},
   "outputs": [],
   "source": [
    "scalar_std_fs = StandardScaler()"
   ]
  },
  {
   "cell_type": "markdown",
   "id": "f661942c",
   "metadata": {},
   "source": [
    "##### Small trick to ensure we can perform inverse transform"
   ]
  },
  {
   "cell_type": "code",
   "execution_count": null,
   "id": "30fb8245",
   "metadata": {},
   "outputs": [],
   "source": [
    "scalar_std_fs = scalar_std_fs.fit(df_solar)"
   ]
  },
  {
   "cell_type": "code",
   "execution_count": null,
   "id": "e35b8644",
   "metadata": {},
   "outputs": [],
   "source": [
    "df_solar.shape"
   ]
  },
  {
   "cell_type": "code",
   "execution_count": null,
   "id": "31e753e5",
   "metadata": {},
   "outputs": [],
   "source": [
    "df_solar_sc = pd.DataFrame(data=scalar_std_fs.transform(df_solar), index=df_solar.index,  columns=df_solar.columns)\n",
    "df_solar_sc.sample(2)"
   ]
  },
  {
   "cell_type": "markdown",
   "id": "80cde6c6",
   "metadata": {},
   "source": [
    "### Feature Selection"
   ]
  },
  {
   "cell_type": "markdown",
   "id": "565fad5a",
   "metadata": {},
   "source": [
    "##### Any Non-linear regression model can be selected, Choose XGBoost"
   ]
  },
  {
   "cell_type": "code",
   "execution_count": null,
   "id": "195ed782",
   "metadata": {},
   "outputs": [],
   "source": [
    "from xgboost import XGBRegressor\n",
    "from xgboost import plot_importance"
   ]
  },
  {
   "cell_type": "markdown",
   "id": "a8269783",
   "metadata": {},
   "source": [
    "##### Feature Selection for Clearsky GHI since GHI constitues both DHI, DHI and Zenith Angle"
   ]
  },
  {
   "cell_type": "code",
   "execution_count": null,
   "id": "d2b39879",
   "metadata": {},
   "outputs": [],
   "source": [
    "y = df_solar_sc['Clearsky GHI']\n",
    "X = df_solar_sc.drop(columns='Clearsky GHI', axis=1)"
   ]
  },
  {
   "cell_type": "code",
   "execution_count": null,
   "id": "e47fffa6",
   "metadata": {},
   "outputs": [],
   "source": [
    "model_xgb = XGBRegressor(n_estimators=100)\n",
    "model_xgb.fit(X, y)"
   ]
  },
  {
   "cell_type": "code",
   "execution_count": null,
   "id": "57e78e7a",
   "metadata": {},
   "outputs": [],
   "source": [
    "model_xgb.feature_importances_"
   ]
  },
  {
   "cell_type": "code",
   "execution_count": null,
   "id": "e5f7156b",
   "metadata": {},
   "outputs": [],
   "source": [
    "plot_importance(model_xgb)"
   ]
  },
  {
   "cell_type": "markdown",
   "id": "e2f38dc6",
   "metadata": {},
   "source": [
    "### Droping not so significant columns"
   ]
  },
  {
   "cell_type": "code",
   "execution_count": null,
   "id": "20aa5b62",
   "metadata": {},
   "outputs": [],
   "source": [
    "df_solar['Cloud Type'].value_counts()"
   ]
  },
  {
   "cell_type": "code",
   "execution_count": null,
   "id": "e0600cc5",
   "metadata": {},
   "outputs": [],
   "source": [
    "df_solar.drop(columns=['Cloud Type', 'Pressure', 'Fill Flag', 'Wind Speed', 'Dew Point', 'Wind Direction'], inplace=True)\n",
    "df_solar.sample(2)"
   ]
  },
  {
   "cell_type": "code",
   "execution_count": null,
   "id": "7f8a117b",
   "metadata": {},
   "outputs": [],
   "source": [
    "df_solar.shape"
   ]
  },
  {
   "cell_type": "code",
   "execution_count": null,
   "id": "598c7e43",
   "metadata": {},
   "outputs": [],
   "source": [
    "print('''\n",
    "Temperature, Relative Humidity, Precipitable Water, Cos of Zenith Angle along with time of Day and time of year components are considered for further analysis\n",
    "To also reduce the curse of dimensionality'''\n",
    ")"
   ]
  },
  {
   "cell_type": "code",
   "execution_count": null,
   "id": "4cfecdf5",
   "metadata": {},
   "outputs": [],
   "source": []
  },
  {
   "cell_type": "code",
   "execution_count": null,
   "id": "2f6c1d7e",
   "metadata": {},
   "outputs": [],
   "source": []
  },
  {
   "cell_type": "markdown",
   "id": "576d6e69",
   "metadata": {},
   "source": [
    "# Model Building Start"
   ]
  },
  {
   "cell_type": "code",
   "execution_count": 49,
   "id": "29af8cf5",
   "metadata": {},
   "outputs": [],
   "source": [
    "from tensorflow.keras.models import Model\n",
    "from tensorflow.keras.layers import Input, LSTM, Dense, GRU, RepeatVector, Conv1D\n",
    "from tensorflow.keras.metrics import MeanSquaredError, RootMeanSquaredError\n",
    "from tensorflow.keras.losses import MeanSquaredError\n",
    "from tensorflow.keras.optimizers import Adam\n",
    "from tensorflow.keras.callbacks import ModelCheckpoint, EarlyStopping\n",
    "from tensorflow.keras.models import load_model\n",
    "from tensorflow.keras.layers import TimeDistributed"
   ]
  },
  {
   "cell_type": "markdown",
   "id": "3a00c977",
   "metadata": {},
   "source": [
    "### Consider only last 3 years data"
   ]
  },
  {
   "cell_type": "markdown",
   "id": "fd0ef59f",
   "metadata": {},
   "source": [
    "### Data Generation for Time Series"
   ]
  },
  {
   "cell_type": "code",
   "execution_count": 4,
   "id": "02608e05",
   "metadata": {},
   "outputs": [],
   "source": [
    "def preprocess_cvs_into_ts(csvfile):\n",
    "    '''Take the CSV file along with the path and return dataframe'''\n",
    "    df = pd.read_csv(csvfile)\n",
    "    df.insert(loc=0, column='Date', \n",
    "                value=pd.to_datetime(df[['Year', 'Month', 'Day', 'Hour', 'Minute']]))\n",
    "    df.drop(columns=['Year', 'Month', 'Day', 'Hour', 'Minute'], axis=1, inplace=True)\n",
    "    df.set_index(keys='Date', inplace=True)\n",
    "    df=df[['Clearsky DHI', 'Clearsky DNI', 'Clearsky GHI', 'Temperature', 'Cloud Type', 'Dew Point', 'Fill Flag', 'Relative Humidity', 'Solar Zenith Angle', 'Pressure', 'Precipitable Water', 'Wind Direction', 'Wind Speed']]\n",
    "    return df"
   ]
  },
  {
   "cell_type": "code",
   "execution_count": 83,
   "id": "4fd7d0dc",
   "metadata": {},
   "outputs": [],
   "source": [
    "def preprocess_ts_features(df):\n",
    "    '''This shall ensure the time series features are added and \n",
    "    non-significant features are removed'''\n",
    "    \n",
    "    # Cos of Zenith angle contributes GHI\n",
    "    df['Cos Zenith'] = np.cos(np.deg2rad(df['Solar Zenith Angle']))\n",
    "    \n",
    "    # Adding the time series features into the dataset for Seasonality\n",
    "    sec_in_day = 60*60*24\n",
    "    sec_in_year = 365.2425*sec_in_day\n",
    "    df['ts'] = df.index.map(pd.Timestamp.timestamp)\n",
    "    df['ts_Day_sin'] = np.sin(df['ts'] * (2* np.pi / sec_in_day))\n",
    "    df['ts_Day_cos'] = np.cos(df['ts'] * (2 * np.pi / sec_in_day))\n",
    "    df['ts_Year_sin'] = np.sin(df['ts'] * (2 * np.pi / sec_in_year))\n",
    "    df['ts_Year_cos'] = np.cos(df['ts'] * (2 * np.pi / sec_in_year))\n",
    "    \n",
    "    # Dropping all the insignificant features\n",
    "    df.drop(columns=['Cloud Type', 'Pressure', 'Fill Flag', 'Wind Speed', \n",
    "                     'Dew Point', 'Wind Direction','ts'], inplace=True)\n",
    "    \n",
    "    # Ordering the Columns in a proper order\n",
    "    df = df[['Clearsky DHI', 'Clearsky DNI', 'Clearsky GHI', \n",
    "             'Temperature', 'Relative Humidity', 'Solar Zenith Angle', \n",
    "             'Precipitable Water', 'ts_Day_sin', 'ts_Day_cos', \n",
    "             'ts_Year_sin', 'ts_Year_cos']]\n",
    "    return df"
   ]
  },
  {
   "cell_type": "code",
   "execution_count": 10,
   "id": "ebd909db",
   "metadata": {},
   "outputs": [],
   "source": [
    "df_solar = preprocess_cvs_into_ts('data/train.csv')\n",
    "df_solar = preprocess_ts_features(df_solar)\n",
    "df_solar.sample(2)"
   ]
  },
  {
   "cell_type": "markdown",
   "id": "a526709e",
   "metadata": {},
   "source": [
    "##### Scaling the data"
   ]
  },
  {
   "cell_type": "code",
   "execution_count": 12,
   "id": "1a1073e9",
   "metadata": {},
   "outputs": [],
   "source": [
    "from sklearn.preprocessing import StandardScaler\n",
    "scalar_std_ts = StandardScaler()"
   ]
  },
  {
   "cell_type": "code",
   "execution_count": 14,
   "id": "fdf1da19",
   "metadata": {},
   "outputs": [
    {
     "data": {
      "text/plain": [
       "(175296, 11)"
      ]
     },
     "execution_count": 14,
     "metadata": {},
     "output_type": "execute_result"
    }
   ],
   "source": [
    "scalar_std_ts = scalar_std_ts.fit(df_solar)\n",
    "solar_data_sc = scalar_std_ts.transform(df_solar)\n",
    "df_solar_data = pd.DataFrame(data=solar_data_sc, index=df_solar.index, columns=df_solar.columns)\n",
    "solar_data_sc.shape"
   ]
  },
  {
   "cell_type": "markdown",
   "id": "960f1e23",
   "metadata": {},
   "source": [
    "##### Data Generation\n",
    "1. Take the values of Dataframe for a given batch length and Predict the values of 'Clearsky DHI', 'Clearsky DNI', 'Clearsky GHI' for the next row.\n",
    "2. Move the series by 1 row, repeat step 1"
   ]
  },
  {
   "cell_type": "code",
   "execution_count": 31,
   "id": "82b15bb9",
   "metadata": {},
   "outputs": [],
   "source": [
    "# Daily there around 48 observations\n",
    "# Weekly there are around 48*7 = 336 observations\n",
    "# Monthly there are around 48*30 = 1440 observations\n",
    "# Yearly there are around 48*365 = 17520 observations\n",
    "total_data_len = solar_data_sc.shape[0]\n",
    "batch_input_len = 336\n",
    "batch_output_len = 1\n",
    "features_len = 11\n",
    "train_data_start = total_data_len - batch_input_len*4\n"
   ]
  },
  {
   "cell_type": "code",
   "execution_count": 32,
   "id": "90071363",
   "metadata": {},
   "outputs": [],
   "source": [
    "def ts_data_generator(data_arr, batch_len):\n",
    "    X = []\n",
    "    y = []\n",
    "    for i in range(len(data_arr)-batch_len):\n",
    "        X_rows = [row for row in data_arr[i:i+batch_len]]\n",
    "        X.append(X_rows)\n",
    "        y_row = [data_arr[i+batch_len][0],data_arr[i+batch_len][1], data_arr[i+batch_len][2]]\n",
    "        y.append(y_row)\n",
    "    return np.array(X), np.array(y)"
   ]
  },
  {
   "cell_type": "markdown",
   "id": "fc51a3bc",
   "metadata": {},
   "source": [
    "##### Split the train csv data into train and val"
   ]
  },
  {
   "cell_type": "code",
   "execution_count": 45,
   "id": "a0989cfc",
   "metadata": {},
   "outputs": [
    {
     "data": {
      "text/plain": [
       "((705, 336, 11), (705, 3), (303, 336, 11), (303, 3))"
      ]
     },
     "execution_count": 45,
     "metadata": {},
     "output_type": "execute_result"
    }
   ],
   "source": [
    "train_split = np.int(X.shape[0]*0.7)\n",
    "\n",
    "X_train, y_train = X[:train_split], y[:train_split]\n",
    "X_val, y_val = X[train_split:], y[train_split:]\n",
    "\n",
    "X_train.shape, y_train.shape, X_val.shape, y_val.shape"
   ]
  },
  {
   "cell_type": "markdown",
   "id": "2d85c59f",
   "metadata": {},
   "source": [
    "### Build the Model"
   ]
  },
  {
   "cell_type": "code",
   "execution_count": null,
   "id": "178eee3b",
   "metadata": {},
   "outputs": [],
   "source": [
    "input_shape = (batch_input_len, features_len)\n",
    "learn_rate = 0.001"
   ]
  },
  {
   "cell_type": "code",
   "execution_count": 1,
   "id": "30fd286a",
   "metadata": {},
   "outputs": [],
   "source": [
    "def build_GRU_trans1(input_shape, lr):\n",
    "    l0 = Input(shape=input_shape)\n",
    "\n",
    "    l1 = GRU(units=8, activation='relu', recurrent_dropout=.2)(l0)\n",
    "    l1 = RepeatVector(input_shape[1])(l1)\n",
    "    l1 = GRU(units=8, activation='relu', recurrent_dropout=.2)(l1)\n",
    "\n",
    "    y = Dense(units=5, activation='relu')(l1)\n",
    "    y = Dense(units=3, activation='linear')(y)\n",
    "\n",
    "    model_gru_trans1 = Model(inputs=l0, outputs=y)\n",
    "    \n",
    "    model_gru_trans1.compile(optimizer=Adam(learning_rate=0.001), \n",
    "                    loss=MeanSquaredError(),\n",
    "                   metrics=[MeanSquaredError()])\n",
    "    return model_gru_trans1"
   ]
  },
  {
   "cell_type": "code",
   "execution_count": null,
   "id": "1b033293",
   "metadata": {},
   "outputs": [],
   "source": [
    "model = build_GRU_trans1(input_shape, learn_rate)\n",
    "model.summary()"
   ]
  },
  {
   "cell_type": "code",
   "execution_count": 52,
   "id": "78bdf7a4",
   "metadata": {},
   "outputs": [],
   "source": []
  },
  {
   "cell_type": "code",
   "execution_count": 54,
   "id": "f2672a26",
   "metadata": {},
   "outputs": [
    {
     "name": "stdout",
     "output_type": "stream",
     "text": [
      "Epoch 1/2\n",
      "23/23 [==============================] - 30s 1s/step - loss: 0.7471 - mean_squared_error: 0.7628 - val_loss: 0.6570 - val_mean_squared_error: 0.6583\n",
      "\n",
      "Epoch 00001: val_mean_squared_error improved from inf to 0.65826, saving model to best_model_lstm1.h5\n",
      "Epoch 2/2\n",
      "23/23 [==============================] - 24s 1s/step - loss: 0.6851 - mean_squared_error: 0.6830 - val_loss: 0.6215 - val_mean_squared_error: 0.6235\n",
      "\n",
      "Epoch 00002: val_mean_squared_error improved from 0.65826 to 0.62348, saving model to best_model_lstm1.h5\n"
     ]
    }
   ],
   "source": [
    "# Check points for Early stopping and Saving the best model\n",
    "cb_earlystop = EarlyStopping(monitor='val_loss', mode='min', verbose=1, patience=200)\n",
    "cb_modelcp = ModelCheckpoint('best_model_GRU_trans1.h5', monitor='val_mean_squared_error', \n",
    "                             mode='min', verbose=1, save_best_only=True)\n",
    "\n",
    "# Fit the model\n",
    "model_hist = model.fit(X_train, y_train, \n",
    "                                   validation_data=(X_val, y_val), \n",
    "                                   epochs=2, callbacks=[cb_earlystop, cb_modelcp])"
   ]
  },
  {
   "cell_type": "code",
   "execution_count": null,
   "id": "256fcde9",
   "metadata": {},
   "outputs": [],
   "source": [
    "def plot_model_history(model):\n",
    "    mod_hist = model.history\n",
    "    plt.subplot(1, 2, 1)\n",
    "    plt.plot(mod_hist.history['loss'])\n",
    "    plt.plot(mod_hist.history['val_loss'])\n",
    "    plt.title('Loss MSE')\n",
    "    plt.ylabel('Loss')\n",
    "    plt.xlabel('Epochs')\n",
    "    plt.subplot(1, 2, 2)\n",
    "    plt.plot(mod_hist.history['root_mean_squared_error'])\n",
    "    plt.plot(mod_hist.history['val_root_mean_squared_error'])\n",
    "    plt.title('Error RMSE')\n",
    "    plt.ylabel('Loss')\n",
    "    plt.xlabel('Epochs')\n",
    "    "
   ]
  },
  {
   "cell_type": "code",
   "execution_count": null,
   "id": "a0047749",
   "metadata": {},
   "outputs": [],
   "source": [
    "plot_model_history(model=model)"
   ]
  },
  {
   "cell_type": "code",
   "execution_count": null,
   "id": "3d67aad6",
   "metadata": {},
   "outputs": [],
   "source": []
  },
  {
   "cell_type": "markdown",
   "id": "ed157a1c",
   "metadata": {},
   "source": [
    "### Predict"
   ]
  },
  {
   "cell_type": "code",
   "execution_count": 127,
   "id": "176fcc40",
   "metadata": {},
   "outputs": [],
   "source": [
    "def create_df_predict(train_csv, test_csv, batch_len):\n",
    "    df_train = preprocess_cvs_into_ts(train_csv)\n",
    "    df_train = preprocess_ts_features(df_train)\n",
    "    df_test = preprocess_cvs_into_ts(test_csv)\n",
    "    df_test = preprocess_ts_features(df_test)\n",
    "    test_len = df_test.shape[0]\n",
    "    df_pred = pd.concat([df_train, df_test], axis=0)\n",
    "    df_pred.fillna(0)\n",
    "    return df_pred[-(test_len+batch_len):]"
   ]
  },
  {
   "cell_type": "code",
   "execution_count": null,
   "id": "cd2c2066",
   "metadata": {},
   "outputs": [],
   "source": [
    "def model_predict(train_csv, test_csv, batch_input_len):\n",
    "    '''This method takes the test csv file, gives the output as predicted array\n",
    "    Creating df which will contain last rows from train which equal to the length of the batch\n",
    "    append those to the test.\n",
    "    The first prediction for the test row 0 shall consider data from train and predict the 0 row of test\n",
    "    the predictions are updated into test first row and then prediction is done for the 1 row in test\n",
    "    this loop repeats'''\n",
    "    \n",
    "    # Creating train (with batch length) and test dataset\n",
    "    df_solar_pred = create_df_predict(train_csv, test_csv, batch_input_len)\n",
    "    \n",
    "    # Scaling for data\n",
    "    solar_data_pred_sc = scalar_std_ts.transform(df_solar_pred)\n",
    "    \n",
    "    # Tranforming the data into X and y to pass it NN predict\n",
    "    X_test, y_test = ts_data_generator(solar_data_pred_sc, batch_input_len)\n",
    "    \n",
    "    # Used only for testing\n",
    "    cnt = 0\n",
    "    \n",
    "    # Contains the predicted output\n",
    "    x_pred = []\n",
    "    \n",
    "    # Runs for the entire X test\n",
    "    for i in range(X_test.shape[0]):\n",
    "        # Since only one value of (batchlength, features) is passed \n",
    "        # it needs to be in the format (n, l, f)\n",
    "        X_i = np.expand_dims(X_test[i], axis=0)\n",
    "        # print('X_i[-1]\\n', X_i[0][-1])\n",
    "        \n",
    "        # Predicts the next row 'Clearsky DHI', 'Clearsky DNI', 'Clearsky GHI'\n",
    "        y_i = model.predict(X_i)\n",
    "        # print('y_i\\n',y_i)\n",
    "        \n",
    "        # Update predicted 'Clearsky DHI', 'Clearsky DNI', 'Clearsky GHI' since they are not passed\n",
    "        for j in range(3):\n",
    "            X_test[i+1][-1][j] = y_i[0][j]\n",
    "            # print('X_test[i+1][-1][j]\\n', X_test[i+1][-1][j], ' y_i[0][j]: ', y_i[0][j])\n",
    "        \n",
    "        \n",
    "        # print('X_test[i+1][-1]\\n', X_test[i+1][-1])\n",
    "        # print(X_test[i+1][-1][3:])\n",
    "        \n",
    "        # This trick is used to ensure we are inverse transform. \n",
    "        # Inverse transform needs the same length features which was used for fit/transform\n",
    "        # First 3 values from predict and rest of the values from X[3:]\n",
    "        # Ensure that we pick the next X value and since its a matrix pick the last row [-1]\n",
    "        x_i_pred = np.hstack([y_i[0], X_test[i+1][-1][3:]])\n",
    "        # print('x_i_pred\\n', x_i_pred)\n",
    "        x_i_inv_sc = scalar_std_ts.inverse_transform(x_i_pred)\n",
    "        x_pred.append(list(x_i_inv_sc))\n",
    "        \n",
    "        # Comment this block out\n",
    "        cnt += 1\n",
    "        if cnt > 5:\n",
    "            break\n",
    "\n",
    "    return x_pred\n",
    "    "
   ]
  },
  {
   "cell_type": "code",
   "execution_count": null,
   "id": "221220e9",
   "metadata": {},
   "outputs": [],
   "source": [
    "X_pred = model_predict('data/train.csv', 'data/test.csv', batch_input_len)"
   ]
  },
  {
   "cell_type": "code",
   "execution_count": null,
   "id": "01c866eb",
   "metadata": {},
   "outputs": [],
   "source": [
    "def generate_pred_outputfile(X_pred):\n",
    "    '''This shall generate the output files for submission'''\n",
    "    # est_period=48*365\n",
    "    est_period=len(X_pred)\n",
    "    start_datetime = \"2019-01-01 00:00:00\"\n",
    "    pred_indx = pd.date_range(start=start_datetime, periods=est_period, freq=\"30T\")\n",
    "    y_pred_const = []\n",
    "    for i in range(len(a)):\n",
    "        y_pred_const.append(a[i][0:3])\n",
    "\n",
    "    df_y_pred = pd.DataFrame(data=y_pred_const, index=pred_indx, columns=['Clearsky DHI', 'Clearsky DNI', 'Clearsky GHI'])\n",
    "    df_X_pred = pd.DataFrame(data=a, index=pred_indx, columns=['Clearsky DHI', 'Clearsky DNI', 'Clearsky GHI', \n",
    "                                                               'Temperature', 'Relative Humidity', 'Solar Zenith Angle', \n",
    "                                                               'Precipitable Water', 'ts_Day_sin', 'ts_Day_cos', \n",
    "                                                               'ts_Year_sin', 'ts_Year_cos'])\n",
    "    df_y_pred.to_csv('submission_y_AnilKagita.csv', index=False)\n",
    "    df_y_pred.to_csv('verify_y_AnilKagita.csv', index=True)\n",
    "    df_X_pred.to_csv('verify_x_AnilKagita.csv', index=True)\n",
    "    return df_y_pred, df_X_pred"
   ]
  },
  {
   "cell_type": "code",
   "execution_count": null,
   "id": "c33cd8c1",
   "metadata": {},
   "outputs": [],
   "source": [
    "df_y_pred, df_X_pred = generate_pred_outputfile(X_pred)"
   ]
  },
  {
   "cell_type": "code",
   "execution_count": null,
   "id": "44c4214d",
   "metadata": {},
   "outputs": [],
   "source": [
    "def plot_pred_y(df_y_pred):\n",
    "    plt.figure(figsize=(12, 9))\n",
    "    cnt = 1\n",
    "    for col in df_y_pred.columns:\n",
    "        plt.subplot(3, 1, cnt)\n",
    "        plt.title(col)\n",
    "        plt.plot(df_y_pred[col], label=col)\n",
    "        plt.xticks(rotation=45)\n",
    "        plt.legend(loc='best')\n",
    "        cnt += 1\n",
    "\n",
    "    plt.tight_layout()\n",
    "    plt.show()"
   ]
  },
  {
   "cell_type": "code",
   "execution_count": null,
   "id": "51897944",
   "metadata": {},
   "outputs": [],
   "source": [
    "plot_pred_y(df_y_pred)"
   ]
  },
  {
   "cell_type": "code",
   "execution_count": null,
   "id": "17b262ca",
   "metadata": {},
   "outputs": [],
   "source": []
  },
  {
   "cell_type": "code",
   "execution_count": null,
   "id": "95841d21",
   "metadata": {},
   "outputs": [],
   "source": []
  },
  {
   "cell_type": "code",
   "execution_count": null,
   "id": "98ad2958",
   "metadata": {},
   "outputs": [],
   "source": []
  },
  {
   "cell_type": "code",
   "execution_count": null,
   "id": "8d958535",
   "metadata": {},
   "outputs": [],
   "source": []
  },
  {
   "cell_type": "code",
   "execution_count": 239,
   "id": "fff5e570",
   "metadata": {},
   "outputs": [
    {
     "name": "stdout",
     "output_type": "stream",
     "text": [
      "X_i[-1]\n",
      " [-6.59968704e-04 -3.46991196e-02 -8.28368366e-02  1.04352437e-01\n",
      "  8.87461866e-01  2.61705099e-01  5.14725668e-01 -1.84591911e-01\n",
      "  1.40211477e+00  2.35251224e-03  1.41445850e+00]\n",
      "y_i\n",
      " [[-0.01607201 -0.01058526 -0.07993868]]\n",
      "X_test[i+1][-1][j]\n",
      " -0.01607201062142849  y_i[0][j]:  -0.01607201\n",
      "X_test[i+1][-1][j]\n",
      " -0.010585262440145016  y_i[0][j]:  -0.010585262\n",
      "X_test[i+1][-1][j]\n",
      " -0.07993867993354797  y_i[0][j]:  -0.07993868\n",
      "X_test[i+1][-1]\n",
      " [-1.60720106e-02 -1.05852624e-02 -7.99386799e-02  5.96250708e-02\n",
      "  9.31165096e-01  4.11635235e-01  3.85441085e-01 -7.11253528e-12\n",
      "  1.41421356e+00  2.85932357e-03  1.41445757e+00]\n",
      "x_i_pred\n",
      " [-1.60720106e-02 -1.05852624e-02 -7.99386799e-02  5.96250708e-02\n",
      "  9.31165096e-01  4.11635235e-01  3.85441085e-01 -7.11253528e-12\n",
      "  1.41421356e+00  2.85932357e-03  1.41445757e+00]\n",
      "X_i[-1]\n",
      " [-1.60720106e-02 -1.05852624e-02 -7.99386799e-02  5.96250708e-02\n",
      "  9.31165096e-01  4.11635235e-01  3.85441085e-01 -7.11253528e-12\n",
      "  1.41421356e+00  2.85932357e-03  1.41445757e+00]\n",
      "y_i\n",
      " [[-0.01102245 -0.02138207 -0.07964648]]\n",
      "X_test[i+1][-1][j]\n",
      " -0.011022446677088737  y_i[0][j]:  -0.011022447\n",
      "X_test[i+1][-1][j]\n",
      " -0.02138206921517849  y_i[0][j]:  -0.02138207\n",
      "X_test[i+1][-1][j]\n",
      " -0.07964648306369781  y_i[0][j]:  -0.07964648\n",
      "X_test[i+1][-1]\n",
      " [-0.01102245 -0.02138207 -0.07964648  0.03726139  0.9931627   0.56455898\n",
      "  0.38544108  0.18459191  1.40211477  0.00336613  1.41445645]\n",
      "x_i_pred\n",
      " [-0.01102245 -0.02138207 -0.07964648  0.03726139  0.9931627   0.56455898\n",
      "  0.38544108  0.18459191  1.40211477  0.00336613  1.41445645]\n",
      "X_i[-1]\n",
      " [-0.01102245 -0.02138207 -0.07964648  0.03726139  0.9931627   0.56455898\n",
      "  0.38544108  0.18459191  1.40211477  0.00336613  1.41445645]\n",
      "y_i\n",
      " [[nan nan nan]]\n",
      "X_test[i+1][-1][j]\n",
      " nan  y_i[0][j]:  nan\n",
      "X_test[i+1][-1][j]\n",
      " nan  y_i[0][j]:  nan\n",
      "X_test[i+1][-1][j]\n",
      " nan  y_i[0][j]:  nan\n",
      "X_test[i+1][-1]\n",
      " [       nan        nan        nan 0.02607955 0.96419661 0.71972794\n",
      " 0.38544108 0.3660254  1.3660254  0.00387295 1.41445516]\n",
      "x_i_pred\n",
      " [       nan        nan        nan 0.02607955 0.96419661 0.71972794\n",
      " 0.38544108 0.3660254  1.3660254  0.00387295 1.41445516]\n",
      "X_i[-1]\n",
      " [       nan        nan        nan 0.02607955 0.96419661 0.71972794\n",
      " 0.38544108 0.3660254  1.3660254  0.00387295 1.41445516]\n",
      "y_i\n",
      " [[nan nan nan]]\n",
      "X_test[i+1][-1][j]\n",
      " nan  y_i[0][j]:  nan\n",
      "X_test[i+1][-1][j]\n",
      " nan  y_i[0][j]:  nan\n",
      "X_test[i+1][-1][j]\n",
      " nan  y_i[0][j]:  nan\n",
      "X_test[i+1][-1]\n",
      " [       nan        nan        nan 0.00371586 1.02670239 0.87639371\n",
      " 0.38544108 0.5411961  1.30656296 0.00437976 1.41445368]\n",
      "x_i_pred\n",
      " [       nan        nan        nan 0.00371586 1.02670239 0.87639371\n",
      " 0.38544108 0.5411961  1.30656296 0.00437976 1.41445368]\n",
      "X_i[-1]\n",
      " [       nan        nan        nan 0.00371586 1.02670239 0.87639371\n",
      " 0.38544108 0.5411961  1.30656296 0.00437976 1.41445368]\n",
      "y_i\n",
      " [[nan nan nan]]\n",
      "X_test[i+1][-1][j]\n",
      " nan  y_i[0][j]:  nan\n",
      "X_test[i+1][-1][j]\n",
      " nan  y_i[0][j]:  nan\n",
      "X_test[i+1][-1][j]\n",
      " nan  y_i[0][j]:  nan\n",
      "X_test[i+1][-1]\n",
      " [        nan         nan         nan -0.02982966  1.03330869  1.03455628\n",
      "  0.45008338  0.70710678  1.22474487  0.00488656  1.41445202]\n",
      "x_i_pred\n",
      " [        nan         nan         nan -0.02982966  1.03330869  1.03455628\n",
      "  0.45008338  0.70710678  1.22474487  0.00488656  1.41445202]\n",
      "X_i[-1]\n",
      " [        nan         nan         nan -0.02982966  1.03330869  1.03455628\n",
      "  0.45008338  0.70710678  1.22474487  0.00488656  1.41445202]\n",
      "y_i\n",
      " [[nan nan nan]]\n",
      "X_test[i+1][-1][j]\n",
      " nan  y_i[0][j]:  nan\n",
      "X_test[i+1][-1][j]\n",
      " nan  y_i[0][j]:  nan\n",
      "X_test[i+1][-1][j]\n",
      " nan  y_i[0][j]:  nan\n",
      "X_test[i+1][-1]\n",
      " [        nan         nan         nan -0.0410115   1.04804583  1.19321779\n",
      "  0.51472567  0.86091867  1.12197105  0.00539337  1.41445017]\n",
      "x_i_pred\n",
      " [        nan         nan         nan -0.0410115   1.04804583  1.19321779\n",
      "  0.51472567  0.86091867  1.12197105  0.00539337  1.41445017]\n",
      "[[52.03358373094494, 326.14843309520853, 228.16925952143328, 18.8, 97.7, 106.23, 3.5, -5.030094642409727e-12, 1.0, 0.002021324930284918, 0.9999979571206763], [52.357771914845955, 322.1532932178222, 228.26501362523325, 18.6, 98.92, 112.36, 3.5, 0.13052619221966189, 0.9914448613738617, 0.0023797152497872683, 0.9999971684736562], [nan, nan, nan, 18.5, 98.35, 118.58, 3.5, 0.25881904509256404, 0.9659258262917363, 0.002738105263628894, 0.9999962513827565], [nan, nan, nan, 18.3, 99.58, 124.86, 3.5, 0.3826834323598505, 0.923879532513457, 0.0030964949258335053, 0.9999952058480952], [nan, nan, nan, 18.0, 99.71, 131.2, 3.6, 0.49999999999910455, 0.8660254037849556, 0.003454884190254327, 0.9999940318698066], [nan, nan, nan, 17.9, 100.0, 137.56, 3.7, 0.6087614290000344, 0.7933533402979004, 0.003813273010915163, 0.9999927294480415]]\n"
     ]
    }
   ],
   "source": [
    "cnt = 0\n",
    "x_pred = []\n",
    "for i in range(X_test.shape[0]):\n",
    "    X_i = np.expand_dims(X_test[i], axis=0)\n",
    "    print('X_i[-1]\\n', X_i[0][-1])\n",
    "    y_i = model_lstm1.predict(X_i)\n",
    "    print('y_i\\n',y_i)\n",
    "    for j in range(3):\n",
    "        X_test[i+1][-1][j] = y_i[0][j]\n",
    "        print('X_test[i+1][-1][j]\\n', X_test[i+1][-1][j], ' y_i[0][j]: ', y_i[0][j])\n",
    "    \n",
    "    print('X_test[i+1][-1]\\n', X_test[i+1][-1])\n",
    "    # print(X_test[i+1][-1][3:])\n",
    "    x_i_pred = np.hstack([y_i[0], X_test[i+1][-1][3:]])\n",
    "    print('x_i_pred\\n', x_i_pred)\n",
    "    x_i_inv_sc = scalar_std_ts.inverse_transform(x_i_pred)\n",
    "    x_pred.append(list(x_i_inv_sc))\n",
    "    cnt += 1\n",
    "    if cnt > 5:\n",
    "        break\n",
    "\n",
    "print(x_pred)"
   ]
  },
  {
   "cell_type": "code",
   "execution_count": 4,
   "id": "525d2a10",
   "metadata": {},
   "outputs": [],
   "source": [
    "a = [[-6.59968704e-04, -3.46991196e-02, -8.28368366e-02,  1.04352437e-01,\n",
    "  8.87461866e-01,  2.61705099e-01,  5.14725668e-01, -1.84591911e-01,\n",
    "  1.40211477e+00,  2.35251224e-03,  1.41445850e+00], [-1.60720106e-02, -1.05852624e-02, -7.99386799e-02,  5.96250708e-02,\n",
    "  9.31165096e-01,  4.11635235e-01,  3.85441085e-01, -7.11253528e-12,\n",
    "  1.41421356e+00,  2.85932357e-03,  1.41445757e+00], [-0.01102245, -0.02138207, -0.07964648,  0.03726139,  0.9931627,   0.56455898,\n",
    "  0.38544108,  0.18459191,  1.40211477,  0.00336613,  1.41445645]]"
   ]
  },
  {
   "cell_type": "code",
   "execution_count": 9,
   "id": "15351320",
   "metadata": {},
   "outputs": [
    {
     "data": {
      "text/plain": [
       "(3, 11)"
      ]
     },
     "execution_count": 9,
     "metadata": {},
     "output_type": "execute_result"
    }
   ],
   "source": [
    "np.array(a).shape"
   ]
  },
  {
   "cell_type": "code",
   "execution_count": 25,
   "id": "38dcbac9",
   "metadata": {},
   "outputs": [],
   "source": [
    "# est_period=48*365\n",
    "est_period=3\n",
    "start_datetime = \"2019-01-01 00:00:00\"\n",
    "pred_indx = pd.date_range(start=start_datetime, periods=est_period, freq=\"30T\")"
   ]
  },
  {
   "cell_type": "code",
   "execution_count": 28,
   "id": "797c7063",
   "metadata": {},
   "outputs": [
    {
     "data": {
      "text/plain": [
       "3"
      ]
     },
     "execution_count": 28,
     "metadata": {},
     "output_type": "execute_result"
    }
   ],
   "source": [
    "len(a)"
   ]
  },
  {
   "cell_type": "code",
   "execution_count": 35,
   "id": "2aa96f30",
   "metadata": {},
   "outputs": [
    {
     "data": {
      "text/plain": [
       "[[-0.000659968704, -0.0346991196, -0.0828368366],\n",
       " [-0.0160720106, -0.0105852624, -0.0799386799],\n",
       " [-0.01102245, -0.02138207, -0.07964648]]"
      ]
     },
     "execution_count": 35,
     "metadata": {},
     "output_type": "execute_result"
    }
   ],
   "source": [
    "y_pred_const = []\n",
    "for i in range(len(a)):\n",
    "    y_pred_const.append(a[i][0:3])\n",
    "    \n",
    "y_pred_const"
   ]
  },
  {
   "cell_type": "code",
   "execution_count": 38,
   "id": "bb3a8a1f",
   "metadata": {},
   "outputs": [],
   "source": [
    "df_y_pred = pd.DataFrame(data=y_pred_const, index=pred_indx, columns=['Clearsky DHI', 'Clearsky DNI', 'Clearsky GHI'])"
   ]
  },
  {
   "cell_type": "code",
   "execution_count": 39,
   "id": "ee3f3978",
   "metadata": {},
   "outputs": [],
   "source": [
    "df_X_pred = pd.DataFrame(data=a, index=pred_indx, columns=['Clearsky DHI', 'Clearsky DNI', 'Clearsky GHI', \n",
    "             'Temperature', 'Relative Humidity', 'Solar Zenith Angle', \n",
    "             'Precipitable Water', 'ts_Day_sin', 'ts_Day_cos', \n",
    "             'ts_Year_sin', 'ts_Year_cos'])"
   ]
  },
  {
   "cell_type": "code",
   "execution_count": 40,
   "id": "1015e1c6",
   "metadata": {},
   "outputs": [],
   "source": [
    "df_y_pred.to_csv('submission_AnilKagita.csv')\n",
    "df_X_pred.to_csv('verity_AnilKagita.csv')"
   ]
  },
  {
   "cell_type": "code",
   "execution_count": 44,
   "id": "2334b3b2",
   "metadata": {},
   "outputs": [
    {
     "data": {
      "image/png": "[encoded data removed]",
      "text/plain": [
       "<Figure size 864x648 with 3 Axes>"
      ]
     },
     "metadata": {
      "needs_background": "light"
     },
     "output_type": "display_data"
    }
   ],
   "source": [
    "plt.figure(figsize=(12, 9))\n",
    "cnt = 1\n",
    "for col in df_y_pred.columns:\n",
    "    plt.subplot(3, 1, cnt)\n",
    "    plt.title(col)\n",
    "    plt.plot(df_y_pred[col], label=col)\n",
    "    plt.xticks(rotation=45)\n",
    "    plt.legend(loc='best')\n",
    "    cnt += 1\n",
    "\n",
    "plt.tight_layout()\n",
    "plt.show()"
   ]
  },
  {
   "cell_type": "code",
   "execution_count": null,
   "id": "1e40b1f6",
   "metadata": {},
   "outputs": [],
   "source": []
  },
  {
   "cell_type": "code",
   "execution_count": null,
   "id": "0c9715ea",
   "metadata": {},
   "outputs": [],
   "source": []
  },
  {
   "cell_type": "code",
   "execution_count": null,
   "id": "f1dd1978",
   "metadata": {},
   "outputs": [],
   "source": []
  },
  {
   "cell_type": "markdown",
   "id": "a6e8e402",
   "metadata": {},
   "source": [
    "### Scaling the Updated Data"
   ]
  },
  {
   "cell_type": "code",
   "execution_count": null,
   "id": "5893a953",
   "metadata": {},
   "outputs": [],
   "source": [
    "scalar_std = StandardScaler()\n",
    "scalar_std = scalar_std.fit(df_solar)\n",
    "df_solar_sc = pd.DataFrame(data=scalar_std.transform(df_solar), index=df_solar.index,  columns=df_solar.columns)\n",
    "df_solar_sc.sample(2)"
   ]
  },
  {
   "cell_type": "code",
   "execution_count": null,
   "id": "5f0a28d5",
   "metadata": {},
   "outputs": [],
   "source": []
  },
  {
   "cell_type": "code",
   "execution_count": null,
   "id": "2fce31e1",
   "metadata": {},
   "outputs": [],
   "source": []
  },
  {
   "cell_type": "code",
   "execution_count": null,
   "id": "9e28e8e8",
   "metadata": {},
   "outputs": [],
   "source": []
  },
  {
   "cell_type": "code",
   "execution_count": null,
   "id": "e52be874",
   "metadata": {},
   "outputs": [],
   "source": []
  },
  {
   "cell_type": "code",
   "execution_count": null,
   "id": "9e00705c",
   "metadata": {},
   "outputs": [],
   "source": []
  },
  {
   "cell_type": "code",
   "execution_count": null,
   "id": "5ec811e0",
   "metadata": {},
   "outputs": [],
   "source": []
  },
  {
   "cell_type": "markdown",
   "id": "61db1987",
   "metadata": {},
   "source": [
    "### Data Generation"
   ]
  },
  {
   "cell_type": "code",
   "execution_count": null,
   "id": "a3d64db6",
   "metadata": {},
   "outputs": [],
   "source": [
    "from tensorflow.keras.preprocessing.sequence import TimeseriesGenerator"
   ]
  },
  {
   "cell_type": "code",
   "execution_count": null,
   "id": "4a6b6654",
   "metadata": {},
   "outputs": [],
   "source": [
    "# # Take only one weeks data for completing the process\n",
    "# # total_length = 17520*2\n",
    "# total_length = df_solar_sc.shape[0]"
   ]
  },
  {
   "cell_type": "code",
   "execution_count": null,
   "id": "16414d53",
   "metadata": {},
   "outputs": [],
   "source": [
    "\n"
   ]
  },
  {
   "cell_type": "markdown",
   "id": "a8af4c1c",
   "metadata": {},
   "source": [
    "### Model Building"
   ]
  },
  {
   "cell_type": "code",
   "execution_count": null,
   "id": "457b5016",
   "metadata": {},
   "outputs": [],
   "source": []
  },
  {
   "cell_type": "code",
   "execution_count": null,
   "id": "ff6f1a82",
   "metadata": {},
   "outputs": [],
   "source": []
  },
  {
   "cell_type": "code",
   "execution_count": null,
   "id": "e4da2478",
   "metadata": {},
   "outputs": [],
   "source": []
  },
  {
   "cell_type": "code",
   "execution_count": null,
   "id": "512beeee",
   "metadata": {},
   "outputs": [],
   "source": []
  },
  {
   "cell_type": "code",
   "execution_count": null,
   "id": "9d516d2d",
   "metadata": {},
   "outputs": [],
   "source": []
  },
  {
   "cell_type": "code",
   "execution_count": null,
   "id": "057b21e0",
   "metadata": {},
   "outputs": [],
   "source": [
    "model_lstm1.load_weights('best_model_lstm1.h5')"
   ]
  },
  {
   "cell_type": "code",
   "execution_count": null,
   "id": "19e55c32",
   "metadata": {},
   "outputs": [],
   "source": []
  },
  {
   "cell_type": "code",
   "execution_count": null,
   "id": "24222842",
   "metadata": {},
   "outputs": [],
   "source": []
  },
  {
   "cell_type": "markdown",
   "id": "3831daa0",
   "metadata": {},
   "source": [
    "##### Inverse Scaling the data"
   ]
  },
  {
   "cell_type": "code",
   "execution_count": null,
   "id": "704ff87c",
   "metadata": {},
   "outputs": [],
   "source": [
    "plt.figure(figsize=(12, 9))\n",
    "cnt = 1\n",
    "for col in df_solar_pred.columns:\n",
    "    plt.subplot(3, 1, cnt)\n",
    "    plt.plot(df_solar_train[col], label='train')\n",
    "    plt.plot(df_solar_test[col], label='test')\n",
    "    plt.plot(df_solar_pred[col], label='Pred')\n",
    "    plt.xticks(rotation=45)\n",
    "    plt.legend(loc='best')\n",
    "    cnt += 1\n",
    "\n",
    "plt.tight_layout()\n",
    "plt.show()"
   ]
  },
  {
   "cell_type": "markdown",
   "id": "5c131f78",
   "metadata": {},
   "source": [
    "### Predicting for Future (Forecasting)"
   ]
  },
  {
   "cell_type": "code",
   "execution_count": null,
   "id": "96c0a993",
   "metadata": {},
   "outputs": [],
   "source": []
  }
 ],
 "metadata": {
  "kernelspec": {
   "display_name": "Python 3",
   "language": "python",
   "name": "python3"
  },
  "language_info": {
   "codemirror_mode": {
    "name": "ipython",
    "version": 3
   },
   "file_extension": ".py",
   "mimetype": "text/x-python",
   "name": "python",
   "nbconvert_exporter": "python",
   "pygments_lexer": "ipython3",
   "version": "3.9.4"
  }
 },
 "nbformat": 4,
 "nbformat_minor": 5
}
