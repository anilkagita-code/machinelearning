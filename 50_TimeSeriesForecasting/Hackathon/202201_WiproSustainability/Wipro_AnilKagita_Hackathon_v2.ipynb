{
 "cells": [
  {
   "cell_type": "code",
   "execution_count": 1,
   "id": "c37f76af",
   "metadata": {},
   "outputs": [],
   "source": [
    "import tensorflow as tf\n",
    "gpus = tf.config.experimental.list_physical_devices('GPU')\n",
    "for gpu in gpus:\n",
    "    tf.config.experimental.set_memory_growth(gpu, enable=True)"
   ]
  },
  {
   "cell_type": "code",
   "execution_count": 2,
   "id": "ae762ea0",
   "metadata": {},
   "outputs": [],
   "source": [
    "import numpy as np\n",
    "import pandas as pd\n",
    "import matplotlib.pyplot as plt\n"
   ]
  },
  {
   "cell_type": "markdown",
   "id": "953ecc6d",
   "metadata": {},
   "source": [
    "### Reading the data converting into TimeSeries format"
   ]
  },
  {
   "cell_type": "code",
   "execution_count": 3,
   "id": "82594b9d",
   "metadata": {},
   "outputs": [
    {
     "data": {
      "text/html": [
       "<div>\n",
       "<style scoped>\n",
       "    .dataframe tbody tr th:only-of-type {\n",
       "        vertical-align: middle;\n",
       "    }\n",
       "\n",
       "    .dataframe tbody tr th {\n",
       "        vertical-align: top;\n",
       "    }\n",
       "\n",
       "    .dataframe thead th {\n",
       "        text-align: right;\n",
       "    }\n",
       "</style>\n",
       "<table border=\"1\" class=\"dataframe\">\n",
       "  <thead>\n",
       "    <tr style=\"text-align: right;\">\n",
       "      <th></th>\n",
       "      <th>Clearsky DHI</th>\n",
       "      <th>Clearsky DNI</th>\n",
       "      <th>Clearsky GHI</th>\n",
       "      <th>Cloud Type</th>\n",
       "      <th>Dew Point</th>\n",
       "      <th>Temperature</th>\n",
       "      <th>Pressure</th>\n",
       "      <th>Relative Humidity</th>\n",
       "      <th>Solar Zenith Angle</th>\n",
       "      <th>Precipitable Water</th>\n",
       "      <th>Wind Direction</th>\n",
       "      <th>Wind Speed</th>\n",
       "      <th>Fill Flag</th>\n",
       "    </tr>\n",
       "    <tr>\n",
       "      <th>Date</th>\n",
       "      <th></th>\n",
       "      <th></th>\n",
       "      <th></th>\n",
       "      <th></th>\n",
       "      <th></th>\n",
       "      <th></th>\n",
       "      <th></th>\n",
       "      <th></th>\n",
       "      <th></th>\n",
       "      <th></th>\n",
       "      <th></th>\n",
       "      <th></th>\n",
       "      <th></th>\n",
       "    </tr>\n",
       "  </thead>\n",
       "  <tbody>\n",
       "    <tr>\n",
       "      <th>2018-10-27 21:00:00</th>\n",
       "      <td>80</td>\n",
       "      <td>687</td>\n",
       "      <td>324</td>\n",
       "      <td>0</td>\n",
       "      <td>9.0</td>\n",
       "      <td>18.7</td>\n",
       "      <td>1002</td>\n",
       "      <td>53.12</td>\n",
       "      <td>69.24</td>\n",
       "      <td>1.600</td>\n",
       "      <td>294.0</td>\n",
       "      <td>4.5</td>\n",
       "      <td>0</td>\n",
       "    </tr>\n",
       "    <tr>\n",
       "      <th>2010-04-30 21:30:00</th>\n",
       "      <td>176</td>\n",
       "      <td>543</td>\n",
       "      <td>477</td>\n",
       "      <td>3</td>\n",
       "      <td>21.0</td>\n",
       "      <td>24.0</td>\n",
       "      <td>1000</td>\n",
       "      <td>83.82</td>\n",
       "      <td>56.31</td>\n",
       "      <td>4.415</td>\n",
       "      <td>175.4</td>\n",
       "      <td>2.7</td>\n",
       "      <td>0</td>\n",
       "    </tr>\n",
       "    <tr>\n",
       "      <th>2016-06-27 17:30:00</th>\n",
       "      <td>209</td>\n",
       "      <td>763</td>\n",
       "      <td>964</td>\n",
       "      <td>0</td>\n",
       "      <td>21.0</td>\n",
       "      <td>34.0</td>\n",
       "      <td>1000</td>\n",
       "      <td>50.71</td>\n",
       "      <td>8.78</td>\n",
       "      <td>4.314</td>\n",
       "      <td>88.3</td>\n",
       "      <td>0.7</td>\n",
       "      <td>0</td>\n",
       "    </tr>\n",
       "    <tr>\n",
       "      <th>2013-12-20 16:00:00</th>\n",
       "      <td>87</td>\n",
       "      <td>838</td>\n",
       "      <td>511</td>\n",
       "      <td>3</td>\n",
       "      <td>12.0</td>\n",
       "      <td>16.0</td>\n",
       "      <td>1010</td>\n",
       "      <td>77.52</td>\n",
       "      <td>59.60</td>\n",
       "      <td>1.679</td>\n",
       "      <td>153.5</td>\n",
       "      <td>1.7</td>\n",
       "      <td>0</td>\n",
       "    </tr>\n",
       "    <tr>\n",
       "      <th>2012-02-17 06:00:00</th>\n",
       "      <td>0</td>\n",
       "      <td>0</td>\n",
       "      <td>0</td>\n",
       "      <td>6</td>\n",
       "      <td>13.0</td>\n",
       "      <td>13.0</td>\n",
       "      <td>1000</td>\n",
       "      <td>100.00</td>\n",
       "      <td>160.18</td>\n",
       "      <td>2.469</td>\n",
       "      <td>353.4</td>\n",
       "      <td>1.4</td>\n",
       "      <td>0</td>\n",
       "    </tr>\n",
       "  </tbody>\n",
       "</table>\n",
       "</div>"
      ],
      "text/plain": [
       "                     Clearsky DHI  Clearsky DNI  Clearsky GHI  Cloud Type  \\\n",
       "Date                                                                        \n",
       "2018-10-27 21:00:00            80           687           324           0   \n",
       "2010-04-30 21:30:00           176           543           477           3   \n",
       "2016-06-27 17:30:00           209           763           964           0   \n",
       "2013-12-20 16:00:00            87           838           511           3   \n",
       "2012-02-17 06:00:00             0             0             0           6   \n",
       "\n",
       "                     Dew Point  Temperature  Pressure  Relative Humidity  \\\n",
       "Date                                                                       \n",
       "2018-10-27 21:00:00        9.0         18.7      1002              53.12   \n",
       "2010-04-30 21:30:00       21.0         24.0      1000              83.82   \n",
       "2016-06-27 17:30:00       21.0         34.0      1000              50.71   \n",
       "2013-12-20 16:00:00       12.0         16.0      1010              77.52   \n",
       "2012-02-17 06:00:00       13.0         13.0      1000             100.00   \n",
       "\n",
       "                     Solar Zenith Angle  Precipitable Water  Wind Direction  \\\n",
       "Date                                                                          \n",
       "2018-10-27 21:00:00               69.24               1.600           294.0   \n",
       "2010-04-30 21:30:00               56.31               4.415           175.4   \n",
       "2016-06-27 17:30:00                8.78               4.314            88.3   \n",
       "2013-12-20 16:00:00               59.60               1.679           153.5   \n",
       "2012-02-17 06:00:00              160.18               2.469           353.4   \n",
       "\n",
       "                     Wind Speed  Fill Flag  \n",
       "Date                                        \n",
       "2018-10-27 21:00:00         4.5          0  \n",
       "2010-04-30 21:30:00         2.7          0  \n",
       "2016-06-27 17:30:00         0.7          0  \n",
       "2013-12-20 16:00:00         1.7          0  \n",
       "2012-02-17 06:00:00         1.4          0  "
      ]
     },
     "execution_count": 3,
     "metadata": {},
     "output_type": "execute_result"
    }
   ],
   "source": [
    "# Reading and creating a timeseries dataset\n",
    "df_solar = pd.read_csv('data/train.csv')\n",
    "df_solar.insert(loc=0, column='Date', \n",
    "                value=pd.to_datetime(df_solar[['Year', 'Month', 'Day', 'Hour', 'Minute']]))\n",
    "df_solar.drop(columns=['Year', 'Month', 'Day', 'Hour', 'Minute'], axis=1, inplace=True)\n",
    "df_solar.set_index(keys='Date', inplace=True)\n",
    "df_solar.sample(5)"
   ]
  },
  {
   "cell_type": "code",
   "execution_count": 4,
   "id": "d1833ac9",
   "metadata": {},
   "outputs": [
    {
     "data": {
      "text/html": [
       "<div>\n",
       "<style scoped>\n",
       "    .dataframe tbody tr th:only-of-type {\n",
       "        vertical-align: middle;\n",
       "    }\n",
       "\n",
       "    .dataframe tbody tr th {\n",
       "        vertical-align: top;\n",
       "    }\n",
       "\n",
       "    .dataframe thead th {\n",
       "        text-align: right;\n",
       "    }\n",
       "</style>\n",
       "<table border=\"1\" class=\"dataframe\">\n",
       "  <thead>\n",
       "    <tr style=\"text-align: right;\">\n",
       "      <th></th>\n",
       "      <th>Cloud Type</th>\n",
       "      <th>Dew Point</th>\n",
       "      <th>Temperature</th>\n",
       "      <th>Pressure</th>\n",
       "      <th>Relative Humidity</th>\n",
       "      <th>Solar Zenith Angle</th>\n",
       "      <th>Precipitable Water</th>\n",
       "      <th>Wind Direction</th>\n",
       "      <th>Wind Speed</th>\n",
       "      <th>Fill Flag</th>\n",
       "      <th>Clearsky DHI</th>\n",
       "      <th>Clearsky DNI</th>\n",
       "      <th>Clearsky GHI</th>\n",
       "    </tr>\n",
       "    <tr>\n",
       "      <th>Date</th>\n",
       "      <th></th>\n",
       "      <th></th>\n",
       "      <th></th>\n",
       "      <th></th>\n",
       "      <th></th>\n",
       "      <th></th>\n",
       "      <th></th>\n",
       "      <th></th>\n",
       "      <th></th>\n",
       "      <th></th>\n",
       "      <th></th>\n",
       "      <th></th>\n",
       "      <th></th>\n",
       "    </tr>\n",
       "  </thead>\n",
       "  <tbody>\n",
       "    <tr>\n",
       "      <th>2019-08-30 06:30:00</th>\n",
       "      <td>0</td>\n",
       "      <td>15.9</td>\n",
       "      <td>20.7</td>\n",
       "      <td>1006</td>\n",
       "      <td>73.93</td>\n",
       "      <td>137.08</td>\n",
       "      <td>2.0</td>\n",
       "      <td>72</td>\n",
       "      <td>1.7</td>\n",
       "      <td>0</td>\n",
       "      <td>NaN</td>\n",
       "      <td>NaN</td>\n",
       "      <td>NaN</td>\n",
       "    </tr>\n",
       "    <tr>\n",
       "      <th>2019-10-05 05:30:00</th>\n",
       "      <td>7</td>\n",
       "      <td>17.7</td>\n",
       "      <td>27.2</td>\n",
       "      <td>1004</td>\n",
       "      <td>56.16</td>\n",
       "      <td>152.73</td>\n",
       "      <td>3.7</td>\n",
       "      <td>178</td>\n",
       "      <td>2.0</td>\n",
       "      <td>0</td>\n",
       "      <td>NaN</td>\n",
       "      <td>NaN</td>\n",
       "      <td>NaN</td>\n",
       "    </tr>\n",
       "    <tr>\n",
       "      <th>2019-04-18 11:00:00</th>\n",
       "      <td>0</td>\n",
       "      <td>15.9</td>\n",
       "      <td>15.9</td>\n",
       "      <td>1005</td>\n",
       "      <td>100.00</td>\n",
       "      <td>91.57</td>\n",
       "      <td>2.1</td>\n",
       "      <td>157</td>\n",
       "      <td>1.8</td>\n",
       "      <td>0</td>\n",
       "      <td>NaN</td>\n",
       "      <td>NaN</td>\n",
       "      <td>NaN</td>\n",
       "    </tr>\n",
       "    <tr>\n",
       "      <th>2019-07-20 16:30:00</th>\n",
       "      <td>0</td>\n",
       "      <td>22.6</td>\n",
       "      <td>31.3</td>\n",
       "      <td>1008</td>\n",
       "      <td>59.83</td>\n",
       "      <td>19.58</td>\n",
       "      <td>4.9</td>\n",
       "      <td>221</td>\n",
       "      <td>3.0</td>\n",
       "      <td>0</td>\n",
       "      <td>NaN</td>\n",
       "      <td>NaN</td>\n",
       "      <td>NaN</td>\n",
       "    </tr>\n",
       "    <tr>\n",
       "      <th>2019-01-11 11:30:00</th>\n",
       "      <td>0</td>\n",
       "      <td>-1.2</td>\n",
       "      <td>-1.2</td>\n",
       "      <td>1014</td>\n",
       "      <td>100.00</td>\n",
       "      <td>103.98</td>\n",
       "      <td>0.8</td>\n",
       "      <td>48</td>\n",
       "      <td>1.9</td>\n",
       "      <td>0</td>\n",
       "      <td>NaN</td>\n",
       "      <td>NaN</td>\n",
       "      <td>NaN</td>\n",
       "    </tr>\n",
       "  </tbody>\n",
       "</table>\n",
       "</div>"
      ],
      "text/plain": [
       "                     Cloud Type  Dew Point  Temperature  Pressure  \\\n",
       "Date                                                                \n",
       "2019-08-30 06:30:00           0       15.9         20.7      1006   \n",
       "2019-10-05 05:30:00           7       17.7         27.2      1004   \n",
       "2019-04-18 11:00:00           0       15.9         15.9      1005   \n",
       "2019-07-20 16:30:00           0       22.6         31.3      1008   \n",
       "2019-01-11 11:30:00           0       -1.2         -1.2      1014   \n",
       "\n",
       "                     Relative Humidity  Solar Zenith Angle  \\\n",
       "Date                                                         \n",
       "2019-08-30 06:30:00              73.93              137.08   \n",
       "2019-10-05 05:30:00              56.16              152.73   \n",
       "2019-04-18 11:00:00             100.00               91.57   \n",
       "2019-07-20 16:30:00              59.83               19.58   \n",
       "2019-01-11 11:30:00             100.00              103.98   \n",
       "\n",
       "                     Precipitable Water  Wind Direction  Wind Speed  \\\n",
       "Date                                                                  \n",
       "2019-08-30 06:30:00                 2.0              72         1.7   \n",
       "2019-10-05 05:30:00                 3.7             178         2.0   \n",
       "2019-04-18 11:00:00                 2.1             157         1.8   \n",
       "2019-07-20 16:30:00                 4.9             221         3.0   \n",
       "2019-01-11 11:30:00                 0.8              48         1.9   \n",
       "\n",
       "                     Fill Flag  Clearsky DHI  Clearsky DNI  Clearsky GHI  \n",
       "Date                                                                      \n",
       "2019-08-30 06:30:00          0           NaN           NaN           NaN  \n",
       "2019-10-05 05:30:00          0           NaN           NaN           NaN  \n",
       "2019-04-18 11:00:00          0           NaN           NaN           NaN  \n",
       "2019-07-20 16:30:00          0           NaN           NaN           NaN  \n",
       "2019-01-11 11:30:00          0           NaN           NaN           NaN  "
      ]
     },
     "execution_count": 4,
     "metadata": {},
     "output_type": "execute_result"
    }
   ],
   "source": [
    "# Reading the test dataset as Val\n",
    "# Train dataset shall be split into Train and Test\n",
    "# Val is read to understand the data and null values\n",
    "df_solar_val = pd.read_csv('data/test.csv')\n",
    "df_solar_val.insert(loc=0, column='Date', \n",
    "                value=pd.to_datetime(df_solar_val[['Year', 'Month', 'Day', 'Hour', 'Minute']]))\n",
    "df_solar_val.drop(columns=['Year', 'Month', 'Day', 'Hour', 'Minute'], axis=1, inplace=True)\n",
    "df_solar_val.set_index(keys='Date', inplace=True)\n",
    "df_solar_val.sample(5)"
   ]
  },
  {
   "cell_type": "markdown",
   "id": "e5253a45",
   "metadata": {},
   "source": [
    "### Data Check"
   ]
  },
  {
   "cell_type": "markdown",
   "id": "ce54a650",
   "metadata": {},
   "source": [
    "##### Null Check"
   ]
  },
  {
   "cell_type": "code",
   "execution_count": 5,
   "id": "ce0886b6",
   "metadata": {},
   "outputs": [
    {
     "data": {
      "text/plain": [
       "Clearsky DHI          0\n",
       "Clearsky DNI          0\n",
       "Clearsky GHI          0\n",
       "Cloud Type            0\n",
       "Dew Point             0\n",
       "Temperature           0\n",
       "Pressure              0\n",
       "Relative Humidity     0\n",
       "Solar Zenith Angle    0\n",
       "Precipitable Water    0\n",
       "Wind Direction        0\n",
       "Wind Speed            0\n",
       "Fill Flag             0\n",
       "dtype: int64"
      ]
     },
     "execution_count": 5,
     "metadata": {},
     "output_type": "execute_result"
    }
   ],
   "source": [
    "df_solar.isnull().sum()"
   ]
  },
  {
   "cell_type": "markdown",
   "id": "7ffa4e68",
   "metadata": {},
   "source": [
    "##### Datatype Check anc convert to floats to run tensorflow code"
   ]
  },
  {
   "cell_type": "code",
   "execution_count": 6,
   "id": "808f0a01",
   "metadata": {},
   "outputs": [
    {
     "name": "stdout",
     "output_type": "stream",
     "text": [
      "<class 'pandas.core.frame.DataFrame'>\n",
      "DatetimeIndex: 175296 entries, 2009-01-01 00:00:00 to 2018-12-31 23:30:00\n",
      "Data columns (total 13 columns):\n",
      " #   Column              Non-Null Count   Dtype  \n",
      "---  ------              --------------   -----  \n",
      " 0   Clearsky DHI        175296 non-null  int64  \n",
      " 1   Clearsky DNI        175296 non-null  int64  \n",
      " 2   Clearsky GHI        175296 non-null  int64  \n",
      " 3   Cloud Type          175296 non-null  int64  \n",
      " 4   Dew Point           175296 non-null  float64\n",
      " 5   Temperature         175296 non-null  float64\n",
      " 6   Pressure            175296 non-null  int64  \n",
      " 7   Relative Humidity   175296 non-null  float64\n",
      " 8   Solar Zenith Angle  175296 non-null  float64\n",
      " 9   Precipitable Water  175296 non-null  float64\n",
      " 10  Wind Direction      175296 non-null  float64\n",
      " 11  Wind Speed          175296 non-null  float64\n",
      " 12  Fill Flag           175296 non-null  int64  \n",
      "dtypes: float64(7), int64(6)\n",
      "memory usage: 18.7 MB\n"
     ]
    }
   ],
   "source": [
    "df_solar.info()"
   ]
  },
  {
   "cell_type": "code",
   "execution_count": 7,
   "id": "cbce0d2c",
   "metadata": {},
   "outputs": [],
   "source": [
    "def into_to_float(df):\n",
    "    for col in df.columns:\n",
    "        if df[col].dtype == np.int64:\n",
    "            df[col] = df[col].astype(np.float64)\n",
    "    return df"
   ]
  },
  {
   "cell_type": "code",
   "execution_count": 8,
   "id": "d40f1d65",
   "metadata": {},
   "outputs": [
    {
     "name": "stdout",
     "output_type": "stream",
     "text": [
      "<class 'pandas.core.frame.DataFrame'>\n",
      "DatetimeIndex: 175296 entries, 2009-01-01 00:00:00 to 2018-12-31 23:30:00\n",
      "Data columns (total 13 columns):\n",
      " #   Column              Non-Null Count   Dtype  \n",
      "---  ------              --------------   -----  \n",
      " 0   Clearsky DHI        175296 non-null  float64\n",
      " 1   Clearsky DNI        175296 non-null  float64\n",
      " 2   Clearsky GHI        175296 non-null  float64\n",
      " 3   Cloud Type          175296 non-null  float64\n",
      " 4   Dew Point           175296 non-null  float64\n",
      " 5   Temperature         175296 non-null  float64\n",
      " 6   Pressure            175296 non-null  float64\n",
      " 7   Relative Humidity   175296 non-null  float64\n",
      " 8   Solar Zenith Angle  175296 non-null  float64\n",
      " 9   Precipitable Water  175296 non-null  float64\n",
      " 10  Wind Direction      175296 non-null  float64\n",
      " 11  Wind Speed          175296 non-null  float64\n",
      " 12  Fill Flag           175296 non-null  float64\n",
      "dtypes: float64(13)\n",
      "memory usage: 18.7 MB\n"
     ]
    }
   ],
   "source": [
    "df_solar = into_to_float(df_solar)\n",
    "df_solar.info()"
   ]
  },
  {
   "cell_type": "code",
   "execution_count": 9,
   "id": "6a076c35",
   "metadata": {},
   "outputs": [
    {
     "data": {
      "text/plain": [
       "(175296, 13)"
      ]
     },
     "execution_count": 9,
     "metadata": {},
     "output_type": "execute_result"
    }
   ],
   "source": [
    "df_solar.shape"
   ]
  },
  {
   "cell_type": "markdown",
   "id": "b3908876",
   "metadata": {},
   "source": [
    "### Scaling of Data"
   ]
  },
  {
   "cell_type": "code",
   "execution_count": 10,
   "id": "a5e5faec",
   "metadata": {},
   "outputs": [],
   "source": [
    "from sklearn.preprocessing import StandardScaler"
   ]
  },
  {
   "cell_type": "code",
   "execution_count": 11,
   "id": "def97f55",
   "metadata": {},
   "outputs": [],
   "source": [
    "scalar_std = StandardScaler()"
   ]
  },
  {
   "cell_type": "markdown",
   "id": "f661942c",
   "metadata": {},
   "source": [
    "##### Small trick to ensure we can perform inverse transform"
   ]
  },
  {
   "cell_type": "code",
   "execution_count": 12,
   "id": "30fb8245",
   "metadata": {},
   "outputs": [],
   "source": [
    "scalar_std = scalar_std.fit(df_solar)"
   ]
  },
  {
   "cell_type": "code",
   "execution_count": 13,
   "id": "e35b8644",
   "metadata": {},
   "outputs": [
    {
     "data": {
      "text/plain": [
       "(175296, 13)"
      ]
     },
     "execution_count": 13,
     "metadata": {},
     "output_type": "execute_result"
    }
   ],
   "source": [
    "df_solar.shape"
   ]
  },
  {
   "cell_type": "code",
   "execution_count": 14,
   "id": "31e753e5",
   "metadata": {},
   "outputs": [
    {
     "data": {
      "text/html": [
       "<div>\n",
       "<style scoped>\n",
       "    .dataframe tbody tr th:only-of-type {\n",
       "        vertical-align: middle;\n",
       "    }\n",
       "\n",
       "    .dataframe tbody tr th {\n",
       "        vertical-align: top;\n",
       "    }\n",
       "\n",
       "    .dataframe thead th {\n",
       "        text-align: right;\n",
       "    }\n",
       "</style>\n",
       "<table border=\"1\" class=\"dataframe\">\n",
       "  <thead>\n",
       "    <tr style=\"text-align: right;\">\n",
       "      <th></th>\n",
       "      <th>Clearsky DHI</th>\n",
       "      <th>Clearsky DNI</th>\n",
       "      <th>Clearsky GHI</th>\n",
       "      <th>Cloud Type</th>\n",
       "      <th>Dew Point</th>\n",
       "      <th>Temperature</th>\n",
       "      <th>Pressure</th>\n",
       "      <th>Relative Humidity</th>\n",
       "      <th>Solar Zenith Angle</th>\n",
       "      <th>Precipitable Water</th>\n",
       "      <th>Wind Direction</th>\n",
       "      <th>Wind Speed</th>\n",
       "      <th>Fill Flag</th>\n",
       "    </tr>\n",
       "    <tr>\n",
       "      <th>Date</th>\n",
       "      <th></th>\n",
       "      <th></th>\n",
       "      <th></th>\n",
       "      <th></th>\n",
       "      <th></th>\n",
       "      <th></th>\n",
       "      <th></th>\n",
       "      <th></th>\n",
       "      <th></th>\n",
       "      <th></th>\n",
       "      <th></th>\n",
       "      <th></th>\n",
       "      <th></th>\n",
       "    </tr>\n",
       "  </thead>\n",
       "  <tbody>\n",
       "    <tr>\n",
       "      <th>2014-06-19 21:30:00</th>\n",
       "      <td>1.136031</td>\n",
       "      <td>1.010553</td>\n",
       "      <td>0.941809</td>\n",
       "      <td>-0.840696</td>\n",
       "      <td>1.029134</td>\n",
       "      <td>1.311991</td>\n",
       "      <td>-0.536619</td>\n",
       "      <td>-0.725492</td>\n",
       "      <td>-0.948463</td>\n",
       "      <td>0.755195</td>\n",
       "      <td>-0.021995</td>\n",
       "      <td>-0.907148</td>\n",
       "      <td>-0.112603</td>\n",
       "    </tr>\n",
       "    <tr>\n",
       "      <th>2012-01-10 17:00:00</th>\n",
       "      <td>1.073727</td>\n",
       "      <td>1.197025</td>\n",
       "      <td>0.957066</td>\n",
       "      <td>1.144829</td>\n",
       "      <td>-0.068860</td>\n",
       "      <td>0.193807</td>\n",
       "      <td>-0.536619</td>\n",
       "      <td>-0.705165</td>\n",
       "      <td>-0.871876</td>\n",
       "      <td>-0.028916</td>\n",
       "      <td>-0.040174</td>\n",
       "      <td>0.341001</td>\n",
       "      <td>-0.112603</td>\n",
       "    </tr>\n",
       "  </tbody>\n",
       "</table>\n",
       "</div>"
      ],
      "text/plain": [
       "                     Clearsky DHI  Clearsky DNI  Clearsky GHI  Cloud Type  \\\n",
       "Date                                                                        \n",
       "2014-06-19 21:30:00      1.136031      1.010553      0.941809   -0.840696   \n",
       "2012-01-10 17:00:00      1.073727      1.197025      0.957066    1.144829   \n",
       "\n",
       "                     Dew Point  Temperature  Pressure  Relative Humidity  \\\n",
       "Date                                                                       \n",
       "2014-06-19 21:30:00   1.029134     1.311991 -0.536619          -0.725492   \n",
       "2012-01-10 17:00:00  -0.068860     0.193807 -0.536619          -0.705165   \n",
       "\n",
       "                     Solar Zenith Angle  Precipitable Water  Wind Direction  \\\n",
       "Date                                                                          \n",
       "2014-06-19 21:30:00           -0.948463            0.755195       -0.021995   \n",
       "2012-01-10 17:00:00           -0.871876           -0.028916       -0.040174   \n",
       "\n",
       "                     Wind Speed  Fill Flag  \n",
       "Date                                        \n",
       "2014-06-19 21:30:00   -0.907148  -0.112603  \n",
       "2012-01-10 17:00:00    0.341001  -0.112603  "
      ]
     },
     "execution_count": 14,
     "metadata": {},
     "output_type": "execute_result"
    }
   ],
   "source": [
    "df_solar_sc = pd.DataFrame(data=scalar_std.transform(df_solar), index=df_solar.index,  columns=df_solar.columns)\n",
    "df_solar_sc.sample(2)"
   ]
  },
  {
   "cell_type": "code",
   "execution_count": null,
   "id": "db1dfd7b",
   "metadata": {},
   "outputs": [],
   "source": []
  },
  {
   "cell_type": "markdown",
   "id": "7f873485",
   "metadata": {},
   "source": [
    "### Feature Selection"
   ]
  },
  {
   "cell_type": "markdown",
   "id": "565fad5a",
   "metadata": {},
   "source": [
    "##### Any Non-linear regression model can be selected, Choose XGBoost"
   ]
  },
  {
   "cell_type": "code",
   "execution_count": 15,
   "id": "195ed782",
   "metadata": {},
   "outputs": [],
   "source": [
    "from xgboost import XGBRegressor\n",
    "from xgboost import plot_importance"
   ]
  },
  {
   "cell_type": "markdown",
   "id": "a8269783",
   "metadata": {},
   "source": [
    "##### Feature Selection for Clearsky GHI since GHI constitues both DHI, DHI and Zenith Angle"
   ]
  },
  {
   "cell_type": "code",
   "execution_count": 16,
   "id": "d2b39879",
   "metadata": {},
   "outputs": [],
   "source": [
    "y = df_solar_sc['Clearsky GHI']\n",
    "X = df_solar_sc.drop(columns='Clearsky GHI', axis=1)"
   ]
  },
  {
   "cell_type": "code",
   "execution_count": 17,
   "id": "e47fffa6",
   "metadata": {},
   "outputs": [
    {
     "data": {
      "text/plain": [
       "XGBRegressor(base_score=0.5, booster='gbtree', colsample_bylevel=1,\n",
       "             colsample_bynode=1, colsample_bytree=1, enable_categorical=False,\n",
       "             gamma=0, gpu_id=-1, importance_type=None,\n",
       "             interaction_constraints='', learning_rate=0.300000012,\n",
       "             max_delta_step=0, max_depth=6, min_child_weight=1, missing=nan,\n",
       "             monotone_constraints='()', n_estimators=100, n_jobs=12,\n",
       "             num_parallel_tree=1, predictor='auto', random_state=0, reg_alpha=0,\n",
       "             reg_lambda=1, scale_pos_weight=1, subsample=1, tree_method='exact',\n",
       "             validate_parameters=1, verbosity=None)"
      ]
     },
     "execution_count": 17,
     "metadata": {},
     "output_type": "execute_result"
    }
   ],
   "source": [
    "model_xgb = XGBRegressor(n_estimators=100)\n",
    "model_xgb.fit(X, y)"
   ]
  },
  {
   "cell_type": "code",
   "execution_count": 18,
   "id": "57e78e7a",
   "metadata": {},
   "outputs": [
    {
     "data": {
      "text/plain": [
       "array([3.4929704e-04, 5.0226953e-03, 5.2548199e-05, 1.3788324e-03,\n",
       "       6.6652277e-04, 1.6511603e-05, 1.9034089e-05, 9.9018139e-01,\n",
       "       2.2369381e-03, 2.5792026e-05, 2.6344047e-05, 2.4098292e-05],\n",
       "      dtype=float32)"
      ]
     },
     "execution_count": 18,
     "metadata": {},
     "output_type": "execute_result"
    }
   ],
   "source": [
    "model_xgb.feature_importances_"
   ]
  },
  {
   "cell_type": "code",
   "execution_count": 19,
   "id": "e5f7156b",
   "metadata": {},
   "outputs": [
    {
     "data": {
      "text/plain": [
       "<AxesSubplot:title={'center':'Feature importance'}, xlabel='F score', ylabel='Features'>"
      ]
     },
     "execution_count": 19,
     "metadata": {},
     "output_type": "execute_result"
    },
    {
     "data": {
      "image/png": "[encoded data removed]",
      "text/plain": [
       "<Figure size 432x288 with 1 Axes>"
      ]
     },
     "metadata": {
      "needs_background": "light"
     },
     "output_type": "display_data"
    }
   ],
   "source": [
    "plot_importance(model_xgb)"
   ]
  },
  {
   "cell_type": "markdown",
   "id": "e2f38dc6",
   "metadata": {},
   "source": [
    "### Droping not so significant columns"
   ]
  },
  {
   "cell_type": "code",
   "execution_count": 20,
   "id": "20aa5b62",
   "metadata": {},
   "outputs": [
    {
     "data": {
      "text/plain": [
       "0.0     82788\n",
       "7.0     23163\n",
       "3.0     16255\n",
       "1.0     15698\n",
       "8.0     14276\n",
       "4.0     11738\n",
       "6.0      7902\n",
       "2.0      3018\n",
       "9.0       457\n",
       "10.0        1\n",
       "Name: Cloud Type, dtype: int64"
      ]
     },
     "execution_count": 20,
     "metadata": {},
     "output_type": "execute_result"
    }
   ],
   "source": [
    "df_solar['Cloud Type'].value_counts()"
   ]
  },
  {
   "cell_type": "code",
   "execution_count": 21,
   "id": "e0600cc5",
   "metadata": {},
   "outputs": [
    {
     "data": {
      "text/html": [
       "<div>\n",
       "<style scoped>\n",
       "    .dataframe tbody tr th:only-of-type {\n",
       "        vertical-align: middle;\n",
       "    }\n",
       "\n",
       "    .dataframe tbody tr th {\n",
       "        vertical-align: top;\n",
       "    }\n",
       "\n",
       "    .dataframe thead th {\n",
       "        text-align: right;\n",
       "    }\n",
       "</style>\n",
       "<table border=\"1\" class=\"dataframe\">\n",
       "  <thead>\n",
       "    <tr style=\"text-align: right;\">\n",
       "      <th></th>\n",
       "      <th>Clearsky DHI</th>\n",
       "      <th>Clearsky DNI</th>\n",
       "      <th>Clearsky GHI</th>\n",
       "      <th>Temperature</th>\n",
       "      <th>Relative Humidity</th>\n",
       "      <th>Solar Zenith Angle</th>\n",
       "      <th>Precipitable Water</th>\n",
       "    </tr>\n",
       "    <tr>\n",
       "      <th>Date</th>\n",
       "      <th></th>\n",
       "      <th></th>\n",
       "      <th></th>\n",
       "      <th></th>\n",
       "      <th></th>\n",
       "      <th></th>\n",
       "      <th></th>\n",
       "    </tr>\n",
       "  </thead>\n",
       "  <tbody>\n",
       "    <tr>\n",
       "      <th>2016-11-18 09:30:00</th>\n",
       "      <td>0.0</td>\n",
       "      <td>0.0</td>\n",
       "      <td>0.0</td>\n",
       "      <td>10.0</td>\n",
       "      <td>74.41</td>\n",
       "      <td>123.17</td>\n",
       "      <td>1.168</td>\n",
       "    </tr>\n",
       "    <tr>\n",
       "      <th>2013-09-24 12:30:00</th>\n",
       "      <td>60.0</td>\n",
       "      <td>457.0</td>\n",
       "      <td>162.0</td>\n",
       "      <td>20.0</td>\n",
       "      <td>97.59</td>\n",
       "      <td>77.09</td>\n",
       "      <td>4.738</td>\n",
       "    </tr>\n",
       "  </tbody>\n",
       "</table>\n",
       "</div>"
      ],
      "text/plain": [
       "                     Clearsky DHI  Clearsky DNI  Clearsky GHI  Temperature  \\\n",
       "Date                                                                         \n",
       "2016-11-18 09:30:00           0.0           0.0           0.0         10.0   \n",
       "2013-09-24 12:30:00          60.0         457.0         162.0         20.0   \n",
       "\n",
       "                     Relative Humidity  Solar Zenith Angle  Precipitable Water  \n",
       "Date                                                                            \n",
       "2016-11-18 09:30:00              74.41              123.17               1.168  \n",
       "2013-09-24 12:30:00              97.59               77.09               4.738  "
      ]
     },
     "execution_count": 21,
     "metadata": {},
     "output_type": "execute_result"
    }
   ],
   "source": [
    "df_solar.drop(columns=['Cloud Type', 'Pressure', 'Fill Flag', 'Wind Speed', 'Dew Point', 'Wind Direction'], inplace=True)\n",
    "df_solar.sample(2)"
   ]
  },
  {
   "cell_type": "code",
   "execution_count": 22,
   "id": "7f8a117b",
   "metadata": {},
   "outputs": [
    {
     "data": {
      "text/plain": [
       "(175296, 7)"
      ]
     },
     "execution_count": 22,
     "metadata": {},
     "output_type": "execute_result"
    }
   ],
   "source": [
    "df_solar.shape"
   ]
  },
  {
   "cell_type": "markdown",
   "id": "3a00c977",
   "metadata": {},
   "source": [
    "### Consider only last 3 years data"
   ]
  },
  {
   "cell_type": "code",
   "execution_count": 23,
   "id": "0f9fec25",
   "metadata": {},
   "outputs": [
    {
     "data": {
      "text/html": [
       "<div>\n",
       "<style scoped>\n",
       "    .dataframe tbody tr th:only-of-type {\n",
       "        vertical-align: middle;\n",
       "    }\n",
       "\n",
       "    .dataframe tbody tr th {\n",
       "        vertical-align: top;\n",
       "    }\n",
       "\n",
       "    .dataframe thead th {\n",
       "        text-align: right;\n",
       "    }\n",
       "</style>\n",
       "<table border=\"1\" class=\"dataframe\">\n",
       "  <thead>\n",
       "    <tr style=\"text-align: right;\">\n",
       "      <th></th>\n",
       "      <th>Clearsky DHI</th>\n",
       "      <th>Clearsky DNI</th>\n",
       "      <th>Clearsky GHI</th>\n",
       "      <th>Temperature</th>\n",
       "      <th>Relative Humidity</th>\n",
       "      <th>Solar Zenith Angle</th>\n",
       "      <th>Precipitable Water</th>\n",
       "    </tr>\n",
       "    <tr>\n",
       "      <th>Date</th>\n",
       "      <th></th>\n",
       "      <th></th>\n",
       "      <th></th>\n",
       "      <th></th>\n",
       "      <th></th>\n",
       "      <th></th>\n",
       "      <th></th>\n",
       "    </tr>\n",
       "  </thead>\n",
       "  <tbody>\n",
       "    <tr>\n",
       "      <th>2018-12-27 09:00:00</th>\n",
       "      <td>0.0</td>\n",
       "      <td>0.0</td>\n",
       "      <td>0.0</td>\n",
       "      <td>8.9</td>\n",
       "      <td>96.14</td>\n",
       "      <td>134.49</td>\n",
       "      <td>2.5</td>\n",
       "    </tr>\n",
       "    <tr>\n",
       "      <th>2018-12-24 01:30:00</th>\n",
       "      <td>0.0</td>\n",
       "      <td>0.0</td>\n",
       "      <td>0.0</td>\n",
       "      <td>12.4</td>\n",
       "      <td>99.93</td>\n",
       "      <td>125.84</td>\n",
       "      <td>2.1</td>\n",
       "    </tr>\n",
       "  </tbody>\n",
       "</table>\n",
       "</div>"
      ],
      "text/plain": [
       "                     Clearsky DHI  Clearsky DNI  Clearsky GHI  Temperature  \\\n",
       "Date                                                                         \n",
       "2018-12-27 09:00:00           0.0           0.0           0.0          8.9   \n",
       "2018-12-24 01:30:00           0.0           0.0           0.0         12.4   \n",
       "\n",
       "                     Relative Humidity  Solar Zenith Angle  Precipitable Water  \n",
       "Date                                                                            \n",
       "2018-12-27 09:00:00              96.14              134.49                 2.5  \n",
       "2018-12-24 01:30:00              99.93              125.84                 2.1  "
      ]
     },
     "execution_count": 23,
     "metadata": {},
     "output_type": "execute_result"
    }
   ],
   "source": [
    "ts_length = 48*30 # for testing this out 48*365\n",
    "df_solar = df_solar[-ts_length*1:]\n",
    "df_solar.sample(2)"
   ]
  },
  {
   "cell_type": "code",
   "execution_count": 24,
   "id": "4715a4d8",
   "metadata": {},
   "outputs": [
    {
     "data": {
      "text/plain": [
       "(1440, 7)"
      ]
     },
     "execution_count": 24,
     "metadata": {},
     "output_type": "execute_result"
    }
   ],
   "source": [
    "df_solar.shape"
   ]
  },
  {
   "cell_type": "code",
   "execution_count": null,
   "id": "82b15bb9",
   "metadata": {},
   "outputs": [],
   "source": []
  },
  {
   "cell_type": "code",
   "execution_count": null,
   "id": "ac354462",
   "metadata": {},
   "outputs": [],
   "source": []
  },
  {
   "cell_type": "markdown",
   "id": "38a97da8",
   "metadata": {},
   "source": [
    "## Model Building Start"
   ]
  },
  {
   "cell_type": "markdown",
   "id": "a6e8e402",
   "metadata": {},
   "source": [
    "### Scaling the Updated Data"
   ]
  },
  {
   "cell_type": "code",
   "execution_count": 25,
   "id": "5893a953",
   "metadata": {},
   "outputs": [
    {
     "data": {
      "text/html": [
       "<div>\n",
       "<style scoped>\n",
       "    .dataframe tbody tr th:only-of-type {\n",
       "        vertical-align: middle;\n",
       "    }\n",
       "\n",
       "    .dataframe tbody tr th {\n",
       "        vertical-align: top;\n",
       "    }\n",
       "\n",
       "    .dataframe thead th {\n",
       "        text-align: right;\n",
       "    }\n",
       "</style>\n",
       "<table border=\"1\" class=\"dataframe\">\n",
       "  <thead>\n",
       "    <tr style=\"text-align: right;\">\n",
       "      <th></th>\n",
       "      <th>Clearsky DHI</th>\n",
       "      <th>Clearsky DNI</th>\n",
       "      <th>Clearsky GHI</th>\n",
       "      <th>Temperature</th>\n",
       "      <th>Relative Humidity</th>\n",
       "      <th>Solar Zenith Angle</th>\n",
       "      <th>Precipitable Water</th>\n",
       "    </tr>\n",
       "    <tr>\n",
       "      <th>Date</th>\n",
       "      <th></th>\n",
       "      <th></th>\n",
       "      <th></th>\n",
       "      <th></th>\n",
       "      <th></th>\n",
       "      <th></th>\n",
       "      <th></th>\n",
       "    </tr>\n",
       "  </thead>\n",
       "  <tbody>\n",
       "    <tr>\n",
       "      <th>2018-12-28 00:30:00</th>\n",
       "      <td>-0.75793</td>\n",
       "      <td>-0.7771</td>\n",
       "      <td>-0.694208</td>\n",
       "      <td>1.192894</td>\n",
       "      <td>0.756099</td>\n",
       "      <td>0.188034</td>\n",
       "      <td>1.531250</td>\n",
       "    </tr>\n",
       "    <tr>\n",
       "      <th>2018-12-18 09:00:00</th>\n",
       "      <td>-0.75793</td>\n",
       "      <td>-0.7771</td>\n",
       "      <td>-0.694208</td>\n",
       "      <td>-1.132688</td>\n",
       "      <td>0.852355</td>\n",
       "      <td>0.734766</td>\n",
       "      <td>-1.132645</td>\n",
       "    </tr>\n",
       "  </tbody>\n",
       "</table>\n",
       "</div>"
      ],
      "text/plain": [
       "                     Clearsky DHI  Clearsky DNI  Clearsky GHI  Temperature  \\\n",
       "Date                                                                         \n",
       "2018-12-28 00:30:00      -0.75793       -0.7771     -0.694208     1.192894   \n",
       "2018-12-18 09:00:00      -0.75793       -0.7771     -0.694208    -1.132688   \n",
       "\n",
       "                     Relative Humidity  Solar Zenith Angle  Precipitable Water  \n",
       "Date                                                                            \n",
       "2018-12-28 00:30:00           0.756099            0.188034            1.531250  \n",
       "2018-12-18 09:00:00           0.852355            0.734766           -1.132645  "
      ]
     },
     "execution_count": 25,
     "metadata": {},
     "output_type": "execute_result"
    }
   ],
   "source": [
    "scalar_std = StandardScaler()\n",
    "scalar_std = scalar_std.fit(df_solar)\n",
    "df_solar_sc = pd.DataFrame(data=scalar_std.transform(df_solar), index=df_solar.index,  columns=df_solar.columns)\n",
    "df_solar_sc.sample(2)"
   ]
  },
  {
   "cell_type": "markdown",
   "id": "61db1987",
   "metadata": {},
   "source": [
    "### Data Generation"
   ]
  },
  {
   "cell_type": "code",
   "execution_count": 26,
   "id": "a3d64db6",
   "metadata": {},
   "outputs": [],
   "source": [
    "from tensorflow.keras.preprocessing.sequence import TimeseriesGenerator"
   ]
  },
  {
   "cell_type": "code",
   "execution_count": 27,
   "id": "4a6b6654",
   "metadata": {},
   "outputs": [],
   "source": [
    "# # Take only one weeks data for completing the process\n",
    "# # total_length = 17520*2\n",
    "# total_length = df_solar_sc.shape[0]"
   ]
  },
  {
   "cell_type": "markdown",
   "id": "80d74a4c",
   "metadata": {},
   "source": [
    "# Dalete this"
   ]
  },
  {
   "cell_type": "code",
   "execution_count": 28,
   "id": "03b4f2de",
   "metadata": {},
   "outputs": [],
   "source": [
    "# This needs to be deleted after completing the training\n",
    "# df_solar_sc = df_solar_sc[:total_length]\n",
    "# df_solar_sc.shape"
   ]
  },
  {
   "cell_type": "code",
   "execution_count": 46,
   "id": "7e6e69ef",
   "metadata": {},
   "outputs": [],
   "source": [
    "X = df_solar_sc.values\n",
    "y = df_solar_sc[['Clearsky DHI', 'Clearsky DNI', 'Clearsky GHI']].values"
   ]
  },
  {
   "cell_type": "code",
   "execution_count": 30,
   "id": "29802477",
   "metadata": {},
   "outputs": [],
   "source": [
    "# These values need to be updated for full dataset\n",
    "input_len = 48*1 # 1 month 1440\n",
    "output_len = 1\n",
    "stride_len = 1 # Keep this always 1\n",
    "feature_len = 7"
   ]
  },
  {
   "cell_type": "code",
   "execution_count": 31,
   "id": "563ba43d",
   "metadata": {},
   "outputs": [],
   "source": [
    "ts_generator = TimeseriesGenerator(data=X, targets=y, length=input_len, batch_size=output_len, stride=stride_len)"
   ]
  },
  {
   "cell_type": "code",
   "execution_count": 32,
   "id": "921dc77c",
   "metadata": {},
   "outputs": [
    {
     "data": {
      "text/plain": [
       "1392"
      ]
     },
     "execution_count": 32,
     "metadata": {},
     "output_type": "execute_result"
    }
   ],
   "source": [
    "len(ts_generator)"
   ]
  },
  {
   "cell_type": "code",
   "execution_count": 53,
   "id": "b4ec1cac",
   "metadata": {},
   "outputs": [
    {
     "name": "stdout",
     "output_type": "stream",
     "text": [
      "(array([[[-0.75792994, -0.77710023, -0.69420811,  1.50069152,\n",
      "          0.82734323,  0.07419764,  1.76629999],\n",
      "        [-0.75792994, -0.77710023, -0.69420811,  1.51779139,\n",
      "          0.78035207,  0.23795307,  1.76629999],\n",
      "        [-0.75792994, -0.77710023, -0.69420811,  1.53489126,\n",
      "          0.78338376,  0.40382148,  1.84464986],\n",
      "        [-0.75792994, -0.77710023, -0.69420811,  1.55199112,\n",
      "          0.73715053,  0.57101049,  1.84464986],\n",
      "        [-0.75792994, -0.77710023, -0.69420811,  1.56909099,\n",
      "          0.79551051,  0.73899187,  1.84464986],\n",
      "        [-0.75792994, -0.77710023, -0.69420811,  1.58619086,\n",
      "          0.74927728,  0.90723736,  1.84464986],\n",
      "        [-0.75792994, -0.77710023, -0.69420811,  1.60329073,\n",
      "          0.82885907,  1.0746905 ,  1.92299974],\n",
      "        [-0.75792994, -0.77710023, -0.69420811,  1.62039059,\n",
      "          0.78262584,  1.23950242,  1.92299974],\n",
      "        [-0.75792994, -0.77710023, -0.69420811,  1.63749046,\n",
      "          0.82506946,  1.39929602,  1.92299974],\n",
      "        [-0.75792994, -0.77710023, -0.69420811,  1.63749046,\n",
      "          0.81749024,  1.54667591,  1.92299974],\n",
      "        [-0.75792994, -0.77710023, -0.69420811,  1.63749046,\n",
      "          0.84325958,  1.66156883,  1.92299974],\n",
      "        [-0.75792994, -0.77710023, -0.69420811,  1.65459033,\n",
      "          0.79702635,  1.69722525,  1.92299974],\n",
      "        [-0.75792994, -0.77710023, -0.69420811,  1.6716902 ,\n",
      "          0.81521648,  1.62696889,  1.92299974],\n",
      "        [-0.75792994, -0.77710023, -0.69420811,  1.68879007,\n",
      "          0.76898325,  1.49675691,  1.92299974],\n",
      "        [-0.75792994, -0.77710023, -0.69420811,  1.68879007,\n",
      "          0.8402279 ,  1.34383047,  1.92299974],\n",
      "        [-0.75792994, -0.77710023, -0.69420811,  1.70588993,\n",
      "          0.79399467,  1.18165977,  1.92299974],\n",
      "        [-0.75792994, -0.77710023, -0.69420811,  1.70588993,\n",
      "          0.83643829,  1.01552725,  1.92299974],\n",
      "        [-0.75792994, -0.77710023, -0.69420811,  1.7229898 ,\n",
      "          0.78944714,  0.84780999,  1.84464986],\n",
      "        [-0.75792994, -0.77710023, -0.69420811,  1.7229898 ,\n",
      "          0.82127985,  0.67982861,  1.84464986],\n",
      "        [-0.75792994, -0.77710023, -0.69420811,  1.7229898 ,\n",
      "          0.81370063,  0.51211136,  1.84464986],\n",
      "        [-0.75792994, -0.77710023, -0.69420811,  1.74008967,\n",
      "          0.81294271,  0.34545059,  1.76629999],\n",
      "        [-0.75792994, -0.77710023, -0.69420811,  1.75718954,\n",
      "          0.76670948,  0.18037455,  1.76629999],\n",
      "        [-0.75792994, -0.77710023, -0.69420811,  1.79138927,\n",
      "          0.78717337,  0.01741149,  1.68795011],\n",
      "        [-0.75792994, -0.77710023, -0.69420811,  1.80848914,\n",
      "          0.74851936, -0.14264624,  1.68795011],\n",
      "        [-0.75792994, -0.77710023, -0.69420811,  1.84268888,\n",
      "          0.78944714, -0.29927039,  1.68795011],\n",
      "        [-0.39574478, -0.54005989, -0.61616063,  1.89398848,\n",
      "          0.65302121, -0.45985636,  1.68795011],\n",
      "        [ 0.27688481,  0.12257559, -0.32233482,  1.94528808,\n",
      "          0.77201493, -0.60142557,  1.76629999],\n",
      "        [ 0.69081071,  0.58318806,  0.0541295 ,  2.03078742,\n",
      "          0.54767008, -0.74035356,  1.76629999],\n",
      "        [ 0.97538476,  0.8741012 ,  0.44895793,  2.11628676,\n",
      "          0.72426586, -0.87162203,  1.84464986],\n",
      "        [ 1.18234771,  1.0680433 ,  0.82083122,  2.2017861 ,\n",
      "          0.5029527 , -0.99311799,  1.84464986],\n",
      "        [ 1.33756993,  1.20003166,  1.15597628,  2.30438531,\n",
      "          0.52796411, -1.10246436,  1.92299974],\n",
      "        [ 1.4410514 ,  1.30508363,  1.44521106,  2.35568491,\n",
      "          0.39911741, -1.19675579,  2.00134961],\n",
      "        [ 1.46692177,  1.3831992 ,  1.67476247,  2.42408438,\n",
      "          0.21418449, -1.27335107,  2.00134961],\n",
      "        [ 1.51866251,  1.42091016,  1.83544846,  2.44118425,\n",
      "          0.17325671, -1.32934487,  2.07969949],\n",
      "        [ 1.59627361,  1.437072  ,  1.93186006,  2.45828412,\n",
      "          0.02243027, -1.36209595,  2.07969949],\n",
      "        [ 1.64801435,  1.42899108,  1.95022417,  2.45828412,\n",
      "          0.02243027, -1.37028372,  2.00134961],\n",
      "        [ 1.69975509,  1.39936104,  1.89513183,  2.44118425,\n",
      "         -0.1261224 , -1.35337994,  2.00134961],\n",
      "        [ 1.69975509,  1.36434372,  1.78035612,  2.38988464,\n",
      "         -0.00712868, -1.31217696,  1.92299974],\n",
      "        [ 1.64801435,  1.30777727,  1.59212396,  2.33858504,\n",
      "         -0.17917692, -1.24878776,  1.84464986],\n",
      "        [ 1.57040324,  1.22966171,  1.34420844,  2.27018557,\n",
      "         -0.02077127, -1.16558944,  1.76629999],\n",
      "        [ 1.4410514 ,  1.11922246,  1.04120057,  2.18468623,\n",
      "         -0.15795511, -1.06575145,  1.68795011],\n",
      "        [ 1.25995882,  0.95491041,  0.6876914 ,  2.08208702,\n",
      "          0.08457986, -0.95217913,  1.60960024],\n",
      "        [ 1.0271255 ,  0.71517643,  0.30663605,  1.97948782,\n",
      "          0.07396896, -0.82698547,  1.53125036],\n",
      "        [ 0.66494034,  0.37308413, -0.08360135,  1.80848914,\n",
      "          0.50219477, -0.69254754,  1.37455062],\n",
      "        [ 0.1216626 , -0.14678843, -0.44170155,  1.65459033,\n",
      "          0.36273716, -0.55203482,  1.29620074],\n",
      "        [-0.6285781 , -0.70706558, -0.67125297,  1.53489126,\n",
      "          0.68409601, -0.41389919,  1.21785087],\n",
      "        [-0.75792994, -0.77710023, -0.69420811,  1.41519218,\n",
      "          0.40063325, -0.24512544,  1.13950099],\n",
      "        [-0.75792994, -0.77710023, -0.69420811,  1.41519218,\n",
      "          0.40063325, -0.08718069,  1.13950099]]]), array([[-0.75792994, -0.77710023, -0.69420811]]))\n",
      "(array([[[-0.75792994, -0.77710023, -0.69420811,  1.51779139,\n",
      "          0.78035207,  0.23795307,  1.76629999],\n",
      "        [-0.75792994, -0.77710023, -0.69420811,  1.53489126,\n",
      "          0.78338376,  0.40382148,  1.84464986],\n",
      "        [-0.75792994, -0.77710023, -0.69420811,  1.55199112,\n",
      "          0.73715053,  0.57101049,  1.84464986],\n",
      "        [-0.75792994, -0.77710023, -0.69420811,  1.56909099,\n",
      "          0.79551051,  0.73899187,  1.84464986],\n",
      "        [-0.75792994, -0.77710023, -0.69420811,  1.58619086,\n",
      "          0.74927728,  0.90723736,  1.84464986],\n",
      "        [-0.75792994, -0.77710023, -0.69420811,  1.60329073,\n",
      "          0.82885907,  1.0746905 ,  1.92299974],\n",
      "        [-0.75792994, -0.77710023, -0.69420811,  1.62039059,\n",
      "          0.78262584,  1.23950242,  1.92299974],\n",
      "        [-0.75792994, -0.77710023, -0.69420811,  1.63749046,\n",
      "          0.82506946,  1.39929602,  1.92299974],\n",
      "        [-0.75792994, -0.77710023, -0.69420811,  1.63749046,\n",
      "          0.81749024,  1.54667591,  1.92299974],\n",
      "        [-0.75792994, -0.77710023, -0.69420811,  1.63749046,\n",
      "          0.84325958,  1.66156883,  1.92299974],\n",
      "        [-0.75792994, -0.77710023, -0.69420811,  1.65459033,\n",
      "          0.79702635,  1.69722525,  1.92299974],\n",
      "        [-0.75792994, -0.77710023, -0.69420811,  1.6716902 ,\n",
      "          0.81521648,  1.62696889,  1.92299974],\n",
      "        [-0.75792994, -0.77710023, -0.69420811,  1.68879007,\n",
      "          0.76898325,  1.49675691,  1.92299974],\n",
      "        [-0.75792994, -0.77710023, -0.69420811,  1.68879007,\n",
      "          0.8402279 ,  1.34383047,  1.92299974],\n",
      "        [-0.75792994, -0.77710023, -0.69420811,  1.70588993,\n",
      "          0.79399467,  1.18165977,  1.92299974],\n",
      "        [-0.75792994, -0.77710023, -0.69420811,  1.70588993,\n",
      "          0.83643829,  1.01552725,  1.92299974],\n",
      "        [-0.75792994, -0.77710023, -0.69420811,  1.7229898 ,\n",
      "          0.78944714,  0.84780999,  1.84464986],\n",
      "        [-0.75792994, -0.77710023, -0.69420811,  1.7229898 ,\n",
      "          0.82127985,  0.67982861,  1.84464986],\n",
      "        [-0.75792994, -0.77710023, -0.69420811,  1.7229898 ,\n",
      "          0.81370063,  0.51211136,  1.84464986],\n",
      "        [-0.75792994, -0.77710023, -0.69420811,  1.74008967,\n",
      "          0.81294271,  0.34545059,  1.76629999],\n",
      "        [-0.75792994, -0.77710023, -0.69420811,  1.75718954,\n",
      "          0.76670948,  0.18037455,  1.76629999],\n",
      "        [-0.75792994, -0.77710023, -0.69420811,  1.79138927,\n",
      "          0.78717337,  0.01741149,  1.68795011],\n",
      "        [-0.75792994, -0.77710023, -0.69420811,  1.80848914,\n",
      "          0.74851936, -0.14264624,  1.68795011],\n",
      "        [-0.75792994, -0.77710023, -0.69420811,  1.84268888,\n",
      "          0.78944714, -0.29927039,  1.68795011],\n",
      "        [-0.39574478, -0.54005989, -0.61616063,  1.89398848,\n",
      "          0.65302121, -0.45985636,  1.68795011],\n",
      "        [ 0.27688481,  0.12257559, -0.32233482,  1.94528808,\n",
      "          0.77201493, -0.60142557,  1.76629999],\n",
      "        [ 0.69081071,  0.58318806,  0.0541295 ,  2.03078742,\n",
      "          0.54767008, -0.74035356,  1.76629999],\n",
      "        [ 0.97538476,  0.8741012 ,  0.44895793,  2.11628676,\n",
      "          0.72426586, -0.87162203,  1.84464986],\n",
      "        [ 1.18234771,  1.0680433 ,  0.82083122,  2.2017861 ,\n",
      "          0.5029527 , -0.99311799,  1.84464986],\n",
      "        [ 1.33756993,  1.20003166,  1.15597628,  2.30438531,\n",
      "          0.52796411, -1.10246436,  1.92299974],\n",
      "        [ 1.4410514 ,  1.30508363,  1.44521106,  2.35568491,\n",
      "          0.39911741, -1.19675579,  2.00134961],\n",
      "        [ 1.46692177,  1.3831992 ,  1.67476247,  2.42408438,\n",
      "          0.21418449, -1.27335107,  2.00134961],\n",
      "        [ 1.51866251,  1.42091016,  1.83544846,  2.44118425,\n",
      "          0.17325671, -1.32934487,  2.07969949],\n",
      "        [ 1.59627361,  1.437072  ,  1.93186006,  2.45828412,\n",
      "          0.02243027, -1.36209595,  2.07969949],\n",
      "        [ 1.64801435,  1.42899108,  1.95022417,  2.45828412,\n",
      "          0.02243027, -1.37028372,  2.00134961],\n",
      "        [ 1.69975509,  1.39936104,  1.89513183,  2.44118425,\n",
      "         -0.1261224 , -1.35337994,  2.00134961],\n",
      "        [ 1.69975509,  1.36434372,  1.78035612,  2.38988464,\n",
      "         -0.00712868, -1.31217696,  1.92299974],\n",
      "        [ 1.64801435,  1.30777727,  1.59212396,  2.33858504,\n",
      "         -0.17917692, -1.24878776,  1.84464986],\n",
      "        [ 1.57040324,  1.22966171,  1.34420844,  2.27018557,\n",
      "         -0.02077127, -1.16558944,  1.76629999],\n",
      "        [ 1.4410514 ,  1.11922246,  1.04120057,  2.18468623,\n",
      "         -0.15795511, -1.06575145,  1.68795011],\n",
      "        [ 1.25995882,  0.95491041,  0.6876914 ,  2.08208702,\n",
      "          0.08457986, -0.95217913,  1.60960024],\n",
      "        [ 1.0271255 ,  0.71517643,  0.30663605,  1.97948782,\n",
      "          0.07396896, -0.82698547,  1.53125036],\n",
      "        [ 0.66494034,  0.37308413, -0.08360135,  1.80848914,\n",
      "          0.50219477, -0.69254754,  1.37455062],\n",
      "        [ 0.1216626 , -0.14678843, -0.44170155,  1.65459033,\n",
      "          0.36273716, -0.55203482,  1.29620074],\n",
      "        [-0.6285781 , -0.70706558, -0.67125297,  1.53489126,\n",
      "          0.68409601, -0.41389919,  1.21785087],\n",
      "        [-0.75792994, -0.77710023, -0.69420811,  1.41519218,\n",
      "          0.40063325, -0.24512544,  1.13950099],\n",
      "        [-0.75792994, -0.77710023, -0.69420811,  1.41519218,\n",
      "          0.40063325, -0.08718069,  1.13950099],\n",
      "        [-0.75792994, -0.77710023, -0.69420811,  1.27839324,\n",
      "          0.36652677,  0.07393352,  0.90445137]]]), array([[-0.75792994, -0.77710023, -0.69420811]]))\n",
      "(array([[[-0.75792994, -0.77710023, -0.69420811,  1.53489126,\n",
      "          0.78338376,  0.40382148,  1.84464986],\n",
      "        [-0.75792994, -0.77710023, -0.69420811,  1.55199112,\n",
      "          0.73715053,  0.57101049,  1.84464986],\n",
      "        [-0.75792994, -0.77710023, -0.69420811,  1.56909099,\n",
      "          0.79551051,  0.73899187,  1.84464986],\n",
      "        [-0.75792994, -0.77710023, -0.69420811,  1.58619086,\n",
      "          0.74927728,  0.90723736,  1.84464986],\n",
      "        [-0.75792994, -0.77710023, -0.69420811,  1.60329073,\n",
      "          0.82885907,  1.0746905 ,  1.92299974],\n",
      "        [-0.75792994, -0.77710023, -0.69420811,  1.62039059,\n",
      "          0.78262584,  1.23950242,  1.92299974],\n",
      "        [-0.75792994, -0.77710023, -0.69420811,  1.63749046,\n",
      "          0.82506946,  1.39929602,  1.92299974],\n",
      "        [-0.75792994, -0.77710023, -0.69420811,  1.63749046,\n",
      "          0.81749024,  1.54667591,  1.92299974],\n",
      "        [-0.75792994, -0.77710023, -0.69420811,  1.63749046,\n",
      "          0.84325958,  1.66156883,  1.92299974],\n",
      "        [-0.75792994, -0.77710023, -0.69420811,  1.65459033,\n",
      "          0.79702635,  1.69722525,  1.92299974],\n",
      "        [-0.75792994, -0.77710023, -0.69420811,  1.6716902 ,\n",
      "          0.81521648,  1.62696889,  1.92299974],\n",
      "        [-0.75792994, -0.77710023, -0.69420811,  1.68879007,\n",
      "          0.76898325,  1.49675691,  1.92299974],\n",
      "        [-0.75792994, -0.77710023, -0.69420811,  1.68879007,\n",
      "          0.8402279 ,  1.34383047,  1.92299974],\n",
      "        [-0.75792994, -0.77710023, -0.69420811,  1.70588993,\n",
      "          0.79399467,  1.18165977,  1.92299974],\n",
      "        [-0.75792994, -0.77710023, -0.69420811,  1.70588993,\n",
      "          0.83643829,  1.01552725,  1.92299974],\n",
      "        [-0.75792994, -0.77710023, -0.69420811,  1.7229898 ,\n",
      "          0.78944714,  0.84780999,  1.84464986],\n",
      "        [-0.75792994, -0.77710023, -0.69420811,  1.7229898 ,\n",
      "          0.82127985,  0.67982861,  1.84464986],\n",
      "        [-0.75792994, -0.77710023, -0.69420811,  1.7229898 ,\n",
      "          0.81370063,  0.51211136,  1.84464986],\n",
      "        [-0.75792994, -0.77710023, -0.69420811,  1.74008967,\n",
      "          0.81294271,  0.34545059,  1.76629999],\n",
      "        [-0.75792994, -0.77710023, -0.69420811,  1.75718954,\n",
      "          0.76670948,  0.18037455,  1.76629999],\n",
      "        [-0.75792994, -0.77710023, -0.69420811,  1.79138927,\n",
      "          0.78717337,  0.01741149,  1.68795011],\n",
      "        [-0.75792994, -0.77710023, -0.69420811,  1.80848914,\n",
      "          0.74851936, -0.14264624,  1.68795011],\n",
      "        [-0.75792994, -0.77710023, -0.69420811,  1.84268888,\n",
      "          0.78944714, -0.29927039,  1.68795011],\n",
      "        [-0.39574478, -0.54005989, -0.61616063,  1.89398848,\n",
      "          0.65302121, -0.45985636,  1.68795011],\n",
      "        [ 0.27688481,  0.12257559, -0.32233482,  1.94528808,\n",
      "          0.77201493, -0.60142557,  1.76629999],\n",
      "        [ 0.69081071,  0.58318806,  0.0541295 ,  2.03078742,\n",
      "          0.54767008, -0.74035356,  1.76629999],\n",
      "        [ 0.97538476,  0.8741012 ,  0.44895793,  2.11628676,\n",
      "          0.72426586, -0.87162203,  1.84464986],\n",
      "        [ 1.18234771,  1.0680433 ,  0.82083122,  2.2017861 ,\n",
      "          0.5029527 , -0.99311799,  1.84464986],\n",
      "        [ 1.33756993,  1.20003166,  1.15597628,  2.30438531,\n",
      "          0.52796411, -1.10246436,  1.92299974],\n",
      "        [ 1.4410514 ,  1.30508363,  1.44521106,  2.35568491,\n",
      "          0.39911741, -1.19675579,  2.00134961],\n",
      "        [ 1.46692177,  1.3831992 ,  1.67476247,  2.42408438,\n",
      "          0.21418449, -1.27335107,  2.00134961],\n",
      "        [ 1.51866251,  1.42091016,  1.83544846,  2.44118425,\n",
      "          0.17325671, -1.32934487,  2.07969949],\n",
      "        [ 1.59627361,  1.437072  ,  1.93186006,  2.45828412,\n",
      "          0.02243027, -1.36209595,  2.07969949],\n",
      "        [ 1.64801435,  1.42899108,  1.95022417,  2.45828412,\n",
      "          0.02243027, -1.37028372,  2.00134961],\n",
      "        [ 1.69975509,  1.39936104,  1.89513183,  2.44118425,\n",
      "         -0.1261224 , -1.35337994,  2.00134961],\n",
      "        [ 1.69975509,  1.36434372,  1.78035612,  2.38988464,\n",
      "         -0.00712868, -1.31217696,  1.92299974],\n",
      "        [ 1.64801435,  1.30777727,  1.59212396,  2.33858504,\n",
      "         -0.17917692, -1.24878776,  1.84464986],\n",
      "        [ 1.57040324,  1.22966171,  1.34420844,  2.27018557,\n",
      "         -0.02077127, -1.16558944,  1.76629999],\n",
      "        [ 1.4410514 ,  1.11922246,  1.04120057,  2.18468623,\n",
      "         -0.15795511, -1.06575145,  1.68795011],\n",
      "        [ 1.25995882,  0.95491041,  0.6876914 ,  2.08208702,\n",
      "          0.08457986, -0.95217913,  1.60960024],\n",
      "        [ 1.0271255 ,  0.71517643,  0.30663605,  1.97948782,\n",
      "          0.07396896, -0.82698547,  1.53125036],\n",
      "        [ 0.66494034,  0.37308413, -0.08360135,  1.80848914,\n",
      "          0.50219477, -0.69254754,  1.37455062],\n",
      "        [ 0.1216626 , -0.14678843, -0.44170155,  1.65459033,\n",
      "          0.36273716, -0.55203482,  1.29620074],\n",
      "        [-0.6285781 , -0.70706558, -0.67125297,  1.53489126,\n",
      "          0.68409601, -0.41389919,  1.21785087],\n",
      "        [-0.75792994, -0.77710023, -0.69420811,  1.41519218,\n",
      "          0.40063325, -0.24512544,  1.13950099],\n",
      "        [-0.75792994, -0.77710023, -0.69420811,  1.41519218,\n",
      "          0.40063325, -0.08718069,  1.13950099],\n",
      "        [-0.75792994, -0.77710023, -0.69420811,  1.27839324,\n",
      "          0.36652677,  0.07393352,  0.90445137],\n",
      "        [-0.75792994, -0.77710023, -0.69420811,  1.22709364,\n",
      "          0.50143685,  0.23768895,  0.90445137]]]), array([[-0.75792994, -0.77710023, -0.69420811]]))\n"
     ]
    }
   ],
   "source": [
    "for i in range(0, 3):\n",
    "    print(ts_generator[i])"
   ]
  },
  {
   "cell_type": "code",
   "execution_count": 33,
   "id": "5a912ba2",
   "metadata": {},
   "outputs": [],
   "source": [
    "# X_gen = []\n",
    "# y_gen = []\n",
    "# for i in range(len(ts_generator)):\n",
    "#     X_temp, y_temp = ts_generator[i]\n",
    "#     # print(f'{X_temp}, {y_temp}')\n",
    "#     X_gen.append(X_temp[0])\n",
    "#     y_gen.append(y_temp)"
   ]
  },
  {
   "cell_type": "code",
   "execution_count": 34,
   "id": "86fb778e",
   "metadata": {},
   "outputs": [],
   "source": [
    "# X_gen = np.array(X_gen)\n",
    "# y_gen = np.array(y_gen)\n",
    "# print(f'X Shape: {X_gen.shape}, y shape: {y_gen.shape}')"
   ]
  },
  {
   "cell_type": "code",
   "execution_count": 35,
   "id": "88169789",
   "metadata": {},
   "outputs": [],
   "source": [
    "# split_length = 17520\n",
    "# X_train = X[:-split_length]\n",
    "# X_test = X[-split_length:]\n",
    "# y_train = y[:-split_length]\n",
    "# y_test = y[-split_length:]\n",
    "# print(f'''\n",
    "# X_train.shape: {X_train.shape}\n",
    "# X_test.shape: {X_test.shape}\n",
    "# y_train.shape: {y_train.shape}\n",
    "# y_test.shape: {y_test.shape}''')"
   ]
  },
  {
   "cell_type": "code",
   "execution_count": 36,
   "id": "16414d53",
   "metadata": {},
   "outputs": [],
   "source": [
    "\n",
    "input_shape = (input_len, feature_len)"
   ]
  },
  {
   "cell_type": "markdown",
   "id": "a8af4c1c",
   "metadata": {},
   "source": [
    "### Model Building"
   ]
  },
  {
   "cell_type": "code",
   "execution_count": 37,
   "id": "457b5016",
   "metadata": {},
   "outputs": [],
   "source": [
    "from tensorflow.keras.models import Model\n",
    "from tensorflow.keras.layers import Input, LSTM, Dense, GRU, RepeatVector, Conv1D\n",
    "from tensorflow.keras.metrics import RootMeanSquaredError\n",
    "from tensorflow.keras.losses import MeanSquaredError\n",
    "from tensorflow.keras.optimizers import Adam\n",
    "from tensorflow.keras.callbacks import ModelCheckpoint, EarlyStopping\n",
    "from tensorflow.keras.models import load_model\n",
    "from tensorflow.keras.layers import TimeDistributed"
   ]
  },
  {
   "cell_type": "code",
   "execution_count": 38,
   "id": "ff6f1a82",
   "metadata": {},
   "outputs": [
    {
     "name": "stdout",
     "output_type": "stream",
     "text": [
      "WARNING:tensorflow:Layer gru will not use cuDNN kernels since it doesn't meet the criteria. It will use a generic GPU kernel as fallback when running on GPU.\n",
      "WARNING:tensorflow:Layer gru_1 will not use cuDNN kernels since it doesn't meet the criteria. It will use a generic GPU kernel as fallback when running on GPU.\n"
     ]
    }
   ],
   "source": [
    "l0 = Input(shape=input_shape)\n",
    "\n",
    "l1 = GRU(units=64, activation='relu', recurrent_dropout=.2)(l0)\n",
    "l1 = RepeatVector(input_shape[1])(l1)\n",
    "l1 = GRU(units=64, activation='relu', recurrent_dropout=.2)(l1)\n",
    "\n",
    "y = Dense(units=10, activation='relu')(l1)\n",
    "y = Dense(units=3, activation='linear')(y)\n",
    "\n",
    "model_lstm1 = Model(inputs=l0, outputs=y)"
   ]
  },
  {
   "cell_type": "code",
   "execution_count": 39,
   "id": "e4da2478",
   "metadata": {},
   "outputs": [
    {
     "name": "stdout",
     "output_type": "stream",
     "text": [
      "Model: \"model\"\n",
      "_________________________________________________________________\n",
      "Layer (type)                 Output Shape              Param #   \n",
      "=================================================================\n",
      "input_1 (InputLayer)         [(None, 48, 7)]           0         \n",
      "_________________________________________________________________\n",
      "gru (GRU)                    (None, 64)                14016     \n",
      "_________________________________________________________________\n",
      "repeat_vector (RepeatVector) (None, 7, 64)             0         \n",
      "_________________________________________________________________\n",
      "gru_1 (GRU)                  (None, 64)                24960     \n",
      "_________________________________________________________________\n",
      "dense (Dense)                (None, 10)                650       \n",
      "_________________________________________________________________\n",
      "dense_1 (Dense)              (None, 3)                 33        \n",
      "=================================================================\n",
      "Total params: 39,659\n",
      "Trainable params: 39,659\n",
      "Non-trainable params: 0\n",
      "_________________________________________________________________\n"
     ]
    }
   ],
   "source": [
    "model_lstm1.compile(optimizer=Adam(learning_rate=0.001), \n",
    "                    loss=MeanSquaredError(),\n",
    "                   metrics=[RootMeanSquaredError()])\n",
    "model_lstm1.summary()"
   ]
  },
  {
   "cell_type": "code",
   "execution_count": 40,
   "id": "512beeee",
   "metadata": {},
   "outputs": [],
   "source": [
    "# Check points for Early stopping and Saving the best model\n",
    "cb_earlystop = EarlyStopping(monitor='val_loss', mode='min', verbose=1, patience=200)\n",
    "cb_modelcp = ModelCheckpoint('best_model_lstm1.h5', monitor='val_root_mean_squared_error', \n",
    "                             mode='min', verbose=1, save_best_only=True)"
   ]
  },
  {
   "cell_type": "code",
   "execution_count": 41,
   "id": "9d516d2d",
   "metadata": {},
   "outputs": [
    {
     "name": "stdout",
     "output_type": "stream",
     "text": [
      "Epoch 1/2\n",
      "1392/1392 [==============================] - 226s 160ms/step - loss: 0.1250 - root_mean_squared_error: 0.3536 - val_loss: 0.0461 - val_root_mean_squared_error: 0.2147\n",
      "\n",
      "Epoch 00001: val_root_mean_squared_error improved from inf to 0.21470, saving model to best_model_lstm1.h5\n",
      "Epoch 2/2\n",
      "1392/1392 [==============================] - 226s 162ms/step - loss: 0.0288 - root_mean_squared_error: 0.1698 - val_loss: 0.0092 - val_root_mean_squared_error: 0.0961\n",
      "\n",
      "Epoch 00002: val_root_mean_squared_error improved from 0.21470 to 0.09612, saving model to best_model_lstm1.h5\n"
     ]
    }
   ],
   "source": [
    "model_lstm1_hist = model_lstm1.fit(ts_generator, validation_data=ts_generator, \n",
    "                                   epochs=2, callbacks=[cb_earlystop, cb_modelcp])"
   ]
  },
  {
   "cell_type": "code",
   "execution_count": 42,
   "id": "057b21e0",
   "metadata": {},
   "outputs": [],
   "source": [
    "model_lstm1.load_weights('best_model_lstm1.h5')"
   ]
  },
  {
   "cell_type": "code",
   "execution_count": 43,
   "id": "19e55c32",
   "metadata": {},
   "outputs": [],
   "source": [
    "def plot_model_history(model):\n",
    "    mod_hist = model.history\n",
    "    plt.subplot(1, 2, 1)\n",
    "    plt.plot(mod_hist.history['loss'])\n",
    "    plt.plot(mod_hist.history['val_loss'])\n",
    "    plt.title('Loss MSE')\n",
    "    plt.ylabel('Loss')\n",
    "    plt.xlabel('Epochs')\n",
    "    plt.subplot(1, 2, 2)\n",
    "    plt.plot(mod_hist.history['root_mean_squared_error'])\n",
    "    plt.plot(mod_hist.history['val_root_mean_squared_error'])\n",
    "    plt.title('Error RMSE')\n",
    "    plt.ylabel('Loss')\n",
    "    plt.xlabel('Epochs')"
   ]
  },
  {
   "cell_type": "code",
   "execution_count": 44,
   "id": "24222842",
   "metadata": {},
   "outputs": [
    {
     "data": {
      "image/png": "[encoded data removed]",
      "text/plain": [
       "<Figure size 432x288 with 2 Axes>"
      ]
     },
     "metadata": {
      "needs_background": "light"
     },
     "output_type": "display_data"
    }
   ],
   "source": [
    "plot_model_history(model=model_lstm1)"
   ]
  },
  {
   "cell_type": "code",
   "execution_count": 115,
   "id": "f37486bb",
   "metadata": {},
   "outputs": [],
   "source": [
    "# Final Predict should run for 17520\n",
    "predict_len = 48*1\n",
    "X_arr = np.array(X)\n",
    "# X_arr = np.expand_dims(X_arr[-predict_len*2:-predict_len*1,:], axis=0)\n",
    "# print(X_arr[-predict_len:,:].shape)\n",
    "# y_pred = model_lstm1.predict(X_arr)"
   ]
  },
  {
   "cell_type": "code",
   "execution_count": 101,
   "id": "206ef8a2",
   "metadata": {},
   "outputs": [],
   "source": [
    "# Predicting using the Array approach, we can also try the TimeSeriesGenerator for test & predict data\n",
    "y_pred_arr = []\n",
    "for i in range(predict_len):\n",
    "    X_pred_i = X_arr[-predict_len*2+i:-predict_len*1+i,:]\n",
    "    X_pred_i = np.expand_dims(X_pred_i, axis=0)\n",
    "    y_pred_arr.append(model_lstm1.predict(X_pred_i)[0])"
   ]
  },
  {
   "cell_type": "code",
   "execution_count": 102,
   "id": "f8bb6969",
   "metadata": {},
   "outputs": [
    {
     "data": {
      "text/plain": [
       "[array([-0.77665794, -0.79302603, -0.6435096 ], dtype=float32),\n",
       " array([-0.7773169, -0.7902922, -0.6429981], dtype=float32),\n",
       " array([-0.7801267 , -0.79086447, -0.6425362 ], dtype=float32),\n",
       " array([-0.78426516, -0.79582727, -0.6437776 ], dtype=float32),\n",
       " array([-0.78882277, -0.800241  , -0.64714026], dtype=float32),\n",
       " array([-0.79222846, -0.8027625 , -0.651755  ], dtype=float32),\n",
       " array([-0.7926096, -0.8021331, -0.6546305], dtype=float32),\n",
       " array([-0.790246  , -0.7983351 , -0.65738636], dtype=float32),\n",
       " array([-0.78668714, -0.7933766 , -0.65997165], dtype=float32),\n",
       " array([-0.7867967 , -0.7920705 , -0.66375417], dtype=float32),\n",
       " array([-0.78783107, -0.7928289 , -0.6666256 ], dtype=float32),\n",
       " array([-0.78924215, -0.7944855 , -0.6694046 ], dtype=float32),\n",
       " array([-0.7894356 , -0.79493594, -0.67108303], dtype=float32),\n",
       " array([-0.7881348 , -0.79378355, -0.67075396], dtype=float32),\n",
       " array([-0.78572845, -0.79104215, -0.66845703], dtype=float32),\n",
       " array([-0.7820419 , -0.78632206, -0.66458166], dtype=float32),\n",
       " array([-0.77916884, -0.78252697, -0.66091466], dtype=float32),\n",
       " array([-0.77830017, -0.7816089 , -0.65918756], dtype=float32),\n",
       " array([-0.7771684 , -0.7805865 , -0.65745306], dtype=float32),\n",
       " array([-0.7754803 , -0.77925634, -0.65556127], dtype=float32),\n",
       " array([-0.77360463, -0.7776077 , -0.6535882 ], dtype=float32),\n",
       " array([-0.7696841 , -0.77386874, -0.65189683], dtype=float32),\n",
       " array([-0.76082027, -0.76457536, -0.6499201 ], dtype=float32),\n",
       " array([-0.75092626, -0.7543278 , -0.64881265], dtype=float32),\n",
       " array([-0.71179914, -0.71184933, -0.6501619 ], dtype=float32),\n",
       " array([-0.5990504 , -0.59840494, -0.6593273 ], dtype=float32),\n",
       " array([-0.37957463, -0.381814  , -0.57060844], dtype=float32),\n",
       " array([ 0.55116796,  0.598812  , -0.09777368], dtype=float32),\n",
       " array([0.79060674, 0.9835265 , 0.27924109], dtype=float32),\n",
       " array([0.9737617, 1.1723813, 0.6605311], dtype=float32),\n",
       " array([1.1064842, 1.3449033, 1.0450078], dtype=float32),\n",
       " array([1.1746067, 1.4517415, 1.3129005], dtype=float32),\n",
       " array([1.2372478, 1.5450898, 1.565157 ], dtype=float32),\n",
       " array([1.246812 , 1.6171544, 1.7044809], dtype=float32),\n",
       " array([1.2708398, 1.6298658, 1.7959938], dtype=float32),\n",
       " array([1.2677269, 1.6172417, 1.8296055], dtype=float32),\n",
       " array([1.2921565, 1.6536036, 1.8144168], dtype=float32),\n",
       " array([1.2687453, 1.6257067, 1.7395922], dtype=float32),\n",
       " array([1.2371218, 1.5536423, 1.602297 ], dtype=float32),\n",
       " array([1.1632109, 1.464125 , 1.3912143], dtype=float32),\n",
       " array([1.0549389, 1.3413548, 1.1130549], dtype=float32),\n",
       " array([0.9100187, 1.1894319, 0.7922795], dtype=float32),\n",
       " array([0.73930955, 0.9673177 , 0.4355952 ], dtype=float32),\n",
       " array([0.5536436 , 0.6906142 , 0.08801877], dtype=float32),\n",
       " array([ 0.14773571,  0.2088119 , -0.27226406], dtype=float32),\n",
       " array([-0.47355476, -0.4729728 , -0.5840509 ], dtype=float32),\n",
       " array([-0.7129767 , -0.7411366 , -0.60617775], dtype=float32),\n",
       " array([-0.76836073, -0.7960363 , -0.63859487], dtype=float32)]"
      ]
     },
     "execution_count": 102,
     "metadata": {},
     "output_type": "execute_result"
    }
   ],
   "source": [
    "y_pred_arr"
   ]
  },
  {
   "cell_type": "code",
   "execution_count": 103,
   "id": "e082081d",
   "metadata": {},
   "outputs": [
    {
     "data": {
      "text/plain": [
       "(48, 3)"
      ]
     },
     "execution_count": 103,
     "metadata": {},
     "output_type": "execute_result"
    }
   ],
   "source": [
    "y_pred_arr = np.array(y_pred_arr)\n",
    "y_pred_arr.shape"
   ]
  },
  {
   "cell_type": "markdown",
   "id": "3831daa0",
   "metadata": {},
   "source": [
    "##### Inverse Scaling the data"
   ]
  },
  {
   "cell_type": "code",
   "execution_count": 104,
   "id": "2138cdb3",
   "metadata": {},
   "outputs": [],
   "source": [
    "df_solar_considered = df_solar[:ts_length][['Clearsky DHI', 'Clearsky DNI', 'Clearsky GHI']]\n",
    "df_solar_train = df_solar_considered[:-predict_len]\n",
    "df_solar_test = df_solar_considered[-predict_len:]"
   ]
  },
  {
   "cell_type": "code",
   "execution_count": 105,
   "id": "7e2c2aae",
   "metadata": {},
   "outputs": [],
   "source": [
    "df_y_pred = pd.DataFrame(data=y_pred_arr, index=df_solar_test.index, \n",
    "             columns=['Clearsky DHI', 'Clearsky DNI', 'Clearsky GHI'])"
   ]
  },
  {
   "cell_type": "code",
   "execution_count": 106,
   "id": "80a7e128",
   "metadata": {},
   "outputs": [
    {
     "data": {
      "text/plain": [
       "Index(['Temperature', 'Relative Humidity', 'Solar Zenith Angle',\n",
       "       'Precipitable Water'],\n",
       "      dtype='object')"
      ]
     },
     "execution_count": 106,
     "metadata": {},
     "output_type": "execute_result"
    }
   ],
   "source": [
    "df_solar.columns[3:]"
   ]
  },
  {
   "cell_type": "code",
   "execution_count": 107,
   "id": "1e49a540",
   "metadata": {},
   "outputs": [
    {
     "data": {
      "text/plain": [
       "array([[ 1.50069152,  0.82734323,  0.07419764,  1.76629999],\n",
       "       [ 1.51779139,  0.78035207,  0.23795307,  1.76629999],\n",
       "       [ 1.53489126,  0.78338376,  0.40382148,  1.84464986],\n",
       "       ...,\n",
       "       [ 1.58619086,  0.61209343, -0.4603846 ,  1.37455062],\n",
       "       [ 1.51779139,  0.61285136, -0.30138336,  1.29620074],\n",
       "       [ 1.51779139,  0.61285136, -0.14607982,  1.29620074]])"
      ]
     },
     "execution_count": 107,
     "metadata": {},
     "output_type": "execute_result"
    }
   ],
   "source": [
    "X[:,3:]"
   ]
  },
  {
   "cell_type": "code",
   "execution_count": 108,
   "id": "b148901f",
   "metadata": {},
   "outputs": [],
   "source": [
    "df_temp_inv_trans = pd.DataFrame(data=X[-predict_len:,3:], index=df_solar_test.index, columns=df_solar.columns[3:])"
   ]
  },
  {
   "cell_type": "code",
   "execution_count": 109,
   "id": "7d04033b",
   "metadata": {},
   "outputs": [],
   "source": [
    "y_pred = pd.concat([df_y_pred, df_temp_inv_trans], axis=1)"
   ]
  },
  {
   "cell_type": "code",
   "execution_count": 110,
   "id": "e12fb2fc",
   "metadata": {},
   "outputs": [],
   "source": [
    "y_pred_sc_inv = scalar_std.inverse_transform(y_pred)"
   ]
  },
  {
   "cell_type": "code",
   "execution_count": 111,
   "id": "86c33c2b",
   "metadata": {},
   "outputs": [
    {
     "data": {
      "text/html": [
       "<div>\n",
       "<style scoped>\n",
       "    .dataframe tbody tr th:only-of-type {\n",
       "        vertical-align: middle;\n",
       "    }\n",
       "\n",
       "    .dataframe tbody tr th {\n",
       "        vertical-align: top;\n",
       "    }\n",
       "\n",
       "    .dataframe thead th {\n",
       "        text-align: right;\n",
       "    }\n",
       "</style>\n",
       "<table border=\"1\" class=\"dataframe\">\n",
       "  <thead>\n",
       "    <tr style=\"text-align: right;\">\n",
       "      <th></th>\n",
       "      <th>Clearsky DHI</th>\n",
       "      <th>Clearsky DNI</th>\n",
       "      <th>Clearsky GHI</th>\n",
       "    </tr>\n",
       "    <tr>\n",
       "      <th>Date</th>\n",
       "      <th></th>\n",
       "      <th></th>\n",
       "      <th></th>\n",
       "    </tr>\n",
       "  </thead>\n",
       "  <tbody>\n",
       "    <tr>\n",
       "      <th>2018-12-31 20:30:00</th>\n",
       "      <td>64.473322</td>\n",
       "      <td>730.064894</td>\n",
       "      <td>323.780971</td>\n",
       "    </tr>\n",
       "    <tr>\n",
       "      <th>2018-12-31 08:30:00</th>\n",
       "      <td>-0.787396</td>\n",
       "      <td>-1.673814</td>\n",
       "      <td>7.628041</td>\n",
       "    </tr>\n",
       "  </tbody>\n",
       "</table>\n",
       "</div>"
      ],
      "text/plain": [
       "                     Clearsky DHI  Clearsky DNI  Clearsky GHI\n",
       "Date                                                         \n",
       "2018-12-31 20:30:00     64.473322    730.064894    323.780971\n",
       "2018-12-31 08:30:00     -0.787396     -1.673814      7.628041"
      ]
     },
     "execution_count": 111,
     "metadata": {},
     "output_type": "execute_result"
    }
   ],
   "source": [
    "df_solar_pred = pd.DataFrame(data=y_pred_sc_inv, index=df_solar_test.index, columns=df_solar.columns)\n",
    "df_solar_pred = df_solar_pred[['Clearsky DHI', 'Clearsky DNI', 'Clearsky GHI']]\n",
    "df_solar_pred.sample(2)"
   ]
  },
  {
   "cell_type": "code",
   "execution_count": 112,
   "id": "704ff87c",
   "metadata": {},
   "outputs": [
    {
     "data": {
      "image/png": "[encoded data removed]",
      "text/plain": [
       "<Figure size 864x648 with 3 Axes>"
      ]
     },
     "metadata": {
      "needs_background": "light"
     },
     "output_type": "display_data"
    }
   ],
   "source": [
    "plt.figure(figsize=(12, 9))\n",
    "cnt = 1\n",
    "for col in df_solar_pred.columns:\n",
    "    plt.subplot(3, 1, cnt)\n",
    "    plt.plot(df_solar_train[col], label='train')\n",
    "    plt.plot(df_solar_test[col], label='test')\n",
    "    plt.plot(df_solar_pred[col], label='Pred')\n",
    "    plt.xticks(rotation=45)\n",
    "    plt.legend(loc='best')\n",
    "    cnt += 1\n",
    "\n",
    "plt.tight_layout()\n",
    "plt.show()"
   ]
  },
  {
   "cell_type": "markdown",
   "id": "5c131f78",
   "metadata": {},
   "source": [
    "### Predicting for Future (Forecasting)"
   ]
  },
  {
   "cell_type": "code",
   "execution_count": 121,
   "id": "7a84a4ec",
   "metadata": {},
   "outputs": [
    {
     "data": {
      "text/plain": [
       "array([], shape=(0, 7), dtype=float64)"
      ]
     },
     "execution_count": 121,
     "metadata": {},
     "output_type": "execute_result"
    }
   ],
   "source": [
    "X_arr[-predict_len+0:0,:]"
   ]
  },
  {
   "cell_type": "code",
   "execution_count": null,
   "id": "fccd9d9b",
   "metadata": {},
   "outputs": [],
   "source": [
    "predict_len = 48*1\n",
    "X_arr = np.array(X)"
   ]
  },
  {
   "cell_type": "code",
   "execution_count": 132,
   "id": "a3b98873",
   "metadata": {},
   "outputs": [
    {
     "data": {
      "text/plain": [
       "(47, 7)"
      ]
     },
     "execution_count": 132,
     "metadata": {},
     "output_type": "execute_result"
    }
   ],
   "source": [
    "X[-47:,:].shape"
   ]
  },
  {
   "cell_type": "code",
   "execution_count": 119,
   "id": "8f9454f4",
   "metadata": {},
   "outputs": [
    {
     "name": "stdout",
     "output_type": "stream",
     "text": [
      "[[-0.75792994 -0.77710023 -0.69420811 ...  0.82734323  0.07419764\n",
      "   1.76629999]\n",
      " [-0.75792994 -0.77710023 -0.69420811 ...  0.78035207  0.23795307\n",
      "   1.76629999]\n",
      " [-0.75792994 -0.77710023 -0.69420811 ...  0.78338376  0.40382148\n",
      "   1.84464986]\n",
      " ...\n",
      " [-0.36987441 -0.46733161 -0.6115696  ...  0.61209343 -0.4603846\n",
      "   1.37455062]\n",
      " [-0.75792994 -0.77710023 -0.69420811 ...  0.61285136 -0.30138336\n",
      "   1.29620074]\n",
      " [-0.75792994 -0.77710023 -0.69420811 ...  0.61285136 -0.14607982\n",
      "   1.29620074]] 48\n",
      "[]\n",
      "[]\n"
     ]
    },
    {
     "ename": "InvalidArgumentError",
     "evalue": " Tried to stack elements of an empty list with non-fully-defined element_shape: [?,64]\n\t [[node model/gru/TensorArrayV2Stack/TensorListStack (defined at <ipython-input-113-1213591f4be8>:5) ]] [Op:__inference_predict_function_30208]\n\nFunction call stack:\npredict_function\n",
     "output_type": "error",
     "traceback": [
      "\u001b[1;31m---------------------------------------------------------------------------\u001b[0m",
      "\u001b[1;31mInvalidArgumentError\u001b[0m                      Traceback (most recent call last)",
      "\u001b[1;32m<ipython-input-119-5e89763e2c51>\u001b[0m in \u001b[0;36m<module>\u001b[1;34m\u001b[0m\n\u001b[0;32m      6\u001b[0m     \u001b[0mX_pred_i\u001b[0m \u001b[1;33m=\u001b[0m \u001b[0mnp\u001b[0m\u001b[1;33m.\u001b[0m\u001b[0mexpand_dims\u001b[0m\u001b[1;33m(\u001b[0m\u001b[0mX_pred_i\u001b[0m\u001b[1;33m,\u001b[0m \u001b[0maxis\u001b[0m\u001b[1;33m=\u001b[0m\u001b[1;36m0\u001b[0m\u001b[1;33m)\u001b[0m\u001b[1;33m\u001b[0m\u001b[1;33m\u001b[0m\u001b[0m\n\u001b[0;32m      7\u001b[0m     \u001b[0mprint\u001b[0m\u001b[1;33m(\u001b[0m\u001b[0mX_pred_i\u001b[0m\u001b[1;33m)\u001b[0m\u001b[1;33m\u001b[0m\u001b[1;33m\u001b[0m\u001b[0m\n\u001b[1;32m----> 8\u001b[1;33m     \u001b[0mprint\u001b[0m\u001b[1;33m(\u001b[0m\u001b[0mmodel_lstm1\u001b[0m\u001b[1;33m.\u001b[0m\u001b[0mpredict\u001b[0m\u001b[1;33m(\u001b[0m\u001b[0mX_pred_i\u001b[0m\u001b[1;33m)\u001b[0m\u001b[1;33m[\u001b[0m\u001b[1;36m0\u001b[0m\u001b[1;33m]\u001b[0m\u001b[1;33m)\u001b[0m\u001b[1;33m\u001b[0m\u001b[1;33m\u001b[0m\u001b[0m\n\u001b[0m",
      "\u001b[1;32mC:\\ProgramData\\Anaconda3\\envs\\tensorflow_gpu\\lib\\site-packages\\tensorflow\\python\\keras\\engine\\training.py\u001b[0m in \u001b[0;36mpredict\u001b[1;34m(self, x, batch_size, verbose, steps, callbacks, max_queue_size, workers, use_multiprocessing)\u001b[0m\n\u001b[0;32m   1752\u001b[0m           \u001b[1;32mfor\u001b[0m \u001b[0mstep\u001b[0m \u001b[1;32min\u001b[0m \u001b[0mdata_handler\u001b[0m\u001b[1;33m.\u001b[0m\u001b[0msteps\u001b[0m\u001b[1;33m(\u001b[0m\u001b[1;33m)\u001b[0m\u001b[1;33m:\u001b[0m\u001b[1;33m\u001b[0m\u001b[1;33m\u001b[0m\u001b[0m\n\u001b[0;32m   1753\u001b[0m             \u001b[0mcallbacks\u001b[0m\u001b[1;33m.\u001b[0m\u001b[0mon_predict_batch_begin\u001b[0m\u001b[1;33m(\u001b[0m\u001b[0mstep\u001b[0m\u001b[1;33m)\u001b[0m\u001b[1;33m\u001b[0m\u001b[1;33m\u001b[0m\u001b[0m\n\u001b[1;32m-> 1754\u001b[1;33m             \u001b[0mtmp_batch_outputs\u001b[0m \u001b[1;33m=\u001b[0m \u001b[0mself\u001b[0m\u001b[1;33m.\u001b[0m\u001b[0mpredict_function\u001b[0m\u001b[1;33m(\u001b[0m\u001b[0miterator\u001b[0m\u001b[1;33m)\u001b[0m\u001b[1;33m\u001b[0m\u001b[1;33m\u001b[0m\u001b[0m\n\u001b[0m\u001b[0;32m   1755\u001b[0m             \u001b[1;32mif\u001b[0m \u001b[0mdata_handler\u001b[0m\u001b[1;33m.\u001b[0m\u001b[0mshould_sync\u001b[0m\u001b[1;33m:\u001b[0m\u001b[1;33m\u001b[0m\u001b[1;33m\u001b[0m\u001b[0m\n\u001b[0;32m   1756\u001b[0m               \u001b[0mcontext\u001b[0m\u001b[1;33m.\u001b[0m\u001b[0masync_wait\u001b[0m\u001b[1;33m(\u001b[0m\u001b[1;33m)\u001b[0m\u001b[1;33m\u001b[0m\u001b[1;33m\u001b[0m\u001b[0m\n",
      "\u001b[1;32mC:\\ProgramData\\Anaconda3\\envs\\tensorflow_gpu\\lib\\site-packages\\tensorflow\\python\\eager\\def_function.py\u001b[0m in \u001b[0;36m__call__\u001b[1;34m(self, *args, **kwds)\u001b[0m\n\u001b[0;32m    883\u001b[0m \u001b[1;33m\u001b[0m\u001b[0m\n\u001b[0;32m    884\u001b[0m       \u001b[1;32mwith\u001b[0m \u001b[0mOptionalXlaContext\u001b[0m\u001b[1;33m(\u001b[0m\u001b[0mself\u001b[0m\u001b[1;33m.\u001b[0m\u001b[0m_jit_compile\u001b[0m\u001b[1;33m)\u001b[0m\u001b[1;33m:\u001b[0m\u001b[1;33m\u001b[0m\u001b[1;33m\u001b[0m\u001b[0m\n\u001b[1;32m--> 885\u001b[1;33m         \u001b[0mresult\u001b[0m \u001b[1;33m=\u001b[0m \u001b[0mself\u001b[0m\u001b[1;33m.\u001b[0m\u001b[0m_call\u001b[0m\u001b[1;33m(\u001b[0m\u001b[1;33m*\u001b[0m\u001b[0margs\u001b[0m\u001b[1;33m,\u001b[0m \u001b[1;33m**\u001b[0m\u001b[0mkwds\u001b[0m\u001b[1;33m)\u001b[0m\u001b[1;33m\u001b[0m\u001b[1;33m\u001b[0m\u001b[0m\n\u001b[0m\u001b[0;32m    886\u001b[0m \u001b[1;33m\u001b[0m\u001b[0m\n\u001b[0;32m    887\u001b[0m       \u001b[0mnew_tracing_count\u001b[0m \u001b[1;33m=\u001b[0m \u001b[0mself\u001b[0m\u001b[1;33m.\u001b[0m\u001b[0mexperimental_get_tracing_count\u001b[0m\u001b[1;33m(\u001b[0m\u001b[1;33m)\u001b[0m\u001b[1;33m\u001b[0m\u001b[1;33m\u001b[0m\u001b[0m\n",
      "\u001b[1;32mC:\\ProgramData\\Anaconda3\\envs\\tensorflow_gpu\\lib\\site-packages\\tensorflow\\python\\eager\\def_function.py\u001b[0m in \u001b[0;36m_call\u001b[1;34m(self, *args, **kwds)\u001b[0m\n\u001b[0;32m    918\u001b[0m       \u001b[1;31m# In this case we have not created variables on the first call. So we can\u001b[0m\u001b[1;33m\u001b[0m\u001b[1;33m\u001b[0m\u001b[1;33m\u001b[0m\u001b[0m\n\u001b[0;32m    919\u001b[0m       \u001b[1;31m# run the first trace but we should fail if variables are created.\u001b[0m\u001b[1;33m\u001b[0m\u001b[1;33m\u001b[0m\u001b[1;33m\u001b[0m\u001b[0m\n\u001b[1;32m--> 920\u001b[1;33m       \u001b[0mresults\u001b[0m \u001b[1;33m=\u001b[0m \u001b[0mself\u001b[0m\u001b[1;33m.\u001b[0m\u001b[0m_stateful_fn\u001b[0m\u001b[1;33m(\u001b[0m\u001b[1;33m*\u001b[0m\u001b[0margs\u001b[0m\u001b[1;33m,\u001b[0m \u001b[1;33m**\u001b[0m\u001b[0mkwds\u001b[0m\u001b[1;33m)\u001b[0m\u001b[1;33m\u001b[0m\u001b[1;33m\u001b[0m\u001b[0m\n\u001b[0m\u001b[0;32m    921\u001b[0m       \u001b[1;32mif\u001b[0m \u001b[0mself\u001b[0m\u001b[1;33m.\u001b[0m\u001b[0m_created_variables\u001b[0m\u001b[1;33m:\u001b[0m\u001b[1;33m\u001b[0m\u001b[1;33m\u001b[0m\u001b[0m\n\u001b[0;32m    922\u001b[0m         raise ValueError(\"Creating variables on a non-first call to a function\"\n",
      "\u001b[1;32mC:\\ProgramData\\Anaconda3\\envs\\tensorflow_gpu\\lib\\site-packages\\tensorflow\\python\\eager\\function.py\u001b[0m in \u001b[0;36m__call__\u001b[1;34m(self, *args, **kwargs)\u001b[0m\n\u001b[0;32m   3030\u001b[0m       (graph_function,\n\u001b[0;32m   3031\u001b[0m        filtered_flat_args) = self._maybe_define_function(args, kwargs)\n\u001b[1;32m-> 3032\u001b[1;33m     return graph_function._call_flat(\n\u001b[0m\u001b[0;32m   3033\u001b[0m         filtered_flat_args, captured_inputs=graph_function.captured_inputs)  # pylint: disable=protected-access\n\u001b[0;32m   3034\u001b[0m \u001b[1;33m\u001b[0m\u001b[0m\n",
      "\u001b[1;32mC:\\ProgramData\\Anaconda3\\envs\\tensorflow_gpu\\lib\\site-packages\\tensorflow\\python\\eager\\function.py\u001b[0m in \u001b[0;36m_call_flat\u001b[1;34m(self, args, captured_inputs, cancellation_manager)\u001b[0m\n\u001b[0;32m   1954\u001b[0m         and executing_eagerly):\n\u001b[0;32m   1955\u001b[0m       \u001b[1;31m# No tape is watching; skip to running the function.\u001b[0m\u001b[1;33m\u001b[0m\u001b[1;33m\u001b[0m\u001b[1;33m\u001b[0m\u001b[0m\n\u001b[1;32m-> 1956\u001b[1;33m       return self._build_call_outputs(self._inference_function.call(\n\u001b[0m\u001b[0;32m   1957\u001b[0m           ctx, args, cancellation_manager=cancellation_manager))\n\u001b[0;32m   1958\u001b[0m     forward_backward = self._select_forward_and_backward_functions(\n",
      "\u001b[1;32mC:\\ProgramData\\Anaconda3\\envs\\tensorflow_gpu\\lib\\site-packages\\tensorflow\\python\\eager\\function.py\u001b[0m in \u001b[0;36mcall\u001b[1;34m(self, ctx, args, cancellation_manager)\u001b[0m\n\u001b[0;32m    589\u001b[0m       \u001b[1;32mwith\u001b[0m \u001b[0m_InterpolateFunctionError\u001b[0m\u001b[1;33m(\u001b[0m\u001b[0mself\u001b[0m\u001b[1;33m)\u001b[0m\u001b[1;33m:\u001b[0m\u001b[1;33m\u001b[0m\u001b[1;33m\u001b[0m\u001b[0m\n\u001b[0;32m    590\u001b[0m         \u001b[1;32mif\u001b[0m \u001b[0mcancellation_manager\u001b[0m \u001b[1;32mis\u001b[0m \u001b[1;32mNone\u001b[0m\u001b[1;33m:\u001b[0m\u001b[1;33m\u001b[0m\u001b[1;33m\u001b[0m\u001b[0m\n\u001b[1;32m--> 591\u001b[1;33m           outputs = execute.execute(\n\u001b[0m\u001b[0;32m    592\u001b[0m               \u001b[0mstr\u001b[0m\u001b[1;33m(\u001b[0m\u001b[0mself\u001b[0m\u001b[1;33m.\u001b[0m\u001b[0msignature\u001b[0m\u001b[1;33m.\u001b[0m\u001b[0mname\u001b[0m\u001b[1;33m)\u001b[0m\u001b[1;33m,\u001b[0m\u001b[1;33m\u001b[0m\u001b[1;33m\u001b[0m\u001b[0m\n\u001b[0;32m    593\u001b[0m               \u001b[0mnum_outputs\u001b[0m\u001b[1;33m=\u001b[0m\u001b[0mself\u001b[0m\u001b[1;33m.\u001b[0m\u001b[0m_num_outputs\u001b[0m\u001b[1;33m,\u001b[0m\u001b[1;33m\u001b[0m\u001b[1;33m\u001b[0m\u001b[0m\n",
      "\u001b[1;32mC:\\ProgramData\\Anaconda3\\envs\\tensorflow_gpu\\lib\\site-packages\\tensorflow\\python\\eager\\execute.py\u001b[0m in \u001b[0;36mquick_execute\u001b[1;34m(op_name, num_outputs, inputs, attrs, ctx, name)\u001b[0m\n\u001b[0;32m     57\u001b[0m   \u001b[1;32mtry\u001b[0m\u001b[1;33m:\u001b[0m\u001b[1;33m\u001b[0m\u001b[1;33m\u001b[0m\u001b[0m\n\u001b[0;32m     58\u001b[0m     \u001b[0mctx\u001b[0m\u001b[1;33m.\u001b[0m\u001b[0mensure_initialized\u001b[0m\u001b[1;33m(\u001b[0m\u001b[1;33m)\u001b[0m\u001b[1;33m\u001b[0m\u001b[1;33m\u001b[0m\u001b[0m\n\u001b[1;32m---> 59\u001b[1;33m     tensors = pywrap_tfe.TFE_Py_Execute(ctx._handle, device_name, op_name,\n\u001b[0m\u001b[0;32m     60\u001b[0m                                         inputs, attrs, num_outputs)\n\u001b[0;32m     61\u001b[0m   \u001b[1;32mexcept\u001b[0m \u001b[0mcore\u001b[0m\u001b[1;33m.\u001b[0m\u001b[0m_NotOkStatusException\u001b[0m \u001b[1;32mas\u001b[0m \u001b[0me\u001b[0m\u001b[1;33m:\u001b[0m\u001b[1;33m\u001b[0m\u001b[1;33m\u001b[0m\u001b[0m\n",
      "\u001b[1;31mInvalidArgumentError\u001b[0m:  Tried to stack elements of an empty list with non-fully-defined element_shape: [?,64]\n\t [[node model/gru/TensorArrayV2Stack/TensorListStack (defined at <ipython-input-113-1213591f4be8>:5) ]] [Op:__inference_predict_function_30208]\n\nFunction call stack:\npredict_function\n"
     ]
    }
   ],
   "source": [
    "y_pred_arr = []\n",
    "print(X_arr, predict_len)\n",
    "for i in range(predict_len):\n",
    "    X_pred_i = X_arr[-predict_len+i:i,:]\n",
    "    print(X_pred_i)\n",
    "    X_pred_i = np.expand_dims(X_pred_i, axis=0)\n",
    "    print(X_pred_i)\n",
    "    print(model_lstm1.predict(X_pred_i)[0])"
   ]
  },
  {
   "cell_type": "code",
   "execution_count": null,
   "id": "96c0a993",
   "metadata": {},
   "outputs": [],
   "source": []
  }
 ],
 "metadata": {
  "kernelspec": {
   "display_name": "Python 3",
   "language": "python",
   "name": "python3"
  },
  "language_info": {
   "codemirror_mode": {
    "name": "ipython",
    "version": 3
   },
   "file_extension": ".py",
   "mimetype": "text/x-python",
   "name": "python",
   "nbconvert_exporter": "python",
   "pygments_lexer": "ipython3",
   "version": "3.9.4"
  }
 },
 "nbformat": 4,
 "nbformat_minor": 5
}
