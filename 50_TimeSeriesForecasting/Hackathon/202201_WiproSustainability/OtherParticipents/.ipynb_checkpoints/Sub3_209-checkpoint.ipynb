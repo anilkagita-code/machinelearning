{
 "cells": [
  {
   "cell_type": "code",
   "execution_count": 1,
   "id": "87adfca3",
   "metadata": {
    "ExecuteTime": {
     "end_time": "2022-02-04T14:10:44.535898Z",
     "start_time": "2022-02-04T14:10:36.435025Z"
    }
   },
   "outputs": [],
   "source": [
    "from pandas import read_csv\n",
    "from keras.models import Sequential\n",
    "from keras.layers import Dense\n",
    "from keras.wrappers.scikit_learn import KerasRegressor\n",
    "from sklearn.model_selection import cross_val_score\n",
    "from sklearn.model_selection import KFold\n",
    "from sklearn.pipeline import Pipeline\n",
    "from sklearn.model_selection import train_test_split"
   ]
  },
  {
   "cell_type": "code",
   "execution_count": 2,
   "id": "298c0d65",
   "metadata": {
    "ExecuteTime": {
     "end_time": "2022-02-04T14:12:07.239774Z",
     "start_time": "2022-02-04T14:12:06.922339Z"
    }
   },
   "outputs": [],
   "source": [
    "df = read_csv(\"train.csv\")"
   ]
  },
  {
   "cell_type": "code",
   "execution_count": 3,
   "id": "01df6c1a",
   "metadata": {
    "ExecuteTime": {
     "end_time": "2022-02-04T14:12:13.607777Z",
     "start_time": "2022-02-04T14:12:13.584894Z"
    }
   },
   "outputs": [],
   "source": [
    "X = df.drop(columns=['Clearsky GHI','Clearsky DHI','Clearsky DNI','Fill Flag'], axis=1)\n",
    "y = df['Clearsky DNI']\n",
    "y1 = df['Clearsky DHI']\n",
    "y2 = df['Clearsky GHI']"
   ]
  },
  {
   "cell_type": "code",
   "execution_count": 4,
   "id": "d54cdba4",
   "metadata": {
    "ExecuteTime": {
     "end_time": "2022-02-04T14:12:30.370609Z",
     "start_time": "2022-02-04T14:12:30.266754Z"
    }
   },
   "outputs": [],
   "source": [
    "X_train, X_test, y_train, y_test = train_test_split(X, y, test_size=0.25, random_state=200)\n",
    "X1_train, X1_test, y1_train, y1_test = train_test_split(X, y1, test_size=0.25, random_state=200)\n",
    "X2_train, X2_test, y2_train, y2_test = train_test_split(X, y2, test_size=0.25, random_state=200)"
   ]
  },
  {
   "cell_type": "code",
   "execution_count": 5,
   "id": "37e585d9",
   "metadata": {
    "ExecuteTime": {
     "end_time": "2022-02-04T14:12:33.551329Z",
     "start_time": "2022-02-04T14:12:33.353873Z"
    }
   },
   "outputs": [],
   "source": [
    "from sklearn.preprocessing import StandardScaler\n",
    "sc = StandardScaler()\n",
    "sc.fit(X_train)\n",
    "X_train_scaled = sc.transform(X_train)\n",
    "X_test_scaled = sc.transform(X_test)\n",
    "\n",
    "sc2 = StandardScaler()\n",
    "sc2.fit(X1_train)\n",
    "X1_train_scaled = sc2.transform(X1_train)\n",
    "X1_test_scaled = sc2.transform(X1_test)\n",
    "\n",
    "sc3 = StandardScaler()\n",
    "sc3.fit(X1_train)\n",
    "X2_train_scaled = sc3.transform(X2_train)\n",
    "X2_test_scaled = sc3.transform(X2_test)"
   ]
  },
  {
   "cell_type": "code",
   "execution_count": 6,
   "id": "469f24e9",
   "metadata": {
    "ExecuteTime": {
     "end_time": "2022-02-04T14:12:36.282479Z",
     "start_time": "2022-02-04T14:12:36.017559Z"
    }
   },
   "outputs": [],
   "source": [
    "from sklearn.ensemble import ExtraTreesRegressor\n",
    "from sklearn.metrics import mean_squared_error"
   ]
  },
  {
   "cell_type": "code",
   "execution_count": 7,
   "id": "cc3cc80c",
   "metadata": {
    "ExecuteTime": {
     "end_time": "2022-02-04T14:16:58.799333Z",
     "start_time": "2022-02-04T14:13:08.065589Z"
    }
   },
   "outputs": [
    {
     "name": "stdout",
     "output_type": "stream",
     "text": [
      "Mean Squared Error using extra tree:  994.317243063892\n"
     ]
    }
   ],
   "source": [
    "tree = ExtraTreesRegressor(n_estimators=750)\n",
    "tree.fit(X_train_scaled, y_train)\n",
    "y_pred = tree.predict(X_test_scaled)\n",
    "mse = mean_squared_error(y_test, y_pred)\n",
    "print('Mean Squared Error using extra tree: ',mse)"
   ]
  },
  {
   "cell_type": "code",
   "execution_count": 8,
   "id": "a5d16b6c",
   "metadata": {
    "ExecuteTime": {
     "end_time": "2022-02-04T14:20:25.236115Z",
     "start_time": "2022-02-04T14:16:58.809380Z"
    }
   },
   "outputs": [
    {
     "name": "stdout",
     "output_type": "stream",
     "text": [
      "Mse  83.88720877542494\n"
     ]
    }
   ],
   "source": [
    "tree1 = ExtraTreesRegressor(n_estimators=750)\n",
    "tree1.fit(X1_train_scaled, y1_train)\n",
    "y1_pred = tree1.predict(X1_test_scaled)\n",
    "mse = mean_squared_error(y1_test, y1_pred)\n",
    "print('Mse ',mse)"
   ]
  },
  {
   "cell_type": "code",
   "execution_count": 9,
   "id": "fc256d8d",
   "metadata": {
    "ExecuteTime": {
     "end_time": "2022-02-04T14:23:52.738707Z",
     "start_time": "2022-02-04T14:20:25.276111Z"
    }
   },
   "outputs": [
    {
     "name": "stdout",
     "output_type": "stream",
     "text": [
      "Mse 34.08170275084175\n"
     ]
    }
   ],
   "source": [
    "tree2 = ExtraTreesRegressor(n_estimators=750)\n",
    "tree2.fit(X2_train_scaled, y2_train)\n",
    "y2_pred = tree2.predict(X2_test_scaled)\n",
    "mse = mean_squared_error(y2_test, y2_pred)\n",
    "print('Mse', mse)"
   ]
  },
  {
   "cell_type": "code",
   "execution_count": null,
   "id": "9ae08e82",
   "metadata": {
    "ExecuteTime": {
     "end_time": "2022-02-04T14:07:39.045782Z",
     "start_time": "2022-02-04T14:07:27.772122Z"
    }
   },
   "outputs": [],
   "source": [
    "test = read_csv(\"test.csv\")\n",
    "test1 = test.drop(columns=['Clearsky GHI','Clearsky DHI','Clearsky DNI','Fill Flag'])\n",
    "\n",
    "pred1 = tree.predict(test1)\n",
    "pred2 = tree1.predict(test1)\n",
    "pred3 = tree2.predict(test1)"
   ]
  },
  {
   "cell_type": "code",
   "execution_count": null,
   "id": "bd197419",
   "metadata": {
    "ExecuteTime": {
     "end_time": "2022-02-04T13:25:53.225747Z",
     "start_time": "2022-02-04T13:25:52.891018Z"
    }
   },
   "outputs": [],
   "source": [
    "#import numpy as np\n",
    "#pred3 = GHI(pred1, pred2, test['Solar Zenith Angle'])"
   ]
  },
  {
   "cell_type": "code",
   "execution_count": null,
   "id": "e70647f8",
   "metadata": {
    "ExecuteTime": {
     "end_time": "2022-02-04T14:07:47.215999Z",
     "start_time": "2022-02-04T14:07:47.139767Z"
    }
   },
   "outputs": [],
   "source": [
    "import pandas as pd\n",
    "sub = pd.DataFrame()\n",
    "sub['Clearsky DHI'] = pred2\n",
    "sub['Clearsky DNI'] = pred1\n",
    "sub['Clearsky GHI'] = pred3\n",
    "\n",
    "sub['Clearsky DHI'] = sub['Clearsky DHI'].astype('int')\n",
    "sub['Clearsky DNI'] = sub['Clearsky DNI'].astype('int')\n",
    "sub['Clearsky GHI'] = sub['Clearsky GHI'].astype('int')"
   ]
  },
  {
   "cell_type": "code",
   "execution_count": null,
   "id": "792cbfbb",
   "metadata": {
    "ExecuteTime": {
     "end_time": "2022-02-04T14:07:53.756217Z",
     "start_time": "2022-02-04T14:07:53.555952Z"
    }
   },
   "outputs": [],
   "source": [
    "sub.to_csv('submission2.csv', index=False)"
   ]
  },
  {
   "cell_type": "code",
   "execution_count": null,
   "id": "e514dcb4",
   "metadata": {},
   "outputs": [],
   "source": []
  }
 ],
 "metadata": {
  "kernelspec": {
   "display_name": "Python 3",
   "language": "python",
   "name": "python3"
  },
  "language_info": {
   "codemirror_mode": {
    "name": "ipython",
    "version": 3
   },
   "file_extension": ".py",
   "mimetype": "text/x-python",
   "name": "python",
   "nbconvert_exporter": "python",
   "pygments_lexer": "ipython3",
   "version": "3.9.4"
  },
  "toc": {
   "base_numbering": 1,
   "nav_menu": {},
   "number_sections": true,
   "sideBar": true,
   "skip_h1_title": false,
   "title_cell": "Table of Contents",
   "title_sidebar": "Contents",
   "toc_cell": false,
   "toc_position": {},
   "toc_section_display": true,
   "toc_window_display": false
  }
 },
 "nbformat": 4,
 "nbformat_minor": 5
}
