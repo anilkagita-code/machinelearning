{
 "cells": [
  {
   "cell_type": "code",
   "execution_count": 1,
   "id": "c37f76af",
   "metadata": {},
   "outputs": [],
   "source": [
    "import tensorflow as tf\n",
    "gpus = tf.config.experimental.list_physical_devices('GPU')\n",
    "for gpu in gpus:\n",
    "    tf.config.experimental.set_memory_growth(gpu, enable=True)"
   ]
  },
  {
   "cell_type": "code",
   "execution_count": 2,
   "id": "ae762ea0",
   "metadata": {},
   "outputs": [],
   "source": [
    "import numpy as np\n",
    "import pandas as pd\n",
    "import matplotlib.pyplot as plt"
   ]
  },
  {
   "cell_type": "markdown",
   "id": "c508ac6c",
   "metadata": {},
   "source": [
    "# Data Pre-processing"
   ]
  },
  {
   "cell_type": "markdown",
   "id": "953ecc6d",
   "metadata": {},
   "source": [
    "### Reading the data converting into TimeSeries format"
   ]
  },
  {
   "cell_type": "code",
   "execution_count": 3,
   "id": "dbfa6ea4",
   "metadata": {},
   "outputs": [],
   "source": [
    "def convert_ts_csv_to_df(csvfile):\n",
    "    '''Take the CSV file along with the path and return dataframe'''\n",
    "    df = pd.read_csv(csvfile)\n",
    "    df.insert(loc=0, column='Date', \n",
    "                value=pd.to_datetime(df[['Year', 'Month', 'Day', 'Hour', 'Minute']]))\n",
    "    df.drop(columns=['Year', 'Month', 'Day', 'Hour', 'Minute'], axis=1, inplace=True)\n",
    "    df.set_index(keys='Date', inplace=True)\n",
    "    df=df[['Clearsky DHI', 'Clearsky DNI', 'Clearsky GHI', 'Temperature', 'Cloud Type', 'Dew Point', 'Fill Flag', \n",
    "           'Relative Humidity', 'Solar Zenith Angle', 'Pressure', 'Precipitable Water', 'Wind Direction', 'Wind Speed']]\n",
    "    return df"
   ]
  },
  {
   "cell_type": "code",
   "execution_count": 4,
   "id": "23bd95be",
   "metadata": {},
   "outputs": [],
   "source": [
    "training_csv = 'data/train.csv'\n",
    "testing_csv = 'data/test.csv'"
   ]
  },
  {
   "cell_type": "code",
   "execution_count": 5,
   "id": "c6cafb7d",
   "metadata": {},
   "outputs": [
    {
     "data": {
      "text/html": [
       "<div>\n",
       "<style scoped>\n",
       "    .dataframe tbody tr th:only-of-type {\n",
       "        vertical-align: middle;\n",
       "    }\n",
       "\n",
       "    .dataframe tbody tr th {\n",
       "        vertical-align: top;\n",
       "    }\n",
       "\n",
       "    .dataframe thead th {\n",
       "        text-align: right;\n",
       "    }\n",
       "</style>\n",
       "<table border=\"1\" class=\"dataframe\">\n",
       "  <thead>\n",
       "    <tr style=\"text-align: right;\">\n",
       "      <th></th>\n",
       "      <th>Clearsky DHI</th>\n",
       "      <th>Clearsky DNI</th>\n",
       "      <th>Clearsky GHI</th>\n",
       "      <th>Temperature</th>\n",
       "      <th>Cloud Type</th>\n",
       "      <th>Dew Point</th>\n",
       "      <th>Fill Flag</th>\n",
       "      <th>Relative Humidity</th>\n",
       "      <th>Solar Zenith Angle</th>\n",
       "      <th>Pressure</th>\n",
       "      <th>Precipitable Water</th>\n",
       "      <th>Wind Direction</th>\n",
       "      <th>Wind Speed</th>\n",
       "    </tr>\n",
       "    <tr>\n",
       "      <th>Date</th>\n",
       "      <th></th>\n",
       "      <th></th>\n",
       "      <th></th>\n",
       "      <th></th>\n",
       "      <th></th>\n",
       "      <th></th>\n",
       "      <th></th>\n",
       "      <th></th>\n",
       "      <th></th>\n",
       "      <th></th>\n",
       "      <th></th>\n",
       "      <th></th>\n",
       "      <th></th>\n",
       "    </tr>\n",
       "  </thead>\n",
       "  <tbody>\n",
       "    <tr>\n",
       "      <th>2018-05-10 14:30:00</th>\n",
       "      <td>138</td>\n",
       "      <td>784</td>\n",
       "      <td>709</td>\n",
       "      <td>28.8</td>\n",
       "      <td>0</td>\n",
       "      <td>16.3</td>\n",
       "      <td>0</td>\n",
       "      <td>46.85</td>\n",
       "      <td>43.25</td>\n",
       "      <td>1009</td>\n",
       "      <td>2.8</td>\n",
       "      <td>272.0</td>\n",
       "      <td>2.8</td>\n",
       "    </tr>\n",
       "    <tr>\n",
       "      <th>2018-04-22 09:30:00</th>\n",
       "      <td>0</td>\n",
       "      <td>0</td>\n",
       "      <td>0</td>\n",
       "      <td>15.7</td>\n",
       "      <td>7</td>\n",
       "      <td>14.9</td>\n",
       "      <td>0</td>\n",
       "      <td>95.21</td>\n",
       "      <td>108.39</td>\n",
       "      <td>1011</td>\n",
       "      <td>3.1</td>\n",
       "      <td>110.0</td>\n",
       "      <td>3.6</td>\n",
       "    </tr>\n",
       "  </tbody>\n",
       "</table>\n",
       "</div>"
      ],
      "text/plain": [
       "                     Clearsky DHI  Clearsky DNI  Clearsky GHI  Temperature  \\\n",
       "Date                                                                         \n",
       "2018-05-10 14:30:00           138           784           709         28.8   \n",
       "2018-04-22 09:30:00             0             0             0         15.7   \n",
       "\n",
       "                     Cloud Type  Dew Point  Fill Flag  Relative Humidity  \\\n",
       "Date                                                                       \n",
       "2018-05-10 14:30:00           0       16.3          0              46.85   \n",
       "2018-04-22 09:30:00           7       14.9          0              95.21   \n",
       "\n",
       "                     Solar Zenith Angle  Pressure  Precipitable Water  \\\n",
       "Date                                                                    \n",
       "2018-05-10 14:30:00               43.25      1009                 2.8   \n",
       "2018-04-22 09:30:00              108.39      1011                 3.1   \n",
       "\n",
       "                     Wind Direction  Wind Speed  \n",
       "Date                                             \n",
       "2018-05-10 14:30:00           272.0         2.8  \n",
       "2018-04-22 09:30:00           110.0         3.6  "
      ]
     },
     "execution_count": 5,
     "metadata": {},
     "output_type": "execute_result"
    }
   ],
   "source": [
    "df_solar = convert_ts_csv_to_df(training_csv)\n",
    "df_solar.sample(2)"
   ]
  },
  {
   "cell_type": "code",
   "execution_count": 6,
   "id": "d1833ac9",
   "metadata": {},
   "outputs": [
    {
     "data": {
      "text/html": [
       "<div>\n",
       "<style scoped>\n",
       "    .dataframe tbody tr th:only-of-type {\n",
       "        vertical-align: middle;\n",
       "    }\n",
       "\n",
       "    .dataframe tbody tr th {\n",
       "        vertical-align: top;\n",
       "    }\n",
       "\n",
       "    .dataframe thead th {\n",
       "        text-align: right;\n",
       "    }\n",
       "</style>\n",
       "<table border=\"1\" class=\"dataframe\">\n",
       "  <thead>\n",
       "    <tr style=\"text-align: right;\">\n",
       "      <th></th>\n",
       "      <th>Clearsky DHI</th>\n",
       "      <th>Clearsky DNI</th>\n",
       "      <th>Clearsky GHI</th>\n",
       "      <th>Temperature</th>\n",
       "      <th>Cloud Type</th>\n",
       "      <th>Dew Point</th>\n",
       "      <th>Fill Flag</th>\n",
       "      <th>Relative Humidity</th>\n",
       "      <th>Solar Zenith Angle</th>\n",
       "      <th>Pressure</th>\n",
       "      <th>Precipitable Water</th>\n",
       "      <th>Wind Direction</th>\n",
       "      <th>Wind Speed</th>\n",
       "    </tr>\n",
       "    <tr>\n",
       "      <th>Date</th>\n",
       "      <th></th>\n",
       "      <th></th>\n",
       "      <th></th>\n",
       "      <th></th>\n",
       "      <th></th>\n",
       "      <th></th>\n",
       "      <th></th>\n",
       "      <th></th>\n",
       "      <th></th>\n",
       "      <th></th>\n",
       "      <th></th>\n",
       "      <th></th>\n",
       "      <th></th>\n",
       "    </tr>\n",
       "  </thead>\n",
       "  <tbody>\n",
       "    <tr>\n",
       "      <th>2019-06-09 06:00:00</th>\n",
       "      <td>NaN</td>\n",
       "      <td>NaN</td>\n",
       "      <td>NaN</td>\n",
       "      <td>24.0</td>\n",
       "      <td>7</td>\n",
       "      <td>24.0</td>\n",
       "      <td>0</td>\n",
       "      <td>99.87</td>\n",
       "      <td>124.9</td>\n",
       "      <td>999</td>\n",
       "      <td>5.3</td>\n",
       "      <td>171</td>\n",
       "      <td>3.2</td>\n",
       "    </tr>\n",
       "    <tr>\n",
       "      <th>2019-08-07 13:00:00</th>\n",
       "      <td>NaN</td>\n",
       "      <td>NaN</td>\n",
       "      <td>NaN</td>\n",
       "      <td>28.7</td>\n",
       "      <td>0</td>\n",
       "      <td>23.9</td>\n",
       "      <td>0</td>\n",
       "      <td>75.13</td>\n",
       "      <td>64.9</td>\n",
       "      <td>1003</td>\n",
       "      <td>4.2</td>\n",
       "      <td>260</td>\n",
       "      <td>2.2</td>\n",
       "    </tr>\n",
       "  </tbody>\n",
       "</table>\n",
       "</div>"
      ],
      "text/plain": [
       "                     Clearsky DHI  Clearsky DNI  Clearsky GHI  Temperature  \\\n",
       "Date                                                                         \n",
       "2019-06-09 06:00:00           NaN           NaN           NaN         24.0   \n",
       "2019-08-07 13:00:00           NaN           NaN           NaN         28.7   \n",
       "\n",
       "                     Cloud Type  Dew Point  Fill Flag  Relative Humidity  \\\n",
       "Date                                                                       \n",
       "2019-06-09 06:00:00           7       24.0          0              99.87   \n",
       "2019-08-07 13:00:00           0       23.9          0              75.13   \n",
       "\n",
       "                     Solar Zenith Angle  Pressure  Precipitable Water  \\\n",
       "Date                                                                    \n",
       "2019-06-09 06:00:00               124.9       999                 5.3   \n",
       "2019-08-07 13:00:00                64.9      1003                 4.2   \n",
       "\n",
       "                     Wind Direction  Wind Speed  \n",
       "Date                                             \n",
       "2019-06-09 06:00:00             171         3.2  \n",
       "2019-08-07 13:00:00             260         2.2  "
      ]
     },
     "execution_count": 6,
     "metadata": {},
     "output_type": "execute_result"
    }
   ],
   "source": [
    "# Reading the test dataset as Val\n",
    "# Train dataset shall be split into Train and Test\n",
    "# Val is read to understand the data and null values\n",
    "df_solar_test = convert_ts_csv_to_df(testing_csv)\n",
    "df_solar_test.sample(2)"
   ]
  },
  {
   "cell_type": "markdown",
   "id": "e5253a45",
   "metadata": {},
   "source": [
    "### Data Check"
   ]
  },
  {
   "cell_type": "markdown",
   "id": "ce54a650",
   "metadata": {},
   "source": [
    "##### Null Check"
   ]
  },
  {
   "cell_type": "code",
   "execution_count": 7,
   "id": "ce0886b6",
   "metadata": {},
   "outputs": [
    {
     "data": {
      "text/plain": [
       "Clearsky DHI          0\n",
       "Clearsky DNI          0\n",
       "Clearsky GHI          0\n",
       "Temperature           0\n",
       "Cloud Type            0\n",
       "Dew Point             0\n",
       "Fill Flag             0\n",
       "Relative Humidity     0\n",
       "Solar Zenith Angle    0\n",
       "Pressure              0\n",
       "Precipitable Water    0\n",
       "Wind Direction        0\n",
       "Wind Speed            0\n",
       "dtype: int64"
      ]
     },
     "execution_count": 7,
     "metadata": {},
     "output_type": "execute_result"
    }
   ],
   "source": [
    "df_solar.isnull().sum()"
   ]
  },
  {
   "cell_type": "code",
   "execution_count": 8,
   "id": "a1714a67",
   "metadata": {},
   "outputs": [
    {
     "data": {
      "text/plain": [
       "Clearsky DHI          17520\n",
       "Clearsky DNI          17520\n",
       "Clearsky GHI          17520\n",
       "Temperature               0\n",
       "Cloud Type                0\n",
       "Dew Point                 0\n",
       "Fill Flag                 0\n",
       "Relative Humidity         0\n",
       "Solar Zenith Angle        0\n",
       "Pressure                  0\n",
       "Precipitable Water        0\n",
       "Wind Direction            0\n",
       "Wind Speed                0\n",
       "dtype: int64"
      ]
     },
     "execution_count": 8,
     "metadata": {},
     "output_type": "execute_result"
    }
   ],
   "source": [
    "df_solar_test.isnull().sum()"
   ]
  },
  {
   "cell_type": "markdown",
   "id": "7f873485",
   "metadata": {},
   "source": [
    "# Feature Selection"
   ]
  },
  {
   "cell_type": "markdown",
   "id": "7ffa4e68",
   "metadata": {},
   "source": [
    "##### Datatype Check and convert to floats for Scaling data"
   ]
  },
  {
   "cell_type": "code",
   "execution_count": 9,
   "id": "808f0a01",
   "metadata": {},
   "outputs": [
    {
     "name": "stdout",
     "output_type": "stream",
     "text": [
      "<class 'pandas.core.frame.DataFrame'>\n",
      "DatetimeIndex: 175296 entries, 2009-01-01 00:00:00 to 2018-12-31 23:30:00\n",
      "Data columns (total 13 columns):\n",
      " #   Column              Non-Null Count   Dtype  \n",
      "---  ------              --------------   -----  \n",
      " 0   Clearsky DHI        175296 non-null  int64  \n",
      " 1   Clearsky DNI        175296 non-null  int64  \n",
      " 2   Clearsky GHI        175296 non-null  int64  \n",
      " 3   Temperature         175296 non-null  float64\n",
      " 4   Cloud Type          175296 non-null  int64  \n",
      " 5   Dew Point           175296 non-null  float64\n",
      " 6   Fill Flag           175296 non-null  int64  \n",
      " 7   Relative Humidity   175296 non-null  float64\n",
      " 8   Solar Zenith Angle  175296 non-null  float64\n",
      " 9   Pressure            175296 non-null  int64  \n",
      " 10  Precipitable Water  175296 non-null  float64\n",
      " 11  Wind Direction      175296 non-null  float64\n",
      " 12  Wind Speed          175296 non-null  float64\n",
      "dtypes: float64(7), int64(6)\n",
      "memory usage: 18.7 MB\n"
     ]
    }
   ],
   "source": [
    "df_solar.info()"
   ]
  },
  {
   "cell_type": "code",
   "execution_count": 10,
   "id": "853d7b28",
   "metadata": {},
   "outputs": [],
   "source": [
    "df_solar = df_solar.astype(np.float64)"
   ]
  },
  {
   "cell_type": "code",
   "execution_count": 11,
   "id": "6a076c35",
   "metadata": {},
   "outputs": [
    {
     "name": "stdout",
     "output_type": "stream",
     "text": [
      "<class 'pandas.core.frame.DataFrame'>\n",
      "DatetimeIndex: 175296 entries, 2009-01-01 00:00:00 to 2018-12-31 23:30:00\n",
      "Data columns (total 13 columns):\n",
      " #   Column              Non-Null Count   Dtype  \n",
      "---  ------              --------------   -----  \n",
      " 0   Clearsky DHI        175296 non-null  float64\n",
      " 1   Clearsky DNI        175296 non-null  float64\n",
      " 2   Clearsky GHI        175296 non-null  float64\n",
      " 3   Temperature         175296 non-null  float64\n",
      " 4   Cloud Type          175296 non-null  float64\n",
      " 5   Dew Point           175296 non-null  float64\n",
      " 6   Fill Flag           175296 non-null  float64\n",
      " 7   Relative Humidity   175296 non-null  float64\n",
      " 8   Solar Zenith Angle  175296 non-null  float64\n",
      " 9   Pressure            175296 non-null  float64\n",
      " 10  Precipitable Water  175296 non-null  float64\n",
      " 11  Wind Direction      175296 non-null  float64\n",
      " 12  Wind Speed          175296 non-null  float64\n",
      "dtypes: float64(13)\n",
      "memory usage: 18.7 MB\n"
     ]
    }
   ],
   "source": [
    "df_solar.info()"
   ]
  },
  {
   "cell_type": "markdown",
   "id": "0ddbe8da",
   "metadata": {},
   "source": [
    "##### Feature update based on domain"
   ]
  },
  {
   "cell_type": "code",
   "execution_count": 12,
   "id": "9cf8e1a2",
   "metadata": {},
   "outputs": [
    {
     "name": "stdout",
     "output_type": "stream",
     "text": [
      "\n",
      "Source: https://www.yellowhaze.in/solar-irradiance/\n",
      "Global Horizontal Irradiance (GHI) = Direct Normal Irradiance (DNI)* cos(solar zenith angle)  +  Diffused Horizontal Irradiance (DHI)\n"
     ]
    }
   ],
   "source": [
    "print('''\n",
    "Source: https://www.yellowhaze.in/solar-irradiance/\n",
    "Global Horizontal Irradiance (GHI) = Direct Normal Irradiance (DNI)* cos(solar zenith angle)  +  Diffused Horizontal Irradiance (DHI)''')"
   ]
  },
  {
   "cell_type": "code",
   "execution_count": 13,
   "id": "99bffe0f",
   "metadata": {},
   "outputs": [
    {
     "data": {
      "text/plain": [
       "count    175296.000000\n",
       "mean         89.729463\n",
       "std          40.085451\n",
       "min           8.550000\n",
       "25%          56.450000\n",
       "50%          89.860000\n",
       "75%         123.060000\n",
       "max         171.550000\n",
       "Name: Solar Zenith Angle, dtype: float64"
      ]
     },
     "execution_count": 13,
     "metadata": {},
     "output_type": "execute_result"
    }
   ],
   "source": [
    "df_solar['Solar Zenith Angle'].describe()"
   ]
  },
  {
   "cell_type": "code",
   "execution_count": 14,
   "id": "d8ae9c53",
   "metadata": {},
   "outputs": [
    {
     "name": "stdout",
     "output_type": "stream",
     "text": [
      "This shows the Zenith Angle is given in degrees with a min or 35 and max of 171 approximately\n"
     ]
    }
   ],
   "source": [
    "print('''This shows the Zenith Angle is given in degrees with a min or 35 and max of 171 approximately''')"
   ]
  },
  {
   "cell_type": "code",
   "execution_count": 15,
   "id": "a5de5018",
   "metadata": {},
   "outputs": [],
   "source": [
    "from math import cos, radians"
   ]
  },
  {
   "cell_type": "code",
   "execution_count": 16,
   "id": "f198ba60",
   "metadata": {},
   "outputs": [],
   "source": [
    "df_solar['Cos Zenith'] = df_solar['Solar Zenith Angle'].apply(lambda x: cos(radians(x)))"
   ]
  },
  {
   "cell_type": "code",
   "execution_count": 17,
   "id": "4bf7e71d",
   "metadata": {},
   "outputs": [
    {
     "data": {
      "text/plain": [
       "count    175296.000000\n",
       "mean          0.003547\n",
       "std           0.595196\n",
       "min          -0.989144\n",
       "25%          -0.545517\n",
       "50%           0.002443\n",
       "75%           0.552664\n",
       "max           0.988886\n",
       "Name: Cos Zenith, dtype: float64"
      ]
     },
     "execution_count": 17,
     "metadata": {},
     "output_type": "execute_result"
    }
   ],
   "source": [
    "df_solar['Cos Zenith'].describe()"
   ]
  },
  {
   "cell_type": "code",
   "execution_count": 18,
   "id": "20715760",
   "metadata": {},
   "outputs": [],
   "source": [
    "df_solar.drop(columns='Solar Zenith Angle', inplace=True)"
   ]
  },
  {
   "cell_type": "code",
   "execution_count": 19,
   "id": "6c833ddf",
   "metadata": {},
   "outputs": [
    {
     "data": {
      "text/html": [
       "<div>\n",
       "<style scoped>\n",
       "    .dataframe tbody tr th:only-of-type {\n",
       "        vertical-align: middle;\n",
       "    }\n",
       "\n",
       "    .dataframe tbody tr th {\n",
       "        vertical-align: top;\n",
       "    }\n",
       "\n",
       "    .dataframe thead th {\n",
       "        text-align: right;\n",
       "    }\n",
       "</style>\n",
       "<table border=\"1\" class=\"dataframe\">\n",
       "  <thead>\n",
       "    <tr style=\"text-align: right;\">\n",
       "      <th></th>\n",
       "      <th>Clearsky DHI</th>\n",
       "      <th>Clearsky DNI</th>\n",
       "      <th>Clearsky GHI</th>\n",
       "      <th>Temperature</th>\n",
       "      <th>Cloud Type</th>\n",
       "      <th>Dew Point</th>\n",
       "      <th>Fill Flag</th>\n",
       "      <th>Relative Humidity</th>\n",
       "      <th>Pressure</th>\n",
       "      <th>Precipitable Water</th>\n",
       "      <th>Wind Direction</th>\n",
       "      <th>Wind Speed</th>\n",
       "      <th>Cos Zenith</th>\n",
       "    </tr>\n",
       "    <tr>\n",
       "      <th>Date</th>\n",
       "      <th></th>\n",
       "      <th></th>\n",
       "      <th></th>\n",
       "      <th></th>\n",
       "      <th></th>\n",
       "      <th></th>\n",
       "      <th></th>\n",
       "      <th></th>\n",
       "      <th></th>\n",
       "      <th></th>\n",
       "      <th></th>\n",
       "      <th></th>\n",
       "      <th></th>\n",
       "    </tr>\n",
       "  </thead>\n",
       "  <tbody>\n",
       "    <tr>\n",
       "      <th>2016-08-21 09:00:00</th>\n",
       "      <td>0.0</td>\n",
       "      <td>0.0</td>\n",
       "      <td>0.0</td>\n",
       "      <td>24.0</td>\n",
       "      <td>1.0</td>\n",
       "      <td>23.0</td>\n",
       "      <td>0.0</td>\n",
       "      <td>97.89</td>\n",
       "      <td>1000.0</td>\n",
       "      <td>5.745</td>\n",
       "      <td>244.1</td>\n",
       "      <td>2.3</td>\n",
       "      <td>-0.421036</td>\n",
       "    </tr>\n",
       "    <tr>\n",
       "      <th>2015-01-26 18:30:00</th>\n",
       "      <td>146.0</td>\n",
       "      <td>802.0</td>\n",
       "      <td>645.0</td>\n",
       "      <td>11.0</td>\n",
       "      <td>4.0</td>\n",
       "      <td>4.0</td>\n",
       "      <td>0.0</td>\n",
       "      <td>65.60</td>\n",
       "      <td>1000.0</td>\n",
       "      <td>1.104</td>\n",
       "      <td>296.8</td>\n",
       "      <td>6.0</td>\n",
       "      <td>0.622651</td>\n",
       "    </tr>\n",
       "  </tbody>\n",
       "</table>\n",
       "</div>"
      ],
      "text/plain": [
       "                     Clearsky DHI  Clearsky DNI  Clearsky GHI  Temperature  \\\n",
       "Date                                                                         \n",
       "2016-08-21 09:00:00           0.0           0.0           0.0         24.0   \n",
       "2015-01-26 18:30:00         146.0         802.0         645.0         11.0   \n",
       "\n",
       "                     Cloud Type  Dew Point  Fill Flag  Relative Humidity  \\\n",
       "Date                                                                       \n",
       "2016-08-21 09:00:00         1.0       23.0        0.0              97.89   \n",
       "2015-01-26 18:30:00         4.0        4.0        0.0              65.60   \n",
       "\n",
       "                     Pressure  Precipitable Water  Wind Direction  Wind Speed  \\\n",
       "Date                                                                            \n",
       "2016-08-21 09:00:00    1000.0               5.745           244.1         2.3   \n",
       "2015-01-26 18:30:00    1000.0               1.104           296.8         6.0   \n",
       "\n",
       "                     Cos Zenith  \n",
       "Date                             \n",
       "2016-08-21 09:00:00   -0.421036  \n",
       "2015-01-26 18:30:00    0.622651  "
      ]
     },
     "execution_count": 19,
     "metadata": {},
     "output_type": "execute_result"
    }
   ],
   "source": [
    "df_solar.sample(2)"
   ]
  },
  {
   "cell_type": "code",
   "execution_count": 20,
   "id": "9281ad50",
   "metadata": {},
   "outputs": [
    {
     "data": {
      "text/plain": [
       "(175296, 13)"
      ]
     },
     "execution_count": 20,
     "metadata": {},
     "output_type": "execute_result"
    }
   ],
   "source": [
    "df_solar.shape"
   ]
  },
  {
   "cell_type": "markdown",
   "id": "ba8e729e",
   "metadata": {},
   "source": [
    "### Adding the Significance of Seasonality into TS\n",
    "Since we using Deep Learning, the significance of Timestamp is lost and the sinificance behaviour of data with respect to Seasonality. In order to avoid it, these parameters are added"
   ]
  },
  {
   "cell_type": "code",
   "execution_count": 21,
   "id": "4c19258f",
   "metadata": {},
   "outputs": [
    {
     "data": {
      "text/html": [
       "<div>\n",
       "<style scoped>\n",
       "    .dataframe tbody tr th:only-of-type {\n",
       "        vertical-align: middle;\n",
       "    }\n",
       "\n",
       "    .dataframe tbody tr th {\n",
       "        vertical-align: top;\n",
       "    }\n",
       "\n",
       "    .dataframe thead th {\n",
       "        text-align: right;\n",
       "    }\n",
       "</style>\n",
       "<table border=\"1\" class=\"dataframe\">\n",
       "  <thead>\n",
       "    <tr style=\"text-align: right;\">\n",
       "      <th></th>\n",
       "      <th>Clearsky DHI</th>\n",
       "      <th>Clearsky DNI</th>\n",
       "      <th>Clearsky GHI</th>\n",
       "      <th>Temperature</th>\n",
       "      <th>Cloud Type</th>\n",
       "      <th>Dew Point</th>\n",
       "      <th>Fill Flag</th>\n",
       "      <th>Relative Humidity</th>\n",
       "      <th>Pressure</th>\n",
       "      <th>Precipitable Water</th>\n",
       "      <th>Wind Direction</th>\n",
       "      <th>Wind Speed</th>\n",
       "      <th>Cos Zenith</th>\n",
       "      <th>ts_Day_sin</th>\n",
       "      <th>ts_Day_cos</th>\n",
       "      <th>ts_Year_sin</th>\n",
       "      <th>ts_Year_cos</th>\n",
       "    </tr>\n",
       "    <tr>\n",
       "      <th>Date</th>\n",
       "      <th></th>\n",
       "      <th></th>\n",
       "      <th></th>\n",
       "      <th></th>\n",
       "      <th></th>\n",
       "      <th></th>\n",
       "      <th></th>\n",
       "      <th></th>\n",
       "      <th></th>\n",
       "      <th></th>\n",
       "      <th></th>\n",
       "      <th></th>\n",
       "      <th></th>\n",
       "      <th></th>\n",
       "      <th></th>\n",
       "      <th></th>\n",
       "      <th></th>\n",
       "    </tr>\n",
       "  </thead>\n",
       "  <tbody>\n",
       "    <tr>\n",
       "      <th>2010-02-01 05:30:00</th>\n",
       "      <td>0.0</td>\n",
       "      <td>0.0</td>\n",
       "      <td>0.0</td>\n",
       "      <td>0.0</td>\n",
       "      <td>1.0</td>\n",
       "      <td>0.0</td>\n",
       "      <td>0.0</td>\n",
       "      <td>96.82</td>\n",
       "      <td>1010.0</td>\n",
       "      <td>0.676</td>\n",
       "      <td>89.4</td>\n",
       "      <td>1.0</td>\n",
       "      <td>-0.964373</td>\n",
       "      <td>0.991445</td>\n",
       "      <td>0.130526</td>\n",
       "      <td>0.516184</td>\n",
       "      <td>0.856478</td>\n",
       "    </tr>\n",
       "    <tr>\n",
       "      <th>2012-06-29 17:30:00</th>\n",
       "      <td>185.0</td>\n",
       "      <td>799.0</td>\n",
       "      <td>975.0</td>\n",
       "      <td>38.0</td>\n",
       "      <td>0.0</td>\n",
       "      <td>18.0</td>\n",
       "      <td>0.0</td>\n",
       "      <td>32.67</td>\n",
       "      <td>1000.0</td>\n",
       "      <td>3.488</td>\n",
       "      <td>288.8</td>\n",
       "      <td>2.2</td>\n",
       "      <td>0.987960</td>\n",
       "      <td>-0.991445</td>\n",
       "      <td>-0.130526</td>\n",
       "      <td>0.035724</td>\n",
       "      <td>-0.999362</td>\n",
       "    </tr>\n",
       "  </tbody>\n",
       "</table>\n",
       "</div>"
      ],
      "text/plain": [
       "                     Clearsky DHI  Clearsky DNI  Clearsky GHI  Temperature  \\\n",
       "Date                                                                         \n",
       "2010-02-01 05:30:00           0.0           0.0           0.0          0.0   \n",
       "2012-06-29 17:30:00         185.0         799.0         975.0         38.0   \n",
       "\n",
       "                     Cloud Type  Dew Point  Fill Flag  Relative Humidity  \\\n",
       "Date                                                                       \n",
       "2010-02-01 05:30:00         1.0        0.0        0.0              96.82   \n",
       "2012-06-29 17:30:00         0.0       18.0        0.0              32.67   \n",
       "\n",
       "                     Pressure  Precipitable Water  Wind Direction  Wind Speed  \\\n",
       "Date                                                                            \n",
       "2010-02-01 05:30:00    1010.0               0.676            89.4         1.0   \n",
       "2012-06-29 17:30:00    1000.0               3.488           288.8         2.2   \n",
       "\n",
       "                     Cos Zenith  ts_Day_sin  ts_Day_cos  ts_Year_sin  \\\n",
       "Date                                                                   \n",
       "2010-02-01 05:30:00   -0.964373    0.991445    0.130526     0.516184   \n",
       "2012-06-29 17:30:00    0.987960   -0.991445   -0.130526     0.035724   \n",
       "\n",
       "                     ts_Year_cos  \n",
       "Date                              \n",
       "2010-02-01 05:30:00     0.856478  \n",
       "2012-06-29 17:30:00    -0.999362  "
      ]
     },
     "execution_count": 21,
     "metadata": {},
     "output_type": "execute_result"
    }
   ],
   "source": [
    "# Getting the time in seconds\n",
    "df_solar['ts'] = df_solar.index.map(pd.Timestamp.timestamp)\n",
    "# Adding columns based on Timestamp to understand Daily and Yearly seasonality\n",
    "day = 60*60*24\n",
    "year = 365.2425*day\n",
    "\n",
    "df_solar['ts_Day_sin'] = np.sin(df_solar['ts'] * (2* np.pi / day))\n",
    "df_solar['ts_Day_cos'] = np.cos(df_solar['ts'] * (2 * np.pi / day))\n",
    "df_solar['ts_Year_sin'] = np.sin(df_solar['ts'] * (2 * np.pi / year))\n",
    "df_solar['ts_Year_cos'] = np.cos(df_solar['ts'] * (2 * np.pi / year))\n",
    "df_solar.drop(columns='ts', inplace=True)\n",
    "df_solar.sample(2)"
   ]
  },
  {
   "cell_type": "markdown",
   "id": "b3908876",
   "metadata": {},
   "source": [
    "### Scaling of Data"
   ]
  },
  {
   "cell_type": "code",
   "execution_count": 22,
   "id": "a5e5faec",
   "metadata": {},
   "outputs": [],
   "source": [
    "from sklearn.preprocessing import StandardScaler"
   ]
  },
  {
   "cell_type": "code",
   "execution_count": 23,
   "id": "def97f55",
   "metadata": {},
   "outputs": [],
   "source": [
    "scalar_std_fs = StandardScaler()"
   ]
  },
  {
   "cell_type": "markdown",
   "id": "f661942c",
   "metadata": {},
   "source": [
    "##### Small trick to ensure we can perform inverse transform"
   ]
  },
  {
   "cell_type": "code",
   "execution_count": 24,
   "id": "30fb8245",
   "metadata": {},
   "outputs": [],
   "source": [
    "scalar_std_fs = scalar_std_fs.fit(df_solar)"
   ]
  },
  {
   "cell_type": "code",
   "execution_count": 25,
   "id": "e35b8644",
   "metadata": {},
   "outputs": [
    {
     "data": {
      "text/plain": [
       "(175296, 17)"
      ]
     },
     "execution_count": 25,
     "metadata": {},
     "output_type": "execute_result"
    }
   ],
   "source": [
    "df_solar.shape"
   ]
  },
  {
   "cell_type": "code",
   "execution_count": 26,
   "id": "31e753e5",
   "metadata": {},
   "outputs": [
    {
     "data": {
      "text/html": [
       "<div>\n",
       "<style scoped>\n",
       "    .dataframe tbody tr th:only-of-type {\n",
       "        vertical-align: middle;\n",
       "    }\n",
       "\n",
       "    .dataframe tbody tr th {\n",
       "        vertical-align: top;\n",
       "    }\n",
       "\n",
       "    .dataframe thead th {\n",
       "        text-align: right;\n",
       "    }\n",
       "</style>\n",
       "<table border=\"1\" class=\"dataframe\">\n",
       "  <thead>\n",
       "    <tr style=\"text-align: right;\">\n",
       "      <th></th>\n",
       "      <th>Clearsky DHI</th>\n",
       "      <th>Clearsky DNI</th>\n",
       "      <th>Clearsky GHI</th>\n",
       "      <th>Temperature</th>\n",
       "      <th>Cloud Type</th>\n",
       "      <th>Dew Point</th>\n",
       "      <th>Fill Flag</th>\n",
       "      <th>Relative Humidity</th>\n",
       "      <th>Pressure</th>\n",
       "      <th>Precipitable Water</th>\n",
       "      <th>Wind Direction</th>\n",
       "      <th>Wind Speed</th>\n",
       "      <th>Cos Zenith</th>\n",
       "      <th>ts_Day_sin</th>\n",
       "      <th>ts_Day_cos</th>\n",
       "      <th>ts_Year_sin</th>\n",
       "      <th>ts_Year_cos</th>\n",
       "    </tr>\n",
       "    <tr>\n",
       "      <th>Date</th>\n",
       "      <th></th>\n",
       "      <th></th>\n",
       "      <th></th>\n",
       "      <th></th>\n",
       "      <th></th>\n",
       "      <th></th>\n",
       "      <th></th>\n",
       "      <th></th>\n",
       "      <th></th>\n",
       "      <th></th>\n",
       "      <th></th>\n",
       "      <th></th>\n",
       "      <th></th>\n",
       "      <th></th>\n",
       "      <th></th>\n",
       "      <th></th>\n",
       "      <th></th>\n",
       "    </tr>\n",
       "  </thead>\n",
       "  <tbody>\n",
       "    <tr>\n",
       "      <th>2017-02-06 05:00:00</th>\n",
       "      <td>-0.826549</td>\n",
       "      <td>-0.891997</td>\n",
       "      <td>-0.776205</td>\n",
       "      <td>-1.148014</td>\n",
       "      <td>-0.509775</td>\n",
       "      <td>-0.678857</td>\n",
       "      <td>-0.112603</td>\n",
       "      <td>1.048046</td>\n",
       "      <td>1.148093</td>\n",
       "      <td>-0.244175</td>\n",
       "      <td>1.291955</td>\n",
       "      <td>-0.985157</td>\n",
       "      <td>-1.586655</td>\n",
       "      <td>1.366025</td>\n",
       "      <td>0.366025</td>\n",
       "      <td>0.836837</td>\n",
       "      <td>1.140242</td>\n",
       "    </tr>\n",
       "    <tr>\n",
       "      <th>2015-05-18 20:00:00</th>\n",
       "      <td>1.618888</td>\n",
       "      <td>1.178107</td>\n",
       "      <td>1.610094</td>\n",
       "      <td>1.200173</td>\n",
       "      <td>1.475750</td>\n",
       "      <td>1.029134</td>\n",
       "      <td>-0.112603</td>\n",
       "      <td>-0.603530</td>\n",
       "      <td>1.148093</td>\n",
       "      <td>1.132060</td>\n",
       "      <td>0.816267</td>\n",
       "      <td>-0.517101</td>\n",
       "      <td>1.365083</td>\n",
       "      <td>-1.224745</td>\n",
       "      <td>0.707107</td>\n",
       "      <td>0.983383</td>\n",
       "      <td>-1.016186</td>\n",
       "    </tr>\n",
       "  </tbody>\n",
       "</table>\n",
       "</div>"
      ],
      "text/plain": [
       "                     Clearsky DHI  Clearsky DNI  Clearsky GHI  Temperature  \\\n",
       "Date                                                                         \n",
       "2017-02-06 05:00:00     -0.826549     -0.891997     -0.776205    -1.148014   \n",
       "2015-05-18 20:00:00      1.618888      1.178107      1.610094     1.200173   \n",
       "\n",
       "                     Cloud Type  Dew Point  Fill Flag  Relative Humidity  \\\n",
       "Date                                                                       \n",
       "2017-02-06 05:00:00   -0.509775  -0.678857  -0.112603           1.048046   \n",
       "2015-05-18 20:00:00    1.475750   1.029134  -0.112603          -0.603530   \n",
       "\n",
       "                     Pressure  Precipitable Water  Wind Direction  Wind Speed  \\\n",
       "Date                                                                            \n",
       "2017-02-06 05:00:00  1.148093           -0.244175        1.291955   -0.985157   \n",
       "2015-05-18 20:00:00  1.148093            1.132060        0.816267   -0.517101   \n",
       "\n",
       "                     Cos Zenith  ts_Day_sin  ts_Day_cos  ts_Year_sin  \\\n",
       "Date                                                                   \n",
       "2017-02-06 05:00:00   -1.586655    1.366025    0.366025     0.836837   \n",
       "2015-05-18 20:00:00    1.365083   -1.224745    0.707107     0.983383   \n",
       "\n",
       "                     ts_Year_cos  \n",
       "Date                              \n",
       "2017-02-06 05:00:00     1.140242  \n",
       "2015-05-18 20:00:00    -1.016186  "
      ]
     },
     "execution_count": 26,
     "metadata": {},
     "output_type": "execute_result"
    }
   ],
   "source": [
    "df_solar_sc = pd.DataFrame(data=scalar_std_fs.transform(df_solar), index=df_solar.index,  columns=df_solar.columns)\n",
    "df_solar_sc.sample(2)"
   ]
  },
  {
   "cell_type": "markdown",
   "id": "80cde6c6",
   "metadata": {},
   "source": [
    "### Feature Selection"
   ]
  },
  {
   "cell_type": "markdown",
   "id": "565fad5a",
   "metadata": {},
   "source": [
    "##### Any Non-linear regression model can be selected, Choose XGBoost"
   ]
  },
  {
   "cell_type": "code",
   "execution_count": 27,
   "id": "195ed782",
   "metadata": {},
   "outputs": [],
   "source": [
    "from xgboost import XGBRegressor\n",
    "from xgboost import plot_importance"
   ]
  },
  {
   "cell_type": "markdown",
   "id": "a8269783",
   "metadata": {},
   "source": [
    "##### Feature Selection for Clearsky GHI since GHI constitues both DHI, DHI and Zenith Angle"
   ]
  },
  {
   "cell_type": "code",
   "execution_count": 28,
   "id": "d2b39879",
   "metadata": {},
   "outputs": [],
   "source": [
    "y = df_solar_sc['Clearsky GHI']\n",
    "X = df_solar_sc.drop(columns='Clearsky GHI', axis=1)"
   ]
  },
  {
   "cell_type": "code",
   "execution_count": 29,
   "id": "e47fffa6",
   "metadata": {},
   "outputs": [
    {
     "data": {
      "text/plain": [
       "XGBRegressor(base_score=0.5, booster='gbtree', colsample_bylevel=1,\n",
       "             colsample_bynode=1, colsample_bytree=1, enable_categorical=False,\n",
       "             gamma=0, gpu_id=-1, importance_type=None,\n",
       "             interaction_constraints='', learning_rate=0.300000012,\n",
       "             max_delta_step=0, max_depth=6, min_child_weight=1, missing=nan,\n",
       "             monotone_constraints='()', n_estimators=100, n_jobs=12,\n",
       "             num_parallel_tree=1, predictor='auto', random_state=0, reg_alpha=0,\n",
       "             reg_lambda=1, scale_pos_weight=1, subsample=1, tree_method='exact',\n",
       "             validate_parameters=1, verbosity=None)"
      ]
     },
     "execution_count": 29,
     "metadata": {},
     "output_type": "execute_result"
    }
   ],
   "source": [
    "model_xgb = XGBRegressor(n_estimators=100)\n",
    "model_xgb.fit(X, y)"
   ]
  },
  {
   "cell_type": "code",
   "execution_count": 30,
   "id": "57e78e7a",
   "metadata": {},
   "outputs": [
    {
     "data": {
      "text/plain": [
       "array([4.2286515e-04, 5.4830168e-03, 2.0059344e-04, 2.9768887e-06,\n",
       "       6.4913166e-04, 6.3149628e-06, 8.1093631e-06, 4.5088855e-06,\n",
       "       2.4446738e-03, 5.4731076e-06, 5.8563846e-06, 9.8745316e-01,\n",
       "       1.4089935e-03, 2.0050186e-04, 2.1678151e-04, 1.4870102e-03],\n",
       "      dtype=float32)"
      ]
     },
     "execution_count": 30,
     "metadata": {},
     "output_type": "execute_result"
    }
   ],
   "source": [
    "model_xgb.feature_importances_"
   ]
  },
  {
   "cell_type": "code",
   "execution_count": 31,
   "id": "e5f7156b",
   "metadata": {},
   "outputs": [
    {
     "data": {
      "text/plain": [
       "<AxesSubplot:title={'center':'Feature importance'}, xlabel='F score', ylabel='Features'>"
      ]
     },
     "execution_count": 31,
     "metadata": {},
     "output_type": "execute_result"
    },
    {
     "data": {
      "image/png": "[encoded data removed]",
      "text/plain": [
       "<Figure size 432x288 with 1 Axes>"
      ]
     },
     "metadata": {
      "needs_background": "light"
     },
     "output_type": "display_data"
    }
   ],
   "source": [
    "plot_importance(model_xgb)"
   ]
  },
  {
   "cell_type": "markdown",
   "id": "e2f38dc6",
   "metadata": {},
   "source": [
    "### Droping not so significant columns"
   ]
  },
  {
   "cell_type": "code",
   "execution_count": 32,
   "id": "20aa5b62",
   "metadata": {},
   "outputs": [
    {
     "data": {
      "text/plain": [
       "0.0     82788\n",
       "7.0     23163\n",
       "3.0     16255\n",
       "1.0     15698\n",
       "8.0     14276\n",
       "4.0     11738\n",
       "6.0      7902\n",
       "2.0      3018\n",
       "9.0       457\n",
       "10.0        1\n",
       "Name: Cloud Type, dtype: int64"
      ]
     },
     "execution_count": 32,
     "metadata": {},
     "output_type": "execute_result"
    }
   ],
   "source": [
    "df_solar['Cloud Type'].value_counts()"
   ]
  },
  {
   "cell_type": "code",
   "execution_count": 33,
   "id": "e0600cc5",
   "metadata": {},
   "outputs": [
    {
     "data": {
      "text/html": [
       "<div>\n",
       "<style scoped>\n",
       "    .dataframe tbody tr th:only-of-type {\n",
       "        vertical-align: middle;\n",
       "    }\n",
       "\n",
       "    .dataframe tbody tr th {\n",
       "        vertical-align: top;\n",
       "    }\n",
       "\n",
       "    .dataframe thead th {\n",
       "        text-align: right;\n",
       "    }\n",
       "</style>\n",
       "<table border=\"1\" class=\"dataframe\">\n",
       "  <thead>\n",
       "    <tr style=\"text-align: right;\">\n",
       "      <th></th>\n",
       "      <th>Clearsky DHI</th>\n",
       "      <th>Clearsky DNI</th>\n",
       "      <th>Clearsky GHI</th>\n",
       "      <th>Temperature</th>\n",
       "      <th>Relative Humidity</th>\n",
       "      <th>Precipitable Water</th>\n",
       "      <th>Cos Zenith</th>\n",
       "      <th>ts_Day_sin</th>\n",
       "      <th>ts_Day_cos</th>\n",
       "      <th>ts_Year_sin</th>\n",
       "      <th>ts_Year_cos</th>\n",
       "    </tr>\n",
       "    <tr>\n",
       "      <th>Date</th>\n",
       "      <th></th>\n",
       "      <th></th>\n",
       "      <th></th>\n",
       "      <th></th>\n",
       "      <th></th>\n",
       "      <th></th>\n",
       "      <th></th>\n",
       "      <th></th>\n",
       "      <th></th>\n",
       "      <th></th>\n",
       "      <th></th>\n",
       "    </tr>\n",
       "  </thead>\n",
       "  <tbody>\n",
       "    <tr>\n",
       "      <th>2009-11-20 20:30:00</th>\n",
       "      <td>102.0</td>\n",
       "      <td>624.0</td>\n",
       "      <td>329.0</td>\n",
       "      <td>18.0</td>\n",
       "      <td>62.68</td>\n",
       "      <td>1.139</td>\n",
       "      <td>0.363739</td>\n",
       "      <td>-0.793353</td>\n",
       "      <td>0.608761</td>\n",
       "      <td>-0.646251</td>\n",
       "      <td>0.763125</td>\n",
       "    </tr>\n",
       "    <tr>\n",
       "      <th>2010-05-19 20:00:00</th>\n",
       "      <td>137.0</td>\n",
       "      <td>810.0</td>\n",
       "      <td>800.0</td>\n",
       "      <td>28.0</td>\n",
       "      <td>62.20</td>\n",
       "      <td>3.628</td>\n",
       "      <td>0.817346</td>\n",
       "      <td>-0.866025</td>\n",
       "      <td>0.500000</td>\n",
       "      <td>0.680257</td>\n",
       "      <td>-0.732974</td>\n",
       "    </tr>\n",
       "  </tbody>\n",
       "</table>\n",
       "</div>"
      ],
      "text/plain": [
       "                     Clearsky DHI  Clearsky DNI  Clearsky GHI  Temperature  \\\n",
       "Date                                                                         \n",
       "2009-11-20 20:30:00         102.0         624.0         329.0         18.0   \n",
       "2010-05-19 20:00:00         137.0         810.0         800.0         28.0   \n",
       "\n",
       "                     Relative Humidity  Precipitable Water  Cos Zenith  \\\n",
       "Date                                                                     \n",
       "2009-11-20 20:30:00              62.68               1.139    0.363739   \n",
       "2010-05-19 20:00:00              62.20               3.628    0.817346   \n",
       "\n",
       "                     ts_Day_sin  ts_Day_cos  ts_Year_sin  ts_Year_cos  \n",
       "Date                                                                   \n",
       "2009-11-20 20:30:00   -0.793353    0.608761    -0.646251     0.763125  \n",
       "2010-05-19 20:00:00   -0.866025    0.500000     0.680257    -0.732974  "
      ]
     },
     "execution_count": 33,
     "metadata": {},
     "output_type": "execute_result"
    }
   ],
   "source": [
    "df_solar.drop(columns=['Cloud Type', 'Pressure', 'Fill Flag', 'Wind Speed', 'Dew Point', 'Wind Direction'], inplace=True)\n",
    "df_solar.sample(2)"
   ]
  },
  {
   "cell_type": "code",
   "execution_count": 34,
   "id": "7f8a117b",
   "metadata": {},
   "outputs": [
    {
     "data": {
      "text/plain": [
       "(175296, 11)"
      ]
     },
     "execution_count": 34,
     "metadata": {},
     "output_type": "execute_result"
    }
   ],
   "source": [
    "df_solar.shape"
   ]
  },
  {
   "cell_type": "code",
   "execution_count": 35,
   "id": "598c7e43",
   "metadata": {},
   "outputs": [
    {
     "name": "stdout",
     "output_type": "stream",
     "text": [
      "\n",
      "Temperature, Relative Humidity, Precipitable Water, Cos of Zenith Angle along with time of Day and time of year components are considered for further analysis\n",
      "To also reduce the curse of dimensionality\n"
     ]
    }
   ],
   "source": [
    "print('''\n",
    "Temperature, Relative Humidity, Precipitable Water, Cos of Zenith Angle along with time of Day and time of year components are considered for further analysis\n",
    "To also reduce the curse of dimensionality'''\n",
    ")"
   ]
  },
  {
   "cell_type": "code",
   "execution_count": null,
   "id": "4cfecdf5",
   "metadata": {},
   "outputs": [],
   "source": []
  },
  {
   "cell_type": "code",
   "execution_count": null,
   "id": "2f6c1d7e",
   "metadata": {},
   "outputs": [],
   "source": []
  },
  {
   "cell_type": "markdown",
   "id": "576d6e69",
   "metadata": {},
   "source": [
    "# Model Building Start"
   ]
  },
  {
   "cell_type": "code",
   "execution_count": 36,
   "id": "29af8cf5",
   "metadata": {},
   "outputs": [],
   "source": [
    "from tensorflow.keras.models import Model\n",
    "from tensorflow.keras.layers import Input, LSTM, Dense, GRU, RepeatVector, Conv1D, BatchNormalization, MaxPooling1D, Dropout\n",
    "from tensorflow.keras.metrics import MeanSquaredError, RootMeanSquaredError\n",
    "from tensorflow.keras.losses import MeanSquaredError\n",
    "from tensorflow.keras.optimizers import Adam\n",
    "from tensorflow.keras.callbacks import ModelCheckpoint, EarlyStopping\n",
    "from tensorflow.keras.models import load_model\n",
    "from tensorflow.keras.layers import TimeDistributed"
   ]
  },
  {
   "cell_type": "markdown",
   "id": "3a00c977",
   "metadata": {},
   "source": [
    "### Consider only last 3 years data"
   ]
  },
  {
   "cell_type": "markdown",
   "id": "fd0ef59f",
   "metadata": {},
   "source": [
    "### Data Generation for Time Series"
   ]
  },
  {
   "cell_type": "code",
   "execution_count": 37,
   "id": "02608e05",
   "metadata": {},
   "outputs": [],
   "source": [
    "def preprocess_cvs_into_ts(csvfile):\n",
    "    '''Take the CSV file along with the path and return dataframe'''\n",
    "    df = pd.read_csv(csvfile)\n",
    "    df.insert(loc=0, column='Date', \n",
    "                value=pd.to_datetime(df[['Year', 'Month', 'Day', 'Hour', 'Minute']]))\n",
    "    df.drop(columns=['Year', 'Month', 'Day', 'Hour', 'Minute'], axis=1, inplace=True)\n",
    "    df.set_index(keys='Date', inplace=True)\n",
    "    df=df[['Clearsky DHI', 'Clearsky DNI', 'Clearsky GHI', 'Temperature', 'Cloud Type', 'Dew Point', 'Fill Flag', 'Relative Humidity', 'Solar Zenith Angle', 'Pressure', 'Precipitable Water', 'Wind Direction', 'Wind Speed']]\n",
    "    return df"
   ]
  },
  {
   "cell_type": "code",
   "execution_count": 38,
   "id": "4fd7d0dc",
   "metadata": {},
   "outputs": [],
   "source": [
    "def preprocess_ts_features(df):\n",
    "    '''This shall ensure the time series features are added and \n",
    "    non-significant features are removed'''\n",
    "    \n",
    "    # Cos of Zenith angle contributes GHI\n",
    "    df['Cos Zenith'] = np.cos(np.deg2rad(df['Solar Zenith Angle']))\n",
    "    \n",
    "    # Adding the time series features into the dataset for Seasonality\n",
    "    sec_in_day = 60*60*24\n",
    "    sec_in_year = 365.2425*sec_in_day\n",
    "    df['ts'] = df.index.map(pd.Timestamp.timestamp)\n",
    "    df['ts_Day_sin'] = np.sin(df['ts'] * (2* np.pi / sec_in_day))\n",
    "    df['ts_Day_cos'] = np.cos(df['ts'] * (2 * np.pi / sec_in_day))\n",
    "    df['ts_Year_sin'] = np.sin(df['ts'] * (2 * np.pi / sec_in_year))\n",
    "    df['ts_Year_cos'] = np.cos(df['ts'] * (2 * np.pi / sec_in_year))\n",
    "    \n",
    "    # Dropping all the insignificant features\n",
    "    df.drop(columns=['Cloud Type', 'Pressure', 'Fill Flag', 'Wind Speed', \n",
    "                     'Dew Point', 'Wind Direction','ts'], inplace=True)\n",
    "    \n",
    "    # Ordering the Columns in a proper order\n",
    "    df = df[['Clearsky DHI', 'Clearsky DNI', 'Clearsky GHI', \n",
    "             'Temperature', 'Relative Humidity', 'Solar Zenith Angle', \n",
    "             'Precipitable Water', 'ts_Day_sin', 'ts_Day_cos', \n",
    "             'ts_Year_sin', 'ts_Year_cos']]\n",
    "    return df"
   ]
  },
  {
   "cell_type": "code",
   "execution_count": 39,
   "id": "ebd909db",
   "metadata": {},
   "outputs": [
    {
     "data": {
      "text/html": [
       "<div>\n",
       "<style scoped>\n",
       "    .dataframe tbody tr th:only-of-type {\n",
       "        vertical-align: middle;\n",
       "    }\n",
       "\n",
       "    .dataframe tbody tr th {\n",
       "        vertical-align: top;\n",
       "    }\n",
       "\n",
       "    .dataframe thead th {\n",
       "        text-align: right;\n",
       "    }\n",
       "</style>\n",
       "<table border=\"1\" class=\"dataframe\">\n",
       "  <thead>\n",
       "    <tr style=\"text-align: right;\">\n",
       "      <th></th>\n",
       "      <th>Clearsky DHI</th>\n",
       "      <th>Clearsky DNI</th>\n",
       "      <th>Clearsky GHI</th>\n",
       "      <th>Temperature</th>\n",
       "      <th>Relative Humidity</th>\n",
       "      <th>Solar Zenith Angle</th>\n",
       "      <th>Precipitable Water</th>\n",
       "      <th>ts_Day_sin</th>\n",
       "      <th>ts_Day_cos</th>\n",
       "      <th>ts_Year_sin</th>\n",
       "      <th>ts_Year_cos</th>\n",
       "    </tr>\n",
       "    <tr>\n",
       "      <th>Date</th>\n",
       "      <th></th>\n",
       "      <th></th>\n",
       "      <th></th>\n",
       "      <th></th>\n",
       "      <th></th>\n",
       "      <th></th>\n",
       "      <th></th>\n",
       "      <th></th>\n",
       "      <th></th>\n",
       "      <th></th>\n",
       "      <th></th>\n",
       "    </tr>\n",
       "  </thead>\n",
       "  <tbody>\n",
       "    <tr>\n",
       "      <th>2013-04-01 19:00:00</th>\n",
       "      <td>130</td>\n",
       "      <td>884</td>\n",
       "      <td>872</td>\n",
       "      <td>23.0</td>\n",
       "      <td>67.10</td>\n",
       "      <td>32.99</td>\n",
       "      <td>2.169</td>\n",
       "      <td>-0.965926</td>\n",
       "      <td>0.258819</td>\n",
       "      <td>1.000000</td>\n",
       "      <td>-0.000921</td>\n",
       "    </tr>\n",
       "    <tr>\n",
       "      <th>2010-07-31 13:00:00</th>\n",
       "      <td>120</td>\n",
       "      <td>541</td>\n",
       "      <td>355</td>\n",
       "      <td>33.0</td>\n",
       "      <td>58.14</td>\n",
       "      <td>64.22</td>\n",
       "      <td>5.148</td>\n",
       "      <td>-0.258819</td>\n",
       "      <td>-0.965926</td>\n",
       "      <td>-0.481769</td>\n",
       "      <td>-0.876298</td>\n",
       "    </tr>\n",
       "  </tbody>\n",
       "</table>\n",
       "</div>"
      ],
      "text/plain": [
       "                     Clearsky DHI  Clearsky DNI  Clearsky GHI  Temperature  \\\n",
       "Date                                                                         \n",
       "2013-04-01 19:00:00           130           884           872         23.0   \n",
       "2010-07-31 13:00:00           120           541           355         33.0   \n",
       "\n",
       "                     Relative Humidity  Solar Zenith Angle  \\\n",
       "Date                                                         \n",
       "2013-04-01 19:00:00              67.10               32.99   \n",
       "2010-07-31 13:00:00              58.14               64.22   \n",
       "\n",
       "                     Precipitable Water  ts_Day_sin  ts_Day_cos  ts_Year_sin  \\\n",
       "Date                                                                           \n",
       "2013-04-01 19:00:00               2.169   -0.965926    0.258819     1.000000   \n",
       "2010-07-31 13:00:00               5.148   -0.258819   -0.965926    -0.481769   \n",
       "\n",
       "                     ts_Year_cos  \n",
       "Date                              \n",
       "2013-04-01 19:00:00    -0.000921  \n",
       "2010-07-31 13:00:00    -0.876298  "
      ]
     },
     "execution_count": 39,
     "metadata": {},
     "output_type": "execute_result"
    }
   ],
   "source": [
    "df_solar = preprocess_cvs_into_ts(training_csv)\n",
    "df_solar = preprocess_ts_features(df_solar)\n",
    "df_solar.sample(2)"
   ]
  },
  {
   "cell_type": "code",
   "execution_count": 40,
   "id": "94e1e3e1",
   "metadata": {},
   "outputs": [
    {
     "data": {
      "text/plain": [
       "(175296, 11)"
      ]
     },
     "execution_count": 40,
     "metadata": {},
     "output_type": "execute_result"
    }
   ],
   "source": [
    "df_solar.shape"
   ]
  },
  {
   "cell_type": "markdown",
   "id": "2082deb5",
   "metadata": {},
   "source": [
    "##### Scaling the data"
   ]
  },
  {
   "cell_type": "code",
   "execution_count": 41,
   "id": "1a1073e9",
   "metadata": {},
   "outputs": [],
   "source": [
    "from sklearn.preprocessing import StandardScaler\n",
    "scalar_std_ts = StandardScaler()"
   ]
  },
  {
   "cell_type": "code",
   "execution_count": 42,
   "id": "fdf1da19",
   "metadata": {},
   "outputs": [
    {
     "data": {
      "text/plain": [
       "(175296, 11)"
      ]
     },
     "execution_count": 42,
     "metadata": {},
     "output_type": "execute_result"
    }
   ],
   "source": [
    "scalar_std_ts = scalar_std_ts.fit(df_solar)\n",
    "solar_data_sc = scalar_std_ts.transform(df_solar)\n",
    "df_solar_data = pd.DataFrame(data=solar_data_sc, index=df_solar.index, columns=df_solar.columns)\n",
    "solar_data_sc.shape"
   ]
  },
  {
   "cell_type": "markdown",
   "id": "cfa45e0b",
   "metadata": {},
   "source": [
    "##### Data Generation\n",
    "1. Take the values of Dataframe for a given batch length and Predict the values of 'Clearsky DHI', 'Clearsky DNI', 'Clearsky GHI' for the next row.\n",
    "2. Move the series by 1 row, repeat step 1"
   ]
  },
  {
   "cell_type": "code",
   "execution_count": 43,
   "id": "82b15bb9",
   "metadata": {},
   "outputs": [
    {
     "name": "stdout",
     "output_type": "stream",
     "text": [
      "\n",
      "The total length of input 52560 and the batch length is 336 with features 11\n",
      "The training start 52560\n"
     ]
    }
   ],
   "source": [
    "# Daily there around 48 observations\n",
    "# Weekly there are around 48*7 = 336 observations\n",
    "# Monthly there are around 48*30 = 1440 observations\n",
    "# Yearly there are around 48*365 = 17520 observations\n",
    "\n",
    "# Ensuring the that total length is not more than 2 years since the model training is taking lot of time\n",
    "# Also to handle out of memory issues\n",
    "total_data_len = solar_data_sc.shape[0]\n",
    "if solar_data_sc.shape[0] > 17520*3:\n",
    "    total_data_len = 17520*3\n",
    "else:\n",
    "    total_data_len = solar_data_sc.shape[0]\n",
    "\n",
    "batch_input_len = 336\n",
    "batch_output_len = 1\n",
    "features_len = 11\n",
    "# train_data_start = total_data_len - batch_input_len*4\n",
    "train_data_start = total_data_len\n",
    "print(f'''\n",
    "The total length of input {total_data_len} and the batch length is {batch_input_len} with features {features_len}\n",
    "The training start {train_data_start}''')"
   ]
  },
  {
   "cell_type": "code",
   "execution_count": 44,
   "id": "90071363",
   "metadata": {},
   "outputs": [],
   "source": [
    "def ts_data_generator(data_arr, batch_len):\n",
    "    X = []\n",
    "    y = []\n",
    "    for i in range(len(data_arr)-batch_len):\n",
    "        X_rows = [row for row in data_arr[i:i+batch_len]]\n",
    "        X.append(X_rows)\n",
    "        y_row = [data_arr[i+batch_len][0],data_arr[i+batch_len][1], data_arr[i+batch_len][2]]\n",
    "        y.append(y_row)\n",
    "    return np.array(X), np.array(y)"
   ]
  },
  {
   "cell_type": "code",
   "execution_count": 45,
   "id": "46f9d4c5",
   "metadata": {},
   "outputs": [],
   "source": [
    "X, y = ts_data_generator(solar_data_sc[-train_data_start:], batch_input_len)"
   ]
  },
  {
   "cell_type": "markdown",
   "id": "4f830006",
   "metadata": {},
   "source": [
    "##### Split the train csv data into train and val"
   ]
  },
  {
   "cell_type": "code",
   "execution_count": 46,
   "id": "a0989cfc",
   "metadata": {},
   "outputs": [
    {
     "data": {
      "text/plain": [
       "((36556, 336, 11), (36556, 3), (15668, 336, 11), (15668, 3))"
      ]
     },
     "execution_count": 46,
     "metadata": {},
     "output_type": "execute_result"
    }
   ],
   "source": [
    "train_split = np.int(X.shape[0]*0.7)\n",
    "\n",
    "X_train, y_train = X[:train_split], y[:train_split]\n",
    "X_val, y_val = X[train_split:], y[train_split:]\n",
    "\n",
    "X_train.shape, y_train.shape, X_val.shape, y_val.shape"
   ]
  },
  {
   "cell_type": "markdown",
   "id": "c6538d84",
   "metadata": {},
   "source": [
    "### Build the Model"
   ]
  },
  {
   "cell_type": "code",
   "execution_count": 47,
   "id": "178eee3b",
   "metadata": {},
   "outputs": [],
   "source": [
    "input_shape = (batch_input_len, features_len)\n",
    "learn_rate = 0.001"
   ]
  },
  {
   "cell_type": "code",
   "execution_count": 48,
   "id": "c13944ca",
   "metadata": {},
   "outputs": [],
   "source": [
    "def build_GRU_trans1(input_shape, lr):\n",
    "    l0 = Input(shape=input_shape)\n",
    "\n",
    "    l1 = GRU(units=16, activation='relu', recurrent_dropout=.2)(l0)\n",
    "    l1 = RepeatVector(input_shape[1])(l1)\n",
    "    l1 = GRU(units=16, activation='relu', recurrent_dropout=.2)(l1)\n",
    "\n",
    "    y = Dense(units=10, activation='relu')(l1)\n",
    "    y = Dense(units=3, activation='linear')(y)\n",
    "\n",
    "    model = Model(inputs=l0, outputs=y)\n",
    "    \n",
    "    model.compile(optimizer=Adam(learning_rate=0.001), \n",
    "                    loss=MeanSquaredError(),\n",
    "                   metrics=[MeanSquaredError()])\n",
    "    return model"
   ]
  },
  {
   "cell_type": "code",
   "execution_count": 53,
   "id": "d86f3757",
   "metadata": {},
   "outputs": [],
   "source": [
    "def build_LSTM_trans1(input_shape, lr):\n",
    "    l0 = Input(shape=input_shape)\n",
    "\n",
    "    l1 = LSTM(units=128, activation='relu', recurrent_dropout=.2, return_sequences=True)(l0)\n",
    "    l1 = LSTM(units=64, activation='relu', recurrent_dropout=.2)(l0)\n",
    "    \n",
    "    l2 = RepeatVector(input_shape[1])(l1)\n",
    "    \n",
    "    l3 = LSTM(units=64, activation='relu', recurrent_dropout=.2, return_sequences=True)(l2)\n",
    "    l3 = LSTM(units=128, activation='relu', recurrent_dropout=.2)(l3)\n",
    "\n",
    "    y = Dense(units=10, activation='relu')(l3)\n",
    "    y = Dense(units=3, activation='linear')(y)\n",
    "\n",
    "    model = Model(inputs=l0, outputs=y)\n",
    "    \n",
    "    model.compile(optimizer=Adam(learning_rate=0.001), \n",
    "                    loss=MeanSquaredError(),\n",
    "                   metrics=[MeanSquaredError()])\n",
    "    return model"
   ]
  },
  {
   "cell_type": "code",
   "execution_count": 50,
   "id": "988bed1d",
   "metadata": {},
   "outputs": [],
   "source": [
    "def build_Conv_trans1(input_shape, lr):\n",
    "    l0 = Input(shape=input_shape)\n",
    "\n",
    "    l1 = Conv1D(filters=16, kernel_size=3, activation='relu')(l0)\n",
    "    l1 = BatchNormalization()(l1)\n",
    "    l1 = Conv1D(filters=8, kernel_size=3, activation='relu')(l1)\n",
    "    \n",
    "    l2 = Dropout(rate=.3)(l1)\n",
    "    #l2 = RepeatVector(input_shape[1])(l1)\n",
    "    \n",
    "    l3 = Conv1D(filters=8, kernel_size=3, activation='relu')(l2)\n",
    "    l3 = BatchNormalization()(l3)\n",
    "    l3 = Conv1D(filters=16, kernel_size=3, activation='relu')(l1)\n",
    "\n",
    "    y = Dense(units=10, activation='relu')(l1)\n",
    "    y = Dense(units=3, activation='linear')(y)\n",
    "\n",
    "    model = Model(inputs=l0, outputs=y)\n",
    "    \n",
    "    model.compile(optimizer=Adam(learning_rate=0.001), \n",
    "                    loss=MeanSquaredError(),\n",
    "                   metrics=[MeanSquaredError()])\n",
    "    return model"
   ]
  },
  {
   "cell_type": "code",
   "execution_count": 55,
   "id": "a4663111",
   "metadata": {},
   "outputs": [],
   "source": [
    "def train_model(model_name):\n",
    "    if model_name == 'GRU':\n",
    "        model = build_GRU_trans1(input_shape, learn_rate)\n",
    "    elif model_name == 'LSTM':\n",
    "        model = build_LSTM_trans1(input_shape, learn_rate)\n",
    "    else:\n",
    "        model = build_Conv_trans1(input_shape, learn_rate)\n",
    "    model.summary()\n",
    "    # Check points for Early stopping and Saving the best model\n",
    "    cb_earlystop = EarlyStopping(monitor='val_loss', mode='min', verbose=1, patience=200)\n",
    "    cb_modelcp = ModelCheckpoint('best_model1.h5', monitor='val_mean_squared_error', \n",
    "                                 mode='min', verbose=1, save_best_only=True)\n",
    "\n",
    "    # Fit the model\n",
    "    model_hist = model.fit(X_train, y_train, \n",
    "                                       validation_data=(X_val, y_val), \n",
    "                                       epochs=25, callbacks=[cb_earlystop, cb_modelcp])\n",
    "    return model"
   ]
  },
  {
   "cell_type": "code",
   "execution_count": 56,
   "id": "78bdf7a4",
   "metadata": {},
   "outputs": [
    {
     "name": "stdout",
     "output_type": "stream",
     "text": [
      "WARNING:tensorflow:Layer lstm_8 will not use cuDNN kernels since it doesn't meet the criteria. It will use a generic GPU kernel as fallback when running on GPU.\n",
      "WARNING:tensorflow:Layer lstm_9 will not use cuDNN kernels since it doesn't meet the criteria. It will use a generic GPU kernel as fallback when running on GPU.\n",
      "WARNING:tensorflow:Layer lstm_10 will not use cuDNN kernels since it doesn't meet the criteria. It will use a generic GPU kernel as fallback when running on GPU.\n",
      "WARNING:tensorflow:Layer lstm_11 will not use cuDNN kernels since it doesn't meet the criteria. It will use a generic GPU kernel as fallback when running on GPU.\n",
      "Model: \"model_1\"\n",
      "_________________________________________________________________\n",
      "Layer (type)                 Output Shape              Param #   \n",
      "=================================================================\n",
      "input_3 (InputLayer)         [(None, 336, 11)]         0         \n",
      "_________________________________________________________________\n",
      "lstm_9 (LSTM)                (None, 64)                19456     \n",
      "_________________________________________________________________\n",
      "repeat_vector_2 (RepeatVecto (None, 11, 64)            0         \n",
      "_________________________________________________________________\n",
      "lstm_10 (LSTM)               (None, 11, 64)            33024     \n",
      "_________________________________________________________________\n",
      "lstm_11 (LSTM)               (None, 128)               98816     \n",
      "_________________________________________________________________\n",
      "dense_2 (Dense)              (None, 10)                1290      \n",
      "_________________________________________________________________\n",
      "dense_3 (Dense)              (None, 3)                 33        \n",
      "=================================================================\n",
      "Total params: 152,619\n",
      "Trainable params: 152,619\n",
      "Non-trainable params: 0\n",
      "_________________________________________________________________\n",
      "Epoch 1/25\n",
      "1143/1143 [==============================] - 1249s 1s/step - loss: 0.0239 - mean_squared_error: 0.0239 - val_loss: 0.0033 - val_mean_squared_error: 0.0033\n",
      "\n",
      "Epoch 00001: val_mean_squared_error improved from inf to 0.00330, saving model to best_model1.h5\n",
      "Epoch 2/25\n",
      "1143/1143 [==============================] - 1278s 1s/step - loss: 0.0051 - mean_squared_error: 0.0051 - val_loss: 0.0018 - val_mean_squared_error: 0.0018\n",
      "\n",
      "Epoch 00002: val_mean_squared_error improved from 0.00330 to 0.00183, saving model to best_model1.h5\n",
      "Epoch 3/25\n",
      "1143/1143 [==============================] - 1269s 1s/step - loss: 0.0048 - mean_squared_error: 0.0048 - val_loss: 0.0028 - val_mean_squared_error: 0.0028\n",
      "\n",
      "Epoch 00003: val_mean_squared_error did not improve from 0.00183\n",
      "Epoch 4/25\n",
      "1143/1143 [==============================] - 1276s 1s/step - loss: 0.0036 - mean_squared_error: 0.0037 - val_loss: 0.0093 - val_mean_squared_error: 0.0093\n",
      "\n",
      "Epoch 00004: val_mean_squared_error did not improve from 0.00183\n",
      "Epoch 5/25\n",
      "1143/1143 [==============================] - 1274s 1s/step - loss: 0.0055 - mean_squared_error: 0.0055 - val_loss: 0.0026 - val_mean_squared_error: 0.0026\n",
      "\n",
      "Epoch 00005: val_mean_squared_error did not improve from 0.00183\n",
      "Epoch 6/25\n",
      "1143/1143 [==============================] - 1277s 1s/step - loss: 0.0042 - mean_squared_error: 0.0042 - val_loss: 0.0017 - val_mean_squared_error: 0.0017\n",
      "\n",
      "Epoch 00006: val_mean_squared_error improved from 0.00183 to 0.00171, saving model to best_model1.h5\n",
      "Epoch 7/25\n",
      "1143/1143 [==============================] - 1272s 1s/step - loss: 0.0030 - mean_squared_error: 0.0030 - val_loss: 0.0020 - val_mean_squared_error: 0.0020\n",
      "\n",
      "Epoch 00007: val_mean_squared_error did not improve from 0.00171\n",
      "Epoch 8/25\n",
      "1143/1143 [==============================] - 1269s 1s/step - loss: 0.0026 - mean_squared_error: 0.0026 - val_loss: 0.0017 - val_mean_squared_error: 0.0017\n",
      "\n",
      "Epoch 00008: val_mean_squared_error did not improve from 0.00171\n",
      "Epoch 9/25\n",
      "1143/1143 [==============================] - 1274s 1s/step - loss: 0.0032 - mean_squared_error: 0.0032 - val_loss: 0.0011 - val_mean_squared_error: 0.0011\n",
      "\n",
      "Epoch 00009: val_mean_squared_error improved from 0.00171 to 0.00110, saving model to best_model1.h5\n",
      "Epoch 10/25\n",
      "1143/1143 [==============================] - 1276s 1s/step - loss: 0.0026 - mean_squared_error: 0.0026 - val_loss: 0.0012 - val_mean_squared_error: 0.0012\n",
      "\n",
      "Epoch 00010: val_mean_squared_error did not improve from 0.00110\n",
      "Epoch 11/25\n",
      "1143/1143 [==============================] - 1269s 1s/step - loss: 0.0028 - mean_squared_error: 0.0028 - val_loss: 0.0020 - val_mean_squared_error: 0.0020\n",
      "\n",
      "Epoch 00011: val_mean_squared_error did not improve from 0.00110\n",
      "Epoch 12/25\n",
      "1143/1143 [==============================] - 1276s 1s/step - loss: 0.0024 - mean_squared_error: 0.0024 - val_loss: 0.0016 - val_mean_squared_error: 0.0016\n",
      "\n",
      "Epoch 00012: val_mean_squared_error did not improve from 0.00110\n",
      "Epoch 13/25\n",
      "1143/1143 [==============================] - 1273s 1s/step - loss: 0.0023 - mean_squared_error: 0.0023 - val_loss: 0.0011 - val_mean_squared_error: 0.0011\n",
      "\n",
      "Epoch 00013: val_mean_squared_error improved from 0.00110 to 0.00109, saving model to best_model1.h5\n",
      "Epoch 14/25\n",
      "1143/1143 [==============================] - 1282s 1s/step - loss: 0.0021 - mean_squared_error: 0.0021 - val_loss: 0.0020 - val_mean_squared_error: 0.0020\n",
      "\n",
      "Epoch 00014: val_mean_squared_error did not improve from 0.00109\n",
      "Epoch 15/25\n",
      "1143/1143 [==============================] - 1281s 1s/step - loss: 0.0021 - mean_squared_error: 0.0021 - val_loss: 0.0015 - val_mean_squared_error: 0.0015\n",
      "\n",
      "Epoch 00015: val_mean_squared_error did not improve from 0.00109\n",
      "Epoch 16/25\n",
      "1143/1143 [==============================] - 1277s 1s/step - loss: 0.0021 - mean_squared_error: 0.0021 - val_loss: 0.0013 - val_mean_squared_error: 0.0013\n",
      "\n",
      "Epoch 00016: val_mean_squared_error did not improve from 0.00109\n",
      "Epoch 17/25\n",
      "1143/1143 [==============================] - 1275s 1s/step - loss: 0.0024 - mean_squared_error: 0.0024 - val_loss: 0.0011 - val_mean_squared_error: 0.0011\n",
      "\n",
      "Epoch 00017: val_mean_squared_error improved from 0.00109 to 0.00105, saving model to best_model1.h5\n",
      "Epoch 18/25\n",
      "1143/1143 [==============================] - 1270s 1s/step - loss: 0.0023 - mean_squared_error: 0.0023 - val_loss: 0.0013 - val_mean_squared_error: 0.0013\n",
      "\n",
      "Epoch 00018: val_mean_squared_error did not improve from 0.00105\n",
      "Epoch 19/25\n",
      "1143/1143 [==============================] - 1279s 1s/step - loss: 0.0020 - mean_squared_error: 0.0020 - val_loss: 0.0012 - val_mean_squared_error: 0.0012\n",
      "\n",
      "Epoch 00019: val_mean_squared_error did not improve from 0.00105\n",
      "Epoch 20/25\n",
      "1143/1143 [==============================] - 1280s 1s/step - loss: 0.0020 - mean_squared_error: 0.0020 - val_loss: 0.0012 - val_mean_squared_error: 0.0012\n",
      "\n",
      "Epoch 00020: val_mean_squared_error did not improve from 0.00105\n",
      "Epoch 21/25\n",
      "1143/1143 [==============================] - 1279s 1s/step - loss: 0.0021 - mean_squared_error: 0.0021 - val_loss: 0.0056 - val_mean_squared_error: 0.0056\n",
      "\n",
      "Epoch 00021: val_mean_squared_error did not improve from 0.00105\n",
      "Epoch 22/25\n",
      "1143/1143 [==============================] - 1288s 1s/step - loss: 0.0021 - mean_squared_error: 0.0021 - val_loss: 9.7804e-04 - val_mean_squared_error: 9.7773e-04\n",
      "\n",
      "Epoch 00022: val_mean_squared_error improved from 0.00105 to 0.00098, saving model to best_model1.h5\n",
      "Epoch 23/25\n",
      "1143/1143 [==============================] - 1268s 1s/step - loss: 0.0019 - mean_squared_error: 0.0019 - val_loss: 9.7220e-04 - val_mean_squared_error: 9.7205e-04\n",
      "\n",
      "Epoch 00023: val_mean_squared_error improved from 0.00098 to 0.00097, saving model to best_model1.h5\n",
      "Epoch 24/25\n",
      "1143/1143 [==============================] - 1285s 1s/step - loss: 0.0018 - mean_squared_error: 0.0018 - val_loss: 0.0017 - val_mean_squared_error: 0.0017\n",
      "\n",
      "Epoch 00024: val_mean_squared_error did not improve from 0.00097\n",
      "Epoch 25/25\n",
      "1143/1143 [==============================] - 1278s 1s/step - loss: 0.0020 - mean_squared_error: 0.0020 - val_loss: 0.0010 - val_mean_squared_error: 0.0010\n",
      "\n",
      "Epoch 00025: val_mean_squared_error did not improve from 0.00097\n"
     ]
    }
   ],
   "source": [
    "model_name = 'LSTM' \n",
    "# model_name = 'GRU' \n",
    "# model_name = 'CONV' \n",
    "model = train_model(model_name)"
   ]
  },
  {
   "cell_type": "code",
   "execution_count": null,
   "id": "f2672a26",
   "metadata": {},
   "outputs": [],
   "source": [
    "# # model_name = 'LSTM' \n",
    "# model_name = 'GRU' \n",
    "# # model_name = 'CONV' \n",
    "# model = train_model(model_name)"
   ]
  },
  {
   "cell_type": "code",
   "execution_count": null,
   "id": "11869c07",
   "metadata": {},
   "outputs": [],
   "source": [
    "# # model_name = 'LSTM' \n",
    "# # model_name = 'GRU' \n",
    "# model_name = 'CONV' \n",
    "# model = train_model(model_name)"
   ]
  },
  {
   "cell_type": "code",
   "execution_count": 57,
   "id": "518c5a92",
   "metadata": {},
   "outputs": [],
   "source": [
    "model.load_weights('best_model1.h5')"
   ]
  },
  {
   "cell_type": "code",
   "execution_count": 58,
   "id": "26c583c2",
   "metadata": {},
   "outputs": [],
   "source": [
    "def plot_model_history(model):\n",
    "    mod_hist = model.history\n",
    "    plt.subplot(1, 2, 1)\n",
    "    plt.plot(mod_hist.history['loss'])\n",
    "    plt.plot(mod_hist.history['val_loss'])\n",
    "    plt.title('Loss MSE')\n",
    "    plt.ylabel('Loss')\n",
    "    plt.xlabel('Epochs')\n",
    "    plt.subplot(1, 2, 2)\n",
    "    plt.plot(mod_hist.history['mean_squared_error'])\n",
    "    plt.plot(mod_hist.history['val_mean_squared_error'])\n",
    "    plt.title('Error RMSE')\n",
    "    plt.ylabel('Loss')\n",
    "    plt.xlabel('Epochs')\n",
    "    "
   ]
  },
  {
   "cell_type": "code",
   "execution_count": 59,
   "id": "50abbc19",
   "metadata": {},
   "outputs": [
    {
     "data": {
      "image/png": "[encoded data removed]",
      "text/plain": [
       "<Figure size 432x288 with 2 Axes>"
      ]
     },
     "metadata": {
      "needs_background": "light"
     },
     "output_type": "display_data"
    }
   ],
   "source": [
    "plot_model_history(model=model)"
   ]
  },
  {
   "cell_type": "code",
   "execution_count": null,
   "id": "3d67aad6",
   "metadata": {},
   "outputs": [],
   "source": []
  },
  {
   "cell_type": "markdown",
   "id": "ed157a1c",
   "metadata": {},
   "source": [
    "### Predict"
   ]
  },
  {
   "cell_type": "code",
   "execution_count": 79,
   "id": "176fcc40",
   "metadata": {},
   "outputs": [],
   "source": [
    "def create_df_predict(training_csv, testing_csv, batch_input_len):\n",
    "    df_train = preprocess_cvs_into_ts(training_csv)\n",
    "    df_train = preprocess_ts_features(df_train)\n",
    "    df_test = preprocess_cvs_into_ts(testing_csv)\n",
    "    df_test = preprocess_ts_features(df_test)\n",
    "    test_len = df_test.shape[0]\n",
    "    df_pred = pd.concat([df_train, df_test], axis=0)\n",
    "    df_pred.fillna(0)\n",
    "    return df_pred[-(test_len+batch_input_len):]"
   ]
  },
  {
   "cell_type": "code",
   "execution_count": 84,
   "id": "cd2c2066",
   "metadata": {},
   "outputs": [],
   "source": [
    "def model_predict(training_csv, testing_csv, batch_input_len, model):\n",
    "    '''This method takes the test csv file, gives the output as predicted array\n",
    "    Creating df which will contain last rows from train which equal to the length of the batch\n",
    "    append those to the test.\n",
    "    The first prediction for the test row 0 shall consider data from train and predict the 0 row of test\n",
    "    the predictions are updated into test first row and then prediction is done for the 1 row in test\n",
    "    this loop repeats'''\n",
    "    \n",
    "    # Creating train (with batch length) and test dataset\n",
    "    df_solar_pred = create_df_predict(training_csv, testing_csv, batch_input_len)\n",
    "    \n",
    "    # Scaling for data\n",
    "    solar_data_pred_sc = scalar_std_ts.transform(df_solar_pred)\n",
    "    \n",
    "    # Tranforming the data into X and y to pass it NN predict\n",
    "    X_test, y_test = ts_data_generator(solar_data_pred_sc, batch_input_len)\n",
    "    \n",
    "    # Used only for testing\n",
    "    cnt = 0\n",
    "    \n",
    "    # Contains the predicted output\n",
    "    x_pred = []\n",
    "    \n",
    "    # Runs for the entire X test\n",
    "    for i in range(X_test.shape[0]-1):\n",
    "        # Since only one value of (batchlength, features) is passed \n",
    "        # it needs to be in the format (n, l, f)\n",
    "        X_i = np.expand_dims(X_test[i], axis=0)\n",
    "        # print('X_i[-1]\\n', X_i[0][-1])\n",
    "        \n",
    "        # Predicts the next row 'Clearsky DHI', 'Clearsky DNI', 'Clearsky GHI'\n",
    "        y_i = model.predict(X_i)\n",
    "        print(f'{i}={y_i}', end=', ')\n",
    "        \n",
    "        # Update predicted 'Clearsky DHI', 'Clearsky DNI', 'Clearsky GHI' since they are not passed\n",
    "        for j in range(3):\n",
    "            X_test[i+1][-1][j] = y_i[0][j]\n",
    "            # print('X_test[i+1][-1][j]\\n', X_test[i+1][-1][j], ' y_i[0][j]: ', y_i[0][j])\n",
    "        \n",
    "        \n",
    "        # print('X_test[i+1][-1]\\n', X_test[i+1][-1])\n",
    "        # print(X_test[i+1][-1][3:])\n",
    "        \n",
    "        # This trick is used to ensure we are inverse transform. \n",
    "        # Inverse transform needs the same length features which was used for fit/transform\n",
    "        # First 3 values from predict and rest of the values from X[3:]\n",
    "        # Ensure that we pick the next X value and since its a matrix pick the last row [-1]\n",
    "        x_i_pred = np.hstack([y_i[0], X_test[i+1][-1][3:]])\n",
    "        # print('x_i_pred\\n', x_i_pred)\n",
    "        x_i_inv_sc = scalar_std_ts.inverse_transform(x_i_pred)\n",
    "        x_pred.append(list(x_i_inv_sc))\n",
    "        \n",
    "        # Comment this block out\n",
    "        #         cnt += 1\n",
    "        #         if cnt > 5:\n",
    "        #             break\n",
    "\n",
    "    return x_pred\n",
    "    "
   ]
  },
  {
   "cell_type": "code",
   "execution_count": 85,
   "id": "c01b09ac",
   "metadata": {},
   "outputs": [
    {
     "name": "stdout",
     "output_type": "stream",
     "text": [
      "0=[[-0.83586675 -0.8986573  -0.7837728 ]], 1=[[-0.8355625 -0.8983677 -0.7835742]], 2=[[nan nan nan]], 3=[[nan nan nan]], 4=[[nan nan nan]], 5=[[nan nan nan]], 6=[[nan nan nan]], 7=[[nan nan nan]], 8=[[nan nan nan]], 9=[[nan nan nan]], 10=[[nan nan nan]], 11=[[nan nan nan]], 12=[[nan nan nan]], 13=[[nan nan nan]], 14=[[nan nan nan]], 15=[[nan nan nan]], 16=[[nan nan nan]], 17=[[nan nan nan]], 18=[[nan nan nan]], 19=[[nan nan nan]], 20=[[nan nan nan]], 21=[[nan nan nan]], 22=[[nan nan nan]], 23=[[nan nan nan]], 24=[[nan nan nan]], 25=[[nan nan nan]], 26=[[nan nan nan]], 27=[[nan nan nan]], 28=[[nan nan nan]], 29=[[nan nan nan]], 30=[[nan nan nan]], 31=[[nan nan nan]], 32=[[nan nan nan]], 33=[[nan nan nan]], 34=[[nan nan nan]], 35=[[nan nan nan]], 36=[[nan nan nan]], 37=[[nan nan nan]], 38=[[nan nan nan]], 39=[[nan nan nan]], 40=[[nan nan nan]], 41=[[nan nan nan]], 42=[[nan nan nan]], 43=[[nan nan nan]], 44=[[nan nan nan]], 45=[[nan nan nan]], 46=[[nan nan nan]], 47=[[nan nan nan]], 48=[[nan nan nan]], 49=[[nan nan nan]], 50=[[nan nan nan]], 51=[[nan nan nan]], 52=[[nan nan nan]], 53=[[nan nan nan]], 54=[[nan nan nan]], 55=[[nan nan nan]], 56=[[nan nan nan]], 57=[[nan nan nan]], 58=[[nan nan nan]], 59=[[nan nan nan]], 60=[[nan nan nan]], 61=[[nan nan nan]], 62=[[nan nan nan]], 63=[[nan nan nan]], 64=[[nan nan nan]], 65=[[nan nan nan]], 66=[[nan nan nan]], 67=[[nan nan nan]], 68=[[nan nan nan]], 69=[[nan nan nan]], 70=[[nan nan nan]], 71=[[nan nan nan]], 72=[[nan nan nan]], 73=[[nan nan nan]], 74=[[nan nan nan]], 75=[[nan nan nan]], 76=[[nan nan nan]], 77=[[nan nan nan]], 78=[[nan nan nan]], 79=[[nan nan nan]], 80=[[nan nan nan]], 81=[[nan nan nan]], 82=[[nan nan nan]], 83=[[nan nan nan]], 84=[[nan nan nan]], 85=[[nan nan nan]], 86=[[nan nan nan]], 87=[[nan nan nan]], 88=[[nan nan nan]], 89=[[nan nan nan]], 90=[[nan nan nan]], 91=[[nan nan nan]], 92=[[nan nan nan]], 93=[[nan nan nan]], 94=[[nan nan nan]], 95=[[nan nan nan]], 96=[[nan nan nan]], 97=[[nan nan nan]], 98=[[nan nan nan]], 99=[[nan nan nan]], 100=[[nan nan nan]], 101=[[nan nan nan]], 102=[[nan nan nan]], 103=[[nan nan nan]], 104=[[nan nan nan]], 105=[[nan nan nan]], 106=[[nan nan nan]], 107=[[nan nan nan]], 108=[[nan nan nan]], 109=[[nan nan nan]], 110=[[nan nan nan]], 111=[[nan nan nan]], 112=[[nan nan nan]], 113=[[nan nan nan]], 114=[[nan nan nan]], 115=[[nan nan nan]], 116=[[nan nan nan]], 117=[[nan nan nan]], 118=[[nan nan nan]], 119=[[nan nan nan]], 120=[[nan nan nan]], 121=[[nan nan nan]], 122=[[nan nan nan]], 123=[[nan nan nan]], 124=[[nan nan nan]], 125=[[nan nan nan]], 126=[[nan nan nan]], 127=[[nan nan nan]], 128=[[nan nan nan]], 129=[[nan nan nan]], 130=[[nan nan nan]], 131=[[nan nan nan]], 132=[[nan nan nan]], 133=[[nan nan nan]], 134=[[nan nan nan]], 135=[[nan nan nan]], 136=[[nan nan nan]], 137=[[nan nan nan]], 138=[[nan nan nan]], 139=[[nan nan nan]], 140=[[nan nan nan]], 141=[[nan nan nan]], 142=[[nan nan nan]], 143=[[nan nan nan]], 144=[[nan nan nan]], 145=[[nan nan nan]], 146=[[nan nan nan]], 147=[[nan nan nan]], 148=[[nan nan nan]], 149=[[nan nan nan]], 150=[[nan nan nan]], 151=[[nan nan nan]], 152=[[nan nan nan]], 153=[[nan nan nan]], 154=[[nan nan nan]], 155=[[nan nan nan]], 156=[[nan nan nan]], 157=[[nan nan nan]], 158=[[nan nan nan]], 159=[[nan nan nan]], 160=[[nan nan nan]], 161=[[nan nan nan]], 162=[[nan nan nan]], 163=[[nan nan nan]], 164=[[nan nan nan]], 165=[[nan nan nan]], 166=[[nan nan nan]], 167=[[nan nan nan]], 168=[[nan nan nan]], 169=[[nan nan nan]], 170=[[nan nan nan]], 171=[[nan nan nan]], 172=[[nan nan nan]], 173=[[nan nan nan]], 174=[[nan nan nan]], 175=[[nan nan nan]], 176=[[nan nan nan]], 177=[[nan nan nan]], 178=[[nan nan nan]], 179=[[nan nan nan]], 180=[[nan nan nan]], 181=[[nan nan nan]], 182=[[nan nan nan]], 183=[[nan nan nan]], 184=[[nan nan nan]], 185=[[nan nan nan]], 186=[[nan nan nan]], 187=[[nan nan nan]], 188=[[nan nan nan]], 189=[[nan nan nan]], 190=[[nan nan nan]], 191=[[nan nan nan]], 192=[[nan nan nan]], 193=[[nan nan nan]], 194=[[nan nan nan]], 195=[[nan nan nan]], 196=[[nan nan nan]], 197=[[nan nan nan]], 198=[[nan nan nan]], 199=[[nan nan nan]], 200=[[nan nan nan]], 201=[[nan nan nan]], 202=[[nan nan nan]], 203=[[nan nan nan]], 204=[[nan nan nan]], 205=[[nan nan nan]], 206=[[nan nan nan]], 207=[[nan nan nan]], 208=[[nan nan nan]], 209=[[nan nan nan]], 210=[[nan nan nan]], 211=[[nan nan nan]], 212=[[nan nan nan]], 213=[[nan nan nan]], 214=[[nan nan nan]], 215=[[nan nan nan]], 216=[[nan nan nan]], 217=[[nan nan nan]], 218=[[nan nan nan]], 219=[[nan nan nan]], 220=[[nan nan nan]], 221=[[nan nan nan]], 222=[[nan nan nan]], 223=[[nan nan nan]], 224=[[nan nan nan]], 225=[[nan nan nan]], 226=[[nan nan nan]], 227=[[nan nan nan]], 228=[[nan nan nan]], 229=[[nan nan nan]], 230=[[nan nan nan]], 231=[[nan nan nan]], 232=[[nan nan nan]], 233=[[nan nan nan]], 234=[[nan nan nan]], 235=[[nan nan nan]], 236=[[nan nan nan]], 237=[[nan nan nan]], 238=[[nan nan nan]], 239=[[nan nan nan]], 240=[[nan nan nan]], 241=[[nan nan nan]], 242=[[nan nan nan]], 243=[[nan nan nan]], 244=[[nan nan nan]], 245=[[nan nan nan]], 246=[[nan nan nan]], 247=[[nan nan nan]], 248=[[nan nan nan]], 249=[[nan nan nan]], 250=[[nan nan nan]], 251=[[nan nan nan]], 252=[[nan nan nan]], 253=[[nan nan nan]], 254=[[nan nan nan]], 255=[[nan nan nan]], 256=[[nan nan nan]], 257=[[nan nan nan]], 258=[[nan nan nan]], 259=[[nan nan nan]], 260=[[nan nan nan]], 261=[[nan nan nan]], 262=[[nan nan nan]], 263=[[nan nan nan]], 264=[[nan nan nan]], 265=[[nan nan nan]], 266=[[nan nan nan]], 267=[[nan nan nan]], 268=[[nan nan nan]], 269=[[nan nan nan]], 270=[[nan nan nan]], 271=[[nan nan nan]], 272=[[nan nan nan]], 273=[[nan nan nan]], 274=[[nan nan nan]], 275=[[nan nan nan]], 276=[[nan nan nan]], 277=[[nan nan nan]], 278=[[nan nan nan]], 279=[[nan nan nan]], 280=[[nan nan nan]], 281=[[nan nan nan]], 282=[[nan nan nan]], 283=[[nan nan nan]], 284=[[nan nan nan]], 285=[[nan nan nan]], 286=[[nan nan nan]], 287=[[nan nan nan]], 288=[[nan nan nan]], 289=[[nan nan nan]], 290=[[nan nan nan]], 291=[[nan nan nan]], 292=[[nan nan nan]], 293=[[nan nan nan]], 294=[[nan nan nan]], 295=[[nan nan nan]], 296=[[nan nan nan]], 297=[[nan nan nan]], 298=[[nan nan nan]], 299=[[nan nan nan]], 300=[[nan nan nan]], 301=[[nan nan nan]], 302=[[nan nan nan]], 303=[[nan nan nan]], 304=[[nan nan nan]], 305=[[nan nan nan]], 306=[[nan nan nan]], 307=[[nan nan nan]], 308=[[nan nan nan]], "
     ]
    },
    {
     "ename": "KeyboardInterrupt",
     "evalue": "",
     "output_type": "error",
     "traceback": [
      "\u001b[1;31m---------------------------------------------------------------------------\u001b[0m",
      "\u001b[1;31mKeyboardInterrupt\u001b[0m                         Traceback (most recent call last)",
      "\u001b[1;32m<ipython-input-85-ff8dd93ea979>\u001b[0m in \u001b[0;36m<module>\u001b[1;34m\u001b[0m\n\u001b[1;32m----> 1\u001b[1;33m \u001b[0mX_pred\u001b[0m \u001b[1;33m=\u001b[0m \u001b[0mmodel_predict\u001b[0m\u001b[1;33m(\u001b[0m\u001b[0mtraining_csv\u001b[0m\u001b[1;33m,\u001b[0m \u001b[0mtesting_csv\u001b[0m\u001b[1;33m,\u001b[0m \u001b[0mbatch_input_len\u001b[0m\u001b[1;33m,\u001b[0m \u001b[0mmodel\u001b[0m\u001b[1;33m)\u001b[0m\u001b[1;33m\u001b[0m\u001b[1;33m\u001b[0m\u001b[0m\n\u001b[0m",
      "\u001b[1;32m<ipython-input-84-84597c5fcb8b>\u001b[0m in \u001b[0;36mmodel_predict\u001b[1;34m(training_csv, testing_csv, batch_input_len, model)\u001b[0m\n\u001b[0;32m     30\u001b[0m \u001b[1;33m\u001b[0m\u001b[0m\n\u001b[0;32m     31\u001b[0m         \u001b[1;31m# Predicts the next row 'Clearsky DHI', 'Clearsky DNI', 'Clearsky GHI'\u001b[0m\u001b[1;33m\u001b[0m\u001b[1;33m\u001b[0m\u001b[1;33m\u001b[0m\u001b[0m\n\u001b[1;32m---> 32\u001b[1;33m         \u001b[0my_i\u001b[0m \u001b[1;33m=\u001b[0m \u001b[0mmodel\u001b[0m\u001b[1;33m.\u001b[0m\u001b[0mpredict\u001b[0m\u001b[1;33m(\u001b[0m\u001b[0mX_i\u001b[0m\u001b[1;33m)\u001b[0m\u001b[1;33m\u001b[0m\u001b[1;33m\u001b[0m\u001b[0m\n\u001b[0m\u001b[0;32m     33\u001b[0m         \u001b[0mprint\u001b[0m\u001b[1;33m(\u001b[0m\u001b[1;34mf'{i}={y_i}'\u001b[0m\u001b[1;33m,\u001b[0m \u001b[0mend\u001b[0m\u001b[1;33m=\u001b[0m\u001b[1;34m', '\u001b[0m\u001b[1;33m)\u001b[0m\u001b[1;33m\u001b[0m\u001b[1;33m\u001b[0m\u001b[0m\n\u001b[0;32m     34\u001b[0m \u001b[1;33m\u001b[0m\u001b[0m\n",
      "\u001b[1;32mC:\\ProgramData\\Anaconda3\\envs\\tensorflow_gpu\\lib\\site-packages\\tensorflow\\python\\keras\\engine\\training.py\u001b[0m in \u001b[0;36mpredict\u001b[1;34m(self, x, batch_size, verbose, steps, callbacks, max_queue_size, workers, use_multiprocessing)\u001b[0m\n\u001b[0;32m   1752\u001b[0m           \u001b[1;32mfor\u001b[0m \u001b[0mstep\u001b[0m \u001b[1;32min\u001b[0m \u001b[0mdata_handler\u001b[0m\u001b[1;33m.\u001b[0m\u001b[0msteps\u001b[0m\u001b[1;33m(\u001b[0m\u001b[1;33m)\u001b[0m\u001b[1;33m:\u001b[0m\u001b[1;33m\u001b[0m\u001b[1;33m\u001b[0m\u001b[0m\n\u001b[0;32m   1753\u001b[0m             \u001b[0mcallbacks\u001b[0m\u001b[1;33m.\u001b[0m\u001b[0mon_predict_batch_begin\u001b[0m\u001b[1;33m(\u001b[0m\u001b[0mstep\u001b[0m\u001b[1;33m)\u001b[0m\u001b[1;33m\u001b[0m\u001b[1;33m\u001b[0m\u001b[0m\n\u001b[1;32m-> 1754\u001b[1;33m             \u001b[0mtmp_batch_outputs\u001b[0m \u001b[1;33m=\u001b[0m \u001b[0mself\u001b[0m\u001b[1;33m.\u001b[0m\u001b[0mpredict_function\u001b[0m\u001b[1;33m(\u001b[0m\u001b[0miterator\u001b[0m\u001b[1;33m)\u001b[0m\u001b[1;33m\u001b[0m\u001b[1;33m\u001b[0m\u001b[0m\n\u001b[0m\u001b[0;32m   1755\u001b[0m             \u001b[1;32mif\u001b[0m \u001b[0mdata_handler\u001b[0m\u001b[1;33m.\u001b[0m\u001b[0mshould_sync\u001b[0m\u001b[1;33m:\u001b[0m\u001b[1;33m\u001b[0m\u001b[1;33m\u001b[0m\u001b[0m\n\u001b[0;32m   1756\u001b[0m               \u001b[0mcontext\u001b[0m\u001b[1;33m.\u001b[0m\u001b[0masync_wait\u001b[0m\u001b[1;33m(\u001b[0m\u001b[1;33m)\u001b[0m\u001b[1;33m\u001b[0m\u001b[1;33m\u001b[0m\u001b[0m\n",
      "\u001b[1;32mC:\\ProgramData\\Anaconda3\\envs\\tensorflow_gpu\\lib\\site-packages\\tensorflow\\python\\eager\\def_function.py\u001b[0m in \u001b[0;36m__call__\u001b[1;34m(self, *args, **kwds)\u001b[0m\n\u001b[0;32m    883\u001b[0m \u001b[1;33m\u001b[0m\u001b[0m\n\u001b[0;32m    884\u001b[0m       \u001b[1;32mwith\u001b[0m \u001b[0mOptionalXlaContext\u001b[0m\u001b[1;33m(\u001b[0m\u001b[0mself\u001b[0m\u001b[1;33m.\u001b[0m\u001b[0m_jit_compile\u001b[0m\u001b[1;33m)\u001b[0m\u001b[1;33m:\u001b[0m\u001b[1;33m\u001b[0m\u001b[1;33m\u001b[0m\u001b[0m\n\u001b[1;32m--> 885\u001b[1;33m         \u001b[0mresult\u001b[0m \u001b[1;33m=\u001b[0m \u001b[0mself\u001b[0m\u001b[1;33m.\u001b[0m\u001b[0m_call\u001b[0m\u001b[1;33m(\u001b[0m\u001b[1;33m*\u001b[0m\u001b[0margs\u001b[0m\u001b[1;33m,\u001b[0m \u001b[1;33m**\u001b[0m\u001b[0mkwds\u001b[0m\u001b[1;33m)\u001b[0m\u001b[1;33m\u001b[0m\u001b[1;33m\u001b[0m\u001b[0m\n\u001b[0m\u001b[0;32m    886\u001b[0m \u001b[1;33m\u001b[0m\u001b[0m\n\u001b[0;32m    887\u001b[0m       \u001b[0mnew_tracing_count\u001b[0m \u001b[1;33m=\u001b[0m \u001b[0mself\u001b[0m\u001b[1;33m.\u001b[0m\u001b[0mexperimental_get_tracing_count\u001b[0m\u001b[1;33m(\u001b[0m\u001b[1;33m)\u001b[0m\u001b[1;33m\u001b[0m\u001b[1;33m\u001b[0m\u001b[0m\n",
      "\u001b[1;32mC:\\ProgramData\\Anaconda3\\envs\\tensorflow_gpu\\lib\\site-packages\\tensorflow\\python\\eager\\def_function.py\u001b[0m in \u001b[0;36m_call\u001b[1;34m(self, *args, **kwds)\u001b[0m\n\u001b[0;32m    918\u001b[0m       \u001b[1;31m# In this case we have not created variables on the first call. So we can\u001b[0m\u001b[1;33m\u001b[0m\u001b[1;33m\u001b[0m\u001b[1;33m\u001b[0m\u001b[0m\n\u001b[0;32m    919\u001b[0m       \u001b[1;31m# run the first trace but we should fail if variables are created.\u001b[0m\u001b[1;33m\u001b[0m\u001b[1;33m\u001b[0m\u001b[1;33m\u001b[0m\u001b[0m\n\u001b[1;32m--> 920\u001b[1;33m       \u001b[0mresults\u001b[0m \u001b[1;33m=\u001b[0m \u001b[0mself\u001b[0m\u001b[1;33m.\u001b[0m\u001b[0m_stateful_fn\u001b[0m\u001b[1;33m(\u001b[0m\u001b[1;33m*\u001b[0m\u001b[0margs\u001b[0m\u001b[1;33m,\u001b[0m \u001b[1;33m**\u001b[0m\u001b[0mkwds\u001b[0m\u001b[1;33m)\u001b[0m\u001b[1;33m\u001b[0m\u001b[1;33m\u001b[0m\u001b[0m\n\u001b[0m\u001b[0;32m    921\u001b[0m       \u001b[1;32mif\u001b[0m \u001b[0mself\u001b[0m\u001b[1;33m.\u001b[0m\u001b[0m_created_variables\u001b[0m\u001b[1;33m:\u001b[0m\u001b[1;33m\u001b[0m\u001b[1;33m\u001b[0m\u001b[0m\n\u001b[0;32m    922\u001b[0m         raise ValueError(\"Creating variables on a non-first call to a function\"\n",
      "\u001b[1;32mC:\\ProgramData\\Anaconda3\\envs\\tensorflow_gpu\\lib\\site-packages\\tensorflow\\python\\eager\\function.py\u001b[0m in \u001b[0;36m__call__\u001b[1;34m(self, *args, **kwargs)\u001b[0m\n\u001b[0;32m   3030\u001b[0m       (graph_function,\n\u001b[0;32m   3031\u001b[0m        filtered_flat_args) = self._maybe_define_function(args, kwargs)\n\u001b[1;32m-> 3032\u001b[1;33m     return graph_function._call_flat(\n\u001b[0m\u001b[0;32m   3033\u001b[0m         filtered_flat_args, captured_inputs=graph_function.captured_inputs)  # pylint: disable=protected-access\n\u001b[0;32m   3034\u001b[0m \u001b[1;33m\u001b[0m\u001b[0m\n",
      "\u001b[1;32mC:\\ProgramData\\Anaconda3\\envs\\tensorflow_gpu\\lib\\site-packages\\tensorflow\\python\\eager\\function.py\u001b[0m in \u001b[0;36m_call_flat\u001b[1;34m(self, args, captured_inputs, cancellation_manager)\u001b[0m\n\u001b[0;32m   1954\u001b[0m         and executing_eagerly):\n\u001b[0;32m   1955\u001b[0m       \u001b[1;31m# No tape is watching; skip to running the function.\u001b[0m\u001b[1;33m\u001b[0m\u001b[1;33m\u001b[0m\u001b[1;33m\u001b[0m\u001b[0m\n\u001b[1;32m-> 1956\u001b[1;33m       return self._build_call_outputs(self._inference_function.call(\n\u001b[0m\u001b[0;32m   1957\u001b[0m           ctx, args, cancellation_manager=cancellation_manager))\n\u001b[0;32m   1958\u001b[0m     forward_backward = self._select_forward_and_backward_functions(\n",
      "\u001b[1;32mC:\\ProgramData\\Anaconda3\\envs\\tensorflow_gpu\\lib\\site-packages\\tensorflow\\python\\eager\\function.py\u001b[0m in \u001b[0;36mcall\u001b[1;34m(self, ctx, args, cancellation_manager)\u001b[0m\n\u001b[0;32m    589\u001b[0m       \u001b[1;32mwith\u001b[0m \u001b[0m_InterpolateFunctionError\u001b[0m\u001b[1;33m(\u001b[0m\u001b[0mself\u001b[0m\u001b[1;33m)\u001b[0m\u001b[1;33m:\u001b[0m\u001b[1;33m\u001b[0m\u001b[1;33m\u001b[0m\u001b[0m\n\u001b[0;32m    590\u001b[0m         \u001b[1;32mif\u001b[0m \u001b[0mcancellation_manager\u001b[0m \u001b[1;32mis\u001b[0m \u001b[1;32mNone\u001b[0m\u001b[1;33m:\u001b[0m\u001b[1;33m\u001b[0m\u001b[1;33m\u001b[0m\u001b[0m\n\u001b[1;32m--> 591\u001b[1;33m           outputs = execute.execute(\n\u001b[0m\u001b[0;32m    592\u001b[0m               \u001b[0mstr\u001b[0m\u001b[1;33m(\u001b[0m\u001b[0mself\u001b[0m\u001b[1;33m.\u001b[0m\u001b[0msignature\u001b[0m\u001b[1;33m.\u001b[0m\u001b[0mname\u001b[0m\u001b[1;33m)\u001b[0m\u001b[1;33m,\u001b[0m\u001b[1;33m\u001b[0m\u001b[1;33m\u001b[0m\u001b[0m\n\u001b[0;32m    593\u001b[0m               \u001b[0mnum_outputs\u001b[0m\u001b[1;33m=\u001b[0m\u001b[0mself\u001b[0m\u001b[1;33m.\u001b[0m\u001b[0m_num_outputs\u001b[0m\u001b[1;33m,\u001b[0m\u001b[1;33m\u001b[0m\u001b[1;33m\u001b[0m\u001b[0m\n",
      "\u001b[1;32mC:\\ProgramData\\Anaconda3\\envs\\tensorflow_gpu\\lib\\site-packages\\tensorflow\\python\\eager\\execute.py\u001b[0m in \u001b[0;36mquick_execute\u001b[1;34m(op_name, num_outputs, inputs, attrs, ctx, name)\u001b[0m\n\u001b[0;32m     57\u001b[0m   \u001b[1;32mtry\u001b[0m\u001b[1;33m:\u001b[0m\u001b[1;33m\u001b[0m\u001b[1;33m\u001b[0m\u001b[0m\n\u001b[0;32m     58\u001b[0m     \u001b[0mctx\u001b[0m\u001b[1;33m.\u001b[0m\u001b[0mensure_initialized\u001b[0m\u001b[1;33m(\u001b[0m\u001b[1;33m)\u001b[0m\u001b[1;33m\u001b[0m\u001b[1;33m\u001b[0m\u001b[0m\n\u001b[1;32m---> 59\u001b[1;33m     tensors = pywrap_tfe.TFE_Py_Execute(ctx._handle, device_name, op_name,\n\u001b[0m\u001b[0;32m     60\u001b[0m                                         inputs, attrs, num_outputs)\n\u001b[0;32m     61\u001b[0m   \u001b[1;32mexcept\u001b[0m \u001b[0mcore\u001b[0m\u001b[1;33m.\u001b[0m\u001b[0m_NotOkStatusException\u001b[0m \u001b[1;32mas\u001b[0m \u001b[0me\u001b[0m\u001b[1;33m:\u001b[0m\u001b[1;33m\u001b[0m\u001b[1;33m\u001b[0m\u001b[0m\n",
      "\u001b[1;31mKeyboardInterrupt\u001b[0m: "
     ]
    }
   ],
   "source": [
    "X_pred = model_predict(training_csv, testing_csv, batch_input_len, model)"
   ]
  },
  {
   "cell_type": "code",
   "execution_count": null,
   "id": "cc516eea",
   "metadata": {},
   "outputs": [],
   "source": [
    "def generate_pred_outputfile(X_pred):\n",
    "    '''This shall generate the output files for submission'''\n",
    "    # est_period=48*365\n",
    "    est_period=len(X_pred)\n",
    "    start_datetime = \"2019-01-01 00:00:00\"\n",
    "    pred_indx = pd.date_range(start=start_datetime, periods=est_period, freq=\"30T\")\n",
    "    y_pred_const = []\n",
    "    for i in range(len(X_pred)):\n",
    "        y_pred_const.append(X_pred[i][0:3])\n",
    "\n",
    "    df_y_pred = pd.DataFrame(data=y_pred_const, index=pred_indx, columns=['Clearsky DHI', 'Clearsky DNI', 'Clearsky GHI'])\n",
    "    df_X_pred = pd.DataFrame(data=X_pred, index=pred_indx, columns=['Clearsky DHI', 'Clearsky DNI', 'Clearsky GHI', \n",
    "                                                               'Temperature', 'Relative Humidity', 'Solar Zenith Angle', \n",
    "                                                               'Precipitable Water', 'ts_Day_sin', 'ts_Day_cos', \n",
    "                                                               'ts_Year_sin', 'ts_Year_cos'])\n",
    "    df_y_pred.to_csv('submission_y_AnilKagita.csv', index=False)\n",
    "    df_y_pred.to_csv('verify_y_AnilKagita.csv', index=True)\n",
    "    df_X_pred.to_csv('verify_x_AnilKagita.csv', index=True)\n",
    "    return df_y_pred, df_X_pred"
   ]
  },
  {
   "cell_type": "code",
   "execution_count": null,
   "id": "0901191f",
   "metadata": {},
   "outputs": [],
   "source": [
    "df_y_pred, df_X_pred = generate_pred_outputfile(X_pred)"
   ]
  },
  {
   "cell_type": "code",
   "execution_count": null,
   "id": "e5217e39",
   "metadata": {},
   "outputs": [],
   "source": [
    "def plot_pred_y(df_y_pred):\n",
    "    plt.figure(figsize=(12, 9))\n",
    "    cnt = 1\n",
    "    for col in df_y_pred.columns:\n",
    "        plt.subplot(3, 1, cnt)\n",
    "        plt.title(col)\n",
    "        plt.plot(df_y_pred[col], label=col)\n",
    "        plt.xticks(rotation=45)\n",
    "        plt.legend(loc='best')\n",
    "        cnt += 1\n",
    "\n",
    "    plt.tight_layout()\n",
    "    plt.show()"
   ]
  },
  {
   "cell_type": "code",
   "execution_count": null,
   "id": "28aafa4c",
   "metadata": {},
   "outputs": [],
   "source": [
    "plot_pred_y(df_y_pred)"
   ]
  },
  {
   "cell_type": "code",
   "execution_count": null,
   "id": "d40b5ed3",
   "metadata": {},
   "outputs": [],
   "source": []
  },
  {
   "cell_type": "code",
   "execution_count": null,
   "id": "d8b0b0f6",
   "metadata": {},
   "outputs": [],
   "source": []
  },
  {
   "cell_type": "code",
   "execution_count": null,
   "id": "0b57a122",
   "metadata": {},
   "outputs": [],
   "source": []
  }
 ],
 "metadata": {
  "kernelspec": {
   "display_name": "Python 3",
   "language": "python",
   "name": "python3"
  },
  "language_info": {
   "codemirror_mode": {
    "name": "ipython",
    "version": 3
   },
   "file_extension": ".py",
   "mimetype": "text/x-python",
   "name": "python",
   "nbconvert_exporter": "python",
   "pygments_lexer": "ipython3",
   "version": "3.9.4"
  }
 },
 "nbformat": 4,
 "nbformat_minor": 5
}
