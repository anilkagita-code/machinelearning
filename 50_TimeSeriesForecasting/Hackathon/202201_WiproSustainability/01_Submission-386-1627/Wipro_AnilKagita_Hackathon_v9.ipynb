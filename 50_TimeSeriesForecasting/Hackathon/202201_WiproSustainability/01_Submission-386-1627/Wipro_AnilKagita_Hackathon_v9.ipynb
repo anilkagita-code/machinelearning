{
 "cells": [
  {
   "cell_type": "code",
   "execution_count": 1,
   "id": "c37f76af",
   "metadata": {},
   "outputs": [],
   "source": [
    "import tensorflow as tf\n",
    "gpus = tf.config.experimental.list_physical_devices('GPU')\n",
    "for gpu in gpus:\n",
    "    tf.config.experimental.set_memory_growth(gpu, enable=True)"
   ]
  },
  {
   "cell_type": "code",
   "execution_count": 2,
   "id": "7a20f253",
   "metadata": {},
   "outputs": [
    {
     "name": "stdout",
     "output_type": "stream",
     "text": [
      "Sat Feb  5 22:45:13 2022       \n",
      "+-----------------------------------------------------------------------------+\n",
      "| NVIDIA-SMI 471.35       Driver Version: 471.35       CUDA Version: 11.4     |\n",
      "|-------------------------------+----------------------+----------------------+\n",
      "| GPU  Name            TCC/WDDM | Bus-Id        Disp.A | Volatile Uncorr. ECC |\n",
      "| Fan  Temp  Perf  Pwr:Usage/Cap|         Memory-Usage | GPU-Util  Compute M. |\n",
      "|                               |                      |               MIG M. |\n",
      "|===============================+======================+======================|\n",
      "|   0  NVIDIA GeForce ... WDDM  | 00000000:01:00.0  On |                  N/A |\n",
      "| N/A   53C    P0    22W /  N/A |    779MiB /  6144MiB |      0%      Default |\n",
      "|                               |                      |                  N/A |\n",
      "+-------------------------------+----------------------+----------------------+\n",
      "                                                                               \n",
      "+-----------------------------------------------------------------------------+\n",
      "| Processes:                                                                  |\n",
      "|  GPU   GI   CI        PID   Type   Process name                  GPU Memory |\n",
      "|        ID   ID                                                   Usage      |\n",
      "|=============================================================================|\n",
      "|    0   N/A  N/A      1516    C+G   ...8wekyb3d8bbwe\\Cortana.exe    N/A      |\n",
      "|    0   N/A  N/A      1664    C+G   ...4__htrsf667h5kn2\\AWCC.exe    N/A      |\n",
      "|    0   N/A  N/A      1676    C+G   Insufficient Permissions        N/A      |\n",
      "|    0   N/A  N/A      2348    C+G   ...072.76\\msedgewebview2.exe    N/A      |\n",
      "|    0   N/A  N/A      4888    C+G   ...lPanel\\SystemSettings.exe    N/A      |\n",
      "|    0   N/A  N/A      7092    C+G   ...me\\Application\\chrome.exe    N/A      |\n",
      "|    0   N/A  N/A     12368    C+G   C:\\Windows\\explorer.exe         N/A      |\n",
      "|    0   N/A  N/A     12840    C+G   ...cw5n1h2txyewy\\LockApp.exe    N/A      |\n",
      "|    0   N/A  N/A     13396    C+G   ...wekyb3d8bbwe\\Video.UI.exe    N/A      |\n",
      "|    0   N/A  N/A     13564    C+G   ...n1h2txyewy\\SearchHost.exe    N/A      |\n",
      "|    0   N/A  N/A     13592    C+G   ...artMenuExperienceHost.exe    N/A      |\n",
      "|    0   N/A  N/A     13792    C+G   ...bbwe\\Microsoft.Photos.exe    N/A      |\n",
      "|    0   N/A  N/A     14992    C+G   ...ekyb3d8bbwe\\YourPhone.exe    N/A      |\n",
      "|    0   N/A  N/A     15216    C+G   ...ekyb3d8bbwe\\onenoteim.exe    N/A      |\n",
      "|    0   N/A  N/A     16948    C+G   ...perience\\NVIDIA Share.exe    N/A      |\n",
      "|    0   N/A  N/A     17884    C+G   ...ge\\Application\\msedge.exe    N/A      |\n",
      "|    0   N/A  N/A     18404    C+G   ...kzcwy\\mcafee-security.exe    N/A      |\n",
      "|    0   N/A  N/A     18832    C+G   ...ng Tool\\App\\Snip.Clip.exe    N/A      |\n",
      "|    0   N/A  N/A     19404    C+G   ...4__8j3eq9eme6ctt\\IGCC.exe    N/A      |\n",
      "|    0   N/A  N/A     19476    C+G   ...072.76\\msedgewebview2.exe    N/A      |\n",
      "+-----------------------------------------------------------------------------+\n"
     ]
    }
   ],
   "source": [
    "!nvidia-smi"
   ]
  },
  {
   "cell_type": "code",
   "execution_count": 3,
   "id": "ae762ea0",
   "metadata": {},
   "outputs": [],
   "source": [
    "import numpy as np\n",
    "import pandas as pd\n",
    "import matplotlib.pyplot as plt"
   ]
  },
  {
   "cell_type": "markdown",
   "id": "c508ac6c",
   "metadata": {},
   "source": [
    "# Data Pre-processing"
   ]
  },
  {
   "cell_type": "markdown",
   "id": "953ecc6d",
   "metadata": {},
   "source": [
    "### Reading the data converting into TimeSeries format"
   ]
  },
  {
   "cell_type": "code",
   "execution_count": 4,
   "id": "38e18494",
   "metadata": {},
   "outputs": [],
   "source": [
    "COLUMN_LIST_GIVEN = ['Clearsky DHI', 'Clearsky DNI', 'Clearsky GHI', 'Temperature', 'Cloud Type', 'Dew Point', 'Fill Flag', \n",
    "           'Relative Humidity', 'Solar Zenith Angle', 'Pressure', 'Precipitable Water', 'Wind Direction', 'Wind Speed']"
   ]
  },
  {
   "cell_type": "code",
   "execution_count": 5,
   "id": "dbfa6ea4",
   "metadata": {},
   "outputs": [],
   "source": [
    "def convert_ts_csv_to_df(csvfile):\n",
    "    '''Take the CSV file along with the path and return dataframe'''\n",
    "    df = pd.read_csv(csvfile)\n",
    "    df.insert(loc=0, column='Date', \n",
    "                value=pd.to_datetime(df[['Year', 'Month', 'Day', 'Hour', 'Minute']]))\n",
    "    df.drop(columns=['Year', 'Month', 'Day', 'Hour', 'Minute'], axis=1, inplace=True)\n",
    "    df.set_index(keys='Date', inplace=True)\n",
    "    df['Clearsky DHI'] = df['Clearsky DHI'].replace(to_replace=0, value=1)\n",
    "    df['Clearsky DNI'] = df['Clearsky DNI'].replace(to_replace=0, value=1)\n",
    "    df['Clearsky GHI'] = df['Clearsky GHI'].replace(to_replace=0, value=1)\n",
    "    df=df[COLUMN_LIST_GIVEN]\n",
    "    return df"
   ]
  },
  {
   "cell_type": "code",
   "execution_count": 6,
   "id": "23bd95be",
   "metadata": {},
   "outputs": [],
   "source": [
    "training_csv = 'data/train.csv'\n",
    "testing_csv = 'data/test.csv'"
   ]
  },
  {
   "cell_type": "code",
   "execution_count": 7,
   "id": "c6cafb7d",
   "metadata": {},
   "outputs": [
    {
     "data": {
      "text/html": [
       "<div>\n",
       "<style scoped>\n",
       "    .dataframe tbody tr th:only-of-type {\n",
       "        vertical-align: middle;\n",
       "    }\n",
       "\n",
       "    .dataframe tbody tr th {\n",
       "        vertical-align: top;\n",
       "    }\n",
       "\n",
       "    .dataframe thead th {\n",
       "        text-align: right;\n",
       "    }\n",
       "</style>\n",
       "<table border=\"1\" class=\"dataframe\">\n",
       "  <thead>\n",
       "    <tr style=\"text-align: right;\">\n",
       "      <th></th>\n",
       "      <th>Clearsky DHI</th>\n",
       "      <th>Clearsky DNI</th>\n",
       "      <th>Clearsky GHI</th>\n",
       "      <th>Temperature</th>\n",
       "      <th>Cloud Type</th>\n",
       "      <th>Dew Point</th>\n",
       "      <th>Fill Flag</th>\n",
       "      <th>Relative Humidity</th>\n",
       "      <th>Solar Zenith Angle</th>\n",
       "      <th>Pressure</th>\n",
       "      <th>Precipitable Water</th>\n",
       "      <th>Wind Direction</th>\n",
       "      <th>Wind Speed</th>\n",
       "    </tr>\n",
       "    <tr>\n",
       "      <th>Date</th>\n",
       "      <th></th>\n",
       "      <th></th>\n",
       "      <th></th>\n",
       "      <th></th>\n",
       "      <th></th>\n",
       "      <th></th>\n",
       "      <th></th>\n",
       "      <th></th>\n",
       "      <th></th>\n",
       "      <th></th>\n",
       "      <th></th>\n",
       "      <th></th>\n",
       "      <th></th>\n",
       "    </tr>\n",
       "  </thead>\n",
       "  <tbody>\n",
       "    <tr>\n",
       "      <th>2015-06-08 02:00:00</th>\n",
       "      <td>1</td>\n",
       "      <td>1</td>\n",
       "      <td>1</td>\n",
       "      <td>24.0</td>\n",
       "      <td>3</td>\n",
       "      <td>20.0</td>\n",
       "      <td>0</td>\n",
       "      <td>82.17</td>\n",
       "      <td>105.08</td>\n",
       "      <td>1000</td>\n",
       "      <td>3.993</td>\n",
       "      <td>142.0</td>\n",
       "      <td>1.4</td>\n",
       "    </tr>\n",
       "    <tr>\n",
       "      <th>2010-12-14 16:00:00</th>\n",
       "      <td>71</td>\n",
       "      <td>959</td>\n",
       "      <td>563</td>\n",
       "      <td>1.0</td>\n",
       "      <td>0</td>\n",
       "      <td>-13.0</td>\n",
       "      <td>0</td>\n",
       "      <td>33.32</td>\n",
       "      <td>59.14</td>\n",
       "      <td>1010</td>\n",
       "      <td>0.345</td>\n",
       "      <td>323.1</td>\n",
       "      <td>4.3</td>\n",
       "    </tr>\n",
       "  </tbody>\n",
       "</table>\n",
       "</div>"
      ],
      "text/plain": [
       "                     Clearsky DHI  Clearsky DNI  Clearsky GHI  Temperature  \\\n",
       "Date                                                                         \n",
       "2015-06-08 02:00:00             1             1             1         24.0   \n",
       "2010-12-14 16:00:00            71           959           563          1.0   \n",
       "\n",
       "                     Cloud Type  Dew Point  Fill Flag  Relative Humidity  \\\n",
       "Date                                                                       \n",
       "2015-06-08 02:00:00           3       20.0          0              82.17   \n",
       "2010-12-14 16:00:00           0      -13.0          0              33.32   \n",
       "\n",
       "                     Solar Zenith Angle  Pressure  Precipitable Water  \\\n",
       "Date                                                                    \n",
       "2015-06-08 02:00:00              105.08      1000               3.993   \n",
       "2010-12-14 16:00:00               59.14      1010               0.345   \n",
       "\n",
       "                     Wind Direction  Wind Speed  \n",
       "Date                                             \n",
       "2015-06-08 02:00:00           142.0         1.4  \n",
       "2010-12-14 16:00:00           323.1         4.3  "
      ]
     },
     "execution_count": 7,
     "metadata": {},
     "output_type": "execute_result"
    }
   ],
   "source": [
    "df_solar = convert_ts_csv_to_df(training_csv)\n",
    "df_solar.sample(2)"
   ]
  },
  {
   "cell_type": "code",
   "execution_count": 8,
   "id": "d1833ac9",
   "metadata": {},
   "outputs": [
    {
     "data": {
      "text/html": [
       "<div>\n",
       "<style scoped>\n",
       "    .dataframe tbody tr th:only-of-type {\n",
       "        vertical-align: middle;\n",
       "    }\n",
       "\n",
       "    .dataframe tbody tr th {\n",
       "        vertical-align: top;\n",
       "    }\n",
       "\n",
       "    .dataframe thead th {\n",
       "        text-align: right;\n",
       "    }\n",
       "</style>\n",
       "<table border=\"1\" class=\"dataframe\">\n",
       "  <thead>\n",
       "    <tr style=\"text-align: right;\">\n",
       "      <th></th>\n",
       "      <th>Clearsky DHI</th>\n",
       "      <th>Clearsky DNI</th>\n",
       "      <th>Clearsky GHI</th>\n",
       "      <th>Temperature</th>\n",
       "      <th>Cloud Type</th>\n",
       "      <th>Dew Point</th>\n",
       "      <th>Fill Flag</th>\n",
       "      <th>Relative Humidity</th>\n",
       "      <th>Solar Zenith Angle</th>\n",
       "      <th>Pressure</th>\n",
       "      <th>Precipitable Water</th>\n",
       "      <th>Wind Direction</th>\n",
       "      <th>Wind Speed</th>\n",
       "    </tr>\n",
       "    <tr>\n",
       "      <th>Date</th>\n",
       "      <th></th>\n",
       "      <th></th>\n",
       "      <th></th>\n",
       "      <th></th>\n",
       "      <th></th>\n",
       "      <th></th>\n",
       "      <th></th>\n",
       "      <th></th>\n",
       "      <th></th>\n",
       "      <th></th>\n",
       "      <th></th>\n",
       "      <th></th>\n",
       "      <th></th>\n",
       "    </tr>\n",
       "  </thead>\n",
       "  <tbody>\n",
       "    <tr>\n",
       "      <th>2019-02-13 18:30:00</th>\n",
       "      <td>NaN</td>\n",
       "      <td>NaN</td>\n",
       "      <td>NaN</td>\n",
       "      <td>13.8</td>\n",
       "      <td>0</td>\n",
       "      <td>2.2</td>\n",
       "      <td>0</td>\n",
       "      <td>45.36</td>\n",
       "      <td>46.14</td>\n",
       "      <td>1010</td>\n",
       "      <td>0.5</td>\n",
       "      <td>328</td>\n",
       "      <td>3.8</td>\n",
       "    </tr>\n",
       "    <tr>\n",
       "      <th>2019-11-19 07:00:00</th>\n",
       "      <td>NaN</td>\n",
       "      <td>NaN</td>\n",
       "      <td>NaN</td>\n",
       "      <td>6.9</td>\n",
       "      <td>0</td>\n",
       "      <td>6.9</td>\n",
       "      <td>0</td>\n",
       "      <td>99.96</td>\n",
       "      <td>154.47</td>\n",
       "      <td>1000</td>\n",
       "      <td>1.4</td>\n",
       "      <td>282</td>\n",
       "      <td>2.0</td>\n",
       "    </tr>\n",
       "  </tbody>\n",
       "</table>\n",
       "</div>"
      ],
      "text/plain": [
       "                     Clearsky DHI  Clearsky DNI  Clearsky GHI  Temperature  \\\n",
       "Date                                                                         \n",
       "2019-02-13 18:30:00           NaN           NaN           NaN         13.8   \n",
       "2019-11-19 07:00:00           NaN           NaN           NaN          6.9   \n",
       "\n",
       "                     Cloud Type  Dew Point  Fill Flag  Relative Humidity  \\\n",
       "Date                                                                       \n",
       "2019-02-13 18:30:00           0        2.2          0              45.36   \n",
       "2019-11-19 07:00:00           0        6.9          0              99.96   \n",
       "\n",
       "                     Solar Zenith Angle  Pressure  Precipitable Water  \\\n",
       "Date                                                                    \n",
       "2019-02-13 18:30:00               46.14      1010                 0.5   \n",
       "2019-11-19 07:00:00              154.47      1000                 1.4   \n",
       "\n",
       "                     Wind Direction  Wind Speed  \n",
       "Date                                             \n",
       "2019-02-13 18:30:00             328         3.8  \n",
       "2019-11-19 07:00:00             282         2.0  "
      ]
     },
     "execution_count": 8,
     "metadata": {},
     "output_type": "execute_result"
    }
   ],
   "source": [
    "# Reading the test dataset as Val\n",
    "# Train dataset shall be split into Train and Test\n",
    "# Val is read to understand the data and null values\n",
    "df_solar_test = convert_ts_csv_to_df(testing_csv)\n",
    "df_solar_test.sample(2)"
   ]
  },
  {
   "cell_type": "code",
   "execution_count": 9,
   "id": "ace409d5",
   "metadata": {},
   "outputs": [
    {
     "data": {
      "text/plain": [
       "(17520, 13)"
      ]
     },
     "execution_count": 9,
     "metadata": {},
     "output_type": "execute_result"
    }
   ],
   "source": [
    "df_solar_test.shape"
   ]
  },
  {
   "cell_type": "markdown",
   "id": "e5253a45",
   "metadata": {},
   "source": [
    "### Data Check"
   ]
  },
  {
   "cell_type": "markdown",
   "id": "ce54a650",
   "metadata": {},
   "source": [
    "##### Null Check"
   ]
  },
  {
   "cell_type": "code",
   "execution_count": 10,
   "id": "ce0886b6",
   "metadata": {},
   "outputs": [
    {
     "data": {
      "text/plain": [
       "Clearsky DHI          0\n",
       "Clearsky DNI          0\n",
       "Clearsky GHI          0\n",
       "Temperature           0\n",
       "Cloud Type            0\n",
       "Dew Point             0\n",
       "Fill Flag             0\n",
       "Relative Humidity     0\n",
       "Solar Zenith Angle    0\n",
       "Pressure              0\n",
       "Precipitable Water    0\n",
       "Wind Direction        0\n",
       "Wind Speed            0\n",
       "dtype: int64"
      ]
     },
     "execution_count": 10,
     "metadata": {},
     "output_type": "execute_result"
    }
   ],
   "source": [
    "df_solar.isnull().sum()"
   ]
  },
  {
   "cell_type": "code",
   "execution_count": 11,
   "id": "a1714a67",
   "metadata": {},
   "outputs": [
    {
     "data": {
      "text/plain": [
       "Clearsky DHI          17520\n",
       "Clearsky DNI          17520\n",
       "Clearsky GHI          17520\n",
       "Temperature               0\n",
       "Cloud Type                0\n",
       "Dew Point                 0\n",
       "Fill Flag                 0\n",
       "Relative Humidity         0\n",
       "Solar Zenith Angle        0\n",
       "Pressure                  0\n",
       "Precipitable Water        0\n",
       "Wind Direction            0\n",
       "Wind Speed                0\n",
       "dtype: int64"
      ]
     },
     "execution_count": 11,
     "metadata": {},
     "output_type": "execute_result"
    }
   ],
   "source": [
    "df_solar_test.isnull().sum()"
   ]
  },
  {
   "cell_type": "markdown",
   "id": "7f873485",
   "metadata": {},
   "source": [
    "# Feature Selection"
   ]
  },
  {
   "cell_type": "markdown",
   "id": "7ffa4e68",
   "metadata": {},
   "source": [
    "##### Datatype Check and convert to floats for Scaling data"
   ]
  },
  {
   "cell_type": "code",
   "execution_count": 12,
   "id": "808f0a01",
   "metadata": {},
   "outputs": [
    {
     "name": "stdout",
     "output_type": "stream",
     "text": [
      "<class 'pandas.core.frame.DataFrame'>\n",
      "DatetimeIndex: 175296 entries, 2009-01-01 00:00:00 to 2018-12-31 23:30:00\n",
      "Data columns (total 13 columns):\n",
      " #   Column              Non-Null Count   Dtype  \n",
      "---  ------              --------------   -----  \n",
      " 0   Clearsky DHI        175296 non-null  int64  \n",
      " 1   Clearsky DNI        175296 non-null  int64  \n",
      " 2   Clearsky GHI        175296 non-null  int64  \n",
      " 3   Temperature         175296 non-null  float64\n",
      " 4   Cloud Type          175296 non-null  int64  \n",
      " 5   Dew Point           175296 non-null  float64\n",
      " 6   Fill Flag           175296 non-null  int64  \n",
      " 7   Relative Humidity   175296 non-null  float64\n",
      " 8   Solar Zenith Angle  175296 non-null  float64\n",
      " 9   Pressure            175296 non-null  int64  \n",
      " 10  Precipitable Water  175296 non-null  float64\n",
      " 11  Wind Direction      175296 non-null  float64\n",
      " 12  Wind Speed          175296 non-null  float64\n",
      "dtypes: float64(7), int64(6)\n",
      "memory usage: 18.7 MB\n"
     ]
    }
   ],
   "source": [
    "df_solar.info()"
   ]
  },
  {
   "cell_type": "code",
   "execution_count": 13,
   "id": "853d7b28",
   "metadata": {},
   "outputs": [],
   "source": [
    "df_solar = df_solar.astype(np.float64)"
   ]
  },
  {
   "cell_type": "code",
   "execution_count": 14,
   "id": "6a076c35",
   "metadata": {},
   "outputs": [
    {
     "name": "stdout",
     "output_type": "stream",
     "text": [
      "<class 'pandas.core.frame.DataFrame'>\n",
      "DatetimeIndex: 175296 entries, 2009-01-01 00:00:00 to 2018-12-31 23:30:00\n",
      "Data columns (total 13 columns):\n",
      " #   Column              Non-Null Count   Dtype  \n",
      "---  ------              --------------   -----  \n",
      " 0   Clearsky DHI        175296 non-null  float64\n",
      " 1   Clearsky DNI        175296 non-null  float64\n",
      " 2   Clearsky GHI        175296 non-null  float64\n",
      " 3   Temperature         175296 non-null  float64\n",
      " 4   Cloud Type          175296 non-null  float64\n",
      " 5   Dew Point           175296 non-null  float64\n",
      " 6   Fill Flag           175296 non-null  float64\n",
      " 7   Relative Humidity   175296 non-null  float64\n",
      " 8   Solar Zenith Angle  175296 non-null  float64\n",
      " 9   Pressure            175296 non-null  float64\n",
      " 10  Precipitable Water  175296 non-null  float64\n",
      " 11  Wind Direction      175296 non-null  float64\n",
      " 12  Wind Speed          175296 non-null  float64\n",
      "dtypes: float64(13)\n",
      "memory usage: 18.7 MB\n"
     ]
    }
   ],
   "source": [
    "df_solar.info()"
   ]
  },
  {
   "cell_type": "markdown",
   "id": "0ddbe8da",
   "metadata": {},
   "source": [
    "##### Feature update based on domain"
   ]
  },
  {
   "cell_type": "code",
   "execution_count": 15,
   "id": "9cf8e1a2",
   "metadata": {},
   "outputs": [
    {
     "name": "stdout",
     "output_type": "stream",
     "text": [
      "\n",
      "Source: https://www.yellowhaze.in/solar-irradiance/\n",
      "Global Horizontal Irradiance (GHI) = Direct Normal Irradiance (DNI)* cos(solar zenith angle)  +  Diffused Horizontal Irradiance (DHI)\n"
     ]
    }
   ],
   "source": [
    "print('''\n",
    "Source: https://www.yellowhaze.in/solar-irradiance/\n",
    "Global Horizontal Irradiance (GHI) = Direct Normal Irradiance (DNI)* cos(solar zenith angle)  +  Diffused Horizontal Irradiance (DHI)''')"
   ]
  },
  {
   "cell_type": "code",
   "execution_count": 16,
   "id": "99bffe0f",
   "metadata": {},
   "outputs": [
    {
     "data": {
      "text/plain": [
       "count    175296.000000\n",
       "mean         89.729463\n",
       "std          40.085451\n",
       "min           8.550000\n",
       "25%          56.450000\n",
       "50%          89.860000\n",
       "75%         123.060000\n",
       "max         171.550000\n",
       "Name: Solar Zenith Angle, dtype: float64"
      ]
     },
     "execution_count": 16,
     "metadata": {},
     "output_type": "execute_result"
    }
   ],
   "source": [
    "df_solar['Solar Zenith Angle'].describe()"
   ]
  },
  {
   "cell_type": "code",
   "execution_count": 17,
   "id": "d8ae9c53",
   "metadata": {},
   "outputs": [
    {
     "name": "stdout",
     "output_type": "stream",
     "text": [
      "This shows the Zenith Angle is given in degrees with a min or 35 and max of 171 approximately\n"
     ]
    }
   ],
   "source": [
    "print('''This shows the Zenith Angle is given in degrees with a min or 35 and max of 171 approximately''')"
   ]
  },
  {
   "cell_type": "code",
   "execution_count": 18,
   "id": "a5de5018",
   "metadata": {},
   "outputs": [],
   "source": [
    "from math import cos, radians"
   ]
  },
  {
   "cell_type": "code",
   "execution_count": 19,
   "id": "f198ba60",
   "metadata": {},
   "outputs": [],
   "source": [
    "df_solar['Cos Zenith'] = df_solar['Solar Zenith Angle'].apply(lambda x: cos(radians(x)))"
   ]
  },
  {
   "cell_type": "code",
   "execution_count": 20,
   "id": "4bf7e71d",
   "metadata": {},
   "outputs": [
    {
     "data": {
      "text/plain": [
       "count    175296.000000\n",
       "mean          0.003547\n",
       "std           0.595196\n",
       "min          -0.989144\n",
       "25%          -0.545517\n",
       "50%           0.002443\n",
       "75%           0.552664\n",
       "max           0.988886\n",
       "Name: Cos Zenith, dtype: float64"
      ]
     },
     "execution_count": 20,
     "metadata": {},
     "output_type": "execute_result"
    }
   ],
   "source": [
    "df_solar['Cos Zenith'].describe()"
   ]
  },
  {
   "cell_type": "code",
   "execution_count": 21,
   "id": "20715760",
   "metadata": {},
   "outputs": [],
   "source": [
    "df_solar.drop(columns='Solar Zenith Angle', inplace=True)"
   ]
  },
  {
   "cell_type": "code",
   "execution_count": 22,
   "id": "6c833ddf",
   "metadata": {},
   "outputs": [
    {
     "data": {
      "text/html": [
       "<div>\n",
       "<style scoped>\n",
       "    .dataframe tbody tr th:only-of-type {\n",
       "        vertical-align: middle;\n",
       "    }\n",
       "\n",
       "    .dataframe tbody tr th {\n",
       "        vertical-align: top;\n",
       "    }\n",
       "\n",
       "    .dataframe thead th {\n",
       "        text-align: right;\n",
       "    }\n",
       "</style>\n",
       "<table border=\"1\" class=\"dataframe\">\n",
       "  <thead>\n",
       "    <tr style=\"text-align: right;\">\n",
       "      <th></th>\n",
       "      <th>Clearsky DHI</th>\n",
       "      <th>Clearsky DNI</th>\n",
       "      <th>Clearsky GHI</th>\n",
       "      <th>Temperature</th>\n",
       "      <th>Cloud Type</th>\n",
       "      <th>Dew Point</th>\n",
       "      <th>Fill Flag</th>\n",
       "      <th>Relative Humidity</th>\n",
       "      <th>Pressure</th>\n",
       "      <th>Precipitable Water</th>\n",
       "      <th>Wind Direction</th>\n",
       "      <th>Wind Speed</th>\n",
       "      <th>Cos Zenith</th>\n",
       "    </tr>\n",
       "    <tr>\n",
       "      <th>Date</th>\n",
       "      <th></th>\n",
       "      <th></th>\n",
       "      <th></th>\n",
       "      <th></th>\n",
       "      <th></th>\n",
       "      <th></th>\n",
       "      <th></th>\n",
       "      <th></th>\n",
       "      <th></th>\n",
       "      <th></th>\n",
       "      <th></th>\n",
       "      <th></th>\n",
       "      <th></th>\n",
       "    </tr>\n",
       "  </thead>\n",
       "  <tbody>\n",
       "    <tr>\n",
       "      <th>2017-02-11 02:30:00</th>\n",
       "      <td>1.0</td>\n",
       "      <td>1.0</td>\n",
       "      <td>1.0</td>\n",
       "      <td>7.0</td>\n",
       "      <td>0.0</td>\n",
       "      <td>5.0</td>\n",
       "      <td>0.0</td>\n",
       "      <td>88.73</td>\n",
       "      <td>1010.0</td>\n",
       "      <td>1.106</td>\n",
       "      <td>160.3</td>\n",
       "      <td>1.7</td>\n",
       "      <td>-0.658427</td>\n",
       "    </tr>\n",
       "    <tr>\n",
       "      <th>2009-02-01 23:30:00</th>\n",
       "      <td>1.0</td>\n",
       "      <td>1.0</td>\n",
       "      <td>1.0</td>\n",
       "      <td>8.0</td>\n",
       "      <td>4.0</td>\n",
       "      <td>6.0</td>\n",
       "      <td>0.0</td>\n",
       "      <td>91.27</td>\n",
       "      <td>1010.0</td>\n",
       "      <td>1.274</td>\n",
       "      <td>203.9</td>\n",
       "      <td>1.3</td>\n",
       "      <td>-0.085243</td>\n",
       "    </tr>\n",
       "  </tbody>\n",
       "</table>\n",
       "</div>"
      ],
      "text/plain": [
       "                     Clearsky DHI  Clearsky DNI  Clearsky GHI  Temperature  \\\n",
       "Date                                                                         \n",
       "2017-02-11 02:30:00           1.0           1.0           1.0          7.0   \n",
       "2009-02-01 23:30:00           1.0           1.0           1.0          8.0   \n",
       "\n",
       "                     Cloud Type  Dew Point  Fill Flag  Relative Humidity  \\\n",
       "Date                                                                       \n",
       "2017-02-11 02:30:00         0.0        5.0        0.0              88.73   \n",
       "2009-02-01 23:30:00         4.0        6.0        0.0              91.27   \n",
       "\n",
       "                     Pressure  Precipitable Water  Wind Direction  Wind Speed  \\\n",
       "Date                                                                            \n",
       "2017-02-11 02:30:00    1010.0               1.106           160.3         1.7   \n",
       "2009-02-01 23:30:00    1010.0               1.274           203.9         1.3   \n",
       "\n",
       "                     Cos Zenith  \n",
       "Date                             \n",
       "2017-02-11 02:30:00   -0.658427  \n",
       "2009-02-01 23:30:00   -0.085243  "
      ]
     },
     "execution_count": 22,
     "metadata": {},
     "output_type": "execute_result"
    }
   ],
   "source": [
    "df_solar.sample(2)"
   ]
  },
  {
   "cell_type": "code",
   "execution_count": 23,
   "id": "9281ad50",
   "metadata": {},
   "outputs": [
    {
     "data": {
      "text/plain": [
       "(175296, 13)"
      ]
     },
     "execution_count": 23,
     "metadata": {},
     "output_type": "execute_result"
    }
   ],
   "source": [
    "df_solar.shape"
   ]
  },
  {
   "cell_type": "markdown",
   "id": "ba8e729e",
   "metadata": {},
   "source": [
    "### Adding the Significance of Seasonality into TS\n",
    "Since we using Deep Learning, the significance of Timestamp is lost and the sinificance behaviour of data with respect to Seasonality. In order to avoid it, these parameters are added"
   ]
  },
  {
   "cell_type": "code",
   "execution_count": 24,
   "id": "4c19258f",
   "metadata": {},
   "outputs": [
    {
     "data": {
      "text/html": [
       "<div>\n",
       "<style scoped>\n",
       "    .dataframe tbody tr th:only-of-type {\n",
       "        vertical-align: middle;\n",
       "    }\n",
       "\n",
       "    .dataframe tbody tr th {\n",
       "        vertical-align: top;\n",
       "    }\n",
       "\n",
       "    .dataframe thead th {\n",
       "        text-align: right;\n",
       "    }\n",
       "</style>\n",
       "<table border=\"1\" class=\"dataframe\">\n",
       "  <thead>\n",
       "    <tr style=\"text-align: right;\">\n",
       "      <th></th>\n",
       "      <th>Clearsky DHI</th>\n",
       "      <th>Clearsky DNI</th>\n",
       "      <th>Clearsky GHI</th>\n",
       "      <th>Temperature</th>\n",
       "      <th>Cloud Type</th>\n",
       "      <th>Dew Point</th>\n",
       "      <th>Fill Flag</th>\n",
       "      <th>Relative Humidity</th>\n",
       "      <th>Pressure</th>\n",
       "      <th>Precipitable Water</th>\n",
       "      <th>Wind Direction</th>\n",
       "      <th>Wind Speed</th>\n",
       "      <th>Cos Zenith</th>\n",
       "      <th>ts_Day_sin</th>\n",
       "      <th>ts_Day_cos</th>\n",
       "      <th>ts_Year_sin</th>\n",
       "      <th>ts_Year_cos</th>\n",
       "    </tr>\n",
       "    <tr>\n",
       "      <th>Date</th>\n",
       "      <th></th>\n",
       "      <th></th>\n",
       "      <th></th>\n",
       "      <th></th>\n",
       "      <th></th>\n",
       "      <th></th>\n",
       "      <th></th>\n",
       "      <th></th>\n",
       "      <th></th>\n",
       "      <th></th>\n",
       "      <th></th>\n",
       "      <th></th>\n",
       "      <th></th>\n",
       "      <th></th>\n",
       "      <th></th>\n",
       "      <th></th>\n",
       "      <th></th>\n",
       "    </tr>\n",
       "  </thead>\n",
       "  <tbody>\n",
       "    <tr>\n",
       "      <th>2009-05-15 22:30:00</th>\n",
       "      <td>114.0</td>\n",
       "      <td>505.0</td>\n",
       "      <td>309.0</td>\n",
       "      <td>24.0</td>\n",
       "      <td>9.0</td>\n",
       "      <td>21.0</td>\n",
       "      <td>0.0</td>\n",
       "      <td>91.89</td>\n",
       "      <td>1000.0</td>\n",
       "      <td>4.205</td>\n",
       "      <td>133.5</td>\n",
       "      <td>1.7</td>\n",
       "      <td>0.386389</td>\n",
       "      <td>-0.382683</td>\n",
       "      <td>0.923880</td>\n",
       "      <td>0.724949</td>\n",
       "      <td>-0.688802</td>\n",
       "    </tr>\n",
       "    <tr>\n",
       "      <th>2013-09-07 03:00:00</th>\n",
       "      <td>1.0</td>\n",
       "      <td>1.0</td>\n",
       "      <td>1.0</td>\n",
       "      <td>22.0</td>\n",
       "      <td>0.0</td>\n",
       "      <td>21.0</td>\n",
       "      <td>0.0</td>\n",
       "      <td>97.12</td>\n",
       "      <td>1000.0</td>\n",
       "      <td>3.551</td>\n",
       "      <td>79.4</td>\n",
       "      <td>1.3</td>\n",
       "      <td>-0.606682</td>\n",
       "      <td>0.707107</td>\n",
       "      <td>0.707107</td>\n",
       "      <td>-0.914349</td>\n",
       "      <td>-0.404927</td>\n",
       "    </tr>\n",
       "  </tbody>\n",
       "</table>\n",
       "</div>"
      ],
      "text/plain": [
       "                     Clearsky DHI  Clearsky DNI  Clearsky GHI  Temperature  \\\n",
       "Date                                                                         \n",
       "2009-05-15 22:30:00         114.0         505.0         309.0         24.0   \n",
       "2013-09-07 03:00:00           1.0           1.0           1.0         22.0   \n",
       "\n",
       "                     Cloud Type  Dew Point  Fill Flag  Relative Humidity  \\\n",
       "Date                                                                       \n",
       "2009-05-15 22:30:00         9.0       21.0        0.0              91.89   \n",
       "2013-09-07 03:00:00         0.0       21.0        0.0              97.12   \n",
       "\n",
       "                     Pressure  Precipitable Water  Wind Direction  Wind Speed  \\\n",
       "Date                                                                            \n",
       "2009-05-15 22:30:00    1000.0               4.205           133.5         1.7   \n",
       "2013-09-07 03:00:00    1000.0               3.551            79.4         1.3   \n",
       "\n",
       "                     Cos Zenith  ts_Day_sin  ts_Day_cos  ts_Year_sin  \\\n",
       "Date                                                                   \n",
       "2009-05-15 22:30:00    0.386389   -0.382683    0.923880     0.724949   \n",
       "2013-09-07 03:00:00   -0.606682    0.707107    0.707107    -0.914349   \n",
       "\n",
       "                     ts_Year_cos  \n",
       "Date                              \n",
       "2009-05-15 22:30:00    -0.688802  \n",
       "2013-09-07 03:00:00    -0.404927  "
      ]
     },
     "execution_count": 24,
     "metadata": {},
     "output_type": "execute_result"
    }
   ],
   "source": [
    "# Getting the time in seconds\n",
    "df_solar['ts'] = df_solar.index.map(pd.Timestamp.timestamp)\n",
    "# Adding columns based on Timestamp to understand Daily and Yearly seasonality\n",
    "day = 60*60*24\n",
    "year = 365.2425*day\n",
    "\n",
    "df_solar['ts_Day_sin'] = np.sin(df_solar['ts'] * (2* np.pi / day))\n",
    "df_solar['ts_Day_cos'] = np.cos(df_solar['ts'] * (2 * np.pi / day))\n",
    "df_solar['ts_Year_sin'] = np.sin(df_solar['ts'] * (2 * np.pi / year))\n",
    "df_solar['ts_Year_cos'] = np.cos(df_solar['ts'] * (2 * np.pi / year))\n",
    "df_solar.drop(columns='ts', inplace=True)\n",
    "df_solar.sample(2)"
   ]
  },
  {
   "cell_type": "markdown",
   "id": "b3908876",
   "metadata": {},
   "source": [
    "### Scaling of Data"
   ]
  },
  {
   "cell_type": "code",
   "execution_count": 25,
   "id": "a5e5faec",
   "metadata": {},
   "outputs": [],
   "source": [
    "from sklearn.preprocessing import StandardScaler"
   ]
  },
  {
   "cell_type": "code",
   "execution_count": 26,
   "id": "def97f55",
   "metadata": {},
   "outputs": [],
   "source": [
    "scalar_std_fs = StandardScaler()"
   ]
  },
  {
   "cell_type": "markdown",
   "id": "f661942c",
   "metadata": {},
   "source": [
    "##### Small trick to ensure we can perform inverse transform"
   ]
  },
  {
   "cell_type": "code",
   "execution_count": 27,
   "id": "30fb8245",
   "metadata": {},
   "outputs": [],
   "source": [
    "scalar_std_fs = scalar_std_fs.fit(df_solar)"
   ]
  },
  {
   "cell_type": "code",
   "execution_count": 28,
   "id": "e35b8644",
   "metadata": {},
   "outputs": [
    {
     "data": {
      "text/plain": [
       "(175296, 17)"
      ]
     },
     "execution_count": 28,
     "metadata": {},
     "output_type": "execute_result"
    }
   ],
   "source": [
    "df_solar.shape"
   ]
  },
  {
   "cell_type": "code",
   "execution_count": 29,
   "id": "31e753e5",
   "metadata": {},
   "outputs": [
    {
     "data": {
      "text/html": [
       "<div>\n",
       "<style scoped>\n",
       "    .dataframe tbody tr th:only-of-type {\n",
       "        vertical-align: middle;\n",
       "    }\n",
       "\n",
       "    .dataframe tbody tr th {\n",
       "        vertical-align: top;\n",
       "    }\n",
       "\n",
       "    .dataframe thead th {\n",
       "        text-align: right;\n",
       "    }\n",
       "</style>\n",
       "<table border=\"1\" class=\"dataframe\">\n",
       "  <thead>\n",
       "    <tr style=\"text-align: right;\">\n",
       "      <th></th>\n",
       "      <th>Clearsky DHI</th>\n",
       "      <th>Clearsky DNI</th>\n",
       "      <th>Clearsky GHI</th>\n",
       "      <th>Temperature</th>\n",
       "      <th>Cloud Type</th>\n",
       "      <th>Dew Point</th>\n",
       "      <th>Fill Flag</th>\n",
       "      <th>Relative Humidity</th>\n",
       "      <th>Pressure</th>\n",
       "      <th>Precipitable Water</th>\n",
       "      <th>Wind Direction</th>\n",
       "      <th>Wind Speed</th>\n",
       "      <th>Cos Zenith</th>\n",
       "      <th>ts_Day_sin</th>\n",
       "      <th>ts_Day_cos</th>\n",
       "      <th>ts_Year_sin</th>\n",
       "      <th>ts_Year_cos</th>\n",
       "    </tr>\n",
       "    <tr>\n",
       "      <th>Date</th>\n",
       "      <th></th>\n",
       "      <th></th>\n",
       "      <th></th>\n",
       "      <th></th>\n",
       "      <th></th>\n",
       "      <th></th>\n",
       "      <th></th>\n",
       "      <th></th>\n",
       "      <th></th>\n",
       "      <th></th>\n",
       "      <th></th>\n",
       "      <th></th>\n",
       "      <th></th>\n",
       "      <th></th>\n",
       "      <th></th>\n",
       "      <th></th>\n",
       "      <th></th>\n",
       "    </tr>\n",
       "  </thead>\n",
       "  <tbody>\n",
       "    <tr>\n",
       "      <th>2013-03-29 13:30:00</th>\n",
       "      <td>1.417733</td>\n",
       "      <td>0.558555</td>\n",
       "      <td>0.357856</td>\n",
       "      <td>-0.924377</td>\n",
       "      <td>-0.840696</td>\n",
       "      <td>-1.044855</td>\n",
       "      <td>-0.112603</td>\n",
       "      <td>-0.048600</td>\n",
       "      <td>1.148093</td>\n",
       "      <td>-0.961704</td>\n",
       "      <td>-1.174352</td>\n",
       "      <td>-0.439092</td>\n",
       "      <td>0.706483</td>\n",
       "      <td>-0.541196</td>\n",
       "      <td>-1.306563</td>\n",
       "      <td>1.412023</td>\n",
       "      <td>0.077389</td>\n",
       "    </tr>\n",
       "    <tr>\n",
       "      <th>2017-10-25 17:30:00</th>\n",
       "      <td>0.649536</td>\n",
       "      <td>1.646274</td>\n",
       "      <td>1.567705</td>\n",
       "      <td>-0.029830</td>\n",
       "      <td>-0.840696</td>\n",
       "      <td>-1.532853</td>\n",
       "      <td>-0.112603</td>\n",
       "      <td>-2.344544</td>\n",
       "      <td>-0.536619</td>\n",
       "      <td>-1.200234</td>\n",
       "      <td>1.086934</td>\n",
       "      <td>1.667159</td>\n",
       "      <td>1.197312</td>\n",
       "      <td>-1.402115</td>\n",
       "      <td>-0.184592</td>\n",
       "      <td>-1.291374</td>\n",
       "      <td>0.576528</td>\n",
       "    </tr>\n",
       "  </tbody>\n",
       "</table>\n",
       "</div>"
      ],
      "text/plain": [
       "                     Clearsky DHI  Clearsky DNI  Clearsky GHI  Temperature  \\\n",
       "Date                                                                         \n",
       "2013-03-29 13:30:00      1.417733      0.558555      0.357856    -0.924377   \n",
       "2017-10-25 17:30:00      0.649536      1.646274      1.567705    -0.029830   \n",
       "\n",
       "                     Cloud Type  Dew Point  Fill Flag  Relative Humidity  \\\n",
       "Date                                                                       \n",
       "2013-03-29 13:30:00   -0.840696  -1.044855  -0.112603          -0.048600   \n",
       "2017-10-25 17:30:00   -0.840696  -1.532853  -0.112603          -2.344544   \n",
       "\n",
       "                     Pressure  Precipitable Water  Wind Direction  Wind Speed  \\\n",
       "Date                                                                            \n",
       "2013-03-29 13:30:00  1.148093           -0.961704       -1.174352   -0.439092   \n",
       "2017-10-25 17:30:00 -0.536619           -1.200234        1.086934    1.667159   \n",
       "\n",
       "                     Cos Zenith  ts_Day_sin  ts_Day_cos  ts_Year_sin  \\\n",
       "Date                                                                   \n",
       "2013-03-29 13:30:00    0.706483   -0.541196   -1.306563     1.412023   \n",
       "2017-10-25 17:30:00    1.197312   -1.402115   -0.184592    -1.291374   \n",
       "\n",
       "                     ts_Year_cos  \n",
       "Date                              \n",
       "2013-03-29 13:30:00     0.077389  \n",
       "2017-10-25 17:30:00     0.576528  "
      ]
     },
     "execution_count": 29,
     "metadata": {},
     "output_type": "execute_result"
    }
   ],
   "source": [
    "df_solar_sc = pd.DataFrame(data=scalar_std_fs.transform(df_solar), index=df_solar.index,  columns=df_solar.columns)\n",
    "df_solar_sc.sample(2)"
   ]
  },
  {
   "cell_type": "markdown",
   "id": "80cde6c6",
   "metadata": {},
   "source": [
    "### Feature Selection"
   ]
  },
  {
   "cell_type": "markdown",
   "id": "565fad5a",
   "metadata": {},
   "source": [
    "##### Any Non-linear regression model can be selected, Choose XGBoost"
   ]
  },
  {
   "cell_type": "code",
   "execution_count": 30,
   "id": "195ed782",
   "metadata": {},
   "outputs": [],
   "source": [
    "from xgboost import XGBRegressor\n",
    "from xgboost import plot_importance"
   ]
  },
  {
   "cell_type": "markdown",
   "id": "a8269783",
   "metadata": {},
   "source": [
    "##### Feature Selection for Clearsky GHI since GHI constitues both DHI, DHI and Zenith Angle"
   ]
  },
  {
   "cell_type": "code",
   "execution_count": 31,
   "id": "d2b39879",
   "metadata": {},
   "outputs": [],
   "source": [
    "y = df_solar_sc['Clearsky GHI']\n",
    "X = df_solar_sc.drop(columns='Clearsky GHI', axis=1)"
   ]
  },
  {
   "cell_type": "code",
   "execution_count": 32,
   "id": "e47fffa6",
   "metadata": {},
   "outputs": [
    {
     "data": {
      "text/plain": [
       "XGBRegressor(base_score=0.5, booster='gbtree', colsample_bylevel=1,\n",
       "             colsample_bynode=1, colsample_bytree=1, enable_categorical=False,\n",
       "             gamma=0, gpu_id=-1, importance_type=None,\n",
       "             interaction_constraints='', learning_rate=0.300000012,\n",
       "             max_delta_step=0, max_depth=6, min_child_weight=1, missing=nan,\n",
       "             monotone_constraints='()', n_estimators=100, n_jobs=12,\n",
       "             num_parallel_tree=1, predictor='auto', random_state=0, reg_alpha=0,\n",
       "             reg_lambda=1, scale_pos_weight=1, subsample=1, tree_method='exact',\n",
       "             validate_parameters=1, verbosity=None)"
      ]
     },
     "execution_count": 32,
     "metadata": {},
     "output_type": "execute_result"
    }
   ],
   "source": [
    "model_xgb = XGBRegressor(n_estimators=100)\n",
    "model_xgb.fit(X, y)"
   ]
  },
  {
   "cell_type": "code",
   "execution_count": 33,
   "id": "57e78e7a",
   "metadata": {},
   "outputs": [
    {
     "data": {
      "text/plain": [
       "array([4.3055901e-04, 4.9750917e-03, 2.2409757e-04, 5.1668508e-06,\n",
       "       5.1780359e-04, 9.5268970e-06, 8.3941568e-06, 4.2294396e-06,\n",
       "       2.3650103e-03, 4.9040673e-06, 4.5308711e-06, 9.8812002e-01,\n",
       "       1.4685062e-03, 1.6244006e-04, 2.7724422e-04, 1.4225190e-03],\n",
       "      dtype=float32)"
      ]
     },
     "execution_count": 33,
     "metadata": {},
     "output_type": "execute_result"
    }
   ],
   "source": [
    "model_xgb.feature_importances_"
   ]
  },
  {
   "cell_type": "code",
   "execution_count": 34,
   "id": "e5f7156b",
   "metadata": {},
   "outputs": [
    {
     "data": {
      "text/plain": [
       "<AxesSubplot:title={'center':'Feature importance'}, xlabel='F score', ylabel='Features'>"
      ]
     },
     "execution_count": 34,
     "metadata": {},
     "output_type": "execute_result"
    },
    {
     "data": {
      "image/png": "[encoded data removed]",
      "text/plain": [
       "<Figure size 432x288 with 1 Axes>"
      ]
     },
     "metadata": {
      "needs_background": "light"
     },
     "output_type": "display_data"
    }
   ],
   "source": [
    "plot_importance(model_xgb)"
   ]
  },
  {
   "cell_type": "markdown",
   "id": "e2f38dc6",
   "metadata": {},
   "source": [
    "### Droping not so significant columns"
   ]
  },
  {
   "cell_type": "code",
   "execution_count": 35,
   "id": "e3098bc0",
   "metadata": {},
   "outputs": [],
   "source": [
    "COLUMNS_DROPPED = ['Cloud Type', 'Pressure', 'Fill Flag', 'Wind Speed', 'Dew Point', 'Wind Direction', 'ts_Day_sin', \n",
    "                       'ts_Day_cos', 'Temperature', 'Relative Humidity']\n"
   ]
  },
  {
   "cell_type": "code",
   "execution_count": 36,
   "id": "e0600cc5",
   "metadata": {},
   "outputs": [
    {
     "data": {
      "text/html": [
       "<div>\n",
       "<style scoped>\n",
       "    .dataframe tbody tr th:only-of-type {\n",
       "        vertical-align: middle;\n",
       "    }\n",
       "\n",
       "    .dataframe tbody tr th {\n",
       "        vertical-align: top;\n",
       "    }\n",
       "\n",
       "    .dataframe thead th {\n",
       "        text-align: right;\n",
       "    }\n",
       "</style>\n",
       "<table border=\"1\" class=\"dataframe\">\n",
       "  <thead>\n",
       "    <tr style=\"text-align: right;\">\n",
       "      <th></th>\n",
       "      <th>Clearsky DHI</th>\n",
       "      <th>Clearsky DNI</th>\n",
       "      <th>Clearsky GHI</th>\n",
       "      <th>Precipitable Water</th>\n",
       "      <th>Cos Zenith</th>\n",
       "      <th>ts_Year_sin</th>\n",
       "      <th>ts_Year_cos</th>\n",
       "    </tr>\n",
       "    <tr>\n",
       "      <th>Date</th>\n",
       "      <th></th>\n",
       "      <th></th>\n",
       "      <th></th>\n",
       "      <th></th>\n",
       "      <th></th>\n",
       "      <th></th>\n",
       "      <th></th>\n",
       "    </tr>\n",
       "  </thead>\n",
       "  <tbody>\n",
       "    <tr>\n",
       "      <th>2017-04-15 21:30:00</th>\n",
       "      <td>160.0</td>\n",
       "      <td>592.0</td>\n",
       "      <td>472.0</td>\n",
       "      <td>2.436</td>\n",
       "      <td>0.527401</td>\n",
       "      <td>0.970363</td>\n",
       "      <td>-0.241652</td>\n",
       "    </tr>\n",
       "    <tr>\n",
       "      <th>2011-07-07 00:30:00</th>\n",
       "      <td>9.0</td>\n",
       "      <td>19.0</td>\n",
       "      <td>10.0</td>\n",
       "      <td>4.371</td>\n",
       "      <td>0.034376</td>\n",
       "      <td>-0.076599</td>\n",
       "      <td>-0.997062</td>\n",
       "    </tr>\n",
       "  </tbody>\n",
       "</table>\n",
       "</div>"
      ],
      "text/plain": [
       "                     Clearsky DHI  Clearsky DNI  Clearsky GHI  \\\n",
       "Date                                                            \n",
       "2017-04-15 21:30:00         160.0         592.0         472.0   \n",
       "2011-07-07 00:30:00           9.0          19.0          10.0   \n",
       "\n",
       "                     Precipitable Water  Cos Zenith  ts_Year_sin  ts_Year_cos  \n",
       "Date                                                                           \n",
       "2017-04-15 21:30:00               2.436    0.527401     0.970363    -0.241652  \n",
       "2011-07-07 00:30:00               4.371    0.034376    -0.076599    -0.997062  "
      ]
     },
     "execution_count": 36,
     "metadata": {},
     "output_type": "execute_result"
    }
   ],
   "source": [
    "df_solar.drop(columns=COLUMNS_DROPPED, inplace=True)\n",
    "df_solar.sample(2)"
   ]
  },
  {
   "cell_type": "code",
   "execution_count": 37,
   "id": "7f8a117b",
   "metadata": {},
   "outputs": [
    {
     "data": {
      "text/plain": [
       "(175296, 7)"
      ]
     },
     "execution_count": 37,
     "metadata": {},
     "output_type": "execute_result"
    }
   ],
   "source": [
    "df_solar.shape"
   ]
  },
  {
   "cell_type": "code",
   "execution_count": 38,
   "id": "598c7e43",
   "metadata": {},
   "outputs": [
    {
     "name": "stdout",
     "output_type": "stream",
     "text": [
      "\n",
      "Precipitable Water, Cos of Zenith Angle along with time of year components are considered for further analysis\n",
      "To also reduce the curse of dimensionality\n"
     ]
    }
   ],
   "source": [
    "print('''\n",
    "Precipitable Water, Cos of Zenith Angle along with time of year components are considered for further analysis\n",
    "To also reduce the curse of dimensionality'''\n",
    ")"
   ]
  },
  {
   "cell_type": "code",
   "execution_count": null,
   "id": "4cfecdf5",
   "metadata": {},
   "outputs": [],
   "source": []
  },
  {
   "cell_type": "code",
   "execution_count": null,
   "id": "2f6c1d7e",
   "metadata": {},
   "outputs": [],
   "source": []
  },
  {
   "cell_type": "markdown",
   "id": "576d6e69",
   "metadata": {},
   "source": [
    "# Model Building Start"
   ]
  },
  {
   "cell_type": "code",
   "execution_count": 39,
   "id": "29af8cf5",
   "metadata": {},
   "outputs": [],
   "source": [
    "from tensorflow.keras.models import Model, Sequential\n",
    "from tensorflow.keras.layers import Input, LSTM, Dense, GRU, RepeatVector, Conv1D, BatchNormalization, MaxPooling1D, Dropout, Flatten\n",
    "from tensorflow.keras.metrics import MeanSquaredError, RootMeanSquaredError\n",
    "from tensorflow.keras.losses import MeanSquaredError\n",
    "from tensorflow.keras.optimizers import Adam\n",
    "from tensorflow.keras.callbacks import ModelCheckpoint, EarlyStopping\n",
    "from tensorflow.keras.models import load_model\n",
    "from tensorflow.keras.layers import TimeDistributed"
   ]
  },
  {
   "cell_type": "markdown",
   "id": "3a00c977",
   "metadata": {},
   "source": [
    "### Consider only last 3 years data"
   ]
  },
  {
   "cell_type": "markdown",
   "id": "fd0ef59f",
   "metadata": {},
   "source": [
    "### Data Generation for Time Series"
   ]
  },
  {
   "cell_type": "code",
   "execution_count": 40,
   "id": "02608e05",
   "metadata": {},
   "outputs": [],
   "source": [
    "def preprocess_cvs_into_ts(csvfile):\n",
    "    '''Take the CSV file along with the path and return dataframe'''\n",
    "    df = pd.read_csv(csvfile)\n",
    "    df.insert(loc=0, column='Date', \n",
    "                value=pd.to_datetime(df[['Year', 'Month', 'Day', 'Hour', 'Minute']]))\n",
    "    df.drop(columns=['Year', 'Month', 'Day', 'Hour', 'Minute'], axis=1, inplace=True)\n",
    "    df.set_index(keys='Date', inplace=True)\n",
    "    \n",
    "    # Updating 0 to 1 to avoid exploding gradiant problem\n",
    "    # df['Clearsky DHI'] = df['Clearsky DHI'].replace(to_replace=0, value=1)\n",
    "    # df['Clearsky DNI'] = df['Clearsky DNI'].replace(to_replace=0, value=1)\n",
    "    # df['Clearsky GHI'] = df['Clearsky GHI'].replace(to_replace=0, value=1)\n",
    "    #df=df[['Clearsky DHI', 'Clearsky DNI', 'Clearsky GHI', 'Temperature', 'Cloud Type', 'Dew Point', 'Fill Flag', 'Relative Humidity', 'Solar Zenith Angle', 'Pressure', 'Precipitable Water', 'Wind Direction', 'Wind Speed']]\n",
    "    df = df[COLUMN_LIST_GIVEN]\n",
    "    return df\n",
    "\n"
   ]
  },
  {
   "cell_type": "code",
   "execution_count": 41,
   "id": "88c8cfb9",
   "metadata": {},
   "outputs": [],
   "source": [
    "# This is used to try TimeDistributed\n",
    "# COLUMNS_SELECTED = ['Clearsky DHI', 'Clearsky DNI', 'Clearsky GHI']\n",
    "\n",
    "# This is leading to nan problems\n",
    "COLUMNS_SELECTED = ['Clearsky DHI', 'Clearsky DNI', 'Clearsky GHI', 'Cos Zenith', \n",
    "                    'Precipitable Water', 'ts_Year_sin', 'ts_Year_cos']\n",
    "\n"
   ]
  },
  {
   "cell_type": "code",
   "execution_count": 42,
   "id": "4fd7d0dc",
   "metadata": {},
   "outputs": [],
   "source": [
    "def preprocess_ts_features(df):\n",
    "    '''This shall ensure the time series features are added and \n",
    "    non-significant features are removed'''\n",
    "    \n",
    "    # Cos of Zenith angle contributes GHI\n",
    "    df['Cos Zenith'] = np.cos(np.deg2rad(df['Solar Zenith Angle']))\n",
    "    \n",
    "    # Adding the time series features into the dataset for Seasonality\n",
    "    sec_in_day = 60*60*24\n",
    "    sec_in_year = 365.2425*sec_in_day\n",
    "    df['ts'] = df.index.map(pd.Timestamp.timestamp)\n",
    "    df['ts_Day_sin'] = np.sin(df['ts'] * (2* np.pi / sec_in_day))\n",
    "    df['ts_Day_cos'] = np.cos(df['ts'] * (2 * np.pi / sec_in_day))\n",
    "    df['ts_Year_sin'] = np.sin(df['ts'] * (2 * np.pi / sec_in_year))\n",
    "    df['ts_Year_cos'] = np.cos(df['ts'] * (2 * np.pi / sec_in_year))\n",
    "    \n",
    "    # Ordering only the selected Columns in a proper order for further processing\n",
    "    df = df[COLUMNS_SELECTED]\n",
    "    return df"
   ]
  },
  {
   "cell_type": "code",
   "execution_count": 43,
   "id": "ebd909db",
   "metadata": {},
   "outputs": [
    {
     "data": {
      "text/html": [
       "<div>\n",
       "<style scoped>\n",
       "    .dataframe tbody tr th:only-of-type {\n",
       "        vertical-align: middle;\n",
       "    }\n",
       "\n",
       "    .dataframe tbody tr th {\n",
       "        vertical-align: top;\n",
       "    }\n",
       "\n",
       "    .dataframe thead th {\n",
       "        text-align: right;\n",
       "    }\n",
       "</style>\n",
       "<table border=\"1\" class=\"dataframe\">\n",
       "  <thead>\n",
       "    <tr style=\"text-align: right;\">\n",
       "      <th></th>\n",
       "      <th>Clearsky DHI</th>\n",
       "      <th>Clearsky DNI</th>\n",
       "      <th>Clearsky GHI</th>\n",
       "      <th>Cos Zenith</th>\n",
       "      <th>Precipitable Water</th>\n",
       "      <th>ts_Year_sin</th>\n",
       "      <th>ts_Year_cos</th>\n",
       "    </tr>\n",
       "    <tr>\n",
       "      <th>Date</th>\n",
       "      <th></th>\n",
       "      <th></th>\n",
       "      <th></th>\n",
       "      <th></th>\n",
       "      <th></th>\n",
       "      <th></th>\n",
       "      <th></th>\n",
       "    </tr>\n",
       "  </thead>\n",
       "  <tbody>\n",
       "    <tr>\n",
       "      <th>2017-10-22 17:00:00</th>\n",
       "      <td>92</td>\n",
       "      <td>901</td>\n",
       "      <td>747</td>\n",
       "      <td>0.726575</td>\n",
       "      <td>2.802</td>\n",
       "      <td>-0.933129</td>\n",
       "      <td>0.359542</td>\n",
       "    </tr>\n",
       "    <tr>\n",
       "      <th>2013-09-13 21:00:00</th>\n",
       "      <td>165</td>\n",
       "      <td>567</td>\n",
       "      <td>478</td>\n",
       "      <td>0.551646</td>\n",
       "      <td>4.865</td>\n",
       "      <td>-0.955106</td>\n",
       "      <td>-0.296265</td>\n",
       "    </tr>\n",
       "  </tbody>\n",
       "</table>\n",
       "</div>"
      ],
      "text/plain": [
       "                     Clearsky DHI  Clearsky DNI  Clearsky GHI  Cos Zenith  \\\n",
       "Date                                                                        \n",
       "2017-10-22 17:00:00            92           901           747    0.726575   \n",
       "2013-09-13 21:00:00           165           567           478    0.551646   \n",
       "\n",
       "                     Precipitable Water  ts_Year_sin  ts_Year_cos  \n",
       "Date                                                               \n",
       "2017-10-22 17:00:00               2.802    -0.933129     0.359542  \n",
       "2013-09-13 21:00:00               4.865    -0.955106    -0.296265  "
      ]
     },
     "execution_count": 43,
     "metadata": {},
     "output_type": "execute_result"
    }
   ],
   "source": [
    "df_solar = preprocess_cvs_into_ts(training_csv)\n",
    "df_solar = preprocess_ts_features(df_solar)\n",
    "df_solar.sample(2)"
   ]
  },
  {
   "cell_type": "code",
   "execution_count": 44,
   "id": "94e1e3e1",
   "metadata": {},
   "outputs": [
    {
     "data": {
      "text/plain": [
       "(175296, 7)"
      ]
     },
     "execution_count": 44,
     "metadata": {},
     "output_type": "execute_result"
    }
   ],
   "source": [
    "df_solar.shape"
   ]
  },
  {
   "cell_type": "markdown",
   "id": "2082deb5",
   "metadata": {},
   "source": [
    "##### Scaling the data"
   ]
  },
  {
   "cell_type": "code",
   "execution_count": 45,
   "id": "1a1073e9",
   "metadata": {},
   "outputs": [],
   "source": [
    "from sklearn.preprocessing import StandardScaler\n",
    "scalar_std_ts = StandardScaler()"
   ]
  },
  {
   "cell_type": "code",
   "execution_count": 46,
   "id": "fdf1da19",
   "metadata": {},
   "outputs": [
    {
     "data": {
      "text/plain": [
       "(175296, 7)"
      ]
     },
     "execution_count": 46,
     "metadata": {},
     "output_type": "execute_result"
    }
   ],
   "source": [
    "scalar_std_ts = scalar_std_ts.fit(df_solar)\n",
    "solar_data_sc = scalar_std_ts.transform(df_solar)\n",
    "df_solar_data = pd.DataFrame(data=solar_data_sc, index=df_solar.index, columns=df_solar.columns)\n",
    "solar_data_sc.shape"
   ]
  },
  {
   "cell_type": "markdown",
   "id": "cfa45e0b",
   "metadata": {},
   "source": [
    "##### Data Generation\n",
    "1. Take the values of Dataframe for a given batch length and Predict the values of 'Clearsky DHI', 'Clearsky DNI', 'Clearsky GHI' for the next row.\n",
    "2. Move the series by 1 row, repeat step 1"
   ]
  },
  {
   "cell_type": "code",
   "execution_count": 47,
   "id": "82b15bb9",
   "metadata": {},
   "outputs": [
    {
     "name": "stdout",
     "output_type": "stream",
     "text": [
      "\n",
      "The total length of input 52560 and the batch length is 48 with features 7\n",
      "The training start 52560\n"
     ]
    }
   ],
   "source": [
    "# Daily there around 48 observations\n",
    "# Weekly there are around 48*7 = 336 observations\n",
    "# Monthly there are around 48*30 = 1440 observations\n",
    "# Yearly there are around 48*365 = 17520 observations\n",
    "\n",
    "# Ensuring the that total length is not more than 3 years since the model training is taking lot of time\n",
    "# Also to handle out of memory issues\n",
    "total_data_len = solar_data_sc.shape[0]\n",
    "if solar_data_sc.shape[0] > 17520*3:\n",
    "    total_data_len = 17520*3\n",
    "else:\n",
    "    total_data_len = solar_data_sc.shape[0]\n",
    "\n",
    "batch_input_len = 48\n",
    "batch_output_len = 1\n",
    "features_len = 7\n",
    "# train_data_start = total_data_len - batch_input_len*4\n",
    "train_data_start = total_data_len\n",
    "print(f'''\n",
    "The total length of input {total_data_len} and the batch length is {batch_input_len} with features {features_len}\n",
    "The training start {train_data_start}''')"
   ]
  },
  {
   "cell_type": "code",
   "execution_count": 48,
   "id": "90071363",
   "metadata": {},
   "outputs": [],
   "source": [
    "def ts_data_generator(data_arr, batch_len):\n",
    "    X = []\n",
    "    y = []\n",
    "    for i in range(len(data_arr)-batch_len):\n",
    "        X_rows = [row for row in data_arr[i:i+batch_len]]\n",
    "        X.append(X_rows)\n",
    "        y_row = [data_arr[i+batch_len][0],data_arr[i+batch_len][1], data_arr[i+batch_len][2]]\n",
    "        y.append(y_row)\n",
    "    return np.array(X), np.array(y)"
   ]
  },
  {
   "cell_type": "code",
   "execution_count": 49,
   "id": "46f9d4c5",
   "metadata": {},
   "outputs": [],
   "source": [
    "X, y = ts_data_generator(solar_data_sc[-train_data_start:], batch_input_len)"
   ]
  },
  {
   "cell_type": "markdown",
   "id": "4f830006",
   "metadata": {},
   "source": [
    "##### Split the train csv data into train and val"
   ]
  },
  {
   "cell_type": "code",
   "execution_count": 50,
   "id": "a0989cfc",
   "metadata": {},
   "outputs": [
    {
     "data": {
      "text/plain": [
       "((36758, 48, 7), (36758, 3), (15754, 48, 7), (15754, 3))"
      ]
     },
     "execution_count": 50,
     "metadata": {},
     "output_type": "execute_result"
    }
   ],
   "source": [
    "train_split = np.int(X.shape[0]*0.7)\n",
    "\n",
    "X_train, y_train = X[:train_split], y[:train_split]\n",
    "X_val, y_val = X[train_split:], y[train_split:]\n",
    "\n",
    "X_train.shape, y_train.shape, X_val.shape, y_val.shape"
   ]
  },
  {
   "cell_type": "markdown",
   "id": "c6538d84",
   "metadata": {},
   "source": [
    "### Build the Model"
   ]
  },
  {
   "cell_type": "code",
   "execution_count": 51,
   "id": "178eee3b",
   "metadata": {},
   "outputs": [],
   "source": [
    "input_shape = (batch_input_len, features_len)\n",
    "learning_rate = 0.0001"
   ]
  },
  {
   "cell_type": "code",
   "execution_count": 52,
   "id": "c13944ca",
   "metadata": {},
   "outputs": [],
   "source": [
    "def build_GRU_trans1(input_shape, lr):\n",
    "    l0 = Input(shape=input_shape)\n",
    "\n",
    "    l1 = GRU(units=128, activation='relu', recurrent_dropout=.3)(l0)\n",
    "#     l1 = RepeatVector(input_shape[1])(l1)\n",
    "#     l1 = GRU(units=16, activation='relu', recurrent_dropout=.2)(l1)\n",
    "    l1 = Flatten()(l1)\n",
    "#     y = Dense(units=10, activation='relu')(l1)\n",
    "    y = Dense(units=3, activation='linear')(l1)\n",
    "\n",
    "    model = Model(inputs=l0, outputs=y)\n",
    "    \n",
    "    model.compile(optimizer=Adam(learning_rate=lr), \n",
    "                    loss=MeanSquaredError(),\n",
    "                   metrics=[MeanSquaredError()])\n",
    "    return model"
   ]
  },
  {
   "cell_type": "code",
   "execution_count": 53,
   "id": "4e8fdd96",
   "metadata": {},
   "outputs": [],
   "source": [
    "def build_LSTM1(input_shape, lr):\n",
    "    l0 = Input(shape=input_shape)\n",
    "\n",
    "    # l1 = LSTM(units=128, activation='tanh', recurrent_dropout=.3, kernel_initializer='he_normal')(l0)\n",
    "    \n",
    "    l1 = LSTM(units=64, activation='tanh', recurrent_dropout=.3, return_sequences=True, kernel_initializer='glorot_uniform')(l0)\n",
    "    l1 = LSTM(units=64, activation='tanh', recurrent_dropout=.3)(l1)\n",
    "    \n",
    "    # y = Dense(units=10, activation='tanh')(l1)\n",
    "    # y = Dropout(rate=.3)(y)\n",
    "    y = Dense(units=3)(l1)\n",
    "\n",
    "    model = Model(inputs=l0, outputs=y)\n",
    "    \n",
    "    model.compile(optimizer=Adam(learning_rate=lr), \n",
    "                    loss=MeanSquaredError(),\n",
    "                   metrics=[MeanSquaredError()])\n",
    "    return model"
   ]
  },
  {
   "cell_type": "code",
   "execution_count": 54,
   "id": "d86f3757",
   "metadata": {},
   "outputs": [],
   "source": [
    "def build_LSTM_trans1(input_shape, lr):\n",
    "    l0 = Input(shape=input_shape)\n",
    "\n",
    "    l1 = LSTM(units=128, activation='relu', recurrent_dropout=.2, return_sequences=True)(l0)\n",
    "    l1 = LSTM(units=64, activation='relu', recurrent_dropout=.2)(l0)\n",
    "    \n",
    "    l2 = RepeatVector(input_shape[1])(l1)\n",
    "    \n",
    "    l3 = LSTM(units=64, activation='relu', recurrent_dropout=.2, return_sequences=True)(l2)\n",
    "    l3 = LSTM(units=128, activation='relu', recurrent_dropout=.2)(l3)\n",
    "\n",
    "    y = Dense(units=10, activation='relu')(l3)\n",
    "    y = Dense(units=3, activation='linear')(y)\n",
    "\n",
    "    model = Model(inputs=l0, outputs=y)\n",
    "    \n",
    "    model.compile(optimizer=Adam(learning_rate=lr), \n",
    "                    loss=MeanSquaredError(),\n",
    "                   metrics=[MeanSquaredError()])\n",
    "    return model"
   ]
  },
  {
   "cell_type": "code",
   "execution_count": 55,
   "id": "988bed1d",
   "metadata": {},
   "outputs": [],
   "source": [
    "# n_timesteps, n_features, n_outputs = X_train.shape[0], X_train[1], X_train[2]\n",
    "\n",
    "def build_Conv_trans1(input_shape, lr):\n",
    "    # l0 = Input(shape=input_shape)\n",
    "    model = Sequential()\n",
    "    model.add(TimeDistributed(Conv1D(filters=48, kernel_size=3, activation='relu', padding='same', \n",
    "                                kernel_initializer='he_normal', input_shape=X_train.shape)))\n",
    "    model.add(TimeDistributed(BatchNormalization()))\n",
    "    model.add(TimeDistributed(Conv1D(filters=48, kernel_size=3, activation='relu', padding='same', kernel_initializer='he_normal')))\n",
    "    model.add(TimeDistributed(Flatten()))\n",
    "    model.add(Dense(units=3, activation='linear'))\n",
    "    \n",
    "#     l1 =     # l1 = TimeDistributed(BatchNormalization())(l1)\n",
    "#     l1 = TimeDistributed(Conv1D(filters=48, kernel_size=3, activation='relu', padding='same', \n",
    "#                                 kernel_initializer='he_normal'))(l1)\n",
    "#     l1 = TimeDistributed(Flatten())(l1)\n",
    "#     #     l2 = Dropout(rate=.3)(l1)\n",
    "#     #     #l2 = RepeatVector(input_shape[1])(l1)\n",
    "    \n",
    "#     #     l3 = Conv1D(filters=8, kernel_size=3, activation='relu')(l2)\n",
    "#     #     l3 = BatchNormalization()(l3)\n",
    "#     #     l3 = Conv1D(filters=16, kernel_size=3, activation='relu')(l1)\n",
    "    \n",
    "#     y = TimeDistributed(Dense(units=10, activation='relu'))(l1)\n",
    "#     y = TimeDistributed(Dropout(rate=0.3))(y)\n",
    "#     y = Dense(units=3, activation='linear')(y)\n",
    "\n",
    "#     model = Model(inputs=l0, outputs=y)\n",
    "    \n",
    "    model.compile(optimizer=Adam(learning_rate=0.001), \n",
    "                    loss=MeanSquaredError(),\n",
    "                   metrics=[MeanSquaredError()])\n",
    "    return model"
   ]
  },
  {
   "cell_type": "code",
   "execution_count": 56,
   "id": "a4663111",
   "metadata": {},
   "outputs": [],
   "source": [
    "def train_model(model_name):\n",
    "    if model_name == 'GRU':\n",
    "        model = build_GRU_trans1(input_shape, learning_rate)\n",
    "    elif model_name == 'LSTM':\n",
    "        model = build_LSTM_trans1(input_shape, learning_rate)\n",
    "    elif model_name == 'LSTM_linear':\n",
    "        model = build_LSTM1(input_shape, learning_rate)\n",
    "    else:\n",
    "        model = build_Conv_trans1(input_shape, learning_rate)\n",
    "    \n",
    "    # model.summary()\n",
    "    # Check points for Early stopping and Saving the best model\n",
    "    cb_earlystop = EarlyStopping(monitor='val_loss', mode='min', verbose=1, patience=200)\n",
    "    cb_modelcp = ModelCheckpoint('best_model1.h5', monitor='val_mean_squared_error', \n",
    "                                 mode='min', verbose=1, save_best_only=True)\n",
    "\n",
    "    # Fit the model\n",
    "\n",
    "    model_hist = model.fit(X_train, y_train, validation_data=(X_val, y_val), \n",
    "                           epochs=10, callbacks=[cb_earlystop, cb_modelcp])\n",
    "    model.summary()\n",
    "    return model"
   ]
  },
  {
   "cell_type": "code",
   "execution_count": 57,
   "id": "ac1b6524",
   "metadata": {},
   "outputs": [],
   "source": [
    "# # model_name = 'LSTM' \n",
    "# # model_name = 'GRU' \n",
    "# model_name = 'CONV' \n",
    "# model = train_model(model_name)"
   ]
  },
  {
   "cell_type": "code",
   "execution_count": 58,
   "id": "78bdf7a4",
   "metadata": {},
   "outputs": [],
   "source": [
    "# model_name = 'LSTM' \n",
    "# # model_name = 'GRU' \n",
    "# # model_name = 'CONV' \n",
    "# model = train_model(model_name)"
   ]
  },
  {
   "cell_type": "code",
   "execution_count": 59,
   "id": "f2672a26",
   "metadata": {},
   "outputs": [],
   "source": [
    "# # model_name = 'LSTM' \n",
    "# model_name = 'GRU' \n",
    "# # model_name = 'CONV' \n",
    "# model = train_model(model_name)"
   ]
  },
  {
   "cell_type": "code",
   "execution_count": 60,
   "id": "2e2f9431",
   "metadata": {},
   "outputs": [
    {
     "name": "stdout",
     "output_type": "stream",
     "text": [
      "WARNING:tensorflow:Layer lstm will not use cuDNN kernels since it doesn't meet the criteria. It will use a generic GPU kernel as fallback when running on GPU.\n",
      "WARNING:tensorflow:Layer lstm_1 will not use cuDNN kernels since it doesn't meet the criteria. It will use a generic GPU kernel as fallback when running on GPU.\n",
      "Epoch 1/10\n",
      "1149/1149 [==============================] - 348s 299ms/step - loss: 0.1213 - mean_squared_error: 0.1212 - val_loss: 0.0159 - val_mean_squared_error: 0.0159\n",
      "\n",
      "Epoch 00001: val_mean_squared_error improved from inf to 0.01588, saving model to best_model1.h5\n",
      "Epoch 2/10\n",
      "1149/1149 [==============================] - 339s 295ms/step - loss: 0.0217 - mean_squared_error: 0.0217 - val_loss: 0.0099 - val_mean_squared_error: 0.0099\n",
      "\n",
      "Epoch 00002: val_mean_squared_error improved from 0.01588 to 0.00988, saving model to best_model1.h5\n",
      "Epoch 3/10\n",
      "1149/1149 [==============================] - 343s 298ms/step - loss: 0.0162 - mean_squared_error: 0.0162 - val_loss: 0.0089 - val_mean_squared_error: 0.0089\n",
      "\n",
      "Epoch 00003: val_mean_squared_error improved from 0.00988 to 0.00885, saving model to best_model1.h5\n",
      "Epoch 4/10\n",
      "1149/1149 [==============================] - 341s 296ms/step - loss: 0.0126 - mean_squared_error: 0.0126 - val_loss: 0.0058 - val_mean_squared_error: 0.0058\n",
      "\n",
      "Epoch 00004: val_mean_squared_error improved from 0.00885 to 0.00582, saving model to best_model1.h5\n",
      "Epoch 5/10\n",
      "1149/1149 [==============================] - 341s 297ms/step - loss: 0.0106 - mean_squared_error: 0.0106 - val_loss: 0.0053 - val_mean_squared_error: 0.0053\n",
      "\n",
      "Epoch 00005: val_mean_squared_error improved from 0.00582 to 0.00526, saving model to best_model1.h5\n",
      "Epoch 6/10\n",
      "1149/1149 [==============================] - 340s 296ms/step - loss: 0.0090 - mean_squared_error: 0.0090 - val_loss: 0.0037 - val_mean_squared_error: 0.0037\n",
      "\n",
      "Epoch 00006: val_mean_squared_error improved from 0.00526 to 0.00371, saving model to best_model1.h5\n",
      "Epoch 7/10\n",
      "1149/1149 [==============================] - 340s 296ms/step - loss: 0.0079 - mean_squared_error: 0.0079 - val_loss: 0.0038 - val_mean_squared_error: 0.0038\n",
      "\n",
      "Epoch 00007: val_mean_squared_error did not improve from 0.00371\n",
      "Epoch 8/10\n",
      "1149/1149 [==============================] - 342s 298ms/step - loss: 0.0070 - mean_squared_error: 0.0070 - val_loss: 0.0034 - val_mean_squared_error: 0.0034\n",
      "\n",
      "Epoch 00008: val_mean_squared_error improved from 0.00371 to 0.00342, saving model to best_model1.h5\n",
      "Epoch 9/10\n",
      "1149/1149 [==============================] - 342s 298ms/step - loss: 0.0062 - mean_squared_error: 0.0062 - val_loss: 0.0032 - val_mean_squared_error: 0.0032\n",
      "\n",
      "Epoch 00009: val_mean_squared_error improved from 0.00342 to 0.00323, saving model to best_model1.h5\n",
      "Epoch 10/10\n",
      "1149/1149 [==============================] - 338s 294ms/step - loss: 0.0057 - mean_squared_error: 0.0057 - val_loss: 0.0030 - val_mean_squared_error: 0.0030\n",
      "\n",
      "Epoch 00010: val_mean_squared_error improved from 0.00323 to 0.00298, saving model to best_model1.h5\n",
      "Model: \"model\"\n",
      "_________________________________________________________________\n",
      "Layer (type)                 Output Shape              Param #   \n",
      "=================================================================\n",
      "input_1 (InputLayer)         [(None, 48, 7)]           0         \n",
      "_________________________________________________________________\n",
      "lstm (LSTM)                  (None, 48, 64)            18432     \n",
      "_________________________________________________________________\n",
      "lstm_1 (LSTM)                (None, 64)                33024     \n",
      "_________________________________________________________________\n",
      "dense (Dense)                (None, 3)                 195       \n",
      "=================================================================\n",
      "Total params: 51,651\n",
      "Trainable params: 51,651\n",
      "Non-trainable params: 0\n",
      "_________________________________________________________________\n"
     ]
    }
   ],
   "source": [
    "model_name = 'LSTM_linear' \n",
    "# model_name = 'GRU' \n",
    "# model_name = 'CONV' \n",
    "model = train_model(model_name)"
   ]
  },
  {
   "cell_type": "code",
   "execution_count": 61,
   "id": "518c5a92",
   "metadata": {},
   "outputs": [],
   "source": [
    "model.load_weights('best_model1.h5')"
   ]
  },
  {
   "cell_type": "code",
   "execution_count": 62,
   "id": "26c583c2",
   "metadata": {},
   "outputs": [],
   "source": [
    "def plot_model_history(model):\n",
    "    mod_hist = model.history\n",
    "    plt.subplot(1, 2, 1)\n",
    "    plt.plot(mod_hist.history['loss'])\n",
    "    plt.plot(mod_hist.history['val_loss'])\n",
    "    plt.title('Loss MSE')\n",
    "    plt.ylabel('Loss')\n",
    "    plt.xlabel('Epochs')\n",
    "    plt.legend(loc='best')\n",
    "    plt.subplot(1, 2, 2)\n",
    "    plt.plot(mod_hist.history['mean_squared_error'])\n",
    "    plt.plot(mod_hist.history['val_mean_squared_error'])\n",
    "    plt.title('Error RMSE')\n",
    "    plt.ylabel('Loss')\n",
    "    plt.xlabel('Epochs')\n",
    "    plt.legend(loc='best')\n",
    "    "
   ]
  },
  {
   "cell_type": "code",
   "execution_count": 63,
   "id": "50abbc19",
   "metadata": {},
   "outputs": [
    {
     "name": "stderr",
     "output_type": "stream",
     "text": [
      "No handles with labels found to put in legend.\n",
      "No handles with labels found to put in legend.\n"
     ]
    },
    {
     "data": {
      "image/png": "[encoded data removed]",
      "text/plain": [
       "<Figure size 432x288 with 2 Axes>"
      ]
     },
     "metadata": {
      "needs_background": "light"
     },
     "output_type": "display_data"
    }
   ],
   "source": [
    "plot_model_history(model=model)"
   ]
  },
  {
   "cell_type": "code",
   "execution_count": null,
   "id": "3d67aad6",
   "metadata": {},
   "outputs": [],
   "source": []
  },
  {
   "cell_type": "markdown",
   "id": "ed157a1c",
   "metadata": {},
   "source": [
    "### Predict"
   ]
  },
  {
   "cell_type": "code",
   "execution_count": 64,
   "id": "43be001a",
   "metadata": {},
   "outputs": [],
   "source": [
    "def ts_data_pred_generator(data_arr, batch_input_len, iter_cnt):\n",
    "    X = [row for row in data_arr[iter_cnt: iter_cnt+batch_input_len]]\n",
    "    y = [data_arr[batch_input_len+iter_cnt][0], data_arr[batch_input_len+iter_cnt][1], data_arr[batch_input_len+iter_cnt][2]]\n",
    "    return np.array(X), np.array(y)"
   ]
  },
  {
   "cell_type": "code",
   "execution_count": 65,
   "id": "176fcc40",
   "metadata": {},
   "outputs": [],
   "source": [
    "def create_df_predict(training_csv, testing_csv, batch_input_len):\n",
    "    df_train = preprocess_cvs_into_ts(training_csv)\n",
    "    df_train = preprocess_ts_features(df_train)\n",
    "    df_test = preprocess_cvs_into_ts(testing_csv)\n",
    "    df_test = preprocess_ts_features(df_test)\n",
    "    test_len = df_test.shape[0]\n",
    "    df_pred = pd.concat([df_train, df_test], axis=0)\n",
    "    df_pred.fillna(0)\n",
    "    return df_pred[-(test_len+batch_input_len):]"
   ]
  },
  {
   "cell_type": "markdown",
   "id": "47080726",
   "metadata": {},
   "source": [
    "##### Debugging Start"
   ]
  },
  {
   "cell_type": "code",
   "execution_count": 66,
   "id": "a2bb9179",
   "metadata": {},
   "outputs": [],
   "source": [
    "# # Creating train (with batch length) and test dataset\n",
    "# df_solar_pred = create_df_predict(training_csv, testing_csv, batch_input_len)\n",
    "\n",
    "# # Scaling for data\n",
    "# solar_data_pred_sc = scalar_std_ts.transform(df_solar_pred)\n",
    "\n",
    "# # Used only for testing\n",
    "# cnt = 0\n",
    "\n",
    "# # Contains the predicted output\n",
    "# x_pred = []\n",
    "\n",
    "# tst_len = solar_data_pred_sc.shape[0] - batch_input_len"
   ]
  },
  {
   "cell_type": "code",
   "execution_count": 67,
   "id": "f2dc6fb2",
   "metadata": {},
   "outputs": [],
   "source": [
    "# tst_len"
   ]
  },
  {
   "cell_type": "code",
   "execution_count": 68,
   "id": "d2332974",
   "metadata": {},
   "outputs": [],
   "source": [
    "# i = 0\n",
    "# X_test, y_test = ts_data_pred_generator(solar_data_pred_sc, batch_input_len, i)"
   ]
  },
  {
   "cell_type": "code",
   "execution_count": 69,
   "id": "dffb53c7",
   "metadata": {},
   "outputs": [],
   "source": [
    "# X_test, y_test"
   ]
  },
  {
   "cell_type": "code",
   "execution_count": 70,
   "id": "15ed5b77",
   "metadata": {},
   "outputs": [],
   "source": [
    "# X_i = np.expand_dims(X_test, axis=0)\n",
    "# X_i"
   ]
  },
  {
   "cell_type": "code",
   "execution_count": 71,
   "id": "7f2f970d",
   "metadata": {},
   "outputs": [],
   "source": [
    "# y_i = model.predict(X_i)\n",
    "# y_i"
   ]
  },
  {
   "cell_type": "code",
   "execution_count": 72,
   "id": "1ed39aeb",
   "metadata": {},
   "outputs": [],
   "source": [
    "# solar_data_pred_sc[batch_input_len+i][0:3]"
   ]
  },
  {
   "cell_type": "code",
   "execution_count": 73,
   "id": "767c59f1",
   "metadata": {},
   "outputs": [],
   "source": [
    "# solar_data_pred_sc[batch_input_len+i][0:3] = y_i"
   ]
  },
  {
   "cell_type": "code",
   "execution_count": 74,
   "id": "a4e4e1d9",
   "metadata": {},
   "outputs": [],
   "source": [
    "# solar_data_pred_sc[batch_input_len+i][0:3]"
   ]
  },
  {
   "cell_type": "code",
   "execution_count": 75,
   "id": "38171167",
   "metadata": {},
   "outputs": [],
   "source": [
    "# np.hstack([y_i[0], solar_data_pred_sc[batch_input_len+i][3:]])"
   ]
  },
  {
   "cell_type": "code",
   "execution_count": 76,
   "id": "1dc6156f",
   "metadata": {},
   "outputs": [],
   "source": [
    "# solar_data_pred_sc[batch_input_len+i]"
   ]
  },
  {
   "cell_type": "code",
   "execution_count": 77,
   "id": "43aed9b7",
   "metadata": {},
   "outputs": [],
   "source": [
    "# i = 1\n",
    "# X_test, y_test = ts_data_pred_generator(solar_data_pred_sc, batch_input_len, i)"
   ]
  },
  {
   "cell_type": "code",
   "execution_count": 78,
   "id": "6b43cf80",
   "metadata": {},
   "outputs": [],
   "source": [
    "# X_test, y_test"
   ]
  },
  {
   "cell_type": "code",
   "execution_count": 79,
   "id": "e153e6c8",
   "metadata": {},
   "outputs": [],
   "source": [
    "# X_i = np.expand_dims(X_test, axis=0)\n",
    "# X_i"
   ]
  },
  {
   "cell_type": "code",
   "execution_count": 80,
   "id": "34d49dcd",
   "metadata": {},
   "outputs": [],
   "source": [
    "# y_i = model.predict(X_i)\n",
    "# y_i"
   ]
  },
  {
   "cell_type": "markdown",
   "id": "6726f5ad",
   "metadata": {},
   "source": [
    "##### Debugg End"
   ]
  },
  {
   "cell_type": "code",
   "execution_count": 81,
   "id": "cd2c2066",
   "metadata": {},
   "outputs": [],
   "source": [
    "def model_predict(training_csv, testing_csv, batch_input_len, model):\n",
    "    '''This method takes the test csv file, gives the output as predicted array\n",
    "    Creating df which will contain last rows from train which equal to the length of the batch\n",
    "    append those to the test.\n",
    "    The first prediction for the test row 0 shall consider data from train and predict the 0 row of test\n",
    "    the predictions are updated into test first row and then prediction is done for the 1 row in test\n",
    "    this loop repeats'''\n",
    "    \n",
    "    # Creating train (with batch length) and test dataset\n",
    "    df_solar_pred = create_df_predict(training_csv, testing_csv, batch_input_len)\n",
    "    \n",
    "    # Scaling for data\n",
    "    solar_data_pred_sc = scalar_std_ts.transform(df_solar_pred)\n",
    "    \n",
    "    # Used only for testing\n",
    "    cnt = 0\n",
    "    \n",
    "    # Contains the predicted output\n",
    "    x_pred = []\n",
    "    \n",
    "    tst_len = solar_data_pred_sc.shape[0] - batch_input_len\n",
    "    \n",
    "    # Runs for the entire X test\n",
    "    for i in range(tst_len):\n",
    "        # Tranforming the data into X and y to pass it NN predict\n",
    "        X_test, y_test = ts_data_pred_generator(solar_data_pred_sc, batch_input_len, i)\n",
    "    \n",
    "    \n",
    "        # Since only one value of (batchlength, features) is passed \n",
    "        # it needs to be in the format (n, l, f)\n",
    "        X_i = np.expand_dims(X_test, axis=0)\n",
    "        # print('X_i[-1]\\n', X_i[0][-1])\n",
    "        \n",
    "        # Predicts the next row 'Clearsky DHI', 'Clearsky DNI', 'Clearsky GHI'\n",
    "        y_i = model.predict(X_i)\n",
    "        \n",
    "        # Update predicted 'Clearsky DHI', 'Clearsky DNI', 'Clearsky GHI' since they are not passed\n",
    "        solar_data_pred_sc[batch_input_len+i][0:3] = y_i\n",
    "        \n",
    "        if i % 100==0:\n",
    "            print(f'{i}={y_i}', end=', ')\n",
    "        \n",
    "        \n",
    "    # print('x_i_pred\\n', x_i_pred)\n",
    "    # This trick is used to ensure we are inverse transform. \n",
    "    # Inverse transform needs the same length features which was used for fit/transform\n",
    "    return scalar_std_ts.inverse_transform(solar_data_pred_sc)"
   ]
  },
  {
   "cell_type": "markdown",
   "id": "5f655913",
   "metadata": {},
   "source": [
    "##### Debuggin end"
   ]
  },
  {
   "cell_type": "code",
   "execution_count": 82,
   "id": "c01b09ac",
   "metadata": {},
   "outputs": [
    {
     "name": "stdout",
     "output_type": "stream",
     "text": [
      "0=[[-0.8700357  -0.914776   -0.79084736]], 100=[[-0.83494794 -0.89210004 -0.7732969 ]], 200=[[-0.8357271 -0.8937662 -0.7762095]], 300=[[-0.8311229  -0.89187884 -0.7800877 ]], 400=[[-0.8302024  -0.8901792  -0.78296125]], 500=[[-0.8292327  -0.905951   -0.77448446]], 600=[[-0.8144113  -0.9474208  -0.78369135]], 700=[[ 0.15205315  0.9277597  -0.05842497]], 800=[[0.5638522 1.4882185 0.900583 ]], 900=[[1.1908736 1.2121516 1.0926486]], 1000=[[0.47388333 1.4220681  0.7613785 ]], 1100=[[ 0.06884206  0.21106839 -0.42302728]], 1200=[[-0.8607273  -0.94911665 -0.80120933]], 1300=[[-0.8287423  -0.89241964 -0.77793056]], 1400=[[-0.83673835 -0.8951402  -0.7787283 ]], 1500=[[-0.8352716  -0.89286107 -0.78494334]], 1600=[[-0.8372196  -0.8855552  -0.78737456]], 1700=[[-0.84013915 -0.9065891  -0.77345675]], 1800=[[-0.8139256  -0.9623305  -0.78029746]], 1900=[[0.37611216 0.9537494  0.10478922]], 2000=[[1.2453245 1.2002333 1.0858859]], 2100=[[0.6352224 1.7636474 1.6633373]], 2200=[[1.569703  0.926656  0.9017301]], 2300=[[ 0.62764984  0.07406572 -0.24890238]], 2400=[[-0.8553195  -0.9473105  -0.79169893]], 2500=[[-0.8318376 -0.866427  -0.7791329]], 2600=[[-0.83961076 -0.88641584 -0.7835181 ]], 2700=[[-0.8403063 -0.8941141 -0.78694  ]], 2800=[[-0.8379143 -0.8871799 -0.7911086]], 2900=[[-0.83204526 -0.90711385 -0.77162975]], 3000=[[-0.71165276 -0.7192133  -0.7483083 ]], 3100=[[0.33115554 1.3419706  0.49902448]], 3200=[[1.2758224 1.3999957 1.5044905]], 3300=[[2.3614721 1.07206   1.6671237]], 3400=[[1.1120511 1.34896   1.3212755]], 3500=[[1.0565575  0.30908698 0.01569443]], 3600=[[-0.83401465 -0.9720633  -0.79770887]], 3700=[[-0.82831657 -0.8991803  -0.77553815]], 3800=[[-0.8427632  -0.8910614  -0.77948093]], 3900=[[-0.8428431  -0.8988921  -0.78461605]], 4000=[[-0.845079   -0.8908017  -0.78804064]], 4100=[[-0.82275057 -0.8952607  -0.7787229 ]], 4200=[[-0.34940958 -0.2560559  -0.6034076 ]], 4300=[[1.4656608  0.838251   0.70832074]], 4400=[[1.3330007 1.5090746 1.8878884]], 4500=[[1.5201503 1.5012071 2.1418245]], 4600=[[2.683251  0.7410988 1.2764239]], 4700=[[1.4240888  0.09953102 0.08467013]], 4800=[[-0.79108727 -0.9489518  -0.7833806 ]], 4900=[[-0.8361632  -0.87899077 -0.77819896]], 5000=[[-0.8343632 -0.8930125 -0.7780212]], 5100=[[-0.84537214 -0.89630336 -0.78386587]], 5200=[[-0.8464805  -0.89501876 -0.7739809 ]], 5300=[[-0.8124839  -0.8828054  -0.78312254]], 5400=[[ 0.18448775  0.22706649 -0.33029893]], 5500=[[1.3879676 1.0670027 1.0548992]], 5600=[[1.1136816 1.6381825 2.1396136]], 5700=[[1.7146564 1.4253751 2.2387338]], 5800=[[1.7093515 1.1721561 1.5548184]], 5900=[[1.4165293  0.39432353 0.27522203]], 6000=[[-0.6912707 -0.8995391 -0.7466051]], 6100=[[-0.8395588 -0.8945939 -0.7795073]], 6200=[[-0.8376641 -0.8794562 -0.7843735]], 6300=[[-0.84045154 -0.9047777  -0.7807943 ]], 6400=[[-0.82896364 -0.8971937  -0.7704977 ]], 6500=[[-0.81367755 -0.92270654 -0.7901552 ]], 6600=[[ 0.55528104  0.29955667 -0.15079236]], 6700=[[1.6144552  0.99001235 1.1534076 ]], 6800=[[1.8128288 1.3289603 2.0961585]], 6900=[[1.6977473 1.406949  2.2833562]], 7000=[[1.7311095 1.1600684 1.6140903]], 7100=[[0.9266726  0.82922    0.48814908]], 7200=[[-0.5060195 -0.5272793 -0.70307  ]], 7300=[[-0.8439735 -0.9083615 -0.7835606]], 7400=[[-0.8408349 -0.8882195 -0.7788838]], 7500=[[-0.84558755 -0.90977275 -0.7813367 ]], 7600=[[-0.82937086 -0.89123553 -0.7665396 ]], 7700=[[-0.81807935 -0.9235779  -0.763387  ]], 7800=[[ 0.6677487   0.26942092 -0.06347998]], 7900=[[0.8432059 1.3673904 1.2914697]], 8000=[[1.796444  1.2904991 2.0737495]], 8100=[[2.1483402 1.2251734 2.1867573]], 8200=[[1.6640681 1.1463996 1.6188564]], 8300=[[1.070855   0.7185836  0.49244788]], 8400=[[-0.3562171  -0.49952197 -0.67318517]], 8500=[[-0.84328383 -0.9081393  -0.7891059 ]], 8600=[[-0.8324513  -0.88605726 -0.78598416]], 8700=[[-0.8425019  -0.91117674 -0.78187746]], 8800=[[-0.8275673  -0.8922034  -0.76765645]], 8900=[[-0.82750475 -0.9240418  -0.7776414 ]], 9000=[[ 0.4762426   0.25591072 -0.15788144]], 9100=[[1.2553773 1.026424  1.1017066]], 9200=[[1.5762708 1.2976067 1.9991244]], 9300=[[1.6989356 1.3279799 2.2051694]], 9400=[[1.4777792 1.2111065 1.6412491]], 9500=[[0.9072782  0.8423317  0.53928375]], 9600=[[-0.38093227 -0.6076581  -0.6613431 ]], 9700=[[-0.8395849  -0.90866214 -0.79073775]], 9800=[[-0.8342321  -0.8950387  -0.78748554]], 9900=[[-0.8390296 -0.8930429 -0.7793308]], 10000=[[-0.8211053  -0.89828914 -0.7697741 ]], 10100=[[-0.808402  -0.9254675 -0.793398 ]], 10200=[[ 0.26855028  0.1849253  -0.27714396]], 10300=[[1.1166636 1.0578392 1.0068315]], 10400=[[1.7288586 1.2322403 1.9028938]], 10500=[[1.725413  1.314477  2.1395407]], 10600=[[1.593275  1.1431359 1.5384915]], 10700=[[1.0162472  0.6385278  0.37764332]], 10800=[[-0.6269786  -0.7836097  -0.72434944]], 10900=[[-0.83969796 -0.90119404 -0.7864499 ]], 11000=[[-0.83752775 -0.8884965  -0.78049767]], 11100=[[-0.834746   -0.91570944 -0.78455484]], 11200=[[-0.8304473  -0.900309   -0.77487373]], 11300=[[-0.82038856 -0.89651775 -0.7804913 ]], 11400=[[ 0.06236    -0.03988627 -0.39999455]], 11500=[[0.88527966 1.1122789  0.9017317 ]], 11600=[[1.0004275 1.5175955 1.8939553]], 11700=[[1.8879524 1.2129505 1.9459513]], 11800=[[1.2616534 1.2133803 1.3835756]], 11900=[[0.551014   0.78572446 0.19298464]], 12000=[[-0.8185978  -0.89858705 -0.78923434]], 12100=[[-0.8374934 -0.890526  -0.7824821]], 12200=[[-0.8438431 -0.8884536 -0.7780403]], 12300=[[-0.8367778 -0.8956561 -0.7796183]], 12400=[[-0.8343307  -0.89961535 -0.7777916 ]], 12500=[[-0.80452645 -0.91097635 -0.78674614]], 12600=[[-0.2399281  -0.08628227 -0.5182056 ]], 12700=[[0.5716629 1.2933464 0.8000965]], 12800=[[1.3579398 1.283976  1.6321954]], 12900=[[1.35346   1.3465909 1.7867751]], 13000=[[1.1495962 1.0803158 1.0466607]], 13100=[[ 0.38382095  0.40953752 -0.16357484]], 13200=[[-0.86117613 -0.95157397 -0.79882836]], 13300=[[-0.8366128 -0.884647  -0.7788589]], 13400=[[-0.8426032  -0.89604163 -0.77610445]], 13500=[[-0.83577424 -0.89638    -0.7797251 ]], 13600=[[-0.83997816 -0.8898824  -0.7725483 ]], 13700=[[-0.81525856 -0.9101108  -0.7825365 ]], 13800=[[-0.48712277 -0.5482718  -0.6390951 ]], 13900=[[0.3303132  1.3962649  0.64403045]], 14000=[[1.11514   1.2383486 1.3153822]], 14100=[[0.9916049 1.395475  1.5042287]], 14200=[[0.4084878 1.4476928 0.8383501]], 14300=[[-0.0484086  -0.08926909 -0.500399  ]], 14400=[[-0.8458619  -0.9408252  -0.79530376]], 14500=[[-0.8435217  -0.8865108  -0.77669287]], 14600=[[-0.8412603 -0.8973371 -0.7711493]], 14700=[[-0.8418758  -0.88647455 -0.7832756 ]], 14800=[[-0.84267485 -0.89024216 -0.78715956]], 14900=[[-0.8225932 -0.9134322 -0.7746472]], 15000=[[-0.73499966 -0.5945299  -0.71604675]], 15100=[[0.30908972 1.20289    0.32891864]], 15200=[[0.42767376 1.6913875  1.2208843 ]], 15300=[[0.84077996 1.3449997  1.1707817 ]], 15400=[[0.4265524  1.1859576  0.49950257]], 15500=[[-0.43394643 -0.14127724 -0.6364235 ]], 15600=[[-0.8444722 -0.9290085 -0.7878016]], 15700=[[-0.8407372 -0.8989546 -0.7725129]], 15800=[[-0.84208393 -0.8890272  -0.7830908 ]], 15900=[[-0.82391447 -0.8957259  -0.7724431 ]], 16000=[[-0.83506775 -0.8899242  -0.7819443 ]], 16100=[[-0.8155156  -0.91615194 -0.76273245]], 16200=[[-0.8371817  -0.8751547  -0.77811134]], 16300=[[0.31079644 0.8985164  0.01698217]], 16400=[[0.6062719  1.3999137  0.86625266]], 16500=[[0.95537364 1.2032669  0.9526132 ]], 16600=[[0.53634065 1.0240003  0.36130914]], 16700=[[-0.46709037 -0.07808799 -0.63799363]], 16800=[[-0.8477816 -0.9267555 -0.7856963]], 16900=[[-0.83543086 -0.89887303 -0.7783238 ]], 17000=[[-0.8412298 -0.8910524 -0.7794958]], 17100=[[-0.82442117 -0.8989218  -0.76836836]], 17200=[[-0.8273669  -0.89157426 -0.77847004]], 17300=[[-0.83248216 -0.9087408  -0.76954883]], 17400=[[-0.7868064 -0.9150398 -0.7444562]], 17500=[[ 0.1368821   0.94995654 -0.06207665]], "
     ]
    }
   ],
   "source": [
    "X_pred = model_predict(training_csv, testing_csv, batch_input_len, model)"
   ]
  },
  {
   "cell_type": "code",
   "execution_count": 83,
   "id": "cc516eea",
   "metadata": {},
   "outputs": [],
   "source": [
    "def generate_pred_outputfile(X_pred):\n",
    "    '''This shall generate the output files for submission'''\n",
    "    # est_period=48*365\n",
    "    est_period=len(X_pred)\n",
    "    start_datetime = \"2019-01-01 00:00:00\"\n",
    "    pred_indx = pd.date_range(start=start_datetime, periods=est_period, freq=\"30T\")\n",
    "    y_pred_const = []\n",
    "    for i in range(len(X_pred)):\n",
    "        y_pred_const.append(X_pred[i][0:3])\n",
    "\n",
    "    df_y_pred = pd.DataFrame(data=y_pred_const, index=pred_indx, columns=['Clearsky DHI', 'Clearsky DNI', 'Clearsky GHI'])\n",
    "    df_X_pred = pd.DataFrame(data=X_pred, index=pred_indx, columns=['Clearsky DHI', 'Clearsky DNI', 'Clearsky GHI', \n",
    "                                                               'Solar Zenith Angle', \n",
    "                                                               'Precipitable Water', 'ts_Year_sin', 'ts_Year_cos'])\n",
    "    df_y_pred.to_csv('submission_y_AnilKagita.csv', index=False)\n",
    "    df_y_pred.to_csv('verify_y_AnilKagita.csv', index=True)\n",
    "    df_X_pred.to_csv('verify_x_AnilKagita.csv', index=True)\n",
    "    return df_y_pred, df_X_pred"
   ]
  },
  {
   "cell_type": "code",
   "execution_count": 84,
   "id": "0901191f",
   "metadata": {},
   "outputs": [],
   "source": [
    "df_y_pred, df_X_pred = generate_pred_outputfile(X_pred)"
   ]
  },
  {
   "cell_type": "code",
   "execution_count": 85,
   "id": "e5217e39",
   "metadata": {},
   "outputs": [],
   "source": [
    "def plot_pred_y(df_y_pred):\n",
    "    plt.figure(figsize=(12, 9))\n",
    "    cnt = 1\n",
    "    for col in df_y_pred.columns:\n",
    "        plt.subplot(3, 1, cnt)\n",
    "        plt.title(col)\n",
    "        plt.plot(df_y_pred[col], label=col)\n",
    "        plt.xticks(rotation=45)\n",
    "        plt.legend(loc='best')\n",
    "        cnt += 1\n",
    "\n",
    "    plt.tight_layout()\n",
    "    plt.show()"
   ]
  },
  {
   "cell_type": "code",
   "execution_count": 86,
   "id": "28aafa4c",
   "metadata": {},
   "outputs": [
    {
     "data": {
      "image/png": "[encoded data removed]",
      "text/plain": [
       "<Figure size 864x648 with 3 Axes>"
      ]
     },
     "metadata": {
      "needs_background": "light"
     },
     "output_type": "display_data"
    }
   ],
   "source": [
    "plot_pred_y(df_y_pred)"
   ]
  },
  {
   "cell_type": "code",
   "execution_count": 87,
   "id": "d40b5ed3",
   "metadata": {},
   "outputs": [],
   "source": [
    "def plot_train_test(df_train_plot, df_test_plot):\n",
    "    plt.figure(figsize=(12, 9))\n",
    "    cnt = 1\n",
    "    for col in df_y_pred.columns:\n",
    "        plt.subplot(3, 1, cnt)\n",
    "        plt.title(col)\n",
    "        plt.plot(df_train_plot[col], label='train')\n",
    "        plt.plot(df_test_plot[col], label='test')\n",
    "        plt.xticks(rotation=45)\n",
    "        plt.legend(loc='best')\n",
    "        cnt += 1\n",
    "\n",
    "    plt.tight_layout()\n",
    "    plt.show()"
   ]
  },
  {
   "cell_type": "code",
   "execution_count": 88,
   "id": "a93b4c7d",
   "metadata": {},
   "outputs": [
    {
     "data": {
      "image/png": "[encoded data removed]",
      "text/plain": [
       "<Figure size 864x648 with 3 Axes>"
      ]
     },
     "metadata": {
      "needs_background": "light"
     },
     "output_type": "display_data"
    }
   ],
   "source": [
    "plot_train_test(df_solar[['Clearsky DHI', 'Clearsky DNI', 'Clearsky GHI']][-len(X_pred):], df_y_pred)"
   ]
  },
  {
   "cell_type": "code",
   "execution_count": null,
   "id": "98af436e",
   "metadata": {},
   "outputs": [],
   "source": []
  },
  {
   "cell_type": "code",
   "execution_count": null,
   "id": "da0f89a6",
   "metadata": {},
   "outputs": [],
   "source": []
  }
 ],
 "metadata": {
  "kernelspec": {
   "display_name": "Python 3",
   "language": "python",
   "name": "python3"
  },
  "language_info": {
   "codemirror_mode": {
    "name": "ipython",
    "version": 3
   },
   "file_extension": ".py",
   "mimetype": "text/x-python",
   "name": "python",
   "nbconvert_exporter": "python",
   "pygments_lexer": "ipython3",
   "version": "3.9.4"
  }
 },
 "nbformat": 4,
 "nbformat_minor": 5
}
