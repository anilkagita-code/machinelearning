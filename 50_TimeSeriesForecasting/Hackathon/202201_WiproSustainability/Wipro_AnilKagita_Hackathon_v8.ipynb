{
 "cells": [
  {
   "cell_type": "code",
   "execution_count": 1,
   "id": "c37f76af",
   "metadata": {},
   "outputs": [],
   "source": [
    "import tensorflow as tf\n",
    "gpus = tf.config.experimental.list_physical_devices('GPU')\n",
    "for gpu in gpus:\n",
    "    tf.config.experimental.set_memory_growth(gpu, enable=True)"
   ]
  },
  {
   "cell_type": "code",
   "execution_count": 2,
   "id": "ae762ea0",
   "metadata": {},
   "outputs": [],
   "source": [
    "import numpy as np\n",
    "import pandas as pd\n",
    "import matplotlib.pyplot as plt"
   ]
  },
  {
   "cell_type": "markdown",
   "id": "c508ac6c",
   "metadata": {},
   "source": [
    "# Data Pre-processing"
   ]
  },
  {
   "cell_type": "markdown",
   "id": "953ecc6d",
   "metadata": {},
   "source": [
    "### Reading the data converting into TimeSeries format"
   ]
  },
  {
   "cell_type": "code",
   "execution_count": 3,
   "id": "38e18494",
   "metadata": {},
   "outputs": [],
   "source": [
    "COLUMN_LIST_GIVEN = ['Clearsky DHI', 'Clearsky DNI', 'Clearsky GHI', 'Temperature', 'Cloud Type', 'Dew Point', 'Fill Flag', \n",
    "           'Relative Humidity', 'Solar Zenith Angle', 'Pressure', 'Precipitable Water', 'Wind Direction', 'Wind Speed']"
   ]
  },
  {
   "cell_type": "code",
   "execution_count": 4,
   "id": "dbfa6ea4",
   "metadata": {},
   "outputs": [],
   "source": [
    "def convert_ts_csv_to_df(csvfile):\n",
    "    '''Take the CSV file along with the path and return dataframe'''\n",
    "    df = pd.read_csv(csvfile)\n",
    "    df.insert(loc=0, column='Date', \n",
    "                value=pd.to_datetime(df[['Year', 'Month', 'Day', 'Hour', 'Minute']]))\n",
    "    df.drop(columns=['Year', 'Month', 'Day', 'Hour', 'Minute'], axis=1, inplace=True)\n",
    "    df.set_index(keys='Date', inplace=True)\n",
    "    df['Clearsky DHI'] = df['Clearsky DHI'].replace(to_replace=0, value=1)\n",
    "    df['Clearsky DNI'] = df['Clearsky DNI'].replace(to_replace=0, value=1)\n",
    "    df['Clearsky GHI'] = df['Clearsky GHI'].replace(to_replace=0, value=1)\n",
    "    df=df[COLUMN_LIST_GIVEN]\n",
    "    return df"
   ]
  },
  {
   "cell_type": "code",
   "execution_count": 5,
   "id": "23bd95be",
   "metadata": {},
   "outputs": [],
   "source": [
    "training_csv = 'data/train_subset_mini.csv'\n",
    "testing_csv = 'data/test_subset_mini.csv'"
   ]
  },
  {
   "cell_type": "code",
   "execution_count": 6,
   "id": "c6cafb7d",
   "metadata": {},
   "outputs": [
    {
     "data": {
      "text/html": [
       "<div>\n",
       "<style scoped>\n",
       "    .dataframe tbody tr th:only-of-type {\n",
       "        vertical-align: middle;\n",
       "    }\n",
       "\n",
       "    .dataframe tbody tr th {\n",
       "        vertical-align: top;\n",
       "    }\n",
       "\n",
       "    .dataframe thead th {\n",
       "        text-align: right;\n",
       "    }\n",
       "</style>\n",
       "<table border=\"1\" class=\"dataframe\">\n",
       "  <thead>\n",
       "    <tr style=\"text-align: right;\">\n",
       "      <th></th>\n",
       "      <th>Clearsky DHI</th>\n",
       "      <th>Clearsky DNI</th>\n",
       "      <th>Clearsky GHI</th>\n",
       "      <th>Temperature</th>\n",
       "      <th>Cloud Type</th>\n",
       "      <th>Dew Point</th>\n",
       "      <th>Fill Flag</th>\n",
       "      <th>Relative Humidity</th>\n",
       "      <th>Solar Zenith Angle</th>\n",
       "      <th>Pressure</th>\n",
       "      <th>Precipitable Water</th>\n",
       "      <th>Wind Direction</th>\n",
       "      <th>Wind Speed</th>\n",
       "    </tr>\n",
       "    <tr>\n",
       "      <th>Date</th>\n",
       "      <th></th>\n",
       "      <th></th>\n",
       "      <th></th>\n",
       "      <th></th>\n",
       "      <th></th>\n",
       "      <th></th>\n",
       "      <th></th>\n",
       "      <th></th>\n",
       "      <th></th>\n",
       "      <th></th>\n",
       "      <th></th>\n",
       "      <th></th>\n",
       "      <th></th>\n",
       "    </tr>\n",
       "  </thead>\n",
       "  <tbody>\n",
       "    <tr>\n",
       "      <th>2018-11-16 06:30:00</th>\n",
       "      <td>1</td>\n",
       "      <td>1</td>\n",
       "      <td>1</td>\n",
       "      <td>0.3</td>\n",
       "      <td>0</td>\n",
       "      <td>-0.4</td>\n",
       "      <td>0</td>\n",
       "      <td>94.89</td>\n",
       "      <td>159.51</td>\n",
       "      <td>1010</td>\n",
       "      <td>0.8</td>\n",
       "      <td>300</td>\n",
       "      <td>2.4</td>\n",
       "    </tr>\n",
       "    <tr>\n",
       "      <th>2018-10-09 14:30:00</th>\n",
       "      <td>100</td>\n",
       "      <td>750</td>\n",
       "      <td>518</td>\n",
       "      <td>26.4</td>\n",
       "      <td>3</td>\n",
       "      <td>23.0</td>\n",
       "      <td>14</td>\n",
       "      <td>81.67</td>\n",
       "      <td>56.13</td>\n",
       "      <td>1006</td>\n",
       "      <td>4.9</td>\n",
       "      <td>82</td>\n",
       "      <td>5.4</td>\n",
       "    </tr>\n",
       "  </tbody>\n",
       "</table>\n",
       "</div>"
      ],
      "text/plain": [
       "                     Clearsky DHI  Clearsky DNI  Clearsky GHI  Temperature  \\\n",
       "Date                                                                         \n",
       "2018-11-16 06:30:00             1             1             1          0.3   \n",
       "2018-10-09 14:30:00           100           750           518         26.4   \n",
       "\n",
       "                     Cloud Type  Dew Point  Fill Flag  Relative Humidity  \\\n",
       "Date                                                                       \n",
       "2018-11-16 06:30:00           0       -0.4          0              94.89   \n",
       "2018-10-09 14:30:00           3       23.0         14              81.67   \n",
       "\n",
       "                     Solar Zenith Angle  Pressure  Precipitable Water  \\\n",
       "Date                                                                    \n",
       "2018-11-16 06:30:00              159.51      1010                 0.8   \n",
       "2018-10-09 14:30:00               56.13      1006                 4.9   \n",
       "\n",
       "                     Wind Direction  Wind Speed  \n",
       "Date                                             \n",
       "2018-11-16 06:30:00             300         2.4  \n",
       "2018-10-09 14:30:00              82         5.4  "
      ]
     },
     "execution_count": 6,
     "metadata": {},
     "output_type": "execute_result"
    }
   ],
   "source": [
    "df_solar = convert_ts_csv_to_df(training_csv)\n",
    "df_solar.sample(2)"
   ]
  },
  {
   "cell_type": "code",
   "execution_count": 7,
   "id": "d1833ac9",
   "metadata": {},
   "outputs": [
    {
     "data": {
      "text/html": [
       "<div>\n",
       "<style scoped>\n",
       "    .dataframe tbody tr th:only-of-type {\n",
       "        vertical-align: middle;\n",
       "    }\n",
       "\n",
       "    .dataframe tbody tr th {\n",
       "        vertical-align: top;\n",
       "    }\n",
       "\n",
       "    .dataframe thead th {\n",
       "        text-align: right;\n",
       "    }\n",
       "</style>\n",
       "<table border=\"1\" class=\"dataframe\">\n",
       "  <thead>\n",
       "    <tr style=\"text-align: right;\">\n",
       "      <th></th>\n",
       "      <th>Clearsky DHI</th>\n",
       "      <th>Clearsky DNI</th>\n",
       "      <th>Clearsky GHI</th>\n",
       "      <th>Temperature</th>\n",
       "      <th>Cloud Type</th>\n",
       "      <th>Dew Point</th>\n",
       "      <th>Fill Flag</th>\n",
       "      <th>Relative Humidity</th>\n",
       "      <th>Solar Zenith Angle</th>\n",
       "      <th>Pressure</th>\n",
       "      <th>Precipitable Water</th>\n",
       "      <th>Wind Direction</th>\n",
       "      <th>Wind Speed</th>\n",
       "    </tr>\n",
       "    <tr>\n",
       "      <th>Date</th>\n",
       "      <th></th>\n",
       "      <th></th>\n",
       "      <th></th>\n",
       "      <th></th>\n",
       "      <th></th>\n",
       "      <th></th>\n",
       "      <th></th>\n",
       "      <th></th>\n",
       "      <th></th>\n",
       "      <th></th>\n",
       "      <th></th>\n",
       "      <th></th>\n",
       "      <th></th>\n",
       "    </tr>\n",
       "  </thead>\n",
       "  <tbody>\n",
       "    <tr>\n",
       "      <th>2019-01-04 06:30:00</th>\n",
       "      <td>NaN</td>\n",
       "      <td>NaN</td>\n",
       "      <td>NaN</td>\n",
       "      <td>17.6</td>\n",
       "      <td>8</td>\n",
       "      <td>17.5</td>\n",
       "      <td>0</td>\n",
       "      <td>99.44</td>\n",
       "      <td>165.67</td>\n",
       "      <td>1003</td>\n",
       "      <td>3.9</td>\n",
       "      <td>166</td>\n",
       "      <td>2.2</td>\n",
       "    </tr>\n",
       "    <tr>\n",
       "      <th>2019-01-15 02:00:00</th>\n",
       "      <td>NaN</td>\n",
       "      <td>NaN</td>\n",
       "      <td>NaN</td>\n",
       "      <td>6.3</td>\n",
       "      <td>4</td>\n",
       "      <td>5.4</td>\n",
       "      <td>0</td>\n",
       "      <td>93.90</td>\n",
       "      <td>129.20</td>\n",
       "      <td>1013</td>\n",
       "      <td>1.2</td>\n",
       "      <td>327</td>\n",
       "      <td>1.5</td>\n",
       "    </tr>\n",
       "  </tbody>\n",
       "</table>\n",
       "</div>"
      ],
      "text/plain": [
       "                     Clearsky DHI  Clearsky DNI  Clearsky GHI  Temperature  \\\n",
       "Date                                                                         \n",
       "2019-01-04 06:30:00           NaN           NaN           NaN         17.6   \n",
       "2019-01-15 02:00:00           NaN           NaN           NaN          6.3   \n",
       "\n",
       "                     Cloud Type  Dew Point  Fill Flag  Relative Humidity  \\\n",
       "Date                                                                       \n",
       "2019-01-04 06:30:00           8       17.5          0              99.44   \n",
       "2019-01-15 02:00:00           4        5.4          0              93.90   \n",
       "\n",
       "                     Solar Zenith Angle  Pressure  Precipitable Water  \\\n",
       "Date                                                                    \n",
       "2019-01-04 06:30:00              165.67      1003                 3.9   \n",
       "2019-01-15 02:00:00              129.20      1013                 1.2   \n",
       "\n",
       "                     Wind Direction  Wind Speed  \n",
       "Date                                             \n",
       "2019-01-04 06:30:00             166         2.2  \n",
       "2019-01-15 02:00:00             327         1.5  "
      ]
     },
     "execution_count": 7,
     "metadata": {},
     "output_type": "execute_result"
    }
   ],
   "source": [
    "# Reading the test dataset as Val\n",
    "# Train dataset shall be split into Train and Test\n",
    "# Val is read to understand the data and null values\n",
    "df_solar_test = convert_ts_csv_to_df(testing_csv)\n",
    "df_solar_test.sample(2)"
   ]
  },
  {
   "cell_type": "markdown",
   "id": "e5253a45",
   "metadata": {},
   "source": [
    "### Data Check"
   ]
  },
  {
   "cell_type": "markdown",
   "id": "ce54a650",
   "metadata": {},
   "source": [
    "##### Null Check"
   ]
  },
  {
   "cell_type": "code",
   "execution_count": 8,
   "id": "ce0886b6",
   "metadata": {},
   "outputs": [
    {
     "data": {
      "text/plain": [
       "Clearsky DHI          0\n",
       "Clearsky DNI          0\n",
       "Clearsky GHI          0\n",
       "Temperature           0\n",
       "Cloud Type            0\n",
       "Dew Point             0\n",
       "Fill Flag             0\n",
       "Relative Humidity     0\n",
       "Solar Zenith Angle    0\n",
       "Pressure              0\n",
       "Precipitable Water    0\n",
       "Wind Direction        0\n",
       "Wind Speed            0\n",
       "dtype: int64"
      ]
     },
     "execution_count": 8,
     "metadata": {},
     "output_type": "execute_result"
    }
   ],
   "source": [
    "df_solar.isnull().sum()"
   ]
  },
  {
   "cell_type": "code",
   "execution_count": 9,
   "id": "a1714a67",
   "metadata": {},
   "outputs": [
    {
     "data": {
      "text/plain": [
       "Clearsky DHI          1488\n",
       "Clearsky DNI          1488\n",
       "Clearsky GHI          1488\n",
       "Temperature              0\n",
       "Cloud Type               0\n",
       "Dew Point                0\n",
       "Fill Flag                0\n",
       "Relative Humidity        0\n",
       "Solar Zenith Angle       0\n",
       "Pressure                 0\n",
       "Precipitable Water       0\n",
       "Wind Direction           0\n",
       "Wind Speed               0\n",
       "dtype: int64"
      ]
     },
     "execution_count": 9,
     "metadata": {},
     "output_type": "execute_result"
    }
   ],
   "source": [
    "df_solar_test.isnull().sum()"
   ]
  },
  {
   "cell_type": "markdown",
   "id": "7f873485",
   "metadata": {},
   "source": [
    "# Feature Selection"
   ]
  },
  {
   "cell_type": "markdown",
   "id": "7ffa4e68",
   "metadata": {},
   "source": [
    "##### Datatype Check and convert to floats for Scaling data"
   ]
  },
  {
   "cell_type": "code",
   "execution_count": 10,
   "id": "808f0a01",
   "metadata": {},
   "outputs": [
    {
     "name": "stdout",
     "output_type": "stream",
     "text": [
      "<class 'pandas.core.frame.DataFrame'>\n",
      "DatetimeIndex: 4416 entries, 2018-10-01 00:00:00 to 2018-12-31 23:30:00\n",
      "Data columns (total 13 columns):\n",
      " #   Column              Non-Null Count  Dtype  \n",
      "---  ------              --------------  -----  \n",
      " 0   Clearsky DHI        4416 non-null   int64  \n",
      " 1   Clearsky DNI        4416 non-null   int64  \n",
      " 2   Clearsky GHI        4416 non-null   int64  \n",
      " 3   Temperature         4416 non-null   float64\n",
      " 4   Cloud Type          4416 non-null   int64  \n",
      " 5   Dew Point           4416 non-null   float64\n",
      " 6   Fill Flag           4416 non-null   int64  \n",
      " 7   Relative Humidity   4416 non-null   float64\n",
      " 8   Solar Zenith Angle  4416 non-null   float64\n",
      " 9   Pressure            4416 non-null   int64  \n",
      " 10  Precipitable Water  4416 non-null   float64\n",
      " 11  Wind Direction      4416 non-null   int64  \n",
      " 12  Wind Speed          4416 non-null   float64\n",
      "dtypes: float64(6), int64(7)\n",
      "memory usage: 483.0 KB\n"
     ]
    }
   ],
   "source": [
    "df_solar.info()"
   ]
  },
  {
   "cell_type": "code",
   "execution_count": 11,
   "id": "853d7b28",
   "metadata": {},
   "outputs": [],
   "source": [
    "df_solar = df_solar.astype(np.float64)"
   ]
  },
  {
   "cell_type": "code",
   "execution_count": 12,
   "id": "6a076c35",
   "metadata": {},
   "outputs": [
    {
     "name": "stdout",
     "output_type": "stream",
     "text": [
      "<class 'pandas.core.frame.DataFrame'>\n",
      "DatetimeIndex: 4416 entries, 2018-10-01 00:00:00 to 2018-12-31 23:30:00\n",
      "Data columns (total 13 columns):\n",
      " #   Column              Non-Null Count  Dtype  \n",
      "---  ------              --------------  -----  \n",
      " 0   Clearsky DHI        4416 non-null   float64\n",
      " 1   Clearsky DNI        4416 non-null   float64\n",
      " 2   Clearsky GHI        4416 non-null   float64\n",
      " 3   Temperature         4416 non-null   float64\n",
      " 4   Cloud Type          4416 non-null   float64\n",
      " 5   Dew Point           4416 non-null   float64\n",
      " 6   Fill Flag           4416 non-null   float64\n",
      " 7   Relative Humidity   4416 non-null   float64\n",
      " 8   Solar Zenith Angle  4416 non-null   float64\n",
      " 9   Pressure            4416 non-null   float64\n",
      " 10  Precipitable Water  4416 non-null   float64\n",
      " 11  Wind Direction      4416 non-null   float64\n",
      " 12  Wind Speed          4416 non-null   float64\n",
      "dtypes: float64(13)\n",
      "memory usage: 483.0 KB\n"
     ]
    }
   ],
   "source": [
    "df_solar.info()"
   ]
  },
  {
   "cell_type": "markdown",
   "id": "0ddbe8da",
   "metadata": {},
   "source": [
    "##### Feature update based on domain"
   ]
  },
  {
   "cell_type": "code",
   "execution_count": 13,
   "id": "9cf8e1a2",
   "metadata": {},
   "outputs": [
    {
     "name": "stdout",
     "output_type": "stream",
     "text": [
      "\n",
      "Source: https://www.yellowhaze.in/solar-irradiance/\n",
      "Global Horizontal Irradiance (GHI) = Direct Normal Irradiance (DNI)* cos(solar zenith angle)  +  Diffused Horizontal Irradiance (DHI)\n"
     ]
    }
   ],
   "source": [
    "print('''\n",
    "Source: https://www.yellowhaze.in/solar-irradiance/\n",
    "Global Horizontal Irradiance (GHI) = Direct Normal Irradiance (DNI)* cos(solar zenith angle)  +  Diffused Horizontal Irradiance (DHI)''')"
   ]
  },
  {
   "cell_type": "code",
   "execution_count": 14,
   "id": "99bffe0f",
   "metadata": {},
   "outputs": [
    {
     "data": {
      "text/plain": [
       "count    4416.000000\n",
       "mean      101.560940\n",
       "std        38.552389\n",
       "min        35.230000\n",
       "25%        65.585000\n",
       "50%        98.870000\n",
       "75%       136.260000\n",
       "max       171.540000\n",
       "Name: Solar Zenith Angle, dtype: float64"
      ]
     },
     "execution_count": 14,
     "metadata": {},
     "output_type": "execute_result"
    }
   ],
   "source": [
    "df_solar['Solar Zenith Angle'].describe()"
   ]
  },
  {
   "cell_type": "code",
   "execution_count": 15,
   "id": "d8ae9c53",
   "metadata": {},
   "outputs": [
    {
     "name": "stdout",
     "output_type": "stream",
     "text": [
      "This shows the Zenith Angle is given in degrees with a min or 35 and max of 171 approximately\n"
     ]
    }
   ],
   "source": [
    "print('''This shows the Zenith Angle is given in degrees with a min or 35 and max of 171 approximately''')"
   ]
  },
  {
   "cell_type": "code",
   "execution_count": 16,
   "id": "a5de5018",
   "metadata": {},
   "outputs": [],
   "source": [
    "from math import cos, radians"
   ]
  },
  {
   "cell_type": "code",
   "execution_count": 17,
   "id": "f198ba60",
   "metadata": {},
   "outputs": [],
   "source": [
    "df_solar['Cos Zenith'] = df_solar['Solar Zenith Angle'].apply(lambda x: cos(radians(x)))"
   ]
  },
  {
   "cell_type": "code",
   "execution_count": 18,
   "id": "4bf7e71d",
   "metadata": {},
   "outputs": [
    {
     "data": {
      "text/plain": [
       "count    4416.000000\n",
       "mean       -0.150978\n",
       "std         0.574485\n",
       "min        -0.989119\n",
       "25%        -0.722485\n",
       "50%        -0.154193\n",
       "75%         0.413343\n",
       "max         0.816843\n",
       "Name: Cos Zenith, dtype: float64"
      ]
     },
     "execution_count": 18,
     "metadata": {},
     "output_type": "execute_result"
    }
   ],
   "source": [
    "df_solar['Cos Zenith'].describe()"
   ]
  },
  {
   "cell_type": "code",
   "execution_count": 19,
   "id": "20715760",
   "metadata": {},
   "outputs": [],
   "source": [
    "df_solar.drop(columns='Solar Zenith Angle', inplace=True)"
   ]
  },
  {
   "cell_type": "code",
   "execution_count": 20,
   "id": "6c833ddf",
   "metadata": {},
   "outputs": [
    {
     "data": {
      "text/html": [
       "<div>\n",
       "<style scoped>\n",
       "    .dataframe tbody tr th:only-of-type {\n",
       "        vertical-align: middle;\n",
       "    }\n",
       "\n",
       "    .dataframe tbody tr th {\n",
       "        vertical-align: top;\n",
       "    }\n",
       "\n",
       "    .dataframe thead th {\n",
       "        text-align: right;\n",
       "    }\n",
       "</style>\n",
       "<table border=\"1\" class=\"dataframe\">\n",
       "  <thead>\n",
       "    <tr style=\"text-align: right;\">\n",
       "      <th></th>\n",
       "      <th>Clearsky DHI</th>\n",
       "      <th>Clearsky DNI</th>\n",
       "      <th>Clearsky GHI</th>\n",
       "      <th>Temperature</th>\n",
       "      <th>Cloud Type</th>\n",
       "      <th>Dew Point</th>\n",
       "      <th>Fill Flag</th>\n",
       "      <th>Relative Humidity</th>\n",
       "      <th>Pressure</th>\n",
       "      <th>Precipitable Water</th>\n",
       "      <th>Wind Direction</th>\n",
       "      <th>Wind Speed</th>\n",
       "      <th>Cos Zenith</th>\n",
       "    </tr>\n",
       "    <tr>\n",
       "      <th>Date</th>\n",
       "      <th></th>\n",
       "      <th></th>\n",
       "      <th></th>\n",
       "      <th></th>\n",
       "      <th></th>\n",
       "      <th></th>\n",
       "      <th></th>\n",
       "      <th></th>\n",
       "      <th></th>\n",
       "      <th></th>\n",
       "      <th></th>\n",
       "      <th></th>\n",
       "      <th></th>\n",
       "    </tr>\n",
       "  </thead>\n",
       "  <tbody>\n",
       "    <tr>\n",
       "      <th>2018-12-05 06:00:00</th>\n",
       "      <td>1.0</td>\n",
       "      <td>1.0</td>\n",
       "      <td>1.0</td>\n",
       "      <td>1.6</td>\n",
       "      <td>0.0</td>\n",
       "      <td>0.7</td>\n",
       "      <td>0.0</td>\n",
       "      <td>93.51</td>\n",
       "      <td>1011.0</td>\n",
       "      <td>0.6</td>\n",
       "      <td>323.0</td>\n",
       "      <td>1.6</td>\n",
       "      <td>-0.977600</td>\n",
       "    </tr>\n",
       "    <tr>\n",
       "      <th>2018-12-21 12:30:00</th>\n",
       "      <td>4.0</td>\n",
       "      <td>20.0</td>\n",
       "      <td>4.0</td>\n",
       "      <td>8.2</td>\n",
       "      <td>4.0</td>\n",
       "      <td>7.6</td>\n",
       "      <td>29.0</td>\n",
       "      <td>95.71</td>\n",
       "      <td>985.0</td>\n",
       "      <td>1.8</td>\n",
       "      <td>230.0</td>\n",
       "      <td>6.0</td>\n",
       "      <td>-0.019721</td>\n",
       "    </tr>\n",
       "  </tbody>\n",
       "</table>\n",
       "</div>"
      ],
      "text/plain": [
       "                     Clearsky DHI  Clearsky DNI  Clearsky GHI  Temperature  \\\n",
       "Date                                                                         \n",
       "2018-12-05 06:00:00           1.0           1.0           1.0          1.6   \n",
       "2018-12-21 12:30:00           4.0          20.0           4.0          8.2   \n",
       "\n",
       "                     Cloud Type  Dew Point  Fill Flag  Relative Humidity  \\\n",
       "Date                                                                       \n",
       "2018-12-05 06:00:00         0.0        0.7        0.0              93.51   \n",
       "2018-12-21 12:30:00         4.0        7.6       29.0              95.71   \n",
       "\n",
       "                     Pressure  Precipitable Water  Wind Direction  Wind Speed  \\\n",
       "Date                                                                            \n",
       "2018-12-05 06:00:00    1011.0                 0.6           323.0         1.6   \n",
       "2018-12-21 12:30:00     985.0                 1.8           230.0         6.0   \n",
       "\n",
       "                     Cos Zenith  \n",
       "Date                             \n",
       "2018-12-05 06:00:00   -0.977600  \n",
       "2018-12-21 12:30:00   -0.019721  "
      ]
     },
     "execution_count": 20,
     "metadata": {},
     "output_type": "execute_result"
    }
   ],
   "source": [
    "df_solar.sample(2)"
   ]
  },
  {
   "cell_type": "code",
   "execution_count": 21,
   "id": "9281ad50",
   "metadata": {},
   "outputs": [
    {
     "data": {
      "text/plain": [
       "(4416, 13)"
      ]
     },
     "execution_count": 21,
     "metadata": {},
     "output_type": "execute_result"
    }
   ],
   "source": [
    "df_solar.shape"
   ]
  },
  {
   "cell_type": "markdown",
   "id": "ba8e729e",
   "metadata": {},
   "source": [
    "### Adding the Significance of Seasonality into TS\n",
    "Since we using Deep Learning, the significance of Timestamp is lost and the sinificance behaviour of data with respect to Seasonality. In order to avoid it, these parameters are added"
   ]
  },
  {
   "cell_type": "code",
   "execution_count": 22,
   "id": "4c19258f",
   "metadata": {},
   "outputs": [
    {
     "data": {
      "text/html": [
       "<div>\n",
       "<style scoped>\n",
       "    .dataframe tbody tr th:only-of-type {\n",
       "        vertical-align: middle;\n",
       "    }\n",
       "\n",
       "    .dataframe tbody tr th {\n",
       "        vertical-align: top;\n",
       "    }\n",
       "\n",
       "    .dataframe thead th {\n",
       "        text-align: right;\n",
       "    }\n",
       "</style>\n",
       "<table border=\"1\" class=\"dataframe\">\n",
       "  <thead>\n",
       "    <tr style=\"text-align: right;\">\n",
       "      <th></th>\n",
       "      <th>Clearsky DHI</th>\n",
       "      <th>Clearsky DNI</th>\n",
       "      <th>Clearsky GHI</th>\n",
       "      <th>Temperature</th>\n",
       "      <th>Cloud Type</th>\n",
       "      <th>Dew Point</th>\n",
       "      <th>Fill Flag</th>\n",
       "      <th>Relative Humidity</th>\n",
       "      <th>Pressure</th>\n",
       "      <th>Precipitable Water</th>\n",
       "      <th>Wind Direction</th>\n",
       "      <th>Wind Speed</th>\n",
       "      <th>Cos Zenith</th>\n",
       "      <th>ts_Day_sin</th>\n",
       "      <th>ts_Day_cos</th>\n",
       "      <th>ts_Year_sin</th>\n",
       "      <th>ts_Year_cos</th>\n",
       "    </tr>\n",
       "    <tr>\n",
       "      <th>Date</th>\n",
       "      <th></th>\n",
       "      <th></th>\n",
       "      <th></th>\n",
       "      <th></th>\n",
       "      <th></th>\n",
       "      <th></th>\n",
       "      <th></th>\n",
       "      <th></th>\n",
       "      <th></th>\n",
       "      <th></th>\n",
       "      <th></th>\n",
       "      <th></th>\n",
       "      <th></th>\n",
       "      <th></th>\n",
       "      <th></th>\n",
       "      <th></th>\n",
       "      <th></th>\n",
       "    </tr>\n",
       "  </thead>\n",
       "  <tbody>\n",
       "    <tr>\n",
       "      <th>2018-12-16 17:30:00</th>\n",
       "      <td>93.0</td>\n",
       "      <td>877.0</td>\n",
       "      <td>594.0</td>\n",
       "      <td>14.4</td>\n",
       "      <td>3.0</td>\n",
       "      <td>9.2</td>\n",
       "      <td>0.0</td>\n",
       "      <td>71.11</td>\n",
       "      <td>1009.0</td>\n",
       "      <td>1.5</td>\n",
       "      <td>290.0</td>\n",
       "      <td>4.0</td>\n",
       "      <td>0.571143</td>\n",
       "      <td>-0.991445</td>\n",
       "      <td>-0.130526</td>\n",
       "      <td>-0.257737</td>\n",
       "      <td>0.966215</td>\n",
       "    </tr>\n",
       "    <tr>\n",
       "      <th>2018-11-21 03:30:00</th>\n",
       "      <td>1.0</td>\n",
       "      <td>1.0</td>\n",
       "      <td>1.0</td>\n",
       "      <td>6.8</td>\n",
       "      <td>0.0</td>\n",
       "      <td>6.1</td>\n",
       "      <td>0.0</td>\n",
       "      <td>95.00</td>\n",
       "      <td>1012.0</td>\n",
       "      <td>0.7</td>\n",
       "      <td>335.0</td>\n",
       "      <td>1.9</td>\n",
       "      <td>-0.886123</td>\n",
       "      <td>0.793353</td>\n",
       "      <td>0.608761</td>\n",
       "      <td>-0.644817</td>\n",
       "      <td>0.764337</td>\n",
       "    </tr>\n",
       "  </tbody>\n",
       "</table>\n",
       "</div>"
      ],
      "text/plain": [
       "                     Clearsky DHI  Clearsky DNI  Clearsky GHI  Temperature  \\\n",
       "Date                                                                         \n",
       "2018-12-16 17:30:00          93.0         877.0         594.0         14.4   \n",
       "2018-11-21 03:30:00           1.0           1.0           1.0          6.8   \n",
       "\n",
       "                     Cloud Type  Dew Point  Fill Flag  Relative Humidity  \\\n",
       "Date                                                                       \n",
       "2018-12-16 17:30:00         3.0        9.2        0.0              71.11   \n",
       "2018-11-21 03:30:00         0.0        6.1        0.0              95.00   \n",
       "\n",
       "                     Pressure  Precipitable Water  Wind Direction  Wind Speed  \\\n",
       "Date                                                                            \n",
       "2018-12-16 17:30:00    1009.0                 1.5           290.0         4.0   \n",
       "2018-11-21 03:30:00    1012.0                 0.7           335.0         1.9   \n",
       "\n",
       "                     Cos Zenith  ts_Day_sin  ts_Day_cos  ts_Year_sin  \\\n",
       "Date                                                                   \n",
       "2018-12-16 17:30:00    0.571143   -0.991445   -0.130526    -0.257737   \n",
       "2018-11-21 03:30:00   -0.886123    0.793353    0.608761    -0.644817   \n",
       "\n",
       "                     ts_Year_cos  \n",
       "Date                              \n",
       "2018-12-16 17:30:00     0.966215  \n",
       "2018-11-21 03:30:00     0.764337  "
      ]
     },
     "execution_count": 22,
     "metadata": {},
     "output_type": "execute_result"
    }
   ],
   "source": [
    "# Getting the time in seconds\n",
    "df_solar['ts'] = df_solar.index.map(pd.Timestamp.timestamp)\n",
    "# Adding columns based on Timestamp to understand Daily and Yearly seasonality\n",
    "day = 60*60*24\n",
    "year = 365.2425*day\n",
    "\n",
    "df_solar['ts_Day_sin'] = np.sin(df_solar['ts'] * (2* np.pi / day))\n",
    "df_solar['ts_Day_cos'] = np.cos(df_solar['ts'] * (2 * np.pi / day))\n",
    "df_solar['ts_Year_sin'] = np.sin(df_solar['ts'] * (2 * np.pi / year))\n",
    "df_solar['ts_Year_cos'] = np.cos(df_solar['ts'] * (2 * np.pi / year))\n",
    "df_solar.drop(columns='ts', inplace=True)\n",
    "df_solar.sample(2)"
   ]
  },
  {
   "cell_type": "markdown",
   "id": "b3908876",
   "metadata": {},
   "source": [
    "### Scaling of Data"
   ]
  },
  {
   "cell_type": "code",
   "execution_count": 23,
   "id": "a5e5faec",
   "metadata": {},
   "outputs": [],
   "source": [
    "from sklearn.preprocessing import StandardScaler"
   ]
  },
  {
   "cell_type": "code",
   "execution_count": 24,
   "id": "def97f55",
   "metadata": {},
   "outputs": [],
   "source": [
    "scalar_std_fs = StandardScaler()"
   ]
  },
  {
   "cell_type": "markdown",
   "id": "f661942c",
   "metadata": {},
   "source": [
    "##### Small trick to ensure we can perform inverse transform"
   ]
  },
  {
   "cell_type": "code",
   "execution_count": 25,
   "id": "30fb8245",
   "metadata": {},
   "outputs": [],
   "source": [
    "scalar_std_fs = scalar_std_fs.fit(df_solar)"
   ]
  },
  {
   "cell_type": "code",
   "execution_count": 26,
   "id": "e35b8644",
   "metadata": {},
   "outputs": [
    {
     "data": {
      "text/plain": [
       "(4416, 17)"
      ]
     },
     "execution_count": 26,
     "metadata": {},
     "output_type": "execute_result"
    }
   ],
   "source": [
    "df_solar.shape"
   ]
  },
  {
   "cell_type": "code",
   "execution_count": 27,
   "id": "31e753e5",
   "metadata": {},
   "outputs": [
    {
     "data": {
      "text/html": [
       "<div>\n",
       "<style scoped>\n",
       "    .dataframe tbody tr th:only-of-type {\n",
       "        vertical-align: middle;\n",
       "    }\n",
       "\n",
       "    .dataframe tbody tr th {\n",
       "        vertical-align: top;\n",
       "    }\n",
       "\n",
       "    .dataframe thead th {\n",
       "        text-align: right;\n",
       "    }\n",
       "</style>\n",
       "<table border=\"1\" class=\"dataframe\">\n",
       "  <thead>\n",
       "    <tr style=\"text-align: right;\">\n",
       "      <th></th>\n",
       "      <th>Clearsky DHI</th>\n",
       "      <th>Clearsky DNI</th>\n",
       "      <th>Clearsky GHI</th>\n",
       "      <th>Temperature</th>\n",
       "      <th>Cloud Type</th>\n",
       "      <th>Dew Point</th>\n",
       "      <th>Fill Flag</th>\n",
       "      <th>Relative Humidity</th>\n",
       "      <th>Pressure</th>\n",
       "      <th>Precipitable Water</th>\n",
       "      <th>Wind Direction</th>\n",
       "      <th>Wind Speed</th>\n",
       "      <th>Cos Zenith</th>\n",
       "      <th>ts_Day_sin</th>\n",
       "      <th>ts_Day_cos</th>\n",
       "      <th>ts_Year_sin</th>\n",
       "      <th>ts_Year_cos</th>\n",
       "    </tr>\n",
       "    <tr>\n",
       "      <th>Date</th>\n",
       "      <th></th>\n",
       "      <th></th>\n",
       "      <th></th>\n",
       "      <th></th>\n",
       "      <th></th>\n",
       "      <th></th>\n",
       "      <th></th>\n",
       "      <th></th>\n",
       "      <th></th>\n",
       "      <th></th>\n",
       "      <th></th>\n",
       "      <th></th>\n",
       "      <th></th>\n",
       "      <th></th>\n",
       "      <th></th>\n",
       "      <th></th>\n",
       "      <th></th>\n",
       "    </tr>\n",
       "  </thead>\n",
       "  <tbody>\n",
       "    <tr>\n",
       "      <th>2018-12-21 04:30:00</th>\n",
       "      <td>-0.797100</td>\n",
       "      <td>-0.814862</td>\n",
       "      <td>-0.714848</td>\n",
       "      <td>-0.160458</td>\n",
       "      <td>1.524761</td>\n",
       "      <td>0.275247</td>\n",
       "      <td>-0.315667</td>\n",
       "      <td>0.916723</td>\n",
       "      <td>-4.353450</td>\n",
       "      <td>-0.012762</td>\n",
       "      <td>-0.020731</td>\n",
       "      <td>0.486467</td>\n",
       "      <td>-1.407820</td>\n",
       "      <td>1.306563</td>\n",
       "      <td>0.541196</td>\n",
       "      <td>1.474543</td>\n",
       "      <td>1.125676</td>\n",
       "    </tr>\n",
       "    <tr>\n",
       "      <th>2018-10-06 11:30:00</th>\n",
       "      <td>-0.699495</td>\n",
       "      <td>-0.748523</td>\n",
       "      <td>-0.703034</td>\n",
       "      <td>0.859511</td>\n",
       "      <td>-0.969301</td>\n",
       "      <td>0.995998</td>\n",
       "      <td>-0.315667</td>\n",
       "      <td>-0.025332</td>\n",
       "      <td>0.054056</td>\n",
       "      <td>0.545921</td>\n",
       "      <td>-0.152007</td>\n",
       "      <td>-1.167629</td>\n",
       "      <td>0.221212</td>\n",
       "      <td>0.184592</td>\n",
       "      <td>-1.402115</td>\n",
       "      <td>-1.160450</td>\n",
       "      <td>-1.763909</td>\n",
       "    </tr>\n",
       "  </tbody>\n",
       "</table>\n",
       "</div>"
      ],
      "text/plain": [
       "                     Clearsky DHI  Clearsky DNI  Clearsky GHI  Temperature  \\\n",
       "Date                                                                         \n",
       "2018-12-21 04:30:00     -0.797100     -0.814862     -0.714848    -0.160458   \n",
       "2018-10-06 11:30:00     -0.699495     -0.748523     -0.703034     0.859511   \n",
       "\n",
       "                     Cloud Type  Dew Point  Fill Flag  Relative Humidity  \\\n",
       "Date                                                                       \n",
       "2018-12-21 04:30:00    1.524761   0.275247  -0.315667           0.916723   \n",
       "2018-10-06 11:30:00   -0.969301   0.995998  -0.315667          -0.025332   \n",
       "\n",
       "                     Pressure  Precipitable Water  Wind Direction  Wind Speed  \\\n",
       "Date                                                                            \n",
       "2018-12-21 04:30:00 -4.353450           -0.012762       -0.020731    0.486467   \n",
       "2018-10-06 11:30:00  0.054056            0.545921       -0.152007   -1.167629   \n",
       "\n",
       "                     Cos Zenith  ts_Day_sin  ts_Day_cos  ts_Year_sin  \\\n",
       "Date                                                                   \n",
       "2018-12-21 04:30:00   -1.407820    1.306563    0.541196     1.474543   \n",
       "2018-10-06 11:30:00    0.221212    0.184592   -1.402115    -1.160450   \n",
       "\n",
       "                     ts_Year_cos  \n",
       "Date                              \n",
       "2018-12-21 04:30:00     1.125676  \n",
       "2018-10-06 11:30:00    -1.763909  "
      ]
     },
     "execution_count": 27,
     "metadata": {},
     "output_type": "execute_result"
    }
   ],
   "source": [
    "df_solar_sc = pd.DataFrame(data=scalar_std_fs.transform(df_solar), index=df_solar.index,  columns=df_solar.columns)\n",
    "df_solar_sc.sample(2)"
   ]
  },
  {
   "cell_type": "markdown",
   "id": "80cde6c6",
   "metadata": {},
   "source": [
    "### Feature Selection"
   ]
  },
  {
   "cell_type": "markdown",
   "id": "565fad5a",
   "metadata": {},
   "source": [
    "##### Any Non-linear regression model can be selected, Choose XGBoost"
   ]
  },
  {
   "cell_type": "code",
   "execution_count": 28,
   "id": "195ed782",
   "metadata": {},
   "outputs": [],
   "source": [
    "from xgboost import XGBRegressor\n",
    "from xgboost import plot_importance"
   ]
  },
  {
   "cell_type": "markdown",
   "id": "a8269783",
   "metadata": {},
   "source": [
    "##### Feature Selection for Clearsky GHI since GHI constitues both DHI, DHI and Zenith Angle"
   ]
  },
  {
   "cell_type": "code",
   "execution_count": 29,
   "id": "d2b39879",
   "metadata": {},
   "outputs": [],
   "source": [
    "y = df_solar_sc['Clearsky GHI']\n",
    "X = df_solar_sc.drop(columns='Clearsky GHI', axis=1)"
   ]
  },
  {
   "cell_type": "code",
   "execution_count": 30,
   "id": "e47fffa6",
   "metadata": {},
   "outputs": [
    {
     "data": {
      "text/plain": [
       "XGBRegressor(base_score=0.5, booster='gbtree', colsample_bylevel=1,\n",
       "             colsample_bynode=1, colsample_bytree=1, enable_categorical=False,\n",
       "             gamma=0, gpu_id=-1, importance_type=None,\n",
       "             interaction_constraints='', learning_rate=0.300000012,\n",
       "             max_delta_step=0, max_depth=6, min_child_weight=1, missing=nan,\n",
       "             monotone_constraints='()', n_estimators=100, n_jobs=12,\n",
       "             num_parallel_tree=1, predictor='auto', random_state=0, reg_alpha=0,\n",
       "             reg_lambda=1, scale_pos_weight=1, subsample=1, tree_method='exact',\n",
       "             validate_parameters=1, verbosity=None)"
      ]
     },
     "execution_count": 30,
     "metadata": {},
     "output_type": "execute_result"
    }
   ],
   "source": [
    "model_xgb = XGBRegressor(n_estimators=100)\n",
    "model_xgb.fit(X, y)"
   ]
  },
  {
   "cell_type": "code",
   "execution_count": 31,
   "id": "57e78e7a",
   "metadata": {},
   "outputs": [
    {
     "data": {
      "text/plain": [
       "array([3.11481854e-04, 4.07081610e-03, 5.78910840e-05, 2.31669710e-05,\n",
       "       4.91401915e-05, 1.22408646e-05, 2.85938677e-05, 1.77266775e-05,\n",
       "       1.26243196e-03, 2.45801366e-05, 1.58419953e-05, 9.93861377e-01,\n",
       "       1.09662826e-04, 4.68650978e-05, 1.05722975e-04, 2.48384526e-06],\n",
       "      dtype=float32)"
      ]
     },
     "execution_count": 31,
     "metadata": {},
     "output_type": "execute_result"
    }
   ],
   "source": [
    "model_xgb.feature_importances_"
   ]
  },
  {
   "cell_type": "code",
   "execution_count": 32,
   "id": "e5f7156b",
   "metadata": {},
   "outputs": [
    {
     "data": {
      "text/plain": [
       "<AxesSubplot:title={'center':'Feature importance'}, xlabel='F score', ylabel='Features'>"
      ]
     },
     "execution_count": 32,
     "metadata": {},
     "output_type": "execute_result"
    },
    {
     "data": {
      "image/png": "[encoded data removed]",
      "text/plain": [
       "<Figure size 432x288 with 1 Axes>"
      ]
     },
     "metadata": {
      "needs_background": "light"
     },
     "output_type": "display_data"
    }
   ],
   "source": [
    "plot_importance(model_xgb)"
   ]
  },
  {
   "cell_type": "markdown",
   "id": "e2f38dc6",
   "metadata": {},
   "source": [
    "### Droping not so significant columns"
   ]
  },
  {
   "cell_type": "code",
   "execution_count": 33,
   "id": "e3098bc0",
   "metadata": {},
   "outputs": [],
   "source": [
    "COLUMNS_DROPPED = ['Cloud Type', 'Pressure', 'Fill Flag', 'Wind Speed', 'Dew Point', 'Wind Direction', 'ts_Day_sin', \n",
    "                       'ts_Day_cos', 'Temperature', 'Relative Humidity']\n"
   ]
  },
  {
   "cell_type": "code",
   "execution_count": 34,
   "id": "e0600cc5",
   "metadata": {},
   "outputs": [
    {
     "data": {
      "text/html": [
       "<div>\n",
       "<style scoped>\n",
       "    .dataframe tbody tr th:only-of-type {\n",
       "        vertical-align: middle;\n",
       "    }\n",
       "\n",
       "    .dataframe tbody tr th {\n",
       "        vertical-align: top;\n",
       "    }\n",
       "\n",
       "    .dataframe thead th {\n",
       "        text-align: right;\n",
       "    }\n",
       "</style>\n",
       "<table border=\"1\" class=\"dataframe\">\n",
       "  <thead>\n",
       "    <tr style=\"text-align: right;\">\n",
       "      <th></th>\n",
       "      <th>Clearsky DHI</th>\n",
       "      <th>Clearsky DNI</th>\n",
       "      <th>Clearsky GHI</th>\n",
       "      <th>Precipitable Water</th>\n",
       "      <th>Cos Zenith</th>\n",
       "      <th>ts_Year_sin</th>\n",
       "      <th>ts_Year_cos</th>\n",
       "    </tr>\n",
       "    <tr>\n",
       "      <th>Date</th>\n",
       "      <th></th>\n",
       "      <th></th>\n",
       "      <th></th>\n",
       "      <th></th>\n",
       "      <th></th>\n",
       "      <th></th>\n",
       "      <th></th>\n",
       "    </tr>\n",
       "  </thead>\n",
       "  <tbody>\n",
       "    <tr>\n",
       "      <th>2018-11-05 01:00:00</th>\n",
       "      <td>1.0</td>\n",
       "      <td>1.0</td>\n",
       "      <td>1.0</td>\n",
       "      <td>3.5</td>\n",
       "      <td>-0.491056</td>\n",
       "      <td>-0.829281</td>\n",
       "      <td>0.558832</td>\n",
       "    </tr>\n",
       "    <tr>\n",
       "      <th>2018-11-11 04:30:00</th>\n",
       "      <td>1.0</td>\n",
       "      <td>1.0</td>\n",
       "      <td>1.0</td>\n",
       "      <td>1.3</td>\n",
       "      <td>-0.949535</td>\n",
       "      <td>-0.765678</td>\n",
       "      <td>0.643224</td>\n",
       "    </tr>\n",
       "  </tbody>\n",
       "</table>\n",
       "</div>"
      ],
      "text/plain": [
       "                     Clearsky DHI  Clearsky DNI  Clearsky GHI  \\\n",
       "Date                                                            \n",
       "2018-11-05 01:00:00           1.0           1.0           1.0   \n",
       "2018-11-11 04:30:00           1.0           1.0           1.0   \n",
       "\n",
       "                     Precipitable Water  Cos Zenith  ts_Year_sin  ts_Year_cos  \n",
       "Date                                                                           \n",
       "2018-11-05 01:00:00                 3.5   -0.491056    -0.829281     0.558832  \n",
       "2018-11-11 04:30:00                 1.3   -0.949535    -0.765678     0.643224  "
      ]
     },
     "execution_count": 34,
     "metadata": {},
     "output_type": "execute_result"
    }
   ],
   "source": [
    "df_solar.drop(columns=COLUMNS_DROPPED, inplace=True)\n",
    "df_solar.sample(2)"
   ]
  },
  {
   "cell_type": "code",
   "execution_count": 35,
   "id": "7f8a117b",
   "metadata": {},
   "outputs": [
    {
     "data": {
      "text/plain": [
       "(4416, 7)"
      ]
     },
     "execution_count": 35,
     "metadata": {},
     "output_type": "execute_result"
    }
   ],
   "source": [
    "df_solar.shape"
   ]
  },
  {
   "cell_type": "code",
   "execution_count": 36,
   "id": "598c7e43",
   "metadata": {},
   "outputs": [
    {
     "name": "stdout",
     "output_type": "stream",
     "text": [
      "\n",
      "Precipitable Water, Cos of Zenith Angle along with time of year components are considered for further analysis\n",
      "To also reduce the curse of dimensionality\n"
     ]
    }
   ],
   "source": [
    "print('''\n",
    "Precipitable Water, Cos of Zenith Angle along with time of year components are considered for further analysis\n",
    "To also reduce the curse of dimensionality'''\n",
    ")"
   ]
  },
  {
   "cell_type": "code",
   "execution_count": null,
   "id": "4cfecdf5",
   "metadata": {},
   "outputs": [],
   "source": []
  },
  {
   "cell_type": "code",
   "execution_count": null,
   "id": "2f6c1d7e",
   "metadata": {},
   "outputs": [],
   "source": []
  },
  {
   "cell_type": "markdown",
   "id": "576d6e69",
   "metadata": {},
   "source": [
    "# Model Building Start"
   ]
  },
  {
   "cell_type": "code",
   "execution_count": 65,
   "id": "29af8cf5",
   "metadata": {},
   "outputs": [],
   "source": [
    "from tensorflow.keras.models import Model, Sequential\n",
    "from tensorflow.keras.layers import Input, LSTM, Dense, GRU, RepeatVector, Conv1D, BatchNormalization, MaxPooling1D, Dropout, Flatten\n",
    "from tensorflow.keras.metrics import MeanSquaredError, RootMeanSquaredError\n",
    "from tensorflow.keras.losses import MeanSquaredError\n",
    "from tensorflow.keras.optimizers import Adam\n",
    "from tensorflow.keras.callbacks import ModelCheckpoint, EarlyStopping\n",
    "from tensorflow.keras.models import load_model\n",
    "from tensorflow.keras.layers import TimeDistributed"
   ]
  },
  {
   "cell_type": "markdown",
   "id": "3a00c977",
   "metadata": {},
   "source": [
    "### Consider only last 3 years data"
   ]
  },
  {
   "cell_type": "markdown",
   "id": "fd0ef59f",
   "metadata": {},
   "source": [
    "### Data Generation for Time Series"
   ]
  },
  {
   "cell_type": "code",
   "execution_count": 66,
   "id": "02608e05",
   "metadata": {},
   "outputs": [],
   "source": [
    "def preprocess_cvs_into_ts(csvfile):\n",
    "    '''Take the CSV file along with the path and return dataframe'''\n",
    "    df = pd.read_csv(csvfile)\n",
    "    df.insert(loc=0, column='Date', \n",
    "                value=pd.to_datetime(df[['Year', 'Month', 'Day', 'Hour', 'Minute']]))\n",
    "    df.drop(columns=['Year', 'Month', 'Day', 'Hour', 'Minute'], axis=1, inplace=True)\n",
    "    df.set_index(keys='Date', inplace=True)\n",
    "    \n",
    "    # Updating 0 to 1 to avoid exploding gradiant problem\n",
    "    df['Clearsky DHI'] = df['Clearsky DHI'].replace(to_replace=0, value=1)\n",
    "    df['Clearsky DNI'] = df['Clearsky DNI'].replace(to_replace=0, value=1)\n",
    "    df['Clearsky GHI'] = df['Clearsky GHI'].replace(to_replace=0, value=1)\n",
    "    #df=df[['Clearsky DHI', 'Clearsky DNI', 'Clearsky GHI', 'Temperature', 'Cloud Type', 'Dew Point', 'Fill Flag', 'Relative Humidity', 'Solar Zenith Angle', 'Pressure', 'Precipitable Water', 'Wind Direction', 'Wind Speed']]\n",
    "    df = df[COLUMN_LIST_GIVEN]\n",
    "    return df\n",
    "\n"
   ]
  },
  {
   "cell_type": "code",
   "execution_count": 112,
   "id": "88c8cfb9",
   "metadata": {},
   "outputs": [],
   "source": [
    "# This is used to try TimeDistributed\n",
    "# COLUMNS_SELECTED = ['Clearsky DHI', 'Clearsky DNI', 'Clearsky GHI']\n",
    "\n",
    "# This is leading to nan problems\n",
    "COLUMNS_SELECTED = ['Clearsky DHI', 'Clearsky DNI', 'Clearsky GHI', 'Cos Zenith', \n",
    "                    'Precipitable Water', 'ts_Year_sin', 'ts_Year_cos']\n",
    "\n"
   ]
  },
  {
   "cell_type": "code",
   "execution_count": 113,
   "id": "4fd7d0dc",
   "metadata": {},
   "outputs": [],
   "source": [
    "def preprocess_ts_features(df):\n",
    "    '''This shall ensure the time series features are added and \n",
    "    non-significant features are removed'''\n",
    "    \n",
    "    # Cos of Zenith angle contributes GHI\n",
    "    df['Cos Zenith'] = np.cos(np.deg2rad(df['Solar Zenith Angle']))\n",
    "    \n",
    "    # Adding the time series features into the dataset for Seasonality\n",
    "    sec_in_day = 60*60*24\n",
    "    sec_in_year = 365.2425*sec_in_day\n",
    "    df['ts'] = df.index.map(pd.Timestamp.timestamp)\n",
    "    df['ts_Day_sin'] = np.sin(df['ts'] * (2* np.pi / sec_in_day))\n",
    "    df['ts_Day_cos'] = np.cos(df['ts'] * (2 * np.pi / sec_in_day))\n",
    "    df['ts_Year_sin'] = np.sin(df['ts'] * (2 * np.pi / sec_in_year))\n",
    "    df['ts_Year_cos'] = np.cos(df['ts'] * (2 * np.pi / sec_in_year))\n",
    "    \n",
    "    # Ordering only the selected Columns in a proper order for further processing\n",
    "    df = df[COLUMNS_SELECTED]\n",
    "    return df"
   ]
  },
  {
   "cell_type": "code",
   "execution_count": 114,
   "id": "ebd909db",
   "metadata": {},
   "outputs": [
    {
     "data": {
      "text/html": [
       "<div>\n",
       "<style scoped>\n",
       "    .dataframe tbody tr th:only-of-type {\n",
       "        vertical-align: middle;\n",
       "    }\n",
       "\n",
       "    .dataframe tbody tr th {\n",
       "        vertical-align: top;\n",
       "    }\n",
       "\n",
       "    .dataframe thead th {\n",
       "        text-align: right;\n",
       "    }\n",
       "</style>\n",
       "<table border=\"1\" class=\"dataframe\">\n",
       "  <thead>\n",
       "    <tr style=\"text-align: right;\">\n",
       "      <th></th>\n",
       "      <th>Clearsky DHI</th>\n",
       "      <th>Clearsky DNI</th>\n",
       "      <th>Clearsky GHI</th>\n",
       "      <th>Cos Zenith</th>\n",
       "      <th>Precipitable Water</th>\n",
       "      <th>ts_Year_sin</th>\n",
       "      <th>ts_Year_cos</th>\n",
       "    </tr>\n",
       "    <tr>\n",
       "      <th>Date</th>\n",
       "      <th></th>\n",
       "      <th></th>\n",
       "      <th></th>\n",
       "      <th></th>\n",
       "      <th></th>\n",
       "      <th></th>\n",
       "      <th></th>\n",
       "    </tr>\n",
       "  </thead>\n",
       "  <tbody>\n",
       "    <tr>\n",
       "      <th>2018-12-05 18:30:00</th>\n",
       "      <td>68</td>\n",
       "      <td>975</td>\n",
       "      <td>608</td>\n",
       "      <td>0.553828</td>\n",
       "      <td>0.5</td>\n",
       "      <td>-0.434239</td>\n",
       "      <td>0.900798</td>\n",
       "    </tr>\n",
       "    <tr>\n",
       "      <th>2018-12-05 14:00:00</th>\n",
       "      <td>53</td>\n",
       "      <td>794</td>\n",
       "      <td>282</td>\n",
       "      <td>0.288531</td>\n",
       "      <td>0.5</td>\n",
       "      <td>-0.437142</td>\n",
       "      <td>0.899392</td>\n",
       "    </tr>\n",
       "  </tbody>\n",
       "</table>\n",
       "</div>"
      ],
      "text/plain": [
       "                     Clearsky DHI  Clearsky DNI  Clearsky GHI  Cos Zenith  \\\n",
       "Date                                                                        \n",
       "2018-12-05 18:30:00            68           975           608    0.553828   \n",
       "2018-12-05 14:00:00            53           794           282    0.288531   \n",
       "\n",
       "                     Precipitable Water  ts_Year_sin  ts_Year_cos  \n",
       "Date                                                               \n",
       "2018-12-05 18:30:00                 0.5    -0.434239     0.900798  \n",
       "2018-12-05 14:00:00                 0.5    -0.437142     0.899392  "
      ]
     },
     "execution_count": 114,
     "metadata": {},
     "output_type": "execute_result"
    }
   ],
   "source": [
    "df_solar = preprocess_cvs_into_ts(training_csv)\n",
    "df_solar = preprocess_ts_features(df_solar)\n",
    "df_solar.sample(2)"
   ]
  },
  {
   "cell_type": "code",
   "execution_count": 115,
   "id": "94e1e3e1",
   "metadata": {},
   "outputs": [
    {
     "data": {
      "text/plain": [
       "(4416, 7)"
      ]
     },
     "execution_count": 115,
     "metadata": {},
     "output_type": "execute_result"
    }
   ],
   "source": [
    "df_solar.shape"
   ]
  },
  {
   "cell_type": "markdown",
   "id": "2082deb5",
   "metadata": {},
   "source": [
    "##### Scaling the data"
   ]
  },
  {
   "cell_type": "code",
   "execution_count": 116,
   "id": "1a1073e9",
   "metadata": {},
   "outputs": [],
   "source": [
    "from sklearn.preprocessing import StandardScaler\n",
    "scalar_std_ts = StandardScaler()"
   ]
  },
  {
   "cell_type": "code",
   "execution_count": 117,
   "id": "fdf1da19",
   "metadata": {},
   "outputs": [
    {
     "data": {
      "text/plain": [
       "(4416, 7)"
      ]
     },
     "execution_count": 117,
     "metadata": {},
     "output_type": "execute_result"
    }
   ],
   "source": [
    "scalar_std_ts = scalar_std_ts.fit(df_solar)\n",
    "solar_data_sc = scalar_std_ts.transform(df_solar)\n",
    "df_solar_data = pd.DataFrame(data=solar_data_sc, index=df_solar.index, columns=df_solar.columns)\n",
    "solar_data_sc.shape"
   ]
  },
  {
   "cell_type": "markdown",
   "id": "cfa45e0b",
   "metadata": {},
   "source": [
    "##### Data Generation\n",
    "1. Take the values of Dataframe for a given batch length and Predict the values of 'Clearsky DHI', 'Clearsky DNI', 'Clearsky GHI' for the next row.\n",
    "2. Move the series by 1 row, repeat step 1"
   ]
  },
  {
   "cell_type": "code",
   "execution_count": 132,
   "id": "82b15bb9",
   "metadata": {},
   "outputs": [
    {
     "name": "stdout",
     "output_type": "stream",
     "text": [
      "\n",
      "The total length of input 4416 and the batch length is 48 with features 7\n",
      "The training start 4416\n"
     ]
    }
   ],
   "source": [
    "# Daily there around 48 observations\n",
    "# Weekly there are around 48*7 = 336 observations\n",
    "# Monthly there are around 48*30 = 1440 observations\n",
    "# Yearly there are around 48*365 = 17520 observations\n",
    "\n",
    "# Ensuring the that total length is not more than 3 years since the model training is taking lot of time\n",
    "# Also to handle out of memory issues\n",
    "total_data_len = solar_data_sc.shape[0]\n",
    "if solar_data_sc.shape[0] > 17520*3:\n",
    "    total_data_len = 17520*3\n",
    "else:\n",
    "    total_data_len = solar_data_sc.shape[0]\n",
    "\n",
    "batch_input_len = 48\n",
    "batch_output_len = 1\n",
    "features_len = 7\n",
    "# train_data_start = total_data_len - batch_input_len*4\n",
    "train_data_start = total_data_len\n",
    "print(f'''\n",
    "The total length of input {total_data_len} and the batch length is {batch_input_len} with features {features_len}\n",
    "The training start {train_data_start}''')"
   ]
  },
  {
   "cell_type": "code",
   "execution_count": 133,
   "id": "90071363",
   "metadata": {},
   "outputs": [],
   "source": [
    "def ts_data_generator(data_arr, batch_len):\n",
    "    X = []\n",
    "    y = []\n",
    "    for i in range(len(data_arr)-batch_len):\n",
    "        X_rows = [row for row in data_arr[i:i+batch_len]]\n",
    "        X.append(X_rows)\n",
    "        y_row = [data_arr[i+batch_len][0],data_arr[i+batch_len][1], data_arr[i+batch_len][2]]\n",
    "        y.append(y_row)\n",
    "    return np.array(X), np.array(y)"
   ]
  },
  {
   "cell_type": "code",
   "execution_count": 134,
   "id": "46f9d4c5",
   "metadata": {},
   "outputs": [],
   "source": [
    "X, y = ts_data_generator(solar_data_sc[-train_data_start:], batch_input_len)"
   ]
  },
  {
   "cell_type": "markdown",
   "id": "4f830006",
   "metadata": {},
   "source": [
    "##### Split the train csv data into train and val"
   ]
  },
  {
   "cell_type": "code",
   "execution_count": 135,
   "id": "a0989cfc",
   "metadata": {},
   "outputs": [
    {
     "data": {
      "text/plain": [
       "((3057, 48, 7), (3057, 3), (1311, 48, 7), (1311, 3))"
      ]
     },
     "execution_count": 135,
     "metadata": {},
     "output_type": "execute_result"
    }
   ],
   "source": [
    "train_split = np.int(X.shape[0]*0.7)\n",
    "\n",
    "X_train, y_train = X[:train_split], y[:train_split]\n",
    "X_val, y_val = X[train_split:], y[train_split:]\n",
    "\n",
    "X_train.shape, y_train.shape, X_val.shape, y_val.shape"
   ]
  },
  {
   "cell_type": "markdown",
   "id": "c6538d84",
   "metadata": {},
   "source": [
    "### Build the Model"
   ]
  },
  {
   "cell_type": "code",
   "execution_count": 136,
   "id": "178eee3b",
   "metadata": {},
   "outputs": [],
   "source": [
    "input_shape = (batch_input_len, features_len)\n",
    "learning_rate = 0.0001"
   ]
  },
  {
   "cell_type": "code",
   "execution_count": 137,
   "id": "c13944ca",
   "metadata": {},
   "outputs": [],
   "source": [
    "def build_GRU_trans1(input_shape, lr):\n",
    "    l0 = Input(shape=input_shape)\n",
    "\n",
    "    l1 = GRU(units=128, activation='relu', recurrent_dropout=.3)(l0)\n",
    "#     l1 = RepeatVector(input_shape[1])(l1)\n",
    "#     l1 = GRU(units=16, activation='relu', recurrent_dropout=.2)(l1)\n",
    "    l1 = Flatten()(l1)\n",
    "#     y = Dense(units=10, activation='relu')(l1)\n",
    "    y = Dense(units=3, activation='linear')(l1)\n",
    "\n",
    "    model = Model(inputs=l0, outputs=y)\n",
    "    \n",
    "    model.compile(optimizer=Adam(learning_rate=lr), \n",
    "                    loss=MeanSquaredError(),\n",
    "                   metrics=[MeanSquaredError()])\n",
    "    return model"
   ]
  },
  {
   "cell_type": "code",
   "execution_count": 138,
   "id": "4e8fdd96",
   "metadata": {},
   "outputs": [],
   "source": [
    "def build_LSTM1(input_shape, lr):\n",
    "    l0 = Input(shape=input_shape)\n",
    "\n",
    "    l1 = LSTM(units=128, activation='tanh', recurrent_dropout=.3, kernel_initializer='he_normal')(l0)\n",
    "    \n",
    "    # l1 = LSTM(units=64, activation='tanh', recurrent_dropout=.3, return_sequences=True, kernel_initializer='glorot_uniform')(l0)\n",
    "    # l1 = LSTM(units=64, activation='tanh', recurrent_dropout=.3)(l1)\n",
    "    \n",
    "    # y = Dense(units=10, activation='tanh')(l1)\n",
    "    # y = Dropout(rate=.3)(y)\n",
    "    y = Dense(units=3)(l1)\n",
    "\n",
    "    model = Model(inputs=l0, outputs=y)\n",
    "    \n",
    "    model.compile(optimizer=Adam(learning_rate=lr), \n",
    "                    loss=MeanSquaredError(),\n",
    "                   metrics=[MeanSquaredError()])\n",
    "    return model"
   ]
  },
  {
   "cell_type": "code",
   "execution_count": 139,
   "id": "d86f3757",
   "metadata": {},
   "outputs": [],
   "source": [
    "def build_LSTM_trans1(input_shape, lr):\n",
    "    l0 = Input(shape=input_shape)\n",
    "\n",
    "    l1 = LSTM(units=128, activation='relu', recurrent_dropout=.2, return_sequences=True)(l0)\n",
    "    l1 = LSTM(units=64, activation='relu', recurrent_dropout=.2)(l0)\n",
    "    \n",
    "    l2 = RepeatVector(input_shape[1])(l1)\n",
    "    \n",
    "    l3 = LSTM(units=64, activation='relu', recurrent_dropout=.2, return_sequences=True)(l2)\n",
    "    l3 = LSTM(units=128, activation='relu', recurrent_dropout=.2)(l3)\n",
    "\n",
    "    y = Dense(units=10, activation='relu')(l3)\n",
    "    y = Dense(units=3, activation='linear')(y)\n",
    "\n",
    "    model = Model(inputs=l0, outputs=y)\n",
    "    \n",
    "    model.compile(optimizer=Adam(learning_rate=lr), \n",
    "                    loss=MeanSquaredError(),\n",
    "                   metrics=[MeanSquaredError()])\n",
    "    return model"
   ]
  },
  {
   "cell_type": "code",
   "execution_count": 140,
   "id": "988bed1d",
   "metadata": {},
   "outputs": [],
   "source": [
    "# n_timesteps, n_features, n_outputs = X_train.shape[0], X_train[1], X_train[2]\n",
    "\n",
    "def build_Conv_trans1(input_shape, lr):\n",
    "    # l0 = Input(shape=input_shape)\n",
    "    model = Sequential()\n",
    "    model.add(TimeDistributed(Conv1D(filters=48, kernel_size=3, activation='relu', padding='same', \n",
    "                                kernel_initializer='he_normal', input_shape=X_train.shape)))\n",
    "    model.add(TimeDistributed(BatchNormalization()))\n",
    "    model.add(TimeDistributed(Conv1D(filters=48, kernel_size=3, activation='relu', padding='same', kernel_initializer='he_normal')))\n",
    "    model.add(TimeDistributed(Flatten()))\n",
    "    model.add(Dense(units=3, activation='linear'))\n",
    "    \n",
    "#     l1 =     # l1 = TimeDistributed(BatchNormalization())(l1)\n",
    "#     l1 = TimeDistributed(Conv1D(filters=48, kernel_size=3, activation='relu', padding='same', \n",
    "#                                 kernel_initializer='he_normal'))(l1)\n",
    "#     l1 = TimeDistributed(Flatten())(l1)\n",
    "#     #     l2 = Dropout(rate=.3)(l1)\n",
    "#     #     #l2 = RepeatVector(input_shape[1])(l1)\n",
    "    \n",
    "#     #     l3 = Conv1D(filters=8, kernel_size=3, activation='relu')(l2)\n",
    "#     #     l3 = BatchNormalization()(l3)\n",
    "#     #     l3 = Conv1D(filters=16, kernel_size=3, activation='relu')(l1)\n",
    "    \n",
    "#     y = TimeDistributed(Dense(units=10, activation='relu'))(l1)\n",
    "#     y = TimeDistributed(Dropout(rate=0.3))(y)\n",
    "#     y = Dense(units=3, activation='linear')(y)\n",
    "\n",
    "#     model = Model(inputs=l0, outputs=y)\n",
    "    \n",
    "    model.compile(optimizer=Adam(learning_rate=0.001), \n",
    "                    loss=MeanSquaredError(),\n",
    "                   metrics=[MeanSquaredError()])\n",
    "    return model"
   ]
  },
  {
   "cell_type": "code",
   "execution_count": 141,
   "id": "a4663111",
   "metadata": {},
   "outputs": [],
   "source": [
    "def train_model(model_name):\n",
    "    if model_name == 'GRU':\n",
    "        model = build_GRU_trans1(input_shape, learning_rate)\n",
    "    elif model_name == 'LSTM':\n",
    "        model = build_LSTM_trans1(input_shape, learning_rate)\n",
    "    elif model_name == 'LSTM_linear':\n",
    "        model = build_LSTM1(input_shape, learning_rate)\n",
    "    else:\n",
    "        model = build_Conv_trans1(input_shape, learning_rate)\n",
    "    \n",
    "    # model.summary()\n",
    "    # Check points for Early stopping and Saving the best model\n",
    "    cb_earlystop = EarlyStopping(monitor='val_loss', mode='min', verbose=1, patience=200)\n",
    "    cb_modelcp = ModelCheckpoint('best_model1.h5', monitor='val_mean_squared_error', \n",
    "                                 mode='min', verbose=1, save_best_only=True)\n",
    "\n",
    "    # Fit the model\n",
    "\n",
    "    model_hist = model.fit(X_train, y_train, validation_data=(X_val, y_val), \n",
    "                           epochs=5, callbacks=[cb_earlystop, cb_modelcp])\n",
    "    model.summary()\n",
    "    return model"
   ]
  },
  {
   "cell_type": "code",
   "execution_count": 142,
   "id": "ac1b6524",
   "metadata": {},
   "outputs": [],
   "source": [
    "# # model_name = 'LSTM' \n",
    "# # model_name = 'GRU' \n",
    "# model_name = 'CONV' \n",
    "# model = train_model(model_name)"
   ]
  },
  {
   "cell_type": "code",
   "execution_count": 143,
   "id": "78bdf7a4",
   "metadata": {},
   "outputs": [],
   "source": [
    "# model_name = 'LSTM' \n",
    "# # model_name = 'GRU' \n",
    "# # model_name = 'CONV' \n",
    "# model = train_model(model_name)"
   ]
  },
  {
   "cell_type": "code",
   "execution_count": 144,
   "id": "f2672a26",
   "metadata": {},
   "outputs": [],
   "source": [
    "# # model_name = 'LSTM' \n",
    "# model_name = 'GRU' \n",
    "# # model_name = 'CONV' \n",
    "# model = train_model(model_name)"
   ]
  },
  {
   "cell_type": "code",
   "execution_count": 145,
   "id": "2e2f9431",
   "metadata": {},
   "outputs": [
    {
     "name": "stdout",
     "output_type": "stream",
     "text": [
      "WARNING:tensorflow:Layer lstm_5 will not use cuDNN kernels since it doesn't meet the criteria. It will use a generic GPU kernel as fallback when running on GPU.\n",
      "Epoch 1/5\n",
      "96/96 [==============================] - 15s 144ms/step - loss: 0.6209 - mean_squared_error: 0.6194 - val_loss: 0.7118 - val_mean_squared_error: 0.7125\n",
      "\n",
      "Epoch 00001: val_mean_squared_error improved from inf to 0.71249, saving model to best_model1.h5\n",
      "Epoch 2/5\n",
      "96/96 [==============================] - 14s 145ms/step - loss: 0.2398 - mean_squared_error: 0.2395 - val_loss: 0.5592 - val_mean_squared_error: 0.5598\n",
      "\n",
      "Epoch 00002: val_mean_squared_error improved from 0.71249 to 0.55984, saving model to best_model1.h5\n",
      "Epoch 3/5\n",
      "96/96 [==============================] - 14s 142ms/step - loss: 0.1165 - mean_squared_error: 0.1161 - val_loss: 0.4886 - val_mean_squared_error: 0.4893\n",
      "\n",
      "Epoch 00003: val_mean_squared_error improved from 0.55984 to 0.48932, saving model to best_model1.h5\n",
      "Epoch 4/5\n",
      "96/96 [==============================] - 15s 160ms/step - loss: 0.0706 - mean_squared_error: 0.0705 - val_loss: 0.4476 - val_mean_squared_error: 0.4483\n",
      "\n",
      "Epoch 00004: val_mean_squared_error improved from 0.48932 to 0.44828, saving model to best_model1.h5\n",
      "Epoch 5/5\n",
      "96/96 [==============================] - 15s 152ms/step - loss: 0.0514 - mean_squared_error: 0.0514 - val_loss: 0.4235 - val_mean_squared_error: 0.4242\n",
      "\n",
      "Epoch 00005: val_mean_squared_error improved from 0.44828 to 0.42423, saving model to best_model1.h5\n",
      "Model: \"model_3\"\n",
      "_________________________________________________________________\n",
      "Layer (type)                 Output Shape              Param #   \n",
      "=================================================================\n",
      "input_6 (InputLayer)         [(None, 48, 7)]           0         \n",
      "_________________________________________________________________\n",
      "lstm_5 (LSTM)                (None, 128)               69632     \n",
      "_________________________________________________________________\n",
      "dense_8 (Dense)              (None, 3)                 387       \n",
      "=================================================================\n",
      "Total params: 70,019\n",
      "Trainable params: 70,019\n",
      "Non-trainable params: 0\n",
      "_________________________________________________________________\n"
     ]
    }
   ],
   "source": [
    "model_name = 'LSTM_linear' \n",
    "# model_name = 'GRU' \n",
    "# model_name = 'CONV' \n",
    "model = train_model(model_name)"
   ]
  },
  {
   "cell_type": "code",
   "execution_count": 146,
   "id": "518c5a92",
   "metadata": {},
   "outputs": [],
   "source": [
    "model.load_weights('best_model1.h5')"
   ]
  },
  {
   "cell_type": "code",
   "execution_count": 147,
   "id": "26c583c2",
   "metadata": {},
   "outputs": [],
   "source": [
    "def plot_model_history(model):\n",
    "    mod_hist = model.history\n",
    "    plt.subplot(1, 2, 1)\n",
    "    plt.plot(mod_hist.history['loss'])\n",
    "    plt.plot(mod_hist.history['val_loss'])\n",
    "    plt.title('Loss MSE')\n",
    "    plt.ylabel('Loss')\n",
    "    plt.xlabel('Epochs')\n",
    "    plt.legend(loc='best')\n",
    "    plt.subplot(1, 2, 2)\n",
    "    plt.plot(mod_hist.history['mean_squared_error'])\n",
    "    plt.plot(mod_hist.history['val_mean_squared_error'])\n",
    "    plt.title('Error RMSE')\n",
    "    plt.ylabel('Loss')\n",
    "    plt.xlabel('Epochs')\n",
    "    plt.legend(loc='best')\n",
    "    "
   ]
  },
  {
   "cell_type": "code",
   "execution_count": 148,
   "id": "50abbc19",
   "metadata": {},
   "outputs": [
    {
     "name": "stderr",
     "output_type": "stream",
     "text": [
      "No handles with labels found to put in legend.\n",
      "No handles with labels found to put in legend.\n"
     ]
    },
    {
     "data": {
      "image/png": "[encoded data removed]",
      "text/plain": [
       "<Figure size 432x288 with 2 Axes>"
      ]
     },
     "metadata": {
      "needs_background": "light"
     },
     "output_type": "display_data"
    }
   ],
   "source": [
    "plot_model_history(model=model)"
   ]
  },
  {
   "cell_type": "code",
   "execution_count": null,
   "id": "3d67aad6",
   "metadata": {},
   "outputs": [],
   "source": []
  },
  {
   "cell_type": "markdown",
   "id": "ed157a1c",
   "metadata": {},
   "source": [
    "### Predict"
   ]
  },
  {
   "cell_type": "code",
   "execution_count": 149,
   "id": "176fcc40",
   "metadata": {},
   "outputs": [],
   "source": [
    "def create_df_predict(training_csv, testing_csv, batch_input_len):\n",
    "    df_train = preprocess_cvs_into_ts(training_csv)\n",
    "    df_train = preprocess_ts_features(df_train)\n",
    "    df_test = preprocess_cvs_into_ts(testing_csv)\n",
    "    df_test = preprocess_ts_features(df_test)\n",
    "    test_len = df_test.shape[0]\n",
    "    df_pred = pd.concat([df_train, df_test], axis=0)\n",
    "    df_pred.fillna(0)\n",
    "    return df_pred[-(test_len+batch_input_len):]"
   ]
  },
  {
   "cell_type": "code",
   "execution_count": 150,
   "id": "cd2c2066",
   "metadata": {},
   "outputs": [],
   "source": [
    "def model_predict(training_csv, testing_csv, batch_input_len, model):\n",
    "    '''This method takes the test csv file, gives the output as predicted array\n",
    "    Creating df which will contain last rows from train which equal to the length of the batch\n",
    "    append those to the test.\n",
    "    The first prediction for the test row 0 shall consider data from train and predict the 0 row of test\n",
    "    the predictions are updated into test first row and then prediction is done for the 1 row in test\n",
    "    this loop repeats'''\n",
    "    \n",
    "    # Creating train (with batch length) and test dataset\n",
    "    df_solar_pred = create_df_predict(training_csv, testing_csv, batch_input_len)\n",
    "    \n",
    "    # Scaling for data\n",
    "    solar_data_pred_sc = scalar_std_ts.transform(df_solar_pred)\n",
    "    \n",
    "    # Tranforming the data into X and y to pass it NN predict\n",
    "    X_test, y_test = ts_data_generator(solar_data_pred_sc, batch_input_len)\n",
    "    \n",
    "    # Used only for testing\n",
    "    cnt = 0\n",
    "    \n",
    "    # Contains the predicted output\n",
    "    x_pred = []\n",
    "    \n",
    "    tst_len = X_test.shape[0]\n",
    "    # Runs for the entire X test\n",
    "    for i in range(tst_len):\n",
    "        # Since only one value of (batchlength, features) is passed \n",
    "        # it needs to be in the format (n, l, f)\n",
    "        X_i = np.expand_dims(X_test[i], axis=0)\n",
    "        # print('X_i[-1]\\n', X_i[0][-1])\n",
    "        \n",
    "        # Predicts the next row 'Clearsky DHI', 'Clearsky DNI', 'Clearsky GHI'\n",
    "        y_i = model.predict(X_i)\n",
    "        if i % 100==0:\n",
    "            print(f'{i}={y_i}', end=', ')\n",
    "        \n",
    "        # Update predicted 'Clearsky DHI', 'Clearsky DNI', 'Clearsky GHI' since they are not passed\n",
    "        for j in range(3):\n",
    "            if i != tst_len-1:\n",
    "                X_test[i+1][-1][j] = y_i[0][j]\n",
    "            else:\n",
    "                X_test[i][-1][j] = y_i[0][j]\n",
    "            \n",
    "            # print('X_test[i+1][-1][j]\\n', X_test[i+1][-1][j], ' y_i[0][j]: ', y_i[0][j])\n",
    "        \n",
    "        \n",
    "        # print('X_test[i+1][-1]\\n', X_test[i+1][-1])\n",
    "        # print(X_test[i+1][-1][3:])\n",
    "        \n",
    "        # This trick is used to ensure we are inverse transform. \n",
    "        # Inverse transform needs the same length features which was used for fit/transform\n",
    "        # First 3 values from predict and rest of the values from X[3:]\n",
    "        # Ensure that we pick the next X value and since its a matrix pick the last row [-1]\n",
    "        \n",
    "        # This condition is to handle the last data point where x will go out of index i+1\n",
    "        if i != tst_len-1:\n",
    "            x_i_pred = np.hstack([y_i[0], X_test[i+1][-1][3:]])\n",
    "        else:\n",
    "            x_i_pred = np.hstack([y_i[0], X_test[i][-1][3:]])\n",
    "        \n",
    "        # print('x_i_pred\\n', x_i_pred)\n",
    "        x_i_inv_sc = scalar_std_ts.inverse_transform(x_i_pred)\n",
    "        x_pred.append(list(x_i_inv_sc))\n",
    "        \n",
    "        # Comment this block out\n",
    "        #         cnt += 1\n",
    "        #         if cnt > 5:\n",
    "        #             break\n",
    "\n",
    "    return x_pred\n",
    "    "
   ]
  },
  {
   "cell_type": "code",
   "execution_count": 151,
   "id": "c01b09ac",
   "metadata": {},
   "outputs": [
    {
     "name": "stdout",
     "output_type": "stream",
     "text": [
      "0=[[-0.35202295 -1.1997339  -0.04890173]], 100=[[nan nan nan]], 200=[[nan nan nan]], 300=[[nan nan nan]], 400=[[nan nan nan]], 500=[[nan nan nan]], 600=[[nan nan nan]], 700=[[nan nan nan]], 800=[[nan nan nan]], 900=[[nan nan nan]], 1000=[[nan nan nan]], 1100=[[nan nan nan]], 1200=[[nan nan nan]], 1300=[[nan nan nan]], 1400=[[nan nan nan]], "
     ]
    }
   ],
   "source": [
    "X_pred = model_predict(training_csv, testing_csv, batch_input_len, model)"
   ]
  },
  {
   "cell_type": "code",
   "execution_count": 152,
   "id": "cc516eea",
   "metadata": {},
   "outputs": [],
   "source": [
    "def generate_pred_outputfile(X_pred):\n",
    "    '''This shall generate the output files for submission'''\n",
    "    # est_period=48*365\n",
    "    est_period=len(X_pred)\n",
    "    start_datetime = \"2019-01-01 00:00:00\"\n",
    "    pred_indx = pd.date_range(start=start_datetime, periods=est_period, freq=\"30T\")\n",
    "    y_pred_const = []\n",
    "    for i in range(len(X_pred)):\n",
    "        y_pred_const.append(X_pred[i][0:3])\n",
    "\n",
    "    df_y_pred = pd.DataFrame(data=y_pred_const, index=pred_indx, columns=['Clearsky DHI', 'Clearsky DNI', 'Clearsky GHI'])\n",
    "    df_X_pred = pd.DataFrame(data=X_pred, index=pred_indx, columns=['Clearsky DHI', 'Clearsky DNI', 'Clearsky GHI', \n",
    "                                                               'Solar Zenith Angle', \n",
    "                                                               'Precipitable Water', 'ts_Year_sin', 'ts_Year_cos'])\n",
    "    df_y_pred.to_csv('submission_y_AnilKagita.csv', index=False)\n",
    "    df_y_pred.to_csv('verify_y_AnilKagita.csv', index=True)\n",
    "    df_X_pred.to_csv('verify_x_AnilKagita.csv', index=True)\n",
    "    return df_y_pred, df_X_pred"
   ]
  },
  {
   "cell_type": "code",
   "execution_count": 153,
   "id": "0901191f",
   "metadata": {},
   "outputs": [],
   "source": [
    "df_y_pred, df_X_pred = generate_pred_outputfile(X_pred)"
   ]
  },
  {
   "cell_type": "code",
   "execution_count": 154,
   "id": "e5217e39",
   "metadata": {},
   "outputs": [],
   "source": [
    "def plot_pred_y(df_y_pred):\n",
    "    plt.figure(figsize=(12, 9))\n",
    "    cnt = 1\n",
    "    for col in df_y_pred.columns:\n",
    "        plt.subplot(3, 1, cnt)\n",
    "        plt.title(col)\n",
    "        plt.plot(df_y_pred[col], label=col)\n",
    "        plt.xticks(rotation=45)\n",
    "        plt.legend(loc='best')\n",
    "        cnt += 1\n",
    "\n",
    "    plt.tight_layout()\n",
    "    plt.show()"
   ]
  },
  {
   "cell_type": "code",
   "execution_count": 155,
   "id": "28aafa4c",
   "metadata": {},
   "outputs": [
    {
     "data": {
      "image/png": "[encoded data removed]",
      "text/plain": [
       "<Figure size 864x648 with 3 Axes>"
      ]
     },
     "metadata": {
      "needs_background": "light"
     },
     "output_type": "display_data"
    }
   ],
   "source": [
    "plot_pred_y(df_y_pred)"
   ]
  },
  {
   "cell_type": "code",
   "execution_count": null,
   "id": "d40b5ed3",
   "metadata": {},
   "outputs": [],
   "source": []
  },
  {
   "cell_type": "code",
   "execution_count": null,
   "id": "d8b0b0f6",
   "metadata": {},
   "outputs": [],
   "source": []
  },
  {
   "cell_type": "code",
   "execution_count": null,
   "id": "0b57a122",
   "metadata": {},
   "outputs": [],
   "source": []
  }
 ],
 "metadata": {
  "kernelspec": {
   "display_name": "Python 3",
   "language": "python",
   "name": "python3"
  },
  "language_info": {
   "codemirror_mode": {
    "name": "ipython",
    "version": 3
   },
   "file_extension": ".py",
   "mimetype": "text/x-python",
   "name": "python",
   "nbconvert_exporter": "python",
   "pygments_lexer": "ipython3",
   "version": "3.9.4"
  }
 },
 "nbformat": 4,
 "nbformat_minor": 5
}
