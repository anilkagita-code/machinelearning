{
  "cells": [
    {
      "cell_type": "markdown",
      "id": "790e2272",
      "metadata": {
        "id": "790e2272"
      },
      "source": [
        "### Overview"
      ]
    },
    {
      "cell_type": "code",
      "source": [
        "from google.colab import drive\n",
        "drive.mount('/content/drive')"
      ],
      "metadata": {
        "id": "cIVh_28pudSu",
        "colab": {
          "base_uri": "https://localhost:8080/"
        },
        "outputId": "0999276c-4f55-42e9-d6e8-a4454c7da78e"
      },
      "id": "cIVh_28pudSu",
      "execution_count": null,
      "outputs": [
        {
          "output_type": "stream",
          "name": "stdout",
          "text": [
            "Drive already mounted at /content/drive; to attempt to forcibly remount, call drive.mount(\"/content/drive\", force_remount=True).\n"
          ]
        }
      ]
    },
    {
      "cell_type": "markdown",
      "id": "03f11a61",
      "metadata": {
        "id": "03f11a61"
      },
      "source": [
        "### Content"
      ]
    },
    {
      "cell_type": "markdown",
      "id": "835d71b4",
      "metadata": {
        "id": "835d71b4"
      },
      "source": [
        "Though a little late in the day, the world is waking up to the deleterious effect of fossil fuels on our environment. As the doomsday clock ticks away, human beings are turning to renewable energy to avert a possible apocalypse. Fortunately, the sun is a well-spring of clean energy. Taking the cue, Wipro, in association with MachineHack, has designed a forecasting challenge to optimise solar power generation using ML models.\n",
        "\n",
        "A solar power generation company wants to optimize solar power production and needs the prediction model to predict the Clearsky Global Horizontal Irradiance(GHI). The data is ten years at an interval of every 30 mins with the following data points:\n",
        "\n",
        "<b> <u> \n",
        "['Year', 'Month', 'Day', 'Hour', 'Minute', 'Temperature', 'Clearsky DHI', 'Clearsky DNI', 'Clearsky GHI', 'Cloud Type', 'Dew Point', 'Fill Flag', 'Relative Humidity', 'Solar Zenith Angle', 'Surface Albedo', 'Pressure', 'Precipitable Water', 'Wind Direction', 'Wind Speed'] </b> </u>\n",
        "\n"
      ]
    },
    {
      "cell_type": "code",
      "execution_count": null,
      "id": "dfba1bcd",
      "metadata": {
        "id": "dfba1bcd"
      },
      "outputs": [],
      "source": [
        "from sklearn.datasets import load_iris\n",
        "from sklearn.model_selection import train_test_split\n",
        "from sklearn.preprocessing import StandardScaler\n",
        "from sklearn.decomposition import PCA\n",
        "from sklearn.pipeline import Pipeline\n",
        "from sklearn.linear_model import LogisticRegression\n",
        "from sklearn.tree import DecisionTreeClassifier\n",
        "from sklearn.ensemble import RandomForestClassifier"
      ]
    },
    {
      "cell_type": "code",
      "execution_count": null,
      "id": "60171340",
      "metadata": {
        "id": "60171340"
      },
      "outputs": [],
      "source": [
        "# Suppressing Warnings\n",
        "import warnings\n",
        "warnings.filterwarnings('ignore')"
      ]
    },
    {
      "cell_type": "code",
      "execution_count": null,
      "id": "1ffbe379",
      "metadata": {
        "id": "1ffbe379"
      },
      "outputs": [],
      "source": [
        "# Importing Pandas and NumPy\n",
        "import pandas as pd, numpy as np"
      ]
    },
    {
      "cell_type": "code",
      "execution_count": null,
      "id": "3d8928ec",
      "metadata": {
        "id": "3d8928ec",
        "colab": {
          "base_uri": "https://localhost:8080/",
          "height": 274
        },
        "outputId": "2c317e0c-9b8b-45a2-be2e-03270ba63e6a"
      },
      "outputs": [
        {
          "output_type": "execute_result",
          "data": {
            "text/html": [
              "\n",
              "  <div id=\"df-cb2a7840-b8a5-47f1-8171-7e9b4f77af2c\">\n",
              "    <div class=\"colab-df-container\">\n",
              "      <div>\n",
              "<style scoped>\n",
              "    .dataframe tbody tr th:only-of-type {\n",
              "        vertical-align: middle;\n",
              "    }\n",
              "\n",
              "    .dataframe tbody tr th {\n",
              "        vertical-align: top;\n",
              "    }\n",
              "\n",
              "    .dataframe thead th {\n",
              "        text-align: right;\n",
              "    }\n",
              "</style>\n",
              "<table border=\"1\" class=\"dataframe\">\n",
              "  <thead>\n",
              "    <tr style=\"text-align: right;\">\n",
              "      <th></th>\n",
              "      <th>Year</th>\n",
              "      <th>Month</th>\n",
              "      <th>Day</th>\n",
              "      <th>Hour</th>\n",
              "      <th>Minute</th>\n",
              "      <th>Clearsky DHI</th>\n",
              "      <th>Clearsky DNI</th>\n",
              "      <th>Clearsky GHI</th>\n",
              "      <th>Cloud Type</th>\n",
              "      <th>Dew Point</th>\n",
              "      <th>Temperature</th>\n",
              "      <th>Pressure</th>\n",
              "      <th>Relative Humidity</th>\n",
              "      <th>Solar Zenith Angle</th>\n",
              "      <th>Precipitable Water</th>\n",
              "      <th>Wind Direction</th>\n",
              "      <th>Wind Speed</th>\n",
              "      <th>Fill Flag</th>\n",
              "    </tr>\n",
              "  </thead>\n",
              "  <tbody>\n",
              "    <tr>\n",
              "      <th>0</th>\n",
              "      <td>2009</td>\n",
              "      <td>1</td>\n",
              "      <td>1</td>\n",
              "      <td>0</td>\n",
              "      <td>0</td>\n",
              "      <td>0</td>\n",
              "      <td>0</td>\n",
              "      <td>0</td>\n",
              "      <td>0</td>\n",
              "      <td>0.0</td>\n",
              "      <td>5.0</td>\n",
              "      <td>1010</td>\n",
              "      <td>75.34</td>\n",
              "      <td>106.15</td>\n",
              "      <td>0.499</td>\n",
              "      <td>346.1</td>\n",
              "      <td>3.1</td>\n",
              "      <td>0</td>\n",
              "    </tr>\n",
              "    <tr>\n",
              "      <th>1</th>\n",
              "      <td>2009</td>\n",
              "      <td>1</td>\n",
              "      <td>1</td>\n",
              "      <td>0</td>\n",
              "      <td>30</td>\n",
              "      <td>0</td>\n",
              "      <td>0</td>\n",
              "      <td>0</td>\n",
              "      <td>0</td>\n",
              "      <td>1.0</td>\n",
              "      <td>5.0</td>\n",
              "      <td>1010</td>\n",
              "      <td>80.81</td>\n",
              "      <td>112.28</td>\n",
              "      <td>0.490</td>\n",
              "      <td>346.1</td>\n",
              "      <td>3.1</td>\n",
              "      <td>0</td>\n",
              "    </tr>\n",
              "    <tr>\n",
              "      <th>2</th>\n",
              "      <td>2009</td>\n",
              "      <td>1</td>\n",
              "      <td>1</td>\n",
              "      <td>1</td>\n",
              "      <td>0</td>\n",
              "      <td>0</td>\n",
              "      <td>0</td>\n",
              "      <td>0</td>\n",
              "      <td>4</td>\n",
              "      <td>0.0</td>\n",
              "      <td>5.0</td>\n",
              "      <td>1010</td>\n",
              "      <td>78.27</td>\n",
              "      <td>118.50</td>\n",
              "      <td>0.482</td>\n",
              "      <td>347.9</td>\n",
              "      <td>3.2</td>\n",
              "      <td>0</td>\n",
              "    </tr>\n",
              "    <tr>\n",
              "      <th>3</th>\n",
              "      <td>2009</td>\n",
              "      <td>1</td>\n",
              "      <td>1</td>\n",
              "      <td>1</td>\n",
              "      <td>30</td>\n",
              "      <td>0</td>\n",
              "      <td>0</td>\n",
              "      <td>0</td>\n",
              "      <td>4</td>\n",
              "      <td>0.0</td>\n",
              "      <td>4.0</td>\n",
              "      <td>1010</td>\n",
              "      <td>78.27</td>\n",
              "      <td>124.78</td>\n",
              "      <td>0.478</td>\n",
              "      <td>347.9</td>\n",
              "      <td>3.1</td>\n",
              "      <td>0</td>\n",
              "    </tr>\n",
              "  </tbody>\n",
              "</table>\n",
              "</div>\n",
              "      <button class=\"colab-df-convert\" onclick=\"convertToInteractive('df-cb2a7840-b8a5-47f1-8171-7e9b4f77af2c')\"\n",
              "              title=\"Convert this dataframe to an interactive table.\"\n",
              "              style=\"display:none;\">\n",
              "        \n",
              "  <svg xmlns=\"http://www.w3.org/2000/svg\" height=\"24px\"viewBox=\"0 0 24 24\"\n",
              "       width=\"24px\">\n",
              "    <path d=\"M0 0h24v24H0V0z\" fill=\"none\"/>\n",
              "    <path d=\"M18.56 5.44l.94 2.06.94-2.06 2.06-.94-2.06-.94-.94-2.06-.94 2.06-2.06.94zm-11 1L8.5 8.5l.94-2.06 2.06-.94-2.06-.94L8.5 2.5l-.94 2.06-2.06.94zm10 10l.94 2.06.94-2.06 2.06-.94-2.06-.94-.94-2.06-.94 2.06-2.06.94z\"/><path d=\"M17.41 7.96l-1.37-1.37c-.4-.4-.92-.59-1.43-.59-.52 0-1.04.2-1.43.59L10.3 9.45l-7.72 7.72c-.78.78-.78 2.05 0 2.83L4 21.41c.39.39.9.59 1.41.59.51 0 1.02-.2 1.41-.59l7.78-7.78 2.81-2.81c.8-.78.8-2.07 0-2.86zM5.41 20L4 18.59l7.72-7.72 1.47 1.35L5.41 20z\"/>\n",
              "  </svg>\n",
              "      </button>\n",
              "      \n",
              "  <style>\n",
              "    .colab-df-container {\n",
              "      display:flex;\n",
              "      flex-wrap:wrap;\n",
              "      gap: 12px;\n",
              "    }\n",
              "\n",
              "    .colab-df-convert {\n",
              "      background-color: #E8F0FE;\n",
              "      border: none;\n",
              "      border-radius: 50%;\n",
              "      cursor: pointer;\n",
              "      display: none;\n",
              "      fill: #1967D2;\n",
              "      height: 32px;\n",
              "      padding: 0 0 0 0;\n",
              "      width: 32px;\n",
              "    }\n",
              "\n",
              "    .colab-df-convert:hover {\n",
              "      background-color: #E2EBFA;\n",
              "      box-shadow: 0px 1px 2px rgba(60, 64, 67, 0.3), 0px 1px 3px 1px rgba(60, 64, 67, 0.15);\n",
              "      fill: #174EA6;\n",
              "    }\n",
              "\n",
              "    [theme=dark] .colab-df-convert {\n",
              "      background-color: #3B4455;\n",
              "      fill: #D2E3FC;\n",
              "    }\n",
              "\n",
              "    [theme=dark] .colab-df-convert:hover {\n",
              "      background-color: #434B5C;\n",
              "      box-shadow: 0px 1px 3px 1px rgba(0, 0, 0, 0.15);\n",
              "      filter: drop-shadow(0px 1px 2px rgba(0, 0, 0, 0.3));\n",
              "      fill: #FFFFFF;\n",
              "    }\n",
              "  </style>\n",
              "\n",
              "      <script>\n",
              "        const buttonEl =\n",
              "          document.querySelector('#df-cb2a7840-b8a5-47f1-8171-7e9b4f77af2c button.colab-df-convert');\n",
              "        buttonEl.style.display =\n",
              "          google.colab.kernel.accessAllowed ? 'block' : 'none';\n",
              "\n",
              "        async function convertToInteractive(key) {\n",
              "          const element = document.querySelector('#df-cb2a7840-b8a5-47f1-8171-7e9b4f77af2c');\n",
              "          const dataTable =\n",
              "            await google.colab.kernel.invokeFunction('convertToInteractive',\n",
              "                                                     [key], {});\n",
              "          if (!dataTable) return;\n",
              "\n",
              "          const docLinkHtml = 'Like what you see? Visit the ' +\n",
              "            '<a target=\"_blank\" href=https://colab.research.google.com/notebooks/data_table.ipynb>data table notebook</a>'\n",
              "            + ' to learn more about interactive tables.';\n",
              "          element.innerHTML = '';\n",
              "          dataTable['output_type'] = 'display_data';\n",
              "          await google.colab.output.renderOutput(dataTable, element);\n",
              "          const docLink = document.createElement('div');\n",
              "          docLink.innerHTML = docLinkHtml;\n",
              "          element.appendChild(docLink);\n",
              "        }\n",
              "      </script>\n",
              "    </div>\n",
              "  </div>\n",
              "  "
            ],
            "text/plain": [
              "   Year  Month  Day  ...  Wind Direction  Wind Speed  Fill Flag\n",
              "0  2009      1    1  ...           346.1         3.1          0\n",
              "1  2009      1    1  ...           346.1         3.1          0\n",
              "2  2009      1    1  ...           347.9         3.2          0\n",
              "3  2009      1    1  ...           347.9         3.1          0\n",
              "\n",
              "[4 rows x 18 columns]"
            ]
          },
          "metadata": {},
          "execution_count": 75
        }
      ],
      "source": [
        "# Importing all datasets\n",
        "train = pd.read_csv(\"/content/train.csv\")\n",
        "train.head(4)"
      ]
    },
    {
      "cell_type": "code",
      "execution_count": null,
      "id": "36dd1168",
      "metadata": {
        "id": "36dd1168",
        "colab": {
          "base_uri": "https://localhost:8080/",
          "height": 274
        },
        "outputId": "dfd47981-abe6-4eb6-843b-030cd7e1e8d9"
      },
      "outputs": [
        {
          "output_type": "execute_result",
          "data": {
            "text/html": [
              "\n",
              "  <div id=\"df-6ca2509f-96b4-44b8-a1b2-4ed2e4964029\">\n",
              "    <div class=\"colab-df-container\">\n",
              "      <div>\n",
              "<style scoped>\n",
              "    .dataframe tbody tr th:only-of-type {\n",
              "        vertical-align: middle;\n",
              "    }\n",
              "\n",
              "    .dataframe tbody tr th {\n",
              "        vertical-align: top;\n",
              "    }\n",
              "\n",
              "    .dataframe thead th {\n",
              "        text-align: right;\n",
              "    }\n",
              "</style>\n",
              "<table border=\"1\" class=\"dataframe\">\n",
              "  <thead>\n",
              "    <tr style=\"text-align: right;\">\n",
              "      <th></th>\n",
              "      <th>Year</th>\n",
              "      <th>Month</th>\n",
              "      <th>Day</th>\n",
              "      <th>Hour</th>\n",
              "      <th>Minute</th>\n",
              "      <th>Cloud Type</th>\n",
              "      <th>Dew Point</th>\n",
              "      <th>Temperature</th>\n",
              "      <th>Pressure</th>\n",
              "      <th>Relative Humidity</th>\n",
              "      <th>Solar Zenith Angle</th>\n",
              "      <th>Precipitable Water</th>\n",
              "      <th>Wind Direction</th>\n",
              "      <th>Wind Speed</th>\n",
              "      <th>Fill Flag</th>\n",
              "      <th>Clearsky DHI</th>\n",
              "      <th>Clearsky DNI</th>\n",
              "      <th>Clearsky GHI</th>\n",
              "    </tr>\n",
              "  </thead>\n",
              "  <tbody>\n",
              "    <tr>\n",
              "      <th>0</th>\n",
              "      <td>2019</td>\n",
              "      <td>1</td>\n",
              "      <td>1</td>\n",
              "      <td>0</td>\n",
              "      <td>0</td>\n",
              "      <td>7</td>\n",
              "      <td>18.4</td>\n",
              "      <td>18.8</td>\n",
              "      <td>1008</td>\n",
              "      <td>97.70</td>\n",
              "      <td>106.23</td>\n",
              "      <td>3.5</td>\n",
              "      <td>190</td>\n",
              "      <td>2.3</td>\n",
              "      <td>0</td>\n",
              "      <td>NaN</td>\n",
              "      <td>NaN</td>\n",
              "      <td>NaN</td>\n",
              "    </tr>\n",
              "    <tr>\n",
              "      <th>1</th>\n",
              "      <td>2019</td>\n",
              "      <td>1</td>\n",
              "      <td>1</td>\n",
              "      <td>0</td>\n",
              "      <td>30</td>\n",
              "      <td>3</td>\n",
              "      <td>18.4</td>\n",
              "      <td>18.6</td>\n",
              "      <td>1008</td>\n",
              "      <td>98.92</td>\n",
              "      <td>112.36</td>\n",
              "      <td>3.5</td>\n",
              "      <td>187</td>\n",
              "      <td>2.5</td>\n",
              "      <td>0</td>\n",
              "      <td>NaN</td>\n",
              "      <td>NaN</td>\n",
              "      <td>NaN</td>\n",
              "    </tr>\n",
              "    <tr>\n",
              "      <th>2</th>\n",
              "      <td>2019</td>\n",
              "      <td>1</td>\n",
              "      <td>1</td>\n",
              "      <td>1</td>\n",
              "      <td>0</td>\n",
              "      <td>3</td>\n",
              "      <td>18.2</td>\n",
              "      <td>18.5</td>\n",
              "      <td>1008</td>\n",
              "      <td>98.35</td>\n",
              "      <td>118.58</td>\n",
              "      <td>3.5</td>\n",
              "      <td>184</td>\n",
              "      <td>2.8</td>\n",
              "      <td>0</td>\n",
              "      <td>NaN</td>\n",
              "      <td>NaN</td>\n",
              "      <td>NaN</td>\n",
              "    </tr>\n",
              "    <tr>\n",
              "      <th>3</th>\n",
              "      <td>2019</td>\n",
              "      <td>1</td>\n",
              "      <td>1</td>\n",
              "      <td>1</td>\n",
              "      <td>30</td>\n",
              "      <td>3</td>\n",
              "      <td>18.2</td>\n",
              "      <td>18.3</td>\n",
              "      <td>1008</td>\n",
              "      <td>99.58</td>\n",
              "      <td>124.86</td>\n",
              "      <td>3.5</td>\n",
              "      <td>185</td>\n",
              "      <td>3.0</td>\n",
              "      <td>0</td>\n",
              "      <td>NaN</td>\n",
              "      <td>NaN</td>\n",
              "      <td>NaN</td>\n",
              "    </tr>\n",
              "  </tbody>\n",
              "</table>\n",
              "</div>\n",
              "      <button class=\"colab-df-convert\" onclick=\"convertToInteractive('df-6ca2509f-96b4-44b8-a1b2-4ed2e4964029')\"\n",
              "              title=\"Convert this dataframe to an interactive table.\"\n",
              "              style=\"display:none;\">\n",
              "        \n",
              "  <svg xmlns=\"http://www.w3.org/2000/svg\" height=\"24px\"viewBox=\"0 0 24 24\"\n",
              "       width=\"24px\">\n",
              "    <path d=\"M0 0h24v24H0V0z\" fill=\"none\"/>\n",
              "    <path d=\"M18.56 5.44l.94 2.06.94-2.06 2.06-.94-2.06-.94-.94-2.06-.94 2.06-2.06.94zm-11 1L8.5 8.5l.94-2.06 2.06-.94-2.06-.94L8.5 2.5l-.94 2.06-2.06.94zm10 10l.94 2.06.94-2.06 2.06-.94-2.06-.94-.94-2.06-.94 2.06-2.06.94z\"/><path d=\"M17.41 7.96l-1.37-1.37c-.4-.4-.92-.59-1.43-.59-.52 0-1.04.2-1.43.59L10.3 9.45l-7.72 7.72c-.78.78-.78 2.05 0 2.83L4 21.41c.39.39.9.59 1.41.59.51 0 1.02-.2 1.41-.59l7.78-7.78 2.81-2.81c.8-.78.8-2.07 0-2.86zM5.41 20L4 18.59l7.72-7.72 1.47 1.35L5.41 20z\"/>\n",
              "  </svg>\n",
              "      </button>\n",
              "      \n",
              "  <style>\n",
              "    .colab-df-container {\n",
              "      display:flex;\n",
              "      flex-wrap:wrap;\n",
              "      gap: 12px;\n",
              "    }\n",
              "\n",
              "    .colab-df-convert {\n",
              "      background-color: #E8F0FE;\n",
              "      border: none;\n",
              "      border-radius: 50%;\n",
              "      cursor: pointer;\n",
              "      display: none;\n",
              "      fill: #1967D2;\n",
              "      height: 32px;\n",
              "      padding: 0 0 0 0;\n",
              "      width: 32px;\n",
              "    }\n",
              "\n",
              "    .colab-df-convert:hover {\n",
              "      background-color: #E2EBFA;\n",
              "      box-shadow: 0px 1px 2px rgba(60, 64, 67, 0.3), 0px 1px 3px 1px rgba(60, 64, 67, 0.15);\n",
              "      fill: #174EA6;\n",
              "    }\n",
              "\n",
              "    [theme=dark] .colab-df-convert {\n",
              "      background-color: #3B4455;\n",
              "      fill: #D2E3FC;\n",
              "    }\n",
              "\n",
              "    [theme=dark] .colab-df-convert:hover {\n",
              "      background-color: #434B5C;\n",
              "      box-shadow: 0px 1px 3px 1px rgba(0, 0, 0, 0.15);\n",
              "      filter: drop-shadow(0px 1px 2px rgba(0, 0, 0, 0.3));\n",
              "      fill: #FFFFFF;\n",
              "    }\n",
              "  </style>\n",
              "\n",
              "      <script>\n",
              "        const buttonEl =\n",
              "          document.querySelector('#df-6ca2509f-96b4-44b8-a1b2-4ed2e4964029 button.colab-df-convert');\n",
              "        buttonEl.style.display =\n",
              "          google.colab.kernel.accessAllowed ? 'block' : 'none';\n",
              "\n",
              "        async function convertToInteractive(key) {\n",
              "          const element = document.querySelector('#df-6ca2509f-96b4-44b8-a1b2-4ed2e4964029');\n",
              "          const dataTable =\n",
              "            await google.colab.kernel.invokeFunction('convertToInteractive',\n",
              "                                                     [key], {});\n",
              "          if (!dataTable) return;\n",
              "\n",
              "          const docLinkHtml = 'Like what you see? Visit the ' +\n",
              "            '<a target=\"_blank\" href=https://colab.research.google.com/notebooks/data_table.ipynb>data table notebook</a>'\n",
              "            + ' to learn more about interactive tables.';\n",
              "          element.innerHTML = '';\n",
              "          dataTable['output_type'] = 'display_data';\n",
              "          await google.colab.output.renderOutput(dataTable, element);\n",
              "          const docLink = document.createElement('div');\n",
              "          docLink.innerHTML = docLinkHtml;\n",
              "          element.appendChild(docLink);\n",
              "        }\n",
              "      </script>\n",
              "    </div>\n",
              "  </div>\n",
              "  "
            ],
            "text/plain": [
              "   Year  Month  Day  Hour  ...  Fill Flag  Clearsky DHI  Clearsky DNI  Clearsky GHI\n",
              "0  2019      1    1     0  ...          0           NaN           NaN           NaN\n",
              "1  2019      1    1     0  ...          0           NaN           NaN           NaN\n",
              "2  2019      1    1     1  ...          0           NaN           NaN           NaN\n",
              "3  2019      1    1     1  ...          0           NaN           NaN           NaN\n",
              "\n",
              "[4 rows x 18 columns]"
            ]
          },
          "metadata": {},
          "execution_count": 76
        }
      ],
      "source": [
        "# Importing all datasets\n",
        "test = pd.read_csv(\"/content/test.csv\")\n",
        "test.head(4)"
      ]
    },
    {
      "cell_type": "code",
      "execution_count": null,
      "id": "e6c5ecf8",
      "metadata": {
        "id": "e6c5ecf8"
      },
      "outputs": [],
      "source": [
        "test['Clearsky DHI'] = 0"
      ]
    },
    {
      "cell_type": "code",
      "execution_count": null,
      "id": "9a3aa050",
      "metadata": {
        "id": "9a3aa050"
      },
      "outputs": [],
      "source": [
        "test['Clearsky DNI'] = 0"
      ]
    },
    {
      "cell_type": "code",
      "execution_count": null,
      "id": "b893a466",
      "metadata": {
        "id": "b893a466"
      },
      "outputs": [],
      "source": [
        "test['Clearsky GHI'] = 0"
      ]
    },
    {
      "cell_type": "code",
      "execution_count": null,
      "id": "d9512e07",
      "metadata": {
        "id": "d9512e07",
        "colab": {
          "base_uri": "https://localhost:8080/",
          "height": 274
        },
        "outputId": "2d2f2f1b-d8b5-4f76-b4aa-e625d5edb51a"
      },
      "outputs": [
        {
          "output_type": "execute_result",
          "data": {
            "text/html": [
              "\n",
              "  <div id=\"df-7d6cf77b-664c-47a1-9258-8e4354a021f5\">\n",
              "    <div class=\"colab-df-container\">\n",
              "      <div>\n",
              "<style scoped>\n",
              "    .dataframe tbody tr th:only-of-type {\n",
              "        vertical-align: middle;\n",
              "    }\n",
              "\n",
              "    .dataframe tbody tr th {\n",
              "        vertical-align: top;\n",
              "    }\n",
              "\n",
              "    .dataframe thead th {\n",
              "        text-align: right;\n",
              "    }\n",
              "</style>\n",
              "<table border=\"1\" class=\"dataframe\">\n",
              "  <thead>\n",
              "    <tr style=\"text-align: right;\">\n",
              "      <th></th>\n",
              "      <th>Year</th>\n",
              "      <th>Month</th>\n",
              "      <th>Day</th>\n",
              "      <th>Hour</th>\n",
              "      <th>Minute</th>\n",
              "      <th>Cloud Type</th>\n",
              "      <th>Dew Point</th>\n",
              "      <th>Temperature</th>\n",
              "      <th>Pressure</th>\n",
              "      <th>Relative Humidity</th>\n",
              "      <th>Solar Zenith Angle</th>\n",
              "      <th>Precipitable Water</th>\n",
              "      <th>Wind Direction</th>\n",
              "      <th>Wind Speed</th>\n",
              "      <th>Fill Flag</th>\n",
              "      <th>Clearsky DHI</th>\n",
              "      <th>Clearsky DNI</th>\n",
              "      <th>Clearsky GHI</th>\n",
              "    </tr>\n",
              "  </thead>\n",
              "  <tbody>\n",
              "    <tr>\n",
              "      <th>0</th>\n",
              "      <td>2019</td>\n",
              "      <td>1</td>\n",
              "      <td>1</td>\n",
              "      <td>0</td>\n",
              "      <td>0</td>\n",
              "      <td>7</td>\n",
              "      <td>18.4</td>\n",
              "      <td>18.8</td>\n",
              "      <td>1008</td>\n",
              "      <td>97.70</td>\n",
              "      <td>106.23</td>\n",
              "      <td>3.5</td>\n",
              "      <td>190</td>\n",
              "      <td>2.3</td>\n",
              "      <td>0</td>\n",
              "      <td>0</td>\n",
              "      <td>0</td>\n",
              "      <td>0</td>\n",
              "    </tr>\n",
              "    <tr>\n",
              "      <th>1</th>\n",
              "      <td>2019</td>\n",
              "      <td>1</td>\n",
              "      <td>1</td>\n",
              "      <td>0</td>\n",
              "      <td>30</td>\n",
              "      <td>3</td>\n",
              "      <td>18.4</td>\n",
              "      <td>18.6</td>\n",
              "      <td>1008</td>\n",
              "      <td>98.92</td>\n",
              "      <td>112.36</td>\n",
              "      <td>3.5</td>\n",
              "      <td>187</td>\n",
              "      <td>2.5</td>\n",
              "      <td>0</td>\n",
              "      <td>0</td>\n",
              "      <td>0</td>\n",
              "      <td>0</td>\n",
              "    </tr>\n",
              "    <tr>\n",
              "      <th>2</th>\n",
              "      <td>2019</td>\n",
              "      <td>1</td>\n",
              "      <td>1</td>\n",
              "      <td>1</td>\n",
              "      <td>0</td>\n",
              "      <td>3</td>\n",
              "      <td>18.2</td>\n",
              "      <td>18.5</td>\n",
              "      <td>1008</td>\n",
              "      <td>98.35</td>\n",
              "      <td>118.58</td>\n",
              "      <td>3.5</td>\n",
              "      <td>184</td>\n",
              "      <td>2.8</td>\n",
              "      <td>0</td>\n",
              "      <td>0</td>\n",
              "      <td>0</td>\n",
              "      <td>0</td>\n",
              "    </tr>\n",
              "    <tr>\n",
              "      <th>3</th>\n",
              "      <td>2019</td>\n",
              "      <td>1</td>\n",
              "      <td>1</td>\n",
              "      <td>1</td>\n",
              "      <td>30</td>\n",
              "      <td>3</td>\n",
              "      <td>18.2</td>\n",
              "      <td>18.3</td>\n",
              "      <td>1008</td>\n",
              "      <td>99.58</td>\n",
              "      <td>124.86</td>\n",
              "      <td>3.5</td>\n",
              "      <td>185</td>\n",
              "      <td>3.0</td>\n",
              "      <td>0</td>\n",
              "      <td>0</td>\n",
              "      <td>0</td>\n",
              "      <td>0</td>\n",
              "    </tr>\n",
              "  </tbody>\n",
              "</table>\n",
              "</div>\n",
              "      <button class=\"colab-df-convert\" onclick=\"convertToInteractive('df-7d6cf77b-664c-47a1-9258-8e4354a021f5')\"\n",
              "              title=\"Convert this dataframe to an interactive table.\"\n",
              "              style=\"display:none;\">\n",
              "        \n",
              "  <svg xmlns=\"http://www.w3.org/2000/svg\" height=\"24px\"viewBox=\"0 0 24 24\"\n",
              "       width=\"24px\">\n",
              "    <path d=\"M0 0h24v24H0V0z\" fill=\"none\"/>\n",
              "    <path d=\"M18.56 5.44l.94 2.06.94-2.06 2.06-.94-2.06-.94-.94-2.06-.94 2.06-2.06.94zm-11 1L8.5 8.5l.94-2.06 2.06-.94-2.06-.94L8.5 2.5l-.94 2.06-2.06.94zm10 10l.94 2.06.94-2.06 2.06-.94-2.06-.94-.94-2.06-.94 2.06-2.06.94z\"/><path d=\"M17.41 7.96l-1.37-1.37c-.4-.4-.92-.59-1.43-.59-.52 0-1.04.2-1.43.59L10.3 9.45l-7.72 7.72c-.78.78-.78 2.05 0 2.83L4 21.41c.39.39.9.59 1.41.59.51 0 1.02-.2 1.41-.59l7.78-7.78 2.81-2.81c.8-.78.8-2.07 0-2.86zM5.41 20L4 18.59l7.72-7.72 1.47 1.35L5.41 20z\"/>\n",
              "  </svg>\n",
              "      </button>\n",
              "      \n",
              "  <style>\n",
              "    .colab-df-container {\n",
              "      display:flex;\n",
              "      flex-wrap:wrap;\n",
              "      gap: 12px;\n",
              "    }\n",
              "\n",
              "    .colab-df-convert {\n",
              "      background-color: #E8F0FE;\n",
              "      border: none;\n",
              "      border-radius: 50%;\n",
              "      cursor: pointer;\n",
              "      display: none;\n",
              "      fill: #1967D2;\n",
              "      height: 32px;\n",
              "      padding: 0 0 0 0;\n",
              "      width: 32px;\n",
              "    }\n",
              "\n",
              "    .colab-df-convert:hover {\n",
              "      background-color: #E2EBFA;\n",
              "      box-shadow: 0px 1px 2px rgba(60, 64, 67, 0.3), 0px 1px 3px 1px rgba(60, 64, 67, 0.15);\n",
              "      fill: #174EA6;\n",
              "    }\n",
              "\n",
              "    [theme=dark] .colab-df-convert {\n",
              "      background-color: #3B4455;\n",
              "      fill: #D2E3FC;\n",
              "    }\n",
              "\n",
              "    [theme=dark] .colab-df-convert:hover {\n",
              "      background-color: #434B5C;\n",
              "      box-shadow: 0px 1px 3px 1px rgba(0, 0, 0, 0.15);\n",
              "      filter: drop-shadow(0px 1px 2px rgba(0, 0, 0, 0.3));\n",
              "      fill: #FFFFFF;\n",
              "    }\n",
              "  </style>\n",
              "\n",
              "      <script>\n",
              "        const buttonEl =\n",
              "          document.querySelector('#df-7d6cf77b-664c-47a1-9258-8e4354a021f5 button.colab-df-convert');\n",
              "        buttonEl.style.display =\n",
              "          google.colab.kernel.accessAllowed ? 'block' : 'none';\n",
              "\n",
              "        async function convertToInteractive(key) {\n",
              "          const element = document.querySelector('#df-7d6cf77b-664c-47a1-9258-8e4354a021f5');\n",
              "          const dataTable =\n",
              "            await google.colab.kernel.invokeFunction('convertToInteractive',\n",
              "                                                     [key], {});\n",
              "          if (!dataTable) return;\n",
              "\n",
              "          const docLinkHtml = 'Like what you see? Visit the ' +\n",
              "            '<a target=\"_blank\" href=https://colab.research.google.com/notebooks/data_table.ipynb>data table notebook</a>'\n",
              "            + ' to learn more about interactive tables.';\n",
              "          element.innerHTML = '';\n",
              "          dataTable['output_type'] = 'display_data';\n",
              "          await google.colab.output.renderOutput(dataTable, element);\n",
              "          const docLink = document.createElement('div');\n",
              "          docLink.innerHTML = docLinkHtml;\n",
              "          element.appendChild(docLink);\n",
              "        }\n",
              "      </script>\n",
              "    </div>\n",
              "  </div>\n",
              "  "
            ],
            "text/plain": [
              "   Year  Month  Day  Hour  ...  Fill Flag  Clearsky DHI  Clearsky DNI  Clearsky GHI\n",
              "0  2019      1    1     0  ...          0             0             0             0\n",
              "1  2019      1    1     0  ...          0             0             0             0\n",
              "2  2019      1    1     1  ...          0             0             0             0\n",
              "3  2019      1    1     1  ...          0             0             0             0\n",
              "\n",
              "[4 rows x 18 columns]"
            ]
          },
          "metadata": {},
          "execution_count": 80
        }
      ],
      "source": [
        "test.head(4)"
      ]
    },
    {
      "cell_type": "markdown",
      "id": "9a6c5104",
      "metadata": {
        "id": "9a6c5104"
      },
      "source": [
        "### Checking the `missing` values "
      ]
    },
    {
      "cell_type": "code",
      "execution_count": null,
      "id": "44b1b9b7",
      "metadata": {
        "id": "44b1b9b7",
        "colab": {
          "base_uri": "https://localhost:8080/"
        },
        "outputId": "4d40c6c0-9809-43af-ed70-2dcaba16d175"
      },
      "outputs": [
        {
          "output_type": "execute_result",
          "data": {
            "text/plain": [
              "Year                  0\n",
              "Month                 0\n",
              "Day                   0\n",
              "Hour                  0\n",
              "Minute                0\n",
              "Cloud Type            0\n",
              "Dew Point             0\n",
              "Temperature           0\n",
              "Pressure              0\n",
              "Relative Humidity     0\n",
              "Solar Zenith Angle    0\n",
              "Precipitable Water    0\n",
              "Wind Direction        0\n",
              "Wind Speed            0\n",
              "Fill Flag             0\n",
              "Clearsky DHI          0\n",
              "Clearsky DNI          0\n",
              "Clearsky GHI          0\n",
              "dtype: int64"
            ]
          },
          "metadata": {},
          "execution_count": 81
        }
      ],
      "source": [
        "test.isnull().sum()"
      ]
    },
    {
      "cell_type": "code",
      "execution_count": null,
      "id": "2822d6f1",
      "metadata": {
        "id": "2822d6f1",
        "colab": {
          "base_uri": "https://localhost:8080/"
        },
        "outputId": "97b5dab9-ad90-4b58-9722-3613dca642b0"
      },
      "outputs": [
        {
          "output_type": "execute_result",
          "data": {
            "text/plain": [
              "Year                  0\n",
              "Month                 0\n",
              "Day                   0\n",
              "Hour                  0\n",
              "Minute                0\n",
              "Clearsky DHI          0\n",
              "Clearsky DNI          0\n",
              "Clearsky GHI          0\n",
              "Cloud Type            0\n",
              "Dew Point             0\n",
              "Temperature           0\n",
              "Pressure              0\n",
              "Relative Humidity     0\n",
              "Solar Zenith Angle    0\n",
              "Precipitable Water    0\n",
              "Wind Direction        0\n",
              "Wind Speed            0\n",
              "Fill Flag             0\n",
              "dtype: int64"
            ]
          },
          "metadata": {},
          "execution_count": 82
        }
      ],
      "source": [
        "train.isnull().sum()"
      ]
    },
    {
      "cell_type": "code",
      "execution_count": null,
      "id": "2645aca0",
      "metadata": {
        "id": "2645aca0"
      },
      "outputs": [],
      "source": [
        "import seaborn as sns"
      ]
    },
    {
      "cell_type": "code",
      "execution_count": null,
      "id": "898ebc1b",
      "metadata": {
        "id": "898ebc1b",
        "colab": {
          "base_uri": "https://localhost:8080/",
          "height": 296
        },
        "outputId": "bfcb6d22-dea2-44f6-e1b0-c4b7cef29b7b"
      },
      "outputs": [
        {
          "output_type": "execute_result",
          "data": {
            "text/plain": [
              "<matplotlib.axes._subplots.AxesSubplot at 0x7f517e22ac10>"
            ]
          },
          "metadata": {},
          "execution_count": 84
        },
        {
          "output_type": "display_data",
          "data": {
            "image/png": "[encoded data removed]",
            "text/plain": [
              "<Figure size 432x288 with 1 Axes>"
            ]
          },
          "metadata": {
            "needs_background": "light"
          }
        }
      ],
      "source": [
        "sns.distplot(train['Clearsky GHI'])"
      ]
    },
    {
      "cell_type": "markdown",
      "id": "64bcf93a",
      "metadata": {
        "id": "64bcf93a"
      },
      "source": [
        "## Feature Selection"
      ]
    },
    {
      "cell_type": "code",
      "execution_count": null,
      "id": "f46423e6",
      "metadata": {
        "id": "f46423e6"
      },
      "outputs": [],
      "source": [
        "from sklearn.linear_model import Lasso\n",
        "\n",
        "from sklearn.feature_selection import SelectFromModel"
      ]
    },
    {
      "cell_type": "code",
      "execution_count": null,
      "id": "d28598fc",
      "metadata": {
        "id": "d28598fc"
      },
      "outputs": [],
      "source": [
        "X_train = train.drop(['Clearsky DHI','Clearsky DNI','Clearsky GHI'],axis=1)"
      ]
    },
    {
      "cell_type": "code",
      "execution_count": null,
      "id": "fae0a8a7",
      "metadata": {
        "id": "fae0a8a7"
      },
      "outputs": [],
      "source": [
        "y_train = train[[\"Clearsky DHI\",\"Clearsky DNI\",\"Clearsky GHI\"]]"
      ]
    },
    {
      "cell_type": "code",
      "execution_count": null,
      "id": "2de066bc",
      "metadata": {
        "id": "2de066bc"
      },
      "outputs": [],
      "source": [
        "X_test = test.drop(['Clearsky DHI','Clearsky DNI','Clearsky GHI'],axis=1)"
      ]
    },
    {
      "cell_type": "code",
      "execution_count": null,
      "id": "bba18201",
      "metadata": {
        "id": "bba18201"
      },
      "outputs": [],
      "source": [
        "y_test = test[[\"Clearsky DHI\",\"Clearsky DNI\",\"Clearsky GHI\"]]"
      ]
    },
    {
      "cell_type": "code",
      "execution_count": null,
      "id": "95232640",
      "metadata": {
        "id": "95232640"
      },
      "outputs": [],
      "source": [
        "model = SelectFromModel(Lasso(alpha=0.005,random_state=0))"
      ]
    },
    {
      "cell_type": "code",
      "execution_count": null,
      "id": "6a7f36f8",
      "metadata": {
        "colab": {
          "base_uri": "https://localhost:8080/"
        },
        "id": "6a7f36f8",
        "outputId": "01222053-def9-4409-eb63-6990042f7ff7"
      },
      "outputs": [
        {
          "output_type": "execute_result",
          "data": {
            "text/plain": [
              "SelectFromModel(estimator=Lasso(alpha=0.005, random_state=0))"
            ]
          },
          "metadata": {},
          "execution_count": 91
        }
      ],
      "source": [
        "model.fit(X_train,y_train)"
      ]
    },
    {
      "cell_type": "code",
      "execution_count": null,
      "id": "4e84999e",
      "metadata": {
        "colab": {
          "base_uri": "https://localhost:8080/"
        },
        "id": "4e84999e",
        "outputId": "11517c78-b959-42a1-d677-fa5863cd94b9"
      },
      "outputs": [
        {
          "output_type": "execute_result",
          "data": {
            "text/plain": [
              "array([ True,  True,  True,  True,  True,  True,  True,  True,  True,\n",
              "        True,  True,  True,  True,  True,  True])"
            ]
          },
          "metadata": {},
          "execution_count": 92
        }
      ],
      "source": [
        "model.get_support()"
      ]
    },
    {
      "cell_type": "code",
      "execution_count": null,
      "id": "820e7ea8",
      "metadata": {
        "id": "820e7ea8"
      },
      "outputs": [],
      "source": [
        "selected_features = X_train.columns[(model.get_support())]"
      ]
    },
    {
      "cell_type": "code",
      "execution_count": null,
      "id": "da2ee44e",
      "metadata": {
        "colab": {
          "base_uri": "https://localhost:8080/"
        },
        "id": "da2ee44e",
        "outputId": "d9b2e1b6-bd0c-4778-dec2-37da37b26588"
      },
      "outputs": [
        {
          "output_type": "execute_result",
          "data": {
            "text/plain": [
              "Index(['Year', 'Month', 'Day', 'Hour', 'Minute', 'Cloud Type', 'Dew Point',\n",
              "       'Temperature', 'Pressure', 'Relative Humidity', 'Solar Zenith Angle',\n",
              "       'Precipitable Water', 'Wind Direction', 'Wind Speed', 'Fill Flag'],\n",
              "      dtype='object')"
            ]
          },
          "metadata": {},
          "execution_count": 94
        }
      ],
      "source": [
        "selected_features"
      ]
    },
    {
      "cell_type": "markdown",
      "id": "53736aab",
      "metadata": {
        "id": "53736aab"
      },
      "source": [
        "## Linear Regression"
      ]
    },
    {
      "cell_type": "code",
      "execution_count": null,
      "id": "ec2a0019",
      "metadata": {
        "id": "ec2a0019"
      },
      "outputs": [],
      "source": [
        "from sklearn.linear_model import LinearRegression"
      ]
    },
    {
      "cell_type": "code",
      "execution_count": null,
      "id": "f1de54c0",
      "metadata": {
        "id": "f1de54c0"
      },
      "outputs": [],
      "source": [
        "le_reg = LinearRegression()"
      ]
    },
    {
      "cell_type": "code",
      "execution_count": null,
      "id": "d808c45c",
      "metadata": {
        "colab": {
          "base_uri": "https://localhost:8080/"
        },
        "id": "d808c45c",
        "outputId": "3e1b7b95-4e73-45fc-94e9-9491bbb199e9"
      },
      "outputs": [
        {
          "output_type": "execute_result",
          "data": {
            "text/plain": [
              "LinearRegression()"
            ]
          },
          "metadata": {},
          "execution_count": 97
        }
      ],
      "source": [
        "le_reg.fit(X_train,y_train)"
      ]
    },
    {
      "cell_type": "code",
      "execution_count": null,
      "id": "8cd204d1",
      "metadata": {
        "colab": {
          "base_uri": "https://localhost:8080/"
        },
        "id": "8cd204d1",
        "outputId": "cadeac8d-93f1-483d-b3a6-d082957a947a"
      },
      "outputs": [
        {
          "output_type": "execute_result",
          "data": {
            "text/plain": [
              "array([ 1429.26194411, -4441.28119549, -2410.75354253])"
            ]
          },
          "metadata": {},
          "execution_count": 98
        }
      ],
      "source": [
        "le_reg.intercept_"
      ]
    },
    {
      "cell_type": "code",
      "execution_count": null,
      "id": "65e0250b",
      "metadata": {
        "colab": {
          "base_uri": "https://localhost:8080/"
        },
        "id": "65e0250b",
        "outputId": "b1bd01f9-de81-4d98-8a2b-52753815d6b9"
      },
      "outputs": [
        {
          "output_type": "execute_result",
          "data": {
            "text/plain": [
              "array([[-7.61485090e-01, -9.43775124e-01, -3.37973909e-02,\n",
              "         1.17340264e+00,  6.21091597e-03,  7.67114588e-01,\n",
              "         2.71028379e-01,  8.35208712e-02,  2.46372328e-01,\n",
              "        -3.57802373e-01, -1.06308270e+00,  3.47254463e+00,\n",
              "         5.13608003e-03,  3.88221691e+00, -2.70741841e-01],\n",
              "       [ 1.43725240e+00,  1.39517726e+00,  1.01763709e-01,\n",
              "         7.99314177e+00,  8.21458539e-02,  1.84970063e+00,\n",
              "         7.64269419e+00, -5.11067317e+00,  2.64833040e+00,\n",
              "        -4.65112436e+00, -5.93451903e+00, -2.67836333e+01,\n",
              "         8.84628322e-03,  3.55323897e+01, -1.09174789e+00],\n",
              "       [ 7.09843108e-01, -2.59564330e+00,  9.32441343e-03,\n",
              "        -8.70916916e-01,  1.06267774e-01,  1.75370483e+00,\n",
              "        -8.19396428e+00,  1.05065248e+01,  1.73962672e+00,\n",
              "        -9.84874967e-01, -6.04011987e+00, -4.68107847e+00,\n",
              "         2.25765686e-02,  2.73781424e+01, -2.44690271e+00]])"
            ]
          },
          "metadata": {},
          "execution_count": 99
        }
      ],
      "source": [
        "le_reg.coef_"
      ]
    },
    {
      "cell_type": "code",
      "execution_count": null,
      "id": "0246e1c5",
      "metadata": {
        "colab": {
          "base_uri": "https://localhost:8080/"
        },
        "id": "0246e1c5",
        "outputId": "d3f1c330-b95f-482a-a621-722f73a98542"
      },
      "outputs": [
        {
          "output_type": "stream",
          "name": "stdout",
          "text": [
            "The coefficient of determination R^2 for train set is: 0.8225004345046001\n"
          ]
        }
      ],
      "source": [
        "print('The coefficient of determination R^2 for train set is: {}'.format(le_reg.score(X_train,y_train)))"
      ]
    },
    {
      "cell_type": "code",
      "execution_count": null,
      "id": "13eafefe",
      "metadata": {
        "colab": {
          "base_uri": "https://localhost:8080/"
        },
        "id": "13eafefe",
        "outputId": "4d0a27c5-abd2-4aca-8960-5e9b1592641d"
      },
      "outputs": [
        {
          "output_type": "stream",
          "name": "stdout",
          "text": [
            "The coefficient of determination R^2 for test set is: 0.0\n"
          ]
        }
      ],
      "source": [
        "print('The coefficient of determination R^2 for test set is: {}'.format(le_reg.score(X_test,y_test)))"
      ]
    },
    {
      "cell_type": "code",
      "execution_count": null,
      "id": "70b2beba",
      "metadata": {
        "id": "70b2beba"
      },
      "outputs": [],
      "source": [
        "from sklearn.model_selection import cross_val_score\n",
        "score = cross_val_score(le_reg,X_train,y_train,cv=5)"
      ]
    },
    {
      "cell_type": "code",
      "execution_count": null,
      "id": "7c116b4a",
      "metadata": {
        "colab": {
          "base_uri": "https://localhost:8080/"
        },
        "id": "7c116b4a",
        "outputId": "dc62b9af-b593-40f4-dbda-f0b3d5b94539"
      },
      "outputs": [
        {
          "output_type": "execute_result",
          "data": {
            "text/plain": [
              "0.664643048891186"
            ]
          },
          "metadata": {},
          "execution_count": 103
        }
      ],
      "source": [
        "score.mean()"
      ]
    },
    {
      "cell_type": "code",
      "execution_count": null,
      "id": "619a5f9d",
      "metadata": {
        "id": "619a5f9d"
      },
      "outputs": [],
      "source": [
        "y_pred = le_reg.predict(X_test)"
      ]
    },
    {
      "cell_type": "code",
      "execution_count": null,
      "id": "bd20606e",
      "metadata": {
        "colab": {
          "base_uri": "https://localhost:8080/",
          "height": 282
        },
        "id": "bd20606e",
        "outputId": "5eb9f19e-1e65-4495-95ce-aeff099647af"
      },
      "outputs": [
        {
          "output_type": "execute_result",
          "data": {
            "text/plain": [
              "<matplotlib.axes._subplots.AxesSubplot at 0x7f518012ded0>"
            ]
          },
          "metadata": {},
          "execution_count": 105
        },
        {
          "output_type": "display_data",
          "data": {
            "image/png": "[encoded data removed]",
            "text/plain": [
              "<Figure size 432x288 with 1 Axes>"
            ]
          },
          "metadata": {
            "needs_background": "light"
          }
        }
      ],
      "source": [
        "sns.distplot(y_test-y_pred)"
      ]
    },
    {
      "cell_type": "code",
      "execution_count": null,
      "id": "8e5a67eb",
      "metadata": {
        "colab": {
          "base_uri": "https://localhost:8080/",
          "height": 282
        },
        "id": "8e5a67eb",
        "outputId": "9eabf329-1668-4a9f-afa5-6ad001e386b3"
      },
      "outputs": [
        {
          "output_type": "execute_result",
          "data": {
            "text/plain": [
              "<matplotlib.collections.PathCollection at 0x7f517e0a7050>"
            ]
          },
          "metadata": {},
          "execution_count": 106
        },
        {
          "output_type": "display_data",
          "data": {
            "image/png": "[encoded data removed]",
            "text/plain": [
              "<Figure size 432x288 with 1 Axes>"
            ]
          },
          "metadata": {
            "needs_background": "light"
          }
        }
      ],
      "source": [
        "import matplotlib.pyplot as plt\n",
        "plt.scatter(y_test,y_pred)"
      ]
    },
    {
      "cell_type": "code",
      "execution_count": null,
      "id": "a664b45e",
      "metadata": {
        "id": "a664b45e"
      },
      "outputs": [],
      "source": [
        "from sklearn import metrics"
      ]
    },
    {
      "cell_type": "code",
      "execution_count": null,
      "id": "cc0c411e",
      "metadata": {
        "colab": {
          "base_uri": "https://localhost:8080/"
        },
        "id": "cc0c411e",
        "outputId": "622fb6f5-a41d-4b03-e54d-981b9cf70a12"
      },
      "outputs": [
        {
          "output_type": "stream",
          "name": "stdout",
          "text": [
            "MAE:  253.67335611044578\n",
            "MSE:  138162.16726561854\n",
            "RMSE:  15.927126423509225\n"
          ]
        }
      ],
      "source": [
        "print('MAE: ', metrics.mean_absolute_error(y_test,y_pred))\n",
        "print('MSE: ', metrics.mean_squared_error(y_test,y_pred))\n",
        "print('RMSE: ', np.sqrt(metrics.mean_absolute_error(y_test,y_pred)))"
      ]
    },
    {
      "cell_type": "markdown",
      "id": "8cc4e8ad",
      "metadata": {
        "id": "8cc4e8ad"
      },
      "source": [
        "## Ridge Regression"
      ]
    },
    {
      "cell_type": "code",
      "execution_count": null,
      "id": "2332cd38",
      "metadata": {
        "id": "2332cd38"
      },
      "outputs": [],
      "source": [
        "from sklearn.linear_model import Ridge\n",
        "from sklearn.model_selection import GridSearchCV\n",
        "ri_reg =Ridge()"
      ]
    },
    {
      "cell_type": "code",
      "execution_count": null,
      "id": "475dddf7",
      "metadata": {
        "id": "475dddf7"
      },
      "outputs": [],
      "source": [
        "parameters = {'alpha':[0.4,0.6,0.004,0.003,0.0004,0.07,3,0.005]}\n",
        "ri_model = GridSearchCV(estimator=ri_reg,param_grid=parameters,cv=5,scoring='neg_mean_squared_error')"
      ]
    },
    {
      "cell_type": "code",
      "execution_count": null,
      "id": "befb5ba8",
      "metadata": {
        "colab": {
          "base_uri": "https://localhost:8080/"
        },
        "id": "befb5ba8",
        "outputId": "2d5f5c99-0a03-4810-bf82-faacea348b22"
      },
      "outputs": [
        {
          "output_type": "execute_result",
          "data": {
            "text/plain": [
              "GridSearchCV(cv=5, estimator=Ridge(),\n",
              "             param_grid={'alpha': [0.4, 0.6, 0.004, 0.003, 0.0004, 0.07, 3,\n",
              "                                   0.005]},\n",
              "             scoring='neg_mean_squared_error')"
            ]
          },
          "metadata": {},
          "execution_count": 111
        }
      ],
      "source": [
        "ri_model.fit(X_train,y_train)"
      ]
    },
    {
      "cell_type": "code",
      "execution_count": null,
      "id": "ca17ec89",
      "metadata": {
        "colab": {
          "base_uri": "https://localhost:8080/"
        },
        "id": "ca17ec89",
        "outputId": "163e10b2-62db-4753-f1ce-8890f33d46e3"
      },
      "outputs": [
        {
          "output_type": "stream",
          "name": "stdout",
          "text": [
            "{'alpha': 3}\n",
            "-26866.406957790932\n"
          ]
        }
      ],
      "source": [
        "print(ri_model.best_params_)\n",
        "print(ri_model.best_score_)"
      ]
    },
    {
      "cell_type": "code",
      "execution_count": null,
      "id": "981e4d04",
      "metadata": {
        "colab": {
          "base_uri": "https://localhost:8080/"
        },
        "id": "981e4d04",
        "outputId": "5388312d-4b27-4d56-ebfe-93cbcb1eaf14"
      },
      "outputs": [
        {
          "output_type": "stream",
          "name": "stdout",
          "text": [
            "MSE for train set is: -13139.842897570088\n",
            "MSE for train set is: -138162.07314585295\n"
          ]
        }
      ],
      "source": [
        "print('MSE for train set is: {}'.format(ri_model.score(X_train,y_train)))\n",
        "print('MSE for train set is: {}'.format(ri_model.score(X_test,y_test)))"
      ]
    },
    {
      "cell_type": "code",
      "execution_count": null,
      "id": "59b6aa94",
      "metadata": {
        "id": "59b6aa94"
      },
      "outputs": [],
      "source": [
        "rid_pred = ri_model.predict(X_test)"
      ]
    },
    {
      "cell_type": "code",
      "execution_count": null,
      "id": "ff10d7a3",
      "metadata": {
        "colab": {
          "base_uri": "https://localhost:8080/",
          "height": 282
        },
        "id": "ff10d7a3",
        "outputId": "915324e8-30a0-44d6-d467-0a0490b43a81"
      },
      "outputs": [
        {
          "output_type": "execute_result",
          "data": {
            "text/plain": [
              "<matplotlib.axes._subplots.AxesSubplot at 0x7f517e0685d0>"
            ]
          },
          "metadata": {},
          "execution_count": 115
        },
        {
          "output_type": "display_data",
          "data": {
            "image/png": "[encoded data removed]",
            "text/plain": [
              "<Figure size 432x288 with 1 Axes>"
            ]
          },
          "metadata": {
            "needs_background": "light"
          }
        }
      ],
      "source": [
        "sns.distplot(y_test-rid_pred)"
      ]
    },
    {
      "cell_type": "code",
      "execution_count": null,
      "id": "b4e1d9a6",
      "metadata": {
        "colab": {
          "base_uri": "https://localhost:8080/",
          "height": 282
        },
        "id": "b4e1d9a6",
        "outputId": "c86540ca-569f-4d84-fad6-25e77cdf07d7"
      },
      "outputs": [
        {
          "output_type": "execute_result",
          "data": {
            "text/plain": [
              "<matplotlib.collections.PathCollection at 0x7f517df25350>"
            ]
          },
          "metadata": {},
          "execution_count": 116
        },
        {
          "output_type": "display_data",
          "data": {
            "image/png": "[encoded data removed]",
            "text/plain": [
              "<Figure size 432x288 with 1 Axes>"
            ]
          },
          "metadata": {
            "needs_background": "light"
          }
        }
      ],
      "source": [
        "plt.scatter(y_test,rid_pred)"
      ]
    },
    {
      "cell_type": "code",
      "execution_count": null,
      "id": "597ddd22",
      "metadata": {
        "colab": {
          "base_uri": "https://localhost:8080/"
        },
        "id": "597ddd22",
        "outputId": "f838a39f-a3e8-45e4-93d9-890e99a922b3"
      },
      "outputs": [
        {
          "output_type": "stream",
          "name": "stdout",
          "text": [
            "MAE:  253.67329675891497\n",
            "MSE:  138162.07314585295\n",
            "RMSE:  15.927124560287552\n"
          ]
        }
      ],
      "source": [
        "print('MAE: ', metrics.mean_absolute_error(y_test,rid_pred))\n",
        "print('MSE: ', metrics.mean_squared_error(y_test,rid_pred))\n",
        "print('RMSE: ', np.sqrt(metrics.mean_absolute_error(y_test,rid_pred)))"
      ]
    },
    {
      "cell_type": "markdown",
      "id": "3c81179f",
      "metadata": {
        "id": "3c81179f"
      },
      "source": [
        "## Lasso Regression"
      ]
    },
    {
      "cell_type": "code",
      "execution_count": null,
      "id": "b7276203",
      "metadata": {
        "id": "b7276203"
      },
      "outputs": [],
      "source": [
        "from sklearn.linear_model import Lasso\n",
        "from sklearn.model_selection import RandomizedSearchCV\n",
        "la_reg = Lasso()"
      ]
    },
    {
      "cell_type": "code",
      "execution_count": null,
      "id": "f1131667",
      "metadata": {
        "id": "f1131667"
      },
      "outputs": [],
      "source": [
        "para =  {'alpha' : [1e-15,1e-10,1e-8,1e-3,1e-2,1,5,10,20,30,35,40]}"
      ]
    },
    {
      "cell_type": "code",
      "execution_count": null,
      "id": "5f4080a3",
      "metadata": {
        "id": "5f4080a3"
      },
      "outputs": [],
      "source": [
        "las_model = RandomizedSearchCV(la_reg,para,cv=5,scoring='neg_mean_squared_error')"
      ]
    },
    {
      "cell_type": "code",
      "execution_count": null,
      "id": "00e1dae9",
      "metadata": {
        "colab": {
          "base_uri": "https://localhost:8080/"
        },
        "id": "00e1dae9",
        "outputId": "e964c216-2944-47ec-c798-9e94f3390e85"
      },
      "outputs": [
        {
          "output_type": "execute_result",
          "data": {
            "text/plain": [
              "RandomizedSearchCV(cv=5, estimator=Lasso(),\n",
              "                   param_distributions={'alpha': [1e-15, 1e-10, 1e-08, 0.001,\n",
              "                                                  0.01, 1, 5, 10, 20, 30, 35,\n",
              "                                                  40]},\n",
              "                   scoring='neg_mean_squared_error')"
            ]
          },
          "metadata": {},
          "execution_count": 121
        }
      ],
      "source": [
        "las_model.fit(X_train,y_train)"
      ]
    },
    {
      "cell_type": "code",
      "execution_count": null,
      "id": "39e79465",
      "metadata": {
        "colab": {
          "base_uri": "https://localhost:8080/"
        },
        "id": "39e79465",
        "outputId": "a7004873-0997-42bc-ce85-8342e92300e4"
      },
      "outputs": [
        {
          "output_type": "execute_result",
          "data": {
            "text/plain": [
              "({'alpha': 20}, -13781.451844796215)"
            ]
          },
          "metadata": {},
          "execution_count": 122
        }
      ],
      "source": [
        "las_model.best_params_ , las_model.best_score_"
      ]
    },
    {
      "cell_type": "code",
      "execution_count": null,
      "id": "2e22176c",
      "metadata": {
        "id": "2e22176c"
      },
      "outputs": [],
      "source": [
        "las_pred = las_model.predict(X_test)"
      ]
    },
    {
      "cell_type": "code",
      "execution_count": null,
      "id": "1bf7cc95",
      "metadata": {
        "colab": {
          "base_uri": "https://localhost:8080/",
          "height": 282
        },
        "id": "1bf7cc95",
        "outputId": "7e71d038-3355-458c-b9fa-73bdc6af3e0c"
      },
      "outputs": [
        {
          "output_type": "execute_result",
          "data": {
            "text/plain": [
              "<matplotlib.axes._subplots.AxesSubplot at 0x7f517deeff90>"
            ]
          },
          "metadata": {},
          "execution_count": 124
        },
        {
          "output_type": "display_data",
          "data": {
            "image/png": "[encoded data removed]",
            "text/plain": [
              "<Figure size 432x288 with 1 Axes>"
            ]
          },
          "metadata": {
            "needs_background": "light"
          }
        }
      ],
      "source": [
        "sns.distplot(y_test-las_pred)"
      ]
    },
    {
      "cell_type": "code",
      "execution_count": null,
      "id": "8435481b",
      "metadata": {
        "colab": {
          "base_uri": "https://localhost:8080/",
          "height": 282
        },
        "id": "8435481b",
        "outputId": "f21f2412-361b-4e42-b739-698c6d29bfdb"
      },
      "outputs": [
        {
          "output_type": "execute_result",
          "data": {
            "text/plain": [
              "<matplotlib.collections.PathCollection at 0x7f517dda3690>"
            ]
          },
          "metadata": {},
          "execution_count": 125
        },
        {
          "output_type": "display_data",
          "data": {
            "image/png": "[encoded data removed]",
            "text/plain": [
              "<Figure size 432x288 with 1 Axes>"
            ]
          },
          "metadata": {
            "needs_background": "light"
          }
        }
      ],
      "source": [
        "plt.scatter(y_test,las_pred)"
      ]
    },
    {
      "cell_type": "code",
      "execution_count": null,
      "id": "9f29aa38",
      "metadata": {
        "colab": {
          "base_uri": "https://localhost:8080/"
        },
        "id": "9f29aa38",
        "outputId": "702db9e8-af08-4015-c70b-47c23e59da56"
      },
      "outputs": [
        {
          "output_type": "stream",
          "name": "stdout",
          "text": [
            "MAE:  251.0703051793761\n",
            "MSE:  132349.20426166116\n",
            "RMSE:  15.845198174190694\n"
          ]
        }
      ],
      "source": [
        "print('MAE: ', metrics.mean_absolute_error(y_test,las_pred))\n",
        "print('MSE: ', metrics.mean_squared_error(y_test,las_pred))\n",
        "print('RMSE: ', np.sqrt(metrics.mean_absolute_error(y_test,las_pred)))"
      ]
    },
    {
      "cell_type": "markdown",
      "id": "e756bb99",
      "metadata": {
        "id": "e756bb99"
      },
      "source": [
        "## Decision Tree Regressor"
      ]
    },
    {
      "cell_type": "code",
      "execution_count": null,
      "id": "fc540e23",
      "metadata": {
        "id": "fc540e23"
      },
      "outputs": [],
      "source": [
        "from sklearn.tree import DecisionTreeRegressor"
      ]
    },
    {
      "cell_type": "code",
      "execution_count": null,
      "id": "67f19bb6",
      "metadata": {
        "id": "67f19bb6"
      },
      "outputs": [],
      "source": [
        "dt_reg = DecisionTreeRegressor()"
      ]
    },
    {
      "cell_type": "code",
      "execution_count": null,
      "id": "ff603e0b",
      "metadata": {
        "colab": {
          "base_uri": "https://localhost:8080/"
        },
        "id": "ff603e0b",
        "outputId": "71d5fd5a-bfc9-468b-c561-c2fadec26561"
      },
      "outputs": [
        {
          "output_type": "execute_result",
          "data": {
            "text/plain": [
              "DecisionTreeRegressor()"
            ]
          },
          "metadata": {},
          "execution_count": 129
        }
      ],
      "source": [
        "dt_reg.fit(X_train,y_train)"
      ]
    },
    {
      "cell_type": "code",
      "execution_count": null,
      "id": "f342c961",
      "metadata": {
        "colab": {
          "base_uri": "https://localhost:8080/"
        },
        "id": "f342c961",
        "outputId": "3945d268-fd57-4ac2-e621-08758d861470"
      },
      "outputs": [
        {
          "output_type": "execute_result",
          "data": {
            "text/plain": [
              "(1.0, 0.0)"
            ]
          },
          "metadata": {},
          "execution_count": 130
        }
      ],
      "source": [
        "dt_reg.score(X_train,y_train),dt_reg.score(X_test,y_test)"
      ]
    },
    {
      "cell_type": "code",
      "execution_count": null,
      "id": "b68d4595",
      "metadata": {
        "id": "b68d4595"
      },
      "outputs": [],
      "source": [
        "score = cross_val_score(dt_reg,X_train,y_train,cv=5)"
      ]
    },
    {
      "cell_type": "code",
      "execution_count": null,
      "id": "7c2e9554",
      "metadata": {
        "colab": {
          "base_uri": "https://localhost:8080/"
        },
        "id": "7c2e9554",
        "outputId": "2936ccdb-8075-44ba-f224-b852bb051805"
      },
      "outputs": [
        {
          "output_type": "execute_result",
          "data": {
            "text/plain": [
              "0.9436916835109068"
            ]
          },
          "metadata": {},
          "execution_count": 132
        }
      ],
      "source": [
        "score.mean()"
      ]
    },
    {
      "cell_type": "code",
      "execution_count": null,
      "id": "80d982f2",
      "metadata": {
        "id": "80d982f2"
      },
      "outputs": [],
      "source": [
        "dt_pred = dt_reg.predict(X_test)"
      ]
    },
    {
      "cell_type": "code",
      "execution_count": null,
      "id": "68fd55ee",
      "metadata": {
        "colab": {
          "base_uri": "https://localhost:8080/",
          "height": 282
        },
        "id": "68fd55ee",
        "outputId": "41832d21-41ad-43f3-db34-d5145e25f7ed"
      },
      "outputs": [
        {
          "output_type": "execute_result",
          "data": {
            "text/plain": [
              "<matplotlib.axes._subplots.AxesSubplot at 0x7f517dda3d10>"
            ]
          },
          "metadata": {},
          "execution_count": 134
        },
        {
          "output_type": "display_data",
          "data": {
            "image/png": "[encoded data removed]",
            "text/plain": [
              "<Figure size 432x288 with 1 Axes>"
            ]
          },
          "metadata": {
            "needs_background": "light"
          }
        }
      ],
      "source": [
        "sns.distplot(y_test-dt_pred)"
      ]
    },
    {
      "cell_type": "code",
      "execution_count": null,
      "id": "f247cb4d",
      "metadata": {
        "colab": {
          "base_uri": "https://localhost:8080/",
          "height": 282
        },
        "id": "f247cb4d",
        "outputId": "baaa69ca-b4fb-4d1e-ba20-165ea382eecd"
      },
      "outputs": [
        {
          "output_type": "execute_result",
          "data": {
            "text/plain": [
              "<matplotlib.collections.PathCollection at 0x7f517dc12dd0>"
            ]
          },
          "metadata": {},
          "execution_count": 135
        },
        {
          "output_type": "display_data",
          "data": {
            "image/png": "[encoded data removed]",
            "text/plain": [
              "<Figure size 432x288 with 1 Axes>"
            ]
          },
          "metadata": {
            "needs_background": "light"
          }
        }
      ],
      "source": [
        "plt.scatter(y_test,dt_pred)"
      ]
    },
    {
      "cell_type": "code",
      "execution_count": null,
      "id": "2fdb126b",
      "metadata": {
        "colab": {
          "base_uri": "https://localhost:8080/"
        },
        "id": "2fdb126b",
        "outputId": "84bb67a4-32b4-408f-8111-c83fd15de65f"
      },
      "outputs": [
        {
          "output_type": "stream",
          "name": "stdout",
          "text": [
            "MAE  213.83647260273972\n",
            "MSE  143046.41386986303\n",
            "RMSE  378.2147721465451\n"
          ]
        }
      ],
      "source": [
        "print('MAE ', metrics.mean_absolute_error(y_test,dt_pred))\n",
        "print('MSE ', metrics.mean_squared_error(y_test,dt_pred))\n",
        "print('RMSE ', np.sqrt(metrics.mean_squared_error(y_test,dt_pred)))"
      ]
    },
    {
      "cell_type": "markdown",
      "id": "f39d7ac9",
      "metadata": {
        "id": "f39d7ac9"
      },
      "source": [
        "### Hyperparameter Optimization"
      ]
    },
    {
      "cell_type": "code",
      "execution_count": null,
      "id": "2958221d",
      "metadata": {
        "id": "2958221d"
      },
      "outputs": [],
      "source": [
        "params = {\"splitter\"    : [\"best\",\"random\"] ,\n",
        " \"max_depth\"        : [ 3, 4, 5, 6, 8, 10, 12, 15],\n",
        " \"min_samples_leaf\" : [ 1,2,3,4,5 ],\n",
        "\"min_weight_fraction_leaf\":[0.1,0.2,0.3,0.4],\n",
        " \"max_features\" : [\"auto\",\"log2\",\"sqrt\",None ],\n",
        "    \"max_leaf_nodes\":[None,10,20,30,40,50,60,70]}\n"
      ]
    },
    {
      "cell_type": "code",
      "execution_count": null,
      "id": "76b4bba1",
      "metadata": {
        "id": "76b4bba1"
      },
      "outputs": [],
      "source": [
        "dtree_reg = GridSearchCV(dt_reg,params,cv=2,scoring='neg_mean_squared_error',n_jobs=-1,verbose=3)"
      ]
    },
    {
      "cell_type": "code",
      "execution_count": null,
      "id": "44f5cf36",
      "metadata": {
        "id": "44f5cf36"
      },
      "outputs": [],
      "source": [
        "def time(start_time=None):\n",
        "    if not start_time:\n",
        "        start_time = datetime.now()\n",
        "        return start_time\n",
        "    elif start_time:\n",
        "        thour,tsec = div_mod((datetime.now() - start_time).total_seconds(),3600)\n",
        "        tmin,tsec = divmod(tsec,60)\n",
        "        print('\\n Time taken: %i hours %i minutes and %s seconds.' % (thour, tmin, round(tsec, 2)))"
      ]
    },
    {
      "cell_type": "code",
      "execution_count": null,
      "id": "660417bd",
      "metadata": {
        "colab": {
          "base_uri": "https://localhost:8080/"
        },
        "id": "660417bd",
        "outputId": "83f8da03-9472-43d7-f224-4f5c7f6627c0"
      },
      "outputs": [
        {
          "output_type": "stream",
          "name": "stdout",
          "text": [
            "Fitting 2 folds for each of 10240 candidates, totalling 20480 fits\n"
          ]
        },
        {
          "output_type": "execute_result",
          "data": {
            "text/plain": [
              "datetime.datetime(2022, 1, 26, 15, 32, 31, 14815)"
            ]
          },
          "metadata": {},
          "execution_count": 146
        }
      ],
      "source": [
        "from datetime import datetime\n",
        "start_time = None\n",
        "dtree_reg.fit(X_train,y_train)\n",
        "time(start_time)"
      ]
    },
    {
      "cell_type": "code",
      "execution_count": null,
      "id": "438a54a7",
      "metadata": {
        "id": "438a54a7",
        "colab": {
          "base_uri": "https://localhost:8080/"
        },
        "outputId": "37884c3f-a053-44cd-cc9f-9996ad88653d"
      },
      "outputs": [
        {
          "output_type": "execute_result",
          "data": {
            "text/plain": [
              "{'max_depth': 3,\n",
              " 'max_features': 'auto',\n",
              " 'max_leaf_nodes': None,\n",
              " 'min_samples_leaf': 1,\n",
              " 'min_weight_fraction_leaf': 0.1,\n",
              " 'splitter': 'best'}"
            ]
          },
          "metadata": {},
          "execution_count": 147
        }
      ],
      "source": [
        "dtree_reg.best_params_"
      ]
    },
    {
      "cell_type": "code",
      "execution_count": null,
      "id": "5265e41f",
      "metadata": {
        "id": "5265e41f",
        "colab": {
          "base_uri": "https://localhost:8080/"
        },
        "outputId": "5c1b094b-fcab-45b8-e604-224e68c57587"
      },
      "outputs": [
        {
          "output_type": "execute_result",
          "data": {
            "text/plain": [
              "-4159.90159907397"
            ]
          },
          "metadata": {},
          "execution_count": 148
        }
      ],
      "source": [
        "dtree_reg.best_score_"
      ]
    },
    {
      "cell_type": "code",
      "execution_count": null,
      "id": "17584ed4",
      "metadata": {
        "id": "17584ed4"
      },
      "outputs": [],
      "source": [
        "dtree_pred =dtree_reg.predict(X_test)"
      ]
    },
    {
      "cell_type": "code",
      "execution_count": null,
      "id": "0c0f6984",
      "metadata": {
        "id": "0c0f6984",
        "colab": {
          "base_uri": "https://localhost:8080/"
        },
        "outputId": "b211f156-8b7f-4a44-b849-cd2bd0417885"
      },
      "outputs": [
        {
          "output_type": "execute_result",
          "data": {
            "text/plain": [
              "(-4213.449347587463, -137651.55424860833)"
            ]
          },
          "metadata": {},
          "execution_count": 150
        }
      ],
      "source": [
        "dtree_reg.score(X_train,y_train),dtree_reg.score(X_test,y_test)"
      ]
    },
    {
      "cell_type": "code",
      "execution_count": null,
      "id": "59c0a88d",
      "metadata": {
        "id": "59c0a88d",
        "colab": {
          "base_uri": "https://localhost:8080/",
          "height": 282
        },
        "outputId": "20a4785d-c6cc-4b48-9ed7-9667498d6f4e"
      },
      "outputs": [
        {
          "output_type": "execute_result",
          "data": {
            "text/plain": [
              "<matplotlib.axes._subplots.AxesSubplot at 0x7f517d4c8a90>"
            ]
          },
          "metadata": {},
          "execution_count": 151
        },
        {
          "output_type": "display_data",
          "data": {
            "image/png": "[encoded data removed]",
            "text/plain": [
              "<Figure size 432x288 with 1 Axes>"
            ]
          },
          "metadata": {
            "needs_background": "light"
          }
        }
      ],
      "source": [
        "sns.distplot(y_test-dtree_pred)"
      ]
    },
    {
      "cell_type": "code",
      "execution_count": null,
      "id": "00f94883",
      "metadata": {
        "id": "00f94883",
        "colab": {
          "base_uri": "https://localhost:8080/",
          "height": 282
        },
        "outputId": "0cb685ca-b001-41ad-9d88-c96b693f2a29"
      },
      "outputs": [
        {
          "output_type": "execute_result",
          "data": {
            "text/plain": [
              "<matplotlib.collections.PathCollection at 0x7f517cd2d710>"
            ]
          },
          "metadata": {},
          "execution_count": 152
        },
        {
          "output_type": "display_data",
          "data": {
            "image/png": "[encoded data removed]",
            "text/plain": [
              "<Figure size 432x288 with 1 Axes>"
            ]
          },
          "metadata": {
            "needs_background": "light"
          }
        }
      ],
      "source": [
        "plt.scatter(y_test,dtree_pred)"
      ]
    },
    {
      "cell_type": "code",
      "execution_count": null,
      "id": "349d84c3",
      "metadata": {
        "id": "349d84c3",
        "colab": {
          "base_uri": "https://localhost:8080/"
        },
        "outputId": "63683813-e4ce-4de2-ac52-8c37247422e9"
      },
      "outputs": [
        {
          "output_type": "stream",
          "name": "stdout",
          "text": [
            "MAE  213.24739235682148\n",
            "MSE  137651.55424860833\n",
            "RMSE  371.0142237820652\n"
          ]
        }
      ],
      "source": [
        "print('MAE ', metrics.mean_absolute_error(y_test,dtree_pred))\n",
        "print('MSE ', metrics.mean_squared_error(y_test,dtree_pred))\n",
        "print('RMSE ', np.sqrt(metrics.mean_squared_error(y_test,dtree_pred)))"
      ]
    },
    {
      "cell_type": "code",
      "execution_count": null,
      "id": "a85b6752",
      "metadata": {
        "id": "a85b6752"
      },
      "outputs": [],
      "source": [
        "##conda install pydotplus\n",
        "## conda install python-graphviz\n",
        "\n",
        "#from IPython.display import Image  \n",
        "#from sklearn.externals.six import StringIO  \n",
        "#from six import StringIO\n",
        "#from sklearn.tree import export_graphviz\n",
        "#import pydotplus"
      ]
    },
    {
      "cell_type": "code",
      "execution_count": null,
      "id": "da753f23",
      "metadata": {
        "id": "da753f23",
        "colab": {
          "base_uri": "https://localhost:8080/"
        },
        "outputId": "f93166ae-7f40-47bf-ebc1-c08045734eba"
      },
      "outputs": [
        {
          "output_type": "execute_result",
          "data": {
            "text/plain": [
              "['Year',\n",
              " 'Month',\n",
              " 'Day',\n",
              " 'Hour',\n",
              " 'Minute',\n",
              " 'Cloud Type',\n",
              " 'Dew Point',\n",
              " 'Temperature',\n",
              " 'Pressure',\n",
              " 'Relative Humidity',\n",
              " 'Solar Zenith Angle',\n",
              " 'Precipitable Water',\n",
              " 'Wind Direction',\n",
              " 'Wind Speed',\n",
              " 'Fill Flag']"
            ]
          },
          "metadata": {},
          "execution_count": 155
        }
      ],
      "source": [
        "features = list(X_train.columns)\n",
        "features"
      ]
    },
    {
      "cell_type": "markdown",
      "id": "9a14d711",
      "metadata": {
        "id": "9a14d711"
      },
      "source": [
        "## Random Forest"
      ]
    },
    {
      "cell_type": "code",
      "execution_count": null,
      "id": "1716d250",
      "metadata": {
        "id": "1716d250"
      },
      "outputs": [],
      "source": [
        "from sklearn.ensemble import RandomForestRegressor"
      ]
    },
    {
      "cell_type": "code",
      "execution_count": null,
      "id": "3096a512",
      "metadata": {
        "id": "3096a512"
      },
      "outputs": [],
      "source": [
        "rf_reg = RandomForestRegressor()"
      ]
    },
    {
      "cell_type": "code",
      "execution_count": null,
      "id": "2b8ee8c6",
      "metadata": {
        "id": "2b8ee8c6",
        "colab": {
          "base_uri": "https://localhost:8080/"
        },
        "outputId": "da38d1ab-c023-444d-b6ee-642fb11510ce"
      },
      "outputs": [
        {
          "output_type": "execute_result",
          "data": {
            "text/plain": [
              "RandomForestRegressor()"
            ]
          },
          "metadata": {},
          "execution_count": 158
        }
      ],
      "source": [
        "rf_reg.fit(X_train,y_train)"
      ]
    },
    {
      "cell_type": "code",
      "execution_count": null,
      "id": "da4ce5f1",
      "metadata": {
        "id": "da4ce5f1",
        "colab": {
          "base_uri": "https://localhost:8080/"
        },
        "outputId": "6b6e600e-6bdf-42f1-d52b-1e4855030523"
      },
      "outputs": [
        {
          "output_type": "execute_result",
          "data": {
            "text/plain": [
              "(0.9975721001708807, 0.0)"
            ]
          },
          "metadata": {},
          "execution_count": 159
        }
      ],
      "source": [
        "rf_reg.score(X_train,y_train),rf_reg.score(X_test,y_test)"
      ]
    },
    {
      "cell_type": "code",
      "execution_count": null,
      "id": "9ed5ba61",
      "metadata": {
        "id": "9ed5ba61"
      },
      "outputs": [],
      "source": [
        "rf_pred = rf_reg.predict(X_test)"
      ]
    },
    {
      "cell_type": "code",
      "execution_count": null,
      "id": "877fa009",
      "metadata": {
        "id": "877fa009",
        "colab": {
          "base_uri": "https://localhost:8080/",
          "height": 282
        },
        "outputId": "0c285b9e-e0d1-496f-d1f9-955bae18e909"
      },
      "outputs": [
        {
          "output_type": "execute_result",
          "data": {
            "text/plain": [
              "<matplotlib.axes._subplots.AxesSubplot at 0x7f517cbcbb10>"
            ]
          },
          "metadata": {},
          "execution_count": 161
        },
        {
          "output_type": "display_data",
          "data": {
            "image/png": "[encoded data removed]",
            "text/plain": [
              "<Figure size 432x288 with 1 Axes>"
            ]
          },
          "metadata": {
            "needs_background": "light"
          }
        }
      ],
      "source": [
        "sns.distplot(y_test-rf_pred)"
      ]
    },
    {
      "cell_type": "code",
      "execution_count": null,
      "id": "ec5d49a7",
      "metadata": {
        "id": "ec5d49a7",
        "colab": {
          "base_uri": "https://localhost:8080/",
          "height": 282
        },
        "outputId": "dc7ab4b8-067b-427a-894e-3715e9cac10e"
      },
      "outputs": [
        {
          "output_type": "execute_result",
          "data": {
            "text/plain": [
              "<matplotlib.collections.PathCollection at 0x7f517c932b50>"
            ]
          },
          "metadata": {},
          "execution_count": 162
        },
        {
          "output_type": "display_data",
          "data": {
            "image/png": "[encoded data removed]",
            "text/plain": [
              "<Figure size 432x288 with 1 Axes>"
            ]
          },
          "metadata": {
            "needs_background": "light"
          }
        }
      ],
      "source": [
        "plt.scatter(y_test,rf_pred)"
      ]
    },
    {
      "cell_type": "code",
      "execution_count": null,
      "id": "f8262d03",
      "metadata": {
        "id": "f8262d03",
        "colab": {
          "base_uri": "https://localhost:8080/"
        },
        "outputId": "26591bd7-daa4-4d26-cfe6-802371399126"
      },
      "outputs": [
        {
          "output_type": "stream",
          "name": "stdout",
          "text": [
            "MAE  213.82118911719922\n",
            "MSE  142441.82631109303\n",
            "RMSE  377.4146609646915\n"
          ]
        }
      ],
      "source": [
        "print('MAE ', metrics.mean_absolute_error(y_test,rf_pred))\n",
        "print('MSE ', metrics.mean_squared_error(y_test,rf_pred))\n",
        "print('RMSE ', np.sqrt(metrics.mean_squared_error(y_test,rf_pred)))"
      ]
    },
    {
      "cell_type": "markdown",
      "id": "a38aae56",
      "metadata": {
        "id": "a38aae56"
      },
      "source": [
        "### Hyperparameter Tuning"
      ]
    },
    {
      "cell_type": "code",
      "execution_count": null,
      "id": "b9a4df9c",
      "metadata": {
        "id": "b9a4df9c",
        "colab": {
          "base_uri": "https://localhost:8080/"
        },
        "outputId": "9acb3a9f-5dc6-4b07-b91f-b4705878ca09"
      },
      "outputs": [
        {
          "output_type": "execute_result",
          "data": {
            "text/plain": [
              "<bound method BaseEstimator.get_params of RandomForestRegressor()>"
            ]
          },
          "metadata": {},
          "execution_count": 164
        }
      ],
      "source": [
        "rf_reg.get_params"
      ]
    },
    {
      "cell_type": "code",
      "execution_count": null,
      "id": "167dbd98",
      "metadata": {
        "id": "167dbd98"
      },
      "outputs": [],
      "source": [
        "n_estimators = [int(i) for i in np.linspace(100,1200,num=12)]\n",
        "\n",
        "max_depth = [int(i) for i in np.linspace(5,30,num=6)]\n",
        "\n",
        "min_weight_fraction_leaf =[0.1,0.2,0.4,0.5,0.7,0.6]\n",
        "\n",
        "max_features = ['auto','sqrt']\n",
        "\n",
        "min_samples_split = [4,5,7,10,15,100]\n",
        "\n",
        "min_samples_leaf = [1,5,7,10]"
      ]
    },
    {
      "cell_type": "code",
      "execution_count": null,
      "id": "5f5bdaae",
      "metadata": {
        "id": "5f5bdaae"
      },
      "outputs": [],
      "source": [
        "ran_params = {'n_estimators' : n_estimators,\n",
        "             'max_depth' : max_depth,\n",
        "             'max_features' : max_features,\n",
        "             'min_samples_split': min_samples_split,\n",
        "             'min_samples_leaf':min_samples_leaf}"
      ]
    },
    {
      "cell_type": "code",
      "execution_count": null,
      "id": "bf84a4ac",
      "metadata": {
        "id": "bf84a4ac"
      },
      "outputs": [],
      "source": [
        "rand_reg = RandomizedSearchCV(rf_reg,param_distributions=ran_params,n_iter=1,cv=2,scoring='neg_mean_squared_error',verbose=3,n_jobs=-1)"
      ]
    },
    {
      "cell_type": "code",
      "execution_count": null,
      "id": "51593cee",
      "metadata": {
        "id": "51593cee"
      },
      "outputs": [],
      "source": [
        "#rand_reg.fit(X_train,y_train)"
      ]
    },
    {
      "cell_type": "code",
      "execution_count": null,
      "id": "93c4a3cf",
      "metadata": {
        "id": "93c4a3cf"
      },
      "outputs": [],
      "source": [
        "#rand_reg.best_params_"
      ]
    },
    {
      "cell_type": "code",
      "execution_count": null,
      "id": "6a47ce89",
      "metadata": {
        "id": "6a47ce89"
      },
      "outputs": [],
      "source": [
        "#rand_reg.best_score_"
      ]
    },
    {
      "cell_type": "code",
      "execution_count": null,
      "id": "08761ab9",
      "metadata": {
        "id": "08761ab9"
      },
      "outputs": [],
      "source": [
        "#rand_pred = rand_reg.predict(X_test)"
      ]
    },
    {
      "cell_type": "code",
      "execution_count": null,
      "id": "7295128b",
      "metadata": {
        "id": "7295128b"
      },
      "outputs": [],
      "source": [
        "#sns.distplot(y_test-rand_pred)"
      ]
    },
    {
      "cell_type": "code",
      "execution_count": null,
      "id": "2928dff1",
      "metadata": {
        "id": "2928dff1"
      },
      "outputs": [],
      "source": [
        "#plt.scatter(y_test,rand_pred)"
      ]
    },
    {
      "cell_type": "code",
      "execution_count": null,
      "id": "928addd0",
      "metadata": {
        "id": "928addd0"
      },
      "outputs": [],
      "source": [
        "#print('MAE ', metrics.mean_absolute_error(y_test,rand_pred))\n",
        "#print('MSE ', metrics.mean_squared_error(y_test,rand_pred))\n",
        "#print('RMSE ', np.sqrt(metrics.mean_squared_error(y_test,rand_pred)))"
      ]
    },
    {
      "cell_type": "code",
      "execution_count": null,
      "id": "c2f1fd85",
      "metadata": {
        "id": "c2f1fd85",
        "colab": {
          "base_uri": "https://localhost:8080/"
        },
        "outputId": "e6e3491b-f685-4fdf-84cc-7cb219f01bb0"
      },
      "outputs": [
        {
          "output_type": "execute_result",
          "data": {
            "text/plain": [
              "array([[ 27.50025408,  79.45082623, 104.71008819],\n",
              "       [ 19.28252605,  41.18711374,  65.15386818],\n",
              "       [ 11.31562037,  18.40640644,  31.55373022],\n",
              "       ...,\n",
              "       [ 55.33347767, 421.77361296, 239.43558402],\n",
              "       [ 47.5820013 , 397.84399571, 204.94085833],\n",
              "       [ 39.82963907, 361.34685615, 168.35241829]])"
            ]
          },
          "metadata": {},
          "execution_count": 183
        }
      ],
      "source": [
        "las_pred"
      ]
    },
    {
      "cell_type": "code",
      "source": [
        "las_pred = pd.DataFrame(las_pred)"
      ],
      "metadata": {
        "id": "0f_nxXTuLnv_"
      },
      "id": "0f_nxXTuLnv_",
      "execution_count": null,
      "outputs": []
    },
    {
      "cell_type": "code",
      "source": [
        "las_pred.rename(columns = {0:'Clearsky DHI', 1: 'Clearsky DNI', 2: 'Clearsky GHI'}, inplace = True)"
      ],
      "metadata": {
        "id": "HDXNYB2zLqw6"
      },
      "id": "HDXNYB2zLqw6",
      "execution_count": null,
      "outputs": []
    },
    {
      "cell_type": "code",
      "source": [
        "las_pred.head(4)"
      ],
      "metadata": {
        "colab": {
          "base_uri": "https://localhost:8080/",
          "height": 175
        },
        "id": "-9FlCJ-QLvoa",
        "outputId": "bb6f22fb-d534-4b3a-9fd7-cc5e143c7b45"
      },
      "id": "-9FlCJ-QLvoa",
      "execution_count": null,
      "outputs": [
        {
          "output_type": "execute_result",
          "data": {
            "text/html": [
              "\n",
              "  <div id=\"df-24149916-b757-450e-80b3-72d819dd5ba9\">\n",
              "    <div class=\"colab-df-container\">\n",
              "      <div>\n",
              "<style scoped>\n",
              "    .dataframe tbody tr th:only-of-type {\n",
              "        vertical-align: middle;\n",
              "    }\n",
              "\n",
              "    .dataframe tbody tr th {\n",
              "        vertical-align: top;\n",
              "    }\n",
              "\n",
              "    .dataframe thead th {\n",
              "        text-align: right;\n",
              "    }\n",
              "</style>\n",
              "<table border=\"1\" class=\"dataframe\">\n",
              "  <thead>\n",
              "    <tr style=\"text-align: right;\">\n",
              "      <th></th>\n",
              "      <th>Clearsky DHI</th>\n",
              "      <th>Clearsky DNI</th>\n",
              "      <th>Clearsky GHI</th>\n",
              "    </tr>\n",
              "  </thead>\n",
              "  <tbody>\n",
              "    <tr>\n",
              "      <th>0</th>\n",
              "      <td>27.500254</td>\n",
              "      <td>79.450826</td>\n",
              "      <td>104.710088</td>\n",
              "    </tr>\n",
              "    <tr>\n",
              "      <th>1</th>\n",
              "      <td>19.282526</td>\n",
              "      <td>41.187114</td>\n",
              "      <td>65.153868</td>\n",
              "    </tr>\n",
              "    <tr>\n",
              "      <th>2</th>\n",
              "      <td>11.315620</td>\n",
              "      <td>18.406406</td>\n",
              "      <td>31.553730</td>\n",
              "    </tr>\n",
              "    <tr>\n",
              "      <th>3</th>\n",
              "      <td>2.900562</td>\n",
              "      <td>-20.809796</td>\n",
              "      <td>-8.949410</td>\n",
              "    </tr>\n",
              "  </tbody>\n",
              "</table>\n",
              "</div>\n",
              "      <button class=\"colab-df-convert\" onclick=\"convertToInteractive('df-24149916-b757-450e-80b3-72d819dd5ba9')\"\n",
              "              title=\"Convert this dataframe to an interactive table.\"\n",
              "              style=\"display:none;\">\n",
              "        \n",
              "  <svg xmlns=\"http://www.w3.org/2000/svg\" height=\"24px\"viewBox=\"0 0 24 24\"\n",
              "       width=\"24px\">\n",
              "    <path d=\"M0 0h24v24H0V0z\" fill=\"none\"/>\n",
              "    <path d=\"M18.56 5.44l.94 2.06.94-2.06 2.06-.94-2.06-.94-.94-2.06-.94 2.06-2.06.94zm-11 1L8.5 8.5l.94-2.06 2.06-.94-2.06-.94L8.5 2.5l-.94 2.06-2.06.94zm10 10l.94 2.06.94-2.06 2.06-.94-2.06-.94-.94-2.06-.94 2.06-2.06.94z\"/><path d=\"M17.41 7.96l-1.37-1.37c-.4-.4-.92-.59-1.43-.59-.52 0-1.04.2-1.43.59L10.3 9.45l-7.72 7.72c-.78.78-.78 2.05 0 2.83L4 21.41c.39.39.9.59 1.41.59.51 0 1.02-.2 1.41-.59l7.78-7.78 2.81-2.81c.8-.78.8-2.07 0-2.86zM5.41 20L4 18.59l7.72-7.72 1.47 1.35L5.41 20z\"/>\n",
              "  </svg>\n",
              "      </button>\n",
              "      \n",
              "  <style>\n",
              "    .colab-df-container {\n",
              "      display:flex;\n",
              "      flex-wrap:wrap;\n",
              "      gap: 12px;\n",
              "    }\n",
              "\n",
              "    .colab-df-convert {\n",
              "      background-color: #E8F0FE;\n",
              "      border: none;\n",
              "      border-radius: 50%;\n",
              "      cursor: pointer;\n",
              "      display: none;\n",
              "      fill: #1967D2;\n",
              "      height: 32px;\n",
              "      padding: 0 0 0 0;\n",
              "      width: 32px;\n",
              "    }\n",
              "\n",
              "    .colab-df-convert:hover {\n",
              "      background-color: #E2EBFA;\n",
              "      box-shadow: 0px 1px 2px rgba(60, 64, 67, 0.3), 0px 1px 3px 1px rgba(60, 64, 67, 0.15);\n",
              "      fill: #174EA6;\n",
              "    }\n",
              "\n",
              "    [theme=dark] .colab-df-convert {\n",
              "      background-color: #3B4455;\n",
              "      fill: #D2E3FC;\n",
              "    }\n",
              "\n",
              "    [theme=dark] .colab-df-convert:hover {\n",
              "      background-color: #434B5C;\n",
              "      box-shadow: 0px 1px 3px 1px rgba(0, 0, 0, 0.15);\n",
              "      filter: drop-shadow(0px 1px 2px rgba(0, 0, 0, 0.3));\n",
              "      fill: #FFFFFF;\n",
              "    }\n",
              "  </style>\n",
              "\n",
              "      <script>\n",
              "        const buttonEl =\n",
              "          document.querySelector('#df-24149916-b757-450e-80b3-72d819dd5ba9 button.colab-df-convert');\n",
              "        buttonEl.style.display =\n",
              "          google.colab.kernel.accessAllowed ? 'block' : 'none';\n",
              "\n",
              "        async function convertToInteractive(key) {\n",
              "          const element = document.querySelector('#df-24149916-b757-450e-80b3-72d819dd5ba9');\n",
              "          const dataTable =\n",
              "            await google.colab.kernel.invokeFunction('convertToInteractive',\n",
              "                                                     [key], {});\n",
              "          if (!dataTable) return;\n",
              "\n",
              "          const docLinkHtml = 'Like what you see? Visit the ' +\n",
              "            '<a target=\"_blank\" href=https://colab.research.google.com/notebooks/data_table.ipynb>data table notebook</a>'\n",
              "            + ' to learn more about interactive tables.';\n",
              "          element.innerHTML = '';\n",
              "          dataTable['output_type'] = 'display_data';\n",
              "          await google.colab.output.renderOutput(dataTable, element);\n",
              "          const docLink = document.createElement('div');\n",
              "          docLink.innerHTML = docLinkHtml;\n",
              "          element.appendChild(docLink);\n",
              "        }\n",
              "      </script>\n",
              "    </div>\n",
              "  </div>\n",
              "  "
            ],
            "text/plain": [
              "   Clearsky DHI  Clearsky DNI  Clearsky GHI\n",
              "0     27.500254     79.450826    104.710088\n",
              "1     19.282526     41.187114     65.153868\n",
              "2     11.315620     18.406406     31.553730\n",
              "3      2.900562    -20.809796     -8.949410"
            ]
          },
          "metadata": {},
          "execution_count": 190
        }
      ]
    },
    {
      "cell_type": "code",
      "source": [
        "las_pred.to_csv(\"/content/output.csv\")"
      ],
      "metadata": {
        "id": "OVfa4U1zLy-H"
      },
      "id": "OVfa4U1zLy-H",
      "execution_count": null,
      "outputs": []
    }
  ],
  "metadata": {
    "kernelspec": {
      "display_name": "Python 3",
      "language": "python",
      "name": "python3"
    },
    "language_info": {
      "codemirror_mode": {
        "name": "ipython",
        "version": 3
      },
      "file_extension": ".py",
      "mimetype": "text/x-python",
      "name": "python",
      "nbconvert_exporter": "python",
      "pygments_lexer": "ipython3",
      "version": "3.8.8"
    },
    "colab": {
      "name": "MachineHackChallenge.ipynb",
      "provenance": [],
      "collapsed_sections": []
    },
    "accelerator": "GPU"
  },
  "nbformat": 4,
  "nbformat_minor": 5
}