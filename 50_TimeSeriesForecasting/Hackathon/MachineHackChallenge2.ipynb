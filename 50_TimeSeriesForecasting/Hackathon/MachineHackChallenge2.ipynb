{
  "cells": [
    {
      "cell_type": "code",
      "execution_count": 91,
      "metadata": {
        "colab": {
          "base_uri": "https://localhost:8080/"
        },
        "id": "x-TeGKlNO3v9",
        "outputId": "4f271022-0ad9-4207-9714-ca5d4b2ed890"
      },
      "outputs": [
        {
          "output_type": "stream",
          "name": "stdout",
          "text": [
            "Drive already mounted at /content/drive; to attempt to forcibly remount, call drive.mount(\"/content/drive\", force_remount=True).\n"
          ]
        }
      ],
      "source": [
        "from google.colab import drive\n",
        "drive.mount('/content/drive')"
      ]
    },
    {
      "cell_type": "markdown",
      "metadata": {
        "id": "vErhMjv9PSIL"
      },
      "source": [
        "\n",
        "\n",
        "Wipro Limited (NYSE: WIT, BSE: 507685, NSE: WIPRO) is a leading global information technology,\n",
        " consulting and business process services company. We harness the power of cognitive computing, hyper-automation,\n",
        " robotics, cloud, analytics and emerging technologies to help our clients adapt to the digital world and make them successful. \n",
        " A company recognized globally for its comprehensive portfolio of services, strong commitment to sustainability and\n",
        " good corporate citizenship, we have over 220,000 dedicated employees serving clients across six continents.\n",
        " Together, we discover ideas and connect the dots to build a better and a bold new future.\n"
      ]
    },
    {
      "cell_type": "markdown",
      "metadata": {
        "id": "vDjbjycrPT4p"
      },
      "source": [
        "**Content**   <br>\n",
        "Though a little late in the day, the world is waking up to the deleterious effect of fossil fuels on our environment. As the doomsday clock ticks away, human beings are turning to renewable energy to avert a possible apocalypse. Fortunately, the sun is a well-spring of clean energy. Taking the cue, Wipro, in association with MachineHack, has designed a forecasting challenge to optimise solar power generation using ML models.\n",
        "\n",
        "A solar power generation company wants to optimize solar power production and needs the prediction model to predict the Clearsky Global Horizontal Irradiance(GHI). The data is ten years at an interval of every 30 mins with the following data points:\n",
        "\n",
        "<b> <u> \n",
        "['Year', 'Month', 'Day', 'Hour', 'Minute', 'Temperature', 'Clearsky DHI', 'Clearsky DNI', 'Clearsky GHI', 'Cloud Type', 'Dew Point', 'Fill Flag', 'Relative Humidity', 'Solar Zenith Angle', 'Surface Albedo', 'Pressure', 'Precipitable Water', 'Wind Direction', 'Wind Speed'] </b> </u>\n",
        "\n"
      ]
    },
    {
      "cell_type": "code",
      "execution_count": 92,
      "metadata": {
        "id": "iP1UxBedPTI0"
      },
      "outputs": [],
      "source": [
        "#!pip install bayesian-optimization"
      ]
    },
    {
      "cell_type": "code",
      "execution_count": 93,
      "metadata": {
        "id": "xwBLLx5OPoyz"
      },
      "outputs": [],
      "source": [
        "#!pip install keras-tuner"
      ]
    },
    {
      "cell_type": "code",
      "execution_count": 94,
      "metadata": {
        "id": "8k_fbuW4Psp6"
      },
      "outputs": [],
      "source": [
        "# Import packages\n",
        "import numpy as np\n",
        "import pandas as pd\n",
        "import matplotlib.pyplot as plt\n",
        "import seaborn as sns\n",
        "from sklearn.model_selection import train_test_split\n",
        "from sklearn.model_selection import cross_val_score\n",
        "from keras.models import Sequential\n",
        "from keras.layers import Dense, BatchNormalization, Dropout\n",
        "from tensorflow.keras.optimizers import Adam, SGD, RMSprop, Adadelta, Adagrad, Adamax, Nadam, Ftrl\n",
        "from keras.callbacks import EarlyStopping, ModelCheckpoint\n",
        "from keras.wrappers.scikit_learn import KerasClassifier\n",
        "from math import floor\n",
        "from sklearn.metrics import make_scorer, accuracy_score\n",
        "from bayes_opt import BayesianOptimization\n",
        "from sklearn.model_selection import StratifiedKFold\n",
        "from keras.layers import LeakyReLU\n",
        "LeakyReLU = LeakyReLU(alpha=0.1)\n",
        "import warnings\n",
        "warnings.filterwarnings('ignore')\n",
        "pd.set_option(\"display.max_columns\", None)"
      ]
    },
    {
      "cell_type": "code",
      "execution_count": 95,
      "metadata": {
        "id": "MzEPwhqCPyw7"
      },
      "outputs": [],
      "source": [
        "# Suppressing Warnings\n",
        "import warnings\n",
        "warnings.filterwarnings('ignore')"
      ]
    },
    {
      "cell_type": "code",
      "execution_count": 96,
      "metadata": {
        "id": "vUBMTBS4QNje"
      },
      "outputs": [],
      "source": [
        "# Importing Pandas and NumPy\n",
        "import pandas as pd, numpy as np"
      ]
    },
    {
      "cell_type": "code",
      "execution_count": 97,
      "metadata": {
        "colab": {
          "base_uri": "https://localhost:8080/",
          "height": 274
        },
        "id": "k9rBHNJ3QTgO",
        "outputId": "6bb63184-def1-499d-9354-a54f1de1d3c7"
      },
      "outputs": [
        {
          "output_type": "execute_result",
          "data": {
            "text/html": [
              "\n",
              "  <div id=\"df-05f0c79a-d979-48eb-9cf0-51c4da64b945\">\n",
              "    <div class=\"colab-df-container\">\n",
              "      <div>\n",
              "<style scoped>\n",
              "    .dataframe tbody tr th:only-of-type {\n",
              "        vertical-align: middle;\n",
              "    }\n",
              "\n",
              "    .dataframe tbody tr th {\n",
              "        vertical-align: top;\n",
              "    }\n",
              "\n",
              "    .dataframe thead th {\n",
              "        text-align: right;\n",
              "    }\n",
              "</style>\n",
              "<table border=\"1\" class=\"dataframe\">\n",
              "  <thead>\n",
              "    <tr style=\"text-align: right;\">\n",
              "      <th></th>\n",
              "      <th>Year</th>\n",
              "      <th>Month</th>\n",
              "      <th>Day</th>\n",
              "      <th>Hour</th>\n",
              "      <th>Minute</th>\n",
              "      <th>Clearsky DHI</th>\n",
              "      <th>Clearsky DNI</th>\n",
              "      <th>Clearsky GHI</th>\n",
              "      <th>Cloud Type</th>\n",
              "      <th>Dew Point</th>\n",
              "      <th>Temperature</th>\n",
              "      <th>Pressure</th>\n",
              "      <th>Relative Humidity</th>\n",
              "      <th>Solar Zenith Angle</th>\n",
              "      <th>Precipitable Water</th>\n",
              "      <th>Wind Direction</th>\n",
              "      <th>Wind Speed</th>\n",
              "      <th>Fill Flag</th>\n",
              "    </tr>\n",
              "  </thead>\n",
              "  <tbody>\n",
              "    <tr>\n",
              "      <th>0</th>\n",
              "      <td>2009</td>\n",
              "      <td>1</td>\n",
              "      <td>1</td>\n",
              "      <td>0</td>\n",
              "      <td>0</td>\n",
              "      <td>0</td>\n",
              "      <td>0</td>\n",
              "      <td>0</td>\n",
              "      <td>0</td>\n",
              "      <td>0.0</td>\n",
              "      <td>5.0</td>\n",
              "      <td>1010</td>\n",
              "      <td>75.34</td>\n",
              "      <td>106.15</td>\n",
              "      <td>0.499</td>\n",
              "      <td>346.1</td>\n",
              "      <td>3.1</td>\n",
              "      <td>0</td>\n",
              "    </tr>\n",
              "    <tr>\n",
              "      <th>1</th>\n",
              "      <td>2009</td>\n",
              "      <td>1</td>\n",
              "      <td>1</td>\n",
              "      <td>0</td>\n",
              "      <td>30</td>\n",
              "      <td>0</td>\n",
              "      <td>0</td>\n",
              "      <td>0</td>\n",
              "      <td>0</td>\n",
              "      <td>1.0</td>\n",
              "      <td>5.0</td>\n",
              "      <td>1010</td>\n",
              "      <td>80.81</td>\n",
              "      <td>112.28</td>\n",
              "      <td>0.490</td>\n",
              "      <td>346.1</td>\n",
              "      <td>3.1</td>\n",
              "      <td>0</td>\n",
              "    </tr>\n",
              "    <tr>\n",
              "      <th>2</th>\n",
              "      <td>2009</td>\n",
              "      <td>1</td>\n",
              "      <td>1</td>\n",
              "      <td>1</td>\n",
              "      <td>0</td>\n",
              "      <td>0</td>\n",
              "      <td>0</td>\n",
              "      <td>0</td>\n",
              "      <td>4</td>\n",
              "      <td>0.0</td>\n",
              "      <td>5.0</td>\n",
              "      <td>1010</td>\n",
              "      <td>78.27</td>\n",
              "      <td>118.50</td>\n",
              "      <td>0.482</td>\n",
              "      <td>347.9</td>\n",
              "      <td>3.2</td>\n",
              "      <td>0</td>\n",
              "    </tr>\n",
              "    <tr>\n",
              "      <th>3</th>\n",
              "      <td>2009</td>\n",
              "      <td>1</td>\n",
              "      <td>1</td>\n",
              "      <td>1</td>\n",
              "      <td>30</td>\n",
              "      <td>0</td>\n",
              "      <td>0</td>\n",
              "      <td>0</td>\n",
              "      <td>4</td>\n",
              "      <td>0.0</td>\n",
              "      <td>4.0</td>\n",
              "      <td>1010</td>\n",
              "      <td>78.27</td>\n",
              "      <td>124.78</td>\n",
              "      <td>0.478</td>\n",
              "      <td>347.9</td>\n",
              "      <td>3.1</td>\n",
              "      <td>0</td>\n",
              "    </tr>\n",
              "  </tbody>\n",
              "</table>\n",
              "</div>\n",
              "      <button class=\"colab-df-convert\" onclick=\"convertToInteractive('df-05f0c79a-d979-48eb-9cf0-51c4da64b945')\"\n",
              "              title=\"Convert this dataframe to an interactive table.\"\n",
              "              style=\"display:none;\">\n",
              "        \n",
              "  <svg xmlns=\"http://www.w3.org/2000/svg\" height=\"24px\"viewBox=\"0 0 24 24\"\n",
              "       width=\"24px\">\n",
              "    <path d=\"M0 0h24v24H0V0z\" fill=\"none\"/>\n",
              "    <path d=\"M18.56 5.44l.94 2.06.94-2.06 2.06-.94-2.06-.94-.94-2.06-.94 2.06-2.06.94zm-11 1L8.5 8.5l.94-2.06 2.06-.94-2.06-.94L8.5 2.5l-.94 2.06-2.06.94zm10 10l.94 2.06.94-2.06 2.06-.94-2.06-.94-.94-2.06-.94 2.06-2.06.94z\"/><path d=\"M17.41 7.96l-1.37-1.37c-.4-.4-.92-.59-1.43-.59-.52 0-1.04.2-1.43.59L10.3 9.45l-7.72 7.72c-.78.78-.78 2.05 0 2.83L4 21.41c.39.39.9.59 1.41.59.51 0 1.02-.2 1.41-.59l7.78-7.78 2.81-2.81c.8-.78.8-2.07 0-2.86zM5.41 20L4 18.59l7.72-7.72 1.47 1.35L5.41 20z\"/>\n",
              "  </svg>\n",
              "      </button>\n",
              "      \n",
              "  <style>\n",
              "    .colab-df-container {\n",
              "      display:flex;\n",
              "      flex-wrap:wrap;\n",
              "      gap: 12px;\n",
              "    }\n",
              "\n",
              "    .colab-df-convert {\n",
              "      background-color: #E8F0FE;\n",
              "      border: none;\n",
              "      border-radius: 50%;\n",
              "      cursor: pointer;\n",
              "      display: none;\n",
              "      fill: #1967D2;\n",
              "      height: 32px;\n",
              "      padding: 0 0 0 0;\n",
              "      width: 32px;\n",
              "    }\n",
              "\n",
              "    .colab-df-convert:hover {\n",
              "      background-color: #E2EBFA;\n",
              "      box-shadow: 0px 1px 2px rgba(60, 64, 67, 0.3), 0px 1px 3px 1px rgba(60, 64, 67, 0.15);\n",
              "      fill: #174EA6;\n",
              "    }\n",
              "\n",
              "    [theme=dark] .colab-df-convert {\n",
              "      background-color: #3B4455;\n",
              "      fill: #D2E3FC;\n",
              "    }\n",
              "\n",
              "    [theme=dark] .colab-df-convert:hover {\n",
              "      background-color: #434B5C;\n",
              "      box-shadow: 0px 1px 3px 1px rgba(0, 0, 0, 0.15);\n",
              "      filter: drop-shadow(0px 1px 2px rgba(0, 0, 0, 0.3));\n",
              "      fill: #FFFFFF;\n",
              "    }\n",
              "  </style>\n",
              "\n",
              "      <script>\n",
              "        const buttonEl =\n",
              "          document.querySelector('#df-05f0c79a-d979-48eb-9cf0-51c4da64b945 button.colab-df-convert');\n",
              "        buttonEl.style.display =\n",
              "          google.colab.kernel.accessAllowed ? 'block' : 'none';\n",
              "\n",
              "        async function convertToInteractive(key) {\n",
              "          const element = document.querySelector('#df-05f0c79a-d979-48eb-9cf0-51c4da64b945');\n",
              "          const dataTable =\n",
              "            await google.colab.kernel.invokeFunction('convertToInteractive',\n",
              "                                                     [key], {});\n",
              "          if (!dataTable) return;\n",
              "\n",
              "          const docLinkHtml = 'Like what you see? Visit the ' +\n",
              "            '<a target=\"_blank\" href=https://colab.research.google.com/notebooks/data_table.ipynb>data table notebook</a>'\n",
              "            + ' to learn more about interactive tables.';\n",
              "          element.innerHTML = '';\n",
              "          dataTable['output_type'] = 'display_data';\n",
              "          await google.colab.output.renderOutput(dataTable, element);\n",
              "          const docLink = document.createElement('div');\n",
              "          docLink.innerHTML = docLinkHtml;\n",
              "          element.appendChild(docLink);\n",
              "        }\n",
              "      </script>\n",
              "    </div>\n",
              "  </div>\n",
              "  "
            ],
            "text/plain": [
              "   Year  Month  Day  Hour  Minute  Clearsky DHI  Clearsky DNI  Clearsky GHI  \\\n",
              "0  2009      1    1     0       0             0             0             0   \n",
              "1  2009      1    1     0      30             0             0             0   \n",
              "2  2009      1    1     1       0             0             0             0   \n",
              "3  2009      1    1     1      30             0             0             0   \n",
              "\n",
              "   Cloud Type  Dew Point  Temperature  Pressure  Relative Humidity  \\\n",
              "0           0        0.0          5.0      1010              75.34   \n",
              "1           0        1.0          5.0      1010              80.81   \n",
              "2           4        0.0          5.0      1010              78.27   \n",
              "3           4        0.0          4.0      1010              78.27   \n",
              "\n",
              "   Solar Zenith Angle  Precipitable Water  Wind Direction  Wind Speed  \\\n",
              "0              106.15               0.499           346.1         3.1   \n",
              "1              112.28               0.490           346.1         3.1   \n",
              "2              118.50               0.482           347.9         3.2   \n",
              "3              124.78               0.478           347.9         3.1   \n",
              "\n",
              "   Fill Flag  \n",
              "0          0  \n",
              "1          0  \n",
              "2          0  \n",
              "3          0  "
            ]
          },
          "metadata": {},
          "execution_count": 97
        }
      ],
      "source": [
        "# Importing all datasets\n",
        "train = pd.read_csv(\"/content/train.csv\")\n",
        "train.head(4)"
      ]
    },
    {
      "cell_type": "code",
      "execution_count": 98,
      "metadata": {
        "colab": {
          "base_uri": "https://localhost:8080/",
          "height": 274
        },
        "id": "FEZnhP_qQgre",
        "outputId": "00d53433-cc61-48c8-f636-de2503938a11"
      },
      "outputs": [
        {
          "output_type": "execute_result",
          "data": {
            "text/html": [
              "\n",
              "  <div id=\"df-5ad86449-80a4-4d7a-b97f-8eae463c64b6\">\n",
              "    <div class=\"colab-df-container\">\n",
              "      <div>\n",
              "<style scoped>\n",
              "    .dataframe tbody tr th:only-of-type {\n",
              "        vertical-align: middle;\n",
              "    }\n",
              "\n",
              "    .dataframe tbody tr th {\n",
              "        vertical-align: top;\n",
              "    }\n",
              "\n",
              "    .dataframe thead th {\n",
              "        text-align: right;\n",
              "    }\n",
              "</style>\n",
              "<table border=\"1\" class=\"dataframe\">\n",
              "  <thead>\n",
              "    <tr style=\"text-align: right;\">\n",
              "      <th></th>\n",
              "      <th>Year</th>\n",
              "      <th>Month</th>\n",
              "      <th>Day</th>\n",
              "      <th>Hour</th>\n",
              "      <th>Minute</th>\n",
              "      <th>Cloud Type</th>\n",
              "      <th>Dew Point</th>\n",
              "      <th>Temperature</th>\n",
              "      <th>Pressure</th>\n",
              "      <th>Relative Humidity</th>\n",
              "      <th>Solar Zenith Angle</th>\n",
              "      <th>Precipitable Water</th>\n",
              "      <th>Wind Direction</th>\n",
              "      <th>Wind Speed</th>\n",
              "      <th>Fill Flag</th>\n",
              "      <th>Clearsky DHI</th>\n",
              "      <th>Clearsky DNI</th>\n",
              "      <th>Clearsky GHI</th>\n",
              "    </tr>\n",
              "  </thead>\n",
              "  <tbody>\n",
              "    <tr>\n",
              "      <th>0</th>\n",
              "      <td>2019</td>\n",
              "      <td>1</td>\n",
              "      <td>1</td>\n",
              "      <td>0</td>\n",
              "      <td>0</td>\n",
              "      <td>7</td>\n",
              "      <td>18.4</td>\n",
              "      <td>18.8</td>\n",
              "      <td>1008</td>\n",
              "      <td>97.70</td>\n",
              "      <td>106.23</td>\n",
              "      <td>3.5</td>\n",
              "      <td>190</td>\n",
              "      <td>2.3</td>\n",
              "      <td>0</td>\n",
              "      <td>NaN</td>\n",
              "      <td>NaN</td>\n",
              "      <td>NaN</td>\n",
              "    </tr>\n",
              "    <tr>\n",
              "      <th>1</th>\n",
              "      <td>2019</td>\n",
              "      <td>1</td>\n",
              "      <td>1</td>\n",
              "      <td>0</td>\n",
              "      <td>30</td>\n",
              "      <td>3</td>\n",
              "      <td>18.4</td>\n",
              "      <td>18.6</td>\n",
              "      <td>1008</td>\n",
              "      <td>98.92</td>\n",
              "      <td>112.36</td>\n",
              "      <td>3.5</td>\n",
              "      <td>187</td>\n",
              "      <td>2.5</td>\n",
              "      <td>0</td>\n",
              "      <td>NaN</td>\n",
              "      <td>NaN</td>\n",
              "      <td>NaN</td>\n",
              "    </tr>\n",
              "    <tr>\n",
              "      <th>2</th>\n",
              "      <td>2019</td>\n",
              "      <td>1</td>\n",
              "      <td>1</td>\n",
              "      <td>1</td>\n",
              "      <td>0</td>\n",
              "      <td>3</td>\n",
              "      <td>18.2</td>\n",
              "      <td>18.5</td>\n",
              "      <td>1008</td>\n",
              "      <td>98.35</td>\n",
              "      <td>118.58</td>\n",
              "      <td>3.5</td>\n",
              "      <td>184</td>\n",
              "      <td>2.8</td>\n",
              "      <td>0</td>\n",
              "      <td>NaN</td>\n",
              "      <td>NaN</td>\n",
              "      <td>NaN</td>\n",
              "    </tr>\n",
              "    <tr>\n",
              "      <th>3</th>\n",
              "      <td>2019</td>\n",
              "      <td>1</td>\n",
              "      <td>1</td>\n",
              "      <td>1</td>\n",
              "      <td>30</td>\n",
              "      <td>3</td>\n",
              "      <td>18.2</td>\n",
              "      <td>18.3</td>\n",
              "      <td>1008</td>\n",
              "      <td>99.58</td>\n",
              "      <td>124.86</td>\n",
              "      <td>3.5</td>\n",
              "      <td>185</td>\n",
              "      <td>3.0</td>\n",
              "      <td>0</td>\n",
              "      <td>NaN</td>\n",
              "      <td>NaN</td>\n",
              "      <td>NaN</td>\n",
              "    </tr>\n",
              "  </tbody>\n",
              "</table>\n",
              "</div>\n",
              "      <button class=\"colab-df-convert\" onclick=\"convertToInteractive('df-5ad86449-80a4-4d7a-b97f-8eae463c64b6')\"\n",
              "              title=\"Convert this dataframe to an interactive table.\"\n",
              "              style=\"display:none;\">\n",
              "        \n",
              "  <svg xmlns=\"http://www.w3.org/2000/svg\" height=\"24px\"viewBox=\"0 0 24 24\"\n",
              "       width=\"24px\">\n",
              "    <path d=\"M0 0h24v24H0V0z\" fill=\"none\"/>\n",
              "    <path d=\"M18.56 5.44l.94 2.06.94-2.06 2.06-.94-2.06-.94-.94-2.06-.94 2.06-2.06.94zm-11 1L8.5 8.5l.94-2.06 2.06-.94-2.06-.94L8.5 2.5l-.94 2.06-2.06.94zm10 10l.94 2.06.94-2.06 2.06-.94-2.06-.94-.94-2.06-.94 2.06-2.06.94z\"/><path d=\"M17.41 7.96l-1.37-1.37c-.4-.4-.92-.59-1.43-.59-.52 0-1.04.2-1.43.59L10.3 9.45l-7.72 7.72c-.78.78-.78 2.05 0 2.83L4 21.41c.39.39.9.59 1.41.59.51 0 1.02-.2 1.41-.59l7.78-7.78 2.81-2.81c.8-.78.8-2.07 0-2.86zM5.41 20L4 18.59l7.72-7.72 1.47 1.35L5.41 20z\"/>\n",
              "  </svg>\n",
              "      </button>\n",
              "      \n",
              "  <style>\n",
              "    .colab-df-container {\n",
              "      display:flex;\n",
              "      flex-wrap:wrap;\n",
              "      gap: 12px;\n",
              "    }\n",
              "\n",
              "    .colab-df-convert {\n",
              "      background-color: #E8F0FE;\n",
              "      border: none;\n",
              "      border-radius: 50%;\n",
              "      cursor: pointer;\n",
              "      display: none;\n",
              "      fill: #1967D2;\n",
              "      height: 32px;\n",
              "      padding: 0 0 0 0;\n",
              "      width: 32px;\n",
              "    }\n",
              "\n",
              "    .colab-df-convert:hover {\n",
              "      background-color: #E2EBFA;\n",
              "      box-shadow: 0px 1px 2px rgba(60, 64, 67, 0.3), 0px 1px 3px 1px rgba(60, 64, 67, 0.15);\n",
              "      fill: #174EA6;\n",
              "    }\n",
              "\n",
              "    [theme=dark] .colab-df-convert {\n",
              "      background-color: #3B4455;\n",
              "      fill: #D2E3FC;\n",
              "    }\n",
              "\n",
              "    [theme=dark] .colab-df-convert:hover {\n",
              "      background-color: #434B5C;\n",
              "      box-shadow: 0px 1px 3px 1px rgba(0, 0, 0, 0.15);\n",
              "      filter: drop-shadow(0px 1px 2px rgba(0, 0, 0, 0.3));\n",
              "      fill: #FFFFFF;\n",
              "    }\n",
              "  </style>\n",
              "\n",
              "      <script>\n",
              "        const buttonEl =\n",
              "          document.querySelector('#df-5ad86449-80a4-4d7a-b97f-8eae463c64b6 button.colab-df-convert');\n",
              "        buttonEl.style.display =\n",
              "          google.colab.kernel.accessAllowed ? 'block' : 'none';\n",
              "\n",
              "        async function convertToInteractive(key) {\n",
              "          const element = document.querySelector('#df-5ad86449-80a4-4d7a-b97f-8eae463c64b6');\n",
              "          const dataTable =\n",
              "            await google.colab.kernel.invokeFunction('convertToInteractive',\n",
              "                                                     [key], {});\n",
              "          if (!dataTable) return;\n",
              "\n",
              "          const docLinkHtml = 'Like what you see? Visit the ' +\n",
              "            '<a target=\"_blank\" href=https://colab.research.google.com/notebooks/data_table.ipynb>data table notebook</a>'\n",
              "            + ' to learn more about interactive tables.';\n",
              "          element.innerHTML = '';\n",
              "          dataTable['output_type'] = 'display_data';\n",
              "          await google.colab.output.renderOutput(dataTable, element);\n",
              "          const docLink = document.createElement('div');\n",
              "          docLink.innerHTML = docLinkHtml;\n",
              "          element.appendChild(docLink);\n",
              "        }\n",
              "      </script>\n",
              "    </div>\n",
              "  </div>\n",
              "  "
            ],
            "text/plain": [
              "   Year  Month  Day  Hour  Minute  Cloud Type  Dew Point  Temperature  \\\n",
              "0  2019      1    1     0       0           7       18.4         18.8   \n",
              "1  2019      1    1     0      30           3       18.4         18.6   \n",
              "2  2019      1    1     1       0           3       18.2         18.5   \n",
              "3  2019      1    1     1      30           3       18.2         18.3   \n",
              "\n",
              "   Pressure  Relative Humidity  Solar Zenith Angle  Precipitable Water  \\\n",
              "0      1008              97.70              106.23                 3.5   \n",
              "1      1008              98.92              112.36                 3.5   \n",
              "2      1008              98.35              118.58                 3.5   \n",
              "3      1008              99.58              124.86                 3.5   \n",
              "\n",
              "   Wind Direction  Wind Speed  Fill Flag  Clearsky DHI  Clearsky DNI  \\\n",
              "0             190         2.3          0           NaN           NaN   \n",
              "1             187         2.5          0           NaN           NaN   \n",
              "2             184         2.8          0           NaN           NaN   \n",
              "3             185         3.0          0           NaN           NaN   \n",
              "\n",
              "   Clearsky GHI  \n",
              "0           NaN  \n",
              "1           NaN  \n",
              "2           NaN  \n",
              "3           NaN  "
            ]
          },
          "metadata": {},
          "execution_count": 98
        }
      ],
      "source": [
        "# Importing all datasets\n",
        "test = pd.read_csv(\"/content/test.csv\")\n",
        "test.head(4)"
      ]
    },
    {
      "cell_type": "code",
      "execution_count": 99,
      "metadata": {
        "id": "ztXHNLRPQ0se"
      },
      "outputs": [],
      "source": [
        "test['Clearsky DHI'] = 0"
      ]
    },
    {
      "cell_type": "code",
      "execution_count": 100,
      "metadata": {
        "id": "RsUCvDtPQ5ST"
      },
      "outputs": [],
      "source": [
        "test['Clearsky DNI'] = 0"
      ]
    },
    {
      "cell_type": "code",
      "execution_count": 101,
      "metadata": {
        "id": "l8yUvSOSQ8q4"
      },
      "outputs": [],
      "source": [
        "test['Clearsky GHI'] = 0"
      ]
    },
    {
      "cell_type": "code",
      "execution_count": 102,
      "metadata": {
        "colab": {
          "base_uri": "https://localhost:8080/",
          "height": 274
        },
        "id": "g_wA_dFFRDkm",
        "outputId": "e48bcd15-afe1-4be1-946f-3d9c4fcec12e"
      },
      "outputs": [
        {
          "output_type": "execute_result",
          "data": {
            "text/html": [
              "\n",
              "  <div id=\"df-04800fcb-08c6-4348-a3f5-1bad21bab12b\">\n",
              "    <div class=\"colab-df-container\">\n",
              "      <div>\n",
              "<style scoped>\n",
              "    .dataframe tbody tr th:only-of-type {\n",
              "        vertical-align: middle;\n",
              "    }\n",
              "\n",
              "    .dataframe tbody tr th {\n",
              "        vertical-align: top;\n",
              "    }\n",
              "\n",
              "    .dataframe thead th {\n",
              "        text-align: right;\n",
              "    }\n",
              "</style>\n",
              "<table border=\"1\" class=\"dataframe\">\n",
              "  <thead>\n",
              "    <tr style=\"text-align: right;\">\n",
              "      <th></th>\n",
              "      <th>Year</th>\n",
              "      <th>Month</th>\n",
              "      <th>Day</th>\n",
              "      <th>Hour</th>\n",
              "      <th>Minute</th>\n",
              "      <th>Cloud Type</th>\n",
              "      <th>Dew Point</th>\n",
              "      <th>Temperature</th>\n",
              "      <th>Pressure</th>\n",
              "      <th>Relative Humidity</th>\n",
              "      <th>Solar Zenith Angle</th>\n",
              "      <th>Precipitable Water</th>\n",
              "      <th>Wind Direction</th>\n",
              "      <th>Wind Speed</th>\n",
              "      <th>Fill Flag</th>\n",
              "      <th>Clearsky DHI</th>\n",
              "      <th>Clearsky DNI</th>\n",
              "      <th>Clearsky GHI</th>\n",
              "    </tr>\n",
              "  </thead>\n",
              "  <tbody>\n",
              "    <tr>\n",
              "      <th>0</th>\n",
              "      <td>2019</td>\n",
              "      <td>1</td>\n",
              "      <td>1</td>\n",
              "      <td>0</td>\n",
              "      <td>0</td>\n",
              "      <td>7</td>\n",
              "      <td>18.4</td>\n",
              "      <td>18.8</td>\n",
              "      <td>1008</td>\n",
              "      <td>97.70</td>\n",
              "      <td>106.23</td>\n",
              "      <td>3.5</td>\n",
              "      <td>190</td>\n",
              "      <td>2.3</td>\n",
              "      <td>0</td>\n",
              "      <td>0</td>\n",
              "      <td>0</td>\n",
              "      <td>0</td>\n",
              "    </tr>\n",
              "    <tr>\n",
              "      <th>1</th>\n",
              "      <td>2019</td>\n",
              "      <td>1</td>\n",
              "      <td>1</td>\n",
              "      <td>0</td>\n",
              "      <td>30</td>\n",
              "      <td>3</td>\n",
              "      <td>18.4</td>\n",
              "      <td>18.6</td>\n",
              "      <td>1008</td>\n",
              "      <td>98.92</td>\n",
              "      <td>112.36</td>\n",
              "      <td>3.5</td>\n",
              "      <td>187</td>\n",
              "      <td>2.5</td>\n",
              "      <td>0</td>\n",
              "      <td>0</td>\n",
              "      <td>0</td>\n",
              "      <td>0</td>\n",
              "    </tr>\n",
              "    <tr>\n",
              "      <th>2</th>\n",
              "      <td>2019</td>\n",
              "      <td>1</td>\n",
              "      <td>1</td>\n",
              "      <td>1</td>\n",
              "      <td>0</td>\n",
              "      <td>3</td>\n",
              "      <td>18.2</td>\n",
              "      <td>18.5</td>\n",
              "      <td>1008</td>\n",
              "      <td>98.35</td>\n",
              "      <td>118.58</td>\n",
              "      <td>3.5</td>\n",
              "      <td>184</td>\n",
              "      <td>2.8</td>\n",
              "      <td>0</td>\n",
              "      <td>0</td>\n",
              "      <td>0</td>\n",
              "      <td>0</td>\n",
              "    </tr>\n",
              "    <tr>\n",
              "      <th>3</th>\n",
              "      <td>2019</td>\n",
              "      <td>1</td>\n",
              "      <td>1</td>\n",
              "      <td>1</td>\n",
              "      <td>30</td>\n",
              "      <td>3</td>\n",
              "      <td>18.2</td>\n",
              "      <td>18.3</td>\n",
              "      <td>1008</td>\n",
              "      <td>99.58</td>\n",
              "      <td>124.86</td>\n",
              "      <td>3.5</td>\n",
              "      <td>185</td>\n",
              "      <td>3.0</td>\n",
              "      <td>0</td>\n",
              "      <td>0</td>\n",
              "      <td>0</td>\n",
              "      <td>0</td>\n",
              "    </tr>\n",
              "  </tbody>\n",
              "</table>\n",
              "</div>\n",
              "      <button class=\"colab-df-convert\" onclick=\"convertToInteractive('df-04800fcb-08c6-4348-a3f5-1bad21bab12b')\"\n",
              "              title=\"Convert this dataframe to an interactive table.\"\n",
              "              style=\"display:none;\">\n",
              "        \n",
              "  <svg xmlns=\"http://www.w3.org/2000/svg\" height=\"24px\"viewBox=\"0 0 24 24\"\n",
              "       width=\"24px\">\n",
              "    <path d=\"M0 0h24v24H0V0z\" fill=\"none\"/>\n",
              "    <path d=\"M18.56 5.44l.94 2.06.94-2.06 2.06-.94-2.06-.94-.94-2.06-.94 2.06-2.06.94zm-11 1L8.5 8.5l.94-2.06 2.06-.94-2.06-.94L8.5 2.5l-.94 2.06-2.06.94zm10 10l.94 2.06.94-2.06 2.06-.94-2.06-.94-.94-2.06-.94 2.06-2.06.94z\"/><path d=\"M17.41 7.96l-1.37-1.37c-.4-.4-.92-.59-1.43-.59-.52 0-1.04.2-1.43.59L10.3 9.45l-7.72 7.72c-.78.78-.78 2.05 0 2.83L4 21.41c.39.39.9.59 1.41.59.51 0 1.02-.2 1.41-.59l7.78-7.78 2.81-2.81c.8-.78.8-2.07 0-2.86zM5.41 20L4 18.59l7.72-7.72 1.47 1.35L5.41 20z\"/>\n",
              "  </svg>\n",
              "      </button>\n",
              "      \n",
              "  <style>\n",
              "    .colab-df-container {\n",
              "      display:flex;\n",
              "      flex-wrap:wrap;\n",
              "      gap: 12px;\n",
              "    }\n",
              "\n",
              "    .colab-df-convert {\n",
              "      background-color: #E8F0FE;\n",
              "      border: none;\n",
              "      border-radius: 50%;\n",
              "      cursor: pointer;\n",
              "      display: none;\n",
              "      fill: #1967D2;\n",
              "      height: 32px;\n",
              "      padding: 0 0 0 0;\n",
              "      width: 32px;\n",
              "    }\n",
              "\n",
              "    .colab-df-convert:hover {\n",
              "      background-color: #E2EBFA;\n",
              "      box-shadow: 0px 1px 2px rgba(60, 64, 67, 0.3), 0px 1px 3px 1px rgba(60, 64, 67, 0.15);\n",
              "      fill: #174EA6;\n",
              "    }\n",
              "\n",
              "    [theme=dark] .colab-df-convert {\n",
              "      background-color: #3B4455;\n",
              "      fill: #D2E3FC;\n",
              "    }\n",
              "\n",
              "    [theme=dark] .colab-df-convert:hover {\n",
              "      background-color: #434B5C;\n",
              "      box-shadow: 0px 1px 3px 1px rgba(0, 0, 0, 0.15);\n",
              "      filter: drop-shadow(0px 1px 2px rgba(0, 0, 0, 0.3));\n",
              "      fill: #FFFFFF;\n",
              "    }\n",
              "  </style>\n",
              "\n",
              "      <script>\n",
              "        const buttonEl =\n",
              "          document.querySelector('#df-04800fcb-08c6-4348-a3f5-1bad21bab12b button.colab-df-convert');\n",
              "        buttonEl.style.display =\n",
              "          google.colab.kernel.accessAllowed ? 'block' : 'none';\n",
              "\n",
              "        async function convertToInteractive(key) {\n",
              "          const element = document.querySelector('#df-04800fcb-08c6-4348-a3f5-1bad21bab12b');\n",
              "          const dataTable =\n",
              "            await google.colab.kernel.invokeFunction('convertToInteractive',\n",
              "                                                     [key], {});\n",
              "          if (!dataTable) return;\n",
              "\n",
              "          const docLinkHtml = 'Like what you see? Visit the ' +\n",
              "            '<a target=\"_blank\" href=https://colab.research.google.com/notebooks/data_table.ipynb>data table notebook</a>'\n",
              "            + ' to learn more about interactive tables.';\n",
              "          element.innerHTML = '';\n",
              "          dataTable['output_type'] = 'display_data';\n",
              "          await google.colab.output.renderOutput(dataTable, element);\n",
              "          const docLink = document.createElement('div');\n",
              "          docLink.innerHTML = docLinkHtml;\n",
              "          element.appendChild(docLink);\n",
              "        }\n",
              "      </script>\n",
              "    </div>\n",
              "  </div>\n",
              "  "
            ],
            "text/plain": [
              "   Year  Month  Day  Hour  Minute  Cloud Type  Dew Point  Temperature  \\\n",
              "0  2019      1    1     0       0           7       18.4         18.8   \n",
              "1  2019      1    1     0      30           3       18.4         18.6   \n",
              "2  2019      1    1     1       0           3       18.2         18.5   \n",
              "3  2019      1    1     1      30           3       18.2         18.3   \n",
              "\n",
              "   Pressure  Relative Humidity  Solar Zenith Angle  Precipitable Water  \\\n",
              "0      1008              97.70              106.23                 3.5   \n",
              "1      1008              98.92              112.36                 3.5   \n",
              "2      1008              98.35              118.58                 3.5   \n",
              "3      1008              99.58              124.86                 3.5   \n",
              "\n",
              "   Wind Direction  Wind Speed  Fill Flag  Clearsky DHI  Clearsky DNI  \\\n",
              "0             190         2.3          0             0             0   \n",
              "1             187         2.5          0             0             0   \n",
              "2             184         2.8          0             0             0   \n",
              "3             185         3.0          0             0             0   \n",
              "\n",
              "   Clearsky GHI  \n",
              "0             0  \n",
              "1             0  \n",
              "2             0  \n",
              "3             0  "
            ]
          },
          "metadata": {},
          "execution_count": 102
        }
      ],
      "source": [
        "test.head(4)"
      ]
    },
    {
      "cell_type": "code",
      "execution_count": 103,
      "metadata": {
        "colab": {
          "base_uri": "https://localhost:8080/"
        },
        "id": "GyL_KGuzRUtN",
        "outputId": "23ba8c70-9e29-4424-f316-4d99f17146ab"
      },
      "outputs": [
        {
          "output_type": "execute_result",
          "data": {
            "text/plain": [
              "Year                  0\n",
              "Month                 0\n",
              "Day                   0\n",
              "Hour                  0\n",
              "Minute                0\n",
              "Cloud Type            0\n",
              "Dew Point             0\n",
              "Temperature           0\n",
              "Pressure              0\n",
              "Relative Humidity     0\n",
              "Solar Zenith Angle    0\n",
              "Precipitable Water    0\n",
              "Wind Direction        0\n",
              "Wind Speed            0\n",
              "Fill Flag             0\n",
              "Clearsky DHI          0\n",
              "Clearsky DNI          0\n",
              "Clearsky GHI          0\n",
              "dtype: int64"
            ]
          },
          "metadata": {},
          "execution_count": 103
        }
      ],
      "source": [
        "test.isnull().sum()"
      ]
    },
    {
      "cell_type": "code",
      "execution_count": 104,
      "metadata": {
        "id": "qSh2jvyLRh8m"
      },
      "outputs": [],
      "source": [
        "import seaborn as sns"
      ]
    },
    {
      "cell_type": "code",
      "execution_count": 105,
      "metadata": {
        "colab": {
          "base_uri": "https://localhost:8080/",
          "height": 296
        },
        "id": "LOGtrScRRnwa",
        "outputId": "14d8ce34-85e1-477e-da81-0253b5b08a38"
      },
      "outputs": [
        {
          "output_type": "execute_result",
          "data": {
            "text/plain": [
              "<matplotlib.axes._subplots.AxesSubplot at 0x7f5d800e6450>"
            ]
          },
          "metadata": {},
          "execution_count": 105
        },
        {
          "output_type": "display_data",
          "data": {
            "image/png": "[encoded data removed]",
            "text/plain": [
              "<Figure size 432x288 with 1 Axes>"
            ]
          },
          "metadata": {
            "needs_background": "light"
          }
        }
      ],
      "source": [
        "sns.distplot(train['Clearsky GHI'])"
      ]
    },
    {
      "cell_type": "code",
      "execution_count": 106,
      "metadata": {
        "colab": {
          "base_uri": "https://localhost:8080/"
        },
        "id": "vRSoaczxJA2c",
        "outputId": "d50dc7ed-6c26-4db6-e11d-929d878a4071"
      },
      "outputs": [
        {
          "output_type": "execute_result",
          "data": {
            "text/plain": [
              "Index(['Year', 'Month', 'Day', 'Hour', 'Minute', 'Clearsky DHI',\n",
              "       'Clearsky DNI', 'Clearsky GHI', 'Cloud Type', 'Dew Point',\n",
              "       'Temperature', 'Pressure', 'Relative Humidity', 'Solar Zenith Angle',\n",
              "       'Precipitable Water', 'Wind Direction', 'Wind Speed', 'Fill Flag'],\n",
              "      dtype='object')"
            ]
          },
          "metadata": {},
          "execution_count": 106
        }
      ],
      "source": [
        "train.columns"
      ]
    },
    {
      "cell_type": "code",
      "execution_count": 107,
      "metadata": {
        "id": "mNbP4x1NI42i"
      },
      "outputs": [],
      "source": [
        "# Checking for outliers in the continuous variables\n",
        "num_train_data = train[['Year', 'Month', 'Day', 'Hour', 'Minute', 'Clearsky DHI',\n",
        "       'Clearsky DNI', 'Clearsky GHI', 'Cloud Type', 'Dew Point',\n",
        "       'Temperature', 'Pressure', 'Relative Humidity', 'Solar Zenith Angle',\n",
        "       'Precipitable Water', 'Wind Direction', 'Wind Speed', 'Fill Flag']]\n"
      ]
    },
    {
      "cell_type": "code",
      "execution_count": 108,
      "metadata": {
        "colab": {
          "base_uri": "https://localhost:8080/",
          "height": 476
        },
        "id": "nw5ZtDRmJHta",
        "outputId": "9d1f759d-da6b-40ca-ffa1-89b15e0e047f"
      },
      "outputs": [
        {
          "output_type": "execute_result",
          "data": {
            "text/html": [
              "\n",
              "  <div id=\"df-f1cdeaf3-7329-4619-b35a-059dc78b38f9\">\n",
              "    <div class=\"colab-df-container\">\n",
              "      <div>\n",
              "<style scoped>\n",
              "    .dataframe tbody tr th:only-of-type {\n",
              "        vertical-align: middle;\n",
              "    }\n",
              "\n",
              "    .dataframe tbody tr th {\n",
              "        vertical-align: top;\n",
              "    }\n",
              "\n",
              "    .dataframe thead th {\n",
              "        text-align: right;\n",
              "    }\n",
              "</style>\n",
              "<table border=\"1\" class=\"dataframe\">\n",
              "  <thead>\n",
              "    <tr style=\"text-align: right;\">\n",
              "      <th></th>\n",
              "      <th>Year</th>\n",
              "      <th>Month</th>\n",
              "      <th>Day</th>\n",
              "      <th>Hour</th>\n",
              "      <th>Minute</th>\n",
              "      <th>Clearsky DHI</th>\n",
              "      <th>Clearsky DNI</th>\n",
              "      <th>Clearsky GHI</th>\n",
              "      <th>Cloud Type</th>\n",
              "      <th>Dew Point</th>\n",
              "      <th>Temperature</th>\n",
              "      <th>Pressure</th>\n",
              "      <th>Relative Humidity</th>\n",
              "      <th>Solar Zenith Angle</th>\n",
              "      <th>Precipitable Water</th>\n",
              "      <th>Wind Direction</th>\n",
              "      <th>Wind Speed</th>\n",
              "      <th>Fill Flag</th>\n",
              "    </tr>\n",
              "  </thead>\n",
              "  <tbody>\n",
              "    <tr>\n",
              "      <th>count</th>\n",
              "      <td>175296.000000</td>\n",
              "      <td>175296.000000</td>\n",
              "      <td>175296.000000</td>\n",
              "      <td>175296.000000</td>\n",
              "      <td>175296.000000</td>\n",
              "      <td>175296.000000</td>\n",
              "      <td>175296.000000</td>\n",
              "      <td>175296.000000</td>\n",
              "      <td>175296.000000</td>\n",
              "      <td>175296.000000</td>\n",
              "      <td>175296.000000</td>\n",
              "      <td>175296.000000</td>\n",
              "      <td>175296.000000</td>\n",
              "      <td>175296.000000</td>\n",
              "      <td>175296.000000</td>\n",
              "      <td>175296.000000</td>\n",
              "      <td>175296.000000</td>\n",
              "      <td>175296.000000</td>\n",
              "    </tr>\n",
              "    <tr>\n",
              "      <th>mean</th>\n",
              "      <td>2013.500274</td>\n",
              "      <td>6.523549</td>\n",
              "      <td>15.727820</td>\n",
              "      <td>11.500000</td>\n",
              "      <td>15.000000</td>\n",
              "      <td>53.065426</td>\n",
              "      <td>330.065295</td>\n",
              "      <td>254.365490</td>\n",
              "      <td>2.540474</td>\n",
              "      <td>13.564431</td>\n",
              "      <td>18.266769</td>\n",
              "      <td>1003.185230</td>\n",
              "      <td>79.376366</td>\n",
              "      <td>89.729463</td>\n",
              "      <td>2.903732</td>\n",
              "      <td>188.877796</td>\n",
              "      <td>2.262871</td>\n",
              "      <td>0.740433</td>\n",
              "    </tr>\n",
              "    <tr>\n",
              "      <th>std</th>\n",
              "      <td>2.871908</td>\n",
              "      <td>3.448543</td>\n",
              "      <td>8.799349</td>\n",
              "      <td>6.922206</td>\n",
              "      <td>15.000043</td>\n",
              "      <td>64.201407</td>\n",
              "      <td>370.030821</td>\n",
              "      <td>327.705006</td>\n",
              "      <td>3.021879</td>\n",
              "      <td>8.196787</td>\n",
              "      <td>8.943096</td>\n",
              "      <td>5.935749</td>\n",
              "      <td>19.678235</td>\n",
              "      <td>40.085451</td>\n",
              "      <td>1.546979</td>\n",
              "      <td>99.014733</td>\n",
              "      <td>1.281902</td>\n",
              "      <td>6.575655</td>\n",
              "    </tr>\n",
              "    <tr>\n",
              "      <th>min</th>\n",
              "      <td>2009.000000</td>\n",
              "      <td>1.000000</td>\n",
              "      <td>1.000000</td>\n",
              "      <td>0.000000</td>\n",
              "      <td>0.000000</td>\n",
              "      <td>0.000000</td>\n",
              "      <td>0.000000</td>\n",
              "      <td>0.000000</td>\n",
              "      <td>0.000000</td>\n",
              "      <td>-17.000000</td>\n",
              "      <td>-9.000000</td>\n",
              "      <td>970.000000</td>\n",
              "      <td>7.190000</td>\n",
              "      <td>8.550000</td>\n",
              "      <td>0.122000</td>\n",
              "      <td>0.000000</td>\n",
              "      <td>0.000000</td>\n",
              "      <td>0.000000</td>\n",
              "    </tr>\n",
              "    <tr>\n",
              "      <th>25%</th>\n",
              "      <td>2011.000000</td>\n",
              "      <td>4.000000</td>\n",
              "      <td>8.000000</td>\n",
              "      <td>5.750000</td>\n",
              "      <td>0.000000</td>\n",
              "      <td>0.000000</td>\n",
              "      <td>0.000000</td>\n",
              "      <td>0.000000</td>\n",
              "      <td>0.000000</td>\n",
              "      <td>8.000000</td>\n",
              "      <td>12.000000</td>\n",
              "      <td>1000.000000</td>\n",
              "      <td>65.590000</td>\n",
              "      <td>56.450000</td>\n",
              "      <td>1.534000</td>\n",
              "      <td>97.400000</td>\n",
              "      <td>1.300000</td>\n",
              "      <td>0.000000</td>\n",
              "    </tr>\n",
              "    <tr>\n",
              "      <th>50%</th>\n",
              "      <td>2013.500000</td>\n",
              "      <td>7.000000</td>\n",
              "      <td>16.000000</td>\n",
              "      <td>11.500000</td>\n",
              "      <td>15.000000</td>\n",
              "      <td>0.000000</td>\n",
              "      <td>0.000000</td>\n",
              "      <td>0.000000</td>\n",
              "      <td>1.000000</td>\n",
              "      <td>15.000000</td>\n",
              "      <td>20.000000</td>\n",
              "      <td>1000.000000</td>\n",
              "      <td>84.230000</td>\n",
              "      <td>89.860000</td>\n",
              "      <td>2.866000</td>\n",
              "      <td>200.000000</td>\n",
              "      <td>2.000000</td>\n",
              "      <td>0.000000</td>\n",
              "    </tr>\n",
              "    <tr>\n",
              "      <th>75%</th>\n",
              "      <td>2016.000000</td>\n",
              "      <td>10.000000</td>\n",
              "      <td>23.000000</td>\n",
              "      <td>17.250000</td>\n",
              "      <td>30.000000</td>\n",
              "      <td>103.000000</td>\n",
              "      <td>736.000000</td>\n",
              "      <td>535.000000</td>\n",
              "      <td>6.000000</td>\n",
              "      <td>21.000000</td>\n",
              "      <td>25.000000</td>\n",
              "      <td>1010.000000</td>\n",
              "      <td>97.950000</td>\n",
              "      <td>123.060000</td>\n",
              "      <td>4.223000</td>\n",
              "      <td>272.000000</td>\n",
              "      <td>3.000000</td>\n",
              "      <td>0.000000</td>\n",
              "    </tr>\n",
              "    <tr>\n",
              "      <th>90%</th>\n",
              "      <td>2017.000000</td>\n",
              "      <td>11.000000</td>\n",
              "      <td>28.000000</td>\n",
              "      <td>21.000000</td>\n",
              "      <td>30.000000</td>\n",
              "      <td>146.000000</td>\n",
              "      <td>851.000000</td>\n",
              "      <td>804.000000</td>\n",
              "      <td>7.000000</td>\n",
              "      <td>23.000000</td>\n",
              "      <td>29.000000</td>\n",
              "      <td>1010.000000</td>\n",
              "      <td>100.000000</td>\n",
              "      <td>143.080000</td>\n",
              "      <td>5.018000</td>\n",
              "      <td>319.900000</td>\n",
              "      <td>4.000000</td>\n",
              "      <td>0.000000</td>\n",
              "    </tr>\n",
              "    <tr>\n",
              "      <th>95%</th>\n",
              "      <td>2018.000000</td>\n",
              "      <td>12.000000</td>\n",
              "      <td>29.000000</td>\n",
              "      <td>22.000000</td>\n",
              "      <td>30.000000</td>\n",
              "      <td>171.000000</td>\n",
              "      <td>895.000000</td>\n",
              "      <td>902.000000</td>\n",
              "      <td>8.000000</td>\n",
              "      <td>23.400000</td>\n",
              "      <td>31.600000</td>\n",
              "      <td>1010.000000</td>\n",
              "      <td>100.000000</td>\n",
              "      <td>153.970000</td>\n",
              "      <td>5.354000</td>\n",
              "      <td>337.500000</td>\n",
              "      <td>4.700000</td>\n",
              "      <td>3.000000</td>\n",
              "    </tr>\n",
              "    <tr>\n",
              "      <th>99%</th>\n",
              "      <td>2018.000000</td>\n",
              "      <td>12.000000</td>\n",
              "      <td>31.000000</td>\n",
              "      <td>23.000000</td>\n",
              "      <td>30.000000</td>\n",
              "      <td>224.000000</td>\n",
              "      <td>957.000000</td>\n",
              "      <td>975.000000</td>\n",
              "      <td>8.000000</td>\n",
              "      <td>24.300000</td>\n",
              "      <td>35.000000</td>\n",
              "      <td>1020.000000</td>\n",
              "      <td>100.000000</td>\n",
              "      <td>166.780000</td>\n",
              "      <td>5.883000</td>\n",
              "      <td>354.800000</td>\n",
              "      <td>6.200000</td>\n",
              "      <td>7.000000</td>\n",
              "    </tr>\n",
              "    <tr>\n",
              "      <th>max</th>\n",
              "      <td>2018.000000</td>\n",
              "      <td>12.000000</td>\n",
              "      <td>31.000000</td>\n",
              "      <td>23.000000</td>\n",
              "      <td>30.000000</td>\n",
              "      <td>565.000000</td>\n",
              "      <td>1040.000000</td>\n",
              "      <td>1063.000000</td>\n",
              "      <td>10.000000</td>\n",
              "      <td>26.900000</td>\n",
              "      <td>40.000000</td>\n",
              "      <td>1024.000000</td>\n",
              "      <td>100.000000</td>\n",
              "      <td>171.550000</td>\n",
              "      <td>7.700000</td>\n",
              "      <td>360.000000</td>\n",
              "      <td>12.900000</td>\n",
              "      <td>100.000000</td>\n",
              "    </tr>\n",
              "  </tbody>\n",
              "</table>\n",
              "</div>\n",
              "      <button class=\"colab-df-convert\" onclick=\"convertToInteractive('df-f1cdeaf3-7329-4619-b35a-059dc78b38f9')\"\n",
              "              title=\"Convert this dataframe to an interactive table.\"\n",
              "              style=\"display:none;\">\n",
              "        \n",
              "  <svg xmlns=\"http://www.w3.org/2000/svg\" height=\"24px\"viewBox=\"0 0 24 24\"\n",
              "       width=\"24px\">\n",
              "    <path d=\"M0 0h24v24H0V0z\" fill=\"none\"/>\n",
              "    <path d=\"M18.56 5.44l.94 2.06.94-2.06 2.06-.94-2.06-.94-.94-2.06-.94 2.06-2.06.94zm-11 1L8.5 8.5l.94-2.06 2.06-.94-2.06-.94L8.5 2.5l-.94 2.06-2.06.94zm10 10l.94 2.06.94-2.06 2.06-.94-2.06-.94-.94-2.06-.94 2.06-2.06.94z\"/><path d=\"M17.41 7.96l-1.37-1.37c-.4-.4-.92-.59-1.43-.59-.52 0-1.04.2-1.43.59L10.3 9.45l-7.72 7.72c-.78.78-.78 2.05 0 2.83L4 21.41c.39.39.9.59 1.41.59.51 0 1.02-.2 1.41-.59l7.78-7.78 2.81-2.81c.8-.78.8-2.07 0-2.86zM5.41 20L4 18.59l7.72-7.72 1.47 1.35L5.41 20z\"/>\n",
              "  </svg>\n",
              "      </button>\n",
              "      \n",
              "  <style>\n",
              "    .colab-df-container {\n",
              "      display:flex;\n",
              "      flex-wrap:wrap;\n",
              "      gap: 12px;\n",
              "    }\n",
              "\n",
              "    .colab-df-convert {\n",
              "      background-color: #E8F0FE;\n",
              "      border: none;\n",
              "      border-radius: 50%;\n",
              "      cursor: pointer;\n",
              "      display: none;\n",
              "      fill: #1967D2;\n",
              "      height: 32px;\n",
              "      padding: 0 0 0 0;\n",
              "      width: 32px;\n",
              "    }\n",
              "\n",
              "    .colab-df-convert:hover {\n",
              "      background-color: #E2EBFA;\n",
              "      box-shadow: 0px 1px 2px rgba(60, 64, 67, 0.3), 0px 1px 3px 1px rgba(60, 64, 67, 0.15);\n",
              "      fill: #174EA6;\n",
              "    }\n",
              "\n",
              "    [theme=dark] .colab-df-convert {\n",
              "      background-color: #3B4455;\n",
              "      fill: #D2E3FC;\n",
              "    }\n",
              "\n",
              "    [theme=dark] .colab-df-convert:hover {\n",
              "      background-color: #434B5C;\n",
              "      box-shadow: 0px 1px 3px 1px rgba(0, 0, 0, 0.15);\n",
              "      filter: drop-shadow(0px 1px 2px rgba(0, 0, 0, 0.3));\n",
              "      fill: #FFFFFF;\n",
              "    }\n",
              "  </style>\n",
              "\n",
              "      <script>\n",
              "        const buttonEl =\n",
              "          document.querySelector('#df-f1cdeaf3-7329-4619-b35a-059dc78b38f9 button.colab-df-convert');\n",
              "        buttonEl.style.display =\n",
              "          google.colab.kernel.accessAllowed ? 'block' : 'none';\n",
              "\n",
              "        async function convertToInteractive(key) {\n",
              "          const element = document.querySelector('#df-f1cdeaf3-7329-4619-b35a-059dc78b38f9');\n",
              "          const dataTable =\n",
              "            await google.colab.kernel.invokeFunction('convertToInteractive',\n",
              "                                                     [key], {});\n",
              "          if (!dataTable) return;\n",
              "\n",
              "          const docLinkHtml = 'Like what you see? Visit the ' +\n",
              "            '<a target=\"_blank\" href=https://colab.research.google.com/notebooks/data_table.ipynb>data table notebook</a>'\n",
              "            + ' to learn more about interactive tables.';\n",
              "          element.innerHTML = '';\n",
              "          dataTable['output_type'] = 'display_data';\n",
              "          await google.colab.output.renderOutput(dataTable, element);\n",
              "          const docLink = document.createElement('div');\n",
              "          docLink.innerHTML = docLinkHtml;\n",
              "          element.appendChild(docLink);\n",
              "        }\n",
              "      </script>\n",
              "    </div>\n",
              "  </div>\n",
              "  "
            ],
            "text/plain": [
              "                Year          Month            Day           Hour  \\\n",
              "count  175296.000000  175296.000000  175296.000000  175296.000000   \n",
              "mean     2013.500274       6.523549      15.727820      11.500000   \n",
              "std         2.871908       3.448543       8.799349       6.922206   \n",
              "min      2009.000000       1.000000       1.000000       0.000000   \n",
              "25%      2011.000000       4.000000       8.000000       5.750000   \n",
              "50%      2013.500000       7.000000      16.000000      11.500000   \n",
              "75%      2016.000000      10.000000      23.000000      17.250000   \n",
              "90%      2017.000000      11.000000      28.000000      21.000000   \n",
              "95%      2018.000000      12.000000      29.000000      22.000000   \n",
              "99%      2018.000000      12.000000      31.000000      23.000000   \n",
              "max      2018.000000      12.000000      31.000000      23.000000   \n",
              "\n",
              "              Minute   Clearsky DHI   Clearsky DNI   Clearsky GHI  \\\n",
              "count  175296.000000  175296.000000  175296.000000  175296.000000   \n",
              "mean       15.000000      53.065426     330.065295     254.365490   \n",
              "std        15.000043      64.201407     370.030821     327.705006   \n",
              "min         0.000000       0.000000       0.000000       0.000000   \n",
              "25%         0.000000       0.000000       0.000000       0.000000   \n",
              "50%        15.000000       0.000000       0.000000       0.000000   \n",
              "75%        30.000000     103.000000     736.000000     535.000000   \n",
              "90%        30.000000     146.000000     851.000000     804.000000   \n",
              "95%        30.000000     171.000000     895.000000     902.000000   \n",
              "99%        30.000000     224.000000     957.000000     975.000000   \n",
              "max        30.000000     565.000000    1040.000000    1063.000000   \n",
              "\n",
              "          Cloud Type      Dew Point    Temperature       Pressure  \\\n",
              "count  175296.000000  175296.000000  175296.000000  175296.000000   \n",
              "mean        2.540474      13.564431      18.266769    1003.185230   \n",
              "std         3.021879       8.196787       8.943096       5.935749   \n",
              "min         0.000000     -17.000000      -9.000000     970.000000   \n",
              "25%         0.000000       8.000000      12.000000    1000.000000   \n",
              "50%         1.000000      15.000000      20.000000    1000.000000   \n",
              "75%         6.000000      21.000000      25.000000    1010.000000   \n",
              "90%         7.000000      23.000000      29.000000    1010.000000   \n",
              "95%         8.000000      23.400000      31.600000    1010.000000   \n",
              "99%         8.000000      24.300000      35.000000    1020.000000   \n",
              "max        10.000000      26.900000      40.000000    1024.000000   \n",
              "\n",
              "       Relative Humidity  Solar Zenith Angle  Precipitable Water  \\\n",
              "count      175296.000000       175296.000000       175296.000000   \n",
              "mean           79.376366           89.729463            2.903732   \n",
              "std            19.678235           40.085451            1.546979   \n",
              "min             7.190000            8.550000            0.122000   \n",
              "25%            65.590000           56.450000            1.534000   \n",
              "50%            84.230000           89.860000            2.866000   \n",
              "75%            97.950000          123.060000            4.223000   \n",
              "90%           100.000000          143.080000            5.018000   \n",
              "95%           100.000000          153.970000            5.354000   \n",
              "99%           100.000000          166.780000            5.883000   \n",
              "max           100.000000          171.550000            7.700000   \n",
              "\n",
              "       Wind Direction     Wind Speed      Fill Flag  \n",
              "count   175296.000000  175296.000000  175296.000000  \n",
              "mean       188.877796       2.262871       0.740433  \n",
              "std         99.014733       1.281902       6.575655  \n",
              "min          0.000000       0.000000       0.000000  \n",
              "25%         97.400000       1.300000       0.000000  \n",
              "50%        200.000000       2.000000       0.000000  \n",
              "75%        272.000000       3.000000       0.000000  \n",
              "90%        319.900000       4.000000       0.000000  \n",
              "95%        337.500000       4.700000       3.000000  \n",
              "99%        354.800000       6.200000       7.000000  \n",
              "max        360.000000      12.900000     100.000000  "
            ]
          },
          "metadata": {},
          "execution_count": 108
        }
      ],
      "source": [
        "\n",
        "# Checking outliers at 25%, 50%, 75%, 90%, 95% and 99%\n",
        "num_train_data.describe(percentiles=[.25, .5, .75, .90, .95, .99])"
      ]
    },
    {
      "cell_type": "code",
      "execution_count": 109,
      "metadata": {
        "colab": {
          "base_uri": "https://localhost:8080/"
        },
        "id": "UCpaylvAJNH9",
        "outputId": "b7ff295d-b74d-420f-9d58-a7ad40326d8b"
      },
      "outputs": [
        {
          "output_type": "stream",
          "name": "stdout",
          "text": [
            "Year                    5.000\n",
            "Month                   6.000\n",
            "Day                    15.000\n",
            "Hour                   11.500\n",
            "Minute                 30.000\n",
            "Clearsky DHI          103.000\n",
            "Clearsky DNI          736.000\n",
            "Clearsky GHI          535.000\n",
            "Cloud Type              6.000\n",
            "Dew Point              13.000\n",
            "Temperature            13.000\n",
            "Pressure               10.000\n",
            "Relative Humidity      32.360\n",
            "Solar Zenith Angle     66.610\n",
            "Precipitable Water      2.689\n",
            "Wind Direction        174.600\n",
            "Wind Speed              1.700\n",
            "Fill Flag               0.000\n",
            "dtype: float64\n"
          ]
        }
      ],
      "source": [
        "Q1 = train.quantile(0.25)\n",
        "Q3 = train.quantile(0.75)\n",
        "IQR = Q3 - Q1\n",
        "print(IQR)"
      ]
    },
    {
      "cell_type": "code",
      "execution_count": 110,
      "metadata": {
        "colab": {
          "base_uri": "https://localhost:8080/"
        },
        "id": "6NREQk04JQ1F",
        "outputId": "36bda9be-7694-4509-90fd-018ec2cde528"
      },
      "outputs": [
        {
          "output_type": "stream",
          "name": "stdout",
          "text": [
            "Year                  2010.000\n",
            "Month                    2.000\n",
            "Day                      4.000\n",
            "Hour                     2.000\n",
            "Minute                   0.000\n",
            "Clearsky DHI             0.000\n",
            "Clearsky DNI             0.000\n",
            "Clearsky GHI             0.000\n",
            "Cloud Type               0.000\n",
            "Dew Point                1.000\n",
            "Temperature              5.000\n",
            "Pressure              1000.000\n",
            "Relative Humidity       49.740\n",
            "Solar Zenith Angle      36.000\n",
            "Precipitable Water       0.825\n",
            "Wind Direction          53.000\n",
            "Wind Speed               0.900\n",
            "Fill Flag                0.000\n",
            "Name: 0.1, dtype: float64\n",
            "Year                  2017.000\n",
            "Month                   11.000\n",
            "Day                     28.000\n",
            "Hour                    21.000\n",
            "Minute                  30.000\n",
            "Clearsky DHI           146.000\n",
            "Clearsky DNI           851.000\n",
            "Clearsky GHI           804.000\n",
            "Cloud Type               7.000\n",
            "Dew Point               23.000\n",
            "Temperature             29.000\n",
            "Pressure              1010.000\n",
            "Relative Humidity      100.000\n",
            "Solar Zenith Angle     143.080\n",
            "Precipitable Water       5.018\n",
            "Wind Direction         319.900\n",
            "Wind Speed               4.000\n",
            "Fill Flag                0.000\n",
            "Name: 0.9, dtype: float64\n"
          ]
        }
      ],
      "source": [
        "print(train.quantile(0.10))\n",
        "print(train.quantile(0.90))"
      ]
    },
    {
      "cell_type": "code",
      "execution_count": 111,
      "metadata": {
        "colab": {
          "base_uri": "https://localhost:8080/"
        },
        "id": "pFfndlp9JTIg",
        "outputId": "2037d43d-7677-435f-828b-41862682c657"
      },
      "outputs": [
        {
          "output_type": "stream",
          "name": "stdout",
          "text": [
            "(160021, 18)\n"
          ]
        }
      ],
      "source": [
        "train = train[~((train < (Q1 - 1.5 * IQR)) | (train > (Q3 + 1.5 * IQR))).any(axis=1)]\n",
        "print(train.shape)"
      ]
    },
    {
      "cell_type": "markdown",
      "source": [
        "### Anamaly Detection"
      ],
      "metadata": {
        "id": "4RfXfCyYYZaZ"
      }
    },
    {
      "cell_type": "code",
      "source": [
        "import numpy as np\n",
        "import pandas as pd\n",
        "import seaborn as sns\n",
        "import matplotlib.pyplot as plt\n",
        "from sklearn.ensemble import IsolationForest"
      ],
      "metadata": {
        "id": "GCBkvz_eYXod"
      },
      "execution_count": 112,
      "outputs": []
    },
    {
      "cell_type": "code",
      "source": [
        "model=IsolationForest(n_estimators=100, max_samples='auto', contamination=float(0.1),max_features=1.0)\n",
        "model.fit(train)"
      ],
      "metadata": {
        "colab": {
          "base_uri": "https://localhost:8080/"
        },
        "id": "NrkmST5zYiez",
        "outputId": "94c56049-ee35-4a71-9f82-d3a3b9ac8113"
      },
      "execution_count": 113,
      "outputs": [
        {
          "output_type": "execute_result",
          "data": {
            "text/plain": [
              "IsolationForest(contamination=0.1)"
            ]
          },
          "metadata": {},
          "execution_count": 113
        }
      ]
    },
    {
      "cell_type": "code",
      "source": [
        "train['anomaly']=model.predict(train)"
      ],
      "metadata": {
        "id": "kjn6RiebYtXL"
      },
      "execution_count": 114,
      "outputs": []
    },
    {
      "cell_type": "code",
      "source": [
        "anomaly=train.loc[train['anomaly']==-1]"
      ],
      "metadata": {
        "id": "i54z65s9Y4BU"
      },
      "execution_count": 115,
      "outputs": []
    },
    {
      "cell_type": "code",
      "source": [
        "train = train[train['anomaly']==1]"
      ],
      "metadata": {
        "id": "rdq1EYrmY-BZ"
      },
      "execution_count": 116,
      "outputs": []
    },
    {
      "cell_type": "code",
      "source": [
        "train = train.drop(columns=\"anomaly\")"
      ],
      "metadata": {
        "id": "hz7ENtfyZLd6"
      },
      "execution_count": 117,
      "outputs": []
    },
    {
      "cell_type": "code",
      "source": [
        "train.shape"
      ],
      "metadata": {
        "colab": {
          "base_uri": "https://localhost:8080/"
        },
        "id": "lM48J2PIZRwd",
        "outputId": "303be51a-f51f-4874-d636-e8e7cc68e13d"
      },
      "execution_count": 118,
      "outputs": [
        {
          "output_type": "execute_result",
          "data": {
            "text/plain": [
              "(144019, 18)"
            ]
          },
          "metadata": {},
          "execution_count": 118
        }
      ]
    },
    {
      "cell_type": "code",
      "execution_count": 119,
      "metadata": {
        "id": "0K-pfGXIRtdO"
      },
      "outputs": [],
      "source": [
        "## Feature Selection"
      ]
    },
    {
      "cell_type": "markdown",
      "metadata": {
        "id": "-dfbPYkYtq_t"
      },
      "source": [
        "**Feature Selection - Using Lasso Regression**"
      ]
    },
    {
      "cell_type": "code",
      "execution_count": 120,
      "metadata": {
        "id": "cSewmBpJRw2h"
      },
      "outputs": [],
      "source": [
        "from sklearn.linear_model import Lasso\n",
        "\n",
        "from sklearn.feature_selection import SelectFromModel"
      ]
    },
    {
      "cell_type": "code",
      "execution_count": 122,
      "metadata": {
        "id": "8mOhMYe_svWa"
      },
      "outputs": [],
      "source": [
        "model = SelectFromModel(Lasso(alpha=0.005,random_state=0))"
      ]
    },
    {
      "cell_type": "code",
      "source": [
        "X_train = train.drop(['Clearsky DHI','Clearsky DNI','Clearsky GHI'],axis=1)"
      ],
      "metadata": {
        "id": "TrnHu95aX_br"
      },
      "execution_count": 121,
      "outputs": []
    },
    {
      "cell_type": "code",
      "source": [
        "y_train = train[[\"Clearsky DHI\",\"Clearsky DNI\",\"Clearsky GHI\"]]"
      ],
      "metadata": {
        "id": "XEr5QsL1YDQi"
      },
      "execution_count": 123,
      "outputs": []
    },
    {
      "cell_type": "code",
      "execution_count": 124,
      "metadata": {
        "colab": {
          "base_uri": "https://localhost:8080/"
        },
        "id": "KFtelA4otFrt",
        "outputId": "91030703-a950-476b-ffea-b85d8e96fef7"
      },
      "outputs": [
        {
          "output_type": "execute_result",
          "data": {
            "text/plain": [
              "SelectFromModel(estimator=Lasso(alpha=0.005, random_state=0))"
            ]
          },
          "metadata": {},
          "execution_count": 124
        }
      ],
      "source": [
        "model.fit(X_train,y_train)"
      ]
    },
    {
      "cell_type": "code",
      "execution_count": 57,
      "metadata": {
        "colab": {
          "base_uri": "https://localhost:8080/"
        },
        "id": "l4Y9MHZotHqg",
        "outputId": "11d00d47-cb53-4c58-8d07-350292dc323b"
      },
      "outputs": [
        {
          "output_type": "execute_result",
          "data": {
            "text/plain": [
              "array([ True,  True,  True,  True,  True,  True,  True,  True,  True,\n",
              "        True,  True,  True,  True,  True])"
            ]
          },
          "metadata": {},
          "execution_count": 57
        }
      ],
      "source": [
        "model.get_support()"
      ]
    },
    {
      "cell_type": "code",
      "execution_count": 125,
      "metadata": {
        "id": "33mpwJUStJ2v"
      },
      "outputs": [],
      "source": [
        "selected_features = X_train.columns[(model.get_support())]"
      ]
    },
    {
      "cell_type": "code",
      "execution_count": 126,
      "metadata": {
        "colab": {
          "base_uri": "https://localhost:8080/"
        },
        "id": "snM6UbIYtMFa",
        "outputId": "ab52bf15-c183-4710-9dd7-65b08ae97f27"
      },
      "outputs": [
        {
          "output_type": "execute_result",
          "data": {
            "text/plain": [
              "Index(['Year', 'Month', 'Day', 'Hour', 'Minute', 'Cloud Type', 'Dew Point',\n",
              "       'Temperature', 'Pressure', 'Relative Humidity', 'Solar Zenith Angle',\n",
              "       'Precipitable Water', 'Wind Direction', 'Wind Speed'],\n",
              "      dtype='object')"
            ]
          },
          "metadata": {},
          "execution_count": 126
        }
      ],
      "source": [
        "selected_features"
      ]
    },
    {
      "cell_type": "code",
      "execution_count": 127,
      "metadata": {
        "id": "rf2vgC8stT0t"
      },
      "outputs": [],
      "source": [
        "train = train.drop(columns='Fill Flag')"
      ]
    },
    {
      "cell_type": "code",
      "execution_count": 128,
      "metadata": {
        "id": "YyissdeHtlw5"
      },
      "outputs": [],
      "source": [
        "test = test.drop(columns='Fill Flag')"
      ]
    },
    {
      "cell_type": "code",
      "execution_count": 129,
      "metadata": {
        "id": "YVHXurT8R1Zy"
      },
      "outputs": [],
      "source": [
        "X_train = train.drop(['Clearsky DHI','Clearsky DNI','Clearsky GHI'],axis=1)"
      ]
    },
    {
      "cell_type": "code",
      "execution_count": 130,
      "metadata": {
        "id": "AXwTlY5rR7kg"
      },
      "outputs": [],
      "source": [
        "y_train = train[[\"Clearsky DHI\",\"Clearsky DNI\",\"Clearsky GHI\"]]"
      ]
    },
    {
      "cell_type": "code",
      "execution_count": 131,
      "metadata": {
        "id": "n46_8N0oSE39"
      },
      "outputs": [],
      "source": [
        "X_test = test.drop(['Clearsky DHI','Clearsky DNI','Clearsky GHI'],axis=1)"
      ]
    },
    {
      "cell_type": "code",
      "execution_count": 132,
      "metadata": {
        "id": "Dahly5nLT8-w"
      },
      "outputs": [],
      "source": [
        "y_test = test[[\"Clearsky DHI\",\"Clearsky DNI\",\"Clearsky GHI\"]]"
      ]
    },
    {
      "cell_type": "code",
      "execution_count": 133,
      "metadata": {
        "colab": {
          "base_uri": "https://localhost:8080/"
        },
        "id": "NOB-aH23SiEc",
        "outputId": "081088c7-7d75-4514-aa37-73facefff645"
      },
      "outputs": [
        {
          "output_type": "stream",
          "name": "stdout",
          "text": [
            "(144019, 14) (144019, 3)\n"
          ]
        }
      ],
      "source": [
        "print(X_train.shape,y_train.shape)"
      ]
    },
    {
      "cell_type": "code",
      "execution_count": 134,
      "metadata": {
        "colab": {
          "base_uri": "https://localhost:8080/"
        },
        "id": "g1JJrUwWTGtL",
        "outputId": "75cd5698-f754-4a21-9e33-c38f1f3c1849"
      },
      "outputs": [
        {
          "output_type": "stream",
          "name": "stdout",
          "text": [
            "(17520, 14) (17520, 3)\n"
          ]
        }
      ],
      "source": [
        "print(X_test.shape,y_test.shape)"
      ]
    },
    {
      "cell_type": "code",
      "execution_count": 135,
      "metadata": {
        "id": "mSPyQ2EJVtgc"
      },
      "outputs": [],
      "source": [
        "from sklearn.preprocessing import RobustScaler\n",
        "transformer = RobustScaler().fit(train[selected_features])"
      ]
    },
    {
      "cell_type": "code",
      "execution_count": 136,
      "metadata": {
        "colab": {
          "base_uri": "https://localhost:8080/",
          "height": 305
        },
        "id": "m27w9IEJV9ff",
        "outputId": "a5b2a02f-4e3a-44e3-9576-7446390b97c9"
      },
      "outputs": [
        {
          "output_type": "execute_result",
          "data": {
            "text/html": [
              "\n",
              "  <div id=\"df-7fdf191e-4f3c-40d8-8089-291b049c5b3d\">\n",
              "    <div class=\"colab-df-container\">\n",
              "      <div>\n",
              "<style scoped>\n",
              "    .dataframe tbody tr th:only-of-type {\n",
              "        vertical-align: middle;\n",
              "    }\n",
              "\n",
              "    .dataframe tbody tr th {\n",
              "        vertical-align: top;\n",
              "    }\n",
              "\n",
              "    .dataframe thead th {\n",
              "        text-align: right;\n",
              "    }\n",
              "</style>\n",
              "<table border=\"1\" class=\"dataframe\">\n",
              "  <thead>\n",
              "    <tr style=\"text-align: right;\">\n",
              "      <th></th>\n",
              "      <th>Year</th>\n",
              "      <th>Month</th>\n",
              "      <th>Day</th>\n",
              "      <th>Hour</th>\n",
              "      <th>Minute</th>\n",
              "      <th>Cloud Type</th>\n",
              "      <th>Dew Point</th>\n",
              "      <th>Temperature</th>\n",
              "      <th>Pressure</th>\n",
              "      <th>Relative Humidity</th>\n",
              "      <th>Solar Zenith Angle</th>\n",
              "      <th>Precipitable Water</th>\n",
              "      <th>Wind Direction</th>\n",
              "      <th>Wind Speed</th>\n",
              "    </tr>\n",
              "  </thead>\n",
              "  <tbody>\n",
              "    <tr>\n",
              "      <th>0</th>\n",
              "      <td>-1.0</td>\n",
              "      <td>-1.2</td>\n",
              "      <td>-1.0</td>\n",
              "      <td>-0.909091</td>\n",
              "      <td>-1.0</td>\n",
              "      <td>0.0</td>\n",
              "      <td>-1.333333</td>\n",
              "      <td>-1.250000</td>\n",
              "      <td>1.0</td>\n",
              "      <td>-0.350177</td>\n",
              "      <td>0.124943</td>\n",
              "      <td>-0.934032</td>\n",
              "      <td>0.874852</td>\n",
              "      <td>0.800000</td>\n",
              "    </tr>\n",
              "    <tr>\n",
              "      <th>1</th>\n",
              "      <td>-1.0</td>\n",
              "      <td>-1.2</td>\n",
              "      <td>-1.0</td>\n",
              "      <td>-0.909091</td>\n",
              "      <td>0.0</td>\n",
              "      <td>0.0</td>\n",
              "      <td>-1.250000</td>\n",
              "      <td>-1.250000</td>\n",
              "      <td>1.0</td>\n",
              "      <td>-0.174123</td>\n",
              "      <td>0.218232</td>\n",
              "      <td>-0.937524</td>\n",
              "      <td>0.874852</td>\n",
              "      <td>0.800000</td>\n",
              "    </tr>\n",
              "    <tr>\n",
              "      <th>2</th>\n",
              "      <td>-1.0</td>\n",
              "      <td>-1.2</td>\n",
              "      <td>-1.0</td>\n",
              "      <td>-0.363636</td>\n",
              "      <td>-1.0</td>\n",
              "      <td>0.0</td>\n",
              "      <td>-1.333333</td>\n",
              "      <td>-1.583333</td>\n",
              "      <td>1.0</td>\n",
              "      <td>0.009977</td>\n",
              "      <td>1.096332</td>\n",
              "      <td>-0.930927</td>\n",
              "      <td>-0.980427</td>\n",
              "      <td>0.266667</td>\n",
              "    </tr>\n",
              "    <tr>\n",
              "      <th>3</th>\n",
              "      <td>-1.0</td>\n",
              "      <td>-1.2</td>\n",
              "      <td>-1.0</td>\n",
              "      <td>-0.272727</td>\n",
              "      <td>-1.0</td>\n",
              "      <td>0.0</td>\n",
              "      <td>-1.416667</td>\n",
              "      <td>-1.666667</td>\n",
              "      <td>1.0</td>\n",
              "      <td>0.193756</td>\n",
              "      <td>0.944453</td>\n",
              "      <td>-0.925495</td>\n",
              "      <td>-0.942467</td>\n",
              "      <td>0.133333</td>\n",
              "    </tr>\n",
              "    <tr>\n",
              "      <th>4</th>\n",
              "      <td>-1.0</td>\n",
              "      <td>-1.2</td>\n",
              "      <td>-1.0</td>\n",
              "      <td>-0.272727</td>\n",
              "      <td>0.0</td>\n",
              "      <td>0.0</td>\n",
              "      <td>-1.416667</td>\n",
              "      <td>-1.666667</td>\n",
              "      <td>1.0</td>\n",
              "      <td>0.194078</td>\n",
              "      <td>0.851773</td>\n",
              "      <td>-0.923166</td>\n",
              "      <td>-0.942467</td>\n",
              "      <td>0.133333</td>\n",
              "    </tr>\n",
              "  </tbody>\n",
              "</table>\n",
              "</div>\n",
              "      <button class=\"colab-df-convert\" onclick=\"convertToInteractive('df-7fdf191e-4f3c-40d8-8089-291b049c5b3d')\"\n",
              "              title=\"Convert this dataframe to an interactive table.\"\n",
              "              style=\"display:none;\">\n",
              "        \n",
              "  <svg xmlns=\"http://www.w3.org/2000/svg\" height=\"24px\"viewBox=\"0 0 24 24\"\n",
              "       width=\"24px\">\n",
              "    <path d=\"M0 0h24v24H0V0z\" fill=\"none\"/>\n",
              "    <path d=\"M18.56 5.44l.94 2.06.94-2.06 2.06-.94-2.06-.94-.94-2.06-.94 2.06-2.06.94zm-11 1L8.5 8.5l.94-2.06 2.06-.94-2.06-.94L8.5 2.5l-.94 2.06-2.06.94zm10 10l.94 2.06.94-2.06 2.06-.94-2.06-.94-.94-2.06-.94 2.06-2.06.94z\"/><path d=\"M17.41 7.96l-1.37-1.37c-.4-.4-.92-.59-1.43-.59-.52 0-1.04.2-1.43.59L10.3 9.45l-7.72 7.72c-.78.78-.78 2.05 0 2.83L4 21.41c.39.39.9.59 1.41.59.51 0 1.02-.2 1.41-.59l7.78-7.78 2.81-2.81c.8-.78.8-2.07 0-2.86zM5.41 20L4 18.59l7.72-7.72 1.47 1.35L5.41 20z\"/>\n",
              "  </svg>\n",
              "      </button>\n",
              "      \n",
              "  <style>\n",
              "    .colab-df-container {\n",
              "      display:flex;\n",
              "      flex-wrap:wrap;\n",
              "      gap: 12px;\n",
              "    }\n",
              "\n",
              "    .colab-df-convert {\n",
              "      background-color: #E8F0FE;\n",
              "      border: none;\n",
              "      border-radius: 50%;\n",
              "      cursor: pointer;\n",
              "      display: none;\n",
              "      fill: #1967D2;\n",
              "      height: 32px;\n",
              "      padding: 0 0 0 0;\n",
              "      width: 32px;\n",
              "    }\n",
              "\n",
              "    .colab-df-convert:hover {\n",
              "      background-color: #E2EBFA;\n",
              "      box-shadow: 0px 1px 2px rgba(60, 64, 67, 0.3), 0px 1px 3px 1px rgba(60, 64, 67, 0.15);\n",
              "      fill: #174EA6;\n",
              "    }\n",
              "\n",
              "    [theme=dark] .colab-df-convert {\n",
              "      background-color: #3B4455;\n",
              "      fill: #D2E3FC;\n",
              "    }\n",
              "\n",
              "    [theme=dark] .colab-df-convert:hover {\n",
              "      background-color: #434B5C;\n",
              "      box-shadow: 0px 1px 3px 1px rgba(0, 0, 0, 0.15);\n",
              "      filter: drop-shadow(0px 1px 2px rgba(0, 0, 0, 0.3));\n",
              "      fill: #FFFFFF;\n",
              "    }\n",
              "  </style>\n",
              "\n",
              "      <script>\n",
              "        const buttonEl =\n",
              "          document.querySelector('#df-7fdf191e-4f3c-40d8-8089-291b049c5b3d button.colab-df-convert');\n",
              "        buttonEl.style.display =\n",
              "          google.colab.kernel.accessAllowed ? 'block' : 'none';\n",
              "\n",
              "        async function convertToInteractive(key) {\n",
              "          const element = document.querySelector('#df-7fdf191e-4f3c-40d8-8089-291b049c5b3d');\n",
              "          const dataTable =\n",
              "            await google.colab.kernel.invokeFunction('convertToInteractive',\n",
              "                                                     [key], {});\n",
              "          if (!dataTable) return;\n",
              "\n",
              "          const docLinkHtml = 'Like what you see? Visit the ' +\n",
              "            '<a target=\"_blank\" href=https://colab.research.google.com/notebooks/data_table.ipynb>data table notebook</a>'\n",
              "            + ' to learn more about interactive tables.';\n",
              "          element.innerHTML = '';\n",
              "          dataTable['output_type'] = 'display_data';\n",
              "          await google.colab.output.renderOutput(dataTable, element);\n",
              "          const docLink = document.createElement('div');\n",
              "          docLink.innerHTML = docLinkHtml;\n",
              "          element.appendChild(docLink);\n",
              "        }\n",
              "      </script>\n",
              "    </div>\n",
              "  </div>\n",
              "  "
            ],
            "text/plain": [
              "   Year  Month  Day      Hour  Minute  Cloud Type  Dew Point  Temperature  \\\n",
              "0  -1.0   -1.2 -1.0 -0.909091    -1.0         0.0  -1.333333    -1.250000   \n",
              "1  -1.0   -1.2 -1.0 -0.909091     0.0         0.0  -1.250000    -1.250000   \n",
              "2  -1.0   -1.2 -1.0 -0.363636    -1.0         0.0  -1.333333    -1.583333   \n",
              "3  -1.0   -1.2 -1.0 -0.272727    -1.0         0.0  -1.416667    -1.666667   \n",
              "4  -1.0   -1.2 -1.0 -0.272727     0.0         0.0  -1.416667    -1.666667   \n",
              "\n",
              "   Pressure  Relative Humidity  Solar Zenith Angle  Precipitable Water  \\\n",
              "0       1.0          -0.350177            0.124943           -0.934032   \n",
              "1       1.0          -0.174123            0.218232           -0.937524   \n",
              "2       1.0           0.009977            1.096332           -0.930927   \n",
              "3       1.0           0.193756            0.944453           -0.925495   \n",
              "4       1.0           0.194078            0.851773           -0.923166   \n",
              "\n",
              "   Wind Direction  Wind Speed  \n",
              "0        0.874852    0.800000  \n",
              "1        0.874852    0.800000  \n",
              "2       -0.980427    0.266667  \n",
              "3       -0.942467    0.133333  \n",
              "4       -0.942467    0.133333  "
            ]
          },
          "metadata": {},
          "execution_count": 136
        }
      ],
      "source": [
        "X_train_scaled = pd.DataFrame(transformer.transform(X_train[selected_features]))\n",
        "X_train_scaled.columns = X_train[selected_features].columns.tolist()\n",
        "X_test_scaled = pd.DataFrame(transformer.transform(X_test[selected_features]))\n",
        "X_test_scaled.columns = X_test[selected_features].columns.tolist()\n",
        "X_train_scaled.head()"
      ]
    },
    {
      "cell_type": "code",
      "execution_count": 137,
      "metadata": {
        "id": "9ocvtyoSWEOB"
      },
      "outputs": [],
      "source": [
        "# Make scorer accuracy\n",
        "score_acc = make_scorer(accuracy_score)"
      ]
    },
    {
      "cell_type": "code",
      "execution_count": 138,
      "metadata": {
        "id": "r0apCLHmY62W"
      },
      "outputs": [],
      "source": [
        "\n",
        "from keras.wrappers.scikit_learn import KerasRegressor\n",
        "from tensorflow.keras.optimizers import RMSprop\n",
        "\n",
        "from tensorflow.keras import Sequential # import Sequential from tensorflow.keras\n",
        "from tensorflow.keras.layers import Dense # import Dense from tensorflow.keras.layers\n",
        "from numpy.random import seed # seed helps you to fix the randomness in the neural network. \n",
        "import tensorflow"
      ]
    },
    {
      "cell_type": "code",
      "execution_count": 139,
      "metadata": {
        "id": "9Eysw-KEJkuE"
      },
      "outputs": [],
      "source": [
        "from sklearn.model_selection import KFold"
      ]
    },
    {
      "cell_type": "code",
      "execution_count": 140,
      "metadata": {
        "id": "_gdaWq4FJk4G"
      },
      "outputs": [],
      "source": [
        "from tensorflow.keras.losses import mean_squared_error"
      ]
    },
    {
      "cell_type": "code",
      "execution_count": 141,
      "metadata": {
        "id": "0DfZTVUoJk-P"
      },
      "outputs": [],
      "source": [
        "from numpy.random import seed # seed helps you to fix the randomness in the neural network."
      ]
    },
    {
      "cell_type": "code",
      "execution_count": 142,
      "metadata": {
        "id": "jXDOmSBSJs-E"
      },
      "outputs": [],
      "source": [
        "# Import packages\n",
        "# Basic packages\n",
        "import numpy as np\n",
        "import pandas as pd\n",
        "import matplotlib.pyplot as plt\n",
        "import seaborn as sns\n",
        "\n",
        "import pickle\n",
        "from math import floor\n",
        "from sklearn.model_selection import train_test_split, cross_val_score\n",
        "from sklearn.preprocessing import MinMaxScaler\n",
        "\n",
        "# Evaluation and bayesian optimization\n",
        "from sklearn.metrics import make_scorer, mean_absolute_error\n",
        "from sklearn.metrics import mean_squared_error as MSE\n",
        "from hyperopt import hp, fmin, tpe\n",
        "from sklearn.model_selection import GridSearchCV, StratifiedKFold\n",
        "from bayes_opt import BayesianOptimization\n",
        "\n",
        "import warnings\n",
        "warnings.filterwarnings('ignore')\n",
        "pd.set_option(\"display.max_columns\", None)"
      ]
    },
    {
      "cell_type": "code",
      "execution_count": 143,
      "metadata": {
        "id": "jHueBCDUJtRe"
      },
      "outputs": [],
      "source": [
        "# Make scorer: MSE\n",
        "mse = make_scorer(MSE, greater_is_better=False)"
      ]
    },
    {
      "cell_type": "code",
      "execution_count": 144,
      "metadata": {
        "id": "pdjh_FbiJtWF"
      },
      "outputs": [],
      "source": [
        "\n",
        "    # Hyperparameter-tuning: Bayesian Optimization, bayes_opt\n",
        "def nn_re_bo(neurons, activation, optimizer, batch_size, epochs, layers1, layers2, dropout, dropout_rate):\n",
        "    optimizerL = ['Adam', 'RMSprop', 'Adadelta', 'Adagrad', 'Adamax', 'Nadam', 'Ftrl','SGD', 'SGD']\n",
        "    activationL = ['relu', 'sigmoid', 'softplus', 'softsign', 'tanh', 'selu',\n",
        "                   'elu', 'exponential', 'LeakyReLU']\n",
        "        \n",
        "    neurons = round(neurons)\n",
        "    activation = activationL[floor(activation)]\n",
        "    optimizer = optimizerL[floor(optimizer)]\n",
        "    batch_size = round(batch_size)\n",
        "    epochs = round(epochs)\n",
        "    layers1 = round(layers1)\n",
        "    layers2 = round(layers2)\n",
        "        \n",
        "    def nn_re_fun():\n",
        "        nn = Sequential()\n",
        "        nn.add(Dense(neurons, input_dim=14, activation=activation))\n",
        "        for i in range(layers1):\n",
        "            nn.add(Dense(neurons, activation=activation))\n",
        "        if dropout > 0.5:\n",
        "            nn.add(Dropout(dropout_rate, seed=123))\n",
        "        for i in range(layers2):\n",
        "            nn.add(Dense(neurons, activation=activation))\n",
        "        nn.add(Dense(3, activation='linear'))\n",
        "        nn.compile(loss='mean_squared_error', optimizer=optimizer)\n",
        "        return nn\n",
        "\n",
        "    nn = KerasRegressor(build_fn=nn_re_fun, epochs=epochs, batch_size=batch_size, verbose=0)\n",
        "    \n",
        "    kfold = KFold(n_splits=10, shuffle=True, random_state=123)\n",
        "    scores =  cross_val_score(nn, X_train, y_train, cv=kfold).mean()\n",
        "    score = ((scores*-1)**0.5)*-1\n",
        "    return score"
      ]
    },
    {
      "cell_type": "code",
      "execution_count": 145,
      "metadata": {
        "colab": {
          "base_uri": "https://localhost:8080/"
        },
        "id": "H23ctybXJtbI",
        "outputId": "df898853-15c9-4e4e-cc0b-e9bae89f1bcc"
      },
      "outputs": [
        {
          "output_type": "stream",
          "name": "stdout",
          "text": [
            "|   iter    |  target   | activa... | batch_... |  dropout  | dropou... |  epochs   |  layers1  |  layers2  |  neurons  | optimizer |\n",
            "-------------------------------------------------------------------------------------------------------------------------------------\n",
            "| \u001b[0m 1       \u001b[0m | \u001b[0m-41.25   \u001b[0m | \u001b[0m 6.268   \u001b[0m | \u001b[0m 285.8   \u001b[0m | \u001b[0m 0.2269  \u001b[0m | \u001b[0m 0.1654  \u001b[0m | \u001b[0m 17.19   \u001b[0m | \u001b[0m 1.846   \u001b[0m | \u001b[0m 2.962   \u001b[0m | \u001b[0m 71.63   \u001b[0m | \u001b[0m 3.367   \u001b[0m |\n",
            "| \u001b[0m 2       \u001b[0m | \u001b[0m-53.95   \u001b[0m | \u001b[0m 0.4273  \u001b[0m | \u001b[0m 406.3   \u001b[0m | \u001b[0m 0.7922  \u001b[0m | \u001b[0m 0.1338  \u001b[0m | \u001b[0m 15.58   \u001b[0m | \u001b[0m 2.939   \u001b[0m | \u001b[0m 1.549   \u001b[0m | \u001b[0m 78.79   \u001b[0m | \u001b[0m 4.941   \u001b[0m |\n",
            "| \u001b[0m 3       \u001b[0m | \u001b[0m-344.0   \u001b[0m | \u001b[0m 4.807   \u001b[0m | \u001b[0m 284.9   \u001b[0m | \u001b[0m 0.6537  \u001b[0m | \u001b[0m 0.004567\u001b[0m | \u001b[0m 17.41   \u001b[0m | \u001b[0m 2.957   \u001b[0m | \u001b[0m 1.505   \u001b[0m | \u001b[0m 71.11   \u001b[0m | \u001b[0m 3.374   \u001b[0m |\n",
            "| \u001b[0m 4       \u001b[0m | \u001b[0m-349.5   \u001b[0m | \u001b[0m 4.008   \u001b[0m | \u001b[0m 220.1   \u001b[0m | \u001b[0m 0.6678  \u001b[0m | \u001b[0m 0.2293  \u001b[0m | \u001b[0m 13.47   \u001b[0m | \u001b[0m 2.118   \u001b[0m | \u001b[0m 1.91    \u001b[0m | \u001b[0m 47.11   \u001b[0m | \u001b[0m 2.928   \u001b[0m |\n",
            "| \u001b[0m 5       \u001b[0m | \u001b[0m-53.47   \u001b[0m | \u001b[0m 0.05796 \u001b[0m | \u001b[0m 378.8   \u001b[0m | \u001b[0m 0.8438  \u001b[0m | \u001b[0m 0.1297  \u001b[0m | \u001b[0m 17.85   \u001b[0m | \u001b[0m 1.595   \u001b[0m | \u001b[0m 1.567   \u001b[0m | \u001b[0m 52.87   \u001b[0m | \u001b[0m 4.12    \u001b[0m |\n",
            "| \u001b[0m 6       \u001b[0m | \u001b[0m-161.6   \u001b[0m | \u001b[0m 1.4     \u001b[0m | \u001b[0m 257.3   \u001b[0m | \u001b[0m 0.8349  \u001b[0m | \u001b[0m 0.008602\u001b[0m | \u001b[0m 14.06   \u001b[0m | \u001b[0m 1.839   \u001b[0m | \u001b[0m 1.169   \u001b[0m | \u001b[0m 76.69   \u001b[0m | \u001b[0m 1.592   \u001b[0m |\n",
            "| \u001b[0m 7       \u001b[0m | \u001b[0m-266.9   \u001b[0m | \u001b[0m 4.651   \u001b[0m | \u001b[0m 266.3   \u001b[0m | \u001b[0m 0.6006  \u001b[0m | \u001b[0m 0.175   \u001b[0m | \u001b[0m 14.21   \u001b[0m | \u001b[0m 1.339   \u001b[0m | \u001b[0m 1.075   \u001b[0m | \u001b[0m 32.99   \u001b[0m | \u001b[0m 5.731   \u001b[0m |\n",
            "| \u001b[0m 8       \u001b[0m | \u001b[0m-280.8   \u001b[0m | \u001b[0m 1.815   \u001b[0m | \u001b[0m 459.8   \u001b[0m | \u001b[0m 0.008983\u001b[0m | \u001b[0m 0.05124 \u001b[0m | \u001b[0m 18.48   \u001b[0m | \u001b[0m 2.484   \u001b[0m | \u001b[0m 2.101   \u001b[0m | \u001b[0m 81.28   \u001b[0m | \u001b[0m 1.183   \u001b[0m |\n",
            "| \u001b[95m 9       \u001b[0m | \u001b[95m-26.79   \u001b[0m | \u001b[95m 8.419   \u001b[0m | \u001b[95m 251.5   \u001b[0m | \u001b[95m 0.3017  \u001b[0m | \u001b[95m 0.2335  \u001b[0m | \u001b[95m 18.8    \u001b[0m | \u001b[95m 1.619   \u001b[0m | \u001b[95m 1.036   \u001b[0m | \u001b[95m 78.46   \u001b[0m | \u001b[95m 4.093   \u001b[0m |\n",
            "| \u001b[0m 10      \u001b[0m | \u001b[0m-53.46   \u001b[0m | \u001b[0m 8.237   \u001b[0m | \u001b[0m 399.0   \u001b[0m | \u001b[0m 0.5536  \u001b[0m | \u001b[0m 0.08229 \u001b[0m | \u001b[0m 16.5    \u001b[0m | \u001b[0m 1.872   \u001b[0m | \u001b[0m 2.595   \u001b[0m | \u001b[0m 16.7    \u001b[0m | \u001b[0m 1.721   \u001b[0m |\n",
            "| \u001b[0m 11      \u001b[0m | \u001b[0m-65.83   \u001b[0m | \u001b[0m 8.127   \u001b[0m | \u001b[0m 450.6   \u001b[0m | \u001b[0m 0.2657  \u001b[0m | \u001b[0m 0.2049  \u001b[0m | \u001b[0m 17.51   \u001b[0m | \u001b[0m 2.109   \u001b[0m | \u001b[0m 2.983   \u001b[0m | \u001b[0m 47.53   \u001b[0m | \u001b[0m 6.097   \u001b[0m |\n",
            "=====================================================================================================================================\n"
          ]
        }
      ],
      "source": [
        "# Set paramaters\n",
        "# Set hyperparameters spaces\n",
        "params_nn ={\n",
        "    'neurons': (10, 100),\n",
        "    'activation':(0, 9),\n",
        "    'optimizer':(0,7),\n",
        "    'batch_size':(200, 500),\n",
        "    'epochs':(10, 20),\n",
        "    'layers1':(1,3),\n",
        "    'layers2':(1,3),\n",
        "    'dropout':(0,1),\n",
        "    'dropout_rate':(0,0.3)\n",
        "}\n",
        "\n",
        "# Run Bayesian Optimization\n",
        "nn_bo = BayesianOptimization(nn_re_bo, params_nn, random_state=123)\n",
        "nn_bo.maximize(init_points=-9, n_iter=10)"
      ]
    },
    {
      "cell_type": "code",
      "execution_count": 146,
      "metadata": {
        "colab": {
          "base_uri": "https://localhost:8080/"
        },
        "id": "VjcWXWDIMYLh",
        "outputId": "7d267257-2fee-440b-b802-8dea96987b12"
      },
      "outputs": [
        {
          "output_type": "execute_result",
          "data": {
            "text/plain": [
              "{'activation': 'LeakyReLU',\n",
              " 'batch_size': 251,\n",
              " 'dropout': 0.30171083763528883,\n",
              " 'dropout_rate': 0.23345748839375755,\n",
              " 'epochs': 19,\n",
              " 'layers1': 2,\n",
              " 'layers2': 1,\n",
              " 'neurons': 78,\n",
              " 'optimizer': 'Adamax'}"
            ]
          },
          "metadata": {},
          "execution_count": 146
        }
      ],
      "source": [
        "# Best hyperparameters\n",
        "params_nn = nn_bo.max['params']\n",
        "\n",
        "optimizerL = ['Adam', 'RMSprop', 'Adadelta', 'Adagrad', 'Adamax', 'Nadam', 'Ftrl','SGD', 'SGD']\n",
        "activationL = ['relu', 'sigmoid', 'softplus', 'softsign', 'tanh', 'selu',\n",
        "               'elu', 'exponential', 'LeakyReLU']\n",
        "\n",
        "params_nn['neurons'] = round(params_nn['neurons'])\n",
        "params_nn['activation'] = activationL[floor(params_nn['activation'])]\n",
        "params_nn['optimizer'] = optimizerL[round(params_nn['optimizer'])]\n",
        "params_nn['batch_size'] = round(params_nn['batch_size'])\n",
        "params_nn['epochs'] = round(params_nn['epochs'])\n",
        "params_nn['layers1'] = round(params_nn['layers1'])\n",
        "params_nn['layers2'] = round(params_nn['layers2'])\n",
        "params_nn"
      ]
    },
    {
      "cell_type": "code",
      "execution_count": 147,
      "metadata": {
        "colab": {
          "base_uri": "https://localhost:8080/"
        },
        "id": "rK5Auh8JJlBu",
        "outputId": "dfafae34-49a9-4589-f873-22210bc63961"
      },
      "outputs": [
        {
          "output_type": "execute_result",
          "data": {
            "text/plain": [
              "78"
            ]
          },
          "metadata": {},
          "execution_count": 147
        }
      ],
      "source": [
        "params_nn['neurons']"
      ]
    },
    {
      "cell_type": "code",
      "execution_count": 148,
      "metadata": {
        "id": "w0oUEA4fJlEN"
      },
      "outputs": [],
      "source": [
        "# Fitting the training data\n",
        "def nn_re_fun():\n",
        "    nn = Sequential()\n",
        "    nn.add(Dense(params_nn['neurons'], input_dim=14, activation=params_nn['activation']))\n",
        "    for i in range(params_nn['layers1']):\n",
        "        nn.add(Dense(params_nn['neurons'], activation=params_nn['activation']))\n",
        "    if params_nn['dropout'] > 0.5:\n",
        "        nn.add(Dropout(params_nn['dropout_rate'], seed=123))\n",
        "    for i in range(params_nn['layers2']):\n",
        "        nn.add(Dense(params_nn['neurons'], activation=params_nn['activation']))\n",
        "    nn.add(Dense(3, activation='linear'))\n",
        "    nn.compile(loss='mean_squared_error', optimizer=params_nn['optimizer'], metrics=['mse'])\n",
        "    return nn\n",
        "\n",
        "\n"
      ]
    },
    {
      "cell_type": "code",
      "execution_count": 149,
      "metadata": {
        "id": "nVItszPiN62a"
      },
      "outputs": [],
      "source": [
        "nn_hyp = KerasRegressor(build_fn=nn_re_fun, epochs=params_nn['epochs'], batch_size=params_nn['batch_size'], verbose=0)\n",
        "\n",
        "nn_hyp.fit(X_train, y_train, validation_data=(X_test, y_test), verbose=0)\n",
        "\n",
        "# Predict the validation data\n",
        "pred_nn = nn_hyp.predict(X_test)\n",
        "\n",
        "# Compute RMSE\n",
        "rmse_nn = MSE(y_test, pred_nn)**0.5\n"
      ]
    },
    {
      "cell_type": "code",
      "execution_count": 150,
      "metadata": {
        "colab": {
          "base_uri": "https://localhost:8080/"
        },
        "id": "QRvrrLFdOTpg",
        "outputId": "909d58e4-d6f2-45d5-c6ae-3aa81059b235"
      },
      "outputs": [
        {
          "output_type": "execute_result",
          "data": {
            "text/plain": [
              "372.20058316112807"
            ]
          },
          "metadata": {},
          "execution_count": 150
        }
      ],
      "source": [
        "rmse_nn"
      ]
    },
    {
      "cell_type": "code",
      "execution_count": 151,
      "metadata": {
        "colab": {
          "base_uri": "https://localhost:8080/"
        },
        "id": "RbpzRveHOnE8",
        "outputId": "cf1c40f9-e3bc-41d9-dd4a-84dd8fdd4afc"
      },
      "outputs": [
        {
          "output_type": "execute_result",
          "data": {
            "text/plain": [
              "138533.2741054838"
            ]
          },
          "metadata": {},
          "execution_count": 151
        }
      ],
      "source": [
        "MSE(y_test, pred_nn)"
      ]
    },
    {
      "cell_type": "code",
      "execution_count": 152,
      "metadata": {
        "colab": {
          "base_uri": "https://localhost:8080/",
          "height": 279
        },
        "id": "vyY19Z2ZOWPE",
        "outputId": "b6a87776-be0f-4bca-9b90-61cfe37e0899"
      },
      "outputs": [
        {
          "output_type": "display_data",
          "data": {
            "image/png": "[encoded data removed]",
            "text/plain": [
              "<Figure size 432x288 with 1 Axes>"
            ]
          },
          "metadata": {
            "needs_background": "light"
          }
        }
      ],
      "source": [
        "# Scatter plot true and predicted values\n",
        "plt.scatter(pred_nn, y_test, alpha=0.2)\n",
        "plt.xlabel('predicted')\n",
        "plt.ylabel('true value')\n",
        "\n",
        "plt.show()"
      ]
    },
    {
      "cell_type": "code",
      "execution_count": 153,
      "metadata": {
        "id": "-iSj1A3IOZL8"
      },
      "outputs": [],
      "source": [
        "train_error =  np.abs(y_test - pred_nn)\n",
        "mean_error = np.mean(train_error)\n",
        "min_error = np.min(train_error)\n",
        "max_error = np.max(train_error)\n",
        "std_error = np.std(train_error)"
      ]
    },
    {
      "cell_type": "code",
      "execution_count": 154,
      "metadata": {
        "colab": {
          "base_uri": "https://localhost:8080/"
        },
        "id": "4c_asCcKOcuz",
        "outputId": "6980f1d9-04ef-4bea-ebf1-111c9015087a"
      },
      "outputs": [
        {
          "output_type": "execute_result",
          "data": {
            "text/plain": [
              "array([[ 5.5564320e-01, -7.9800224e+00,  3.2965188e+00],\n",
              "       [ 1.7642206e-01, -8.7095480e+00,  3.9384191e+00],\n",
              "       [ 6.1941195e-01, -8.4091482e+00,  3.7489097e+00],\n",
              "       ...,\n",
              "       [ 1.3551808e+01,  1.8132231e+02,  3.4192833e+01],\n",
              "       [-1.2953722e+00, -2.9194274e+00, -2.8352783e+00],\n",
              "       [-1.0033449e+00, -8.5353193e+00,  1.6429838e+00]], dtype=float32)"
            ]
          },
          "metadata": {},
          "execution_count": 154
        }
      ],
      "source": [
        "pred_nn"
      ]
    },
    {
      "cell_type": "code",
      "execution_count": 155,
      "metadata": {
        "id": "47uLZl6aOfUq"
      },
      "outputs": [],
      "source": [
        "prediction = pd.DataFrame(pred_nn)"
      ]
    },
    {
      "cell_type": "code",
      "execution_count": 156,
      "metadata": {
        "colab": {
          "base_uri": "https://localhost:8080/",
          "height": 424
        },
        "id": "NZKM6q1tOhIj",
        "outputId": "e9d252df-e851-471c-b29b-ac6f3f7d440f"
      },
      "outputs": [
        {
          "output_type": "execute_result",
          "data": {
            "text/html": [
              "\n",
              "  <div id=\"df-a0042bd2-7a17-4cb6-adbb-39b13aa3d730\">\n",
              "    <div class=\"colab-df-container\">\n",
              "      <div>\n",
              "<style scoped>\n",
              "    .dataframe tbody tr th:only-of-type {\n",
              "        vertical-align: middle;\n",
              "    }\n",
              "\n",
              "    .dataframe tbody tr th {\n",
              "        vertical-align: top;\n",
              "    }\n",
              "\n",
              "    .dataframe thead th {\n",
              "        text-align: right;\n",
              "    }\n",
              "</style>\n",
              "<table border=\"1\" class=\"dataframe\">\n",
              "  <thead>\n",
              "    <tr style=\"text-align: right;\">\n",
              "      <th></th>\n",
              "      <th>0</th>\n",
              "      <th>1</th>\n",
              "      <th>2</th>\n",
              "    </tr>\n",
              "  </thead>\n",
              "  <tbody>\n",
              "    <tr>\n",
              "      <th>0</th>\n",
              "      <td>0.555643</td>\n",
              "      <td>-7.980022</td>\n",
              "      <td>3.296519</td>\n",
              "    </tr>\n",
              "    <tr>\n",
              "      <th>1</th>\n",
              "      <td>0.176422</td>\n",
              "      <td>-8.709548</td>\n",
              "      <td>3.938419</td>\n",
              "    </tr>\n",
              "    <tr>\n",
              "      <th>2</th>\n",
              "      <td>0.619412</td>\n",
              "      <td>-8.409148</td>\n",
              "      <td>3.748910</td>\n",
              "    </tr>\n",
              "    <tr>\n",
              "      <th>3</th>\n",
              "      <td>0.419025</td>\n",
              "      <td>-9.170046</td>\n",
              "      <td>4.481726</td>\n",
              "    </tr>\n",
              "    <tr>\n",
              "      <th>4</th>\n",
              "      <td>0.547952</td>\n",
              "      <td>-8.799377</td>\n",
              "      <td>4.057145</td>\n",
              "    </tr>\n",
              "    <tr>\n",
              "      <th>...</th>\n",
              "      <td>...</td>\n",
              "      <td>...</td>\n",
              "      <td>...</td>\n",
              "    </tr>\n",
              "    <tr>\n",
              "      <th>17515</th>\n",
              "      <td>48.736660</td>\n",
              "      <td>633.020020</td>\n",
              "      <td>195.185104</td>\n",
              "    </tr>\n",
              "    <tr>\n",
              "      <th>17516</th>\n",
              "      <td>37.164783</td>\n",
              "      <td>457.351990</td>\n",
              "      <td>110.511024</td>\n",
              "    </tr>\n",
              "    <tr>\n",
              "      <th>17517</th>\n",
              "      <td>13.551808</td>\n",
              "      <td>181.322311</td>\n",
              "      <td>34.192833</td>\n",
              "    </tr>\n",
              "    <tr>\n",
              "      <th>17518</th>\n",
              "      <td>-1.295372</td>\n",
              "      <td>-2.919427</td>\n",
              "      <td>-2.835278</td>\n",
              "    </tr>\n",
              "    <tr>\n",
              "      <th>17519</th>\n",
              "      <td>-1.003345</td>\n",
              "      <td>-8.535319</td>\n",
              "      <td>1.642984</td>\n",
              "    </tr>\n",
              "  </tbody>\n",
              "</table>\n",
              "<p>17520 rows × 3 columns</p>\n",
              "</div>\n",
              "      <button class=\"colab-df-convert\" onclick=\"convertToInteractive('df-a0042bd2-7a17-4cb6-adbb-39b13aa3d730')\"\n",
              "              title=\"Convert this dataframe to an interactive table.\"\n",
              "              style=\"display:none;\">\n",
              "        \n",
              "  <svg xmlns=\"http://www.w3.org/2000/svg\" height=\"24px\"viewBox=\"0 0 24 24\"\n",
              "       width=\"24px\">\n",
              "    <path d=\"M0 0h24v24H0V0z\" fill=\"none\"/>\n",
              "    <path d=\"M18.56 5.44l.94 2.06.94-2.06 2.06-.94-2.06-.94-.94-2.06-.94 2.06-2.06.94zm-11 1L8.5 8.5l.94-2.06 2.06-.94-2.06-.94L8.5 2.5l-.94 2.06-2.06.94zm10 10l.94 2.06.94-2.06 2.06-.94-2.06-.94-.94-2.06-.94 2.06-2.06.94z\"/><path d=\"M17.41 7.96l-1.37-1.37c-.4-.4-.92-.59-1.43-.59-.52 0-1.04.2-1.43.59L10.3 9.45l-7.72 7.72c-.78.78-.78 2.05 0 2.83L4 21.41c.39.39.9.59 1.41.59.51 0 1.02-.2 1.41-.59l7.78-7.78 2.81-2.81c.8-.78.8-2.07 0-2.86zM5.41 20L4 18.59l7.72-7.72 1.47 1.35L5.41 20z\"/>\n",
              "  </svg>\n",
              "      </button>\n",
              "      \n",
              "  <style>\n",
              "    .colab-df-container {\n",
              "      display:flex;\n",
              "      flex-wrap:wrap;\n",
              "      gap: 12px;\n",
              "    }\n",
              "\n",
              "    .colab-df-convert {\n",
              "      background-color: #E8F0FE;\n",
              "      border: none;\n",
              "      border-radius: 50%;\n",
              "      cursor: pointer;\n",
              "      display: none;\n",
              "      fill: #1967D2;\n",
              "      height: 32px;\n",
              "      padding: 0 0 0 0;\n",
              "      width: 32px;\n",
              "    }\n",
              "\n",
              "    .colab-df-convert:hover {\n",
              "      background-color: #E2EBFA;\n",
              "      box-shadow: 0px 1px 2px rgba(60, 64, 67, 0.3), 0px 1px 3px 1px rgba(60, 64, 67, 0.15);\n",
              "      fill: #174EA6;\n",
              "    }\n",
              "\n",
              "    [theme=dark] .colab-df-convert {\n",
              "      background-color: #3B4455;\n",
              "      fill: #D2E3FC;\n",
              "    }\n",
              "\n",
              "    [theme=dark] .colab-df-convert:hover {\n",
              "      background-color: #434B5C;\n",
              "      box-shadow: 0px 1px 3px 1px rgba(0, 0, 0, 0.15);\n",
              "      filter: drop-shadow(0px 1px 2px rgba(0, 0, 0, 0.3));\n",
              "      fill: #FFFFFF;\n",
              "    }\n",
              "  </style>\n",
              "\n",
              "      <script>\n",
              "        const buttonEl =\n",
              "          document.querySelector('#df-a0042bd2-7a17-4cb6-adbb-39b13aa3d730 button.colab-df-convert');\n",
              "        buttonEl.style.display =\n",
              "          google.colab.kernel.accessAllowed ? 'block' : 'none';\n",
              "\n",
              "        async function convertToInteractive(key) {\n",
              "          const element = document.querySelector('#df-a0042bd2-7a17-4cb6-adbb-39b13aa3d730');\n",
              "          const dataTable =\n",
              "            await google.colab.kernel.invokeFunction('convertToInteractive',\n",
              "                                                     [key], {});\n",
              "          if (!dataTable) return;\n",
              "\n",
              "          const docLinkHtml = 'Like what you see? Visit the ' +\n",
              "            '<a target=\"_blank\" href=https://colab.research.google.com/notebooks/data_table.ipynb>data table notebook</a>'\n",
              "            + ' to learn more about interactive tables.';\n",
              "          element.innerHTML = '';\n",
              "          dataTable['output_type'] = 'display_data';\n",
              "          await google.colab.output.renderOutput(dataTable, element);\n",
              "          const docLink = document.createElement('div');\n",
              "          docLink.innerHTML = docLinkHtml;\n",
              "          element.appendChild(docLink);\n",
              "        }\n",
              "      </script>\n",
              "    </div>\n",
              "  </div>\n",
              "  "
            ],
            "text/plain": [
              "               0           1           2\n",
              "0       0.555643   -7.980022    3.296519\n",
              "1       0.176422   -8.709548    3.938419\n",
              "2       0.619412   -8.409148    3.748910\n",
              "3       0.419025   -9.170046    4.481726\n",
              "4       0.547952   -8.799377    4.057145\n",
              "...          ...         ...         ...\n",
              "17515  48.736660  633.020020  195.185104\n",
              "17516  37.164783  457.351990  110.511024\n",
              "17517  13.551808  181.322311   34.192833\n",
              "17518  -1.295372   -2.919427   -2.835278\n",
              "17519  -1.003345   -8.535319    1.642984\n",
              "\n",
              "[17520 rows x 3 columns]"
            ]
          },
          "metadata": {},
          "execution_count": 156
        }
      ],
      "source": [
        "prediction"
      ]
    },
    {
      "cell_type": "code",
      "execution_count": 157,
      "metadata": {
        "id": "dSVtjYDLO1U3"
      },
      "outputs": [],
      "source": [
        "prediction.rename(columns = {0:'Clearsky DHI', 1: 'Clearsky DNI', 2: 'Clearsky GHI'}, inplace = True)"
      ]
    },
    {
      "cell_type": "code",
      "execution_count": 158,
      "metadata": {
        "id": "F-kOR82zQkQO"
      },
      "outputs": [],
      "source": [
        "prediction.to_csv(\"/content/output_ann.csv\")"
      ]
    },
    {
      "cell_type": "code",
      "execution_count": 159,
      "metadata": {
        "colab": {
          "base_uri": "https://localhost:8080/",
          "height": 175
        },
        "id": "R10nyfEYQsgV",
        "outputId": "205bfa59-9c19-43e2-ff23-31aef5dc7b57"
      },
      "outputs": [
        {
          "output_type": "execute_result",
          "data": {
            "text/html": [
              "\n",
              "  <div id=\"df-a4cf3dae-ab61-414e-bfc7-d60c923d7cd9\">\n",
              "    <div class=\"colab-df-container\">\n",
              "      <div>\n",
              "<style scoped>\n",
              "    .dataframe tbody tr th:only-of-type {\n",
              "        vertical-align: middle;\n",
              "    }\n",
              "\n",
              "    .dataframe tbody tr th {\n",
              "        vertical-align: top;\n",
              "    }\n",
              "\n",
              "    .dataframe thead th {\n",
              "        text-align: right;\n",
              "    }\n",
              "</style>\n",
              "<table border=\"1\" class=\"dataframe\">\n",
              "  <thead>\n",
              "    <tr style=\"text-align: right;\">\n",
              "      <th></th>\n",
              "      <th>Clearsky DHI</th>\n",
              "      <th>Clearsky DNI</th>\n",
              "      <th>Clearsky GHI</th>\n",
              "    </tr>\n",
              "  </thead>\n",
              "  <tbody>\n",
              "    <tr>\n",
              "      <th>0</th>\n",
              "      <td>0.555643</td>\n",
              "      <td>-7.980022</td>\n",
              "      <td>3.296519</td>\n",
              "    </tr>\n",
              "    <tr>\n",
              "      <th>1</th>\n",
              "      <td>0.176422</td>\n",
              "      <td>-8.709548</td>\n",
              "      <td>3.938419</td>\n",
              "    </tr>\n",
              "    <tr>\n",
              "      <th>2</th>\n",
              "      <td>0.619412</td>\n",
              "      <td>-8.409148</td>\n",
              "      <td>3.748910</td>\n",
              "    </tr>\n",
              "    <tr>\n",
              "      <th>3</th>\n",
              "      <td>0.419025</td>\n",
              "      <td>-9.170046</td>\n",
              "      <td>4.481726</td>\n",
              "    </tr>\n",
              "  </tbody>\n",
              "</table>\n",
              "</div>\n",
              "      <button class=\"colab-df-convert\" onclick=\"convertToInteractive('df-a4cf3dae-ab61-414e-bfc7-d60c923d7cd9')\"\n",
              "              title=\"Convert this dataframe to an interactive table.\"\n",
              "              style=\"display:none;\">\n",
              "        \n",
              "  <svg xmlns=\"http://www.w3.org/2000/svg\" height=\"24px\"viewBox=\"0 0 24 24\"\n",
              "       width=\"24px\">\n",
              "    <path d=\"M0 0h24v24H0V0z\" fill=\"none\"/>\n",
              "    <path d=\"M18.56 5.44l.94 2.06.94-2.06 2.06-.94-2.06-.94-.94-2.06-.94 2.06-2.06.94zm-11 1L8.5 8.5l.94-2.06 2.06-.94-2.06-.94L8.5 2.5l-.94 2.06-2.06.94zm10 10l.94 2.06.94-2.06 2.06-.94-2.06-.94-.94-2.06-.94 2.06-2.06.94z\"/><path d=\"M17.41 7.96l-1.37-1.37c-.4-.4-.92-.59-1.43-.59-.52 0-1.04.2-1.43.59L10.3 9.45l-7.72 7.72c-.78.78-.78 2.05 0 2.83L4 21.41c.39.39.9.59 1.41.59.51 0 1.02-.2 1.41-.59l7.78-7.78 2.81-2.81c.8-.78.8-2.07 0-2.86zM5.41 20L4 18.59l7.72-7.72 1.47 1.35L5.41 20z\"/>\n",
              "  </svg>\n",
              "      </button>\n",
              "      \n",
              "  <style>\n",
              "    .colab-df-container {\n",
              "      display:flex;\n",
              "      flex-wrap:wrap;\n",
              "      gap: 12px;\n",
              "    }\n",
              "\n",
              "    .colab-df-convert {\n",
              "      background-color: #E8F0FE;\n",
              "      border: none;\n",
              "      border-radius: 50%;\n",
              "      cursor: pointer;\n",
              "      display: none;\n",
              "      fill: #1967D2;\n",
              "      height: 32px;\n",
              "      padding: 0 0 0 0;\n",
              "      width: 32px;\n",
              "    }\n",
              "\n",
              "    .colab-df-convert:hover {\n",
              "      background-color: #E2EBFA;\n",
              "      box-shadow: 0px 1px 2px rgba(60, 64, 67, 0.3), 0px 1px 3px 1px rgba(60, 64, 67, 0.15);\n",
              "      fill: #174EA6;\n",
              "    }\n",
              "\n",
              "    [theme=dark] .colab-df-convert {\n",
              "      background-color: #3B4455;\n",
              "      fill: #D2E3FC;\n",
              "    }\n",
              "\n",
              "    [theme=dark] .colab-df-convert:hover {\n",
              "      background-color: #434B5C;\n",
              "      box-shadow: 0px 1px 3px 1px rgba(0, 0, 0, 0.15);\n",
              "      filter: drop-shadow(0px 1px 2px rgba(0, 0, 0, 0.3));\n",
              "      fill: #FFFFFF;\n",
              "    }\n",
              "  </style>\n",
              "\n",
              "      <script>\n",
              "        const buttonEl =\n",
              "          document.querySelector('#df-a4cf3dae-ab61-414e-bfc7-d60c923d7cd9 button.colab-df-convert');\n",
              "        buttonEl.style.display =\n",
              "          google.colab.kernel.accessAllowed ? 'block' : 'none';\n",
              "\n",
              "        async function convertToInteractive(key) {\n",
              "          const element = document.querySelector('#df-a4cf3dae-ab61-414e-bfc7-d60c923d7cd9');\n",
              "          const dataTable =\n",
              "            await google.colab.kernel.invokeFunction('convertToInteractive',\n",
              "                                                     [key], {});\n",
              "          if (!dataTable) return;\n",
              "\n",
              "          const docLinkHtml = 'Like what you see? Visit the ' +\n",
              "            '<a target=\"_blank\" href=https://colab.research.google.com/notebooks/data_table.ipynb>data table notebook</a>'\n",
              "            + ' to learn more about interactive tables.';\n",
              "          element.innerHTML = '';\n",
              "          dataTable['output_type'] = 'display_data';\n",
              "          await google.colab.output.renderOutput(dataTable, element);\n",
              "          const docLink = document.createElement('div');\n",
              "          docLink.innerHTML = docLinkHtml;\n",
              "          element.appendChild(docLink);\n",
              "        }\n",
              "      </script>\n",
              "    </div>\n",
              "  </div>\n",
              "  "
            ],
            "text/plain": [
              "   Clearsky DHI  Clearsky DNI  Clearsky GHI\n",
              "0      0.555643     -7.980022      3.296519\n",
              "1      0.176422     -8.709548      3.938419\n",
              "2      0.619412     -8.409148      3.748910\n",
              "3      0.419025     -9.170046      4.481726"
            ]
          },
          "metadata": {},
          "execution_count": 159
        }
      ],
      "source": [
        "prediction.head(4)"
      ]
    },
    {
      "cell_type": "code",
      "execution_count": null,
      "metadata": {
        "id": "WbQFdV2lQtuj"
      },
      "outputs": [],
      "source": [
        ""
      ]
    }
  ],
  "metadata": {
    "accelerator": "GPU",
    "colab": {
      "collapsed_sections": [],
      "name": "MachineHackChallenge2.ipynb",
      "provenance": []
    },
    "kernelspec": {
      "display_name": "Python 3",
      "language": "python",
      "name": "python3"
    },
    "language_info": {
      "codemirror_mode": {
        "name": "ipython",
        "version": 3
      },
      "file_extension": ".py",
      "mimetype": "text/x-python",
      "name": "python",
      "nbconvert_exporter": "python",
      "pygments_lexer": "ipython3",
      "version": "3.8.8"
    }
  },
  "nbformat": 4,
  "nbformat_minor": 0
}