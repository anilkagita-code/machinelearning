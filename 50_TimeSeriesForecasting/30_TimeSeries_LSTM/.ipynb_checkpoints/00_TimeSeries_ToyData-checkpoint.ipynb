{
 "cells": [
  {
   "cell_type": "code",
   "execution_count": 1,
   "id": "b844b618",
   "metadata": {},
   "outputs": [],
   "source": [
    "import tensorflow as tf\n",
    "import numpy as np\n",
    "import pandas as pd\n",
    "import matplotlib.pyplot as plt"
   ]
  },
  {
   "cell_type": "code",
   "execution_count": 2,
   "id": "03ef3dd9",
   "metadata": {},
   "outputs": [],
   "source": [
    "from tensorflow.keras.preprocessing.sequence import TimeseriesGenerator"
   ]
  },
  {
   "cell_type": "code",
   "execution_count": 21,
   "id": "24b5af96",
   "metadata": {},
   "outputs": [
    {
     "data": {
      "text/html": [
       "<div>\n",
       "<style scoped>\n",
       "    .dataframe tbody tr th:only-of-type {\n",
       "        vertical-align: middle;\n",
       "    }\n",
       "\n",
       "    .dataframe tbody tr th {\n",
       "        vertical-align: top;\n",
       "    }\n",
       "\n",
       "    .dataframe thead th {\n",
       "        text-align: right;\n",
       "    }\n",
       "</style>\n",
       "<table border=\"1\" class=\"dataframe\">\n",
       "  <thead>\n",
       "    <tr style=\"text-align: right;\">\n",
       "      <th></th>\n",
       "      <th>A</th>\n",
       "      <th>B</th>\n",
       "      <th>C</th>\n",
       "      <th>D</th>\n",
       "      <th>E</th>\n",
       "      <th>F</th>\n",
       "      <th>G</th>\n",
       "    </tr>\n",
       "    <tr>\n",
       "      <th>Date</th>\n",
       "      <th></th>\n",
       "      <th></th>\n",
       "      <th></th>\n",
       "      <th></th>\n",
       "      <th></th>\n",
       "      <th></th>\n",
       "      <th></th>\n",
       "    </tr>\n",
       "  </thead>\n",
       "  <tbody>\n",
       "    <tr>\n",
       "      <th>2022-01-01</th>\n",
       "      <td>0</td>\n",
       "      <td>10</td>\n",
       "      <td>20</td>\n",
       "      <td>30</td>\n",
       "      <td>40</td>\n",
       "      <td>50</td>\n",
       "      <td>60</td>\n",
       "    </tr>\n",
       "    <tr>\n",
       "      <th>2022-01-02</th>\n",
       "      <td>1</td>\n",
       "      <td>11</td>\n",
       "      <td>21</td>\n",
       "      <td>31</td>\n",
       "      <td>41</td>\n",
       "      <td>51</td>\n",
       "      <td>61</td>\n",
       "    </tr>\n",
       "    <tr>\n",
       "      <th>2022-01-03</th>\n",
       "      <td>2</td>\n",
       "      <td>12</td>\n",
       "      <td>22</td>\n",
       "      <td>32</td>\n",
       "      <td>42</td>\n",
       "      <td>52</td>\n",
       "      <td>62</td>\n",
       "    </tr>\n",
       "    <tr>\n",
       "      <th>2022-01-04</th>\n",
       "      <td>3</td>\n",
       "      <td>13</td>\n",
       "      <td>23</td>\n",
       "      <td>33</td>\n",
       "      <td>43</td>\n",
       "      <td>53</td>\n",
       "      <td>63</td>\n",
       "    </tr>\n",
       "    <tr>\n",
       "      <th>2022-01-05</th>\n",
       "      <td>4</td>\n",
       "      <td>14</td>\n",
       "      <td>24</td>\n",
       "      <td>34</td>\n",
       "      <td>44</td>\n",
       "      <td>54</td>\n",
       "      <td>64</td>\n",
       "    </tr>\n",
       "  </tbody>\n",
       "</table>\n",
       "</div>"
      ],
      "text/plain": [
       "            A   B   C   D   E   F   G\n",
       "Date                                 \n",
       "2022-01-01  0  10  20  30  40  50  60\n",
       "2022-01-02  1  11  21  31  41  51  61\n",
       "2022-01-03  2  12  22  32  42  52  62\n",
       "2022-01-04  3  13  23  33  43  53  63\n",
       "2022-01-05  4  14  24  34  44  54  64"
      ]
     },
     "execution_count": 21,
     "metadata": {},
     "output_type": "execute_result"
    }
   ],
   "source": [
    "# df_toy = pd.read_csv('timeseries_toy.csv', sep='\\t', parse_dates=True, index_col=0)\n",
    "df_toy = pd.read_csv('timeseries_toydata.csv')\n",
    "df_toy['Date'] = pd.to_datetime(df_toy['Date'])\n",
    "df_toy.set_index(keys='Date', inplace=True)\n",
    "df_toy.head()"
   ]
  },
  {
   "cell_type": "code",
   "execution_count": 22,
   "id": "0f95a87b",
   "metadata": {},
   "outputs": [
    {
     "data": {
      "text/plain": [
       "<AxesSubplot:xlabel='Date'>"
      ]
     },
     "execution_count": 22,
     "metadata": {},
     "output_type": "execute_result"
    },
    {
     "data": {
      "image/png": "[encoded data removed]",
      "text/plain": [
       "<Figure size 432x288 with 1 Axes>"
      ]
     },
     "metadata": {
      "needs_background": "light"
     },
     "output_type": "display_data"
    }
   ],
   "source": [
    "df_toy.plot()"
   ]
  },
  {
   "cell_type": "code",
   "execution_count": 23,
   "id": "d8aabe2b",
   "metadata": {},
   "outputs": [],
   "source": [
    "split_len = 10\n",
    "df_toy_train = df_toy[:split_len]\n",
    "df_toy_test = df_toy[split_len:]"
   ]
  },
  {
   "cell_type": "code",
   "execution_count": 24,
   "id": "014a4905",
   "metadata": {},
   "outputs": [],
   "source": [
    "X_train = df_toy_train\n",
    "X_test = df_toy_test\n",
    "y_train = df_toy_train[['A', 'B', 'C']]\n",
    "y_test = df_toy_test[['A', 'B', 'C']]"
   ]
  },
  {
   "cell_type": "code",
   "execution_count": 25,
   "id": "0dd41724",
   "metadata": {},
   "outputs": [],
   "source": [
    "# Parameters to play with\n",
    "input_len = 3\n",
    "stride_len=1\n",
    "batch_size_len=1"
   ]
  },
  {
   "cell_type": "code",
   "execution_count": null,
   "id": "beb19bab",
   "metadata": {},
   "outputs": [],
   "source": [
    "train_gen = TimeseriesGenerator(data=X_train, targets=y_train, length=input_len, )"
   ]
  },
  {
   "cell_type": "code",
   "execution_count": null,
   "id": "03b34ebf",
   "metadata": {},
   "outputs": [],
   "source": []
  },
  {
   "cell_type": "code",
   "execution_count": null,
   "id": "28422f01",
   "metadata": {},
   "outputs": [],
   "source": []
  },
  {
   "cell_type": "code",
   "execution_count": null,
   "id": "aac58a94",
   "metadata": {},
   "outputs": [],
   "source": []
  },
  {
   "cell_type": "code",
   "execution_count": null,
   "id": "63080cdd",
   "metadata": {},
   "outputs": [],
   "source": []
  },
  {
   "cell_type": "code",
   "execution_count": null,
   "id": "7c9036a8",
   "metadata": {},
   "outputs": [],
   "source": []
  },
  {
   "cell_type": "code",
   "execution_count": null,
   "id": "4ee822ef",
   "metadata": {},
   "outputs": [],
   "source": []
  },
  {
   "cell_type": "code",
   "execution_count": 109,
   "id": "04c19b25",
   "metadata": {},
   "outputs": [],
   "source": [
    "from sklearn.preprocessing import StandardScaler"
   ]
  },
  {
   "cell_type": "code",
   "execution_count": 110,
   "id": "36b53052",
   "metadata": {},
   "outputs": [],
   "source": [
    "std_scalar = StandardScaler()"
   ]
  },
  {
   "cell_type": "code",
   "execution_count": 113,
   "id": "01d58cd8",
   "metadata": {},
   "outputs": [],
   "source": [
    "std_scalar.fit(df_toy)\n",
    "df_toy_temp = std_scalar.transform(df_toy)\n",
    "df_toy_sc = pd.DataFrame(data = df_toy_temp, columns=df_toy.columns, index=df_toy.index)"
   ]
  },
  {
   "cell_type": "code",
   "execution_count": 114,
   "id": "5d00da0f",
   "metadata": {},
   "outputs": [
    {
     "data": {
      "text/html": [
       "<div>\n",
       "<style scoped>\n",
       "    .dataframe tbody tr th:only-of-type {\n",
       "        vertical-align: middle;\n",
       "    }\n",
       "\n",
       "    .dataframe tbody tr th {\n",
       "        vertical-align: top;\n",
       "    }\n",
       "\n",
       "    .dataframe thead th {\n",
       "        text-align: right;\n",
       "    }\n",
       "</style>\n",
       "<table border=\"1\" class=\"dataframe\">\n",
       "  <thead>\n",
       "    <tr style=\"text-align: right;\">\n",
       "      <th></th>\n",
       "      <th>A</th>\n",
       "      <th>B</th>\n",
       "      <th>C</th>\n",
       "      <th>D</th>\n",
       "      <th>E</th>\n",
       "      <th>F</th>\n",
       "    </tr>\n",
       "    <tr>\n",
       "      <th>Date</th>\n",
       "      <th></th>\n",
       "      <th></th>\n",
       "      <th></th>\n",
       "      <th></th>\n",
       "      <th></th>\n",
       "      <th></th>\n",
       "    </tr>\n",
       "  </thead>\n",
       "  <tbody>\n",
       "    <tr>\n",
       "      <th>2022-01-22</th>\n",
       "      <td>0.670820</td>\n",
       "      <td>0.670820</td>\n",
       "      <td>0.670820</td>\n",
       "      <td>0.670820</td>\n",
       "      <td>0.670820</td>\n",
       "      <td>0.670820</td>\n",
       "    </tr>\n",
       "    <tr>\n",
       "      <th>2022-01-04</th>\n",
       "      <td>-1.341641</td>\n",
       "      <td>-1.341641</td>\n",
       "      <td>-1.341641</td>\n",
       "      <td>-1.341641</td>\n",
       "      <td>-1.341641</td>\n",
       "      <td>-1.341641</td>\n",
       "    </tr>\n",
       "  </tbody>\n",
       "</table>\n",
       "</div>"
      ],
      "text/plain": [
       "                   A         B         C         D         E         F\n",
       "Date                                                                  \n",
       "2022-01-22  0.670820  0.670820  0.670820  0.670820  0.670820  0.670820\n",
       "2022-01-04 -1.341641 -1.341641 -1.341641 -1.341641 -1.341641 -1.341641"
      ]
     },
     "execution_count": 114,
     "metadata": {},
     "output_type": "execute_result"
    }
   ],
   "source": [
    "df_toy_sc.sample(2)"
   ]
  },
  {
   "cell_type": "code",
   "execution_count": 115,
   "id": "3b8c7bc7",
   "metadata": {},
   "outputs": [
    {
     "data": {
      "text/plain": [
       "array([[ 0., 10., 20., 30., 40., 50.],\n",
       "       [ 1., 11., 21., 31., 41., 51.],\n",
       "       [ 2., 12., 22., 32., 42., 52.],\n",
       "       [ 3., 13., 23., 33., 43., 53.],\n",
       "       [ 4., 14., 24., 34., 44., 54.],\n",
       "       [ 5., 15., 25., 35., 45., 55.],\n",
       "       [ 6., 16., 26., 36., 46., 56.],\n",
       "       [ 7., 17., 27., 37., 47., 57.],\n",
       "       [ 8., 18., 28., 38., 48., 58.],\n",
       "       [ 9., 19., 29., 39., 49., 59.],\n",
       "       [10., 20., 30., 40., 50., 60.],\n",
       "       [11., 21., 31., 41., 51., 61.],\n",
       "       [12., 22., 32., 42., 52., 62.],\n",
       "       [13., 23., 33., 43., 53., 63.],\n",
       "       [14., 24., 34., 44., 54., 64.],\n",
       "       [15., 25., 35., 45., 55., 65.],\n",
       "       [16., 26., 36., 46., 56., 66.],\n",
       "       [17., 27., 37., 47., 57., 67.],\n",
       "       [18., 28., 38., 48., 58., 68.],\n",
       "       [19., 29., 39., 49., 59., 69.],\n",
       "       [20., 30., 40., 50., 60., 70.],\n",
       "       [21., 31., 41., 51., 61., 71.],\n",
       "       [22., 32., 42., 52., 62., 72.],\n",
       "       [23., 33., 43., 53., 63., 73.],\n",
       "       [24., 34., 44., 54., 64., 74.],\n",
       "       [25., 35., 45., 55., 65., 75.],\n",
       "       [26., 36., 46., 56., 66., 76.],\n",
       "       [27., 37., 47., 57., 67., 77.],\n",
       "       [28., 38., 48., 58., 68., 78.],\n",
       "       [29., 39., 49., 59., 69., 79.],\n",
       "       [30., 40., 50., 60., 70., 80.]])"
      ]
     },
     "execution_count": 115,
     "metadata": {},
     "output_type": "execute_result"
    }
   ],
   "source": [
    "std_scalar.inverse_transform(df_toy_sc)"
   ]
  },
  {
   "cell_type": "code",
   "execution_count": 9,
   "id": "d882147b",
   "metadata": {},
   "outputs": [
    {
     "name": "stdout",
     "output_type": "stream",
     "text": [
      "Samples: 10\n",
      "0 input:(2, 6)\n",
      "[[ 0 10 20 30 40 50]\n",
      " [ 1 11 21 31 41 51]] => \n",
      "Output:(1, 2)\n",
      "[[ 2 12]]\n",
      "\n",
      "\n",
      "1 input:(2, 6)\n",
      "[[ 3 13 23 33 43 53]\n",
      " [ 4 14 24 34 44 54]] => \n",
      "Output:(1, 2)\n",
      "[[ 5 15]]\n",
      "\n",
      "\n",
      "2 input:(2, 6)\n",
      "[[ 6 16 26 36 46 56]\n",
      " [ 7 17 27 37 47 57]] => \n",
      "Output:(1, 2)\n",
      "[[ 8 18]]\n",
      "\n",
      "\n",
      "3 input:(2, 6)\n",
      "[[ 9 19 29 39 49 59]\n",
      " [10 20 30 40 50 60]] => \n",
      "Output:(1, 2)\n",
      "[[11 21]]\n",
      "\n",
      "\n",
      "4 input:(2, 6)\n",
      "[[12 22 32 42 52 62]\n",
      " [13 23 33 43 53 63]] => \n",
      "Output:(1, 2)\n",
      "[[14 24]]\n",
      "\n",
      "\n",
      "5 input:(2, 6)\n",
      "[[15 25 35 45 55 65]\n",
      " [16 26 36 46 56 66]] => \n",
      "Output:(1, 2)\n",
      "[[17 27]]\n",
      "\n",
      "\n",
      "6 input:(2, 6)\n",
      "[[18 28 38 48 58 68]\n",
      " [19 29 39 49 59 69]] => \n",
      "Output:(1, 2)\n",
      "[[20 30]]\n",
      "\n",
      "\n",
      "7 input:(2, 6)\n",
      "[[21 31 41 51 61 71]\n",
      " [22 32 42 52 62 72]] => \n",
      "Output:(1, 2)\n",
      "[[23 33]]\n",
      "\n",
      "\n",
      "8 input:(2, 6)\n",
      "[[24 34 44 54 64 74]\n",
      " [25 35 45 55 65 75]] => \n",
      "Output:(1, 2)\n",
      "[[26 36]]\n",
      "\n",
      "\n",
      "9 input:(2, 6)\n",
      "[[27 37 47 57 67 77]\n",
      " [28 38 48 58 68 78]] => \n",
      "Output:(1, 2)\n",
      "[[29 39]]\n",
      "\n",
      "\n"
     ]
    }
   ],
   "source": [
    "# define generator\n",
    "input_len = 2\n",
    "input_data = df_toy.values\n",
    "output_data = df_toy[['A', 'B']].values\n",
    "output_len = 1\n",
    "stride_len = 2\n",
    "ts_generator = TimeseriesGenerator(data=input_data, targets=output_data, \n",
    "                                length=input_len, batch_size=output_len, stride=3)\n",
    "# number of samples\n",
    "print(f'Samples: {len(ts_generator)}' )\n",
    "# print and gather each sample\n",
    "Xa = [] \n",
    "yb = []\n",
    "for i in range(len(ts_generator)):\n",
    "    X, y = ts_generator[i]\n",
    "    Xa.append(X[0])\n",
    "    yb.append(y)\n",
    "    print(f'{i} input:{X[0].shape}\\n{X[0]} => \\nOutput:{y.shape}\\n{y}\\n\\n')"
   ]
  },
  {
   "cell_type": "code",
   "execution_count": 99,
   "id": "71b5ea09",
   "metadata": {},
   "outputs": [
    {
     "data": {
      "text/plain": [
       "(26, 5, 6)"
      ]
     },
     "execution_count": 99,
     "metadata": {},
     "output_type": "execute_result"
    }
   ],
   "source": [
    "Xa = np.array(Xa)\n",
    "Xa.shape"
   ]
  },
  {
   "cell_type": "code",
   "execution_count": 100,
   "id": "9d321451",
   "metadata": {},
   "outputs": [
    {
     "data": {
      "text/plain": [
       "(26, 1, 2)"
      ]
     },
     "execution_count": 100,
     "metadata": {},
     "output_type": "execute_result"
    }
   ],
   "source": [
    "yb = np.array(yb)\n",
    "yb.shape"
   ]
  },
  {
   "cell_type": "code",
   "execution_count": 101,
   "id": "769ed7cb",
   "metadata": {},
   "outputs": [],
   "source": [
    "split_length = 10\n",
    "X_train = Xa[:split_length]\n",
    "X_test = Xa[split_length:]\n",
    "y_train = yb[:split_length]\n",
    "y_test = yb[split_length:]"
   ]
  },
  {
   "cell_type": "code",
   "execution_count": 102,
   "id": "a23e4984",
   "metadata": {},
   "outputs": [
    {
     "data": {
      "text/plain": [
       "((10, 5, 6), (16, 5, 6), (10, 1, 2), (16, 1, 2))"
      ]
     },
     "execution_count": 102,
     "metadata": {},
     "output_type": "execute_result"
    }
   ],
   "source": [
    "X_train.shape, X_test.shape, y_train.shape, y_test.shape"
   ]
  },
  {
   "cell_type": "code",
   "execution_count": 92,
   "id": "aae84025",
   "metadata": {},
   "outputs": [],
   "source": [
    "from tensorflow.keras.models import Model\n",
    "from tensorflow.keras.layers import Input, LSTM, Dense\n",
    "from tensorflow.keras.metrics import RootMeanSquaredError\n",
    "from tensorflow.keras.losses import MeanSquaredError\n",
    "from tensorflow.keras.optimizers import Adam\n",
    "from tensorflow.keras.callbacks import ModelCheckpoint"
   ]
  },
  {
   "cell_type": "code",
   "execution_count": 103,
   "id": "6ad53530",
   "metadata": {},
   "outputs": [
    {
     "name": "stdout",
     "output_type": "stream",
     "text": [
      "WARNING:tensorflow:Layer lstm_1 will not use cuDNN kernels since it doesn't meet the criteria. It will use a generic GPU kernel as fallback when running on GPU.\n"
     ]
    }
   ],
   "source": [
    "l0 = Input(shape=(5, 6))\n",
    "\n",
    "l1 = LSTM(units=30, activation='relu')(l0)\n",
    "l2 = Dense(units=10, activation='relu')(l1)\n",
    "y = Dense(units=2, activation='linear')(l2)\n",
    "\n",
    "model_lstm1 = Model(inputs=l0, outputs=y)"
   ]
  },
  {
   "cell_type": "code",
   "execution_count": 104,
   "id": "3529441b",
   "metadata": {},
   "outputs": [],
   "source": [
    "model_lstm1.compile(loss=MeanSquaredError(), \n",
    "                    optimizer=Adam(learning_rate=0.001),\n",
    "                   metrics=[RootMeanSquaredError()])"
   ]
  },
  {
   "cell_type": "code",
   "execution_count": 105,
   "id": "f5ba70fd",
   "metadata": {},
   "outputs": [
    {
     "name": "stdout",
     "output_type": "stream",
     "text": [
      "Epoch 1/2\n",
      "1/1 [==============================] - 1s 1s/step - loss: 193.1606 - root_mean_squared_error: 13.8982 - val_loss: 700.7595 - val_root_mean_squared_error: 26.4719\n",
      "Epoch 2/2\n",
      "1/1 [==============================] - 0s 24ms/step - loss: 181.5614 - root_mean_squared_error: 13.4745 - val_loss: 663.1544 - val_root_mean_squared_error: 25.7518\n"
     ]
    },
    {
     "data": {
      "text/plain": [
       "<tensorflow.python.keras.callbacks.History at 0x24aea5fd250>"
      ]
     },
     "execution_count": 105,
     "metadata": {},
     "output_type": "execute_result"
    }
   ],
   "source": [
    "model_lstm1.fit(X_train, y_train, \n",
    "                validation_data=(X_test, y_test), epochs=2)"
   ]
  },
  {
   "cell_type": "code",
   "execution_count": 106,
   "id": "a7cfdc22",
   "metadata": {},
   "outputs": [
    {
     "data": {
      "text/plain": [
       "array([[0.34579486, 3.37275   ],\n",
       "       [0.34414947, 3.4923654 ],\n",
       "       [0.34542626, 3.6239426 ],\n",
       "       [0.3490883 , 3.7680898 ],\n",
       "       [0.3547331 , 3.9232697 ],\n",
       "       [0.36199614, 4.0878725 ],\n",
       "       [0.37054724, 4.2601337 ],\n",
       "       [0.38008317, 4.4380293 ],\n",
       "       [0.39031228, 4.619134  ],\n",
       "       [0.40093526, 4.800456  ]], dtype=float32)"
      ]
     },
     "execution_count": 106,
     "metadata": {},
     "output_type": "execute_result"
    }
   ],
   "source": [
    "model_lstm1.predict(X_train[-10:])"
   ]
  },
  {
   "cell_type": "code",
   "execution_count": 108,
   "id": "07b148a4",
   "metadata": {},
   "outputs": [
    {
     "data": {
      "text/plain": [
       "array([[[15, 25]],\n",
       "\n",
       "       [[16, 26]],\n",
       "\n",
       "       [[17, 27]],\n",
       "\n",
       "       [[18, 28]],\n",
       "\n",
       "       [[19, 29]],\n",
       "\n",
       "       [[20, 30]],\n",
       "\n",
       "       [[21, 31]],\n",
       "\n",
       "       [[22, 32]],\n",
       "\n",
       "       [[23, 33]],\n",
       "\n",
       "       [[24, 34]]], dtype=int64)"
      ]
     },
     "execution_count": 108,
     "metadata": {},
     "output_type": "execute_result"
    }
   ],
   "source": [
    "y_test[0:10]"
   ]
  },
  {
   "cell_type": "code",
   "execution_count": null,
   "id": "4e9838d0",
   "metadata": {},
   "outputs": [],
   "source": []
  },
  {
   "cell_type": "markdown",
   "id": "63609d0b",
   "metadata": {},
   "source": [
    "### Scaling Testing"
   ]
  },
  {
   "cell_type": "code",
   "execution_count": 12,
   "id": "519260d2",
   "metadata": {},
   "outputs": [
    {
     "data": {
      "text/html": [
       "<div>\n",
       "<style scoped>\n",
       "    .dataframe tbody tr th:only-of-type {\n",
       "        vertical-align: middle;\n",
       "    }\n",
       "\n",
       "    .dataframe tbody tr th {\n",
       "        vertical-align: top;\n",
       "    }\n",
       "\n",
       "    .dataframe thead th {\n",
       "        text-align: right;\n",
       "    }\n",
       "</style>\n",
       "<table border=\"1\" class=\"dataframe\">\n",
       "  <thead>\n",
       "    <tr style=\"text-align: right;\">\n",
       "      <th></th>\n",
       "      <th>A</th>\n",
       "      <th>B</th>\n",
       "      <th>C</th>\n",
       "      <th>D</th>\n",
       "      <th>E</th>\n",
       "      <th>F</th>\n",
       "    </tr>\n",
       "    <tr>\n",
       "      <th>Date</th>\n",
       "      <th></th>\n",
       "      <th></th>\n",
       "      <th></th>\n",
       "      <th></th>\n",
       "      <th></th>\n",
       "      <th></th>\n",
       "    </tr>\n",
       "  </thead>\n",
       "  <tbody>\n",
       "    <tr>\n",
       "      <th>01-01-2022</th>\n",
       "      <td>0</td>\n",
       "      <td>10</td>\n",
       "      <td>20</td>\n",
       "      <td>30</td>\n",
       "      <td>40</td>\n",
       "      <td>50</td>\n",
       "    </tr>\n",
       "    <tr>\n",
       "      <th>02-01-2022</th>\n",
       "      <td>1</td>\n",
       "      <td>11</td>\n",
       "      <td>21</td>\n",
       "      <td>31</td>\n",
       "      <td>41</td>\n",
       "      <td>51</td>\n",
       "    </tr>\n",
       "    <tr>\n",
       "      <th>03-01-2022</th>\n",
       "      <td>2</td>\n",
       "      <td>12</td>\n",
       "      <td>22</td>\n",
       "      <td>32</td>\n",
       "      <td>42</td>\n",
       "      <td>52</td>\n",
       "    </tr>\n",
       "    <tr>\n",
       "      <th>04-01-2022</th>\n",
       "      <td>3</td>\n",
       "      <td>13</td>\n",
       "      <td>23</td>\n",
       "      <td>33</td>\n",
       "      <td>43</td>\n",
       "      <td>53</td>\n",
       "    </tr>\n",
       "    <tr>\n",
       "      <th>05-01-2022</th>\n",
       "      <td>4</td>\n",
       "      <td>14</td>\n",
       "      <td>24</td>\n",
       "      <td>34</td>\n",
       "      <td>44</td>\n",
       "      <td>54</td>\n",
       "    </tr>\n",
       "  </tbody>\n",
       "</table>\n",
       "</div>"
      ],
      "text/plain": [
       "            A   B   C   D   E   F\n",
       "Date                             \n",
       "01-01-2022  0  10  20  30  40  50\n",
       "02-01-2022  1  11  21  31  41  51\n",
       "03-01-2022  2  12  22  32  42  52\n",
       "04-01-2022  3  13  23  33  43  53\n",
       "05-01-2022  4  14  24  34  44  54"
      ]
     },
     "execution_count": 12,
     "metadata": {},
     "output_type": "execute_result"
    }
   ],
   "source": [
    "df_toy = pd.read_csv('timeseries_toy.csv', sep='\\t')\n",
    "df_toy.set_index(keys='Date', inplace=True)\n",
    "df_toy.head()"
   ]
  },
  {
   "cell_type": "code",
   "execution_count": 13,
   "id": "39da0cb5",
   "metadata": {},
   "outputs": [],
   "source": [
    "from sklearn.preprocessing import StandardScaler"
   ]
  },
  {
   "cell_type": "code",
   "execution_count": 27,
   "id": "9433c951",
   "metadata": {},
   "outputs": [
    {
     "data": {
      "text/plain": [
       "array([ 0,  0,  0,  1,  1,  1,  2,  2,  2,  3,  3,  3,  4,  4,  4,  5,  5,\n",
       "        5,  6,  6,  6,  7,  7,  7,  8,  8,  8,  9,  9,  9, 10, 10, 10, 11,\n",
       "       11, 11, 12, 12, 12, 13, 13, 13, 14, 14, 14, 15, 15, 15, 16, 16, 16,\n",
       "       17, 17, 17, 18, 18, 18, 19, 19, 19, 20, 20, 20, 21, 21, 21, 22, 22,\n",
       "       22, 23, 23, 23, 24, 24, 24, 25, 25, 25, 26, 26, 26, 27, 27, 27, 28,\n",
       "       28, 28, 29, 29, 29, 30, 30, 30], dtype=int64)"
      ]
     },
     "execution_count": 27,
     "metadata": {},
     "output_type": "execute_result"
    }
   ],
   "source": [
    "np.repeat(df_toy['A'].values, 3, -1)"
   ]
  },
  {
   "cell_type": "code",
   "execution_count": null,
   "id": "9f488cb6",
   "metadata": {},
   "outputs": [],
   "source": []
  },
  {
   "cell_type": "code",
   "execution_count": null,
   "id": "229885c2",
   "metadata": {},
   "outputs": [],
   "source": []
  },
  {
   "cell_type": "code",
   "execution_count": null,
   "id": "3819ef4c",
   "metadata": {},
   "outputs": [],
   "source": []
  },
  {
   "cell_type": "code",
   "execution_count": null,
   "id": "2af877e5",
   "metadata": {},
   "outputs": [],
   "source": []
  },
  {
   "cell_type": "code",
   "execution_count": null,
   "id": "c73b2a80",
   "metadata": {},
   "outputs": [],
   "source": []
  },
  {
   "cell_type": "code",
   "execution_count": null,
   "id": "bda1d272",
   "metadata": {},
   "outputs": [],
   "source": []
  },
  {
   "cell_type": "code",
   "execution_count": null,
   "id": "24596246",
   "metadata": {},
   "outputs": [],
   "source": []
  },
  {
   "cell_type": "code",
   "execution_count": null,
   "id": "44a61cf7",
   "metadata": {},
   "outputs": [],
   "source": []
  },
  {
   "cell_type": "code",
   "execution_count": null,
   "id": "63fcd365",
   "metadata": {},
   "outputs": [],
   "source": []
  },
  {
   "cell_type": "code",
   "execution_count": null,
   "id": "28596374",
   "metadata": {},
   "outputs": [],
   "source": []
  },
  {
   "cell_type": "markdown",
   "id": "de098f3a",
   "metadata": {},
   "source": [
    "##### "
   ]
  },
  {
   "cell_type": "markdown",
   "id": "4ce59d11",
   "metadata": {},
   "source": [
    "# "
   ]
  }
 ],
 "metadata": {
  "kernelspec": {
   "display_name": "Python 3",
   "language": "python",
   "name": "python3"
  },
  "language_info": {
   "codemirror_mode": {
    "name": "ipython",
    "version": 3
   },
   "file_extension": ".py",
   "mimetype": "text/x-python",
   "name": "python",
   "nbconvert_exporter": "python",
   "pygments_lexer": "ipython3",
   "version": "3.9.4"
  }
 },
 "nbformat": 4,
 "nbformat_minor": 5
}
