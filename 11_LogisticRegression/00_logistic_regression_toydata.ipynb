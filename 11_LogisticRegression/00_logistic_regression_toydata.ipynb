{
 "cells": [
  {
   "cell_type": "code",
   "execution_count": 1,
   "id": "9014521e",
   "metadata": {},
   "outputs": [],
   "source": [
    "import pandas as pd\n",
    "import numpy as np"
   ]
  },
  {
   "cell_type": "code",
   "execution_count": 2,
   "id": "aeef6d8a",
   "metadata": {},
   "outputs": [],
   "source": [
    "data = pd.DataFrame({\n",
    "    \"W\": [62, 58, 70, 75, 92, 55, 90, 97],\n",
    "    'HD': [0,0,0,1,1,0,1,1]\n",
    "})\n",
    "# Weight vs Heart Disease"
   ]
  },
  {
   "cell_type": "code",
   "execution_count": 3,
   "id": "c8be42a9",
   "metadata": {},
   "outputs": [
    {
     "data": {
      "text/html": [
       "<div>\n",
       "<style scoped>\n",
       "    .dataframe tbody tr th:only-of-type {\n",
       "        vertical-align: middle;\n",
       "    }\n",
       "\n",
       "    .dataframe tbody tr th {\n",
       "        vertical-align: top;\n",
       "    }\n",
       "\n",
       "    .dataframe thead th {\n",
       "        text-align: right;\n",
       "    }\n",
       "</style>\n",
       "<table border=\"1\" class=\"dataframe\">\n",
       "  <thead>\n",
       "    <tr style=\"text-align: right;\">\n",
       "      <th></th>\n",
       "      <th>W</th>\n",
       "      <th>HD</th>\n",
       "    </tr>\n",
       "  </thead>\n",
       "  <tbody>\n",
       "    <tr>\n",
       "      <th>0</th>\n",
       "      <td>62</td>\n",
       "      <td>0</td>\n",
       "    </tr>\n",
       "    <tr>\n",
       "      <th>1</th>\n",
       "      <td>58</td>\n",
       "      <td>0</td>\n",
       "    </tr>\n",
       "    <tr>\n",
       "      <th>2</th>\n",
       "      <td>70</td>\n",
       "      <td>0</td>\n",
       "    </tr>\n",
       "    <tr>\n",
       "      <th>3</th>\n",
       "      <td>75</td>\n",
       "      <td>1</td>\n",
       "    </tr>\n",
       "    <tr>\n",
       "      <th>4</th>\n",
       "      <td>92</td>\n",
       "      <td>1</td>\n",
       "    </tr>\n",
       "    <tr>\n",
       "      <th>5</th>\n",
       "      <td>55</td>\n",
       "      <td>0</td>\n",
       "    </tr>\n",
       "    <tr>\n",
       "      <th>6</th>\n",
       "      <td>90</td>\n",
       "      <td>1</td>\n",
       "    </tr>\n",
       "    <tr>\n",
       "      <th>7</th>\n",
       "      <td>97</td>\n",
       "      <td>1</td>\n",
       "    </tr>\n",
       "  </tbody>\n",
       "</table>\n",
       "</div>"
      ],
      "text/plain": [
       "    W  HD\n",
       "0  62   0\n",
       "1  58   0\n",
       "2  70   0\n",
       "3  75   1\n",
       "4  92   1\n",
       "5  55   0\n",
       "6  90   1\n",
       "7  97   1"
      ]
     },
     "execution_count": 3,
     "metadata": {},
     "output_type": "execute_result"
    }
   ],
   "source": [
    "data"
   ]
  },
  {
   "cell_type": "code",
   "execution_count": 4,
   "id": "f53ef2a3",
   "metadata": {},
   "outputs": [],
   "source": [
    "from matplotlib import pyplot as plt\n",
    "import seaborn as sns"
   ]
  },
  {
   "cell_type": "code",
   "execution_count": 5,
   "id": "fa09029f",
   "metadata": {},
   "outputs": [
    {
     "data": {
      "text/plain": [
       "<AxesSubplot:xlabel='W', ylabel='HD'>"
      ]
     },
     "execution_count": 5,
     "metadata": {},
     "output_type": "execute_result"
    },
    {
     "data": {
      "image/png": "[encoded data removed]",
      "text/plain": [
       "<Figure size 432x288 with 1 Axes>"
      ]
     },
     "metadata": {
      "needs_background": "light"
     },
     "output_type": "display_data"
    }
   ],
   "source": [
    "sns.regplot(data=data, x='W', y='HD', scatter=True, fit_reg=False)"
   ]
  },
  {
   "cell_type": "code",
   "execution_count": 6,
   "id": "a5d27452",
   "metadata": {},
   "outputs": [
    {
     "data": {
      "text/plain": [
       "<matplotlib.collections.PathCollection at 0x24614cebf70>"
      ]
     },
     "execution_count": 6,
     "metadata": {},
     "output_type": "execute_result"
    },
    {
     "data": {
      "image/png": "[encoded data removed]",
      "text/plain": [
       "<Figure size 432x288 with 1 Axes>"
      ]
     },
     "metadata": {
      "needs_background": "light"
     },
     "output_type": "display_data"
    }
   ],
   "source": [
    "plt.scatter(x=data['W'], y=data['HD'], c=data['HD'])"
   ]
  },
  {
   "cell_type": "code",
   "execution_count": 7,
   "id": "b263e63c",
   "metadata": {},
   "outputs": [
    {
     "data": {
      "text/plain": [
       "0.028975875589818567"
      ]
     },
     "execution_count": 7,
     "metadata": {},
     "output_type": "execute_result"
    }
   ],
   "source": [
    "# Computing the Linear regression line\n",
    "x = data['W']\n",
    "y = data['HD']\n",
    "b1 = np.sum((x-x.mean()) * (y-y.mean())) / np.sum((x-x.mean())**2)\n",
    "b1"
   ]
  },
  {
   "cell_type": "code",
   "execution_count": 8,
   "id": "c4fe68af",
   "metadata": {},
   "outputs": [
    {
     "data": {
      "text/plain": [
       "-1.6695686847876652"
      ]
     },
     "execution_count": 8,
     "metadata": {},
     "output_type": "execute_result"
    }
   ],
   "source": [
    "b0 = y.mean() - b1* x.mean()\n",
    "b0"
   ]
  },
  {
   "cell_type": "code",
   "execution_count": 9,
   "id": "fb64f540",
   "metadata": {},
   "outputs": [],
   "source": [
    "yreg = b1*x + b0"
   ]
  },
  {
   "cell_type": "code",
   "execution_count": 10,
   "id": "c8b20670",
   "metadata": {},
   "outputs": [
    {
     "data": {
      "text/plain": [
       "[]"
      ]
     },
     "execution_count": 10,
     "metadata": {},
     "output_type": "execute_result"
    },
    {
     "data": {
      "image/png": "[encoded data removed]",
      "text/plain": [
       "<Figure size 432x288 with 1 Axes>"
      ]
     },
     "metadata": {
      "needs_background": "light"
     },
     "output_type": "display_data"
    }
   ],
   "source": [
    "plt.scatter(x=data['W'], y = data['HD'], c=data['HD'])\n",
    "plt.plot(x, yreg)\n",
    "plt.plot()"
   ]
  },
  {
   "cell_type": "code",
   "execution_count": 11,
   "id": "d5d38bdf",
   "metadata": {},
   "outputs": [
    {
     "data": {
      "text/plain": [
       "<AxesSubplot:xlabel='W', ylabel='HD'>"
      ]
     },
     "execution_count": 11,
     "metadata": {},
     "output_type": "execute_result"
    },
    {
     "data": {
      "image/png": "[encoded data removed]",
      "text/plain": [
       "<Figure size 432x288 with 1 Axes>"
      ]
     },
     "metadata": {
      "needs_background": "light"
     },
     "output_type": "display_data"
    }
   ],
   "source": [
    "sns.regplot(data = data, x='W', y='HD', scatter=True, )"
   ]
  },
  {
   "cell_type": "code",
   "execution_count": 12,
   "id": "f4d970ce",
   "metadata": {},
   "outputs": [
    {
     "data": {
      "text/plain": [
       "[]"
      ]
     },
     "execution_count": 12,
     "metadata": {},
     "output_type": "execute_result"
    },
    {
     "data": {
      "image/png": "[encoded data removed]",
      "text/plain": [
       "<Figure size 432x288 with 1 Axes>"
      ]
     },
     "metadata": {
      "needs_background": "light"
     },
     "output_type": "display_data"
    }
   ],
   "source": [
    "sns.regplot(data = data, x='W', y='HD', scatter=True, )\n",
    "sns.lineplot(x=x, y=yreg)\n",
    "plt.plot()"
   ]
  },
  {
   "cell_type": "code",
   "execution_count": 13,
   "id": "6c1e727c",
   "metadata": {},
   "outputs": [
    {
     "data": {
      "text/plain": [
       "[]"
      ]
     },
     "execution_count": 13,
     "metadata": {},
     "output_type": "execute_result"
    },
    {
     "data": {
      "image/png": "[encoded data removed]",
      "text/plain": [
       "<Figure size 432x288 with 1 Axes>"
      ]
     },
     "metadata": {
      "needs_background": "light"
     },
     "output_type": "display_data"
    }
   ],
   "source": [
    "sns.regplot(data = data, x='W', y='HD', fit_reg=False, logistic=True)\n",
    "sns.lineplot(x=x, y=yreg)\n",
    "plt.plot()"
   ]
  },
  {
   "cell_type": "code",
   "execution_count": 14,
   "id": "a3b05839",
   "metadata": {},
   "outputs": [
    {
     "data": {
      "text/plain": [
       "0    0.126936\n",
       "1    0.011032\n",
       "2    0.358743\n",
       "3    0.503622\n",
       "4    0.996212\n",
       "5   -0.075896\n",
       "6    0.938260\n",
       "7    1.141091\n",
       "Name: W, dtype: float64"
      ]
     },
     "execution_count": 14,
     "metadata": {},
     "output_type": "execute_result"
    }
   ],
   "source": [
    "yreg"
   ]
  },
  {
   "cell_type": "code",
   "execution_count": 15,
   "id": "f0023c88",
   "metadata": {},
   "outputs": [
    {
     "data": {
      "text/plain": [
       "0    0.531691\n",
       "1    0.502758\n",
       "2    0.588736\n",
       "3    0.623310\n",
       "4    0.730313\n",
       "5    0.481035\n",
       "6    0.718748\n",
       "7    0.757880\n",
       "Name: W, dtype: float64"
      ]
     },
     "execution_count": 15,
     "metadata": {},
     "output_type": "execute_result"
    }
   ],
   "source": [
    "# Getting the yreg values into +ve values\n",
    "p = np.exp(yreg) / (1+ np.exp(yreg))\n",
    "p"
   ]
  },
  {
   "cell_type": "code",
   "execution_count": 16,
   "id": "3f960b47",
   "metadata": {},
   "outputs": [
    {
     "data": {
      "text/plain": [
       "0    0.531691\n",
       "1    0.502758\n",
       "2    0.588736\n",
       "3    0.623310\n",
       "4    0.730313\n",
       "5    0.481035\n",
       "6    0.718748\n",
       "7    0.757880\n",
       "Name: W, dtype: float64"
      ]
     },
     "execution_count": 16,
     "metadata": {},
     "output_type": "execute_result"
    }
   ],
   "source": [
    "# Getting the yreg into +ve values\n",
    "p =  1 / (1 + np.exp(-yreg))\n",
    "p"
   ]
  },
  {
   "cell_type": "code",
   "execution_count": 17,
   "id": "bdde7b5e",
   "metadata": {},
   "outputs": [
    {
     "data": {
      "text/plain": [
       "0.6168089847214485"
      ]
     },
     "execution_count": 17,
     "metadata": {},
     "output_type": "execute_result"
    }
   ],
   "source": [
    "# Setting the threshold, instead of setting it to 0.5 we will set it as mean of yreg\n",
    "p_threshold = p.mean()\n",
    "p_threshold"
   ]
  },
  {
   "cell_type": "code",
   "execution_count": 18,
   "id": "ac828f3c",
   "metadata": {},
   "outputs": [
    {
     "data": {
      "text/plain": [
       "0    0.0\n",
       "1    0.0\n",
       "2    0.0\n",
       "3    1.0\n",
       "4    1.0\n",
       "5    0.0\n",
       "6    1.0\n",
       "7    1.0\n",
       "Name: W, dtype: float64"
      ]
     },
     "execution_count": 18,
     "metadata": {},
     "output_type": "execute_result"
    }
   ],
   "source": [
    "# Just to ensure that p values are available later, make a copy \n",
    "# Predicting the patient having HD using the Threshold\n",
    "p1 = p.copy()\n",
    "p1[p1>=p_threshold]=1\n",
    "p1[p1<p_threshold]=0\n",
    "p1"
   ]
  },
  {
   "cell_type": "code",
   "execution_count": 19,
   "id": "ab654024",
   "metadata": {},
   "outputs": [
    {
     "data": {
      "image/png": "[encoded data removed]",
      "text/plain": [
       "<Figure size 432x288 with 1 Axes>"
      ]
     },
     "metadata": {
      "needs_background": "light"
     },
     "output_type": "display_data"
    }
   ],
   "source": [
    "plt.scatter(x=data['W'], y=data['HD'], c=data['HD'])\n",
    "plt.plot(x, yreg)\n",
    "plt.plot(np.sort(x), np.sort(p1))\n",
    "plt.show()"
   ]
  },
  {
   "cell_type": "code",
   "execution_count": 38,
   "id": "f586f437",
   "metadata": {},
   "outputs": [
    {
     "name": "stdout",
     "output_type": "stream",
     "text": [
      "[-2.00000000e+00 -1.90000000e+00 -1.80000000e+00 -1.70000000e+00\n",
      " -1.60000000e+00 -1.50000000e+00 -1.40000000e+00 -1.30000000e+00\n",
      " -1.20000000e+00 -1.10000000e+00 -1.00000000e+00 -9.00000000e-01\n",
      " -8.00000000e-01 -7.00000000e-01 -6.00000000e-01 -5.00000000e-01\n",
      " -4.00000000e-01 -3.00000000e-01 -2.00000000e-01 -1.00000000e-01\n",
      "  1.77635684e-15  1.00000000e-01  2.00000000e-01  3.00000000e-01\n",
      "  4.00000000e-01  5.00000000e-01  6.00000000e-01  7.00000000e-01\n",
      "  8.00000000e-01  9.00000000e-01  1.00000000e+00  1.10000000e+00\n",
      "  1.20000000e+00  1.30000000e+00  1.40000000e+00  1.50000000e+00\n",
      "  1.60000000e+00  1.70000000e+00  1.80000000e+00  1.90000000e+00]\n",
      "[-1.0000000e+00 -9.0000000e-01 -8.0000000e-01 -7.0000000e-01\n",
      " -6.0000000e-01 -5.0000000e-01 -4.0000000e-01 -3.0000000e-01\n",
      " -2.0000000e-01 -1.0000000e-01  8.8817842e-16  1.0000000e-01\n",
      "  2.0000000e-01  3.0000000e-01  4.0000000e-01  5.0000000e-01\n",
      "  6.0000000e-01  7.0000000e-01  8.0000000e-01  9.0000000e-01\n",
      "  1.0000000e+00  1.1000000e+00  1.2000000e+00  1.3000000e+00\n",
      "  1.4000000e+00  1.5000000e+00  1.6000000e+00  1.7000000e+00\n",
      "  1.8000000e+00  1.9000000e+00  2.0000000e+00  2.1000000e+00\n",
      "  2.2000000e+00  2.3000000e+00  2.4000000e+00  2.5000000e+00\n",
      "  2.6000000e+00  2.7000000e+00  2.8000000e+00  2.9000000e+00]\n",
      "[0.26894142 0.2890505  0.31002552 0.33181223 0.35434369 0.37754067\n",
      " 0.40131234 0.42555748 0.450166   0.47502081 0.5        0.52497919\n",
      " 0.549834   0.57444252 0.59868766 0.62245933 0.64565631 0.66818777\n",
      " 0.68997448 0.7109495  0.73105858 0.75026011 0.76852478 0.78583498\n",
      " 0.80218389 0.81757448 0.83201839 0.84553473 0.85814894 0.86989153\n",
      " 0.88079708 0.89090318 0.90024951 0.90887704 0.9168273  0.92414182\n",
      " 0.93086158 0.93702664 0.94267582 0.94784644]\n"
     ]
    },
    {
     "data": {
      "image/png": "[encoded data removed]",
      "text/plain": [
       "<Figure size 432x288 with 1 Axes>"
      ]
     },
     "metadata": {
      "needs_background": "light"
     },
     "output_type": "display_data"
    }
   ],
   "source": [
    "# Drawing a Sigmoid curve for values between -5 to 5\n",
    "y = b1*x + b0\n",
    "p = 1 / (1+np.exp(-y))\n",
    "b1 = 1\n",
    "b0 = 1\n",
    "x = np.arange(-2, 2, .1)\n",
    "print(x)\n",
    "print(y)\n",
    "print(p)\n",
    "plt.plot(x, p)\n",
    "plt.axvline(x=0)\n",
    "plt.show()"
   ]
  },
  {
   "cell_type": "code",
   "execution_count": null,
   "id": "a392d9c0",
   "metadata": {},
   "outputs": [],
   "source": []
  }
 ],
 "metadata": {
  "kernelspec": {
   "display_name": "Python 3",
   "language": "python",
   "name": "python3"
  },
  "language_info": {
   "codemirror_mode": {
    "name": "ipython",
    "version": 3
   },
   "file_extension": ".py",
   "mimetype": "text/x-python",
   "name": "python",
   "nbconvert_exporter": "python",
   "pygments_lexer": "ipython3",
   "version": "3.9.4"
  }
 },
 "nbformat": 4,
 "nbformat_minor": 5
}
