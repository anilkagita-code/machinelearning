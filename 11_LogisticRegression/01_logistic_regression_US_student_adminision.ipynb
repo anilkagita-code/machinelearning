{
 "cells": [
  {
   "cell_type": "code",
   "execution_count": 1,
   "id": "7b6fd9e8",
   "metadata": {},
   "outputs": [],
   "source": [
    "import numpy as np \n",
    "import pandas as pd\n",
    "from matplotlib import pyplot as plt\n",
    "import seaborn as sns"
   ]
  },
  {
   "cell_type": "code",
   "execution_count": 2,
   "id": "7887b563",
   "metadata": {},
   "outputs": [
    {
     "data": {
      "text/html": [
       "<div>\n",
       "<style scoped>\n",
       "    .dataframe tbody tr th:only-of-type {\n",
       "        vertical-align: middle;\n",
       "    }\n",
       "\n",
       "    .dataframe tbody tr th {\n",
       "        vertical-align: top;\n",
       "    }\n",
       "\n",
       "    .dataframe thead th {\n",
       "        text-align: right;\n",
       "    }\n",
       "</style>\n",
       "<table border=\"1\" class=\"dataframe\">\n",
       "  <thead>\n",
       "    <tr style=\"text-align: right;\">\n",
       "      <th></th>\n",
       "      <th>Serial No.</th>\n",
       "      <th>GRE Score</th>\n",
       "      <th>TOEFL Score</th>\n",
       "      <th>University Rating</th>\n",
       "      <th>SOP</th>\n",
       "      <th>LOR</th>\n",
       "      <th>CGPA</th>\n",
       "      <th>Research</th>\n",
       "      <th>Chance of Admit</th>\n",
       "    </tr>\n",
       "  </thead>\n",
       "  <tbody>\n",
       "    <tr>\n",
       "      <th>341</th>\n",
       "      <td>342</td>\n",
       "      <td>326</td>\n",
       "      <td>110</td>\n",
       "      <td>3</td>\n",
       "      <td>3.5</td>\n",
       "      <td>3.5</td>\n",
       "      <td>8.76</td>\n",
       "      <td>1</td>\n",
       "      <td>1</td>\n",
       "    </tr>\n",
       "    <tr>\n",
       "      <th>116</th>\n",
       "      <td>117</td>\n",
       "      <td>299</td>\n",
       "      <td>102</td>\n",
       "      <td>3</td>\n",
       "      <td>4.0</td>\n",
       "      <td>3.5</td>\n",
       "      <td>8.62</td>\n",
       "      <td>0</td>\n",
       "      <td>0</td>\n",
       "    </tr>\n",
       "    <tr>\n",
       "      <th>259</th>\n",
       "      <td>260</td>\n",
       "      <td>331</td>\n",
       "      <td>119</td>\n",
       "      <td>4</td>\n",
       "      <td>5.0</td>\n",
       "      <td>4.5</td>\n",
       "      <td>9.34</td>\n",
       "      <td>1</td>\n",
       "      <td>1</td>\n",
       "    </tr>\n",
       "    <tr>\n",
       "      <th>109</th>\n",
       "      <td>110</td>\n",
       "      <td>304</td>\n",
       "      <td>103</td>\n",
       "      <td>5</td>\n",
       "      <td>5.0</td>\n",
       "      <td>4.0</td>\n",
       "      <td>8.64</td>\n",
       "      <td>0</td>\n",
       "      <td>0</td>\n",
       "    </tr>\n",
       "    <tr>\n",
       "      <th>287</th>\n",
       "      <td>288</td>\n",
       "      <td>324</td>\n",
       "      <td>114</td>\n",
       "      <td>5</td>\n",
       "      <td>5.0</td>\n",
       "      <td>4.5</td>\n",
       "      <td>9.08</td>\n",
       "      <td>1</td>\n",
       "      <td>1</td>\n",
       "    </tr>\n",
       "  </tbody>\n",
       "</table>\n",
       "</div>"
      ],
      "text/plain": [
       "     Serial No.  GRE Score  TOEFL Score  University Rating  SOP  LOR  CGPA  \\\n",
       "341         342        326          110                  3  3.5  3.5  8.76   \n",
       "116         117        299          102                  3  4.0  3.5  8.62   \n",
       "259         260        331          119                  4  5.0  4.5  9.34   \n",
       "109         110        304          103                  5  5.0  4.0  8.64   \n",
       "287         288        324          114                  5  5.0  4.5  9.08   \n",
       "\n",
       "     Research  Chance of Admit  \n",
       "341         1                1  \n",
       "116         0                0  \n",
       "259         1                1  \n",
       "109         0                0  \n",
       "287         1                1  "
      ]
     },
     "execution_count": 2,
     "metadata": {},
     "output_type": "execute_result"
    }
   ],
   "source": [
    "data = pd.read_csv('data/Admission_Predict.csv')\n",
    "data.sample(5)"
   ]
  },
  {
   "cell_type": "markdown",
   "id": "c5b0aea1",
   "metadata": {},
   "source": [
    "### Droping the Useless Columns"
   ]
  },
  {
   "cell_type": "code",
   "execution_count": 3,
   "id": "d3277f2e",
   "metadata": {},
   "outputs": [
    {
     "data": {
      "text/html": [
       "<div>\n",
       "<style scoped>\n",
       "    .dataframe tbody tr th:only-of-type {\n",
       "        vertical-align: middle;\n",
       "    }\n",
       "\n",
       "    .dataframe tbody tr th {\n",
       "        vertical-align: top;\n",
       "    }\n",
       "\n",
       "    .dataframe thead th {\n",
       "        text-align: right;\n",
       "    }\n",
       "</style>\n",
       "<table border=\"1\" class=\"dataframe\">\n",
       "  <thead>\n",
       "    <tr style=\"text-align: right;\">\n",
       "      <th></th>\n",
       "      <th>GRE Score</th>\n",
       "      <th>TOEFL Score</th>\n",
       "      <th>University Rating</th>\n",
       "      <th>SOP</th>\n",
       "      <th>LOR</th>\n",
       "      <th>CGPA</th>\n",
       "      <th>Research</th>\n",
       "      <th>Chance of Admit</th>\n",
       "    </tr>\n",
       "  </thead>\n",
       "  <tbody>\n",
       "    <tr>\n",
       "      <th>377</th>\n",
       "      <td>290</td>\n",
       "      <td>100</td>\n",
       "      <td>1</td>\n",
       "      <td>1.5</td>\n",
       "      <td>2.0</td>\n",
       "      <td>7.56</td>\n",
       "      <td>0</td>\n",
       "      <td>0</td>\n",
       "    </tr>\n",
       "    <tr>\n",
       "      <th>232</th>\n",
       "      <td>312</td>\n",
       "      <td>107</td>\n",
       "      <td>2</td>\n",
       "      <td>2.5</td>\n",
       "      <td>3.5</td>\n",
       "      <td>8.27</td>\n",
       "      <td>0</td>\n",
       "      <td>0</td>\n",
       "    </tr>\n",
       "    <tr>\n",
       "      <th>116</th>\n",
       "      <td>299</td>\n",
       "      <td>102</td>\n",
       "      <td>3</td>\n",
       "      <td>4.0</td>\n",
       "      <td>3.5</td>\n",
       "      <td>8.62</td>\n",
       "      <td>0</td>\n",
       "      <td>0</td>\n",
       "    </tr>\n",
       "    <tr>\n",
       "      <th>268</th>\n",
       "      <td>327</td>\n",
       "      <td>113</td>\n",
       "      <td>4</td>\n",
       "      <td>4.5</td>\n",
       "      <td>5.0</td>\n",
       "      <td>9.14</td>\n",
       "      <td>0</td>\n",
       "      <td>1</td>\n",
       "    </tr>\n",
       "    <tr>\n",
       "      <th>66</th>\n",
       "      <td>327</td>\n",
       "      <td>114</td>\n",
       "      <td>3</td>\n",
       "      <td>3.0</td>\n",
       "      <td>3.0</td>\n",
       "      <td>9.02</td>\n",
       "      <td>0</td>\n",
       "      <td>0</td>\n",
       "    </tr>\n",
       "  </tbody>\n",
       "</table>\n",
       "</div>"
      ],
      "text/plain": [
       "     GRE Score  TOEFL Score  University Rating  SOP  LOR  CGPA  Research  \\\n",
       "377        290          100                  1  1.5  2.0  7.56         0   \n",
       "232        312          107                  2  2.5  3.5  8.27         0   \n",
       "116        299          102                  3  4.0  3.5  8.62         0   \n",
       "268        327          113                  4  4.5  5.0  9.14         0   \n",
       "66         327          114                  3  3.0  3.0  9.02         0   \n",
       "\n",
       "     Chance of Admit  \n",
       "377                0  \n",
       "232                0  \n",
       "116                0  \n",
       "268                1  \n",
       "66                 0  "
      ]
     },
     "execution_count": 3,
     "metadata": {},
     "output_type": "execute_result"
    }
   ],
   "source": [
    "data.drop(columns='Serial No.', axis=1, inplace=True)\n",
    "data.sample(5)"
   ]
  },
  {
   "cell_type": "markdown",
   "id": "c11b239f",
   "metadata": {},
   "source": [
    "### Split into IV, DV and Scale Numeric Data"
   ]
  },
  {
   "cell_type": "code",
   "execution_count": 4,
   "id": "685b53a0",
   "metadata": {},
   "outputs": [
    {
     "name": "stdout",
     "output_type": "stream",
     "text": [
      "<class 'pandas.core.frame.DataFrame'>\n",
      "RangeIndex: 400 entries, 0 to 399\n",
      "Data columns (total 8 columns):\n",
      " #   Column             Non-Null Count  Dtype  \n",
      "---  ------             --------------  -----  \n",
      " 0   GRE Score          400 non-null    int64  \n",
      " 1   TOEFL Score        400 non-null    int64  \n",
      " 2   University Rating  400 non-null    int64  \n",
      " 3   SOP                400 non-null    float64\n",
      " 4   LOR                400 non-null    float64\n",
      " 5   CGPA               400 non-null    float64\n",
      " 6   Research           400 non-null    int64  \n",
      " 7   Chance of Admit    400 non-null    int64  \n",
      "dtypes: float64(3), int64(5)\n",
      "memory usage: 25.1 KB\n"
     ]
    }
   ],
   "source": [
    "data.info()"
   ]
  },
  {
   "cell_type": "code",
   "execution_count": 5,
   "id": "131b9018",
   "metadata": {},
   "outputs": [
    {
     "data": {
      "text/html": [
       "<div>\n",
       "<style scoped>\n",
       "    .dataframe tbody tr th:only-of-type {\n",
       "        vertical-align: middle;\n",
       "    }\n",
       "\n",
       "    .dataframe tbody tr th {\n",
       "        vertical-align: top;\n",
       "    }\n",
       "\n",
       "    .dataframe thead th {\n",
       "        text-align: right;\n",
       "    }\n",
       "</style>\n",
       "<table border=\"1\" class=\"dataframe\">\n",
       "  <thead>\n",
       "    <tr style=\"text-align: right;\">\n",
       "      <th></th>\n",
       "      <th>GRE Score</th>\n",
       "      <th>TOEFL Score</th>\n",
       "      <th>University Rating</th>\n",
       "      <th>SOP</th>\n",
       "      <th>LOR</th>\n",
       "      <th>CGPA</th>\n",
       "      <th>Research</th>\n",
       "    </tr>\n",
       "  </thead>\n",
       "  <tbody>\n",
       "    <tr>\n",
       "      <th>314</th>\n",
       "      <td>305</td>\n",
       "      <td>105</td>\n",
       "      <td>2</td>\n",
       "      <td>3.0</td>\n",
       "      <td>4.0</td>\n",
       "      <td>8.13</td>\n",
       "      <td>0</td>\n",
       "    </tr>\n",
       "    <tr>\n",
       "      <th>165</th>\n",
       "      <td>322</td>\n",
       "      <td>110</td>\n",
       "      <td>5</td>\n",
       "      <td>4.5</td>\n",
       "      <td>4.0</td>\n",
       "      <td>8.97</td>\n",
       "      <td>0</td>\n",
       "    </tr>\n",
       "  </tbody>\n",
       "</table>\n",
       "</div>"
      ],
      "text/plain": [
       "     GRE Score  TOEFL Score  University Rating  SOP  LOR  CGPA  Research\n",
       "314        305          105                  2  3.0  4.0  8.13         0\n",
       "165        322          110                  5  4.5  4.0  8.97         0"
      ]
     },
     "execution_count": 5,
     "metadata": {},
     "output_type": "execute_result"
    }
   ],
   "source": [
    "df_dv = data['Chance of Admit']\n",
    "df_iv = data.drop(columns='Chance of Admit', axis=1)\n",
    "df_iv.sample(2)"
   ]
  },
  {
   "cell_type": "code",
   "execution_count": 6,
   "id": "be5d2176",
   "metadata": {},
   "outputs": [
    {
     "data": {
      "text/plain": [
       "pandas.core.series.Series"
      ]
     },
     "execution_count": 6,
     "metadata": {},
     "output_type": "execute_result"
    }
   ],
   "source": [
    "type(df_dv)"
   ]
  },
  {
   "cell_type": "code",
   "execution_count": 9,
   "id": "d3f5fbb4",
   "metadata": {},
   "outputs": [],
   "source": [
    "from sklearn.preprocessing import StandardScaler"
   ]
  },
  {
   "cell_type": "code",
   "execution_count": 10,
   "id": "18ee2b7a",
   "metadata": {},
   "outputs": [],
   "source": [
    "sscaler = StandardScaler()"
   ]
  },
  {
   "cell_type": "code",
   "execution_count": 11,
   "id": "899bf575",
   "metadata": {},
   "outputs": [
    {
     "name": "stdout",
     "output_type": "stream",
     "text": [
      "<class 'pandas.core.frame.DataFrame'>\n",
      "RangeIndex: 400 entries, 0 to 399\n",
      "Data columns (total 7 columns):\n",
      " #   Column             Non-Null Count  Dtype  \n",
      "---  ------             --------------  -----  \n",
      " 0   GRE Score          400 non-null    int64  \n",
      " 1   TOEFL Score        400 non-null    int64  \n",
      " 2   University Rating  400 non-null    int64  \n",
      " 3   SOP                400 non-null    float64\n",
      " 4   LOR                400 non-null    float64\n",
      " 5   CGPA               400 non-null    float64\n",
      " 6   Research           400 non-null    int64  \n",
      "dtypes: float64(3), int64(4)\n",
      "memory usage: 22.0 KB\n"
     ]
    }
   ],
   "source": [
    "df_iv.info()"
   ]
  },
  {
   "cell_type": "code",
   "execution_count": 12,
   "id": "beee8ea2",
   "metadata": {},
   "outputs": [
    {
     "name": "stdout",
     "output_type": "stream",
     "text": [
      "<class 'pandas.core.frame.DataFrame'>\n",
      "RangeIndex: 400 entries, 0 to 399\n",
      "Data columns (total 7 columns):\n",
      " #   Column             Non-Null Count  Dtype  \n",
      "---  ------             --------------  -----  \n",
      " 0   GRE Score          400 non-null    int64  \n",
      " 1   TOEFL Score        400 non-null    int64  \n",
      " 2   University Rating  400 non-null    int64  \n",
      " 3   SOP                400 non-null    float64\n",
      " 4   LOR                400 non-null    float64\n",
      " 5   CGPA               400 non-null    float64\n",
      " 6   Research           400 non-null    object \n",
      "dtypes: float64(3), int64(3), object(1)\n",
      "memory usage: 22.0+ KB\n"
     ]
    }
   ],
   "source": [
    "df_iv['Research'] = df_iv['Research'].astype('object')\n",
    "df_iv.info()"
   ]
  },
  {
   "cell_type": "code",
   "execution_count": 13,
   "id": "78164c21",
   "metadata": {},
   "outputs": [],
   "source": [
    "df_iv_numeric = df_iv.select_dtypes(include=np.number)\n",
    "df_iv_categorical = df_iv.select_dtypes(exclude=np.number)"
   ]
  },
  {
   "cell_type": "code",
   "execution_count": 14,
   "id": "4b68e4d2",
   "metadata": {},
   "outputs": [
    {
     "data": {
      "text/html": [
       "<div>\n",
       "<style scoped>\n",
       "    .dataframe tbody tr th:only-of-type {\n",
       "        vertical-align: middle;\n",
       "    }\n",
       "\n",
       "    .dataframe tbody tr th {\n",
       "        vertical-align: top;\n",
       "    }\n",
       "\n",
       "    .dataframe thead th {\n",
       "        text-align: right;\n",
       "    }\n",
       "</style>\n",
       "<table border=\"1\" class=\"dataframe\">\n",
       "  <thead>\n",
       "    <tr style=\"text-align: right;\">\n",
       "      <th></th>\n",
       "      <th>GRE Score</th>\n",
       "      <th>TOEFL Score</th>\n",
       "      <th>University Rating</th>\n",
       "      <th>SOP</th>\n",
       "      <th>LOR</th>\n",
       "      <th>CGPA</th>\n",
       "    </tr>\n",
       "  </thead>\n",
       "  <tbody>\n",
       "    <tr>\n",
       "      <th>0</th>\n",
       "      <td>1.762107</td>\n",
       "      <td>1.746971</td>\n",
       "      <td>0.798829</td>\n",
       "      <td>1.093864</td>\n",
       "      <td>1.167321</td>\n",
       "      <td>1.764818</td>\n",
       "    </tr>\n",
       "    <tr>\n",
       "      <th>1</th>\n",
       "      <td>0.627656</td>\n",
       "      <td>-0.067635</td>\n",
       "      <td>0.798829</td>\n",
       "      <td>0.596653</td>\n",
       "      <td>1.167321</td>\n",
       "      <td>0.455151</td>\n",
       "    </tr>\n",
       "    <tr>\n",
       "      <th>2</th>\n",
       "      <td>-0.070467</td>\n",
       "      <td>-0.562528</td>\n",
       "      <td>-0.076600</td>\n",
       "      <td>-0.397769</td>\n",
       "      <td>0.052933</td>\n",
       "      <td>-1.005631</td>\n",
       "    </tr>\n",
       "    <tr>\n",
       "      <th>3</th>\n",
       "      <td>0.453126</td>\n",
       "      <td>0.427257</td>\n",
       "      <td>-0.076600</td>\n",
       "      <td>0.099442</td>\n",
       "      <td>-1.061454</td>\n",
       "      <td>0.119339</td>\n",
       "    </tr>\n",
       "    <tr>\n",
       "      <th>4</th>\n",
       "      <td>-0.244998</td>\n",
       "      <td>-0.727492</td>\n",
       "      <td>-0.952029</td>\n",
       "      <td>-1.392191</td>\n",
       "      <td>-0.504260</td>\n",
       "      <td>-0.653029</td>\n",
       "    </tr>\n",
       "    <tr>\n",
       "      <th>...</th>\n",
       "      <td>...</td>\n",
       "      <td>...</td>\n",
       "      <td>...</td>\n",
       "      <td>...</td>\n",
       "      <td>...</td>\n",
       "      <td>...</td>\n",
       "    </tr>\n",
       "    <tr>\n",
       "      <th>395</th>\n",
       "      <td>0.627656</td>\n",
       "      <td>0.427257</td>\n",
       "      <td>-0.076600</td>\n",
       "      <td>0.099442</td>\n",
       "      <td>0.052933</td>\n",
       "      <td>0.740592</td>\n",
       "    </tr>\n",
       "    <tr>\n",
       "      <th>396</th>\n",
       "      <td>0.714922</td>\n",
       "      <td>-0.067635</td>\n",
       "      <td>-0.076600</td>\n",
       "      <td>-0.397769</td>\n",
       "      <td>0.052933</td>\n",
       "      <td>0.858126</td>\n",
       "    </tr>\n",
       "    <tr>\n",
       "      <th>397</th>\n",
       "      <td>1.151249</td>\n",
       "      <td>1.417042</td>\n",
       "      <td>0.798829</td>\n",
       "      <td>1.591075</td>\n",
       "      <td>1.167321</td>\n",
       "      <td>1.429006</td>\n",
       "    </tr>\n",
       "    <tr>\n",
       "      <th>398</th>\n",
       "      <td>-0.419528</td>\n",
       "      <td>-0.727492</td>\n",
       "      <td>-0.076600</td>\n",
       "      <td>0.099442</td>\n",
       "      <td>0.610127</td>\n",
       "      <td>0.304036</td>\n",
       "    </tr>\n",
       "    <tr>\n",
       "      <th>399</th>\n",
       "      <td>1.413045</td>\n",
       "      <td>1.582006</td>\n",
       "      <td>0.798829</td>\n",
       "      <td>1.591075</td>\n",
       "      <td>0.610127</td>\n",
       "      <td>1.781609</td>\n",
       "    </tr>\n",
       "  </tbody>\n",
       "</table>\n",
       "<p>400 rows × 6 columns</p>\n",
       "</div>"
      ],
      "text/plain": [
       "     GRE Score  TOEFL Score  University Rating       SOP       LOR      CGPA\n",
       "0     1.762107     1.746971           0.798829  1.093864  1.167321  1.764818\n",
       "1     0.627656    -0.067635           0.798829  0.596653  1.167321  0.455151\n",
       "2    -0.070467    -0.562528          -0.076600 -0.397769  0.052933 -1.005631\n",
       "3     0.453126     0.427257          -0.076600  0.099442 -1.061454  0.119339\n",
       "4    -0.244998    -0.727492          -0.952029 -1.392191 -0.504260 -0.653029\n",
       "..         ...          ...                ...       ...       ...       ...\n",
       "395   0.627656     0.427257          -0.076600  0.099442  0.052933  0.740592\n",
       "396   0.714922    -0.067635          -0.076600 -0.397769  0.052933  0.858126\n",
       "397   1.151249     1.417042           0.798829  1.591075  1.167321  1.429006\n",
       "398  -0.419528    -0.727492          -0.076600  0.099442  0.610127  0.304036\n",
       "399   1.413045     1.582006           0.798829  1.591075  0.610127  1.781609\n",
       "\n",
       "[400 rows x 6 columns]"
      ]
     },
     "execution_count": 14,
     "metadata": {},
     "output_type": "execute_result"
    }
   ],
   "source": [
    "df_iv_numeric_scaled = sscaler.fit_transform(df_iv_numeric)\n",
    "df_iv_numeric_scaled = pd.DataFrame(data=df_iv_numeric_scaled, columns=df_iv_numeric.columns)\n",
    "df_iv_numeric_scaled"
   ]
  },
  {
   "cell_type": "code",
   "execution_count": 15,
   "id": "ceb743e5",
   "metadata": {},
   "outputs": [
    {
     "data": {
      "text/html": [
       "<div>\n",
       "<style scoped>\n",
       "    .dataframe tbody tr th:only-of-type {\n",
       "        vertical-align: middle;\n",
       "    }\n",
       "\n",
       "    .dataframe tbody tr th {\n",
       "        vertical-align: top;\n",
       "    }\n",
       "\n",
       "    .dataframe thead th {\n",
       "        text-align: right;\n",
       "    }\n",
       "</style>\n",
       "<table border=\"1\" class=\"dataframe\">\n",
       "  <thead>\n",
       "    <tr style=\"text-align: right;\">\n",
       "      <th></th>\n",
       "      <th>GRE Score</th>\n",
       "      <th>TOEFL Score</th>\n",
       "      <th>University Rating</th>\n",
       "      <th>SOP</th>\n",
       "      <th>LOR</th>\n",
       "      <th>CGPA</th>\n",
       "      <th>Research</th>\n",
       "    </tr>\n",
       "  </thead>\n",
       "  <tbody>\n",
       "    <tr>\n",
       "      <th>171</th>\n",
       "      <td>1.500310</td>\n",
       "      <td>1.582006</td>\n",
       "      <td>1.674257</td>\n",
       "      <td>0.596653</td>\n",
       "      <td>1.167321</td>\n",
       "      <td>0.790963</td>\n",
       "      <td>1</td>\n",
       "    </tr>\n",
       "    <tr>\n",
       "      <th>299</th>\n",
       "      <td>-1.030386</td>\n",
       "      <td>0.757186</td>\n",
       "      <td>-0.076600</td>\n",
       "      <td>-0.397769</td>\n",
       "      <td>0.052933</td>\n",
       "      <td>0.085758</td>\n",
       "      <td>0</td>\n",
       "    </tr>\n",
       "    <tr>\n",
       "      <th>160</th>\n",
       "      <td>-0.157732</td>\n",
       "      <td>-0.727492</td>\n",
       "      <td>-1.827457</td>\n",
       "      <td>-1.889402</td>\n",
       "      <td>-1.618648</td>\n",
       "      <td>-1.240700</td>\n",
       "      <td>0</td>\n",
       "    </tr>\n",
       "    <tr>\n",
       "      <th>370</th>\n",
       "      <td>-0.594059</td>\n",
       "      <td>-0.727492</td>\n",
       "      <td>-0.952029</td>\n",
       "      <td>-0.894980</td>\n",
       "      <td>-1.061454</td>\n",
       "      <td>-0.602657</td>\n",
       "      <td>0</td>\n",
       "    </tr>\n",
       "    <tr>\n",
       "      <th>10</th>\n",
       "      <td>0.714922</td>\n",
       "      <td>-0.232599</td>\n",
       "      <td>-0.076600</td>\n",
       "      <td>0.099442</td>\n",
       "      <td>0.610127</td>\n",
       "      <td>-0.334007</td>\n",
       "      <td>1</td>\n",
       "    </tr>\n",
       "  </tbody>\n",
       "</table>\n",
       "</div>"
      ],
      "text/plain": [
       "     GRE Score  TOEFL Score  University Rating       SOP       LOR      CGPA  \\\n",
       "171   1.500310     1.582006           1.674257  0.596653  1.167321  0.790963   \n",
       "299  -1.030386     0.757186          -0.076600 -0.397769  0.052933  0.085758   \n",
       "160  -0.157732    -0.727492          -1.827457 -1.889402 -1.618648 -1.240700   \n",
       "370  -0.594059    -0.727492          -0.952029 -0.894980 -1.061454 -0.602657   \n",
       "10    0.714922    -0.232599          -0.076600  0.099442  0.610127 -0.334007   \n",
       "\n",
       "    Research  \n",
       "171        1  \n",
       "299        0  \n",
       "160        0  \n",
       "370        0  \n",
       "10         1  "
      ]
     },
     "execution_count": 15,
     "metadata": {},
     "output_type": "execute_result"
    }
   ],
   "source": [
    "df_iv_scaled = pd.concat([df_iv_numeric_scaled, df_iv_categorical], axis=1)\n",
    "df_iv_scaled.sample(5)"
   ]
  },
  {
   "cell_type": "code",
   "execution_count": 16,
   "id": "fbc4ee73",
   "metadata": {},
   "outputs": [
    {
     "name": "stdout",
     "output_type": "stream",
     "text": [
      "<class 'pandas.core.frame.DataFrame'>\n",
      "RangeIndex: 400 entries, 0 to 399\n",
      "Data columns (total 7 columns):\n",
      " #   Column             Non-Null Count  Dtype  \n",
      "---  ------             --------------  -----  \n",
      " 0   GRE Score          400 non-null    float64\n",
      " 1   TOEFL Score        400 non-null    float64\n",
      " 2   University Rating  400 non-null    float64\n",
      " 3   SOP                400 non-null    float64\n",
      " 4   LOR                400 non-null    float64\n",
      " 5   CGPA               400 non-null    float64\n",
      " 6   Research           400 non-null    object \n",
      "dtypes: float64(6), object(1)\n",
      "memory usage: 22.0+ KB\n"
     ]
    }
   ],
   "source": [
    "df_iv_scaled.info()"
   ]
  },
  {
   "cell_type": "markdown",
   "id": "a639b5c1",
   "metadata": {},
   "source": [
    "### Converting back IV Categorical Data into numeric\n",
    "This shall ensure that there are not errors which computing VIF, Models etc"
   ]
  },
  {
   "cell_type": "code",
   "execution_count": 17,
   "id": "619e448f",
   "metadata": {},
   "outputs": [
    {
     "name": "stdout",
     "output_type": "stream",
     "text": [
      "<class 'pandas.core.frame.DataFrame'>\n",
      "RangeIndex: 400 entries, 0 to 399\n",
      "Data columns (total 7 columns):\n",
      " #   Column             Non-Null Count  Dtype  \n",
      "---  ------             --------------  -----  \n",
      " 0   GRE Score          400 non-null    float64\n",
      " 1   TOEFL Score        400 non-null    float64\n",
      " 2   University Rating  400 non-null    float64\n",
      " 3   SOP                400 non-null    float64\n",
      " 4   LOR                400 non-null    float64\n",
      " 5   CGPA               400 non-null    float64\n",
      " 6   Research           400 non-null    int64  \n",
      "dtypes: float64(6), int64(1)\n",
      "memory usage: 22.0 KB\n"
     ]
    }
   ],
   "source": [
    "df_iv_scaled['Research'] = df_iv_scaled['Research'].astype(np.int64)\n",
    "df_iv_scaled.info()"
   ]
  },
  {
   "cell_type": "markdown",
   "id": "7c7d4775",
   "metadata": {},
   "source": [
    "### Checking for Multicollinearity of Data"
   ]
  },
  {
   "cell_type": "code",
   "execution_count": 18,
   "id": "33f8fc25",
   "metadata": {},
   "outputs": [],
   "source": [
    "from statsmodels.stats.outliers_influence import variance_inflation_factor as vif"
   ]
  },
  {
   "cell_type": "code",
   "execution_count": 19,
   "id": "7d429b6b",
   "metadata": {},
   "outputs": [
    {
     "data": {
      "text/html": [
       "<div>\n",
       "<style scoped>\n",
       "    .dataframe tbody tr th:only-of-type {\n",
       "        vertical-align: middle;\n",
       "    }\n",
       "\n",
       "    .dataframe tbody tr th {\n",
       "        vertical-align: top;\n",
       "    }\n",
       "\n",
       "    .dataframe thead th {\n",
       "        text-align: right;\n",
       "    }\n",
       "</style>\n",
       "<table border=\"1\" class=\"dataframe\">\n",
       "  <thead>\n",
       "    <tr style=\"text-align: right;\">\n",
       "      <th></th>\n",
       "      <th>VIF</th>\n",
       "      <th>feature</th>\n",
       "    </tr>\n",
       "  </thead>\n",
       "  <tbody>\n",
       "    <tr>\n",
       "      <th>5</th>\n",
       "      <td>5.205309</td>\n",
       "      <td>CGPA</td>\n",
       "    </tr>\n",
       "    <tr>\n",
       "      <th>0</th>\n",
       "      <td>4.358514</td>\n",
       "      <td>GRE Score</td>\n",
       "    </tr>\n",
       "    <tr>\n",
       "      <th>1</th>\n",
       "      <td>4.282118</td>\n",
       "      <td>TOEFL Score</td>\n",
       "    </tr>\n",
       "    <tr>\n",
       "      <th>3</th>\n",
       "      <td>3.063188</td>\n",
       "      <td>SOP</td>\n",
       "    </tr>\n",
       "    <tr>\n",
       "      <th>2</th>\n",
       "      <td>2.918556</td>\n",
       "      <td>University Rating</td>\n",
       "    </tr>\n",
       "    <tr>\n",
       "      <th>4</th>\n",
       "      <td>2.430409</td>\n",
       "      <td>LOR</td>\n",
       "    </tr>\n",
       "    <tr>\n",
       "      <th>6</th>\n",
       "      <td>1.189484</td>\n",
       "      <td>Research</td>\n",
       "    </tr>\n",
       "  </tbody>\n",
       "</table>\n",
       "</div>"
      ],
      "text/plain": [
       "        VIF            feature\n",
       "5  5.205309               CGPA\n",
       "0  4.358514          GRE Score\n",
       "1  4.282118        TOEFL Score\n",
       "3  3.063188                SOP\n",
       "2  2.918556  University Rating\n",
       "4  2.430409                LOR\n",
       "6  1.189484           Research"
      ]
     },
     "execution_count": 19,
     "metadata": {},
     "output_type": "execute_result"
    }
   ],
   "source": [
    "df_vif = pd.DataFrame()\n",
    "# Since variance_inflation_factor takes ndarray, inputs is passed as DataFrame.values instead of DataFrame\n",
    "df_vif['VIF'] = [vif(exog=df_iv_scaled.values, exog_idx=i ) for i in range(df_iv_scaled.shape[1])]\n",
    "df_vif['feature'] = df_iv_scaled.columns\n",
    "df_vif.sort_values('VIF', ascending=False)"
   ]
  },
  {
   "cell_type": "code",
   "execution_count": 20,
   "id": "786139c8",
   "metadata": {},
   "outputs": [
    {
     "name": "stdout",
     "output_type": "stream",
     "text": [
      "The VIF for the first feature is \n",
      "        VIF feature\n",
      "5  5.205309    CGPA > 5.\n",
      "So Multicollinearity exists but it should be fine since its just above 5.\n",
      "So we will not drop any column\n"
     ]
    }
   ],
   "source": [
    "print(f'''The VIF for the first feature is \\n{df_vif[df_vif['VIF']>5]} > 5.\n",
    "So Multicollinearity exists but it should be fine since its just above 5.\n",
    "So we will not drop any column''')"
   ]
  },
  {
   "cell_type": "markdown",
   "id": "53326845",
   "metadata": {},
   "source": [
    "### Building the model using OLS"
   ]
  },
  {
   "cell_type": "code",
   "execution_count": 21,
   "id": "dfb4ebff",
   "metadata": {},
   "outputs": [],
   "source": [
    "from sklearn.model_selection import train_test_split"
   ]
  },
  {
   "cell_type": "code",
   "execution_count": 22,
   "id": "994cd7e4",
   "metadata": {},
   "outputs": [],
   "source": [
    "# Building using the OLS\n",
    "import statsmodels.api as sm"
   ]
  },
  {
   "cell_type": "code",
   "execution_count": 23,
   "id": "08fa75ee",
   "metadata": {},
   "outputs": [],
   "source": [
    "df_iv_scaled_const = sm.add_constant(df_iv_scaled)"
   ]
  },
  {
   "cell_type": "code",
   "execution_count": 24,
   "id": "fad1d641",
   "metadata": {},
   "outputs": [
    {
     "data": {
      "text/html": [
       "<div>\n",
       "<style scoped>\n",
       "    .dataframe tbody tr th:only-of-type {\n",
       "        vertical-align: middle;\n",
       "    }\n",
       "\n",
       "    .dataframe tbody tr th {\n",
       "        vertical-align: top;\n",
       "    }\n",
       "\n",
       "    .dataframe thead th {\n",
       "        text-align: right;\n",
       "    }\n",
       "</style>\n",
       "<table border=\"1\" class=\"dataframe\">\n",
       "  <thead>\n",
       "    <tr style=\"text-align: right;\">\n",
       "      <th></th>\n",
       "      <th>const</th>\n",
       "      <th>GRE Score</th>\n",
       "      <th>TOEFL Score</th>\n",
       "      <th>University Rating</th>\n",
       "      <th>SOP</th>\n",
       "      <th>LOR</th>\n",
       "      <th>CGPA</th>\n",
       "      <th>Research</th>\n",
       "    </tr>\n",
       "  </thead>\n",
       "  <tbody>\n",
       "    <tr>\n",
       "      <th>326</th>\n",
       "      <td>1.0</td>\n",
       "      <td>-1.553979</td>\n",
       "      <td>-1.222385</td>\n",
       "      <td>-0.076600</td>\n",
       "      <td>-1.392191</td>\n",
       "      <td>-1.618648</td>\n",
       "      <td>-0.972050</td>\n",
       "      <td>0</td>\n",
       "    </tr>\n",
       "    <tr>\n",
       "      <th>368</th>\n",
       "      <td>1.0</td>\n",
       "      <td>-1.641244</td>\n",
       "      <td>-2.542098</td>\n",
       "      <td>-1.827457</td>\n",
       "      <td>-1.392191</td>\n",
       "      <td>-1.618648</td>\n",
       "      <td>-1.207118</td>\n",
       "      <td>0</td>\n",
       "    </tr>\n",
       "  </tbody>\n",
       "</table>\n",
       "</div>"
      ],
      "text/plain": [
       "     const  GRE Score  TOEFL Score  University Rating       SOP       LOR  \\\n",
       "326    1.0  -1.553979    -1.222385          -0.076600 -1.392191 -1.618648   \n",
       "368    1.0  -1.641244    -2.542098          -1.827457 -1.392191 -1.618648   \n",
       "\n",
       "         CGPA  Research  \n",
       "326 -0.972050         0  \n",
       "368 -1.207118         0  "
      ]
     },
     "execution_count": 24,
     "metadata": {},
     "output_type": "execute_result"
    }
   ],
   "source": [
    "df_iv_scaled_const.sample(2)"
   ]
  },
  {
   "cell_type": "code",
   "execution_count": 25,
   "id": "e89d9dbe",
   "metadata": {},
   "outputs": [],
   "source": [
    "X_train, X_test, y_train, y_test = train_test_split(df_iv_scaled_const, df_dv, test_size=0.2, random_state=10)"
   ]
  },
  {
   "cell_type": "code",
   "execution_count": 26,
   "id": "3f48f168",
   "metadata": {},
   "outputs": [
    {
     "name": "stdout",
     "output_type": "stream",
     "text": [
      "Optimization terminated successfully.\n",
      "         Current function value: 0.241326\n",
      "         Iterations 8\n"
     ]
    },
    {
     "data": {
      "text/html": [
       "<table class=\"simpletable\">\n",
       "<caption>Logit Regression Results</caption>\n",
       "<tr>\n",
       "  <th>Dep. Variable:</th>    <td>Chance of Admit</td> <th>  No. Observations:  </th>  <td>   320</td>  \n",
       "</tr>\n",
       "<tr>\n",
       "  <th>Model:</th>                 <td>Logit</td>      <th>  Df Residuals:      </th>  <td>   312</td>  \n",
       "</tr>\n",
       "<tr>\n",
       "  <th>Method:</th>                 <td>MLE</td>       <th>  Df Model:          </th>  <td>     7</td>  \n",
       "</tr>\n",
       "<tr>\n",
       "  <th>Date:</th>            <td>Thu, 14 Oct 2021</td> <th>  Pseudo R-squ.:     </th>  <td>0.6486</td>  \n",
       "</tr>\n",
       "<tr>\n",
       "  <th>Time:</th>                <td>10:52:55</td>     <th>  Log-Likelihood:    </th> <td> -77.224</td> \n",
       "</tr>\n",
       "<tr>\n",
       "  <th>converged:</th>             <td>True</td>       <th>  LL-Null:           </th> <td> -219.78</td> \n",
       "</tr>\n",
       "<tr>\n",
       "  <th>Covariance Type:</th>     <td>nonrobust</td>    <th>  LLR p-value:       </th> <td>9.137e-58</td>\n",
       "</tr>\n",
       "</table>\n",
       "<table class=\"simpletable\">\n",
       "<tr>\n",
       "          <td></td>             <th>coef</th>     <th>std err</th>      <th>z</th>      <th>P>|z|</th>  <th>[0.025</th>    <th>0.975]</th>  \n",
       "</tr>\n",
       "<tr>\n",
       "  <th>const</th>             <td>   -0.7119</td> <td>    0.330</td> <td>   -2.157</td> <td> 0.031</td> <td>   -1.359</td> <td>   -0.065</td>\n",
       "</tr>\n",
       "<tr>\n",
       "  <th>GRE Score</th>         <td>    0.6095</td> <td>    0.447</td> <td>    1.365</td> <td> 0.172</td> <td>   -0.266</td> <td>    1.485</td>\n",
       "</tr>\n",
       "<tr>\n",
       "  <th>TOEFL Score</th>       <td>    0.1989</td> <td>    0.403</td> <td>    0.493</td> <td> 0.622</td> <td>   -0.592</td> <td>    0.990</td>\n",
       "</tr>\n",
       "<tr>\n",
       "  <th>University Rating</th> <td>    0.5883</td> <td>    0.383</td> <td>    1.535</td> <td> 0.125</td> <td>   -0.163</td> <td>    1.339</td>\n",
       "</tr>\n",
       "<tr>\n",
       "  <th>SOP</th>               <td>    0.1768</td> <td>    0.374</td> <td>    0.473</td> <td> 0.636</td> <td>   -0.555</td> <td>    0.909</td>\n",
       "</tr>\n",
       "<tr>\n",
       "  <th>LOR</th>               <td>    0.5118</td> <td>    0.308</td> <td>    1.662</td> <td> 0.096</td> <td>   -0.092</td> <td>    1.115</td>\n",
       "</tr>\n",
       "<tr>\n",
       "  <th>CGPA</th>              <td>    2.6273</td> <td>    0.544</td> <td>    4.832</td> <td> 0.000</td> <td>    1.562</td> <td>    3.693</td>\n",
       "</tr>\n",
       "<tr>\n",
       "  <th>Research</th>          <td>    0.5819</td> <td>    0.465</td> <td>    1.251</td> <td> 0.211</td> <td>   -0.329</td> <td>    1.493</td>\n",
       "</tr>\n",
       "</table>"
      ],
      "text/plain": [
       "<class 'statsmodels.iolib.summary.Summary'>\n",
       "\"\"\"\n",
       "                           Logit Regression Results                           \n",
       "==============================================================================\n",
       "Dep. Variable:        Chance of Admit   No. Observations:                  320\n",
       "Model:                          Logit   Df Residuals:                      312\n",
       "Method:                           MLE   Df Model:                            7\n",
       "Date:                Thu, 14 Oct 2021   Pseudo R-squ.:                  0.6486\n",
       "Time:                        10:52:55   Log-Likelihood:                -77.224\n",
       "converged:                       True   LL-Null:                       -219.78\n",
       "Covariance Type:            nonrobust   LLR p-value:                 9.137e-58\n",
       "=====================================================================================\n",
       "                        coef    std err          z      P>|z|      [0.025      0.975]\n",
       "-------------------------------------------------------------------------------------\n",
       "const                -0.7119      0.330     -2.157      0.031      -1.359      -0.065\n",
       "GRE Score             0.6095      0.447      1.365      0.172      -0.266       1.485\n",
       "TOEFL Score           0.1989      0.403      0.493      0.622      -0.592       0.990\n",
       "University Rating     0.5883      0.383      1.535      0.125      -0.163       1.339\n",
       "SOP                   0.1768      0.374      0.473      0.636      -0.555       0.909\n",
       "LOR                   0.5118      0.308      1.662      0.096      -0.092       1.115\n",
       "CGPA                  2.6273      0.544      4.832      0.000       1.562       3.693\n",
       "Research              0.5819      0.465      1.251      0.211      -0.329       1.493\n",
       "=====================================================================================\n",
       "\"\"\""
      ]
     },
     "execution_count": 26,
     "metadata": {},
     "output_type": "execute_result"
    }
   ],
   "source": [
    "model_stat = sm.Logit(endog=y_train, exog=X_train).fit()\n",
    "model_stat.summary()"
   ]
  },
  {
   "cell_type": "markdown",
   "id": "00a36048",
   "metadata": {},
   "source": [
    "### Backward Elemination Strategy"
   ]
  },
  {
   "cell_type": "code",
   "execution_count": 29,
   "id": "534f2a28",
   "metadata": {},
   "outputs": [
    {
     "name": "stdout",
     "output_type": "stream",
     "text": [
      "Optimization terminated successfully.\n",
      "         Current function value: 0.241326\n",
      "         Iterations 8\n",
      "SOP\n",
      "Optimization terminated successfully.\n",
      "         Current function value: 0.241676\n",
      "         Iterations 8\n",
      "TOEFL Score\n",
      "Optimization terminated successfully.\n",
      "         Current function value: 0.242082\n",
      "         Iterations 8\n",
      "Research\n",
      "Optimization terminated successfully.\n",
      "         Current function value: 0.244507\n",
      "         Iterations 8\n",
      "University Rating\n",
      "The final features through backward eliminations are: Index(['const', 'GRE Score', 'University Rating', 'LOR', 'CGPA'], dtype='object')\n"
     ]
    }
   ],
   "source": [
    "X_train1 = X_train.copy()\n",
    "\n",
    "while(len(X_train1.columns) > 0):\n",
    "    model_stat = sm.Logit(endog=y_train, exog=X_train1).fit()\n",
    "    f = model_stat.pvalues[1:].idxmax()\n",
    "    print(f)\n",
    "    if model_stat.pvalues[1:].max() > 0.05:\n",
    "        X_train1 = X_train1.drop(f, axis=1)\n",
    "    else:\n",
    "        break\n",
    "        \n",
    "print(f'The final features through backward eliminations are: {X_train1.columns}')"
   ]
  },
  {
   "cell_type": "code",
   "execution_count": 30,
   "id": "fad2684c",
   "metadata": {},
   "outputs": [
    {
     "data": {
      "text/html": [
       "<table class=\"simpletable\">\n",
       "<caption>Logit Regression Results</caption>\n",
       "<tr>\n",
       "  <th>Dep. Variable:</th>    <td>Chance of Admit</td> <th>  No. Observations:  </th>  <td>   320</td>  \n",
       "</tr>\n",
       "<tr>\n",
       "  <th>Model:</th>                 <td>Logit</td>      <th>  Df Residuals:      </th>  <td>   315</td>  \n",
       "</tr>\n",
       "<tr>\n",
       "  <th>Method:</th>                 <td>MLE</td>       <th>  Df Model:          </th>  <td>     4</td>  \n",
       "</tr>\n",
       "<tr>\n",
       "  <th>Date:</th>            <td>Thu, 14 Oct 2021</td> <th>  Pseudo R-squ.:     </th>  <td>0.6440</td>  \n",
       "</tr>\n",
       "<tr>\n",
       "  <th>Time:</th>                <td>12:09:54</td>     <th>  Log-Likelihood:    </th> <td> -78.242</td> \n",
       "</tr>\n",
       "<tr>\n",
       "  <th>converged:</th>             <td>True</td>       <th>  LL-Null:           </th> <td> -219.78</td> \n",
       "</tr>\n",
       "<tr>\n",
       "  <th>Covariance Type:</th>     <td>nonrobust</td>    <th>  LLR p-value:       </th> <td>4.850e-60</td>\n",
       "</tr>\n",
       "</table>\n",
       "<table class=\"simpletable\">\n",
       "<tr>\n",
       "          <td></td>             <th>coef</th>     <th>std err</th>      <th>z</th>      <th>P>|z|</th>  <th>[0.025</th>    <th>0.975]</th>  \n",
       "</tr>\n",
       "<tr>\n",
       "  <th>const</th>             <td>   -0.4097</td> <td>    0.208</td> <td>   -1.968</td> <td> 0.049</td> <td>   -0.818</td> <td>   -0.002</td>\n",
       "</tr>\n",
       "<tr>\n",
       "  <th>GRE Score</th>         <td>    0.9266</td> <td>    0.380</td> <td>    2.438</td> <td> 0.015</td> <td>    0.182</td> <td>    1.671</td>\n",
       "</tr>\n",
       "<tr>\n",
       "  <th>University Rating</th> <td>    0.7219</td> <td>    0.347</td> <td>    2.078</td> <td> 0.038</td> <td>    0.041</td> <td>    1.403</td>\n",
       "</tr>\n",
       "<tr>\n",
       "  <th>LOR</th>               <td>    0.5593</td> <td>    0.266</td> <td>    2.100</td> <td> 0.036</td> <td>    0.037</td> <td>    1.081</td>\n",
       "</tr>\n",
       "<tr>\n",
       "  <th>CGPA</th>              <td>    2.6964</td> <td>    0.520</td> <td>    5.183</td> <td> 0.000</td> <td>    1.677</td> <td>    3.716</td>\n",
       "</tr>\n",
       "</table>"
      ],
      "text/plain": [
       "<class 'statsmodels.iolib.summary.Summary'>\n",
       "\"\"\"\n",
       "                           Logit Regression Results                           \n",
       "==============================================================================\n",
       "Dep. Variable:        Chance of Admit   No. Observations:                  320\n",
       "Model:                          Logit   Df Residuals:                      315\n",
       "Method:                           MLE   Df Model:                            4\n",
       "Date:                Thu, 14 Oct 2021   Pseudo R-squ.:                  0.6440\n",
       "Time:                        12:09:54   Log-Likelihood:                -78.242\n",
       "converged:                       True   LL-Null:                       -219.78\n",
       "Covariance Type:            nonrobust   LLR p-value:                 4.850e-60\n",
       "=====================================================================================\n",
       "                        coef    std err          z      P>|z|      [0.025      0.975]\n",
       "-------------------------------------------------------------------------------------\n",
       "const                -0.4097      0.208     -1.968      0.049      -0.818      -0.002\n",
       "GRE Score             0.9266      0.380      2.438      0.015       0.182       1.671\n",
       "University Rating     0.7219      0.347      2.078      0.038       0.041       1.403\n",
       "LOR                   0.5593      0.266      2.100      0.036       0.037       1.081\n",
       "CGPA                  2.6964      0.520      5.183      0.000       1.677       3.716\n",
       "=====================================================================================\n",
       "\"\"\""
      ]
     },
     "execution_count": 30,
     "metadata": {},
     "output_type": "execute_result"
    }
   ],
   "source": [
    "model_stat.summary()"
   ]
  },
  {
   "cell_type": "code",
   "execution_count": 31,
   "id": "34e06f11",
   "metadata": {},
   "outputs": [
    {
     "data": {
      "text/html": [
       "<table class=\"simpletable\">\n",
       "<tr>\n",
       "        <td>Model:</td>              <td>Logit</td>      <td>Pseudo R-squared:</td>    <td>0.644</td>  \n",
       "</tr>\n",
       "<tr>\n",
       "  <td>Dependent Variable:</td>  <td>Chance of Admit</td>       <td>AIC:</td>         <td>166.4843</td> \n",
       "</tr>\n",
       "<tr>\n",
       "         <td>Date:</td>        <td>2021-10-14 12:10</td>       <td>BIC:</td>         <td>185.3259</td> \n",
       "</tr>\n",
       "<tr>\n",
       "   <td>No. Observations:</td>         <td>320</td>        <td>Log-Likelihood:</td>    <td>-78.242</td> \n",
       "</tr>\n",
       "<tr>\n",
       "       <td>Df Model:</td>              <td>4</td>            <td>LL-Null:</td>        <td>-219.78</td> \n",
       "</tr>\n",
       "<tr>\n",
       "     <td>Df Residuals:</td>           <td>315</td>         <td>LLR p-value:</td>    <td>4.8502e-60</td>\n",
       "</tr>\n",
       "<tr>\n",
       "      <td>Converged:</td>           <td>1.0000</td>           <td>Scale:</td>         <td>1.0000</td>  \n",
       "</tr>\n",
       "<tr>\n",
       "    <td>No. Iterations:</td>        <td>8.0000</td>              <td></td>               <td></td>     \n",
       "</tr>\n",
       "</table>\n",
       "<table class=\"simpletable\">\n",
       "<tr>\n",
       "          <td></td>           <th>Coef.</th>  <th>Std.Err.</th>    <th>z</th>     <th>P>|z|</th> <th>[0.025</th>  <th>0.975]</th> \n",
       "</tr>\n",
       "<tr>\n",
       "  <th>const</th>             <td>-0.4097</td>  <td>0.2082</td>  <td>-1.9676</td> <td>0.0491</td> <td>-0.8178</td> <td>-0.0016</td>\n",
       "</tr>\n",
       "<tr>\n",
       "  <th>GRE Score</th>         <td>0.9266</td>   <td>0.3801</td>  <td>2.4381</td>  <td>0.0148</td> <td>0.1817</td>  <td>1.6715</td> \n",
       "</tr>\n",
       "<tr>\n",
       "  <th>University Rating</th> <td>0.7219</td>   <td>0.3473</td>  <td>2.0784</td>  <td>0.0377</td> <td>0.0411</td>  <td>1.4027</td> \n",
       "</tr>\n",
       "<tr>\n",
       "  <th>LOR</th>               <td>0.5593</td>   <td>0.2663</td>  <td>2.1003</td>  <td>0.0357</td> <td>0.0374</td>  <td>1.0812</td> \n",
       "</tr>\n",
       "<tr>\n",
       "  <th>CGPA</th>              <td>2.6964</td>   <td>0.5203</td>  <td>5.1825</td>  <td>0.0000</td> <td>1.6767</td>  <td>3.7162</td> \n",
       "</tr>\n",
       "</table>"
      ],
      "text/plain": [
       "<class 'statsmodels.iolib.summary2.Summary'>\n",
       "\"\"\"\n",
       "                         Results: Logit\n",
       "=================================================================\n",
       "Model:              Logit            Pseudo R-squared: 0.644     \n",
       "Dependent Variable: Chance of Admit  AIC:              166.4843  \n",
       "Date:               2021-10-14 12:10 BIC:              185.3259  \n",
       "No. Observations:   320              Log-Likelihood:   -78.242   \n",
       "Df Model:           4                LL-Null:          -219.78   \n",
       "Df Residuals:       315              LLR p-value:      4.8502e-60\n",
       "Converged:          1.0000           Scale:            1.0000    \n",
       "No. Iterations:     8.0000                                       \n",
       "-----------------------------------------------------------------\n",
       "                   Coef.  Std.Err.    z    P>|z|   [0.025  0.975]\n",
       "-----------------------------------------------------------------\n",
       "const             -0.4097   0.2082 -1.9676 0.0491 -0.8178 -0.0016\n",
       "GRE Score          0.9266   0.3801  2.4381 0.0148  0.1817  1.6715\n",
       "University Rating  0.7219   0.3473  2.0784 0.0377  0.0411  1.4027\n",
       "LOR                0.5593   0.2663  2.1003 0.0357  0.0374  1.0812\n",
       "CGPA               2.6964   0.5203  5.1825 0.0000  1.6767  3.7162\n",
       "=================================================================\n",
       "\n",
       "\"\"\""
      ]
     },
     "execution_count": 31,
     "metadata": {},
     "output_type": "execute_result"
    }
   ],
   "source": [
    "model_stat.summary2()"
   ]
  },
  {
   "cell_type": "code",
   "execution_count": null,
   "id": "0efbea14",
   "metadata": {},
   "outputs": [],
   "source": [
    "print('''\n",
    "One unit increase in GRE Score, will increase the logit by 0.966 times, by keeping all the other inputs constant''')"
   ]
  },
  {
   "cell_type": "code",
   "execution_count": 32,
   "id": "111a7742",
   "metadata": {},
   "outputs": [
    {
     "data": {
      "text/plain": [
       "const               -0.409713\n",
       "GRE Score            0.926597\n",
       "University Rating    0.721899\n",
       "LOR                  0.559261\n",
       "CGPA                 2.696416\n",
       "dtype: float64"
      ]
     },
     "execution_count": 32,
     "metadata": {},
     "output_type": "execute_result"
    }
   ],
   "source": [
    "model_stat.params"
   ]
  },
  {
   "cell_type": "code",
   "execution_count": 33,
   "id": "52586b94",
   "metadata": {},
   "outputs": [
    {
     "data": {
      "text/plain": [
       "const                 0.663841\n",
       "GRE Score             2.525898\n",
       "University Rating     2.058337\n",
       "LOR                   1.749379\n",
       "CGPA                 14.826494\n",
       "dtype: float64"
      ]
     },
     "execution_count": 33,
     "metadata": {},
     "output_type": "execute_result"
    }
   ],
   "source": [
    "np.exp(model_stat.params)"
   ]
  },
  {
   "cell_type": "code",
   "execution_count": 37,
   "id": "a45a81e9",
   "metadata": {},
   "outputs": [
    {
     "name": "stdout",
     "output_type": "stream",
     "text": [
      "\n",
      "One unit increase in GRE Score, will increase the odd of getting admission by 2.526 times, by keeping all the other inputs constant\n",
      "One unit increase in CGPA Score, will increase the odd of getting admission by 14.826 times, by keeping all the other inputs constant\n"
     ]
    }
   ],
   "source": [
    "print('''\n",
    "One unit increase in GRE Score, will increase the odd of getting admission by 2.526 times, by keeping all the other inputs constant\n",
    "One unit increase in CGPA Score, will increase the odd of getting admission by 14.826 times, by keeping all the other inputs constant''')"
   ]
  },
  {
   "cell_type": "code",
   "execution_count": 36,
   "id": "2141d9f3",
   "metadata": {},
   "outputs": [
    {
     "data": {
      "text/plain": [
       "GRE Score            1.476580e-02\n",
       "University Rating    3.767710e-02\n",
       "LOR                  3.570475e-02\n",
       "CGPA                 2.188791e-07\n",
       "dtype: float64"
      ]
     },
     "execution_count": 36,
     "metadata": {},
     "output_type": "execute_result"
    }
   ],
   "source": [
    "model_stat.pvalues[1:]"
   ]
  },
  {
   "cell_type": "markdown",
   "id": "b18a9b09",
   "metadata": {},
   "source": [
    "### Building the model using sklearn"
   ]
  },
  {
   "cell_type": "code",
   "execution_count": 38,
   "id": "986b35cc",
   "metadata": {},
   "outputs": [],
   "source": [
    "from sklearn.linear_model import LogisticRegression"
   ]
  },
  {
   "cell_type": "code",
   "execution_count": 39,
   "id": "fbe6ce93",
   "metadata": {},
   "outputs": [
    {
     "data": {
      "text/plain": [
       "LogisticRegression()"
      ]
     },
     "execution_count": 39,
     "metadata": {},
     "output_type": "execute_result"
    }
   ],
   "source": [
    "model_logistic = LogisticRegression()\n",
    "model_logistic.fit(X_train, y_train)"
   ]
  },
  {
   "cell_type": "code",
   "execution_count": 40,
   "id": "31e05a2b",
   "metadata": {},
   "outputs": [],
   "source": [
    "y_pred = model_logistic.predict(X_test)"
   ]
  },
  {
   "cell_type": "code",
   "execution_count": 41,
   "id": "0c000e68",
   "metadata": {},
   "outputs": [
    {
     "data": {
      "text/plain": [
       "array([0, 1, 0, 0, 0, 0, 1, 1, 1, 0, 1, 1, 0, 0, 1, 1, 0, 1, 1, 1, 1, 1,\n",
       "       1, 0, 0, 0, 0, 1, 0, 0, 1, 0, 1, 1, 0, 1, 0, 0, 1, 1, 1, 1, 1, 0,\n",
       "       0, 1, 0, 0, 0, 1, 1, 0, 1, 1, 0, 0, 0, 0, 0, 0, 0, 1, 1, 1, 0, 1,\n",
       "       1, 0, 1, 1, 1, 1, 1, 0, 0, 0, 1, 0, 1, 0], dtype=int64)"
      ]
     },
     "execution_count": 41,
     "metadata": {},
     "output_type": "execute_result"
    }
   ],
   "source": [
    "y_pred"
   ]
  },
  {
   "cell_type": "code",
   "execution_count": 42,
   "id": "17ec8b9a",
   "metadata": {},
   "outputs": [
    {
     "data": {
      "text/plain": [
       "array([[9.33980319e-01, 6.60196807e-02],\n",
       "       [2.05016563e-01, 7.94983437e-01],\n",
       "       [9.78363353e-01, 2.16366472e-02],\n",
       "       [9.98745909e-01, 1.25409079e-03],\n",
       "       [9.97096908e-01, 2.90309160e-03],\n",
       "       [9.50318740e-01, 4.96812601e-02],\n",
       "       [1.21617181e-03, 9.98783828e-01],\n",
       "       [3.55456813e-03, 9.96445432e-01],\n",
       "       [5.83694729e-03, 9.94163053e-01],\n",
       "       [7.59486785e-01, 2.40513215e-01],\n",
       "       [1.19920537e-01, 8.80079463e-01],\n",
       "       [2.61414895e-02, 9.73858511e-01],\n",
       "       [6.01569344e-01, 3.98430656e-01],\n",
       "       [9.94889613e-01, 5.11038674e-03],\n",
       "       [1.00051667e-03, 9.98999483e-01],\n",
       "       [3.17371297e-03, 9.96826287e-01],\n",
       "       [9.99212509e-01, 7.87490536e-04],\n",
       "       [1.55103420e-01, 8.44896580e-01],\n",
       "       [2.92324577e-02, 9.70767542e-01],\n",
       "       [1.51821371e-01, 8.48178629e-01],\n",
       "       [1.32907447e-03, 9.98670926e-01],\n",
       "       [2.19673632e-01, 7.80326368e-01],\n",
       "       [1.84933052e-01, 8.15066948e-01],\n",
       "       [5.18152616e-01, 4.81847384e-01],\n",
       "       [6.17191463e-01, 3.82808537e-01],\n",
       "       [6.92733840e-01, 3.07266160e-01],\n",
       "       [9.81592391e-01, 1.84076094e-02],\n",
       "       [1.62717613e-03, 9.98372824e-01],\n",
       "       [9.76376839e-01, 2.36231613e-02],\n",
       "       [5.50594836e-01, 4.49405164e-01],\n",
       "       [8.43154626e-02, 9.15684537e-01],\n",
       "       [7.44202535e-01, 2.55797465e-01],\n",
       "       [3.90224746e-01, 6.09775254e-01],\n",
       "       [1.59584663e-01, 8.40415337e-01],\n",
       "       [9.76280976e-01, 2.37190241e-02],\n",
       "       [1.98020405e-02, 9.80197959e-01],\n",
       "       [9.99491352e-01, 5.08648295e-04],\n",
       "       [9.78558235e-01, 2.14417647e-02],\n",
       "       [2.98599128e-01, 7.01400872e-01],\n",
       "       [1.16944078e-01, 8.83055922e-01],\n",
       "       [3.19284599e-03, 9.96807154e-01],\n",
       "       [4.38366780e-02, 9.56163322e-01],\n",
       "       [1.99084990e-01, 8.00915010e-01],\n",
       "       [9.99040722e-01, 9.59278487e-04],\n",
       "       [9.03213401e-01, 9.67865992e-02],\n",
       "       [3.78367388e-01, 6.21632612e-01],\n",
       "       [7.93753035e-01, 2.06246965e-01],\n",
       "       [8.29393139e-01, 1.70606861e-01],\n",
       "       [9.96372983e-01, 3.62701670e-03],\n",
       "       [2.45593626e-02, 9.75440637e-01],\n",
       "       [4.76227737e-02, 9.52377226e-01],\n",
       "       [8.65525092e-01, 1.34474908e-01],\n",
       "       [3.17937528e-03, 9.96820625e-01],\n",
       "       [6.73712277e-03, 9.93262877e-01],\n",
       "       [9.99798964e-01, 2.01036006e-04],\n",
       "       [9.73257976e-01, 2.67420244e-02],\n",
       "       [5.25479260e-01, 4.74520740e-01],\n",
       "       [8.96472490e-01, 1.03527510e-01],\n",
       "       [9.12273233e-01, 8.77267675e-02],\n",
       "       [8.47099978e-01, 1.52900022e-01],\n",
       "       [9.56553456e-01, 4.34465441e-02],\n",
       "       [4.69722560e-02, 9.53027744e-01],\n",
       "       [3.36405135e-01, 6.63594865e-01],\n",
       "       [1.49653794e-01, 8.50346206e-01],\n",
       "       [9.06527516e-01, 9.34724843e-02],\n",
       "       [1.73768966e-02, 9.82623103e-01],\n",
       "       [5.15009997e-02, 9.48499000e-01],\n",
       "       [8.55881102e-01, 1.44118898e-01],\n",
       "       [4.22587650e-03, 9.95774124e-01],\n",
       "       [4.64017886e-01, 5.35982114e-01],\n",
       "       [1.79052486e-03, 9.98209475e-01],\n",
       "       [2.62892140e-02, 9.73710786e-01],\n",
       "       [1.29936250e-01, 8.70063750e-01],\n",
       "       [9.76400025e-01, 2.35999750e-02],\n",
       "       [6.26563818e-01, 3.73436182e-01],\n",
       "       [9.55474640e-01, 4.45253597e-02],\n",
       "       [3.55282175e-03, 9.96447178e-01],\n",
       "       [8.67876702e-01, 1.32123298e-01],\n",
       "       [4.33726173e-01, 5.66273827e-01],\n",
       "       [9.99178231e-01, 8.21769073e-04]])"
      ]
     },
     "execution_count": 42,
     "metadata": {},
     "output_type": "execute_result"
    }
   ],
   "source": [
    "# IF we want to understand the Probability values foreach of the prediction\n",
    "model_logistic.predict_proba(X_test)"
   ]
  },
  {
   "cell_type": "code",
   "execution_count": 43,
   "id": "876eb5ec",
   "metadata": {},
   "outputs": [
    {
     "data": {
      "text/plain": [
       "array([[0.934, 0.066],\n",
       "       [0.205, 0.795],\n",
       "       [0.978, 0.022],\n",
       "       [0.999, 0.001],\n",
       "       [0.997, 0.003],\n",
       "       [0.95 , 0.05 ],\n",
       "       [0.001, 0.999],\n",
       "       [0.004, 0.996],\n",
       "       [0.006, 0.994],\n",
       "       [0.759, 0.241],\n",
       "       [0.12 , 0.88 ],\n",
       "       [0.026, 0.974],\n",
       "       [0.602, 0.398],\n",
       "       [0.995, 0.005],\n",
       "       [0.001, 0.999],\n",
       "       [0.003, 0.997],\n",
       "       [0.999, 0.001],\n",
       "       [0.155, 0.845],\n",
       "       [0.029, 0.971],\n",
       "       [0.152, 0.848],\n",
       "       [0.001, 0.999],\n",
       "       [0.22 , 0.78 ],\n",
       "       [0.185, 0.815],\n",
       "       [0.518, 0.482],\n",
       "       [0.617, 0.383],\n",
       "       [0.693, 0.307],\n",
       "       [0.982, 0.018],\n",
       "       [0.002, 0.998],\n",
       "       [0.976, 0.024],\n",
       "       [0.551, 0.449],\n",
       "       [0.084, 0.916],\n",
       "       [0.744, 0.256],\n",
       "       [0.39 , 0.61 ],\n",
       "       [0.16 , 0.84 ],\n",
       "       [0.976, 0.024],\n",
       "       [0.02 , 0.98 ],\n",
       "       [0.999, 0.001],\n",
       "       [0.979, 0.021],\n",
       "       [0.299, 0.701],\n",
       "       [0.117, 0.883],\n",
       "       [0.003, 0.997],\n",
       "       [0.044, 0.956],\n",
       "       [0.199, 0.801],\n",
       "       [0.999, 0.001],\n",
       "       [0.903, 0.097],\n",
       "       [0.378, 0.622],\n",
       "       [0.794, 0.206],\n",
       "       [0.829, 0.171],\n",
       "       [0.996, 0.004],\n",
       "       [0.025, 0.975],\n",
       "       [0.048, 0.952],\n",
       "       [0.866, 0.134],\n",
       "       [0.003, 0.997],\n",
       "       [0.007, 0.993],\n",
       "       [1.   , 0.   ],\n",
       "       [0.973, 0.027],\n",
       "       [0.525, 0.475],\n",
       "       [0.896, 0.104],\n",
       "       [0.912, 0.088],\n",
       "       [0.847, 0.153],\n",
       "       [0.957, 0.043],\n",
       "       [0.047, 0.953],\n",
       "       [0.336, 0.664],\n",
       "       [0.15 , 0.85 ],\n",
       "       [0.907, 0.093],\n",
       "       [0.017, 0.983],\n",
       "       [0.052, 0.948],\n",
       "       [0.856, 0.144],\n",
       "       [0.004, 0.996],\n",
       "       [0.464, 0.536],\n",
       "       [0.002, 0.998],\n",
       "       [0.026, 0.974],\n",
       "       [0.13 , 0.87 ],\n",
       "       [0.976, 0.024],\n",
       "       [0.627, 0.373],\n",
       "       [0.955, 0.045],\n",
       "       [0.004, 0.996],\n",
       "       [0.868, 0.132],\n",
       "       [0.434, 0.566],\n",
       "       [0.999, 0.001]])"
      ]
     },
     "execution_count": 43,
     "metadata": {},
     "output_type": "execute_result"
    }
   ],
   "source": [
    "np.round(model_logistic.predict_proba(X_test), 3)"
   ]
  },
  {
   "cell_type": "code",
   "execution_count": null,
   "id": "ce24e0b5",
   "metadata": {},
   "outputs": [],
   "source": [
    "print('''\n",
    "The predict Proba is giving an array of two values for each element.\n",
    "[0.934, 0.066], [0.205, 0.795], ...\n",
    "[Probability for 0 class, Probability for 1 class]\n",
    "If Probability for 0 class > Probability for 1 class (based on threshold), then the output will be 0 in Predict()\n",
    "''')"
   ]
  },
  {
   "cell_type": "code",
   "execution_count": null,
   "id": "2131730d",
   "metadata": {},
   "outputs": [],
   "source": []
  },
  {
   "cell_type": "code",
   "execution_count": null,
   "id": "f7ba0b2c",
   "metadata": {},
   "outputs": [],
   "source": []
  }
 ],
 "metadata": {
  "kernelspec": {
   "display_name": "Python 3",
   "language": "python",
   "name": "python3"
  },
  "language_info": {
   "codemirror_mode": {
    "name": "ipython",
    "version": 3
   },
   "file_extension": ".py",
   "mimetype": "text/x-python",
   "name": "python",
   "nbconvert_exporter": "python",
   "pygments_lexer": "ipython3",
   "version": "3.9.4"
  }
 },
 "nbformat": 4,
 "nbformat_minor": 5
}
