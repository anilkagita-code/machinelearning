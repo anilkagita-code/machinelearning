{
 "cells": [
  {
   "cell_type": "code",
   "execution_count": 137,
   "id": "b971c189",
   "metadata": {},
   "outputs": [],
   "source": [
    "import pandas as pd\n",
    "import numpy as np\n",
    "import matplotlib.pyplot as plt\n",
    "import seaborn as sns\n",
    "from sklearn.preprocessing import StandardScaler\n",
    "from sklearn.decomposition import PCA \n",
    "from sklearn.cluster import KMeans\n",
    "from sklearn.metrics import silhouette_score\n",
    "from scipy.cluster.hierarchy import linkage , dendrogram, fcluster,cophenet\n",
    "from sklearn.model_selection import train_test_split\n",
    "from sklearn.ensemble import RandomForestClassifier\n",
    "from sklearn.metrics import classification_report\n",
    "from sklearn.decomposition import TruncatedSVD\n",
    "from sklearn.discriminant_analysis import LinearDiscriminantAnalysis\n",
    "from surprise import KNNWithMeans,SVDpp\n",
    "from surprise import Dataset\n",
    "from surprise import accuracy\n",
    "from surprise import Reader\n",
    "from surprise.model_selection import train_test_split as tts\n",
    "from surprise.model_selection import cross_validate"
   ]
  },
  {
   "cell_type": "code",
   "execution_count": 2,
   "id": "91e80d24",
   "metadata": {},
   "outputs": [
    {
     "data": {
      "text/html": [
       "<div>\n",
       "<style scoped>\n",
       "    .dataframe tbody tr th:only-of-type {\n",
       "        vertical-align: middle;\n",
       "    }\n",
       "\n",
       "    .dataframe tbody tr th {\n",
       "        vertical-align: top;\n",
       "    }\n",
       "\n",
       "    .dataframe thead th {\n",
       "        text-align: right;\n",
       "    }\n",
       "</style>\n",
       "<table border=\"1\" class=\"dataframe\">\n",
       "  <thead>\n",
       "    <tr style=\"text-align: right;\">\n",
       "      <th></th>\n",
       "      <th>rn</th>\n",
       "      <th>activity</th>\n",
       "      <th>tBodyAcc.mean.X</th>\n",
       "      <th>tBodyAcc.mean.Y</th>\n",
       "      <th>tBodyAcc.mean.Z</th>\n",
       "      <th>tBodyAcc.std.X</th>\n",
       "      <th>tBodyAcc.std.Y</th>\n",
       "      <th>tBodyAcc.std.Z</th>\n",
       "      <th>tBodyAcc.mad.X</th>\n",
       "      <th>tBodyAcc.mad.Y</th>\n",
       "      <th>...</th>\n",
       "      <th>fBodyBodyGyroJerkMag.meanFreq</th>\n",
       "      <th>fBodyBodyGyroJerkMag.skewness</th>\n",
       "      <th>fBodyBodyGyroJerkMag.kurtosis</th>\n",
       "      <th>angle.tBodyAccMean.gravity</th>\n",
       "      <th>angle.tBodyAccJerkMean.gravityMean</th>\n",
       "      <th>angle.tBodyGyroMean.gravityMean</th>\n",
       "      <th>angle.tBodyGyroJerkMean.gravityMean</th>\n",
       "      <th>angle.X.gravityMean</th>\n",
       "      <th>angle.Y.gravityMean</th>\n",
       "      <th>angle.Z.gravityMean</th>\n",
       "    </tr>\n",
       "  </thead>\n",
       "  <tbody>\n",
       "    <tr>\n",
       "      <th>0</th>\n",
       "      <td>7</td>\n",
       "      <td>STANDING</td>\n",
       "      <td>0.279</td>\n",
       "      <td>-0.0196</td>\n",
       "      <td>-0.110</td>\n",
       "      <td>-0.997</td>\n",
       "      <td>-0.967</td>\n",
       "      <td>-0.983</td>\n",
       "      <td>-0.997</td>\n",
       "      <td>-0.966</td>\n",
       "      <td>...</td>\n",
       "      <td>0.146</td>\n",
       "      <td>-0.217</td>\n",
       "      <td>-0.5640</td>\n",
       "      <td>-0.2130</td>\n",
       "      <td>-0.231</td>\n",
       "      <td>0.0146</td>\n",
       "      <td>-0.190</td>\n",
       "      <td>-0.852</td>\n",
       "      <td>0.182</td>\n",
       "      <td>-0.0430</td>\n",
       "    </tr>\n",
       "    <tr>\n",
       "      <th>1</th>\n",
       "      <td>11</td>\n",
       "      <td>STANDING</td>\n",
       "      <td>0.277</td>\n",
       "      <td>-0.0127</td>\n",
       "      <td>-0.103</td>\n",
       "      <td>-0.995</td>\n",
       "      <td>-0.973</td>\n",
       "      <td>-0.985</td>\n",
       "      <td>-0.996</td>\n",
       "      <td>-0.974</td>\n",
       "      <td>...</td>\n",
       "      <td>0.121</td>\n",
       "      <td>0.349</td>\n",
       "      <td>0.0577</td>\n",
       "      <td>0.0807</td>\n",
       "      <td>0.596</td>\n",
       "      <td>-0.4760</td>\n",
       "      <td>0.116</td>\n",
       "      <td>-0.852</td>\n",
       "      <td>0.188</td>\n",
       "      <td>-0.0347</td>\n",
       "    </tr>\n",
       "  </tbody>\n",
       "</table>\n",
       "<p>2 rows × 563 columns</p>\n",
       "</div>"
      ],
      "text/plain": [
       "   rn  activity  tBodyAcc.mean.X  tBodyAcc.mean.Y  tBodyAcc.mean.Z  \\\n",
       "0   7  STANDING            0.279          -0.0196           -0.110   \n",
       "1  11  STANDING            0.277          -0.0127           -0.103   \n",
       "\n",
       "   tBodyAcc.std.X  tBodyAcc.std.Y  tBodyAcc.std.Z  tBodyAcc.mad.X  \\\n",
       "0          -0.997          -0.967          -0.983          -0.997   \n",
       "1          -0.995          -0.973          -0.985          -0.996   \n",
       "\n",
       "   tBodyAcc.mad.Y  ...  fBodyBodyGyroJerkMag.meanFreq  \\\n",
       "0          -0.966  ...                          0.146   \n",
       "1          -0.974  ...                          0.121   \n",
       "\n",
       "   fBodyBodyGyroJerkMag.skewness  fBodyBodyGyroJerkMag.kurtosis  \\\n",
       "0                         -0.217                        -0.5640   \n",
       "1                          0.349                         0.0577   \n",
       "\n",
       "   angle.tBodyAccMean.gravity  angle.tBodyAccJerkMean.gravityMean  \\\n",
       "0                     -0.2130                              -0.231   \n",
       "1                      0.0807                               0.596   \n",
       "\n",
       "   angle.tBodyGyroMean.gravityMean  angle.tBodyGyroJerkMean.gravityMean  \\\n",
       "0                           0.0146                               -0.190   \n",
       "1                          -0.4760                                0.116   \n",
       "\n",
       "   angle.X.gravityMean  angle.Y.gravityMean  angle.Z.gravityMean  \n",
       "0               -0.852                0.182              -0.0430  \n",
       "1               -0.852                0.188              -0.0347  \n",
       "\n",
       "[2 rows x 563 columns]"
      ]
     },
     "execution_count": 2,
     "metadata": {},
     "output_type": "execute_result"
    }
   ],
   "source": [
    "df_activity = pd.read_csv('data/activity_data.csv')\n",
    "df_activity.head(2)"
   ]
  },
  {
   "cell_type": "markdown",
   "id": "8cb5ff84",
   "metadata": {},
   "source": [
    "# Understanding data"
   ]
  },
  {
   "cell_type": "code",
   "execution_count": 3,
   "id": "efa7235c",
   "metadata": {},
   "outputs": [
    {
     "data": {
      "text/plain": [
       "(3609, (3609, 563))"
      ]
     },
     "execution_count": 3,
     "metadata": {},
     "output_type": "execute_result"
    }
   ],
   "source": [
    "df_activity['rn'].nunique(), df_activity.shape"
   ]
  },
  {
   "cell_type": "code",
   "execution_count": 4,
   "id": "879691fd",
   "metadata": {},
   "outputs": [
    {
     "name": "stdout",
     "output_type": "stream",
     "text": [
      "rn column doesn't contribute, so can be dropped\n"
     ]
    }
   ],
   "source": [
    "print(\"rn column doesn't contribute, so can be dropped\")"
   ]
  },
  {
   "cell_type": "code",
   "execution_count": 8,
   "id": "4140be18",
   "metadata": {},
   "outputs": [],
   "source": [
    "X = df_activity.drop(columns=['rn', 'activity'], axis=1)\n",
    "y = df_activity['activity']"
   ]
  },
  {
   "cell_type": "markdown",
   "id": "bdff012e",
   "metadata": {},
   "source": [
    "### Missing Values"
   ]
  },
  {
   "cell_type": "code",
   "execution_count": 29,
   "id": "b8f980c6",
   "metadata": {},
   "outputs": [
    {
     "data": {
      "text/plain": [
       "0"
      ]
     },
     "execution_count": 29,
     "metadata": {},
     "output_type": "execute_result"
    }
   ],
   "source": [
    "X.isnull().sum().sum()"
   ]
  },
  {
   "cell_type": "code",
   "execution_count": 11,
   "id": "056e7b05",
   "metadata": {},
   "outputs": [
    {
     "name": "stdout",
     "output_type": "stream",
     "text": [
      "There are no missing values\n"
     ]
    }
   ],
   "source": [
    "print('There are no missing values')"
   ]
  },
  {
   "cell_type": "markdown",
   "id": "7aeed22b",
   "metadata": {},
   "source": [
    "### Correlation of Data"
   ]
  },
  {
   "cell_type": "code",
   "execution_count": 12,
   "id": "e86015eb",
   "metadata": {},
   "outputs": [],
   "source": [
    "X_corr = X.corr()"
   ]
  },
  {
   "cell_type": "code",
   "execution_count": 13,
   "id": "d4ae520e",
   "metadata": {},
   "outputs": [
    {
     "data": {
      "text/html": [
       "<div>\n",
       "<style scoped>\n",
       "    .dataframe tbody tr th:only-of-type {\n",
       "        vertical-align: middle;\n",
       "    }\n",
       "\n",
       "    .dataframe tbody tr th {\n",
       "        vertical-align: top;\n",
       "    }\n",
       "\n",
       "    .dataframe thead th {\n",
       "        text-align: right;\n",
       "    }\n",
       "</style>\n",
       "<table border=\"1\" class=\"dataframe\">\n",
       "  <thead>\n",
       "    <tr style=\"text-align: right;\">\n",
       "      <th></th>\n",
       "      <th>tBodyAcc.mean.X</th>\n",
       "      <th>tBodyAcc.mean.Y</th>\n",
       "      <th>tBodyAcc.mean.Z</th>\n",
       "      <th>tBodyAcc.std.X</th>\n",
       "      <th>tBodyAcc.std.Y</th>\n",
       "      <th>tBodyAcc.std.Z</th>\n",
       "      <th>tBodyAcc.mad.X</th>\n",
       "      <th>tBodyAcc.mad.Y</th>\n",
       "      <th>tBodyAcc.mad.Z</th>\n",
       "      <th>tBodyAcc.max.X</th>\n",
       "      <th>...</th>\n",
       "      <th>fBodyBodyGyroJerkMag.meanFreq</th>\n",
       "      <th>fBodyBodyGyroJerkMag.skewness</th>\n",
       "      <th>fBodyBodyGyroJerkMag.kurtosis</th>\n",
       "      <th>angle.tBodyAccMean.gravity</th>\n",
       "      <th>angle.tBodyAccJerkMean.gravityMean</th>\n",
       "      <th>angle.tBodyGyroMean.gravityMean</th>\n",
       "      <th>angle.tBodyGyroJerkMean.gravityMean</th>\n",
       "      <th>angle.X.gravityMean</th>\n",
       "      <th>angle.Y.gravityMean</th>\n",
       "      <th>angle.Z.gravityMean</th>\n",
       "    </tr>\n",
       "  </thead>\n",
       "  <tbody>\n",
       "    <tr>\n",
       "      <th>tBodyAcc.mean.X</th>\n",
       "      <td>1.0</td>\n",
       "      <td>NaN</td>\n",
       "      <td>NaN</td>\n",
       "      <td>NaN</td>\n",
       "      <td>NaN</td>\n",
       "      <td>NaN</td>\n",
       "      <td>NaN</td>\n",
       "      <td>NaN</td>\n",
       "      <td>NaN</td>\n",
       "      <td>NaN</td>\n",
       "      <td>...</td>\n",
       "      <td>NaN</td>\n",
       "      <td>NaN</td>\n",
       "      <td>NaN</td>\n",
       "      <td>NaN</td>\n",
       "      <td>NaN</td>\n",
       "      <td>NaN</td>\n",
       "      <td>NaN</td>\n",
       "      <td>NaN</td>\n",
       "      <td>NaN</td>\n",
       "      <td>NaN</td>\n",
       "    </tr>\n",
       "    <tr>\n",
       "      <th>tBodyAcc.mean.Y</th>\n",
       "      <td>NaN</td>\n",
       "      <td>1.0</td>\n",
       "      <td>NaN</td>\n",
       "      <td>NaN</td>\n",
       "      <td>NaN</td>\n",
       "      <td>NaN</td>\n",
       "      <td>NaN</td>\n",
       "      <td>NaN</td>\n",
       "      <td>NaN</td>\n",
       "      <td>NaN</td>\n",
       "      <td>...</td>\n",
       "      <td>NaN</td>\n",
       "      <td>NaN</td>\n",
       "      <td>NaN</td>\n",
       "      <td>NaN</td>\n",
       "      <td>NaN</td>\n",
       "      <td>NaN</td>\n",
       "      <td>NaN</td>\n",
       "      <td>NaN</td>\n",
       "      <td>NaN</td>\n",
       "      <td>NaN</td>\n",
       "    </tr>\n",
       "    <tr>\n",
       "      <th>tBodyAcc.mean.Z</th>\n",
       "      <td>NaN</td>\n",
       "      <td>NaN</td>\n",
       "      <td>1.0</td>\n",
       "      <td>NaN</td>\n",
       "      <td>NaN</td>\n",
       "      <td>NaN</td>\n",
       "      <td>NaN</td>\n",
       "      <td>NaN</td>\n",
       "      <td>NaN</td>\n",
       "      <td>NaN</td>\n",
       "      <td>...</td>\n",
       "      <td>NaN</td>\n",
       "      <td>NaN</td>\n",
       "      <td>NaN</td>\n",
       "      <td>NaN</td>\n",
       "      <td>NaN</td>\n",
       "      <td>NaN</td>\n",
       "      <td>NaN</td>\n",
       "      <td>NaN</td>\n",
       "      <td>NaN</td>\n",
       "      <td>NaN</td>\n",
       "    </tr>\n",
       "    <tr>\n",
       "      <th>tBodyAcc.std.X</th>\n",
       "      <td>NaN</td>\n",
       "      <td>NaN</td>\n",
       "      <td>NaN</td>\n",
       "      <td>1.000000</td>\n",
       "      <td>0.924174</td>\n",
       "      <td>0.867681</td>\n",
       "      <td>0.998675</td>\n",
       "      <td>0.917302</td>\n",
       "      <td>0.862121</td>\n",
       "      <td>0.982371</td>\n",
       "      <td>...</td>\n",
       "      <td>NaN</td>\n",
       "      <td>NaN</td>\n",
       "      <td>NaN</td>\n",
       "      <td>NaN</td>\n",
       "      <td>NaN</td>\n",
       "      <td>NaN</td>\n",
       "      <td>NaN</td>\n",
       "      <td>NaN</td>\n",
       "      <td>NaN</td>\n",
       "      <td>NaN</td>\n",
       "    </tr>\n",
       "    <tr>\n",
       "      <th>tBodyAcc.std.Y</th>\n",
       "      <td>NaN</td>\n",
       "      <td>NaN</td>\n",
       "      <td>NaN</td>\n",
       "      <td>0.924174</td>\n",
       "      <td>1.000000</td>\n",
       "      <td>0.888758</td>\n",
       "      <td>0.920741</td>\n",
       "      <td>0.997630</td>\n",
       "      <td>0.887587</td>\n",
       "      <td>0.912148</td>\n",
       "      <td>...</td>\n",
       "      <td>NaN</td>\n",
       "      <td>NaN</td>\n",
       "      <td>NaN</td>\n",
       "      <td>NaN</td>\n",
       "      <td>NaN</td>\n",
       "      <td>NaN</td>\n",
       "      <td>NaN</td>\n",
       "      <td>NaN</td>\n",
       "      <td>NaN</td>\n",
       "      <td>NaN</td>\n",
       "    </tr>\n",
       "    <tr>\n",
       "      <th>...</th>\n",
       "      <td>...</td>\n",
       "      <td>...</td>\n",
       "      <td>...</td>\n",
       "      <td>...</td>\n",
       "      <td>...</td>\n",
       "      <td>...</td>\n",
       "      <td>...</td>\n",
       "      <td>...</td>\n",
       "      <td>...</td>\n",
       "      <td>...</td>\n",
       "      <td>...</td>\n",
       "      <td>...</td>\n",
       "      <td>...</td>\n",
       "      <td>...</td>\n",
       "      <td>...</td>\n",
       "      <td>...</td>\n",
       "      <td>...</td>\n",
       "      <td>...</td>\n",
       "      <td>...</td>\n",
       "      <td>...</td>\n",
       "      <td>...</td>\n",
       "    </tr>\n",
       "    <tr>\n",
       "      <th>angle.tBodyGyroMean.gravityMean</th>\n",
       "      <td>NaN</td>\n",
       "      <td>NaN</td>\n",
       "      <td>NaN</td>\n",
       "      <td>NaN</td>\n",
       "      <td>NaN</td>\n",
       "      <td>NaN</td>\n",
       "      <td>NaN</td>\n",
       "      <td>NaN</td>\n",
       "      <td>NaN</td>\n",
       "      <td>NaN</td>\n",
       "      <td>...</td>\n",
       "      <td>NaN</td>\n",
       "      <td>NaN</td>\n",
       "      <td>NaN</td>\n",
       "      <td>NaN</td>\n",
       "      <td>NaN</td>\n",
       "      <td>1.0</td>\n",
       "      <td>NaN</td>\n",
       "      <td>NaN</td>\n",
       "      <td>NaN</td>\n",
       "      <td>NaN</td>\n",
       "    </tr>\n",
       "    <tr>\n",
       "      <th>angle.tBodyGyroJerkMean.gravityMean</th>\n",
       "      <td>NaN</td>\n",
       "      <td>NaN</td>\n",
       "      <td>NaN</td>\n",
       "      <td>NaN</td>\n",
       "      <td>NaN</td>\n",
       "      <td>NaN</td>\n",
       "      <td>NaN</td>\n",
       "      <td>NaN</td>\n",
       "      <td>NaN</td>\n",
       "      <td>NaN</td>\n",
       "      <td>...</td>\n",
       "      <td>NaN</td>\n",
       "      <td>NaN</td>\n",
       "      <td>NaN</td>\n",
       "      <td>NaN</td>\n",
       "      <td>NaN</td>\n",
       "      <td>NaN</td>\n",
       "      <td>1.0</td>\n",
       "      <td>NaN</td>\n",
       "      <td>NaN</td>\n",
       "      <td>NaN</td>\n",
       "    </tr>\n",
       "    <tr>\n",
       "      <th>angle.X.gravityMean</th>\n",
       "      <td>NaN</td>\n",
       "      <td>NaN</td>\n",
       "      <td>NaN</td>\n",
       "      <td>NaN</td>\n",
       "      <td>NaN</td>\n",
       "      <td>NaN</td>\n",
       "      <td>NaN</td>\n",
       "      <td>NaN</td>\n",
       "      <td>NaN</td>\n",
       "      <td>NaN</td>\n",
       "      <td>...</td>\n",
       "      <td>NaN</td>\n",
       "      <td>NaN</td>\n",
       "      <td>NaN</td>\n",
       "      <td>NaN</td>\n",
       "      <td>NaN</td>\n",
       "      <td>NaN</td>\n",
       "      <td>NaN</td>\n",
       "      <td>1.0</td>\n",
       "      <td>NaN</td>\n",
       "      <td>NaN</td>\n",
       "    </tr>\n",
       "    <tr>\n",
       "      <th>angle.Y.gravityMean</th>\n",
       "      <td>NaN</td>\n",
       "      <td>NaN</td>\n",
       "      <td>NaN</td>\n",
       "      <td>NaN</td>\n",
       "      <td>NaN</td>\n",
       "      <td>NaN</td>\n",
       "      <td>NaN</td>\n",
       "      <td>NaN</td>\n",
       "      <td>NaN</td>\n",
       "      <td>NaN</td>\n",
       "      <td>...</td>\n",
       "      <td>NaN</td>\n",
       "      <td>NaN</td>\n",
       "      <td>NaN</td>\n",
       "      <td>NaN</td>\n",
       "      <td>NaN</td>\n",
       "      <td>NaN</td>\n",
       "      <td>NaN</td>\n",
       "      <td>NaN</td>\n",
       "      <td>1.0</td>\n",
       "      <td>NaN</td>\n",
       "    </tr>\n",
       "    <tr>\n",
       "      <th>angle.Z.gravityMean</th>\n",
       "      <td>NaN</td>\n",
       "      <td>NaN</td>\n",
       "      <td>NaN</td>\n",
       "      <td>NaN</td>\n",
       "      <td>NaN</td>\n",
       "      <td>NaN</td>\n",
       "      <td>NaN</td>\n",
       "      <td>NaN</td>\n",
       "      <td>NaN</td>\n",
       "      <td>NaN</td>\n",
       "      <td>...</td>\n",
       "      <td>NaN</td>\n",
       "      <td>NaN</td>\n",
       "      <td>NaN</td>\n",
       "      <td>NaN</td>\n",
       "      <td>NaN</td>\n",
       "      <td>NaN</td>\n",
       "      <td>NaN</td>\n",
       "      <td>NaN</td>\n",
       "      <td>NaN</td>\n",
       "      <td>1.0</td>\n",
       "    </tr>\n",
       "  </tbody>\n",
       "</table>\n",
       "<p>561 rows × 561 columns</p>\n",
       "</div>"
      ],
      "text/plain": [
       "                                     tBodyAcc.mean.X  tBodyAcc.mean.Y  \\\n",
       "tBodyAcc.mean.X                                  1.0              NaN   \n",
       "tBodyAcc.mean.Y                                  NaN              1.0   \n",
       "tBodyAcc.mean.Z                                  NaN              NaN   \n",
       "tBodyAcc.std.X                                   NaN              NaN   \n",
       "tBodyAcc.std.Y                                   NaN              NaN   \n",
       "...                                              ...              ...   \n",
       "angle.tBodyGyroMean.gravityMean                  NaN              NaN   \n",
       "angle.tBodyGyroJerkMean.gravityMean              NaN              NaN   \n",
       "angle.X.gravityMean                              NaN              NaN   \n",
       "angle.Y.gravityMean                              NaN              NaN   \n",
       "angle.Z.gravityMean                              NaN              NaN   \n",
       "\n",
       "                                     tBodyAcc.mean.Z  tBodyAcc.std.X  \\\n",
       "tBodyAcc.mean.X                                  NaN             NaN   \n",
       "tBodyAcc.mean.Y                                  NaN             NaN   \n",
       "tBodyAcc.mean.Z                                  1.0             NaN   \n",
       "tBodyAcc.std.X                                   NaN        1.000000   \n",
       "tBodyAcc.std.Y                                   NaN        0.924174   \n",
       "...                                              ...             ...   \n",
       "angle.tBodyGyroMean.gravityMean                  NaN             NaN   \n",
       "angle.tBodyGyroJerkMean.gravityMean              NaN             NaN   \n",
       "angle.X.gravityMean                              NaN             NaN   \n",
       "angle.Y.gravityMean                              NaN             NaN   \n",
       "angle.Z.gravityMean                              NaN             NaN   \n",
       "\n",
       "                                     tBodyAcc.std.Y  tBodyAcc.std.Z  \\\n",
       "tBodyAcc.mean.X                                 NaN             NaN   \n",
       "tBodyAcc.mean.Y                                 NaN             NaN   \n",
       "tBodyAcc.mean.Z                                 NaN             NaN   \n",
       "tBodyAcc.std.X                             0.924174        0.867681   \n",
       "tBodyAcc.std.Y                             1.000000        0.888758   \n",
       "...                                             ...             ...   \n",
       "angle.tBodyGyroMean.gravityMean                 NaN             NaN   \n",
       "angle.tBodyGyroJerkMean.gravityMean             NaN             NaN   \n",
       "angle.X.gravityMean                             NaN             NaN   \n",
       "angle.Y.gravityMean                             NaN             NaN   \n",
       "angle.Z.gravityMean                             NaN             NaN   \n",
       "\n",
       "                                     tBodyAcc.mad.X  tBodyAcc.mad.Y  \\\n",
       "tBodyAcc.mean.X                                 NaN             NaN   \n",
       "tBodyAcc.mean.Y                                 NaN             NaN   \n",
       "tBodyAcc.mean.Z                                 NaN             NaN   \n",
       "tBodyAcc.std.X                             0.998675        0.917302   \n",
       "tBodyAcc.std.Y                             0.920741        0.997630   \n",
       "...                                             ...             ...   \n",
       "angle.tBodyGyroMean.gravityMean                 NaN             NaN   \n",
       "angle.tBodyGyroJerkMean.gravityMean             NaN             NaN   \n",
       "angle.X.gravityMean                             NaN             NaN   \n",
       "angle.Y.gravityMean                             NaN             NaN   \n",
       "angle.Z.gravityMean                             NaN             NaN   \n",
       "\n",
       "                                     tBodyAcc.mad.Z  tBodyAcc.max.X  ...  \\\n",
       "tBodyAcc.mean.X                                 NaN             NaN  ...   \n",
       "tBodyAcc.mean.Y                                 NaN             NaN  ...   \n",
       "tBodyAcc.mean.Z                                 NaN             NaN  ...   \n",
       "tBodyAcc.std.X                             0.862121        0.982371  ...   \n",
       "tBodyAcc.std.Y                             0.887587        0.912148  ...   \n",
       "...                                             ...             ...  ...   \n",
       "angle.tBodyGyroMean.gravityMean                 NaN             NaN  ...   \n",
       "angle.tBodyGyroJerkMean.gravityMean             NaN             NaN  ...   \n",
       "angle.X.gravityMean                             NaN             NaN  ...   \n",
       "angle.Y.gravityMean                             NaN             NaN  ...   \n",
       "angle.Z.gravityMean                             NaN             NaN  ...   \n",
       "\n",
       "                                     fBodyBodyGyroJerkMag.meanFreq  \\\n",
       "tBodyAcc.mean.X                                                NaN   \n",
       "tBodyAcc.mean.Y                                                NaN   \n",
       "tBodyAcc.mean.Z                                                NaN   \n",
       "tBodyAcc.std.X                                                 NaN   \n",
       "tBodyAcc.std.Y                                                 NaN   \n",
       "...                                                            ...   \n",
       "angle.tBodyGyroMean.gravityMean                                NaN   \n",
       "angle.tBodyGyroJerkMean.gravityMean                            NaN   \n",
       "angle.X.gravityMean                                            NaN   \n",
       "angle.Y.gravityMean                                            NaN   \n",
       "angle.Z.gravityMean                                            NaN   \n",
       "\n",
       "                                     fBodyBodyGyroJerkMag.skewness  \\\n",
       "tBodyAcc.mean.X                                                NaN   \n",
       "tBodyAcc.mean.Y                                                NaN   \n",
       "tBodyAcc.mean.Z                                                NaN   \n",
       "tBodyAcc.std.X                                                 NaN   \n",
       "tBodyAcc.std.Y                                                 NaN   \n",
       "...                                                            ...   \n",
       "angle.tBodyGyroMean.gravityMean                                NaN   \n",
       "angle.tBodyGyroJerkMean.gravityMean                            NaN   \n",
       "angle.X.gravityMean                                            NaN   \n",
       "angle.Y.gravityMean                                            NaN   \n",
       "angle.Z.gravityMean                                            NaN   \n",
       "\n",
       "                                     fBodyBodyGyroJerkMag.kurtosis  \\\n",
       "tBodyAcc.mean.X                                                NaN   \n",
       "tBodyAcc.mean.Y                                                NaN   \n",
       "tBodyAcc.mean.Z                                                NaN   \n",
       "tBodyAcc.std.X                                                 NaN   \n",
       "tBodyAcc.std.Y                                                 NaN   \n",
       "...                                                            ...   \n",
       "angle.tBodyGyroMean.gravityMean                                NaN   \n",
       "angle.tBodyGyroJerkMean.gravityMean                            NaN   \n",
       "angle.X.gravityMean                                            NaN   \n",
       "angle.Y.gravityMean                                            NaN   \n",
       "angle.Z.gravityMean                                            NaN   \n",
       "\n",
       "                                     angle.tBodyAccMean.gravity  \\\n",
       "tBodyAcc.mean.X                                             NaN   \n",
       "tBodyAcc.mean.Y                                             NaN   \n",
       "tBodyAcc.mean.Z                                             NaN   \n",
       "tBodyAcc.std.X                                              NaN   \n",
       "tBodyAcc.std.Y                                              NaN   \n",
       "...                                                         ...   \n",
       "angle.tBodyGyroMean.gravityMean                             NaN   \n",
       "angle.tBodyGyroJerkMean.gravityMean                         NaN   \n",
       "angle.X.gravityMean                                         NaN   \n",
       "angle.Y.gravityMean                                         NaN   \n",
       "angle.Z.gravityMean                                         NaN   \n",
       "\n",
       "                                     angle.tBodyAccJerkMean.gravityMean  \\\n",
       "tBodyAcc.mean.X                                                     NaN   \n",
       "tBodyAcc.mean.Y                                                     NaN   \n",
       "tBodyAcc.mean.Z                                                     NaN   \n",
       "tBodyAcc.std.X                                                      NaN   \n",
       "tBodyAcc.std.Y                                                      NaN   \n",
       "...                                                                 ...   \n",
       "angle.tBodyGyroMean.gravityMean                                     NaN   \n",
       "angle.tBodyGyroJerkMean.gravityMean                                 NaN   \n",
       "angle.X.gravityMean                                                 NaN   \n",
       "angle.Y.gravityMean                                                 NaN   \n",
       "angle.Z.gravityMean                                                 NaN   \n",
       "\n",
       "                                     angle.tBodyGyroMean.gravityMean  \\\n",
       "tBodyAcc.mean.X                                                  NaN   \n",
       "tBodyAcc.mean.Y                                                  NaN   \n",
       "tBodyAcc.mean.Z                                                  NaN   \n",
       "tBodyAcc.std.X                                                   NaN   \n",
       "tBodyAcc.std.Y                                                   NaN   \n",
       "...                                                              ...   \n",
       "angle.tBodyGyroMean.gravityMean                                  1.0   \n",
       "angle.tBodyGyroJerkMean.gravityMean                              NaN   \n",
       "angle.X.gravityMean                                              NaN   \n",
       "angle.Y.gravityMean                                              NaN   \n",
       "angle.Z.gravityMean                                              NaN   \n",
       "\n",
       "                                     angle.tBodyGyroJerkMean.gravityMean  \\\n",
       "tBodyAcc.mean.X                                                      NaN   \n",
       "tBodyAcc.mean.Y                                                      NaN   \n",
       "tBodyAcc.mean.Z                                                      NaN   \n",
       "tBodyAcc.std.X                                                       NaN   \n",
       "tBodyAcc.std.Y                                                       NaN   \n",
       "...                                                                  ...   \n",
       "angle.tBodyGyroMean.gravityMean                                      NaN   \n",
       "angle.tBodyGyroJerkMean.gravityMean                                  1.0   \n",
       "angle.X.gravityMean                                                  NaN   \n",
       "angle.Y.gravityMean                                                  NaN   \n",
       "angle.Z.gravityMean                                                  NaN   \n",
       "\n",
       "                                     angle.X.gravityMean  angle.Y.gravityMean  \\\n",
       "tBodyAcc.mean.X                                      NaN                  NaN   \n",
       "tBodyAcc.mean.Y                                      NaN                  NaN   \n",
       "tBodyAcc.mean.Z                                      NaN                  NaN   \n",
       "tBodyAcc.std.X                                       NaN                  NaN   \n",
       "tBodyAcc.std.Y                                       NaN                  NaN   \n",
       "...                                                  ...                  ...   \n",
       "angle.tBodyGyroMean.gravityMean                      NaN                  NaN   \n",
       "angle.tBodyGyroJerkMean.gravityMean                  NaN                  NaN   \n",
       "angle.X.gravityMean                                  1.0                  NaN   \n",
       "angle.Y.gravityMean                                  NaN                  1.0   \n",
       "angle.Z.gravityMean                                  NaN                  NaN   \n",
       "\n",
       "                                     angle.Z.gravityMean  \n",
       "tBodyAcc.mean.X                                      NaN  \n",
       "tBodyAcc.mean.Y                                      NaN  \n",
       "tBodyAcc.mean.Z                                      NaN  \n",
       "tBodyAcc.std.X                                       NaN  \n",
       "tBodyAcc.std.Y                                       NaN  \n",
       "...                                                  ...  \n",
       "angle.tBodyGyroMean.gravityMean                      NaN  \n",
       "angle.tBodyGyroJerkMean.gravityMean                  NaN  \n",
       "angle.X.gravityMean                                  NaN  \n",
       "angle.Y.gravityMean                                  NaN  \n",
       "angle.Z.gravityMean                                  1.0  \n",
       "\n",
       "[561 rows x 561 columns]"
      ]
     },
     "execution_count": 13,
     "metadata": {},
     "output_type": "execute_result"
    }
   ],
   "source": [
    "# The number of pairs which have correlation more than 0.8\n",
    "X_corr[(X_corr>0.8) | (X_corr<-0.8)]"
   ]
  },
  {
   "cell_type": "code",
   "execution_count": 14,
   "id": "4006a652",
   "metadata": {},
   "outputs": [
    {
     "data": {
      "text/html": [
       "<div>\n",
       "<style scoped>\n",
       "    .dataframe tbody tr th:only-of-type {\n",
       "        vertical-align: middle;\n",
       "    }\n",
       "\n",
       "    .dataframe tbody tr th {\n",
       "        vertical-align: top;\n",
       "    }\n",
       "\n",
       "    .dataframe thead th {\n",
       "        text-align: right;\n",
       "    }\n",
       "</style>\n",
       "<table border=\"1\" class=\"dataframe\">\n",
       "  <thead>\n",
       "    <tr style=\"text-align: right;\">\n",
       "      <th></th>\n",
       "      <th>tBodyAcc.mean.X</th>\n",
       "      <th>tBodyAcc.mean.Y</th>\n",
       "      <th>tBodyAcc.mean.Z</th>\n",
       "      <th>tBodyAcc.std.X</th>\n",
       "      <th>tBodyAcc.std.Y</th>\n",
       "      <th>tBodyAcc.std.Z</th>\n",
       "      <th>tBodyAcc.mad.X</th>\n",
       "      <th>tBodyAcc.mad.Y</th>\n",
       "      <th>tBodyAcc.mad.Z</th>\n",
       "      <th>tBodyAcc.max.X</th>\n",
       "      <th>...</th>\n",
       "      <th>fBodyBodyGyroJerkMag.meanFreq</th>\n",
       "      <th>fBodyBodyGyroJerkMag.skewness</th>\n",
       "      <th>fBodyBodyGyroJerkMag.kurtosis</th>\n",
       "      <th>angle.tBodyAccMean.gravity</th>\n",
       "      <th>angle.tBodyAccJerkMean.gravityMean</th>\n",
       "      <th>angle.tBodyGyroMean.gravityMean</th>\n",
       "      <th>angle.tBodyGyroJerkMean.gravityMean</th>\n",
       "      <th>angle.X.gravityMean</th>\n",
       "      <th>angle.Y.gravityMean</th>\n",
       "      <th>angle.Z.gravityMean</th>\n",
       "    </tr>\n",
       "  </thead>\n",
       "  <tbody>\n",
       "    <tr>\n",
       "      <th>tBodyAcc.mean.X</th>\n",
       "      <td>1.000000</td>\n",
       "      <td>0.216780</td>\n",
       "      <td>-0.302976</td>\n",
       "      <td>0.026776</td>\n",
       "      <td>-0.000438</td>\n",
       "      <td>-0.018657</td>\n",
       "      <td>0.033594</td>\n",
       "      <td>-0.001558</td>\n",
       "      <td>-0.021714</td>\n",
       "      <td>0.056893</td>\n",
       "      <td>...</td>\n",
       "      <td>0.024893</td>\n",
       "      <td>-0.003043</td>\n",
       "      <td>-0.003782</td>\n",
       "      <td>-0.567714</td>\n",
       "      <td>0.017247</td>\n",
       "      <td>0.038627</td>\n",
       "      <td>0.035722</td>\n",
       "      <td>-0.027148</td>\n",
       "      <td>0.033745</td>\n",
       "      <td>0.025944</td>\n",
       "    </tr>\n",
       "    <tr>\n",
       "      <th>tBodyAcc.mean.Y</th>\n",
       "      <td>0.216780</td>\n",
       "      <td>1.000000</td>\n",
       "      <td>-0.104570</td>\n",
       "      <td>-0.053585</td>\n",
       "      <td>-0.042304</td>\n",
       "      <td>-0.049965</td>\n",
       "      <td>-0.052898</td>\n",
       "      <td>-0.040302</td>\n",
       "      <td>-0.051028</td>\n",
       "      <td>-0.040163</td>\n",
       "      <td>...</td>\n",
       "      <td>-0.023401</td>\n",
       "      <td>-0.005899</td>\n",
       "      <td>-0.010752</td>\n",
       "      <td>0.069540</td>\n",
       "      <td>-0.038813</td>\n",
       "      <td>0.005894</td>\n",
       "      <td>0.063621</td>\n",
       "      <td>0.004787</td>\n",
       "      <td>0.008051</td>\n",
       "      <td>-0.033470</td>\n",
       "    </tr>\n",
       "    <tr>\n",
       "      <th>tBodyAcc.mean.Z</th>\n",
       "      <td>-0.302976</td>\n",
       "      <td>-0.104570</td>\n",
       "      <td>1.000000</td>\n",
       "      <td>-0.041524</td>\n",
       "      <td>-0.027381</td>\n",
       "      <td>-0.020481</td>\n",
       "      <td>-0.041622</td>\n",
       "      <td>-0.025929</td>\n",
       "      <td>-0.014602</td>\n",
       "      <td>-0.058694</td>\n",
       "      <td>...</td>\n",
       "      <td>-0.020979</td>\n",
       "      <td>0.015779</td>\n",
       "      <td>0.015887</td>\n",
       "      <td>0.051885</td>\n",
       "      <td>-0.051859</td>\n",
       "      <td>-0.059418</td>\n",
       "      <td>-0.023572</td>\n",
       "      <td>0.013846</td>\n",
       "      <td>-0.019847</td>\n",
       "      <td>-0.031661</td>\n",
       "    </tr>\n",
       "    <tr>\n",
       "      <th>tBodyAcc.std.X</th>\n",
       "      <td>0.026776</td>\n",
       "      <td>-0.053585</td>\n",
       "      <td>-0.041524</td>\n",
       "      <td>1.000000</td>\n",
       "      <td>0.924174</td>\n",
       "      <td>0.867681</td>\n",
       "      <td>0.998675</td>\n",
       "      <td>0.917302</td>\n",
       "      <td>0.862121</td>\n",
       "      <td>0.982371</td>\n",
       "      <td>...</td>\n",
       "      <td>-0.078044</td>\n",
       "      <td>0.166553</td>\n",
       "      <td>0.133087</td>\n",
       "      <td>-0.046226</td>\n",
       "      <td>-0.009885</td>\n",
       "      <td>0.048096</td>\n",
       "      <td>-0.028095</td>\n",
       "      <td>-0.374337</td>\n",
       "      <td>0.450522</td>\n",
       "      <td>0.389663</td>\n",
       "    </tr>\n",
       "    <tr>\n",
       "      <th>tBodyAcc.std.Y</th>\n",
       "      <td>-0.000438</td>\n",
       "      <td>-0.042304</td>\n",
       "      <td>-0.027381</td>\n",
       "      <td>0.924174</td>\n",
       "      <td>1.000000</td>\n",
       "      <td>0.888758</td>\n",
       "      <td>0.920741</td>\n",
       "      <td>0.997630</td>\n",
       "      <td>0.887587</td>\n",
       "      <td>0.912148</td>\n",
       "      <td>...</td>\n",
       "      <td>-0.120873</td>\n",
       "      <td>0.220957</td>\n",
       "      <td>0.186818</td>\n",
       "      <td>-0.036176</td>\n",
       "      <td>0.012455</td>\n",
       "      <td>0.021625</td>\n",
       "      <td>-0.013066</td>\n",
       "      <td>-0.382716</td>\n",
       "      <td>0.505802</td>\n",
       "      <td>0.416742</td>\n",
       "    </tr>\n",
       "    <tr>\n",
       "      <th>...</th>\n",
       "      <td>...</td>\n",
       "      <td>...</td>\n",
       "      <td>...</td>\n",
       "      <td>...</td>\n",
       "      <td>...</td>\n",
       "      <td>...</td>\n",
       "      <td>...</td>\n",
       "      <td>...</td>\n",
       "      <td>...</td>\n",
       "      <td>...</td>\n",
       "      <td>...</td>\n",
       "      <td>...</td>\n",
       "      <td>...</td>\n",
       "      <td>...</td>\n",
       "      <td>...</td>\n",
       "      <td>...</td>\n",
       "      <td>...</td>\n",
       "      <td>...</td>\n",
       "      <td>...</td>\n",
       "      <td>...</td>\n",
       "      <td>...</td>\n",
       "    </tr>\n",
       "    <tr>\n",
       "      <th>angle.tBodyGyroMean.gravityMean</th>\n",
       "      <td>0.038627</td>\n",
       "      <td>0.005894</td>\n",
       "      <td>-0.059418</td>\n",
       "      <td>0.048096</td>\n",
       "      <td>0.021625</td>\n",
       "      <td>0.008520</td>\n",
       "      <td>0.049253</td>\n",
       "      <td>0.015224</td>\n",
       "      <td>0.003334</td>\n",
       "      <td>0.055755</td>\n",
       "      <td>...</td>\n",
       "      <td>-0.047721</td>\n",
       "      <td>0.056767</td>\n",
       "      <td>0.050928</td>\n",
       "      <td>-0.035379</td>\n",
       "      <td>0.016817</td>\n",
       "      <td>1.000000</td>\n",
       "      <td>-0.119781</td>\n",
       "      <td>-0.029425</td>\n",
       "      <td>0.010517</td>\n",
       "      <td>-0.000109</td>\n",
       "    </tr>\n",
       "    <tr>\n",
       "      <th>angle.tBodyGyroJerkMean.gravityMean</th>\n",
       "      <td>0.035722</td>\n",
       "      <td>0.063621</td>\n",
       "      <td>-0.023572</td>\n",
       "      <td>-0.028095</td>\n",
       "      <td>-0.013066</td>\n",
       "      <td>-0.012612</td>\n",
       "      <td>-0.028363</td>\n",
       "      <td>-0.010347</td>\n",
       "      <td>-0.012639</td>\n",
       "      <td>-0.029628</td>\n",
       "      <td>...</td>\n",
       "      <td>-0.008656</td>\n",
       "      <td>0.012094</td>\n",
       "      <td>0.014049</td>\n",
       "      <td>-0.024574</td>\n",
       "      <td>0.025604</td>\n",
       "      <td>-0.119781</td>\n",
       "      <td>1.000000</td>\n",
       "      <td>0.025347</td>\n",
       "      <td>-0.020039</td>\n",
       "      <td>-0.017306</td>\n",
       "    </tr>\n",
       "    <tr>\n",
       "      <th>angle.X.gravityMean</th>\n",
       "      <td>-0.027148</td>\n",
       "      <td>0.004787</td>\n",
       "      <td>0.013846</td>\n",
       "      <td>-0.374337</td>\n",
       "      <td>-0.382716</td>\n",
       "      <td>-0.351522</td>\n",
       "      <td>-0.371247</td>\n",
       "      <td>-0.380449</td>\n",
       "      <td>-0.353936</td>\n",
       "      <td>-0.383057</td>\n",
       "      <td>...</td>\n",
       "      <td>0.119005</td>\n",
       "      <td>-0.099550</td>\n",
       "      <td>-0.090157</td>\n",
       "      <td>0.006678</td>\n",
       "      <td>0.023900</td>\n",
       "      <td>-0.029425</td>\n",
       "      <td>0.025347</td>\n",
       "      <td>1.000000</td>\n",
       "      <td>-0.760618</td>\n",
       "      <td>-0.611752</td>\n",
       "    </tr>\n",
       "    <tr>\n",
       "      <th>angle.Y.gravityMean</th>\n",
       "      <td>0.033745</td>\n",
       "      <td>0.008051</td>\n",
       "      <td>-0.019847</td>\n",
       "      <td>0.450522</td>\n",
       "      <td>0.505802</td>\n",
       "      <td>0.458505</td>\n",
       "      <td>0.446229</td>\n",
       "      <td>0.508161</td>\n",
       "      <td>0.460364</td>\n",
       "      <td>0.457975</td>\n",
       "      <td>...</td>\n",
       "      <td>-0.128645</td>\n",
       "      <td>0.094502</td>\n",
       "      <td>0.080422</td>\n",
       "      <td>-0.004218</td>\n",
       "      <td>-0.019456</td>\n",
       "      <td>0.010517</td>\n",
       "      <td>-0.020039</td>\n",
       "      <td>-0.760618</td>\n",
       "      <td>1.000000</td>\n",
       "      <td>0.552356</td>\n",
       "    </tr>\n",
       "    <tr>\n",
       "      <th>angle.Z.gravityMean</th>\n",
       "      <td>0.025944</td>\n",
       "      <td>-0.033470</td>\n",
       "      <td>-0.031661</td>\n",
       "      <td>0.389663</td>\n",
       "      <td>0.416742</td>\n",
       "      <td>0.474719</td>\n",
       "      <td>0.386042</td>\n",
       "      <td>0.416142</td>\n",
       "      <td>0.471630</td>\n",
       "      <td>0.398344</td>\n",
       "      <td>...</td>\n",
       "      <td>-0.071354</td>\n",
       "      <td>0.081484</td>\n",
       "      <td>0.073987</td>\n",
       "      <td>-0.014103</td>\n",
       "      <td>-0.008140</td>\n",
       "      <td>-0.000109</td>\n",
       "      <td>-0.017306</td>\n",
       "      <td>-0.611752</td>\n",
       "      <td>0.552356</td>\n",
       "      <td>1.000000</td>\n",
       "    </tr>\n",
       "  </tbody>\n",
       "</table>\n",
       "<p>561 rows × 561 columns</p>\n",
       "</div>"
      ],
      "text/plain": [
       "                                     tBodyAcc.mean.X  tBodyAcc.mean.Y  \\\n",
       "tBodyAcc.mean.X                             1.000000         0.216780   \n",
       "tBodyAcc.mean.Y                             0.216780         1.000000   \n",
       "tBodyAcc.mean.Z                            -0.302976        -0.104570   \n",
       "tBodyAcc.std.X                              0.026776        -0.053585   \n",
       "tBodyAcc.std.Y                             -0.000438        -0.042304   \n",
       "...                                              ...              ...   \n",
       "angle.tBodyGyroMean.gravityMean             0.038627         0.005894   \n",
       "angle.tBodyGyroJerkMean.gravityMean         0.035722         0.063621   \n",
       "angle.X.gravityMean                        -0.027148         0.004787   \n",
       "angle.Y.gravityMean                         0.033745         0.008051   \n",
       "angle.Z.gravityMean                         0.025944        -0.033470   \n",
       "\n",
       "                                     tBodyAcc.mean.Z  tBodyAcc.std.X  \\\n",
       "tBodyAcc.mean.X                            -0.302976        0.026776   \n",
       "tBodyAcc.mean.Y                            -0.104570       -0.053585   \n",
       "tBodyAcc.mean.Z                             1.000000       -0.041524   \n",
       "tBodyAcc.std.X                             -0.041524        1.000000   \n",
       "tBodyAcc.std.Y                             -0.027381        0.924174   \n",
       "...                                              ...             ...   \n",
       "angle.tBodyGyroMean.gravityMean            -0.059418        0.048096   \n",
       "angle.tBodyGyroJerkMean.gravityMean        -0.023572       -0.028095   \n",
       "angle.X.gravityMean                         0.013846       -0.374337   \n",
       "angle.Y.gravityMean                        -0.019847        0.450522   \n",
       "angle.Z.gravityMean                        -0.031661        0.389663   \n",
       "\n",
       "                                     tBodyAcc.std.Y  tBodyAcc.std.Z  \\\n",
       "tBodyAcc.mean.X                           -0.000438       -0.018657   \n",
       "tBodyAcc.mean.Y                           -0.042304       -0.049965   \n",
       "tBodyAcc.mean.Z                           -0.027381       -0.020481   \n",
       "tBodyAcc.std.X                             0.924174        0.867681   \n",
       "tBodyAcc.std.Y                             1.000000        0.888758   \n",
       "...                                             ...             ...   \n",
       "angle.tBodyGyroMean.gravityMean            0.021625        0.008520   \n",
       "angle.tBodyGyroJerkMean.gravityMean       -0.013066       -0.012612   \n",
       "angle.X.gravityMean                       -0.382716       -0.351522   \n",
       "angle.Y.gravityMean                        0.505802        0.458505   \n",
       "angle.Z.gravityMean                        0.416742        0.474719   \n",
       "\n",
       "                                     tBodyAcc.mad.X  tBodyAcc.mad.Y  \\\n",
       "tBodyAcc.mean.X                            0.033594       -0.001558   \n",
       "tBodyAcc.mean.Y                           -0.052898       -0.040302   \n",
       "tBodyAcc.mean.Z                           -0.041622       -0.025929   \n",
       "tBodyAcc.std.X                             0.998675        0.917302   \n",
       "tBodyAcc.std.Y                             0.920741        0.997630   \n",
       "...                                             ...             ...   \n",
       "angle.tBodyGyroMean.gravityMean            0.049253        0.015224   \n",
       "angle.tBodyGyroJerkMean.gravityMean       -0.028363       -0.010347   \n",
       "angle.X.gravityMean                       -0.371247       -0.380449   \n",
       "angle.Y.gravityMean                        0.446229        0.508161   \n",
       "angle.Z.gravityMean                        0.386042        0.416142   \n",
       "\n",
       "                                     tBodyAcc.mad.Z  tBodyAcc.max.X  ...  \\\n",
       "tBodyAcc.mean.X                           -0.021714        0.056893  ...   \n",
       "tBodyAcc.mean.Y                           -0.051028       -0.040163  ...   \n",
       "tBodyAcc.mean.Z                           -0.014602       -0.058694  ...   \n",
       "tBodyAcc.std.X                             0.862121        0.982371  ...   \n",
       "tBodyAcc.std.Y                             0.887587        0.912148  ...   \n",
       "...                                             ...             ...  ...   \n",
       "angle.tBodyGyroMean.gravityMean            0.003334        0.055755  ...   \n",
       "angle.tBodyGyroJerkMean.gravityMean       -0.012639       -0.029628  ...   \n",
       "angle.X.gravityMean                       -0.353936       -0.383057  ...   \n",
       "angle.Y.gravityMean                        0.460364        0.457975  ...   \n",
       "angle.Z.gravityMean                        0.471630        0.398344  ...   \n",
       "\n",
       "                                     fBodyBodyGyroJerkMag.meanFreq  \\\n",
       "tBodyAcc.mean.X                                           0.024893   \n",
       "tBodyAcc.mean.Y                                          -0.023401   \n",
       "tBodyAcc.mean.Z                                          -0.020979   \n",
       "tBodyAcc.std.X                                           -0.078044   \n",
       "tBodyAcc.std.Y                                           -0.120873   \n",
       "...                                                            ...   \n",
       "angle.tBodyGyroMean.gravityMean                          -0.047721   \n",
       "angle.tBodyGyroJerkMean.gravityMean                      -0.008656   \n",
       "angle.X.gravityMean                                       0.119005   \n",
       "angle.Y.gravityMean                                      -0.128645   \n",
       "angle.Z.gravityMean                                      -0.071354   \n",
       "\n",
       "                                     fBodyBodyGyroJerkMag.skewness  \\\n",
       "tBodyAcc.mean.X                                          -0.003043   \n",
       "tBodyAcc.mean.Y                                          -0.005899   \n",
       "tBodyAcc.mean.Z                                           0.015779   \n",
       "tBodyAcc.std.X                                            0.166553   \n",
       "tBodyAcc.std.Y                                            0.220957   \n",
       "...                                                            ...   \n",
       "angle.tBodyGyroMean.gravityMean                           0.056767   \n",
       "angle.tBodyGyroJerkMean.gravityMean                       0.012094   \n",
       "angle.X.gravityMean                                      -0.099550   \n",
       "angle.Y.gravityMean                                       0.094502   \n",
       "angle.Z.gravityMean                                       0.081484   \n",
       "\n",
       "                                     fBodyBodyGyroJerkMag.kurtosis  \\\n",
       "tBodyAcc.mean.X                                          -0.003782   \n",
       "tBodyAcc.mean.Y                                          -0.010752   \n",
       "tBodyAcc.mean.Z                                           0.015887   \n",
       "tBodyAcc.std.X                                            0.133087   \n",
       "tBodyAcc.std.Y                                            0.186818   \n",
       "...                                                            ...   \n",
       "angle.tBodyGyroMean.gravityMean                           0.050928   \n",
       "angle.tBodyGyroJerkMean.gravityMean                       0.014049   \n",
       "angle.X.gravityMean                                      -0.090157   \n",
       "angle.Y.gravityMean                                       0.080422   \n",
       "angle.Z.gravityMean                                       0.073987   \n",
       "\n",
       "                                     angle.tBodyAccMean.gravity  \\\n",
       "tBodyAcc.mean.X                                       -0.567714   \n",
       "tBodyAcc.mean.Y                                        0.069540   \n",
       "tBodyAcc.mean.Z                                        0.051885   \n",
       "tBodyAcc.std.X                                        -0.046226   \n",
       "tBodyAcc.std.Y                                        -0.036176   \n",
       "...                                                         ...   \n",
       "angle.tBodyGyroMean.gravityMean                       -0.035379   \n",
       "angle.tBodyGyroJerkMean.gravityMean                   -0.024574   \n",
       "angle.X.gravityMean                                    0.006678   \n",
       "angle.Y.gravityMean                                   -0.004218   \n",
       "angle.Z.gravityMean                                   -0.014103   \n",
       "\n",
       "                                     angle.tBodyAccJerkMean.gravityMean  \\\n",
       "tBodyAcc.mean.X                                                0.017247   \n",
       "tBodyAcc.mean.Y                                               -0.038813   \n",
       "tBodyAcc.mean.Z                                               -0.051859   \n",
       "tBodyAcc.std.X                                                -0.009885   \n",
       "tBodyAcc.std.Y                                                 0.012455   \n",
       "...                                                                 ...   \n",
       "angle.tBodyGyroMean.gravityMean                                0.016817   \n",
       "angle.tBodyGyroJerkMean.gravityMean                            0.025604   \n",
       "angle.X.gravityMean                                            0.023900   \n",
       "angle.Y.gravityMean                                           -0.019456   \n",
       "angle.Z.gravityMean                                           -0.008140   \n",
       "\n",
       "                                     angle.tBodyGyroMean.gravityMean  \\\n",
       "tBodyAcc.mean.X                                             0.038627   \n",
       "tBodyAcc.mean.Y                                             0.005894   \n",
       "tBodyAcc.mean.Z                                            -0.059418   \n",
       "tBodyAcc.std.X                                              0.048096   \n",
       "tBodyAcc.std.Y                                              0.021625   \n",
       "...                                                              ...   \n",
       "angle.tBodyGyroMean.gravityMean                             1.000000   \n",
       "angle.tBodyGyroJerkMean.gravityMean                        -0.119781   \n",
       "angle.X.gravityMean                                        -0.029425   \n",
       "angle.Y.gravityMean                                         0.010517   \n",
       "angle.Z.gravityMean                                        -0.000109   \n",
       "\n",
       "                                     angle.tBodyGyroJerkMean.gravityMean  \\\n",
       "tBodyAcc.mean.X                                                 0.035722   \n",
       "tBodyAcc.mean.Y                                                 0.063621   \n",
       "tBodyAcc.mean.Z                                                -0.023572   \n",
       "tBodyAcc.std.X                                                 -0.028095   \n",
       "tBodyAcc.std.Y                                                 -0.013066   \n",
       "...                                                                  ...   \n",
       "angle.tBodyGyroMean.gravityMean                                -0.119781   \n",
       "angle.tBodyGyroJerkMean.gravityMean                             1.000000   \n",
       "angle.X.gravityMean                                             0.025347   \n",
       "angle.Y.gravityMean                                            -0.020039   \n",
       "angle.Z.gravityMean                                            -0.017306   \n",
       "\n",
       "                                     angle.X.gravityMean  angle.Y.gravityMean  \\\n",
       "tBodyAcc.mean.X                                -0.027148             0.033745   \n",
       "tBodyAcc.mean.Y                                 0.004787             0.008051   \n",
       "tBodyAcc.mean.Z                                 0.013846            -0.019847   \n",
       "tBodyAcc.std.X                                 -0.374337             0.450522   \n",
       "tBodyAcc.std.Y                                 -0.382716             0.505802   \n",
       "...                                                  ...                  ...   \n",
       "angle.tBodyGyroMean.gravityMean                -0.029425             0.010517   \n",
       "angle.tBodyGyroJerkMean.gravityMean             0.025347            -0.020039   \n",
       "angle.X.gravityMean                             1.000000            -0.760618   \n",
       "angle.Y.gravityMean                            -0.760618             1.000000   \n",
       "angle.Z.gravityMean                            -0.611752             0.552356   \n",
       "\n",
       "                                     angle.Z.gravityMean  \n",
       "tBodyAcc.mean.X                                 0.025944  \n",
       "tBodyAcc.mean.Y                                -0.033470  \n",
       "tBodyAcc.mean.Z                                -0.031661  \n",
       "tBodyAcc.std.X                                  0.389663  \n",
       "tBodyAcc.std.Y                                  0.416742  \n",
       "...                                                  ...  \n",
       "angle.tBodyGyroMean.gravityMean                -0.000109  \n",
       "angle.tBodyGyroJerkMean.gravityMean            -0.017306  \n",
       "angle.X.gravityMean                            -0.611752  \n",
       "angle.Y.gravityMean                             0.552356  \n",
       "angle.Z.gravityMean                             1.000000  \n",
       "\n",
       "[561 rows x 561 columns]"
      ]
     },
     "execution_count": 14,
     "metadata": {},
     "output_type": "execute_result"
    }
   ],
   "source": [
    "X_corr"
   ]
  },
  {
   "cell_type": "code",
   "execution_count": 28,
   "id": "1439a0b0",
   "metadata": {},
   "outputs": [
    {
     "name": "stdout",
     "output_type": "stream",
     "text": [
      "\n",
      "Total Correlated values: 157080.0\n",
      "Total High Correlated values with >0.8: 22912.0\n",
      "\n",
      "Total % of data which has high correlated data: 14.58619811560988\n",
      "\n"
     ]
    }
   ],
   "source": [
    "# These many number of pairs have a high correlation\n",
    "total_corr_val_count = ((X_corr.shape[0] * X_corr.shape[1])-561)/2\n",
    "total_high_corr_val_count = ((~(X_corr[(X_corr>0.8)|(X_corr<-0.8)].isnull())).sum().sum() - 561)/2\n",
    "print(f'''\n",
    "Total Correlated values: {total_corr_val_count}\n",
    "Total High Correlated values with >0.8: {total_high_corr_val_count}\n",
    "\n",
    "Total % of data which has high correlated data: {(total_high_corr_val_count/total_corr_val_count)*100}\n",
    "''')"
   ]
  },
  {
   "cell_type": "markdown",
   "id": "1c028e59",
   "metadata": {},
   "source": [
    "### Scaling of Data"
   ]
  },
  {
   "cell_type": "code",
   "execution_count": 30,
   "id": "3a8f93e7",
   "metadata": {},
   "outputs": [],
   "source": [
    "sscalar = StandardScaler()"
   ]
  },
  {
   "cell_type": "code",
   "execution_count": 31,
   "id": "6c102b63",
   "metadata": {},
   "outputs": [
    {
     "data": {
      "text/html": [
       "<div>\n",
       "<style scoped>\n",
       "    .dataframe tbody tr th:only-of-type {\n",
       "        vertical-align: middle;\n",
       "    }\n",
       "\n",
       "    .dataframe tbody tr th {\n",
       "        vertical-align: top;\n",
       "    }\n",
       "\n",
       "    .dataframe thead th {\n",
       "        text-align: right;\n",
       "    }\n",
       "</style>\n",
       "<table border=\"1\" class=\"dataframe\">\n",
       "  <thead>\n",
       "    <tr style=\"text-align: right;\">\n",
       "      <th></th>\n",
       "      <th>tBodyAcc.mean.X</th>\n",
       "      <th>tBodyAcc.mean.Y</th>\n",
       "      <th>tBodyAcc.mean.Z</th>\n",
       "      <th>tBodyAcc.std.X</th>\n",
       "      <th>tBodyAcc.std.Y</th>\n",
       "      <th>tBodyAcc.std.Z</th>\n",
       "      <th>tBodyAcc.mad.X</th>\n",
       "      <th>tBodyAcc.mad.Y</th>\n",
       "      <th>tBodyAcc.mad.Z</th>\n",
       "      <th>tBodyAcc.max.X</th>\n",
       "      <th>...</th>\n",
       "      <th>fBodyBodyGyroJerkMag.meanFreq</th>\n",
       "      <th>fBodyBodyGyroJerkMag.skewness</th>\n",
       "      <th>fBodyBodyGyroJerkMag.kurtosis</th>\n",
       "      <th>angle.tBodyAccMean.gravity</th>\n",
       "      <th>angle.tBodyAccJerkMean.gravityMean</th>\n",
       "      <th>angle.tBodyGyroMean.gravityMean</th>\n",
       "      <th>angle.tBodyGyroJerkMean.gravityMean</th>\n",
       "      <th>angle.X.gravityMean</th>\n",
       "      <th>angle.Y.gravityMean</th>\n",
       "      <th>angle.Z.gravityMean</th>\n",
       "    </tr>\n",
       "  </thead>\n",
       "  <tbody>\n",
       "    <tr>\n",
       "      <th>0</th>\n",
       "      <td>0.070090</td>\n",
       "      <td>-0.051303</td>\n",
       "      <td>-0.014321</td>\n",
       "      <td>-0.884871</td>\n",
       "      <td>-0.918609</td>\n",
       "      <td>-0.922544</td>\n",
       "      <td>-0.877109</td>\n",
       "      <td>-0.915758</td>\n",
       "      <td>-0.929283</td>\n",
       "      <td>-0.877531</td>\n",
       "      <td>...</td>\n",
       "      <td>0.071576</td>\n",
       "      <td>0.263638</td>\n",
       "      <td>0.179717</td>\n",
       "      <td>-0.663934</td>\n",
       "      <td>-0.535708</td>\n",
       "      <td>-0.023772</td>\n",
       "      <td>-0.365489</td>\n",
       "      <td>-0.697128</td>\n",
       "      <td>0.391822</td>\n",
       "      <td>0.027291</td>\n",
       "    </tr>\n",
       "    <tr>\n",
       "      <th>1</th>\n",
       "      <td>0.038634</td>\n",
       "      <td>0.110734</td>\n",
       "      <td>0.110213</td>\n",
       "      <td>-0.880316</td>\n",
       "      <td>-0.930571</td>\n",
       "      <td>-0.927550</td>\n",
       "      <td>-0.874688</td>\n",
       "      <td>-0.932246</td>\n",
       "      <td>-0.934348</td>\n",
       "      <td>-0.875680</td>\n",
       "      <td>...</td>\n",
       "      <td>-0.032484</td>\n",
       "      <td>2.043967</td>\n",
       "      <td>2.196519</td>\n",
       "      <td>0.220164</td>\n",
       "      <td>1.306538</td>\n",
       "      <td>-0.823407</td>\n",
       "      <td>0.258032</td>\n",
       "      <td>-0.697128</td>\n",
       "      <td>0.411099</td>\n",
       "      <td>0.058742</td>\n",
       "    </tr>\n",
       "  </tbody>\n",
       "</table>\n",
       "<p>2 rows × 561 columns</p>\n",
       "</div>"
      ],
      "text/plain": [
       "   tBodyAcc.mean.X  tBodyAcc.mean.Y  tBodyAcc.mean.Z  tBodyAcc.std.X  \\\n",
       "0         0.070090        -0.051303        -0.014321       -0.884871   \n",
       "1         0.038634         0.110734         0.110213       -0.880316   \n",
       "\n",
       "   tBodyAcc.std.Y  tBodyAcc.std.Z  tBodyAcc.mad.X  tBodyAcc.mad.Y  \\\n",
       "0       -0.918609       -0.922544       -0.877109       -0.915758   \n",
       "1       -0.930571       -0.927550       -0.874688       -0.932246   \n",
       "\n",
       "   tBodyAcc.mad.Z  tBodyAcc.max.X  ...  fBodyBodyGyroJerkMag.meanFreq  \\\n",
       "0       -0.929283       -0.877531  ...                       0.071576   \n",
       "1       -0.934348       -0.875680  ...                      -0.032484   \n",
       "\n",
       "   fBodyBodyGyroJerkMag.skewness  fBodyBodyGyroJerkMag.kurtosis  \\\n",
       "0                       0.263638                       0.179717   \n",
       "1                       2.043967                       2.196519   \n",
       "\n",
       "   angle.tBodyAccMean.gravity  angle.tBodyAccJerkMean.gravityMean  \\\n",
       "0                   -0.663934                           -0.535708   \n",
       "1                    0.220164                            1.306538   \n",
       "\n",
       "   angle.tBodyGyroMean.gravityMean  angle.tBodyGyroJerkMean.gravityMean  \\\n",
       "0                        -0.023772                            -0.365489   \n",
       "1                        -0.823407                             0.258032   \n",
       "\n",
       "   angle.X.gravityMean  angle.Y.gravityMean  angle.Z.gravityMean  \n",
       "0            -0.697128             0.391822             0.027291  \n",
       "1            -0.697128             0.411099             0.058742  \n",
       "\n",
       "[2 rows x 561 columns]"
      ]
     },
     "execution_count": 31,
     "metadata": {},
     "output_type": "execute_result"
    }
   ],
   "source": [
    "X_sc = sscalar.fit_transform(X)\n",
    "X_sc = pd.DataFrame(data=X_sc, columns=X.columns, index=X.index)\n",
    "X_sc.head(2)"
   ]
  },
  {
   "cell_type": "code",
   "execution_count": 32,
   "id": "d09a8c80",
   "metadata": {},
   "outputs": [
    {
     "data": {
      "text/plain": [
       "561"
      ]
     },
     "execution_count": 32,
     "metadata": {},
     "output_type": "execute_result"
    }
   ],
   "source": [
    "X_sc.shape[1]"
   ]
  },
  {
   "cell_type": "markdown",
   "id": "c89c7877",
   "metadata": {},
   "source": [
    "### Dimensionality Reduction - Capture 90% Variance"
   ]
  },
  {
   "cell_type": "code",
   "execution_count": 33,
   "id": "71c9b5ba",
   "metadata": {},
   "outputs": [],
   "source": [
    "pca_all_components = PCA(n_components=X_sc.shape[1])"
   ]
  },
  {
   "cell_type": "code",
   "execution_count": 34,
   "id": "438ea8eb",
   "metadata": {},
   "outputs": [],
   "source": [
    "X_pca_all_components = pca_all_components.fit_transform(X=X_sc)"
   ]
  },
  {
   "cell_type": "code",
   "execution_count": 37,
   "id": "1a8a0424",
   "metadata": {},
   "outputs": [
    {
     "data": {
      "text/plain": [
       "array([0.508, 0.065, 0.028, 0.024, 0.019, 0.016, 0.014, 0.012, 0.01 ,\n",
       "       0.009, 0.009, 0.008, 0.008, 0.007, 0.007, 0.006, 0.006, 0.006,\n",
       "       0.006, 0.005, 0.005, 0.005, 0.005, 0.005, 0.005, 0.004, 0.004,\n",
       "       0.004, 0.004, 0.004, 0.004, 0.004, 0.004, 0.003, 0.003, 0.003,\n",
       "       0.003, 0.003, 0.003, 0.003, 0.003, 0.003, 0.003, 0.003, 0.003,\n",
       "       0.003, 0.002, 0.002, 0.002, 0.002, 0.002, 0.002, 0.002, 0.002,\n",
       "       0.002, 0.002, 0.002, 0.002, 0.002, 0.002, 0.002, 0.002, 0.002,\n",
       "       0.002, 0.002, 0.002, 0.002, 0.002, 0.002, 0.002, 0.002, 0.002,\n",
       "       0.002, 0.001, 0.001, 0.001, 0.001, 0.001, 0.001, 0.001, 0.001,\n",
       "       0.001, 0.001, 0.001, 0.001, 0.001, 0.001, 0.001, 0.001, 0.001,\n",
       "       0.001, 0.001, 0.001, 0.001, 0.001, 0.001, 0.001, 0.001, 0.001,\n",
       "       0.001, 0.001, 0.001, 0.001, 0.001, 0.001, 0.001, 0.001, 0.001,\n",
       "       0.001, 0.001, 0.001, 0.001, 0.001, 0.001, 0.001, 0.001, 0.001,\n",
       "       0.001, 0.001, 0.001, 0.001, 0.001, 0.001, 0.001, 0.001, 0.001,\n",
       "       0.001, 0.001, 0.001, 0.001, 0.001, 0.001, 0.001, 0.001, 0.001,\n",
       "       0.001, 0.001, 0.001, 0.   , 0.   , 0.   , 0.   , 0.   , 0.   ,\n",
       "       0.   , 0.   , 0.   , 0.   , 0.   , 0.   , 0.   , 0.   , 0.   ,\n",
       "       0.   , 0.   , 0.   , 0.   , 0.   , 0.   , 0.   , 0.   , 0.   ,\n",
       "       0.   , 0.   , 0.   , 0.   , 0.   , 0.   , 0.   , 0.   , 0.   ,\n",
       "       0.   , 0.   , 0.   , 0.   , 0.   , 0.   , 0.   , 0.   , 0.   ,\n",
       "       0.   , 0.   , 0.   , 0.   , 0.   , 0.   , 0.   , 0.   , 0.   ,\n",
       "       0.   , 0.   , 0.   , 0.   , 0.   , 0.   , 0.   , 0.   , 0.   ,\n",
       "       0.   , 0.   , 0.   , 0.   , 0.   , 0.   , 0.   , 0.   , 0.   ,\n",
       "       0.   , 0.   , 0.   , 0.   , 0.   , 0.   , 0.   , 0.   , 0.   ,\n",
       "       0.   , 0.   , 0.   , 0.   , 0.   , 0.   , 0.   , 0.   , 0.   ,\n",
       "       0.   , 0.   , 0.   , 0.   , 0.   , 0.   , 0.   , 0.   , 0.   ,\n",
       "       0.   , 0.   , 0.   , 0.   , 0.   , 0.   , 0.   , 0.   , 0.   ,\n",
       "       0.   , 0.   , 0.   , 0.   , 0.   , 0.   , 0.   , 0.   , 0.   ,\n",
       "       0.   , 0.   , 0.   , 0.   , 0.   , 0.   , 0.   , 0.   , 0.   ,\n",
       "       0.   , 0.   , 0.   , 0.   , 0.   , 0.   , 0.   , 0.   , 0.   ,\n",
       "       0.   , 0.   , 0.   , 0.   , 0.   , 0.   , 0.   , 0.   , 0.   ,\n",
       "       0.   , 0.   , 0.   , 0.   , 0.   , 0.   , 0.   , 0.   , 0.   ,\n",
       "       0.   , 0.   , 0.   , 0.   , 0.   , 0.   , 0.   , 0.   , 0.   ,\n",
       "       0.   , 0.   , 0.   , 0.   , 0.   , 0.   , 0.   , 0.   , 0.   ,\n",
       "       0.   , 0.   , 0.   , 0.   , 0.   , 0.   , 0.   , 0.   , 0.   ,\n",
       "       0.   , 0.   , 0.   , 0.   , 0.   , 0.   , 0.   , 0.   , 0.   ,\n",
       "       0.   , 0.   , 0.   , 0.   , 0.   , 0.   , 0.   , 0.   , 0.   ,\n",
       "       0.   , 0.   , 0.   , 0.   , 0.   , 0.   , 0.   , 0.   , 0.   ,\n",
       "       0.   , 0.   , 0.   , 0.   , 0.   , 0.   , 0.   , 0.   , 0.   ,\n",
       "       0.   , 0.   , 0.   , 0.   , 0.   , 0.   , 0.   , 0.   , 0.   ,\n",
       "       0.   , 0.   , 0.   , 0.   , 0.   , 0.   , 0.   , 0.   , 0.   ,\n",
       "       0.   , 0.   , 0.   , 0.   , 0.   , 0.   , 0.   , 0.   , 0.   ,\n",
       "       0.   , 0.   , 0.   , 0.   , 0.   , 0.   , 0.   , 0.   , 0.   ,\n",
       "       0.   , 0.   , 0.   , 0.   , 0.   , 0.   , 0.   , 0.   , 0.   ,\n",
       "       0.   , 0.   , 0.   , 0.   , 0.   , 0.   , 0.   , 0.   , 0.   ,\n",
       "       0.   , 0.   , 0.   , 0.   , 0.   , 0.   , 0.   , 0.   , 0.   ,\n",
       "       0.   , 0.   , 0.   , 0.   , 0.   , 0.   , 0.   , 0.   , 0.   ,\n",
       "       0.   , 0.   , 0.   , 0.   , 0.   , 0.   , 0.   , 0.   , 0.   ,\n",
       "       0.   , 0.   , 0.   , 0.   , 0.   , 0.   , 0.   , 0.   , 0.   ,\n",
       "       0.   , 0.   , 0.   , 0.   , 0.   , 0.   , 0.   , 0.   , 0.   ,\n",
       "       0.   , 0.   , 0.   , 0.   , 0.   , 0.   , 0.   , 0.   , 0.   ,\n",
       "       0.   , 0.   , 0.   , 0.   , 0.   , 0.   , 0.   , 0.   , 0.   ,\n",
       "       0.   , 0.   , 0.   , 0.   , 0.   , 0.   , 0.   , 0.   , 0.   ,\n",
       "       0.   , 0.   , 0.   , 0.   , 0.   , 0.   , 0.   , 0.   , 0.   ,\n",
       "       0.   , 0.   , 0.   , 0.   , 0.   , 0.   , 0.   , 0.   , 0.   ,\n",
       "       0.   , 0.   , 0.   , 0.   , 0.   , 0.   , 0.   , 0.   , 0.   ,\n",
       "       0.   , 0.   , 0.   , 0.   , 0.   , 0.   , 0.   , 0.   , 0.   ,\n",
       "       0.   , 0.   , 0.   , 0.   , 0.   , 0.   , 0.   , 0.   , 0.   ,\n",
       "       0.   , 0.   , 0.   , 0.   , 0.   , 0.   , 0.   , 0.   , 0.   ,\n",
       "       0.   , 0.   , 0.   , 0.   , 0.   , 0.   , 0.   , 0.   , 0.   ,\n",
       "       0.   , 0.   , 0.   , 0.   , 0.   , 0.   , 0.   , 0.   , 0.   ,\n",
       "       0.   , 0.   , 0.   , 0.   , 0.   , 0.   , 0.   , 0.   , 0.   ,\n",
       "       0.   , 0.   , 0.   ])"
      ]
     },
     "execution_count": 37,
     "metadata": {},
     "output_type": "execute_result"
    }
   ],
   "source": [
    "pca_all_components.explained_variance_ratio_.round(3)"
   ]
  },
  {
   "cell_type": "code",
   "execution_count": 40,
   "id": "098b1efd",
   "metadata": {},
   "outputs": [],
   "source": [
    "pca_all_exp_var_ratio = pca_all_components.explained_variance_ratio_"
   ]
  },
  {
   "cell_type": "code",
   "execution_count": 39,
   "id": "8d2b5d86",
   "metadata": {},
   "outputs": [
    {
     "data": {
      "text/plain": [
       "array([0.50817157, 0.57301392, 0.60061733, 0.62429027, 0.64322447,\n",
       "       0.65932116, 0.67294736, 0.6848902 , 0.69439296, 0.70360673,\n",
       "       0.71242968, 0.72047766, 0.72825663, 0.73500686, 0.74151889,\n",
       "       0.74787456, 0.75362393, 0.75936354, 0.76487754, 0.770335  ,\n",
       "       0.77554167, 0.78069827, 0.78549219, 0.79020498, 0.79480784,\n",
       "       0.79927414, 0.80355454, 0.80762248, 0.81160854, 0.81538707,\n",
       "       0.81909898, 0.82273657, 0.82629634, 0.82972521, 0.83304841,\n",
       "       0.83632035, 0.83950094, 0.84258193, 0.84555142, 0.84841774,\n",
       "       0.85124434, 0.853981  , 0.85664945, 0.85923903, 0.86178832,\n",
       "       0.86430895, 0.86678485, 0.86921265, 0.87157054, 0.87387861,\n",
       "       0.87613473, 0.87834904, 0.88049676, 0.88262322, 0.88471753,\n",
       "       0.88679285, 0.88877951, 0.89074903, 0.89263891, 0.89451232,\n",
       "       0.89633935, 0.89814752, 0.89993461, 0.90169437, 0.90341265,\n",
       "       0.90512861, 0.90678572, 0.90841419, 0.91001938, 0.91161073,\n",
       "       0.91317396, 0.91470071, 0.91620098, 0.91767273, 0.91911244,\n",
       "       0.92053798, 0.92194652, 0.92334899, 0.9247139 , 0.92605404,\n",
       "       0.92738137, 0.92869492, 0.92997857, 0.93123178, 0.93244929,\n",
       "       0.93366043, 0.93485265, 0.93604034, 0.93720438, 0.93834827,\n",
       "       0.93947404, 0.94058339, 0.94167176, 0.94274487, 0.94379181,\n",
       "       0.94481359, 0.94580655, 0.94678827, 0.94775475, 0.94871312,\n",
       "       0.9496599 , 0.95059819, 0.9515105 , 0.95240646, 0.95330186,\n",
       "       0.95418759, 0.9550556 , 0.95590975, 0.95674434, 0.95757388,\n",
       "       0.95839201, 0.95919833, 0.95996965, 0.9607365 , 0.96148485,\n",
       "       0.96222604, 0.96295197, 0.96367069, 0.9643696 , 0.9650677 ,\n",
       "       0.96574003, 0.96640194, 0.96704662, 0.96768809, 0.96832264,\n",
       "       0.96893451, 0.96954005, 0.97013348, 0.97072243, 0.97130174,\n",
       "       0.97187275, 0.97242928, 0.97298195, 0.97353237, 0.97406038,\n",
       "       0.97458172, 0.97509417, 0.97559818, 0.97609274, 0.97658229,\n",
       "       0.97706856, 0.9775483 , 0.97801799, 0.97847942, 0.97892736,\n",
       "       0.97937382, 0.9798106 , 0.98023747, 0.98065846, 0.98107331,\n",
       "       0.98147584, 0.98187138, 0.98226269, 0.98264741, 0.98302065,\n",
       "       0.98339077, 0.98375808, 0.98412012, 0.98447769, 0.98482996,\n",
       "       0.98517735, 0.98551788, 0.98585648, 0.98618444, 0.98650926,\n",
       "       0.98682839, 0.98713766, 0.98743892, 0.9877307 , 0.98801525,\n",
       "       0.98828028, 0.9885398 , 0.9887952 , 0.98904331, 0.98929033,\n",
       "       0.98952466, 0.98975775, 0.98998415, 0.99020562, 0.99041726,\n",
       "       0.99062726, 0.99082955, 0.99102604, 0.99121756, 0.99140487,\n",
       "       0.99158823, 0.99176402, 0.99193786, 0.99210693, 0.9922682 ,\n",
       "       0.99242474, 0.99258025, 0.99273113, 0.99287623, 0.99302018,\n",
       "       0.99316129, 0.99330082, 0.99343631, 0.9935698 , 0.99369638,\n",
       "       0.99381813, 0.99393563, 0.99405125, 0.99416434, 0.994277  ,\n",
       "       0.99438718, 0.99449195, 0.9945958 , 0.99469804, 0.99479837,\n",
       "       0.99489763, 0.99499283, 0.9950875 , 0.99517825, 0.99526741,\n",
       "       0.99535502, 0.99544168, 0.99552624, 0.99560938, 0.99569156,\n",
       "       0.99577143, 0.99585067, 0.99592944, 0.9960059 , 0.99608126,\n",
       "       0.99615486, 0.99622709, 0.99629842, 0.9963681 , 0.99643721,\n",
       "       0.99650466, 0.99657179, 0.99663736, 0.99670233, 0.99676607,\n",
       "       0.99682809, 0.99688837, 0.99694826, 0.99700762, 0.9970656 ,\n",
       "       0.99712326, 0.99717957, 0.99723486, 0.99728861, 0.99734116,\n",
       "       0.99739266, 0.99744343, 0.99749361, 0.99754273, 0.99759112,\n",
       "       0.997639  , 0.99768582, 0.99773039, 0.99777488, 0.99781773,\n",
       "       0.99785967, 0.9979013 , 0.99794226, 0.99798267, 0.99802235,\n",
       "       0.99806167, 0.99809983, 0.99813737, 0.99817411, 0.99821036,\n",
       "       0.99824635, 0.99828155, 0.99831554, 0.99834885, 0.99838201,\n",
       "       0.99841445, 0.99844612, 0.99847732, 0.99850789, 0.99853821,\n",
       "       0.99856774, 0.99859717, 0.99862638, 0.99865451, 0.99868229,\n",
       "       0.99870985, 0.99873649, 0.99876243, 0.99878799, 0.99881306,\n",
       "       0.99883763, 0.99886193, 0.99888566, 0.9989093 , 0.99893236,\n",
       "       0.99895507, 0.99897758, 0.99899971, 0.99902135, 0.99904268,\n",
       "       0.99906376, 0.99908453, 0.99910485, 0.99912485, 0.99914443,\n",
       "       0.99916377, 0.99918296, 0.99920167, 0.99921984, 0.99923787,\n",
       "       0.99925584, 0.99927324, 0.99929031, 0.99930734, 0.9993239 ,\n",
       "       0.99934038, 0.99935637, 0.9993722 , 0.999388  , 0.99940379,\n",
       "       0.99941915, 0.99943405, 0.99944878, 0.9994634 , 0.99947774,\n",
       "       0.99949169, 0.99950544, 0.99951895, 0.99953226, 0.99954521,\n",
       "       0.99955794, 0.99957048, 0.99958274, 0.99959486, 0.99960654,\n",
       "       0.99961771, 0.99962878, 0.99963964, 0.99965002, 0.99966035,\n",
       "       0.99967064, 0.9996805 , 0.99969012, 0.99969955, 0.99970881,\n",
       "       0.99971802, 0.99972683, 0.9997355 , 0.99974392, 0.99975226,\n",
       "       0.99976044, 0.99976836, 0.99977625, 0.99978377, 0.99979118,\n",
       "       0.99979825, 0.99980514, 0.99981182, 0.99981833, 0.99982475,\n",
       "       0.9998309 , 0.99983688, 0.99984273, 0.99984845, 0.99985391,\n",
       "       0.99985908, 0.99986415, 0.99986912, 0.99987392, 0.99987852,\n",
       "       0.99988308, 0.99988735, 0.99989148, 0.99989555, 0.99989957,\n",
       "       0.99990351, 0.99990739, 0.99991108, 0.99991474, 0.99991833,\n",
       "       0.99992181, 0.99992518, 0.99992844, 0.99993163, 0.99993478,\n",
       "       0.99993775, 0.99994055, 0.99994314, 0.99994558, 0.99994797,\n",
       "       0.99995032, 0.99995252, 0.99995465, 0.99995665, 0.99995861,\n",
       "       0.99996056, 0.99996243, 0.99996422, 0.99996588, 0.99996749,\n",
       "       0.99996897, 0.99997041, 0.99997183, 0.99997314, 0.99997438,\n",
       "       0.99997562, 0.99997682, 0.99997801, 0.99997912, 0.99998021,\n",
       "       0.99998117, 0.99998208, 0.99998295, 0.99998381, 0.9999846 ,\n",
       "       0.99998538, 0.99998612, 0.99998686, 0.99998757, 0.99998825,\n",
       "       0.9999889 , 0.99998952, 0.99999012, 0.99999071, 0.99999129,\n",
       "       0.99999184, 0.99999238, 0.99999288, 0.99999336, 0.99999382,\n",
       "       0.99999427, 0.99999471, 0.99999515, 0.99999555, 0.99999594,\n",
       "       0.99999631, 0.99999666, 0.99999699, 0.99999729, 0.99999759,\n",
       "       0.99999788, 0.99999814, 0.99999838, 0.99999861, 0.99999881,\n",
       "       0.99999898, 0.99999914, 0.99999925, 0.99999931, 0.99999935,\n",
       "       0.99999939, 0.99999943, 0.99999946, 0.99999949, 0.99999951,\n",
       "       0.99999953, 0.99999955, 0.99999957, 0.99999959, 0.99999961,\n",
       "       0.99999962, 0.99999964, 0.99999965, 0.99999967, 0.99999968,\n",
       "       0.99999969, 0.9999997 , 0.99999972, 0.99999973, 0.99999974,\n",
       "       0.99999975, 0.99999976, 0.99999977, 0.99999978, 0.99999979,\n",
       "       0.9999998 , 0.9999998 , 0.99999981, 0.99999982, 0.99999983,\n",
       "       0.99999983, 0.99999984, 0.99999985, 0.99999985, 0.99999986,\n",
       "       0.99999986, 0.99999987, 0.99999987, 0.99999988, 0.99999988,\n",
       "       0.99999989, 0.99999989, 0.99999989, 0.9999999 , 0.9999999 ,\n",
       "       0.99999991, 0.99999991, 0.99999991, 0.99999992, 0.99999992,\n",
       "       0.99999992, 0.99999993, 0.99999993, 0.99999993, 0.99999994,\n",
       "       0.99999994, 0.99999994, 0.99999994, 0.99999995, 0.99999995,\n",
       "       0.99999995, 0.99999995, 0.99999996, 0.99999996, 0.99999996,\n",
       "       0.99999996, 0.99999996, 0.99999997, 0.99999997, 0.99999997,\n",
       "       0.99999997, 0.99999997, 0.99999998, 0.99999998, 0.99999998,\n",
       "       0.99999998, 0.99999998, 0.99999998, 0.99999998, 0.99999999,\n",
       "       0.99999999, 0.99999999, 0.99999999, 0.99999999, 0.99999999,\n",
       "       0.99999999, 0.99999999, 0.99999999, 1.        , 1.        ,\n",
       "       1.        , 1.        , 1.        , 1.        , 1.        ,\n",
       "       1.        , 1.        , 1.        , 1.        , 1.        ,\n",
       "       1.        , 1.        , 1.        , 1.        , 1.        ,\n",
       "       1.        , 1.        , 1.        , 1.        , 1.        ,\n",
       "       1.        , 1.        , 1.        , 1.        , 1.        ,\n",
       "       1.        ])"
      ]
     },
     "execution_count": 39,
     "metadata": {},
     "output_type": "execute_result"
    }
   ],
   "source": [
    "pca_all_cum_var = np.cumsum(pca_all_components.explained_variance_ratio_)\n",
    "pca_all_cum_var"
   ]
  },
  {
   "cell_type": "code",
   "execution_count": 56,
   "id": "4c00567d",
   "metadata": {},
   "outputs": [
    {
     "data": {
      "image/png": "[encoded data removed]",
      "text/plain": [
       "<Figure size 432x288 with 1 Axes>"
      ]
     },
     "metadata": {
      "needs_background": "light"
     },
     "output_type": "display_data"
    }
   ],
   "source": [
    "plt.bar(range(0, 561), pca_all_exp_var_ratio)\n",
    "plt.step(range(0, 561), pca_all_cum_var)\n",
    "plt.axhline(y=0.9, c='r')\n",
    "plt.title('PCA Components capturing 90% of Variance')\n",
    "plt.show()"
   ]
  },
  {
   "cell_type": "code",
   "execution_count": 52,
   "id": "979ce82c",
   "metadata": {},
   "outputs": [
    {
     "data": {
      "text/plain": [
       "64"
      ]
     },
     "execution_count": 52,
     "metadata": {},
     "output_type": "execute_result"
    }
   ],
   "source": [
    "# Total number of PCA components which capture 90% of variance are \n",
    "pca_element_90 = len([val for val in pca_all_cum_var if val<0.9])+1\n",
    "pca_element_90"
   ]
  },
  {
   "cell_type": "code",
   "execution_count": 55,
   "id": "507ae54f",
   "metadata": {},
   "outputs": [
    {
     "data": {
      "image/png": "[encoded data removed]",
      "text/plain": [
       "<Figure size 432x288 with 1 Axes>"
      ]
     },
     "metadata": {
      "needs_background": "light"
     },
     "output_type": "display_data"
    }
   ],
   "source": [
    "plt.bar(range(0, 561), pca_all_components.explained_variance_ratio_)\n",
    "plt.axvline(x=64, c='r')\n",
    "plt.title('PCA Components capturing 90% of Variance')\n",
    "plt.show()"
   ]
  },
  {
   "cell_type": "code",
   "execution_count": 58,
   "id": "cfe78f90",
   "metadata": {},
   "outputs": [
    {
     "name": "stdout",
     "output_type": "stream",
     "text": [
      "Top 5 Eigen Values are [285.16326526  36.38664143  15.48980147  13.2842053   10.62502912]\n",
      "Top 5 Eigen Vectors in a DataFrame format are\n"
     ]
    },
    {
     "data": {
      "text/html": [
       "<div>\n",
       "<style scoped>\n",
       "    .dataframe tbody tr th:only-of-type {\n",
       "        vertical-align: middle;\n",
       "    }\n",
       "\n",
       "    .dataframe tbody tr th {\n",
       "        vertical-align: top;\n",
       "    }\n",
       "\n",
       "    .dataframe thead th {\n",
       "        text-align: right;\n",
       "    }\n",
       "</style>\n",
       "<table border=\"1\" class=\"dataframe\">\n",
       "  <thead>\n",
       "    <tr style=\"text-align: right;\">\n",
       "      <th></th>\n",
       "      <th>0</th>\n",
       "      <th>1</th>\n",
       "      <th>2</th>\n",
       "      <th>3</th>\n",
       "      <th>4</th>\n",
       "      <th>5</th>\n",
       "      <th>6</th>\n",
       "      <th>7</th>\n",
       "      <th>8</th>\n",
       "      <th>9</th>\n",
       "      <th>...</th>\n",
       "      <th>551</th>\n",
       "      <th>552</th>\n",
       "      <th>553</th>\n",
       "      <th>554</th>\n",
       "      <th>555</th>\n",
       "      <th>556</th>\n",
       "      <th>557</th>\n",
       "      <th>558</th>\n",
       "      <th>559</th>\n",
       "      <th>560</th>\n",
       "    </tr>\n",
       "  </thead>\n",
       "  <tbody>\n",
       "    <tr>\n",
       "      <th>0</th>\n",
       "      <td>0.001516</td>\n",
       "      <td>-0.002813</td>\n",
       "      <td>-0.002140</td>\n",
       "      <td>0.056441</td>\n",
       "      <td>0.056661</td>\n",
       "      <td>0.054365</td>\n",
       "      <td>0.056251</td>\n",
       "      <td>0.056218</td>\n",
       "      <td>0.053901</td>\n",
       "      <td>0.055977</td>\n",
       "      <td>...</td>\n",
       "      <td>-0.006591</td>\n",
       "      <td>0.013131</td>\n",
       "      <td>0.010785</td>\n",
       "      <td>-0.002662</td>\n",
       "      <td>0.000382</td>\n",
       "      <td>0.002961</td>\n",
       "      <td>-0.001480</td>\n",
       "      <td>-0.023075</td>\n",
       "      <td>0.028502</td>\n",
       "      <td>0.025697</td>\n",
       "    </tr>\n",
       "    <tr>\n",
       "      <th>1</th>\n",
       "      <td>0.019791</td>\n",
       "      <td>-0.003365</td>\n",
       "      <td>-0.007227</td>\n",
       "      <td>-0.010978</td>\n",
       "      <td>-0.024923</td>\n",
       "      <td>-0.031867</td>\n",
       "      <td>-0.009755</td>\n",
       "      <td>-0.027191</td>\n",
       "      <td>-0.035824</td>\n",
       "      <td>-0.010436</td>\n",
       "      <td>...</td>\n",
       "      <td>0.065719</td>\n",
       "      <td>-0.015745</td>\n",
       "      <td>-0.012720</td>\n",
       "      <td>-0.009962</td>\n",
       "      <td>0.001759</td>\n",
       "      <td>0.009585</td>\n",
       "      <td>-0.007254</td>\n",
       "      <td>0.026923</td>\n",
       "      <td>-0.040656</td>\n",
       "      <td>-0.020763</td>\n",
       "    </tr>\n",
       "    <tr>\n",
       "      <th>2</th>\n",
       "      <td>-0.028053</td>\n",
       "      <td>0.007893</td>\n",
       "      <td>0.021965</td>\n",
       "      <td>-0.021439</td>\n",
       "      <td>-0.025637</td>\n",
       "      <td>0.030606</td>\n",
       "      <td>-0.021984</td>\n",
       "      <td>-0.025325</td>\n",
       "      <td>0.028078</td>\n",
       "      <td>-0.024309</td>\n",
       "      <td>...</td>\n",
       "      <td>0.006651</td>\n",
       "      <td>-0.039334</td>\n",
       "      <td>-0.040939</td>\n",
       "      <td>0.005064</td>\n",
       "      <td>0.006970</td>\n",
       "      <td>-0.003840</td>\n",
       "      <td>0.002310</td>\n",
       "      <td>0.093582</td>\n",
       "      <td>-0.069513</td>\n",
       "      <td>-0.060519</td>\n",
       "    </tr>\n",
       "    <tr>\n",
       "      <th>3</th>\n",
       "      <td>0.015890</td>\n",
       "      <td>0.004753</td>\n",
       "      <td>-0.006829</td>\n",
       "      <td>-0.041538</td>\n",
       "      <td>-0.019689</td>\n",
       "      <td>0.041836</td>\n",
       "      <td>-0.043635</td>\n",
       "      <td>-0.019380</td>\n",
       "      <td>0.040158</td>\n",
       "      <td>-0.031269</td>\n",
       "      <td>...</td>\n",
       "      <td>-0.016109</td>\n",
       "      <td>0.003816</td>\n",
       "      <td>0.002407</td>\n",
       "      <td>0.003834</td>\n",
       "      <td>-0.004012</td>\n",
       "      <td>-0.007171</td>\n",
       "      <td>-0.001043</td>\n",
       "      <td>-0.130546</td>\n",
       "      <td>0.111795</td>\n",
       "      <td>0.150911</td>\n",
       "    </tr>\n",
       "    <tr>\n",
       "      <th>4</th>\n",
       "      <td>0.004089</td>\n",
       "      <td>0.010575</td>\n",
       "      <td>0.003937</td>\n",
       "      <td>0.005326</td>\n",
       "      <td>-0.008085</td>\n",
       "      <td>-0.050135</td>\n",
       "      <td>0.006092</td>\n",
       "      <td>-0.008217</td>\n",
       "      <td>-0.050538</td>\n",
       "      <td>0.001745</td>\n",
       "      <td>...</td>\n",
       "      <td>-0.033115</td>\n",
       "      <td>-0.028779</td>\n",
       "      <td>-0.028135</td>\n",
       "      <td>-0.001022</td>\n",
       "      <td>-0.003293</td>\n",
       "      <td>0.018993</td>\n",
       "      <td>-0.010434</td>\n",
       "      <td>-0.165616</td>\n",
       "      <td>0.127718</td>\n",
       "      <td>0.065370</td>\n",
       "    </tr>\n",
       "  </tbody>\n",
       "</table>\n",
       "<p>5 rows × 561 columns</p>\n",
       "</div>"
      ],
      "text/plain": [
       "        0         1         2         3         4         5         6    \\\n",
       "0  0.001516 -0.002813 -0.002140  0.056441  0.056661  0.054365  0.056251   \n",
       "1  0.019791 -0.003365 -0.007227 -0.010978 -0.024923 -0.031867 -0.009755   \n",
       "2 -0.028053  0.007893  0.021965 -0.021439 -0.025637  0.030606 -0.021984   \n",
       "3  0.015890  0.004753 -0.006829 -0.041538 -0.019689  0.041836 -0.043635   \n",
       "4  0.004089  0.010575  0.003937  0.005326 -0.008085 -0.050135  0.006092   \n",
       "\n",
       "        7         8         9    ...       551       552       553       554  \\\n",
       "0  0.056218  0.053901  0.055977  ... -0.006591  0.013131  0.010785 -0.002662   \n",
       "1 -0.027191 -0.035824 -0.010436  ...  0.065719 -0.015745 -0.012720 -0.009962   \n",
       "2 -0.025325  0.028078 -0.024309  ...  0.006651 -0.039334 -0.040939  0.005064   \n",
       "3 -0.019380  0.040158 -0.031269  ... -0.016109  0.003816  0.002407  0.003834   \n",
       "4 -0.008217 -0.050538  0.001745  ... -0.033115 -0.028779 -0.028135 -0.001022   \n",
       "\n",
       "        555       556       557       558       559       560  \n",
       "0  0.000382  0.002961 -0.001480 -0.023075  0.028502  0.025697  \n",
       "1  0.001759  0.009585 -0.007254  0.026923 -0.040656 -0.020763  \n",
       "2  0.006970 -0.003840  0.002310  0.093582 -0.069513 -0.060519  \n",
       "3 -0.004012 -0.007171 -0.001043 -0.130546  0.111795  0.150911  \n",
       "4 -0.003293  0.018993 -0.010434 -0.165616  0.127718  0.065370  \n",
       "\n",
       "[5 rows x 561 columns]"
      ]
     },
     "execution_count": 58,
     "metadata": {},
     "output_type": "execute_result"
    }
   ],
   "source": [
    "print(f'''Top 5 Eigen Values are {pca_all_components.explained_variance_[:5]}\n",
    "Top 5 Eigen Vectors in a DataFrame format are''')\n",
    "pd.DataFrame(pca_all_components.components_[0:5, :])"
   ]
  },
  {
   "cell_type": "code",
   "execution_count": null,
   "id": "ab38fa13",
   "metadata": {},
   "outputs": [],
   "source": []
  },
  {
   "cell_type": "markdown",
   "id": "1adb8204",
   "metadata": {},
   "source": [
    "### Build Model with reduced 90% PCA features"
   ]
  },
  {
   "cell_type": "code",
   "execution_count": 61,
   "id": "6db899f5",
   "metadata": {},
   "outputs": [
    {
     "data": {
      "text/plain": [
       "array([[-15.14315696,   3.22521619,  -1.65697317, ...,  -0.31402911,\n",
       "         -1.44276869,   0.84684052],\n",
       "       [-14.54146473,   3.28215465,  -2.68457234, ...,  -0.65510445,\n",
       "          0.63108999,  -0.29768751],\n",
       "       [-16.22468416,   8.365524  ,  -3.46774537, ...,   0.37205617,\n",
       "         -1.39786479,   0.46831594],\n",
       "       ...,\n",
       "       [  8.67705607,  -6.40373054,  -0.7727696 , ...,  -0.92182011,\n",
       "          1.54210735,  -0.17536778],\n",
       "       [  7.72533318,  -6.59653728,   0.43366082, ...,  -0.41507613,\n",
       "          0.4883426 ,  -0.4606211 ],\n",
       "       [ 15.63341286,   1.12243787,  -3.06517237, ...,   0.2393861 ,\n",
       "          1.66846203,   0.80796208]])"
      ]
     },
     "execution_count": 61,
     "metadata": {},
     "output_type": "execute_result"
    }
   ],
   "source": [
    "X_pca_90 = X_pca_all_components[:, :pca_element_90]\n",
    "X_pca_90"
   ]
  },
  {
   "cell_type": "code",
   "execution_count": 62,
   "id": "eab99eb1",
   "metadata": {},
   "outputs": [
    {
     "data": {
      "text/plain": [
       "(3609, 64)"
      ]
     },
     "execution_count": 62,
     "metadata": {},
     "output_type": "execute_result"
    }
   ],
   "source": [
    "X_pca_90.shape"
   ]
  },
  {
   "cell_type": "code",
   "execution_count": 63,
   "id": "284a8fc6",
   "metadata": {},
   "outputs": [
    {
     "name": "stdout",
     "output_type": "stream",
     "text": [
      "1825614.6046238523\n",
      "957465.5128645089\n",
      "828139.0013121429\n",
      "776343.1642452391\n",
      "725986.2693136818\n",
      "697525.8333164693\n",
      "676870.2276223833\n",
      "662008.6162994205\n",
      "645731.3634017607\n"
     ]
    },
    {
     "data": {
      "text/plain": [
       "[<matplotlib.lines.Line2D at 0x2b9bc1c1ee0>]"
      ]
     },
     "execution_count": 63,
     "metadata": {},
     "output_type": "execute_result"
    },
    {
     "data": {
      "image/png": "[encoded data removed]",
      "text/plain": [
       "<Figure size 432x288 with 1 Axes>"
      ]
     },
     "metadata": {
      "needs_background": "light"
     },
     "output_type": "display_data"
    }
   ],
   "source": [
    "# K-Means Clustering\n",
    "cl = np.arange(1, 10)\n",
    "wcss = []\n",
    "for k in cl:\n",
    "    mod_kmeans_trial = KMeans(n_clusters=k)\n",
    "    mod_kmeans_trial.fit(X_pca_90)\n",
    "    print(mod_kmeans_trial.inertia_)\n",
    "    wcss.append(mod_kmeans_trial.inertia_)\n",
    "    \n",
    "plt.plot(cl, wcss)"
   ]
  },
  {
   "cell_type": "code",
   "execution_count": 64,
   "id": "ec604086",
   "metadata": {},
   "outputs": [
    {
     "name": "stdout",
     "output_type": "stream",
     "text": [
      "Looking at the above elbow curve its good to have 2 or 3 clusters\n"
     ]
    }
   ],
   "source": [
    "print('Looking at the above elbow curve its good to have 2 or 3 clusters')"
   ]
  },
  {
   "cell_type": "code",
   "execution_count": 65,
   "id": "c5f3ea7a",
   "metadata": {},
   "outputs": [
    {
     "name": "stdout",
     "output_type": "stream",
     "text": [
      "0.43150371724644393\n",
      "0.35784307918675307\n",
      "0.19155346032614376\n",
      "0.167429869765784\n",
      "0.14282550012992734\n",
      "0.11331074958791688\n",
      "0.10793947021101309\n",
      "0.10445963543062448\n"
     ]
    },
    {
     "data": {
      "text/plain": [
       "<BarContainer object of 8 artists>"
      ]
     },
     "execution_count": 65,
     "metadata": {},
     "output_type": "execute_result"
    },
    {
     "data": {
      "image/png": "[encoded data removed]",
      "text/plain": [
       "<Figure size 432x288 with 1 Axes>"
      ]
     },
     "metadata": {
      "needs_background": "light"
     },
     "output_type": "display_data"
    }
   ],
   "source": [
    "sil_scores = []\n",
    "cl = np.arange(2, 10)\n",
    "for k in cl:\n",
    "    mod_kmeans_trial = KMeans(n_clusters=k)\n",
    "    mod_kmeans_trial.fit(X_pca_90)\n",
    "    sil_score = silhouette_score(X_pca_90, mod_kmeans_trial.labels_)\n",
    "    print(sil_score)\n",
    "    sil_scores.append(sil_score)\n",
    "    \n",
    "plt.bar(cl, sil_scores)"
   ]
  },
  {
   "cell_type": "code",
   "execution_count": 67,
   "id": "ee352fa5",
   "metadata": {},
   "outputs": [
    {
     "name": "stdout",
     "output_type": "stream",
     "text": [
      "Silhouette Score is highest for k=2 clusters\n",
      "It may be because all the activiites listed in the dataset can be categorized as standing position or sitting position activities\n"
     ]
    }
   ],
   "source": [
    "print('''Silhouette Score is highest for k=2 clusters\n",
    "It may be because all the activiites listed in the dataset can be categorized as standing position or sitting position activities''')"
   ]
  },
  {
   "cell_type": "code",
   "execution_count": 68,
   "id": "fdd58d90",
   "metadata": {},
   "outputs": [
    {
     "data": {
      "text/plain": [
       "KMeans(n_clusters=2)"
      ]
     },
     "execution_count": 68,
     "metadata": {},
     "output_type": "execute_result"
    }
   ],
   "source": [
    "mod_kmeans_2 = KMeans(n_clusters=2)\n",
    "mod_kmeans_2.fit(X_pca_90)"
   ]
  },
  {
   "cell_type": "code",
   "execution_count": 69,
   "id": "0e45e595",
   "metadata": {},
   "outputs": [
    {
     "data": {
      "text/html": [
       "<div>\n",
       "<style scoped>\n",
       "    .dataframe tbody tr th:only-of-type {\n",
       "        vertical-align: middle;\n",
       "    }\n",
       "\n",
       "    .dataframe tbody tr th {\n",
       "        vertical-align: top;\n",
       "    }\n",
       "\n",
       "    .dataframe thead th {\n",
       "        text-align: right;\n",
       "    }\n",
       "</style>\n",
       "<table border=\"1\" class=\"dataframe\">\n",
       "  <thead>\n",
       "    <tr style=\"text-align: right;\">\n",
       "      <th></th>\n",
       "      <th>tBodyAcc.mean.X</th>\n",
       "      <th>tBodyAcc.mean.Y</th>\n",
       "      <th>tBodyAcc.mean.Z</th>\n",
       "      <th>tBodyAcc.std.X</th>\n",
       "      <th>tBodyAcc.std.Y</th>\n",
       "      <th>tBodyAcc.std.Z</th>\n",
       "      <th>tBodyAcc.mad.X</th>\n",
       "      <th>tBodyAcc.mad.Y</th>\n",
       "      <th>tBodyAcc.mad.Z</th>\n",
       "      <th>tBodyAcc.max.X</th>\n",
       "      <th>...</th>\n",
       "      <th>fBodyBodyGyroJerkMag.meanFreq</th>\n",
       "      <th>fBodyBodyGyroJerkMag.skewness</th>\n",
       "      <th>fBodyBodyGyroJerkMag.kurtosis</th>\n",
       "      <th>angle.tBodyAccMean.gravity</th>\n",
       "      <th>angle.tBodyAccJerkMean.gravityMean</th>\n",
       "      <th>angle.tBodyGyroMean.gravityMean</th>\n",
       "      <th>angle.tBodyGyroJerkMean.gravityMean</th>\n",
       "      <th>angle.X.gravityMean</th>\n",
       "      <th>angle.Y.gravityMean</th>\n",
       "      <th>angle.Z.gravityMean</th>\n",
       "    </tr>\n",
       "  </thead>\n",
       "  <tbody>\n",
       "    <tr>\n",
       "      <th>0</th>\n",
       "      <td>0.279</td>\n",
       "      <td>-0.0196</td>\n",
       "      <td>-0.110</td>\n",
       "      <td>-0.997</td>\n",
       "      <td>-0.967</td>\n",
       "      <td>-0.983</td>\n",
       "      <td>-0.997</td>\n",
       "      <td>-0.966</td>\n",
       "      <td>-0.983</td>\n",
       "      <td>-0.941</td>\n",
       "      <td>...</td>\n",
       "      <td>0.146</td>\n",
       "      <td>-0.217</td>\n",
       "      <td>-0.5640</td>\n",
       "      <td>-0.2130</td>\n",
       "      <td>-0.231</td>\n",
       "      <td>0.0146</td>\n",
       "      <td>-0.190</td>\n",
       "      <td>-0.852</td>\n",
       "      <td>0.182</td>\n",
       "      <td>-0.0430</td>\n",
       "    </tr>\n",
       "    <tr>\n",
       "      <th>1</th>\n",
       "      <td>0.277</td>\n",
       "      <td>-0.0127</td>\n",
       "      <td>-0.103</td>\n",
       "      <td>-0.995</td>\n",
       "      <td>-0.973</td>\n",
       "      <td>-0.985</td>\n",
       "      <td>-0.996</td>\n",
       "      <td>-0.974</td>\n",
       "      <td>-0.985</td>\n",
       "      <td>-0.940</td>\n",
       "      <td>...</td>\n",
       "      <td>0.121</td>\n",
       "      <td>0.349</td>\n",
       "      <td>0.0577</td>\n",
       "      <td>0.0807</td>\n",
       "      <td>0.596</td>\n",
       "      <td>-0.4760</td>\n",
       "      <td>0.116</td>\n",
       "      <td>-0.852</td>\n",
       "      <td>0.188</td>\n",
       "      <td>-0.0347</td>\n",
       "    </tr>\n",
       "  </tbody>\n",
       "</table>\n",
       "<p>2 rows × 561 columns</p>\n",
       "</div>"
      ],
      "text/plain": [
       "   tBodyAcc.mean.X  tBodyAcc.mean.Y  tBodyAcc.mean.Z  tBodyAcc.std.X  \\\n",
       "0            0.279          -0.0196           -0.110          -0.997   \n",
       "1            0.277          -0.0127           -0.103          -0.995   \n",
       "\n",
       "   tBodyAcc.std.Y  tBodyAcc.std.Z  tBodyAcc.mad.X  tBodyAcc.mad.Y  \\\n",
       "0          -0.967          -0.983          -0.997          -0.966   \n",
       "1          -0.973          -0.985          -0.996          -0.974   \n",
       "\n",
       "   tBodyAcc.mad.Z  tBodyAcc.max.X  ...  fBodyBodyGyroJerkMag.meanFreq  \\\n",
       "0          -0.983          -0.941  ...                          0.146   \n",
       "1          -0.985          -0.940  ...                          0.121   \n",
       "\n",
       "   fBodyBodyGyroJerkMag.skewness  fBodyBodyGyroJerkMag.kurtosis  \\\n",
       "0                         -0.217                        -0.5640   \n",
       "1                          0.349                         0.0577   \n",
       "\n",
       "   angle.tBodyAccMean.gravity  angle.tBodyAccJerkMean.gravityMean  \\\n",
       "0                     -0.2130                              -0.231   \n",
       "1                      0.0807                               0.596   \n",
       "\n",
       "   angle.tBodyGyroMean.gravityMean  angle.tBodyGyroJerkMean.gravityMean  \\\n",
       "0                           0.0146                               -0.190   \n",
       "1                          -0.4760                                0.116   \n",
       "\n",
       "   angle.X.gravityMean  angle.Y.gravityMean  angle.Z.gravityMean  \n",
       "0               -0.852                0.182              -0.0430  \n",
       "1               -0.852                0.188              -0.0347  \n",
       "\n",
       "[2 rows x 561 columns]"
      ]
     },
     "execution_count": 69,
     "metadata": {},
     "output_type": "execute_result"
    }
   ],
   "source": [
    "X_2 = X.copy()\n",
    "X_2.head(2)"
   ]
  },
  {
   "cell_type": "code",
   "execution_count": 70,
   "id": "61182037",
   "metadata": {},
   "outputs": [],
   "source": [
    "X_2['Cluster_ID_2'] = mod_kmeans_2.labels_"
   ]
  },
  {
   "cell_type": "code",
   "execution_count": 71,
   "id": "74d1ff10",
   "metadata": {},
   "outputs": [
    {
     "data": {
      "text/html": [
       "<div>\n",
       "<style scoped>\n",
       "    .dataframe tbody tr th:only-of-type {\n",
       "        vertical-align: middle;\n",
       "    }\n",
       "\n",
       "    .dataframe tbody tr th {\n",
       "        vertical-align: top;\n",
       "    }\n",
       "\n",
       "    .dataframe thead th {\n",
       "        text-align: right;\n",
       "    }\n",
       "</style>\n",
       "<table border=\"1\" class=\"dataframe\">\n",
       "  <thead>\n",
       "    <tr style=\"text-align: right;\">\n",
       "      <th></th>\n",
       "      <th>tBodyAcc.mean.X</th>\n",
       "      <th>tBodyAcc.mean.Y</th>\n",
       "      <th>tBodyAcc.mean.Z</th>\n",
       "      <th>tBodyAcc.std.X</th>\n",
       "      <th>tBodyAcc.std.Y</th>\n",
       "      <th>tBodyAcc.std.Z</th>\n",
       "      <th>tBodyAcc.mad.X</th>\n",
       "      <th>tBodyAcc.mad.Y</th>\n",
       "      <th>tBodyAcc.mad.Z</th>\n",
       "      <th>tBodyAcc.max.X</th>\n",
       "      <th>...</th>\n",
       "      <th>fBodyBodyGyroJerkMag.skewness</th>\n",
       "      <th>fBodyBodyGyroJerkMag.kurtosis</th>\n",
       "      <th>angle.tBodyAccMean.gravity</th>\n",
       "      <th>angle.tBodyAccJerkMean.gravityMean</th>\n",
       "      <th>angle.tBodyGyroMean.gravityMean</th>\n",
       "      <th>angle.tBodyGyroJerkMean.gravityMean</th>\n",
       "      <th>angle.X.gravityMean</th>\n",
       "      <th>angle.Y.gravityMean</th>\n",
       "      <th>angle.Z.gravityMean</th>\n",
       "      <th>Cluster_ID_2</th>\n",
       "    </tr>\n",
       "  </thead>\n",
       "  <tbody>\n",
       "    <tr>\n",
       "      <th>0</th>\n",
       "      <td>0.279</td>\n",
       "      <td>-0.0196</td>\n",
       "      <td>-0.110</td>\n",
       "      <td>-0.997</td>\n",
       "      <td>-0.967</td>\n",
       "      <td>-0.983</td>\n",
       "      <td>-0.997</td>\n",
       "      <td>-0.966</td>\n",
       "      <td>-0.983</td>\n",
       "      <td>-0.941</td>\n",
       "      <td>...</td>\n",
       "      <td>-0.217</td>\n",
       "      <td>-0.5640</td>\n",
       "      <td>-0.2130</td>\n",
       "      <td>-0.231</td>\n",
       "      <td>0.0146</td>\n",
       "      <td>-0.190</td>\n",
       "      <td>-0.852</td>\n",
       "      <td>0.182</td>\n",
       "      <td>-0.0430</td>\n",
       "      <td>0</td>\n",
       "    </tr>\n",
       "    <tr>\n",
       "      <th>1</th>\n",
       "      <td>0.277</td>\n",
       "      <td>-0.0127</td>\n",
       "      <td>-0.103</td>\n",
       "      <td>-0.995</td>\n",
       "      <td>-0.973</td>\n",
       "      <td>-0.985</td>\n",
       "      <td>-0.996</td>\n",
       "      <td>-0.974</td>\n",
       "      <td>-0.985</td>\n",
       "      <td>-0.940</td>\n",
       "      <td>...</td>\n",
       "      <td>0.349</td>\n",
       "      <td>0.0577</td>\n",
       "      <td>0.0807</td>\n",
       "      <td>0.596</td>\n",
       "      <td>-0.4760</td>\n",
       "      <td>0.116</td>\n",
       "      <td>-0.852</td>\n",
       "      <td>0.188</td>\n",
       "      <td>-0.0347</td>\n",
       "      <td>0</td>\n",
       "    </tr>\n",
       "  </tbody>\n",
       "</table>\n",
       "<p>2 rows × 562 columns</p>\n",
       "</div>"
      ],
      "text/plain": [
       "   tBodyAcc.mean.X  tBodyAcc.mean.Y  tBodyAcc.mean.Z  tBodyAcc.std.X  \\\n",
       "0            0.279          -0.0196           -0.110          -0.997   \n",
       "1            0.277          -0.0127           -0.103          -0.995   \n",
       "\n",
       "   tBodyAcc.std.Y  tBodyAcc.std.Z  tBodyAcc.mad.X  tBodyAcc.mad.Y  \\\n",
       "0          -0.967          -0.983          -0.997          -0.966   \n",
       "1          -0.973          -0.985          -0.996          -0.974   \n",
       "\n",
       "   tBodyAcc.mad.Z  tBodyAcc.max.X  ...  fBodyBodyGyroJerkMag.skewness  \\\n",
       "0          -0.983          -0.941  ...                         -0.217   \n",
       "1          -0.985          -0.940  ...                          0.349   \n",
       "\n",
       "   fBodyBodyGyroJerkMag.kurtosis  angle.tBodyAccMean.gravity  \\\n",
       "0                        -0.5640                     -0.2130   \n",
       "1                         0.0577                      0.0807   \n",
       "\n",
       "   angle.tBodyAccJerkMean.gravityMean  angle.tBodyGyroMean.gravityMean  \\\n",
       "0                              -0.231                           0.0146   \n",
       "1                               0.596                          -0.4760   \n",
       "\n",
       "   angle.tBodyGyroJerkMean.gravityMean  angle.X.gravityMean  \\\n",
       "0                               -0.190               -0.852   \n",
       "1                                0.116               -0.852   \n",
       "\n",
       "   angle.Y.gravityMean  angle.Z.gravityMean  Cluster_ID_2  \n",
       "0                0.182              -0.0430             0  \n",
       "1                0.188              -0.0347             0  \n",
       "\n",
       "[2 rows x 562 columns]"
      ]
     },
     "execution_count": 71,
     "metadata": {},
     "output_type": "execute_result"
    }
   ],
   "source": [
    "X_2.head(2)"
   ]
  },
  {
   "cell_type": "code",
   "execution_count": 72,
   "id": "3412bcaf",
   "metadata": {},
   "outputs": [
    {
     "data": {
      "text/html": [
       "<div>\n",
       "<style scoped>\n",
       "    .dataframe tbody tr th:only-of-type {\n",
       "        vertical-align: middle;\n",
       "    }\n",
       "\n",
       "    .dataframe tbody tr th {\n",
       "        vertical-align: top;\n",
       "    }\n",
       "\n",
       "    .dataframe thead th {\n",
       "        text-align: right;\n",
       "    }\n",
       "</style>\n",
       "<table border=\"1\" class=\"dataframe\">\n",
       "  <thead>\n",
       "    <tr style=\"text-align: right;\">\n",
       "      <th></th>\n",
       "      <th>tBodyAcc.mean.X</th>\n",
       "      <th>tBodyAcc.mean.Y</th>\n",
       "      <th>tBodyAcc.mean.Z</th>\n",
       "      <th>tBodyAcc.std.X</th>\n",
       "      <th>tBodyAcc.std.Y</th>\n",
       "      <th>tBodyAcc.std.Z</th>\n",
       "      <th>tBodyAcc.mad.X</th>\n",
       "      <th>tBodyAcc.mad.Y</th>\n",
       "      <th>tBodyAcc.mad.Z</th>\n",
       "      <th>tBodyAcc.max.X</th>\n",
       "      <th>...</th>\n",
       "      <th>fBodyBodyGyroJerkMag.meanFreq</th>\n",
       "      <th>fBodyBodyGyroJerkMag.skewness</th>\n",
       "      <th>fBodyBodyGyroJerkMag.kurtosis</th>\n",
       "      <th>angle.tBodyAccMean.gravity</th>\n",
       "      <th>angle.tBodyAccJerkMean.gravityMean</th>\n",
       "      <th>angle.tBodyGyroMean.gravityMean</th>\n",
       "      <th>angle.tBodyGyroJerkMean.gravityMean</th>\n",
       "      <th>angle.X.gravityMean</th>\n",
       "      <th>angle.Y.gravityMean</th>\n",
       "      <th>angle.Z.gravityMean</th>\n",
       "    </tr>\n",
       "    <tr>\n",
       "      <th>Cluster_ID_2</th>\n",
       "      <th></th>\n",
       "      <th></th>\n",
       "      <th></th>\n",
       "      <th></th>\n",
       "      <th></th>\n",
       "      <th></th>\n",
       "      <th></th>\n",
       "      <th></th>\n",
       "      <th></th>\n",
       "      <th></th>\n",
       "      <th></th>\n",
       "      <th></th>\n",
       "      <th></th>\n",
       "      <th></th>\n",
       "      <th></th>\n",
       "      <th></th>\n",
       "      <th></th>\n",
       "      <th></th>\n",
       "      <th></th>\n",
       "      <th></th>\n",
       "      <th></th>\n",
       "    </tr>\n",
       "  </thead>\n",
       "  <tbody>\n",
       "    <tr>\n",
       "      <th>0</th>\n",
       "      <td>0.274024</td>\n",
       "      <td>-0.014786</td>\n",
       "      <td>-0.105973</td>\n",
       "      <td>-0.975449</td>\n",
       "      <td>-0.932559</td>\n",
       "      <td>-0.939567</td>\n",
       "      <td>-0.977907</td>\n",
       "      <td>-0.933295</td>\n",
       "      <td>-0.937660</td>\n",
       "      <td>-0.918094</td>\n",
       "      <td>...</td>\n",
       "      <td>0.145988</td>\n",
       "      <td>-0.358710</td>\n",
       "      <td>-0.667584</td>\n",
       "      <td>0.012013</td>\n",
       "      <td>0.013071</td>\n",
       "      <td>0.016952</td>\n",
       "      <td>-0.006441</td>\n",
       "      <td>-0.308710</td>\n",
       "      <td>-0.082409</td>\n",
       "      <td>-0.157104</td>\n",
       "    </tr>\n",
       "    <tr>\n",
       "      <th>1</th>\n",
       "      <td>0.275173</td>\n",
       "      <td>-0.020597</td>\n",
       "      <td>-0.113093</td>\n",
       "      <td>-0.164379</td>\n",
       "      <td>0.009569</td>\n",
       "      <td>-0.221115</td>\n",
       "      <td>-0.219259</td>\n",
       "      <td>-0.023565</td>\n",
       "      <td>-0.226882</td>\n",
       "      <td>0.078767</td>\n",
       "      <td>...</td>\n",
       "      <td>0.108011</td>\n",
       "      <td>-0.230761</td>\n",
       "      <td>-0.561095</td>\n",
       "      <td>0.002173</td>\n",
       "      <td>0.005144</td>\n",
       "      <td>0.043987</td>\n",
       "      <td>-0.015703</td>\n",
       "      <td>-0.724788</td>\n",
       "      <td>0.232409</td>\n",
       "      <td>0.079155</td>\n",
       "    </tr>\n",
       "  </tbody>\n",
       "</table>\n",
       "<p>2 rows × 561 columns</p>\n",
       "</div>"
      ],
      "text/plain": [
       "              tBodyAcc.mean.X  tBodyAcc.mean.Y  tBodyAcc.mean.Z  \\\n",
       "Cluster_ID_2                                                      \n",
       "0                    0.274024        -0.014786        -0.105973   \n",
       "1                    0.275173        -0.020597        -0.113093   \n",
       "\n",
       "              tBodyAcc.std.X  tBodyAcc.std.Y  tBodyAcc.std.Z  tBodyAcc.mad.X  \\\n",
       "Cluster_ID_2                                                                   \n",
       "0                  -0.975449       -0.932559       -0.939567       -0.977907   \n",
       "1                  -0.164379        0.009569       -0.221115       -0.219259   \n",
       "\n",
       "              tBodyAcc.mad.Y  tBodyAcc.mad.Z  tBodyAcc.max.X  ...  \\\n",
       "Cluster_ID_2                                                  ...   \n",
       "0                  -0.933295       -0.937660       -0.918094  ...   \n",
       "1                  -0.023565       -0.226882        0.078767  ...   \n",
       "\n",
       "              fBodyBodyGyroJerkMag.meanFreq  fBodyBodyGyroJerkMag.skewness  \\\n",
       "Cluster_ID_2                                                                 \n",
       "0                                  0.145988                      -0.358710   \n",
       "1                                  0.108011                      -0.230761   \n",
       "\n",
       "              fBodyBodyGyroJerkMag.kurtosis  angle.tBodyAccMean.gravity  \\\n",
       "Cluster_ID_2                                                              \n",
       "0                                 -0.667584                    0.012013   \n",
       "1                                 -0.561095                    0.002173   \n",
       "\n",
       "              angle.tBodyAccJerkMean.gravityMean  \\\n",
       "Cluster_ID_2                                       \n",
       "0                                       0.013071   \n",
       "1                                       0.005144   \n",
       "\n",
       "              angle.tBodyGyroMean.gravityMean  \\\n",
       "Cluster_ID_2                                    \n",
       "0                                    0.016952   \n",
       "1                                    0.043987   \n",
       "\n",
       "              angle.tBodyGyroJerkMean.gravityMean  angle.X.gravityMean  \\\n",
       "Cluster_ID_2                                                             \n",
       "0                                       -0.006441            -0.308710   \n",
       "1                                       -0.015703            -0.724788   \n",
       "\n",
       "              angle.Y.gravityMean  angle.Z.gravityMean  \n",
       "Cluster_ID_2                                            \n",
       "0                       -0.082409            -0.157104  \n",
       "1                        0.232409             0.079155  \n",
       "\n",
       "[2 rows x 561 columns]"
      ]
     },
     "execution_count": 72,
     "metadata": {},
     "output_type": "execute_result"
    }
   ],
   "source": [
    "X_2.groupby(by='Cluster_ID_2').mean()"
   ]
  },
  {
   "cell_type": "code",
   "execution_count": 73,
   "id": "2450904b",
   "metadata": {},
   "outputs": [
    {
     "name": "stdout",
     "output_type": "stream",
     "text": [
      "tBodyAcc.mean.X centroids are not varying much between cluster 1 and 2, but other features like tBodyAcc.std.X, tBodyAcc.std.X etc have significance difference between cluster 1 and 2.\n"
     ]
    }
   ],
   "source": [
    "print('''tBodyAcc.mean.X centroids are not varying much between cluster 1 and 2, but other features like tBodyAcc.std.X, tBodyAcc.std.X etc have significance difference between cluster 1 and 2.''')"
   ]
  },
  {
   "cell_type": "code",
   "execution_count": 76,
   "id": "73b27248",
   "metadata": {},
   "outputs": [
    {
     "data": {
      "text/plain": [
       "<AxesSubplot:xlabel='Cluster_ID_2', ylabel='tBodyAcc.std.X'>"
      ]
     },
     "execution_count": 76,
     "metadata": {},
     "output_type": "execute_result"
    },
    {
     "data": {
      "image/png": "[encoded data removed]",
      "text/plain": [
       "<Figure size 432x288 with 1 Axes>"
      ]
     },
     "metadata": {
      "needs_background": "light"
     },
     "output_type": "display_data"
    }
   ],
   "source": [
    "sns.boxplot(data=X_2, y='tBodyAcc.std.X', x='Cluster_ID_2')"
   ]
  },
  {
   "cell_type": "markdown",
   "id": "7071ffc6",
   "metadata": {},
   "source": [
    "### Dendrogram"
   ]
  },
  {
   "cell_type": "code",
   "execution_count": 97,
   "id": "f8e1d9fe",
   "metadata": {},
   "outputs": [
    {
     "data": {
      "image/png": "[encoded data removed]",
      "text/plain": [
       "<Figure size 1080x2160 with 1 Axes>"
      ]
     },
     "metadata": {
      "needs_background": "light"
     },
     "output_type": "display_data"
    },
    {
     "data": {
      "image/png": "[encoded data removed]",
      "text/plain": [
       "<Figure size 1080x2160 with 1 Axes>"
      ]
     },
     "metadata": {
      "needs_background": "light"
     },
     "output_type": "display_data"
    },
    {
     "data": {
      "image/png": "[encoded data removed]",
      "text/plain": [
       "<Figure size 1080x2160 with 1 Axes>"
      ]
     },
     "metadata": {
      "needs_background": "light"
     },
     "output_type": "display_data"
    },
    {
     "data": {
      "image/png": "[encoded data removed]",
      "text/plain": [
       "<Figure size 1080x2160 with 1 Axes>"
      ]
     },
     "metadata": {
      "needs_background": "light"
     },
     "output_type": "display_data"
    },
    {
     "data": {
      "image/png": "[encoded data removed]",
      "text/plain": [
       "<Figure size 1080x2160 with 1 Axes>"
      ]
     },
     "metadata": {
      "needs_background": "light"
     },
     "output_type": "display_data"
    }
   ],
   "source": [
    "plt.rcParams[\"figure.figsize\"] = [15, 30]\n",
    "link_method_list = ['single', 'complete', 'average', 'weighted', 'ward']\n",
    "plt_num = 1\n",
    "for link_method in link_method_list:\n",
    "    plt.subplot(5,1,plt_num)\n",
    "    plt.title(link_method)\n",
    "    link = linkage(X_pca_90, method=link_method, metric='euclidean')\n",
    "    dendrogram(link, truncate_mode='lastp', p=100, leaf_rotation=90)\n",
    "    plt.show()\n",
    "    plt_num+=1"
   ]
  },
  {
   "cell_type": "code",
   "execution_count": 99,
   "id": "a383839b",
   "metadata": {},
   "outputs": [
    {
     "name": "stdout",
     "output_type": "stream",
     "text": [
      "\n",
      "Sigle linkage facing chaining effect\n",
      "Complete and average linkage having many discrete clusters, few clusters are small in size\n",
      "Ward linkage is optimum and weighted is also similar to Ward\n"
     ]
    }
   ],
   "source": [
    "print('''\n",
    "Sigle linkage facing chaining effect\n",
    "Complete and average linkage having many discrete clusters, few clusters are small in size\n",
    "Ward linkage is optimum and weighted is also similar to Ward''')"
   ]
  },
  {
   "cell_type": "markdown",
   "id": "45282ccd",
   "metadata": {},
   "source": [
    "### Cluster data into 5 groups"
   ]
  },
  {
   "cell_type": "code",
   "execution_count": 100,
   "id": "04f0da8b",
   "metadata": {},
   "outputs": [
    {
     "data": {
      "text/plain": [
       "KMeans(n_clusters=5)"
      ]
     },
     "execution_count": 100,
     "metadata": {},
     "output_type": "execute_result"
    }
   ],
   "source": [
    "mod_kmeans_5 = KMeans(n_clusters=5)\n",
    "mod_kmeans_5.fit(X_pca_90)"
   ]
  },
  {
   "cell_type": "code",
   "execution_count": 120,
   "id": "a5d137c4",
   "metadata": {},
   "outputs": [],
   "source": [
    "cent = pd.DataFrame(mod_kmeans_5.cluster_centers_)"
   ]
  },
  {
   "cell_type": "code",
   "execution_count": 106,
   "id": "dfea4ef2",
   "metadata": {},
   "outputs": [],
   "source": [
    "label = pd.DataFrame(mod_kmeans_5.labels_)"
   ]
  },
  {
   "cell_type": "code",
   "execution_count": 107,
   "id": "7ca6aa10",
   "metadata": {},
   "outputs": [],
   "source": [
    "X_pca_90_1 = X_pca_90.copy()\n",
    "X_pca_90_1 = pd.DataFrame(X_pca_90_1)"
   ]
  },
  {
   "cell_type": "code",
   "execution_count": 108,
   "id": "d3e27a7e",
   "metadata": {},
   "outputs": [],
   "source": [
    "X_pca_90_1['label'] = label"
   ]
  },
  {
   "cell_type": "code",
   "execution_count": 111,
   "id": "424d1ee6",
   "metadata": {},
   "outputs": [],
   "source": [
    "clust0 = X_pca_90_1[X_pca_90_1['label']==0]\n",
    "clust1 = X_pca_90_1[X_pca_90_1['label']==1]\n",
    "clust2 = X_pca_90_1[X_pca_90_1['label']==2]\n",
    "clust3 = X_pca_90_1[X_pca_90_1['label']==3]\n",
    "clust4 = X_pca_90_1[X_pca_90_1['label']==4]"
   ]
  },
  {
   "cell_type": "code",
   "execution_count": 114,
   "id": "91d1cb2f",
   "metadata": {},
   "outputs": [],
   "source": [
    "clust0_feat = clust0.iloc[:, :-1]\n",
    "clust1_feat = clust1.iloc[:, :-1]\n",
    "clust2_feat = clust2.iloc[:, :-1]\n",
    "clust3_feat = clust3.iloc[:, :-1]\n",
    "clust4_feat = clust4.iloc[:, :-1]"
   ]
  },
  {
   "cell_type": "code",
   "execution_count": 116,
   "id": "1143ebbd",
   "metadata": {},
   "outputs": [],
   "source": [
    "clust0_ar = np.array(clust0_feat)\n",
    "clust1_ar = np.array(clust1_feat)\n",
    "clust2_ar = np.array(clust2_feat)\n",
    "clust3_ar = np.array(clust3_feat)\n",
    "clust4_ar = np.array(clust4_feat)"
   ]
  },
  {
   "cell_type": "code",
   "execution_count": 121,
   "id": "51d337dc",
   "metadata": {},
   "outputs": [],
   "source": [
    "cent_ar = np.array(cent)"
   ]
  },
  {
   "cell_type": "code",
   "execution_count": 122,
   "id": "35743f60",
   "metadata": {},
   "outputs": [
    {
     "data": {
      "text/plain": [
       "(5, 64)"
      ]
     },
     "execution_count": 122,
     "metadata": {},
     "output_type": "execute_result"
    }
   ],
   "source": [
    "cent_ar.shape"
   ]
  },
  {
   "cell_type": "code",
   "execution_count": 123,
   "id": "3c2bf177",
   "metadata": {},
   "outputs": [
    {
     "data": {
      "text/plain": [
       "(1251, 64)"
      ]
     },
     "execution_count": 123,
     "metadata": {},
     "output_type": "execute_result"
    }
   ],
   "source": [
    "clust0_ar.shape"
   ]
  },
  {
   "cell_type": "code",
   "execution_count": 127,
   "id": "433d9421",
   "metadata": {},
   "outputs": [],
   "source": [
    "wcss0 = ((clust0_ar - cent_ar[0,:])**2).sum()\n",
    "wcss1 = ((clust1_ar - cent_ar[1,:])**2).sum()\n",
    "wcss2 = ((clust2_ar - cent_ar[2,:])**2).sum()\n",
    "wcss3 = ((clust3_ar - cent_ar[3,:])**2).sum()\n",
    "wcss4 = ((clust4_ar - cent_ar[4,:])**2).sum()"
   ]
  },
  {
   "cell_type": "code",
   "execution_count": 128,
   "id": "af375466",
   "metadata": {},
   "outputs": [],
   "source": [
    "wcss = np.array([wcss0, wcss1, wcss2, wcss3, wcss4 ])"
   ]
  },
  {
   "cell_type": "code",
   "execution_count": 129,
   "id": "d2bfd678",
   "metadata": {},
   "outputs": [
    {
     "data": {
      "text/plain": [
       "array([131492.29380694, 202995.88665654, 164205.22984221,  87034.28216636,\n",
       "       140248.62244952])"
      ]
     },
     "execution_count": 129,
     "metadata": {},
     "output_type": "execute_result"
    }
   ],
   "source": [
    "wcss"
   ]
  },
  {
   "cell_type": "code",
   "execution_count": 130,
   "id": "feafca92",
   "metadata": {},
   "outputs": [
    {
     "data": {
      "text/plain": [
       "array([3, 0, 4, 2, 1], dtype=int64)"
      ]
     },
     "execution_count": 130,
     "metadata": {},
     "output_type": "execute_result"
    }
   ],
   "source": [
    "np.argsort(wcss)"
   ]
  },
  {
   "cell_type": "code",
   "execution_count": 131,
   "id": "28f41937",
   "metadata": {},
   "outputs": [
    {
     "name": "stdout",
     "output_type": "stream",
     "text": [
      "\n",
      "Lesser the wcss, good the cluster quality\n",
      "Following are the order of clusters (Low WCSS to High WCSS)\n",
      "Cluster 3, cluster 0, Cluster 4, Cluster 2, Cluster 1\n"
     ]
    }
   ],
   "source": [
    "print('''\n",
    "Lesser the wcss, good the cluster quality\n",
    "Following are the order of clusters (Low WCSS to High WCSS)\n",
    "Cluster 3, cluster 0, Cluster 4, Cluster 2, Cluster 1''')"
   ]
  },
  {
   "cell_type": "markdown",
   "id": "4b149a73",
   "metadata": {},
   "source": [
    "### Building Models"
   ]
  },
  {
   "cell_type": "code",
   "execution_count": 132,
   "id": "01e28158",
   "metadata": {},
   "outputs": [
    {
     "data": {
      "text/html": [
       "<div>\n",
       "<style scoped>\n",
       "    .dataframe tbody tr th:only-of-type {\n",
       "        vertical-align: middle;\n",
       "    }\n",
       "\n",
       "    .dataframe tbody tr th {\n",
       "        vertical-align: top;\n",
       "    }\n",
       "\n",
       "    .dataframe thead th {\n",
       "        text-align: right;\n",
       "    }\n",
       "</style>\n",
       "<table border=\"1\" class=\"dataframe\">\n",
       "  <thead>\n",
       "    <tr style=\"text-align: right;\">\n",
       "      <th></th>\n",
       "      <th>tBodyAcc.mean.X</th>\n",
       "      <th>tBodyAcc.mean.Y</th>\n",
       "      <th>tBodyAcc.mean.Z</th>\n",
       "      <th>tBodyAcc.std.X</th>\n",
       "      <th>tBodyAcc.std.Y</th>\n",
       "      <th>tBodyAcc.std.Z</th>\n",
       "      <th>tBodyAcc.mad.X</th>\n",
       "      <th>tBodyAcc.mad.Y</th>\n",
       "      <th>tBodyAcc.mad.Z</th>\n",
       "      <th>tBodyAcc.max.X</th>\n",
       "      <th>...</th>\n",
       "      <th>fBodyBodyGyroJerkMag.meanFreq</th>\n",
       "      <th>fBodyBodyGyroJerkMag.skewness</th>\n",
       "      <th>fBodyBodyGyroJerkMag.kurtosis</th>\n",
       "      <th>angle.tBodyAccMean.gravity</th>\n",
       "      <th>angle.tBodyAccJerkMean.gravityMean</th>\n",
       "      <th>angle.tBodyGyroMean.gravityMean</th>\n",
       "      <th>angle.tBodyGyroJerkMean.gravityMean</th>\n",
       "      <th>angle.X.gravityMean</th>\n",
       "      <th>angle.Y.gravityMean</th>\n",
       "      <th>angle.Z.gravityMean</th>\n",
       "    </tr>\n",
       "  </thead>\n",
       "  <tbody>\n",
       "    <tr>\n",
       "      <th>0</th>\n",
       "      <td>0.070090</td>\n",
       "      <td>-0.051303</td>\n",
       "      <td>-0.014321</td>\n",
       "      <td>-0.884871</td>\n",
       "      <td>-0.918609</td>\n",
       "      <td>-0.922544</td>\n",
       "      <td>-0.877109</td>\n",
       "      <td>-0.915758</td>\n",
       "      <td>-0.929283</td>\n",
       "      <td>-0.877531</td>\n",
       "      <td>...</td>\n",
       "      <td>0.071576</td>\n",
       "      <td>0.263638</td>\n",
       "      <td>0.179717</td>\n",
       "      <td>-0.663934</td>\n",
       "      <td>-0.535708</td>\n",
       "      <td>-0.023772</td>\n",
       "      <td>-0.365489</td>\n",
       "      <td>-0.697128</td>\n",
       "      <td>0.391822</td>\n",
       "      <td>0.027291</td>\n",
       "    </tr>\n",
       "    <tr>\n",
       "      <th>1</th>\n",
       "      <td>0.038634</td>\n",
       "      <td>0.110734</td>\n",
       "      <td>0.110213</td>\n",
       "      <td>-0.880316</td>\n",
       "      <td>-0.930571</td>\n",
       "      <td>-0.927550</td>\n",
       "      <td>-0.874688</td>\n",
       "      <td>-0.932246</td>\n",
       "      <td>-0.934348</td>\n",
       "      <td>-0.875680</td>\n",
       "      <td>...</td>\n",
       "      <td>-0.032484</td>\n",
       "      <td>2.043967</td>\n",
       "      <td>2.196519</td>\n",
       "      <td>0.220164</td>\n",
       "      <td>1.306538</td>\n",
       "      <td>-0.823407</td>\n",
       "      <td>0.258032</td>\n",
       "      <td>-0.697128</td>\n",
       "      <td>0.411099</td>\n",
       "      <td>0.058742</td>\n",
       "    </tr>\n",
       "  </tbody>\n",
       "</table>\n",
       "<p>2 rows × 561 columns</p>\n",
       "</div>"
      ],
      "text/plain": [
       "   tBodyAcc.mean.X  tBodyAcc.mean.Y  tBodyAcc.mean.Z  tBodyAcc.std.X  \\\n",
       "0         0.070090        -0.051303        -0.014321       -0.884871   \n",
       "1         0.038634         0.110734         0.110213       -0.880316   \n",
       "\n",
       "   tBodyAcc.std.Y  tBodyAcc.std.Z  tBodyAcc.mad.X  tBodyAcc.mad.Y  \\\n",
       "0       -0.918609       -0.922544       -0.877109       -0.915758   \n",
       "1       -0.930571       -0.927550       -0.874688       -0.932246   \n",
       "\n",
       "   tBodyAcc.mad.Z  tBodyAcc.max.X  ...  fBodyBodyGyroJerkMag.meanFreq  \\\n",
       "0       -0.929283       -0.877531  ...                       0.071576   \n",
       "1       -0.934348       -0.875680  ...                      -0.032484   \n",
       "\n",
       "   fBodyBodyGyroJerkMag.skewness  fBodyBodyGyroJerkMag.kurtosis  \\\n",
       "0                       0.263638                       0.179717   \n",
       "1                       2.043967                       2.196519   \n",
       "\n",
       "   angle.tBodyAccMean.gravity  angle.tBodyAccJerkMean.gravityMean  \\\n",
       "0                   -0.663934                           -0.535708   \n",
       "1                    0.220164                            1.306538   \n",
       "\n",
       "   angle.tBodyGyroMean.gravityMean  angle.tBodyGyroJerkMean.gravityMean  \\\n",
       "0                        -0.023772                            -0.365489   \n",
       "1                        -0.823407                             0.258032   \n",
       "\n",
       "   angle.X.gravityMean  angle.Y.gravityMean  angle.Z.gravityMean  \n",
       "0            -0.697128             0.391822             0.027291  \n",
       "1            -0.697128             0.411099             0.058742  \n",
       "\n",
       "[2 rows x 561 columns]"
      ]
     },
     "execution_count": 132,
     "metadata": {},
     "output_type": "execute_result"
    }
   ],
   "source": [
    "X_sc.head(2)"
   ]
  },
  {
   "cell_type": "code",
   "execution_count": 133,
   "id": "3c544fab",
   "metadata": {},
   "outputs": [
    {
     "data": {
      "text/plain": [
       "LAYING                681\n",
       "STANDING              668\n",
       "SITTING               623\n",
       "WALKING               603\n",
       "WALKING_UPSTAIRS      541\n",
       "WALKING_DOWNSTAIRS    493\n",
       "Name: activity, dtype: int64"
      ]
     },
     "execution_count": 133,
     "metadata": {},
     "output_type": "execute_result"
    }
   ],
   "source": [
    "y.value_counts()"
   ]
  },
  {
   "cell_type": "code",
   "execution_count": 138,
   "id": "4b843e78",
   "metadata": {},
   "outputs": [
    {
     "name": "stdout",
     "output_type": "stream",
     "text": [
      "The number of input feature  561\n",
      "                    precision    recall  f1-score   support\n",
      "\n",
      "            LAYING       1.00      0.99      1.00       150\n",
      "           SITTING       0.92      0.96      0.94       126\n",
      "          STANDING       0.96      0.91      0.94       135\n",
      "           WALKING       0.98      0.96      0.97       127\n",
      "WALKING_DOWNSTAIRS       0.94      0.95      0.95        85\n",
      "  WALKING_UPSTAIRS       0.92      0.96      0.94        99\n",
      "\n",
      "          accuracy                           0.96       722\n",
      "         macro avg       0.95      0.96      0.96       722\n",
      "      weighted avg       0.96      0.96      0.96       722\n",
      "\n"
     ]
    }
   ],
   "source": [
    "xtrain,xtest,ytrain,ytest=train_test_split(X_sc, y,test_size=0.2)\n",
    "rf=RandomForestClassifier()\n",
    "rf.fit(xtrain,ytrain)\n",
    "ypred=rf.predict(xtest)\n",
    "print('The number of input feature ',xtrain.shape[1])\n",
    "print(classification_report(ytest,ypred))"
   ]
  },
  {
   "cell_type": "markdown",
   "id": "dd1d2613",
   "metadata": {},
   "source": [
    "##### PCA with 95% of Variance Captured"
   ]
  },
  {
   "cell_type": "code",
   "execution_count": 143,
   "id": "dd2e53af",
   "metadata": {},
   "outputs": [],
   "source": [
    "pca = PCA(n_components=X_sc.shape[1])\n",
    "pca_data = pca.fit_transform(X_sc)"
   ]
  },
  {
   "cell_type": "code",
   "execution_count": 144,
   "id": "10e01a8f",
   "metadata": {},
   "outputs": [],
   "source": [
    "exp_var_ratio = pca.explained_variance_ratio_\n",
    "exp_var_ratio.round(3)\n",
    "cum_var_ratio = np.cumsum(exp_var_ratio)"
   ]
  },
  {
   "cell_type": "code",
   "execution_count": 150,
   "id": "73374545",
   "metadata": {},
   "outputs": [
    {
     "data": {
      "text/plain": [
       "102"
      ]
     },
     "execution_count": 150,
     "metadata": {},
     "output_type": "execute_result"
    }
   ],
   "source": [
    "# Principle components caputuring 95% of Variance are\n",
    "itr = len([elem for elem in cum_var_ratio if elem<0.95])+1\n",
    "itr"
   ]
  },
  {
   "cell_type": "code",
   "execution_count": 151,
   "id": "c94ed07d",
   "metadata": {},
   "outputs": [
    {
     "name": "stdout",
     "output_type": "stream",
     "text": [
      "The number of input feature  102\n",
      "                    precision    recall  f1-score   support\n",
      "\n",
      "            LAYING       0.96      1.00      0.98       134\n",
      "           SITTING       0.89      0.79      0.84       129\n",
      "          STANDING       0.84      0.90      0.87       119\n",
      "           WALKING       0.94      0.94      0.94       126\n",
      "WALKING_DOWNSTAIRS       0.94      0.88      0.91       105\n",
      "  WALKING_UPSTAIRS       0.91      0.96      0.93       109\n",
      "\n",
      "          accuracy                           0.91       722\n",
      "         macro avg       0.91      0.91      0.91       722\n",
      "      weighted avg       0.91      0.91      0.91       722\n",
      "\n"
     ]
    }
   ],
   "source": [
    "xtrain,xtest,ytrain,ytest=train_test_split(pca_data[:, :102], y,test_size=0.2)\n",
    "rf=RandomForestClassifier()\n",
    "rf.fit(xtrain,ytrain)\n",
    "ypred=rf.predict(xtest)\n",
    "print('The number of input feature ',xtrain.shape[1])\n",
    "print(classification_report(ytest,ypred))"
   ]
  },
  {
   "cell_type": "markdown",
   "id": "73be859c",
   "metadata": {},
   "source": [
    "##### SVD with 95% of Variance Captured"
   ]
  },
  {
   "cell_type": "code",
   "execution_count": 155,
   "id": "2db5a24b",
   "metadata": {},
   "outputs": [],
   "source": [
    "svd = TruncatedSVD(n_components=X_sc.shape[1]-1)\n",
    "svd_data = svd.fit_transform(X_sc)"
   ]
  },
  {
   "cell_type": "code",
   "execution_count": 156,
   "id": "32b3c167",
   "metadata": {},
   "outputs": [],
   "source": [
    "exp_var_ratio = svd.explained_variance_ratio_\n",
    "exp_var_ratio.round(3)\n",
    "\n",
    "cum_var_ratio = np.cumsum(exp_var_ratio)"
   ]
  },
  {
   "cell_type": "code",
   "execution_count": 160,
   "id": "342a587d",
   "metadata": {},
   "outputs": [
    {
     "data": {
      "text/plain": [
       "102"
      ]
     },
     "execution_count": 160,
     "metadata": {},
     "output_type": "execute_result"
    }
   ],
   "source": [
    "itr = len([elem for elem in cum_var_ratio if elem<0.95])+1\n",
    "itr"
   ]
  },
  {
   "cell_type": "code",
   "execution_count": 161,
   "id": "8ebd3b55",
   "metadata": {},
   "outputs": [
    {
     "name": "stdout",
     "output_type": "stream",
     "text": [
      "The number of input feature  102\n",
      "                    precision    recall  f1-score   support\n",
      "\n",
      "            LAYING       0.99      0.97      0.98       136\n",
      "           SITTING       0.88      0.78      0.83       116\n",
      "          STANDING       0.85      0.94      0.89       144\n",
      "           WALKING       0.92      0.98      0.95       121\n",
      "WALKING_DOWNSTAIRS       0.93      0.86      0.89       101\n",
      "  WALKING_UPSTAIRS       0.91      0.90      0.91       104\n",
      "\n",
      "          accuracy                           0.91       722\n",
      "         macro avg       0.91      0.91      0.91       722\n",
      "      weighted avg       0.91      0.91      0.91       722\n",
      "\n"
     ]
    }
   ],
   "source": [
    "xtrain,xtest,ytrain,ytest=train_test_split(svd_data[:, :102], y,test_size=0.2)\n",
    "rf=RandomForestClassifier()\n",
    "rf.fit(xtrain,ytrain)\n",
    "ypred=rf.predict(xtest)\n",
    "print('The number of input feature ',xtrain.shape[1])\n",
    "print(classification_report(ytest,ypred))"
   ]
  },
  {
   "cell_type": "markdown",
   "id": "e966514d",
   "metadata": {},
   "source": [
    "##### LDA"
   ]
  },
  {
   "cell_type": "code",
   "execution_count": 162,
   "id": "09c31a9f",
   "metadata": {},
   "outputs": [],
   "source": [
    "lda = LinearDiscriminantAnalysis()\n",
    "lda_data = lda.fit_transform(X_sc, y)"
   ]
  },
  {
   "cell_type": "code",
   "execution_count": 163,
   "id": "6a333d74",
   "metadata": {},
   "outputs": [
    {
     "name": "stdout",
     "output_type": "stream",
     "text": [
      "The number of input feature  5\n",
      "                    precision    recall  f1-score   support\n",
      "\n",
      "            LAYING       1.00      1.00      1.00       144\n",
      "           SITTING       0.96      0.94      0.95       126\n",
      "          STANDING       0.94      0.96      0.95       125\n",
      "           WALKING       1.00      1.00      1.00       129\n",
      "WALKING_DOWNSTAIRS       0.99      1.00      0.99        96\n",
      "  WALKING_UPSTAIRS       1.00      0.99      1.00       102\n",
      "\n",
      "          accuracy                           0.98       722\n",
      "         macro avg       0.98      0.98      0.98       722\n",
      "      weighted avg       0.98      0.98      0.98       722\n",
      "\n"
     ]
    }
   ],
   "source": [
    "xtrain,xtest,ytrain,ytest=train_test_split(lda_data, y,test_size=0.2)\n",
    "rf=RandomForestClassifier()\n",
    "rf.fit(xtrain,ytrain)\n",
    "ypred=rf.predict(xtest)\n",
    "print('The number of input feature ',xtrain.shape[1])\n",
    "print(classification_report(ytest,ypred))"
   ]
  },
  {
   "cell_type": "code",
   "execution_count": 164,
   "id": "8dd40f71",
   "metadata": {},
   "outputs": [
    {
     "name": "stdout",
     "output_type": "stream",
     "text": [
      "LDA is really doing well on this data, just with 5 LDA_components it is predicting all the classes very accurately\n"
     ]
    }
   ],
   "source": [
    "print('''LDA is really doing well on this data, just with 5 LDA_components it is predicting all the classes very accurately''')"
   ]
  },
  {
   "cell_type": "code",
   "execution_count": null,
   "id": "c555c389",
   "metadata": {},
   "outputs": [],
   "source": []
  }
 ],
 "metadata": {
  "kernelspec": {
   "display_name": "Python 3",
   "language": "python",
   "name": "python3"
  },
  "language_info": {
   "codemirror_mode": {
    "name": "ipython",
    "version": 3
   },
   "file_extension": ".py",
   "mimetype": "text/x-python",
   "name": "python",
   "nbconvert_exporter": "python",
   "pygments_lexer": "ipython3",
   "version": "3.9.4"
  }
 },
 "nbformat": 4,
 "nbformat_minor": 5
}
