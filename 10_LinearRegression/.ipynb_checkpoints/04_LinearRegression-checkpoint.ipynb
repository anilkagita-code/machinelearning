{
 "cells": [
  {
   "cell_type": "code",
   "execution_count": 2,
   "id": "bd65f3a3",
   "metadata": {},
   "outputs": [],
   "source": [
    "import pandas as pd\n",
    "import numpy as np\n",
    "import matplotlib.pyplot as plt\n",
    "import seaborn as sns"
   ]
  },
  {
   "cell_type": "markdown",
   "id": "47c18d14",
   "metadata": {},
   "source": [
    "## Linear Regression with Toy Data"
   ]
  },
  {
   "cell_type": "code",
   "execution_count": 3,
   "id": "97a010b9",
   "metadata": {},
   "outputs": [],
   "source": [
    "data=pd.DataFrame({'Mileage':[15,14,17,7,10,7,20,21,18,11,7.9,8.6,12.3,17.1,19.4],\n",
    "                  'Premium':[392.5,46.2,15.7,422.2,119.4,170.9,56.9,77.5,214,65.3,250,220,217.5,140.88,97.25]})"
   ]
  },
  {
   "cell_type": "code",
   "execution_count": 4,
   "id": "a2bdf3a8",
   "metadata": {},
   "outputs": [
    {
     "data": {
      "text/html": [
       "<div>\n",
       "<style scoped>\n",
       "    .dataframe tbody tr th:only-of-type {\n",
       "        vertical-align: middle;\n",
       "    }\n",
       "\n",
       "    .dataframe tbody tr th {\n",
       "        vertical-align: top;\n",
       "    }\n",
       "\n",
       "    .dataframe thead th {\n",
       "        text-align: right;\n",
       "    }\n",
       "</style>\n",
       "<table border=\"1\" class=\"dataframe\">\n",
       "  <thead>\n",
       "    <tr style=\"text-align: right;\">\n",
       "      <th></th>\n",
       "      <th>Mileage</th>\n",
       "      <th>Premium</th>\n",
       "    </tr>\n",
       "  </thead>\n",
       "  <tbody>\n",
       "    <tr>\n",
       "      <th>3</th>\n",
       "      <td>7.0</td>\n",
       "      <td>422.2</td>\n",
       "    </tr>\n",
       "    <tr>\n",
       "      <th>8</th>\n",
       "      <td>18.0</td>\n",
       "      <td>214.0</td>\n",
       "    </tr>\n",
       "    <tr>\n",
       "      <th>10</th>\n",
       "      <td>7.9</td>\n",
       "      <td>250.0</td>\n",
       "    </tr>\n",
       "    <tr>\n",
       "      <th>6</th>\n",
       "      <td>20.0</td>\n",
       "      <td>56.9</td>\n",
       "    </tr>\n",
       "    <tr>\n",
       "      <th>0</th>\n",
       "      <td>15.0</td>\n",
       "      <td>392.5</td>\n",
       "    </tr>\n",
       "  </tbody>\n",
       "</table>\n",
       "</div>"
      ],
      "text/plain": [
       "    Mileage  Premium\n",
       "3       7.0    422.2\n",
       "8      18.0    214.0\n",
       "10      7.9    250.0\n",
       "6      20.0     56.9\n",
       "0      15.0    392.5"
      ]
     },
     "execution_count": 4,
     "metadata": {},
     "output_type": "execute_result"
    }
   ],
   "source": [
    "data.sample(5)"
   ]
  },
  {
   "cell_type": "code",
   "execution_count": 8,
   "id": "60f42736",
   "metadata": {},
   "outputs": [
    {
     "data": {
      "text/plain": [
       "<AxesSubplot:xlabel='Mileage', ylabel='Premium'>"
      ]
     },
     "execution_count": 8,
     "metadata": {},
     "output_type": "execute_result"
    },
    {
     "data": {
      "image/png": "[encoded data removed]",
      "text/plain": [
       "<Figure size 432x288 with 1 Axes>"
      ]
     },
     "metadata": {
      "needs_background": "light"
     },
     "output_type": "display_data"
    }
   ],
   "source": [
    "sns.scatterplot(data=data, x='Mileage', y='Premium')"
   ]
  },
  {
   "cell_type": "code",
   "execution_count": 9,
   "id": "47ac4056",
   "metadata": {},
   "outputs": [
    {
     "data": {
      "text/html": [
       "<div>\n",
       "<style scoped>\n",
       "    .dataframe tbody tr th:only-of-type {\n",
       "        vertical-align: middle;\n",
       "    }\n",
       "\n",
       "    .dataframe tbody tr th {\n",
       "        vertical-align: top;\n",
       "    }\n",
       "\n",
       "    .dataframe thead th {\n",
       "        text-align: right;\n",
       "    }\n",
       "</style>\n",
       "<table border=\"1\" class=\"dataframe\">\n",
       "  <thead>\n",
       "    <tr style=\"text-align: right;\">\n",
       "      <th></th>\n",
       "      <th>Mileage</th>\n",
       "      <th>Premium</th>\n",
       "    </tr>\n",
       "  </thead>\n",
       "  <tbody>\n",
       "    <tr>\n",
       "      <th>Mileage</th>\n",
       "      <td>1.000000</td>\n",
       "      <td>-0.475073</td>\n",
       "    </tr>\n",
       "    <tr>\n",
       "      <th>Premium</th>\n",
       "      <td>-0.475073</td>\n",
       "      <td>1.000000</td>\n",
       "    </tr>\n",
       "  </tbody>\n",
       "</table>\n",
       "</div>"
      ],
      "text/plain": [
       "          Mileage   Premium\n",
       "Mileage  1.000000 -0.475073\n",
       "Premium -0.475073  1.000000"
      ]
     },
     "execution_count": 9,
     "metadata": {},
     "output_type": "execute_result"
    }
   ],
   "source": [
    "data.corr()"
   ]
  },
  {
   "cell_type": "code",
   "execution_count": 12,
   "id": "fca2c781",
   "metadata": {},
   "outputs": [],
   "source": [
    "# Randomly choocing the b0 and b1 values to derive the linear equation\n",
    "b0=250\n",
    "b1=-1\n",
    "x = data['Mileage']\n",
    "y = data['Premium']"
   ]
  },
  {
   "cell_type": "code",
   "execution_count": 13,
   "id": "0dec8dd7",
   "metadata": {},
   "outputs": [
    {
     "data": {
      "text/plain": [
       "[<matplotlib.lines.Line2D at 0x235fa229610>]"
      ]
     },
     "execution_count": 13,
     "metadata": {},
     "output_type": "execute_result"
    },
    {
     "data": {
      "image/png": "[encoded data removed]",
      "text/plain": [
       "<Figure size 432x288 with 1 Axes>"
      ]
     },
     "metadata": {
      "needs_background": "light"
     },
     "output_type": "display_data"
    }
   ],
   "source": [
    "sns.scatterplot(data=data, x='Mileage', y='Premium')\n",
    "plt.plot(x, b1*x+b0)"
   ]
  },
  {
   "cell_type": "code",
   "execution_count": 16,
   "id": "032ae9e5",
   "metadata": {},
   "outputs": [
    {
     "data": {
      "image/png": "[encoded data removed]",
      "text/plain": [
       "<Figure size 432x288 with 1 Axes>"
      ]
     },
     "metadata": {
      "needs_background": "light"
     },
     "output_type": "display_data"
    }
   ],
   "source": [
    "for b1 in [-1, -2, -4, -6, -7, -8]:\n",
    "    sns.scatterplot(data=data, x='Mileage', y='Premium')\n",
    "    plt.plot(x, b1*x+b0, label=b1)\n",
    "    plt.legend()"
   ]
  },
  {
   "cell_type": "code",
   "execution_count": 17,
   "id": "fa610c54",
   "metadata": {},
   "outputs": [],
   "source": [
    "# b1 = sum((x - x_bar)*(y - y_bar))/sum((x - x_bar)**2)\n",
    "# b0 = y_bar - b1*x_bar"
   ]
  },
  {
   "cell_type": "code",
   "execution_count": 19,
   "id": "83718e90",
   "metadata": {},
   "outputs": [
    {
     "data": {
      "text/plain": [
       "-11.690503214338849"
      ]
     },
     "execution_count": 19,
     "metadata": {},
     "output_type": "execute_result"
    }
   ],
   "source": [
    "b1 = np.sum( (x - x.mean())*(y - y.mean()))/ np.sum((x - x.mean())**2)\n",
    "b1"
   ]
  },
  {
   "cell_type": "code",
   "execution_count": 20,
   "id": "011a8e3c",
   "metadata": {},
   "outputs": [
    {
     "data": {
      "text/plain": [
       "327.08602066025105"
      ]
     },
     "execution_count": 20,
     "metadata": {},
     "output_type": "execute_result"
    }
   ],
   "source": [
    "b0 = y.mean() - b1*x.mean()\n",
    "b0"
   ]
  },
  {
   "cell_type": "code",
   "execution_count": 21,
   "id": "7d34f845",
   "metadata": {},
   "outputs": [
    {
     "data": {
      "text/plain": [
       "[<matplotlib.lines.Line2D at 0x235fa5300a0>]"
      ]
     },
     "execution_count": 21,
     "metadata": {},
     "output_type": "execute_result"
    },
    {
     "data": {
      "image/png": "[encoded data removed]",
      "text/plain": [
       "<Figure size 432x288 with 1 Axes>"
      ]
     },
     "metadata": {
      "needs_background": "light"
     },
     "output_type": "display_data"
    }
   ],
   "source": [
    "sns.scatterplot(data=data, x='Mileage', y='Premium')\n",
    "plt.plot(x, b1*x+b0)"
   ]
  },
  {
   "cell_type": "markdown",
   "id": "94dd8395",
   "metadata": {},
   "source": [
    "### Manual Computation of Errors"
   ]
  },
  {
   "cell_type": "code",
   "execution_count": 22,
   "id": "cf170d8b",
   "metadata": {},
   "outputs": [
    {
     "data": {
      "text/plain": [
       "0     240.771528\n",
       "1    -117.218976\n",
       "2    -112.647466\n",
       "3     176.947502\n",
       "4     -90.780989\n",
       "5     -74.352498\n",
       "6     -36.375956\n",
       "7      -4.085453\n",
       "8      97.343037\n",
       "9    -133.190485\n",
       "10     15.268955\n",
       "11     -6.547693\n",
       "12     34.207169\n",
       "13     13.701584\n",
       "14     -3.040258\n",
       "dtype: float64"
      ]
     },
     "execution_count": 22,
     "metadata": {},
     "output_type": "execute_result"
    }
   ],
   "source": [
    "# Residue = y - y_pred\n",
    "\n",
    "y_pred = b1*x+b0\n",
    "residue = y - y_pred\n",
    "residue"
   ]
  },
  {
   "cell_type": "code",
   "execution_count": 23,
   "id": "8c655c77",
   "metadata": {},
   "outputs": [
    {
     "data": {
      "text/plain": [
       "-1.4210854715202004e-13"
      ]
     },
     "execution_count": 23,
     "metadata": {},
     "output_type": "execute_result"
    }
   ],
   "source": [
    "# Goodness of fit line - Sum of residue should be zero\n",
    "np.sum(residue)"
   ]
  },
  {
   "cell_type": "code",
   "execution_count": 25,
   "id": "006eb347",
   "metadata": {},
   "outputs": [
    {
     "data": {
      "text/plain": [
       "159678.96224549576"
      ]
     },
     "execution_count": 25,
     "metadata": {},
     "output_type": "execute_result"
    }
   ],
   "source": [
    "# Sum of Square error\n",
    "# sum(y - y_pred)**2\n",
    "\n",
    "sse = np.sum((y - y_pred)**2)\n",
    "sse"
   ]
  },
  {
   "cell_type": "code",
   "execution_count": 26,
   "id": "964a1873",
   "metadata": {},
   "outputs": [
    {
     "data": {
      "text/plain": [
       "10645.264149699717"
      ]
     },
     "execution_count": 26,
     "metadata": {},
     "output_type": "execute_result"
    }
   ],
   "source": [
    "# Mean sum pf square error\n",
    "mse = np.mean((y - y_pred)**2)\n",
    "mse"
   ]
  },
  {
   "cell_type": "code",
   "execution_count": 27,
   "id": "152ceb4d",
   "metadata": {},
   "outputs": [
    {
     "data": {
      "text/plain": [
       "103.17588938167539"
      ]
     },
     "execution_count": 27,
     "metadata": {},
     "output_type": "execute_result"
    }
   ],
   "source": [
    "# Root mean square error\n",
    "rmse = np.sqrt(np.mean((y - y_pred)**2))\n",
    "rmse"
   ]
  },
  {
   "cell_type": "code",
   "execution_count": null,
   "id": "c5a8dd9a",
   "metadata": {},
   "outputs": [],
   "source": []
  },
  {
   "cell_type": "markdown",
   "id": "4b564162",
   "metadata": {},
   "source": [
    "### Variance measures for Linear Regression"
   ]
  },
  {
   "cell_type": "markdown",
   "id": "ac2e6a5f",
   "metadata": {},
   "source": [
    "* SST - Sum of Square Total Variance\n",
    "* SSR - Sum of Square Regression (Model) Variance\n",
    "* SSE - Sum of Square Error"
   ]
  },
  {
   "attachments": {
    "image-2.png": {
     "image/png": "[encoded data removed]"
    }
   },
   "cell_type": "markdown",
   "id": "b06b0435",
   "metadata": {},
   "source": [
    "![image-2.png](attachment:image-2.png)"
   ]
  },
  {
   "cell_type": "code",
   "execution_count": 31,
   "id": "e1d05ab3",
   "metadata": {},
   "outputs": [
    {
     "data": {
      "text/plain": [
       "<matplotlib.lines.Line2D at 0x235fae3efd0>"
      ]
     },
     "execution_count": 31,
     "metadata": {},
     "output_type": "execute_result"
    },
    {
     "data": {
      "image/png": "[encoded data removed]",
      "text/plain": [
       "<Figure size 432x288 with 1 Axes>"
      ]
     },
     "metadata": {
      "needs_background": "light"
     },
     "output_type": "display_data"
    }
   ],
   "source": [
    "sns.scatterplot(data=data, x='Mileage', y='Premium')\n",
    "plt.plot(x, b1*x+b0)\n",
    "plt.axhline(y.mean(), color=[1,0,0, 1]) # Mean line"
   ]
  },
  {
   "cell_type": "code",
   "execution_count": 32,
   "id": "8fc0cdee",
   "metadata": {},
   "outputs": [
    {
     "data": {
      "text/plain": [
       "206222.20604"
      ]
     },
     "execution_count": 32,
     "metadata": {},
     "output_type": "execute_result"
    }
   ],
   "source": [
    "# Computing the variance with respect to variance\n",
    "sst = np.sum((y.mean() - y)**2)\n",
    "sst"
   ]
  },
  {
   "cell_type": "code",
   "execution_count": 33,
   "id": "d828deec",
   "metadata": {},
   "outputs": [
    {
     "data": {
      "text/plain": [
       "46543.24379450419"
      ]
     },
     "execution_count": 33,
     "metadata": {},
     "output_type": "execute_result"
    }
   ],
   "source": [
    "# Computing the SSR\n",
    "ssr = np.sum((y.mean() - y_pred)**2)\n",
    "ssr"
   ]
  },
  {
   "cell_type": "code",
   "execution_count": 34,
   "id": "af93f848",
   "metadata": {},
   "outputs": [
    {
     "data": {
      "text/plain": [
       "159678.96224549576"
      ]
     },
     "execution_count": 34,
     "metadata": {},
     "output_type": "execute_result"
    }
   ],
   "source": [
    "# Computing the SSE\n",
    "sse = np.sum((y - y_pred)**2)\n",
    "sse"
   ]
  },
  {
   "cell_type": "code",
   "execution_count": 38,
   "id": "bcac5c85",
   "metadata": {},
   "outputs": [
    {
     "name": "stdout",
     "output_type": "stream",
     "text": [
      "SSR + SSE is equal to SST\n"
     ]
    }
   ],
   "source": [
    "if (round(sst, 2) == round(ssr + sse, 2)):\n",
    "    print('SSR + SSE is equal to SST')"
   ]
  },
  {
   "attachments": {
    "image.png": {
     "image/png": "[encoded data removed]"
    }
   },
   "cell_type": "markdown",
   "id": "fe19fb5d",
   "metadata": {},
   "source": [
    "![image.png](attachment:image.png)"
   ]
  },
  {
   "cell_type": "code",
   "execution_count": 40,
   "id": "3dca4b4a",
   "metadata": {},
   "outputs": [
    {
     "data": {
      "text/plain": [
       "0.22569462662753403"
      ]
     },
     "execution_count": 40,
     "metadata": {},
     "output_type": "execute_result"
    }
   ],
   "source": [
    "# How much variance is explained by our model out of total variance (srr/sst)\n",
    "# This value is knows as R2\n",
    "# Also known as Coefficient of Determination \n",
    "r_square = ssr/sst\n",
    "r_square"
   ]
  },
  {
   "cell_type": "code",
   "execution_count": 41,
   "id": "5a4abeab",
   "metadata": {},
   "outputs": [
    {
     "data": {
      "text/plain": [
       "0.22569462662753426"
      ]
     },
     "execution_count": 41,
     "metadata": {},
     "output_type": "execute_result"
    }
   ],
   "source": [
    "r_square = 1 - (sse/sst)\n",
    "r_square"
   ]
  },
  {
   "cell_type": "code",
   "execution_count": 42,
   "id": "dca0e2ac",
   "metadata": {},
   "outputs": [],
   "source": [
    "import statsmodels.api as sm "
   ]
  },
  {
   "cell_type": "code",
   "execution_count": 43,
   "id": "2144ce07",
   "metadata": {},
   "outputs": [
    {
     "data": {
      "text/html": [
       "<div>\n",
       "<style scoped>\n",
       "    .dataframe tbody tr th:only-of-type {\n",
       "        vertical-align: middle;\n",
       "    }\n",
       "\n",
       "    .dataframe tbody tr th {\n",
       "        vertical-align: top;\n",
       "    }\n",
       "\n",
       "    .dataframe thead th {\n",
       "        text-align: right;\n",
       "    }\n",
       "</style>\n",
       "<table border=\"1\" class=\"dataframe\">\n",
       "  <thead>\n",
       "    <tr style=\"text-align: right;\">\n",
       "      <th></th>\n",
       "      <th>const</th>\n",
       "      <th>Mileage</th>\n",
       "    </tr>\n",
       "  </thead>\n",
       "  <tbody>\n",
       "    <tr>\n",
       "      <th>0</th>\n",
       "      <td>1.0</td>\n",
       "      <td>15.0</td>\n",
       "    </tr>\n",
       "    <tr>\n",
       "      <th>1</th>\n",
       "      <td>1.0</td>\n",
       "      <td>14.0</td>\n",
       "    </tr>\n",
       "    <tr>\n",
       "      <th>2</th>\n",
       "      <td>1.0</td>\n",
       "      <td>17.0</td>\n",
       "    </tr>\n",
       "    <tr>\n",
       "      <th>3</th>\n",
       "      <td>1.0</td>\n",
       "      <td>7.0</td>\n",
       "    </tr>\n",
       "    <tr>\n",
       "      <th>4</th>\n",
       "      <td>1.0</td>\n",
       "      <td>10.0</td>\n",
       "    </tr>\n",
       "    <tr>\n",
       "      <th>5</th>\n",
       "      <td>1.0</td>\n",
       "      <td>7.0</td>\n",
       "    </tr>\n",
       "    <tr>\n",
       "      <th>6</th>\n",
       "      <td>1.0</td>\n",
       "      <td>20.0</td>\n",
       "    </tr>\n",
       "    <tr>\n",
       "      <th>7</th>\n",
       "      <td>1.0</td>\n",
       "      <td>21.0</td>\n",
       "    </tr>\n",
       "    <tr>\n",
       "      <th>8</th>\n",
       "      <td>1.0</td>\n",
       "      <td>18.0</td>\n",
       "    </tr>\n",
       "    <tr>\n",
       "      <th>9</th>\n",
       "      <td>1.0</td>\n",
       "      <td>11.0</td>\n",
       "    </tr>\n",
       "    <tr>\n",
       "      <th>10</th>\n",
       "      <td>1.0</td>\n",
       "      <td>7.9</td>\n",
       "    </tr>\n",
       "    <tr>\n",
       "      <th>11</th>\n",
       "      <td>1.0</td>\n",
       "      <td>8.6</td>\n",
       "    </tr>\n",
       "    <tr>\n",
       "      <th>12</th>\n",
       "      <td>1.0</td>\n",
       "      <td>12.3</td>\n",
       "    </tr>\n",
       "    <tr>\n",
       "      <th>13</th>\n",
       "      <td>1.0</td>\n",
       "      <td>17.1</td>\n",
       "    </tr>\n",
       "    <tr>\n",
       "      <th>14</th>\n",
       "      <td>1.0</td>\n",
       "      <td>19.4</td>\n",
       "    </tr>\n",
       "  </tbody>\n",
       "</table>\n",
       "</div>"
      ],
      "text/plain": [
       "    const  Mileage\n",
       "0     1.0     15.0\n",
       "1     1.0     14.0\n",
       "2     1.0     17.0\n",
       "3     1.0      7.0\n",
       "4     1.0     10.0\n",
       "5     1.0      7.0\n",
       "6     1.0     20.0\n",
       "7     1.0     21.0\n",
       "8     1.0     18.0\n",
       "9     1.0     11.0\n",
       "10    1.0      7.9\n",
       "11    1.0      8.6\n",
       "12    1.0     12.3\n",
       "13    1.0     17.1\n",
       "14    1.0     19.4"
      ]
     },
     "execution_count": 43,
     "metadata": {},
     "output_type": "execute_result"
    }
   ],
   "source": [
    "# OLS doesn't have the capability to compute b0\n",
    "# In order to compute b0 we need add one dummy column to the input\n",
    "# If this input is not added it will only compute coefficients (b1, b2, ...) but not the intercept (b0)\n",
    "xc = sm.add_constant(x)\n",
    "xc"
   ]
  },
  {
   "cell_type": "code",
   "execution_count": 44,
   "id": "016f1ebd",
   "metadata": {},
   "outputs": [],
   "source": [
    "ols = sm.OLS(y, xc)\n",
    "ols_model = ols.fit()"
   ]
  },
  {
   "cell_type": "code",
   "execution_count": 45,
   "id": "786c017e",
   "metadata": {},
   "outputs": [
    {
     "name": "stderr",
     "output_type": "stream",
     "text": [
      "C:\\ProgramData\\Anaconda3\\envs\\tensorflow_gpu\\lib\\site-packages\\scipy\\stats\\stats.py:1603: UserWarning: kurtosistest only valid for n>=20 ... continuing anyway, n=15\n",
      "  warnings.warn(\"kurtosistest only valid for n>=20 ... continuing \"\n"
     ]
    },
    {
     "data": {
      "text/html": [
       "<table class=\"simpletable\">\n",
       "<caption>OLS Regression Results</caption>\n",
       "<tr>\n",
       "  <th>Dep. Variable:</th>         <td>Premium</td>     <th>  R-squared:         </th> <td>   0.226</td>\n",
       "</tr>\n",
       "<tr>\n",
       "  <th>Model:</th>                   <td>OLS</td>       <th>  Adj. R-squared:    </th> <td>   0.166</td>\n",
       "</tr>\n",
       "<tr>\n",
       "  <th>Method:</th>             <td>Least Squares</td>  <th>  F-statistic:       </th> <td>   3.789</td>\n",
       "</tr>\n",
       "<tr>\n",
       "  <th>Date:</th>             <td>Fri, 23 Jul 2021</td> <th>  Prob (F-statistic):</th>  <td>0.0735</td> \n",
       "</tr>\n",
       "<tr>\n",
       "  <th>Time:</th>                 <td>15:29:16</td>     <th>  Log-Likelihood:    </th> <td> -90.831</td>\n",
       "</tr>\n",
       "<tr>\n",
       "  <th>No. Observations:</th>      <td>    15</td>      <th>  AIC:               </th> <td>   185.7</td>\n",
       "</tr>\n",
       "<tr>\n",
       "  <th>Df Residuals:</th>          <td>    13</td>      <th>  BIC:               </th> <td>   187.1</td>\n",
       "</tr>\n",
       "<tr>\n",
       "  <th>Df Model:</th>              <td>     1</td>      <th>                     </th>     <td> </td>   \n",
       "</tr>\n",
       "<tr>\n",
       "  <th>Covariance Type:</th>      <td>nonrobust</td>    <th>                     </th>     <td> </td>   \n",
       "</tr>\n",
       "</table>\n",
       "<table class=\"simpletable\">\n",
       "<tr>\n",
       "     <td></td>        <th>coef</th>     <th>std err</th>      <th>t</th>      <th>P>|t|</th>  <th>[0.025</th>    <th>0.975]</th>  \n",
       "</tr>\n",
       "<tr>\n",
       "  <th>const</th>   <td>  327.0860</td> <td>   87.035</td> <td>    3.758</td> <td> 0.002</td> <td>  139.057</td> <td>  515.115</td>\n",
       "</tr>\n",
       "<tr>\n",
       "  <th>Mileage</th> <td>  -11.6905</td> <td>    6.006</td> <td>   -1.947</td> <td> 0.074</td> <td>  -24.665</td> <td>    1.284</td>\n",
       "</tr>\n",
       "</table>\n",
       "<table class=\"simpletable\">\n",
       "<tr>\n",
       "  <th>Omnibus:</th>       <td> 3.225</td> <th>  Durbin-Watson:     </th> <td>   2.347</td>\n",
       "</tr>\n",
       "<tr>\n",
       "  <th>Prob(Omnibus):</th> <td> 0.199</td> <th>  Jarque-Bera (JB):  </th> <td>   1.770</td>\n",
       "</tr>\n",
       "<tr>\n",
       "  <th>Skew:</th>          <td> 0.841</td> <th>  Prob(JB):          </th> <td>   0.413</td>\n",
       "</tr>\n",
       "<tr>\n",
       "  <th>Kurtosis:</th>      <td> 3.057</td> <th>  Cond. No.          </th> <td>    44.3</td>\n",
       "</tr>\n",
       "</table><br/><br/>Notes:<br/>[1] Standard Errors assume that the covariance matrix of the errors is correctly specified."
      ],
      "text/plain": [
       "<class 'statsmodels.iolib.summary.Summary'>\n",
       "\"\"\"\n",
       "                            OLS Regression Results                            \n",
       "==============================================================================\n",
       "Dep. Variable:                Premium   R-squared:                       0.226\n",
       "Model:                            OLS   Adj. R-squared:                  0.166\n",
       "Method:                 Least Squares   F-statistic:                     3.789\n",
       "Date:                Fri, 23 Jul 2021   Prob (F-statistic):             0.0735\n",
       "Time:                        15:29:16   Log-Likelihood:                -90.831\n",
       "No. Observations:                  15   AIC:                             185.7\n",
       "Df Residuals:                      13   BIC:                             187.1\n",
       "Df Model:                           1                                         \n",
       "Covariance Type:            nonrobust                                         \n",
       "==============================================================================\n",
       "                 coef    std err          t      P>|t|      [0.025      0.975]\n",
       "------------------------------------------------------------------------------\n",
       "const        327.0860     87.035      3.758      0.002     139.057     515.115\n",
       "Mileage      -11.6905      6.006     -1.947      0.074     -24.665       1.284\n",
       "==============================================================================\n",
       "Omnibus:                        3.225   Durbin-Watson:                   2.347\n",
       "Prob(Omnibus):                  0.199   Jarque-Bera (JB):                1.770\n",
       "Skew:                           0.841   Prob(JB):                        0.413\n",
       "Kurtosis:                       3.057   Cond. No.                         44.3\n",
       "==============================================================================\n",
       "\n",
       "Notes:\n",
       "[1] Standard Errors assume that the covariance matrix of the errors is correctly specified.\n",
       "\"\"\""
      ]
     },
     "execution_count": 45,
     "metadata": {},
     "output_type": "execute_result"
    }
   ],
   "source": [
    "ols_model.summary()"
   ]
  },
  {
   "attachments": {},
   "cell_type": "markdown",
   "id": "843aaad2",
   "metadata": {},
   "source": [
    "### Explanation of OLS Regression Result\n",
    "\n",
    "No. Observations:\t15 (Total Sample)\n",
    "Df Residuals:\t13 (Total number of Observations - 2 parameters b0 , b1 that need to be computed)\n",
    "Df Model:\t1 (2 parameters that need to be computed -1) \n",
    "\t\n"
   ]
  },
  {
   "attachments": {},
   "cell_type": "markdown",
   "id": "30869532",
   "metadata": {},
   "source": [
    "R-squared:\t0.226 (Explainability of the variance)\n",
    "Adj. R-squared:\t0.166 (Measure to explain if I include a new feature in my model, is my model going to be better) \n"
   ]
  },
  {
   "attachments": {},
   "cell_type": "markdown",
   "id": "34d5e7f1",
   "metadata": {},
   "source": [
    "\n",
    "F-statistic:\t3.789\n",
    "Prob (F-statistic):\t0.0735\n",
    "The null Hypothesis in this OLS model is\n",
    "Ho: All the input feature coefficients are zero \n",
    "But the model predicted the\n",
    "\n",
    "\tcoef\tstd err\tt\tP>|t|\t[0.025\t0.975]\n",
    "Mileage\t-11.6905\t6.006\t-1.947\t0.074\t-24.665\t1.284\n",
    "\n",
    "Since p > 0.05 failed to reject Ho. i.e., all our regression coefficients can be zero.\n",
    "Which in-turn means that all the coefficients of the equation are zero\n",
    "\n",
    "y = b1x + b0 since b1 = 0 then\n",
    "y = b0 ( since bo = y_bar - b1*x_bar in the earlier linear derivative)\n",
    "   = y_bar - b1*x_bar (Since b1 =0 based on the above p-value)\n",
    "y = y_bar\n",
    "Inference: \n",
    "That means the predicted model is the mean model.\n",
    "When ever p > 0.05 then Linear Regression might not be the best fit model, try something else.\n",
    "\n",
    "<b>The data is not suitable for Linear Regression.</b>\n",
    "\n"
   ]
  },
  {
   "attachments": {},
   "cell_type": "markdown",
   "id": "a000d61e",
   "metadata": {},
   "source": [
    "\n",
    "\n",
    "Prob (F-statistic):\t0.0735\n",
    "If p-value < 0.05 then only we will start looking at individual features p-values to check their significance.\n",
    "\n",
    "\n",
    "Log-Likelihood:\t-90.831\n",
    "AIC:\t185.7\n",
    "BIC:\t187.1\n",
    "Akaike information criterion: \n",
    "The Akaike information criterion (AIC) is a mathematical method for evaluating how well a model fits the data it was generated from. In statistics, AIC is used to compare different possible models and determine which one is the best fit for the data. AIC is calculated from: the number of independent variables used to build the model\n",
    "Bayesian information criterion: \n",
    "In statistics, the Bayesian information criterion ( BIC) or Schwarz information criterion (also SIC, SBC, SBIC) is a criterion for model selection among a finite set of models; the model with the lowest BIC is preferred. It is based, in part, on the likelihood function and it is closely related to the Akaike information criterion (AIC).\n",
    "\n",
    "AIC, BIC shall be used for Logistic regression or other models\n"
   ]
  },
  {
   "cell_type": "markdown",
   "id": "f4b95fd5",
   "metadata": {},
   "source": [
    "\n",
    "\n",
    "\tcoef\tstd err\tt\tP>|t|\t[0.025\t0.975]\n",
    "const\t327.0860\t87.035\t3.758\t0.002\t139.057\t515.115 <br>\n",
    "Mileage\t-11.6905\t6.006\t-1.947\t0.074\t-24.665\t1.284\n",
    "\n",
    "Explain B1 = -11.69: (Estimated Value)\n",
    "For every one unit increase in x1, the out put will reduce (-) by b1 times provided all other input variables remain constant i.e, since b1 = -11.96 so for every one unit increase in Mileage the premium shall decrease by 11.69.\n",
    "SSE for Mileage is 6.006\n",
    "\n"
   ]
  },
  {
   "cell_type": "code",
   "execution_count": null,
   "id": "9fb20c7b",
   "metadata": {},
   "outputs": [],
   "source": []
  }
 ],
 "metadata": {
  "kernelspec": {
   "display_name": "Python 3",
   "language": "python",
   "name": "python3"
  },
  "language_info": {
   "codemirror_mode": {
    "name": "ipython",
    "version": 3
   },
   "file_extension": ".py",
   "mimetype": "text/x-python",
   "name": "python",
   "nbconvert_exporter": "python",
   "pygments_lexer": "ipython3",
   "version": "3.9.4"
  }
 },
 "nbformat": 4,
 "nbformat_minor": 5
}
