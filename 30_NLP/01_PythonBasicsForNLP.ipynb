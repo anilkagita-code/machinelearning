{
 "cells": [
  {
   "cell_type": "markdown",
   "id": "0ecb659f",
   "metadata": {},
   "source": [
    "# Regular Expressions"
   ]
  },
  {
   "cell_type": "code",
   "execution_count": 40,
   "id": "7034ae75",
   "metadata": {},
   "outputs": [],
   "source": [
    "import re"
   ]
  },
  {
   "cell_type": "code",
   "execution_count": 41,
   "id": "e6aeb978",
   "metadata": {},
   "outputs": [],
   "source": [
    "sampleText = '''\n",
    "abcdefghijklmnopqurtuvwxyz\n",
    "ABCDEFGHIJKLMNOPQRSTUVWXYZ\n",
    "1234567890\n",
    "123abc\n",
    "\n",
    "Hello HelloHello\n",
    "\n",
    "MetaCharacters (Need to be escaped):\n",
    ". ^ $ * + ? { } [ ] \\ | ( )\n",
    "\n",
    "utexas.edu\n",
    "\n",
    "321-555-4321\n",
    "123.555.1234\n",
    "\n",
    "daniel-mitchell@utexas.edu\n",
    "\n",
    "Mr. Johnson\n",
    "Mr Smith\n",
    "Ms Davis\n",
    "Mrs. Robinson\n",
    "Mr. T\n",
    "'''"
   ]
  },
  {
   "cell_type": "markdown",
   "id": "db6ba364",
   "metadata": {},
   "source": [
    "### Seaching for String literals"
   ]
  },
  {
   "cell_type": "code",
   "execution_count": 42,
   "id": "83932afb",
   "metadata": {},
   "outputs": [],
   "source": [
    "searchText = re.compile(r'abc')"
   ]
  },
  {
   "cell_type": "code",
   "execution_count": 43,
   "id": "b0290ce4",
   "metadata": {},
   "outputs": [
    {
     "data": {
      "text/plain": [
       "re.compile(r'abc', re.UNICODE)"
      ]
     },
     "execution_count": 43,
     "metadata": {},
     "output_type": "execute_result"
    }
   ],
   "source": [
    "searchText"
   ]
  },
  {
   "cell_type": "code",
   "execution_count": 44,
   "id": "c1563c0e",
   "metadata": {},
   "outputs": [
    {
     "data": {
      "text/plain": [
       "<callable_iterator at 0x228f2cb9730>"
      ]
     },
     "execution_count": 44,
     "metadata": {},
     "output_type": "execute_result"
    }
   ],
   "source": [
    "matches_found = searchText.finditer(sampleText)\n",
    "matches_found"
   ]
  },
  {
   "cell_type": "code",
   "execution_count": 45,
   "id": "f2571445",
   "metadata": {},
   "outputs": [
    {
     "data": {
      "text/plain": [
       "[<re.Match object; span=(1, 4), match='abc'>,\n",
       " <re.Match object; span=(69, 72), match='abc'>]"
      ]
     },
     "execution_count": 45,
     "metadata": {},
     "output_type": "execute_result"
    }
   ],
   "source": [
    "res = [match for match in matches_found]\n",
    "res"
   ]
  },
  {
   "cell_type": "code",
   "execution_count": 46,
   "id": "2dc48878",
   "metadata": {},
   "outputs": [
    {
     "data": {
      "text/plain": [
       "['abc', 'abc']"
      ]
     },
     "execution_count": 46,
     "metadata": {},
     "output_type": "execute_result"
    }
   ],
   "source": [
    "searchText.findall(sampleText)"
   ]
  },
  {
   "cell_type": "code",
   "execution_count": 47,
   "id": "63f062c6",
   "metadata": {},
   "outputs": [
    {
     "data": {
      "text/plain": [
       "'abc'"
      ]
     },
     "execution_count": 47,
     "metadata": {},
     "output_type": "execute_result"
    }
   ],
   "source": [
    "sampleText[69: 72]"
   ]
  },
  {
   "cell_type": "markdown",
   "id": "572247ce",
   "metadata": {},
   "source": [
    "### Seaching for Special Characters"
   ]
  },
  {
   "cell_type": "code",
   "execution_count": 48,
   "id": "92e9ac9f",
   "metadata": {},
   "outputs": [
    {
     "data": {
      "text/plain": [
       "[<re.Match object; span=(1, 2), match='a'>,\n",
       " <re.Match object; span=(2, 3), match='b'>,\n",
       " <re.Match object; span=(3, 4), match='c'>,\n",
       " <re.Match object; span=(4, 5), match='d'>,\n",
       " <re.Match object; span=(5, 6), match='e'>,\n",
       " <re.Match object; span=(6, 7), match='f'>,\n",
       " <re.Match object; span=(7, 8), match='g'>,\n",
       " <re.Match object; span=(8, 9), match='h'>,\n",
       " <re.Match object; span=(9, 10), match='i'>,\n",
       " <re.Match object; span=(10, 11), match='j'>,\n",
       " <re.Match object; span=(11, 12), match='k'>,\n",
       " <re.Match object; span=(12, 13), match='l'>,\n",
       " <re.Match object; span=(13, 14), match='m'>,\n",
       " <re.Match object; span=(14, 15), match='n'>,\n",
       " <re.Match object; span=(15, 16), match='o'>,\n",
       " <re.Match object; span=(16, 17), match='p'>,\n",
       " <re.Match object; span=(17, 18), match='q'>,\n",
       " <re.Match object; span=(18, 19), match='u'>,\n",
       " <re.Match object; span=(19, 20), match='r'>,\n",
       " <re.Match object; span=(20, 21), match='t'>,\n",
       " <re.Match object; span=(21, 22), match='u'>,\n",
       " <re.Match object; span=(22, 23), match='v'>,\n",
       " <re.Match object; span=(23, 24), match='w'>,\n",
       " <re.Match object; span=(24, 25), match='x'>,\n",
       " <re.Match object; span=(25, 26), match='y'>,\n",
       " <re.Match object; span=(26, 27), match='z'>,\n",
       " <re.Match object; span=(28, 29), match='A'>,\n",
       " <re.Match object; span=(29, 30), match='B'>,\n",
       " <re.Match object; span=(30, 31), match='C'>,\n",
       " <re.Match object; span=(31, 32), match='D'>,\n",
       " <re.Match object; span=(32, 33), match='E'>,\n",
       " <re.Match object; span=(33, 34), match='F'>,\n",
       " <re.Match object; span=(34, 35), match='G'>,\n",
       " <re.Match object; span=(35, 36), match='H'>,\n",
       " <re.Match object; span=(36, 37), match='I'>,\n",
       " <re.Match object; span=(37, 38), match='J'>,\n",
       " <re.Match object; span=(38, 39), match='K'>,\n",
       " <re.Match object; span=(39, 40), match='L'>,\n",
       " <re.Match object; span=(40, 41), match='M'>,\n",
       " <re.Match object; span=(41, 42), match='N'>,\n",
       " <re.Match object; span=(42, 43), match='O'>,\n",
       " <re.Match object; span=(43, 44), match='P'>,\n",
       " <re.Match object; span=(44, 45), match='Q'>,\n",
       " <re.Match object; span=(45, 46), match='R'>,\n",
       " <re.Match object; span=(46, 47), match='S'>,\n",
       " <re.Match object; span=(47, 48), match='T'>,\n",
       " <re.Match object; span=(48, 49), match='U'>,\n",
       " <re.Match object; span=(49, 50), match='V'>,\n",
       " <re.Match object; span=(50, 51), match='W'>,\n",
       " <re.Match object; span=(51, 52), match='X'>,\n",
       " <re.Match object; span=(52, 53), match='Y'>,\n",
       " <re.Match object; span=(53, 54), match='Z'>,\n",
       " <re.Match object; span=(55, 56), match='1'>,\n",
       " <re.Match object; span=(56, 57), match='2'>,\n",
       " <re.Match object; span=(57, 58), match='3'>,\n",
       " <re.Match object; span=(58, 59), match='4'>,\n",
       " <re.Match object; span=(59, 60), match='5'>,\n",
       " <re.Match object; span=(60, 61), match='6'>,\n",
       " <re.Match object; span=(61, 62), match='7'>,\n",
       " <re.Match object; span=(62, 63), match='8'>,\n",
       " <re.Match object; span=(63, 64), match='9'>,\n",
       " <re.Match object; span=(64, 65), match='0'>,\n",
       " <re.Match object; span=(66, 67), match='1'>,\n",
       " <re.Match object; span=(67, 68), match='2'>,\n",
       " <re.Match object; span=(68, 69), match='3'>,\n",
       " <re.Match object; span=(69, 70), match='a'>,\n",
       " <re.Match object; span=(70, 71), match='b'>,\n",
       " <re.Match object; span=(71, 72), match='c'>,\n",
       " <re.Match object; span=(74, 75), match='H'>,\n",
       " <re.Match object; span=(75, 76), match='e'>,\n",
       " <re.Match object; span=(76, 77), match='l'>,\n",
       " <re.Match object; span=(77, 78), match='l'>,\n",
       " <re.Match object; span=(78, 79), match='o'>,\n",
       " <re.Match object; span=(79, 80), match=' '>,\n",
       " <re.Match object; span=(80, 81), match='H'>,\n",
       " <re.Match object; span=(81, 82), match='e'>,\n",
       " <re.Match object; span=(82, 83), match='l'>,\n",
       " <re.Match object; span=(83, 84), match='l'>,\n",
       " <re.Match object; span=(84, 85), match='o'>,\n",
       " <re.Match object; span=(85, 86), match='H'>,\n",
       " <re.Match object; span=(86, 87), match='e'>,\n",
       " <re.Match object; span=(87, 88), match='l'>,\n",
       " <re.Match object; span=(88, 89), match='l'>,\n",
       " <re.Match object; span=(89, 90), match='o'>,\n",
       " <re.Match object; span=(92, 93), match='M'>,\n",
       " <re.Match object; span=(93, 94), match='e'>,\n",
       " <re.Match object; span=(94, 95), match='t'>,\n",
       " <re.Match object; span=(95, 96), match='a'>,\n",
       " <re.Match object; span=(96, 97), match='C'>,\n",
       " <re.Match object; span=(97, 98), match='h'>,\n",
       " <re.Match object; span=(98, 99), match='a'>,\n",
       " <re.Match object; span=(99, 100), match='r'>,\n",
       " <re.Match object; span=(100, 101), match='a'>,\n",
       " <re.Match object; span=(101, 102), match='c'>,\n",
       " <re.Match object; span=(102, 103), match='t'>,\n",
       " <re.Match object; span=(103, 104), match='e'>,\n",
       " <re.Match object; span=(104, 105), match='r'>,\n",
       " <re.Match object; span=(105, 106), match='s'>,\n",
       " <re.Match object; span=(106, 107), match=' '>,\n",
       " <re.Match object; span=(107, 108), match='('>,\n",
       " <re.Match object; span=(108, 109), match='N'>,\n",
       " <re.Match object; span=(109, 110), match='e'>,\n",
       " <re.Match object; span=(110, 111), match='e'>,\n",
       " <re.Match object; span=(111, 112), match='d'>,\n",
       " <re.Match object; span=(112, 113), match=' '>,\n",
       " <re.Match object; span=(113, 114), match='t'>,\n",
       " <re.Match object; span=(114, 115), match='o'>,\n",
       " <re.Match object; span=(115, 116), match=' '>,\n",
       " <re.Match object; span=(116, 117), match='b'>,\n",
       " <re.Match object; span=(117, 118), match='e'>,\n",
       " <re.Match object; span=(118, 119), match=' '>,\n",
       " <re.Match object; span=(119, 120), match='e'>,\n",
       " <re.Match object; span=(120, 121), match='s'>,\n",
       " <re.Match object; span=(121, 122), match='c'>,\n",
       " <re.Match object; span=(122, 123), match='a'>,\n",
       " <re.Match object; span=(123, 124), match='p'>,\n",
       " <re.Match object; span=(124, 125), match='e'>,\n",
       " <re.Match object; span=(125, 126), match='d'>,\n",
       " <re.Match object; span=(126, 127), match=')'>,\n",
       " <re.Match object; span=(127, 128), match=':'>,\n",
       " <re.Match object; span=(129, 130), match='.'>,\n",
       " <re.Match object; span=(130, 131), match=' '>,\n",
       " <re.Match object; span=(131, 132), match='^'>,\n",
       " <re.Match object; span=(132, 133), match=' '>,\n",
       " <re.Match object; span=(133, 134), match='$'>,\n",
       " <re.Match object; span=(134, 135), match=' '>,\n",
       " <re.Match object; span=(135, 136), match='*'>,\n",
       " <re.Match object; span=(136, 137), match=' '>,\n",
       " <re.Match object; span=(137, 138), match='+'>,\n",
       " <re.Match object; span=(138, 139), match=' '>,\n",
       " <re.Match object; span=(139, 140), match='?'>,\n",
       " <re.Match object; span=(140, 141), match=' '>,\n",
       " <re.Match object; span=(141, 142), match='{'>,\n",
       " <re.Match object; span=(142, 143), match=' '>,\n",
       " <re.Match object; span=(143, 144), match='}'>,\n",
       " <re.Match object; span=(144, 145), match=' '>,\n",
       " <re.Match object; span=(145, 146), match='['>,\n",
       " <re.Match object; span=(146, 147), match=' '>,\n",
       " <re.Match object; span=(147, 148), match=']'>,\n",
       " <re.Match object; span=(148, 149), match=' '>,\n",
       " <re.Match object; span=(149, 150), match='\\\\'>,\n",
       " <re.Match object; span=(150, 151), match=' '>,\n",
       " <re.Match object; span=(151, 152), match='|'>,\n",
       " <re.Match object; span=(152, 153), match=' '>,\n",
       " <re.Match object; span=(153, 154), match='('>,\n",
       " <re.Match object; span=(154, 155), match=' '>,\n",
       " <re.Match object; span=(155, 156), match=')'>,\n",
       " <re.Match object; span=(158, 159), match='u'>,\n",
       " <re.Match object; span=(159, 160), match='t'>,\n",
       " <re.Match object; span=(160, 161), match='e'>,\n",
       " <re.Match object; span=(161, 162), match='x'>,\n",
       " <re.Match object; span=(162, 163), match='a'>,\n",
       " <re.Match object; span=(163, 164), match='s'>,\n",
       " <re.Match object; span=(164, 165), match='.'>,\n",
       " <re.Match object; span=(165, 166), match='e'>,\n",
       " <re.Match object; span=(166, 167), match='d'>,\n",
       " <re.Match object; span=(167, 168), match='u'>,\n",
       " <re.Match object; span=(170, 171), match='3'>,\n",
       " <re.Match object; span=(171, 172), match='2'>,\n",
       " <re.Match object; span=(172, 173), match='1'>,\n",
       " <re.Match object; span=(173, 174), match='-'>,\n",
       " <re.Match object; span=(174, 175), match='5'>,\n",
       " <re.Match object; span=(175, 176), match='5'>,\n",
       " <re.Match object; span=(176, 177), match='5'>,\n",
       " <re.Match object; span=(177, 178), match='-'>,\n",
       " <re.Match object; span=(178, 179), match='4'>,\n",
       " <re.Match object; span=(179, 180), match='3'>,\n",
       " <re.Match object; span=(180, 181), match='2'>,\n",
       " <re.Match object; span=(181, 182), match='1'>,\n",
       " <re.Match object; span=(183, 184), match='1'>,\n",
       " <re.Match object; span=(184, 185), match='2'>,\n",
       " <re.Match object; span=(185, 186), match='3'>,\n",
       " <re.Match object; span=(186, 187), match='.'>,\n",
       " <re.Match object; span=(187, 188), match='5'>,\n",
       " <re.Match object; span=(188, 189), match='5'>,\n",
       " <re.Match object; span=(189, 190), match='5'>,\n",
       " <re.Match object; span=(190, 191), match='.'>,\n",
       " <re.Match object; span=(191, 192), match='1'>,\n",
       " <re.Match object; span=(192, 193), match='2'>,\n",
       " <re.Match object; span=(193, 194), match='3'>,\n",
       " <re.Match object; span=(194, 195), match='4'>,\n",
       " <re.Match object; span=(197, 198), match='d'>,\n",
       " <re.Match object; span=(198, 199), match='a'>,\n",
       " <re.Match object; span=(199, 200), match='n'>,\n",
       " <re.Match object; span=(200, 201), match='i'>,\n",
       " <re.Match object; span=(201, 202), match='e'>,\n",
       " <re.Match object; span=(202, 203), match='l'>,\n",
       " <re.Match object; span=(203, 204), match='-'>,\n",
       " <re.Match object; span=(204, 205), match='m'>,\n",
       " <re.Match object; span=(205, 206), match='i'>,\n",
       " <re.Match object; span=(206, 207), match='t'>,\n",
       " <re.Match object; span=(207, 208), match='c'>,\n",
       " <re.Match object; span=(208, 209), match='h'>,\n",
       " <re.Match object; span=(209, 210), match='e'>,\n",
       " <re.Match object; span=(210, 211), match='l'>,\n",
       " <re.Match object; span=(211, 212), match='l'>,\n",
       " <re.Match object; span=(212, 213), match='@'>,\n",
       " <re.Match object; span=(213, 214), match='u'>,\n",
       " <re.Match object; span=(214, 215), match='t'>,\n",
       " <re.Match object; span=(215, 216), match='e'>,\n",
       " <re.Match object; span=(216, 217), match='x'>,\n",
       " <re.Match object; span=(217, 218), match='a'>,\n",
       " <re.Match object; span=(218, 219), match='s'>,\n",
       " <re.Match object; span=(219, 220), match='.'>,\n",
       " <re.Match object; span=(220, 221), match='e'>,\n",
       " <re.Match object; span=(221, 222), match='d'>,\n",
       " <re.Match object; span=(222, 223), match='u'>,\n",
       " <re.Match object; span=(225, 226), match='M'>,\n",
       " <re.Match object; span=(226, 227), match='r'>,\n",
       " <re.Match object; span=(227, 228), match='.'>,\n",
       " <re.Match object; span=(228, 229), match=' '>,\n",
       " <re.Match object; span=(229, 230), match='J'>,\n",
       " <re.Match object; span=(230, 231), match='o'>,\n",
       " <re.Match object; span=(231, 232), match='h'>,\n",
       " <re.Match object; span=(232, 233), match='n'>,\n",
       " <re.Match object; span=(233, 234), match='s'>,\n",
       " <re.Match object; span=(234, 235), match='o'>,\n",
       " <re.Match object; span=(235, 236), match='n'>,\n",
       " <re.Match object; span=(237, 238), match='M'>,\n",
       " <re.Match object; span=(238, 239), match='r'>,\n",
       " <re.Match object; span=(239, 240), match=' '>,\n",
       " <re.Match object; span=(240, 241), match='S'>,\n",
       " <re.Match object; span=(241, 242), match='m'>,\n",
       " <re.Match object; span=(242, 243), match='i'>,\n",
       " <re.Match object; span=(243, 244), match='t'>,\n",
       " <re.Match object; span=(244, 245), match='h'>,\n",
       " <re.Match object; span=(246, 247), match='M'>,\n",
       " <re.Match object; span=(247, 248), match='s'>,\n",
       " <re.Match object; span=(248, 249), match=' '>,\n",
       " <re.Match object; span=(249, 250), match='D'>,\n",
       " <re.Match object; span=(250, 251), match='a'>,\n",
       " <re.Match object; span=(251, 252), match='v'>,\n",
       " <re.Match object; span=(252, 253), match='i'>,\n",
       " <re.Match object; span=(253, 254), match='s'>,\n",
       " <re.Match object; span=(255, 256), match='M'>,\n",
       " <re.Match object; span=(256, 257), match='r'>,\n",
       " <re.Match object; span=(257, 258), match='s'>,\n",
       " <re.Match object; span=(258, 259), match='.'>,\n",
       " <re.Match object; span=(259, 260), match=' '>,\n",
       " <re.Match object; span=(260, 261), match='R'>,\n",
       " <re.Match object; span=(261, 262), match='o'>,\n",
       " <re.Match object; span=(262, 263), match='b'>,\n",
       " <re.Match object; span=(263, 264), match='i'>,\n",
       " <re.Match object; span=(264, 265), match='n'>,\n",
       " <re.Match object; span=(265, 266), match='s'>,\n",
       " <re.Match object; span=(266, 267), match='o'>,\n",
       " <re.Match object; span=(267, 268), match='n'>,\n",
       " <re.Match object; span=(269, 270), match='M'>,\n",
       " <re.Match object; span=(270, 271), match='r'>,\n",
       " <re.Match object; span=(271, 272), match='.'>,\n",
       " <re.Match object; span=(272, 273), match=' '>,\n",
       " <re.Match object; span=(273, 274), match='T'>]"
      ]
     },
     "execution_count": 48,
     "metadata": {},
     "output_type": "execute_result"
    }
   ],
   "source": [
    "searchText = re.compile(r'.')\n",
    "matches_found = searchText.finditer(sampleText)\n",
    "[match for match in matches_found]"
   ]
  },
  {
   "cell_type": "markdown",
   "id": "0a4fc3f9",
   "metadata": {},
   "source": [
    "#### List of Special Characters and their interpretation\n",
    "\n",
    "These chacters are being searched because . is considered as special character\n",
    "Below are the list of special characters and their interpretation\n",
    "\n",
    "*  .       - Any Character Except New Line\n",
    "*  \\d      - Digit (0-9)\n",
    "*  \\D      - Not a Digit (0-9)\n",
    "*  \\w      - Word Character (a-z, A-Z, 0-9, _)\n",
    "*  \\W      - Not a Word Character\n",
    "*  \\s      - Whitespace (space, tab, newline)\n",
    "*  \\S      - Not Whitespace (space, tab, newline)\n",
    "*  \n",
    "*  \\b      - Word Boundary\n",
    "*  \\B      - Not a Word Boundary\n",
    "*  ^       - Beginning of a String\n",
    "*  $       - End of a String\n",
    "*  \n",
    "*  []      - Matches Characters in brackets\n",
    "*  [^ ]    - Matches Characters NOT in brackets\n",
    "*  |       - Either Or\n",
    "*  ( )     - Group\n",
    "*  \n",
    "*  Quantifiers:\n",
    "*  \\*       - 0 or More\n",
    "*  \\+       - 1 or More\n",
    "*  ?       - 0 or One\n",
    "*  {3}     - Exact Number\n",
    "*  {3,4}   - Range of Numbers (Minimum, Maximum)"
   ]
  },
  {
   "cell_type": "code",
   "execution_count": 49,
   "id": "ff67f994",
   "metadata": {},
   "outputs": [
    {
     "data": {
      "text/plain": [
       "[<re.Match object; span=(129, 130), match='.'>,\n",
       " <re.Match object; span=(164, 165), match='.'>,\n",
       " <re.Match object; span=(186, 187), match='.'>,\n",
       " <re.Match object; span=(190, 191), match='.'>,\n",
       " <re.Match object; span=(219, 220), match='.'>,\n",
       " <re.Match object; span=(227, 228), match='.'>,\n",
       " <re.Match object; span=(258, 259), match='.'>,\n",
       " <re.Match object; span=(271, 272), match='.'>]"
      ]
     },
     "execution_count": 49,
     "metadata": {},
     "output_type": "execute_result"
    }
   ],
   "source": [
    "searchText = re.compile(r'\\.')\n",
    "matches_found = searchText.finditer(sampleText)\n",
    "[match for match in matches_found]"
   ]
  },
  {
   "cell_type": "code",
   "execution_count": 50,
   "id": "b8aa175d",
   "metadata": {},
   "outputs": [
    {
     "data": {
      "text/plain": [
       "[<re.Match object; span=(55, 56), match='1'>,\n",
       " <re.Match object; span=(56, 57), match='2'>,\n",
       " <re.Match object; span=(57, 58), match='3'>,\n",
       " <re.Match object; span=(58, 59), match='4'>,\n",
       " <re.Match object; span=(59, 60), match='5'>,\n",
       " <re.Match object; span=(60, 61), match='6'>,\n",
       " <re.Match object; span=(61, 62), match='7'>,\n",
       " <re.Match object; span=(62, 63), match='8'>,\n",
       " <re.Match object; span=(63, 64), match='9'>,\n",
       " <re.Match object; span=(64, 65), match='0'>,\n",
       " <re.Match object; span=(66, 67), match='1'>,\n",
       " <re.Match object; span=(67, 68), match='2'>,\n",
       " <re.Match object; span=(68, 69), match='3'>,\n",
       " <re.Match object; span=(170, 171), match='3'>,\n",
       " <re.Match object; span=(171, 172), match='2'>,\n",
       " <re.Match object; span=(172, 173), match='1'>,\n",
       " <re.Match object; span=(174, 175), match='5'>,\n",
       " <re.Match object; span=(175, 176), match='5'>,\n",
       " <re.Match object; span=(176, 177), match='5'>,\n",
       " <re.Match object; span=(178, 179), match='4'>,\n",
       " <re.Match object; span=(179, 180), match='3'>,\n",
       " <re.Match object; span=(180, 181), match='2'>,\n",
       " <re.Match object; span=(181, 182), match='1'>,\n",
       " <re.Match object; span=(183, 184), match='1'>,\n",
       " <re.Match object; span=(184, 185), match='2'>,\n",
       " <re.Match object; span=(185, 186), match='3'>,\n",
       " <re.Match object; span=(187, 188), match='5'>,\n",
       " <re.Match object; span=(188, 189), match='5'>,\n",
       " <re.Match object; span=(189, 190), match='5'>,\n",
       " <re.Match object; span=(191, 192), match='1'>,\n",
       " <re.Match object; span=(192, 193), match='2'>,\n",
       " <re.Match object; span=(193, 194), match='3'>,\n",
       " <re.Match object; span=(194, 195), match='4'>]"
      ]
     },
     "execution_count": 50,
     "metadata": {},
     "output_type": "execute_result"
    }
   ],
   "source": [
    "# Any Digit (0-9)\n",
    "searchText = re.compile(r'\\d')\n",
    "matches_found = searchText.finditer(sampleText)\n",
    "[match for match in matches_found]"
   ]
  },
  {
   "cell_type": "code",
   "execution_count": 51,
   "id": "dd98944d",
   "metadata": {},
   "outputs": [
    {
     "data": {
      "text/plain": [
       "[<re.Match object; span=(0, 1), match='\\n'>,\n",
       " <re.Match object; span=(1, 2), match='a'>,\n",
       " <re.Match object; span=(2, 3), match='b'>,\n",
       " <re.Match object; span=(3, 4), match='c'>,\n",
       " <re.Match object; span=(4, 5), match='d'>,\n",
       " <re.Match object; span=(5, 6), match='e'>,\n",
       " <re.Match object; span=(6, 7), match='f'>,\n",
       " <re.Match object; span=(7, 8), match='g'>,\n",
       " <re.Match object; span=(8, 9), match='h'>,\n",
       " <re.Match object; span=(9, 10), match='i'>,\n",
       " <re.Match object; span=(10, 11), match='j'>,\n",
       " <re.Match object; span=(11, 12), match='k'>,\n",
       " <re.Match object; span=(12, 13), match='l'>,\n",
       " <re.Match object; span=(13, 14), match='m'>,\n",
       " <re.Match object; span=(14, 15), match='n'>,\n",
       " <re.Match object; span=(15, 16), match='o'>,\n",
       " <re.Match object; span=(16, 17), match='p'>,\n",
       " <re.Match object; span=(17, 18), match='q'>,\n",
       " <re.Match object; span=(18, 19), match='u'>,\n",
       " <re.Match object; span=(19, 20), match='r'>,\n",
       " <re.Match object; span=(20, 21), match='t'>,\n",
       " <re.Match object; span=(21, 22), match='u'>,\n",
       " <re.Match object; span=(22, 23), match='v'>,\n",
       " <re.Match object; span=(23, 24), match='w'>,\n",
       " <re.Match object; span=(24, 25), match='x'>,\n",
       " <re.Match object; span=(25, 26), match='y'>,\n",
       " <re.Match object; span=(26, 27), match='z'>,\n",
       " <re.Match object; span=(27, 28), match='\\n'>,\n",
       " <re.Match object; span=(28, 29), match='A'>,\n",
       " <re.Match object; span=(29, 30), match='B'>,\n",
       " <re.Match object; span=(30, 31), match='C'>,\n",
       " <re.Match object; span=(31, 32), match='D'>,\n",
       " <re.Match object; span=(32, 33), match='E'>,\n",
       " <re.Match object; span=(33, 34), match='F'>,\n",
       " <re.Match object; span=(34, 35), match='G'>,\n",
       " <re.Match object; span=(35, 36), match='H'>,\n",
       " <re.Match object; span=(36, 37), match='I'>,\n",
       " <re.Match object; span=(37, 38), match='J'>,\n",
       " <re.Match object; span=(38, 39), match='K'>,\n",
       " <re.Match object; span=(39, 40), match='L'>,\n",
       " <re.Match object; span=(40, 41), match='M'>,\n",
       " <re.Match object; span=(41, 42), match='N'>,\n",
       " <re.Match object; span=(42, 43), match='O'>,\n",
       " <re.Match object; span=(43, 44), match='P'>,\n",
       " <re.Match object; span=(44, 45), match='Q'>,\n",
       " <re.Match object; span=(45, 46), match='R'>,\n",
       " <re.Match object; span=(46, 47), match='S'>,\n",
       " <re.Match object; span=(47, 48), match='T'>,\n",
       " <re.Match object; span=(48, 49), match='U'>,\n",
       " <re.Match object; span=(49, 50), match='V'>,\n",
       " <re.Match object; span=(50, 51), match='W'>,\n",
       " <re.Match object; span=(51, 52), match='X'>,\n",
       " <re.Match object; span=(52, 53), match='Y'>,\n",
       " <re.Match object; span=(53, 54), match='Z'>,\n",
       " <re.Match object; span=(54, 55), match='\\n'>,\n",
       " <re.Match object; span=(65, 66), match='\\n'>,\n",
       " <re.Match object; span=(69, 70), match='a'>,\n",
       " <re.Match object; span=(70, 71), match='b'>,\n",
       " <re.Match object; span=(71, 72), match='c'>,\n",
       " <re.Match object; span=(72, 73), match='\\n'>,\n",
       " <re.Match object; span=(73, 74), match='\\n'>,\n",
       " <re.Match object; span=(74, 75), match='H'>,\n",
       " <re.Match object; span=(75, 76), match='e'>,\n",
       " <re.Match object; span=(76, 77), match='l'>,\n",
       " <re.Match object; span=(77, 78), match='l'>,\n",
       " <re.Match object; span=(78, 79), match='o'>,\n",
       " <re.Match object; span=(79, 80), match=' '>,\n",
       " <re.Match object; span=(80, 81), match='H'>,\n",
       " <re.Match object; span=(81, 82), match='e'>,\n",
       " <re.Match object; span=(82, 83), match='l'>,\n",
       " <re.Match object; span=(83, 84), match='l'>,\n",
       " <re.Match object; span=(84, 85), match='o'>,\n",
       " <re.Match object; span=(85, 86), match='H'>,\n",
       " <re.Match object; span=(86, 87), match='e'>,\n",
       " <re.Match object; span=(87, 88), match='l'>,\n",
       " <re.Match object; span=(88, 89), match='l'>,\n",
       " <re.Match object; span=(89, 90), match='o'>,\n",
       " <re.Match object; span=(90, 91), match='\\n'>,\n",
       " <re.Match object; span=(91, 92), match='\\n'>,\n",
       " <re.Match object; span=(92, 93), match='M'>,\n",
       " <re.Match object; span=(93, 94), match='e'>,\n",
       " <re.Match object; span=(94, 95), match='t'>,\n",
       " <re.Match object; span=(95, 96), match='a'>,\n",
       " <re.Match object; span=(96, 97), match='C'>,\n",
       " <re.Match object; span=(97, 98), match='h'>,\n",
       " <re.Match object; span=(98, 99), match='a'>,\n",
       " <re.Match object; span=(99, 100), match='r'>,\n",
       " <re.Match object; span=(100, 101), match='a'>,\n",
       " <re.Match object; span=(101, 102), match='c'>,\n",
       " <re.Match object; span=(102, 103), match='t'>,\n",
       " <re.Match object; span=(103, 104), match='e'>,\n",
       " <re.Match object; span=(104, 105), match='r'>,\n",
       " <re.Match object; span=(105, 106), match='s'>,\n",
       " <re.Match object; span=(106, 107), match=' '>,\n",
       " <re.Match object; span=(107, 108), match='('>,\n",
       " <re.Match object; span=(108, 109), match='N'>,\n",
       " <re.Match object; span=(109, 110), match='e'>,\n",
       " <re.Match object; span=(110, 111), match='e'>,\n",
       " <re.Match object; span=(111, 112), match='d'>,\n",
       " <re.Match object; span=(112, 113), match=' '>,\n",
       " <re.Match object; span=(113, 114), match='t'>,\n",
       " <re.Match object; span=(114, 115), match='o'>,\n",
       " <re.Match object; span=(115, 116), match=' '>,\n",
       " <re.Match object; span=(116, 117), match='b'>,\n",
       " <re.Match object; span=(117, 118), match='e'>,\n",
       " <re.Match object; span=(118, 119), match=' '>,\n",
       " <re.Match object; span=(119, 120), match='e'>,\n",
       " <re.Match object; span=(120, 121), match='s'>,\n",
       " <re.Match object; span=(121, 122), match='c'>,\n",
       " <re.Match object; span=(122, 123), match='a'>,\n",
       " <re.Match object; span=(123, 124), match='p'>,\n",
       " <re.Match object; span=(124, 125), match='e'>,\n",
       " <re.Match object; span=(125, 126), match='d'>,\n",
       " <re.Match object; span=(126, 127), match=')'>,\n",
       " <re.Match object; span=(127, 128), match=':'>,\n",
       " <re.Match object; span=(128, 129), match='\\n'>,\n",
       " <re.Match object; span=(129, 130), match='.'>,\n",
       " <re.Match object; span=(130, 131), match=' '>,\n",
       " <re.Match object; span=(131, 132), match='^'>,\n",
       " <re.Match object; span=(132, 133), match=' '>,\n",
       " <re.Match object; span=(133, 134), match='$'>,\n",
       " <re.Match object; span=(134, 135), match=' '>,\n",
       " <re.Match object; span=(135, 136), match='*'>,\n",
       " <re.Match object; span=(136, 137), match=' '>,\n",
       " <re.Match object; span=(137, 138), match='+'>,\n",
       " <re.Match object; span=(138, 139), match=' '>,\n",
       " <re.Match object; span=(139, 140), match='?'>,\n",
       " <re.Match object; span=(140, 141), match=' '>,\n",
       " <re.Match object; span=(141, 142), match='{'>,\n",
       " <re.Match object; span=(142, 143), match=' '>,\n",
       " <re.Match object; span=(143, 144), match='}'>,\n",
       " <re.Match object; span=(144, 145), match=' '>,\n",
       " <re.Match object; span=(145, 146), match='['>,\n",
       " <re.Match object; span=(146, 147), match=' '>,\n",
       " <re.Match object; span=(147, 148), match=']'>,\n",
       " <re.Match object; span=(148, 149), match=' '>,\n",
       " <re.Match object; span=(149, 150), match='\\\\'>,\n",
       " <re.Match object; span=(150, 151), match=' '>,\n",
       " <re.Match object; span=(151, 152), match='|'>,\n",
       " <re.Match object; span=(152, 153), match=' '>,\n",
       " <re.Match object; span=(153, 154), match='('>,\n",
       " <re.Match object; span=(154, 155), match=' '>,\n",
       " <re.Match object; span=(155, 156), match=')'>,\n",
       " <re.Match object; span=(156, 157), match='\\n'>,\n",
       " <re.Match object; span=(157, 158), match='\\n'>,\n",
       " <re.Match object; span=(158, 159), match='u'>,\n",
       " <re.Match object; span=(159, 160), match='t'>,\n",
       " <re.Match object; span=(160, 161), match='e'>,\n",
       " <re.Match object; span=(161, 162), match='x'>,\n",
       " <re.Match object; span=(162, 163), match='a'>,\n",
       " <re.Match object; span=(163, 164), match='s'>,\n",
       " <re.Match object; span=(164, 165), match='.'>,\n",
       " <re.Match object; span=(165, 166), match='e'>,\n",
       " <re.Match object; span=(166, 167), match='d'>,\n",
       " <re.Match object; span=(167, 168), match='u'>,\n",
       " <re.Match object; span=(168, 169), match='\\n'>,\n",
       " <re.Match object; span=(169, 170), match='\\n'>,\n",
       " <re.Match object; span=(173, 174), match='-'>,\n",
       " <re.Match object; span=(177, 178), match='-'>,\n",
       " <re.Match object; span=(182, 183), match='\\n'>,\n",
       " <re.Match object; span=(186, 187), match='.'>,\n",
       " <re.Match object; span=(190, 191), match='.'>,\n",
       " <re.Match object; span=(195, 196), match='\\n'>,\n",
       " <re.Match object; span=(196, 197), match='\\n'>,\n",
       " <re.Match object; span=(197, 198), match='d'>,\n",
       " <re.Match object; span=(198, 199), match='a'>,\n",
       " <re.Match object; span=(199, 200), match='n'>,\n",
       " <re.Match object; span=(200, 201), match='i'>,\n",
       " <re.Match object; span=(201, 202), match='e'>,\n",
       " <re.Match object; span=(202, 203), match='l'>,\n",
       " <re.Match object; span=(203, 204), match='-'>,\n",
       " <re.Match object; span=(204, 205), match='m'>,\n",
       " <re.Match object; span=(205, 206), match='i'>,\n",
       " <re.Match object; span=(206, 207), match='t'>,\n",
       " <re.Match object; span=(207, 208), match='c'>,\n",
       " <re.Match object; span=(208, 209), match='h'>,\n",
       " <re.Match object; span=(209, 210), match='e'>,\n",
       " <re.Match object; span=(210, 211), match='l'>,\n",
       " <re.Match object; span=(211, 212), match='l'>,\n",
       " <re.Match object; span=(212, 213), match='@'>,\n",
       " <re.Match object; span=(213, 214), match='u'>,\n",
       " <re.Match object; span=(214, 215), match='t'>,\n",
       " <re.Match object; span=(215, 216), match='e'>,\n",
       " <re.Match object; span=(216, 217), match='x'>,\n",
       " <re.Match object; span=(217, 218), match='a'>,\n",
       " <re.Match object; span=(218, 219), match='s'>,\n",
       " <re.Match object; span=(219, 220), match='.'>,\n",
       " <re.Match object; span=(220, 221), match='e'>,\n",
       " <re.Match object; span=(221, 222), match='d'>,\n",
       " <re.Match object; span=(222, 223), match='u'>,\n",
       " <re.Match object; span=(223, 224), match='\\n'>,\n",
       " <re.Match object; span=(224, 225), match='\\n'>,\n",
       " <re.Match object; span=(225, 226), match='M'>,\n",
       " <re.Match object; span=(226, 227), match='r'>,\n",
       " <re.Match object; span=(227, 228), match='.'>,\n",
       " <re.Match object; span=(228, 229), match=' '>,\n",
       " <re.Match object; span=(229, 230), match='J'>,\n",
       " <re.Match object; span=(230, 231), match='o'>,\n",
       " <re.Match object; span=(231, 232), match='h'>,\n",
       " <re.Match object; span=(232, 233), match='n'>,\n",
       " <re.Match object; span=(233, 234), match='s'>,\n",
       " <re.Match object; span=(234, 235), match='o'>,\n",
       " <re.Match object; span=(235, 236), match='n'>,\n",
       " <re.Match object; span=(236, 237), match='\\n'>,\n",
       " <re.Match object; span=(237, 238), match='M'>,\n",
       " <re.Match object; span=(238, 239), match='r'>,\n",
       " <re.Match object; span=(239, 240), match=' '>,\n",
       " <re.Match object; span=(240, 241), match='S'>,\n",
       " <re.Match object; span=(241, 242), match='m'>,\n",
       " <re.Match object; span=(242, 243), match='i'>,\n",
       " <re.Match object; span=(243, 244), match='t'>,\n",
       " <re.Match object; span=(244, 245), match='h'>,\n",
       " <re.Match object; span=(245, 246), match='\\n'>,\n",
       " <re.Match object; span=(246, 247), match='M'>,\n",
       " <re.Match object; span=(247, 248), match='s'>,\n",
       " <re.Match object; span=(248, 249), match=' '>,\n",
       " <re.Match object; span=(249, 250), match='D'>,\n",
       " <re.Match object; span=(250, 251), match='a'>,\n",
       " <re.Match object; span=(251, 252), match='v'>,\n",
       " <re.Match object; span=(252, 253), match='i'>,\n",
       " <re.Match object; span=(253, 254), match='s'>,\n",
       " <re.Match object; span=(254, 255), match='\\n'>,\n",
       " <re.Match object; span=(255, 256), match='M'>,\n",
       " <re.Match object; span=(256, 257), match='r'>,\n",
       " <re.Match object; span=(257, 258), match='s'>,\n",
       " <re.Match object; span=(258, 259), match='.'>,\n",
       " <re.Match object; span=(259, 260), match=' '>,\n",
       " <re.Match object; span=(260, 261), match='R'>,\n",
       " <re.Match object; span=(261, 262), match='o'>,\n",
       " <re.Match object; span=(262, 263), match='b'>,\n",
       " <re.Match object; span=(263, 264), match='i'>,\n",
       " <re.Match object; span=(264, 265), match='n'>,\n",
       " <re.Match object; span=(265, 266), match='s'>,\n",
       " <re.Match object; span=(266, 267), match='o'>,\n",
       " <re.Match object; span=(267, 268), match='n'>,\n",
       " <re.Match object; span=(268, 269), match='\\n'>,\n",
       " <re.Match object; span=(269, 270), match='M'>,\n",
       " <re.Match object; span=(270, 271), match='r'>,\n",
       " <re.Match object; span=(271, 272), match='.'>,\n",
       " <re.Match object; span=(272, 273), match=' '>,\n",
       " <re.Match object; span=(273, 274), match='T'>,\n",
       " <re.Match object; span=(274, 275), match='\\n'>]"
      ]
     },
     "execution_count": 51,
     "metadata": {},
     "output_type": "execute_result"
    }
   ],
   "source": [
    "# Any Not a Digit (0-9)\n",
    "searchText = re.compile(r'\\D')\n",
    "matches_found = searchText.finditer(sampleText)\n",
    "[match for match in matches_found]"
   ]
  },
  {
   "cell_type": "code",
   "execution_count": 52,
   "id": "4e982e84",
   "metadata": {},
   "outputs": [
    {
     "data": {
      "text/plain": [
       "[<re.Match object; span=(55, 57), match='12'>,\n",
       " <re.Match object; span=(57, 59), match='34'>,\n",
       " <re.Match object; span=(59, 61), match='56'>,\n",
       " <re.Match object; span=(61, 63), match='78'>,\n",
       " <re.Match object; span=(63, 65), match='90'>,\n",
       " <re.Match object; span=(66, 68), match='12'>,\n",
       " <re.Match object; span=(68, 70), match='3a'>,\n",
       " <re.Match object; span=(170, 172), match='32'>,\n",
       " <re.Match object; span=(174, 176), match='55'>,\n",
       " <re.Match object; span=(178, 180), match='43'>,\n",
       " <re.Match object; span=(180, 182), match='21'>,\n",
       " <re.Match object; span=(183, 185), match='12'>,\n",
       " <re.Match object; span=(187, 189), match='55'>,\n",
       " <re.Match object; span=(191, 193), match='12'>,\n",
       " <re.Match object; span=(193, 195), match='34'>]"
      ]
     },
     "execution_count": 52,
     "metadata": {},
     "output_type": "execute_result"
    }
   ],
   "source": [
    "# Finding a number followed by word character\n",
    "# Any Digit (0-9) and Word Character (a-z, A-Z, 0-9, _)\n",
    "searchText = re.compile(r'\\d\\w')\n",
    "matches_found = searchText.finditer(sampleText)\n",
    "[match for match in matches_found]"
   ]
  },
  {
   "cell_type": "code",
   "execution_count": 53,
   "id": "66e374f3",
   "metadata": {},
   "outputs": [
    {
     "name": "stdout",
     "output_type": "stream",
     "text": [
      "23 is not found since 12 is found and since its overlapping the same it move to the next position.\n"
     ]
    }
   ],
   "source": [
    "print('23 is not found since 12 is found and since its overlapping the same it move to the next position.')"
   ]
  },
  {
   "cell_type": "code",
   "execution_count": 54,
   "id": "829c6b0d",
   "metadata": {},
   "outputs": [
    {
     "data": {
      "text/plain": [
       "[<re.Match object; span=(64, 66), match='0\\n'>,\n",
       " <re.Match object; span=(181, 183), match='1\\n'>,\n",
       " <re.Match object; span=(194, 196), match='4\\n'>]"
      ]
     },
     "execution_count": 54,
     "metadata": {},
     "output_type": "execute_result"
    }
   ],
   "source": [
    "# Finding a number followed by space, tab or newline\n",
    "# Any Digit (0-9) and Whitespace (space, tab, newline)\n",
    "searchText = re.compile(r'\\d\\s')\n",
    "matches_found = searchText.finditer(sampleText)\n",
    "[match for match in matches_found]"
   ]
  },
  {
   "cell_type": "markdown",
   "id": "2bd69122",
   "metadata": {},
   "source": [
    "### Word Boundary"
   ]
  },
  {
   "cell_type": "code",
   "execution_count": 55,
   "id": "d090ae93",
   "metadata": {},
   "outputs": [
    {
     "data": {
      "text/plain": [
       "[<re.Match object; span=(74, 79), match='Hello'>,\n",
       " <re.Match object; span=(80, 85), match='Hello'>,\n",
       " <re.Match object; span=(85, 90), match='Hello'>]"
      ]
     },
     "execution_count": 55,
     "metadata": {},
     "output_type": "execute_result"
    }
   ],
   "source": [
    "# Search for an entire word, using the word boundry\n",
    "searchText = re.compile(r'Hello')\n",
    "matches_found = searchText.finditer(sampleText)\n",
    "[match for match in matches_found]"
   ]
  },
  {
   "cell_type": "code",
   "execution_count": 56,
   "id": "7e315f8a",
   "metadata": {},
   "outputs": [
    {
     "data": {
      "text/plain": [
       "[<re.Match object; span=(74, 79), match='Hello'>,\n",
       " <re.Match object; span=(85, 90), match='Hello'>]"
      ]
     },
     "execution_count": 56,
     "metadata": {},
     "output_type": "execute_result"
    }
   ],
   "source": [
    "searchText = re.compile(r'Hello\\b')\n",
    "matches_found = searchText.finditer(sampleText)\n",
    "[match for match in matches_found]"
   ]
  },
  {
   "cell_type": "code",
   "execution_count": 57,
   "id": "6112e6ed",
   "metadata": {},
   "outputs": [
    {
     "data": {
      "text/plain": [
       "[<re.Match object; span=(74, 79), match='Hello'>,\n",
       " <re.Match object; span=(85, 90), match='Hello'>]"
      ]
     },
     "execution_count": 57,
     "metadata": {},
     "output_type": "execute_result"
    }
   ],
   "source": [
    "searchText = re.compile(r'Hello\\b')\n",
    "matches_found = searchText.finditer(sampleText)\n",
    "[match for match in matches_found]"
   ]
  },
  {
   "cell_type": "code",
   "execution_count": 58,
   "id": "3c2f46e6",
   "metadata": {},
   "outputs": [
    {
     "data": {
      "text/plain": [
       "[<re.Match object; span=(74, 79), match='Hello'>,\n",
       " <re.Match object; span=(85, 90), match='Hello'>]"
      ]
     },
     "execution_count": 58,
     "metadata": {},
     "output_type": "execute_result"
    }
   ],
   "source": [
    "searchText = re.compile(r'Hello\\b')\n",
    "matches_found = searchText.finditer(sampleText)\n",
    "[match for match in matches_found]"
   ]
  },
  {
   "cell_type": "code",
   "execution_count": 59,
   "id": "2a14daec",
   "metadata": {},
   "outputs": [
    {
     "data": {
      "text/plain": [
       "[<re.Match object; span=(55, 56), match='1'>,\n",
       " <re.Match object; span=(66, 67), match='1'>,\n",
       " <re.Match object; span=(170, 171), match='3'>,\n",
       " <re.Match object; span=(174, 175), match='5'>,\n",
       " <re.Match object; span=(178, 179), match='4'>,\n",
       " <re.Match object; span=(183, 184), match='1'>,\n",
       " <re.Match object; span=(187, 188), match='5'>,\n",
       " <re.Match object; span=(191, 192), match='1'>]"
      ]
     },
     "execution_count": 59,
     "metadata": {},
     "output_type": "execute_result"
    }
   ],
   "source": [
    "searchText = re.compile(r'\\b\\d')\n",
    "matches_found = searchText.finditer(sampleText)\n",
    "[match for match in matches_found]"
   ]
  },
  {
   "cell_type": "code",
   "execution_count": 60,
   "id": "93541bbf",
   "metadata": {},
   "outputs": [
    {
     "data": {
      "text/plain": [
       "[<re.Match object; span=(0, 1), match='\\n'>]"
      ]
     },
     "execution_count": 60,
     "metadata": {},
     "output_type": "execute_result"
    }
   ],
   "source": [
    "# Frist Character at Begining of the string\n",
    "searchText = re.compile(r'^\\s')\n",
    "matches_found = searchText.finditer(sampleText)\n",
    "[match for match in matches_found]"
   ]
  },
  {
   "cell_type": "markdown",
   "id": "f4b9c548",
   "metadata": {},
   "source": [
    "### Sets of Character"
   ]
  },
  {
   "cell_type": "code",
   "execution_count": 61,
   "id": "32e1e20e",
   "metadata": {},
   "outputs": [
    {
     "data": {
      "text/plain": [
       "[<re.Match object; span=(55, 57), match='12'>,\n",
       " <re.Match object; span=(57, 59), match='34'>,\n",
       " <re.Match object; span=(66, 68), match='12'>,\n",
       " <re.Match object; span=(68, 70), match='3a'>,\n",
       " <re.Match object; span=(170, 172), match='32'>,\n",
       " <re.Match object; span=(179, 181), match='32'>,\n",
       " <re.Match object; span=(183, 185), match='12'>,\n",
       " <re.Match object; span=(191, 193), match='12'>,\n",
       " <re.Match object; span=(193, 195), match='34'>]"
      ]
     },
     "execution_count": 61,
     "metadata": {},
     "output_type": "execute_result"
    }
   ],
   "source": [
    "# Find any of the characters starting with 123\n",
    "searchText = re.compile(r'[123]\\w')\n",
    "matches_found = searchText.finditer(sampleText)\n",
    "[match for match in matches_found]"
   ]
  },
  {
   "cell_type": "code",
   "execution_count": 62,
   "id": "efab4e5c",
   "metadata": {},
   "outputs": [
    {
     "data": {
      "text/plain": [
       "[<re.Match object; span=(1, 3), match='ab'>,\n",
       " <re.Match object; span=(3, 5), match='cd'>,\n",
       " <re.Match object; span=(5, 7), match='ef'>,\n",
       " <re.Match object; span=(7, 9), match='gh'>,\n",
       " <re.Match object; span=(9, 11), match='ij'>,\n",
       " <re.Match object; span=(11, 13), match='kl'>,\n",
       " <re.Match object; span=(13, 15), match='mn'>,\n",
       " <re.Match object; span=(15, 17), match='op'>,\n",
       " <re.Match object; span=(17, 19), match='qu'>,\n",
       " <re.Match object; span=(19, 21), match='rt'>,\n",
       " <re.Match object; span=(21, 23), match='uv'>,\n",
       " <re.Match object; span=(23, 25), match='wx'>,\n",
       " <re.Match object; span=(25, 27), match='yz'>,\n",
       " <re.Match object; span=(69, 71), match='ab'>,\n",
       " <re.Match object; span=(75, 77), match='el'>,\n",
       " <re.Match object; span=(77, 79), match='lo'>,\n",
       " <re.Match object; span=(81, 83), match='el'>,\n",
       " <re.Match object; span=(83, 85), match='lo'>,\n",
       " <re.Match object; span=(86, 88), match='el'>,\n",
       " <re.Match object; span=(88, 90), match='lo'>,\n",
       " <re.Match object; span=(93, 95), match='et'>,\n",
       " <re.Match object; span=(97, 99), match='ha'>,\n",
       " <re.Match object; span=(99, 101), match='ra'>,\n",
       " <re.Match object; span=(101, 103), match='ct'>,\n",
       " <re.Match object; span=(103, 105), match='er'>,\n",
       " <re.Match object; span=(109, 111), match='ee'>,\n",
       " <re.Match object; span=(113, 115), match='to'>,\n",
       " <re.Match object; span=(116, 118), match='be'>,\n",
       " <re.Match object; span=(119, 121), match='es'>,\n",
       " <re.Match object; span=(121, 123), match='ca'>,\n",
       " <re.Match object; span=(123, 125), match='pe'>,\n",
       " <re.Match object; span=(158, 160), match='ut'>,\n",
       " <re.Match object; span=(160, 162), match='ex'>,\n",
       " <re.Match object; span=(162, 164), match='as'>,\n",
       " <re.Match object; span=(165, 167), match='ed'>,\n",
       " <re.Match object; span=(197, 199), match='da'>,\n",
       " <re.Match object; span=(199, 201), match='ni'>,\n",
       " <re.Match object; span=(201, 203), match='el'>,\n",
       " <re.Match object; span=(204, 206), match='mi'>,\n",
       " <re.Match object; span=(206, 208), match='tc'>,\n",
       " <re.Match object; span=(208, 210), match='he'>,\n",
       " <re.Match object; span=(210, 212), match='ll'>,\n",
       " <re.Match object; span=(213, 215), match='ut'>,\n",
       " <re.Match object; span=(215, 217), match='ex'>,\n",
       " <re.Match object; span=(217, 219), match='as'>,\n",
       " <re.Match object; span=(220, 222), match='ed'>,\n",
       " <re.Match object; span=(230, 232), match='oh'>,\n",
       " <re.Match object; span=(232, 234), match='ns'>,\n",
       " <re.Match object; span=(234, 236), match='on'>,\n",
       " <re.Match object; span=(241, 243), match='mi'>,\n",
       " <re.Match object; span=(243, 245), match='th'>,\n",
       " <re.Match object; span=(250, 252), match='av'>,\n",
       " <re.Match object; span=(252, 254), match='is'>,\n",
       " <re.Match object; span=(256, 258), match='rs'>,\n",
       " <re.Match object; span=(261, 263), match='ob'>,\n",
       " <re.Match object; span=(263, 265), match='in'>,\n",
       " <re.Match object; span=(265, 267), match='so'>]"
      ]
     },
     "execution_count": 62,
     "metadata": {},
     "output_type": "execute_result"
    }
   ],
   "source": [
    "# Find any of two lower case letters\n",
    "searchText = re.compile(r'[a-z][a-z]')\n",
    "matches_found = searchText.finditer(sampleText)\n",
    "[match for match in matches_found]"
   ]
  },
  {
   "cell_type": "code",
   "execution_count": 63,
   "id": "eb114b0a",
   "metadata": {},
   "outputs": [
    {
     "data": {
      "text/plain": [
       "[<re.Match object; span=(1, 3), match='ab'>,\n",
       " <re.Match object; span=(3, 5), match='cd'>,\n",
       " <re.Match object; span=(5, 7), match='ef'>,\n",
       " <re.Match object; span=(7, 9), match='gh'>,\n",
       " <re.Match object; span=(9, 11), match='ij'>,\n",
       " <re.Match object; span=(11, 13), match='kl'>,\n",
       " <re.Match object; span=(13, 15), match='mn'>,\n",
       " <re.Match object; span=(15, 17), match='op'>,\n",
       " <re.Match object; span=(17, 19), match='qu'>,\n",
       " <re.Match object; span=(19, 21), match='rt'>,\n",
       " <re.Match object; span=(21, 23), match='uv'>,\n",
       " <re.Match object; span=(23, 25), match='wx'>,\n",
       " <re.Match object; span=(25, 27), match='yz'>,\n",
       " <re.Match object; span=(28, 30), match='AB'>,\n",
       " <re.Match object; span=(30, 32), match='CD'>,\n",
       " <re.Match object; span=(32, 34), match='EF'>,\n",
       " <re.Match object; span=(34, 36), match='GH'>,\n",
       " <re.Match object; span=(36, 38), match='IJ'>,\n",
       " <re.Match object; span=(38, 40), match='KL'>,\n",
       " <re.Match object; span=(40, 42), match='MN'>,\n",
       " <re.Match object; span=(42, 44), match='OP'>,\n",
       " <re.Match object; span=(44, 46), match='QR'>,\n",
       " <re.Match object; span=(46, 48), match='ST'>,\n",
       " <re.Match object; span=(48, 50), match='UV'>,\n",
       " <re.Match object; span=(50, 52), match='WX'>,\n",
       " <re.Match object; span=(52, 54), match='YZ'>,\n",
       " <re.Match object; span=(55, 57), match='12'>,\n",
       " <re.Match object; span=(57, 59), match='34'>,\n",
       " <re.Match object; span=(59, 61), match='56'>,\n",
       " <re.Match object; span=(61, 63), match='78'>,\n",
       " <re.Match object; span=(63, 65), match='90'>,\n",
       " <re.Match object; span=(66, 68), match='12'>,\n",
       " <re.Match object; span=(68, 70), match='3a'>,\n",
       " <re.Match object; span=(70, 72), match='bc'>,\n",
       " <re.Match object; span=(74, 76), match='He'>,\n",
       " <re.Match object; span=(76, 78), match='ll'>,\n",
       " <re.Match object; span=(80, 82), match='He'>,\n",
       " <re.Match object; span=(82, 84), match='ll'>,\n",
       " <re.Match object; span=(84, 86), match='oH'>,\n",
       " <re.Match object; span=(86, 88), match='el'>,\n",
       " <re.Match object; span=(88, 90), match='lo'>,\n",
       " <re.Match object; span=(92, 94), match='Me'>,\n",
       " <re.Match object; span=(94, 96), match='ta'>,\n",
       " <re.Match object; span=(96, 98), match='Ch'>,\n",
       " <re.Match object; span=(98, 100), match='ar'>,\n",
       " <re.Match object; span=(100, 102), match='ac'>,\n",
       " <re.Match object; span=(102, 104), match='te'>,\n",
       " <re.Match object; span=(104, 106), match='rs'>,\n",
       " <re.Match object; span=(108, 110), match='Ne'>,\n",
       " <re.Match object; span=(110, 112), match='ed'>,\n",
       " <re.Match object; span=(113, 115), match='to'>,\n",
       " <re.Match object; span=(116, 118), match='be'>,\n",
       " <re.Match object; span=(119, 121), match='es'>,\n",
       " <re.Match object; span=(121, 123), match='ca'>,\n",
       " <re.Match object; span=(123, 125), match='pe'>,\n",
       " <re.Match object; span=(158, 160), match='ut'>,\n",
       " <re.Match object; span=(160, 162), match='ex'>,\n",
       " <re.Match object; span=(162, 164), match='as'>,\n",
       " <re.Match object; span=(165, 167), match='ed'>,\n",
       " <re.Match object; span=(170, 172), match='32'>,\n",
       " <re.Match object; span=(174, 176), match='55'>,\n",
       " <re.Match object; span=(178, 180), match='43'>,\n",
       " <re.Match object; span=(180, 182), match='21'>,\n",
       " <re.Match object; span=(183, 185), match='12'>,\n",
       " <re.Match object; span=(187, 189), match='55'>,\n",
       " <re.Match object; span=(191, 193), match='12'>,\n",
       " <re.Match object; span=(193, 195), match='34'>,\n",
       " <re.Match object; span=(197, 199), match='da'>,\n",
       " <re.Match object; span=(199, 201), match='ni'>,\n",
       " <re.Match object; span=(201, 203), match='el'>,\n",
       " <re.Match object; span=(204, 206), match='mi'>,\n",
       " <re.Match object; span=(206, 208), match='tc'>,\n",
       " <re.Match object; span=(208, 210), match='he'>,\n",
       " <re.Match object; span=(210, 212), match='ll'>,\n",
       " <re.Match object; span=(213, 215), match='ut'>,\n",
       " <re.Match object; span=(215, 217), match='ex'>,\n",
       " <re.Match object; span=(217, 219), match='as'>,\n",
       " <re.Match object; span=(220, 222), match='ed'>,\n",
       " <re.Match object; span=(225, 227), match='Mr'>,\n",
       " <re.Match object; span=(229, 231), match='Jo'>,\n",
       " <re.Match object; span=(231, 233), match='hn'>,\n",
       " <re.Match object; span=(233, 235), match='so'>,\n",
       " <re.Match object; span=(237, 239), match='Mr'>,\n",
       " <re.Match object; span=(240, 242), match='Sm'>,\n",
       " <re.Match object; span=(242, 244), match='it'>,\n",
       " <re.Match object; span=(246, 248), match='Ms'>,\n",
       " <re.Match object; span=(249, 251), match='Da'>,\n",
       " <re.Match object; span=(251, 253), match='vi'>,\n",
       " <re.Match object; span=(255, 257), match='Mr'>,\n",
       " <re.Match object; span=(260, 262), match='Ro'>,\n",
       " <re.Match object; span=(262, 264), match='bi'>,\n",
       " <re.Match object; span=(264, 266), match='ns'>,\n",
       " <re.Match object; span=(266, 268), match='on'>,\n",
       " <re.Match object; span=(269, 271), match='Mr'>]"
      ]
     },
     "execution_count": 63,
     "metadata": {},
     "output_type": "execute_result"
    }
   ],
   "source": [
    "# Find any of two lower/upper case letters or digits\n",
    "searchText = re.compile(r'[a-zA-Z0-9][a-zA-Z0-9]')\n",
    "matches_found = searchText.finditer(sampleText)\n",
    "[match for match in matches_found]"
   ]
  },
  {
   "cell_type": "code",
   "execution_count": 64,
   "id": "ffca9379",
   "metadata": {},
   "outputs": [
    {
     "data": {
      "text/plain": [
       "[<re.Match object; span=(26, 28), match='z\\n'>,\n",
       " <re.Match object; span=(53, 55), match='Z\\n'>,\n",
       " <re.Match object; span=(64, 66), match='0\\n'>,\n",
       " <re.Match object; span=(71, 73), match='c\\n'>,\n",
       " <re.Match object; span=(78, 80), match='o '>,\n",
       " <re.Match object; span=(89, 91), match='o\\n'>,\n",
       " <re.Match object; span=(105, 107), match='s '>,\n",
       " <re.Match object; span=(111, 113), match='d '>,\n",
       " <re.Match object; span=(114, 116), match='o '>,\n",
       " <re.Match object; span=(117, 119), match='e '>,\n",
       " <re.Match object; span=(125, 127), match='d)'>,\n",
       " <re.Match object; span=(163, 165), match='s.'>,\n",
       " <re.Match object; span=(167, 169), match='u\\n'>,\n",
       " <re.Match object; span=(172, 174), match='1-'>,\n",
       " <re.Match object; span=(176, 178), match='5-'>,\n",
       " <re.Match object; span=(181, 183), match='1\\n'>,\n",
       " <re.Match object; span=(185, 187), match='3.'>,\n",
       " <re.Match object; span=(189, 191), match='5.'>,\n",
       " <re.Match object; span=(194, 196), match='4\\n'>,\n",
       " <re.Match object; span=(202, 204), match='l-'>,\n",
       " <re.Match object; span=(211, 213), match='l@'>,\n",
       " <re.Match object; span=(218, 220), match='s.'>,\n",
       " <re.Match object; span=(222, 224), match='u\\n'>,\n",
       " <re.Match object; span=(226, 228), match='r.'>,\n",
       " <re.Match object; span=(235, 237), match='n\\n'>,\n",
       " <re.Match object; span=(238, 240), match='r '>,\n",
       " <re.Match object; span=(244, 246), match='h\\n'>,\n",
       " <re.Match object; span=(247, 249), match='s '>,\n",
       " <re.Match object; span=(253, 255), match='s\\n'>,\n",
       " <re.Match object; span=(257, 259), match='s.'>,\n",
       " <re.Match object; span=(267, 269), match='n\\n'>,\n",
       " <re.Match object; span=(270, 272), match='r.'>,\n",
       " <re.Match object; span=(273, 275), match='T\\n'>]"
      ]
     },
     "execution_count": 64,
     "metadata": {},
     "output_type": "execute_result"
    }
   ],
   "source": [
    "# Find first letter/digit and then not a letter/digit\n",
    "searchText = re.compile(r'[a-zA-Z0-9][^a-zA-Z0-9]')\n",
    "matches_found = searchText.finditer(sampleText)\n",
    "[match for match in matches_found]"
   ]
  },
  {
   "cell_type": "markdown",
   "id": "087321af",
   "metadata": {},
   "source": [
    "### Group of Characters"
   ]
  },
  {
   "cell_type": "code",
   "execution_count": 65,
   "id": "4161a60d",
   "metadata": {},
   "outputs": [
    {
     "data": {
      "text/plain": [
       "[<re.Match object; span=(69, 72), match='abc'>,\n",
       " <re.Match object; span=(159, 164), match='texas'>,\n",
       " <re.Match object; span=(165, 168), match='edu'>,\n",
       " <re.Match object; span=(214, 219), match='texas'>,\n",
       " <re.Match object; span=(220, 223), match='edu'>]"
      ]
     },
     "execution_count": 65,
     "metadata": {},
     "output_type": "execute_result"
    }
   ],
   "source": [
    "# Find set of characters\n",
    "searchText = re.compile(r'(abc|edu|texas)\\b')\n",
    "matches_found = searchText.finditer(sampleText)\n",
    "[match for match in matches_found]"
   ]
  },
  {
   "cell_type": "code",
   "execution_count": 66,
   "id": "2d9947a5",
   "metadata": {},
   "outputs": [
    {
     "data": {
      "text/plain": [
       "[<re.Match object; span=(1, 4), match='abc'>,\n",
       " <re.Match object; span=(69, 72), match='abc'>,\n",
       " <re.Match object; span=(159, 164), match='texas'>,\n",
       " <re.Match object; span=(165, 168), match='edu'>,\n",
       " <re.Match object; span=(214, 219), match='texas'>,\n",
       " <re.Match object; span=(220, 223), match='edu'>]"
      ]
     },
     "execution_count": 66,
     "metadata": {},
     "output_type": "execute_result"
    }
   ],
   "source": [
    "# Find set of characters\n",
    "searchText = re.compile(r'(abc|edu|texas)')\n",
    "matches_found = searchText.finditer(sampleText)\n",
    "[match for match in matches_found]"
   ]
  },
  {
   "cell_type": "code",
   "execution_count": 67,
   "id": "b95b87a8",
   "metadata": {},
   "outputs": [
    {
     "data": {
      "text/plain": [
       "[<re.Match object; span=(28, 30), match='AB'>,\n",
       " <re.Match object; span=(30, 32), match='CD'>,\n",
       " <re.Match object; span=(32, 34), match='EF'>,\n",
       " <re.Match object; span=(34, 36), match='GH'>,\n",
       " <re.Match object; span=(36, 38), match='IJ'>,\n",
       " <re.Match object; span=(38, 40), match='KL'>,\n",
       " <re.Match object; span=(40, 42), match='MN'>,\n",
       " <re.Match object; span=(42, 44), match='OP'>,\n",
       " <re.Match object; span=(44, 46), match='QR'>,\n",
       " <re.Match object; span=(46, 48), match='ST'>,\n",
       " <re.Match object; span=(48, 50), match='UV'>,\n",
       " <re.Match object; span=(50, 52), match='WX'>,\n",
       " <re.Match object; span=(52, 54), match='YZ'>,\n",
       " <re.Match object; span=(74, 76), match='He'>,\n",
       " <re.Match object; span=(80, 82), match='He'>,\n",
       " <re.Match object; span=(82, 86), match='lloH'>,\n",
       " <re.Match object; span=(92, 94), match='Me'>,\n",
       " <re.Match object; span=(96, 98), match='Ch'>,\n",
       " <re.Match object; span=(108, 110), match='Ne'>,\n",
       " <re.Match object; span=(225, 227), match='Mr'>,\n",
       " <re.Match object; span=(229, 231), match='Jo'>,\n",
       " <re.Match object; span=(237, 239), match='Mr'>,\n",
       " <re.Match object; span=(240, 242), match='Sm'>,\n",
       " <re.Match object; span=(246, 248), match='Ms'>,\n",
       " <re.Match object; span=(249, 251), match='Da'>,\n",
       " <re.Match object; span=(255, 257), match='Mr'>,\n",
       " <re.Match object; span=(260, 262), match='Ro'>,\n",
       " <re.Match object; span=(269, 271), match='Mr'>]"
      ]
     },
     "execution_count": 67,
     "metadata": {},
     "output_type": "execute_result"
    }
   ],
   "source": [
    "# Find set of characters\n",
    "searchText = re.compile(r'([A-Z]|llo)[a-zA-Z]')\n",
    "matches_found = searchText.finditer(sampleText)\n",
    "[match for match in matches_found]"
   ]
  },
  {
   "cell_type": "markdown",
   "id": "d6654cf8",
   "metadata": {},
   "source": [
    "### Quantifiers"
   ]
  },
  {
   "cell_type": "code",
   "execution_count": 68,
   "id": "69a6aeab",
   "metadata": {},
   "outputs": [
    {
     "data": {
      "text/plain": [
       "[<re.Match object; span=(225, 230), match='Mr. J'>,\n",
       " <re.Match object; span=(237, 241), match='Mr S'>,\n",
       " <re.Match object; span=(269, 274), match='Mr. T'>]"
      ]
     },
     "execution_count": 68,
     "metadata": {},
     "output_type": "execute_result"
    }
   ],
   "source": [
    "# Find names that start with Mr or Mr. with space and then characters\n",
    "searchText = re.compile(r'Mr\\.?\\s[A-Z]')\n",
    "matches_found = searchText.finditer(sampleText)\n",
    "[match for match in matches_found]"
   ]
  },
  {
   "cell_type": "code",
   "execution_count": 69,
   "id": "1d053eaf",
   "metadata": {},
   "outputs": [
    {
     "data": {
      "text/plain": [
       "[<re.Match object; span=(225, 229), match='Mr. '>,\n",
       " <re.Match object; span=(237, 240), match='Mr '>,\n",
       " <re.Match object; span=(255, 257), match='Mr'>,\n",
       " <re.Match object; span=(269, 273), match='Mr. '>]"
      ]
     },
     "execution_count": 69,
     "metadata": {},
     "output_type": "execute_result"
    }
   ],
   "source": [
    "# Find names that start with Mr or Mr. with space and then characters\n",
    "searchText = re.compile(r'Mr\\.?\\s*')\n",
    "matches_found = searchText.finditer(sampleText)\n",
    "[match for match in matches_found]"
   ]
  },
  {
   "cell_type": "code",
   "execution_count": 70,
   "id": "8749ce89",
   "metadata": {},
   "outputs": [
    {
     "data": {
      "text/plain": [
       "[<re.Match object; span=(225, 236), match='Mr. Johnson'>,\n",
       " <re.Match object; span=(237, 245), match='Mr Smith'>,\n",
       " <re.Match object; span=(269, 274), match='Mr. T'>]"
      ]
     },
     "execution_count": 70,
     "metadata": {},
     "output_type": "execute_result"
    }
   ],
   "source": [
    "# Find names that start with Mr or Mr. with space Uppercase letter followed by and one or more characters\n",
    "searchText = re.compile(r'Mr\\.?\\s[A-Z][a-z]*')\n",
    "matches_found = searchText.finditer(sampleText)\n",
    "[match for match in matches_found]"
   ]
  },
  {
   "cell_type": "code",
   "execution_count": 71,
   "id": "4cf15fc1",
   "metadata": {},
   "outputs": [
    {
     "data": {
      "text/plain": [
       "[<re.Match object; span=(246, 254), match='Ms Davis'>,\n",
       " <re.Match object; span=(255, 268), match='Mrs. Robinson'>]"
      ]
     },
     "execution_count": 71,
     "metadata": {},
     "output_type": "execute_result"
    }
   ],
   "source": [
    "# Find names that start with Ms or Mrs. with space Uppercase letter followed by and one or more characters\n",
    "searchText = re.compile(r'M(s|rs)\\.?\\s[A-Z][a-z]*')\n",
    "matches_found = searchText.finditer(sampleText)\n",
    "[match for match in matches_found]"
   ]
  },
  {
   "cell_type": "code",
   "execution_count": 77,
   "id": "835ee7bf",
   "metadata": {},
   "outputs": [
    {
     "data": {
      "text/plain": [
       "[<re.Match object; span=(170, 182), match='321-555-4321'>,\n",
       " <re.Match object; span=(183, 195), match='123.555.1234'>]"
      ]
     },
     "execution_count": 77,
     "metadata": {},
     "output_type": "execute_result"
    }
   ],
   "source": [
    "# Finding phone number patterns\n",
    "# 321-555-4321\n",
    "# 123.555.1234\n",
    "searchText = re.compile(r'\\d{3}(.|-)\\d{3}(.|-)\\d{4}')\n",
    "matches_found = searchText.finditer(sampleText)\n",
    "[match for match in matches_found]"
   ]
  },
  {
   "cell_type": "code",
   "execution_count": 75,
   "id": "12aae68e",
   "metadata": {},
   "outputs": [
    {
     "data": {
      "text/plain": [
       "[<re.Match object; span=(170, 182), match='321-555-4321'>,\n",
       " <re.Match object; span=(183, 195), match='123.555.1234'>]"
      ]
     },
     "execution_count": 75,
     "metadata": {},
     "output_type": "execute_result"
    }
   ],
   "source": [
    "# Finding phone number patterns\n",
    "# 321-555-4321\n",
    "# 123.555.1234\n",
    "searchText = re.compile(r'\\d{3}[.-]\\d{3}[.|-]\\d{4}')\n",
    "matches_found = searchText.finditer(sampleText)\n",
    "[match for match in matches_found]"
   ]
  },
  {
   "cell_type": "code",
   "execution_count": 78,
   "id": "ba8c71da",
   "metadata": {},
   "outputs": [
    {
     "data": {
      "text/plain": [
       "[<re.Match object; span=(197, 223), match='daniel-mitchell@utexas.edu'>]"
      ]
     },
     "execution_count": 78,
     "metadata": {},
     "output_type": "execute_result"
    }
   ],
   "source": [
    "# Find the email ids\n",
    "searchText = re.compile(r'[a-zA-Z0-9_.+-]+@[a-zA-Z0-9-]+\\.[a-zA-Z0-9-.]+')\n",
    "matches_found = searchText.finditer(sampleText)\n",
    "[match for match in matches_found]"
   ]
  },
  {
   "cell_type": "markdown",
   "id": "a66ad3ca",
   "metadata": {},
   "source": [
    "## Processing information from the Python finditer or Match object"
   ]
  },
  {
   "cell_type": "code",
   "execution_count": 82,
   "id": "85fe1dea",
   "metadata": {},
   "outputs": [
    {
     "name": "stdout",
     "output_type": "stream",
     "text": [
      "(197, 223)\n",
      "daniel-mitchell@utexas.edu\n",
      "daniel-mitchell@utexas.edu\n"
     ]
    }
   ],
   "source": [
    "# Find the email ids\n",
    "searchText = re.compile(r'[a-zA-Z0-9_.+-]+@[a-zA-Z0-9-]+\\.[a-zA-Z0-9-.]{2,4}')\n",
    "matches_found = searchText.finditer(sampleText)\n",
    "for match in matches_found:\n",
    "    print(match.span(0))\n",
    "    print(match.group(0))\n",
    "    print(sampleText[match.span(0)[0]:match.span(0)[1]])"
   ]
  },
  {
   "cell_type": "code",
   "execution_count": 83,
   "id": "64acc99b",
   "metadata": {},
   "outputs": [
    {
     "name": "stdout",
     "output_type": "stream",
     "text": [
      "(170, 182)\n",
      "321-555-4321\n",
      "321-555-4321\n",
      "(183, 195)\n",
      "123.555.1234\n",
      "123.555.1234\n"
     ]
    }
   ],
   "source": [
    "# Finding phone number patterns\n",
    "# 321-555-4321\n",
    "# 123.555.1234\n",
    "searchText = re.compile(r'\\d{3}[.-]\\d{3}[.|-]\\d{4}')\n",
    "matches_found = searchText.finditer(sampleText)\n",
    "for match in matches_found:\n",
    "    print(match.span(0))\n",
    "    print(match.group(0))\n",
    "    print(sampleText[match.span(0)[0]:match.span(0)[1]])"
   ]
  },
  {
   "cell_type": "code",
   "execution_count": 84,
   "id": "47d9ddc8",
   "metadata": {},
   "outputs": [],
   "source": [
    "urls = r'''\n",
    "https://www.google.com\n",
    "http://yahoo.com\n",
    "https://www.india.gov.in\n",
    "https://iimc.org\n",
    "'''"
   ]
  },
  {
   "cell_type": "code",
   "execution_count": 91,
   "id": "e2a5ad4e",
   "metadata": {},
   "outputs": [
    {
     "name": "stdout",
     "output_type": "stream",
     "text": [
      "<re.Match object; span=(1, 23), match='https://www.google.com'>\n",
      "(1, 23)\n",
      "https://www.google.com\n",
      "https://www.google.com\n",
      "<re.Match object; span=(24, 40), match='http://yahoo.com'>\n",
      "(24, 40)\n",
      "http://yahoo.com\n",
      "http://yahoo.com\n",
      "<re.Match object; span=(41, 62), match='https://www.india.gov'>\n",
      "(41, 62)\n",
      "https://www.india.gov\n",
      "https://www.india.gov\n",
      "<re.Match object; span=(66, 82), match='https://iimc.org'>\n",
      "(66, 82)\n",
      "https://iimc.org\n",
      "https://iimc.org\n"
     ]
    }
   ],
   "source": [
    "searchText = re.compile(r'https?://(www\\.)?\\w+\\.\\w+')\n",
    "matches_found = searchText.finditer(urls)\n",
    "for match in matches_found:\n",
    "    print(match)\n",
    "    print(match.span())\n",
    "    print(match.group(0))\n",
    "    print(urls[match.span(0)[0]:match.span(0)[1]])"
   ]
  },
  {
   "cell_type": "code",
   "execution_count": 102,
   "id": "59cca5fb",
   "metadata": {},
   "outputs": [
    {
     "name": "stdout",
     "output_type": "stream",
     "text": [
      "<re.Match object; span=(1, 23), match='https://www.google.com'>\n",
      "(1, 23)\n",
      "https://www.google.com\n",
      "google.com\n",
      "google.com\n",
      "<re.Match object; span=(24, 40), match='http://yahoo.com'>\n",
      "(24, 40)\n",
      "http://yahoo.com\n",
      "yahoo.com\n",
      "yahoo.com\n",
      "<re.Match object; span=(41, 62), match='https://www.india.gov'>\n",
      "(41, 62)\n",
      "https://www.india.gov\n",
      "india.gov\n",
      "india.gov\n",
      "<re.Match object; span=(66, 82), match='https://iimc.org'>\n",
      "(66, 82)\n",
      "https://iimc.org\n",
      "iimc.org\n",
      "iimc.org\n"
     ]
    }
   ],
   "source": [
    "searchText = re.compile(r'https?://(www\\.)?(\\w+)(\\.\\w+)')\n",
    "matches_found = searchText.finditer(urls)\n",
    "for match in matches_found:\n",
    "    print(match)\n",
    "    print(match.span())\n",
    "    print(match.group(0))\n",
    "    print(match.group(2)+match.group(3))\n",
    "    print(urls[match.span(2)[0]:match.span(2)[1]]+urls[match.span(3)[0]:match.span(3)[1]])"
   ]
  },
  {
   "cell_type": "code",
   "execution_count": null,
   "id": "7548b6f0",
   "metadata": {},
   "outputs": [],
   "source": []
  }
 ],
 "metadata": {
  "kernelspec": {
   "display_name": "Python 3",
   "language": "python",
   "name": "python3"
  },
  "language_info": {
   "codemirror_mode": {
    "name": "ipython",
    "version": 3
   },
   "file_extension": ".py",
   "mimetype": "text/x-python",
   "name": "python",
   "nbconvert_exporter": "python",
   "pygments_lexer": "ipython3",
   "version": "3.9.4"
  }
 },
 "nbformat": 4,
 "nbformat_minor": 5
}
