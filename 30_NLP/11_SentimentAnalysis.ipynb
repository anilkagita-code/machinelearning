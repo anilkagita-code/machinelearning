{
 "cells": [
  {
   "cell_type": "code",
   "execution_count": 1,
   "id": "07f4317d",
   "metadata": {},
   "outputs": [],
   "source": [
    "import pandas as pd\n",
    "import numpy as np\n",
    "\n",
    "from nltk.corpus import stopwords \n",
    "from gensim.parsing.preprocessing import PorterStemmer, remove_stopwords\n",
    "import string \n",
    "from sklearn.feature_extraction.text import CountVectorizer\n",
    "from sklearn.feature_extraction.text import TfidfVectorizer\n",
    "from sklearn.model_selection import train_test_split\n",
    "from sklearn.linear_model import LogisticRegression\n",
    "from sklearn.metrics import accuracy_score\n",
    "\n",
    "from tensorflow.keras.layers import Dense, Input, LSTM, Embedding, Dropout\n",
    "from tensorflow.keras.preprocessing.sequence import pad_sequences\n",
    "from tensorflow.keras.preprocessing.text import Tokenizer\n",
    "from tensorflow.keras.layers import GlobalMaxPool1D\n",
    "from tensorflow.keras.utils import to_categorical\n",
    "from tensorflow.keras.models import Model"
   ]
  },
  {
   "cell_type": "code",
   "execution_count": 2,
   "id": "f751b32a",
   "metadata": {},
   "outputs": [
    {
     "data": {
      "text/html": [
       "<div>\n",
       "<style scoped>\n",
       "    .dataframe tbody tr th:only-of-type {\n",
       "        vertical-align: middle;\n",
       "    }\n",
       "\n",
       "    .dataframe tbody tr th {\n",
       "        vertical-align: top;\n",
       "    }\n",
       "\n",
       "    .dataframe thead th {\n",
       "        text-align: right;\n",
       "    }\n",
       "</style>\n",
       "<table border=\"1\" class=\"dataframe\">\n",
       "  <thead>\n",
       "    <tr style=\"text-align: right;\">\n",
       "      <th></th>\n",
       "      <th>Review</th>\n",
       "      <th>Star</th>\n",
       "    </tr>\n",
       "  </thead>\n",
       "  <tbody>\n",
       "    <tr>\n",
       "      <th>0</th>\n",
       "      <td>This is my 1st ever Echo 🥺 I'm amazed by its c...</td>\n",
       "      <td>4.4</td>\n",
       "    </tr>\n",
       "    <tr>\n",
       "      <th>1</th>\n",
       "      <td>Excellent product, super quality. It capable t...</td>\n",
       "      <td>5.0</td>\n",
       "    </tr>\n",
       "    <tr>\n",
       "      <th>2</th>\n",
       "      <td>So it is my first Echo Dot.It definitely looks...</td>\n",
       "      <td>2.0</td>\n",
       "    </tr>\n",
       "    <tr>\n",
       "      <th>3</th>\n",
       "      <td>I was expecting more as it's 4th gen... But di...</td>\n",
       "      <td>5.0</td>\n",
       "    </tr>\n",
       "    <tr>\n",
       "      <th>4</th>\n",
       "      <td>Love the new revamped version of Alexa.  All y...</td>\n",
       "      <td>5.0</td>\n",
       "    </tr>\n",
       "  </tbody>\n",
       "</table>\n",
       "</div>"
      ],
      "text/plain": [
       "                                              Review  Star\n",
       "0  This is my 1st ever Echo 🥺 I'm amazed by its c...   4.4\n",
       "1  Excellent product, super quality. It capable t...   5.0\n",
       "2  So it is my first Echo Dot.It definitely looks...   2.0\n",
       "3  I was expecting more as it's 4th gen... But di...   5.0\n",
       "4  Love the new revamped version of Alexa.  All y...   5.0"
      ]
     },
     "execution_count": 2,
     "metadata": {},
     "output_type": "execute_result"
    }
   ],
   "source": [
    "df_senti = pd.read_csv('data/NLP1.csv')\n",
    "df_senti.head()"
   ]
  },
  {
   "cell_type": "code",
   "execution_count": 3,
   "id": "121447a5",
   "metadata": {},
   "outputs": [
    {
     "data": {
      "text/html": [
       "<div>\n",
       "<style scoped>\n",
       "    .dataframe tbody tr th:only-of-type {\n",
       "        vertical-align: middle;\n",
       "    }\n",
       "\n",
       "    .dataframe tbody tr th {\n",
       "        vertical-align: top;\n",
       "    }\n",
       "\n",
       "    .dataframe thead th {\n",
       "        text-align: right;\n",
       "    }\n",
       "</style>\n",
       "<table border=\"1\" class=\"dataframe\">\n",
       "  <thead>\n",
       "    <tr style=\"text-align: right;\">\n",
       "      <th></th>\n",
       "      <th>Review</th>\n",
       "      <th>Star</th>\n",
       "      <th>Emotion</th>\n",
       "    </tr>\n",
       "  </thead>\n",
       "  <tbody>\n",
       "    <tr>\n",
       "      <th>284</th>\n",
       "      <td>Recently started using this shampoo after rese...</td>\n",
       "      <td>5.0</td>\n",
       "      <td>positive</td>\n",
       "    </tr>\n",
       "    <tr>\n",
       "      <th>339</th>\n",
       "      <td>Searching for the shampoo which is best for ou...</td>\n",
       "      <td>5.0</td>\n",
       "      <td>positive</td>\n",
       "    </tr>\n",
       "    <tr>\n",
       "      <th>32</th>\n",
       "      <td>Friends, got this Alexa model from Amazon onli...</td>\n",
       "      <td>4.4</td>\n",
       "      <td>positive</td>\n",
       "    </tr>\n",
       "    <tr>\n",
       "      <th>327</th>\n",
       "      <td>Indulekha bringha hairfall shampoo contains 9f...</td>\n",
       "      <td>1.0</td>\n",
       "      <td>negative</td>\n",
       "    </tr>\n",
       "    <tr>\n",
       "      <th>312</th>\n",
       "      <td>I have tried a number of. expensive shampoos t...</td>\n",
       "      <td>5.0</td>\n",
       "      <td>positive</td>\n",
       "    </tr>\n",
       "  </tbody>\n",
       "</table>\n",
       "</div>"
      ],
      "text/plain": [
       "                                                Review  Star   Emotion\n",
       "284  Recently started using this shampoo after rese...   5.0  positive\n",
       "339  Searching for the shampoo which is best for ou...   5.0  positive\n",
       "32   Friends, got this Alexa model from Amazon onli...   4.4  positive\n",
       "327  Indulekha bringha hairfall shampoo contains 9f...   1.0  negative\n",
       "312  I have tried a number of. expensive shampoos t...   5.0  positive"
      ]
     },
     "execution_count": 3,
     "metadata": {},
     "output_type": "execute_result"
    }
   ],
   "source": [
    "df_senti['Emotion'] = df_senti['Star'].apply(lambda x: 'positive' if x>3 else 'negative')\n",
    "df_senti.sample(5)"
   ]
  },
  {
   "cell_type": "markdown",
   "id": "b5372372",
   "metadata": {},
   "source": [
    "### Clearning of Data"
   ]
  },
  {
   "cell_type": "markdown",
   "id": "4f9e12fb",
   "metadata": {},
   "source": [
    "##### Tokenization"
   ]
  },
  {
   "cell_type": "code",
   "execution_count": 5,
   "id": "2f571992",
   "metadata": {},
   "outputs": [],
   "source": [
    "from nltk.tokenize import RegexpTokenizer"
   ]
  },
  {
   "cell_type": "code",
   "execution_count": 6,
   "id": "2821f916",
   "metadata": {},
   "outputs": [
    {
     "name": "stdout",
     "output_type": "stream",
     "text": [
      "[['This', 'is', 'my', '1st', 'ever', 'Echo', 'I', 'm', 'amazed', 'by', 'its', 'capabilities', 'however', 'I', 'still', 'do', 'not', 'feel', 'any', 'necessities', 'of', 'it', 'The', 'more', 'you', 'want', 'to', 'be', 'dependent', 'you', 'become', 'dependent', 'It', 's', 'really', 'an', 'impulsive', 'purchase', 'But', 'still', 'you', 'should', 'experience', 'echo', 'devices', 'at', 'least', 'once', 'Just', 'to', 'experience', 'the', 'technology', 'In', 'many', 'things', 'it', 'is', 'useful', 'like', 'asking', 'questions', 'weather', 'alarm', 'news', 'etc', 'Now', 'its', 'pros', '1', 'Love', 'the', 'design', '2', 'Has', 'a', 'good', 'weight', '3', 'Sturdy', 'built', '4', 'Good', 'bass', 'for', 'such', 'a', '1', '6', 'driver', '5', 'Highs', 'with', 'just', '0', '8', 'tweeter', 'is', 'adding', 'unbelievable', 'clarity', 'to', 'the', 'sound', '6', 'Can', 'easily', 'pair', 'to', 'the', 'Alexa', 'app', '7', 'Priced', 'moderately', '8', 'You', 'can', 'make', 'connections', 'to', 'smart', 'plug', 'and', 'smart', 'bulbs', 'easily', '9', 'Can', 'play', 'apple', 'music', 'if', 'u', 'hv', 'subscription', '10', 'Auto', 'pairing', 'after', 'light', 'cuts', '11', 'Excellent', 'sound', 'quality', 'for', 'its', 'wize', '12', '5', 'feet', 'power', 'adaptor', 'cable13', 'Has', 'Line', 'out', '3', '5mm', 'for', 'connecting', 'external', 'speakers', 'or', 'ht', 'Cons', '1', 'Need', 'a', 'continuous', 'power', '2', 'Need', 'a', 'continuous', 'wifi', 'connection', 'Colors', 'black', 'white', 'and', 'blue', 'Black', 'one', 'gives', 'you', 'more', 'contrast', 'against', 'its', 'bottom', 'lighting', 'ring', 'Black', 'doesn', 't', 'get', 'dirty', 'easily', 'Gives', 'a', 'distinct', 'look', 'That', 's', 'about', 'it', 'friends', 'Ask', 'me', 'if', 'you', 'have', 'any', 'questions'], ['Excellent', 'product', 'super', 'quality', 'It', 'capable', 'to', 'play', 'audible', 'audio', 'books', 'and', 'it', 'reads', 'kindle', 'e', 'books', 'also', 'I', 'am', 'wandering', 'about', 'reading', 'capable', 'of', 'reading', 'kindle', 'books', 'I', 'am', 'enjoying']]\n"
     ]
    }
   ],
   "source": [
    "token_reviews = list()\n",
    "Reviews = df_senti['Review']\n",
    "for review in Reviews:\n",
    "    token_reviews.append(RegexpTokenizer('\\w+').tokenize(review))\n",
    "    \n",
    "print(token_reviews[:2])"
   ]
  },
  {
   "cell_type": "markdown",
   "id": "0494e14b",
   "metadata": {},
   "source": [
    "##### Lower Case"
   ]
  },
  {
   "cell_type": "code",
   "execution_count": 7,
   "id": "b1bc8df4",
   "metadata": {},
   "outputs": [
    {
     "name": "stdout",
     "output_type": "stream",
     "text": [
      "[['this', 'is', 'my', '1st', 'ever', 'echo', 'i', 'm', 'amazed', 'by', 'its', 'capabilities', 'however', 'i', 'still', 'do', 'not', 'feel', 'any', 'necessities', 'of', 'it', 'the', 'more', 'you', 'want', 'to', 'be', 'dependent', 'you', 'become', 'dependent', 'it', 's', 'really', 'an', 'impulsive', 'purchase', 'but', 'still', 'you', 'should', 'experience', 'echo', 'devices', 'at', 'least', 'once', 'just', 'to', 'experience', 'the', 'technology', 'in', 'many', 'things', 'it', 'is', 'useful', 'like', 'asking', 'questions', 'weather', 'alarm', 'news', 'etc', 'now', 'its', 'pros', '1', 'love', 'the', 'design', '2', 'has', 'a', 'good', 'weight', '3', 'sturdy', 'built', '4', 'good', 'bass', 'for', 'such', 'a', '1', '6', 'driver', '5', 'highs', 'with', 'just', '0', '8', 'tweeter', 'is', 'adding', 'unbelievable', 'clarity', 'to', 'the', 'sound', '6', 'can', 'easily', 'pair', 'to', 'the', 'alexa', 'app', '7', 'priced', 'moderately', '8', 'you', 'can', 'make', 'connections', 'to', 'smart', 'plug', 'and', 'smart', 'bulbs', 'easily', '9', 'can', 'play', 'apple', 'music', 'if', 'u', 'hv', 'subscription', '10', 'auto', 'pairing', 'after', 'light', 'cuts', '11', 'excellent', 'sound', 'quality', 'for', 'its', 'wize', '12', '5', 'feet', 'power', 'adaptor', 'cable13', 'has', 'line', 'out', '3', '5mm', 'for', 'connecting', 'external', 'speakers', 'or', 'ht', 'cons', '1', 'need', 'a', 'continuous', 'power', '2', 'need', 'a', 'continuous', 'wifi', 'connection', 'colors', 'black', 'white', 'and', 'blue', 'black', 'one', 'gives', 'you', 'more', 'contrast', 'against', 'its', 'bottom', 'lighting', 'ring', 'black', 'doesn', 't', 'get', 'dirty', 'easily', 'gives', 'a', 'distinct', 'look', 'that', 's', 'about', 'it', 'friends', 'ask', 'me', 'if', 'you', 'have', 'any', 'questions'], ['excellent', 'product', 'super', 'quality', 'it', 'capable', 'to', 'play', 'audible', 'audio', 'books', 'and', 'it', 'reads', 'kindle', 'e', 'books', 'also', 'i', 'am', 'wandering', 'about', 'reading', 'capable', 'of', 'reading', 'kindle', 'books', 'i', 'am', 'enjoying']]\n"
     ]
    }
   ],
   "source": [
    "lower_reviews = []\n",
    "for review in token_reviews:\n",
    "    lower_reviews.append([word.lower() for word in review])\n",
    "    \n",
    "print(lower_reviews[:2])"
   ]
  },
  {
   "cell_type": "markdown",
   "id": "3ea0fe2c",
   "metadata": {},
   "source": [
    "##### Remove Punctuation"
   ]
  },
  {
   "cell_type": "code",
   "execution_count": 8,
   "id": "ae645f65",
   "metadata": {},
   "outputs": [
    {
     "name": "stderr",
     "output_type": "stream",
     "text": [
      "[nltk_data] Downloading package punkt to C:\\ProgramData\\Anaconda3\\envs\n",
      "[nltk_data]     \\tensorflow_gpu\\lib\\nltk_data...\n",
      "[nltk_data]   Package punkt is already up-to-date!\n"
     ]
    },
    {
     "data": {
      "text/plain": [
       "True"
      ]
     },
     "execution_count": 8,
     "metadata": {},
     "output_type": "execute_result"
    }
   ],
   "source": [
    "import nltk\n",
    "nltk.download('punkt')"
   ]
  },
  {
   "cell_type": "code",
   "execution_count": 10,
   "id": "9ceb307f",
   "metadata": {},
   "outputs": [],
   "source": [
    "punct_list = [\";\",\":\",\"!\",\"?\",\"/\",\"\\\\\",\",\",\"#\",\"@\",\"$\",\"&\",\")\",\"(\",\"\\\"\"]"
   ]
  },
  {
   "cell_type": "code",
   "execution_count": 12,
   "id": "b1255ee8",
   "metadata": {},
   "outputs": [
    {
     "name": "stdout",
     "output_type": "stream",
     "text": [
      "[['this', 'is', 'my', '1st', 'ever', 'echo', 'i', 'm', 'amazed', 'by', 'its', 'capabilities', 'however', 'i', 'still', 'do', 'not', 'feel', 'any', 'necessities', 'of', 'it', 'the', 'more', 'you', 'want', 'to', 'be', 'dependent', 'you', 'become', 'dependent', 'it', 's', 'really', 'an', 'impulsive', 'purchase', 'but', 'still', 'you', 'should', 'experience', 'echo', 'devices', 'at', 'least', 'once', 'just', 'to', 'experience', 'the', 'technology', 'in', 'many', 'things', 'it', 'is', 'useful', 'like', 'asking', 'questions', 'weather', 'alarm', 'news', 'etc', 'now', 'its', 'pros', '1', 'love', 'the', 'design', '2', 'has', 'a', 'good', 'weight', '3', 'sturdy', 'built', '4', 'good', 'bass', 'for', 'such', 'a', '1', '6', 'driver', '5', 'highs', 'with', 'just', '0', '8', 'tweeter', 'is', 'adding', 'unbelievable', 'clarity', 'to', 'the', 'sound', '6', 'can', 'easily', 'pair', 'to', 'the', 'alexa', 'app', '7', 'priced', 'moderately', '8', 'you', 'can', 'make', 'connections', 'to', 'smart', 'plug', 'and', 'smart', 'bulbs', 'easily', '9', 'can', 'play', 'apple', 'music', 'if', 'u', 'hv', 'subscription', '10', 'auto', 'pairing', 'after', 'light', 'cuts', '11', 'excellent', 'sound', 'quality', 'for', 'its', 'wize', '12', '5', 'feet', 'power', 'adaptor', 'cable13', 'has', 'line', 'out', '3', '5mm', 'for', 'connecting', 'external', 'speakers', 'or', 'ht', 'cons', '1', 'need', 'a', 'continuous', 'power', '2', 'need', 'a', 'continuous', 'wifi', 'connection', 'colors', 'black', 'white', 'and', 'blue', 'black', 'one', 'gives', 'you', 'more', 'contrast', 'against', 'its', 'bottom', 'lighting', 'ring', 'black', 'doesn', 't', 'get', 'dirty', 'easily', 'gives', 'a', 'distinct', 'look', 'that', 's', 'about', 'it', 'friends', 'ask', 'me', 'if', 'you', 'have', 'any', 'questions'], ['excellent', 'product', 'super', 'quality', 'it', 'capable', 'to', 'play', 'audible', 'audio', 'books', 'and', 'it', 'reads', 'kindle', 'e', 'books', 'also', 'i', 'am', 'wandering', 'about', 'reading', 'capable', 'of', 'reading', 'kindle', 'books', 'i', 'am', 'enjoying']]\n"
     ]
    }
   ],
   "source": [
    "punct_reviews = []\n",
    "for review in lower_reviews:\n",
    "    punct_reviews.append([word for word in review if word not in punct_list])\n",
    "\n",
    "print(punct_reviews[:2])"
   ]
  },
  {
   "cell_type": "markdown",
   "id": "5aae21fa",
   "metadata": {},
   "source": [
    "##### Removing Stop Words"
   ]
  },
  {
   "cell_type": "code",
   "execution_count": 23,
   "id": "97ce9daf",
   "metadata": {},
   "outputs": [
    {
     "ename": "AttributeError",
     "evalue": "'list' object has no attribute 'apply'",
     "output_type": "error",
     "traceback": [
      "\u001b[1;31m---------------------------------------------------------------------------\u001b[0m",
      "\u001b[1;31mAttributeError\u001b[0m                            Traceback (most recent call last)",
      "\u001b[1;32m<ipython-input-23-3218918d767b>\u001b[0m in \u001b[0;36m<module>\u001b[1;34m\u001b[0m\n\u001b[1;32m----> 1\u001b[1;33m \u001b[0mpunct_reviews\u001b[0m\u001b[1;33m[\u001b[0m\u001b[1;36m0\u001b[0m\u001b[1;33m]\u001b[0m\u001b[1;33m.\u001b[0m\u001b[0mapply\u001b[0m\u001b[1;33m(\u001b[0m\u001b[0mremove_stopwords\u001b[0m\u001b[1;33m)\u001b[0m\u001b[1;33m\u001b[0m\u001b[1;33m\u001b[0m\u001b[0m\n\u001b[0m",
      "\u001b[1;31mAttributeError\u001b[0m: 'list' object has no attribute 'apply'"
     ]
    }
   ],
   "source": [
    "punct_reviews[0].apply(remove_stopwords)"
   ]
  },
  {
   "cell_type": "code",
   "execution_count": null,
   "id": "350e66e2",
   "metadata": {},
   "outputs": [],
   "source": []
  },
  {
   "cell_type": "code",
   "execution_count": null,
   "id": "4088e298",
   "metadata": {},
   "outputs": [],
   "source": []
  },
  {
   "cell_type": "code",
   "execution_count": 13,
   "id": "d7380412",
   "metadata": {},
   "outputs": [
    {
     "name": "stderr",
     "output_type": "stream",
     "text": [
      "[nltk_data] Downloading package stopwords to C:\\ProgramData\\Anaconda3\\\n",
      "[nltk_data]     envs\\tensorflow_gpu\\lib\\nltk_data...\n",
      "[nltk_data]   Package stopwords is already up-to-date!\n"
     ]
    },
    {
     "data": {
      "text/plain": [
       "True"
      ]
     },
     "execution_count": 13,
     "metadata": {},
     "output_type": "execute_result"
    }
   ],
   "source": [
    "from nltk.corpus import stopwords\n",
    "nltk.download('stopwords')"
   ]
  },
  {
   "cell_type": "code",
   "execution_count": 14,
   "id": "02d8fd92",
   "metadata": {},
   "outputs": [
    {
     "name": "stdout",
     "output_type": "stream",
     "text": [
      "['i', 'me', 'my', 'myself', 'we', 'our', 'ours', 'ourselves', 'you', \"you're\", \"you've\", \"you'll\", \"you'd\", 'your', 'yours', 'yourself', 'yourselves', 'he', 'him', 'his', 'himself', 'she', \"she's\", 'her', 'hers', 'herself', 'it', \"it's\", 'its', 'itself', 'they', 'them', 'their', 'theirs', 'themselves', 'what', 'which', 'who', 'whom', 'this', 'that', \"that'll\", 'these', 'those', 'am', 'is', 'are', 'was', 'were', 'be', 'been', 'being', 'have', 'has', 'had', 'having', 'do', 'does', 'did', 'doing', 'a', 'an', 'the', 'and', 'but', 'if', 'or', 'because', 'as', 'until', 'while', 'of', 'at', 'by', 'for', 'with', 'about', 'against', 'between', 'into', 'through', 'during', 'before', 'after', 'above', 'below', 'to', 'from', 'up', 'down', 'in', 'out', 'on', 'off', 'over', 'under', 'again', 'further', 'then', 'once', 'here', 'there', 'when', 'where', 'why', 'how', 'all', 'any', 'both', 'each', 'few', 'more', 'most', 'other', 'some', 'such', 'no', 'nor', 'not', 'only', 'own', 'same', 'so', 'than', 'too', 'very', 's', 't', 'can', 'will', 'just', 'don', \"don't\", 'should', \"should've\", 'now', 'd', 'll', 'm', 'o', 're', 've', 'y', 'ain', 'aren', \"aren't\", 'couldn', \"couldn't\", 'didn', \"didn't\", 'doesn', \"doesn't\", 'hadn', \"hadn't\", 'hasn', \"hasn't\", 'haven', \"haven't\", 'isn', \"isn't\", 'ma', 'mightn', \"mightn't\", 'mustn', \"mustn't\", 'needn', \"needn't\", 'shan', \"shan't\", 'shouldn', \"shouldn't\", 'wasn', \"wasn't\", 'weren', \"weren't\", 'won', \"won't\", 'wouldn', \"wouldn't\"]\n"
     ]
    }
   ],
   "source": [
    "print(stopwords.words('english'))"
   ]
  },
  {
   "cell_type": "code",
   "execution_count": 15,
   "id": "c0648674",
   "metadata": {},
   "outputs": [],
   "source": [
    "stop_words = set(stopwords.words('english'))"
   ]
  },
  {
   "cell_type": "code",
   "execution_count": 17,
   "id": "4e2cfe17",
   "metadata": {},
   "outputs": [
    {
     "name": "stdout",
     "output_type": "stream",
     "text": [
      "[['1st', 'ever', 'echo', 'amazed', 'capabilities', 'however', 'still', 'feel', 'necessities', 'want', 'dependent', 'become', 'dependent', 'really', 'impulsive', 'purchase', 'still', 'experience', 'echo', 'devices', 'least', 'experience', 'technology', 'many', 'things', 'useful', 'like', 'asking', 'questions', 'weather', 'alarm', 'news', 'etc', 'pros', '1', 'love', 'design', '2', 'good', 'weight', '3', 'sturdy', 'built', '4', 'good', 'bass', '1', '6', 'driver', '5', 'highs', '0', '8', 'tweeter', 'adding', 'unbelievable', 'clarity', 'sound', '6', 'easily', 'pair', 'alexa', 'app', '7', 'priced', 'moderately', '8', 'make', 'connections', 'smart', 'plug', 'smart', 'bulbs', 'easily', '9', 'play', 'apple', 'music', 'u', 'hv', 'subscription', '10', 'auto', 'pairing', 'light', 'cuts', '11', 'excellent', 'sound', 'quality', 'wize', '12', '5', 'feet', 'power', 'adaptor', 'cable13', 'line', '3', '5mm', 'connecting', 'external', 'speakers', 'ht', 'cons', '1', 'need', 'continuous', 'power', '2', 'need', 'continuous', 'wifi', 'connection', 'colors', 'black', 'white', 'blue', 'black', 'one', 'gives', 'contrast', 'bottom', 'lighting', 'ring', 'black', 'get', 'dirty', 'easily', 'gives', 'distinct', 'look', 'friends', 'ask', 'questions'], ['excellent', 'product', 'super', 'quality', 'capable', 'play', 'audible', 'audio', 'books', 'reads', 'kindle', 'e', 'books', 'also', 'wandering', 'reading', 'capable', 'reading', 'kindle', 'books', 'enjoying']]\n"
     ]
    }
   ],
   "source": [
    "stopword_reviews = []\n",
    "for review in punct_reviews:\n",
    "    stopword_reviews.append([word for word in review if word not in stop_words])\n",
    "\n",
    "print(stopword_reviews[:2])"
   ]
  },
  {
   "cell_type": "markdown",
   "id": "43a440fe",
   "metadata": {},
   "source": [
    "##### Stemming"
   ]
  },
  {
   "cell_type": "code",
   "execution_count": 18,
   "id": "d85d38ab",
   "metadata": {},
   "outputs": [],
   "source": [
    "p_stemmer = PorterStemmer()"
   ]
  },
  {
   "cell_type": "code",
   "execution_count": 20,
   "id": "c7671232",
   "metadata": {},
   "outputs": [
    {
     "data": {
      "text/plain": [
       "['1st',\n",
       " 'ever',\n",
       " 'echo',\n",
       " 'amaz',\n",
       " 'capabl',\n",
       " 'howev',\n",
       " 'still',\n",
       " 'feel',\n",
       " 'necess',\n",
       " 'want',\n",
       " 'depend',\n",
       " 'becom',\n",
       " 'depend',\n",
       " 'realli',\n",
       " 'impuls',\n",
       " 'purchas',\n",
       " 'still',\n",
       " 'experi',\n",
       " 'echo',\n",
       " 'devic',\n",
       " 'least',\n",
       " 'experi',\n",
       " 'technolog',\n",
       " 'mani',\n",
       " 'thing',\n",
       " 'us',\n",
       " 'like',\n",
       " 'ask',\n",
       " 'question',\n",
       " 'weather',\n",
       " 'alarm',\n",
       " 'new',\n",
       " 'etc',\n",
       " 'pro',\n",
       " '1',\n",
       " 'love',\n",
       " 'design',\n",
       " '2',\n",
       " 'good',\n",
       " 'weight',\n",
       " '3',\n",
       " 'sturdi',\n",
       " 'built',\n",
       " '4',\n",
       " 'good',\n",
       " 'bass',\n",
       " '1',\n",
       " '6',\n",
       " 'driver',\n",
       " '5',\n",
       " 'high',\n",
       " '0',\n",
       " '8',\n",
       " 'tweeter',\n",
       " 'ad',\n",
       " 'unbeliev',\n",
       " 'clariti',\n",
       " 'sound',\n",
       " '6',\n",
       " 'easili',\n",
       " 'pair',\n",
       " 'alexa',\n",
       " 'app',\n",
       " '7',\n",
       " 'price',\n",
       " 'moder',\n",
       " '8',\n",
       " 'make',\n",
       " 'connect',\n",
       " 'smart',\n",
       " 'plug',\n",
       " 'smart',\n",
       " 'bulb',\n",
       " 'easili',\n",
       " '9',\n",
       " 'plai',\n",
       " 'appl',\n",
       " 'music',\n",
       " 'u',\n",
       " 'hv',\n",
       " 'subscript',\n",
       " '10',\n",
       " 'auto',\n",
       " 'pair',\n",
       " 'light',\n",
       " 'cut',\n",
       " '11',\n",
       " 'excel',\n",
       " 'sound',\n",
       " 'qualiti',\n",
       " 'wize',\n",
       " '12',\n",
       " '5',\n",
       " 'feet',\n",
       " 'power',\n",
       " 'adaptor',\n",
       " 'cable13',\n",
       " 'line',\n",
       " '3',\n",
       " '5mm',\n",
       " 'connect',\n",
       " 'extern',\n",
       " 'speaker',\n",
       " 'ht',\n",
       " 'con',\n",
       " '1',\n",
       " 'need',\n",
       " 'continu',\n",
       " 'power',\n",
       " '2',\n",
       " 'need',\n",
       " 'continu',\n",
       " 'wifi',\n",
       " 'connect',\n",
       " 'color',\n",
       " 'black',\n",
       " 'white',\n",
       " 'blue',\n",
       " 'black',\n",
       " 'on',\n",
       " 'give',\n",
       " 'contrast',\n",
       " 'bottom',\n",
       " 'light',\n",
       " 'ring',\n",
       " 'black',\n",
       " 'get',\n",
       " 'dirti',\n",
       " 'easili',\n",
       " 'give',\n",
       " 'distinct',\n",
       " 'look',\n",
       " 'friend',\n",
       " 'ask',\n",
       " 'question']"
      ]
     },
     "execution_count": 20,
     "metadata": {},
     "output_type": "execute_result"
    }
   ],
   "source": [
    "p_stemmer.stem_documents(stopword_reviews[0])"
   ]
  },
  {
   "cell_type": "code",
   "execution_count": null,
   "id": "d729b203",
   "metadata": {},
   "outputs": [],
   "source": []
  },
  {
   "cell_type": "code",
   "execution_count": null,
   "id": "30f2ffad",
   "metadata": {},
   "outputs": [],
   "source": []
  },
  {
   "cell_type": "code",
   "execution_count": null,
   "id": "16a335b6",
   "metadata": {},
   "outputs": [],
   "source": [
    "docs = imdb['review'].str.lower().str.replace('[^a-z\\s]', '')\n",
    "docs = pd.Series(stemmer.stem_documents(docs))\n",
    "docs = docs.apply(remove_stopwords)"
   ]
  },
  {
   "cell_type": "code",
   "execution_count": null,
   "id": "5bede0f1",
   "metadata": {},
   "outputs": [],
   "source": []
  },
  {
   "cell_type": "code",
   "execution_count": null,
   "id": "2eb1439d",
   "metadata": {},
   "outputs": [],
   "source": []
  },
  {
   "cell_type": "code",
   "execution_count": null,
   "id": "eeca15ad",
   "metadata": {},
   "outputs": [],
   "source": []
  },
  {
   "cell_type": "code",
   "execution_count": null,
   "id": "be781e7b",
   "metadata": {},
   "outputs": [],
   "source": []
  },
  {
   "cell_type": "code",
   "execution_count": null,
   "id": "cbd8b890",
   "metadata": {},
   "outputs": [],
   "source": []
  },
  {
   "cell_type": "code",
   "execution_count": null,
   "id": "43108b0d",
   "metadata": {},
   "outputs": [],
   "source": []
  },
  {
   "cell_type": "code",
   "execution_count": null,
   "id": "3e6b6e6d",
   "metadata": {},
   "outputs": [],
   "source": []
  }
 ],
 "metadata": {
  "kernelspec": {
   "display_name": "Python 3",
   "language": "python",
   "name": "python3"
  },
  "language_info": {
   "codemirror_mode": {
    "name": "ipython",
    "version": 3
   },
   "file_extension": ".py",
   "mimetype": "text/x-python",
   "name": "python",
   "nbconvert_exporter": "python",
   "pygments_lexer": "ipython3",
   "version": "3.9.4"
  }
 },
 "nbformat": 4,
 "nbformat_minor": 5
}
