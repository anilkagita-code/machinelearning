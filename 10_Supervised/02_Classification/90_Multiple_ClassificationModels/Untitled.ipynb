{
 "cells": [
  {
   "cell_type": "code",
   "execution_count": 1,
   "id": "b962d7fb",
   "metadata": {},
   "outputs": [],
   "source": [
    "import pandas as pd\n",
    "import numpy as np\n",
    "import matplotlib.pyplot as plt\n",
    "import seaborn as sns\n",
    "%matplotlib inline\n",
    "from collections import Counter\n",
    "from sklearn.ensemble import RandomForestClassifier, AdaBoostClassifier, GradientBoostingClassifier, ExtraTreesClassifier, VotingClassifier\n",
    "from sklearn.discriminant_analysis import LinearDiscriminantAnalysis\n",
    "from sklearn.linear_model import LogisticRegression\n",
    "from sklearn.neighbors import KNeighborsClassifier\n",
    "from sklearn.tree import DecisionTreeClassifier\n",
    "from sklearn.neural_network import MLPClassifier\n",
    "from sklearn.naive_bayes import GaussianNB\n",
    "from sklearn.ensemble import RandomForestClassifier\n",
    "from sklearn.model_selection import GridSearchCV, cross_val_score, StratifiedKFold, learning_curve, train_test_split, KFold\n",
    "from sklearn.metrics import classification_report\n",
    "from sklearn.metrics import confusion_matrix\n",
    "from sklearn.metrics import accuracy_score"
   ]
  },
  {
   "cell_type": "code",
   "execution_count": 2,
   "id": "450d1008",
   "metadata": {},
   "outputs": [
    {
     "data": {
      "text/html": [
       "<div>\n",
       "<style scoped>\n",
       "    .dataframe tbody tr th:only-of-type {\n",
       "        vertical-align: middle;\n",
       "    }\n",
       "\n",
       "    .dataframe tbody tr th {\n",
       "        vertical-align: top;\n",
       "    }\n",
       "\n",
       "    .dataframe thead th {\n",
       "        text-align: right;\n",
       "    }\n",
       "</style>\n",
       "<table border=\"1\" class=\"dataframe\">\n",
       "  <thead>\n",
       "    <tr style=\"text-align: right;\">\n",
       "      <th></th>\n",
       "      <th>RowNumber</th>\n",
       "      <th>CustomerId</th>\n",
       "      <th>Surname</th>\n",
       "      <th>CreditScore</th>\n",
       "      <th>Geography</th>\n",
       "      <th>Gender</th>\n",
       "      <th>Age</th>\n",
       "      <th>Tenure</th>\n",
       "      <th>Balance</th>\n",
       "      <th>NumOfProducts</th>\n",
       "      <th>HasCrCard</th>\n",
       "      <th>IsActiveMember</th>\n",
       "      <th>EstimatedSalary</th>\n",
       "      <th>Exited</th>\n",
       "    </tr>\n",
       "  </thead>\n",
       "  <tbody>\n",
       "    <tr>\n",
       "      <th>8257</th>\n",
       "      <td>8258</td>\n",
       "      <td>15738018</td>\n",
       "      <td>Johnston</td>\n",
       "      <td>571</td>\n",
       "      <td>France</td>\n",
       "      <td>Male</td>\n",
       "      <td>40</td>\n",
       "      <td>5</td>\n",
       "      <td>0.00</td>\n",
       "      <td>2</td>\n",
       "      <td>0</td>\n",
       "      <td>0</td>\n",
       "      <td>72849.29</td>\n",
       "      <td>0</td>\n",
       "    </tr>\n",
       "    <tr>\n",
       "      <th>5338</th>\n",
       "      <td>5339</td>\n",
       "      <td>15784000</td>\n",
       "      <td>Pope</td>\n",
       "      <td>715</td>\n",
       "      <td>Germany</td>\n",
       "      <td>Female</td>\n",
       "      <td>34</td>\n",
       "      <td>9</td>\n",
       "      <td>102277.52</td>\n",
       "      <td>1</td>\n",
       "      <td>0</td>\n",
       "      <td>0</td>\n",
       "      <td>177852.57</td>\n",
       "      <td>1</td>\n",
       "    </tr>\n",
       "  </tbody>\n",
       "</table>\n",
       "</div>"
      ],
      "text/plain": [
       "      RowNumber  CustomerId   Surname  CreditScore Geography  Gender  Age  \\\n",
       "8257       8258    15738018  Johnston          571    France    Male   40   \n",
       "5338       5339    15784000      Pope          715   Germany  Female   34   \n",
       "\n",
       "      Tenure    Balance  NumOfProducts  HasCrCard  IsActiveMember  \\\n",
       "8257       5       0.00              2          0               0   \n",
       "5338       9  102277.52              1          0               0   \n",
       "\n",
       "      EstimatedSalary  Exited  \n",
       "8257         72849.29       0  \n",
       "5338        177852.57       1  "
      ]
     },
     "execution_count": 2,
     "metadata": {},
     "output_type": "execute_result"
    }
   ],
   "source": [
    "df_bank = pd.read_csv('data/Churn.csv')\n",
    "df_bank.sample(2)"
   ]
  },
  {
   "cell_type": "code",
   "execution_count": 3,
   "id": "54cf833c",
   "metadata": {},
   "outputs": [
    {
     "data": {
      "text/plain": [
       "(10000, 14)"
      ]
     },
     "execution_count": 3,
     "metadata": {},
     "output_type": "execute_result"
    }
   ],
   "source": [
    "df_bank.shape"
   ]
  },
  {
   "cell_type": "markdown",
   "id": "4b18b291",
   "metadata": {},
   "source": [
    "# Data Analysis"
   ]
  },
  {
   "cell_type": "code",
   "execution_count": 4,
   "id": "3d7791ff",
   "metadata": {},
   "outputs": [
    {
     "name": "stdout",
     "output_type": "stream",
     "text": [
      "<class 'pandas.core.frame.DataFrame'>\n",
      "RangeIndex: 10000 entries, 0 to 9999\n",
      "Data columns (total 14 columns):\n",
      " #   Column           Non-Null Count  Dtype  \n",
      "---  ------           --------------  -----  \n",
      " 0   RowNumber        10000 non-null  int64  \n",
      " 1   CustomerId       10000 non-null  int64  \n",
      " 2   Surname          10000 non-null  object \n",
      " 3   CreditScore      10000 non-null  int64  \n",
      " 4   Geography        10000 non-null  object \n",
      " 5   Gender           10000 non-null  object \n",
      " 6   Age              10000 non-null  int64  \n",
      " 7   Tenure           10000 non-null  int64  \n",
      " 8   Balance          10000 non-null  float64\n",
      " 9   NumOfProducts    10000 non-null  int64  \n",
      " 10  HasCrCard        10000 non-null  int64  \n",
      " 11  IsActiveMember   10000 non-null  int64  \n",
      " 12  EstimatedSalary  10000 non-null  float64\n",
      " 13  Exited           10000 non-null  int64  \n",
      "dtypes: float64(2), int64(9), object(3)\n",
      "memory usage: 1.1+ MB\n"
     ]
    }
   ],
   "source": [
    "df_bank.info()"
   ]
  },
  {
   "cell_type": "code",
   "execution_count": 7,
   "id": "f98d34f1",
   "metadata": {},
   "outputs": [
    {
     "name": "stdout",
     "output_type": "stream",
     "text": [
      "These columns are insignificant for model so droping them 'RowNumber', 'CustomerId', 'Surname' \n"
     ]
    }
   ],
   "source": [
    "print('''These columns are insignificant for model so droping them 'RowNumber', 'CustomerId', 'Surname' ''')"
   ]
  },
  {
   "cell_type": "code",
   "execution_count": 8,
   "id": "40633d8f",
   "metadata": {},
   "outputs": [],
   "source": [
    "df_bank.drop(columns=['RowNumber', 'CustomerId', 'Surname'], inplace=True)"
   ]
  },
  {
   "cell_type": "code",
   "execution_count": 9,
   "id": "bac9baa8",
   "metadata": {},
   "outputs": [
    {
     "data": {
      "text/html": [
       "<div>\n",
       "<style scoped>\n",
       "    .dataframe tbody tr th:only-of-type {\n",
       "        vertical-align: middle;\n",
       "    }\n",
       "\n",
       "    .dataframe tbody tr th {\n",
       "        vertical-align: top;\n",
       "    }\n",
       "\n",
       "    .dataframe thead th {\n",
       "        text-align: right;\n",
       "    }\n",
       "</style>\n",
       "<table border=\"1\" class=\"dataframe\">\n",
       "  <thead>\n",
       "    <tr style=\"text-align: right;\">\n",
       "      <th></th>\n",
       "      <th>CreditScore</th>\n",
       "      <th>Geography</th>\n",
       "      <th>Gender</th>\n",
       "      <th>Age</th>\n",
       "      <th>Tenure</th>\n",
       "      <th>Balance</th>\n",
       "      <th>NumOfProducts</th>\n",
       "      <th>HasCrCard</th>\n",
       "      <th>IsActiveMember</th>\n",
       "      <th>EstimatedSalary</th>\n",
       "      <th>Exited</th>\n",
       "    </tr>\n",
       "  </thead>\n",
       "  <tbody>\n",
       "    <tr>\n",
       "      <th>6056</th>\n",
       "      <td>768</td>\n",
       "      <td>France</td>\n",
       "      <td>Male</td>\n",
       "      <td>25</td>\n",
       "      <td>6</td>\n",
       "      <td>0.0</td>\n",
       "      <td>2</td>\n",
       "      <td>1</td>\n",
       "      <td>1</td>\n",
       "      <td>21215.67</td>\n",
       "      <td>0</td>\n",
       "    </tr>\n",
       "    <tr>\n",
       "      <th>9958</th>\n",
       "      <td>537</td>\n",
       "      <td>France</td>\n",
       "      <td>Male</td>\n",
       "      <td>37</td>\n",
       "      <td>6</td>\n",
       "      <td>0.0</td>\n",
       "      <td>1</td>\n",
       "      <td>1</td>\n",
       "      <td>1</td>\n",
       "      <td>17802.42</td>\n",
       "      <td>0</td>\n",
       "    </tr>\n",
       "  </tbody>\n",
       "</table>\n",
       "</div>"
      ],
      "text/plain": [
       "      CreditScore Geography Gender  Age  Tenure  Balance  NumOfProducts  \\\n",
       "6056          768    France   Male   25       6      0.0              2   \n",
       "9958          537    France   Male   37       6      0.0              1   \n",
       "\n",
       "      HasCrCard  IsActiveMember  EstimatedSalary  Exited  \n",
       "6056          1               1         21215.67       0  \n",
       "9958          1               1         17802.42       0  "
      ]
     },
     "execution_count": 9,
     "metadata": {},
     "output_type": "execute_result"
    }
   ],
   "source": [
    "df_bank.sample(2)"
   ]
  },
  {
   "cell_type": "code",
   "execution_count": 10,
   "id": "f05d07cb",
   "metadata": {},
   "outputs": [],
   "source": [
    "df_bank_num = df_bank.select_dtypes(include=np.number)\n",
    "df_bank_cat = df_bank.select_dtypes(exclude=np.number)"
   ]
  },
  {
   "cell_type": "markdown",
   "id": "1e5005b7",
   "metadata": {},
   "source": [
    "### Numberic Data Analysis"
   ]
  },
  {
   "cell_type": "code",
   "execution_count": 11,
   "id": "d1b181b8",
   "metadata": {},
   "outputs": [
    {
     "data": {
      "text/plain": [
       "Index(['CreditScore', 'Age', 'Tenure', 'Balance', 'NumOfProducts', 'HasCrCard',\n",
       "       'IsActiveMember', 'EstimatedSalary', 'Exited'],\n",
       "      dtype='object')"
      ]
     },
     "execution_count": 11,
     "metadata": {},
     "output_type": "execute_result"
    }
   ],
   "source": [
    "df_bank_num.columns"
   ]
  },
  {
   "cell_type": "code",
   "execution_count": 12,
   "id": "61002dcc",
   "metadata": {},
   "outputs": [
    {
     "data": {
      "text/html": [
       "<div>\n",
       "<style scoped>\n",
       "    .dataframe tbody tr th:only-of-type {\n",
       "        vertical-align: middle;\n",
       "    }\n",
       "\n",
       "    .dataframe tbody tr th {\n",
       "        vertical-align: top;\n",
       "    }\n",
       "\n",
       "    .dataframe thead th {\n",
       "        text-align: right;\n",
       "    }\n",
       "</style>\n",
       "<table border=\"1\" class=\"dataframe\">\n",
       "  <thead>\n",
       "    <tr style=\"text-align: right;\">\n",
       "      <th></th>\n",
       "      <th>CreditScore</th>\n",
       "      <th>Age</th>\n",
       "      <th>Tenure</th>\n",
       "      <th>Balance</th>\n",
       "      <th>NumOfProducts</th>\n",
       "      <th>EstimatedSalary</th>\n",
       "    </tr>\n",
       "  </thead>\n",
       "  <tbody>\n",
       "    <tr>\n",
       "      <th>5455</th>\n",
       "      <td>805</td>\n",
       "      <td>45</td>\n",
       "      <td>9</td>\n",
       "      <td>116585.97</td>\n",
       "      <td>1</td>\n",
       "      <td>189428.75</td>\n",
       "    </tr>\n",
       "    <tr>\n",
       "      <th>2620</th>\n",
       "      <td>603</td>\n",
       "      <td>35</td>\n",
       "      <td>6</td>\n",
       "      <td>128993.76</td>\n",
       "      <td>2</td>\n",
       "      <td>130483.56</td>\n",
       "    </tr>\n",
       "  </tbody>\n",
       "</table>\n",
       "</div>"
      ],
      "text/plain": [
       "      CreditScore  Age  Tenure    Balance  NumOfProducts  EstimatedSalary\n",
       "5455          805   45       9  116585.97              1        189428.75\n",
       "2620          603   35       6  128993.76              2        130483.56"
      ]
     },
     "execution_count": 12,
     "metadata": {},
     "output_type": "execute_result"
    }
   ],
   "source": [
    "num_analysis_col =['CreditScore', 'Age', 'Tenure', 'Balance', 'NumOfProducts','EstimatedSalary']\n",
    "df_bank_num[num_analysis_col].sample(2)"
   ]
  },
  {
   "cell_type": "code",
   "execution_count": 14,
   "id": "479f5edd",
   "metadata": {},
   "outputs": [
    {
     "data": {
      "text/html": [
       "<div>\n",
       "<style scoped>\n",
       "    .dataframe tbody tr th:only-of-type {\n",
       "        vertical-align: middle;\n",
       "    }\n",
       "\n",
       "    .dataframe tbody tr th {\n",
       "        vertical-align: top;\n",
       "    }\n",
       "\n",
       "    .dataframe thead th {\n",
       "        text-align: right;\n",
       "    }\n",
       "</style>\n",
       "<table border=\"1\" class=\"dataframe\">\n",
       "  <thead>\n",
       "    <tr style=\"text-align: right;\">\n",
       "      <th></th>\n",
       "      <th>CreditScore</th>\n",
       "      <th>Age</th>\n",
       "      <th>Tenure</th>\n",
       "      <th>Balance</th>\n",
       "      <th>NumOfProducts</th>\n",
       "      <th>EstimatedSalary</th>\n",
       "    </tr>\n",
       "  </thead>\n",
       "  <tbody>\n",
       "    <tr>\n",
       "      <th>count</th>\n",
       "      <td>10000.000000</td>\n",
       "      <td>10000.000000</td>\n",
       "      <td>10000.000000</td>\n",
       "      <td>10000.000000</td>\n",
       "      <td>10000.000000</td>\n",
       "      <td>10000.000000</td>\n",
       "    </tr>\n",
       "    <tr>\n",
       "      <th>mean</th>\n",
       "      <td>650.528800</td>\n",
       "      <td>38.921800</td>\n",
       "      <td>5.012800</td>\n",
       "      <td>76485.889288</td>\n",
       "      <td>1.530200</td>\n",
       "      <td>100090.239881</td>\n",
       "    </tr>\n",
       "    <tr>\n",
       "      <th>std</th>\n",
       "      <td>96.653299</td>\n",
       "      <td>10.487806</td>\n",
       "      <td>2.892174</td>\n",
       "      <td>62397.405202</td>\n",
       "      <td>0.581654</td>\n",
       "      <td>57510.492818</td>\n",
       "    </tr>\n",
       "    <tr>\n",
       "      <th>min</th>\n",
       "      <td>350.000000</td>\n",
       "      <td>18.000000</td>\n",
       "      <td>0.000000</td>\n",
       "      <td>0.000000</td>\n",
       "      <td>1.000000</td>\n",
       "      <td>11.580000</td>\n",
       "    </tr>\n",
       "    <tr>\n",
       "      <th>25%</th>\n",
       "      <td>584.000000</td>\n",
       "      <td>32.000000</td>\n",
       "      <td>3.000000</td>\n",
       "      <td>0.000000</td>\n",
       "      <td>1.000000</td>\n",
       "      <td>51002.110000</td>\n",
       "    </tr>\n",
       "    <tr>\n",
       "      <th>50%</th>\n",
       "      <td>652.000000</td>\n",
       "      <td>37.000000</td>\n",
       "      <td>5.000000</td>\n",
       "      <td>97198.540000</td>\n",
       "      <td>1.000000</td>\n",
       "      <td>100193.915000</td>\n",
       "    </tr>\n",
       "    <tr>\n",
       "      <th>75%</th>\n",
       "      <td>718.000000</td>\n",
       "      <td>44.000000</td>\n",
       "      <td>7.000000</td>\n",
       "      <td>127644.240000</td>\n",
       "      <td>2.000000</td>\n",
       "      <td>149388.247500</td>\n",
       "    </tr>\n",
       "    <tr>\n",
       "      <th>max</th>\n",
       "      <td>850.000000</td>\n",
       "      <td>92.000000</td>\n",
       "      <td>10.000000</td>\n",
       "      <td>250898.090000</td>\n",
       "      <td>4.000000</td>\n",
       "      <td>199992.480000</td>\n",
       "    </tr>\n",
       "  </tbody>\n",
       "</table>\n",
       "</div>"
      ],
      "text/plain": [
       "        CreditScore           Age        Tenure        Balance  NumOfProducts  \\\n",
       "count  10000.000000  10000.000000  10000.000000   10000.000000   10000.000000   \n",
       "mean     650.528800     38.921800      5.012800   76485.889288       1.530200   \n",
       "std       96.653299     10.487806      2.892174   62397.405202       0.581654   \n",
       "min      350.000000     18.000000      0.000000       0.000000       1.000000   \n",
       "25%      584.000000     32.000000      3.000000       0.000000       1.000000   \n",
       "50%      652.000000     37.000000      5.000000   97198.540000       1.000000   \n",
       "75%      718.000000     44.000000      7.000000  127644.240000       2.000000   \n",
       "max      850.000000     92.000000     10.000000  250898.090000       4.000000   \n",
       "\n",
       "       EstimatedSalary  \n",
       "count     10000.000000  \n",
       "mean     100090.239881  \n",
       "std       57510.492818  \n",
       "min          11.580000  \n",
       "25%       51002.110000  \n",
       "50%      100193.915000  \n",
       "75%      149388.247500  \n",
       "max      199992.480000  "
      ]
     },
     "execution_count": 14,
     "metadata": {},
     "output_type": "execute_result"
    }
   ],
   "source": [
    "df_bank_num[num_analysis_col].describe()"
   ]
  },
  {
   "cell_type": "code",
   "execution_count": 20,
   "id": "9ef2447c",
   "metadata": {},
   "outputs": [
    {
     "data": {
      "text/plain": [
       "CreditScore        0\n",
       "Age                0\n",
       "Tenure             0\n",
       "Balance            0\n",
       "NumOfProducts      0\n",
       "EstimatedSalary    0\n",
       "dtype: int64"
      ]
     },
     "execution_count": 20,
     "metadata": {},
     "output_type": "execute_result"
    }
   ],
   "source": [
    "df_bank[num_analysis_col].isnull().sum()"
   ]
  },
  {
   "cell_type": "code",
   "execution_count": 19,
   "id": "dc1e4323",
   "metadata": {},
   "outputs": [
    {
     "data": {
      "image/png": "[encoded data removed]",
      "text/plain": [
       "<Figure size 864x648 with 6 Axes>"
      ]
     },
     "metadata": {
      "needs_background": "light"
     },
     "output_type": "display_data"
    }
   ],
   "source": [
    "plt.rcParams['figure.figsize'] = (12, 9)\n",
    "plt_num = 1\n",
    "for col in df_bank[num_analysis_col]:\n",
    "    plt.subplot(2, 3, plt_num)\n",
    "    sns.boxplot(data=df_bank, y=df_bank[col], x=df_bank['Exited'])\n",
    "    plt_num += 1\n",
    "\n",
    "plt.tight_layout()\n",
    "plt.show()"
   ]
  },
  {
   "cell_type": "markdown",
   "id": "78dcb8ce",
   "metadata": {},
   "source": [
    "### Outlier Treatment"
   ]
  },
  {
   "cell_type": "code",
   "execution_count": 21,
   "id": "ffdbf16b",
   "metadata": {},
   "outputs": [],
   "source": [
    "from scipy import stats"
   ]
  },
  {
   "cell_type": "code",
   "execution_count": 24,
   "id": "77f4122a",
   "metadata": {},
   "outputs": [
    {
     "data": {
      "text/plain": [
       "(10000, 11)"
      ]
     },
     "execution_count": 24,
     "metadata": {},
     "output_type": "execute_result"
    }
   ],
   "source": [
    "df_bank.shape"
   ]
  },
  {
   "cell_type": "code",
   "execution_count": 22,
   "id": "3f142737",
   "metadata": {},
   "outputs": [
    {
     "name": "stdout",
     "output_type": "stream",
     "text": [
      "[[0.32622142 0.29351742 1.04175968 1.22584767 0.91158349 0.02188649]\n",
      " [0.44003595 0.19816383 1.38753759 0.11735002 0.91158349 0.21653375]\n",
      " [1.53679418 0.29351742 1.03290776 1.33305335 2.52705662 0.2406869 ]\n",
      " ...\n",
      " [0.60498839 0.27860412 0.68712986 1.22584767 0.91158349 1.00864308]\n",
      " [1.25683526 0.29351742 0.69598177 0.02260751 0.80773656 0.12523071]\n",
      " [1.46377078 1.04143285 0.35020386 0.85996499 0.91158349 1.07636976]]\n"
     ]
    }
   ],
   "source": [
    "z = np.abs(stats.zscore(df_bank[num_analysis_col]))\n",
    "print(z)"
   ]
  },
  {
   "cell_type": "code",
   "execution_count": 25,
   "id": "f3f3fbb9",
   "metadata": {},
   "outputs": [
    {
     "data": {
      "text/html": [
       "<div>\n",
       "<style scoped>\n",
       "    .dataframe tbody tr th:only-of-type {\n",
       "        vertical-align: middle;\n",
       "    }\n",
       "\n",
       "    .dataframe tbody tr th {\n",
       "        vertical-align: top;\n",
       "    }\n",
       "\n",
       "    .dataframe thead th {\n",
       "        text-align: right;\n",
       "    }\n",
       "</style>\n",
       "<table border=\"1\" class=\"dataframe\">\n",
       "  <thead>\n",
       "    <tr style=\"text-align: right;\">\n",
       "      <th></th>\n",
       "      <th>CreditScore</th>\n",
       "      <th>Geography</th>\n",
       "      <th>Gender</th>\n",
       "      <th>Age</th>\n",
       "      <th>Tenure</th>\n",
       "      <th>Balance</th>\n",
       "      <th>NumOfProducts</th>\n",
       "      <th>HasCrCard</th>\n",
       "      <th>IsActiveMember</th>\n",
       "      <th>EstimatedSalary</th>\n",
       "      <th>Exited</th>\n",
       "    </tr>\n",
       "  </thead>\n",
       "  <tbody>\n",
       "    <tr>\n",
       "      <th>0</th>\n",
       "      <td>619</td>\n",
       "      <td>France</td>\n",
       "      <td>Female</td>\n",
       "      <td>42</td>\n",
       "      <td>2</td>\n",
       "      <td>0.00</td>\n",
       "      <td>1</td>\n",
       "      <td>1</td>\n",
       "      <td>1</td>\n",
       "      <td>101348.88</td>\n",
       "      <td>1</td>\n",
       "    </tr>\n",
       "    <tr>\n",
       "      <th>1</th>\n",
       "      <td>608</td>\n",
       "      <td>Spain</td>\n",
       "      <td>Female</td>\n",
       "      <td>41</td>\n",
       "      <td>1</td>\n",
       "      <td>83807.86</td>\n",
       "      <td>1</td>\n",
       "      <td>0</td>\n",
       "      <td>1</td>\n",
       "      <td>112542.58</td>\n",
       "      <td>0</td>\n",
       "    </tr>\n",
       "    <tr>\n",
       "      <th>2</th>\n",
       "      <td>502</td>\n",
       "      <td>France</td>\n",
       "      <td>Female</td>\n",
       "      <td>42</td>\n",
       "      <td>8</td>\n",
       "      <td>159660.80</td>\n",
       "      <td>3</td>\n",
       "      <td>1</td>\n",
       "      <td>0</td>\n",
       "      <td>113931.57</td>\n",
       "      <td>1</td>\n",
       "    </tr>\n",
       "    <tr>\n",
       "      <th>3</th>\n",
       "      <td>699</td>\n",
       "      <td>France</td>\n",
       "      <td>Female</td>\n",
       "      <td>39</td>\n",
       "      <td>1</td>\n",
       "      <td>0.00</td>\n",
       "      <td>2</td>\n",
       "      <td>0</td>\n",
       "      <td>0</td>\n",
       "      <td>93826.63</td>\n",
       "      <td>0</td>\n",
       "    </tr>\n",
       "    <tr>\n",
       "      <th>4</th>\n",
       "      <td>850</td>\n",
       "      <td>Spain</td>\n",
       "      <td>Female</td>\n",
       "      <td>43</td>\n",
       "      <td>2</td>\n",
       "      <td>125510.82</td>\n",
       "      <td>1</td>\n",
       "      <td>1</td>\n",
       "      <td>1</td>\n",
       "      <td>79084.10</td>\n",
       "      <td>0</td>\n",
       "    </tr>\n",
       "    <tr>\n",
       "      <th>...</th>\n",
       "      <td>...</td>\n",
       "      <td>...</td>\n",
       "      <td>...</td>\n",
       "      <td>...</td>\n",
       "      <td>...</td>\n",
       "      <td>...</td>\n",
       "      <td>...</td>\n",
       "      <td>...</td>\n",
       "      <td>...</td>\n",
       "      <td>...</td>\n",
       "      <td>...</td>\n",
       "    </tr>\n",
       "    <tr>\n",
       "      <th>9995</th>\n",
       "      <td>771</td>\n",
       "      <td>France</td>\n",
       "      <td>Male</td>\n",
       "      <td>39</td>\n",
       "      <td>5</td>\n",
       "      <td>0.00</td>\n",
       "      <td>2</td>\n",
       "      <td>1</td>\n",
       "      <td>0</td>\n",
       "      <td>96270.64</td>\n",
       "      <td>0</td>\n",
       "    </tr>\n",
       "    <tr>\n",
       "      <th>9996</th>\n",
       "      <td>516</td>\n",
       "      <td>France</td>\n",
       "      <td>Male</td>\n",
       "      <td>35</td>\n",
       "      <td>10</td>\n",
       "      <td>57369.61</td>\n",
       "      <td>1</td>\n",
       "      <td>1</td>\n",
       "      <td>1</td>\n",
       "      <td>101699.77</td>\n",
       "      <td>0</td>\n",
       "    </tr>\n",
       "    <tr>\n",
       "      <th>9997</th>\n",
       "      <td>709</td>\n",
       "      <td>France</td>\n",
       "      <td>Female</td>\n",
       "      <td>36</td>\n",
       "      <td>7</td>\n",
       "      <td>0.00</td>\n",
       "      <td>1</td>\n",
       "      <td>0</td>\n",
       "      <td>1</td>\n",
       "      <td>42085.58</td>\n",
       "      <td>1</td>\n",
       "    </tr>\n",
       "    <tr>\n",
       "      <th>9998</th>\n",
       "      <td>772</td>\n",
       "      <td>Germany</td>\n",
       "      <td>Male</td>\n",
       "      <td>42</td>\n",
       "      <td>3</td>\n",
       "      <td>75075.31</td>\n",
       "      <td>2</td>\n",
       "      <td>1</td>\n",
       "      <td>0</td>\n",
       "      <td>92888.52</td>\n",
       "      <td>1</td>\n",
       "    </tr>\n",
       "    <tr>\n",
       "      <th>9999</th>\n",
       "      <td>792</td>\n",
       "      <td>France</td>\n",
       "      <td>Female</td>\n",
       "      <td>28</td>\n",
       "      <td>4</td>\n",
       "      <td>130142.79</td>\n",
       "      <td>1</td>\n",
       "      <td>1</td>\n",
       "      <td>0</td>\n",
       "      <td>38190.78</td>\n",
       "      <td>0</td>\n",
       "    </tr>\n",
       "  </tbody>\n",
       "</table>\n",
       "<p>9799 rows × 11 columns</p>\n",
       "</div>"
      ],
      "text/plain": [
       "      CreditScore Geography  Gender  Age  Tenure    Balance  NumOfProducts  \\\n",
       "0             619    France  Female   42       2       0.00              1   \n",
       "1             608     Spain  Female   41       1   83807.86              1   \n",
       "2             502    France  Female   42       8  159660.80              3   \n",
       "3             699    France  Female   39       1       0.00              2   \n",
       "4             850     Spain  Female   43       2  125510.82              1   \n",
       "...           ...       ...     ...  ...     ...        ...            ...   \n",
       "9995          771    France    Male   39       5       0.00              2   \n",
       "9996          516    France    Male   35      10   57369.61              1   \n",
       "9997          709    France  Female   36       7       0.00              1   \n",
       "9998          772   Germany    Male   42       3   75075.31              2   \n",
       "9999          792    France  Female   28       4  130142.79              1   \n",
       "\n",
       "      HasCrCard  IsActiveMember  EstimatedSalary  Exited  \n",
       "0             1               1        101348.88       1  \n",
       "1             0               1        112542.58       0  \n",
       "2             1               0        113931.57       1  \n",
       "3             0               0         93826.63       0  \n",
       "4             1               1         79084.10       0  \n",
       "...         ...             ...              ...     ...  \n",
       "9995          1               0         96270.64       0  \n",
       "9996          1               1        101699.77       0  \n",
       "9997          0               1         42085.58       1  \n",
       "9998          1               0         92888.52       1  \n",
       "9999          1               0         38190.78       0  \n",
       "\n",
       "[9799 rows x 11 columns]"
      ]
     },
     "execution_count": 25,
     "metadata": {},
     "output_type": "execute_result"
    }
   ],
   "source": [
    "df_bank = df_bank[(z<3).all(axis=1)]\n",
    "df_bank"
   ]
  },
  {
   "cell_type": "markdown",
   "id": "e67bf265",
   "metadata": {},
   "source": [
    "### Categorical Data Analysis"
   ]
  },
  {
   "cell_type": "code",
   "execution_count": 26,
   "id": "a7a13226",
   "metadata": {},
   "outputs": [
    {
     "data": {
      "text/plain": [
       "Index(['Geography', 'Gender'], dtype='object')"
      ]
     },
     "execution_count": 26,
     "metadata": {},
     "output_type": "execute_result"
    }
   ],
   "source": [
    "df_bank_cat.columns"
   ]
  },
  {
   "cell_type": "code",
   "execution_count": 29,
   "id": "867d7779",
   "metadata": {},
   "outputs": [
    {
     "data": {
      "image/png": "[encoded data removed]",
      "text/plain": [
       "<Figure size 864x648 with 2 Axes>"
      ]
     },
     "metadata": {
      "needs_background": "light"
     },
     "output_type": "display_data"
    }
   ],
   "source": [
    "plt_num=1\n",
    "for col in df_bank_cat.columns:\n",
    "    plt.subplot(1, 2, plt_num)\n",
    "    sns.countplot(data=df_bank, x=col)\n",
    "    plt_num += 1\n",
    "    \n",
    "    \n",
    "plt.tight_layout()\n",
    "plt.show()"
   ]
  },
  {
   "cell_type": "markdown",
   "id": "8fa08d56",
   "metadata": {},
   "source": [
    "### Encoding Categorical Data"
   ]
  },
  {
   "cell_type": "code",
   "execution_count": 31,
   "id": "18b3e218",
   "metadata": {},
   "outputs": [
    {
     "data": {
      "text/html": [
       "<div>\n",
       "<style scoped>\n",
       "    .dataframe tbody tr th:only-of-type {\n",
       "        vertical-align: middle;\n",
       "    }\n",
       "\n",
       "    .dataframe tbody tr th {\n",
       "        vertical-align: top;\n",
       "    }\n",
       "\n",
       "    .dataframe thead th {\n",
       "        text-align: right;\n",
       "    }\n",
       "</style>\n",
       "<table border=\"1\" class=\"dataframe\">\n",
       "  <thead>\n",
       "    <tr style=\"text-align: right;\">\n",
       "      <th></th>\n",
       "      <th>CreditScore</th>\n",
       "      <th>Age</th>\n",
       "      <th>Tenure</th>\n",
       "      <th>Balance</th>\n",
       "      <th>NumOfProducts</th>\n",
       "      <th>HasCrCard</th>\n",
       "      <th>IsActiveMember</th>\n",
       "      <th>EstimatedSalary</th>\n",
       "      <th>Exited</th>\n",
       "      <th>Geography_France</th>\n",
       "      <th>Geography_Germany</th>\n",
       "      <th>Geography_Spain</th>\n",
       "      <th>Gender_Female</th>\n",
       "      <th>Gender_Male</th>\n",
       "    </tr>\n",
       "  </thead>\n",
       "  <tbody>\n",
       "    <tr>\n",
       "      <th>2940</th>\n",
       "      <td>711</td>\n",
       "      <td>28</td>\n",
       "      <td>5</td>\n",
       "      <td>0.0</td>\n",
       "      <td>2</td>\n",
       "      <td>1</td>\n",
       "      <td>1</td>\n",
       "      <td>93959.96</td>\n",
       "      <td>0</td>\n",
       "      <td>0</td>\n",
       "      <td>0</td>\n",
       "      <td>1</td>\n",
       "      <td>1</td>\n",
       "      <td>0</td>\n",
       "    </tr>\n",
       "    <tr>\n",
       "      <th>9366</th>\n",
       "      <td>736</td>\n",
       "      <td>36</td>\n",
       "      <td>6</td>\n",
       "      <td>0.0</td>\n",
       "      <td>1</td>\n",
       "      <td>1</td>\n",
       "      <td>0</td>\n",
       "      <td>70496.66</td>\n",
       "      <td>0</td>\n",
       "      <td>1</td>\n",
       "      <td>0</td>\n",
       "      <td>0</td>\n",
       "      <td>1</td>\n",
       "      <td>0</td>\n",
       "    </tr>\n",
       "  </tbody>\n",
       "</table>\n",
       "</div>"
      ],
      "text/plain": [
       "      CreditScore  Age  Tenure  Balance  NumOfProducts  HasCrCard  \\\n",
       "2940          711   28       5      0.0              2          1   \n",
       "9366          736   36       6      0.0              1          1   \n",
       "\n",
       "      IsActiveMember  EstimatedSalary  Exited  Geography_France  \\\n",
       "2940               1         93959.96       0                 0   \n",
       "9366               0         70496.66       0                 1   \n",
       "\n",
       "      Geography_Germany  Geography_Spain  Gender_Female  Gender_Male  \n",
       "2940                  0                1              1            0  \n",
       "9366                  0                0              1            0  "
      ]
     },
     "execution_count": 31,
     "metadata": {},
     "output_type": "execute_result"
    }
   ],
   "source": [
    "df_bank= pd.get_dummies(data=df_bank, columns=['Geography', 'Gender'])\n",
    "df_bank.sample(2)"
   ]
  },
  {
   "cell_type": "markdown",
   "id": "c3aef361",
   "metadata": {},
   "source": [
    "### Check Balance of Target Data"
   ]
  },
  {
   "cell_type": "code",
   "execution_count": 32,
   "id": "7f6db2b1",
   "metadata": {},
   "outputs": [
    {
     "data": {
      "text/plain": [
       "<AxesSubplot:xlabel='Exited', ylabel='count'>"
      ]
     },
     "execution_count": 32,
     "metadata": {},
     "output_type": "execute_result"
    },
    {
     "data": {
      "image/png": "[encoded data removed]",
      "text/plain": [
       "<Figure size 864x648 with 1 Axes>"
      ]
     },
     "metadata": {
      "needs_background": "light"
     },
     "output_type": "display_data"
    }
   ],
   "source": [
    "sns.countplot(data=df_bank, x='Exited')"
   ]
  },
  {
   "cell_type": "markdown",
   "id": "2a99096b",
   "metadata": {},
   "source": [
    "### Check - Colleration of Data"
   ]
  },
  {
   "cell_type": "code",
   "execution_count": 33,
   "id": "a5d93b90",
   "metadata": {},
   "outputs": [
    {
     "data": {
      "text/html": [
       "<div>\n",
       "<style scoped>\n",
       "    .dataframe tbody tr th:only-of-type {\n",
       "        vertical-align: middle;\n",
       "    }\n",
       "\n",
       "    .dataframe tbody tr th {\n",
       "        vertical-align: top;\n",
       "    }\n",
       "\n",
       "    .dataframe thead th {\n",
       "        text-align: right;\n",
       "    }\n",
       "</style>\n",
       "<table border=\"1\" class=\"dataframe\">\n",
       "  <thead>\n",
       "    <tr style=\"text-align: right;\">\n",
       "      <th></th>\n",
       "      <th>CreditScore</th>\n",
       "      <th>Age</th>\n",
       "      <th>Tenure</th>\n",
       "      <th>Balance</th>\n",
       "      <th>NumOfProducts</th>\n",
       "      <th>EstimatedSalary</th>\n",
       "    </tr>\n",
       "  </thead>\n",
       "  <tbody>\n",
       "    <tr>\n",
       "      <th>CreditScore</th>\n",
       "      <td>1.000000</td>\n",
       "      <td>-0.009138</td>\n",
       "      <td>0.000121</td>\n",
       "      <td>0.007141</td>\n",
       "      <td>0.011182</td>\n",
       "      <td>0.001757</td>\n",
       "    </tr>\n",
       "    <tr>\n",
       "      <th>Age</th>\n",
       "      <td>-0.009138</td>\n",
       "      <td>1.000000</td>\n",
       "      <td>-0.012346</td>\n",
       "      <td>0.037338</td>\n",
       "      <td>-0.054387</td>\n",
       "      <td>-0.009026</td>\n",
       "    </tr>\n",
       "    <tr>\n",
       "      <th>Tenure</th>\n",
       "      <td>0.000121</td>\n",
       "      <td>-0.012346</td>\n",
       "      <td>1.000000</td>\n",
       "      <td>-0.012678</td>\n",
       "      <td>0.012609</td>\n",
       "      <td>0.007962</td>\n",
       "    </tr>\n",
       "    <tr>\n",
       "      <th>Balance</th>\n",
       "      <td>0.007141</td>\n",
       "      <td>0.037338</td>\n",
       "      <td>-0.012678</td>\n",
       "      <td>1.000000</td>\n",
       "      <td>-0.331017</td>\n",
       "      <td>0.013352</td>\n",
       "    </tr>\n",
       "    <tr>\n",
       "      <th>NumOfProducts</th>\n",
       "      <td>0.011182</td>\n",
       "      <td>-0.054387</td>\n",
       "      <td>0.012609</td>\n",
       "      <td>-0.331017</td>\n",
       "      <td>1.000000</td>\n",
       "      <td>0.012667</td>\n",
       "    </tr>\n",
       "    <tr>\n",
       "      <th>EstimatedSalary</th>\n",
       "      <td>0.001757</td>\n",
       "      <td>-0.009026</td>\n",
       "      <td>0.007962</td>\n",
       "      <td>0.013352</td>\n",
       "      <td>0.012667</td>\n",
       "      <td>1.000000</td>\n",
       "    </tr>\n",
       "  </tbody>\n",
       "</table>\n",
       "</div>"
      ],
      "text/plain": [
       "                 CreditScore       Age    Tenure   Balance  NumOfProducts  \\\n",
       "CreditScore         1.000000 -0.009138  0.000121  0.007141       0.011182   \n",
       "Age                -0.009138  1.000000 -0.012346  0.037338      -0.054387   \n",
       "Tenure              0.000121 -0.012346  1.000000 -0.012678       0.012609   \n",
       "Balance             0.007141  0.037338 -0.012678  1.000000      -0.331017   \n",
       "NumOfProducts       0.011182 -0.054387  0.012609 -0.331017       1.000000   \n",
       "EstimatedSalary     0.001757 -0.009026  0.007962  0.013352       0.012667   \n",
       "\n",
       "                 EstimatedSalary  \n",
       "CreditScore             0.001757  \n",
       "Age                    -0.009026  \n",
       "Tenure                  0.007962  \n",
       "Balance                 0.013352  \n",
       "NumOfProducts           0.012667  \n",
       "EstimatedSalary         1.000000  "
      ]
     },
     "execution_count": 33,
     "metadata": {},
     "output_type": "execute_result"
    }
   ],
   "source": [
    "df_bank_corr = df_bank[num_analysis_col].corr()\n",
    "df_bank_corr"
   ]
  },
  {
   "cell_type": "code",
   "execution_count": 38,
   "id": "0f2d96aa",
   "metadata": {},
   "outputs": [
    {
     "data": {
      "image/png": "[encoded data removed]",
      "text/plain": [
       "<Figure size 864x648 with 2 Axes>"
      ]
     },
     "metadata": {
      "needs_background": "light"
     },
     "output_type": "display_data"
    }
   ],
   "source": [
    "sns.heatmap(df_bank_corr, annot=True, cmap='twilight')\n",
    "plt.show()"
   ]
  },
  {
   "cell_type": "code",
   "execution_count": 42,
   "id": "6294b962",
   "metadata": {},
   "outputs": [
    {
     "data": {
      "text/plain": [
       "Text(0.5, 1.0, 'Correlation of Numeric Values with Exited (target variable)')"
      ]
     },
     "execution_count": 42,
     "metadata": {},
     "output_type": "execute_result"
    },
    {
     "data": {
      "image/png": "[encoded data removed]",
      "text/plain": [
       "<Figure size 864x360 with 1 Axes>"
      ]
     },
     "metadata": {
      "needs_background": "light"
     },
     "output_type": "display_data"
    }
   ],
   "source": [
    "df_bank[num_analysis_col+['Exited']].corr()['Exited'].sort_values(ascending=False).plot(kind='bar', figsize=(12, 5))\n",
    "plt.title('Correlation of Numeric Values with Exited (target variable)')"
   ]
  },
  {
   "cell_type": "code",
   "execution_count": 43,
   "id": "16a76bd3",
   "metadata": {},
   "outputs": [
    {
     "name": "stdout",
     "output_type": "stream",
     "text": [
      "\n",
      "Observation: Numeric columns are independent of each other\n",
      "No significant correlation observed\n"
     ]
    }
   ],
   "source": [
    "print('''\n",
    "Observation: Numeric columns are independent of each other\n",
    "No significant correlation observed''')"
   ]
  },
  {
   "cell_type": "markdown",
   "id": "43296ac7",
   "metadata": {},
   "source": [
    "# Model Bulding"
   ]
  },
  {
   "cell_type": "markdown",
   "id": "a77d4d6a",
   "metadata": {},
   "source": [
    "### Train test split"
   ]
  },
  {
   "cell_type": "code",
   "execution_count": 45,
   "id": "1c93ed4b",
   "metadata": {},
   "outputs": [
    {
     "data": {
      "text/html": [
       "<div>\n",
       "<style scoped>\n",
       "    .dataframe tbody tr th:only-of-type {\n",
       "        vertical-align: middle;\n",
       "    }\n",
       "\n",
       "    .dataframe tbody tr th {\n",
       "        vertical-align: top;\n",
       "    }\n",
       "\n",
       "    .dataframe thead th {\n",
       "        text-align: right;\n",
       "    }\n",
       "</style>\n",
       "<table border=\"1\" class=\"dataframe\">\n",
       "  <thead>\n",
       "    <tr style=\"text-align: right;\">\n",
       "      <th></th>\n",
       "      <th>CreditScore</th>\n",
       "      <th>Age</th>\n",
       "      <th>Tenure</th>\n",
       "      <th>Balance</th>\n",
       "      <th>NumOfProducts</th>\n",
       "      <th>HasCrCard</th>\n",
       "      <th>IsActiveMember</th>\n",
       "      <th>EstimatedSalary</th>\n",
       "      <th>Geography_France</th>\n",
       "      <th>Geography_Germany</th>\n",
       "      <th>Geography_Spain</th>\n",
       "      <th>Gender_Female</th>\n",
       "      <th>Gender_Male</th>\n",
       "    </tr>\n",
       "  </thead>\n",
       "  <tbody>\n",
       "    <tr>\n",
       "      <th>3792</th>\n",
       "      <td>444</td>\n",
       "      <td>36</td>\n",
       "      <td>7</td>\n",
       "      <td>0.0</td>\n",
       "      <td>2</td>\n",
       "      <td>0</td>\n",
       "      <td>1</td>\n",
       "      <td>138743.86</td>\n",
       "      <td>1</td>\n",
       "      <td>0</td>\n",
       "      <td>0</td>\n",
       "      <td>0</td>\n",
       "      <td>1</td>\n",
       "    </tr>\n",
       "    <tr>\n",
       "      <th>5513</th>\n",
       "      <td>708</td>\n",
       "      <td>33</td>\n",
       "      <td>8</td>\n",
       "      <td>0.0</td>\n",
       "      <td>2</td>\n",
       "      <td>0</td>\n",
       "      <td>1</td>\n",
       "      <td>15246.83</td>\n",
       "      <td>1</td>\n",
       "      <td>0</td>\n",
       "      <td>0</td>\n",
       "      <td>1</td>\n",
       "      <td>0</td>\n",
       "    </tr>\n",
       "  </tbody>\n",
       "</table>\n",
       "</div>"
      ],
      "text/plain": [
       "      CreditScore  Age  Tenure  Balance  NumOfProducts  HasCrCard  \\\n",
       "3792          444   36       7      0.0              2          0   \n",
       "5513          708   33       8      0.0              2          0   \n",
       "\n",
       "      IsActiveMember  EstimatedSalary  Geography_France  Geography_Germany  \\\n",
       "3792               1        138743.86                 1                  0   \n",
       "5513               1         15246.83                 1                  0   \n",
       "\n",
       "      Geography_Spain  Gender_Female  Gender_Male  \n",
       "3792                0              0            1  \n",
       "5513                0              1            0  "
      ]
     },
     "execution_count": 45,
     "metadata": {},
     "output_type": "execute_result"
    }
   ],
   "source": [
    "X = df_bank.drop(columns=['Exited'], axis=1)\n",
    "y = df_bank['Exited']\n",
    "X.sample(2)"
   ]
  },
  {
   "cell_type": "code",
   "execution_count": 46,
   "id": "54b785b1",
   "metadata": {},
   "outputs": [],
   "source": [
    "X_train, X_test, y_train, y_test = train_test_split(X, y, test_size=0.3, \n",
    "                                                    stratify=y)"
   ]
  },
  {
   "cell_type": "markdown",
   "id": "87174542",
   "metadata": {},
   "source": [
    "### Base Model"
   ]
  },
  {
   "cell_type": "code",
   "execution_count": 47,
   "id": "05f283cd",
   "metadata": {},
   "outputs": [
    {
     "data": {
      "text/plain": [
       "LogisticRegression()"
      ]
     },
     "execution_count": 47,
     "metadata": {},
     "output_type": "execute_result"
    }
   ],
   "source": [
    "mod_lr = LogisticRegression()\n",
    "mod_lr.fit(X_train, y_train)"
   ]
  },
  {
   "cell_type": "code",
   "execution_count": 48,
   "id": "c5abb254",
   "metadata": {},
   "outputs": [
    {
     "data": {
      "text/html": [
       "<div>\n",
       "<style scoped>\n",
       "    .dataframe tbody tr th:only-of-type {\n",
       "        vertical-align: middle;\n",
       "    }\n",
       "\n",
       "    .dataframe tbody tr th {\n",
       "        vertical-align: top;\n",
       "    }\n",
       "\n",
       "    .dataframe thead th {\n",
       "        text-align: right;\n",
       "    }\n",
       "</style>\n",
       "<table border=\"1\" class=\"dataframe\">\n",
       "  <thead>\n",
       "    <tr style=\"text-align: right;\">\n",
       "      <th></th>\n",
       "      <th>Feature</th>\n",
       "      <th>Logit</th>\n",
       "      <th>Odd_Ratio</th>\n",
       "    </tr>\n",
       "  </thead>\n",
       "  <tbody>\n",
       "    <tr>\n",
       "      <th>0</th>\n",
       "      <td>CreditScore</td>\n",
       "      <td>-0.005498</td>\n",
       "      <td>0.994517</td>\n",
       "    </tr>\n",
       "    <tr>\n",
       "      <th>1</th>\n",
       "      <td>Age</td>\n",
       "      <td>0.051628</td>\n",
       "      <td>1.052984</td>\n",
       "    </tr>\n",
       "    <tr>\n",
       "      <th>2</th>\n",
       "      <td>Tenure</td>\n",
       "      <td>-0.002158</td>\n",
       "      <td>0.997845</td>\n",
       "    </tr>\n",
       "    <tr>\n",
       "      <th>3</th>\n",
       "      <td>Balance</td>\n",
       "      <td>0.000003</td>\n",
       "      <td>1.000003</td>\n",
       "    </tr>\n",
       "    <tr>\n",
       "      <th>4</th>\n",
       "      <td>NumOfProducts</td>\n",
       "      <td>-0.001175</td>\n",
       "      <td>0.998825</td>\n",
       "    </tr>\n",
       "    <tr>\n",
       "      <th>5</th>\n",
       "      <td>HasCrCard</td>\n",
       "      <td>-0.000210</td>\n",
       "      <td>0.999790</td>\n",
       "    </tr>\n",
       "    <tr>\n",
       "      <th>6</th>\n",
       "      <td>IsActiveMember</td>\n",
       "      <td>-0.001667</td>\n",
       "      <td>0.998334</td>\n",
       "    </tr>\n",
       "    <tr>\n",
       "      <th>7</th>\n",
       "      <td>EstimatedSalary</td>\n",
       "      <td>-0.000001</td>\n",
       "      <td>0.999999</td>\n",
       "    </tr>\n",
       "    <tr>\n",
       "      <th>8</th>\n",
       "      <td>Geography_France</td>\n",
       "      <td>-0.001013</td>\n",
       "      <td>0.998988</td>\n",
       "    </tr>\n",
       "    <tr>\n",
       "      <th>9</th>\n",
       "      <td>Geography_Germany</td>\n",
       "      <td>0.001172</td>\n",
       "      <td>1.001172</td>\n",
       "    </tr>\n",
       "    <tr>\n",
       "      <th>10</th>\n",
       "      <td>Geography_Spain</td>\n",
       "      <td>-0.000400</td>\n",
       "      <td>0.999600</td>\n",
       "    </tr>\n",
       "    <tr>\n",
       "      <th>11</th>\n",
       "      <td>Gender_Female</td>\n",
       "      <td>0.000922</td>\n",
       "      <td>1.000922</td>\n",
       "    </tr>\n",
       "    <tr>\n",
       "      <th>12</th>\n",
       "      <td>Gender_Male</td>\n",
       "      <td>-0.001163</td>\n",
       "      <td>0.998838</td>\n",
       "    </tr>\n",
       "  </tbody>\n",
       "</table>\n",
       "</div>"
      ],
      "text/plain": [
       "              Feature     Logit  Odd_Ratio\n",
       "0         CreditScore -0.005498   0.994517\n",
       "1                 Age  0.051628   1.052984\n",
       "2              Tenure -0.002158   0.997845\n",
       "3             Balance  0.000003   1.000003\n",
       "4       NumOfProducts -0.001175   0.998825\n",
       "5           HasCrCard -0.000210   0.999790\n",
       "6      IsActiveMember -0.001667   0.998334\n",
       "7     EstimatedSalary -0.000001   0.999999\n",
       "8    Geography_France -0.001013   0.998988\n",
       "9   Geography_Germany  0.001172   1.001172\n",
       "10    Geography_Spain -0.000400   0.999600\n",
       "11      Gender_Female  0.000922   1.000922\n",
       "12        Gender_Male -0.001163   0.998838"
      ]
     },
     "execution_count": 48,
     "metadata": {},
     "output_type": "execute_result"
    }
   ],
   "source": [
    "df_bank_feature_imp = pd.DataFrame(\n",
    "    {\n",
    "    'Feature': X_train.columns,\n",
    "    'Logit': mod_lr.coef_[0],\n",
    "    'Odd_Ratio': np.exp(mod_lr.coef_[0])\n",
    "    }\n",
    ")\n",
    "df_bank_feature_imp"
   ]
  },
  {
   "cell_type": "code",
   "execution_count": 50,
   "id": "4d4a193b",
   "metadata": {},
   "outputs": [
    {
     "data": {
      "text/plain": [
       "<AxesSubplot:>"
      ]
     },
     "execution_count": 50,
     "metadata": {},
     "output_type": "execute_result"
    },
    {
     "data": {
      "image/png": "[encoded data removed]",
      "text/plain": [
       "<Figure size 864x648 with 1 Axes>"
      ]
     },
     "metadata": {
      "needs_background": "light"
     },
     "output_type": "display_data"
    }
   ],
   "source": [
    "df_bank_feature_imp[['Odd_Ratio']].sort_values(by='Odd_Ratio',\n",
    "                                                 ascending=False, axis=0).plot(kind='bar')"
   ]
  },
  {
   "cell_type": "code",
   "execution_count": 51,
   "id": "2ff5c2b6",
   "metadata": {},
   "outputs": [
    {
     "data": {
      "image/png": "[encoded data removed]",
      "text/plain": [
       "<Figure size 864x648 with 1 Axes>"
      ]
     },
     "metadata": {
      "needs_background": "light"
     },
     "output_type": "display_data"
    }
   ],
   "source": [
    "sns.barplot(data=df_bank_feature_imp.sort_values(by='Odd_Ratio',\n",
    "                                                ascending=False), \n",
    "           x='Feature', y='Odd_Ratio')\n",
    "\n",
    "plt.tight_layout()\n",
    "plt.xticks(rotation=90)\n",
    "plt.show()"
   ]
  },
  {
   "cell_type": "code",
   "execution_count": 52,
   "id": "865a52ca",
   "metadata": {},
   "outputs": [
    {
     "name": "stdout",
     "output_type": "stream",
     "text": [
      "\n",
      "Observation: \n",
      "1. One unit increase in Age, will increase the Odds of getting exited by 1.05 times\n",
      "2. One unit increase of CreditScore, will descrease the Odd of getting exited by 0.994 times\n"
     ]
    }
   ],
   "source": [
    "print('''\n",
    "Observation: \n",
    "1. One unit increase in Age, will increase the Odds of getting exited by 1.05 times\n",
    "2. One unit increase of CreditScore, will descrease the Odd of getting exited by 0.994 times''')"
   ]
  },
  {
   "cell_type": "code",
   "execution_count": 53,
   "id": "a07e05a1",
   "metadata": {},
   "outputs": [],
   "source": [
    "from sklearn.metrics import ConfusionMatrixDisplay"
   ]
  },
  {
   "cell_type": "code",
   "execution_count": 57,
   "id": "899fe7e2",
   "metadata": {},
   "outputs": [
    {
     "data": {
      "image/png": "[encoded data removed]",
      "text/plain": [
       "<Figure size 864x648 with 2 Axes>"
      ]
     },
     "metadata": {
      "needs_background": "light"
     },
     "output_type": "display_data"
    },
    {
     "name": "stdout",
     "output_type": "stream",
     "text": [
      "\n",
      "Classification Report\n",
      "              precision    recall  f1-score   support\n",
      "\n",
      "           0       0.81      0.98      0.89      2353\n",
      "           1       0.47      0.08      0.14       587\n",
      "\n",
      "    accuracy                           0.80      2940\n",
      "   macro avg       0.64      0.53      0.51      2940\n",
      "weighted avg       0.74      0.80      0.74      2940\n",
      "\n"
     ]
    }
   ],
   "source": [
    "y_pred = mod_lr.predict(X_test)\n",
    "\n",
    "ConfusionMatrixDisplay(confusion_matrix=\n",
    "                      confusion_matrix(y_true=y_test, y_pred=y_pred), \n",
    "                      display_labels=mod_lr.classes_).plot()\n",
    "plt.title('Confusion Matrix - Logistic Regression')\n",
    "plt.show()\n",
    "print('\\nClassification Report')\n",
    "print(classification_report(y_true=y_test, y_pred=y_pred))"
   ]
  },
  {
   "cell_type": "markdown",
   "id": "05ce90eb",
   "metadata": {},
   "source": [
    "#### Turning the model by updating the Threshold"
   ]
  },
  {
   "cell_type": "code",
   "execution_count": 69,
   "id": "28920d68",
   "metadata": {},
   "outputs": [],
   "source": [
    "plt.rcParams['figure.figsize']= (5,5)\n",
    "def show_metrics(y_test, y_pred):\n",
    "    ConfusionMatrixDisplay(confusion_matrix=\n",
    "                      confusion_matrix(y_true=y_test, y_pred=y_pred), \n",
    "                      display_labels=mod_lr.classes_).plot()\n",
    "    plt.title('Confusion Matrix - Logistic Regression')\n",
    "    plt.show()\n",
    "    print('\\nClassification Report')\n",
    "    print(classification_report(y_true=y_test, y_pred=y_pred))"
   ]
  },
  {
   "cell_type": "code",
   "execution_count": 58,
   "id": "3f392b12",
   "metadata": {},
   "outputs": [
    {
     "data": {
      "text/plain": [
       "array([[0.52771972, 0.47228028],\n",
       "       [0.67763483, 0.32236517],\n",
       "       [0.85263254, 0.14736746],\n",
       "       ...,\n",
       "       [0.78740709, 0.21259291],\n",
       "       [0.79018212, 0.20981788],\n",
       "       [0.92158141, 0.07841859]])"
      ]
     },
     "execution_count": 58,
     "metadata": {},
     "output_type": "execute_result"
    }
   ],
   "source": [
    "mod_lr.predict_proba(X_test)"
   ]
  },
  {
   "cell_type": "code",
   "execution_count": 59,
   "id": "9fb0ad66",
   "metadata": {},
   "outputs": [
    {
     "data": {
      "text/plain": [
       "array([0.47228028, 0.32236517, 0.14736746, ..., 0.21259291, 0.20981788,\n",
       "       0.07841859])"
      ]
     },
     "execution_count": 59,
     "metadata": {},
     "output_type": "execute_result"
    }
   ],
   "source": [
    "mod_lr.predict_proba(X_test)[:, 1]"
   ]
  },
  {
   "cell_type": "code",
   "execution_count": 60,
   "id": "14804752",
   "metadata": {},
   "outputs": [],
   "source": [
    "proba_for_1_class = mod_lr.predict_proba(X_test)[:, 1]"
   ]
  },
  {
   "cell_type": "code",
   "execution_count": 70,
   "id": "ebe74aef",
   "metadata": {},
   "outputs": [
    {
     "data": {
      "image/png": "[encoded data removed]",
      "text/plain": [
       "<Figure size 360x360 with 2 Axes>"
      ]
     },
     "metadata": {
      "needs_background": "light"
     },
     "output_type": "display_data"
    },
    {
     "name": "stdout",
     "output_type": "stream",
     "text": [
      "\n",
      "Classification Report\n",
      "              precision    recall  f1-score   support\n",
      "\n",
      "           0       0.83      0.91      0.87      2353\n",
      "           1       0.43      0.27      0.33       587\n",
      "\n",
      "    accuracy                           0.78      2940\n",
      "   macro avg       0.63      0.59      0.60      2940\n",
      "weighted avg       0.75      0.78      0.76      2940\n",
      "\n"
     ]
    },
    {
     "data": {
      "image/png": "[encoded data removed]",
      "text/plain": [
       "<Figure size 360x360 with 2 Axes>"
      ]
     },
     "metadata": {
      "needs_background": "light"
     },
     "output_type": "display_data"
    },
    {
     "name": "stdout",
     "output_type": "stream",
     "text": [
      "\n",
      "Classification Report\n",
      "              precision    recall  f1-score   support\n",
      "\n",
      "           0       0.82      0.95      0.88      2353\n",
      "           1       0.46      0.19      0.27       587\n",
      "\n",
      "    accuracy                           0.79      2940\n",
      "   macro avg       0.64      0.57      0.57      2940\n",
      "weighted avg       0.75      0.79      0.76      2940\n",
      "\n"
     ]
    },
    {
     "data": {
      "image/png": "[encoded data removed]",
      "text/plain": [
       "<Figure size 360x360 with 2 Axes>"
      ]
     },
     "metadata": {
      "needs_background": "light"
     },
     "output_type": "display_data"
    },
    {
     "name": "stdout",
     "output_type": "stream",
     "text": [
      "\n",
      "Classification Report\n",
      "              precision    recall  f1-score   support\n",
      "\n",
      "           0       0.81      0.97      0.88      2353\n",
      "           1       0.44      0.11      0.17       587\n",
      "\n",
      "    accuracy                           0.79      2940\n",
      "   macro avg       0.63      0.54      0.53      2940\n",
      "weighted avg       0.74      0.79      0.74      2940\n",
      "\n"
     ]
    },
    {
     "data": {
      "image/png": "[encoded data removed]",
      "text/plain": [
       "<Figure size 360x360 with 2 Axes>"
      ]
     },
     "metadata": {
      "needs_background": "light"
     },
     "output_type": "display_data"
    },
    {
     "name": "stdout",
     "output_type": "stream",
     "text": [
      "\n",
      "Classification Report\n",
      "              precision    recall  f1-score   support\n",
      "\n",
      "           0       0.81      0.98      0.89      2353\n",
      "           1       0.47      0.08      0.14       587\n",
      "\n",
      "    accuracy                           0.80      2940\n",
      "   macro avg       0.64      0.53      0.51      2940\n",
      "weighted avg       0.74      0.80      0.74      2940\n",
      "\n"
     ]
    },
    {
     "data": {
      "image/png": "[encoded data removed]",
      "text/plain": [
       "<Figure size 360x360 with 2 Axes>"
      ]
     },
     "metadata": {
      "needs_background": "light"
     },
     "output_type": "display_data"
    },
    {
     "name": "stdout",
     "output_type": "stream",
     "text": [
      "\n",
      "Classification Report\n",
      "              precision    recall  f1-score   support\n",
      "\n",
      "           0       0.81      0.99      0.89      2353\n",
      "           1       0.54      0.05      0.09       587\n",
      "\n",
      "    accuracy                           0.80      2940\n",
      "   macro avg       0.67      0.52      0.49      2940\n",
      "weighted avg       0.75      0.80      0.73      2940\n",
      "\n"
     ]
    },
    {
     "data": {
      "image/png": "[encoded data removed]",
      "text/plain": [
       "<Figure size 360x360 with 2 Axes>"
      ]
     },
     "metadata": {
      "needs_background": "light"
     },
     "output_type": "display_data"
    },
    {
     "name": "stdout",
     "output_type": "stream",
     "text": [
      "\n",
      "Classification Report\n",
      "              precision    recall  f1-score   support\n",
      "\n",
      "           0       0.80      0.99      0.89      2353\n",
      "           1       0.56      0.03      0.06       587\n",
      "\n",
      "    accuracy                           0.80      2940\n",
      "   macro avg       0.68      0.51      0.48      2940\n",
      "weighted avg       0.75      0.80      0.72      2940\n",
      "\n"
     ]
    },
    {
     "data": {
      "image/png": "[encoded data removed]",
      "text/plain": [
       "<Figure size 360x360 with 2 Axes>"
      ]
     },
     "metadata": {
      "needs_background": "light"
     },
     "output_type": "display_data"
    },
    {
     "name": "stdout",
     "output_type": "stream",
     "text": [
      "\n",
      "Classification Report\n",
      "              precision    recall  f1-score   support\n",
      "\n",
      "           0       0.80      1.00      0.89      2353\n",
      "           1       0.62      0.01      0.03       587\n",
      "\n",
      "    accuracy                           0.80      2940\n",
      "   macro avg       0.71      0.51      0.46      2940\n",
      "weighted avg       0.76      0.80      0.72      2940\n",
      "\n"
     ]
    }
   ],
   "source": [
    "# Changing the threshold value and Checking if the accuracy/metrics changes\n",
    "\n",
    "for threshold in [0.35, 0.4, 0.45, 0.5, 0.55, 0.6, 0.65]:\n",
    "    y_pred_dummy = np.zeros([len(y_test), 1])\n",
    "    y_pred_dummy[proba_for_1_class>=threshold]=1\n",
    "    show_metrics(y_test, y_pred_dummy)"
   ]
  },
  {
   "cell_type": "markdown",
   "id": "7f6d7bfc",
   "metadata": {},
   "source": [
    "### Improving the Model Performance"
   ]
  },
  {
   "cell_type": "code",
   "execution_count": 71,
   "id": "61020b0f",
   "metadata": {},
   "outputs": [],
   "source": [
    "from xgboost import XGBClassifier"
   ]
  },
  {
   "cell_type": "code",
   "execution_count": 72,
   "id": "473c9823",
   "metadata": {},
   "outputs": [],
   "source": [
    "mod_lr = LogisticRegression()\n",
    "mod_dtc = DecisionTreeClassifier()\n",
    "mod_rfc = RandomForestClassifier()\n",
    "mod_knn = KNeighborsClassifier()\n",
    "mod_gnb = GaussianNB()\n",
    "mod_xgb = XGBClassifier()"
   ]
  },
  {
   "cell_type": "code",
   "execution_count": 73,
   "id": "102a10d1",
   "metadata": {},
   "outputs": [],
   "source": [
    "kf = KFold(n_splits=5, shuffle=True)"
   ]
  },
  {
   "cell_type": "code",
   "execution_count": 74,
   "id": "76ebddaf",
   "metadata": {},
   "outputs": [],
   "source": [
    "import warnings\n",
    "warnings.filterwarnings('ignore')"
   ]
  },
  {
   "cell_type": "code",
   "execution_count": 76,
   "id": "022cecc6",
   "metadata": {},
   "outputs": [
    {
     "name": "stdout",
     "output_type": "stream",
     "text": [
      "Model Name: lr,           Mean:0.7362770624608608, Variance:0.012698783329892454\n",
      "Model Name: dtc,           Mean:0.7890613322783704, Variance:0.007924524413734148\n",
      "Model Name: rfc,           Mean:0.8455086282724334, Variance:0.008198957844585032\n",
      "Model Name: knn,           Mean:0.7159392048655776, Variance:0.022388650529156714\n",
      "Model Name: gnb,           Mean:0.7516042330354449, Variance:0.0139928930460573\n",
      "[07:08:44] WARNING: D:\\bld\\xgboost-split_1634712635879\\work\\src\\learner.cc:1115: Starting in XGBoost 1.3.0, the default evaluation metric used with the objective 'binary:logistic' was changed from 'error' to 'logloss'. Explicitly set eval_metric if you'd like to restore the old behavior.\n",
      "[07:08:44] WARNING: D:\\bld\\xgboost-split_1634712635879\\work\\src\\learner.cc:1115: Starting in XGBoost 1.3.0, the default evaluation metric used with the objective 'binary:logistic' was changed from 'error' to 'logloss'. Explicitly set eval_metric if you'd like to restore the old behavior.\n",
      "[07:08:45] WARNING: D:\\bld\\xgboost-split_1634712635879\\work\\src\\learner.cc:1115: Starting in XGBoost 1.3.0, the default evaluation metric used with the objective 'binary:logistic' was changed from 'error' to 'logloss'. Explicitly set eval_metric if you'd like to restore the old behavior.\n",
      "[07:08:45] WARNING: D:\\bld\\xgboost-split_1634712635879\\work\\src\\learner.cc:1115: Starting in XGBoost 1.3.0, the default evaluation metric used with the objective 'binary:logistic' was changed from 'error' to 'logloss'. Explicitly set eval_metric if you'd like to restore the old behavior.\n",
      "[07:08:45] WARNING: D:\\bld\\xgboost-split_1634712635879\\work\\src\\learner.cc:1115: Starting in XGBoost 1.3.0, the default evaluation metric used with the objective 'binary:logistic' was changed from 'error' to 'logloss'. Explicitly set eval_metric if you'd like to restore the old behavior.\n",
      "Model Name: xgb,           Mean:0.8389596005681381, Variance:0.01006191982678651\n"
     ]
    },
    {
     "data": {
      "text/html": [
       "<div>\n",
       "<style scoped>\n",
       "    .dataframe tbody tr th:only-of-type {\n",
       "        vertical-align: middle;\n",
       "    }\n",
       "\n",
       "    .dataframe tbody tr th {\n",
       "        vertical-align: top;\n",
       "    }\n",
       "\n",
       "    .dataframe thead th {\n",
       "        text-align: right;\n",
       "    }\n",
       "</style>\n",
       "<table border=\"1\" class=\"dataframe\">\n",
       "  <thead>\n",
       "    <tr style=\"text-align: right;\">\n",
       "      <th></th>\n",
       "      <th>Mean</th>\n",
       "      <th>Model Name</th>\n",
       "      <th>Variance</th>\n",
       "    </tr>\n",
       "  </thead>\n",
       "  <tbody>\n",
       "    <tr>\n",
       "      <th>0</th>\n",
       "      <td>0.736277</td>\n",
       "      <td>lr</td>\n",
       "      <td>0.012699</td>\n",
       "    </tr>\n",
       "    <tr>\n",
       "      <th>1</th>\n",
       "      <td>0.789061</td>\n",
       "      <td>dtc</td>\n",
       "      <td>0.007925</td>\n",
       "    </tr>\n",
       "    <tr>\n",
       "      <th>2</th>\n",
       "      <td>0.845509</td>\n",
       "      <td>rfc</td>\n",
       "      <td>0.008199</td>\n",
       "    </tr>\n",
       "    <tr>\n",
       "      <th>3</th>\n",
       "      <td>0.715939</td>\n",
       "      <td>knn</td>\n",
       "      <td>0.022389</td>\n",
       "    </tr>\n",
       "    <tr>\n",
       "      <th>4</th>\n",
       "      <td>0.751604</td>\n",
       "      <td>gnb</td>\n",
       "      <td>0.013993</td>\n",
       "    </tr>\n",
       "    <tr>\n",
       "      <th>5</th>\n",
       "      <td>0.838960</td>\n",
       "      <td>xgb</td>\n",
       "      <td>0.010062</td>\n",
       "    </tr>\n",
       "  </tbody>\n",
       "</table>\n",
       "</div>"
      ],
      "text/plain": [
       "       Mean Model Name  Variance\n",
       "0  0.736277         lr  0.012699\n",
       "1  0.789061        dtc  0.007925\n",
       "2  0.845509        rfc  0.008199\n",
       "3  0.715939        knn  0.022389\n",
       "4  0.751604        gnb  0.013993\n",
       "5  0.838960        xgb  0.010062"
      ]
     },
     "execution_count": 76,
     "metadata": {},
     "output_type": "execute_result"
    }
   ],
   "source": [
    "df_mod_scores = pd.DataFrame()\n",
    "for est, mod_name in zip([mod_lr, mod_dtc, mod_rfc, mod_knn, mod_gnb, mod_xgb], \n",
    "                         ['lr', 'dtc', 'rfc', 'knn', 'gnb', 'xgb']):\n",
    "    score = cross_val_score(estimator=est, X=X, y=y, cv=kf, scoring='f1_weighted')\n",
    "    print(f'Model Name: {mod_name}, \\\n",
    "          Mean:{np.mean(score)}, Variance:{np.std(score)/np.mean(score)}')\n",
    "    df_mod_scores = df_mod_scores.append({\n",
    "        'Model Name': mod_name,\n",
    "        'Mean':np.mean(score), \n",
    "        'Variance':np.std(score)/np.mean(score)\n",
    "    }, ignore_index=True)\n",
    "    \n",
    "df_mod_scores"
   ]
  },
  {
   "cell_type": "code",
   "execution_count": 77,
   "id": "ed3f0476",
   "metadata": {},
   "outputs": [
    {
     "data": {
      "text/html": [
       "<div>\n",
       "<style scoped>\n",
       "    .dataframe tbody tr th:only-of-type {\n",
       "        vertical-align: middle;\n",
       "    }\n",
       "\n",
       "    .dataframe tbody tr th {\n",
       "        vertical-align: top;\n",
       "    }\n",
       "\n",
       "    .dataframe thead th {\n",
       "        text-align: right;\n",
       "    }\n",
       "</style>\n",
       "<table border=\"1\" class=\"dataframe\">\n",
       "  <thead>\n",
       "    <tr style=\"text-align: right;\">\n",
       "      <th></th>\n",
       "      <th>Model Name</th>\n",
       "      <th>Mean</th>\n",
       "      <th>Variance</th>\n",
       "    </tr>\n",
       "  </thead>\n",
       "  <tbody>\n",
       "    <tr>\n",
       "      <th>2</th>\n",
       "      <td>rfc</td>\n",
       "      <td>0.845509</td>\n",
       "      <td>0.008199</td>\n",
       "    </tr>\n",
       "    <tr>\n",
       "      <th>5</th>\n",
       "      <td>xgb</td>\n",
       "      <td>0.838960</td>\n",
       "      <td>0.010062</td>\n",
       "    </tr>\n",
       "    <tr>\n",
       "      <th>1</th>\n",
       "      <td>dtc</td>\n",
       "      <td>0.789061</td>\n",
       "      <td>0.007925</td>\n",
       "    </tr>\n",
       "    <tr>\n",
       "      <th>4</th>\n",
       "      <td>gnb</td>\n",
       "      <td>0.751604</td>\n",
       "      <td>0.013993</td>\n",
       "    </tr>\n",
       "    <tr>\n",
       "      <th>0</th>\n",
       "      <td>lr</td>\n",
       "      <td>0.736277</td>\n",
       "      <td>0.012699</td>\n",
       "    </tr>\n",
       "    <tr>\n",
       "      <th>3</th>\n",
       "      <td>knn</td>\n",
       "      <td>0.715939</td>\n",
       "      <td>0.022389</td>\n",
       "    </tr>\n",
       "  </tbody>\n",
       "</table>\n",
       "</div>"
      ],
      "text/plain": [
       "  Model Name      Mean  Variance\n",
       "2        rfc  0.845509  0.008199\n",
       "5        xgb  0.838960  0.010062\n",
       "1        dtc  0.789061  0.007925\n",
       "4        gnb  0.751604  0.013993\n",
       "0         lr  0.736277  0.012699\n",
       "3        knn  0.715939  0.022389"
      ]
     },
     "execution_count": 77,
     "metadata": {},
     "output_type": "execute_result"
    }
   ],
   "source": [
    "df_mod_scores[['Model Name','Mean','Variance']].sort_values(by=['Mean'], ascending=False)"
   ]
  },
  {
   "cell_type": "code",
   "execution_count": 78,
   "id": "8a954463",
   "metadata": {},
   "outputs": [
    {
     "name": "stdout",
     "output_type": "stream",
     "text": [
      "\n",
      "Observation: Random forest performed well both in terms of Mean and Variance\n"
     ]
    }
   ],
   "source": [
    "print('''\n",
    "Observation: Random forest performed well both in terms of Mean and Variance''')"
   ]
  },
  {
   "cell_type": "markdown",
   "id": "de10485f",
   "metadata": {},
   "source": [
    "### Handling Imbalance data (SMOTE and NearMiss)"
   ]
  },
  {
   "cell_type": "code",
   "execution_count": 79,
   "id": "6b17fd70",
   "metadata": {},
   "outputs": [],
   "source": [
    "from imblearn.over_sampling import SMOTE\n",
    "from imblearn.under_sampling import NearMiss\n",
    "from imblearn.pipeline import make_pipeline"
   ]
  },
  {
   "cell_type": "code",
   "execution_count": 80,
   "id": "b6282de0",
   "metadata": {},
   "outputs": [
    {
     "data": {
      "text/plain": [
       "0    7841\n",
       "1    1958\n",
       "Name: Exited, dtype: int64"
      ]
     },
     "execution_count": 80,
     "metadata": {},
     "output_type": "execute_result"
    }
   ],
   "source": [
    "y.value_counts()"
   ]
  },
  {
   "cell_type": "code",
   "execution_count": 81,
   "id": "49afd019",
   "metadata": {},
   "outputs": [],
   "source": [
    "count_class_0 = 5000\n",
    "count_class_1 = 5000\n",
    "pipe = make_pipeline(\n",
    "    SMOTE(sampling_strategy={1: count_class_1}),\n",
    "    NearMiss(sampling_strategy={0: count_class_0})\n",
    ")\n",
    "\n",
    "X_bal, y_bal = pipe.fit_resample(X, y)"
   ]
  },
  {
   "cell_type": "code",
   "execution_count": 82,
   "id": "8f6de4a2",
   "metadata": {},
   "outputs": [
    {
     "name": "stdout",
     "output_type": "stream",
     "text": [
      "Model Name: s_lr,           Mean:0.6996808907447747, Variance:0.012649470352016821\n",
      "Model Name: s_dtc,           Mean:0.8204858377621015, Variance:0.008361752082383407\n",
      "Model Name: s_rfc,           Mean:0.8770881647090853, Variance:0.011799646711315637\n",
      "Model Name: s_knn,           Mean:0.6404455955813784, Variance:0.013151313965930634\n",
      "Model Name: s_gnb,           Mean:0.7329975238570838, Variance:0.004112309765567994\n",
      "[07:12:23] WARNING: D:\\bld\\xgboost-split_1634712635879\\work\\src\\learner.cc:1115: Starting in XGBoost 1.3.0, the default evaluation metric used with the objective 'binary:logistic' was changed from 'error' to 'logloss'. Explicitly set eval_metric if you'd like to restore the old behavior.\n",
      "[07:12:23] WARNING: D:\\bld\\xgboost-split_1634712635879\\work\\src\\learner.cc:1115: Starting in XGBoost 1.3.0, the default evaluation metric used with the objective 'binary:logistic' was changed from 'error' to 'logloss'. Explicitly set eval_metric if you'd like to restore the old behavior.\n",
      "[07:12:24] WARNING: D:\\bld\\xgboost-split_1634712635879\\work\\src\\learner.cc:1115: Starting in XGBoost 1.3.0, the default evaluation metric used with the objective 'binary:logistic' was changed from 'error' to 'logloss'. Explicitly set eval_metric if you'd like to restore the old behavior.\n",
      "[07:12:24] WARNING: D:\\bld\\xgboost-split_1634712635879\\work\\src\\learner.cc:1115: Starting in XGBoost 1.3.0, the default evaluation metric used with the objective 'binary:logistic' was changed from 'error' to 'logloss'. Explicitly set eval_metric if you'd like to restore the old behavior.\n",
      "[07:12:24] WARNING: D:\\bld\\xgboost-split_1634712635879\\work\\src\\learner.cc:1115: Starting in XGBoost 1.3.0, the default evaluation metric used with the objective 'binary:logistic' was changed from 'error' to 'logloss'. Explicitly set eval_metric if you'd like to restore the old behavior.\n",
      "Model Name: s_xgb,           Mean:0.876392628605748, Variance:0.007208734086901795\n"
     ]
    },
    {
     "data": {
      "text/html": [
       "<div>\n",
       "<style scoped>\n",
       "    .dataframe tbody tr th:only-of-type {\n",
       "        vertical-align: middle;\n",
       "    }\n",
       "\n",
       "    .dataframe tbody tr th {\n",
       "        vertical-align: top;\n",
       "    }\n",
       "\n",
       "    .dataframe thead th {\n",
       "        text-align: right;\n",
       "    }\n",
       "</style>\n",
       "<table border=\"1\" class=\"dataframe\">\n",
       "  <thead>\n",
       "    <tr style=\"text-align: right;\">\n",
       "      <th></th>\n",
       "      <th>Mean</th>\n",
       "      <th>Model Name</th>\n",
       "      <th>Variance</th>\n",
       "    </tr>\n",
       "  </thead>\n",
       "  <tbody>\n",
       "    <tr>\n",
       "      <th>0</th>\n",
       "      <td>0.736277</td>\n",
       "      <td>lr</td>\n",
       "      <td>0.012699</td>\n",
       "    </tr>\n",
       "    <tr>\n",
       "      <th>1</th>\n",
       "      <td>0.789061</td>\n",
       "      <td>dtc</td>\n",
       "      <td>0.007925</td>\n",
       "    </tr>\n",
       "    <tr>\n",
       "      <th>2</th>\n",
       "      <td>0.845509</td>\n",
       "      <td>rfc</td>\n",
       "      <td>0.008199</td>\n",
       "    </tr>\n",
       "    <tr>\n",
       "      <th>3</th>\n",
       "      <td>0.715939</td>\n",
       "      <td>knn</td>\n",
       "      <td>0.022389</td>\n",
       "    </tr>\n",
       "    <tr>\n",
       "      <th>4</th>\n",
       "      <td>0.751604</td>\n",
       "      <td>gnb</td>\n",
       "      <td>0.013993</td>\n",
       "    </tr>\n",
       "    <tr>\n",
       "      <th>5</th>\n",
       "      <td>0.838960</td>\n",
       "      <td>xgb</td>\n",
       "      <td>0.010062</td>\n",
       "    </tr>\n",
       "    <tr>\n",
       "      <th>6</th>\n",
       "      <td>0.699681</td>\n",
       "      <td>s_lr</td>\n",
       "      <td>0.012649</td>\n",
       "    </tr>\n",
       "    <tr>\n",
       "      <th>7</th>\n",
       "      <td>0.820486</td>\n",
       "      <td>s_dtc</td>\n",
       "      <td>0.008362</td>\n",
       "    </tr>\n",
       "    <tr>\n",
       "      <th>8</th>\n",
       "      <td>0.877088</td>\n",
       "      <td>s_rfc</td>\n",
       "      <td>0.011800</td>\n",
       "    </tr>\n",
       "    <tr>\n",
       "      <th>9</th>\n",
       "      <td>0.640446</td>\n",
       "      <td>s_knn</td>\n",
       "      <td>0.013151</td>\n",
       "    </tr>\n",
       "    <tr>\n",
       "      <th>10</th>\n",
       "      <td>0.732998</td>\n",
       "      <td>s_gnb</td>\n",
       "      <td>0.004112</td>\n",
       "    </tr>\n",
       "    <tr>\n",
       "      <th>11</th>\n",
       "      <td>0.876393</td>\n",
       "      <td>s_xgb</td>\n",
       "      <td>0.007209</td>\n",
       "    </tr>\n",
       "  </tbody>\n",
       "</table>\n",
       "</div>"
      ],
      "text/plain": [
       "        Mean Model Name  Variance\n",
       "0   0.736277         lr  0.012699\n",
       "1   0.789061        dtc  0.007925\n",
       "2   0.845509        rfc  0.008199\n",
       "3   0.715939        knn  0.022389\n",
       "4   0.751604        gnb  0.013993\n",
       "5   0.838960        xgb  0.010062\n",
       "6   0.699681       s_lr  0.012649\n",
       "7   0.820486      s_dtc  0.008362\n",
       "8   0.877088      s_rfc  0.011800\n",
       "9   0.640446      s_knn  0.013151\n",
       "10  0.732998      s_gnb  0.004112\n",
       "11  0.876393      s_xgb  0.007209"
      ]
     },
     "execution_count": 82,
     "metadata": {},
     "output_type": "execute_result"
    }
   ],
   "source": [
    "for est, mod_name in zip([mod_lr, mod_dtc, mod_rfc, mod_knn, mod_gnb, mod_xgb], \n",
    "                ['s_lr', 's_dtc', 's_rfc', 's_knn', 's_gnb', 's_xgb']):\n",
    "    score = cross_val_score(estimator=est, X=X_bal, y=y_bal, \n",
    "                            cv=kf, scoring='f1_weighted')\n",
    "    print(f'Model Name: {mod_name}, \\\n",
    "          Mean:{np.mean(score)}, Variance:{np.std(score)/np.mean(score)}')\n",
    "    df_mod_scores = df_mod_scores.append({\n",
    "        'Model Name': mod_name,\n",
    "        'Mean':np.mean(score), \n",
    "        'Variance':np.std(score)/np.mean(score)\n",
    "    }, ignore_index=True)\n",
    "    \n",
    "df_mod_scores"
   ]
  },
  {
   "cell_type": "code",
   "execution_count": 83,
   "id": "8a83fe1f",
   "metadata": {},
   "outputs": [
    {
     "data": {
      "text/html": [
       "<div>\n",
       "<style scoped>\n",
       "    .dataframe tbody tr th:only-of-type {\n",
       "        vertical-align: middle;\n",
       "    }\n",
       "\n",
       "    .dataframe tbody tr th {\n",
       "        vertical-align: top;\n",
       "    }\n",
       "\n",
       "    .dataframe thead th {\n",
       "        text-align: right;\n",
       "    }\n",
       "</style>\n",
       "<table border=\"1\" class=\"dataframe\">\n",
       "  <thead>\n",
       "    <tr style=\"text-align: right;\">\n",
       "      <th></th>\n",
       "      <th>Model Name</th>\n",
       "      <th>Mean</th>\n",
       "      <th>Variance</th>\n",
       "    </tr>\n",
       "  </thead>\n",
       "  <tbody>\n",
       "    <tr>\n",
       "      <th>8</th>\n",
       "      <td>s_rfc</td>\n",
       "      <td>0.877088</td>\n",
       "      <td>0.011800</td>\n",
       "    </tr>\n",
       "    <tr>\n",
       "      <th>11</th>\n",
       "      <td>s_xgb</td>\n",
       "      <td>0.876393</td>\n",
       "      <td>0.007209</td>\n",
       "    </tr>\n",
       "    <tr>\n",
       "      <th>2</th>\n",
       "      <td>rfc</td>\n",
       "      <td>0.845509</td>\n",
       "      <td>0.008199</td>\n",
       "    </tr>\n",
       "    <tr>\n",
       "      <th>5</th>\n",
       "      <td>xgb</td>\n",
       "      <td>0.838960</td>\n",
       "      <td>0.010062</td>\n",
       "    </tr>\n",
       "    <tr>\n",
       "      <th>7</th>\n",
       "      <td>s_dtc</td>\n",
       "      <td>0.820486</td>\n",
       "      <td>0.008362</td>\n",
       "    </tr>\n",
       "    <tr>\n",
       "      <th>1</th>\n",
       "      <td>dtc</td>\n",
       "      <td>0.789061</td>\n",
       "      <td>0.007925</td>\n",
       "    </tr>\n",
       "    <tr>\n",
       "      <th>4</th>\n",
       "      <td>gnb</td>\n",
       "      <td>0.751604</td>\n",
       "      <td>0.013993</td>\n",
       "    </tr>\n",
       "    <tr>\n",
       "      <th>0</th>\n",
       "      <td>lr</td>\n",
       "      <td>0.736277</td>\n",
       "      <td>0.012699</td>\n",
       "    </tr>\n",
       "    <tr>\n",
       "      <th>10</th>\n",
       "      <td>s_gnb</td>\n",
       "      <td>0.732998</td>\n",
       "      <td>0.004112</td>\n",
       "    </tr>\n",
       "    <tr>\n",
       "      <th>3</th>\n",
       "      <td>knn</td>\n",
       "      <td>0.715939</td>\n",
       "      <td>0.022389</td>\n",
       "    </tr>\n",
       "    <tr>\n",
       "      <th>6</th>\n",
       "      <td>s_lr</td>\n",
       "      <td>0.699681</td>\n",
       "      <td>0.012649</td>\n",
       "    </tr>\n",
       "    <tr>\n",
       "      <th>9</th>\n",
       "      <td>s_knn</td>\n",
       "      <td>0.640446</td>\n",
       "      <td>0.013151</td>\n",
       "    </tr>\n",
       "  </tbody>\n",
       "</table>\n",
       "</div>"
      ],
      "text/plain": [
       "   Model Name      Mean  Variance\n",
       "8       s_rfc  0.877088  0.011800\n",
       "11      s_xgb  0.876393  0.007209\n",
       "2         rfc  0.845509  0.008199\n",
       "5         xgb  0.838960  0.010062\n",
       "7       s_dtc  0.820486  0.008362\n",
       "1         dtc  0.789061  0.007925\n",
       "4         gnb  0.751604  0.013993\n",
       "0          lr  0.736277  0.012699\n",
       "10      s_gnb  0.732998  0.004112\n",
       "3         knn  0.715939  0.022389\n",
       "6        s_lr  0.699681  0.012649\n",
       "9       s_knn  0.640446  0.013151"
      ]
     },
     "execution_count": 83,
     "metadata": {},
     "output_type": "execute_result"
    }
   ],
   "source": [
    "df_mod_scores[['Model Name','Mean','Variance']].sort_values(by='Mean', ascending=False)"
   ]
  },
  {
   "cell_type": "code",
   "execution_count": 84,
   "id": "57c7c1e1",
   "metadata": {},
   "outputs": [
    {
     "name": "stdout",
     "output_type": "stream",
     "text": [
      "\n",
      "Observation: After the imbalance of data is corrected by both Over Sampling and Under Sampling the Random Forest model gives better results\n"
     ]
    }
   ],
   "source": [
    "print('''\n",
    "Observation: After the imbalance of data is corrected by both Over Sampling and Under Sampling the Random Forest model gives better results''')"
   ]
  },
  {
   "cell_type": "markdown",
   "id": "0b4b1212",
   "metadata": {},
   "source": [
    "### Hyper parameter tunning"
   ]
  },
  {
   "cell_type": "code",
   "execution_count": 87,
   "id": "d6af3ef4",
   "metadata": {},
   "outputs": [],
   "source": [
    "X_train_bal, X_test_bal, y_train_bal, y_test_bal = train_test_split(X_bal, y_bal, \n",
    "                                                    test_size=0.3, \n",
    "                                                    stratify=y_bal)"
   ]
  },
  {
   "cell_type": "code",
   "execution_count": 85,
   "id": "56e1d00b",
   "metadata": {},
   "outputs": [],
   "source": [
    "params = {\n",
    "    'n_estimators': [50, 75, 100, 125, 150],\n",
    "    'criterion': ['gini', 'entropy'],\n",
    "    'max_depth': [5, 10, 15, 20, 25]\n",
    "}\n"
   ]
  },
  {
   "cell_type": "code",
   "execution_count": 86,
   "id": "d6470b9b",
   "metadata": {},
   "outputs": [],
   "source": [
    "mod_rfc = RandomForestClassifier()\n",
    "mod_gscv = GridSearchCV(estimator=mod_rfc, \n",
    "                        param_grid=params, \n",
    "                        scoring='f1_weighted'\n",
    "                       )"
   ]
  },
  {
   "cell_type": "code",
   "execution_count": 88,
   "id": "3f21c1b5",
   "metadata": {},
   "outputs": [
    {
     "data": {
      "text/plain": [
       "GridSearchCV(estimator=RandomForestClassifier(),\n",
       "             param_grid={'criterion': ['gini', 'entropy'],\n",
       "                         'max_depth': [5, 10, 15, 20, 25],\n",
       "                         'n_estimators': [50, 75, 100, 125, 150]},\n",
       "             scoring='f1_weighted')"
      ]
     },
     "execution_count": 88,
     "metadata": {},
     "output_type": "execute_result"
    }
   ],
   "source": [
    "mod_gscv.fit(X_train_bal, y_train_bal)"
   ]
  },
  {
   "cell_type": "code",
   "execution_count": 89,
   "id": "98dea360",
   "metadata": {},
   "outputs": [],
   "source": [
    "mod_rfc_best = RandomForestClassifier(**mod_gscv.best_params_)"
   ]
  },
  {
   "cell_type": "code",
   "execution_count": 90,
   "id": "0c99cbce",
   "metadata": {},
   "outputs": [
    {
     "data": {
      "text/plain": [
       "RandomForestClassifier(max_depth=20, n_estimators=150)"
      ]
     },
     "execution_count": 90,
     "metadata": {},
     "output_type": "execute_result"
    }
   ],
   "source": [
    "mod_rfc_best.fit(X_train_bal, y_train_bal)"
   ]
  },
  {
   "cell_type": "code",
   "execution_count": 91,
   "id": "763c9fbc",
   "metadata": {},
   "outputs": [],
   "source": [
    "y_pred_bal = mod_rfc_best.predict(X_test_bal)"
   ]
  },
  {
   "cell_type": "code",
   "execution_count": 93,
   "id": "a936e3de",
   "metadata": {},
   "outputs": [
    {
     "data": {
      "image/png": "[encoded data removed]",
      "text/plain": [
       "<Figure size 360x360 with 2 Axes>"
      ]
     },
     "metadata": {
      "needs_background": "light"
     },
     "output_type": "display_data"
    },
    {
     "name": "stdout",
     "output_type": "stream",
     "text": [
      "\n",
      "Classification Report\n",
      "              precision    recall  f1-score   support\n",
      "\n",
      "           0       0.81      0.98      0.89      2353\n",
      "           1       0.47      0.08      0.14       587\n",
      "\n",
      "    accuracy                           0.80      2940\n",
      "   macro avg       0.64      0.53      0.51      2940\n",
      "weighted avg       0.74      0.80      0.74      2940\n",
      "\n"
     ]
    }
   ],
   "source": [
    "ConfusionMatrixDisplay(confusion_matrix=\n",
    "                  confusion_matrix(y_true=y_test_bal, y_pred=y_pred_bal), \n",
    "                  display_labels=mod_rfc_best.classes_).plot()\n",
    "plt.title('Confusion Matrix - Random Forest Regression')\n",
    "plt.show()\n",
    "print('\\nClassification Report')\n",
    "print(classification_report(y_true=y_test, y_pred=y_pred))"
   ]
  },
  {
   "cell_type": "code",
   "execution_count": 94,
   "id": "d33ab7da",
   "metadata": {},
   "outputs": [],
   "source": [
    "from sklearn.metrics import cohen_kappa_score"
   ]
  },
  {
   "cell_type": "code",
   "execution_count": 95,
   "id": "b4ddcfe7",
   "metadata": {},
   "outputs": [
    {
     "data": {
      "text/plain": [
       "0.7346666666666667"
      ]
     },
     "execution_count": 95,
     "metadata": {},
     "output_type": "execute_result"
    }
   ],
   "source": [
    "cohen_kappa_score(y_test_bal, y_pred_bal)"
   ]
  },
  {
   "cell_type": "code",
   "execution_count": 96,
   "id": "ba036cbd",
   "metadata": {},
   "outputs": [
    {
     "data": {
      "text/plain": [
       "0.08425382534275772"
      ]
     },
     "execution_count": 96,
     "metadata": {},
     "output_type": "execute_result"
    }
   ],
   "source": [
    "cohen_kappa_score(y_test, y_pred)"
   ]
  },
  {
   "cell_type": "code",
   "execution_count": 97,
   "id": "01c2f20f",
   "metadata": {},
   "outputs": [],
   "source": [
    "from sklearn.metrics import roc_curve, roc_auc_score"
   ]
  },
  {
   "cell_type": "code",
   "execution_count": 98,
   "id": "f1e3d7cf",
   "metadata": {},
   "outputs": [
    {
     "data": {
      "text/plain": [
       "Text(0.1, 0.9, \"('ROC AUC Score:', 0.8673)\")"
      ]
     },
     "execution_count": 98,
     "metadata": {},
     "output_type": "execute_result"
    },
    {
     "data": {
      "image/png": "[encoded data removed]",
      "text/plain": [
       "<Figure size 360x360 with 1 Axes>"
      ]
     },
     "metadata": {
      "needs_background": "light"
     },
     "output_type": "display_data"
    }
   ],
   "source": [
    "fpr, tpr, thresholds = roc_curve(y_test_bal, y_pred_bal)\n",
    "plt.plot(fpr, tpr)\n",
    "plt.xlim([0.0, 1.0])\n",
    "plt.ylim([0.0, 1.0])\n",
    "\n",
    "plt.plot([0, 1], [0, 1], 'r--')\n",
    "\n",
    "plt.title('ROC Curve', fontsize=15)\n",
    "plt.xlabel('False Positive Rate - FPR (1-Specificity)')\n",
    "plt.ylabel('True Positve Rate - TPR (Sensitivity)')\n",
    "plt.text(x=0.1, y=0.9, s=('ROC AUC Score:', round(roc_auc_score(y_test_bal, y_pred_bal), 4)))"
   ]
  },
  {
   "cell_type": "code",
   "execution_count": 99,
   "id": "27f9d6c5",
   "metadata": {},
   "outputs": [
    {
     "data": {
      "image/png": "[encoded data removed]",
      "text/plain": [
       "<Figure size 360x360 with 1 Axes>"
      ]
     },
     "metadata": {
      "needs_background": "light"
     },
     "output_type": "display_data"
    }
   ],
   "source": [
    "y_pred_bal_cls1_prob = mod_rfc_best.predict_proba(X_test_bal)[:, 1]\n",
    "fpr, tpr, thresholds = roc_curve(y_test_bal, y_pred_bal_cls1_prob)\n",
    "\n",
    "plt.plot(fpr, tpr)\n",
    "\n",
    "plt.xlim([0.0, 1.0])\n",
    "plt.ylim([0.0, 1.0])\n",
    "\n",
    "plt.plot([0,1], [0,1], 'r--')\n",
    "\n",
    "\n",
    "plt.title('ROC Curve', fontsize=15)\n",
    "plt.xlabel('False Positive Rate - FPR (1-Specificity)')\n",
    "plt.ylabel('True Positve Rate - TPR (Sensitivity)')\n",
    "plt.text(x=0.1, y=0.9, s=('ROC AUC Score:', round(roc_auc_score(y_test_bal, y_pred_bal_cls1_prob),4)))\n",
    "plt.grid(True)\n",
    "plt.show()"
   ]
  },
  {
   "cell_type": "code",
   "execution_count": null,
   "id": "569e4e8c",
   "metadata": {},
   "outputs": [],
   "source": []
  }
 ],
 "metadata": {
  "kernelspec": {
   "display_name": "Python 3",
   "language": "python",
   "name": "python3"
  },
  "language_info": {
   "codemirror_mode": {
    "name": "ipython",
    "version": 3
   },
   "file_extension": ".py",
   "mimetype": "text/x-python",
   "name": "python",
   "nbconvert_exporter": "python",
   "pygments_lexer": "ipython3",
   "version": "3.9.4"
  }
 },
 "nbformat": 4,
 "nbformat_minor": 5
}
