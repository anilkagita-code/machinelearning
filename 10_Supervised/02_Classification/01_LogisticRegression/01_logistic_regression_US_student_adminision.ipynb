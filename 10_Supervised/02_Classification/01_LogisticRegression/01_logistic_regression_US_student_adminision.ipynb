{
 "cells": [
  {
   "cell_type": "code",
   "execution_count": 1,
   "id": "7b6fd9e8",
   "metadata": {},
   "outputs": [],
   "source": [
    "import numpy as np \n",
    "import pandas as pd\n",
    "from matplotlib import pyplot as plt\n",
    "import seaborn as sns"
   ]
  },
  {
   "cell_type": "code",
   "execution_count": 2,
   "id": "7887b563",
   "metadata": {},
   "outputs": [
    {
     "data": {
      "text/html": [
       "<div>\n",
       "<style scoped>\n",
       "    .dataframe tbody tr th:only-of-type {\n",
       "        vertical-align: middle;\n",
       "    }\n",
       "\n",
       "    .dataframe tbody tr th {\n",
       "        vertical-align: top;\n",
       "    }\n",
       "\n",
       "    .dataframe thead th {\n",
       "        text-align: right;\n",
       "    }\n",
       "</style>\n",
       "<table border=\"1\" class=\"dataframe\">\n",
       "  <thead>\n",
       "    <tr style=\"text-align: right;\">\n",
       "      <th></th>\n",
       "      <th>Serial No.</th>\n",
       "      <th>GRE Score</th>\n",
       "      <th>TOEFL Score</th>\n",
       "      <th>University Rating</th>\n",
       "      <th>SOP</th>\n",
       "      <th>LOR</th>\n",
       "      <th>CGPA</th>\n",
       "      <th>Research</th>\n",
       "      <th>Chance of Admit</th>\n",
       "    </tr>\n",
       "  </thead>\n",
       "  <tbody>\n",
       "    <tr>\n",
       "      <th>355</th>\n",
       "      <td>356</td>\n",
       "      <td>317</td>\n",
       "      <td>106</td>\n",
       "      <td>2</td>\n",
       "      <td>2.0</td>\n",
       "      <td>3.5</td>\n",
       "      <td>8.12</td>\n",
       "      <td>0</td>\n",
       "      <td>0</td>\n",
       "    </tr>\n",
       "    <tr>\n",
       "      <th>88</th>\n",
       "      <td>89</td>\n",
       "      <td>314</td>\n",
       "      <td>108</td>\n",
       "      <td>3</td>\n",
       "      <td>4.5</td>\n",
       "      <td>3.5</td>\n",
       "      <td>8.14</td>\n",
       "      <td>0</td>\n",
       "      <td>0</td>\n",
       "    </tr>\n",
       "    <tr>\n",
       "      <th>391</th>\n",
       "      <td>392</td>\n",
       "      <td>318</td>\n",
       "      <td>106</td>\n",
       "      <td>3</td>\n",
       "      <td>2.0</td>\n",
       "      <td>3.0</td>\n",
       "      <td>8.65</td>\n",
       "      <td>0</td>\n",
       "      <td>0</td>\n",
       "    </tr>\n",
       "    <tr>\n",
       "      <th>20</th>\n",
       "      <td>21</td>\n",
       "      <td>312</td>\n",
       "      <td>107</td>\n",
       "      <td>3</td>\n",
       "      <td>3.0</td>\n",
       "      <td>2.0</td>\n",
       "      <td>7.90</td>\n",
       "      <td>1</td>\n",
       "      <td>0</td>\n",
       "    </tr>\n",
       "    <tr>\n",
       "      <th>328</th>\n",
       "      <td>329</td>\n",
       "      <td>324</td>\n",
       "      <td>112</td>\n",
       "      <td>4</td>\n",
       "      <td>4.0</td>\n",
       "      <td>3.5</td>\n",
       "      <td>8.77</td>\n",
       "      <td>1</td>\n",
       "      <td>1</td>\n",
       "    </tr>\n",
       "  </tbody>\n",
       "</table>\n",
       "</div>"
      ],
      "text/plain": [
       "     Serial No.  GRE Score  TOEFL Score  University Rating  SOP  LOR  CGPA  \\\n",
       "355         356        317          106                  2  2.0  3.5  8.12   \n",
       "88           89        314          108                  3  4.5  3.5  8.14   \n",
       "391         392        318          106                  3  2.0  3.0  8.65   \n",
       "20           21        312          107                  3  3.0  2.0  7.90   \n",
       "328         329        324          112                  4  4.0  3.5  8.77   \n",
       "\n",
       "     Research  Chance of Admit  \n",
       "355         0                0  \n",
       "88          0                0  \n",
       "391         0                0  \n",
       "20          1                0  \n",
       "328         1                1  "
      ]
     },
     "execution_count": 2,
     "metadata": {},
     "output_type": "execute_result"
    }
   ],
   "source": [
    "data = pd.read_csv('data/Admission_Predict.csv')\n",
    "data.sample(5)"
   ]
  },
  {
   "cell_type": "markdown",
   "id": "c5b0aea1",
   "metadata": {},
   "source": [
    "### Droping the Useless Columns"
   ]
  },
  {
   "cell_type": "code",
   "execution_count": 3,
   "id": "d3277f2e",
   "metadata": {},
   "outputs": [
    {
     "data": {
      "text/html": [
       "<div>\n",
       "<style scoped>\n",
       "    .dataframe tbody tr th:only-of-type {\n",
       "        vertical-align: middle;\n",
       "    }\n",
       "\n",
       "    .dataframe tbody tr th {\n",
       "        vertical-align: top;\n",
       "    }\n",
       "\n",
       "    .dataframe thead th {\n",
       "        text-align: right;\n",
       "    }\n",
       "</style>\n",
       "<table border=\"1\" class=\"dataframe\">\n",
       "  <thead>\n",
       "    <tr style=\"text-align: right;\">\n",
       "      <th></th>\n",
       "      <th>GRE Score</th>\n",
       "      <th>TOEFL Score</th>\n",
       "      <th>University Rating</th>\n",
       "      <th>SOP</th>\n",
       "      <th>LOR</th>\n",
       "      <th>CGPA</th>\n",
       "      <th>Research</th>\n",
       "      <th>Chance of Admit</th>\n",
       "    </tr>\n",
       "  </thead>\n",
       "  <tbody>\n",
       "    <tr>\n",
       "      <th>127</th>\n",
       "      <td>319</td>\n",
       "      <td>112</td>\n",
       "      <td>3</td>\n",
       "      <td>2.5</td>\n",
       "      <td>2.0</td>\n",
       "      <td>8.71</td>\n",
       "      <td>1</td>\n",
       "      <td>1</td>\n",
       "    </tr>\n",
       "    <tr>\n",
       "      <th>168</th>\n",
       "      <td>293</td>\n",
       "      <td>97</td>\n",
       "      <td>2</td>\n",
       "      <td>2.0</td>\n",
       "      <td>4.0</td>\n",
       "      <td>7.80</td>\n",
       "      <td>1</td>\n",
       "      <td>0</td>\n",
       "    </tr>\n",
       "    <tr>\n",
       "      <th>5</th>\n",
       "      <td>330</td>\n",
       "      <td>115</td>\n",
       "      <td>5</td>\n",
       "      <td>4.5</td>\n",
       "      <td>3.0</td>\n",
       "      <td>9.34</td>\n",
       "      <td>1</td>\n",
       "      <td>1</td>\n",
       "    </tr>\n",
       "    <tr>\n",
       "      <th>45</th>\n",
       "      <td>322</td>\n",
       "      <td>110</td>\n",
       "      <td>5</td>\n",
       "      <td>5.0</td>\n",
       "      <td>4.0</td>\n",
       "      <td>9.10</td>\n",
       "      <td>1</td>\n",
       "      <td>1</td>\n",
       "    </tr>\n",
       "    <tr>\n",
       "      <th>288</th>\n",
       "      <td>314</td>\n",
       "      <td>104</td>\n",
       "      <td>4</td>\n",
       "      <td>5.0</td>\n",
       "      <td>5.0</td>\n",
       "      <td>9.02</td>\n",
       "      <td>0</td>\n",
       "      <td>1</td>\n",
       "    </tr>\n",
       "  </tbody>\n",
       "</table>\n",
       "</div>"
      ],
      "text/plain": [
       "     GRE Score  TOEFL Score  University Rating  SOP  LOR  CGPA  Research  \\\n",
       "127        319          112                  3  2.5  2.0  8.71         1   \n",
       "168        293           97                  2  2.0  4.0  7.80         1   \n",
       "5          330          115                  5  4.5  3.0  9.34         1   \n",
       "45         322          110                  5  5.0  4.0  9.10         1   \n",
       "288        314          104                  4  5.0  5.0  9.02         0   \n",
       "\n",
       "     Chance of Admit  \n",
       "127                1  \n",
       "168                0  \n",
       "5                  1  \n",
       "45                 1  \n",
       "288                1  "
      ]
     },
     "execution_count": 3,
     "metadata": {},
     "output_type": "execute_result"
    }
   ],
   "source": [
    "data.drop(columns='Serial No.', axis=1, inplace=True)\n",
    "data.sample(5)"
   ]
  },
  {
   "cell_type": "markdown",
   "id": "c11b239f",
   "metadata": {},
   "source": [
    "### Split into IV, DV and Scale Numeric Data"
   ]
  },
  {
   "cell_type": "code",
   "execution_count": 4,
   "id": "685b53a0",
   "metadata": {},
   "outputs": [
    {
     "name": "stdout",
     "output_type": "stream",
     "text": [
      "<class 'pandas.core.frame.DataFrame'>\n",
      "RangeIndex: 400 entries, 0 to 399\n",
      "Data columns (total 8 columns):\n",
      " #   Column             Non-Null Count  Dtype  \n",
      "---  ------             --------------  -----  \n",
      " 0   GRE Score          400 non-null    int64  \n",
      " 1   TOEFL Score        400 non-null    int64  \n",
      " 2   University Rating  400 non-null    int64  \n",
      " 3   SOP                400 non-null    float64\n",
      " 4   LOR                400 non-null    float64\n",
      " 5   CGPA               400 non-null    float64\n",
      " 6   Research           400 non-null    int64  \n",
      " 7   Chance of Admit    400 non-null    int64  \n",
      "dtypes: float64(3), int64(5)\n",
      "memory usage: 25.1 KB\n"
     ]
    }
   ],
   "source": [
    "data.info()"
   ]
  },
  {
   "cell_type": "code",
   "execution_count": 5,
   "id": "131b9018",
   "metadata": {},
   "outputs": [
    {
     "data": {
      "text/html": [
       "<div>\n",
       "<style scoped>\n",
       "    .dataframe tbody tr th:only-of-type {\n",
       "        vertical-align: middle;\n",
       "    }\n",
       "\n",
       "    .dataframe tbody tr th {\n",
       "        vertical-align: top;\n",
       "    }\n",
       "\n",
       "    .dataframe thead th {\n",
       "        text-align: right;\n",
       "    }\n",
       "</style>\n",
       "<table border=\"1\" class=\"dataframe\">\n",
       "  <thead>\n",
       "    <tr style=\"text-align: right;\">\n",
       "      <th></th>\n",
       "      <th>GRE Score</th>\n",
       "      <th>TOEFL Score</th>\n",
       "      <th>University Rating</th>\n",
       "      <th>SOP</th>\n",
       "      <th>LOR</th>\n",
       "      <th>CGPA</th>\n",
       "      <th>Research</th>\n",
       "    </tr>\n",
       "  </thead>\n",
       "  <tbody>\n",
       "    <tr>\n",
       "      <th>153</th>\n",
       "      <td>324</td>\n",
       "      <td>105</td>\n",
       "      <td>3</td>\n",
       "      <td>3.0</td>\n",
       "      <td>4.0</td>\n",
       "      <td>8.75</td>\n",
       "      <td>0</td>\n",
       "    </tr>\n",
       "    <tr>\n",
       "      <th>247</th>\n",
       "      <td>311</td>\n",
       "      <td>104</td>\n",
       "      <td>2</td>\n",
       "      <td>2.5</td>\n",
       "      <td>3.5</td>\n",
       "      <td>8.48</td>\n",
       "      <td>0</td>\n",
       "    </tr>\n",
       "  </tbody>\n",
       "</table>\n",
       "</div>"
      ],
      "text/plain": [
       "     GRE Score  TOEFL Score  University Rating  SOP  LOR  CGPA  Research\n",
       "153        324          105                  3  3.0  4.0  8.75         0\n",
       "247        311          104                  2  2.5  3.5  8.48         0"
      ]
     },
     "execution_count": 5,
     "metadata": {},
     "output_type": "execute_result"
    }
   ],
   "source": [
    "df_dv = data['Chance of Admit']\n",
    "df_iv = data.drop(columns='Chance of Admit', axis=1)\n",
    "df_iv.sample(2)"
   ]
  },
  {
   "cell_type": "code",
   "execution_count": 6,
   "id": "be5d2176",
   "metadata": {},
   "outputs": [
    {
     "data": {
      "text/plain": [
       "pandas.core.series.Series"
      ]
     },
     "execution_count": 6,
     "metadata": {},
     "output_type": "execute_result"
    }
   ],
   "source": [
    "type(df_dv)"
   ]
  },
  {
   "cell_type": "code",
   "execution_count": 7,
   "id": "d3f5fbb4",
   "metadata": {},
   "outputs": [],
   "source": [
    "from sklearn.preprocessing import StandardScaler"
   ]
  },
  {
   "cell_type": "code",
   "execution_count": 8,
   "id": "18ee2b7a",
   "metadata": {},
   "outputs": [],
   "source": [
    "sscaler = StandardScaler()"
   ]
  },
  {
   "cell_type": "code",
   "execution_count": 9,
   "id": "899bf575",
   "metadata": {},
   "outputs": [
    {
     "name": "stdout",
     "output_type": "stream",
     "text": [
      "<class 'pandas.core.frame.DataFrame'>\n",
      "RangeIndex: 400 entries, 0 to 399\n",
      "Data columns (total 7 columns):\n",
      " #   Column             Non-Null Count  Dtype  \n",
      "---  ------             --------------  -----  \n",
      " 0   GRE Score          400 non-null    int64  \n",
      " 1   TOEFL Score        400 non-null    int64  \n",
      " 2   University Rating  400 non-null    int64  \n",
      " 3   SOP                400 non-null    float64\n",
      " 4   LOR                400 non-null    float64\n",
      " 5   CGPA               400 non-null    float64\n",
      " 6   Research           400 non-null    int64  \n",
      "dtypes: float64(3), int64(4)\n",
      "memory usage: 22.0 KB\n"
     ]
    }
   ],
   "source": [
    "df_iv.info()"
   ]
  },
  {
   "cell_type": "code",
   "execution_count": 10,
   "id": "beee8ea2",
   "metadata": {},
   "outputs": [
    {
     "name": "stdout",
     "output_type": "stream",
     "text": [
      "<class 'pandas.core.frame.DataFrame'>\n",
      "RangeIndex: 400 entries, 0 to 399\n",
      "Data columns (total 7 columns):\n",
      " #   Column             Non-Null Count  Dtype  \n",
      "---  ------             --------------  -----  \n",
      " 0   GRE Score          400 non-null    int64  \n",
      " 1   TOEFL Score        400 non-null    int64  \n",
      " 2   University Rating  400 non-null    int64  \n",
      " 3   SOP                400 non-null    float64\n",
      " 4   LOR                400 non-null    float64\n",
      " 5   CGPA               400 non-null    float64\n",
      " 6   Research           400 non-null    object \n",
      "dtypes: float64(3), int64(3), object(1)\n",
      "memory usage: 22.0+ KB\n"
     ]
    }
   ],
   "source": [
    "df_iv['Research'] = df_iv['Research'].astype('object')\n",
    "df_iv.info()"
   ]
  },
  {
   "cell_type": "code",
   "execution_count": 11,
   "id": "78164c21",
   "metadata": {},
   "outputs": [],
   "source": [
    "df_iv_numeric = df_iv.select_dtypes(include=np.number)\n",
    "df_iv_categorical = df_iv.select_dtypes(exclude=np.number)"
   ]
  },
  {
   "cell_type": "code",
   "execution_count": 12,
   "id": "4b68e4d2",
   "metadata": {},
   "outputs": [
    {
     "data": {
      "text/html": [
       "<div>\n",
       "<style scoped>\n",
       "    .dataframe tbody tr th:only-of-type {\n",
       "        vertical-align: middle;\n",
       "    }\n",
       "\n",
       "    .dataframe tbody tr th {\n",
       "        vertical-align: top;\n",
       "    }\n",
       "\n",
       "    .dataframe thead th {\n",
       "        text-align: right;\n",
       "    }\n",
       "</style>\n",
       "<table border=\"1\" class=\"dataframe\">\n",
       "  <thead>\n",
       "    <tr style=\"text-align: right;\">\n",
       "      <th></th>\n",
       "      <th>GRE Score</th>\n",
       "      <th>TOEFL Score</th>\n",
       "      <th>University Rating</th>\n",
       "      <th>SOP</th>\n",
       "      <th>LOR</th>\n",
       "      <th>CGPA</th>\n",
       "    </tr>\n",
       "  </thead>\n",
       "  <tbody>\n",
       "    <tr>\n",
       "      <th>0</th>\n",
       "      <td>1.762107</td>\n",
       "      <td>1.746971</td>\n",
       "      <td>0.798829</td>\n",
       "      <td>1.093864</td>\n",
       "      <td>1.167321</td>\n",
       "      <td>1.764818</td>\n",
       "    </tr>\n",
       "    <tr>\n",
       "      <th>1</th>\n",
       "      <td>0.627656</td>\n",
       "      <td>-0.067635</td>\n",
       "      <td>0.798829</td>\n",
       "      <td>0.596653</td>\n",
       "      <td>1.167321</td>\n",
       "      <td>0.455151</td>\n",
       "    </tr>\n",
       "    <tr>\n",
       "      <th>2</th>\n",
       "      <td>-0.070467</td>\n",
       "      <td>-0.562528</td>\n",
       "      <td>-0.076600</td>\n",
       "      <td>-0.397769</td>\n",
       "      <td>0.052933</td>\n",
       "      <td>-1.005631</td>\n",
       "    </tr>\n",
       "    <tr>\n",
       "      <th>3</th>\n",
       "      <td>0.453126</td>\n",
       "      <td>0.427257</td>\n",
       "      <td>-0.076600</td>\n",
       "      <td>0.099442</td>\n",
       "      <td>-1.061454</td>\n",
       "      <td>0.119339</td>\n",
       "    </tr>\n",
       "    <tr>\n",
       "      <th>4</th>\n",
       "      <td>-0.244998</td>\n",
       "      <td>-0.727492</td>\n",
       "      <td>-0.952029</td>\n",
       "      <td>-1.392191</td>\n",
       "      <td>-0.504260</td>\n",
       "      <td>-0.653029</td>\n",
       "    </tr>\n",
       "    <tr>\n",
       "      <th>...</th>\n",
       "      <td>...</td>\n",
       "      <td>...</td>\n",
       "      <td>...</td>\n",
       "      <td>...</td>\n",
       "      <td>...</td>\n",
       "      <td>...</td>\n",
       "    </tr>\n",
       "    <tr>\n",
       "      <th>395</th>\n",
       "      <td>0.627656</td>\n",
       "      <td>0.427257</td>\n",
       "      <td>-0.076600</td>\n",
       "      <td>0.099442</td>\n",
       "      <td>0.052933</td>\n",
       "      <td>0.740592</td>\n",
       "    </tr>\n",
       "    <tr>\n",
       "      <th>396</th>\n",
       "      <td>0.714922</td>\n",
       "      <td>-0.067635</td>\n",
       "      <td>-0.076600</td>\n",
       "      <td>-0.397769</td>\n",
       "      <td>0.052933</td>\n",
       "      <td>0.858126</td>\n",
       "    </tr>\n",
       "    <tr>\n",
       "      <th>397</th>\n",
       "      <td>1.151249</td>\n",
       "      <td>1.417042</td>\n",
       "      <td>0.798829</td>\n",
       "      <td>1.591075</td>\n",
       "      <td>1.167321</td>\n",
       "      <td>1.429006</td>\n",
       "    </tr>\n",
       "    <tr>\n",
       "      <th>398</th>\n",
       "      <td>-0.419528</td>\n",
       "      <td>-0.727492</td>\n",
       "      <td>-0.076600</td>\n",
       "      <td>0.099442</td>\n",
       "      <td>0.610127</td>\n",
       "      <td>0.304036</td>\n",
       "    </tr>\n",
       "    <tr>\n",
       "      <th>399</th>\n",
       "      <td>1.413045</td>\n",
       "      <td>1.582006</td>\n",
       "      <td>0.798829</td>\n",
       "      <td>1.591075</td>\n",
       "      <td>0.610127</td>\n",
       "      <td>1.781609</td>\n",
       "    </tr>\n",
       "  </tbody>\n",
       "</table>\n",
       "<p>400 rows × 6 columns</p>\n",
       "</div>"
      ],
      "text/plain": [
       "     GRE Score  TOEFL Score  University Rating       SOP       LOR      CGPA\n",
       "0     1.762107     1.746971           0.798829  1.093864  1.167321  1.764818\n",
       "1     0.627656    -0.067635           0.798829  0.596653  1.167321  0.455151\n",
       "2    -0.070467    -0.562528          -0.076600 -0.397769  0.052933 -1.005631\n",
       "3     0.453126     0.427257          -0.076600  0.099442 -1.061454  0.119339\n",
       "4    -0.244998    -0.727492          -0.952029 -1.392191 -0.504260 -0.653029\n",
       "..         ...          ...                ...       ...       ...       ...\n",
       "395   0.627656     0.427257          -0.076600  0.099442  0.052933  0.740592\n",
       "396   0.714922    -0.067635          -0.076600 -0.397769  0.052933  0.858126\n",
       "397   1.151249     1.417042           0.798829  1.591075  1.167321  1.429006\n",
       "398  -0.419528    -0.727492          -0.076600  0.099442  0.610127  0.304036\n",
       "399   1.413045     1.582006           0.798829  1.591075  0.610127  1.781609\n",
       "\n",
       "[400 rows x 6 columns]"
      ]
     },
     "execution_count": 12,
     "metadata": {},
     "output_type": "execute_result"
    }
   ],
   "source": [
    "df_iv_numeric_scaled = sscaler.fit_transform(df_iv_numeric)\n",
    "df_iv_numeric_scaled = pd.DataFrame(data=df_iv_numeric_scaled, columns=df_iv_numeric.columns)\n",
    "df_iv_numeric_scaled"
   ]
  },
  {
   "cell_type": "code",
   "execution_count": 13,
   "id": "ceb743e5",
   "metadata": {},
   "outputs": [
    {
     "data": {
      "text/html": [
       "<div>\n",
       "<style scoped>\n",
       "    .dataframe tbody tr th:only-of-type {\n",
       "        vertical-align: middle;\n",
       "    }\n",
       "\n",
       "    .dataframe tbody tr th {\n",
       "        vertical-align: top;\n",
       "    }\n",
       "\n",
       "    .dataframe thead th {\n",
       "        text-align: right;\n",
       "    }\n",
       "</style>\n",
       "<table border=\"1\" class=\"dataframe\">\n",
       "  <thead>\n",
       "    <tr style=\"text-align: right;\">\n",
       "      <th></th>\n",
       "      <th>GRE Score</th>\n",
       "      <th>TOEFL Score</th>\n",
       "      <th>University Rating</th>\n",
       "      <th>SOP</th>\n",
       "      <th>LOR</th>\n",
       "      <th>CGPA</th>\n",
       "      <th>Research</th>\n",
       "    </tr>\n",
       "  </thead>\n",
       "  <tbody>\n",
       "    <tr>\n",
       "      <th>81</th>\n",
       "      <td>2.023903</td>\n",
       "      <td>2.076899</td>\n",
       "      <td>0.798829</td>\n",
       "      <td>1.591075</td>\n",
       "      <td>1.724515</td>\n",
       "      <td>1.512959</td>\n",
       "      <td>1</td>\n",
       "    </tr>\n",
       "    <tr>\n",
       "      <th>29</th>\n",
       "      <td>-0.594059</td>\n",
       "      <td>-1.387349</td>\n",
       "      <td>-0.952029</td>\n",
       "      <td>-1.889402</td>\n",
       "      <td>-1.618648</td>\n",
       "      <td>-2.180973</td>\n",
       "      <td>0</td>\n",
       "    </tr>\n",
       "    <tr>\n",
       "      <th>64</th>\n",
       "      <td>0.714922</td>\n",
       "      <td>0.592221</td>\n",
       "      <td>-0.076600</td>\n",
       "      <td>-0.397769</td>\n",
       "      <td>0.052933</td>\n",
       "      <td>0.169711</td>\n",
       "      <td>0</td>\n",
       "    </tr>\n",
       "    <tr>\n",
       "      <th>53</th>\n",
       "      <td>0.627656</td>\n",
       "      <td>0.757186</td>\n",
       "      <td>0.798829</td>\n",
       "      <td>0.596653</td>\n",
       "      <td>-1.061454</td>\n",
       "      <td>-0.837725</td>\n",
       "      <td>1</td>\n",
       "    </tr>\n",
       "    <tr>\n",
       "      <th>210</th>\n",
       "      <td>0.714922</td>\n",
       "      <td>0.097329</td>\n",
       "      <td>0.798829</td>\n",
       "      <td>1.093864</td>\n",
       "      <td>0.610127</td>\n",
       "      <td>0.774173</td>\n",
       "      <td>1</td>\n",
       "    </tr>\n",
       "  </tbody>\n",
       "</table>\n",
       "</div>"
      ],
      "text/plain": [
       "     GRE Score  TOEFL Score  University Rating       SOP       LOR      CGPA  \\\n",
       "81    2.023903     2.076899           0.798829  1.591075  1.724515  1.512959   \n",
       "29   -0.594059    -1.387349          -0.952029 -1.889402 -1.618648 -2.180973   \n",
       "64    0.714922     0.592221          -0.076600 -0.397769  0.052933  0.169711   \n",
       "53    0.627656     0.757186           0.798829  0.596653 -1.061454 -0.837725   \n",
       "210   0.714922     0.097329           0.798829  1.093864  0.610127  0.774173   \n",
       "\n",
       "    Research  \n",
       "81         1  \n",
       "29         0  \n",
       "64         0  \n",
       "53         1  \n",
       "210        1  "
      ]
     },
     "execution_count": 13,
     "metadata": {},
     "output_type": "execute_result"
    }
   ],
   "source": [
    "df_iv_scaled = pd.concat([df_iv_numeric_scaled, df_iv_categorical], axis=1)\n",
    "df_iv_scaled.sample(5)"
   ]
  },
  {
   "cell_type": "code",
   "execution_count": 14,
   "id": "fbc4ee73",
   "metadata": {},
   "outputs": [
    {
     "name": "stdout",
     "output_type": "stream",
     "text": [
      "<class 'pandas.core.frame.DataFrame'>\n",
      "RangeIndex: 400 entries, 0 to 399\n",
      "Data columns (total 7 columns):\n",
      " #   Column             Non-Null Count  Dtype  \n",
      "---  ------             --------------  -----  \n",
      " 0   GRE Score          400 non-null    float64\n",
      " 1   TOEFL Score        400 non-null    float64\n",
      " 2   University Rating  400 non-null    float64\n",
      " 3   SOP                400 non-null    float64\n",
      " 4   LOR                400 non-null    float64\n",
      " 5   CGPA               400 non-null    float64\n",
      " 6   Research           400 non-null    object \n",
      "dtypes: float64(6), object(1)\n",
      "memory usage: 22.0+ KB\n"
     ]
    }
   ],
   "source": [
    "df_iv_scaled.info()"
   ]
  },
  {
   "cell_type": "markdown",
   "id": "a639b5c1",
   "metadata": {},
   "source": [
    "### Converting back IV Categorical Data into numeric\n",
    "This shall ensure that there are not errors which computing VIF, Models etc"
   ]
  },
  {
   "cell_type": "code",
   "execution_count": 15,
   "id": "619e448f",
   "metadata": {},
   "outputs": [
    {
     "name": "stdout",
     "output_type": "stream",
     "text": [
      "<class 'pandas.core.frame.DataFrame'>\n",
      "RangeIndex: 400 entries, 0 to 399\n",
      "Data columns (total 7 columns):\n",
      " #   Column             Non-Null Count  Dtype  \n",
      "---  ------             --------------  -----  \n",
      " 0   GRE Score          400 non-null    float64\n",
      " 1   TOEFL Score        400 non-null    float64\n",
      " 2   University Rating  400 non-null    float64\n",
      " 3   SOP                400 non-null    float64\n",
      " 4   LOR                400 non-null    float64\n",
      " 5   CGPA               400 non-null    float64\n",
      " 6   Research           400 non-null    int64  \n",
      "dtypes: float64(6), int64(1)\n",
      "memory usage: 22.0 KB\n"
     ]
    }
   ],
   "source": [
    "df_iv_scaled['Research'] = df_iv_scaled['Research'].astype(np.int64)\n",
    "df_iv_scaled.info()"
   ]
  },
  {
   "cell_type": "markdown",
   "id": "7c7d4775",
   "metadata": {},
   "source": [
    "### Checking for Multicollinearity of Data"
   ]
  },
  {
   "cell_type": "code",
   "execution_count": 16,
   "id": "33f8fc25",
   "metadata": {},
   "outputs": [],
   "source": [
    "from statsmodels.stats.outliers_influence import variance_inflation_factor as vif"
   ]
  },
  {
   "cell_type": "code",
   "execution_count": 17,
   "id": "7d429b6b",
   "metadata": {},
   "outputs": [
    {
     "data": {
      "text/html": [
       "<div>\n",
       "<style scoped>\n",
       "    .dataframe tbody tr th:only-of-type {\n",
       "        vertical-align: middle;\n",
       "    }\n",
       "\n",
       "    .dataframe tbody tr th {\n",
       "        vertical-align: top;\n",
       "    }\n",
       "\n",
       "    .dataframe thead th {\n",
       "        text-align: right;\n",
       "    }\n",
       "</style>\n",
       "<table border=\"1\" class=\"dataframe\">\n",
       "  <thead>\n",
       "    <tr style=\"text-align: right;\">\n",
       "      <th></th>\n",
       "      <th>VIF</th>\n",
       "      <th>feature</th>\n",
       "    </tr>\n",
       "  </thead>\n",
       "  <tbody>\n",
       "    <tr>\n",
       "      <th>5</th>\n",
       "      <td>5.205309</td>\n",
       "      <td>CGPA</td>\n",
       "    </tr>\n",
       "    <tr>\n",
       "      <th>0</th>\n",
       "      <td>4.358514</td>\n",
       "      <td>GRE Score</td>\n",
       "    </tr>\n",
       "    <tr>\n",
       "      <th>1</th>\n",
       "      <td>4.282118</td>\n",
       "      <td>TOEFL Score</td>\n",
       "    </tr>\n",
       "    <tr>\n",
       "      <th>3</th>\n",
       "      <td>3.063188</td>\n",
       "      <td>SOP</td>\n",
       "    </tr>\n",
       "    <tr>\n",
       "      <th>2</th>\n",
       "      <td>2.918556</td>\n",
       "      <td>University Rating</td>\n",
       "    </tr>\n",
       "    <tr>\n",
       "      <th>4</th>\n",
       "      <td>2.430409</td>\n",
       "      <td>LOR</td>\n",
       "    </tr>\n",
       "    <tr>\n",
       "      <th>6</th>\n",
       "      <td>1.189484</td>\n",
       "      <td>Research</td>\n",
       "    </tr>\n",
       "  </tbody>\n",
       "</table>\n",
       "</div>"
      ],
      "text/plain": [
       "        VIF            feature\n",
       "5  5.205309               CGPA\n",
       "0  4.358514          GRE Score\n",
       "1  4.282118        TOEFL Score\n",
       "3  3.063188                SOP\n",
       "2  2.918556  University Rating\n",
       "4  2.430409                LOR\n",
       "6  1.189484           Research"
      ]
     },
     "execution_count": 17,
     "metadata": {},
     "output_type": "execute_result"
    }
   ],
   "source": [
    "df_vif = pd.DataFrame()\n",
    "# Since variance_inflation_factor takes ndarray, inputs is passed as DataFrame.values instead of DataFrame\n",
    "df_vif['VIF'] = [vif(exog=df_iv_scaled.values, exog_idx=i ) for i in range(df_iv_scaled.shape[1])]\n",
    "df_vif['feature'] = df_iv_scaled.columns\n",
    "df_vif.sort_values('VIF', ascending=False)"
   ]
  },
  {
   "cell_type": "code",
   "execution_count": 18,
   "id": "786139c8",
   "metadata": {},
   "outputs": [
    {
     "name": "stdout",
     "output_type": "stream",
     "text": [
      "The VIF for the first feature is \n",
      "        VIF feature\n",
      "5  5.205309    CGPA > 5.\n",
      "So Multicollinearity exists but it should be fine since its just above 5.\n",
      "So we will not drop any column\n"
     ]
    }
   ],
   "source": [
    "print(f'''The VIF for the first feature is \\n{df_vif[df_vif['VIF']>5]} > 5.\n",
    "So Multicollinearity exists but it should be fine since its just above 5.\n",
    "So we will not drop any column''')"
   ]
  },
  {
   "cell_type": "markdown",
   "id": "53326845",
   "metadata": {},
   "source": [
    "### Building the model using OLS"
   ]
  },
  {
   "cell_type": "code",
   "execution_count": 19,
   "id": "dfb4ebff",
   "metadata": {},
   "outputs": [],
   "source": [
    "from sklearn.model_selection import train_test_split"
   ]
  },
  {
   "cell_type": "code",
   "execution_count": 20,
   "id": "994cd7e4",
   "metadata": {},
   "outputs": [],
   "source": [
    "# Building using the OLS\n",
    "import statsmodels.api as sm"
   ]
  },
  {
   "cell_type": "code",
   "execution_count": 21,
   "id": "08fa75ee",
   "metadata": {},
   "outputs": [],
   "source": [
    "df_iv_scaled_const = sm.add_constant(df_iv_scaled)"
   ]
  },
  {
   "cell_type": "code",
   "execution_count": 22,
   "id": "fad1d641",
   "metadata": {},
   "outputs": [
    {
     "data": {
      "text/html": [
       "<div>\n",
       "<style scoped>\n",
       "    .dataframe tbody tr th:only-of-type {\n",
       "        vertical-align: middle;\n",
       "    }\n",
       "\n",
       "    .dataframe tbody tr th {\n",
       "        vertical-align: top;\n",
       "    }\n",
       "\n",
       "    .dataframe thead th {\n",
       "        text-align: right;\n",
       "    }\n",
       "</style>\n",
       "<table border=\"1\" class=\"dataframe\">\n",
       "  <thead>\n",
       "    <tr style=\"text-align: right;\">\n",
       "      <th></th>\n",
       "      <th>const</th>\n",
       "      <th>GRE Score</th>\n",
       "      <th>TOEFL Score</th>\n",
       "      <th>University Rating</th>\n",
       "      <th>SOP</th>\n",
       "      <th>LOR</th>\n",
       "      <th>CGPA</th>\n",
       "      <th>Research</th>\n",
       "    </tr>\n",
       "  </thead>\n",
       "  <tbody>\n",
       "    <tr>\n",
       "      <th>235</th>\n",
       "      <td>1.0</td>\n",
       "      <td>0.802187</td>\n",
       "      <td>0.592221</td>\n",
       "      <td>1.674257</td>\n",
       "      <td>1.093864</td>\n",
       "      <td>0.610127</td>\n",
       "      <td>1.059613</td>\n",
       "      <td>1</td>\n",
       "    </tr>\n",
       "    <tr>\n",
       "      <th>143</th>\n",
       "      <td>1.0</td>\n",
       "      <td>2.023903</td>\n",
       "      <td>2.076899</td>\n",
       "      <td>0.798829</td>\n",
       "      <td>1.093864</td>\n",
       "      <td>0.610127</td>\n",
       "      <td>2.218165</td>\n",
       "      <td>1</td>\n",
       "    </tr>\n",
       "  </tbody>\n",
       "</table>\n",
       "</div>"
      ],
      "text/plain": [
       "     const  GRE Score  TOEFL Score  University Rating       SOP       LOR  \\\n",
       "235    1.0   0.802187     0.592221           1.674257  1.093864  0.610127   \n",
       "143    1.0   2.023903     2.076899           0.798829  1.093864  0.610127   \n",
       "\n",
       "         CGPA  Research  \n",
       "235  1.059613         1  \n",
       "143  2.218165         1  "
      ]
     },
     "execution_count": 22,
     "metadata": {},
     "output_type": "execute_result"
    }
   ],
   "source": [
    "df_iv_scaled_const.sample(2)"
   ]
  },
  {
   "cell_type": "code",
   "execution_count": 23,
   "id": "e89d9dbe",
   "metadata": {},
   "outputs": [],
   "source": [
    "X_train, X_test, y_train, y_test = train_test_split(df_iv_scaled_const, df_dv, test_size=0.2, random_state=10)"
   ]
  },
  {
   "cell_type": "code",
   "execution_count": 24,
   "id": "3f48f168",
   "metadata": {},
   "outputs": [
    {
     "name": "stdout",
     "output_type": "stream",
     "text": [
      "Optimization terminated successfully.\n",
      "         Current function value: 0.241326\n",
      "         Iterations 8\n"
     ]
    },
    {
     "data": {
      "text/html": [
       "<table class=\"simpletable\">\n",
       "<caption>Logit Regression Results</caption>\n",
       "<tr>\n",
       "  <th>Dep. Variable:</th>    <td>Chance of Admit</td> <th>  No. Observations:  </th>  <td>   320</td>  \n",
       "</tr>\n",
       "<tr>\n",
       "  <th>Model:</th>                 <td>Logit</td>      <th>  Df Residuals:      </th>  <td>   312</td>  \n",
       "</tr>\n",
       "<tr>\n",
       "  <th>Method:</th>                 <td>MLE</td>       <th>  Df Model:          </th>  <td>     7</td>  \n",
       "</tr>\n",
       "<tr>\n",
       "  <th>Date:</th>            <td>Mon, 18 Oct 2021</td> <th>  Pseudo R-squ.:     </th>  <td>0.6486</td>  \n",
       "</tr>\n",
       "<tr>\n",
       "  <th>Time:</th>                <td>04:43:16</td>     <th>  Log-Likelihood:    </th> <td> -77.224</td> \n",
       "</tr>\n",
       "<tr>\n",
       "  <th>converged:</th>             <td>True</td>       <th>  LL-Null:           </th> <td> -219.78</td> \n",
       "</tr>\n",
       "<tr>\n",
       "  <th>Covariance Type:</th>     <td>nonrobust</td>    <th>  LLR p-value:       </th> <td>9.137e-58</td>\n",
       "</tr>\n",
       "</table>\n",
       "<table class=\"simpletable\">\n",
       "<tr>\n",
       "          <td></td>             <th>coef</th>     <th>std err</th>      <th>z</th>      <th>P>|z|</th>  <th>[0.025</th>    <th>0.975]</th>  \n",
       "</tr>\n",
       "<tr>\n",
       "  <th>const</th>             <td>   -0.7119</td> <td>    0.330</td> <td>   -2.157</td> <td> 0.031</td> <td>   -1.359</td> <td>   -0.065</td>\n",
       "</tr>\n",
       "<tr>\n",
       "  <th>GRE Score</th>         <td>    0.6095</td> <td>    0.447</td> <td>    1.365</td> <td> 0.172</td> <td>   -0.266</td> <td>    1.485</td>\n",
       "</tr>\n",
       "<tr>\n",
       "  <th>TOEFL Score</th>       <td>    0.1989</td> <td>    0.403</td> <td>    0.493</td> <td> 0.622</td> <td>   -0.592</td> <td>    0.990</td>\n",
       "</tr>\n",
       "<tr>\n",
       "  <th>University Rating</th> <td>    0.5883</td> <td>    0.383</td> <td>    1.535</td> <td> 0.125</td> <td>   -0.163</td> <td>    1.339</td>\n",
       "</tr>\n",
       "<tr>\n",
       "  <th>SOP</th>               <td>    0.1768</td> <td>    0.374</td> <td>    0.473</td> <td> 0.636</td> <td>   -0.555</td> <td>    0.909</td>\n",
       "</tr>\n",
       "<tr>\n",
       "  <th>LOR</th>               <td>    0.5118</td> <td>    0.308</td> <td>    1.662</td> <td> 0.096</td> <td>   -0.092</td> <td>    1.115</td>\n",
       "</tr>\n",
       "<tr>\n",
       "  <th>CGPA</th>              <td>    2.6273</td> <td>    0.544</td> <td>    4.832</td> <td> 0.000</td> <td>    1.562</td> <td>    3.693</td>\n",
       "</tr>\n",
       "<tr>\n",
       "  <th>Research</th>          <td>    0.5819</td> <td>    0.465</td> <td>    1.251</td> <td> 0.211</td> <td>   -0.329</td> <td>    1.493</td>\n",
       "</tr>\n",
       "</table>"
      ],
      "text/plain": [
       "<class 'statsmodels.iolib.summary.Summary'>\n",
       "\"\"\"\n",
       "                           Logit Regression Results                           \n",
       "==============================================================================\n",
       "Dep. Variable:        Chance of Admit   No. Observations:                  320\n",
       "Model:                          Logit   Df Residuals:                      312\n",
       "Method:                           MLE   Df Model:                            7\n",
       "Date:                Mon, 18 Oct 2021   Pseudo R-squ.:                  0.6486\n",
       "Time:                        04:43:16   Log-Likelihood:                -77.224\n",
       "converged:                       True   LL-Null:                       -219.78\n",
       "Covariance Type:            nonrobust   LLR p-value:                 9.137e-58\n",
       "=====================================================================================\n",
       "                        coef    std err          z      P>|z|      [0.025      0.975]\n",
       "-------------------------------------------------------------------------------------\n",
       "const                -0.7119      0.330     -2.157      0.031      -1.359      -0.065\n",
       "GRE Score             0.6095      0.447      1.365      0.172      -0.266       1.485\n",
       "TOEFL Score           0.1989      0.403      0.493      0.622      -0.592       0.990\n",
       "University Rating     0.5883      0.383      1.535      0.125      -0.163       1.339\n",
       "SOP                   0.1768      0.374      0.473      0.636      -0.555       0.909\n",
       "LOR                   0.5118      0.308      1.662      0.096      -0.092       1.115\n",
       "CGPA                  2.6273      0.544      4.832      0.000       1.562       3.693\n",
       "Research              0.5819      0.465      1.251      0.211      -0.329       1.493\n",
       "=====================================================================================\n",
       "\"\"\""
      ]
     },
     "execution_count": 24,
     "metadata": {},
     "output_type": "execute_result"
    }
   ],
   "source": [
    "model_stat = sm.Logit(endog=y_train, exog=X_train).fit()\n",
    "model_stat.summary()"
   ]
  },
  {
   "cell_type": "markdown",
   "id": "00a36048",
   "metadata": {},
   "source": [
    "### Backward Elemination Strategy"
   ]
  },
  {
   "cell_type": "code",
   "execution_count": 25,
   "id": "534f2a28",
   "metadata": {},
   "outputs": [
    {
     "name": "stdout",
     "output_type": "stream",
     "text": [
      "Optimization terminated successfully.\n",
      "         Current function value: 0.241326\n",
      "         Iterations 8\n",
      "SOP\n",
      "Optimization terminated successfully.\n",
      "         Current function value: 0.241676\n",
      "         Iterations 8\n",
      "TOEFL Score\n",
      "Optimization terminated successfully.\n",
      "         Current function value: 0.242082\n",
      "         Iterations 8\n",
      "Research\n",
      "Optimization terminated successfully.\n",
      "         Current function value: 0.244507\n",
      "         Iterations 8\n",
      "University Rating\n",
      "The final features through backward eliminations are: Index(['const', 'GRE Score', 'University Rating', 'LOR', 'CGPA'], dtype='object')\n"
     ]
    }
   ],
   "source": [
    "X_train1 = X_train.copy()\n",
    "\n",
    "while(len(X_train1.columns) > 0):\n",
    "    model_stat = sm.Logit(endog=y_train, exog=X_train1).fit()\n",
    "    f = model_stat.pvalues[1:].idxmax()\n",
    "    print(f)\n",
    "    if model_stat.pvalues[1:].max() > 0.05:\n",
    "        X_train1 = X_train1.drop(f, axis=1)\n",
    "    else:\n",
    "        break\n",
    "        \n",
    "print(f'The final features through backward eliminations are: {X_train1.columns}')"
   ]
  },
  {
   "cell_type": "code",
   "execution_count": 26,
   "id": "fad2684c",
   "metadata": {},
   "outputs": [
    {
     "data": {
      "text/html": [
       "<table class=\"simpletable\">\n",
       "<caption>Logit Regression Results</caption>\n",
       "<tr>\n",
       "  <th>Dep. Variable:</th>    <td>Chance of Admit</td> <th>  No. Observations:  </th>  <td>   320</td>  \n",
       "</tr>\n",
       "<tr>\n",
       "  <th>Model:</th>                 <td>Logit</td>      <th>  Df Residuals:      </th>  <td>   315</td>  \n",
       "</tr>\n",
       "<tr>\n",
       "  <th>Method:</th>                 <td>MLE</td>       <th>  Df Model:          </th>  <td>     4</td>  \n",
       "</tr>\n",
       "<tr>\n",
       "  <th>Date:</th>            <td>Mon, 18 Oct 2021</td> <th>  Pseudo R-squ.:     </th>  <td>0.6440</td>  \n",
       "</tr>\n",
       "<tr>\n",
       "  <th>Time:</th>                <td>04:43:16</td>     <th>  Log-Likelihood:    </th> <td> -78.242</td> \n",
       "</tr>\n",
       "<tr>\n",
       "  <th>converged:</th>             <td>True</td>       <th>  LL-Null:           </th> <td> -219.78</td> \n",
       "</tr>\n",
       "<tr>\n",
       "  <th>Covariance Type:</th>     <td>nonrobust</td>    <th>  LLR p-value:       </th> <td>4.850e-60</td>\n",
       "</tr>\n",
       "</table>\n",
       "<table class=\"simpletable\">\n",
       "<tr>\n",
       "          <td></td>             <th>coef</th>     <th>std err</th>      <th>z</th>      <th>P>|z|</th>  <th>[0.025</th>    <th>0.975]</th>  \n",
       "</tr>\n",
       "<tr>\n",
       "  <th>const</th>             <td>   -0.4097</td> <td>    0.208</td> <td>   -1.968</td> <td> 0.049</td> <td>   -0.818</td> <td>   -0.002</td>\n",
       "</tr>\n",
       "<tr>\n",
       "  <th>GRE Score</th>         <td>    0.9266</td> <td>    0.380</td> <td>    2.438</td> <td> 0.015</td> <td>    0.182</td> <td>    1.671</td>\n",
       "</tr>\n",
       "<tr>\n",
       "  <th>University Rating</th> <td>    0.7219</td> <td>    0.347</td> <td>    2.078</td> <td> 0.038</td> <td>    0.041</td> <td>    1.403</td>\n",
       "</tr>\n",
       "<tr>\n",
       "  <th>LOR</th>               <td>    0.5593</td> <td>    0.266</td> <td>    2.100</td> <td> 0.036</td> <td>    0.037</td> <td>    1.081</td>\n",
       "</tr>\n",
       "<tr>\n",
       "  <th>CGPA</th>              <td>    2.6964</td> <td>    0.520</td> <td>    5.183</td> <td> 0.000</td> <td>    1.677</td> <td>    3.716</td>\n",
       "</tr>\n",
       "</table>"
      ],
      "text/plain": [
       "<class 'statsmodels.iolib.summary.Summary'>\n",
       "\"\"\"\n",
       "                           Logit Regression Results                           \n",
       "==============================================================================\n",
       "Dep. Variable:        Chance of Admit   No. Observations:                  320\n",
       "Model:                          Logit   Df Residuals:                      315\n",
       "Method:                           MLE   Df Model:                            4\n",
       "Date:                Mon, 18 Oct 2021   Pseudo R-squ.:                  0.6440\n",
       "Time:                        04:43:16   Log-Likelihood:                -78.242\n",
       "converged:                       True   LL-Null:                       -219.78\n",
       "Covariance Type:            nonrobust   LLR p-value:                 4.850e-60\n",
       "=====================================================================================\n",
       "                        coef    std err          z      P>|z|      [0.025      0.975]\n",
       "-------------------------------------------------------------------------------------\n",
       "const                -0.4097      0.208     -1.968      0.049      -0.818      -0.002\n",
       "GRE Score             0.9266      0.380      2.438      0.015       0.182       1.671\n",
       "University Rating     0.7219      0.347      2.078      0.038       0.041       1.403\n",
       "LOR                   0.5593      0.266      2.100      0.036       0.037       1.081\n",
       "CGPA                  2.6964      0.520      5.183      0.000       1.677       3.716\n",
       "=====================================================================================\n",
       "\"\"\""
      ]
     },
     "execution_count": 26,
     "metadata": {},
     "output_type": "execute_result"
    }
   ],
   "source": [
    "model_stat.summary()"
   ]
  },
  {
   "cell_type": "code",
   "execution_count": 27,
   "id": "34e06f11",
   "metadata": {},
   "outputs": [
    {
     "data": {
      "text/html": [
       "<table class=\"simpletable\">\n",
       "<tr>\n",
       "        <td>Model:</td>              <td>Logit</td>      <td>Pseudo R-squared:</td>    <td>0.644</td>  \n",
       "</tr>\n",
       "<tr>\n",
       "  <td>Dependent Variable:</td>  <td>Chance of Admit</td>       <td>AIC:</td>         <td>166.4843</td> \n",
       "</tr>\n",
       "<tr>\n",
       "         <td>Date:</td>        <td>2021-10-18 04:43</td>       <td>BIC:</td>         <td>185.3259</td> \n",
       "</tr>\n",
       "<tr>\n",
       "   <td>No. Observations:</td>         <td>320</td>        <td>Log-Likelihood:</td>    <td>-78.242</td> \n",
       "</tr>\n",
       "<tr>\n",
       "       <td>Df Model:</td>              <td>4</td>            <td>LL-Null:</td>        <td>-219.78</td> \n",
       "</tr>\n",
       "<tr>\n",
       "     <td>Df Residuals:</td>           <td>315</td>         <td>LLR p-value:</td>    <td>4.8502e-60</td>\n",
       "</tr>\n",
       "<tr>\n",
       "      <td>Converged:</td>           <td>1.0000</td>           <td>Scale:</td>         <td>1.0000</td>  \n",
       "</tr>\n",
       "<tr>\n",
       "    <td>No. Iterations:</td>        <td>8.0000</td>              <td></td>               <td></td>     \n",
       "</tr>\n",
       "</table>\n",
       "<table class=\"simpletable\">\n",
       "<tr>\n",
       "          <td></td>           <th>Coef.</th>  <th>Std.Err.</th>    <th>z</th>     <th>P>|z|</th> <th>[0.025</th>  <th>0.975]</th> \n",
       "</tr>\n",
       "<tr>\n",
       "  <th>const</th>             <td>-0.4097</td>  <td>0.2082</td>  <td>-1.9676</td> <td>0.0491</td> <td>-0.8178</td> <td>-0.0016</td>\n",
       "</tr>\n",
       "<tr>\n",
       "  <th>GRE Score</th>         <td>0.9266</td>   <td>0.3801</td>  <td>2.4381</td>  <td>0.0148</td> <td>0.1817</td>  <td>1.6715</td> \n",
       "</tr>\n",
       "<tr>\n",
       "  <th>University Rating</th> <td>0.7219</td>   <td>0.3473</td>  <td>2.0784</td>  <td>0.0377</td> <td>0.0411</td>  <td>1.4027</td> \n",
       "</tr>\n",
       "<tr>\n",
       "  <th>LOR</th>               <td>0.5593</td>   <td>0.2663</td>  <td>2.1003</td>  <td>0.0357</td> <td>0.0374</td>  <td>1.0812</td> \n",
       "</tr>\n",
       "<tr>\n",
       "  <th>CGPA</th>              <td>2.6964</td>   <td>0.5203</td>  <td>5.1825</td>  <td>0.0000</td> <td>1.6767</td>  <td>3.7162</td> \n",
       "</tr>\n",
       "</table>"
      ],
      "text/plain": [
       "<class 'statsmodels.iolib.summary2.Summary'>\n",
       "\"\"\"\n",
       "                         Results: Logit\n",
       "=================================================================\n",
       "Model:              Logit            Pseudo R-squared: 0.644     \n",
       "Dependent Variable: Chance of Admit  AIC:              166.4843  \n",
       "Date:               2021-10-18 04:43 BIC:              185.3259  \n",
       "No. Observations:   320              Log-Likelihood:   -78.242   \n",
       "Df Model:           4                LL-Null:          -219.78   \n",
       "Df Residuals:       315              LLR p-value:      4.8502e-60\n",
       "Converged:          1.0000           Scale:            1.0000    \n",
       "No. Iterations:     8.0000                                       \n",
       "-----------------------------------------------------------------\n",
       "                   Coef.  Std.Err.    z    P>|z|   [0.025  0.975]\n",
       "-----------------------------------------------------------------\n",
       "const             -0.4097   0.2082 -1.9676 0.0491 -0.8178 -0.0016\n",
       "GRE Score          0.9266   0.3801  2.4381 0.0148  0.1817  1.6715\n",
       "University Rating  0.7219   0.3473  2.0784 0.0377  0.0411  1.4027\n",
       "LOR                0.5593   0.2663  2.1003 0.0357  0.0374  1.0812\n",
       "CGPA               2.6964   0.5203  5.1825 0.0000  1.6767  3.7162\n",
       "=================================================================\n",
       "\n",
       "\"\"\""
      ]
     },
     "execution_count": 27,
     "metadata": {},
     "output_type": "execute_result"
    }
   ],
   "source": [
    "model_stat.summary2()"
   ]
  },
  {
   "cell_type": "code",
   "execution_count": 28,
   "id": "0efbea14",
   "metadata": {},
   "outputs": [
    {
     "name": "stdout",
     "output_type": "stream",
     "text": [
      "\n",
      "One unit increase in GRE Score, will increase the logit by 0.966 times, by keeping all the other inputs constant\n"
     ]
    }
   ],
   "source": [
    "print('''\n",
    "One unit increase in GRE Score, will increase the logit by 0.966 times, by keeping all the other inputs constant''')"
   ]
  },
  {
   "cell_type": "code",
   "execution_count": 29,
   "id": "111a7742",
   "metadata": {},
   "outputs": [
    {
     "data": {
      "text/plain": [
       "const               -0.409713\n",
       "GRE Score            0.926597\n",
       "University Rating    0.721899\n",
       "LOR                  0.559261\n",
       "CGPA                 2.696416\n",
       "dtype: float64"
      ]
     },
     "execution_count": 29,
     "metadata": {},
     "output_type": "execute_result"
    }
   ],
   "source": [
    "model_stat.params"
   ]
  },
  {
   "cell_type": "code",
   "execution_count": 30,
   "id": "52586b94",
   "metadata": {},
   "outputs": [
    {
     "data": {
      "text/plain": [
       "const                 0.663841\n",
       "GRE Score             2.525898\n",
       "University Rating     2.058337\n",
       "LOR                   1.749379\n",
       "CGPA                 14.826494\n",
       "dtype: float64"
      ]
     },
     "execution_count": 30,
     "metadata": {},
     "output_type": "execute_result"
    }
   ],
   "source": [
    "np.exp(model_stat.params)"
   ]
  },
  {
   "cell_type": "code",
   "execution_count": 31,
   "id": "a45a81e9",
   "metadata": {},
   "outputs": [
    {
     "name": "stdout",
     "output_type": "stream",
     "text": [
      "\n",
      "One unit increase in GRE Score, will increase the odd of getting admission by 2.526 times, by keeping all the other inputs constant\n",
      "One unit increase in CGPA Score, will increase the odd of getting admission by 14.826 times, by keeping all the other inputs constant\n"
     ]
    }
   ],
   "source": [
    "print('''\n",
    "One unit increase in GRE Score, will increase the odd of getting admission by 2.526 times, by keeping all the other inputs constant\n",
    "One unit increase in CGPA Score, will increase the odd of getting admission by 14.826 times, by keeping all the other inputs constant''')"
   ]
  },
  {
   "cell_type": "code",
   "execution_count": 32,
   "id": "2141d9f3",
   "metadata": {},
   "outputs": [
    {
     "data": {
      "text/plain": [
       "GRE Score            1.476580e-02\n",
       "University Rating    3.767710e-02\n",
       "LOR                  3.570475e-02\n",
       "CGPA                 2.188791e-07\n",
       "dtype: float64"
      ]
     },
     "execution_count": 32,
     "metadata": {},
     "output_type": "execute_result"
    }
   ],
   "source": [
    "model_stat.pvalues[1:]"
   ]
  },
  {
   "cell_type": "markdown",
   "id": "b18a9b09",
   "metadata": {},
   "source": [
    "### Building the model using sklearn"
   ]
  },
  {
   "cell_type": "code",
   "execution_count": 33,
   "id": "986b35cc",
   "metadata": {},
   "outputs": [],
   "source": [
    "from sklearn.linear_model import LogisticRegression"
   ]
  },
  {
   "cell_type": "code",
   "execution_count": 34,
   "id": "fbe6ce93",
   "metadata": {},
   "outputs": [
    {
     "data": {
      "text/plain": [
       "LogisticRegression()"
      ]
     },
     "execution_count": 34,
     "metadata": {},
     "output_type": "execute_result"
    }
   ],
   "source": [
    "model_logistic = LogisticRegression()\n",
    "model_logistic.fit(X_train, y_train)"
   ]
  },
  {
   "cell_type": "code",
   "execution_count": 35,
   "id": "31e05a2b",
   "metadata": {},
   "outputs": [],
   "source": [
    "y_pred = model_logistic.predict(X_test)"
   ]
  },
  {
   "cell_type": "code",
   "execution_count": 36,
   "id": "0c000e68",
   "metadata": {},
   "outputs": [
    {
     "data": {
      "text/plain": [
       "array([0, 1, 0, 0, 0, 0, 1, 1, 1, 0, 1, 1, 0, 0, 1, 1, 0, 1, 1, 1, 1, 1,\n",
       "       1, 0, 0, 0, 0, 1, 0, 0, 1, 0, 1, 1, 0, 1, 0, 0, 1, 1, 1, 1, 1, 0,\n",
       "       0, 1, 0, 0, 0, 1, 1, 0, 1, 1, 0, 0, 0, 0, 0, 0, 0, 1, 1, 1, 0, 1,\n",
       "       1, 0, 1, 1, 1, 1, 1, 0, 0, 0, 1, 0, 1, 0], dtype=int64)"
      ]
     },
     "execution_count": 36,
     "metadata": {},
     "output_type": "execute_result"
    }
   ],
   "source": [
    "y_pred"
   ]
  },
  {
   "cell_type": "code",
   "execution_count": 37,
   "id": "17ec8b9a",
   "metadata": {},
   "outputs": [
    {
     "data": {
      "text/plain": [
       "array([[9.33980319e-01, 6.60196807e-02],\n",
       "       [2.05016563e-01, 7.94983437e-01],\n",
       "       [9.78363353e-01, 2.16366472e-02],\n",
       "       [9.98745909e-01, 1.25409079e-03],\n",
       "       [9.97096908e-01, 2.90309160e-03],\n",
       "       [9.50318740e-01, 4.96812601e-02],\n",
       "       [1.21617181e-03, 9.98783828e-01],\n",
       "       [3.55456813e-03, 9.96445432e-01],\n",
       "       [5.83694729e-03, 9.94163053e-01],\n",
       "       [7.59486785e-01, 2.40513215e-01],\n",
       "       [1.19920537e-01, 8.80079463e-01],\n",
       "       [2.61414895e-02, 9.73858511e-01],\n",
       "       [6.01569344e-01, 3.98430656e-01],\n",
       "       [9.94889613e-01, 5.11038674e-03],\n",
       "       [1.00051667e-03, 9.98999483e-01],\n",
       "       [3.17371297e-03, 9.96826287e-01],\n",
       "       [9.99212509e-01, 7.87490536e-04],\n",
       "       [1.55103420e-01, 8.44896580e-01],\n",
       "       [2.92324577e-02, 9.70767542e-01],\n",
       "       [1.51821371e-01, 8.48178629e-01],\n",
       "       [1.32907447e-03, 9.98670926e-01],\n",
       "       [2.19673632e-01, 7.80326368e-01],\n",
       "       [1.84933052e-01, 8.15066948e-01],\n",
       "       [5.18152616e-01, 4.81847384e-01],\n",
       "       [6.17191463e-01, 3.82808537e-01],\n",
       "       [6.92733840e-01, 3.07266160e-01],\n",
       "       [9.81592391e-01, 1.84076094e-02],\n",
       "       [1.62717613e-03, 9.98372824e-01],\n",
       "       [9.76376839e-01, 2.36231613e-02],\n",
       "       [5.50594836e-01, 4.49405164e-01],\n",
       "       [8.43154626e-02, 9.15684537e-01],\n",
       "       [7.44202535e-01, 2.55797465e-01],\n",
       "       [3.90224746e-01, 6.09775254e-01],\n",
       "       [1.59584663e-01, 8.40415337e-01],\n",
       "       [9.76280976e-01, 2.37190241e-02],\n",
       "       [1.98020405e-02, 9.80197959e-01],\n",
       "       [9.99491352e-01, 5.08648295e-04],\n",
       "       [9.78558235e-01, 2.14417647e-02],\n",
       "       [2.98599128e-01, 7.01400872e-01],\n",
       "       [1.16944078e-01, 8.83055922e-01],\n",
       "       [3.19284599e-03, 9.96807154e-01],\n",
       "       [4.38366780e-02, 9.56163322e-01],\n",
       "       [1.99084990e-01, 8.00915010e-01],\n",
       "       [9.99040722e-01, 9.59278487e-04],\n",
       "       [9.03213401e-01, 9.67865992e-02],\n",
       "       [3.78367388e-01, 6.21632612e-01],\n",
       "       [7.93753035e-01, 2.06246965e-01],\n",
       "       [8.29393139e-01, 1.70606861e-01],\n",
       "       [9.96372983e-01, 3.62701670e-03],\n",
       "       [2.45593626e-02, 9.75440637e-01],\n",
       "       [4.76227737e-02, 9.52377226e-01],\n",
       "       [8.65525092e-01, 1.34474908e-01],\n",
       "       [3.17937528e-03, 9.96820625e-01],\n",
       "       [6.73712277e-03, 9.93262877e-01],\n",
       "       [9.99798964e-01, 2.01036006e-04],\n",
       "       [9.73257976e-01, 2.67420244e-02],\n",
       "       [5.25479260e-01, 4.74520740e-01],\n",
       "       [8.96472490e-01, 1.03527510e-01],\n",
       "       [9.12273233e-01, 8.77267675e-02],\n",
       "       [8.47099978e-01, 1.52900022e-01],\n",
       "       [9.56553456e-01, 4.34465441e-02],\n",
       "       [4.69722560e-02, 9.53027744e-01],\n",
       "       [3.36405135e-01, 6.63594865e-01],\n",
       "       [1.49653794e-01, 8.50346206e-01],\n",
       "       [9.06527516e-01, 9.34724843e-02],\n",
       "       [1.73768966e-02, 9.82623103e-01],\n",
       "       [5.15009997e-02, 9.48499000e-01],\n",
       "       [8.55881102e-01, 1.44118898e-01],\n",
       "       [4.22587650e-03, 9.95774124e-01],\n",
       "       [4.64017886e-01, 5.35982114e-01],\n",
       "       [1.79052486e-03, 9.98209475e-01],\n",
       "       [2.62892140e-02, 9.73710786e-01],\n",
       "       [1.29936250e-01, 8.70063750e-01],\n",
       "       [9.76400025e-01, 2.35999750e-02],\n",
       "       [6.26563818e-01, 3.73436182e-01],\n",
       "       [9.55474640e-01, 4.45253597e-02],\n",
       "       [3.55282175e-03, 9.96447178e-01],\n",
       "       [8.67876702e-01, 1.32123298e-01],\n",
       "       [4.33726173e-01, 5.66273827e-01],\n",
       "       [9.99178231e-01, 8.21769073e-04]])"
      ]
     },
     "execution_count": 37,
     "metadata": {},
     "output_type": "execute_result"
    }
   ],
   "source": [
    "# IF we want to understand the Probability values foreach of the prediction\n",
    "model_logistic.predict_proba(X_test)"
   ]
  },
  {
   "cell_type": "code",
   "execution_count": 38,
   "id": "876eb5ec",
   "metadata": {},
   "outputs": [
    {
     "data": {
      "text/plain": [
       "array([[0.934, 0.066],\n",
       "       [0.205, 0.795],\n",
       "       [0.978, 0.022],\n",
       "       [0.999, 0.001],\n",
       "       [0.997, 0.003],\n",
       "       [0.95 , 0.05 ],\n",
       "       [0.001, 0.999],\n",
       "       [0.004, 0.996],\n",
       "       [0.006, 0.994],\n",
       "       [0.759, 0.241],\n",
       "       [0.12 , 0.88 ],\n",
       "       [0.026, 0.974],\n",
       "       [0.602, 0.398],\n",
       "       [0.995, 0.005],\n",
       "       [0.001, 0.999],\n",
       "       [0.003, 0.997],\n",
       "       [0.999, 0.001],\n",
       "       [0.155, 0.845],\n",
       "       [0.029, 0.971],\n",
       "       [0.152, 0.848],\n",
       "       [0.001, 0.999],\n",
       "       [0.22 , 0.78 ],\n",
       "       [0.185, 0.815],\n",
       "       [0.518, 0.482],\n",
       "       [0.617, 0.383],\n",
       "       [0.693, 0.307],\n",
       "       [0.982, 0.018],\n",
       "       [0.002, 0.998],\n",
       "       [0.976, 0.024],\n",
       "       [0.551, 0.449],\n",
       "       [0.084, 0.916],\n",
       "       [0.744, 0.256],\n",
       "       [0.39 , 0.61 ],\n",
       "       [0.16 , 0.84 ],\n",
       "       [0.976, 0.024],\n",
       "       [0.02 , 0.98 ],\n",
       "       [0.999, 0.001],\n",
       "       [0.979, 0.021],\n",
       "       [0.299, 0.701],\n",
       "       [0.117, 0.883],\n",
       "       [0.003, 0.997],\n",
       "       [0.044, 0.956],\n",
       "       [0.199, 0.801],\n",
       "       [0.999, 0.001],\n",
       "       [0.903, 0.097],\n",
       "       [0.378, 0.622],\n",
       "       [0.794, 0.206],\n",
       "       [0.829, 0.171],\n",
       "       [0.996, 0.004],\n",
       "       [0.025, 0.975],\n",
       "       [0.048, 0.952],\n",
       "       [0.866, 0.134],\n",
       "       [0.003, 0.997],\n",
       "       [0.007, 0.993],\n",
       "       [1.   , 0.   ],\n",
       "       [0.973, 0.027],\n",
       "       [0.525, 0.475],\n",
       "       [0.896, 0.104],\n",
       "       [0.912, 0.088],\n",
       "       [0.847, 0.153],\n",
       "       [0.957, 0.043],\n",
       "       [0.047, 0.953],\n",
       "       [0.336, 0.664],\n",
       "       [0.15 , 0.85 ],\n",
       "       [0.907, 0.093],\n",
       "       [0.017, 0.983],\n",
       "       [0.052, 0.948],\n",
       "       [0.856, 0.144],\n",
       "       [0.004, 0.996],\n",
       "       [0.464, 0.536],\n",
       "       [0.002, 0.998],\n",
       "       [0.026, 0.974],\n",
       "       [0.13 , 0.87 ],\n",
       "       [0.976, 0.024],\n",
       "       [0.627, 0.373],\n",
       "       [0.955, 0.045],\n",
       "       [0.004, 0.996],\n",
       "       [0.868, 0.132],\n",
       "       [0.434, 0.566],\n",
       "       [0.999, 0.001]])"
      ]
     },
     "execution_count": 38,
     "metadata": {},
     "output_type": "execute_result"
    }
   ],
   "source": [
    "np.round(model_logistic.predict_proba(X_test), 3)"
   ]
  },
  {
   "cell_type": "code",
   "execution_count": 39,
   "id": "ce24e0b5",
   "metadata": {},
   "outputs": [
    {
     "name": "stdout",
     "output_type": "stream",
     "text": [
      "\n",
      "The predict Proba is giving an array of two values for each element.\n",
      "[0.934, 0.066], [0.205, 0.795], ...\n",
      "[Probability for 0 class, Probability for 1 class]\n",
      "If Probability for 0 class > Probability for 1 class (based on threshold), then the output will be 0 in Predict()\n",
      "\n"
     ]
    }
   ],
   "source": [
    "print('''\n",
    "The predict Proba is giving an array of two values for each element.\n",
    "[0.934, 0.066], [0.205, 0.795], ...\n",
    "[Probability for 0 class, Probability for 1 class]\n",
    "If Probability for 0 class > Probability for 1 class (based on threshold), then the output will be 0 in Predict()\n",
    "''')"
   ]
  },
  {
   "cell_type": "markdown",
   "id": "303a8455",
   "metadata": {},
   "source": [
    "### Metrics for Classfication Problems"
   ]
  },
  {
   "cell_type": "code",
   "execution_count": 40,
   "id": "2131730d",
   "metadata": {},
   "outputs": [],
   "source": [
    "from sklearn.metrics import confusion_matrix"
   ]
  },
  {
   "cell_type": "code",
   "execution_count": 71,
   "id": "c312dc01",
   "metadata": {},
   "outputs": [],
   "source": [
    "from sklearn.metrics import ConfusionMatrixDisplay"
   ]
  },
  {
   "cell_type": "code",
   "execution_count": 41,
   "id": "f7ba0b2c",
   "metadata": {},
   "outputs": [
    {
     "data": {
      "text/plain": [
       "array([[34,  8],\n",
       "       [ 5, 33]], dtype=int64)"
      ]
     },
     "execution_count": 41,
     "metadata": {},
     "output_type": "execute_result"
    }
   ],
   "source": [
    "confusion_matrix(y_true=y_test, y_pred=y_pred)"
   ]
  },
  {
   "cell_type": "code",
   "execution_count": 42,
   "id": "0d4f2b28",
   "metadata": {},
   "outputs": [
    {
     "data": {
      "text/plain": [
       "<AxesSubplot:>"
      ]
     },
     "execution_count": 42,
     "metadata": {},
     "output_type": "execute_result"
    },
    {
     "data": {
      "image/png": "[encoded data removed]",
      "text/plain": [
       "<Figure size 432x288 with 2 Axes>"
      ]
     },
     "metadata": {
      "needs_background": "light"
     },
     "output_type": "display_data"
    }
   ],
   "source": [
    "sns.heatmap(confusion_matrix(y_true=y_test, y_pred=y_pred), annot=True)"
   ]
  },
  {
   "cell_type": "code",
   "execution_count": 43,
   "id": "7303c9f3",
   "metadata": {},
   "outputs": [
    {
     "name": "stdout",
     "output_type": "stream",
     "text": [
      "\n",
      "The confusion matrix is \n",
      "[[34  8]\n",
      " [ 5 33]]\n",
      "where tp=33, tn=34, fp=8 and fn=5\n"
     ]
    }
   ],
   "source": [
    "# In the above left hand side is Actual and Top is Prediction\n",
    "# tp = 33\n",
    "# tn = 34\n",
    "# fp = 8\n",
    "# fn = 5 \n",
    "\n",
    "cm = confusion_matrix(y_true=y_test, y_pred=y_pred)\n",
    "tp = cm[1, 1]\n",
    "tn = cm[0, 0]\n",
    "fp = cm[0, 1]\n",
    "fn = cm[1, 0]\n",
    "print(f'''\n",
    "The confusion matrix is \\n{cm}\n",
    "where tp={tp}, tn={tn}, fp={fp} and fn={fn}''')"
   ]
  },
  {
   "cell_type": "code",
   "execution_count": 75,
   "id": "b4560e88",
   "metadata": {},
   "outputs": [
    {
     "data": {
      "text/plain": [
       "<sklearn.metrics._plot.confusion_matrix.ConfusionMatrixDisplay at 0x174fe511e50>"
      ]
     },
     "execution_count": 75,
     "metadata": {},
     "output_type": "execute_result"
    },
    {
     "data": {
      "image/png": "[encoded data removed]",
      "text/plain": [
       "<Figure size 432x288 with 2 Axes>"
      ]
     },
     "metadata": {
      "needs_background": "light"
     },
     "output_type": "display_data"
    }
   ],
   "source": [
    "ConfusionMatrixDisplay(cm).plot()"
   ]
  },
  {
   "cell_type": "code",
   "execution_count": 44,
   "id": "ec490dac",
   "metadata": {},
   "outputs": [
    {
     "data": {
      "text/plain": [
       "83.75"
      ]
     },
     "execution_count": 44,
     "metadata": {},
     "output_type": "execute_result"
    }
   ],
   "source": [
    "acc = (tp+tn)/(tp+tn+fn+fp)\n",
    "acc*100"
   ]
  },
  {
   "cell_type": "code",
   "execution_count": 45,
   "id": "eefaea7e",
   "metadata": {},
   "outputs": [
    {
     "data": {
      "text/plain": [
       "86.8421052631579"
      ]
     },
     "execution_count": 45,
     "metadata": {},
     "output_type": "execute_result"
    }
   ],
   "source": [
    "rec = tp/(tp+fn)*100\n",
    "rec"
   ]
  },
  {
   "cell_type": "code",
   "execution_count": 46,
   "id": "c5a23bf0",
   "metadata": {},
   "outputs": [
    {
     "data": {
      "text/plain": [
       "80.48780487804879"
      ]
     },
     "execution_count": 46,
     "metadata": {},
     "output_type": "execute_result"
    }
   ],
   "source": [
    "precis = tp/(tp+fp) * 100\n",
    "precis"
   ]
  },
  {
   "cell_type": "code",
   "execution_count": 47,
   "id": "b1c4ce8c",
   "metadata": {},
   "outputs": [
    {
     "data": {
      "text/plain": [
       "83.54430379746836"
      ]
     },
     "execution_count": 47,
     "metadata": {},
     "output_type": "execute_result"
    }
   ],
   "source": [
    "f1_sc = 2 * rec * precis / (rec+precis)\n",
    "f1_sc"
   ]
  },
  {
   "cell_type": "code",
   "execution_count": 48,
   "id": "10860016",
   "metadata": {},
   "outputs": [],
   "source": [
    "from sklearn.metrics import classification_report"
   ]
  },
  {
   "cell_type": "code",
   "execution_count": 49,
   "id": "6bba087a",
   "metadata": {},
   "outputs": [
    {
     "name": "stdout",
     "output_type": "stream",
     "text": [
      "              precision    recall  f1-score   support\n",
      "\n",
      "           0       0.87      0.81      0.84        42\n",
      "           1       0.80      0.87      0.84        38\n",
      "\n",
      "    accuracy                           0.84        80\n",
      "   macro avg       0.84      0.84      0.84        80\n",
      "weighted avg       0.84      0.84      0.84        80\n",
      "\n"
     ]
    }
   ],
   "source": [
    "print(classification_report(y_true=y_test, y_pred=y_pred))"
   ]
  },
  {
   "cell_type": "code",
   "execution_count": 50,
   "id": "f2600eb6",
   "metadata": {},
   "outputs": [],
   "source": [
    "from sklearn.metrics import accuracy_score, recall_score, precision_score, f1_score"
   ]
  },
  {
   "cell_type": "code",
   "execution_count": 51,
   "id": "238bf7f6",
   "metadata": {},
   "outputs": [
    {
     "data": {
      "text/plain": [
       "0.8375"
      ]
     },
     "execution_count": 51,
     "metadata": {},
     "output_type": "execute_result"
    }
   ],
   "source": [
    "accuracy_score(y_true=y_test, y_pred=y_pred)"
   ]
  },
  {
   "cell_type": "code",
   "execution_count": 52,
   "id": "991675cb",
   "metadata": {},
   "outputs": [
    {
     "data": {
      "text/plain": [
       "0.868421052631579"
      ]
     },
     "execution_count": 52,
     "metadata": {},
     "output_type": "execute_result"
    }
   ],
   "source": [
    "recall_score(y_true=y_test, y_pred=y_pred)"
   ]
  },
  {
   "cell_type": "code",
   "execution_count": 53,
   "id": "6376c052",
   "metadata": {},
   "outputs": [
    {
     "data": {
      "text/plain": [
       "0.8048780487804879"
      ]
     },
     "execution_count": 53,
     "metadata": {},
     "output_type": "execute_result"
    }
   ],
   "source": [
    "precision_score(y_true=y_test, y_pred=y_pred)"
   ]
  },
  {
   "cell_type": "code",
   "execution_count": 54,
   "id": "57c57c93",
   "metadata": {},
   "outputs": [
    {
     "data": {
      "text/plain": [
       "0.8354430379746836"
      ]
     },
     "execution_count": 54,
     "metadata": {},
     "output_type": "execute_result"
    }
   ],
   "source": [
    "f1_score(y_true=y_test, y_pred=y_pred)"
   ]
  },
  {
   "cell_type": "markdown",
   "id": "2577557b",
   "metadata": {},
   "source": [
    "### ROC-AUC Curve"
   ]
  },
  {
   "cell_type": "code",
   "execution_count": 55,
   "id": "bacc3a1b",
   "metadata": {},
   "outputs": [
    {
     "data": {
      "text/plain": [
       "array([[9.33980319e-01, 6.60196807e-02],\n",
       "       [2.05016563e-01, 7.94983437e-01],\n",
       "       [9.78363353e-01, 2.16366472e-02],\n",
       "       [9.98745909e-01, 1.25409079e-03],\n",
       "       [9.97096908e-01, 2.90309160e-03],\n",
       "       [9.50318740e-01, 4.96812601e-02],\n",
       "       [1.21617181e-03, 9.98783828e-01],\n",
       "       [3.55456813e-03, 9.96445432e-01],\n",
       "       [5.83694729e-03, 9.94163053e-01],\n",
       "       [7.59486785e-01, 2.40513215e-01],\n",
       "       [1.19920537e-01, 8.80079463e-01],\n",
       "       [2.61414895e-02, 9.73858511e-01],\n",
       "       [6.01569344e-01, 3.98430656e-01],\n",
       "       [9.94889613e-01, 5.11038674e-03],\n",
       "       [1.00051667e-03, 9.98999483e-01],\n",
       "       [3.17371297e-03, 9.96826287e-01],\n",
       "       [9.99212509e-01, 7.87490536e-04],\n",
       "       [1.55103420e-01, 8.44896580e-01],\n",
       "       [2.92324577e-02, 9.70767542e-01],\n",
       "       [1.51821371e-01, 8.48178629e-01],\n",
       "       [1.32907447e-03, 9.98670926e-01],\n",
       "       [2.19673632e-01, 7.80326368e-01],\n",
       "       [1.84933052e-01, 8.15066948e-01],\n",
       "       [5.18152616e-01, 4.81847384e-01],\n",
       "       [6.17191463e-01, 3.82808537e-01],\n",
       "       [6.92733840e-01, 3.07266160e-01],\n",
       "       [9.81592391e-01, 1.84076094e-02],\n",
       "       [1.62717613e-03, 9.98372824e-01],\n",
       "       [9.76376839e-01, 2.36231613e-02],\n",
       "       [5.50594836e-01, 4.49405164e-01],\n",
       "       [8.43154626e-02, 9.15684537e-01],\n",
       "       [7.44202535e-01, 2.55797465e-01],\n",
       "       [3.90224746e-01, 6.09775254e-01],\n",
       "       [1.59584663e-01, 8.40415337e-01],\n",
       "       [9.76280976e-01, 2.37190241e-02],\n",
       "       [1.98020405e-02, 9.80197959e-01],\n",
       "       [9.99491352e-01, 5.08648295e-04],\n",
       "       [9.78558235e-01, 2.14417647e-02],\n",
       "       [2.98599128e-01, 7.01400872e-01],\n",
       "       [1.16944078e-01, 8.83055922e-01],\n",
       "       [3.19284599e-03, 9.96807154e-01],\n",
       "       [4.38366780e-02, 9.56163322e-01],\n",
       "       [1.99084990e-01, 8.00915010e-01],\n",
       "       [9.99040722e-01, 9.59278487e-04],\n",
       "       [9.03213401e-01, 9.67865992e-02],\n",
       "       [3.78367388e-01, 6.21632612e-01],\n",
       "       [7.93753035e-01, 2.06246965e-01],\n",
       "       [8.29393139e-01, 1.70606861e-01],\n",
       "       [9.96372983e-01, 3.62701670e-03],\n",
       "       [2.45593626e-02, 9.75440637e-01],\n",
       "       [4.76227737e-02, 9.52377226e-01],\n",
       "       [8.65525092e-01, 1.34474908e-01],\n",
       "       [3.17937528e-03, 9.96820625e-01],\n",
       "       [6.73712277e-03, 9.93262877e-01],\n",
       "       [9.99798964e-01, 2.01036006e-04],\n",
       "       [9.73257976e-01, 2.67420244e-02],\n",
       "       [5.25479260e-01, 4.74520740e-01],\n",
       "       [8.96472490e-01, 1.03527510e-01],\n",
       "       [9.12273233e-01, 8.77267675e-02],\n",
       "       [8.47099978e-01, 1.52900022e-01],\n",
       "       [9.56553456e-01, 4.34465441e-02],\n",
       "       [4.69722560e-02, 9.53027744e-01],\n",
       "       [3.36405135e-01, 6.63594865e-01],\n",
       "       [1.49653794e-01, 8.50346206e-01],\n",
       "       [9.06527516e-01, 9.34724843e-02],\n",
       "       [1.73768966e-02, 9.82623103e-01],\n",
       "       [5.15009997e-02, 9.48499000e-01],\n",
       "       [8.55881102e-01, 1.44118898e-01],\n",
       "       [4.22587650e-03, 9.95774124e-01],\n",
       "       [4.64017886e-01, 5.35982114e-01],\n",
       "       [1.79052486e-03, 9.98209475e-01],\n",
       "       [2.62892140e-02, 9.73710786e-01],\n",
       "       [1.29936250e-01, 8.70063750e-01],\n",
       "       [9.76400025e-01, 2.35999750e-02],\n",
       "       [6.26563818e-01, 3.73436182e-01],\n",
       "       [9.55474640e-01, 4.45253597e-02],\n",
       "       [3.55282175e-03, 9.96447178e-01],\n",
       "       [8.67876702e-01, 1.32123298e-01],\n",
       "       [4.33726173e-01, 5.66273827e-01],\n",
       "       [9.99178231e-01, 8.21769073e-04]])"
      ]
     },
     "execution_count": 55,
     "metadata": {},
     "output_type": "execute_result"
    }
   ],
   "source": [
    "model_logistic.predict_proba(X_test)"
   ]
  },
  {
   "cell_type": "code",
   "execution_count": 56,
   "id": "a5466e1c",
   "metadata": {},
   "outputs": [
    {
     "data": {
      "text/plain": [
       "array([0.06601968, 0.79498344, 0.02163665, 0.00125409, 0.00290309])"
      ]
     },
     "execution_count": 56,
     "metadata": {},
     "output_type": "execute_result"
    }
   ],
   "source": [
    "prob = model_logistic.predict_proba(X_test)\n",
    "prob_1 = prob[:, 1]\n",
    "prob_1[:5]"
   ]
  },
  {
   "cell_type": "code",
   "execution_count": 57,
   "id": "ca0ae33a",
   "metadata": {},
   "outputs": [],
   "source": [
    "from sklearn.metrics import roc_curve, roc_auc_score"
   ]
  },
  {
   "cell_type": "code",
   "execution_count": 58,
   "id": "90bae7f0",
   "metadata": {},
   "outputs": [],
   "source": [
    "fpr, tpr, thresh = roc_curve(y_true=y_test, y_score=prob_1)"
   ]
  },
  {
   "cell_type": "code",
   "execution_count": 59,
   "id": "f75660ba",
   "metadata": {},
   "outputs": [
    {
     "data": {
      "text/plain": [
       "Text(0, 0.5, 'True positive rate --> Sensitivity')"
      ]
     },
     "execution_count": 59,
     "metadata": {},
     "output_type": "execute_result"
    },
    {
     "data": {
      "image/png": "[encoded data removed]",
      "text/plain": [
       "<Figure size 432x288 with 1 Axes>"
      ]
     },
     "metadata": {
      "needs_background": "light"
     },
     "output_type": "display_data"
    }
   ],
   "source": [
    "plt.plot(fpr, tpr)\n",
    "plt.xlabel('False positive rate --> (1-Specificity)')\n",
    "plt.ylabel('True positive rate --> Sensitivity')"
   ]
  },
  {
   "cell_type": "code",
   "execution_count": 60,
   "id": "b9f62ea8",
   "metadata": {},
   "outputs": [
    {
     "data": {
      "text/plain": [
       "0.9411027568922306"
      ]
     },
     "execution_count": 60,
     "metadata": {},
     "output_type": "execute_result"
    }
   ],
   "source": [
    "roc_auc_score(y_true=y_test, y_score=prob_1)"
   ]
  },
  {
   "cell_type": "markdown",
   "id": "e8b4df41",
   "metadata": {},
   "source": [
    "### Improving the model performance"
   ]
  },
  {
   "cell_type": "code",
   "execution_count": 61,
   "id": "979bc68f",
   "metadata": {},
   "outputs": [],
   "source": [
    "from sklearn.metrics import cohen_kappa_score"
   ]
  },
  {
   "cell_type": "code",
   "execution_count": 62,
   "id": "2c9a3622",
   "metadata": {},
   "outputs": [],
   "source": [
    "df_th_comp_matrix = pd.DataFrame(columns=['Threshold Value', 'Accuracy',\n",
    "                                      'Precision', 'Recall',\n",
    "                                      'F1-Score', 'AUC-ROC',\n",
    "                                      'Kappa'])\n",
    "\n",
    "def compute_scores(threshold_value):\n",
    "    y_pred_prob = model_logistic.predict_proba(X_test)\n",
    "    y_pred_prob_1 = y_pred_prob[:, 1]\n",
    "    y_pred = [1 if val > threshold_value else 0 for val in y_pred_prob_1]\n",
    "    global df_th_comp_matrix\n",
    "    df_th_comp_matrix = df_th_comp_matrix.append({\n",
    "            'Threshold Value': threshold_value, \n",
    "            'Accuracy': accuracy_score(y_true=y_test, y_pred=y_pred),\n",
    "            'Precision': precision_score(y_true=y_test, y_pred=y_pred), \n",
    "            'Recall': recall_score(y_true=y_test, y_pred=y_pred), \n",
    "            'F1-Score': f1_score(y_true=y_test, y_pred=y_pred), \n",
    "            'AUC-ROC': roc_auc_score(y_true=y_test, y_score=y_pred),\n",
    "            'Kappa': cohen_kappa_score(y1=y_test, y2=y_pred)\n",
    "    }, ignore_index=True)\n"
   ]
  },
  {
   "cell_type": "code",
   "execution_count": 63,
   "id": "bb11cda5",
   "metadata": {},
   "outputs": [
    {
     "name": "stdout",
     "output_type": "stream",
     "text": [
      "[0.1 0.2 0.3 0.4 0.5 0.6 0.7 0.8 0.9]\n"
     ]
    }
   ],
   "source": [
    "# Checking for different threshold values\n",
    "th_values = np.arange(0.1, 1, 0.1)\n",
    "print(th_values)\n",
    "for val in th_values:\n",
    "    compute_scores(val)"
   ]
  },
  {
   "cell_type": "code",
   "execution_count": 64,
   "id": "45f1615b",
   "metadata": {},
   "outputs": [
    {
     "data": {
      "text/html": [
       "<div>\n",
       "<style scoped>\n",
       "    .dataframe tbody tr th:only-of-type {\n",
       "        vertical-align: middle;\n",
       "    }\n",
       "\n",
       "    .dataframe tbody tr th {\n",
       "        vertical-align: top;\n",
       "    }\n",
       "\n",
       "    .dataframe thead th {\n",
       "        text-align: right;\n",
       "    }\n",
       "</style>\n",
       "<table border=\"1\" class=\"dataframe\">\n",
       "  <thead>\n",
       "    <tr style=\"text-align: right;\">\n",
       "      <th></th>\n",
       "      <th>Threshold Value</th>\n",
       "      <th>Accuracy</th>\n",
       "      <th>Precision</th>\n",
       "      <th>Recall</th>\n",
       "      <th>F1-Score</th>\n",
       "      <th>AUC-ROC</th>\n",
       "      <th>Kappa</th>\n",
       "    </tr>\n",
       "  </thead>\n",
       "  <tbody>\n",
       "    <tr>\n",
       "      <th>0</th>\n",
       "      <td>0.1</td>\n",
       "      <td>0.7375</td>\n",
       "      <td>0.649123</td>\n",
       "      <td>0.973684</td>\n",
       "      <td>0.778947</td>\n",
       "      <td>0.748747</td>\n",
       "      <td>0.485924</td>\n",
       "    </tr>\n",
       "    <tr>\n",
       "      <th>1</th>\n",
       "      <td>0.2</td>\n",
       "      <td>0.8125</td>\n",
       "      <td>0.725490</td>\n",
       "      <td>0.973684</td>\n",
       "      <td>0.831461</td>\n",
       "      <td>0.820175</td>\n",
       "      <td>0.630086</td>\n",
       "    </tr>\n",
       "    <tr>\n",
       "      <th>2</th>\n",
       "      <td>0.3</td>\n",
       "      <td>0.8250</td>\n",
       "      <td>0.750000</td>\n",
       "      <td>0.947368</td>\n",
       "      <td>0.837209</td>\n",
       "      <td>0.830827</td>\n",
       "      <td>0.653465</td>\n",
       "    </tr>\n",
       "    <tr>\n",
       "      <th>3</th>\n",
       "      <td>0.4</td>\n",
       "      <td>0.8250</td>\n",
       "      <td>0.772727</td>\n",
       "      <td>0.894737</td>\n",
       "      <td>0.829268</td>\n",
       "      <td>0.828321</td>\n",
       "      <td>0.651741</td>\n",
       "    </tr>\n",
       "    <tr>\n",
       "      <th>4</th>\n",
       "      <td>0.5</td>\n",
       "      <td>0.8375</td>\n",
       "      <td>0.804878</td>\n",
       "      <td>0.868421</td>\n",
       "      <td>0.835443</td>\n",
       "      <td>0.838972</td>\n",
       "      <td>0.675406</td>\n",
       "    </tr>\n",
       "    <tr>\n",
       "      <th>5</th>\n",
       "      <td>0.6</td>\n",
       "      <td>0.8625</td>\n",
       "      <td>0.846154</td>\n",
       "      <td>0.868421</td>\n",
       "      <td>0.857143</td>\n",
       "      <td>0.862782</td>\n",
       "      <td>0.724656</td>\n",
       "    </tr>\n",
       "    <tr>\n",
       "      <th>6</th>\n",
       "      <td>0.7</td>\n",
       "      <td>0.8250</td>\n",
       "      <td>0.833333</td>\n",
       "      <td>0.789474</td>\n",
       "      <td>0.810811</td>\n",
       "      <td>0.823308</td>\n",
       "      <td>0.648241</td>\n",
       "    </tr>\n",
       "    <tr>\n",
       "      <th>7</th>\n",
       "      <td>0.8</td>\n",
       "      <td>0.8375</td>\n",
       "      <td>0.878788</td>\n",
       "      <td>0.763158</td>\n",
       "      <td>0.816901</td>\n",
       "      <td>0.833960</td>\n",
       "      <td>0.672131</td>\n",
       "    </tr>\n",
       "    <tr>\n",
       "      <th>8</th>\n",
       "      <td>0.9</td>\n",
       "      <td>0.8250</td>\n",
       "      <td>1.000000</td>\n",
       "      <td>0.631579</td>\n",
       "      <td>0.774194</td>\n",
       "      <td>0.815789</td>\n",
       "      <td>0.642857</td>\n",
       "    </tr>\n",
       "  </tbody>\n",
       "</table>\n",
       "</div>"
      ],
      "text/plain": [
       "   Threshold Value  Accuracy  Precision    Recall  F1-Score   AUC-ROC  \\\n",
       "0              0.1    0.7375   0.649123  0.973684  0.778947  0.748747   \n",
       "1              0.2    0.8125   0.725490  0.973684  0.831461  0.820175   \n",
       "2              0.3    0.8250   0.750000  0.947368  0.837209  0.830827   \n",
       "3              0.4    0.8250   0.772727  0.894737  0.829268  0.828321   \n",
       "4              0.5    0.8375   0.804878  0.868421  0.835443  0.838972   \n",
       "5              0.6    0.8625   0.846154  0.868421  0.857143  0.862782   \n",
       "6              0.7    0.8250   0.833333  0.789474  0.810811  0.823308   \n",
       "7              0.8    0.8375   0.878788  0.763158  0.816901  0.833960   \n",
       "8              0.9    0.8250   1.000000  0.631579  0.774194  0.815789   \n",
       "\n",
       "      Kappa  \n",
       "0  0.485924  \n",
       "1  0.630086  \n",
       "2  0.653465  \n",
       "3  0.651741  \n",
       "4  0.675406  \n",
       "5  0.724656  \n",
       "6  0.648241  \n",
       "7  0.672131  \n",
       "8  0.642857  "
      ]
     },
     "execution_count": 64,
     "metadata": {},
     "output_type": "execute_result"
    }
   ],
   "source": [
    "df_th_comp_matrix"
   ]
  },
  {
   "cell_type": "code",
   "execution_count": 65,
   "id": "c35cd6e5",
   "metadata": {},
   "outputs": [
    {
     "data": {
      "text/html": [
       "<style  type=\"text/css\" >\n",
       "#T_8d2fe_row0_col3,#T_8d2fe_row1_col3,#T_8d2fe_row5_col1,#T_8d2fe_row5_col4,#T_8d2fe_row5_col5,#T_8d2fe_row5_col6,#T_8d2fe_row8_col0,#T_8d2fe_row8_col2{\n",
       "            background-color:  yellow;\n",
       "        }</style><table id=\"T_8d2fe_\" ><thead>    <tr>        <th class=\"blank level0\" ></th>        <th class=\"col_heading level0 col0\" >Threshold Value</th>        <th class=\"col_heading level0 col1\" >Accuracy</th>        <th class=\"col_heading level0 col2\" >Precision</th>        <th class=\"col_heading level0 col3\" >Recall</th>        <th class=\"col_heading level0 col4\" >F1-Score</th>        <th class=\"col_heading level0 col5\" >AUC-ROC</th>        <th class=\"col_heading level0 col6\" >Kappa</th>    </tr></thead><tbody>\n",
       "                <tr>\n",
       "                        <th id=\"T_8d2fe_level0_row0\" class=\"row_heading level0 row0\" >0</th>\n",
       "                        <td id=\"T_8d2fe_row0_col0\" class=\"data row0 col0\" >0.100000</td>\n",
       "                        <td id=\"T_8d2fe_row0_col1\" class=\"data row0 col1\" >0.737500</td>\n",
       "                        <td id=\"T_8d2fe_row0_col2\" class=\"data row0 col2\" >0.649123</td>\n",
       "                        <td id=\"T_8d2fe_row0_col3\" class=\"data row0 col3\" >0.973684</td>\n",
       "                        <td id=\"T_8d2fe_row0_col4\" class=\"data row0 col4\" >0.778947</td>\n",
       "                        <td id=\"T_8d2fe_row0_col5\" class=\"data row0 col5\" >0.748747</td>\n",
       "                        <td id=\"T_8d2fe_row0_col6\" class=\"data row0 col6\" >0.485924</td>\n",
       "            </tr>\n",
       "            <tr>\n",
       "                        <th id=\"T_8d2fe_level0_row1\" class=\"row_heading level0 row1\" >1</th>\n",
       "                        <td id=\"T_8d2fe_row1_col0\" class=\"data row1 col0\" >0.200000</td>\n",
       "                        <td id=\"T_8d2fe_row1_col1\" class=\"data row1 col1\" >0.812500</td>\n",
       "                        <td id=\"T_8d2fe_row1_col2\" class=\"data row1 col2\" >0.725490</td>\n",
       "                        <td id=\"T_8d2fe_row1_col3\" class=\"data row1 col3\" >0.973684</td>\n",
       "                        <td id=\"T_8d2fe_row1_col4\" class=\"data row1 col4\" >0.831461</td>\n",
       "                        <td id=\"T_8d2fe_row1_col5\" class=\"data row1 col5\" >0.820175</td>\n",
       "                        <td id=\"T_8d2fe_row1_col6\" class=\"data row1 col6\" >0.630086</td>\n",
       "            </tr>\n",
       "            <tr>\n",
       "                        <th id=\"T_8d2fe_level0_row2\" class=\"row_heading level0 row2\" >2</th>\n",
       "                        <td id=\"T_8d2fe_row2_col0\" class=\"data row2 col0\" >0.300000</td>\n",
       "                        <td id=\"T_8d2fe_row2_col1\" class=\"data row2 col1\" >0.825000</td>\n",
       "                        <td id=\"T_8d2fe_row2_col2\" class=\"data row2 col2\" >0.750000</td>\n",
       "                        <td id=\"T_8d2fe_row2_col3\" class=\"data row2 col3\" >0.947368</td>\n",
       "                        <td id=\"T_8d2fe_row2_col4\" class=\"data row2 col4\" >0.837209</td>\n",
       "                        <td id=\"T_8d2fe_row2_col5\" class=\"data row2 col5\" >0.830827</td>\n",
       "                        <td id=\"T_8d2fe_row2_col6\" class=\"data row2 col6\" >0.653465</td>\n",
       "            </tr>\n",
       "            <tr>\n",
       "                        <th id=\"T_8d2fe_level0_row3\" class=\"row_heading level0 row3\" >3</th>\n",
       "                        <td id=\"T_8d2fe_row3_col0\" class=\"data row3 col0\" >0.400000</td>\n",
       "                        <td id=\"T_8d2fe_row3_col1\" class=\"data row3 col1\" >0.825000</td>\n",
       "                        <td id=\"T_8d2fe_row3_col2\" class=\"data row3 col2\" >0.772727</td>\n",
       "                        <td id=\"T_8d2fe_row3_col3\" class=\"data row3 col3\" >0.894737</td>\n",
       "                        <td id=\"T_8d2fe_row3_col4\" class=\"data row3 col4\" >0.829268</td>\n",
       "                        <td id=\"T_8d2fe_row3_col5\" class=\"data row3 col5\" >0.828321</td>\n",
       "                        <td id=\"T_8d2fe_row3_col6\" class=\"data row3 col6\" >0.651741</td>\n",
       "            </tr>\n",
       "            <tr>\n",
       "                        <th id=\"T_8d2fe_level0_row4\" class=\"row_heading level0 row4\" >4</th>\n",
       "                        <td id=\"T_8d2fe_row4_col0\" class=\"data row4 col0\" >0.500000</td>\n",
       "                        <td id=\"T_8d2fe_row4_col1\" class=\"data row4 col1\" >0.837500</td>\n",
       "                        <td id=\"T_8d2fe_row4_col2\" class=\"data row4 col2\" >0.804878</td>\n",
       "                        <td id=\"T_8d2fe_row4_col3\" class=\"data row4 col3\" >0.868421</td>\n",
       "                        <td id=\"T_8d2fe_row4_col4\" class=\"data row4 col4\" >0.835443</td>\n",
       "                        <td id=\"T_8d2fe_row4_col5\" class=\"data row4 col5\" >0.838972</td>\n",
       "                        <td id=\"T_8d2fe_row4_col6\" class=\"data row4 col6\" >0.675406</td>\n",
       "            </tr>\n",
       "            <tr>\n",
       "                        <th id=\"T_8d2fe_level0_row5\" class=\"row_heading level0 row5\" >5</th>\n",
       "                        <td id=\"T_8d2fe_row5_col0\" class=\"data row5 col0\" >0.600000</td>\n",
       "                        <td id=\"T_8d2fe_row5_col1\" class=\"data row5 col1\" >0.862500</td>\n",
       "                        <td id=\"T_8d2fe_row5_col2\" class=\"data row5 col2\" >0.846154</td>\n",
       "                        <td id=\"T_8d2fe_row5_col3\" class=\"data row5 col3\" >0.868421</td>\n",
       "                        <td id=\"T_8d2fe_row5_col4\" class=\"data row5 col4\" >0.857143</td>\n",
       "                        <td id=\"T_8d2fe_row5_col5\" class=\"data row5 col5\" >0.862782</td>\n",
       "                        <td id=\"T_8d2fe_row5_col6\" class=\"data row5 col6\" >0.724656</td>\n",
       "            </tr>\n",
       "            <tr>\n",
       "                        <th id=\"T_8d2fe_level0_row6\" class=\"row_heading level0 row6\" >6</th>\n",
       "                        <td id=\"T_8d2fe_row6_col0\" class=\"data row6 col0\" >0.700000</td>\n",
       "                        <td id=\"T_8d2fe_row6_col1\" class=\"data row6 col1\" >0.825000</td>\n",
       "                        <td id=\"T_8d2fe_row6_col2\" class=\"data row6 col2\" >0.833333</td>\n",
       "                        <td id=\"T_8d2fe_row6_col3\" class=\"data row6 col3\" >0.789474</td>\n",
       "                        <td id=\"T_8d2fe_row6_col4\" class=\"data row6 col4\" >0.810811</td>\n",
       "                        <td id=\"T_8d2fe_row6_col5\" class=\"data row6 col5\" >0.823308</td>\n",
       "                        <td id=\"T_8d2fe_row6_col6\" class=\"data row6 col6\" >0.648241</td>\n",
       "            </tr>\n",
       "            <tr>\n",
       "                        <th id=\"T_8d2fe_level0_row7\" class=\"row_heading level0 row7\" >7</th>\n",
       "                        <td id=\"T_8d2fe_row7_col0\" class=\"data row7 col0\" >0.800000</td>\n",
       "                        <td id=\"T_8d2fe_row7_col1\" class=\"data row7 col1\" >0.837500</td>\n",
       "                        <td id=\"T_8d2fe_row7_col2\" class=\"data row7 col2\" >0.878788</td>\n",
       "                        <td id=\"T_8d2fe_row7_col3\" class=\"data row7 col3\" >0.763158</td>\n",
       "                        <td id=\"T_8d2fe_row7_col4\" class=\"data row7 col4\" >0.816901</td>\n",
       "                        <td id=\"T_8d2fe_row7_col5\" class=\"data row7 col5\" >0.833960</td>\n",
       "                        <td id=\"T_8d2fe_row7_col6\" class=\"data row7 col6\" >0.672131</td>\n",
       "            </tr>\n",
       "            <tr>\n",
       "                        <th id=\"T_8d2fe_level0_row8\" class=\"row_heading level0 row8\" >8</th>\n",
       "                        <td id=\"T_8d2fe_row8_col0\" class=\"data row8 col0\" >0.900000</td>\n",
       "                        <td id=\"T_8d2fe_row8_col1\" class=\"data row8 col1\" >0.825000</td>\n",
       "                        <td id=\"T_8d2fe_row8_col2\" class=\"data row8 col2\" >1.000000</td>\n",
       "                        <td id=\"T_8d2fe_row8_col3\" class=\"data row8 col3\" >0.631579</td>\n",
       "                        <td id=\"T_8d2fe_row8_col4\" class=\"data row8 col4\" >0.774194</td>\n",
       "                        <td id=\"T_8d2fe_row8_col5\" class=\"data row8 col5\" >0.815789</td>\n",
       "                        <td id=\"T_8d2fe_row8_col6\" class=\"data row8 col6\" >0.642857</td>\n",
       "            </tr>\n",
       "    </tbody></table>"
      ],
      "text/plain": [
       "<pandas.io.formats.style.Styler at 0x174fbd1c970>"
      ]
     },
     "execution_count": 65,
     "metadata": {},
     "output_type": "execute_result"
    }
   ],
   "source": [
    "df_th_comp_matrix.style.highlight_max(color='yellow')"
   ]
  },
  {
   "cell_type": "code",
   "execution_count": 67,
   "id": "c3f4ec4e",
   "metadata": {},
   "outputs": [],
   "source": [
    "prob = model_logistic.predict_proba(X_test)\n",
    "prob_1 = prob[:, 1]\n",
    "fpr, trp, thres = roc_curve(y_true=y_test, y_score=prob_1)"
   ]
  },
  {
   "cell_type": "code",
   "execution_count": 68,
   "id": "7323c78f",
   "metadata": {},
   "outputs": [
    {
     "data": {
      "text/html": [
       "<div>\n",
       "<style scoped>\n",
       "    .dataframe tbody tr th:only-of-type {\n",
       "        vertical-align: middle;\n",
       "    }\n",
       "\n",
       "    .dataframe tbody tr th {\n",
       "        vertical-align: top;\n",
       "    }\n",
       "\n",
       "    .dataframe thead th {\n",
       "        text-align: right;\n",
       "    }\n",
       "</style>\n",
       "<table border=\"1\" class=\"dataframe\">\n",
       "  <thead>\n",
       "    <tr style=\"text-align: right;\">\n",
       "      <th></th>\n",
       "      <th>TPR</th>\n",
       "      <th>FPR</th>\n",
       "      <th>Threshold</th>\n",
       "    </tr>\n",
       "  </thead>\n",
       "  <tbody>\n",
       "    <tr>\n",
       "      <th>0</th>\n",
       "      <td>0.000000</td>\n",
       "      <td>0.000000</td>\n",
       "      <td>1.998999</td>\n",
       "    </tr>\n",
       "    <tr>\n",
       "      <th>1</th>\n",
       "      <td>0.026316</td>\n",
       "      <td>0.000000</td>\n",
       "      <td>0.998999</td>\n",
       "    </tr>\n",
       "    <tr>\n",
       "      <th>2</th>\n",
       "      <td>0.657895</td>\n",
       "      <td>0.000000</td>\n",
       "      <td>0.883056</td>\n",
       "    </tr>\n",
       "    <tr>\n",
       "      <th>3</th>\n",
       "      <td>0.657895</td>\n",
       "      <td>0.023810</td>\n",
       "      <td>0.880079</td>\n",
       "    </tr>\n",
       "    <tr>\n",
       "      <th>4</th>\n",
       "      <td>0.736842</td>\n",
       "      <td>0.023810</td>\n",
       "      <td>0.848179</td>\n",
       "    </tr>\n",
       "    <tr>\n",
       "      <th>5</th>\n",
       "      <td>0.736842</td>\n",
       "      <td>0.047619</td>\n",
       "      <td>0.844897</td>\n",
       "    </tr>\n",
       "    <tr>\n",
       "      <th>6</th>\n",
       "      <td>0.763158</td>\n",
       "      <td>0.047619</td>\n",
       "      <td>0.840415</td>\n",
       "    </tr>\n",
       "    <tr>\n",
       "      <th>7</th>\n",
       "      <td>0.763158</td>\n",
       "      <td>0.142857</td>\n",
       "      <td>0.780326</td>\n",
       "    </tr>\n",
       "    <tr>\n",
       "      <th>8</th>\n",
       "      <td>0.868421</td>\n",
       "      <td>0.142857</td>\n",
       "      <td>0.609775</td>\n",
       "    </tr>\n",
       "    <tr>\n",
       "      <th>9</th>\n",
       "      <td>0.868421</td>\n",
       "      <td>0.214286</td>\n",
       "      <td>0.481847</td>\n",
       "    </tr>\n",
       "    <tr>\n",
       "      <th>10</th>\n",
       "      <td>0.894737</td>\n",
       "      <td>0.214286</td>\n",
       "      <td>0.474521</td>\n",
       "    </tr>\n",
       "    <tr>\n",
       "      <th>11</th>\n",
       "      <td>0.894737</td>\n",
       "      <td>0.238095</td>\n",
       "      <td>0.449405</td>\n",
       "    </tr>\n",
       "    <tr>\n",
       "      <th>12</th>\n",
       "      <td>0.921053</td>\n",
       "      <td>0.238095</td>\n",
       "      <td>0.398431</td>\n",
       "    </tr>\n",
       "    <tr>\n",
       "      <th>13</th>\n",
       "      <td>0.921053</td>\n",
       "      <td>0.261905</td>\n",
       "      <td>0.382809</td>\n",
       "    </tr>\n",
       "    <tr>\n",
       "      <th>14</th>\n",
       "      <td>0.947368</td>\n",
       "      <td>0.261905</td>\n",
       "      <td>0.373436</td>\n",
       "    </tr>\n",
       "    <tr>\n",
       "      <th>15</th>\n",
       "      <td>0.947368</td>\n",
       "      <td>0.285714</td>\n",
       "      <td>0.307266</td>\n",
       "    </tr>\n",
       "    <tr>\n",
       "      <th>16</th>\n",
       "      <td>0.973684</td>\n",
       "      <td>0.285714</td>\n",
       "      <td>0.255797</td>\n",
       "    </tr>\n",
       "    <tr>\n",
       "      <th>17</th>\n",
       "      <td>0.973684</td>\n",
       "      <td>0.547619</td>\n",
       "      <td>0.087727</td>\n",
       "    </tr>\n",
       "    <tr>\n",
       "      <th>18</th>\n",
       "      <td>1.000000</td>\n",
       "      <td>0.547619</td>\n",
       "      <td>0.066020</td>\n",
       "    </tr>\n",
       "    <tr>\n",
       "      <th>19</th>\n",
       "      <td>1.000000</td>\n",
       "      <td>1.000000</td>\n",
       "      <td>0.000201</td>\n",
       "    </tr>\n",
       "  </tbody>\n",
       "</table>\n",
       "</div>"
      ],
      "text/plain": [
       "         TPR       FPR  Threshold\n",
       "0   0.000000  0.000000   1.998999\n",
       "1   0.026316  0.000000   0.998999\n",
       "2   0.657895  0.000000   0.883056\n",
       "3   0.657895  0.023810   0.880079\n",
       "4   0.736842  0.023810   0.848179\n",
       "5   0.736842  0.047619   0.844897\n",
       "6   0.763158  0.047619   0.840415\n",
       "7   0.763158  0.142857   0.780326\n",
       "8   0.868421  0.142857   0.609775\n",
       "9   0.868421  0.214286   0.481847\n",
       "10  0.894737  0.214286   0.474521\n",
       "11  0.894737  0.238095   0.449405\n",
       "12  0.921053  0.238095   0.398431\n",
       "13  0.921053  0.261905   0.382809\n",
       "14  0.947368  0.261905   0.373436\n",
       "15  0.947368  0.285714   0.307266\n",
       "16  0.973684  0.285714   0.255797\n",
       "17  0.973684  0.547619   0.087727\n",
       "18  1.000000  0.547619   0.066020\n",
       "19  1.000000  1.000000   0.000201"
      ]
     },
     "execution_count": 68,
     "metadata": {},
     "output_type": "execute_result"
    }
   ],
   "source": [
    "table = pd.DataFrame({\n",
    "    'TPR': tpr,\n",
    "    'FPR': fpr,\n",
    "    'Threshold': thres\n",
    "})\n",
    "table"
   ]
  },
  {
   "cell_type": "code",
   "execution_count": 69,
   "id": "dd6c347f",
   "metadata": {},
   "outputs": [],
   "source": [
    "table['Difference'] = table['TPR']-table['FPR']"
   ]
  },
  {
   "cell_type": "code",
   "execution_count": 70,
   "id": "763337be",
   "metadata": {},
   "outputs": [
    {
     "data": {
      "text/html": [
       "<div>\n",
       "<style scoped>\n",
       "    .dataframe tbody tr th:only-of-type {\n",
       "        vertical-align: middle;\n",
       "    }\n",
       "\n",
       "    .dataframe tbody tr th {\n",
       "        vertical-align: top;\n",
       "    }\n",
       "\n",
       "    .dataframe thead th {\n",
       "        text-align: right;\n",
       "    }\n",
       "</style>\n",
       "<table border=\"1\" class=\"dataframe\">\n",
       "  <thead>\n",
       "    <tr style=\"text-align: right;\">\n",
       "      <th></th>\n",
       "      <th>TPR</th>\n",
       "      <th>FPR</th>\n",
       "      <th>Threshold</th>\n",
       "      <th>Difference</th>\n",
       "    </tr>\n",
       "  </thead>\n",
       "  <tbody>\n",
       "    <tr>\n",
       "      <th>8</th>\n",
       "      <td>0.868421</td>\n",
       "      <td>0.142857</td>\n",
       "      <td>0.609775</td>\n",
       "      <td>0.725564</td>\n",
       "    </tr>\n",
       "    <tr>\n",
       "      <th>6</th>\n",
       "      <td>0.763158</td>\n",
       "      <td>0.047619</td>\n",
       "      <td>0.840415</td>\n",
       "      <td>0.715539</td>\n",
       "    </tr>\n",
       "    <tr>\n",
       "      <th>4</th>\n",
       "      <td>0.736842</td>\n",
       "      <td>0.023810</td>\n",
       "      <td>0.848179</td>\n",
       "      <td>0.713033</td>\n",
       "    </tr>\n",
       "    <tr>\n",
       "      <th>5</th>\n",
       "      <td>0.736842</td>\n",
       "      <td>0.047619</td>\n",
       "      <td>0.844897</td>\n",
       "      <td>0.689223</td>\n",
       "    </tr>\n",
       "    <tr>\n",
       "      <th>16</th>\n",
       "      <td>0.973684</td>\n",
       "      <td>0.285714</td>\n",
       "      <td>0.255797</td>\n",
       "      <td>0.687970</td>\n",
       "    </tr>\n",
       "    <tr>\n",
       "      <th>14</th>\n",
       "      <td>0.947368</td>\n",
       "      <td>0.261905</td>\n",
       "      <td>0.373436</td>\n",
       "      <td>0.685464</td>\n",
       "    </tr>\n",
       "    <tr>\n",
       "      <th>12</th>\n",
       "      <td>0.921053</td>\n",
       "      <td>0.238095</td>\n",
       "      <td>0.398431</td>\n",
       "      <td>0.682957</td>\n",
       "    </tr>\n",
       "    <tr>\n",
       "      <th>10</th>\n",
       "      <td>0.894737</td>\n",
       "      <td>0.214286</td>\n",
       "      <td>0.474521</td>\n",
       "      <td>0.680451</td>\n",
       "    </tr>\n",
       "    <tr>\n",
       "      <th>15</th>\n",
       "      <td>0.947368</td>\n",
       "      <td>0.285714</td>\n",
       "      <td>0.307266</td>\n",
       "      <td>0.661654</td>\n",
       "    </tr>\n",
       "    <tr>\n",
       "      <th>13</th>\n",
       "      <td>0.921053</td>\n",
       "      <td>0.261905</td>\n",
       "      <td>0.382809</td>\n",
       "      <td>0.659148</td>\n",
       "    </tr>\n",
       "    <tr>\n",
       "      <th>2</th>\n",
       "      <td>0.657895</td>\n",
       "      <td>0.000000</td>\n",
       "      <td>0.883056</td>\n",
       "      <td>0.657895</td>\n",
       "    </tr>\n",
       "    <tr>\n",
       "      <th>11</th>\n",
       "      <td>0.894737</td>\n",
       "      <td>0.238095</td>\n",
       "      <td>0.449405</td>\n",
       "      <td>0.656642</td>\n",
       "    </tr>\n",
       "    <tr>\n",
       "      <th>9</th>\n",
       "      <td>0.868421</td>\n",
       "      <td>0.214286</td>\n",
       "      <td>0.481847</td>\n",
       "      <td>0.654135</td>\n",
       "    </tr>\n",
       "    <tr>\n",
       "      <th>3</th>\n",
       "      <td>0.657895</td>\n",
       "      <td>0.023810</td>\n",
       "      <td>0.880079</td>\n",
       "      <td>0.634085</td>\n",
       "    </tr>\n",
       "    <tr>\n",
       "      <th>7</th>\n",
       "      <td>0.763158</td>\n",
       "      <td>0.142857</td>\n",
       "      <td>0.780326</td>\n",
       "      <td>0.620301</td>\n",
       "    </tr>\n",
       "    <tr>\n",
       "      <th>18</th>\n",
       "      <td>1.000000</td>\n",
       "      <td>0.547619</td>\n",
       "      <td>0.066020</td>\n",
       "      <td>0.452381</td>\n",
       "    </tr>\n",
       "    <tr>\n",
       "      <th>17</th>\n",
       "      <td>0.973684</td>\n",
       "      <td>0.547619</td>\n",
       "      <td>0.087727</td>\n",
       "      <td>0.426065</td>\n",
       "    </tr>\n",
       "    <tr>\n",
       "      <th>1</th>\n",
       "      <td>0.026316</td>\n",
       "      <td>0.000000</td>\n",
       "      <td>0.998999</td>\n",
       "      <td>0.026316</td>\n",
       "    </tr>\n",
       "    <tr>\n",
       "      <th>0</th>\n",
       "      <td>0.000000</td>\n",
       "      <td>0.000000</td>\n",
       "      <td>1.998999</td>\n",
       "      <td>0.000000</td>\n",
       "    </tr>\n",
       "    <tr>\n",
       "      <th>19</th>\n",
       "      <td>1.000000</td>\n",
       "      <td>1.000000</td>\n",
       "      <td>0.000201</td>\n",
       "      <td>0.000000</td>\n",
       "    </tr>\n",
       "  </tbody>\n",
       "</table>\n",
       "</div>"
      ],
      "text/plain": [
       "         TPR       FPR  Threshold  Difference\n",
       "8   0.868421  0.142857   0.609775    0.725564\n",
       "6   0.763158  0.047619   0.840415    0.715539\n",
       "4   0.736842  0.023810   0.848179    0.713033\n",
       "5   0.736842  0.047619   0.844897    0.689223\n",
       "16  0.973684  0.285714   0.255797    0.687970\n",
       "14  0.947368  0.261905   0.373436    0.685464\n",
       "12  0.921053  0.238095   0.398431    0.682957\n",
       "10  0.894737  0.214286   0.474521    0.680451\n",
       "15  0.947368  0.285714   0.307266    0.661654\n",
       "13  0.921053  0.261905   0.382809    0.659148\n",
       "2   0.657895  0.000000   0.883056    0.657895\n",
       "11  0.894737  0.238095   0.449405    0.656642\n",
       "9   0.868421  0.214286   0.481847    0.654135\n",
       "3   0.657895  0.023810   0.880079    0.634085\n",
       "7   0.763158  0.142857   0.780326    0.620301\n",
       "18  1.000000  0.547619   0.066020    0.452381\n",
       "17  0.973684  0.547619   0.087727    0.426065\n",
       "1   0.026316  0.000000   0.998999    0.026316\n",
       "0   0.000000  0.000000   1.998999    0.000000\n",
       "19  1.000000  1.000000   0.000201    0.000000"
      ]
     },
     "execution_count": 70,
     "metadata": {},
     "output_type": "execute_result"
    }
   ],
   "source": [
    "# This is called as Youden's Index\n",
    "table.sort_values(by='Difference', ascending=False)"
   ]
  },
  {
   "cell_type": "code",
   "execution_count": null,
   "id": "2704aca1",
   "metadata": {},
   "outputs": [],
   "source": []
  },
  {
   "cell_type": "code",
   "execution_count": null,
   "id": "ab997be5",
   "metadata": {},
   "outputs": [],
   "source": []
  },
  {
   "cell_type": "code",
   "execution_count": null,
   "id": "21aebc33",
   "metadata": {},
   "outputs": [],
   "source": []
  },
  {
   "cell_type": "code",
   "execution_count": null,
   "id": "cfd107eb",
   "metadata": {},
   "outputs": [],
   "source": []
  },
  {
   "cell_type": "code",
   "execution_count": null,
   "id": "46ff3bdb",
   "metadata": {},
   "outputs": [],
   "source": []
  },
  {
   "cell_type": "code",
   "execution_count": null,
   "id": "5c98a2ca",
   "metadata": {},
   "outputs": [],
   "source": []
  },
  {
   "cell_type": "code",
   "execution_count": null,
   "id": "5dade194",
   "metadata": {},
   "outputs": [],
   "source": []
  },
  {
   "cell_type": "code",
   "execution_count": null,
   "id": "60313893",
   "metadata": {},
   "outputs": [],
   "source": []
  },
  {
   "cell_type": "code",
   "execution_count": null,
   "id": "09419702",
   "metadata": {},
   "outputs": [],
   "source": []
  },
  {
   "cell_type": "code",
   "execution_count": null,
   "id": "1f8196b9",
   "metadata": {},
   "outputs": [],
   "source": []
  },
  {
   "cell_type": "code",
   "execution_count": null,
   "id": "1f0172fe",
   "metadata": {},
   "outputs": [],
   "source": []
  },
  {
   "cell_type": "code",
   "execution_count": null,
   "id": "54bf1286",
   "metadata": {},
   "outputs": [],
   "source": []
  },
  {
   "cell_type": "code",
   "execution_count": null,
   "id": "4d4c098d",
   "metadata": {},
   "outputs": [],
   "source": []
  },
  {
   "cell_type": "code",
   "execution_count": null,
   "id": "66ebadf4",
   "metadata": {},
   "outputs": [],
   "source": []
  },
  {
   "cell_type": "code",
   "execution_count": null,
   "id": "e28cb7e9",
   "metadata": {},
   "outputs": [],
   "source": []
  },
  {
   "cell_type": "code",
   "execution_count": null,
   "id": "982c24d2",
   "metadata": {},
   "outputs": [],
   "source": []
  },
  {
   "cell_type": "code",
   "execution_count": null,
   "id": "74e74023",
   "metadata": {},
   "outputs": [],
   "source": []
  },
  {
   "cell_type": "code",
   "execution_count": null,
   "id": "57d7fe84",
   "metadata": {},
   "outputs": [],
   "source": []
  },
  {
   "cell_type": "code",
   "execution_count": null,
   "id": "632d0277",
   "metadata": {},
   "outputs": [],
   "source": []
  }
 ],
 "metadata": {
  "kernelspec": {
   "display_name": "Python 3",
   "language": "python",
   "name": "python3"
  },
  "language_info": {
   "codemirror_mode": {
    "name": "ipython",
    "version": 3
   },
   "file_extension": ".py",
   "mimetype": "text/x-python",
   "name": "python",
   "nbconvert_exporter": "python",
   "pygments_lexer": "ipython3",
   "version": "3.9.4"
  }
 },
 "nbformat": 4,
 "nbformat_minor": 5
}
