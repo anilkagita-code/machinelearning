{
 "cells": [
  {
   "cell_type": "code",
   "execution_count": 1,
   "id": "db2b0149",
   "metadata": {},
   "outputs": [],
   "source": [
    "import findspark\n",
    "findspark.init()"
   ]
  },
  {
   "cell_type": "code",
   "execution_count": 2,
   "id": "117c68f9",
   "metadata": {},
   "outputs": [],
   "source": [
    "from pyspark.context import SparkContext\n",
    "from pyspark.sql import SparkSession"
   ]
  },
  {
   "cell_type": "code",
   "execution_count": 3,
   "id": "7c3cea8a",
   "metadata": {},
   "outputs": [],
   "source": [
    "sc = SparkContext(appName='LI1').getOrCreate()\n",
    "spark = SparkSession(sparkContext=sc)"
   ]
  },
  {
   "cell_type": "code",
   "execution_count": 4,
   "id": "d461ba57",
   "metadata": {},
   "outputs": [],
   "source": [
    "from pyspark.ml.regression import LinearRegression"
   ]
  },
  {
   "cell_type": "code",
   "execution_count": 6,
   "id": "f01f9f6c",
   "metadata": {},
   "outputs": [
    {
     "name": "stdout",
     "output_type": "stream",
     "text": [
      "root\n",
      " |-- label: double (nullable = true)\n",
      " |-- features: vector (nullable = true)\n",
      "\n"
     ]
    }
   ],
   "source": [
    "df_sample = spark.read.format('libsvm').load('data/sample_linear_regression_data.txt')\n",
    "df_sample.printSchema()"
   ]
  },
  {
   "cell_type": "code",
   "execution_count": 7,
   "id": "6afe68cf",
   "metadata": {},
   "outputs": [
    {
     "name": "stdout",
     "output_type": "stream",
     "text": [
      "+-------------------+--------------------+\n",
      "|              label|            features|\n",
      "+-------------------+--------------------+\n",
      "| -9.490009878824548|(10,[0,1,2,3,4,5,...|\n",
      "| 0.2577820163584905|(10,[0,1,2,3,4,5,...|\n",
      "| -4.438869807456516|(10,[0,1,2,3,4,5,...|\n",
      "|-19.782762789614537|(10,[0,1,2,3,4,5,...|\n",
      "| -7.966593841555266|(10,[0,1,2,3,4,5,...|\n",
      "| -7.896274316726144|(10,[0,1,2,3,4,5,...|\n",
      "| -8.464803554195287|(10,[0,1,2,3,4,5,...|\n",
      "| 2.1214592666251364|(10,[0,1,2,3,4,5,...|\n",
      "| 1.0720117616524107|(10,[0,1,2,3,4,5,...|\n",
      "|-13.772441561702871|(10,[0,1,2,3,4,5,...|\n",
      "| -5.082010756207233|(10,[0,1,2,3,4,5,...|\n",
      "|  7.887786536531237|(10,[0,1,2,3,4,5,...|\n",
      "| 14.323146365332388|(10,[0,1,2,3,4,5,...|\n",
      "|-20.057482615789212|(10,[0,1,2,3,4,5,...|\n",
      "|-0.8995693247765151|(10,[0,1,2,3,4,5,...|\n",
      "| -19.16829262296376|(10,[0,1,2,3,4,5,...|\n",
      "|  5.601801561245534|(10,[0,1,2,3,4,5,...|\n",
      "|-3.2256352187273354|(10,[0,1,2,3,4,5,...|\n",
      "| 1.5299675726687754|(10,[0,1,2,3,4,5,...|\n",
      "| -0.250102447941961|(10,[0,1,2,3,4,5,...|\n",
      "+-------------------+--------------------+\n",
      "only showing top 20 rows\n",
      "\n"
     ]
    }
   ],
   "source": [
    "df_sample.show()"
   ]
  },
  {
   "cell_type": "code",
   "execution_count": 8,
   "id": "45c9ddca",
   "metadata": {},
   "outputs": [],
   "source": [
    "mod_lr_sample = LinearRegression(featuresCol='features', labelCol='label',\n",
    "                                predictionCol='prediction')"
   ]
  },
  {
   "cell_type": "code",
   "execution_count": 9,
   "id": "93641612",
   "metadata": {},
   "outputs": [],
   "source": [
    "mod_lr_sample = mod_lr_sample.fit(df_sample)"
   ]
  },
  {
   "cell_type": "code",
   "execution_count": 10,
   "id": "2ee40a19",
   "metadata": {},
   "outputs": [
    {
     "data": {
      "text/plain": [
       "DenseVector([0.0073, 0.8314, -0.8095, 2.4412, 0.5192, 1.1535, -0.2989, -0.5129, -0.6197, 0.6956])"
      ]
     },
     "execution_count": 10,
     "metadata": {},
     "output_type": "execute_result"
    }
   ],
   "source": [
    "mod_lr_sample.coefficients"
   ]
  },
  {
   "cell_type": "code",
   "execution_count": 11,
   "id": "418b8eaf",
   "metadata": {},
   "outputs": [
    {
     "data": {
      "text/plain": [
       "0.14228558260358093"
      ]
     },
     "execution_count": 11,
     "metadata": {},
     "output_type": "execute_result"
    }
   ],
   "source": [
    "mod_lr_sample.intercept"
   ]
  },
  {
   "cell_type": "code",
   "execution_count": 14,
   "id": "0e95dfd4",
   "metadata": {},
   "outputs": [],
   "source": [
    "mod_lr_sample_summary = mod_lr_sample.summary"
   ]
  },
  {
   "cell_type": "code",
   "execution_count": 15,
   "id": "171fe955",
   "metadata": {},
   "outputs": [
    {
     "data": {
      "text/plain": [
       "10.16309157133015"
      ]
     },
     "execution_count": 15,
     "metadata": {},
     "output_type": "execute_result"
    }
   ],
   "source": [
    "mod_lr_sample_summary.rootMeanSquaredError"
   ]
  },
  {
   "cell_type": "code",
   "execution_count": 16,
   "id": "d1c59575",
   "metadata": {},
   "outputs": [
    {
     "data": {
      "text/plain": [
       "0.027839179518600154"
      ]
     },
     "execution_count": 16,
     "metadata": {},
     "output_type": "execute_result"
    }
   ],
   "source": [
    "mod_lr_sample_summary.r2"
   ]
  },
  {
   "cell_type": "markdown",
   "id": "55feece5",
   "metadata": {},
   "source": [
    "### Training Test Split"
   ]
  },
  {
   "cell_type": "code",
   "execution_count": 17,
   "id": "6723581e",
   "metadata": {},
   "outputs": [],
   "source": [
    "df_sample = spark.read.format('libsvm').load('data/sample_linear_regression_data.txt')"
   ]
  },
  {
   "cell_type": "code",
   "execution_count": 18,
   "id": "2e90b739",
   "metadata": {},
   "outputs": [],
   "source": [
    "df_sample_train, df_sample_test = df_sample.randomSplit([0.7, 0.3])"
   ]
  },
  {
   "cell_type": "code",
   "execution_count": 20,
   "id": "6fcdd61e",
   "metadata": {},
   "outputs": [
    {
     "data": {
      "text/plain": [
       "(355, 146, 501)"
      ]
     },
     "execution_count": 20,
     "metadata": {},
     "output_type": "execute_result"
    }
   ],
   "source": [
    "df_sample_train.count(), df_sample_test.count(), df_sample.count()"
   ]
  },
  {
   "cell_type": "code",
   "execution_count": 21,
   "id": "0a600566",
   "metadata": {},
   "outputs": [],
   "source": [
    "mod_lr_sample = LinearRegression(featuresCol='features', labelCol='label', \n",
    "                                predictionCol='prediction')"
   ]
  },
  {
   "cell_type": "code",
   "execution_count": 22,
   "id": "76daa7ff",
   "metadata": {},
   "outputs": [],
   "source": [
    "mod_lr_sample = mod_lr_sample.fit(df_sample_train)"
   ]
  },
  {
   "cell_type": "code",
   "execution_count": 23,
   "id": "301d8402",
   "metadata": {},
   "outputs": [],
   "source": [
    "test_results = mod_lr_sample.evaluate(df_sample_test)"
   ]
  },
  {
   "cell_type": "code",
   "execution_count": 24,
   "id": "b7a134e1",
   "metadata": {},
   "outputs": [
    {
     "data": {
      "text/plain": [
       "pyspark.ml.regression.LinearRegressionSummary"
      ]
     },
     "execution_count": 24,
     "metadata": {},
     "output_type": "execute_result"
    }
   ],
   "source": [
    "type(test_results)"
   ]
  },
  {
   "cell_type": "code",
   "execution_count": 28,
   "id": "90bb9c54",
   "metadata": {},
   "outputs": [
    {
     "name": "stdout",
     "output_type": "stream",
     "text": [
      "+-------------------+\n",
      "|          residuals|\n",
      "+-------------------+\n",
      "|-23.209817026651397|\n",
      "|-23.813424943849412|\n",
      "|-21.844114492549004|\n",
      "|-21.566958112973065|\n",
      "| -19.55469050788568|\n",
      "| -21.26358466720319|\n",
      "|-19.804936012796702|\n",
      "|-20.300105351713064|\n",
      "|-18.641296578505788|\n",
      "| -17.58802325293179|\n",
      "|-15.981155019778843|\n",
      "| -18.14415715718417|\n",
      "|-16.064155925981364|\n",
      "|-15.263211206917457|\n",
      "|-16.747452342702008|\n",
      "|-16.806982809935484|\n",
      "|-18.796741265127213|\n",
      "|-14.219278549170202|\n",
      "|-13.430858606006652|\n",
      "|-12.429636782470496|\n",
      "+-------------------+\n",
      "only showing top 20 rows\n",
      "\n"
     ]
    }
   ],
   "source": [
    "test_results.residuals.show()"
   ]
  },
  {
   "cell_type": "code",
   "execution_count": 29,
   "id": "4c59f5fa",
   "metadata": {},
   "outputs": [
    {
     "data": {
      "text/plain": [
       "10.792053220083027"
      ]
     },
     "execution_count": 29,
     "metadata": {},
     "output_type": "execute_result"
    }
   ],
   "source": [
    "test_results.rootMeanSquaredError"
   ]
  },
  {
   "cell_type": "markdown",
   "id": "1466a1cd",
   "metadata": {},
   "source": [
    "### Deployment on Unlabeled Data"
   ]
  },
  {
   "cell_type": "code",
   "execution_count": 30,
   "id": "5cc109e3",
   "metadata": {},
   "outputs": [],
   "source": [
    "df_sample_unlabeled = df_sample_test.select('features')"
   ]
  },
  {
   "cell_type": "code",
   "execution_count": 31,
   "id": "2ae60ede",
   "metadata": {},
   "outputs": [
    {
     "name": "stdout",
     "output_type": "stream",
     "text": [
      "+--------------------+\n",
      "|            features|\n",
      "+--------------------+\n",
      "|(10,[0,1,2,3,4,5,...|\n",
      "|(10,[0,1,2,3,4,5,...|\n",
      "|(10,[0,1,2,3,4,5,...|\n",
      "|(10,[0,1,2,3,4,5,...|\n",
      "|(10,[0,1,2,3,4,5,...|\n",
      "|(10,[0,1,2,3,4,5,...|\n",
      "|(10,[0,1,2,3,4,5,...|\n",
      "|(10,[0,1,2,3,4,5,...|\n",
      "|(10,[0,1,2,3,4,5,...|\n",
      "|(10,[0,1,2,3,4,5,...|\n",
      "|(10,[0,1,2,3,4,5,...|\n",
      "|(10,[0,1,2,3,4,5,...|\n",
      "|(10,[0,1,2,3,4,5,...|\n",
      "|(10,[0,1,2,3,4,5,...|\n",
      "|(10,[0,1,2,3,4,5,...|\n",
      "|(10,[0,1,2,3,4,5,...|\n",
      "|(10,[0,1,2,3,4,5,...|\n",
      "|(10,[0,1,2,3,4,5,...|\n",
      "|(10,[0,1,2,3,4,5,...|\n",
      "|(10,[0,1,2,3,4,5,...|\n",
      "+--------------------+\n",
      "only showing top 20 rows\n",
      "\n"
     ]
    }
   ],
   "source": [
    "df_sample_unlabeled.show()"
   ]
  },
  {
   "cell_type": "code",
   "execution_count": 32,
   "id": "f884c4a8",
   "metadata": {},
   "outputs": [],
   "source": [
    "df_predictions = mod_lr_sample.transform(df_sample_unlabeled)"
   ]
  },
  {
   "cell_type": "code",
   "execution_count": 33,
   "id": "48d8cf7c",
   "metadata": {},
   "outputs": [
    {
     "name": "stdout",
     "output_type": "stream",
     "text": [
      "+--------------------+-------------------+\n",
      "|            features|         prediction|\n",
      "+--------------------+-------------------+\n",
      "|(10,[0,1,2,3,4,5,...|-3.5263901559503266|\n",
      "|(10,[0,1,2,3,4,5,...| 0.3259848229129004|\n",
      "|(10,[0,1,2,3,4,5,...|0.41172672838319657|\n",
      "|(10,[0,1,2,3,4,5,...| 1.6823973386996396|\n",
      "|(10,[0,1,2,3,4,5,...|-0.3183005301827245|\n",
      "|(10,[0,1,2,3,4,5,...| 1.5962660518314709|\n",
      "|(10,[0,1,2,3,4,5,...| 0.4025999825821493|\n",
      "|(10,[0,1,2,3,4,5,...| 1.4541828788144826|\n",
      "|(10,[0,1,2,3,4,5,...| 0.3660830125011559|\n",
      "|(10,[0,1,2,3,4,5,...| 0.5615309887222417|\n",
      "|(10,[0,1,2,3,4,5,...|-0.7379418138262475|\n",
      "|(10,[0,1,2,3,4,5,...| 1.4519501358730662|\n",
      "|(10,[0,1,2,3,4,5,...|-0.0871934252957473|\n",
      "|(10,[0,1,2,3,4,5,...|-0.8224478341040322|\n",
      "|(10,[0,1,2,3,4,5,...| 1.0153640704627616|\n",
      "|(10,[0,1,2,3,4,5,...| 1.4474379301028066|\n",
      "|(10,[0,1,2,3,4,5,...|  3.461973785204873|\n",
      "|(10,[0,1,2,3,4,5,...| 0.2431476180174983|\n",
      "|(10,[0,1,2,3,4,5,...|0.39093054190203663|\n",
      "|(10,[0,1,2,3,4,5,...|-0.5482119429216084|\n",
      "+--------------------+-------------------+\n",
      "only showing top 20 rows\n",
      "\n"
     ]
    }
   ],
   "source": [
    "df_predictions.show()"
   ]
  },
  {
   "cell_type": "code",
   "execution_count": null,
   "id": "97b7fa90",
   "metadata": {},
   "outputs": [],
   "source": []
  }
 ],
 "metadata": {
  "kernelspec": {
   "display_name": "Python 3 (ipykernel)",
   "language": "python",
   "name": "python3"
  },
  "language_info": {
   "codemirror_mode": {
    "name": "ipython",
    "version": 3
   },
   "file_extension": ".py",
   "mimetype": "text/x-python",
   "name": "python",
   "nbconvert_exporter": "python",
   "pygments_lexer": "ipython3",
   "version": "3.9.7"
  }
 },
 "nbformat": 4,
 "nbformat_minor": 5
}
