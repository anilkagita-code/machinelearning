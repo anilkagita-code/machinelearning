{
 "cells": [
  {
   "cell_type": "code",
   "execution_count": 1,
   "id": "a9472c01",
   "metadata": {},
   "outputs": [],
   "source": [
    "import findspark\n",
    "findspark.init()"
   ]
  },
  {
   "cell_type": "code",
   "execution_count": 2,
   "id": "f72ef95a",
   "metadata": {},
   "outputs": [],
   "source": [
    "from pyspark.context import SparkContext\n",
    "from pyspark.sql import SparkSession"
   ]
  },
  {
   "cell_type": "code",
   "execution_count": 3,
   "id": "f24bfec2",
   "metadata": {},
   "outputs": [],
   "source": [
    "sc = SparkContext(appName='LR_ECom').getOrCreate()"
   ]
  },
  {
   "cell_type": "code",
   "execution_count": 4,
   "id": "43039d4c",
   "metadata": {},
   "outputs": [],
   "source": [
    "spark = SparkSession(sparkContext=sc)"
   ]
  },
  {
   "cell_type": "code",
   "execution_count": 5,
   "id": "d11e80c1",
   "metadata": {},
   "outputs": [],
   "source": [
    "from pyspark.ml.regression import LinearRegression"
   ]
  },
  {
   "cell_type": "code",
   "execution_count": 6,
   "id": "5c5b559f",
   "metadata": {},
   "outputs": [
    {
     "name": "stdout",
     "output_type": "stream",
     "text": [
      "root\n",
      " |-- Email: string (nullable = true)\n",
      " |-- Address: string (nullable = true)\n",
      " |-- Avatar: string (nullable = true)\n",
      " |-- Avg Session Length: double (nullable = true)\n",
      " |-- Time on App: double (nullable = true)\n",
      " |-- Time on Website: double (nullable = true)\n",
      " |-- Length of Membership: double (nullable = true)\n",
      " |-- Yearly Amount Spent: double (nullable = true)\n",
      "\n"
     ]
    }
   ],
   "source": [
    "df_ecom = spark.read \\\n",
    "    .option('header', True) \\\n",
    "    .option('inferSchema', True) \\\n",
    "    .csv('data/Ecommerce_Customers.csv')\n",
    "df_ecom.printSchema()"
   ]
  },
  {
   "cell_type": "code",
   "execution_count": 7,
   "id": "e8111669",
   "metadata": {},
   "outputs": [
    {
     "name": "stdout",
     "output_type": "stream",
     "text": [
      "+--------------------+--------------------+----------------+------------------+------------------+------------------+--------------------+-------------------+\n",
      "|               Email|             Address|          Avatar|Avg Session Length|       Time on App|   Time on Website|Length of Membership|Yearly Amount Spent|\n",
      "+--------------------+--------------------+----------------+------------------+------------------+------------------+--------------------+-------------------+\n",
      "|mstephenson@ferna...|835 Frank TunnelW...|          Violet| 34.49726772511229| 12.65565114916675| 39.57766801952616|  4.0826206329529615|  587.9510539684005|\n",
      "|   hduke@hotmail.com|4547 Archer Commo...|       DarkGreen| 31.92627202636016|11.109460728682564|37.268958868297744|    2.66403418213262|  392.2049334443264|\n",
      "|    pallen@yahoo.com|24645 Valerie Uni...|          Bisque|33.000914755642675|11.330278057777512|37.110597442120856|   4.104543202376424| 487.54750486747207|\n",
      "|riverarebecca@gma...|1414 David Throug...|     SaddleBrown| 34.30555662975554|13.717513665142507| 36.72128267790313|   3.120178782748092|  581.8523440352177|\n",
      "|mstephens@davidso...|14023 Rodriguez P...|MediumAquaMarine| 33.33067252364639|12.795188551078114| 37.53665330059473|   4.446308318351434|  599.4060920457634|\n",
      "|alvareznancy@luca...|645 Martha Park A...|     FloralWhite|33.871037879341976|12.026925339755056| 34.47687762925054|   5.493507201364199|   637.102447915074|\n",
      "|katherine20@yahoo...|68388 Reyes Light...|   DarkSlateBlue| 32.02159550138701|11.366348309710526| 36.68377615286961|   4.685017246570912|  521.5721747578274|\n",
      "|  awatkins@yahoo.com|Unit 6538 Box 898...|            Aqua|32.739142938380326| 12.35195897300293| 37.37335885854755|  4.4342734348999375|  549.9041461052942|\n",
      "|vchurch@walter-ma...|860 Lee KeyWest D...|          Salmon| 33.98777289568564|13.386235275676436|37.534497341555735|  3.2734335777477144|  570.2004089636196|\n",
      "|    bonnie69@lin.biz|PSC 2734, Box 525...|           Brown|31.936548618448917|11.814128294972196| 37.14516822352819|   3.202806071553459|  427.1993848953282|\n",
      "|andrew06@peterson...|26104 Alexander G...|          Tomato|33.992572774953736|13.338975447662113| 37.22580613162114|   2.482607770510596|  492.6060127179966|\n",
      "|ryanwerner@freema...|Unit 2413 Box 034...|          Tomato| 33.87936082480498|11.584782999535266| 37.08792607098381|    3.71320920294043|  522.3374046069357|\n",
      "|   knelson@gmail.com|6705 Miller Orcha...|       RoyalBlue|29.532428967057943|10.961298400154098| 37.42021557502538|   4.046423164299585|  408.6403510726275|\n",
      "|wrightpeter@yahoo...|05302 Dunlap Ferr...|          Bisque| 33.19033404372265|12.959226091609382|36.144666700041924|   3.918541839158999|  573.4158673313865|\n",
      "|taylormason@gmail...|7773 Powell Sprin...|        DarkBlue|32.387975853153876|13.148725692056516| 36.61995708279922|   2.494543646659249|  470.4527333009554|\n",
      "| jstark@anderson.com|49558 Ramirez Roa...|            Peru|30.737720372628182|12.636606052000127|36.213763093698624|  3.3578468423262944|  461.7807421962299|\n",
      "| wjennings@gmail.com|6362 Wilson Mount...|      PowderBlue| 32.12538689728784|11.733861690857394|  34.8940927514398|  3.1361327164897803| 457.84769594494855|\n",
      "|rebecca45@hale-ba...|8982 Burton RowWi...|       OliveDrab|32.338899323067196|12.013194694014402| 38.38513659413844|   2.420806160901484| 407.70454754954415|\n",
      "|alejandro75@hotma...|64475 Andre Club ...|            Cyan|32.187812045932155|  14.7153875441565| 38.24411459434352|   1.516575580831944|  452.3156754800354|\n",
      "|samuel46@love-wes...|544 Alexander Hei...|   LightSeaGreen| 32.61785606282345|13.989592555825254|37.190503800397956|   4.064548550437977|   605.061038804892|\n",
      "+--------------------+--------------------+----------------+------------------+------------------+------------------+--------------------+-------------------+\n",
      "only showing top 20 rows\n",
      "\n"
     ]
    }
   ],
   "source": [
    "df_ecom.show()"
   ]
  },
  {
   "cell_type": "code",
   "execution_count": 8,
   "id": "4aad7e38",
   "metadata": {},
   "outputs": [],
   "source": [
    "from pyspark.ml.linalg import Vectors\n",
    "from pyspark.ml.feature import VectorAssembler"
   ]
  },
  {
   "cell_type": "code",
   "execution_count": 9,
   "id": "d55bc596",
   "metadata": {},
   "outputs": [
    {
     "data": {
      "text/plain": [
       "['Email',\n",
       " 'Address',\n",
       " 'Avatar',\n",
       " 'Avg Session Length',\n",
       " 'Time on App',\n",
       " 'Time on Website',\n",
       " 'Length of Membership',\n",
       " 'Yearly Amount Spent']"
      ]
     },
     "execution_count": 9,
     "metadata": {},
     "output_type": "execute_result"
    }
   ],
   "source": [
    "df_ecom.columns"
   ]
  },
  {
   "cell_type": "code",
   "execution_count": 10,
   "id": "b122f0ae",
   "metadata": {},
   "outputs": [],
   "source": [
    "assembler = VectorAssembler(\n",
    "    inputCols=['Avg Session Length', 'Time on App', 'Time on Website', 'Length of Membership', 'Yearly Amount Spent'], \n",
    "    outputCol='features'\n",
    ")"
   ]
  },
  {
   "cell_type": "code",
   "execution_count": 11,
   "id": "25368a4a",
   "metadata": {},
   "outputs": [],
   "source": [
    "output = assembler.transform(df_ecom)"
   ]
  },
  {
   "cell_type": "code",
   "execution_count": 12,
   "id": "db43a89f",
   "metadata": {},
   "outputs": [
    {
     "name": "stdout",
     "output_type": "stream",
     "text": [
      "+--------------------+--------------------+----------------+------------------+------------------+------------------+--------------------+-------------------+--------------------+\n",
      "|               Email|             Address|          Avatar|Avg Session Length|       Time on App|   Time on Website|Length of Membership|Yearly Amount Spent|            features|\n",
      "+--------------------+--------------------+----------------+------------------+------------------+------------------+--------------------+-------------------+--------------------+\n",
      "|mstephenson@ferna...|835 Frank TunnelW...|          Violet| 34.49726772511229| 12.65565114916675| 39.57766801952616|  4.0826206329529615|  587.9510539684005|[34.4972677251122...|\n",
      "|   hduke@hotmail.com|4547 Archer Commo...|       DarkGreen| 31.92627202636016|11.109460728682564|37.268958868297744|    2.66403418213262|  392.2049334443264|[31.9262720263601...|\n",
      "|    pallen@yahoo.com|24645 Valerie Uni...|          Bisque|33.000914755642675|11.330278057777512|37.110597442120856|   4.104543202376424| 487.54750486747207|[33.0009147556426...|\n",
      "|riverarebecca@gma...|1414 David Throug...|     SaddleBrown| 34.30555662975554|13.717513665142507| 36.72128267790313|   3.120178782748092|  581.8523440352177|[34.3055566297555...|\n",
      "|mstephens@davidso...|14023 Rodriguez P...|MediumAquaMarine| 33.33067252364639|12.795188551078114| 37.53665330059473|   4.446308318351434|  599.4060920457634|[33.3306725236463...|\n",
      "|alvareznancy@luca...|645 Martha Park A...|     FloralWhite|33.871037879341976|12.026925339755056| 34.47687762925054|   5.493507201364199|   637.102447915074|[33.8710378793419...|\n",
      "|katherine20@yahoo...|68388 Reyes Light...|   DarkSlateBlue| 32.02159550138701|11.366348309710526| 36.68377615286961|   4.685017246570912|  521.5721747578274|[32.0215955013870...|\n",
      "|  awatkins@yahoo.com|Unit 6538 Box 898...|            Aqua|32.739142938380326| 12.35195897300293| 37.37335885854755|  4.4342734348999375|  549.9041461052942|[32.7391429383803...|\n",
      "|vchurch@walter-ma...|860 Lee KeyWest D...|          Salmon| 33.98777289568564|13.386235275676436|37.534497341555735|  3.2734335777477144|  570.2004089636196|[33.9877728956856...|\n",
      "|    bonnie69@lin.biz|PSC 2734, Box 525...|           Brown|31.936548618448917|11.814128294972196| 37.14516822352819|   3.202806071553459|  427.1993848953282|[31.9365486184489...|\n",
      "|andrew06@peterson...|26104 Alexander G...|          Tomato|33.992572774953736|13.338975447662113| 37.22580613162114|   2.482607770510596|  492.6060127179966|[33.9925727749537...|\n",
      "|ryanwerner@freema...|Unit 2413 Box 034...|          Tomato| 33.87936082480498|11.584782999535266| 37.08792607098381|    3.71320920294043|  522.3374046069357|[33.8793608248049...|\n",
      "|   knelson@gmail.com|6705 Miller Orcha...|       RoyalBlue|29.532428967057943|10.961298400154098| 37.42021557502538|   4.046423164299585|  408.6403510726275|[29.5324289670579...|\n",
      "|wrightpeter@yahoo...|05302 Dunlap Ferr...|          Bisque| 33.19033404372265|12.959226091609382|36.144666700041924|   3.918541839158999|  573.4158673313865|[33.1903340437226...|\n",
      "|taylormason@gmail...|7773 Powell Sprin...|        DarkBlue|32.387975853153876|13.148725692056516| 36.61995708279922|   2.494543646659249|  470.4527333009554|[32.3879758531538...|\n",
      "| jstark@anderson.com|49558 Ramirez Roa...|            Peru|30.737720372628182|12.636606052000127|36.213763093698624|  3.3578468423262944|  461.7807421962299|[30.7377203726281...|\n",
      "| wjennings@gmail.com|6362 Wilson Mount...|      PowderBlue| 32.12538689728784|11.733861690857394|  34.8940927514398|  3.1361327164897803| 457.84769594494855|[32.1253868972878...|\n",
      "|rebecca45@hale-ba...|8982 Burton RowWi...|       OliveDrab|32.338899323067196|12.013194694014402| 38.38513659413844|   2.420806160901484| 407.70454754954415|[32.3388993230671...|\n",
      "|alejandro75@hotma...|64475 Andre Club ...|            Cyan|32.187812045932155|  14.7153875441565| 38.24411459434352|   1.516575580831944|  452.3156754800354|[32.1878120459321...|\n",
      "|samuel46@love-wes...|544 Alexander Hei...|   LightSeaGreen| 32.61785606282345|13.989592555825254|37.190503800397956|   4.064548550437977|   605.061038804892|[32.6178560628234...|\n",
      "+--------------------+--------------------+----------------+------------------+------------------+------------------+--------------------+-------------------+--------------------+\n",
      "only showing top 20 rows\n",
      "\n"
     ]
    }
   ],
   "source": [
    "output.show()"
   ]
  },
  {
   "cell_type": "code",
   "execution_count": 14,
   "id": "5d51641b",
   "metadata": {},
   "outputs": [
    {
     "name": "stdout",
     "output_type": "stream",
     "text": [
      "+-----------------------------------------------------------------------------------------------+\n",
      "|features                                                                                       |\n",
      "+-----------------------------------------------------------------------------------------------+\n",
      "|[34.49726772511229,12.65565114916675,39.57766801952616,4.0826206329529615,587.9510539684005]   |\n",
      "|[31.92627202636016,11.109460728682564,37.268958868297744,2.66403418213262,392.2049334443264]   |\n",
      "|[33.000914755642675,11.330278057777512,37.110597442120856,4.104543202376424,487.54750486747207]|\n",
      "|[34.30555662975554,13.717513665142507,36.72128267790313,3.120178782748092,581.8523440352177]   |\n",
      "|[33.33067252364639,12.795188551078114,37.53665330059473,4.446308318351434,599.4060920457634]   |\n",
      "|[33.871037879341976,12.026925339755056,34.47687762925054,5.493507201364199,637.102447915074]   |\n",
      "|[32.02159550138701,11.366348309710526,36.68377615286961,4.685017246570912,521.5721747578274]   |\n",
      "|[32.739142938380326,12.35195897300293,37.37335885854755,4.4342734348999375,549.9041461052942]  |\n",
      "|[33.98777289568564,13.386235275676436,37.534497341555735,3.2734335777477144,570.2004089636196] |\n",
      "|[31.936548618448917,11.814128294972196,37.14516822352819,3.202806071553459,427.1993848953282]  |\n",
      "|[33.992572774953736,13.338975447662113,37.22580613162114,2.482607770510596,492.6060127179966]  |\n",
      "|[33.87936082480498,11.584782999535266,37.08792607098381,3.71320920294043,522.3374046069357]    |\n",
      "|[29.532428967057943,10.961298400154098,37.42021557502538,4.046423164299585,408.6403510726275]  |\n",
      "|[33.19033404372265,12.959226091609382,36.144666700041924,3.918541839158999,573.4158673313865]  |\n",
      "|[32.387975853153876,13.148725692056516,36.61995708279922,2.494543646659249,470.4527333009554]  |\n",
      "|[30.737720372628182,12.636606052000127,36.213763093698624,3.3578468423262944,461.7807421962299]|\n",
      "|[32.12538689728784,11.733861690857394,34.8940927514398,3.1361327164897803,457.84769594494855]  |\n",
      "|[32.338899323067196,12.013194694014402,38.38513659413844,2.420806160901484,407.70454754954415] |\n",
      "|[32.187812045932155,14.7153875441565,38.24411459434352,1.516575580831944,452.3156754800354]    |\n",
      "|[32.61785606282345,13.989592555825254,37.190503800397956,4.064548550437977,605.061038804892]   |\n",
      "+-----------------------------------------------------------------------------------------------+\n",
      "only showing top 20 rows\n",
      "\n"
     ]
    }
   ],
   "source": [
    "output.select('features').show(truncate=False)"
   ]
  },
  {
   "cell_type": "code",
   "execution_count": 15,
   "id": "4f7a87cc",
   "metadata": {},
   "outputs": [
    {
     "data": {
      "text/plain": [
       "[Row(Email='mstephenson@fernandez.com', Address='835 Frank TunnelWrightmouth, MI 82180-9605', Avatar='Violet', Avg Session Length=34.49726772511229, Time on App=12.65565114916675, Time on Website=39.57766801952616, Length of Membership=4.0826206329529615, Yearly Amount Spent=587.9510539684005, features=DenseVector([34.4973, 12.6557, 39.5777, 4.0826, 587.9511]))]"
      ]
     },
     "execution_count": 15,
     "metadata": {},
     "output_type": "execute_result"
    }
   ],
   "source": [
    "output.head(1)"
   ]
  },
  {
   "cell_type": "code",
   "execution_count": 17,
   "id": "be2fbfee",
   "metadata": {},
   "outputs": [
    {
     "name": "stdout",
     "output_type": "stream",
     "text": [
      "+--------------------+-------------------+\n",
      "|            features|Yearly Amount Spent|\n",
      "+--------------------+-------------------+\n",
      "|[34.4972677251122...|  587.9510539684005|\n",
      "|[31.9262720263601...|  392.2049334443264|\n",
      "|[33.0009147556426...| 487.54750486747207|\n",
      "|[34.3055566297555...|  581.8523440352177|\n",
      "|[33.3306725236463...|  599.4060920457634|\n",
      "|[33.8710378793419...|   637.102447915074|\n",
      "|[32.0215955013870...|  521.5721747578274|\n",
      "|[32.7391429383803...|  549.9041461052942|\n",
      "|[33.9877728956856...|  570.2004089636196|\n",
      "|[31.9365486184489...|  427.1993848953282|\n",
      "|[33.9925727749537...|  492.6060127179966|\n",
      "|[33.8793608248049...|  522.3374046069357|\n",
      "|[29.5324289670579...|  408.6403510726275|\n",
      "|[33.1903340437226...|  573.4158673313865|\n",
      "|[32.3879758531538...|  470.4527333009554|\n",
      "|[30.7377203726281...|  461.7807421962299|\n",
      "|[32.1253868972878...| 457.84769594494855|\n",
      "|[32.3388993230671...| 407.70454754954415|\n",
      "|[32.1878120459321...|  452.3156754800354|\n",
      "|[32.6178560628234...|   605.061038804892|\n",
      "+--------------------+-------------------+\n",
      "only showing top 20 rows\n",
      "\n"
     ]
    }
   ],
   "source": [
    "df_ecom_vec = output.select(['features', 'Yearly Amount Spent'])\n",
    "df_ecom_vec.show()"
   ]
  },
  {
   "cell_type": "code",
   "execution_count": 18,
   "id": "feb769c8",
   "metadata": {},
   "outputs": [],
   "source": [
    "df_ecom_vec_train, df_ecom_vec_test = df_ecom_vec.randomSplit([0.7, 0.3])"
   ]
  },
  {
   "cell_type": "code",
   "execution_count": 19,
   "id": "f520a75e",
   "metadata": {},
   "outputs": [
    {
     "data": {
      "text/plain": [
       "(500, 343, 157)"
      ]
     },
     "execution_count": 19,
     "metadata": {},
     "output_type": "execute_result"
    }
   ],
   "source": [
    "df_ecom_vec.count(), df_ecom_vec_train.count(), df_ecom_vec_test.count()"
   ]
  },
  {
   "cell_type": "code",
   "execution_count": 20,
   "id": "6044dcd8",
   "metadata": {},
   "outputs": [],
   "source": [
    "lr_regressor = LinearRegression(labelCol='Yearly Amount Spent')"
   ]
  },
  {
   "cell_type": "code",
   "execution_count": 21,
   "id": "4312b5bd",
   "metadata": {},
   "outputs": [],
   "source": [
    "mod_lr_ecom = lr_regressor.fit(df_ecom_vec_train)"
   ]
  },
  {
   "cell_type": "code",
   "execution_count": 28,
   "id": "125fd814",
   "metadata": {},
   "outputs": [],
   "source": [
    "mod_lr_ecom_summary = mod_lr_ecom.evaluate(df_ecom_vec_test)"
   ]
  },
  {
   "cell_type": "code",
   "execution_count": 29,
   "id": "199e1bb1",
   "metadata": {},
   "outputs": [
    {
     "name": "stdout",
     "output_type": "stream",
     "text": [
      "+--------------------+\n",
      "|           residuals|\n",
      "+--------------------+\n",
      "|3.353761712787673...|\n",
      "|-7.95807864051312...|\n",
      "|4.320099833421409...|\n",
      "|-2.04636307898908...|\n",
      "|-3.24007487506605...|\n",
      "|-9.89075488178059...|\n",
      "|5.059064278611913...|\n",
      "|7.617018127348274...|\n",
      "|1.421085471520200...|\n",
      "|-4.14956957683898...|\n",
      "|-2.95585778076201...|\n",
      "|-1.19371179607696...|\n",
      "|-2.84217094304040...|\n",
      "|-1.59161572810262...|\n",
      "|7.617018127348274...|\n",
      "|-4.20641299569979...|\n",
      "|-5.79802872380241...|\n",
      "|-3.92219590139575...|\n",
      "|-1.13686837721616...|\n",
      "|-2.84217094304040...|\n",
      "+--------------------+\n",
      "only showing top 20 rows\n",
      "\n"
     ]
    },
    {
     "name": "stderr",
     "output_type": "stream",
     "text": [
      "C:\\ProgramFiles\\pySpark\\spark-3.2.1-bin-hadoop3.2\\python\\pyspark\\sql\\context.py:125: FutureWarning: Deprecated in 3.0.0. Use SparkSession.builder.getOrCreate() instead.\n",
      "  warnings.warn(\n"
     ]
    }
   ],
   "source": [
    "mod_lr_ecom_summary.residuals.show()"
   ]
  },
  {
   "cell_type": "code",
   "execution_count": 30,
   "id": "f3d0f95c",
   "metadata": {},
   "outputs": [
    {
     "data": {
      "text/plain": [
       "4.629885147656847e-12"
      ]
     },
     "execution_count": 30,
     "metadata": {},
     "output_type": "execute_result"
    }
   ],
   "source": [
    "mod_lr_ecom_summary.rootMeanSquaredError"
   ]
  },
  {
   "cell_type": "code",
   "execution_count": 31,
   "id": "2e719688",
   "metadata": {},
   "outputs": [
    {
     "data": {
      "text/plain": [
       "1.0"
      ]
     },
     "execution_count": 31,
     "metadata": {},
     "output_type": "execute_result"
    }
   ],
   "source": [
    "mod_lr_ecom_summary.r2"
   ]
  },
  {
   "cell_type": "code",
   "execution_count": 32,
   "id": "fc857450",
   "metadata": {},
   "outputs": [
    {
     "name": "stdout",
     "output_type": "stream",
     "text": [
      "+-------+-------------------+\n",
      "|summary|Yearly Amount Spent|\n",
      "+-------+-------------------+\n",
      "|  count|                500|\n",
      "|   mean|  499.3140382585909|\n",
      "| stddev|   79.3147815497068|\n",
      "|    min| 256.67058229005585|\n",
      "|    max|  765.5184619388373|\n",
      "+-------+-------------------+\n",
      "\n"
     ]
    }
   ],
   "source": [
    "df_ecom.select('Yearly Amount Spent').describe().show()"
   ]
  },
  {
   "cell_type": "markdown",
   "id": "8e93585e",
   "metadata": {},
   "source": [
    "### Deployment of Model"
   ]
  },
  {
   "cell_type": "code",
   "execution_count": 33,
   "id": "65c5c31a",
   "metadata": {},
   "outputs": [],
   "source": [
    "df_ecom_vec_test_unlabeled = df_ecom_vec_test.select('features')"
   ]
  },
  {
   "cell_type": "code",
   "execution_count": 34,
   "id": "5577a154",
   "metadata": {},
   "outputs": [
    {
     "name": "stdout",
     "output_type": "stream",
     "text": [
      "+--------------------+\n",
      "|            features|\n",
      "+--------------------+\n",
      "|[29.5324289670579...|\n",
      "|[30.5743636841713...|\n",
      "|[30.7377203726281...|\n",
      "|[30.8364326747734...|\n",
      "|[31.0613251567161...|\n",
      "|[31.1239743499119...|\n",
      "|[31.1695067987115...|\n",
      "|[31.3123495994443...|\n",
      "|[31.3584771924370...|\n",
      "|[31.4474464941278...|\n",
      "|[31.5147378578019...|\n",
      "|[31.5171218025062...|\n",
      "|[31.5257524169682...|\n",
      "|[31.5761319713222...|\n",
      "|[31.6005122003032...|\n",
      "|[31.7207699002873...|\n",
      "|[31.8093003166791...|\n",
      "|[31.8279790554652...|\n",
      "|[31.8530748017465...|\n",
      "|[31.9120759292006...|\n",
      "+--------------------+\n",
      "only showing top 20 rows\n",
      "\n"
     ]
    }
   ],
   "source": [
    "df_ecom_vec_test_unlabeled.show()"
   ]
  },
  {
   "cell_type": "code",
   "execution_count": 35,
   "id": "e36c1655",
   "metadata": {},
   "outputs": [],
   "source": [
    "df_ecom_prediction = mod_lr_ecom.transform(df_ecom_vec_test_unlabeled)"
   ]
  },
  {
   "cell_type": "code",
   "execution_count": 36,
   "id": "2f6ea22d",
   "metadata": {},
   "outputs": [
    {
     "name": "stdout",
     "output_type": "stream",
     "text": [
      "+--------------------+------------------+\n",
      "|            features|        prediction|\n",
      "+--------------------+------------------+\n",
      "|[29.5324289670579...| 408.6403510726241|\n",
      "|[30.5743636841713...|442.06441375806645|\n",
      "|[30.7377203726281...|461.78074219622556|\n",
      "|[30.8364326747734...|467.50190042699165|\n",
      "|[31.0613251567161...|487.55545805790484|\n",
      "|[31.1239743499119...|486.94705383977566|\n",
      "|[31.1695067987115...|427.35653080228775|\n",
      "|[31.3123495994443...|  463.591418027933|\n",
      "|[31.3584771924370...|  495.175950449474|\n",
      "|[31.4474464941278...|418.60274209522817|\n",
      "|[31.5147378578019...|489.81248799646437|\n",
      "|[31.5171218025062...| 275.9184206503869|\n",
      "|[31.5257524169682...| 443.9656268098847|\n",
      "|[31.5761319713222...| 541.2265839893299|\n",
      "|[31.6005122003032...| 479.1728514910893|\n",
      "|[31.7207699002873...| 538.7749334780272|\n",
      "|[31.8093003166791...|  536.771899362847|\n",
      "|[31.8279790554652...|440.00274754694544|\n",
      "|[31.8530748017465...| 459.2851234623531|\n",
      "|[31.9120759292006...|  387.534716305708|\n",
      "+--------------------+------------------+\n",
      "only showing top 20 rows\n",
      "\n"
     ]
    }
   ],
   "source": [
    "df_ecom_prediction.show()"
   ]
  },
  {
   "cell_type": "code",
   "execution_count": null,
   "id": "9ba0c771",
   "metadata": {},
   "outputs": [],
   "source": []
  }
 ],
 "metadata": {
  "kernelspec": {
   "display_name": "Python 3 (ipykernel)",
   "language": "python",
   "name": "python3"
  },
  "language_info": {
   "codemirror_mode": {
    "name": "ipython",
    "version": 3
   },
   "file_extension": ".py",
   "mimetype": "text/x-python",
   "name": "python",
   "nbconvert_exporter": "python",
   "pygments_lexer": "ipython3",
   "version": "3.9.7"
  }
 },
 "nbformat": 4,
 "nbformat_minor": 5
}
