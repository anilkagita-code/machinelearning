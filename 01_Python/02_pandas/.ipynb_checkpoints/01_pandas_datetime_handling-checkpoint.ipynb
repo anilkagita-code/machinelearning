{
 "cells": [
  {
   "cell_type": "code",
   "execution_count": 10,
   "id": "34269d67",
   "metadata": {},
   "outputs": [],
   "source": [
    "from datetime import date, time, datetime, timedelta"
   ]
  },
  {
   "cell_type": "code",
   "execution_count": 2,
   "id": "4c8741ec",
   "metadata": {},
   "outputs": [
    {
     "name": "stdout",
     "output_type": "stream",
     "text": [
      "Date is 2021-07-16\n"
     ]
    }
   ],
   "source": [
    "mydate = date(year=2021, month=7, day=16)\n",
    "print(f'Date is {mydate}')"
   ]
  },
  {
   "cell_type": "code",
   "execution_count": 3,
   "id": "b9425dd1",
   "metadata": {},
   "outputs": [
    {
     "data": {
      "text/plain": [
       "datetime.date(2021, 7, 16)"
      ]
     },
     "execution_count": 3,
     "metadata": {},
     "output_type": "execute_result"
    }
   ],
   "source": [
    "date.today()"
   ]
  },
  {
   "cell_type": "code",
   "execution_count": 4,
   "id": "8b9b06c8",
   "metadata": {},
   "outputs": [
    {
     "data": {
      "text/plain": [
       "7"
      ]
     },
     "execution_count": 4,
     "metadata": {},
     "output_type": "execute_result"
    }
   ],
   "source": [
    "date.today().month"
   ]
  },
  {
   "cell_type": "code",
   "execution_count": 5,
   "id": "12bc1949",
   "metadata": {},
   "outputs": [
    {
     "data": {
      "text/plain": [
       "datetime.time(10, 17, 20)"
      ]
     },
     "execution_count": 5,
     "metadata": {},
     "output_type": "execute_result"
    }
   ],
   "source": [
    "mytime = time(hour=10, minute=17, second=20)\n",
    "mytime"
   ]
  },
  {
   "cell_type": "code",
   "execution_count": 6,
   "id": "d4e2389b",
   "metadata": {},
   "outputs": [
    {
     "data": {
      "text/plain": [
       "datetime.time(0, 15)"
      ]
     },
     "execution_count": 6,
     "metadata": {},
     "output_type": "execute_result"
    }
   ],
   "source": [
    "mytime = time(minute=15)\n",
    "mytime"
   ]
  },
  {
   "cell_type": "code",
   "execution_count": 7,
   "id": "d513796e",
   "metadata": {},
   "outputs": [
    {
     "name": "stdout",
     "output_type": "stream",
     "text": [
      "2012-07-16 00:00:00\n"
     ]
    },
    {
     "data": {
      "text/plain": [
       "datetime.datetime(2012, 7, 16, 0, 0)"
      ]
     },
     "execution_count": 7,
     "metadata": {},
     "output_type": "execute_result"
    }
   ],
   "source": [
    "a = datetime(year=2012, month=7, day=16)\n",
    "print(a)\n",
    "a"
   ]
  },
  {
   "cell_type": "code",
   "execution_count": 8,
   "id": "75752e0a",
   "metadata": {},
   "outputs": [
    {
     "data": {
      "text/plain": [
       "0"
      ]
     },
     "execution_count": 8,
     "metadata": {},
     "output_type": "execute_result"
    }
   ],
   "source": [
    "a.minute"
   ]
  },
  {
   "cell_type": "code",
   "execution_count": 9,
   "id": "28a01d68",
   "metadata": {},
   "outputs": [
    {
     "data": {
      "text/plain": [
       "datetime.datetime(2021, 7, 16, 14, 35, 5, 290067)"
      ]
     },
     "execution_count": 9,
     "metadata": {},
     "output_type": "execute_result"
    }
   ],
   "source": [
    "today = datetime.now()\n",
    "today"
   ]
  },
  {
   "cell_type": "code",
   "execution_count": 11,
   "id": "8360fa1c",
   "metadata": {},
   "outputs": [
    {
     "data": {
      "text/plain": [
       "datetime.datetime(2021, 7, 29, 2, 35, 40, 279172)"
      ]
     },
     "execution_count": 11,
     "metadata": {},
     "output_type": "execute_result"
    }
   ],
   "source": [
    "todays_date = datetime.now()\n",
    "dateafter_months = todays_date+timedelta(days=12, hours=12)\n",
    "dateafter_months"
   ]
  },
  {
   "cell_type": "code",
   "execution_count": 12,
   "id": "c693bf80",
   "metadata": {},
   "outputs": [
    {
     "data": {
      "text/plain": [
       "datetime.datetime(2021, 7, 6, 14, 35, 40, 279172)"
      ]
     },
     "execution_count": 12,
     "metadata": {},
     "output_type": "execute_result"
    }
   ],
   "source": [
    "# Adding date + timedelta shall return a date\n",
    "# Adding data1 - date2 shall return timedelta\n",
    "\n",
    "datebefore_months = todays_date - timedelta(days=10)\n",
    "datebefore_months"
   ]
  },
  {
   "cell_type": "code",
   "execution_count": 42,
   "id": "80d223de",
   "metadata": {},
   "outputs": [
    {
     "name": "stdout",
     "output_type": "stream",
     "text": [
      "The today number of days past BDay: -180 and the number of days for next BDay: 185 days, 5:55:35.165847\n"
     ]
    }
   ],
   "source": [
    "# Adding date + timedelta shall return a date\n",
    "# Adding data1 - date2 shall return timedelta\n",
    "\n",
    "bday = datetime(year=2021, month=1, day=18)\n",
    "tday = datetime.now()\n",
    "past_days = bday - tday\n",
    "next_days = datetime(year=2022, month=1, day=18) - tday\n",
    "print(f'The today number of days past BDay: {past_days.days} and the number of days for next BDay: {next_days}')"
   ]
  },
  {
   "cell_type": "code",
   "execution_count": 27,
   "id": "16c8e6fd",
   "metadata": {},
   "outputs": [
    {
     "data": {
      "text/plain": [
       "datetime.datetime(2021, 7, 16, 9, 14, 28, 118477)"
      ]
     },
     "execution_count": 27,
     "metadata": {},
     "output_type": "execute_result"
    }
   ],
   "source": [
    "tday = datetime.utcnow()\n",
    "tday"
   ]
  },
  {
   "cell_type": "code",
   "execution_count": 28,
   "id": "2e3e868b",
   "metadata": {},
   "outputs": [
    {
     "name": "stdout",
     "output_type": "stream",
     "text": [
      "The weekday is: 4 and the iso weekday is: 5\n"
     ]
    }
   ],
   "source": [
    "print(f'The weekday is: {tday.weekday()} and the iso weekday is: {tday.isoweekday()}')"
   ]
  },
  {
   "cell_type": "code",
   "execution_count": 32,
   "id": "622dcec5",
   "metadata": {},
   "outputs": [
    {
     "data": {
      "text/plain": [
       "[datetime.datetime(2021, 7, 1, 0, 0),\n",
       " datetime.datetime(2021, 7, 2, 0, 0),\n",
       " datetime.datetime(2021, 7, 3, 0, 0),\n",
       " datetime.datetime(2021, 7, 4, 0, 0),\n",
       " datetime.datetime(2021, 7, 5, 0, 0),\n",
       " datetime.datetime(2021, 7, 6, 0, 0),\n",
       " datetime.datetime(2021, 7, 7, 0, 0),\n",
       " datetime.datetime(2021, 7, 8, 0, 0),\n",
       " datetime.datetime(2021, 7, 9, 0, 0),\n",
       " datetime.datetime(2021, 7, 10, 0, 0),\n",
       " datetime.datetime(2021, 7, 11, 0, 0),\n",
       " datetime.datetime(2021, 7, 12, 0, 0),\n",
       " datetime.datetime(2021, 7, 13, 0, 0),\n",
       " datetime.datetime(2021, 7, 14, 0, 0),\n",
       " datetime.datetime(2021, 7, 15, 0, 0),\n",
       " datetime.datetime(2021, 7, 16, 0, 0),\n",
       " datetime.datetime(2021, 7, 17, 0, 0),\n",
       " datetime.datetime(2021, 7, 18, 0, 0),\n",
       " datetime.datetime(2021, 7, 19, 0, 0),\n",
       " datetime.datetime(2021, 7, 20, 0, 0),\n",
       " datetime.datetime(2021, 7, 21, 0, 0),\n",
       " datetime.datetime(2021, 7, 22, 0, 0),\n",
       " datetime.datetime(2021, 7, 23, 0, 0),\n",
       " datetime.datetime(2021, 7, 24, 0, 0),\n",
       " datetime.datetime(2021, 7, 25, 0, 0),\n",
       " datetime.datetime(2021, 7, 26, 0, 0),\n",
       " datetime.datetime(2021, 7, 27, 0, 0),\n",
       " datetime.datetime(2021, 7, 28, 0, 0),\n",
       " datetime.datetime(2021, 7, 29, 0, 0),\n",
       " datetime.datetime(2021, 7, 30, 0, 0)]"
      ]
     },
     "execution_count": 32,
     "metadata": {},
     "output_type": "execute_result"
    }
   ],
   "source": [
    "# listday = [i for i in range(30)]\n",
    "listdate = [datetime(year=2021, month=7, day=i) for i in range(1,31) ]\n",
    "listdate"
   ]
  },
  {
   "cell_type": "code",
   "execution_count": 36,
   "id": "4f93973c",
   "metadata": {},
   "outputs": [
    {
     "name": "stdout",
     "output_type": "stream",
     "text": [
      "2021-07-01\n"
     ]
    }
   ],
   "source": [
    "print(listdate[0].date())"
   ]
  },
  {
   "cell_type": "code",
   "execution_count": 37,
   "id": "b2ea04f3",
   "metadata": {},
   "outputs": [],
   "source": [
    "import pandas as pd\n",
    "import numpy as np"
   ]
  },
  {
   "cell_type": "code",
   "execution_count": 69,
   "id": "152534e7",
   "metadata": {},
   "outputs": [],
   "source": [
    "date_df = pd.DataFrame(listdate, columns=['dt'])"
   ]
  },
  {
   "cell_type": "code",
   "execution_count": 70,
   "id": "49f5ec43",
   "metadata": {},
   "outputs": [
    {
     "data": {
      "text/html": [
       "<div>\n",
       "<style scoped>\n",
       "    .dataframe tbody tr th:only-of-type {\n",
       "        vertical-align: middle;\n",
       "    }\n",
       "\n",
       "    .dataframe tbody tr th {\n",
       "        vertical-align: top;\n",
       "    }\n",
       "\n",
       "    .dataframe thead th {\n",
       "        text-align: right;\n",
       "    }\n",
       "</style>\n",
       "<table border=\"1\" class=\"dataframe\">\n",
       "  <thead>\n",
       "    <tr style=\"text-align: right;\">\n",
       "      <th></th>\n",
       "      <th>dt</th>\n",
       "    </tr>\n",
       "  </thead>\n",
       "  <tbody>\n",
       "    <tr>\n",
       "      <th>0</th>\n",
       "      <td>2021-07-01</td>\n",
       "    </tr>\n",
       "    <tr>\n",
       "      <th>1</th>\n",
       "      <td>2021-07-02</td>\n",
       "    </tr>\n",
       "    <tr>\n",
       "      <th>2</th>\n",
       "      <td>2021-07-03</td>\n",
       "    </tr>\n",
       "    <tr>\n",
       "      <th>3</th>\n",
       "      <td>2021-07-04</td>\n",
       "    </tr>\n",
       "    <tr>\n",
       "      <th>4</th>\n",
       "      <td>2021-07-05</td>\n",
       "    </tr>\n",
       "    <tr>\n",
       "      <th>5</th>\n",
       "      <td>2021-07-06</td>\n",
       "    </tr>\n",
       "    <tr>\n",
       "      <th>6</th>\n",
       "      <td>2021-07-07</td>\n",
       "    </tr>\n",
       "    <tr>\n",
       "      <th>7</th>\n",
       "      <td>2021-07-08</td>\n",
       "    </tr>\n",
       "    <tr>\n",
       "      <th>8</th>\n",
       "      <td>2021-07-09</td>\n",
       "    </tr>\n",
       "    <tr>\n",
       "      <th>9</th>\n",
       "      <td>2021-07-10</td>\n",
       "    </tr>\n",
       "    <tr>\n",
       "      <th>10</th>\n",
       "      <td>2021-07-11</td>\n",
       "    </tr>\n",
       "    <tr>\n",
       "      <th>11</th>\n",
       "      <td>2021-07-12</td>\n",
       "    </tr>\n",
       "    <tr>\n",
       "      <th>12</th>\n",
       "      <td>2021-07-13</td>\n",
       "    </tr>\n",
       "    <tr>\n",
       "      <th>13</th>\n",
       "      <td>2021-07-14</td>\n",
       "    </tr>\n",
       "    <tr>\n",
       "      <th>14</th>\n",
       "      <td>2021-07-15</td>\n",
       "    </tr>\n",
       "    <tr>\n",
       "      <th>15</th>\n",
       "      <td>2021-07-16</td>\n",
       "    </tr>\n",
       "    <tr>\n",
       "      <th>16</th>\n",
       "      <td>2021-07-17</td>\n",
       "    </tr>\n",
       "    <tr>\n",
       "      <th>17</th>\n",
       "      <td>2021-07-18</td>\n",
       "    </tr>\n",
       "    <tr>\n",
       "      <th>18</th>\n",
       "      <td>2021-07-19</td>\n",
       "    </tr>\n",
       "    <tr>\n",
       "      <th>19</th>\n",
       "      <td>2021-07-20</td>\n",
       "    </tr>\n",
       "    <tr>\n",
       "      <th>20</th>\n",
       "      <td>2021-07-21</td>\n",
       "    </tr>\n",
       "    <tr>\n",
       "      <th>21</th>\n",
       "      <td>2021-07-22</td>\n",
       "    </tr>\n",
       "    <tr>\n",
       "      <th>22</th>\n",
       "      <td>2021-07-23</td>\n",
       "    </tr>\n",
       "    <tr>\n",
       "      <th>23</th>\n",
       "      <td>2021-07-24</td>\n",
       "    </tr>\n",
       "    <tr>\n",
       "      <th>24</th>\n",
       "      <td>2021-07-25</td>\n",
       "    </tr>\n",
       "    <tr>\n",
       "      <th>25</th>\n",
       "      <td>2021-07-26</td>\n",
       "    </tr>\n",
       "    <tr>\n",
       "      <th>26</th>\n",
       "      <td>2021-07-27</td>\n",
       "    </tr>\n",
       "    <tr>\n",
       "      <th>27</th>\n",
       "      <td>2021-07-28</td>\n",
       "    </tr>\n",
       "    <tr>\n",
       "      <th>28</th>\n",
       "      <td>2021-07-29</td>\n",
       "    </tr>\n",
       "    <tr>\n",
       "      <th>29</th>\n",
       "      <td>2021-07-30</td>\n",
       "    </tr>\n",
       "  </tbody>\n",
       "</table>\n",
       "</div>"
      ],
      "text/plain": [
       "           dt\n",
       "0  2021-07-01\n",
       "1  2021-07-02\n",
       "2  2021-07-03\n",
       "3  2021-07-04\n",
       "4  2021-07-05\n",
       "5  2021-07-06\n",
       "6  2021-07-07\n",
       "7  2021-07-08\n",
       "8  2021-07-09\n",
       "9  2021-07-10\n",
       "10 2021-07-11\n",
       "11 2021-07-12\n",
       "12 2021-07-13\n",
       "13 2021-07-14\n",
       "14 2021-07-15\n",
       "15 2021-07-16\n",
       "16 2021-07-17\n",
       "17 2021-07-18\n",
       "18 2021-07-19\n",
       "19 2021-07-20\n",
       "20 2021-07-21\n",
       "21 2021-07-22\n",
       "22 2021-07-23\n",
       "23 2021-07-24\n",
       "24 2021-07-25\n",
       "25 2021-07-26\n",
       "26 2021-07-27\n",
       "27 2021-07-28\n",
       "28 2021-07-29\n",
       "29 2021-07-30"
      ]
     },
     "execution_count": 70,
     "metadata": {},
     "output_type": "execute_result"
    }
   ],
   "source": [
    "date_df"
   ]
  },
  {
   "cell_type": "code",
   "execution_count": 71,
   "id": "4ea1d2f4",
   "metadata": {},
   "outputs": [
    {
     "name": "stdout",
     "output_type": "stream",
     "text": [
      "<class 'pandas.core.frame.DataFrame'>\n",
      "RangeIndex: 30 entries, 0 to 29\n",
      "Data columns (total 1 columns):\n",
      " #   Column  Non-Null Count  Dtype         \n",
      "---  ------  --------------  -----         \n",
      " 0   dt      30 non-null     datetime64[ns]\n",
      "dtypes: datetime64[ns](1)\n",
      "memory usage: 368.0 bytes\n"
     ]
    }
   ],
   "source": [
    "date_df.info()"
   ]
  },
  {
   "cell_type": "code",
   "execution_count": 72,
   "id": "b303b5d6",
   "metadata": {},
   "outputs": [
    {
     "data": {
      "text/plain": [
       "array([15, 40, 29, 42, 43,  6, 38, 18,  6,  3, 20, 24, 20, 57, 26,  1, 31,\n",
       "       52, 28, 38,  7, 14,  5,  4,  4, 14, 25, 20, 12, 27])"
      ]
     },
     "execution_count": 72,
     "metadata": {},
     "output_type": "execute_result"
    }
   ],
   "source": [
    "listtime = np.random.randint(1, 60, size=30)\n",
    "listtime"
   ]
  },
  {
   "cell_type": "code",
   "execution_count": 73,
   "id": "310bcc8e",
   "metadata": {},
   "outputs": [
    {
     "data": {
      "text/html": [
       "<div>\n",
       "<style scoped>\n",
       "    .dataframe tbody tr th:only-of-type {\n",
       "        vertical-align: middle;\n",
       "    }\n",
       "\n",
       "    .dataframe tbody tr th {\n",
       "        vertical-align: top;\n",
       "    }\n",
       "\n",
       "    .dataframe thead th {\n",
       "        text-align: right;\n",
       "    }\n",
       "</style>\n",
       "<table border=\"1\" class=\"dataframe\">\n",
       "  <thead>\n",
       "    <tr style=\"text-align: right;\">\n",
       "      <th></th>\n",
       "      <th>0</th>\n",
       "    </tr>\n",
       "  </thead>\n",
       "  <tbody>\n",
       "    <tr>\n",
       "      <th>0</th>\n",
       "      <td>15</td>\n",
       "    </tr>\n",
       "    <tr>\n",
       "      <th>1</th>\n",
       "      <td>40</td>\n",
       "    </tr>\n",
       "    <tr>\n",
       "      <th>2</th>\n",
       "      <td>29</td>\n",
       "    </tr>\n",
       "    <tr>\n",
       "      <th>3</th>\n",
       "      <td>42</td>\n",
       "    </tr>\n",
       "    <tr>\n",
       "      <th>4</th>\n",
       "      <td>43</td>\n",
       "    </tr>\n",
       "    <tr>\n",
       "      <th>5</th>\n",
       "      <td>6</td>\n",
       "    </tr>\n",
       "    <tr>\n",
       "      <th>6</th>\n",
       "      <td>38</td>\n",
       "    </tr>\n",
       "    <tr>\n",
       "      <th>7</th>\n",
       "      <td>18</td>\n",
       "    </tr>\n",
       "    <tr>\n",
       "      <th>8</th>\n",
       "      <td>6</td>\n",
       "    </tr>\n",
       "    <tr>\n",
       "      <th>9</th>\n",
       "      <td>3</td>\n",
       "    </tr>\n",
       "    <tr>\n",
       "      <th>10</th>\n",
       "      <td>20</td>\n",
       "    </tr>\n",
       "    <tr>\n",
       "      <th>11</th>\n",
       "      <td>24</td>\n",
       "    </tr>\n",
       "    <tr>\n",
       "      <th>12</th>\n",
       "      <td>20</td>\n",
       "    </tr>\n",
       "    <tr>\n",
       "      <th>13</th>\n",
       "      <td>57</td>\n",
       "    </tr>\n",
       "    <tr>\n",
       "      <th>14</th>\n",
       "      <td>26</td>\n",
       "    </tr>\n",
       "    <tr>\n",
       "      <th>15</th>\n",
       "      <td>1</td>\n",
       "    </tr>\n",
       "    <tr>\n",
       "      <th>16</th>\n",
       "      <td>31</td>\n",
       "    </tr>\n",
       "    <tr>\n",
       "      <th>17</th>\n",
       "      <td>52</td>\n",
       "    </tr>\n",
       "    <tr>\n",
       "      <th>18</th>\n",
       "      <td>28</td>\n",
       "    </tr>\n",
       "    <tr>\n",
       "      <th>19</th>\n",
       "      <td>38</td>\n",
       "    </tr>\n",
       "    <tr>\n",
       "      <th>20</th>\n",
       "      <td>7</td>\n",
       "    </tr>\n",
       "    <tr>\n",
       "      <th>21</th>\n",
       "      <td>14</td>\n",
       "    </tr>\n",
       "    <tr>\n",
       "      <th>22</th>\n",
       "      <td>5</td>\n",
       "    </tr>\n",
       "    <tr>\n",
       "      <th>23</th>\n",
       "      <td>4</td>\n",
       "    </tr>\n",
       "    <tr>\n",
       "      <th>24</th>\n",
       "      <td>4</td>\n",
       "    </tr>\n",
       "    <tr>\n",
       "      <th>25</th>\n",
       "      <td>14</td>\n",
       "    </tr>\n",
       "    <tr>\n",
       "      <th>26</th>\n",
       "      <td>25</td>\n",
       "    </tr>\n",
       "    <tr>\n",
       "      <th>27</th>\n",
       "      <td>20</td>\n",
       "    </tr>\n",
       "    <tr>\n",
       "      <th>28</th>\n",
       "      <td>12</td>\n",
       "    </tr>\n",
       "    <tr>\n",
       "      <th>29</th>\n",
       "      <td>27</td>\n",
       "    </tr>\n",
       "  </tbody>\n",
       "</table>\n",
       "</div>"
      ],
      "text/plain": [
       "     0\n",
       "0   15\n",
       "1   40\n",
       "2   29\n",
       "3   42\n",
       "4   43\n",
       "5    6\n",
       "6   38\n",
       "7   18\n",
       "8    6\n",
       "9    3\n",
       "10  20\n",
       "11  24\n",
       "12  20\n",
       "13  57\n",
       "14  26\n",
       "15   1\n",
       "16  31\n",
       "17  52\n",
       "18  28\n",
       "19  38\n",
       "20   7\n",
       "21  14\n",
       "22   5\n",
       "23   4\n",
       "24   4\n",
       "25  14\n",
       "26  25\n",
       "27  20\n",
       "28  12\n",
       "29  27"
      ]
     },
     "execution_count": 73,
     "metadata": {},
     "output_type": "execute_result"
    }
   ],
   "source": [
    "time_df = pd.DataFrame(listtime)\n",
    "time_df"
   ]
  },
  {
   "cell_type": "code",
   "execution_count": 74,
   "id": "8081e278",
   "metadata": {},
   "outputs": [
    {
     "data": {
      "text/html": [
       "<div>\n",
       "<style scoped>\n",
       "    .dataframe tbody tr th:only-of-type {\n",
       "        vertical-align: middle;\n",
       "    }\n",
       "\n",
       "    .dataframe tbody tr th {\n",
       "        vertical-align: top;\n",
       "    }\n",
       "\n",
       "    .dataframe thead th {\n",
       "        text-align: right;\n",
       "    }\n",
       "</style>\n",
       "<table border=\"1\" class=\"dataframe\">\n",
       "  <thead>\n",
       "    <tr style=\"text-align: right;\">\n",
       "      <th></th>\n",
       "      <th>dt</th>\n",
       "      <th>time</th>\n",
       "    </tr>\n",
       "  </thead>\n",
       "  <tbody>\n",
       "    <tr>\n",
       "      <th>0</th>\n",
       "      <td>2021-07-01</td>\n",
       "      <td>15</td>\n",
       "    </tr>\n",
       "    <tr>\n",
       "      <th>1</th>\n",
       "      <td>2021-07-02</td>\n",
       "      <td>40</td>\n",
       "    </tr>\n",
       "    <tr>\n",
       "      <th>2</th>\n",
       "      <td>2021-07-03</td>\n",
       "      <td>29</td>\n",
       "    </tr>\n",
       "    <tr>\n",
       "      <th>3</th>\n",
       "      <td>2021-07-04</td>\n",
       "      <td>42</td>\n",
       "    </tr>\n",
       "    <tr>\n",
       "      <th>4</th>\n",
       "      <td>2021-07-05</td>\n",
       "      <td>43</td>\n",
       "    </tr>\n",
       "    <tr>\n",
       "      <th>5</th>\n",
       "      <td>2021-07-06</td>\n",
       "      <td>6</td>\n",
       "    </tr>\n",
       "    <tr>\n",
       "      <th>6</th>\n",
       "      <td>2021-07-07</td>\n",
       "      <td>38</td>\n",
       "    </tr>\n",
       "    <tr>\n",
       "      <th>7</th>\n",
       "      <td>2021-07-08</td>\n",
       "      <td>18</td>\n",
       "    </tr>\n",
       "    <tr>\n",
       "      <th>8</th>\n",
       "      <td>2021-07-09</td>\n",
       "      <td>6</td>\n",
       "    </tr>\n",
       "    <tr>\n",
       "      <th>9</th>\n",
       "      <td>2021-07-10</td>\n",
       "      <td>3</td>\n",
       "    </tr>\n",
       "    <tr>\n",
       "      <th>10</th>\n",
       "      <td>2021-07-11</td>\n",
       "      <td>20</td>\n",
       "    </tr>\n",
       "    <tr>\n",
       "      <th>11</th>\n",
       "      <td>2021-07-12</td>\n",
       "      <td>24</td>\n",
       "    </tr>\n",
       "    <tr>\n",
       "      <th>12</th>\n",
       "      <td>2021-07-13</td>\n",
       "      <td>20</td>\n",
       "    </tr>\n",
       "    <tr>\n",
       "      <th>13</th>\n",
       "      <td>2021-07-14</td>\n",
       "      <td>57</td>\n",
       "    </tr>\n",
       "    <tr>\n",
       "      <th>14</th>\n",
       "      <td>2021-07-15</td>\n",
       "      <td>26</td>\n",
       "    </tr>\n",
       "    <tr>\n",
       "      <th>15</th>\n",
       "      <td>2021-07-16</td>\n",
       "      <td>1</td>\n",
       "    </tr>\n",
       "    <tr>\n",
       "      <th>16</th>\n",
       "      <td>2021-07-17</td>\n",
       "      <td>31</td>\n",
       "    </tr>\n",
       "    <tr>\n",
       "      <th>17</th>\n",
       "      <td>2021-07-18</td>\n",
       "      <td>52</td>\n",
       "    </tr>\n",
       "    <tr>\n",
       "      <th>18</th>\n",
       "      <td>2021-07-19</td>\n",
       "      <td>28</td>\n",
       "    </tr>\n",
       "    <tr>\n",
       "      <th>19</th>\n",
       "      <td>2021-07-20</td>\n",
       "      <td>38</td>\n",
       "    </tr>\n",
       "    <tr>\n",
       "      <th>20</th>\n",
       "      <td>2021-07-21</td>\n",
       "      <td>7</td>\n",
       "    </tr>\n",
       "    <tr>\n",
       "      <th>21</th>\n",
       "      <td>2021-07-22</td>\n",
       "      <td>14</td>\n",
       "    </tr>\n",
       "    <tr>\n",
       "      <th>22</th>\n",
       "      <td>2021-07-23</td>\n",
       "      <td>5</td>\n",
       "    </tr>\n",
       "    <tr>\n",
       "      <th>23</th>\n",
       "      <td>2021-07-24</td>\n",
       "      <td>4</td>\n",
       "    </tr>\n",
       "    <tr>\n",
       "      <th>24</th>\n",
       "      <td>2021-07-25</td>\n",
       "      <td>4</td>\n",
       "    </tr>\n",
       "    <tr>\n",
       "      <th>25</th>\n",
       "      <td>2021-07-26</td>\n",
       "      <td>14</td>\n",
       "    </tr>\n",
       "    <tr>\n",
       "      <th>26</th>\n",
       "      <td>2021-07-27</td>\n",
       "      <td>25</td>\n",
       "    </tr>\n",
       "    <tr>\n",
       "      <th>27</th>\n",
       "      <td>2021-07-28</td>\n",
       "      <td>20</td>\n",
       "    </tr>\n",
       "    <tr>\n",
       "      <th>28</th>\n",
       "      <td>2021-07-29</td>\n",
       "      <td>12</td>\n",
       "    </tr>\n",
       "    <tr>\n",
       "      <th>29</th>\n",
       "      <td>2021-07-30</td>\n",
       "      <td>27</td>\n",
       "    </tr>\n",
       "  </tbody>\n",
       "</table>\n",
       "</div>"
      ],
      "text/plain": [
       "           dt  time\n",
       "0  2021-07-01    15\n",
       "1  2021-07-02    40\n",
       "2  2021-07-03    29\n",
       "3  2021-07-04    42\n",
       "4  2021-07-05    43\n",
       "5  2021-07-06     6\n",
       "6  2021-07-07    38\n",
       "7  2021-07-08    18\n",
       "8  2021-07-09     6\n",
       "9  2021-07-10     3\n",
       "10 2021-07-11    20\n",
       "11 2021-07-12    24\n",
       "12 2021-07-13    20\n",
       "13 2021-07-14    57\n",
       "14 2021-07-15    26\n",
       "15 2021-07-16     1\n",
       "16 2021-07-17    31\n",
       "17 2021-07-18    52\n",
       "18 2021-07-19    28\n",
       "19 2021-07-20    38\n",
       "20 2021-07-21     7\n",
       "21 2021-07-22    14\n",
       "22 2021-07-23     5\n",
       "23 2021-07-24     4\n",
       "24 2021-07-25     4\n",
       "25 2021-07-26    14\n",
       "26 2021-07-27    25\n",
       "27 2021-07-28    20\n",
       "28 2021-07-29    12\n",
       "29 2021-07-30    27"
      ]
     },
     "execution_count": 74,
     "metadata": {},
     "output_type": "execute_result"
    }
   ],
   "source": [
    "date_df['time'] = listtime\n",
    "date_df"
   ]
  },
  {
   "cell_type": "code",
   "execution_count": 75,
   "id": "9b539405",
   "metadata": {},
   "outputs": [],
   "source": [
    "date_df['now'] = datetime.now()"
   ]
  },
  {
   "cell_type": "code",
   "execution_count": 76,
   "id": "ce175aaa",
   "metadata": {},
   "outputs": [
    {
     "data": {
      "text/html": [
       "<div>\n",
       "<style scoped>\n",
       "    .dataframe tbody tr th:only-of-type {\n",
       "        vertical-align: middle;\n",
       "    }\n",
       "\n",
       "    .dataframe tbody tr th {\n",
       "        vertical-align: top;\n",
       "    }\n",
       "\n",
       "    .dataframe thead th {\n",
       "        text-align: right;\n",
       "    }\n",
       "</style>\n",
       "<table border=\"1\" class=\"dataframe\">\n",
       "  <thead>\n",
       "    <tr style=\"text-align: right;\">\n",
       "      <th></th>\n",
       "      <th>dt</th>\n",
       "      <th>time</th>\n",
       "      <th>now</th>\n",
       "    </tr>\n",
       "  </thead>\n",
       "  <tbody>\n",
       "    <tr>\n",
       "      <th>0</th>\n",
       "      <td>2021-07-01</td>\n",
       "      <td>15</td>\n",
       "      <td>2021-07-16 18:41:05.225473</td>\n",
       "    </tr>\n",
       "    <tr>\n",
       "      <th>1</th>\n",
       "      <td>2021-07-02</td>\n",
       "      <td>40</td>\n",
       "      <td>2021-07-16 18:41:05.225473</td>\n",
       "    </tr>\n",
       "    <tr>\n",
       "      <th>2</th>\n",
       "      <td>2021-07-03</td>\n",
       "      <td>29</td>\n",
       "      <td>2021-07-16 18:41:05.225473</td>\n",
       "    </tr>\n",
       "    <tr>\n",
       "      <th>3</th>\n",
       "      <td>2021-07-04</td>\n",
       "      <td>42</td>\n",
       "      <td>2021-07-16 18:41:05.225473</td>\n",
       "    </tr>\n",
       "    <tr>\n",
       "      <th>4</th>\n",
       "      <td>2021-07-05</td>\n",
       "      <td>43</td>\n",
       "      <td>2021-07-16 18:41:05.225473</td>\n",
       "    </tr>\n",
       "    <tr>\n",
       "      <th>5</th>\n",
       "      <td>2021-07-06</td>\n",
       "      <td>6</td>\n",
       "      <td>2021-07-16 18:41:05.225473</td>\n",
       "    </tr>\n",
       "    <tr>\n",
       "      <th>6</th>\n",
       "      <td>2021-07-07</td>\n",
       "      <td>38</td>\n",
       "      <td>2021-07-16 18:41:05.225473</td>\n",
       "    </tr>\n",
       "    <tr>\n",
       "      <th>7</th>\n",
       "      <td>2021-07-08</td>\n",
       "      <td>18</td>\n",
       "      <td>2021-07-16 18:41:05.225473</td>\n",
       "    </tr>\n",
       "    <tr>\n",
       "      <th>8</th>\n",
       "      <td>2021-07-09</td>\n",
       "      <td>6</td>\n",
       "      <td>2021-07-16 18:41:05.225473</td>\n",
       "    </tr>\n",
       "    <tr>\n",
       "      <th>9</th>\n",
       "      <td>2021-07-10</td>\n",
       "      <td>3</td>\n",
       "      <td>2021-07-16 18:41:05.225473</td>\n",
       "    </tr>\n",
       "    <tr>\n",
       "      <th>10</th>\n",
       "      <td>2021-07-11</td>\n",
       "      <td>20</td>\n",
       "      <td>2021-07-16 18:41:05.225473</td>\n",
       "    </tr>\n",
       "    <tr>\n",
       "      <th>11</th>\n",
       "      <td>2021-07-12</td>\n",
       "      <td>24</td>\n",
       "      <td>2021-07-16 18:41:05.225473</td>\n",
       "    </tr>\n",
       "    <tr>\n",
       "      <th>12</th>\n",
       "      <td>2021-07-13</td>\n",
       "      <td>20</td>\n",
       "      <td>2021-07-16 18:41:05.225473</td>\n",
       "    </tr>\n",
       "    <tr>\n",
       "      <th>13</th>\n",
       "      <td>2021-07-14</td>\n",
       "      <td>57</td>\n",
       "      <td>2021-07-16 18:41:05.225473</td>\n",
       "    </tr>\n",
       "    <tr>\n",
       "      <th>14</th>\n",
       "      <td>2021-07-15</td>\n",
       "      <td>26</td>\n",
       "      <td>2021-07-16 18:41:05.225473</td>\n",
       "    </tr>\n",
       "    <tr>\n",
       "      <th>15</th>\n",
       "      <td>2021-07-16</td>\n",
       "      <td>1</td>\n",
       "      <td>2021-07-16 18:41:05.225473</td>\n",
       "    </tr>\n",
       "    <tr>\n",
       "      <th>16</th>\n",
       "      <td>2021-07-17</td>\n",
       "      <td>31</td>\n",
       "      <td>2021-07-16 18:41:05.225473</td>\n",
       "    </tr>\n",
       "    <tr>\n",
       "      <th>17</th>\n",
       "      <td>2021-07-18</td>\n",
       "      <td>52</td>\n",
       "      <td>2021-07-16 18:41:05.225473</td>\n",
       "    </tr>\n",
       "    <tr>\n",
       "      <th>18</th>\n",
       "      <td>2021-07-19</td>\n",
       "      <td>28</td>\n",
       "      <td>2021-07-16 18:41:05.225473</td>\n",
       "    </tr>\n",
       "    <tr>\n",
       "      <th>19</th>\n",
       "      <td>2021-07-20</td>\n",
       "      <td>38</td>\n",
       "      <td>2021-07-16 18:41:05.225473</td>\n",
       "    </tr>\n",
       "    <tr>\n",
       "      <th>20</th>\n",
       "      <td>2021-07-21</td>\n",
       "      <td>7</td>\n",
       "      <td>2021-07-16 18:41:05.225473</td>\n",
       "    </tr>\n",
       "    <tr>\n",
       "      <th>21</th>\n",
       "      <td>2021-07-22</td>\n",
       "      <td>14</td>\n",
       "      <td>2021-07-16 18:41:05.225473</td>\n",
       "    </tr>\n",
       "    <tr>\n",
       "      <th>22</th>\n",
       "      <td>2021-07-23</td>\n",
       "      <td>5</td>\n",
       "      <td>2021-07-16 18:41:05.225473</td>\n",
       "    </tr>\n",
       "    <tr>\n",
       "      <th>23</th>\n",
       "      <td>2021-07-24</td>\n",
       "      <td>4</td>\n",
       "      <td>2021-07-16 18:41:05.225473</td>\n",
       "    </tr>\n",
       "    <tr>\n",
       "      <th>24</th>\n",
       "      <td>2021-07-25</td>\n",
       "      <td>4</td>\n",
       "      <td>2021-07-16 18:41:05.225473</td>\n",
       "    </tr>\n",
       "    <tr>\n",
       "      <th>25</th>\n",
       "      <td>2021-07-26</td>\n",
       "      <td>14</td>\n",
       "      <td>2021-07-16 18:41:05.225473</td>\n",
       "    </tr>\n",
       "    <tr>\n",
       "      <th>26</th>\n",
       "      <td>2021-07-27</td>\n",
       "      <td>25</td>\n",
       "      <td>2021-07-16 18:41:05.225473</td>\n",
       "    </tr>\n",
       "    <tr>\n",
       "      <th>27</th>\n",
       "      <td>2021-07-28</td>\n",
       "      <td>20</td>\n",
       "      <td>2021-07-16 18:41:05.225473</td>\n",
       "    </tr>\n",
       "    <tr>\n",
       "      <th>28</th>\n",
       "      <td>2021-07-29</td>\n",
       "      <td>12</td>\n",
       "      <td>2021-07-16 18:41:05.225473</td>\n",
       "    </tr>\n",
       "    <tr>\n",
       "      <th>29</th>\n",
       "      <td>2021-07-30</td>\n",
       "      <td>27</td>\n",
       "      <td>2021-07-16 18:41:05.225473</td>\n",
       "    </tr>\n",
       "  </tbody>\n",
       "</table>\n",
       "</div>"
      ],
      "text/plain": [
       "           dt  time                        now\n",
       "0  2021-07-01    15 2021-07-16 18:41:05.225473\n",
       "1  2021-07-02    40 2021-07-16 18:41:05.225473\n",
       "2  2021-07-03    29 2021-07-16 18:41:05.225473\n",
       "3  2021-07-04    42 2021-07-16 18:41:05.225473\n",
       "4  2021-07-05    43 2021-07-16 18:41:05.225473\n",
       "5  2021-07-06     6 2021-07-16 18:41:05.225473\n",
       "6  2021-07-07    38 2021-07-16 18:41:05.225473\n",
       "7  2021-07-08    18 2021-07-16 18:41:05.225473\n",
       "8  2021-07-09     6 2021-07-16 18:41:05.225473\n",
       "9  2021-07-10     3 2021-07-16 18:41:05.225473\n",
       "10 2021-07-11    20 2021-07-16 18:41:05.225473\n",
       "11 2021-07-12    24 2021-07-16 18:41:05.225473\n",
       "12 2021-07-13    20 2021-07-16 18:41:05.225473\n",
       "13 2021-07-14    57 2021-07-16 18:41:05.225473\n",
       "14 2021-07-15    26 2021-07-16 18:41:05.225473\n",
       "15 2021-07-16     1 2021-07-16 18:41:05.225473\n",
       "16 2021-07-17    31 2021-07-16 18:41:05.225473\n",
       "17 2021-07-18    52 2021-07-16 18:41:05.225473\n",
       "18 2021-07-19    28 2021-07-16 18:41:05.225473\n",
       "19 2021-07-20    38 2021-07-16 18:41:05.225473\n",
       "20 2021-07-21     7 2021-07-16 18:41:05.225473\n",
       "21 2021-07-22    14 2021-07-16 18:41:05.225473\n",
       "22 2021-07-23     5 2021-07-16 18:41:05.225473\n",
       "23 2021-07-24     4 2021-07-16 18:41:05.225473\n",
       "24 2021-07-25     4 2021-07-16 18:41:05.225473\n",
       "25 2021-07-26    14 2021-07-16 18:41:05.225473\n",
       "26 2021-07-27    25 2021-07-16 18:41:05.225473\n",
       "27 2021-07-28    20 2021-07-16 18:41:05.225473\n",
       "28 2021-07-29    12 2021-07-16 18:41:05.225473\n",
       "29 2021-07-30    27 2021-07-16 18:41:05.225473"
      ]
     },
     "execution_count": 76,
     "metadata": {},
     "output_type": "execute_result"
    }
   ],
   "source": [
    "date_df"
   ]
  },
  {
   "cell_type": "code",
   "execution_count": 66,
   "id": "18cb3449",
   "metadata": {},
   "outputs": [
    {
     "name": "stdout",
     "output_type": "stream",
     "text": [
      "<class 'pandas.core.frame.DataFrame'>\n",
      "RangeIndex: 30 entries, 0 to 29\n",
      "Data columns (total 3 columns):\n",
      " #   Column  Non-Null Count  Dtype         \n",
      "---  ------  --------------  -----         \n",
      " 0   0       30 non-null     datetime64[ns]\n",
      " 1   time    30 non-null     int32         \n",
      " 2   now     30 non-null     datetime64[ns]\n",
      "dtypes: datetime64[ns](2), int32(1)\n",
      "memory usage: 728.0 bytes\n"
     ]
    }
   ],
   "source": [
    "date_df.info()"
   ]
  },
  {
   "cell_type": "code",
   "execution_count": 92,
   "id": "930705c9",
   "metadata": {},
   "outputs": [
    {
     "name": "stdout",
     "output_type": "stream",
     "text": [
      "2021-07-16 19:35:10.742981\n",
      "2021-07-16 19:35:10.742980\n",
      "2021-07-16 14:05:10.742980\n"
     ]
    }
   ],
   "source": [
    "dt_today = datetime.today()\n",
    "dt_now = datetime.now()\n",
    "dt_utc = datetime.utcnow()\n",
    "print(f'{dt_today}\\n{dt_now}\\n{dt_utc}')"
   ]
  },
  {
   "cell_type": "code",
   "execution_count": null,
   "id": "d1cd62b8",
   "metadata": {},
   "outputs": [],
   "source": []
  },
  {
   "cell_type": "code",
   "execution_count": null,
   "id": "83fda8a4",
   "metadata": {},
   "outputs": [],
   "source": []
  },
  {
   "cell_type": "code",
   "execution_count": null,
   "id": "a8c5c62f",
   "metadata": {},
   "outputs": [],
   "source": []
  },
  {
   "cell_type": "code",
   "execution_count": null,
   "id": "8851fe86",
   "metadata": {},
   "outputs": [],
   "source": []
  },
  {
   "cell_type": "code",
   "execution_count": null,
   "id": "2d278a42",
   "metadata": {},
   "outputs": [],
   "source": []
  }
 ],
 "metadata": {
  "kernelspec": {
   "display_name": "Python 3",
   "language": "python",
   "name": "python3"
  },
  "language_info": {
   "codemirror_mode": {
    "name": "ipython",
    "version": 3
   },
   "file_extension": ".py",
   "mimetype": "text/x-python",
   "name": "python",
   "nbconvert_exporter": "python",
   "pygments_lexer": "ipython3",
   "version": "3.9.4"
  }
 },
 "nbformat": 4,
 "nbformat_minor": 5
}
