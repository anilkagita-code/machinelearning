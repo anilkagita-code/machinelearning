{
 "cells": [
  {
   "cell_type": "markdown",
   "id": "beabb46d",
   "metadata": {},
   "source": [
    "# Probability"
   ]
  },
  {
   "cell_type": "markdown",
   "id": "8dc4bb57",
   "metadata": {},
   "source": [
    "Probability (P) = Number of the event occurs/ Total Number of possible events in the experiment\n",
    "\n",
    "Trial: Some experiment conducted to get a result.\n",
    "\n",
    "Outcome: Result of experiment\n",
    "\n",
    "Sample Space: A sample space of an experiment is the set of all possible results of that random experiment.\n"
   ]
  },
  {
   "cell_type": "markdown",
   "id": "e78b0adc",
   "metadata": {},
   "source": [
    "### Sets"
   ]
  },
  {
   "cell_type": "markdown",
   "id": "46ffcba6",
   "metadata": {},
   "source": [
    "Sets:\n",
    "Union: Probability that events A or B occur\n",
    "P(A U B)\n",
    "\n",
    "Intersection: Probability that events A and B occur\n",
    "P(A ∩ B)\n"
   ]
  },
  {
   "cell_type": "markdown",
   "id": "4404a9e0",
   "metadata": {},
   "source": [
    "### Events"
   ]
  },
  {
   "cell_type": "markdown",
   "id": "4e4c6dbd",
   "metadata": {},
   "source": [
    "Mutually Exclusive Events: When two events cannot occur at the same time\n",
    "\n",
    "Independent Events: The occurrence of Event A does not change the probability of occurrence of Event B\n",
    "\n",
    "Complementary Events: The probability that Event A will NOT occur is denoted by P(A')."
   ]
  },
  {
   "cell_type": "markdown",
   "id": "24692c30",
   "metadata": {},
   "source": [
    "### Additive and Multiplicative law"
   ]
  },
  {
   "cell_type": "markdown",
   "id": "d57f29ba",
   "metadata": {},
   "source": [
    "Rule of Multiplication:\n",
    "The probability that Events A and B both occur = Probability that Event A occurs x Probability that Event B occurs, given that A has occurred\n",
    "P(A ∩ B) = P(A) P(B|A)\n",
    "\n",
    "Ex: In two rolls of dice what is the probability of getting 6 in both? (independent event)\n",
    "For independent events P(B|A) = P(B)\n",
    "P(A ∩ B) = P(A) P(B)\n",
    "P(A ∩ B) = 1/6 * 1/6 = 0.0278 or (1/36)\n",
    "\n",
    "Ex: There are 10 candies in the plate (5 Green, 2 Yellow, 2 Orange and 1 Red). If I pick 2 random ones, what is the probability of getting both Yellow?\n",
    "P(A ∩ B) = P(A) P(B|A)\n",
    "P(A ∩ B) = 2/10 * 1/9 = 0.0222 or (1/45)\n",
    "\n",
    "Rule of Addition:\n",
    "The probability that Event A or Event B occurs = Probability that Event A occurs + Probability that Event B occurs - Probability that both Events A and B occur\n",
    "P(A U B) = P(A) + P(B) - P(A ∩ B)"
   ]
  },
  {
   "cell_type": "code",
   "execution_count": null,
   "id": "a3bd2724",
   "metadata": {},
   "outputs": [],
   "source": [
    "import math"
   ]
  },
  {
   "cell_type": "code",
   "execution_count": 4,
   "id": "8e56d8dd",
   "metadata": {},
   "outputs": [
    {
     "data": {
      "text/plain": [
       "120"
      ]
     },
     "execution_count": 4,
     "metadata": {},
     "output_type": "execute_result"
    }
   ],
   "source": [
    "math.factorial(5)"
   ]
  },
  {
   "cell_type": "markdown",
   "id": "d1a027c2",
   "metadata": {},
   "source": [
    "Combination: A set of objects in which position (or order) is NOT important.\n",
    "𝑛𝑪𝑟=𝑛!/((𝑛−𝑟)!r!)"
   ]
  },
  {
   "cell_type": "code",
   "execution_count": 2,
   "id": "1755a2d4",
   "metadata": {},
   "outputs": [
    {
     "data": {
      "text/plain": [
       "210"
      ]
     },
     "execution_count": 2,
     "metadata": {},
     "output_type": "execute_result"
    }
   ],
   "source": [
    "math.comb(10, 4)"
   ]
  },
  {
   "cell_type": "markdown",
   "id": "9a495bd1",
   "metadata": {},
   "source": [
    "Permutation: A set of objects in which position (or order) is important.\n",
    "𝑛𝑃𝑟=𝑛!/(𝑛−𝑟)!"
   ]
  },
  {
   "cell_type": "code",
   "execution_count": 3,
   "id": "5337c84e",
   "metadata": {},
   "outputs": [
    {
     "data": {
      "text/plain": [
       "5040"
      ]
     },
     "execution_count": 3,
     "metadata": {},
     "output_type": "execute_result"
    }
   ],
   "source": [
    "math.perm(10, 4)"
   ]
  },
  {
   "cell_type": "markdown",
   "id": "6a282dfd",
   "metadata": {},
   "source": [
    "Permutation (Without repetition)\n",
    "How many ways we can select 3 players out of 5. The first selected becomes the captain, second the vice captain and third the treasurer.\n",
    "𝑛𝑃𝑟=𝑛!/(𝑛−𝑟)!\n",
    "𝟓𝑃𝟑=𝟓!/(𝟓−𝟑)!= 5 x 4 x 3 = 60\n",
    "Python code:\n",
    "math.perm(5, 3)\n",
    "\n",
    "Combination (Without repetition):\n",
    "How many ways we can select 3 players out of 5\n",
    "𝑛𝑪𝑟=𝑛!/((𝑛−𝑟)!r!)\n",
    "𝟓𝑪𝟑=5!/((5−3)!3!)\n",
    "𝟓𝑪𝟑=(5x4x3)/(3x2x1)= 10\n",
    "Python code:\n",
    "math.comb(5, 3)\n",
    "\n",
    "Permutation (With repetition):\n",
    "Ex: In case of the lock, total permutations are \n",
    "10 x 10 x 10 x 10 = 10,000\n",
    "n**r\n",
    "Python code:\n",
    "math.pow(10, 4)\n",
    "\n",
    "Combination (With repetition):\n",
    "e.g. In the store there are 5 varieties of juice bottles. You want to buy 3 bottles. How many possible combinations you can buy?\n",
    "(𝑟+𝑛−1)!/(𝑟!(𝑛−1)!) = (5+3−1)!/(3!(5−1)!) = 7!/(3!4!) = (7x6x5)/(3x2x1)= 35\n",
    "Python code:\n",
    "n = 5\n",
    "r = 3\n",
    "Math.factorial(r+n 1)/( math.factorial (r) * math.factorial (n-1))\n"
   ]
  },
  {
   "cell_type": "markdown",
   "id": "7fc6e23d",
   "metadata": {},
   "source": [
    "### Generating random data"
   ]
  },
  {
   "cell_type": "code",
   "execution_count": 6,
   "id": "d64c0fc7",
   "metadata": {},
   "outputs": [],
   "source": [
    "import numpy as np"
   ]
  },
  {
   "cell_type": "code",
   "execution_count": 15,
   "id": "697f3fb1",
   "metadata": {},
   "outputs": [],
   "source": [
    "np.random.seed(555)"
   ]
  },
  {
   "cell_type": "code",
   "execution_count": 16,
   "id": "13a2d42d",
   "metadata": {},
   "outputs": [
    {
     "data": {
      "text/plain": [
       "0.7178340874802498"
      ]
     },
     "execution_count": 16,
     "metadata": {},
     "output_type": "execute_result"
    }
   ],
   "source": [
    "np.random.rand()"
   ]
  },
  {
   "cell_type": "code",
   "execution_count": 17,
   "id": "8b9c3a80",
   "metadata": {},
   "outputs": [
    {
     "data": {
      "text/plain": [
       "array([0.04785513, 0.94447198, 0.68638004, 0.58120733, 0.14267862])"
      ]
     },
     "execution_count": 17,
     "metadata": {},
     "output_type": "execute_result"
    }
   ],
   "source": [
    "np.random.rand(5)"
   ]
  },
  {
   "cell_type": "code",
   "execution_count": 18,
   "id": "ba70460a",
   "metadata": {},
   "outputs": [
    {
     "data": {
      "text/plain": [
       "array([ True, False,  True, False, False])"
      ]
     },
     "execution_count": 18,
     "metadata": {},
     "output_type": "execute_result"
    }
   ],
   "source": [
    "np.random.rand(5) > 0.5"
   ]
  },
  {
   "cell_type": "code",
   "execution_count": 19,
   "id": "6c05b4e8",
   "metadata": {},
   "outputs": [
    {
     "data": {
      "text/plain": [
       "3"
      ]
     },
     "execution_count": 19,
     "metadata": {},
     "output_type": "execute_result"
    }
   ],
   "source": [
    "sum(np.random.rand(5) > 0.5)"
   ]
  },
  {
   "cell_type": "code",
   "execution_count": 24,
   "id": "69c61489",
   "metadata": {},
   "outputs": [
    {
     "data": {
      "text/plain": [
       "array([[0.88934684, 0.00672514],\n",
       "       [0.73890815, 0.0243215 ],\n",
       "       [0.38399227, 0.33956515],\n",
       "       [0.97225938, 0.19026287],\n",
       "       [0.40956248, 0.94314901]])"
      ]
     },
     "execution_count": 24,
     "metadata": {},
     "output_type": "execute_result"
    }
   ],
   "source": [
    "# Multidimensional array\n",
    "np.random.rand(5, 2)"
   ]
  },
  {
   "cell_type": "code",
   "execution_count": 28,
   "id": "b3162bcb",
   "metadata": {},
   "outputs": [
    {
     "data": {
      "text/plain": [
       "array([0, 0, 0, 1, 0, 0, 1, 0, 1, 0])"
      ]
     },
     "execution_count": 28,
     "metadata": {},
     "output_type": "execute_result"
    }
   ],
   "source": [
    "# Flipping 10 coins\n",
    "np.random.randint(low=0, high=2, size=10)"
   ]
  },
  {
   "cell_type": "code",
   "execution_count": 29,
   "id": "5273f984",
   "metadata": {},
   "outputs": [
    {
     "data": {
      "text/plain": [
       "4"
      ]
     },
     "execution_count": 29,
     "metadata": {},
     "output_type": "execute_result"
    }
   ],
   "source": [
    "sum(np.random.randint(low=0, high=2, size=10))"
   ]
  },
  {
   "cell_type": "code",
   "execution_count": 36,
   "id": "c9bb0d27",
   "metadata": {},
   "outputs": [
    {
     "data": {
      "text/plain": [
       "array([3, 6, 6, 5, 6, 6, 5, 3, 6, 6])"
      ]
     },
     "execution_count": 36,
     "metadata": {},
     "output_type": "execute_result"
    }
   ],
   "source": [
    "# rolling a dice 10 times\n",
    "np.random.randint(low=1, high=7, size=10)"
   ]
  },
  {
   "cell_type": "code",
   "execution_count": 31,
   "id": "1843d0ad",
   "metadata": {},
   "outputs": [],
   "source": [
    "import matplotlib.pyplot as plt\n",
    "import seaborn as sns"
   ]
  },
  {
   "cell_type": "code",
   "execution_count": 37,
   "id": "60a98ce5",
   "metadata": {},
   "outputs": [
    {
     "data": {
      "image/png": "[encoded data removed]",
      "text/plain": [
       "<Figure size 432x288 with 1 Axes>"
      ]
     },
     "metadata": {},
     "output_type": "display_data"
    },
    {
     "name": "stdout",
     "output_type": "stream",
     "text": [
      "[4 5 4 ... 5 5 3]\n"
     ]
    }
   ],
   "source": [
    "# CHecking the rolling of a dice experiment 6000 times, \n",
    "# what is the count of getting each digit\n",
    "sns.set_theme(style=\"whitegrid\")\n",
    "output = np.random.randint(low=1, high=7, size=6000)\n",
    "sns.countplot(x=output)\n",
    "plt.show()\n",
    "print(output)"
   ]
  },
  {
   "cell_type": "markdown",
   "id": "47351996",
   "metadata": {},
   "source": [
    "#### Question: Couple of dice are rolled, What is the Probability of getting a sum of numbers greater than 7?"
   ]
  },
  {
   "cell_type": "code",
   "execution_count": 43,
   "id": "5ed30a0f",
   "metadata": {},
   "outputs": [
    {
     "name": "stdout",
     "output_type": "stream",
     "text": [
      "\n",
      "Couple of dice are rolled, What is the Probability of getting \n",
      "a sum of numbers greater than 7 is 0.416943\n",
      "416943\n",
      "-------------------\n",
      "1000000\n"
     ]
    }
   ],
   "source": [
    "total_opportunities = 0\n",
    "no_event_greater7 = 0\n",
    "for i in range(0, 1000000):\n",
    "    dice1_output = np.random.randint(low=1, high=7, size=1)\n",
    "    dice2_output = np.random.randint(low=1, high=7, size=1)\n",
    "    if (dice1_output + dice2_output) > 7:\n",
    "        no_event_greater7 += 1\n",
    "    total_opportunities += 1\n",
    "    \n",
    "print(f\"\"\"\n",
    "Couple of dice are rolled, What is the Probability of getting \n",
    "a sum of numbers greater than 7 is {no_event_greater7/total_opportunities}\n",
    "{no_event_greater7}\n",
    "-------------------\n",
    "{total_opportunities}\"\"\")"
   ]
  },
  {
   "cell_type": "code",
   "execution_count": null,
   "id": "fdebb607",
   "metadata": {},
   "outputs": [],
   "source": [
    "dice_output"
   ]
  },
  {
   "cell_type": "code",
   "execution_count": null,
   "id": "1dd2829e",
   "metadata": {},
   "outputs": [],
   "source": []
  }
 ],
 "metadata": {
  "kernelspec": {
   "display_name": "Python 3",
   "language": "python",
   "name": "python3"
  },
  "language_info": {
   "codemirror_mode": {
    "name": "ipython",
    "version": 3
   },
   "file_extension": ".py",
   "mimetype": "text/x-python",
   "name": "python",
   "nbconvert_exporter": "python",
   "pygments_lexer": "ipython3",
   "version": "3.9.4"
  }
 },
 "nbformat": 4,
 "nbformat_minor": 5
}
