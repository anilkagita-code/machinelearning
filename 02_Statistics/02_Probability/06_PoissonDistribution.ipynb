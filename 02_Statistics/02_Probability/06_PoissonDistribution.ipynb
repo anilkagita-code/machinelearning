{
 "cells": [
  {
   "cell_type": "markdown",
   "id": "6d769b4a",
   "metadata": {},
   "source": [
    "# Poisson Distribution"
   ]
  },
  {
   "cell_type": "markdown",
   "id": "16e407de",
   "metadata": {},
   "source": [
    "## Problem Statement \n",
    "Given that a bank has a footfall of 6 people per minute, find out the\n",
    "\n",
    "a) probability distribution for upto 20 people per minute<br> b) probability of at least 4 people per minute"
   ]
  },
  {
   "cell_type": "code",
   "execution_count": 2,
   "id": "b459611a",
   "metadata": {},
   "outputs": [],
   "source": [
    "import numpy as np\n",
    "import scipy.stats as stats\n",
    "import matplotlib.pyplot as plt"
   ]
  },
  {
   "cell_type": "code",
   "execution_count": 3,
   "id": "c3b0b2bb",
   "metadata": {},
   "outputs": [],
   "source": [
    "# Since the rate is 6 people per minute\n",
    "rate = 6"
   ]
  },
  {
   "cell_type": "code",
   "execution_count": 4,
   "id": "0b096c71",
   "metadata": {},
   "outputs": [
    {
     "data": {
      "text/plain": [
       "array([2.47875218e-03, 1.48725131e-02, 4.46175392e-02, 8.92350784e-02,\n",
       "       1.33852618e-01, 1.60623141e-01, 1.60623141e-01, 1.37676978e-01,\n",
       "       1.03257734e-01, 6.88384890e-02, 4.13030934e-02, 2.25289600e-02,\n",
       "       1.12644800e-02, 5.19899078e-03, 2.22813891e-03, 8.91255562e-04,\n",
       "       3.34220836e-04, 1.17960295e-04, 3.93200983e-05, 1.24168732e-05])"
      ]
     },
     "execution_count": 4,
     "metadata": {},
     "output_type": "execute_result"
    }
   ],
   "source": [
    "# Since we are meausing the customer upto 20 people per minute, lets generate the poisson dist from 0 to 19\n",
    "n = np.arange(0, 20)\n",
    "poisson_dist = stats.poisson.pmf(n, rate)\n",
    "poisson_dist"
   ]
  },
  {
   "cell_type": "code",
   "execution_count": 5,
   "id": "fa3b5e61",
   "metadata": {},
   "outputs": [
    {
     "data": {
      "image/png": "[encoded data removed]",
      "text/plain": [
       "<Figure size 432x288 with 1 Axes>"
      ]
     },
     "metadata": {
      "needs_background": "light"
     },
     "output_type": "display_data"
    }
   ],
   "source": [
    "# Lets plot the distribution\n",
    "plt.plot(n, poisson_dist, 'o-')\n",
    "plt.title('Poisson with $\\lambda$ = {}'.format(rate))\n",
    "plt.xlabel('No of Customer arriving in a minute')\n",
    "plt.ylabel('Probability')\n",
    "plt.show()"
   ]
  },
  {
   "cell_type": "code",
   "execution_count": 11,
   "id": "960f1cb9",
   "metadata": {},
   "outputs": [
    {
     "name": "stdout",
     "output_type": "stream",
     "text": [
      "0.9999948198310626\n"
     ]
    }
   ],
   "source": [
    "# a) probability distribution for upto 20 people per minute\n",
    "p_upto=0\n",
    "for i in range(20):\n",
    "    p_upto = p_upto + poisson_dist[i]\n",
    "\n",
    "print(p_upto)"
   ]
  },
  {
   "cell_type": "code",
   "execution_count": 6,
   "id": "9fd5920e",
   "metadata": {},
   "outputs": [
    {
     "data": {
      "text/plain": [
       "0.8487961172233521"
      ]
     },
     "execution_count": 6,
     "metadata": {},
     "output_type": "execute_result"
    }
   ],
   "source": [
    "# b) probability of at least 4 people per minute\n",
    "\n",
    "p_4atleast = 1- (poisson_dist[0] + poisson_dist[1]+poisson_dist[2]+poisson_dist[3])\n",
    "p_4atleast"
   ]
  },
  {
   "cell_type": "code",
   "execution_count": null,
   "id": "52397ea4",
   "metadata": {},
   "outputs": [],
   "source": []
  },
  {
   "cell_type": "code",
   "execution_count": null,
   "id": "0966c8b0",
   "metadata": {},
   "outputs": [],
   "source": []
  },
  {
   "cell_type": "code",
   "execution_count": null,
   "id": "69f5d151",
   "metadata": {},
   "outputs": [],
   "source": []
  }
 ],
 "metadata": {
  "kernelspec": {
   "display_name": "Python 3",
   "language": "python",
   "name": "python3"
  },
  "language_info": {
   "codemirror_mode": {
    "name": "ipython",
    "version": 3
   },
   "file_extension": ".py",
   "mimetype": "text/x-python",
   "name": "python",
   "nbconvert_exporter": "python",
   "pygments_lexer": "ipython3",
   "version": "3.9.4"
  }
 },
 "nbformat": 4,
 "nbformat_minor": 5
}
