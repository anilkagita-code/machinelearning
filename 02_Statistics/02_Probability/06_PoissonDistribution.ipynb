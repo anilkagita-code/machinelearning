{
 "cells": [
  {
   "cell_type": "markdown",
   "id": "6d769b4a",
   "metadata": {},
   "source": [
    "# Poisson Distribution"
   ]
  },
  {
   "cell_type": "code",
   "execution_count": 1,
   "id": "805f8c79",
   "metadata": {},
   "outputs": [],
   "source": [
    "import numpy as np\n",
    "import math\n",
    "import scipy.stats as stats\n",
    "import matplotlib.pyplot as plt\n",
    "import seaborn as sns"
   ]
  },
  {
   "cell_type": "raw",
   "id": "bb737324",
   "metadata": {},
   "source": [
    "Similarities with Binomial Distribution:\n",
    "\t• Both are for discrete distribution\n",
    "\t• Both measure the number of successes\n",
    "Differences:\n",
    "\t• In Poisson distribution the possibilities of success are infinite.\n",
    "\n",
    "A Poisson experiment has the following properties:\n",
    "\t• The experiment results in outcomes that can be classified as successes or failures.\n",
    "\t• The average number of successes (μ) that occurs in a specified region is known.\n",
    "\t• Outcomes are random. Occurrence of one outcome does not influence the chance of another outcome of interest.\n",
    "\t• The outcomes of interest are rare relative to the possible outcomes.\n",
    "\t\t○ Example: Road accidents, queue at the counter\n",
    "\n",
    "P(x,μ)=e−μ⋅μx/x!\n",
    "\n",
    "e : A constant equal to approximately 2.71828. (Actually, e is the base of the natural logarithm system)\n",
    "μ: The mean number of successes that occur in a specified region.\n",
    "x : The actual number of successes that occur in a specified region.\n",
    "P( x ; μ): The Poisson probability that exactly x successes occur in a Poisson experiment, when the mean number of successes is μ.\n"
   ]
  },
  {
   "attachments": {
    "image.png": {
     "image/png": "[encoded data removed]"
    }
   },
   "cell_type": "markdown",
   "id": "05a55dbf",
   "metadata": {},
   "source": [
    "![image.png](attachment:image.png)"
   ]
  },
  {
   "cell_type": "markdown",
   "id": "c4f64f95",
   "metadata": {},
   "source": [
    "The Poisson distribution has the following properties:\n",
    "* The mean of the distribution is equal to μ .\n",
    "* The variance is also equal to μ ."
   ]
  },
  {
   "cell_type": "markdown",
   "id": "db83e29c",
   "metadata": {},
   "source": [
    "## Problems"
   ]
  },
  {
   "cell_type": "markdown",
   "id": "fd3d3822",
   "metadata": {},
   "source": [
    "### Question:\n",
    "On a booking counter on the average 3.6 people come every 10 minutes on weekends. What is the probability of getting 7 people in 10 minutes?"
   ]
  },
  {
   "cell_type": "markdown",
   "id": "307502d4",
   "metadata": {},
   "source": [
    "#### Solution 1:\n",
    "Using math"
   ]
  },
  {
   "cell_type": "code",
   "execution_count": 2,
   "id": "30ab7c2c",
   "metadata": {},
   "outputs": [
    {
     "data": {
      "text/plain": [
       "0.04248414026930939"
      ]
     },
     "execution_count": 2,
     "metadata": {},
     "output_type": "execute_result"
    }
   ],
   "source": [
    "# P(x,μ)=e−μ⋅μx/x!\n",
    "x = 7\n",
    "mu = 3.6\n",
    "p_of_seven_math = math.exp(-mu) * mu**x / math.factorial(7)\n",
    "p_of_seven_math"
   ]
  },
  {
   "cell_type": "markdown",
   "id": "347744ca",
   "metadata": {},
   "source": [
    "#### Solution 2:\n",
    "Using numpy"
   ]
  },
  {
   "cell_type": "code",
   "execution_count": 7,
   "id": "21819201",
   "metadata": {},
   "outputs": [
    {
     "data": {
      "text/plain": [
       "array([3, 3, 3, 4, 2, 5, 3, 4, 0, 4])"
      ]
     },
     "execution_count": 7,
     "metadata": {},
     "output_type": "execute_result"
    }
   ],
   "source": [
    "# Generating Poisson random number based on lambda/mean=3.6 \n",
    "np.random.poisson(lam=3.6, size=10)"
   ]
  },
  {
   "cell_type": "code",
   "execution_count": 8,
   "id": "9c0eae81",
   "metadata": {},
   "outputs": [
    {
     "data": {
      "text/plain": [
       "array([ 4,  5,  3,  5,  5,  1,  2,  6,  1,  1,  2,  3,  3,  1,  2,  2,  2,\n",
       "        2,  6,  3,  5,  4,  3,  6,  5,  5,  2,  4,  1,  4,  4,  2,  5,  6,\n",
       "        2,  0,  8,  3,  5,  7,  6,  3,  6,  1,  4,  5,  1,  4,  2,  8,  3,\n",
       "        1,  0,  2,  4,  3,  3,  5,  2,  5,  5,  1,  1,  5,  5,  3,  1,  7,\n",
       "        4,  5,  2,  4,  6,  2,  2,  0,  3,  1,  2,  4,  2,  3,  1,  6,  6,\n",
       "        8,  1,  5,  3,  3,  3,  6,  1,  0,  5,  5,  2,  1,  4,  3,  0,  5,\n",
       "        0,  5,  4,  6,  3,  0,  4,  3,  2,  2,  5,  6,  3,  0,  4,  5,  2,\n",
       "        3,  3,  6,  3,  5,  6,  3,  4,  6,  5,  7,  7,  5,  3,  3,  3,  6,\n",
       "        8,  4,  3,  2,  2,  5,  4,  3,  1,  4,  1,  3,  1,  4,  3,  4,  1,\n",
       "        4,  2,  3,  2,  3,  2,  2,  5,  3,  4,  2,  2,  2,  1,  4,  5,  3,\n",
       "        2,  2,  4,  5,  7,  4,  5,  2,  3,  2,  5,  5,  3,  1,  1,  3,  6,\n",
       "        3,  4,  6,  5,  5,  4,  3,  2,  4,  2,  3,  5,  0,  1,  3,  3,  5,\n",
       "        2,  3,  8,  2,  4, 11,  4,  4,  4,  5,  4,  4,  7,  3,  3,  5,  3,\n",
       "        3,  3,  1,  3,  3,  3,  4,  4,  6,  3,  8,  6,  6,  4,  2,  4,  3,\n",
       "        7,  0,  1,  7,  5,  2,  4,  3,  4,  3,  1,  5,  3,  7,  4,  3,  6,\n",
       "        2,  4,  2,  3,  1,  8,  2,  3,  5,  4,  1,  9,  6,  2,  2,  2,  3,\n",
       "        3,  5,  9,  2,  4,  0,  8,  5,  3,  2,  7,  2,  5,  2,  4,  5,  2,\n",
       "        4,  2,  5,  6,  3,  5,  1,  5,  1,  3,  3,  3,  1,  3,  2,  4,  3,\n",
       "        6,  7,  4,  7,  3,  2,  1,  3,  4,  4,  3,  7,  3,  3,  5,  3,  5,\n",
       "        6,  4,  3,  8,  5,  4,  5,  2,  4,  3,  2,  3,  1,  4,  3,  5,  2,\n",
       "        4,  3,  7,  3,  9,  5,  5,  3,  4,  2,  2,  3,  5,  5,  5,  6,  4,\n",
       "        1,  5,  1,  4,  4,  1,  5,  1,  2,  4,  2,  4, 12,  1,  4,  4,  2,\n",
       "        6,  1,  1,  5,  3,  5,  4,  1,  7,  1,  7,  2,  3,  4,  3,  5,  2,\n",
       "        2,  4,  2,  5,  8,  4,  4,  4,  4,  4,  2,  8,  4,  5,  3,  4,  2,\n",
       "        5,  4,  4,  5,  4,  4,  6,  6,  1,  6,  3,  3,  2,  3,  4,  3,  3,\n",
       "        1,  2,  4,  4,  3,  3,  6,  5,  3,  3,  4,  5,  4,  3,  5,  3,  5,\n",
       "        3,  4,  7,  5,  4,  4,  2,  3,  1,  8,  5,  7,  3,  6,  4,  2,  8,\n",
       "        2,  3,  3,  3,  3,  7,  5,  3,  3,  2,  3,  2,  4,  4,  2,  3,  2,\n",
       "        5,  3,  2,  2,  6,  6,  3,  2,  4,  2,  4,  6,  4,  6,  3,  1,  7,\n",
       "        1,  5,  3,  3,  5,  6,  6,  2,  1,  2,  8,  4,  3,  3,  5,  3,  6,\n",
       "        5,  4,  4,  2,  1,  4,  2,  3,  2,  4,  2,  2,  1,  3,  1,  3,  5,\n",
       "        5,  1,  7,  7,  2,  5,  4,  1,  6,  2,  3,  2,  4,  1,  4,  3,  8,\n",
       "        0,  7,  3,  1,  3,  0,  5,  4,  4,  5,  3,  2,  3,  3,  5,  4,  1,\n",
       "        4,  4,  5,  2,  6,  2,  5,  3,  4,  8,  3,  2,  4,  5,  2,  8,  3,\n",
       "        3,  3,  4,  2,  4,  6,  3,  3,  1,  4,  1,  3,  4,  4,  3,  4,  3,\n",
       "        3,  2,  6,  6,  3,  1,  2,  0,  2,  3,  6,  3,  4,  2,  3,  3,  8,\n",
       "        2,  3,  2,  5,  2,  0,  4,  3,  3,  4,  3,  7,  2,  1,  4,  4,  3,\n",
       "        0,  5,  4,  5,  4,  5,  1,  3,  2,  2,  3,  3,  4,  4,  1,  6,  3,\n",
       "        4,  5,  5,  3,  3,  3,  7,  3,  5,  3,  1,  8,  0,  2,  2,  2,  3,\n",
       "        5,  4,  2,  2,  1,  5,  3,  4,  5,  3,  2,  5,  3,  4,  8,  3,  3,\n",
       "        2,  3,  4,  6,  7,  7,  4,  3,  4,  3,  6,  1,  6,  5,  5,  3,  4,\n",
       "        3,  4,  4,  3,  5,  6,  5,  4,  6,  2,  4,  6,  5,  1,  1,  3,  2,\n",
       "        1,  3,  5,  3,  6,  4,  1,  1,  7,  2,  3,  5,  3,  2,  5,  4,  5,\n",
       "        1,  3,  2,  2,  4,  5,  3,  4,  3,  2,  1,  5,  4,  3,  4,  4,  6,\n",
       "        2,  2,  5,  4,  1,  6,  4,  2,  4,  1,  3,  3,  7,  4,  5,  1,  3,\n",
       "        7,  4,  5,  2,  3,  2,  1,  5,  5,  3,  2,  2,  6,  8,  3,  4,  3,\n",
       "        1,  6,  4,  2,  2,  4,  2,  4,  2,  2,  2,  5,  3,  5,  3,  1,  2,\n",
       "        4,  2,  2,  3,  2,  3,  2,  6,  4,  4,  4,  4,  5,  4,  3,  0,  4,\n",
       "        3,  3,  2,  2,  3,  4,  0,  3,  3,  4,  1,  4,  4,  0,  3,  3,  6,\n",
       "        0,  6,  2,  4,  4,  3,  3,  4,  1,  1,  2,  2,  2,  5,  6,  0,  3,\n",
       "        5,  1,  5,  4,  2,  3,  1,  5,  3,  3,  2,  3,  4,  5,  2,  5,  7,\n",
       "        0,  5,  1,  2,  4,  6,  4,  3,  3,  1,  5,  1,  4,  3,  3,  3,  3,\n",
       "        3,  7,  5,  4,  3,  1,  5,  1,  3,  5,  2,  4,  2,  3,  0,  7,  2,\n",
       "        6,  3,  6,  1,  3,  3,  4,  0,  3,  5,  1,  4,  6,  0,  8,  1,  6,\n",
       "        4,  6,  5,  4,  2,  2,  5,  4,  2,  3,  3,  5,  5,  1,  3,  5,  4,\n",
       "        5,  3,  4,  4,  2,  3,  2,  4,  0,  3,  1,  5,  6,  1,  5,  7,  8,\n",
       "        6,  4,  3,  3,  4,  5,  2,  3,  4,  4,  4,  5,  3,  7,  4,  7,  5,\n",
       "        3,  4,  3,  5,  2,  2,  5,  2,  7,  1,  5,  3,  3,  6,  7,  4,  3,\n",
       "        3,  7,  3,  5,  4,  3,  6,  6,  2,  1,  4,  5,  3,  2])"
      ]
     },
     "execution_count": 8,
     "metadata": {},
     "output_type": "execute_result"
    }
   ],
   "source": [
    "booking_q_size = np.random.poisson(lam=3.6, size=1000)\n",
    "booking_q_size"
   ]
  },
  {
   "cell_type": "code",
   "execution_count": 10,
   "id": "748c96fa",
   "metadata": {},
   "outputs": [
    {
     "data": {
      "image/png": "[encoded data removed]",
      "text/plain": [
       "<Figure size 432x288 with 1 Axes>"
      ]
     },
     "metadata": {},
     "output_type": "display_data"
    }
   ],
   "source": [
    "sns.set_style(style='darkgrid')\n",
    "sns.countplot(x=booking_q_size)\n",
    "plt.show()"
   ]
  },
  {
   "cell_type": "code",
   "execution_count": 14,
   "id": "d59e9862",
   "metadata": {},
   "outputs": [
    {
     "name": "stdout",
     "output_type": "stream",
     "text": [
      "\n",
      "The probability of getting 7 people in 10 minutes when the mean is 3.6 people is\n",
      "Using Stats PMF: 0.04248414026930935\n",
      "or\n",
      "Using Np Formula: 0.04248414026930939\n"
     ]
    }
   ],
   "source": [
    "p_of_seven_stats = stats.poisson.pmf(k=7, mu=3.6)\n",
    "print(f\"\"\"\n",
    "The probability of getting 7 people in 10 minutes when the mean is 3.6 people is\n",
    "Using Stats PMF: {p_of_seven_stats}\n",
    "or\n",
    "Using Np Formula: {p_of_seven_math}\"\"\")"
   ]
  },
  {
   "cell_type": "code",
   "execution_count": 16,
   "id": "b459611a",
   "metadata": {},
   "outputs": [
    {
     "name": "stdout",
     "output_type": "stream",
     "text": [
      "\n",
      "The probability of getting less than or equal to 7 people in 10 minutes when the mean is 3.6 people is\n",
      "Using Stats CDF: 0.9692107246403425\n",
      "or\n",
      "Using Stats PMF: 0.9692107246403422\n"
     ]
    }
   ],
   "source": [
    "print(f\"\"\"\n",
    "The probability of getting less than or equal to 7 people in 10 minutes when the mean is 3.6 people is\n",
    "Using Stats CDF: {stats.poisson.cdf(k=7, mu=3.6)}\n",
    "or\n",
    "Using Stats PMF: {sum([stats.poisson.pmf(k=k, mu=3.6) for k in np.arange(0, 8)])}\"\"\")"
   ]
  },
  {
   "cell_type": "code",
   "execution_count": 18,
   "id": "aec5542d",
   "metadata": {},
   "outputs": [
    {
     "name": "stdout",
     "output_type": "stream",
     "text": [
      "\n",
      "The probability of getting more than 7 people in 10 minutes when the mean is 3.6 people is\n",
      "Using Stats CDF: 0.030789275359657475\n",
      "or\n",
      "Using Stats PMF: 0.030789275359657444\n"
     ]
    }
   ],
   "source": [
    "print(f\"\"\"\n",
    "The probability of getting more than 7 people in 10 minutes when the mean is 3.6 people is\n",
    "Using Stats CDF: {1- stats.poisson.cdf(k=7, mu=3.6)}\n",
    "or\n",
    "Using Stats PMF: {stats.poisson.sf(k=7, mu=3.6)}\"\"\")"
   ]
  },
  {
   "cell_type": "code",
   "execution_count": 13,
   "id": "197faa6b",
   "metadata": {},
   "outputs": [
    {
     "data": {
      "text/plain": [
       "3.6"
      ]
     },
     "execution_count": 13,
     "metadata": {},
     "output_type": "execute_result"
    }
   ],
   "source": [
    "stats.poisson.mean(mu=3.6)"
   ]
  },
  {
   "cell_type": "code",
   "execution_count": 14,
   "id": "f9ba6ce0",
   "metadata": {},
   "outputs": [
    {
     "data": {
      "text/plain": [
       "3.6"
      ]
     },
     "execution_count": 14,
     "metadata": {},
     "output_type": "execute_result"
    }
   ],
   "source": [
    "stats.poisson.var(mu=3.6)"
   ]
  },
  {
   "cell_type": "code",
   "execution_count": 15,
   "id": "db5a9185",
   "metadata": {},
   "outputs": [
    {
     "data": {
      "text/plain": [
       "1.8973665961010275"
      ]
     },
     "execution_count": 15,
     "metadata": {},
     "output_type": "execute_result"
    }
   ],
   "source": [
    "stats.poisson.std(mu=3.6)"
   ]
  },
  {
   "cell_type": "code",
   "execution_count": 20,
   "id": "f25ea1cc",
   "metadata": {},
   "outputs": [
    {
     "data": {
      "image/png": "[encoded data removed]",
      "text/plain": [
       "<Figure size 432x288 with 1 Axes>"
      ]
     },
     "metadata": {},
     "output_type": "display_data"
    }
   ],
   "source": [
    "sns.set_style(style='darkgrid')\n",
    "sns.lineplot(x=np.arange(0, 11), y=stats.poisson.pmf(k=np.arange(0, 11), mu=3.6))\n",
    "plt.show()"
   ]
  },
  {
   "cell_type": "code",
   "execution_count": 21,
   "id": "126e3e64",
   "metadata": {},
   "outputs": [
    {
     "data": {
      "image/png": "[encoded data removed]",
      "text/plain": [
       "<Figure size 432x288 with 1 Axes>"
      ]
     },
     "metadata": {},
     "output_type": "display_data"
    }
   ],
   "source": [
    "sns.set_style(style='darkgrid')\n",
    "sns.lineplot(x=np.arange(0, 11), y=stats.poisson.pmf(k=np.arange(0, 11), mu=3.6))\n",
    "sns.barplot(x=np.arange(0, 11), y=stats.poisson.cdf(k=np.arange(0, 11), mu=3.6))\n",
    "plt.show()"
   ]
  },
  {
   "cell_type": "markdown",
   "id": "16e407de",
   "metadata": {},
   "source": [
    "## Problem Statement \n",
    "Given that a bank has a footfall of 6 people per minute, find out the\n",
    "\n",
    "a) probability distribution for upto 20 people per minute<br> b) probability of at least 4 people per minute"
   ]
  },
  {
   "cell_type": "code",
   "execution_count": 3,
   "id": "c3b0b2bb",
   "metadata": {},
   "outputs": [],
   "source": [
    "# Since the rate is 6 people per minute\n",
    "rate = 6"
   ]
  },
  {
   "cell_type": "code",
   "execution_count": 4,
   "id": "0b096c71",
   "metadata": {},
   "outputs": [
    {
     "data": {
      "text/plain": [
       "array([2.47875218e-03, 1.48725131e-02, 4.46175392e-02, 8.92350784e-02,\n",
       "       1.33852618e-01, 1.60623141e-01, 1.60623141e-01, 1.37676978e-01,\n",
       "       1.03257734e-01, 6.88384890e-02, 4.13030934e-02, 2.25289600e-02,\n",
       "       1.12644800e-02, 5.19899078e-03, 2.22813891e-03, 8.91255562e-04,\n",
       "       3.34220836e-04, 1.17960295e-04, 3.93200983e-05, 1.24168732e-05])"
      ]
     },
     "execution_count": 4,
     "metadata": {},
     "output_type": "execute_result"
    }
   ],
   "source": [
    "# Since we are meausing the customer upto 20 people per minute, lets generate the poisson dist from 0 to 19\n",
    "n = np.arange(0, 20)\n",
    "poisson_dist = stats.poisson.pmf(n, rate)\n",
    "poisson_dist"
   ]
  },
  {
   "cell_type": "code",
   "execution_count": 5,
   "id": "fa3b5e61",
   "metadata": {},
   "outputs": [
    {
     "data": {
      "image/png": "[encoded data removed]",
      "text/plain": [
       "<Figure size 432x288 with 1 Axes>"
      ]
     },
     "metadata": {
      "needs_background": "light"
     },
     "output_type": "display_data"
    }
   ],
   "source": [
    "# Lets plot the distribution\n",
    "plt.plot(n, poisson_dist, 'o-')\n",
    "plt.title('Poisson with $\\lambda$ = {}'.format(rate))\n",
    "plt.xlabel('No of Customer arriving in a minute')\n",
    "plt.ylabel('Probability')\n",
    "plt.show()"
   ]
  },
  {
   "cell_type": "markdown",
   "id": "bcef7c54",
   "metadata": {},
   "source": [
    "#### a) probability distribution for upto 20 people per minute"
   ]
  },
  {
   "cell_type": "code",
   "execution_count": 6,
   "id": "960f1cb9",
   "metadata": {},
   "outputs": [
    {
     "name": "stdout",
     "output_type": "stream",
     "text": [
      "0.9999948198310626\n"
     ]
    }
   ],
   "source": [
    "p_upto=0\n",
    "for i in range(20):\n",
    "    p_upto = p_upto + poisson_dist[i]\n",
    "\n",
    "print(p_upto)"
   ]
  },
  {
   "cell_type": "code",
   "execution_count": 7,
   "id": "a1e3289c",
   "metadata": {},
   "outputs": [
    {
     "data": {
      "text/plain": [
       "0.99999854489301"
      ]
     },
     "execution_count": 7,
     "metadata": {},
     "output_type": "execute_result"
    }
   ],
   "source": [
    "stats.poisson.cdf(k=20, mu=6)"
   ]
  },
  {
   "cell_type": "markdown",
   "id": "bbe3bfcd",
   "metadata": {},
   "source": [
    "#### b) probability of at least 4 people per minute"
   ]
  },
  {
   "cell_type": "code",
   "execution_count": 8,
   "id": "9fd5920e",
   "metadata": {},
   "outputs": [
    {
     "data": {
      "text/plain": [
       "0.8487961172233521"
      ]
     },
     "execution_count": 8,
     "metadata": {},
     "output_type": "execute_result"
    }
   ],
   "source": [
    "# Using PMF\n",
    "p_4atleast = 1- (poisson_dist[0] + poisson_dist[1]+poisson_dist[2]+poisson_dist[3])\n",
    "p_4atleast"
   ]
  },
  {
   "cell_type": "code",
   "execution_count": 10,
   "id": "52397ea4",
   "metadata": {},
   "outputs": [
    {
     "data": {
      "text/plain": [
       "0.8487961172233521"
      ]
     },
     "execution_count": 10,
     "metadata": {},
     "output_type": "execute_result"
    }
   ],
   "source": [
    "# Using CDF\n",
    "1 - stats.poisson.cdf(k=3, mu=6)"
   ]
  },
  {
   "cell_type": "code",
   "execution_count": 12,
   "id": "0966c8b0",
   "metadata": {},
   "outputs": [
    {
     "data": {
      "text/plain": [
       "0.8487961172233521"
      ]
     },
     "execution_count": 12,
     "metadata": {},
     "output_type": "execute_result"
    }
   ],
   "source": [
    "# Using SF\n",
    "stats.poisson.sf(k=3, mu=6)"
   ]
  },
  {
   "cell_type": "code",
   "execution_count": null,
   "id": "69f5d151",
   "metadata": {},
   "outputs": [],
   "source": []
  }
 ],
 "metadata": {
  "kernelspec": {
   "display_name": "Python 3",
   "language": "python",
   "name": "python3"
  },
  "language_info": {
   "codemirror_mode": {
    "name": "ipython",
    "version": 3
   },
   "file_extension": ".py",
   "mimetype": "text/x-python",
   "name": "python",
   "nbconvert_exporter": "python",
   "pygments_lexer": "ipython3",
   "version": "3.9.4"
  }
 },
 "nbformat": 4,
 "nbformat_minor": 5
}
