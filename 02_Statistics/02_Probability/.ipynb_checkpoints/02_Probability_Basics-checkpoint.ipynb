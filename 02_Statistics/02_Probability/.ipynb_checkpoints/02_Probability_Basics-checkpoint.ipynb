{
 "cells": [
  {
   "cell_type": "markdown",
   "id": "dedf03e3",
   "metadata": {},
   "source": [
    "# Probability"
   ]
  },
  {
   "cell_type": "markdown",
   "id": "d51f709d",
   "metadata": {},
   "source": [
    "Probability (P) = Number of the event occurs/ Total Number of possible events in the experiment\n",
    "\n",
    "Trial: Some experiment conducted to get a result.\n",
    "\n",
    "Outcome: Result of experiment\n",
    "\n",
    "Sample Space: A sample space of an experiment is the set of all possible results of that random experiment.\n"
   ]
  },
  {
   "cell_type": "markdown",
   "id": "e6403b46",
   "metadata": {},
   "source": [
    "### Sets"
   ]
  },
  {
   "cell_type": "markdown",
   "id": "e65bb6a8",
   "metadata": {},
   "source": [
    "Sets:\n",
    "Union: Probability that events A or B occur\n",
    "P(A U B)\n",
    "\n",
    "Intersection: Probability that events A and B occur\n",
    "P(A ∩ B)\n"
   ]
  },
  {
   "cell_type": "markdown",
   "id": "a57ba958",
   "metadata": {},
   "source": [
    "### Events"
   ]
  },
  {
   "cell_type": "markdown",
   "id": "5b1948cf",
   "metadata": {},
   "source": [
    "Mutually Exclusive Events: When two events cannot occur at the same time\n",
    "\n",
    "Independent Events: The occurrence of Event A does not change the probability of occurrence of Event B\n",
    "\n",
    "Complementary Events: The probability that Event A will NOT occur is denoted by P(A')."
   ]
  },
  {
   "cell_type": "markdown",
   "id": "7abcae7a",
   "metadata": {},
   "source": [
    "### Additive and Multiplicative law"
   ]
  },
  {
   "cell_type": "markdown",
   "id": "9a8c8194",
   "metadata": {},
   "source": [
    "Rule of Multiplication:\n",
    "The probability that Events A and B both occur = Probability that Event A occurs x Probability that Event B occurs, given that A has occurred\n",
    "P(A ∩ B) = P(A) P(B|A)\n",
    "\n",
    "Ex: In two rolls of dice what is the probability of getting 6 in both? (independent event)\n",
    "For independent events P(B|A) = P(B)\n",
    "P(A ∩ B) = P(A) P(B)\n",
    "P(A ∩ B) = 1/6 * 1/6 = 0.0278 or (1/36)\n",
    "\n",
    "Ex: There are 10 candies in the plate (5 Green, 2 Yellow, 2 Orange and 1 Red). If I pick 2 random ones, what is the probability of getting both Yellow?\n",
    "P(A ∩ B) = P(A) P(B|A)\n",
    "P(A ∩ B) = 2/10 * 1/9 = 0.0222 or (1/45)\n",
    "\n",
    "Rule of Addition:\n",
    "The probability that Event A or Event B occurs = Probability that Event A occurs + Probability that Event B occurs - Probability that both Events A and B occur\n",
    "P(A U B) = P(A) + P(B) - P(A ∩ B)"
   ]
  },
  {
   "cell_type": "code",
   "execution_count": null,
   "id": "924effc0",
   "metadata": {},
   "outputs": [],
   "source": [
    "import math"
   ]
  },
  {
   "cell_type": "code",
   "execution_count": 4,
   "id": "dde812a4",
   "metadata": {},
   "outputs": [
    {
     "data": {
      "text/plain": [
       "120"
      ]
     },
     "execution_count": 4,
     "metadata": {},
     "output_type": "execute_result"
    }
   ],
   "source": [
    "math.factorial(5)"
   ]
  },
  {
   "cell_type": "markdown",
   "id": "3b402da1",
   "metadata": {},
   "source": [
    "Combination: A set of objects in which position (or order) is NOT important.\n",
    "𝑛𝑪𝑟=𝑛!/((𝑛−𝑟)!r!)"
   ]
  },
  {
   "cell_type": "code",
   "execution_count": 2,
   "id": "947e3e75",
   "metadata": {},
   "outputs": [
    {
     "data": {
      "text/plain": [
       "210"
      ]
     },
     "execution_count": 2,
     "metadata": {},
     "output_type": "execute_result"
    }
   ],
   "source": [
    "math.comb(10, 4)"
   ]
  },
  {
   "cell_type": "markdown",
   "id": "99c05146",
   "metadata": {},
   "source": [
    "Permutation: A set of objects in which position (or order) is important.\n",
    "𝑛𝑃𝑟=𝑛!/(𝑛−𝑟)!"
   ]
  },
  {
   "cell_type": "code",
   "execution_count": 3,
   "id": "906f70c0",
   "metadata": {},
   "outputs": [
    {
     "data": {
      "text/plain": [
       "5040"
      ]
     },
     "execution_count": 3,
     "metadata": {},
     "output_type": "execute_result"
    }
   ],
   "source": [
    "math.perm(10, 4)"
   ]
  },
  {
   "cell_type": "code",
   "execution_count": null,
   "id": "26b4b4d2",
   "metadata": {},
   "outputs": [],
   "source": []
  }
 ],
 "metadata": {
  "kernelspec": {
   "display_name": "Python 3",
   "language": "python",
   "name": "python3"
  },
  "language_info": {
   "codemirror_mode": {
    "name": "ipython",
    "version": 3
   },
   "file_extension": ".py",
   "mimetype": "text/x-python",
   "name": "python",
   "nbconvert_exporter": "python",
   "pygments_lexer": "ipython3",
   "version": "3.9.4"
  }
 },
 "nbformat": 4,
 "nbformat_minor": 5
}
