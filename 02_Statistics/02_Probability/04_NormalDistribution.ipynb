{
 "cells": [
  {
   "cell_type": "markdown",
   "id": "06453580",
   "metadata": {},
   "source": [
    "# Normal Distribution"
   ]
  },
  {
   "cell_type": "markdown",
   "id": "70140739",
   "metadata": {},
   "source": [
    "### Problem Statement\n",
    "The mean weight of a morning breakfast cereal pack is 0.295 kg with a standard deviation of 0.025 kg. The random variable weight of the pack follows a normal distribution. \n",
    "\n",
    "a)What is the probability that the pack weighs less than 0.280 kg? \n",
    "\n",
    "b)What is the probability that the pack weighs more than 0.350 kg? \n",
    "\n",
    "c)What is the probability that the pack weighs between 0.260 kg to 0.340 kg? "
   ]
  },
  {
   "cell_type": "code",
   "execution_count": 4,
   "id": "a31d053d",
   "metadata": {},
   "outputs": [],
   "source": [
    "import numpy as np\n",
    "import scipy.stats as stats\n",
    "import matplotlib.pyplot as plt"
   ]
  },
  {
   "cell_type": "code",
   "execution_count": 5,
   "id": "df37009f",
   "metadata": {},
   "outputs": [],
   "source": [
    "# given data\n",
    "mu = 0.295\n",
    "sd = 0.025"
   ]
  },
  {
   "cell_type": "code",
   "execution_count": 6,
   "id": "6de9d7d2",
   "metadata": {},
   "outputs": [],
   "source": [
    "# a)What is the probability that the pack weighs less than 0.280 kg? "
   ]
  },
  {
   "cell_type": "code",
   "execution_count": 8,
   "id": "3eecb1d3",
   "metadata": {},
   "outputs": [
    {
     "name": "stdout",
     "output_type": "stream",
     "text": [
      "-0.5999999999999983\n",
      "the probability that the pack weighs less than 0.280 kg is 0.2742531177500741\n"
     ]
    }
   ],
   "source": [
    "# Approach1: Calculate the Z Value and then compute cdf\n",
    "x_bar = 0.28\n",
    "z = (x_bar - mu)/sd\n",
    "print(z)\n",
    "p_less28 = stats.norm.cdf(z)\n",
    "print('the probability that the pack weighs less than 0.280 kg is {}'.format( p_less28))"
   ]
  },
  {
   "cell_type": "code",
   "execution_count": 10,
   "id": "9f964f31",
   "metadata": {},
   "outputs": [
    {
     "name": "stdout",
     "output_type": "stream",
     "text": [
      "the probability that the pack weighs less than 0.280 kg is 0.2742531177500741\n"
     ]
    }
   ],
   "source": [
    "# Appraoch2: Substitute the values directly into CDF\n",
    "\n",
    "p_less28_direct = stats.norm.cdf(x_bar, loc=mu, scale=sd)\n",
    "print('the probability that the pack weighs less than 0.280 kg is {}'.format( p_less28_direct))"
   ]
  },
  {
   "cell_type": "code",
   "execution_count": 11,
   "id": "59cd1d98",
   "metadata": {},
   "outputs": [
    {
     "name": "stdout",
     "output_type": "stream",
     "text": [
      "the probability that the pack weighs more than 0.350 kg is 0.01390344751349859\n"
     ]
    }
   ],
   "source": [
    "# b)What is the probability that the pack weighs more than 0.350 kg? \n",
    "# p_more350 = 1 - p_less_than_350\n",
    "x_bar = 0.350\n",
    "p_more350 = 1 - stats.norm.cdf(x_bar, loc=mu, scale=sd)\n",
    "print('the probability that the pack weighs more than 0.350 kg is {}'.format( p_more350))"
   ]
  },
  {
   "cell_type": "code",
   "execution_count": 14,
   "id": "0c6d0b6f",
   "metadata": {},
   "outputs": [
    {
     "name": "stdout",
     "output_type": "stream",
     "text": [
      "the probability that the pack weighs between 0.260 kg to 0.340 kg is 0.8833130217\n"
     ]
    }
   ],
   "source": [
    "# c)What is the probability that the pack weighs between 0.260 kg to 0.340 kg? \n",
    "x1_bar = 0.340\n",
    "x2_bar = 0.260\n",
    "p_between260_340 = stats.norm.cdf(x=x1_bar, loc=mu, scale=sd) - stats.norm.cdf(x=x2_bar, loc=mu, scale=sd)\n",
    "print(f'the probability that the pack weighs between 0.260 kg to 0.340 kg is {p_between260_340:.10f}')"
   ]
  },
  {
   "cell_type": "code",
   "execution_count": 21,
   "id": "173c00b5",
   "metadata": {},
   "outputs": [
    {
     "name": "stdout",
     "output_type": "stream",
     "text": [
      "Probabilities of between 1 standard deviations from the mean is: 0.6826894921370859\n",
      "Probabilities of between 2 standard deviations from the mean is: 0.9544997361036416\n",
      "Probabilities of between 3 standard deviations from the mean is: 0.9973002039367398\n",
      "Probabilities of between 4 standard deviations from the mean is: 0.9999366575163338\n",
      "Probabilities of between 5 standard deviations from the mean is: 0.9999994266968562\n",
      "Probabilities of between 6 standard deviations from the mean is: 0.9999999980268246\n"
     ]
    }
   ],
   "source": [
    "# Probabilities between standard deviations of the mean\n",
    "for i in range(1, 7):\n",
    "    print('Probabilities of between {} standard deviations from the mean is: {}'.format(i, \n",
    "                                    stats.norm.cdf(i)-stats.norm.cdf(-i)))"
   ]
  },
  {
   "cell_type": "code",
   "execution_count": null,
   "id": "75b4125b",
   "metadata": {},
   "outputs": [],
   "source": []
  }
 ],
 "metadata": {
  "kernelspec": {
   "display_name": "Python 3",
   "language": "python",
   "name": "python3"
  },
  "language_info": {
   "codemirror_mode": {
    "name": "ipython",
    "version": 3
   },
   "file_extension": ".py",
   "mimetype": "text/x-python",
   "name": "python",
   "nbconvert_exporter": "python",
   "pygments_lexer": "ipython3",
   "version": "3.9.4"
  }
 },
 "nbformat": 4,
 "nbformat_minor": 5
}
