{
 "cells": [
  {
   "cell_type": "markdown",
   "id": "1a545242",
   "metadata": {},
   "source": [
    "# Binomial Distribution"
   ]
  },
  {
   "cell_type": "code",
   "execution_count": 15,
   "id": "3530192a",
   "metadata": {},
   "outputs": [],
   "source": [
    "import numpy as np\n",
    "import scipy.stats as stats\n",
    "import matplotlib.pyplot as plt"
   ]
  },
  {
   "cell_type": "code",
   "execution_count": 1,
   "id": "09719082",
   "metadata": {},
   "outputs": [],
   "source": [
    "import math"
   ]
  },
  {
   "cell_type": "code",
   "execution_count": 56,
   "id": "5683b609",
   "metadata": {},
   "outputs": [],
   "source": [
    "import seaborn as sns"
   ]
  },
  {
   "cell_type": "raw",
   "id": "555d4e65",
   "metadata": {},
   "source": [
    "Binomial Distribution:\n",
    "A binomial experiment has the following properties:\n",
    "\t• The experiment consists of n repeated trials.\n",
    "\t• Each trial can result in just two possible outcomes. We call one of these outcomes a success and the other, a failure.\n",
    "\t• The probability of success, denoted by p , is the same on every trial.\n",
    "\t• The trials are independent; that is, the outcome on one trial does not affect the outcome on other trials.\n",
    "\n",
    "\n",
    "𝐏𝐱 = 𝐧𝐂𝐱 ⋅ 𝐩**𝐱 ⋅ (𝟏−𝐩)**(𝐧−𝐱)\n",
    "𝐏𝐱= 𝐧!/((𝐱!)(𝐧−𝐱)!) . 𝐩**𝐱 ⋅ (𝟏−𝐩)**𝐧−𝐱\n",
    "\n",
    "x : The number of successes that result from the binomial experiment.\n",
    "n : The number of trials in the binomial experiment.\n",
    "p : The probability of success on an individual trial.\n",
    "\n",
    "P(x) Binomial probability the probability that an n trial binomial experiment results in exactly x successes, when the probability of success on an individual trial is p\n"
   ]
  },
  {
   "cell_type": "code",
   "execution_count": 49,
   "id": "cff4f2b7",
   "metadata": {},
   "outputs": [
    {
     "data": {
      "text/plain": [
       "[0, 0, 0, 0, 1, 1, 0, 0, 0, 1]"
      ]
     },
     "execution_count": 49,
     "metadata": {},
     "output_type": "execute_result"
    }
   ],
   "source": [
    "# Generating a sample from a binomial distribution\n",
    "\n",
    "# Flipping a coin where p=0.5 and n=1 (single coin)\n",
    "[np.random.binomial(n=1, p=0.5) for trials in range(0, 10) ]"
   ]
  },
  {
   "cell_type": "code",
   "execution_count": 52,
   "id": "008bb9e8",
   "metadata": {},
   "outputs": [
    {
     "data": {
      "text/plain": [
       "array([1, 0, 1, 0, 0, 0, 0, 1, 1, 0])"
      ]
     },
     "execution_count": 52,
     "metadata": {},
     "output_type": "execute_result"
    }
   ],
   "source": [
    "np.random.binomial(n=1, p=0.5, size=10)"
   ]
  },
  {
   "cell_type": "code",
   "execution_count": 50,
   "id": "9002288f",
   "metadata": {},
   "outputs": [
    {
     "data": {
      "text/plain": [
       "[2, 2, 1, 0, 1, 1, 1, 0, 2, 1]"
      ]
     },
     "execution_count": 50,
     "metadata": {},
     "output_type": "execute_result"
    }
   ],
   "source": [
    "# Flipping a coin where p=0.5 and n=2 (two coin)\n",
    "[np.random.binomial(n=2, p=0.5) for trials in range(0, 10) ]"
   ]
  },
  {
   "cell_type": "code",
   "execution_count": 51,
   "id": "6b51e6cf",
   "metadata": {},
   "outputs": [
    {
     "data": {
      "text/plain": [
       "array([1, 1, 0, 1, 2, 2, 0, 1, 2, 1])"
      ]
     },
     "execution_count": 51,
     "metadata": {},
     "output_type": "execute_result"
    }
   ],
   "source": [
    "np.random.binomial(n=2, p=0.5, size=10)"
   ]
  },
  {
   "cell_type": "code",
   "execution_count": 53,
   "id": "4fb9f362",
   "metadata": {},
   "outputs": [
    {
     "data": {
      "text/plain": [
       "array([1, 1, 1, 1, 1, 0, 2, 1, 1, 1, 2, 0, 0, 1, 2, 1, 0, 1, 2, 2, 2, 1,\n",
       "       2, 1, 0, 2, 1, 0, 1, 1, 1, 1, 1, 0, 1, 1, 0, 1, 0, 1, 0, 0, 1, 1,\n",
       "       1, 2, 0, 1, 1, 1, 0, 1, 1, 2, 0, 1, 1, 2, 1, 1, 0, 1, 1, 1, 2, 0,\n",
       "       2, 2, 1, 1, 1, 1, 2, 1, 1, 2, 1, 1, 2, 0, 1, 1, 2, 1, 0, 2, 1, 1,\n",
       "       1, 0, 1, 1, 0, 1, 1, 0, 1, 1, 1, 0, 2, 0, 1, 1, 2, 1, 0, 0, 2, 2,\n",
       "       2, 1, 1, 2, 0, 0, 2, 1, 0, 1, 1, 0, 1, 2, 2, 2, 1, 1, 0, 1, 1, 1,\n",
       "       0, 2, 0, 0, 1, 0, 0, 2, 1, 2, 1, 1, 0, 1, 1, 1, 1, 1, 2, 0, 0, 2,\n",
       "       0, 2, 0, 0, 1, 0, 2, 1, 0, 2, 1, 1, 0, 2, 1, 0, 1, 1, 1, 1, 2, 1,\n",
       "       2, 1, 0, 1, 1, 1, 1, 1, 0, 0, 2, 1, 1, 0, 1, 1, 0, 1, 1, 2, 1, 1,\n",
       "       1, 2, 1, 0, 1, 1, 0, 0, 2, 2, 1, 0, 1, 0, 1, 1, 0, 1, 1, 1, 1, 1,\n",
       "       2, 1, 2, 1, 1, 1, 1, 1, 1, 2, 1, 2, 1, 1, 0, 1, 0, 1, 0, 1, 1, 2,\n",
       "       1, 0, 0, 0, 1, 1, 1, 1, 2, 0, 2, 1, 2, 1, 0, 0, 1, 1, 1, 2, 2, 0,\n",
       "       1, 1, 1, 1, 1, 2, 2, 1, 1, 1, 2, 1, 2, 1, 1, 0, 1, 2, 1, 0, 2, 1,\n",
       "       2, 1, 2, 2, 0, 2, 1, 1, 1, 0, 1, 1, 0, 0, 1, 1, 1, 1, 1, 2, 2, 1,\n",
       "       0, 1, 1, 0, 1, 0, 1, 1, 0, 0, 1, 1, 0, 2, 1, 0, 1, 2, 1, 2, 2, 1,\n",
       "       1, 1, 0, 1, 1, 0, 2, 0, 2, 0, 1, 2, 2, 0, 1, 0, 1, 1, 1, 2, 1, 1,\n",
       "       1, 1, 1, 1, 1, 1, 1, 1, 2, 1, 1, 1, 2, 2, 1, 2, 2, 2, 1, 2, 0, 0,\n",
       "       1, 2, 1, 1, 2, 1, 0, 2, 2, 2, 1, 1, 0, 1, 1, 2, 1, 1, 1, 2, 1, 1,\n",
       "       0, 1, 1, 2, 1, 1, 1, 2, 1, 1, 1, 1, 0, 2, 0, 0, 1, 0, 1, 2, 0, 0,\n",
       "       1, 0, 2, 1, 0, 0, 1, 0, 1, 1, 2, 2, 2, 1, 0, 1, 1, 2, 1, 0, 1, 2,\n",
       "       2, 1, 1, 1, 1, 0, 1, 0, 1, 0, 1, 1, 1, 1, 0, 2, 2, 1, 1, 0, 2, 1,\n",
       "       2, 2, 2, 2, 2, 0, 1, 2, 0, 2, 2, 2, 0, 1, 0, 0, 2, 1, 2, 1, 1, 2,\n",
       "       1, 2, 2, 1, 1, 1, 0, 0, 1, 1, 1, 1, 1, 1, 0, 2, 0, 1, 0, 2, 2, 1,\n",
       "       2, 1, 2, 1, 1, 1, 1, 1, 1, 0, 2, 1, 1, 2, 0, 1, 1, 1, 2, 0, 1, 2,\n",
       "       0, 2, 0, 0, 2, 1, 1, 0, 2, 1, 2, 1, 0, 1, 1, 0, 1, 0, 1, 1, 2, 0,\n",
       "       1, 1, 0, 0, 2, 2, 1, 0, 1, 2, 1, 0, 2, 0, 2, 0, 2, 1, 1, 0, 1, 0,\n",
       "       2, 2, 1, 2, 0, 0, 2, 1, 1, 2, 0, 1, 0, 2, 0, 1, 1, 0, 1, 0, 1, 0,\n",
       "       1, 1, 2, 0, 1, 0, 1, 1, 2, 1, 1, 1, 0, 0, 1, 1, 0, 1, 0, 0, 1, 1,\n",
       "       1, 1, 1, 2, 1, 1, 1, 0, 2, 2, 0, 1, 1, 1, 0, 0, 2, 1, 2, 0, 1, 2,\n",
       "       2, 1, 1, 1, 2, 2, 1, 2, 0, 2, 2, 2, 1, 2, 2, 0, 1, 1, 1, 1, 2, 2,\n",
       "       1, 2, 0, 1, 0, 1, 1, 2, 1, 2, 2, 2, 1, 2, 2, 1, 2, 2, 1, 1, 1, 2,\n",
       "       0, 1, 1, 1, 1, 0, 1, 0, 1, 1, 1, 1, 1, 1, 0, 1, 0, 1, 0, 1, 1, 1,\n",
       "       1, 1, 1, 0, 1, 1, 1, 2, 1, 1, 1, 1, 2, 1, 2, 1, 1, 2, 0, 2, 1, 2,\n",
       "       2, 1, 1, 0, 0, 2, 2, 1, 1, 2, 0, 1, 1, 1, 2, 2, 1, 1, 1, 0, 0, 1,\n",
       "       1, 0, 0, 1, 1, 1, 1, 0, 1, 1, 1, 0, 1, 1, 1, 1, 1, 0, 0, 1, 1, 1,\n",
       "       1, 0, 1, 2, 1, 1, 1, 1, 0, 2, 0, 2, 1, 2, 0, 2, 0, 2, 2, 2, 0, 0,\n",
       "       1, 2, 1, 0, 1, 1, 0, 1, 1, 1, 0, 0, 1, 2, 0, 0, 2, 0, 2, 1, 0, 2,\n",
       "       0, 0, 0, 0, 2, 1, 2, 1, 0, 1, 1, 1, 1, 0, 0, 2, 0, 1, 1, 1, 1, 1,\n",
       "       1, 1, 0, 1, 2, 1, 0, 0, 0, 2, 2, 0, 2, 1, 1, 1, 0, 1, 2, 1, 1, 1,\n",
       "       1, 2, 2, 1, 1, 0, 1, 1, 0, 2, 0, 1, 2, 0, 1, 1, 1, 0, 1, 0, 2, 2,\n",
       "       2, 1, 0, 1, 1, 1, 0, 0, 1, 1, 1, 0, 1, 1, 1, 1, 1, 1, 0, 2, 2, 1,\n",
       "       1, 1, 1, 0, 1, 2, 0, 1, 1, 2, 0, 0, 1, 2, 0, 0, 2, 0, 2, 1, 1, 0,\n",
       "       1, 0, 1, 2, 0, 1, 1, 2, 0, 2, 1, 1, 2, 2, 1, 1, 0, 0, 1, 1, 0, 0,\n",
       "       1, 2, 1, 1, 1, 1, 2, 0, 1, 2, 0, 2, 2, 1, 2, 1, 1, 2, 0, 2, 2, 2,\n",
       "       0, 0, 2, 1, 1, 2, 1, 1, 1, 1, 2, 2, 2, 1, 0, 2, 1, 1, 1, 0, 1, 0,\n",
       "       1, 1, 1, 2, 2, 0, 0, 0, 1, 1])"
      ]
     },
     "execution_count": 53,
     "metadata": {},
     "output_type": "execute_result"
    }
   ],
   "source": [
    "no_of_heads_2_coins = np.random.binomial(n=2, p=0.5, size=1000)\n",
    "no_of_heads_2_coins"
   ]
  },
  {
   "cell_type": "code",
   "execution_count": 63,
   "id": "334d14a7",
   "metadata": {},
   "outputs": [
    {
     "data": {
      "text/plain": [
       "(array([245., 512., 243.]),\n",
       " array([0.        , 0.66666667, 1.33333333, 2.        ]),\n",
       " <BarContainer object of 3 artists>)"
      ]
     },
     "execution_count": 63,
     "metadata": {},
     "output_type": "execute_result"
    },
    {
     "data": {
      "image/png": "[encoded data removed]",
      "text/plain": [
       "<Figure size 432x288 with 1 Axes>"
      ]
     },
     "metadata": {
      "needs_background": "light"
     },
     "output_type": "display_data"
    }
   ],
   "source": [
    "plt.hist(no_of_heads_2_coins, bins=3)"
   ]
  },
  {
   "cell_type": "code",
   "execution_count": 70,
   "id": "1b02bd82",
   "metadata": {},
   "outputs": [
    {
     "data": {
      "image/png": "[encoded data removed]",
      "text/plain": [
       "<Figure size 432x288 with 1 Axes>"
      ]
     },
     "metadata": {},
     "output_type": "display_data"
    }
   ],
   "source": [
    "sns.set_style('darkgrid')\n",
    "sns.countplot(x=no_of_heads_2_coins)\n",
    "plt.title('No of Heads while flipping two coints 1000 times')\n",
    "plt.show()"
   ]
  },
  {
   "cell_type": "code",
   "execution_count": 71,
   "id": "4594e9b5",
   "metadata": {},
   "outputs": [
    {
     "data": {
      "image/png": "[encoded data removed]",
      "text/plain": [
       "<Figure size 432x288 with 1 Axes>"
      ]
     },
     "metadata": {},
     "output_type": "display_data"
    }
   ],
   "source": [
    "# Fipping 10 coints and the number of heads in 1000 trails\n",
    "no_of_heads_10_coins = np.random.binomial(n=10, p=0.5, size=1000)\n",
    "sns.set_style('darkgrid')\n",
    "sns.countplot(x=no_of_heads_10_coins)\n",
    "plt.title('No of Heads while flipping 10 coints for 1000 trails')\n",
    "plt.show()"
   ]
  },
  {
   "cell_type": "code",
   "execution_count": null,
   "id": "2ec0f028",
   "metadata": {},
   "outputs": [],
   "source": []
  },
  {
   "cell_type": "code",
   "execution_count": null,
   "id": "405f024f",
   "metadata": {},
   "outputs": [],
   "source": []
  },
  {
   "cell_type": "markdown",
   "id": "8de93df3",
   "metadata": {},
   "source": [
    "### Problem Statement"
   ]
  },
  {
   "cell_type": "markdown",
   "id": "729a3bf6",
   "metadata": {},
   "source": [
    "#### Question: \n",
    "If you flip a coin 4 times, what is the probability of getting 1 head?"
   ]
  },
  {
   "cell_type": "code",
   "execution_count": 4,
   "id": "555c56cc",
   "metadata": {},
   "outputs": [
    {
     "data": {
      "text/plain": [
       "0.25"
      ]
     },
     "execution_count": 4,
     "metadata": {},
     "output_type": "execute_result"
    }
   ],
   "source": [
    "# 𝐏(X=𝐱) = 𝐧𝐂𝐱 ⋅ 𝐩**𝐱 ⋅ (𝟏−𝐩)**(𝐧−𝐱)\n",
    "n = 4\n",
    "p = 0.5\n",
    "x = 1\n",
    "p_one_head = math.comb(n, x) * (p)**x * (1-p)**(n-x)\n",
    "p_one_head"
   ]
  },
  {
   "cell_type": "code",
   "execution_count": 6,
   "id": "e6296b7f",
   "metadata": {},
   "outputs": [
    {
     "data": {
      "text/plain": [
       "0.375"
      ]
     },
     "execution_count": 6,
     "metadata": {},
     "output_type": "execute_result"
    }
   ],
   "source": [
    "# 𝐏(X=𝐱) = 𝐧𝐂𝐱 ⋅ 𝐩**𝐱 ⋅ (𝟏−𝐩)**(𝐧−𝐱)\n",
    "n = 4\n",
    "p = 0.5\n",
    "x = 2\n",
    "p_two_head = math.comb(n, x) * (p)**x * (1-p)**(n-x)\n",
    "p_two_head"
   ]
  },
  {
   "cell_type": "code",
   "execution_count": 7,
   "id": "da049d76",
   "metadata": {},
   "outputs": [
    {
     "data": {
      "text/plain": [
       "0.0625"
      ]
     },
     "execution_count": 7,
     "metadata": {},
     "output_type": "execute_result"
    }
   ],
   "source": [
    "# 𝐏(X=𝐱) = 𝐧𝐂𝐱 ⋅ 𝐩**𝐱 ⋅ (𝟏−𝐩)**(𝐧−𝐱)\n",
    "n = 4\n",
    "p = 0.5\n",
    "x = 0\n",
    "p_zero_head = math.comb(n, x) * (p)**x * (1-p)**(n-x)\n",
    "p_zero_head"
   ]
  },
  {
   "cell_type": "code",
   "execution_count": 8,
   "id": "63aa012d",
   "metadata": {},
   "outputs": [
    {
     "data": {
      "text/plain": [
       "0.25"
      ]
     },
     "execution_count": 8,
     "metadata": {},
     "output_type": "execute_result"
    }
   ],
   "source": [
    "# 𝐏(X=𝐱) = 𝐧𝐂𝐱 ⋅ 𝐩**𝐱 ⋅ (𝟏−𝐩)**(𝐧−𝐱)\n",
    "n = 4\n",
    "p = 0.5\n",
    "x = 3\n",
    "p_three_head = math.comb(n, x) * (p)**x * (1-p)**(n-x)\n",
    "p_three_head"
   ]
  },
  {
   "cell_type": "code",
   "execution_count": 9,
   "id": "9f5b5f59",
   "metadata": {},
   "outputs": [
    {
     "data": {
      "text/plain": [
       "0.0625"
      ]
     },
     "execution_count": 9,
     "metadata": {},
     "output_type": "execute_result"
    }
   ],
   "source": [
    "# 𝐏(X=𝐱) = 𝐧𝐂𝐱 ⋅ 𝐩**𝐱 ⋅ (𝟏−𝐩)**(𝐧−𝐱)\n",
    "n = 4\n",
    "p = 0.5\n",
    "x = 4\n",
    "p_four_head = math.comb(n, x) * (p)**x * (1-p)**(n-x)\n",
    "p_four_head"
   ]
  },
  {
   "cell_type": "code",
   "execution_count": 10,
   "id": "a12e0a53",
   "metadata": {},
   "outputs": [
    {
     "data": {
      "text/plain": [
       "1.0"
      ]
     },
     "execution_count": 10,
     "metadata": {},
     "output_type": "execute_result"
    }
   ],
   "source": [
    "p_total = p_zero_head + p_one_head + p_two_head + p_three_head + p_four_head\n",
    "p_total"
   ]
  },
  {
   "cell_type": "markdown",
   "id": "e3f0e591",
   "metadata": {},
   "source": [
    "* The mean of the binomial distribution (μ x ) is n. p\n",
    "* The variance (σ**2x ) is n. p . ( 1- p)\n",
    "* The standard deviation (σ x ) is sqtr(𝐧⋅𝐩⋅𝟏−𝐩)"
   ]
  },
  {
   "cell_type": "code",
   "execution_count": 11,
   "id": "306d1364",
   "metadata": {},
   "outputs": [
    {
     "name": "stdout",
     "output_type": "stream",
     "text": [
      "\n",
      "Mean is 2.0\n",
      "Variance is 1.0\n",
      "Standard Deviation is 1.0\n"
     ]
    }
   ],
   "source": [
    "bi_mean = n * p\n",
    "bi_var = n * p * (1-p)\n",
    "bi_std = math.sqrt(n * p * (1-p))\n",
    "print(f\"\"\"\n",
    "Mean is {bi_mean}\n",
    "Variance is {bi_var}\n",
    "Standard Deviation is {bi_std}\"\"\")"
   ]
  },
  {
   "cell_type": "markdown",
   "id": "bd4f1954",
   "metadata": {},
   "source": [
    "### Question\n",
    "A manufacturer has 12% defects rate in production. The buyer decides to test 20 random pieces and will accept the supplier if there are 2 or less defectives. What is the probability of getting accepted?"
   ]
  },
  {
   "cell_type": "markdown",
   "id": "d191819c",
   "metadata": {},
   "source": [
    "#### Solution1:\n",
    "Simulation data plotting using the Binomail distribution to understand the distribution"
   ]
  },
  {
   "cell_type": "code",
   "execution_count": 73,
   "id": "fb497566",
   "metadata": {},
   "outputs": [
    {
     "data": {
      "image/png": "[encoded data removed]",
      "text/plain": [
       "<Figure size 432x288 with 1 Axes>"
      ]
     },
     "metadata": {},
     "output_type": "display_data"
    }
   ],
   "source": [
    "two_defective = np.random.binomial(n=20, p=0.12, size=1000)\n",
    "sns.set_style(style='darkgrid')\n",
    "sns.countplot(x=two_defective)\n",
    "plt.title('Simulation of 2 defects for a lot of 20 where p=0.12')\n",
    "plt.show()"
   ]
  },
  {
   "cell_type": "markdown",
   "id": "a5c40706",
   "metadata": {},
   "source": [
    "#### Solution 2:\n",
    "Using formula"
   ]
  },
  {
   "cell_type": "code",
   "execution_count": null,
   "id": "467aeaeb",
   "metadata": {},
   "outputs": [],
   "source": []
  },
  {
   "cell_type": "code",
   "execution_count": 82,
   "id": "cda2f083",
   "metadata": {},
   "outputs": [
    {
     "name": "stdout",
     "output_type": "stream",
     "text": [
      "The P(X=0) = 0.07756279363818959\n",
      "The P(X=1) = 0.21153489174051704\n",
      "The P(X=2) = 0.27403383702748796\n",
      "Probability of getting accepted is 0.5631315224061946\n"
     ]
    }
   ],
   "source": [
    "# P(X<=2) = P(X=2) + P(X=1) + P(X=0)\n",
    "n = 20\n",
    "x = 2\n",
    "p = 0.12\n",
    "p_each = 0\n",
    "p_total = 0\n",
    "# x is i for iteratively counting \n",
    "for i in range(0, 3):\n",
    "    p_each = math.comb(n, i) * p**i * (1-p)**(n-i)\n",
    "    print(f\"The P(X={i}) = {p_each}\")\n",
    "    p_total += p_each\n",
    "    \n",
    "print(f'Probability of getting accepted is {p_total}')"
   ]
  },
  {
   "cell_type": "markdown",
   "id": "9bde6c6a",
   "metadata": {},
   "source": [
    "#### Solution 3:\n",
    "Using Stats"
   ]
  },
  {
   "cell_type": "code",
   "execution_count": 83,
   "id": "3e9e7a22",
   "metadata": {},
   "outputs": [
    {
     "data": {
      "text/plain": [
       "0.2740338370274878"
      ]
     },
     "execution_count": 83,
     "metadata": {},
     "output_type": "execute_result"
    }
   ],
   "source": [
    "stats.binom.pmf(k=x, n=n, p=p)"
   ]
  },
  {
   "cell_type": "code",
   "execution_count": 84,
   "id": "3f0a5091",
   "metadata": {},
   "outputs": [
    {
     "data": {
      "text/plain": [
       "array([7.75627936e-02, 2.11534892e-01, 2.74033837e-01, 2.24209503e-01,\n",
       "       1.29939598e-01, 5.67009156e-02, 1.93298576e-02, 5.27177935e-03,\n",
       "       1.16817838e-03, 2.12396069e-04, 3.18594103e-05, 3.94951367e-06,\n",
       "       4.03927535e-07, 3.38960169e-08, 2.31109206e-09, 1.26059567e-10,\n",
       "       5.37185655e-12, 1.72359034e-13, 3.91725077e-15, 5.62284799e-17])"
      ]
     },
     "execution_count": 84,
     "metadata": {},
     "output_type": "execute_result"
    }
   ],
   "source": [
    "p_pmf_dist = stats.binom.pmf(k=range(0, 20), n=n, p=p)\n",
    "p_pmf_dist"
   ]
  },
  {
   "cell_type": "code",
   "execution_count": 85,
   "id": "7b5f4510",
   "metadata": {},
   "outputs": [
    {
     "data": {
      "text/plain": [
       "[<matplotlib.lines.Line2D at 0x20aba520ca0>]"
      ]
     },
     "execution_count": 85,
     "metadata": {},
     "output_type": "execute_result"
    },
    {
     "data": {
      "image/png": "[encoded data removed]",
      "text/plain": [
       "<Figure size 432x288 with 1 Axes>"
      ]
     },
     "metadata": {},
     "output_type": "display_data"
    }
   ],
   "source": [
    "plt.plot(range(0, 20), p_pmf_dist)"
   ]
  },
  {
   "cell_type": "code",
   "execution_count": 88,
   "id": "f3da7ea3",
   "metadata": {},
   "outputs": [
    {
     "data": {
      "text/plain": [
       "<AxesSubplot:>"
      ]
     },
     "execution_count": 88,
     "metadata": {},
     "output_type": "execute_result"
    },
    {
     "data": {
      "image/png": "[encoded data removed]",
      "text/plain": [
       "<Figure size 432x288 with 1 Axes>"
      ]
     },
     "metadata": {},
     "output_type": "display_data"
    }
   ],
   "source": [
    "sns.barplot(x=np.arange(0, 20), y=p_pmf_dist)"
   ]
  },
  {
   "cell_type": "code",
   "execution_count": 25,
   "id": "176fcf2f",
   "metadata": {},
   "outputs": [
    {
     "data": {
      "text/plain": [
       "array([0.07756279, 0.28909769, 0.56313152, 0.78734103, 0.91728062,\n",
       "       0.97398154, 0.9933114 , 0.99858318, 0.99975135, 0.99996375,\n",
       "       0.99999561, 0.99999956, 0.99999996, 1.        , 1.        ,\n",
       "       1.        , 1.        , 1.        , 1.        , 1.        ])"
      ]
     },
     "execution_count": 25,
     "metadata": {},
     "output_type": "execute_result"
    }
   ],
   "source": [
    "p_cum_dist = stats.binom.cdf(k=range(0, 20), n=n, p=p)\n",
    "p_cum_dist"
   ]
  },
  {
   "cell_type": "code",
   "execution_count": 78,
   "id": "1bea5836",
   "metadata": {},
   "outputs": [
    {
     "data": {
      "text/plain": [
       "0.5631315224061949"
      ]
     },
     "execution_count": 78,
     "metadata": {},
     "output_type": "execute_result"
    }
   ],
   "source": [
    "stats.binom.cdf(k=2, n=20, p=0.12)"
   ]
  },
  {
   "cell_type": "code",
   "execution_count": 36,
   "id": "6ba2e058",
   "metadata": {},
   "outputs": [
    {
     "data": {
      "text/plain": [
       "Text(0.5, 1.0, 'Probability')"
      ]
     },
     "execution_count": 36,
     "metadata": {},
     "output_type": "execute_result"
    },
    {
     "data": {
      "image/png": "[encoded data removed]",
      "text/plain": [
       "<Figure size 432x288 with 1 Axes>"
      ]
     },
     "metadata": {
      "needs_background": "light"
     },
     "output_type": "display_data"
    }
   ],
   "source": [
    "plt.plot(range(0, 20), p_pmf_dist, label=\"P(X=x)\")\n",
    "plt.plot(range(0, 20), p_cum_dist, label=\"Cumulative\")\n",
    "plt.title(\"Probability\")"
   ]
  },
  {
   "cell_type": "code",
   "execution_count": 89,
   "id": "a32c5956",
   "metadata": {},
   "outputs": [
    {
     "data": {
      "image/png": "[encoded data removed]",
      "text/plain": [
       "<Figure size 432x288 with 1 Axes>"
      ]
     },
     "metadata": {},
     "output_type": "display_data"
    }
   ],
   "source": [
    "sns.barplot(x=np.arange(0, 20), y=p_pmf_dist)\n",
    "sns.lineplot(x=np.arange(0, 20), y=p_cum_dist)\n",
    "plt.show()"
   ]
  },
  {
   "cell_type": "code",
   "execution_count": 38,
   "id": "b846bb11",
   "metadata": {},
   "outputs": [
    {
     "name": "stdout",
     "output_type": "stream",
     "text": [
      "\n",
      "The probability of getting accepted by supplier if \n",
      "there are 2 or less defectives pieces is\n",
      "PMF = 0.5631315224061944 or\n",
      "CDF = 0.5631315224061949\n",
      "\n"
     ]
    }
   ],
   "source": [
    "print(f\"\"\"\n",
    "The probability of getting accepted by supplier if \n",
    "there are 2 or less defectives pieces is\n",
    "PMF = {p_pmf_dist[0]+p_pmf_dist[1]+p_pmf_dist[2]} or\n",
    "CDF = {p_cum_dist[2]}\n",
    "\"\"\")"
   ]
  },
  {
   "cell_type": "code",
   "execution_count": 95,
   "id": "85bdd5e3",
   "metadata": {},
   "outputs": [
    {
     "data": {
      "image/png": "[encoded data removed]",
      "text/plain": [
       "<Figure size 432x288 with 1 Axes>"
      ]
     },
     "metadata": {},
     "output_type": "display_data"
    }
   ],
   "source": [
    "sns.barplot(x=np.arange(0, 20), y=p_pmf_dist)\n",
    "plt.vlines(x=stats.binom.mean(n=20, p=0.12), ymin=0, ymax=.3, label='mean')\n",
    "plt.legend(loc='best')\n",
    "plt.show()"
   ]
  },
  {
   "cell_type": "code",
   "execution_count": 74,
   "id": "97111419",
   "metadata": {},
   "outputs": [
    {
     "data": {
      "text/plain": [
       "2.4"
      ]
     },
     "execution_count": 74,
     "metadata": {},
     "output_type": "execute_result"
    }
   ],
   "source": [
    "# Computing the mean\n",
    "stats.binom.mean(n=20, p=0.12)"
   ]
  },
  {
   "cell_type": "code",
   "execution_count": 75,
   "id": "0596fd81",
   "metadata": {},
   "outputs": [
    {
     "data": {
      "text/plain": [
       "2.112"
      ]
     },
     "execution_count": 75,
     "metadata": {},
     "output_type": "execute_result"
    }
   ],
   "source": [
    "stats.binom.var(n=20, p=0.12)"
   ]
  },
  {
   "cell_type": "code",
   "execution_count": 76,
   "id": "2cce0011",
   "metadata": {},
   "outputs": [
    {
     "data": {
      "text/plain": [
       "1.453272169966796"
      ]
     },
     "execution_count": 76,
     "metadata": {},
     "output_type": "execute_result"
    }
   ],
   "source": [
    "stats.binom.std(n=20, p=.12)"
   ]
  },
  {
   "cell_type": "code",
   "execution_count": 79,
   "id": "7babca6a",
   "metadata": {},
   "outputs": [
    {
     "name": "stdout",
     "output_type": "stream",
     "text": [
      "\n",
      "What is the probability of getting more than 2 defective\n",
      "CDF: 0.4368684775938051\n",
      "or\n",
      "SF: 0.4368684775938051\n"
     ]
    }
   ],
   "source": [
    "print(f\"\"\"\n",
    "What is the probability of getting more than 2 defective\n",
    "CDF: {1-stats.binom.cdf(k=2, n=20, p=0.12)}\n",
    "or\n",
    "SF: {stats.binom.sf(k=2, n=20, p=0.12)}\"\"\")"
   ]
  },
  {
   "cell_type": "code",
   "execution_count": 97,
   "id": "094e8184",
   "metadata": {},
   "outputs": [
    {
     "name": "stdout",
     "output_type": "stream",
     "text": [
      "\n",
      "What is the probability of getting more than 2 defective\n",
      "CDF: 0.43687\n",
      "or\n",
      "SF: 0.43687\n"
     ]
    }
   ],
   "source": [
    "print(f\"\"\"\n",
    "What is the probability of getting more than 2 defective\n",
    "CDF: {1-stats.binom.cdf(k=2, n=20, p=0.12):0.5f}\n",
    "or\n",
    "SF: {stats.binom.sf(k=2, n=20, p=0.12):0.5f}\"\"\")"
   ]
  },
  {
   "cell_type": "code",
   "execution_count": null,
   "id": "d6d77a14",
   "metadata": {},
   "outputs": [],
   "source": []
  },
  {
   "cell_type": "markdown",
   "id": "006314be",
   "metadata": {},
   "source": [
    "### Question:\n",
    "A bank issues credit card to its customers under the scheme of Master card. Based on past data, it is known that 60% of the customers pay the bill on time. If a sample of 7 accounts is selected at random from current database, construct the binomial  probability distribution of accounts paying on time."
   ]
  },
  {
   "cell_type": "code",
   "execution_count": 3,
   "id": "93afbdf5",
   "metadata": {},
   "outputs": [],
   "source": [
    "n = 7\n",
    "p = .6"
   ]
  },
  {
   "cell_type": "code",
   "execution_count": 4,
   "id": "af50dcbf",
   "metadata": {},
   "outputs": [
    {
     "data": {
      "text/plain": [
       "array([0, 1, 2, 3, 4, 5, 6, 7])"
      ]
     },
     "execution_count": 4,
     "metadata": {},
     "output_type": "execute_result"
    }
   ],
   "source": [
    "# 0 is included to calculate if none of the customer pay\n",
    "k = np.arange(0, 8)\n",
    "k"
   ]
  },
  {
   "cell_type": "code",
   "execution_count": 9,
   "id": "9cf99ee0",
   "metadata": {},
   "outputs": [
    {
     "data": {
      "text/plain": [
       "array([0.0016384, 0.0172032, 0.0774144, 0.193536 , 0.290304 , 0.2612736,\n",
       "       0.1306368, 0.0279936])"
      ]
     },
     "execution_count": 9,
     "metadata": {},
     "output_type": "execute_result"
    }
   ],
   "source": [
    "binom_dist = stats.binom.pmf(k, n, p)\n",
    "binom_dist"
   ]
  },
  {
   "cell_type": "code",
   "execution_count": 8,
   "id": "c92e9590",
   "metadata": {},
   "outputs": [
    {
     "data": {
      "text/plain": [
       "array([0.0016384, 0.0172032, 0.0774144, 0.193536 , 0.290304 , 0.2612736,\n",
       "       0.1306368, 0.0279936, 0.       , 0.       , 0.       , 0.       ,\n",
       "       0.       , 0.       , 0.       , 0.       , 0.       , 0.       ,\n",
       "       0.       , 0.       , 0.       , 0.       , 0.       , 0.       ,\n",
       "       0.       , 0.       , 0.       , 0.       , 0.       , 0.       ,\n",
       "       0.       , 0.       , 0.       , 0.       , 0.       , 0.       ,\n",
       "       0.       , 0.       , 0.       , 0.       , 0.       , 0.       ,\n",
       "       0.       , 0.       , 0.       , 0.       , 0.       , 0.       ,\n",
       "       0.       , 0.       , 0.       , 0.       , 0.       , 0.       ,\n",
       "       0.       , 0.       , 0.       , 0.       , 0.       , 0.       ,\n",
       "       0.       , 0.       , 0.       , 0.       , 0.       , 0.       ,\n",
       "       0.       , 0.       , 0.       , 0.       , 0.       , 0.       ,\n",
       "       0.       , 0.       , 0.       , 0.       , 0.       , 0.       ,\n",
       "       0.       , 0.       , 0.       , 0.       , 0.       , 0.       ,\n",
       "       0.       , 0.       , 0.       , 0.       , 0.       , 0.       ,\n",
       "       0.       , 0.       , 0.       , 0.       , 0.       , 0.       ,\n",
       "       0.       , 0.       , 0.       , 0.       ])"
      ]
     },
     "execution_count": 8,
     "metadata": {},
     "output_type": "execute_result"
    }
   ],
   "source": [
    "# Since the n and p are fixed even if we get points higher we will get all zeors since pmf at that point is 0\n",
    "binom_dist1 = stats.binom.pmf(np.arange(0, 100), n, p)\n",
    "binom_dist1"
   ]
  },
  {
   "cell_type": "code",
   "execution_count": 21,
   "id": "b0101db3",
   "metadata": {},
   "outputs": [
    {
     "data": {
      "image/png": "[encoded data removed]",
      "text/plain": [
       "<Figure size 432x288 with 1 Axes>"
      ]
     },
     "metadata": {
      "needs_background": "light"
     },
     "output_type": "display_data"
    }
   ],
   "source": [
    "# Plot the distribution\n",
    "plt.plot(k, binom_dist, 'o-')\n",
    "plt.title('Binomial: n:{:.2f} and p={:.2f}'.format(n, p), fontsize=15)\n",
    "plt.xlabel(\"No of Successes\")\n",
    "plt.ylabel(\"Probability of Sucess\")\n",
    "plt.show()"
   ]
  },
  {
   "cell_type": "code",
   "execution_count": 22,
   "id": "36e018da",
   "metadata": {},
   "outputs": [
    {
     "data": {
      "text/plain": [
       "1.0000000000000004"
      ]
     },
     "execution_count": 22,
     "metadata": {},
     "output_type": "execute_result"
    }
   ],
   "source": [
    "# Sum of all probabilities should be 1\n",
    "sum(binom_dist)"
   ]
  },
  {
   "cell_type": "code",
   "execution_count": null,
   "id": "4531a6c8",
   "metadata": {},
   "outputs": [],
   "source": []
  }
 ],
 "metadata": {
  "kernelspec": {
   "display_name": "Python 3",
   "language": "python",
   "name": "python3"
  },
  "language_info": {
   "codemirror_mode": {
    "name": "ipython",
    "version": 3
   },
   "file_extension": ".py",
   "mimetype": "text/x-python",
   "name": "python",
   "nbconvert_exporter": "python",
   "pygments_lexer": "ipython3",
   "version": "3.9.4"
  }
 },
 "nbformat": 4,
 "nbformat_minor": 5
}
