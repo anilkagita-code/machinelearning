{
 "cells": [
  {
   "cell_type": "markdown",
   "id": "ea9d3c0d",
   "metadata": {},
   "source": [
    "# Two Sample t-test"
   ]
  },
  {
   "cell_type": "markdown",
   "id": "90a5f480",
   "metadata": {},
   "source": [
    "Two-sample tests are appropriate for comparing two samples, typically experimental and control samples from a scientifically controlled experiment.\n",
    "\n",
    "https://en.wikipedia.org/wiki/Test_statistic"
   ]
  },
  {
   "attachments": {
    "image-2.png": {
     "image/png": "[encoded data removed]"
    },
    "image-3.png": {
     "image/png": "[encoded data removed]"
    },
    "image-4.png": {
     "image/png": "[encoded data removed]"
    },
    "image-5.png": {
     "image/png": "[encoded data removed]"
    },
    "image.png": {
     "image/png": "[encoded data removed]"
    }
   },
   "cell_type": "markdown",
   "id": "bf71e5cb",
   "metadata": {},
   "source": [
    "### Independent Two-Sample t-test (Equal Variance)\n",
    "\n",
    "Equal sample sizes and variance\n",
    "Given two groups (1, 2), this test is only applicable when:\n",
    "\n",
    "the two sample sizes (that is, the number n of participants of each group) are equal;\n",
    "it can be assumed that the two distributions have the same variance;\n",
    "Violations of these assumptions are discussed below.\n",
    "\n",
    "The t statistic to test whether the means are different can be calculated as follows:\n",
    "![image.png](attachment:image.png)\n",
    "\n",
    "where\n",
    "![image-2.png](attachment:image-2.png)\n",
    "\n",
    "Here sp is the pooled standard deviation for n = n1 = n2 and s 2\n",
    "X1 and s 2\n",
    "X2 are the unbiased estimators of the variances of the two samples. The denominator of t is the standard error of the difference between two means.\n",
    "\n",
    "For significance testing, the degrees of freedom for this test is 2n − 2 where n is the number of participants in each group.\n",
    "\n",
    "Equal or unequal sample sizes, similar variances (sX1 > 2sX2 or sX2 > 2sX1)\n",
    "\n",
    "This test is used only when it can be assumed that the two distributions have the same variance. (When this assumption is violated, see below.) The previous formulae are a special case of the formulae below, one recovers them when both samples are equal in size: n = n1 = n2.\n",
    "\n",
    "The t statistic to test whether the means are different can be calculated as follows:\n",
    "![image.png](attachment:image.png)\n",
    "where\n",
    "![image-2.png](attachment:image-2.png)\n",
    "\n",
    "is an estimator of the pooled standard deviation of the two samples: it is defined in this way so that its square is an unbiased estimator of the common variance whether or not the population means are the same. In these formulae, ni − 1 is the number of degrees of freedom for each group, and the total sample size minus two (that is, n1 + n2 − 2) is the total number of degrees of freedom, which is used in significance testing.\n",
    "\n",
    "### Independent Two-Sample t-test (Un-equal Variance)\n",
    "\n",
    "Equal or unequal sample sizes, unequal variances (sX1 > 2sX2 or sX2 > 2sX1)\n",
    "Main article: Welch's t-test\n",
    "This test, also known as Welch's t-test, is used only when the two population variances are not assumed to be equal (the two sample sizes may or may not be equal) and hence must be estimated separately. The t statistic to test whether the population means are different is calculated as:\n",
    "![image-3.png](attachment:image-3.png)\n",
    "\n",
    "where\n",
    "![image-4.png](attachment:image-4.png)\n",
    "\n",
    "Here si2 is the unbiased estimator of the variance of each of the two samples with ni = number of participants in group i (1 or 2). In this case {\\textstyle (s_{\\bar {\\Delta }})^{2}}{\\textstyle (s_{\\bar {\\Delta }})^{2}} is not a pooled variance. For use in significance testing, the distribution of the test statistic is approximated as an ordinary Student's t-distribution with the degrees of freedom calculated using\n",
    "![image-5.png](attachment:image-5.png)\n",
    "\n",
    "This is known as the Welch–Satterthwaite equation. The true distribution of the test statistic actually depends (slightly) on the two unknown population variances (see Behrens–Fisher problem).\n"
   ]
  },
  {
   "cell_type": "code",
   "execution_count": 1,
   "id": "0b461dc5",
   "metadata": {},
   "outputs": [],
   "source": [
    "import numpy as np\n",
    "from scipy.stats import ttest_1samp, ttest_ind, mannwhitneyu, levene, shapiro\n",
    "from statsmodels.stats.power import ttest_power\n",
    "from statsmodels.stats import weightstats\n",
    "import scipy.stats as stats\n",
    "import pandas as pd\n",
    "import matplotlib.pyplot as plt\n",
    "import seaborn as sns"
   ]
  },
  {
   "cell_type": "markdown",
   "id": "0cf876e3",
   "metadata": {},
   "source": [
    "##### Example 1: \n",
    "\n",
    "Samples from two machines A and B have the following volumes in bottles. (assume equal variance)\n",
    "\n",
    "Machine A: 150, 152, 154, 152, 151\n",
    "\n",
    "Machine B: 156, 155, 158, 155, 154\n",
    "\n",
    "Is the mean different? Calculate with 95% confidence.\n"
   ]
  },
  {
   "cell_type": "code",
   "execution_count": 3,
   "id": "f13a29f6",
   "metadata": {},
   "outputs": [],
   "source": [
    "machine1 = [150, 152, 154, 152, 151]\n",
    "machine2 = [156, 155, 158, 155, 154]"
   ]
  },
  {
   "cell_type": "code",
   "execution_count": 5,
   "id": "397a00f8",
   "metadata": {},
   "outputs": [],
   "source": [
    "t_stat, p_value = stats.ttest_ind(a= machine1, b=machine2, equal_var=True)"
   ]
  },
  {
   "cell_type": "code",
   "execution_count": 6,
   "id": "0633033e",
   "metadata": {},
   "outputs": [
    {
     "name": "stdout",
     "output_type": "stream",
     "text": [
      "\n",
      "The Z-Statistic is: -4.005551702879929\n",
      "The p-value is: 0.003919295477128331 \n",
      "\n",
      "Ho is rejected in favour of Ha\n"
     ]
    }
   ],
   "source": [
    "print(f\"\"\"\n",
    "The t-Statistic is: {t_stat}\n",
    "The p-value is: {p_value} \\n\"\"\"  )\n",
    "\n",
    "if p_value<0.05:\n",
    "    print(f\"Ho is rejected in favour of Ha\")\n",
    "else:\n",
    "    print(\"Failed to reject Ho\")"
   ]
  },
  {
   "cell_type": "markdown",
   "id": "f3207169",
   "metadata": {},
   "source": [
    "##### Example 2: \n",
    "\n",
    "Samples from two machines A and B have the following volumes in bottles. unequal variance\n",
    "\n",
    "Machine A: 150, 152, 154, 152, 151\n",
    "\n",
    "Machine C: 144, 162, 177, 150, 140\n",
    "\n",
    "Is the mean different? Calculate with 95% confidence.\n"
   ]
  },
  {
   "cell_type": "code",
   "execution_count": 8,
   "id": "f51cdb37",
   "metadata": {},
   "outputs": [],
   "source": [
    "machine1 = [150, 152, 154, 152, 151]\n",
    "machine3 = [144, 162, 177, 150, 140]"
   ]
  },
  {
   "cell_type": "code",
   "execution_count": 9,
   "id": "53932c72",
   "metadata": {},
   "outputs": [],
   "source": [
    "t_stat, p_value = stats.ttest_ind(a=machine1, b=machine3, equal_var=False)"
   ]
  },
  {
   "cell_type": "code",
   "execution_count": 10,
   "id": "6593c6f2",
   "metadata": {},
   "outputs": [
    {
     "name": "stdout",
     "output_type": "stream",
     "text": [
      "\n",
      "The Z-Statistic is: -0.4146442144313621\n",
      "The p-value is: 0.699289145758865 \n",
      "\n",
      "Failed to reject Ho\n"
     ]
    }
   ],
   "source": [
    "print(f\"\"\"\n",
    "The t-Statistic is: {t_stat}\n",
    "The p-value is: {p_value} \\n\"\"\"  )\n",
    "\n",
    "if p_value<0.05:\n",
    "    print(f\"Ho is rejected in favour of Ha\")\n",
    "else:\n",
    "    print(\"Failed to reject Ho\")"
   ]
  },
  {
   "cell_type": "code",
   "execution_count": null,
   "id": "e23290e3",
   "metadata": {},
   "outputs": [],
   "source": []
  },
  {
   "cell_type": "markdown",
   "id": "d139b668",
   "metadata": {},
   "source": [
    "#### Example 3\n",
    "Energy intake in mJ (millijoule) and wether obese or not (0=obese, 1=lean)"
   ]
  },
  {
   "cell_type": "code",
   "execution_count": 11,
   "id": "20c5fd7e",
   "metadata": {},
   "outputs": [],
   "source": [
    "energ = np.array([\n",
    "[9.21, 0],\n",
    "[7.53, 1],\n",
    "[7.48, 1],\n",
    "[8.08, 1],\n",
    "[8.09, 1],\n",
    "[10.15, 1],\n",
    "[8.40, 1],\n",
    "[10.88, 1],\n",
    "[6.13, 1],\n",
    "[7.90, 1],\n",
    "[11.51, 0],\n",
    "[12.79, 0],\n",
    "[7.05, 1],\n",
    "[11.85, 0],\n",
    "[9.97, 0],\n",
    "[7.48, 1],\n",
    "[8.79, 0],\n",
    "[9.69, 0],\n",
    "[9.68, 0],\n",
    "[7.58, 1],\n",
    "[9.19, 0],\n",
    "[8.11, 1]])"
   ]
  },
  {
   "cell_type": "code",
   "execution_count": 25,
   "id": "36d3323a",
   "metadata": {},
   "outputs": [
    {
     "data": {
      "text/plain": [
       "([7.53,\n",
       "  7.48,\n",
       "  8.08,\n",
       "  8.09,\n",
       "  10.15,\n",
       "  8.4,\n",
       "  10.88,\n",
       "  6.13,\n",
       "  7.9,\n",
       "  7.05,\n",
       "  7.48,\n",
       "  7.58,\n",
       "  8.11],\n",
       " [9.21, 11.51, 12.79, 11.85, 9.97, 8.79, 9.69, 9.68, 9.19])"
      ]
     },
     "execution_count": 25,
     "metadata": {},
     "output_type": "execute_result"
    }
   ],
   "source": [
    "gp1 = [energ_e[0]  for energ_e in energ if energ_e[1]==1]\n",
    "gp2 = [energ_e[0]  for energ_e in energ if energ_e[1]==0]\n",
    "gp1, gp2"
   ]
  },
  {
   "cell_type": "code",
   "execution_count": 8,
   "id": "313f616d",
   "metadata": {},
   "outputs": [
    {
     "data": {
      "text/plain": [
       "(array([ 7.53,  7.48,  8.08,  8.09, 10.15,  8.4 , 10.88,  6.13,  7.9 ,\n",
       "         7.05,  7.48,  7.58,  8.11]),\n",
       " array([ 9.21, 11.51, 12.79, 11.85,  9.97,  8.79,  9.69,  9.68,  9.19]))"
      ]
     },
     "execution_count": 8,
     "metadata": {},
     "output_type": "execute_result"
    }
   ],
   "source": [
    "# Seperating the data into 2 groups\n",
    "gp1 = energ[ energ[:, 1] == 1][:,0]\n",
    "gp2 = energ[ energ[:, 1] == 0][:, 0]\n",
    "gp1, gp2"
   ]
  },
  {
   "cell_type": "code",
   "execution_count": 26,
   "id": "04bd029e",
   "metadata": {},
   "outputs": [
    {
     "name": "stdout",
     "output_type": "stream",
     "text": [
      "-3.9455649161549835 0.0007989982111700593\n"
     ]
    }
   ],
   "source": [
    "# two-sample t-test\n",
    "# null hypothesis: the two groups have the same mean\n",
    "# this test assumes the two groups have the same variance...\n",
    "# (can be checked with tests for equal variance - Levene)\n",
    "# independent groups: e.g., how boys and girls fare at an exam\n",
    "# dependent groups: e.g., how the same class fare at 2 different exams\n",
    "t_stat, p_value = ttest_ind(gp1, gp2)\n",
    "print(t_stat, p_value)"
   ]
  },
  {
   "cell_type": "code",
   "execution_count": 27,
   "id": "71a682b3",
   "metadata": {},
   "outputs": [
    {
     "name": "stdout",
     "output_type": "stream",
     "text": [
      "two-sample t-test p-value= 0.0007989982111700593\n"
     ]
    }
   ],
   "source": [
    "# p_value < 0.05 => alternative hypothesis:\n",
    "# they don't have the same mean at the 5% significance level\n",
    "print (\"two-sample t-test p-value=\", p_value)"
   ]
  },
  {
   "cell_type": "code",
   "execution_count": 28,
   "id": "da6b76ef",
   "metadata": {},
   "outputs": [
    {
     "name": "stdout",
     "output_type": "stream",
     "text": [
      "\n",
      "The t-Statistic is: -3.9455649161549835\n",
      "The p-value is: 0.0007989982111700593 \n",
      "\n",
      "Ho is rejected in favour of Ha\n"
     ]
    }
   ],
   "source": [
    "print(f\"\"\"\n",
    "The t-Statistic is: {t_stat}\n",
    "The p-value is: {p_value} \\n\"\"\"  )\n",
    "\n",
    "if p_value<0.05:\n",
    "    print(f\"Ho is rejected in favour of Ha\")\n",
    "else:\n",
    "    print(\"Failed to reject Ho\")"
   ]
  },
  {
   "cell_type": "code",
   "execution_count": null,
   "id": "31e08a4b",
   "metadata": {},
   "outputs": [],
   "source": []
  }
 ],
 "metadata": {
  "kernelspec": {
   "display_name": "Python 3",
   "language": "python",
   "name": "python3"
  },
  "language_info": {
   "codemirror_mode": {
    "name": "ipython",
    "version": 3
   },
   "file_extension": ".py",
   "mimetype": "text/x-python",
   "name": "python",
   "nbconvert_exporter": "python",
   "pygments_lexer": "ipython3",
   "version": "3.9.4"
  }
 },
 "nbformat": 4,
 "nbformat_minor": 5
}
