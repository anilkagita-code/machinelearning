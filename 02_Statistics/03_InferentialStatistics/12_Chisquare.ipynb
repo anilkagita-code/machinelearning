{
 "cells": [
  {
   "cell_type": "markdown",
   "id": "676d667b",
   "metadata": {},
   "source": [
    "# Chi-square test"
   ]
  },
  {
   "cell_type": "markdown",
   "id": "11104244",
   "metadata": {},
   "source": [
    "Chi-squared tests use the same calculations and the same probability distribution for different applications:\n",
    "\n",
    "Chi-squared tests for variance are used to determine whether a normal population has a specified variance. The null hypothesis is that it does.\n",
    "Chi-squared tests of independence are used for deciding whether two variables are associated or are independent. The variables are categorical rather than numeric. It can be used to decide whether left-handedness is correlated with height (or not). The null hypothesis is that the variables are independent. The numbers used in the calculation are the observed and expected frequencies of occurrence (from contingency tables).\n",
    "Chi-squared goodness of fit tests are used to determine the adequacy of curves fit to data. The null hypothesis is that the curve fit is adequate. It is common to determine curve shapes to minimize the mean square error, so it is appropriate that the goodness-of-fit calculation sums the squared errors.\n",
    "\n",
    "https://en.wikipedia.org/wiki/Test_statistic"
   ]
  },
  {
   "attachments": {
    "image-2.png": {
     "image/png": "[encoded data removed]"
    },
    "image.png": {
     "image/png": "[encoded data removed]"
    }
   },
   "cell_type": "markdown",
   "id": "1632a754",
   "metadata": {},
   "source": [
    "Chi-squared test for variance\t\n",
    "![image.png](attachment:image.png)\n",
    "\n",
    "df = n-1\n",
    "• Normal population\n",
    "\n",
    "Chi-squared test for goodness of fit\t\n",
    "![image-2.png](attachment:image-2.png)\n",
    "df = k − 1 − # parameters estimated, and one of these must hold.\n",
    "• All expected counts are at least 5.[4]\n",
    "\n",
    "• All expected counts are > 1 and no more than 20% of expected counts are less than 5[5]"
   ]
  },
  {
   "cell_type": "markdown",
   "id": "28217d9c",
   "metadata": {},
   "source": [
    "## Test for Goodness of Fit"
   ]
  },
  {
   "cell_type": "markdown",
   "id": "97d79830",
   "metadata": {},
   "source": [
    "###  Example 1\n",
    "\n",
    "A1 airlines operated daily flights to several Indian cities. The operations manager believes that 30% of their passengers prefer vegan food, 45% prefer vegetarian food , 20% prefer non-veg food 5% request for Jain food. \n",
    "\n",
    "A sample of 500 passengers was chosen to analyse the food preferences and the data is shown in the following table:\n",
    "\n",
    "|               | Food type | Vegan | Vegetarian | Non-Vegetarian | Jain |\n",
    "| ------------------------- | ---- | ---- | ----- | ---- | ---- |\n",
    "|Number of passengers |  | 190 | 185 | 90 | 35 |\n",
    "\n",
    "At 5% level of significance, can you confirm that the meal preference is as per the belief of the operations manager?"
   ]
  },
  {
   "cell_type": "code",
   "execution_count": 3,
   "id": "b2017caf",
   "metadata": {},
   "outputs": [
    {
     "name": "stdout",
     "output_type": "stream",
     "text": [
      "\n",
      "Ho: Meal preferences are same between perceived vs actual\n",
      "Ha: Meal preferences are different between perceived vs actual\n"
     ]
    }
   ],
   "source": [
    "print(\"\"\"\n",
    "Ho: Meal preferences are same between perceived vs actual\n",
    "Ha: Meal preferences are different between perceived vs actual\"\"\")"
   ]
  },
  {
   "cell_type": "code",
   "execution_count": 4,
   "id": "fdcbfb58",
   "metadata": {},
   "outputs": [
    {
     "name": "stdout",
     "output_type": "stream",
     "text": [
      "\n",
      "Significance: alpha is choosen as 0.05\n"
     ]
    }
   ],
   "source": [
    "print(\"\"\"\n",
    "Significance: alpha is choosen as 0.05\"\"\")"
   ]
  },
  {
   "cell_type": "code",
   "execution_count": 5,
   "id": "e7d036e6",
   "metadata": {},
   "outputs": [
    {
     "name": "stdout",
     "output_type": "stream",
     "text": [
      "\n",
      "The test statistic we will use Chi-Square goodness of fit\n"
     ]
    }
   ],
   "source": [
    "print(\"\"\"\n",
    "The test statistic we will use Chi-Square goodness of fit\"\"\")"
   ]
  },
  {
   "cell_type": "code",
   "execution_count": 8,
   "id": "2c056923",
   "metadata": {},
   "outputs": [],
   "source": [
    "# Calculate p-Value\n",
    "\n",
    "import scipy.stats as stats\n",
    "import scipy\n",
    "import numpy as np\n",
    "import pandas as pd"
   ]
  },
  {
   "cell_type": "code",
   "execution_count": 9,
   "id": "87842d1b",
   "metadata": {},
   "outputs": [
    {
     "data": {
      "text/plain": [
       "array([150., 225., 100.,  25.])"
      ]
     },
     "execution_count": 9,
     "metadata": {},
     "output_type": "execute_result"
    }
   ],
   "source": [
    "observed_values = np.array([190, 185, 90, 35])\n",
    "\n",
    "total_samples = observed_values.sum()\n",
    "\n",
    "expected_values = np.array([total_samples*.3, total_samples*.45, total_samples*.2, total_samples*.05])\n",
    "expected_values"
   ]
  },
  {
   "cell_type": "code",
   "execution_count": 10,
   "id": "966af60b",
   "metadata": {},
   "outputs": [],
   "source": [
    "chi_sq_stat, p_value = stats.chisquare(f_obs=observed_values, f_exp=expected_values)"
   ]
  },
  {
   "cell_type": "code",
   "execution_count": 12,
   "id": "293328ed",
   "metadata": {},
   "outputs": [
    {
     "name": "stdout",
     "output_type": "stream",
     "text": [
      "4.492718590376291e-05\n"
     ]
    }
   ],
   "source": [
    "print(p_value)"
   ]
  },
  {
   "cell_type": "code",
   "execution_count": 13,
   "id": "e9a67929",
   "metadata": {},
   "outputs": [
    {
     "name": "stdout",
     "output_type": "stream",
     "text": [
      "\n",
      "Observation: Reject the Ho in favour of Ha\n",
      "\n",
      "There is a difference between the observed values to the Predicted values by manager on the food choices\n"
     ]
    }
   ],
   "source": [
    "print(f\"\"\"\n",
    "Observation: p-value is {p_value} is less than 0.05.  Reject the Ho in favour of Ha\n",
    "\n",
    "There is a difference between the observed values to the Predicted values by manager on the food choices\"\"\")"
   ]
  },
  {
   "cell_type": "markdown",
   "id": "867d8d6b",
   "metadata": {},
   "source": [
    "### Practice Exercise 2\n",
    "Refer to the above example 1. Here the operations manager changes his belief and now believes that 28% of their passengers prefer vegan food, 42% prefer vegetarian food , 25% prefer non-veg food 5% request for Jain food. \n",
    "\n",
    "At 5% level of significance, can you confirm that the meal preference is as per the belief of the operations manager?"
   ]
  },
  {
   "cell_type": "code",
   "execution_count": 15,
   "id": "a936340e",
   "metadata": {},
   "outputs": [
    {
     "data": {
      "text/plain": [
       "array([140., 210., 125.,  25.])"
      ]
     },
     "execution_count": 15,
     "metadata": {},
     "output_type": "execute_result"
    }
   ],
   "source": [
    "observed_values = np.array([190, 185, 90, 35])\n",
    "total_samples = observed_values.sum()\n",
    "expected_values = np.array([total_samples*.28, total_samples* .42, total_samples* .25, total_samples* .05])\n",
    "expected_values"
   ]
  },
  {
   "cell_type": "code",
   "execution_count": 16,
   "id": "25ec4867",
   "metadata": {},
   "outputs": [
    {
     "data": {
      "text/plain": [
       "1.4561004918754443e-07"
      ]
     },
     "execution_count": 16,
     "metadata": {},
     "output_type": "execute_result"
    }
   ],
   "source": [
    "chi_sq_stat, p_value = stats.chisquare(f_obs=observed_values, f_exp=expected_values)\n",
    "p_value"
   ]
  },
  {
   "cell_type": "code",
   "execution_count": 17,
   "id": "eb061833",
   "metadata": {},
   "outputs": [
    {
     "name": "stdout",
     "output_type": "stream",
     "text": [
      "\n",
      "Observation: p-value is 1.4561004918754443e-07 is less than 0.05. Reject the Ho in favour of Ha\n",
      "\n",
      "There is a difference between the observed values to the Predicted values by manager on the food choices\n"
     ]
    }
   ],
   "source": [
    "print(f\"\"\"\n",
    "Observation: p-value is {p_value} is less than 0.05. Reject the Ho in favour of Ha\n",
    "\n",
    "There is a difference between the observed values to the Predicted values by manager on the food choices\"\"\")"
   ]
  },
  {
   "cell_type": "code",
   "execution_count": null,
   "id": "220c6bde",
   "metadata": {},
   "outputs": [],
   "source": []
  },
  {
   "cell_type": "markdown",
   "id": "d0954573",
   "metadata": {},
   "source": [
    "## Test of Independence"
   ]
  },
  {
   "cell_type": "markdown",
   "id": "510f6e02",
   "metadata": {},
   "source": [
    "### Example Ind_1 \n",
    "\n",
    "The table below contains the number of perfect, satisfactory and defective products are manufactured by both male and female.\n",
    "\n",
    "| Gender  | Perfect | Satisfactory | Defective |\n",
    "| ------- | ---- | --------- | -------- |\n",
    "| Male    | 138 | 83 | 64 |\n",
    "| Female  | 64 | 67 | 84 |\n",
    "\n",
    "\n",
    "Do these data provide sufficient evidence at the 5% significance level to infer that there are differences in quality among genders (Male and Female)?"
   ]
  },
  {
   "cell_type": "code",
   "execution_count": 19,
   "id": "a8866d3f",
   "metadata": {},
   "outputs": [
    {
     "name": "stdout",
     "output_type": "stream",
     "text": [
      "\n",
      "Ho: There is no difference between the parts manufactured by Male or Female\n",
      "\n",
      "Ha: There is difference between the parts manufactured by Male or Female\n"
     ]
    }
   ],
   "source": [
    "print(\"\"\"\n",
    "Ho: There is no difference between the parts manufactured by Male or Female\n",
    "\n",
    "Ha: There is difference between the parts manufactured by Male or Female\"\"\")"
   ]
  },
  {
   "cell_type": "code",
   "execution_count": 20,
   "id": "e44bc77a",
   "metadata": {},
   "outputs": [
    {
     "name": "stdout",
     "output_type": "stream",
     "text": [
      "\n",
      "Significance alpha: 0.05\n"
     ]
    }
   ],
   "source": [
    "print(\"\"\"\n",
    "Significance alpha: 0.05\"\"\")"
   ]
  },
  {
   "cell_type": "code",
   "execution_count": 21,
   "id": "2fbc60c6",
   "metadata": {},
   "outputs": [],
   "source": [
    "quality_array = np.array([[138, 83, 64], [64, 67, 84]])\n",
    "chi_sq_ind_stat, p_value, deg_free, exp_freq = stats.chi2_contingency(quality_array)"
   ]
  },
  {
   "cell_type": "code",
   "execution_count": 22,
   "id": "82ba3edb",
   "metadata": {},
   "outputs": [
    {
     "name": "stdout",
     "output_type": "stream",
     "text": [
      "\n",
      "We reject the Ho since 1.547578021398957e-05 is < 0.05\n"
     ]
    }
   ],
   "source": [
    "print(f\"\"\"\n",
    "We reject the Ho since {p_value} is < 0.05\"\"\")"
   ]
  },
  {
   "cell_type": "code",
   "execution_count": 25,
   "id": "a8554d62",
   "metadata": {},
   "outputs": [
    {
     "name": "stdout",
     "output_type": "stream",
     "text": [
      "22.152468645918482\n"
     ]
    }
   ],
   "source": [
    "print(chi_sq_ind_stat)"
   ]
  },
  {
   "cell_type": "code",
   "execution_count": null,
   "id": "cd3dcf30",
   "metadata": {},
   "outputs": [],
   "source": []
  }
 ],
 "metadata": {
  "kernelspec": {
   "display_name": "Python 3",
   "language": "python",
   "name": "python3"
  },
  "language_info": {
   "codemirror_mode": {
    "name": "ipython",
    "version": 3
   },
   "file_extension": ".py",
   "mimetype": "text/x-python",
   "name": "python",
   "nbconvert_exporter": "python",
   "pygments_lexer": "ipython3",
   "version": "3.9.4"
  }
 },
 "nbformat": 4,
 "nbformat_minor": 5
}
