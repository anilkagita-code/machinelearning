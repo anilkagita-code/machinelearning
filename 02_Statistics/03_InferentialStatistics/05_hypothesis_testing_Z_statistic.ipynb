{
 "cells": [
  {
   "cell_type": "markdown",
   "id": "399bee5d",
   "metadata": {},
   "source": [
    "# Hypothesis Testing"
   ]
  },
  {
   "cell_type": "code",
   "execution_count": 2,
   "id": "8c26ccd8",
   "metadata": {},
   "outputs": [],
   "source": [
    "import numpy as np\n",
    "import pandas as pd"
   ]
  },
  {
   "cell_type": "markdown",
   "id": "4b19b7c7",
   "metadata": {},
   "source": [
    "### Problem"
   ]
  },
  {
   "cell_type": "markdown",
   "id": "ef2b1510",
   "metadata": {},
   "source": [
    "A machine is producing perfume bottles with the long term average of 150cc and the standard deviation of 2 cc. Four bottles were picked and the average volume was found to be 153.8cc. Has the average volume changed from 150cc? Test with 95% confidence level.\n",
    "\n",
    "Alternate Hypothesis: Mean volume != 150cc\n",
    "\n",
    "Null Hypothesis: Mean volume = 150cc\n",
    "\n",
    "Alpha = 1 - 0.95 = 0.05\n",
    "\n",
    "Z calculated = (Observed mean - population mean) / standard error \n",
    "\n",
    "z = (x — μ) / (σ / √n)"
   ]
  },
  {
   "cell_type": "code",
   "execution_count": 3,
   "id": "31e74309",
   "metadata": {},
   "outputs": [
    {
     "data": {
      "text/plain": [
       "3.8000000000000114"
      ]
     },
     "execution_count": 3,
     "metadata": {},
     "output_type": "execute_result"
    }
   ],
   "source": [
    "x = 153.8\n",
    "mu = 150\n",
    "sd = 2\n",
    "n = 4\n",
    "Z_cal = (x - mu)/(sd/np.sqrt(4))\n",
    "Z_cal"
   ]
  },
  {
   "cell_type": "code",
   "execution_count": 4,
   "id": "521e4b98",
   "metadata": {},
   "outputs": [],
   "source": [
    "from scipy.stats import norm"
   ]
  },
  {
   "cell_type": "code",
   "execution_count": 5,
   "id": "382cd558",
   "metadata": {},
   "outputs": [
    {
     "data": {
      "text/plain": [
       "0.0001446960878502333"
      ]
     },
     "execution_count": 5,
     "metadata": {},
     "output_type": "execute_result"
    }
   ],
   "source": [
    "# Since this sf gives only one tale right hand area we should multiply to with 2 to get the p-value\n",
    "p_value = 2* norm.sf(Z_cal)\n",
    "p_value"
   ]
  },
  {
   "cell_type": "code",
   "execution_count": 8,
   "id": "4d41de5e",
   "metadata": {},
   "outputs": [
    {
     "name": "stdout",
     "output_type": "stream",
     "text": [
      "\n",
      "Since 0.000145 is lower than 0.05, null hypothesis is rejected\n"
     ]
    }
   ],
   "source": [
    "print(f\"\"\"\n",
    "Since {p_value:5f} is lower than 0.05, null hypothesis is rejected\"\"\")"
   ]
  },
  {
   "cell_type": "code",
   "execution_count": 11,
   "id": "efc128e3",
   "metadata": {},
   "outputs": [
    {
     "name": "stdout",
     "output_type": "stream",
     "text": [
      "Reject Null: p-value=0.0001446960878502333\n"
     ]
    }
   ],
   "source": [
    "# or\n",
    "# this could be done using\n",
    "sample_sd = sd/np.sqrt(4)\n",
    "p_value_direct = 2* norm.sf(x=153.8, loc=mu, scale=sample_sd)\n",
    "if p_value_direct < 0.05:\n",
    "    print(f'Reject Null: p-value={p_value_direct}')\n",
    "else:\n",
    "    print(f'Fail to reject null: p-value={p_value_direct}')  "
   ]
  },
  {
   "cell_type": "code",
   "execution_count": null,
   "id": "64f2f423",
   "metadata": {},
   "outputs": [],
   "source": []
  }
 ],
 "metadata": {
  "kernelspec": {
   "display_name": "Python 3",
   "language": "python",
   "name": "python3"
  },
  "language_info": {
   "codemirror_mode": {
    "name": "ipython",
    "version": 3
   },
   "file_extension": ".py",
   "mimetype": "text/x-python",
   "name": "python",
   "nbconvert_exporter": "python",
   "pygments_lexer": "ipython3",
   "version": "3.9.4"
  }
 },
 "nbformat": 4,
 "nbformat_minor": 5
}
