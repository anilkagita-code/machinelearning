{
 "cells": [
  {
   "cell_type": "markdown",
   "id": "48c748cd",
   "metadata": {},
   "source": [
    "# One Proportion Test"
   ]
  },
  {
   "attachments": {},
   "cell_type": "markdown",
   "id": "11de14d4",
   "metadata": {},
   "source": [
    "\t\t\tiii. One proportion test\n",
    "\t\t\t\t1) Categorical data\n",
    "\t\t\t\t2) Conditions for 1-proportion-test\n",
    "\t\t\t\t\ta) Random samples\n",
    "\t\t\t\t\tb) Each observation should be independent of other\n",
    "\t\t\t\t\t\ti) Sampling with replacement\n",
    "\t\t\t\t\t\tii) If sampling without replacement, the sample size should not be more than 10% of the population\n",
    "\t\t\t\t\tc) The data contains only two categories, such as pass/fail or yes/no\n",
    "\t\t\t\t\t\ti) For Normal approximation:\n",
    "\t\t\t\t\t\tii) both np≥10 and n(1−p)≥10 (data should have at least 10 \"successes\" and at least 10 \"failures\" ) (in some books it is 5)\n"
   ]
  },
  {
   "attachments": {},
   "cell_type": "markdown",
   "id": "cc737b30",
   "metadata": {},
   "source": [
    "### Manual\n",
    "\n",
    "\n",
    "\n",
    "Example 1: Smoking rate in a town in past was 21%, 100 samples were picked and found 14 smokers. Has smoking habit changed? (95% confidence level)\n",
    "\n",
    "H0 : p = p0\n",
    "\n",
    "Ha : p ≠ p0\n",
    "\n",
    "This is a two-tailed test \n",
    "\n",
    "𝑧calculated=(𝑝−𝑝0) / sqrt(  (p0 (1-p0)) / n)\n",
    "\n",
    "\n",
    "Can Normality assumption be made?\n",
    "\n",
    "n = 100\n",
    "\n",
    "p0 = 0.21, p = 0.14\n",
    "\n",
    "np0 = 0.21x100 = 21\n",
    "\n",
    "n(1-p0)= 0.79x100 = 79\n",
    "\n",
    "Since both are >10 means sample size is sufficient and normality can be assumed\n",
    "\n",
    "\n",
    "\n",
    "zcalculated=(0.14−0.21)/sqrt((0.21*(1−0.21))/100) = -1.719\n",
    "\n",
    "Zcritical = +-1.96\n",
    "\n",
    "Since Z calculated < Z Critical is \"failed to reject null hypothesis\"\n",
    "\n",
    "\n",
    "\n",
    "\n",
    "\n"
   ]
  },
  {
   "cell_type": "markdown",
   "id": "85ea8f39",
   "metadata": {},
   "source": [
    "\n",
    "\n",
    "Example 2: Smoking rate in a town in past was 21%, 100 samples were picked and found 14 smokers. Has smoking habit reduced? (95% confidence level)\n",
    "\n",
    "H0 : p = p0\n",
    "\n",
    "Ha : p ≠ p0\n",
    "\n",
    "This is a one-tailed test \n",
    "\n",
    "𝑧calculated=(𝑝−𝑝0) / sqrt(  (p0 (1-p0)) / n)\n",
    "\n",
    "Can Normality assumption be made?\n",
    "\n",
    "n = 100\n",
    "\n",
    "p0 = 0.21, p = 0.14\n",
    "\n",
    "np0 = 0.21x100 = 21\n",
    "\n",
    "n(1-p0)= 0.79x100 = 79\n",
    "\n",
    "Since both are >10 means sample size is sufficient and normality can be assumed\n",
    "\n",
    "zcalculated=(0.14−0.21)/sqrt((0.21*(1−0.21))/100) = -1.719\n",
    "\n",
    "Zcritical = -1.645\n",
    "\n",
    "\n",
    "Since Z calculated > Z Critical is \"reject null hypothesis\"\n",
    "\n",
    "There is a reduction in smoking habbit.\n"
   ]
  },
  {
   "cell_type": "markdown",
   "id": "0321851f",
   "metadata": {},
   "source": [
    "#### Python"
   ]
  },
  {
   "cell_type": "code",
   "execution_count": 2,
   "id": "582a9048",
   "metadata": {},
   "outputs": [],
   "source": [
    "import numpy as np\n",
    "import pandas as pd\n",
    "import matplotlib.pyplot as plt\n",
    "import seaborn as sns\n",
    "import scipy.stats as stats"
   ]
  },
  {
   "cell_type": "markdown",
   "id": "e48fa71f",
   "metadata": {},
   "source": [
    "\n",
    "Example 1: Smoking rate in a town in past was 21%, 100 samples were picked and found 14 smokers. Has smoking habit changed? (95% confidence level)\n"
   ]
  },
  {
   "cell_type": "code",
   "execution_count": 4,
   "id": "395fa7e2",
   "metadata": {},
   "outputs": [
    {
     "name": "stdout",
     "output_type": "stream",
     "text": [
      "0.1092081572082592\n",
      "Failed to reject Ho\n"
     ]
    }
   ],
   "source": [
    "x = 14\n",
    "p=0.21\n",
    "n=100\n",
    "p=0.05\n",
    "\n",
    "p_value = stats.binom_test(x=14, n=100, p=0.21, alternative='two-sided')\n",
    "print(p_value)\n",
    "\n",
    "\n",
    "if p_value<0.05:\n",
    "    print(f\"Ho is rejected in favour of Ha\")\n",
    "else:\n",
    "    print(\"Failed to reject Ho\")"
   ]
  },
  {
   "cell_type": "markdown",
   "id": "009eff8a",
   "metadata": {},
   "source": [
    "\n",
    "Example 2: Smoking rate in a town in past was 21%, 100 samples were picked and found 14 smokers. Has smoking habit reduced? (95% confidence level)\n"
   ]
  },
  {
   "cell_type": "code",
   "execution_count": 6,
   "id": "78121089",
   "metadata": {},
   "outputs": [
    {
     "name": "stdout",
     "output_type": "stream",
     "text": [
      "0.0504246022155211\n",
      "Failed to reject Ho\n"
     ]
    }
   ],
   "source": [
    "x = 14\n",
    "p=0.21\n",
    "n=100\n",
    "p=0.05\n",
    "\n",
    "p_value = stats.binom_test(x=14, n=100, p=0.21, alternative='less')\n",
    "print(p_value)\n",
    "\n",
    "\n",
    "if p_value<0.05:\n",
    "    print(f\"Ho is rejected in favour of Ha\")\n",
    "else:\n",
    "    print(\"Failed to reject Ho\")"
   ]
  },
  {
   "cell_type": "code",
   "execution_count": 8,
   "id": "a7f93830",
   "metadata": {},
   "outputs": [
    {
     "name": "stdout",
     "output_type": "stream",
     "text": [
      "Conclusion: There is a difference the manual computed to Python in the Example 2, Python way might be correct. Even manual one also was very near to the critical value\n"
     ]
    }
   ],
   "source": [
    "print('Conclusion: There is a difference the manual computed to Python in the Example 2, Python way might be correct. Even manual one also was very near to the critical value')"
   ]
  },
  {
   "cell_type": "markdown",
   "id": "110353fd",
   "metadata": {},
   "source": [
    "#### Loading data from file"
   ]
  },
  {
   "cell_type": "code",
   "execution_count": 9,
   "id": "5f372f58",
   "metadata": {},
   "outputs": [
    {
     "data": {
      "text/html": [
       "<div>\n",
       "<style scoped>\n",
       "    .dataframe tbody tr th:only-of-type {\n",
       "        vertical-align: middle;\n",
       "    }\n",
       "\n",
       "    .dataframe tbody tr th {\n",
       "        vertical-align: top;\n",
       "    }\n",
       "\n",
       "    .dataframe thead th {\n",
       "        text-align: right;\n",
       "    }\n",
       "</style>\n",
       "<table border=\"1\" class=\"dataframe\">\n",
       "  <thead>\n",
       "    <tr style=\"text-align: right;\">\n",
       "      <th></th>\n",
       "      <th>Name</th>\n",
       "      <th>Smokers</th>\n",
       "    </tr>\n",
       "  </thead>\n",
       "  <tbody>\n",
       "    <tr>\n",
       "      <th>0</th>\n",
       "      <td>Person 1</td>\n",
       "      <td>No</td>\n",
       "    </tr>\n",
       "    <tr>\n",
       "      <th>1</th>\n",
       "      <td>Person 2</td>\n",
       "      <td>No</td>\n",
       "    </tr>\n",
       "    <tr>\n",
       "      <th>2</th>\n",
       "      <td>Person 3</td>\n",
       "      <td>No</td>\n",
       "    </tr>\n",
       "    <tr>\n",
       "      <th>3</th>\n",
       "      <td>Person 4</td>\n",
       "      <td>Yes</td>\n",
       "    </tr>\n",
       "    <tr>\n",
       "      <th>4</th>\n",
       "      <td>Person 5</td>\n",
       "      <td>No</td>\n",
       "    </tr>\n",
       "    <tr>\n",
       "      <th>...</th>\n",
       "      <td>...</td>\n",
       "      <td>...</td>\n",
       "    </tr>\n",
       "    <tr>\n",
       "      <th>95</th>\n",
       "      <td>Person 96</td>\n",
       "      <td>No</td>\n",
       "    </tr>\n",
       "    <tr>\n",
       "      <th>96</th>\n",
       "      <td>Person 97</td>\n",
       "      <td>No</td>\n",
       "    </tr>\n",
       "    <tr>\n",
       "      <th>97</th>\n",
       "      <td>Person 98</td>\n",
       "      <td>No</td>\n",
       "    </tr>\n",
       "    <tr>\n",
       "      <th>98</th>\n",
       "      <td>Person 99</td>\n",
       "      <td>No</td>\n",
       "    </tr>\n",
       "    <tr>\n",
       "      <th>99</th>\n",
       "      <td>Person 100</td>\n",
       "      <td>No</td>\n",
       "    </tr>\n",
       "  </tbody>\n",
       "</table>\n",
       "<p>100 rows × 2 columns</p>\n",
       "</div>"
      ],
      "text/plain": [
       "          Name Smokers\n",
       "0     Person 1      No\n",
       "1     Person 2      No\n",
       "2     Person 3      No\n",
       "3     Person 4     Yes\n",
       "4     Person 5      No\n",
       "..         ...     ...\n",
       "95   Person 96      No\n",
       "96   Person 97      No\n",
       "97   Person 98      No\n",
       "98   Person 99      No\n",
       "99  Person 100      No\n",
       "\n",
       "[100 rows x 2 columns]"
      ]
     },
     "execution_count": 9,
     "metadata": {},
     "output_type": "execute_result"
    }
   ],
   "source": [
    "df_smokers = pd.read_csv('data/Smokers.csv')\n",
    "df_smokers"
   ]
  },
  {
   "cell_type": "code",
   "execution_count": 10,
   "id": "2b9b9191",
   "metadata": {},
   "outputs": [
    {
     "data": {
      "text/html": [
       "<div>\n",
       "<style scoped>\n",
       "    .dataframe tbody tr th:only-of-type {\n",
       "        vertical-align: middle;\n",
       "    }\n",
       "\n",
       "    .dataframe tbody tr th {\n",
       "        vertical-align: top;\n",
       "    }\n",
       "\n",
       "    .dataframe thead th {\n",
       "        text-align: right;\n",
       "    }\n",
       "</style>\n",
       "<table border=\"1\" class=\"dataframe\">\n",
       "  <thead>\n",
       "    <tr style=\"text-align: right;\">\n",
       "      <th></th>\n",
       "      <th>Name</th>\n",
       "    </tr>\n",
       "    <tr>\n",
       "      <th>Smokers</th>\n",
       "      <th></th>\n",
       "    </tr>\n",
       "  </thead>\n",
       "  <tbody>\n",
       "    <tr>\n",
       "      <th>No</th>\n",
       "      <td>86</td>\n",
       "    </tr>\n",
       "    <tr>\n",
       "      <th>Yes</th>\n",
       "      <td>14</td>\n",
       "    </tr>\n",
       "  </tbody>\n",
       "</table>\n",
       "</div>"
      ],
      "text/plain": [
       "         Name\n",
       "Smokers      \n",
       "No         86\n",
       "Yes        14"
      ]
     },
     "execution_count": 10,
     "metadata": {},
     "output_type": "execute_result"
    }
   ],
   "source": [
    "df_smokers.groupby('Smokers').count()"
   ]
  },
  {
   "cell_type": "code",
   "execution_count": 12,
   "id": "4b788c16",
   "metadata": {},
   "outputs": [
    {
     "data": {
      "text/plain": [
       "No     86\n",
       "Yes    14\n",
       "Name: Smokers, dtype: int64"
      ]
     },
     "execution_count": 12,
     "metadata": {},
     "output_type": "execute_result"
    }
   ],
   "source": [
    "df_smokers['Smokers'].value_counts()"
   ]
  },
  {
   "cell_type": "code",
   "execution_count": 13,
   "id": "01b43db8",
   "metadata": {},
   "outputs": [
    {
     "data": {
      "text/html": [
       "<div>\n",
       "<style scoped>\n",
       "    .dataframe tbody tr th:only-of-type {\n",
       "        vertical-align: middle;\n",
       "    }\n",
       "\n",
       "    .dataframe tbody tr th {\n",
       "        vertical-align: top;\n",
       "    }\n",
       "\n",
       "    .dataframe thead th {\n",
       "        text-align: right;\n",
       "    }\n",
       "</style>\n",
       "<table border=\"1\" class=\"dataframe\">\n",
       "  <thead>\n",
       "    <tr style=\"text-align: right;\">\n",
       "      <th></th>\n",
       "      <th>Name</th>\n",
       "    </tr>\n",
       "    <tr>\n",
       "      <th>Smokers</th>\n",
       "      <th></th>\n",
       "    </tr>\n",
       "  </thead>\n",
       "  <tbody>\n",
       "    <tr>\n",
       "      <th>No</th>\n",
       "      <td>86</td>\n",
       "    </tr>\n",
       "    <tr>\n",
       "      <th>Yes</th>\n",
       "      <td>14</td>\n",
       "    </tr>\n",
       "  </tbody>\n",
       "</table>\n",
       "</div>"
      ],
      "text/plain": [
       "         Name\n",
       "Smokers      \n",
       "No         86\n",
       "Yes        14"
      ]
     },
     "execution_count": 13,
     "metadata": {},
     "output_type": "execute_result"
    }
   ],
   "source": [
    "smokers_summary = df_smokers.groupby('Smokers').count()\n",
    "smokers_summary"
   ]
  },
  {
   "cell_type": "code",
   "execution_count": 16,
   "id": "946f5d07",
   "metadata": {},
   "outputs": [
    {
     "data": {
      "text/html": [
       "<div>\n",
       "<style scoped>\n",
       "    .dataframe tbody tr th:only-of-type {\n",
       "        vertical-align: middle;\n",
       "    }\n",
       "\n",
       "    .dataframe tbody tr th {\n",
       "        vertical-align: top;\n",
       "    }\n",
       "\n",
       "    .dataframe thead th {\n",
       "        text-align: right;\n",
       "    }\n",
       "</style>\n",
       "<table border=\"1\" class=\"dataframe\">\n",
       "  <thead>\n",
       "    <tr style=\"text-align: right;\">\n",
       "      <th></th>\n",
       "      <th>Name</th>\n",
       "    </tr>\n",
       "    <tr>\n",
       "      <th>Smokers</th>\n",
       "      <th></th>\n",
       "    </tr>\n",
       "  </thead>\n",
       "  <tbody>\n",
       "    <tr>\n",
       "      <th>Yes</th>\n",
       "      <td>14</td>\n",
       "    </tr>\n",
       "    <tr>\n",
       "      <th>No</th>\n",
       "      <td>86</td>\n",
       "    </tr>\n",
       "  </tbody>\n",
       "</table>\n",
       "</div>"
      ],
      "text/plain": [
       "         Name\n",
       "Smokers      \n",
       "Yes        14\n",
       "No         86"
      ]
     },
     "execution_count": 16,
     "metadata": {},
     "output_type": "execute_result"
    }
   ],
   "source": [
    "smokers_summary = smokers_summary.reindex(['Yes', 'No'])\n",
    "smokers_summary"
   ]
  },
  {
   "cell_type": "code",
   "execution_count": 17,
   "id": "f17d1484",
   "metadata": {},
   "outputs": [],
   "source": [
    "p_value = stats.binom_test(smokers_summary, p=0.21, alternative='two-sided')"
   ]
  },
  {
   "cell_type": "code",
   "execution_count": 18,
   "id": "8a818c25",
   "metadata": {},
   "outputs": [
    {
     "name": "stdout",
     "output_type": "stream",
     "text": [
      "P value is: [0.10920816]\n",
      "Failed to reject Ho\n"
     ]
    }
   ],
   "source": [
    "print(f'P value is: {p_value}')\n",
    "if p_value<0.05:\n",
    "    print(f\"Ho is rejected in favour of Ha\")\n",
    "else:\n",
    "    print(\"Failed to reject Ho\")"
   ]
  },
  {
   "cell_type": "code",
   "execution_count": null,
   "id": "6a928c7f",
   "metadata": {},
   "outputs": [],
   "source": []
  }
 ],
 "metadata": {
  "kernelspec": {
   "display_name": "Python 3",
   "language": "python",
   "name": "python3"
  },
  "language_info": {
   "codemirror_mode": {
    "name": "ipython",
    "version": 3
   },
   "file_extension": ".py",
   "mimetype": "text/x-python",
   "name": "python",
   "nbconvert_exporter": "python",
   "pygments_lexer": "ipython3",
   "version": "3.9.4"
  }
 },
 "nbformat": 4,
 "nbformat_minor": 5
}
