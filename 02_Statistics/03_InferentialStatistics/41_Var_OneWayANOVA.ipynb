{
 "cells": [
  {
   "cell_type": "markdown",
   "id": "ec45276e",
   "metadata": {},
   "source": [
    "# One Way ANOVA\n",
    "\n",
    "F-tests (analysis of variance, ANOVA) are commonly used when deciding whether groupings of data by category are meaningful. If the variance of test scores of the left-handed in a class is much smaller than the variance of the whole class, then it may be useful to study lefties as a group. The null hypothesis is that two variances are the same – so the proposed grouping is not meaningful."
   ]
  },
  {
   "cell_type": "code",
   "execution_count": 1,
   "id": "54c9f1c0",
   "metadata": {},
   "outputs": [],
   "source": [
    "import pandas as pd\n",
    "import numpy as np\n",
    "import matplotlib.pyplot as plt\n",
    "import seaborn as sns\n",
    "import scipy.stats as stats"
   ]
  },
  {
   "cell_type": "code",
   "execution_count": 2,
   "id": "6cec7738",
   "metadata": {},
   "outputs": [],
   "source": [
    "# ols will create a model\n",
    "import statsmodels.api as sm\n",
    "\n",
    "# Gives teh Anova table for the given linear model\n",
    "from statsmodels.formula.api import ols"
   ]
  },
  {
   "cell_type": "code",
   "execution_count": 3,
   "id": "f41253f7",
   "metadata": {},
   "outputs": [],
   "source": [
    "from statsmodels.stats.multicomp import pairwise_tukeyhsd"
   ]
  },
  {
   "cell_type": "code",
   "execution_count": 10,
   "id": "76ec9d18",
   "metadata": {},
   "outputs": [],
   "source": [
    "import statsmodels.stats.oneway as oneway"
   ]
  },
  {
   "cell_type": "markdown",
   "id": "0807f65c",
   "metadata": {},
   "source": [
    "### Example 1:\n",
    "Compare if the means of there machines are equal"
   ]
  },
  {
   "cell_type": "code",
   "execution_count": 33,
   "id": "116a57a9",
   "metadata": {},
   "outputs": [],
   "source": [
    "# Data from 3 different machines\n",
    "m1 = [150, 151, 152, 152, 151, 150]\n",
    "m2 = [153, 152, 148, 151, 149, 152]\n",
    "m3 = [156, 154, 155, 156, 157, 155]"
   ]
  },
  {
   "cell_type": "code",
   "execution_count": 6,
   "id": "a76a50f2",
   "metadata": {},
   "outputs": [],
   "source": [
    "f_stat, p_value = stats.f_oneway(m1, m2, m3)"
   ]
  },
  {
   "cell_type": "code",
   "execution_count": 9,
   "id": "e245e623",
   "metadata": {},
   "outputs": [
    {
     "name": "stdout",
     "output_type": "stream",
     "text": [
      "\n",
      "The f-Statistic is: 22.264705882352935\n",
      "The p-value is: 3.2374085509077445e-05 \n",
      "\n",
      "Ho is rejected in favour of Ha, at least on machine the means are different\n"
     ]
    }
   ],
   "source": [
    "print(f\"\"\"\n",
    "The f-Statistic is: {f_stat}\n",
    "The p-value is: {p_value} \\n\"\"\"  )\n",
    "\n",
    "if p_value<0.05:\n",
    "    print(f\"Ho is rejected in favour of Ha, at least on machine the means are different\")\n",
    "else:\n",
    "    print(\"Failed to reject Ho, the means of all the machines are equal\")"
   ]
  },
  {
   "cell_type": "code",
   "execution_count": 11,
   "id": "6a48953b",
   "metadata": {},
   "outputs": [
    {
     "data": {
      "text/plain": [
       "<class 'statsmodels.stats.base.HolderTuple'>\n",
       "statistic = 32.670604190080006\n",
       "pvalue = 5.859368513204802e-05\n",
       "df = (2.0, 9.400451496253474)\n",
       "df_num = 2.0\n",
       "df_denom = 9.400451496253474\n",
       "nobs_t = 18.0\n",
       "n_groups = 3\n",
       "means = [151.         150.83333333 155.5       ]\n",
       "nobs = [6. 6. 6.]\n",
       "vars_ = [0.8        3.76666667 1.1       ]\n",
       "use_var = unequal\n",
       "welch_correction = True\n",
       "tuple = (32.670604190080006, 5.859368513204802e-05)"
      ]
     },
     "execution_count": 11,
     "metadata": {},
     "output_type": "execute_result"
    }
   ],
   "source": [
    "oneway.anova_oneway((m1, m2, m3))"
   ]
  },
  {
   "cell_type": "code",
   "execution_count": 12,
   "id": "f57ec6c9",
   "metadata": {},
   "outputs": [
    {
     "data": {
      "text/plain": [
       "<class 'statsmodels.stats.base.HolderTuple'>\n",
       "statistic = 22.264705882352892\n",
       "pvalue = 3.237408550907782e-05\n",
       "df = (2.0, 15.0)\n",
       "df_num = 2.0\n",
       "df_denom = 15.0\n",
       "nobs_t = 18.0\n",
       "n_groups = 3\n",
       "means = [151.         150.83333333 155.5       ]\n",
       "nobs = [6. 6. 6.]\n",
       "vars_ = [0.8        3.76666667 1.1       ]\n",
       "use_var = equal\n",
       "welch_correction = True\n",
       "tuple = (22.264705882352892, 3.237408550907782e-05)"
      ]
     },
     "execution_count": 12,
     "metadata": {},
     "output_type": "execute_result"
    }
   ],
   "source": [
    "oneway.anova_oneway((m1, m2, m3), use_var='equal')"
   ]
  },
  {
   "cell_type": "code",
   "execution_count": 13,
   "id": "267b9744",
   "metadata": {},
   "outputs": [
    {
     "name": "stdout",
     "output_type": "stream",
     "text": [
      "Once the Use_var is set to equal, both oneway ANOVA and Stats f_oneway give the same result\n"
     ]
    }
   ],
   "source": [
    "print(\"Once the Use_var is set to equal, both oneway ANOVA and Stats f_oneway give the same result\")"
   ]
  },
  {
   "cell_type": "code",
   "execution_count": 37,
   "id": "ccb700d0",
   "metadata": {},
   "outputs": [
    {
     "data": {
      "text/html": [
       "<div>\n",
       "<style scoped>\n",
       "    .dataframe tbody tr th:only-of-type {\n",
       "        vertical-align: middle;\n",
       "    }\n",
       "\n",
       "    .dataframe tbody tr th {\n",
       "        vertical-align: top;\n",
       "    }\n",
       "\n",
       "    .dataframe thead th {\n",
       "        text-align: right;\n",
       "    }\n",
       "</style>\n",
       "<table border=\"1\" class=\"dataframe\">\n",
       "  <thead>\n",
       "    <tr style=\"text-align: right;\">\n",
       "      <th></th>\n",
       "      <th>Machine</th>\n",
       "      <th>volume</th>\n",
       "    </tr>\n",
       "  </thead>\n",
       "  <tbody>\n",
       "    <tr>\n",
       "      <th>0</th>\n",
       "      <td>Machine1</td>\n",
       "      <td>150</td>\n",
       "    </tr>\n",
       "    <tr>\n",
       "      <th>1</th>\n",
       "      <td>Machine1</td>\n",
       "      <td>151</td>\n",
       "    </tr>\n",
       "    <tr>\n",
       "      <th>2</th>\n",
       "      <td>Machine1</td>\n",
       "      <td>152</td>\n",
       "    </tr>\n",
       "    <tr>\n",
       "      <th>3</th>\n",
       "      <td>Machine1</td>\n",
       "      <td>152</td>\n",
       "    </tr>\n",
       "    <tr>\n",
       "      <th>4</th>\n",
       "      <td>Machine1</td>\n",
       "      <td>151</td>\n",
       "    </tr>\n",
       "    <tr>\n",
       "      <th>5</th>\n",
       "      <td>Machine1</td>\n",
       "      <td>150</td>\n",
       "    </tr>\n",
       "    <tr>\n",
       "      <th>0</th>\n",
       "      <td>Machine2</td>\n",
       "      <td>153</td>\n",
       "    </tr>\n",
       "    <tr>\n",
       "      <th>1</th>\n",
       "      <td>Machine2</td>\n",
       "      <td>152</td>\n",
       "    </tr>\n",
       "    <tr>\n",
       "      <th>2</th>\n",
       "      <td>Machine2</td>\n",
       "      <td>148</td>\n",
       "    </tr>\n",
       "    <tr>\n",
       "      <th>3</th>\n",
       "      <td>Machine2</td>\n",
       "      <td>151</td>\n",
       "    </tr>\n",
       "    <tr>\n",
       "      <th>4</th>\n",
       "      <td>Machine2</td>\n",
       "      <td>149</td>\n",
       "    </tr>\n",
       "    <tr>\n",
       "      <th>5</th>\n",
       "      <td>Machine2</td>\n",
       "      <td>152</td>\n",
       "    </tr>\n",
       "    <tr>\n",
       "      <th>0</th>\n",
       "      <td>Machine3</td>\n",
       "      <td>156</td>\n",
       "    </tr>\n",
       "    <tr>\n",
       "      <th>1</th>\n",
       "      <td>Machine3</td>\n",
       "      <td>154</td>\n",
       "    </tr>\n",
       "    <tr>\n",
       "      <th>2</th>\n",
       "      <td>Machine3</td>\n",
       "      <td>155</td>\n",
       "    </tr>\n",
       "    <tr>\n",
       "      <th>3</th>\n",
       "      <td>Machine3</td>\n",
       "      <td>156</td>\n",
       "    </tr>\n",
       "    <tr>\n",
       "      <th>4</th>\n",
       "      <td>Machine3</td>\n",
       "      <td>157</td>\n",
       "    </tr>\n",
       "    <tr>\n",
       "      <th>5</th>\n",
       "      <td>Machine3</td>\n",
       "      <td>155</td>\n",
       "    </tr>\n",
       "  </tbody>\n",
       "</table>\n",
       "</div>"
      ],
      "text/plain": [
       "    Machine  volume\n",
       "0  Machine1     150\n",
       "1  Machine1     151\n",
       "2  Machine1     152\n",
       "3  Machine1     152\n",
       "4  Machine1     151\n",
       "5  Machine1     150\n",
       "0  Machine2     153\n",
       "1  Machine2     152\n",
       "2  Machine2     148\n",
       "3  Machine2     151\n",
       "4  Machine2     149\n",
       "5  Machine2     152\n",
       "0  Machine3     156\n",
       "1  Machine3     154\n",
       "2  Machine3     155\n",
       "3  Machine3     156\n",
       "4  Machine3     157\n",
       "5  Machine3     155"
      ]
     },
     "execution_count": 37,
     "metadata": {},
     "output_type": "execute_result"
    }
   ],
   "source": [
    "df1 = pd.DataFrame({'Machine': 'Machine1', 'volume': m1})\n",
    "df2 = pd.DataFrame({'Machine': 'Machine2', 'volume': m2})\n",
    "df3 = pd.DataFrame({'Machine': 'Machine3', 'volume': m3})\n",
    "df_machine = pd.DataFrame()\n",
    "df_machine = df_machine.append(df1)\n",
    "df_machine = df_machine.append(df2)\n",
    "df_machine = df_machine.append(df3)\n",
    "df_machine"
   ]
  },
  {
   "cell_type": "code",
   "execution_count": 40,
   "id": "963df619",
   "metadata": {},
   "outputs": [
    {
     "data": {
      "text/html": [
       "<div>\n",
       "<style scoped>\n",
       "    .dataframe tbody tr th:only-of-type {\n",
       "        vertical-align: middle;\n",
       "    }\n",
       "\n",
       "    .dataframe tbody tr th {\n",
       "        vertical-align: top;\n",
       "    }\n",
       "\n",
       "    .dataframe thead th {\n",
       "        text-align: right;\n",
       "    }\n",
       "</style>\n",
       "<table border=\"1\" class=\"dataframe\">\n",
       "  <thead>\n",
       "    <tr style=\"text-align: right;\">\n",
       "      <th></th>\n",
       "      <th>Machine</th>\n",
       "      <th>volume</th>\n",
       "    </tr>\n",
       "  </thead>\n",
       "  <tbody>\n",
       "    <tr>\n",
       "      <th>0</th>\n",
       "      <td>Machine1</td>\n",
       "      <td>150</td>\n",
       "    </tr>\n",
       "    <tr>\n",
       "      <th>1</th>\n",
       "      <td>Machine1</td>\n",
       "      <td>151</td>\n",
       "    </tr>\n",
       "    <tr>\n",
       "      <th>2</th>\n",
       "      <td>Machine1</td>\n",
       "      <td>152</td>\n",
       "    </tr>\n",
       "    <tr>\n",
       "      <th>3</th>\n",
       "      <td>Machine1</td>\n",
       "      <td>152</td>\n",
       "    </tr>\n",
       "    <tr>\n",
       "      <th>4</th>\n",
       "      <td>Machine1</td>\n",
       "      <td>151</td>\n",
       "    </tr>\n",
       "    <tr>\n",
       "      <th>5</th>\n",
       "      <td>Machine1</td>\n",
       "      <td>150</td>\n",
       "    </tr>\n",
       "    <tr>\n",
       "      <th>0</th>\n",
       "      <td>Machine2</td>\n",
       "      <td>153</td>\n",
       "    </tr>\n",
       "    <tr>\n",
       "      <th>1</th>\n",
       "      <td>Machine2</td>\n",
       "      <td>152</td>\n",
       "    </tr>\n",
       "    <tr>\n",
       "      <th>2</th>\n",
       "      <td>Machine2</td>\n",
       "      <td>148</td>\n",
       "    </tr>\n",
       "    <tr>\n",
       "      <th>3</th>\n",
       "      <td>Machine2</td>\n",
       "      <td>151</td>\n",
       "    </tr>\n",
       "    <tr>\n",
       "      <th>4</th>\n",
       "      <td>Machine2</td>\n",
       "      <td>149</td>\n",
       "    </tr>\n",
       "    <tr>\n",
       "      <th>5</th>\n",
       "      <td>Machine2</td>\n",
       "      <td>152</td>\n",
       "    </tr>\n",
       "    <tr>\n",
       "      <th>0</th>\n",
       "      <td>Machine3</td>\n",
       "      <td>156</td>\n",
       "    </tr>\n",
       "    <tr>\n",
       "      <th>1</th>\n",
       "      <td>Machine3</td>\n",
       "      <td>154</td>\n",
       "    </tr>\n",
       "    <tr>\n",
       "      <th>2</th>\n",
       "      <td>Machine3</td>\n",
       "      <td>155</td>\n",
       "    </tr>\n",
       "    <tr>\n",
       "      <th>3</th>\n",
       "      <td>Machine3</td>\n",
       "      <td>156</td>\n",
       "    </tr>\n",
       "    <tr>\n",
       "      <th>4</th>\n",
       "      <td>Machine3</td>\n",
       "      <td>157</td>\n",
       "    </tr>\n",
       "    <tr>\n",
       "      <th>5</th>\n",
       "      <td>Machine3</td>\n",
       "      <td>155</td>\n",
       "    </tr>\n",
       "  </tbody>\n",
       "</table>\n",
       "</div>"
      ],
      "text/plain": [
       "    Machine  volume\n",
       "0  Machine1     150\n",
       "1  Machine1     151\n",
       "2  Machine1     152\n",
       "3  Machine1     152\n",
       "4  Machine1     151\n",
       "5  Machine1     150\n",
       "0  Machine2     153\n",
       "1  Machine2     152\n",
       "2  Machine2     148\n",
       "3  Machine2     151\n",
       "4  Machine2     149\n",
       "5  Machine2     152\n",
       "0  Machine3     156\n",
       "1  Machine3     154\n",
       "2  Machine3     155\n",
       "3  Machine3     156\n",
       "4  Machine3     157\n",
       "5  Machine3     155"
      ]
     },
     "execution_count": 40,
     "metadata": {},
     "output_type": "execute_result"
    }
   ],
   "source": [
    "# Or create using the concat operation\n",
    "pd.concat([\n",
    "pd.DataFrame({'Machine': 'Machine1', 'volume': m1}),\n",
    "pd.DataFrame({'Machine': 'Machine2', 'volume': m2}),\n",
    "pd.DataFrame({'Machine': 'Machine3', 'volume': m3})\n",
    "])"
   ]
  },
  {
   "cell_type": "code",
   "execution_count": 41,
   "id": "dafa361d",
   "metadata": {},
   "outputs": [],
   "source": [
    "result = pairwise_tukeyhsd(endog=df_machine['volume'], groups=df_machine['Machine'], alpha=0.05)"
   ]
  },
  {
   "cell_type": "code",
   "execution_count": 42,
   "id": "57bff4c5",
   "metadata": {},
   "outputs": [
    {
     "name": "stdout",
     "output_type": "stream",
     "text": [
      " Multiple Comparison of Means - Tukey HSD, FWER=0.05  \n",
      "======================================================\n",
      " group1   group2  meandiff p-adj  lower  upper  reject\n",
      "------------------------------------------------------\n",
      "Machine1 Machine2  -0.1667   0.9 -2.2269 1.8936  False\n",
      "Machine1 Machine3      4.5 0.001  2.4397 6.5603   True\n",
      "Machine2 Machine3   4.6667 0.001  2.6064 6.7269   True\n",
      "------------------------------------------------------\n"
     ]
    }
   ],
   "source": [
    "print(result)"
   ]
  },
  {
   "cell_type": "code",
   "execution_count": 44,
   "id": "4450d4a8",
   "metadata": {},
   "outputs": [
    {
     "data": {
      "text/plain": [
       "<seaborn.axisgrid.FacetGrid at 0x274edcae850>"
      ]
     },
     "execution_count": 44,
     "metadata": {},
     "output_type": "execute_result"
    },
    {
     "data": {
      "image/png": "[encoded data removed]",
      "text/plain": [
       "<Figure size 360x360 with 1 Axes>"
      ]
     },
     "metadata": {
      "needs_background": "light"
     },
     "output_type": "display_data"
    }
   ],
   "source": [
    "sns.catplot(data=df_machine, x='Machine', y='volume', kind='box')"
   ]
  },
  {
   "cell_type": "code",
   "execution_count": 45,
   "id": "68d53879",
   "metadata": {},
   "outputs": [
    {
     "name": "stdout",
     "output_type": "stream",
     "text": [
      "\n",
      "Based on the aobve Tukey HSD test and above plot\n",
      "Machine1 and Machine3, Machine2 and Machine3 is a significant different\n",
      "Machine1 and Machine2 there is no different\n"
     ]
    }
   ],
   "source": [
    "print(\"\"\"\n",
    "Based on the aobve Tukey HSD test and above plot\n",
    "Machine1 and Machine3, Machine2 and Machine3 is a significant different\n",
    "Machine1 and Machine2 there is no different\"\"\")"
   ]
  },
  {
   "cell_type": "code",
   "execution_count": 65,
   "id": "36fabf6a",
   "metadata": {},
   "outputs": [
    {
     "name": "stderr",
     "output_type": "stream",
     "text": [
      "C:\\ProgramData\\Anaconda3\\envs\\tensorflow_gpu\\lib\\site-packages\\scipy\\stats\\stats.py:1603: UserWarning: kurtosistest only valid for n>=20 ... continuing anyway, n=18\n",
      "  warnings.warn(\"kurtosistest only valid for n>=20 ... continuing \"\n"
     ]
    },
    {
     "data": {
      "text/html": [
       "<table class=\"simpletable\">\n",
       "<caption>OLS Regression Results</caption>\n",
       "<tr>\n",
       "  <th>Dep. Variable:</th>         <td>volume</td>      <th>  R-squared:         </th> <td>   0.748</td>\n",
       "</tr>\n",
       "<tr>\n",
       "  <th>Model:</th>                   <td>OLS</td>       <th>  Adj. R-squared:    </th> <td>   0.714</td>\n",
       "</tr>\n",
       "<tr>\n",
       "  <th>Method:</th>             <td>Least Squares</td>  <th>  F-statistic:       </th> <td>   22.26</td>\n",
       "</tr>\n",
       "<tr>\n",
       "  <th>Date:</th>             <td>Sun, 22 Aug 2021</td> <th>  Prob (F-statistic):</th> <td>3.24e-05</td>\n",
       "</tr>\n",
       "<tr>\n",
       "  <th>Time:</th>                 <td>02:02:21</td>     <th>  Log-Likelihood:    </th> <td> -29.624</td>\n",
       "</tr>\n",
       "<tr>\n",
       "  <th>No. Observations:</th>      <td>    18</td>      <th>  AIC:               </th> <td>   65.25</td>\n",
       "</tr>\n",
       "<tr>\n",
       "  <th>Df Residuals:</th>          <td>    15</td>      <th>  BIC:               </th> <td>   67.92</td>\n",
       "</tr>\n",
       "<tr>\n",
       "  <th>Df Model:</th>              <td>     2</td>      <th>                     </th>     <td> </td>   \n",
       "</tr>\n",
       "<tr>\n",
       "  <th>Covariance Type:</th>      <td>nonrobust</td>    <th>                     </th>     <td> </td>   \n",
       "</tr>\n",
       "</table>\n",
       "<table class=\"simpletable\">\n",
       "<tr>\n",
       "             <td></td>               <th>coef</th>     <th>std err</th>      <th>t</th>      <th>P>|t|</th>  <th>[0.025</th>    <th>0.975]</th>  \n",
       "</tr>\n",
       "<tr>\n",
       "  <th>Intercept</th>              <td>  151.0000</td> <td>    0.561</td> <td>  269.122</td> <td> 0.000</td> <td>  149.804</td> <td>  152.196</td>\n",
       "</tr>\n",
       "<tr>\n",
       "  <th>C(Machine)[T.Machine2]</th> <td>   -0.1667</td> <td>    0.793</td> <td>   -0.210</td> <td> 0.836</td> <td>   -1.858</td> <td>    1.525</td>\n",
       "</tr>\n",
       "<tr>\n",
       "  <th>C(Machine)[T.Machine3]</th> <td>    4.5000</td> <td>    0.793</td> <td>    5.671</td> <td> 0.000</td> <td>    2.809</td> <td>    6.191</td>\n",
       "</tr>\n",
       "</table>\n",
       "<table class=\"simpletable\">\n",
       "<tr>\n",
       "  <th>Omnibus:</th>       <td> 0.879</td> <th>  Durbin-Watson:     </th> <td>   2.275</td>\n",
       "</tr>\n",
       "<tr>\n",
       "  <th>Prob(Omnibus):</th> <td> 0.644</td> <th>  Jarque-Bera (JB):  </th> <td>   0.696</td>\n",
       "</tr>\n",
       "<tr>\n",
       "  <th>Skew:</th>          <td>-0.438</td> <th>  Prob(JB):          </th> <td>   0.706</td>\n",
       "</tr>\n",
       "<tr>\n",
       "  <th>Kurtosis:</th>      <td> 2.598</td> <th>  Cond. No.          </th> <td>    3.73</td>\n",
       "</tr>\n",
       "</table><br/><br/>Notes:<br/>[1] Standard Errors assume that the covariance matrix of the errors is correctly specified."
      ],
      "text/plain": [
       "<class 'statsmodels.iolib.summary.Summary'>\n",
       "\"\"\"\n",
       "                            OLS Regression Results                            \n",
       "==============================================================================\n",
       "Dep. Variable:                 volume   R-squared:                       0.748\n",
       "Model:                            OLS   Adj. R-squared:                  0.714\n",
       "Method:                 Least Squares   F-statistic:                     22.26\n",
       "Date:                Sun, 22 Aug 2021   Prob (F-statistic):           3.24e-05\n",
       "Time:                        02:02:21   Log-Likelihood:                -29.624\n",
       "No. Observations:                  18   AIC:                             65.25\n",
       "Df Residuals:                      15   BIC:                             67.92\n",
       "Df Model:                           2                                         \n",
       "Covariance Type:            nonrobust                                         \n",
       "==========================================================================================\n",
       "                             coef    std err          t      P>|t|      [0.025      0.975]\n",
       "------------------------------------------------------------------------------------------\n",
       "Intercept                151.0000      0.561    269.122      0.000     149.804     152.196\n",
       "C(Machine)[T.Machine2]    -0.1667      0.793     -0.210      0.836      -1.858       1.525\n",
       "C(Machine)[T.Machine3]     4.5000      0.793      5.671      0.000       2.809       6.191\n",
       "==============================================================================\n",
       "Omnibus:                        0.879   Durbin-Watson:                   2.275\n",
       "Prob(Omnibus):                  0.644   Jarque-Bera (JB):                0.696\n",
       "Skew:                          -0.438   Prob(JB):                        0.706\n",
       "Kurtosis:                       2.598   Cond. No.                         3.73\n",
       "==============================================================================\n",
       "\n",
       "Notes:\n",
       "[1] Standard Errors assume that the covariance matrix of the errors is correctly specified.\n",
       "\"\"\""
      ]
     },
     "execution_count": 65,
     "metadata": {},
     "output_type": "execute_result"
    }
   ],
   "source": [
    "model_ols = ols('volume ~ C(Machine)', data=df_machine).fit()\n",
    "model_ols.summary()"
   ]
  },
  {
   "cell_type": "code",
   "execution_count": 66,
   "id": "f02b25e3",
   "metadata": {},
   "outputs": [
    {
     "data": {
      "text/html": [
       "<div>\n",
       "<style scoped>\n",
       "    .dataframe tbody tr th:only-of-type {\n",
       "        vertical-align: middle;\n",
       "    }\n",
       "\n",
       "    .dataframe tbody tr th {\n",
       "        vertical-align: top;\n",
       "    }\n",
       "\n",
       "    .dataframe thead th {\n",
       "        text-align: right;\n",
       "    }\n",
       "</style>\n",
       "<table border=\"1\" class=\"dataframe\">\n",
       "  <thead>\n",
       "    <tr style=\"text-align: right;\">\n",
       "      <th></th>\n",
       "      <th>sum_sq</th>\n",
       "      <th>df</th>\n",
       "      <th>F</th>\n",
       "      <th>PR(&gt;F)</th>\n",
       "    </tr>\n",
       "  </thead>\n",
       "  <tbody>\n",
       "    <tr>\n",
       "      <th>C(Machine)</th>\n",
       "      <td>84.111111</td>\n",
       "      <td>2.0</td>\n",
       "      <td>22.264706</td>\n",
       "      <td>0.000032</td>\n",
       "    </tr>\n",
       "    <tr>\n",
       "      <th>Residual</th>\n",
       "      <td>28.333333</td>\n",
       "      <td>15.0</td>\n",
       "      <td>NaN</td>\n",
       "      <td>NaN</td>\n",
       "    </tr>\n",
       "  </tbody>\n",
       "</table>\n",
       "</div>"
      ],
      "text/plain": [
       "               sum_sq    df          F    PR(>F)\n",
       "C(Machine)  84.111111   2.0  22.264706  0.000032\n",
       "Residual    28.333333  15.0        NaN       NaN"
      ]
     },
     "execution_count": 66,
     "metadata": {},
     "output_type": "execute_result"
    }
   ],
   "source": [
    "annova_table = sm.stats.anova_lm(model_ols, typ=2)\n",
    "annova_table"
   ]
  },
  {
   "cell_type": "code",
   "execution_count": 67,
   "id": "e126ab87",
   "metadata": {},
   "outputs": [
    {
     "name": "stdout",
     "output_type": "stream",
     "text": [
      "The P value is small, reject H0. There is a difference in volumes produced by Machines. Perform Tukey HSD test, this is already done above\n"
     ]
    }
   ],
   "source": [
    "print('The P value is small, reject H0. There is a difference in volumes produced by Machines. Perform Tukey HSD test, this is already done above')"
   ]
  },
  {
   "cell_type": "code",
   "execution_count": null,
   "id": "44adc5f8",
   "metadata": {},
   "outputs": [],
   "source": []
  },
  {
   "cell_type": "code",
   "execution_count": null,
   "id": "5f9fa579",
   "metadata": {},
   "outputs": [],
   "source": []
  },
  {
   "cell_type": "code",
   "execution_count": null,
   "id": "b6677ec8",
   "metadata": {},
   "outputs": [],
   "source": []
  },
  {
   "cell_type": "markdown",
   "id": "eccaf629",
   "metadata": {},
   "source": [
    "### Example 2:\n",
    "Compare Cars with the mpg (miles per gallon)"
   ]
  },
  {
   "cell_type": "code",
   "execution_count": 14,
   "id": "0cac5953",
   "metadata": {},
   "outputs": [
    {
     "data": {
      "text/html": [
       "<div>\n",
       "<style scoped>\n",
       "    .dataframe tbody tr th:only-of-type {\n",
       "        vertical-align: middle;\n",
       "    }\n",
       "\n",
       "    .dataframe tbody tr th {\n",
       "        vertical-align: top;\n",
       "    }\n",
       "\n",
       "    .dataframe thead th {\n",
       "        text-align: right;\n",
       "    }\n",
       "</style>\n",
       "<table border=\"1\" class=\"dataframe\">\n",
       "  <thead>\n",
       "    <tr style=\"text-align: right;\">\n",
       "      <th></th>\n",
       "      <th>mpg</th>\n",
       "      <th>cylinders</th>\n",
       "      <th>displacement</th>\n",
       "      <th>horsepower</th>\n",
       "      <th>weight</th>\n",
       "      <th>acceleration</th>\n",
       "      <th>model_year</th>\n",
       "      <th>origin</th>\n",
       "      <th>name</th>\n",
       "    </tr>\n",
       "  </thead>\n",
       "  <tbody>\n",
       "    <tr>\n",
       "      <th>0</th>\n",
       "      <td>18.0</td>\n",
       "      <td>8</td>\n",
       "      <td>307.0</td>\n",
       "      <td>130.0</td>\n",
       "      <td>3504</td>\n",
       "      <td>12.0</td>\n",
       "      <td>70</td>\n",
       "      <td>usa</td>\n",
       "      <td>chevrolet chevelle malibu</td>\n",
       "    </tr>\n",
       "    <tr>\n",
       "      <th>1</th>\n",
       "      <td>15.0</td>\n",
       "      <td>8</td>\n",
       "      <td>350.0</td>\n",
       "      <td>165.0</td>\n",
       "      <td>3693</td>\n",
       "      <td>11.5</td>\n",
       "      <td>70</td>\n",
       "      <td>usa</td>\n",
       "      <td>buick skylark 320</td>\n",
       "    </tr>\n",
       "    <tr>\n",
       "      <th>2</th>\n",
       "      <td>18.0</td>\n",
       "      <td>8</td>\n",
       "      <td>318.0</td>\n",
       "      <td>150.0</td>\n",
       "      <td>3436</td>\n",
       "      <td>11.0</td>\n",
       "      <td>70</td>\n",
       "      <td>usa</td>\n",
       "      <td>plymouth satellite</td>\n",
       "    </tr>\n",
       "    <tr>\n",
       "      <th>3</th>\n",
       "      <td>16.0</td>\n",
       "      <td>8</td>\n",
       "      <td>304.0</td>\n",
       "      <td>150.0</td>\n",
       "      <td>3433</td>\n",
       "      <td>12.0</td>\n",
       "      <td>70</td>\n",
       "      <td>usa</td>\n",
       "      <td>amc rebel sst</td>\n",
       "    </tr>\n",
       "    <tr>\n",
       "      <th>4</th>\n",
       "      <td>17.0</td>\n",
       "      <td>8</td>\n",
       "      <td>302.0</td>\n",
       "      <td>140.0</td>\n",
       "      <td>3449</td>\n",
       "      <td>10.5</td>\n",
       "      <td>70</td>\n",
       "      <td>usa</td>\n",
       "      <td>ford torino</td>\n",
       "    </tr>\n",
       "    <tr>\n",
       "      <th>...</th>\n",
       "      <td>...</td>\n",
       "      <td>...</td>\n",
       "      <td>...</td>\n",
       "      <td>...</td>\n",
       "      <td>...</td>\n",
       "      <td>...</td>\n",
       "      <td>...</td>\n",
       "      <td>...</td>\n",
       "      <td>...</td>\n",
       "    </tr>\n",
       "    <tr>\n",
       "      <th>393</th>\n",
       "      <td>27.0</td>\n",
       "      <td>4</td>\n",
       "      <td>140.0</td>\n",
       "      <td>86.0</td>\n",
       "      <td>2790</td>\n",
       "      <td>15.6</td>\n",
       "      <td>82</td>\n",
       "      <td>usa</td>\n",
       "      <td>ford mustang gl</td>\n",
       "    </tr>\n",
       "    <tr>\n",
       "      <th>394</th>\n",
       "      <td>44.0</td>\n",
       "      <td>4</td>\n",
       "      <td>97.0</td>\n",
       "      <td>52.0</td>\n",
       "      <td>2130</td>\n",
       "      <td>24.6</td>\n",
       "      <td>82</td>\n",
       "      <td>europe</td>\n",
       "      <td>vw pickup</td>\n",
       "    </tr>\n",
       "    <tr>\n",
       "      <th>395</th>\n",
       "      <td>32.0</td>\n",
       "      <td>4</td>\n",
       "      <td>135.0</td>\n",
       "      <td>84.0</td>\n",
       "      <td>2295</td>\n",
       "      <td>11.6</td>\n",
       "      <td>82</td>\n",
       "      <td>usa</td>\n",
       "      <td>dodge rampage</td>\n",
       "    </tr>\n",
       "    <tr>\n",
       "      <th>396</th>\n",
       "      <td>28.0</td>\n",
       "      <td>4</td>\n",
       "      <td>120.0</td>\n",
       "      <td>79.0</td>\n",
       "      <td>2625</td>\n",
       "      <td>18.6</td>\n",
       "      <td>82</td>\n",
       "      <td>usa</td>\n",
       "      <td>ford ranger</td>\n",
       "    </tr>\n",
       "    <tr>\n",
       "      <th>397</th>\n",
       "      <td>31.0</td>\n",
       "      <td>4</td>\n",
       "      <td>119.0</td>\n",
       "      <td>82.0</td>\n",
       "      <td>2720</td>\n",
       "      <td>19.4</td>\n",
       "      <td>82</td>\n",
       "      <td>usa</td>\n",
       "      <td>chevy s-10</td>\n",
       "    </tr>\n",
       "  </tbody>\n",
       "</table>\n",
       "<p>398 rows × 9 columns</p>\n",
       "</div>"
      ],
      "text/plain": [
       "      mpg  cylinders  displacement  horsepower  weight  acceleration  \\\n",
       "0    18.0          8         307.0       130.0    3504          12.0   \n",
       "1    15.0          8         350.0       165.0    3693          11.5   \n",
       "2    18.0          8         318.0       150.0    3436          11.0   \n",
       "3    16.0          8         304.0       150.0    3433          12.0   \n",
       "4    17.0          8         302.0       140.0    3449          10.5   \n",
       "..    ...        ...           ...         ...     ...           ...   \n",
       "393  27.0          4         140.0        86.0    2790          15.6   \n",
       "394  44.0          4          97.0        52.0    2130          24.6   \n",
       "395  32.0          4         135.0        84.0    2295          11.6   \n",
       "396  28.0          4         120.0        79.0    2625          18.6   \n",
       "397  31.0          4         119.0        82.0    2720          19.4   \n",
       "\n",
       "     model_year  origin                       name  \n",
       "0            70     usa  chevrolet chevelle malibu  \n",
       "1            70     usa          buick skylark 320  \n",
       "2            70     usa         plymouth satellite  \n",
       "3            70     usa              amc rebel sst  \n",
       "4            70     usa                ford torino  \n",
       "..          ...     ...                        ...  \n",
       "393          82     usa            ford mustang gl  \n",
       "394          82  europe                  vw pickup  \n",
       "395          82     usa              dodge rampage  \n",
       "396          82     usa                ford ranger  \n",
       "397          82     usa                 chevy s-10  \n",
       "\n",
       "[398 rows x 9 columns]"
      ]
     },
     "execution_count": 14,
     "metadata": {},
     "output_type": "execute_result"
    }
   ],
   "source": [
    "df_mpg = sns.load_dataset('mpg')\n",
    "df_mpg"
   ]
  },
  {
   "cell_type": "code",
   "execution_count": 15,
   "id": "4cb743cd",
   "metadata": {},
   "outputs": [
    {
     "data": {
      "text/html": [
       "<div>\n",
       "<style scoped>\n",
       "    .dataframe tbody tr th:only-of-type {\n",
       "        vertical-align: middle;\n",
       "    }\n",
       "\n",
       "    .dataframe tbody tr th {\n",
       "        vertical-align: top;\n",
       "    }\n",
       "\n",
       "    .dataframe thead th {\n",
       "        text-align: right;\n",
       "    }\n",
       "</style>\n",
       "<table border=\"1\" class=\"dataframe\">\n",
       "  <thead>\n",
       "    <tr style=\"text-align: right;\">\n",
       "      <th></th>\n",
       "      <th>mpg</th>\n",
       "      <th>cylinders</th>\n",
       "      <th>displacement</th>\n",
       "      <th>horsepower</th>\n",
       "      <th>weight</th>\n",
       "      <th>acceleration</th>\n",
       "      <th>model_year</th>\n",
       "    </tr>\n",
       "    <tr>\n",
       "      <th>origin</th>\n",
       "      <th></th>\n",
       "      <th></th>\n",
       "      <th></th>\n",
       "      <th></th>\n",
       "      <th></th>\n",
       "      <th></th>\n",
       "      <th></th>\n",
       "    </tr>\n",
       "  </thead>\n",
       "  <tbody>\n",
       "    <tr>\n",
       "      <th>europe</th>\n",
       "      <td>27.891429</td>\n",
       "      <td>4.157143</td>\n",
       "      <td>109.142857</td>\n",
       "      <td>80.558824</td>\n",
       "      <td>2423.300000</td>\n",
       "      <td>16.787143</td>\n",
       "      <td>75.814286</td>\n",
       "    </tr>\n",
       "    <tr>\n",
       "      <th>japan</th>\n",
       "      <td>30.450633</td>\n",
       "      <td>4.101266</td>\n",
       "      <td>102.708861</td>\n",
       "      <td>79.835443</td>\n",
       "      <td>2221.227848</td>\n",
       "      <td>16.172152</td>\n",
       "      <td>77.443038</td>\n",
       "    </tr>\n",
       "    <tr>\n",
       "      <th>usa</th>\n",
       "      <td>20.083534</td>\n",
       "      <td>6.248996</td>\n",
       "      <td>245.901606</td>\n",
       "      <td>119.048980</td>\n",
       "      <td>3361.931727</td>\n",
       "      <td>15.033735</td>\n",
       "      <td>75.610442</td>\n",
       "    </tr>\n",
       "  </tbody>\n",
       "</table>\n",
       "</div>"
      ],
      "text/plain": [
       "              mpg  cylinders  displacement  horsepower       weight  \\\n",
       "origin                                                                \n",
       "europe  27.891429   4.157143    109.142857   80.558824  2423.300000   \n",
       "japan   30.450633   4.101266    102.708861   79.835443  2221.227848   \n",
       "usa     20.083534   6.248996    245.901606  119.048980  3361.931727   \n",
       "\n",
       "        acceleration  model_year  \n",
       "origin                            \n",
       "europe     16.787143   75.814286  \n",
       "japan      16.172152   77.443038  \n",
       "usa        15.033735   75.610442  "
      ]
     },
     "execution_count": 15,
     "metadata": {},
     "output_type": "execute_result"
    }
   ],
   "source": [
    "df_mpg.groupby('origin').mean()"
   ]
  },
  {
   "cell_type": "code",
   "execution_count": 16,
   "id": "473d0371",
   "metadata": {},
   "outputs": [
    {
     "data": {
      "text/html": [
       "<div>\n",
       "<style scoped>\n",
       "    .dataframe tbody tr th:only-of-type {\n",
       "        vertical-align: middle;\n",
       "    }\n",
       "\n",
       "    .dataframe tbody tr th {\n",
       "        vertical-align: top;\n",
       "    }\n",
       "\n",
       "    .dataframe thead th {\n",
       "        text-align: right;\n",
       "    }\n",
       "</style>\n",
       "<table border=\"1\" class=\"dataframe\">\n",
       "  <thead>\n",
       "    <tr style=\"text-align: right;\">\n",
       "      <th></th>\n",
       "      <th></th>\n",
       "      <th>mpg</th>\n",
       "      <th>displacement</th>\n",
       "      <th>horsepower</th>\n",
       "      <th>weight</th>\n",
       "      <th>acceleration</th>\n",
       "      <th>model_year</th>\n",
       "    </tr>\n",
       "    <tr>\n",
       "      <th>origin</th>\n",
       "      <th>cylinders</th>\n",
       "      <th></th>\n",
       "      <th></th>\n",
       "      <th></th>\n",
       "      <th></th>\n",
       "      <th></th>\n",
       "      <th></th>\n",
       "    </tr>\n",
       "  </thead>\n",
       "  <tbody>\n",
       "    <tr>\n",
       "      <th rowspan=\"3\" valign=\"top\">europe</th>\n",
       "      <th>4</th>\n",
       "      <td>28.411111</td>\n",
       "      <td>104.222222</td>\n",
       "      <td>78.311475</td>\n",
       "      <td>2330.015873</td>\n",
       "      <td>16.722222</td>\n",
       "      <td>75.507937</td>\n",
       "    </tr>\n",
       "    <tr>\n",
       "      <th>5</th>\n",
       "      <td>27.366667</td>\n",
       "      <td>145.000000</td>\n",
       "      <td>82.333333</td>\n",
       "      <td>3103.333333</td>\n",
       "      <td>18.633333</td>\n",
       "      <td>79.000000</td>\n",
       "    </tr>\n",
       "    <tr>\n",
       "      <th>6</th>\n",
       "      <td>20.100000</td>\n",
       "      <td>159.750000</td>\n",
       "      <td>113.500000</td>\n",
       "      <td>3382.500000</td>\n",
       "      <td>16.425000</td>\n",
       "      <td>78.250000</td>\n",
       "    </tr>\n",
       "    <tr>\n",
       "      <th rowspan=\"3\" valign=\"top\">japan</th>\n",
       "      <th>3</th>\n",
       "      <td>20.550000</td>\n",
       "      <td>72.500000</td>\n",
       "      <td>99.250000</td>\n",
       "      <td>2398.500000</td>\n",
       "      <td>13.250000</td>\n",
       "      <td>75.500000</td>\n",
       "    </tr>\n",
       "    <tr>\n",
       "      <th>4</th>\n",
       "      <td>31.595652</td>\n",
       "      <td>99.768116</td>\n",
       "      <td>75.579710</td>\n",
       "      <td>2153.492754</td>\n",
       "      <td>16.569565</td>\n",
       "      <td>77.507246</td>\n",
       "    </tr>\n",
       "    <tr>\n",
       "      <th>6</th>\n",
       "      <td>23.883333</td>\n",
       "      <td>156.666667</td>\n",
       "      <td>115.833333</td>\n",
       "      <td>2882.000000</td>\n",
       "      <td>13.550000</td>\n",
       "      <td>78.000000</td>\n",
       "    </tr>\n",
       "    <tr>\n",
       "      <th rowspan=\"3\" valign=\"top\">usa</th>\n",
       "      <th>4</th>\n",
       "      <td>27.840278</td>\n",
       "      <td>124.284722</td>\n",
       "      <td>80.956522</td>\n",
       "      <td>2437.166667</td>\n",
       "      <td>16.526389</td>\n",
       "      <td>78.027778</td>\n",
       "    </tr>\n",
       "    <tr>\n",
       "      <th>6</th>\n",
       "      <td>19.663514</td>\n",
       "      <td>226.283784</td>\n",
       "      <td>99.671233</td>\n",
       "      <td>3213.905405</td>\n",
       "      <td>16.474324</td>\n",
       "      <td>75.635135</td>\n",
       "    </tr>\n",
       "    <tr>\n",
       "      <th>8</th>\n",
       "      <td>14.963107</td>\n",
       "      <td>345.009709</td>\n",
       "      <td>158.300971</td>\n",
       "      <td>4114.718447</td>\n",
       "      <td>12.955340</td>\n",
       "      <td>73.902913</td>\n",
       "    </tr>\n",
       "  </tbody>\n",
       "</table>\n",
       "</div>"
      ],
      "text/plain": [
       "                        mpg  displacement  horsepower       weight  \\\n",
       "origin cylinders                                                     \n",
       "europe 4          28.411111    104.222222   78.311475  2330.015873   \n",
       "       5          27.366667    145.000000   82.333333  3103.333333   \n",
       "       6          20.100000    159.750000  113.500000  3382.500000   \n",
       "japan  3          20.550000     72.500000   99.250000  2398.500000   \n",
       "       4          31.595652     99.768116   75.579710  2153.492754   \n",
       "       6          23.883333    156.666667  115.833333  2882.000000   \n",
       "usa    4          27.840278    124.284722   80.956522  2437.166667   \n",
       "       6          19.663514    226.283784   99.671233  3213.905405   \n",
       "       8          14.963107    345.009709  158.300971  4114.718447   \n",
       "\n",
       "                  acceleration  model_year  \n",
       "origin cylinders                            \n",
       "europe 4             16.722222   75.507937  \n",
       "       5             18.633333   79.000000  \n",
       "       6             16.425000   78.250000  \n",
       "japan  3             13.250000   75.500000  \n",
       "       4             16.569565   77.507246  \n",
       "       6             13.550000   78.000000  \n",
       "usa    4             16.526389   78.027778  \n",
       "       6             16.474324   75.635135  \n",
       "       8             12.955340   73.902913  "
      ]
     },
     "execution_count": 16,
     "metadata": {},
     "output_type": "execute_result"
    }
   ],
   "source": [
    "df_mpg.groupby(['origin', 'cylinders']).mean()"
   ]
  },
  {
   "cell_type": "code",
   "execution_count": 17,
   "id": "a0e7fdc9",
   "metadata": {},
   "outputs": [
    {
     "data": {
      "text/plain": [
       "<seaborn.axisgrid.FacetGrid at 0x274ec75eb50>"
      ]
     },
     "execution_count": 17,
     "metadata": {},
     "output_type": "execute_result"
    },
    {
     "data": {
      "image/png": "[encoded data removed]",
      "text/plain": [
       "<Figure size 360x360 with 1 Axes>"
      ]
     },
     "metadata": {
      "needs_background": "light"
     },
     "output_type": "display_data"
    }
   ],
   "source": [
    "sns.catplot(data=df_mpg, x='origin', y='mpg', kind='box')"
   ]
  },
  {
   "cell_type": "code",
   "execution_count": 18,
   "id": "c0f422b3",
   "metadata": {},
   "outputs": [
    {
     "data": {
      "text/plain": [
       "<seaborn.axisgrid.FacetGrid at 0x274ed137070>"
      ]
     },
     "execution_count": 18,
     "metadata": {},
     "output_type": "execute_result"
    },
    {
     "data": {
      "image/png": "[encoded data removed]",
      "text/plain": [
       "<Figure size 419.375x360 with 1 Axes>"
      ]
     },
     "metadata": {
      "needs_background": "light"
     },
     "output_type": "display_data"
    }
   ],
   "source": [
    "sns.catplot(data=df_mpg, x='origin', y='mpg', hue='cylinders', kind='box')"
   ]
  },
  {
   "cell_type": "code",
   "execution_count": 19,
   "id": "26f903f7",
   "metadata": {},
   "outputs": [
    {
     "data": {
      "text/plain": [
       "14     24.0\n",
       "18     27.0\n",
       "19     26.0\n",
       "20     25.0\n",
       "21     24.0\n",
       "       ... \n",
       "393    27.0\n",
       "394    44.0\n",
       "395    32.0\n",
       "396    28.0\n",
       "397    31.0\n",
       "Name: mpg, Length: 204, dtype: float64"
      ]
     },
     "execution_count": 19,
     "metadata": {},
     "output_type": "execute_result"
    }
   ],
   "source": [
    "df_mpg[df_mpg['cylinders']==4]['mpg']"
   ]
  },
  {
   "cell_type": "code",
   "execution_count": 20,
   "id": "6be28738",
   "metadata": {},
   "outputs": [
    {
     "data": {
      "text/plain": [
       "<seaborn.axisgrid.FacetGrid at 0x274852c3a90>"
      ]
     },
     "execution_count": 20,
     "metadata": {},
     "output_type": "execute_result"
    },
    {
     "data": {
      "image/png": "[encoded data removed]",
      "text/plain": [
       "<Figure size 360x360 with 1 Axes>"
      ]
     },
     "metadata": {
      "needs_background": "light"
     },
     "output_type": "display_data"
    }
   ],
   "source": [
    "# Plotting the data for only 4 Cylinder cars\n",
    "sns.catplot(data=df_mpg, x='origin', y=df_mpg[df_mpg['cylinders']==4]['mpg'], kind='box')"
   ]
  },
  {
   "cell_type": "code",
   "execution_count": 21,
   "id": "e0685191",
   "metadata": {},
   "outputs": [],
   "source": [
    "eu_list = df_mpg[ (df_mpg['cylinders']==4) & (df_mpg['origin']=='europe') ]['mpg']\n",
    "jp_list = df_mpg[ (df_mpg['cylinders']==4) & (df_mpg['origin']=='japan') ]['mpg']\n",
    "us_list = df_mpg[ (df_mpg['cylinders']==4) & (df_mpg['origin']=='usa') ]['mpg']"
   ]
  },
  {
   "cell_type": "code",
   "execution_count": 22,
   "id": "0cf88ee2",
   "metadata": {},
   "outputs": [
    {
     "data": {
      "text/plain": [
       "F_onewayResult(statistic=9.411845545485601, pvalue=0.00012379894210177303)"
      ]
     },
     "execution_count": 22,
     "metadata": {},
     "output_type": "execute_result"
    }
   ],
   "source": [
    "f_stat, p_value = stats.f_oneway(eu_list, jp_list, us_list)"
   ]
  },
  {
   "cell_type": "code",
   "execution_count": 23,
   "id": "b90d1aeb",
   "metadata": {},
   "outputs": [
    {
     "name": "stdout",
     "output_type": "stream",
     "text": [
      "\n",
      "The f-Statistic is: 22.264705882352935\n",
      "The p-value is: 3.2374085509077445e-05 \n",
      "\n",
      "Ho is rejected in favour of Ha, at least on cars produced in a origin the means are different\n"
     ]
    }
   ],
   "source": [
    "print(f\"\"\"\n",
    "The f-Statistic is: {f_stat}\n",
    "The p-value is: {p_value} \\n\"\"\"  )\n",
    "\n",
    "if p_value<0.05:\n",
    "    print(f\"Ho is rejected in favour of Ha, at least on cars produced in a origin the means are different\")\n",
    "else:\n",
    "    print(\"Failed to reject Ho, the means of all the cars produced in origins are equal\")"
   ]
  },
  {
   "cell_type": "code",
   "execution_count": 24,
   "id": "a93ead56",
   "metadata": {},
   "outputs": [],
   "source": [
    "# Which one is different?\n",
    "# this is done by post hoc tests\n",
    "# one of the most common is tukeys hsd"
   ]
  },
  {
   "cell_type": "code",
   "execution_count": 26,
   "id": "752d5f13",
   "metadata": {},
   "outputs": [],
   "source": [
    "df_mpg_origin = df_mpg[df_mpg['cylinders'] == 4][['mpg', 'origin']]"
   ]
  },
  {
   "cell_type": "code",
   "execution_count": 28,
   "id": "63bdb260",
   "metadata": {},
   "outputs": [],
   "source": [
    "result = pairwise_tukeyhsd(endog=df_mpg_origin['mpg'], groups= df_mpg_origin['origin'], alpha=0.05)"
   ]
  },
  {
   "cell_type": "code",
   "execution_count": 29,
   "id": "6d8b9e7b",
   "metadata": {},
   "outputs": [
    {
     "name": "stdout",
     "output_type": "stream",
     "text": [
      "Multiple Comparison of Means - Tukey HSD, FWER=0.05 \n",
      "====================================================\n",
      "group1 group2 meandiff p-adj   lower   upper  reject\n",
      "----------------------------------------------------\n",
      "europe  japan   3.1845  0.003  0.9266  5.4425   True\n",
      "europe    usa  -0.5708 0.7995 -2.8062  1.6646  False\n",
      " japan    usa  -3.7554  0.001 -5.9383 -1.5724   True\n",
      "----------------------------------------------------\n"
     ]
    }
   ],
   "source": [
    "print(result)"
   ]
  },
  {
   "cell_type": "code",
   "execution_count": 30,
   "id": "6c617b7a",
   "metadata": {},
   "outputs": [
    {
     "name": "stdout",
     "output_type": "stream",
     "text": [
      "Based on the above result from Tukey HSD\n",
      "EU vs JP Ho is rejected: There is a difference in MPG\n",
      "JP vs US Ho is rejected: There is a difference in MPG\n",
      "EU vs US Failed to reject Ho: There is no significant difference in MPG\n",
      "\n"
     ]
    }
   ],
   "source": [
    "print(\"\"\"Based on the above result from Tukey HSD\n",
    "EU vs JP Ho is rejected: There is a difference in MPG\n",
    "JP vs US Ho is rejected: There is a difference in MPG\n",
    "EU vs US Failed to reject Ho: There is no significant difference in MPG\n",
    "\"\"\")"
   ]
  },
  {
   "cell_type": "code",
   "execution_count": 46,
   "id": "939d7ec2",
   "metadata": {},
   "outputs": [
    {
     "data": {
      "text/html": [
       "<table class=\"simpletable\">\n",
       "<caption>OLS Regression Results</caption>\n",
       "<tr>\n",
       "  <th>Dep. Variable:</th>           <td>mpg</td>       <th>  R-squared:         </th> <td>   0.086</td>\n",
       "</tr>\n",
       "<tr>\n",
       "  <th>Model:</th>                   <td>OLS</td>       <th>  Adj. R-squared:    </th> <td>   0.077</td>\n",
       "</tr>\n",
       "<tr>\n",
       "  <th>Method:</th>             <td>Least Squares</td>  <th>  F-statistic:       </th> <td>   9.412</td>\n",
       "</tr>\n",
       "<tr>\n",
       "  <th>Date:</th>             <td>Sun, 22 Aug 2021</td> <th>  Prob (F-statistic):</th> <td>0.000124</td>\n",
       "</tr>\n",
       "<tr>\n",
       "  <th>Time:</th>                 <td>01:46:10</td>     <th>  Log-Likelihood:    </th> <td> -635.25</td>\n",
       "</tr>\n",
       "<tr>\n",
       "  <th>No. Observations:</th>      <td>   204</td>      <th>  AIC:               </th> <td>   1276.</td>\n",
       "</tr>\n",
       "<tr>\n",
       "  <th>Df Residuals:</th>          <td>   201</td>      <th>  BIC:               </th> <td>   1286.</td>\n",
       "</tr>\n",
       "<tr>\n",
       "  <th>Df Model:</th>              <td>     2</td>      <th>                     </th>     <td> </td>   \n",
       "</tr>\n",
       "<tr>\n",
       "  <th>Covariance Type:</th>      <td>nonrobust</td>    <th>                     </th>     <td> </td>   \n",
       "</tr>\n",
       "</table>\n",
       "<table class=\"simpletable\">\n",
       "<tr>\n",
       "           <td></td>             <th>coef</th>     <th>std err</th>      <th>t</th>      <th>P>|t|</th>  <th>[0.025</th>    <th>0.975]</th>  \n",
       "</tr>\n",
       "<tr>\n",
       "  <th>Intercept</th>          <td>   28.4111</td> <td>    0.691</td> <td>   41.096</td> <td> 0.000</td> <td>   27.048</td> <td>   29.774</td>\n",
       "</tr>\n",
       "<tr>\n",
       "  <th>C(origin)[T.japan]</th> <td>    3.1845</td> <td>    0.956</td> <td>    3.330</td> <td> 0.001</td> <td>    1.299</td> <td>    5.070</td>\n",
       "</tr>\n",
       "<tr>\n",
       "  <th>C(origin)[T.usa]</th>   <td>   -0.5708</td> <td>    0.947</td> <td>   -0.603</td> <td> 0.547</td> <td>   -2.437</td> <td>    1.296</td>\n",
       "</tr>\n",
       "</table>\n",
       "<table class=\"simpletable\">\n",
       "<tr>\n",
       "  <th>Omnibus:</th>       <td>11.652</td> <th>  Durbin-Watson:     </th> <td>   1.012</td>\n",
       "</tr>\n",
       "<tr>\n",
       "  <th>Prob(Omnibus):</th> <td> 0.003</td> <th>  Jarque-Bera (JB):  </th> <td>  11.981</td>\n",
       "</tr>\n",
       "<tr>\n",
       "  <th>Skew:</th>          <td> 0.570</td> <th>  Prob(JB):          </th> <td> 0.00250</td>\n",
       "</tr>\n",
       "<tr>\n",
       "  <th>Kurtosis:</th>      <td> 3.331</td> <th>  Cond. No.          </th> <td>    3.86</td>\n",
       "</tr>\n",
       "</table><br/><br/>Notes:<br/>[1] Standard Errors assume that the covariance matrix of the errors is correctly specified."
      ],
      "text/plain": [
       "<class 'statsmodels.iolib.summary.Summary'>\n",
       "\"\"\"\n",
       "                            OLS Regression Results                            \n",
       "==============================================================================\n",
       "Dep. Variable:                    mpg   R-squared:                       0.086\n",
       "Model:                            OLS   Adj. R-squared:                  0.077\n",
       "Method:                 Least Squares   F-statistic:                     9.412\n",
       "Date:                Sun, 22 Aug 2021   Prob (F-statistic):           0.000124\n",
       "Time:                        01:46:10   Log-Likelihood:                -635.25\n",
       "No. Observations:                 204   AIC:                             1276.\n",
       "Df Residuals:                     201   BIC:                             1286.\n",
       "Df Model:                           2                                         \n",
       "Covariance Type:            nonrobust                                         \n",
       "======================================================================================\n",
       "                         coef    std err          t      P>|t|      [0.025      0.975]\n",
       "--------------------------------------------------------------------------------------\n",
       "Intercept             28.4111      0.691     41.096      0.000      27.048      29.774\n",
       "C(origin)[T.japan]     3.1845      0.956      3.330      0.001       1.299       5.070\n",
       "C(origin)[T.usa]      -0.5708      0.947     -0.603      0.547      -2.437       1.296\n",
       "==============================================================================\n",
       "Omnibus:                       11.652   Durbin-Watson:                   1.012\n",
       "Prob(Omnibus):                  0.003   Jarque-Bera (JB):               11.981\n",
       "Skew:                           0.570   Prob(JB):                      0.00250\n",
       "Kurtosis:                       3.331   Cond. No.                         3.86\n",
       "==============================================================================\n",
       "\n",
       "Notes:\n",
       "[1] Standard Errors assume that the covariance matrix of the errors is correctly specified.\n",
       "\"\"\""
      ]
     },
     "execution_count": 46,
     "metadata": {},
     "output_type": "execute_result"
    }
   ],
   "source": [
    "model_ols = ols('mpg ~ C(origin)', data=df_mpg_origin).fit()\n",
    "model_ols.summary()"
   ]
  },
  {
   "cell_type": "code",
   "execution_count": 61,
   "id": "bf24d7b1",
   "metadata": {},
   "outputs": [
    {
     "data": {
      "text/html": [
       "<div>\n",
       "<style scoped>\n",
       "    .dataframe tbody tr th:only-of-type {\n",
       "        vertical-align: middle;\n",
       "    }\n",
       "\n",
       "    .dataframe tbody tr th {\n",
       "        vertical-align: top;\n",
       "    }\n",
       "\n",
       "    .dataframe thead th {\n",
       "        text-align: right;\n",
       "    }\n",
       "</style>\n",
       "<table border=\"1\" class=\"dataframe\">\n",
       "  <thead>\n",
       "    <tr style=\"text-align: right;\">\n",
       "      <th></th>\n",
       "      <th>sum_sq</th>\n",
       "      <th>df</th>\n",
       "      <th>F</th>\n",
       "      <th>PR(&gt;F)</th>\n",
       "    </tr>\n",
       "  </thead>\n",
       "  <tbody>\n",
       "    <tr>\n",
       "      <th>C(type)</th>\n",
       "      <td>86049.555556</td>\n",
       "      <td>2.0</td>\n",
       "      <td>25.175411</td>\n",
       "      <td>0.001207</td>\n",
       "    </tr>\n",
       "    <tr>\n",
       "      <th>Residual</th>\n",
       "      <td>10254.000000</td>\n",
       "      <td>6.0</td>\n",
       "      <td>NaN</td>\n",
       "      <td>NaN</td>\n",
       "    </tr>\n",
       "  </tbody>\n",
       "</table>\n",
       "</div>"
      ],
      "text/plain": [
       "                sum_sq   df          F    PR(>F)\n",
       "C(type)   86049.555556  2.0  25.175411  0.001207\n",
       "Residual  10254.000000  6.0        NaN       NaN"
      ]
     },
     "execution_count": 61,
     "metadata": {},
     "output_type": "execute_result"
    }
   ],
   "source": [
    "annova_table = sm.stats.anova_lm(model_ols, typ=2)\n",
    "annova_table"
   ]
  },
  {
   "cell_type": "code",
   "execution_count": 63,
   "id": "b0fe9624",
   "metadata": {},
   "outputs": [
    {
     "name": "stdout",
     "output_type": "stream",
     "text": [
      "The p_value is low, H0 is rejected. There is a difference in MGP from the origin of make. Perform Tukey HSD test, which is already done above\n"
     ]
    }
   ],
   "source": [
    "print('The p_value is low, H0 is rejected. There is a difference in MGP from the origin of make. Perform Tukey HSD test, which is already done above')"
   ]
  },
  {
   "cell_type": "code",
   "execution_count": null,
   "id": "4604cf7b",
   "metadata": {},
   "outputs": [],
   "source": []
  },
  {
   "cell_type": "code",
   "execution_count": null,
   "id": "fdbcf6c2",
   "metadata": {},
   "outputs": [],
   "source": []
  },
  {
   "cell_type": "code",
   "execution_count": null,
   "id": "6bc6b813",
   "metadata": {},
   "outputs": [],
   "source": []
  },
  {
   "cell_type": "code",
   "execution_count": null,
   "id": "043bd874",
   "metadata": {},
   "outputs": [],
   "source": []
  },
  {
   "cell_type": "markdown",
   "id": "2b5bb1bc",
   "metadata": {},
   "source": [
    "# Example 3: Car type and significance of impact"
   ]
  },
  {
   "cell_type": "code",
   "execution_count": 47,
   "id": "d2f5a98e",
   "metadata": {},
   "outputs": [],
   "source": [
    "# Using the fake data given below, test whether the mean pressure applied \n",
    "# to the driver's head during a crash test is equal \n",
    "# for each types of  car at 5% level of significance.\n",
    "# compact cars, midsize cars and full-size cars. \n",
    "\n",
    "mp_cc = np.array([643, 655,702])\n",
    "mp_mc = np.array([469, 427, 525])\n",
    "mp_fc = np.array([484, 456, 402])"
   ]
  },
  {
   "cell_type": "code",
   "execution_count": 48,
   "id": "44dfc4de",
   "metadata": {},
   "outputs": [
    {
     "name": "stdout",
     "output_type": "stream",
     "text": [
      "Compact car mean: 666.6666666666666, std: 31.182259913824932\n",
      "Midsize car mean: 473.6666666666667, std: 49.166384179979445\n",
      "Fullsize car mean: 447.3333333333333, std: 41.68133075290823\n"
     ]
    }
   ],
   "source": [
    "print(f'Compact car mean: {mp_cc.mean()}, std: {mp_cc.std(ddof=1)}')\n",
    "print(f'Midsize car mean: {mp_mc.mean()}, std: {mp_mc.std(ddof=1)}')\n",
    "print(f'Fullsize car mean: {mp_fc.mean()}, std: {mp_fc.std(ddof=1)}')\n"
   ]
  },
  {
   "cell_type": "markdown",
   "id": "2b7d468b",
   "metadata": {},
   "source": [
    "## There are multiple ways to create this into a DF"
   ]
  },
  {
   "cell_type": "markdown",
   "id": "beaf1bac",
   "metadata": {},
   "source": [
    "### 1. conver np arrays to Df and append all Df to the parent DF"
   ]
  },
  {
   "cell_type": "code",
   "execution_count": 49,
   "id": "7cf4ef36",
   "metadata": {},
   "outputs": [
    {
     "data": {
      "text/html": [
       "<div>\n",
       "<style scoped>\n",
       "    .dataframe tbody tr th:only-of-type {\n",
       "        vertical-align: middle;\n",
       "    }\n",
       "\n",
       "    .dataframe tbody tr th {\n",
       "        vertical-align: top;\n",
       "    }\n",
       "\n",
       "    .dataframe thead th {\n",
       "        text-align: right;\n",
       "    }\n",
       "</style>\n",
       "<table border=\"1\" class=\"dataframe\">\n",
       "  <thead>\n",
       "    <tr style=\"text-align: right;\">\n",
       "      <th></th>\n",
       "      <th>type</th>\n",
       "      <th>mp</th>\n",
       "    </tr>\n",
       "  </thead>\n",
       "  <tbody>\n",
       "    <tr>\n",
       "      <th>0</th>\n",
       "      <td>CC</td>\n",
       "      <td>643</td>\n",
       "    </tr>\n",
       "    <tr>\n",
       "      <th>1</th>\n",
       "      <td>CC</td>\n",
       "      <td>655</td>\n",
       "    </tr>\n",
       "    <tr>\n",
       "      <th>2</th>\n",
       "      <td>CC</td>\n",
       "      <td>702</td>\n",
       "    </tr>\n",
       "    <tr>\n",
       "      <th>0</th>\n",
       "      <td>MC</td>\n",
       "      <td>469</td>\n",
       "    </tr>\n",
       "    <tr>\n",
       "      <th>1</th>\n",
       "      <td>MC</td>\n",
       "      <td>427</td>\n",
       "    </tr>\n",
       "    <tr>\n",
       "      <th>2</th>\n",
       "      <td>MC</td>\n",
       "      <td>525</td>\n",
       "    </tr>\n",
       "    <tr>\n",
       "      <th>0</th>\n",
       "      <td>FC</td>\n",
       "      <td>484</td>\n",
       "    </tr>\n",
       "    <tr>\n",
       "      <th>1</th>\n",
       "      <td>FC</td>\n",
       "      <td>456</td>\n",
       "    </tr>\n",
       "    <tr>\n",
       "      <th>2</th>\n",
       "      <td>FC</td>\n",
       "      <td>402</td>\n",
       "    </tr>\n",
       "  </tbody>\n",
       "</table>\n",
       "</div>"
      ],
      "text/plain": [
       "  type   mp\n",
       "0   CC  643\n",
       "1   CC  655\n",
       "2   CC  702\n",
       "0   MC  469\n",
       "1   MC  427\n",
       "2   MC  525\n",
       "0   FC  484\n",
       "1   FC  456\n",
       "2   FC  402"
      ]
     },
     "execution_count": 49,
     "metadata": {},
     "output_type": "execute_result"
    }
   ],
   "source": [
    "df1 = pd.DataFrame({'type': 'CC', 'mp': mp_cc})\n",
    "df2 = pd.DataFrame({'type': 'MC', 'mp': mp_mc})\n",
    "df3 = pd.DataFrame({'type': 'FC', 'mp': mp_fc})\n",
    "\n",
    "data_df_dfappend = pd.DataFrame()\n",
    "data_df_dfappend = data_df_dfappend.append(df1)\n",
    "data_df_dfappend = data_df_dfappend.append(df2)\n",
    "data_df_dfappend = data_df_dfappend.append(df3)\n",
    "data_df_dfappend"
   ]
  },
  {
   "cell_type": "code",
   "execution_count": null,
   "id": "a724ce2c",
   "metadata": {},
   "outputs": [],
   "source": []
  },
  {
   "cell_type": "markdown",
   "id": "b865cdf9",
   "metadata": {},
   "source": [
    "### Plotting the data"
   ]
  },
  {
   "cell_type": "code",
   "execution_count": 50,
   "id": "d88acaea",
   "metadata": {},
   "outputs": [
    {
     "data": {
      "image/png": "[encoded data removed]",
      "text/plain": [
       "<Figure size 432x288 with 1 Axes>"
      ]
     },
     "metadata": {
      "needs_background": "light"
     },
     "output_type": "display_data"
    }
   ],
   "source": [
    "sns.boxplot(x = 'type', y='mp', data = data_df_dfappend)\n",
    "plt.title('Mean pressure based on Car type')\n",
    "plt.xlabel('Type of Car')\n",
    "# These ticks are set to 0, 1, 2 since the index values are 0, 1, 2\n",
    "plt.xticks(ticks=[0, 1, 2], labels=['Compact Car', 'Midsize Car', 'Fullsize Car'], \n",
    "          rotation=20)\n",
    "plt.ylabel('Mean Pressure')\n",
    "plt.show()"
   ]
  },
  {
   "cell_type": "code",
   "execution_count": 51,
   "id": "15dafbe0",
   "metadata": {},
   "outputs": [
    {
     "name": "stdout",
     "output_type": "stream",
     "text": [
      "\n",
      "Observation: All types of cars have different shapes, means & variances.\n",
      "There are no outliers\n"
     ]
    }
   ],
   "source": [
    "print(\"\"\"\n",
    "Observation: All types of cars have different shapes, means & variances.\n",
    "There are no outliers\"\"\")"
   ]
  },
  {
   "cell_type": "markdown",
   "id": "08748580",
   "metadata": {},
   "source": [
    "## Stating the Hypothesis"
   ]
  },
  {
   "cell_type": "code",
   "execution_count": 52,
   "id": "012c89f9",
   "metadata": {},
   "outputs": [
    {
     "name": "stdout",
     "output_type": "stream",
     "text": [
      "\n",
      "Ho = impact is same mu1 == mu2 == mu3\n",
      "Ha = at least one mu differs\n"
     ]
    }
   ],
   "source": [
    "print(\"\"\"\n",
    "Ho = impact is same mu1 == mu2 == mu3\n",
    "Ha = at least one mu differs\"\"\")"
   ]
  },
  {
   "cell_type": "code",
   "execution_count": 53,
   "id": "58728fdc",
   "metadata": {},
   "outputs": [
    {
     "name": "stdout",
     "output_type": "stream",
     "text": [
      "\n",
      "Significance Level: We will select alpha=0.05\n"
     ]
    }
   ],
   "source": [
    "print(\"\"\"\n",
    "Significance Level: We will select alpha=0.05\"\"\")"
   ]
  },
  {
   "cell_type": "markdown",
   "id": "a5b3ad5c",
   "metadata": {},
   "source": [
    "## OneWay ANOVA"
   ]
  },
  {
   "cell_type": "code",
   "execution_count": 54,
   "id": "3bab3dd3",
   "metadata": {},
   "outputs": [
    {
     "name": "stderr",
     "output_type": "stream",
     "text": [
      "C:\\ProgramData\\Anaconda3\\envs\\tensorflow_gpu\\lib\\site-packages\\scipy\\stats\\stats.py:1603: UserWarning: kurtosistest only valid for n>=20 ... continuing anyway, n=9\n",
      "  warnings.warn(\"kurtosistest only valid for n>=20 ... continuing \"\n"
     ]
    },
    {
     "data": {
      "text/html": [
       "<table class=\"simpletable\">\n",
       "<caption>OLS Regression Results</caption>\n",
       "<tr>\n",
       "  <th>Dep. Variable:</th>           <td>mp</td>        <th>  R-squared:         </th> <td>   0.894</td>\n",
       "</tr>\n",
       "<tr>\n",
       "  <th>Model:</th>                   <td>OLS</td>       <th>  Adj. R-squared:    </th> <td>   0.858</td>\n",
       "</tr>\n",
       "<tr>\n",
       "  <th>Method:</th>             <td>Least Squares</td>  <th>  F-statistic:       </th> <td>   25.18</td>\n",
       "</tr>\n",
       "<tr>\n",
       "  <th>Date:</th>             <td>Sun, 22 Aug 2021</td> <th>  Prob (F-statistic):</th>  <td>0.00121</td>\n",
       "</tr>\n",
       "<tr>\n",
       "  <th>Time:</th>                 <td>01:49:48</td>     <th>  Log-Likelihood:    </th> <td> -44.442</td>\n",
       "</tr>\n",
       "<tr>\n",
       "  <th>No. Observations:</th>      <td>     9</td>      <th>  AIC:               </th> <td>   94.88</td>\n",
       "</tr>\n",
       "<tr>\n",
       "  <th>Df Residuals:</th>          <td>     6</td>      <th>  BIC:               </th> <td>   95.48</td>\n",
       "</tr>\n",
       "<tr>\n",
       "  <th>Df Model:</th>              <td>     2</td>      <th>                     </th>     <td> </td>   \n",
       "</tr>\n",
       "<tr>\n",
       "  <th>Covariance Type:</th>      <td>nonrobust</td>    <th>                     </th>     <td> </td>   \n",
       "</tr>\n",
       "</table>\n",
       "<table class=\"simpletable\">\n",
       "<tr>\n",
       "        <td></td>           <th>coef</th>     <th>std err</th>      <th>t</th>      <th>P>|t|</th>  <th>[0.025</th>    <th>0.975]</th>  \n",
       "</tr>\n",
       "<tr>\n",
       "  <th>Intercept</th>     <td>  666.6667</td> <td>   23.868</td> <td>   27.932</td> <td> 0.000</td> <td>  608.265</td> <td>  725.069</td>\n",
       "</tr>\n",
       "<tr>\n",
       "  <th>C(type)[T.FC]</th> <td> -219.3333</td> <td>   33.754</td> <td>   -6.498</td> <td> 0.001</td> <td> -301.926</td> <td> -136.740</td>\n",
       "</tr>\n",
       "<tr>\n",
       "  <th>C(type)[T.MC]</th> <td> -193.0000</td> <td>   33.754</td> <td>   -5.718</td> <td> 0.001</td> <td> -275.593</td> <td> -110.407</td>\n",
       "</tr>\n",
       "</table>\n",
       "<table class=\"simpletable\">\n",
       "<tr>\n",
       "  <th>Omnibus:</th>       <td> 1.236</td> <th>  Durbin-Watson:     </th> <td>   1.876</td>\n",
       "</tr>\n",
       "<tr>\n",
       "  <th>Prob(Omnibus):</th> <td> 0.539</td> <th>  Jarque-Bera (JB):  </th> <td>   0.659</td>\n",
       "</tr>\n",
       "<tr>\n",
       "  <th>Skew:</th>          <td> 0.057</td> <th>  Prob(JB):          </th> <td>   0.719</td>\n",
       "</tr>\n",
       "<tr>\n",
       "  <th>Kurtosis:</th>      <td> 1.679</td> <th>  Cond. No.          </th> <td>    3.73</td>\n",
       "</tr>\n",
       "</table><br/><br/>Notes:<br/>[1] Standard Errors assume that the covariance matrix of the errors is correctly specified."
      ],
      "text/plain": [
       "<class 'statsmodels.iolib.summary.Summary'>\n",
       "\"\"\"\n",
       "                            OLS Regression Results                            \n",
       "==============================================================================\n",
       "Dep. Variable:                     mp   R-squared:                       0.894\n",
       "Model:                            OLS   Adj. R-squared:                  0.858\n",
       "Method:                 Least Squares   F-statistic:                     25.18\n",
       "Date:                Sun, 22 Aug 2021   Prob (F-statistic):            0.00121\n",
       "Time:                        01:49:48   Log-Likelihood:                -44.442\n",
       "No. Observations:                   9   AIC:                             94.88\n",
       "Df Residuals:                       6   BIC:                             95.48\n",
       "Df Model:                           2                                         \n",
       "Covariance Type:            nonrobust                                         \n",
       "=================================================================================\n",
       "                    coef    std err          t      P>|t|      [0.025      0.975]\n",
       "---------------------------------------------------------------------------------\n",
       "Intercept       666.6667     23.868     27.932      0.000     608.265     725.069\n",
       "C(type)[T.FC]  -219.3333     33.754     -6.498      0.001    -301.926    -136.740\n",
       "C(type)[T.MC]  -193.0000     33.754     -5.718      0.001    -275.593    -110.407\n",
       "==============================================================================\n",
       "Omnibus:                        1.236   Durbin-Watson:                   1.876\n",
       "Prob(Omnibus):                  0.539   Jarque-Bera (JB):                0.659\n",
       "Skew:                           0.057   Prob(JB):                        0.719\n",
       "Kurtosis:                       1.679   Cond. No.                         3.73\n",
       "==============================================================================\n",
       "\n",
       "Notes:\n",
       "[1] Standard Errors assume that the covariance matrix of the errors is correctly specified.\n",
       "\"\"\""
      ]
     },
     "execution_count": 54,
     "metadata": {},
     "output_type": "execute_result"
    }
   ],
   "source": [
    "model_ols = ols('mp ~ C(type)', data=data_df_dfappend).fit()\n",
    "model_ols.summary()"
   ]
  },
  {
   "cell_type": "code",
   "execution_count": 55,
   "id": "37953c21",
   "metadata": {},
   "outputs": [
    {
     "name": "stdout",
     "output_type": "stream",
     "text": [
      "                sum_sq   df          F    PR(>F)\n",
      "C(type)   86049.555556  2.0  25.175411  0.001207\n",
      "Residual  10254.000000  6.0        NaN       NaN\n"
     ]
    }
   ],
   "source": [
    "anova_table = sm.stats.anova_lm(model_ols, typ=2)\n",
    "print(anova_table)"
   ]
  },
  {
   "cell_type": "code",
   "execution_count": 56,
   "id": "4470e6f4",
   "metadata": {},
   "outputs": [
    {
     "name": "stdout",
     "output_type": "stream",
     "text": [
      "\n",
      "Observation: Since the p-Value: 0.0012071270284831211 is less the chosen level of significance 5%\n",
      "\n",
      "The statistical decision is to reject the Ho in favor of Ha\n"
     ]
    }
   ],
   "source": [
    "print(\"\"\"\n",
    "Observation: Since the p-Value: {} is less the chosen level of significance 5%\n",
    "\n",
    "The statistical decision is to reject the Ho in favor of Ha\"\"\".format(anova_table['PR(>F)'][0]))"
   ]
  },
  {
   "cell_type": "markdown",
   "id": "4f68290f",
   "metadata": {},
   "source": [
    "### Since at least one is different, identify which one using Hukey-Krammer"
   ]
  },
  {
   "cell_type": "code",
   "execution_count": 57,
   "id": "1d5f2318",
   "metadata": {},
   "outputs": [],
   "source": [
    "tukey_table = pairwise_tukeyhsd(data_df_dfappend['mp'],\n",
    "                               data_df_dfappend['type'],\n",
    "                               alpha=0.05)"
   ]
  },
  {
   "cell_type": "code",
   "execution_count": 58,
   "id": "7ae2be12",
   "metadata": {},
   "outputs": [
    {
     "name": "stdout",
     "output_type": "stream",
     "text": [
      "   Multiple Comparison of Means - Tukey HSD, FWER=0.05   \n",
      "=========================================================\n",
      "group1 group2  meandiff p-adj    lower     upper   reject\n",
      "---------------------------------------------------------\n",
      "    CC     FC -219.3333 0.0015 -322.7791 -115.8876   True\n",
      "    CC     MC    -193.0  0.003 -296.4458  -89.5542   True\n",
      "    FC     MC   26.3333 0.7172  -77.1124  129.7791  False\n",
      "---------------------------------------------------------\n"
     ]
    }
   ],
   "source": [
    "print(tukey_table)"
   ]
  },
  {
   "cell_type": "code",
   "execution_count": 59,
   "id": "8ead1a36",
   "metadata": {},
   "outputs": [
    {
     "name": "stdout",
     "output_type": "stream",
     "text": [
      "\n",
      "Observation:\n",
      "Compact vs Fullsize: Since the result reject is true, mean head pressure is statitically different\n",
      "Compact vs Midsize: Since the result reject is true, mean head pressure is statitically different\n",
      "Fullsize vs Midsize: Since the result reject is False, mean head pressure is statitically equal\n",
      "\n"
     ]
    }
   ],
   "source": [
    "print(\"\"\"\n",
    "Observation:\n",
    "Compact vs Fullsize: Since the result reject is true, mean head pressure is statitically different\n",
    "Compact vs Midsize: Since the result reject is true, mean head pressure is statitically different\n",
    "Fullsize vs Midsize: Since the result reject is False, mean head pressure is statitically equal\n",
    "\"\"\")"
   ]
  },
  {
   "cell_type": "code",
   "execution_count": null,
   "id": "108fe52c",
   "metadata": {},
   "outputs": [],
   "source": []
  }
 ],
 "metadata": {
  "kernelspec": {
   "display_name": "Python 3",
   "language": "python",
   "name": "python3"
  },
  "language_info": {
   "codemirror_mode": {
    "name": "ipython",
    "version": 3
   },
   "file_extension": ".py",
   "mimetype": "text/x-python",
   "name": "python",
   "nbconvert_exporter": "python",
   "pygments_lexer": "ipython3",
   "version": "3.9.4"
  }
 },
 "nbformat": 4,
 "nbformat_minor": 5
}
