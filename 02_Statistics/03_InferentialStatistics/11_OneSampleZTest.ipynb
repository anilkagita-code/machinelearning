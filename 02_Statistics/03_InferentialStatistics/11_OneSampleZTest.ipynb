{
 "cells": [
  {
   "cell_type": "markdown",
   "id": "808dd0a5",
   "metadata": {},
   "source": [
    "# One Sample Z-Test"
   ]
  },
  {
   "attachments": {},
   "cell_type": "markdown",
   "id": "1d06bd69",
   "metadata": {},
   "source": [
    "\t\t\ti. One sample Z test\n",
    "\t\t\t\t1) Related to mean\n",
    "\t\t\t\t2) Sample size is large > 30\n",
    "\t\t\t\t3) Population standard deviation is known\n",
    "\t\t\t\t4) Conditions for z-test \n",
    "\t\t\t\t\ta) Random samples \n",
    "\t\t\t\t\tb) Each observation should be independent of other\n",
    "\t\t\t\t\t\ti) Sampling with replacement\n",
    "\t\t\t\t\t\tii) If sampling without replacement, the sample size should not be more than 10% of the population\n",
    "\t\t\t\t\tc) Sampling distribution approximates Normal Distribution\n",
    "\t\t\t\t\t\ti) Population is Normally distributed and the population standard deviation is known *** OR ***\n",
    "\t\t\t\t\t\tii) Sample size 30\n"
   ]
  },
  {
   "cell_type": "markdown",
   "id": "3ac29a3b",
   "metadata": {},
   "source": [
    "One-sample tests are appropriate when a sample is being compared to the population from a hypothesis. The population characteristics are known from theory or are calculated from the population.\n",
    "\n",
    "https://en.wikipedia.org/wiki/Test_statistic "
   ]
  },
  {
   "attachments": {
    "image.png": {
     "image/png": "[encoded data removed]"
    }
   },
   "cell_type": "markdown",
   "id": "3daa3911",
   "metadata": {},
   "source": [
    "One-sample z-test\t\n",
    "\n",
    "![image.png](attachment:image.png)\n",
    "(Normal population or n large) and σ known.\n",
    "(z is the distance from the mean in relation to the standard deviation of the mean). For non-normal distributions it is possible to calculate a minimum proportion of a population that falls within k standard deviations for any k (see: Chebyshev's inequality)."
   ]
  },
  {
   "attachments": {},
   "cell_type": "markdown",
   "id": "c83de2cf",
   "metadata": {},
   "source": [
    "### Manual way of performing the test\n",
    "\n",
    "\n",
    "Example 1: Perfume bottle producing 150cc with sd of 2 cc, 100 bottles are randomly picked and the average volume was found to be 150.2 cc. Has mean volume changed? (95% confidence)\n",
    "\n",
    "H0 : μ = 150cc\n",
    "Ha : μ ≠ 150cc\n",
    "Alpha = 0.05\n",
    "Two-tail test then alpha = 0.025 both sided\n",
    "\n",
    "𝑧𝑐𝑎𝑙 = (𝑋_bar − 𝜇) / (𝜎𝑥/ sqrt(𝑛))\n",
    "\n",
    "z calculated = (150.2- 150)/[ 2 / sqrt( 100 ) ] = 0.2/0.2 = 1\n",
    "\n",
    "z critical = +-1.96\n",
    "\n",
    "Since Z calculated < Z Critical is \"failed to reject null hypothesis\"\n",
    "\n",
    "\n",
    "\n",
    "Example 2: Perfume bottle producing 150cc with sd of 2 cc, 100 bottles are randomly picked and the average volume was found to be 150.2 cc. Has mean volume increased? (95% confidence)\n",
    "\n",
    "H0 : μ <= 150cc\n",
    "Ha : μ > 150cc\n",
    "Alpha = 0.05\n",
    "One-tail test then alpha = 0.05 on the right side\n",
    "\n",
    "𝑧𝑐𝑎𝑙 = (𝑋_bar − 𝜇) / (𝜎𝑥/ sqrt(𝑛))\n",
    "\n",
    "z calculated = (150.2 150)/[ 2 / sqrt( 100 ) ] = 0.2/0.2 = 1\n",
    "\n",
    "z critical = 1.645\n",
    "\n",
    "Since Z calculated < Z Critical is \"failed to reject null hypothesis\"\n"
   ]
  },
  {
   "cell_type": "markdown",
   "id": "bf7d02ac",
   "metadata": {},
   "source": [
    "### Python to perform the test"
   ]
  },
  {
   "cell_type": "code",
   "execution_count": 2,
   "id": "4aff9d76",
   "metadata": {},
   "outputs": [],
   "source": [
    "import numpy as np\n",
    "import pandas as pd\n",
    "import matplotlib.pyplot as plt\n",
    "import seaborn as sns\n",
    "import scipy.stats as stats\n",
    "from statsmodels.stats import weightstats"
   ]
  },
  {
   "cell_type": "code",
   "execution_count": 3,
   "id": "3c2b87b1",
   "metadata": {},
   "outputs": [
    {
     "data": {
      "text/html": [
       "<div>\n",
       "<style scoped>\n",
       "    .dataframe tbody tr th:only-of-type {\n",
       "        vertical-align: middle;\n",
       "    }\n",
       "\n",
       "    .dataframe tbody tr th {\n",
       "        vertical-align: top;\n",
       "    }\n",
       "\n",
       "    .dataframe thead th {\n",
       "        text-align: right;\n",
       "    }\n",
       "</style>\n",
       "<table border=\"1\" class=\"dataframe\">\n",
       "  <thead>\n",
       "    <tr style=\"text-align: right;\">\n",
       "      <th></th>\n",
       "      <th>Machine 1</th>\n",
       "    </tr>\n",
       "  </thead>\n",
       "  <tbody>\n",
       "    <tr>\n",
       "      <th>0</th>\n",
       "      <td>152.63</td>\n",
       "    </tr>\n",
       "    <tr>\n",
       "      <th>1</th>\n",
       "      <td>152.94</td>\n",
       "    </tr>\n",
       "    <tr>\n",
       "      <th>2</th>\n",
       "      <td>151.29</td>\n",
       "    </tr>\n",
       "    <tr>\n",
       "      <th>3</th>\n",
       "      <td>153.44</td>\n",
       "    </tr>\n",
       "    <tr>\n",
       "      <th>4</th>\n",
       "      <td>148.58</td>\n",
       "    </tr>\n",
       "    <tr>\n",
       "      <th>...</th>\n",
       "      <td>...</td>\n",
       "    </tr>\n",
       "    <tr>\n",
       "      <th>95</th>\n",
       "      <td>150.03</td>\n",
       "    </tr>\n",
       "    <tr>\n",
       "      <th>96</th>\n",
       "      <td>146.79</td>\n",
       "    </tr>\n",
       "    <tr>\n",
       "      <th>97</th>\n",
       "      <td>150.02</td>\n",
       "    </tr>\n",
       "    <tr>\n",
       "      <th>98</th>\n",
       "      <td>146.42</td>\n",
       "    </tr>\n",
       "    <tr>\n",
       "      <th>99</th>\n",
       "      <td>152.51</td>\n",
       "    </tr>\n",
       "  </tbody>\n",
       "</table>\n",
       "<p>100 rows × 1 columns</p>\n",
       "</div>"
      ],
      "text/plain": [
       "    Machine 1\n",
       "0      152.63\n",
       "1      152.94\n",
       "2      151.29\n",
       "3      153.44\n",
       "4      148.58\n",
       "..        ...\n",
       "95     150.03\n",
       "96     146.79\n",
       "97     150.02\n",
       "98     146.42\n",
       "99     152.51\n",
       "\n",
       "[100 rows x 1 columns]"
      ]
     },
     "execution_count": 3,
     "metadata": {},
     "output_type": "execute_result"
    }
   ],
   "source": [
    "df_sample_machine = pd.read_csv('data/Machine1.csv')\n",
    "df_sample_machine"
   ]
  },
  {
   "cell_type": "code",
   "execution_count": 4,
   "id": "de02e014",
   "metadata": {},
   "outputs": [
    {
     "data": {
      "text/html": [
       "<div>\n",
       "<style scoped>\n",
       "    .dataframe tbody tr th:only-of-type {\n",
       "        vertical-align: middle;\n",
       "    }\n",
       "\n",
       "    .dataframe tbody tr th {\n",
       "        vertical-align: top;\n",
       "    }\n",
       "\n",
       "    .dataframe thead th {\n",
       "        text-align: right;\n",
       "    }\n",
       "</style>\n",
       "<table border=\"1\" class=\"dataframe\">\n",
       "  <thead>\n",
       "    <tr style=\"text-align: right;\">\n",
       "      <th></th>\n",
       "      <th>Machine 1</th>\n",
       "    </tr>\n",
       "  </thead>\n",
       "  <tbody>\n",
       "    <tr>\n",
       "      <th>count</th>\n",
       "      <td>100.000000</td>\n",
       "    </tr>\n",
       "    <tr>\n",
       "      <th>mean</th>\n",
       "      <td>150.203100</td>\n",
       "    </tr>\n",
       "    <tr>\n",
       "      <th>std</th>\n",
       "      <td>2.018812</td>\n",
       "    </tr>\n",
       "    <tr>\n",
       "      <th>min</th>\n",
       "      <td>145.550000</td>\n",
       "    </tr>\n",
       "    <tr>\n",
       "      <th>25%</th>\n",
       "      <td>148.717500</td>\n",
       "    </tr>\n",
       "    <tr>\n",
       "      <th>50%</th>\n",
       "      <td>150.285000</td>\n",
       "    </tr>\n",
       "    <tr>\n",
       "      <th>75%</th>\n",
       "      <td>151.502500</td>\n",
       "    </tr>\n",
       "    <tr>\n",
       "      <th>max</th>\n",
       "      <td>154.550000</td>\n",
       "    </tr>\n",
       "  </tbody>\n",
       "</table>\n",
       "</div>"
      ],
      "text/plain": [
       "        Machine 1\n",
       "count  100.000000\n",
       "mean   150.203100\n",
       "std      2.018812\n",
       "min    145.550000\n",
       "25%    148.717500\n",
       "50%    150.285000\n",
       "75%    151.502500\n",
       "max    154.550000"
      ]
     },
     "execution_count": 4,
     "metadata": {},
     "output_type": "execute_result"
    }
   ],
   "source": [
    "df_sample_machine.describe()"
   ]
  },
  {
   "cell_type": "code",
   "execution_count": 6,
   "id": "a9eddc77",
   "metadata": {},
   "outputs": [
    {
     "data": {
      "text/plain": [
       "<seaborn.axisgrid.FacetGrid at 0x12bf9fcee80>"
      ]
     },
     "execution_count": 6,
     "metadata": {},
     "output_type": "execute_result"
    },
    {
     "data": {
      "image/png": "[encoded data removed]",
      "text/plain": [
       "<Figure size 360x360 with 1 Axes>"
      ]
     },
     "metadata": {
      "needs_background": "light"
     },
     "output_type": "display_data"
    }
   ],
   "source": [
    "sns.displot(data=df_sample_machine, x='Machine 1')"
   ]
  },
  {
   "cell_type": "code",
   "execution_count": 7,
   "id": "7bc5a14a",
   "metadata": {},
   "outputs": [
    {
     "data": {
      "text/plain": [
       "<seaborn.axisgrid.FacetGrid at 0x12bfb525a90>"
      ]
     },
     "execution_count": 7,
     "metadata": {},
     "output_type": "execute_result"
    },
    {
     "data": {
      "image/png": "[encoded data removed]",
      "text/plain": [
       "<Figure size 360x360 with 1 Axes>"
      ]
     },
     "metadata": {
      "needs_background": "light"
     },
     "output_type": "display_data"
    }
   ],
   "source": [
    "sns.catplot(data=df_sample_machine, x='Machine 1', kind='box')"
   ]
  },
  {
   "cell_type": "markdown",
   "id": "42c327f6",
   "metadata": {},
   "source": [
    "Example 1: Perfume bottle producing 150cc with sd of 2 cc, 100 bottles are randomly picked and the average volume was found to be 150.2 cc. Has mean volume changed? (95% confidence)"
   ]
  },
  {
   "cell_type": "code",
   "execution_count": 19,
   "id": "8a0e3df7",
   "metadata": {},
   "outputs": [],
   "source": [
    "# Computing the Z Test. Z Test is not part of scipy library\n",
    "# Computing the two trailed Z-test\n",
    "pop_mean = 150\n",
    "z_stat, p_value = weightstats.ztest(x1 = df_sample_machine['Machine 1'], value=pop_mean, alternative='two-sided')"
   ]
  },
  {
   "cell_type": "code",
   "execution_count": 20,
   "id": "b2072fea",
   "metadata": {},
   "outputs": [
    {
     "name": "stdout",
     "output_type": "stream",
     "text": [
      "\n",
      "The Z-Statistic is: 1.0060370247722599\n",
      "The p-value is: 0.3143977600779597 \n",
      "\n",
      "Failed to reject Ho\n"
     ]
    }
   ],
   "source": [
    "print(f\"\"\"\n",
    "The Z-Statistic is: {z_stat}\n",
    "The p-value is: {p_value} \\n\"\"\"  )\n",
    "\n",
    "if p_value<0.05:\n",
    "    print(f\"Ho is rejected in favour of Ha\")\n",
    "else:\n",
    "    print(\"Failed to reject Ho\")"
   ]
  },
  {
   "cell_type": "code",
   "execution_count": 21,
   "id": "93c07337",
   "metadata": {},
   "outputs": [],
   "source": [
    "# As the sample is large T-Test tends to be similar to Z-Test.\n",
    "# Perform T-Test just to compare and see if we are getting the same result\n",
    "t_stat, p_value = stats.ttest_1samp(a=df_sample_machine['Machine 1'], popmean=pop_mean)"
   ]
  },
  {
   "cell_type": "code",
   "execution_count": 22,
   "id": "70f31feb",
   "metadata": {},
   "outputs": [
    {
     "name": "stdout",
     "output_type": "stream",
     "text": [
      "\n",
      "The T-Statistic is: 1.0060370247722599\n",
      "The p-value is: 0.3168503751206756 \n",
      "\n",
      "Failed to reject Ho\n"
     ]
    }
   ],
   "source": [
    "print(f\"\"\"\n",
    "The T-Statistic is: {t_stat}\n",
    "The p-value is: {p_value} \\n\"\"\"  )\n",
    "\n",
    "if p_value<0.05:\n",
    "    print(f\"Ho is rejected in favour of Ha\")\n",
    "else:\n",
    "    print(\"Failed to reject Ho\")"
   ]
  },
  {
   "cell_type": "markdown",
   "id": "dd3c5fda",
   "metadata": {},
   "source": [
    "\n",
    "Example 2: Perfume bottle producing 150cc with sd of 2 cc, 100 bottles are randomly picked and the average volume was found to be 150.2 cc. Has mean volume increased? (95% confidence)"
   ]
  },
  {
   "cell_type": "code",
   "execution_count": 15,
   "id": "1bb34d07",
   "metadata": {},
   "outputs": [],
   "source": [
    "# Computing the one-tailed Z Test.\n",
    "pop_mean = 150\n",
    "z_stat, p_value = weightstats.ztest(x1 = df_sample_machine['Machine 1'], value=pop_mean, alternative='larger')"
   ]
  },
  {
   "cell_type": "code",
   "execution_count": 16,
   "id": "53ac6f2c",
   "metadata": {},
   "outputs": [
    {
     "name": "stdout",
     "output_type": "stream",
     "text": [
      "\n",
      "The Z-Statistic is: 1.0060370247722599\n",
      "The p-value is: 0.15719888003897986 \n",
      "\n",
      "Failed to reject Ho\n"
     ]
    }
   ],
   "source": [
    "print(f\"\"\"\n",
    "The Z-Statistic is: {z_stat}\n",
    "The p-value is: {p_value} \\n\"\"\"  )\n",
    "\n",
    "if p_value<0.05:\n",
    "    print(f\"Ho is rejected in favour of Ha\")\n",
    "else:\n",
    "    print(\"Failed to reject Ho\")"
   ]
  },
  {
   "cell_type": "code",
   "execution_count": null,
   "id": "f74a00ea",
   "metadata": {},
   "outputs": [],
   "source": []
  },
  {
   "cell_type": "code",
   "execution_count": null,
   "id": "d818e4d1",
   "metadata": {},
   "outputs": [],
   "source": []
  }
 ],
 "metadata": {
  "kernelspec": {
   "display_name": "Python 3",
   "language": "python",
   "name": "python3"
  },
  "language_info": {
   "codemirror_mode": {
    "name": "ipython",
    "version": 3
   },
   "file_extension": ".py",
   "mimetype": "text/x-python",
   "name": "python",
   "nbconvert_exporter": "python",
   "pygments_lexer": "ipython3",
   "version": "3.9.4"
  }
 },
 "nbformat": 4,
 "nbformat_minor": 5
}
