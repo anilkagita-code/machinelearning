{
 "cells": [
  {
   "cell_type": "code",
   "execution_count": 1,
   "id": "68209ccc",
   "metadata": {},
   "outputs": [],
   "source": [
    "import numpy as np\n",
    "import pandas as pd\n",
    "import matplotlib.pyplot as plt\n",
    "import seaborn as sns"
   ]
  },
  {
   "cell_type": "code",
   "execution_count": 3,
   "id": "199769d0",
   "metadata": {},
   "outputs": [],
   "source": [
    "# Rolling a dice for 1000000 times\n",
    "dice_h = np.random.randint(low=1, high=7, size=100)\n",
    "dice_m = np.random.randint(low=1, high=7, size=1000000)"
   ]
  },
  {
   "cell_type": "code",
   "execution_count": 4,
   "id": "4135cfea",
   "metadata": {},
   "outputs": [
    {
     "data": {
      "text/plain": [
       "<seaborn.axisgrid.FacetGrid at 0x20e7f7314c0>"
      ]
     },
     "execution_count": 4,
     "metadata": {},
     "output_type": "execute_result"
    },
    {
     "data": {
      "image/png": "[encoded data removed]",
      "text/plain": [
       "<Figure size 360x360 with 1 Axes>"
      ]
     },
     "metadata": {
      "needs_background": "light"
     },
     "output_type": "display_data"
    }
   ],
   "source": [
    "sns.displot(x=dice_h, bins=6)"
   ]
  },
  {
   "cell_type": "code",
   "execution_count": 5,
   "id": "96ea40eb",
   "metadata": {},
   "outputs": [
    {
     "data": {
      "text/plain": [
       "<seaborn.axisgrid.FacetGrid at 0x20e7f731250>"
      ]
     },
     "execution_count": 5,
     "metadata": {},
     "output_type": "execute_result"
    },
    {
     "data": {
      "image/png": "[encoded data removed]",
      "text/plain": [
       "<Figure size 360x360 with 1 Axes>"
      ]
     },
     "metadata": {
      "needs_background": "light"
     },
     "output_type": "display_data"
    }
   ],
   "source": [
    "sns.displot(x=dice_m, bins=6)"
   ]
  },
  {
   "cell_type": "code",
   "execution_count": 11,
   "id": "4d4ddf06",
   "metadata": {},
   "outputs": [
    {
     "data": {
      "text/plain": [
       "3.500872"
      ]
     },
     "execution_count": 11,
     "metadata": {},
     "output_type": "execute_result"
    }
   ],
   "source": [
    "np.mean(dice_m)"
   ]
  },
  {
   "cell_type": "code",
   "execution_count": 13,
   "id": "e12f85c2",
   "metadata": {},
   "outputs": [
    {
     "data": {
      "text/plain": [
       "(1.7071327288521398, 1.7071318752855622)"
      ]
     },
     "execution_count": 13,
     "metadata": {},
     "output_type": "execute_result"
    }
   ],
   "source": [
    "np.std(dice_m, ddof=1), np.std(dice_m)"
   ]
  },
  {
   "cell_type": "code",
   "execution_count": 14,
   "id": "5ae7588d",
   "metadata": {},
   "outputs": [
    {
     "data": {
      "text/plain": [
       "array([[5, 1, 6, 1],\n",
       "       [3, 3, 3, 1],\n",
       "       [4, 5, 2, 5],\n",
       "       [3, 3, 4, 1],\n",
       "       [1, 3, 3, 1],\n",
       "       [6, 5, 1, 5],\n",
       "       [5, 1, 6, 5],\n",
       "       [3, 2, 5, 5],\n",
       "       [3, 4, 3, 3],\n",
       "       [5, 3, 6, 2],\n",
       "       [3, 2, 6, 2],\n",
       "       [1, 2, 1, 3],\n",
       "       [4, 3, 3, 5],\n",
       "       [5, 3, 1, 6],\n",
       "       [6, 1, 3, 2],\n",
       "       [3, 5, 6, 3],\n",
       "       [6, 3, 4, 3],\n",
       "       [4, 4, 3, 6],\n",
       "       [5, 1, 1, 5],\n",
       "       [3, 3, 6, 6],\n",
       "       [6, 5, 5, 6],\n",
       "       [1, 5, 6, 5],\n",
       "       [2, 3, 4, 3],\n",
       "       [5, 2, 4, 5],\n",
       "       [6, 4, 6, 1]])"
      ]
     },
     "execution_count": 14,
     "metadata": {},
     "output_type": "execute_result"
    }
   ],
   "source": [
    "# getting the samples\n",
    "dice_h.reshape(25, 4)"
   ]
  },
  {
   "cell_type": "code",
   "execution_count": 16,
   "id": "b73e39c5",
   "metadata": {},
   "outputs": [],
   "source": [
    "# getting the samples\n",
    "mean4= dice_m.reshape(250000, 4).mean(axis=1)"
   ]
  },
  {
   "cell_type": "code",
   "execution_count": 18,
   "id": "05e0526e",
   "metadata": {},
   "outputs": [
    {
     "data": {
      "text/plain": [
       "(0.0, 6.0)"
      ]
     },
     "execution_count": 18,
     "metadata": {},
     "output_type": "execute_result"
    },
    {
     "data": {
      "image/png": "[encoded data removed]",
      "text/plain": [
       "<Figure size 360x360 with 1 Axes>"
      ]
     },
     "metadata": {
      "needs_background": "light"
     },
     "output_type": "display_data"
    }
   ],
   "source": [
    "sns.displot(x=mean4, bins=6)\n",
    "plt.xlim(0, 6)"
   ]
  },
  {
   "cell_type": "code",
   "execution_count": 19,
   "id": "d7550954",
   "metadata": {},
   "outputs": [
    {
     "data": {
      "text/plain": [
       "3.500872"
      ]
     },
     "execution_count": 19,
     "metadata": {},
     "output_type": "execute_result"
    }
   ],
   "source": [
    "np.mean(mean4)"
   ]
  },
  {
   "cell_type": "code",
   "execution_count": 20,
   "id": "b55c9fcc",
   "metadata": {},
   "outputs": [
    {
     "data": {
      "text/plain": [
       "0.8528582233200288"
      ]
     },
     "execution_count": 20,
     "metadata": {},
     "output_type": "execute_result"
    }
   ],
   "source": [
    "np.std(mean4, ddof=1)"
   ]
  },
  {
   "cell_type": "code",
   "execution_count": 21,
   "id": "d826293a",
   "metadata": {},
   "outputs": [],
   "source": [
    "# getting the samples\n",
    "mean100= dice_m.reshape(10000, 100).mean(axis=1)"
   ]
  },
  {
   "cell_type": "code",
   "execution_count": 22,
   "id": "b2424909",
   "metadata": {},
   "outputs": [
    {
     "data": {
      "text/plain": [
       "(0.0, 6.0)"
      ]
     },
     "execution_count": 22,
     "metadata": {},
     "output_type": "execute_result"
    },
    {
     "data": {
      "image/png": "[encoded data removed]",
      "text/plain": [
       "<Figure size 360x360 with 1 Axes>"
      ]
     },
     "metadata": {
      "needs_background": "light"
     },
     "output_type": "display_data"
    }
   ],
   "source": [
    "sns.displot(x=mean100, bins=6)\n",
    "plt.xlim(0, 6)"
   ]
  },
  {
   "cell_type": "code",
   "execution_count": 23,
   "id": "936a6468",
   "metadata": {},
   "outputs": [
    {
     "data": {
      "text/plain": [
       "3.500872"
      ]
     },
     "execution_count": 23,
     "metadata": {},
     "output_type": "execute_result"
    }
   ],
   "source": [
    "np.mean(mean100)"
   ]
  },
  {
   "cell_type": "code",
   "execution_count": 24,
   "id": "7dc13721",
   "metadata": {},
   "outputs": [
    {
     "data": {
      "text/plain": [
       "0.17022067184602568"
      ]
     },
     "execution_count": 24,
     "metadata": {},
     "output_type": "execute_result"
    }
   ],
   "source": [
    "np.std(mean100, ddof=1)"
   ]
  },
  {
   "cell_type": "code",
   "execution_count": null,
   "id": "59642b03",
   "metadata": {},
   "outputs": [],
   "source": []
  }
 ],
 "metadata": {
  "kernelspec": {
   "display_name": "Python 3",
   "language": "python",
   "name": "python3"
  },
  "language_info": {
   "codemirror_mode": {
    "name": "ipython",
    "version": 3
   },
   "file_extension": ".py",
   "mimetype": "text/x-python",
   "name": "python",
   "nbconvert_exporter": "python",
   "pygments_lexer": "ipython3",
   "version": "3.9.4"
  }
 },
 "nbformat": 4,
 "nbformat_minor": 5
}
