{
 "cells": [
  {
   "cell_type": "markdown",
   "id": "ea9d3c0d",
   "metadata": {},
   "source": [
    "# Two Sample T-Test"
   ]
  },
  {
   "cell_type": "markdown",
   "id": "90a5f480",
   "metadata": {},
   "source": [
    "Two-sample tests are appropriate for comparing two samples, typically experimental and control samples from a scientifically controlled experiment.\n",
    "\n",
    "https://en.wikipedia.org/wiki/Test_statistic"
   ]
  },
  {
   "attachments": {
    "image-2.png": {
     "image/png": "[encoded data removed]"
    },
    "image-3.png": {
     "image/png": "[encoded data removed]"
    },
    "image.png": {
     "image/png": "[encoded data removed]"
    }
   },
   "cell_type": "markdown",
   "id": "8f02b312",
   "metadata": {},
   "source": [
    "Two-proportion z-test, pooled for\n",
    "![image.png](attachment:image.png)\n",
    "\n",
    "![image-2.png](attachment:image-2.png)\n",
    "\n",
    "![image-3.png](attachment:image-3.png)"
   ]
  },
  {
   "cell_type": "markdown",
   "id": "f4298684",
   "metadata": {},
   "source": [
    "## Test of Proportions"
   ]
  },
  {
   "cell_type": "markdown",
   "id": "42bf2c04",
   "metadata": {},
   "source": [
    "Tests of proportions are analogous to tests of means (the 50% proportion).\n"
   ]
  },
  {
   "cell_type": "code",
   "execution_count": 1,
   "id": "12b9e425",
   "metadata": {},
   "outputs": [],
   "source": [
    "from scipy.stats import f\n",
    "import matplotlib.pyplot as plt\n",
    "import pandas as pd\n",
    "from statsmodels.stats.proportion import proportions_ztest\n",
    "from statsmodels.stats import proportion\n"
   ]
  },
  {
   "cell_type": "markdown",
   "id": "6e69baa9",
   "metadata": {},
   "source": [
    "##### Example: \n",
    "From vendor A we test 200 pieces and find 30 defectives. From vendor B we test 100 pieces and we find 10 defectives. Is there a significant difference in the quality of these two vendors? Use 95% confidence level.\n"
   ]
  },
  {
   "cell_type": "code",
   "execution_count": 2,
   "id": "06e076ac",
   "metadata": {},
   "outputs": [
    {
     "data": {
      "text/plain": [
       "<class 'statsmodels.stats.base.HolderTuple'>\n",
       "statistic = 1.145433008876846\n",
       "pvalue = 0.2520298311822946\n",
       "compare = diff\n",
       "method = agresti-caffo\n",
       "diff = 0.04999999999999999\n",
       "ratio = 1.4999999999999998\n",
       "odds_ratio = 1.588235294117647\n",
       "variance = 0.001586401953652147\n",
       "alternative = two-sided\n",
       "value = 0\n",
       "tuple = (1.145433008876846, 0.2520298311822946)"
      ]
     },
     "execution_count": 2,
     "metadata": {},
     "output_type": "execute_result"
    }
   ],
   "source": [
    "count1 = 30\n",
    "n1 = 200\n",
    "count2 = 10\n",
    "n2 = 100\n",
    "proportion.test_proportions_2indep(count1=count1, nobs1=n1, count2=count2, nobs2=n2)"
   ]
  },
  {
   "cell_type": "code",
   "execution_count": 3,
   "id": "23033991",
   "metadata": {},
   "outputs": [
    {
     "data": {
      "text/plain": [
       "<class 'statsmodels.stats.base.HolderTuple'>\n",
       "statistic = 1.1989578808281796\n",
       "pvalue = 0.2305443235633593\n",
       "compare = diff\n",
       "method = score\n",
       "variance = 0.001739130434782609\n",
       "alternative = two-sided\n",
       "prop1_null = 0.13333333333333333\n",
       "prop2_null = 0.13333333333333333\n",
       "tuple = (1.1989578808281796, 0.2305443235633593)\n",
       "diff = 0.04999999999999999\n",
       "ratio = 1.4999999999999998\n",
       "odds_ratio = 1.588235294117647\n",
       "value = 0"
      ]
     },
     "execution_count": 3,
     "metadata": {},
     "output_type": "execute_result"
    }
   ],
   "source": [
    "proportion.test_proportions_2indep(count1=count1, nobs1=n1, count2=count2, nobs2=n2, method='score')"
   ]
  },
  {
   "cell_type": "code",
   "execution_count": null,
   "id": "c74f151b",
   "metadata": {},
   "outputs": [],
   "source": []
  },
  {
   "cell_type": "markdown",
   "id": "68d5cdac",
   "metadata": {},
   "source": [
    "#### Example 2:\n",
    "Test of proportions, 'sex' and 'smoker' are two categorical variables. We want to see if the proportion of smokers in the female population is significantly less than it is in the male population\n",
    "\n",
    "Ho = The proportions are equal\n",
    "\n",
    "Ha = The two proportions are not equal"
   ]
  },
  {
   "cell_type": "code",
   "execution_count": 4,
   "id": "523f2d54",
   "metadata": {},
   "outputs": [],
   "source": [
    "smokers_df = pd.read_csv('data/insurance.csv')"
   ]
  },
  {
   "cell_type": "code",
   "execution_count": 5,
   "id": "aee8de8b",
   "metadata": {},
   "outputs": [
    {
     "data": {
      "text/html": [
       "<div>\n",
       "<style scoped>\n",
       "    .dataframe tbody tr th:only-of-type {\n",
       "        vertical-align: middle;\n",
       "    }\n",
       "\n",
       "    .dataframe tbody tr th {\n",
       "        vertical-align: top;\n",
       "    }\n",
       "\n",
       "    .dataframe thead th {\n",
       "        text-align: right;\n",
       "    }\n",
       "</style>\n",
       "<table border=\"1\" class=\"dataframe\">\n",
       "  <thead>\n",
       "    <tr style=\"text-align: right;\">\n",
       "      <th></th>\n",
       "      <th>age</th>\n",
       "      <th>sex</th>\n",
       "      <th>bmi</th>\n",
       "      <th>children</th>\n",
       "      <th>smoker</th>\n",
       "      <th>region</th>\n",
       "      <th>charges</th>\n",
       "    </tr>\n",
       "  </thead>\n",
       "  <tbody>\n",
       "    <tr>\n",
       "      <th>130</th>\n",
       "      <td>59</td>\n",
       "      <td>female</td>\n",
       "      <td>26.505</td>\n",
       "      <td>0</td>\n",
       "      <td>no</td>\n",
       "      <td>northeast</td>\n",
       "      <td>12815.44495</td>\n",
       "    </tr>\n",
       "    <tr>\n",
       "      <th>167</th>\n",
       "      <td>32</td>\n",
       "      <td>female</td>\n",
       "      <td>33.155</td>\n",
       "      <td>3</td>\n",
       "      <td>no</td>\n",
       "      <td>northwest</td>\n",
       "      <td>6128.79745</td>\n",
       "    </tr>\n",
       "    <tr>\n",
       "      <th>344</th>\n",
       "      <td>49</td>\n",
       "      <td>female</td>\n",
       "      <td>41.470</td>\n",
       "      <td>4</td>\n",
       "      <td>no</td>\n",
       "      <td>southeast</td>\n",
       "      <td>10977.20630</td>\n",
       "    </tr>\n",
       "    <tr>\n",
       "      <th>1059</th>\n",
       "      <td>32</td>\n",
       "      <td>male</td>\n",
       "      <td>33.820</td>\n",
       "      <td>1</td>\n",
       "      <td>no</td>\n",
       "      <td>northwest</td>\n",
       "      <td>4462.72180</td>\n",
       "    </tr>\n",
       "    <tr>\n",
       "      <th>468</th>\n",
       "      <td>28</td>\n",
       "      <td>female</td>\n",
       "      <td>24.320</td>\n",
       "      <td>1</td>\n",
       "      <td>no</td>\n",
       "      <td>northeast</td>\n",
       "      <td>23288.92840</td>\n",
       "    </tr>\n",
       "  </tbody>\n",
       "</table>\n",
       "</div>"
      ],
      "text/plain": [
       "      age     sex     bmi  children smoker     region      charges\n",
       "130    59  female  26.505         0     no  northeast  12815.44495\n",
       "167    32  female  33.155         3     no  northwest   6128.79745\n",
       "344    49  female  41.470         4     no  southeast  10977.20630\n",
       "1059   32    male  33.820         1     no  northwest   4462.72180\n",
       "468    28  female  24.320         1     no  northeast  23288.92840"
      ]
     },
     "execution_count": 5,
     "metadata": {},
     "output_type": "execute_result"
    }
   ],
   "source": [
    "smokers_df.sample(5)"
   ]
  },
  {
   "cell_type": "code",
   "execution_count": 6,
   "id": "c8b341c7",
   "metadata": {},
   "outputs": [
    {
     "data": {
      "text/plain": [
       "115"
      ]
     },
     "execution_count": 6,
     "metadata": {},
     "output_type": "execute_result"
    }
   ],
   "source": [
    "smokers_df.loc[(smokers_df['sex']=='female') & (smokers_df['smoker']=='yes')].shape[0]"
   ]
  },
  {
   "cell_type": "code",
   "execution_count": 8,
   "id": "21eec42d",
   "metadata": {},
   "outputs": [],
   "source": [
    "n_female_smokers = smokers_df.loc[(smokers_df['sex']=='female') & (smokers_df['smoker']=='yes')].shape[0]\n",
    "n_male_smokers = smokers_df.loc[(smokers_df['sex']=='male') & (smokers_df['smoker']=='yes')].shape[0]\n",
    "n_females = smokers_df[smokers_df['sex']=='female'].shape[0]\n",
    "n_males = smokers_df[smokers_df['sex']=='male'].shape[0]"
   ]
  },
  {
   "cell_type": "code",
   "execution_count": 9,
   "id": "c79e979a",
   "metadata": {},
   "outputs": [
    {
     "name": "stdout",
     "output_type": "stream",
     "text": [
      "[115, 159] [662, 676]\n",
      " Proportion of smokers in females, males = 17.37%,       23.52% respectively\n"
     ]
    }
   ],
   "source": [
    "print([n_female_smokers, n_male_smokers] , [n_females, n_males])\n",
    "print(f' Proportion of smokers in females, males = {round(n_female_smokers*100/n_females,2)}%, \\\n",
    "      {round(n_male_smokers*100/n_males,2)}% respectively')"
   ]
  },
  {
   "cell_type": "code",
   "execution_count": 47,
   "id": "b235db22",
   "metadata": {},
   "outputs": [],
   "source": []
  },
  {
   "cell_type": "code",
   "execution_count": 11,
   "id": "40bf3391",
   "metadata": {},
   "outputs": [],
   "source": [
    "# Since the sample size is large we will proportions_ztest\n",
    "stat, p_value_prop = proportions_ztest([n_female_smokers, n_male_smokers], [n_females, n_males])"
   ]
  },
  {
   "cell_type": "code",
   "execution_count": 12,
   "id": "56739682",
   "metadata": {},
   "outputs": [
    {
     "name": "stdout",
     "output_type": "stream",
     "text": [
      "With a p-value of 0.0053 the difference is significant. aka |We reject the null|\n"
     ]
    }
   ],
   "source": [
    "if p_value_prop < 0.05:\n",
    "    print(f'With a p-value of {round(p_value_prop,4)} the difference is significant. aka |We reject the null|')\n",
    "else:\n",
    "    print(f'With a p-value of {round(p_value_prop,4)} the difference is not significant. aka |We fail to reject the null|')"
   ]
  },
  {
   "cell_type": "code",
   "execution_count": null,
   "id": "31e08a4b",
   "metadata": {},
   "outputs": [],
   "source": []
  },
  {
   "attachments": {
    "image-2.png": {
     "image/png": "[encoded data removed]"
    },
    "image.png": {
     "image/png": "[encoded data removed]"
    }
   },
   "cell_type": "markdown",
   "id": "b5fb0004",
   "metadata": {},
   "source": [
    "Two-proportion z-test, unpooled for ![image.png](attachment:image.png)\n",
    "\n",
    "![image-2.png](attachment:image-2.png)"
   ]
  },
  {
   "cell_type": "code",
   "execution_count": null,
   "id": "845ff88f",
   "metadata": {},
   "outputs": [],
   "source": []
  }
 ],
 "metadata": {
  "kernelspec": {
   "display_name": "Python 3",
   "language": "python",
   "name": "python3"
  },
  "language_info": {
   "codemirror_mode": {
    "name": "ipython",
    "version": 3
   },
   "file_extension": ".py",
   "mimetype": "text/x-python",
   "name": "python",
   "nbconvert_exporter": "python",
   "pygments_lexer": "ipython3",
   "version": "3.9.4"
  }
 },
 "nbformat": 4,
 "nbformat_minor": 5
}
