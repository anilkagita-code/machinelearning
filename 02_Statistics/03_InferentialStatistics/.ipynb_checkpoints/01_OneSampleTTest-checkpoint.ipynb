{
 "cells": [
  {
   "cell_type": "markdown",
   "id": "92bef97f",
   "metadata": {},
   "source": [
    "# One Sample T-Test"
   ]
  },
  {
   "cell_type": "markdown",
   "id": "c57140a4",
   "metadata": {},
   "source": [
    "One-sample tests are appropriate when a sample is being compared to the population from a hypothesis. The population characteristics are known from theory or are calculated from the population.\n",
    "\n",
    "https://en.wikipedia.org/wiki/Test_statistic "
   ]
  },
  {
   "attachments": {
    "image.png": {
     "image/png": "[encoded data removed]"
    }
   },
   "cell_type": "markdown",
   "id": "2f8ab1ba",
   "metadata": {},
   "source": [
    "One-sample z-test\t\n",
    "\n",
    "![image.png](attachment:image.png)\n",
    "(Normal population or n large) and σ known.\n",
    "(z is the distance from the mean in relation to the standard deviation of the mean). For non-normal distributions it is possible to calculate a minimum proportion of a population that falls within k standard deviations for any k (see: Chebyshev's inequality)."
   ]
  },
  {
   "cell_type": "code",
   "execution_count": 1,
   "id": "7238c270",
   "metadata": {},
   "outputs": [],
   "source": [
    "import numpy as np\n",
    "from scipy.stats import ttest_1samp, wilcoxon\n",
    "from statsmodels.stats.power import ttest_power"
   ]
  },
  {
   "cell_type": "code",
   "execution_count": 2,
   "id": "56fc9ca0",
   "metadata": {},
   "outputs": [],
   "source": [
    "# daily intake of energy in kJ for 11 women\n",
    "daily_intake = np.array([5260,5470,5640,6180,6390,6515,6805,7515,7515,8230,8770])"
   ]
  },
  {
   "cell_type": "code",
   "execution_count": 3,
   "id": "88149e5a",
   "metadata": {},
   "outputs": [
    {
     "name": "stdout",
     "output_type": "stream",
     "text": [
      "\n",
      "The T-Statistic is: -2.8207540608310198\n",
      "The p-value is: 0.018137235176105812\n"
     ]
    }
   ],
   "source": [
    "# performing one sample t-test\n",
    "# Ho: mean=7725\n",
    "\n",
    "t_stat, p_value = ttest_1samp(daily_intake, popmean=7725)\n",
    "print(f\"\"\"\n",
    "The T-Statistic is: {t_stat}\n",
    "The p-value is: {p_value}\"\"\"  )"
   ]
  },
  {
   "cell_type": "code",
   "execution_count": 4,
   "id": "22bfd7c1",
   "metadata": {},
   "outputs": [
    {
     "name": "stdout",
     "output_type": "stream",
     "text": [
      "Ho is rejected in favour of Ha, The avarege mean is not equal to 7725\n"
     ]
    }
   ],
   "source": [
    "if p_value<0.05:\n",
    "    print(\"Ho is rejected in favour of Ha, The avarege mean is not equal to 7725\")\n",
    "else:\n",
    "    print(\"Failed to reject Ho, the avarege mean is equal to 7725\")"
   ]
  },
  {
   "cell_type": "code",
   "execution_count": 5,
   "id": "f683adc6",
   "metadata": {},
   "outputs": [
    {
     "name": "stdout",
     "output_type": "stream",
     "text": [
      "\n",
      "The Z-Statistic is: 8.0\n",
      "The p-value is: 0.0244140625\n"
     ]
    }
   ],
   "source": [
    "# performing the non-parametric test Wilcoxon-test\n",
    "z_stat, p_value_w = wilcoxon(daily_intake - 7725)\n",
    "print(f\"\"\"\n",
    "The Z-Statistic is: {z_stat}\n",
    "The p-value is: {p_value_w}\"\"\"  )"
   ]
  },
  {
   "cell_type": "code",
   "execution_count": 6,
   "id": "67f256f5",
   "metadata": {},
   "outputs": [
    {
     "name": "stdout",
     "output_type": "stream",
     "text": [
      "Ho is rejected in favour of Ha, The avarege mean is not equal to 7725\n"
     ]
    }
   ],
   "source": [
    "if p_value_w<0.05:\n",
    "    print(\"Ho is rejected in favour of Ha, The avarege mean is not equal to 7725\")\n",
    "else:\n",
    "    print(\"Failed to reject Ho, the avarege mean is equal to 7725\")"
   ]
  },
  {
   "cell_type": "code",
   "execution_count": 7,
   "id": "d2fba80c",
   "metadata": {},
   "outputs": [
    {
     "data": {
      "text/plain": [
       "-0.8920007551395173"
      ]
     },
     "execution_count": 7,
     "metadata": {},
     "output_type": "execute_result"
    }
   ],
   "source": [
    "# Calculating Power of Test\n",
    "# Compute the difference in Means between Population and Sample and divide it by Standard Deviation\n",
    "# Set the number of Observations\n",
    "# Set the alpha value and alternative values 'two-sided' , 'larger' , 'smaller'\n",
    "\n",
    "(np.mean(daily_intake) - 7725) / np.std(daily_intake)"
   ]
  },
  {
   "cell_type": "code",
   "execution_count": 8,
   "id": "45325254",
   "metadata": {},
   "outputs": [
    {
     "name": "stdout",
     "output_type": "stream",
     "text": [
      "0.7600153548952462\n"
     ]
    }
   ],
   "source": [
    "print(ttest_power((np.mean(daily_intake) - 7725) / np.std(daily_intake), nobs=11, alpha=0.05, alternative='two-sided'))"
   ]
  },
  {
   "cell_type": "code",
   "execution_count": null,
   "id": "a06681ba",
   "metadata": {},
   "outputs": [],
   "source": []
  }
 ],
 "metadata": {
  "kernelspec": {
   "display_name": "Python 3",
   "language": "python",
   "name": "python3"
  },
  "language_info": {
   "codemirror_mode": {
    "name": "ipython",
    "version": 3
   },
   "file_extension": ".py",
   "mimetype": "text/x-python",
   "name": "python",
   "nbconvert_exporter": "python",
   "pygments_lexer": "ipython3",
   "version": "3.9.4"
  }
 },
 "nbformat": 4,
 "nbformat_minor": 5
}
