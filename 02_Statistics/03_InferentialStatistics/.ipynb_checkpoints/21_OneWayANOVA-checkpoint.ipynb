{
 "cells": [
  {
   "cell_type": "code",
   "execution_count": 3,
   "id": "9d771d55",
   "metadata": {},
   "outputs": [],
   "source": [
    "import pandas as pd\n",
    "import numpy as np\n",
    "import matplotlib.pyplot as plt\n",
    "import seaborn as sns"
   ]
  },
  {
   "cell_type": "markdown",
   "id": "36776e59",
   "metadata": {},
   "source": [
    "# Example 1: Car type and significance of impact"
   ]
  },
  {
   "cell_type": "code",
   "execution_count": 4,
   "id": "3a12bcc4",
   "metadata": {},
   "outputs": [],
   "source": [
    "# Using the fake data given below, test whether the mean pressure applied \n",
    "# to the driver's head during a crash test is equal \n",
    "# for each types of  car at 5% level of significance.\n",
    "# compact cars, midsize cars and full-size cars. \n",
    "\n",
    "mp_cc = np.array([643, 655,702])\n",
    "mp_mc = np.array([469, 427, 525])\n",
    "mp_fc = np.array([484, 456, 402])"
   ]
  },
  {
   "cell_type": "code",
   "execution_count": 7,
   "id": "e0b9ebd1",
   "metadata": {},
   "outputs": [
    {
     "name": "stdout",
     "output_type": "stream",
     "text": [
      "Compact car mean: 666.6666666666666, std: 31.182259913824932\n",
      "Midsize car mean: 473.6666666666667, std: 49.166384179979445\n",
      "Fullsize car mean: 447.3333333333333, std: 41.68133075290823\n"
     ]
    }
   ],
   "source": [
    "print(f'Compact car mean: {mp_cc.mean()}, std: {mp_cc.std(ddof=1)}')\n",
    "print(f'Midsize car mean: {mp_mc.mean()}, std: {mp_mc.std(ddof=1)}')\n",
    "print(f'Fullsize car mean: {mp_fc.mean()}, std: {mp_fc.std(ddof=1)}')\n"
   ]
  },
  {
   "cell_type": "markdown",
   "id": "6a093a29",
   "metadata": {},
   "source": [
    "## There are multiple ways to create this into a DF"
   ]
  },
  {
   "cell_type": "markdown",
   "id": "708e5c5c",
   "metadata": {},
   "source": [
    "### 1. conver np arrays to Df and append all Df to the parent DF"
   ]
  },
  {
   "cell_type": "code",
   "execution_count": 15,
   "id": "c38578f3",
   "metadata": {},
   "outputs": [
    {
     "data": {
      "text/html": [
       "<div>\n",
       "<style scoped>\n",
       "    .dataframe tbody tr th:only-of-type {\n",
       "        vertical-align: middle;\n",
       "    }\n",
       "\n",
       "    .dataframe tbody tr th {\n",
       "        vertical-align: top;\n",
       "    }\n",
       "\n",
       "    .dataframe thead th {\n",
       "        text-align: right;\n",
       "    }\n",
       "</style>\n",
       "<table border=\"1\" class=\"dataframe\">\n",
       "  <thead>\n",
       "    <tr style=\"text-align: right;\">\n",
       "      <th></th>\n",
       "      <th>type</th>\n",
       "      <th>mp</th>\n",
       "    </tr>\n",
       "  </thead>\n",
       "  <tbody>\n",
       "    <tr>\n",
       "      <th>0</th>\n",
       "      <td>CC</td>\n",
       "      <td>643</td>\n",
       "    </tr>\n",
       "    <tr>\n",
       "      <th>1</th>\n",
       "      <td>CC</td>\n",
       "      <td>655</td>\n",
       "    </tr>\n",
       "    <tr>\n",
       "      <th>2</th>\n",
       "      <td>CC</td>\n",
       "      <td>702</td>\n",
       "    </tr>\n",
       "    <tr>\n",
       "      <th>0</th>\n",
       "      <td>MC</td>\n",
       "      <td>469</td>\n",
       "    </tr>\n",
       "    <tr>\n",
       "      <th>1</th>\n",
       "      <td>MC</td>\n",
       "      <td>427</td>\n",
       "    </tr>\n",
       "    <tr>\n",
       "      <th>2</th>\n",
       "      <td>MC</td>\n",
       "      <td>525</td>\n",
       "    </tr>\n",
       "    <tr>\n",
       "      <th>0</th>\n",
       "      <td>FC</td>\n",
       "      <td>484</td>\n",
       "    </tr>\n",
       "    <tr>\n",
       "      <th>1</th>\n",
       "      <td>FC</td>\n",
       "      <td>456</td>\n",
       "    </tr>\n",
       "    <tr>\n",
       "      <th>2</th>\n",
       "      <td>FC</td>\n",
       "      <td>402</td>\n",
       "    </tr>\n",
       "  </tbody>\n",
       "</table>\n",
       "</div>"
      ],
      "text/plain": [
       "  type   mp\n",
       "0   CC  643\n",
       "1   CC  655\n",
       "2   CC  702\n",
       "0   MC  469\n",
       "1   MC  427\n",
       "2   MC  525\n",
       "0   FC  484\n",
       "1   FC  456\n",
       "2   FC  402"
      ]
     },
     "execution_count": 15,
     "metadata": {},
     "output_type": "execute_result"
    }
   ],
   "source": [
    "df1 = pd.DataFrame({'type': 'CC', 'mp': mp_cc})\n",
    "df2 = pd.DataFrame({'type': 'MC', 'mp': mp_mc})\n",
    "df3 = pd.DataFrame({'type': 'FC', 'mp': mp_fc})\n",
    "\n",
    "data_df_dfappend = pd.DataFrame()\n",
    "data_df_dfappend = data_df_dfappend.append(df1)\n",
    "data_df_dfappend = data_df_dfappend.append(df2)\n",
    "data_df_dfappend = data_df_dfappend.append(df3)\n",
    "data_df_dfappend"
   ]
  },
  {
   "cell_type": "code",
   "execution_count": null,
   "id": "3f5a8fd0",
   "metadata": {},
   "outputs": [],
   "source": []
  },
  {
   "cell_type": "markdown",
   "id": "83efb7e9",
   "metadata": {},
   "source": [
    "### Plotting the data"
   ]
  },
  {
   "cell_type": "code",
   "execution_count": 20,
   "id": "c641dad7",
   "metadata": {},
   "outputs": [
    {
     "data": {
      "image/png": "[encoded data removed]",
      "text/plain": [
       "<Figure size 432x288 with 1 Axes>"
      ]
     },
     "metadata": {
      "needs_background": "light"
     },
     "output_type": "display_data"
    }
   ],
   "source": [
    "sns.boxplot(x = 'type', y='mp', data = data_df_dfappend)\n",
    "plt.title('Mean pressure based on Car type')\n",
    "plt.xlabel('Type of Car')\n",
    "# These ticks are set to 0, 1, 2 since the index values are 0, 1, 2\n",
    "plt.xticks(ticks=[0, 1, 2], labels=['Compact Car', 'Midsize Car', 'Fullsize Car'], \n",
    "          rotation=20)\n",
    "plt.ylabel('Mean Pressure')\n",
    "plt.show()"
   ]
  },
  {
   "cell_type": "code",
   "execution_count": 22,
   "id": "872acd2c",
   "metadata": {},
   "outputs": [
    {
     "name": "stdout",
     "output_type": "stream",
     "text": [
      "\n",
      "Observation: All types of cars have different shapes, means & variances.\n",
      "There are no outliers\n"
     ]
    }
   ],
   "source": [
    "print(\"\"\"\n",
    "Observation: All types of cars have different shapes, means & variances.\n",
    "There are no outliers\"\"\")"
   ]
  },
  {
   "cell_type": "markdown",
   "id": "546c5a41",
   "metadata": {},
   "source": [
    "## Stating the Hypothesis"
   ]
  },
  {
   "cell_type": "code",
   "execution_count": 23,
   "id": "d13e9eef",
   "metadata": {},
   "outputs": [
    {
     "name": "stdout",
     "output_type": "stream",
     "text": [
      "\n",
      "Ho = impact is same mu1 == mu2 == mu3\n",
      "Ha = at least one mu differs\n"
     ]
    }
   ],
   "source": [
    "print(\"\"\"\n",
    "Ho = impact is same mu1 == mu2 == mu3\n",
    "Ha = at least one mu differs\"\"\")"
   ]
  },
  {
   "cell_type": "code",
   "execution_count": 24,
   "id": "036c82bf",
   "metadata": {},
   "outputs": [
    {
     "name": "stdout",
     "output_type": "stream",
     "text": [
      "\n",
      "Significance Level: We will select alpha=0.05\n"
     ]
    }
   ],
   "source": [
    "print(\"\"\"\n",
    "Significance Level: We will select alpha=0.05\"\"\")"
   ]
  },
  {
   "cell_type": "markdown",
   "id": "382d1847",
   "metadata": {},
   "source": [
    "## OneWay ANOVA"
   ]
  },
  {
   "cell_type": "code",
   "execution_count": 25,
   "id": "f6fb41d1",
   "metadata": {},
   "outputs": [],
   "source": [
    "# ols will create a model\n",
    "import statsmodels.api as sm\n",
    "\n",
    "# Gives teh Anova table for the given linear model\n",
    "from statsmodels.formula.api import ols"
   ]
  },
  {
   "cell_type": "code",
   "execution_count": 28,
   "id": "80a71e13",
   "metadata": {},
   "outputs": [
    {
     "name": "stderr",
     "output_type": "stream",
     "text": [
      "C:\\ProgramData\\Anaconda3\\envs\\tensorflow_gpu\\lib\\site-packages\\scipy\\stats\\stats.py:1603: UserWarning: kurtosistest only valid for n>=20 ... continuing anyway, n=9\n",
      "  warnings.warn(\"kurtosistest only valid for n>=20 ... continuing \"\n"
     ]
    },
    {
     "data": {
      "text/html": [
       "<table class=\"simpletable\">\n",
       "<caption>OLS Regression Results</caption>\n",
       "<tr>\n",
       "  <th>Dep. Variable:</th>           <td>mp</td>        <th>  R-squared:         </th> <td>   0.894</td>\n",
       "</tr>\n",
       "<tr>\n",
       "  <th>Model:</th>                   <td>OLS</td>       <th>  Adj. R-squared:    </th> <td>   0.858</td>\n",
       "</tr>\n",
       "<tr>\n",
       "  <th>Method:</th>             <td>Least Squares</td>  <th>  F-statistic:       </th> <td>   25.18</td>\n",
       "</tr>\n",
       "<tr>\n",
       "  <th>Date:</th>             <td>Sat, 17 Jul 2021</td> <th>  Prob (F-statistic):</th>  <td>0.00121</td>\n",
       "</tr>\n",
       "<tr>\n",
       "  <th>Time:</th>                 <td>11:39:23</td>     <th>  Log-Likelihood:    </th> <td> -44.442</td>\n",
       "</tr>\n",
       "<tr>\n",
       "  <th>No. Observations:</th>      <td>     9</td>      <th>  AIC:               </th> <td>   94.88</td>\n",
       "</tr>\n",
       "<tr>\n",
       "  <th>Df Residuals:</th>          <td>     6</td>      <th>  BIC:               </th> <td>   95.48</td>\n",
       "</tr>\n",
       "<tr>\n",
       "  <th>Df Model:</th>              <td>     2</td>      <th>                     </th>     <td> </td>   \n",
       "</tr>\n",
       "<tr>\n",
       "  <th>Covariance Type:</th>      <td>nonrobust</td>    <th>                     </th>     <td> </td>   \n",
       "</tr>\n",
       "</table>\n",
       "<table class=\"simpletable\">\n",
       "<tr>\n",
       "       <td></td>         <th>coef</th>     <th>std err</th>      <th>t</th>      <th>P>|t|</th>  <th>[0.025</th>    <th>0.975]</th>  \n",
       "</tr>\n",
       "<tr>\n",
       "  <th>Intercept</th>  <td>  666.6667</td> <td>   23.868</td> <td>   27.932</td> <td> 0.000</td> <td>  608.265</td> <td>  725.069</td>\n",
       "</tr>\n",
       "<tr>\n",
       "  <th>type[T.FC]</th> <td> -219.3333</td> <td>   33.754</td> <td>   -6.498</td> <td> 0.001</td> <td> -301.926</td> <td> -136.740</td>\n",
       "</tr>\n",
       "<tr>\n",
       "  <th>type[T.MC]</th> <td> -193.0000</td> <td>   33.754</td> <td>   -5.718</td> <td> 0.001</td> <td> -275.593</td> <td> -110.407</td>\n",
       "</tr>\n",
       "</table>\n",
       "<table class=\"simpletable\">\n",
       "<tr>\n",
       "  <th>Omnibus:</th>       <td> 1.236</td> <th>  Durbin-Watson:     </th> <td>   1.876</td>\n",
       "</tr>\n",
       "<tr>\n",
       "  <th>Prob(Omnibus):</th> <td> 0.539</td> <th>  Jarque-Bera (JB):  </th> <td>   0.659</td>\n",
       "</tr>\n",
       "<tr>\n",
       "  <th>Skew:</th>          <td> 0.057</td> <th>  Prob(JB):          </th> <td>   0.719</td>\n",
       "</tr>\n",
       "<tr>\n",
       "  <th>Kurtosis:</th>      <td> 1.679</td> <th>  Cond. No.          </th> <td>    3.73</td>\n",
       "</tr>\n",
       "</table><br/><br/>Notes:<br/>[1] Standard Errors assume that the covariance matrix of the errors is correctly specified."
      ],
      "text/plain": [
       "<class 'statsmodels.iolib.summary.Summary'>\n",
       "\"\"\"\n",
       "                            OLS Regression Results                            \n",
       "==============================================================================\n",
       "Dep. Variable:                     mp   R-squared:                       0.894\n",
       "Model:                            OLS   Adj. R-squared:                  0.858\n",
       "Method:                 Least Squares   F-statistic:                     25.18\n",
       "Date:                Sat, 17 Jul 2021   Prob (F-statistic):            0.00121\n",
       "Time:                        11:39:23   Log-Likelihood:                -44.442\n",
       "No. Observations:                   9   AIC:                             94.88\n",
       "Df Residuals:                       6   BIC:                             95.48\n",
       "Df Model:                           2                                         \n",
       "Covariance Type:            nonrobust                                         \n",
       "==============================================================================\n",
       "                 coef    std err          t      P>|t|      [0.025      0.975]\n",
       "------------------------------------------------------------------------------\n",
       "Intercept    666.6667     23.868     27.932      0.000     608.265     725.069\n",
       "type[T.FC]  -219.3333     33.754     -6.498      0.001    -301.926    -136.740\n",
       "type[T.MC]  -193.0000     33.754     -5.718      0.001    -275.593    -110.407\n",
       "==============================================================================\n",
       "Omnibus:                        1.236   Durbin-Watson:                   1.876\n",
       "Prob(Omnibus):                  0.539   Jarque-Bera (JB):                0.659\n",
       "Skew:                           0.057   Prob(JB):                        0.719\n",
       "Kurtosis:                       1.679   Cond. No.                         3.73\n",
       "==============================================================================\n",
       "\n",
       "Notes:\n",
       "[1] Standard Errors assume that the covariance matrix of the errors is correctly specified.\n",
       "\"\"\""
      ]
     },
     "execution_count": 28,
     "metadata": {},
     "output_type": "execute_result"
    }
   ],
   "source": [
    "model_ols = ols('mp ~ type', data=data_df_dfappend).fit()\n",
    "model_ols.summary()"
   ]
  },
  {
   "cell_type": "code",
   "execution_count": 29,
   "id": "02059c98",
   "metadata": {},
   "outputs": [
    {
     "name": "stdout",
     "output_type": "stream",
     "text": [
      "                sum_sq   df          F    PR(>F)\n",
      "type      86049.555556  2.0  25.175411  0.001207\n",
      "Residual  10254.000000  6.0        NaN       NaN\n"
     ]
    }
   ],
   "source": [
    "anova_table = sm.stats.anova_lm(model_ols, typ=2)\n",
    "print(anova_table)"
   ]
  },
  {
   "cell_type": "code",
   "execution_count": 33,
   "id": "08b606c7",
   "metadata": {},
   "outputs": [
    {
     "name": "stdout",
     "output_type": "stream",
     "text": [
      "\n",
      "Observation: Since the p-Value: 0.0012071270284831205 is less the chosen level of significance 5%\n",
      "\n",
      "The statistical decision is to reject the Ho in favor of Ha\n"
     ]
    }
   ],
   "source": [
    "print(\"\"\"\n",
    "Observation: Since the p-Value: {} is less the chosen level of significance 5%\n",
    "\n",
    "The statistical decision is to reject the Ho in favor of Ha\"\"\".format(anova_table['PR(>F)'][0]))"
   ]
  },
  {
   "cell_type": "markdown",
   "id": "49fb0460",
   "metadata": {},
   "source": [
    "### Since at least one is different, identify which one using Hukey-Krammer"
   ]
  },
  {
   "cell_type": "code",
   "execution_count": 34,
   "id": "f84648b8",
   "metadata": {},
   "outputs": [],
   "source": [
    "from statsmodels.stats.multicomp import pairwise_tukeyhsd"
   ]
  },
  {
   "cell_type": "code",
   "execution_count": 35,
   "id": "12d867d6",
   "metadata": {},
   "outputs": [],
   "source": [
    "tukey_table = pairwise_tukeyhsd(data_df_dfappend['mp'],\n",
    "                               data_df_dfappend['type'],\n",
    "                               alpha=0.05)"
   ]
  },
  {
   "cell_type": "code",
   "execution_count": 37,
   "id": "7d669186",
   "metadata": {},
   "outputs": [
    {
     "name": "stdout",
     "output_type": "stream",
     "text": [
      "   Multiple Comparison of Means - Tukey HSD, FWER=0.05   \n",
      "=========================================================\n",
      "group1 group2  meandiff p-adj    lower     upper   reject\n",
      "---------------------------------------------------------\n",
      "    CC     FC -219.3333 0.0015 -322.7791 -115.8876   True\n",
      "    CC     MC    -193.0  0.003 -296.4458  -89.5542   True\n",
      "    FC     MC   26.3333 0.7172  -77.1124  129.7791  False\n",
      "---------------------------------------------------------\n"
     ]
    }
   ],
   "source": [
    "print(tukey_table)"
   ]
  },
  {
   "cell_type": "code",
   "execution_count": 38,
   "id": "4914982f",
   "metadata": {},
   "outputs": [
    {
     "name": "stdout",
     "output_type": "stream",
     "text": [
      "\n",
      "Observation:\n",
      "Compact vs Fullsize: Since the result reject is true, mean head pressure is statitically different\n",
      "Compact vs Midsize: Since the result reject is true, mean head pressure is statitically different\n",
      "Fullsize vs Midsize: Since the result reject is False, mean head pressure is statitically equal\n",
      "\n"
     ]
    }
   ],
   "source": [
    "print(\"\"\"\n",
    "Observation:\n",
    "Compact vs Fullsize: Since the result reject is true, mean head pressure is statitically different\n",
    "Compact vs Midsize: Since the result reject is true, mean head pressure is statitically different\n",
    "Fullsize vs Midsize: Since the result reject is False, mean head pressure is statitically equal\n",
    "\"\"\")"
   ]
  },
  {
   "cell_type": "code",
   "execution_count": null,
   "id": "f009cf99",
   "metadata": {},
   "outputs": [],
   "source": []
  }
 ],
 "metadata": {
  "kernelspec": {
   "display_name": "Python 3",
   "language": "python",
   "name": "python3"
  },
  "language_info": {
   "codemirror_mode": {
    "name": "ipython",
    "version": 3
   },
   "file_extension": ".py",
   "mimetype": "text/x-python",
   "name": "python",
   "nbconvert_exporter": "python",
   "pygments_lexer": "ipython3",
   "version": "3.9.4"
  }
 },
 "nbformat": 4,
 "nbformat_minor": 5
}
