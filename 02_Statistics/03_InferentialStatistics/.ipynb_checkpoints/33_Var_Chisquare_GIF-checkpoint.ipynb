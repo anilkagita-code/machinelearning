{
 "cells": [
  {
   "cell_type": "markdown",
   "id": "676d667b",
   "metadata": {},
   "source": [
    "# Chi-square Goodness Of Fit"
   ]
  },
  {
   "cell_type": "markdown",
   "id": "11104244",
   "metadata": {},
   "source": [
    "Chi-squared tests use the same calculations and the same probability distribution for different applications:\n",
    "\n",
    "Chi-squared tests for variance are used to determine whether a normal population has a specified variance. The null hypothesis is that it does.\n",
    "Chi-squared tests of independence are used for deciding whether two variables are associated or are independent. The variables are categorical rather than numeric. It can be used to decide whether left-handedness is correlated with height (or not). The null hypothesis is that the variables are independent. The numbers used in the calculation are the observed and expected frequencies of occurrence (from contingency tables).\n",
    "Chi-squared goodness of fit tests are used to determine the adequacy of curves fit to data. The null hypothesis is that the curve fit is adequate. It is common to determine curve shapes to minimize the mean square error, so it is appropriate that the goodness-of-fit calculation sums the squared errors.\n",
    "\n",
    "https://en.wikipedia.org/wiki/Test_statistic"
   ]
  },
  {
   "cell_type": "markdown",
   "id": "e5854754",
   "metadata": {},
   "source": [
    "\t\t\tiv. One variance test\n",
    "\t\t\t\t1) Condition for One variance test\n",
    "\t\t\t\t\ta) Random samples\n",
    "\t\t\t\t\tb) Each observation should be independent of other\n",
    "\t\t\t\t\t\ti) Sampling with replacement\n",
    "\t\t\t\t\t\tii) If sampling without replacement, the sample size should not be more than 10% of the population\n",
    "\t\t\t\t\tc) The data follows a Normal Distribution\n",
    "\t\t\t\t2) Variance Tests\n",
    "\t\t\t\t\ta) Chi square test\n",
    "\t\t\t\t\t\ti) For testing the population variance against a specified value (this is for One variance test)\n",
    "\t\t\t\t\t\tii) testing goodness of fit of some probability distribution\n",
    "\t\t\t\t\t\tiii) testing for independence of two attributes (Contingency Tables)\n",
    "\t\t\t\t\tb) F test\n",
    "\t\t\t\t\t\ti) for testing equality of two variances from different populations\n",
    "\t\t\t\t\t\tii) for testing equality of several means with technique of ANOVA.\n"
   ]
  },
  {
   "attachments": {
    "image.png": {
     "image/png": "[encoded data removed]"
    }
   },
   "cell_type": "markdown",
   "id": "76b5c639",
   "metadata": {},
   "source": [
    "\n",
    "Chi-squared test for goodness of fit\t\n",
    "![image.png](attachment:image.png)\n",
    "\n",
    "df = k − 1 − # parameters estimated, and one of these must hold.\n",
    "• All expected counts are at least 5.[4]\n",
    "\n",
    "• All expected counts are > 1 and no more than 20% of expected counts are less than 5[5]"
   ]
  },
  {
   "cell_type": "code",
   "execution_count": null,
   "id": "7f8201ad",
   "metadata": {},
   "outputs": [],
   "source": []
  },
  {
   "cell_type": "markdown",
   "id": "28217d9c",
   "metadata": {},
   "source": [
    "## Test for Goodness of Fit"
   ]
  },
  {
   "cell_type": "code",
   "execution_count": 1,
   "id": "2ef884b4",
   "metadata": {},
   "outputs": [],
   "source": [
    "import scipy.stats as stats\n",
    "import scipy\n",
    "import numpy as np\n",
    "import pandas as pd\n",
    "import matplotlib.pyplot as plt\n",
    "import seaborn as sns"
   ]
  },
  {
   "cell_type": "markdown",
   "id": "cfb07873",
   "metadata": {},
   "source": [
    "### Example 1: \n",
    "A coin is flipped 100 times. Number of heads and tails are noted. Is this coin biased? Check with 95%\n",
    "Confidence Level.\n",
    "\n",
    "Head = 40\n",
    "\n",
    "Tail = 60"
   ]
  },
  {
   "cell_type": "code",
   "execution_count": 3,
   "id": "20ce1b44",
   "metadata": {},
   "outputs": [],
   "source": [
    "exp = [50, 50]\n",
    "obs = [40, 60]"
   ]
  },
  {
   "cell_type": "code",
   "execution_count": 9,
   "id": "1e5c8118",
   "metadata": {},
   "outputs": [
    {
     "data": {
      "text/plain": [
       "Power_divergenceResult(statistic=4.0, pvalue=0.04550026389635857)"
      ]
     },
     "execution_count": 9,
     "metadata": {},
     "output_type": "execute_result"
    }
   ],
   "source": [
    "stats.chisquare(obs, exp)"
   ]
  },
  {
   "cell_type": "markdown",
   "id": "37778388",
   "metadata": {},
   "source": [
    "### Example 2:\n",
    "Rolling a dice 65 times. Number of times each value appears are noted. Is this dice biased? Check with 95% Confidence Level.\n",
    "\n",
    "[10, 6, 8, 22, 11, 8]\n"
   ]
  },
  {
   "cell_type": "code",
   "execution_count": 7,
   "id": "d1288cc9",
   "metadata": {},
   "outputs": [],
   "source": [
    "obs_d = [10, 6, 8, 22, 11, 8]"
   ]
  },
  {
   "cell_type": "code",
   "execution_count": 8,
   "id": "3b2baf28",
   "metadata": {},
   "outputs": [
    {
     "data": {
      "text/plain": [
       "Power_divergenceResult(statistic=15.215384615384615, pvalue=0.009480606629220312)"
      ]
     },
     "execution_count": 8,
     "metadata": {},
     "output_type": "execute_result"
    }
   ],
   "source": [
    "stats.chisquare(f_obs=obs_d)"
   ]
  },
  {
   "cell_type": "code",
   "execution_count": null,
   "id": "f75820e1",
   "metadata": {},
   "outputs": [],
   "source": []
  },
  {
   "cell_type": "markdown",
   "id": "f38193da",
   "metadata": {},
   "source": [
    "### Example 3: \n",
    "A t shirt manufacturer expects vs actual sale.\n",
    "H0: The data follow a specified distribution.\n",
    "Ha: The data do not follow the specified distribution.\n",
    "Alpha = 0.05\n",
    "\n",
    "Size    Proportions Counts\n",
    "\n",
    "Small       0.1      25\n",
    "\n",
    "Medium      0.2      41\n",
    "\n",
    "Large       0.4      91\n",
    "\n",
    "Extra Large 0.3      68"
   ]
  },
  {
   "cell_type": "code",
   "execution_count": 10,
   "id": "2e514626",
   "metadata": {},
   "outputs": [],
   "source": [
    "exp_shirt_r = pd.Series([0.1, 0.2, 0.4, 0.3])\n",
    "obs_shirt = pd.Series([25, 41, 91, 68])"
   ]
  },
  {
   "cell_type": "code",
   "execution_count": 12,
   "id": "008db763",
   "metadata": {},
   "outputs": [],
   "source": [
    "exp_shirt = exp_shirt_r * sum(obs_shirt)"
   ]
  },
  {
   "cell_type": "code",
   "execution_count": 14,
   "id": "cdb0cafe",
   "metadata": {},
   "outputs": [
    {
     "data": {
      "text/plain": [
       "Power_divergenceResult(statistic=0.648148148148148, pvalue=0.8853267818237286)"
      ]
     },
     "execution_count": 14,
     "metadata": {},
     "output_type": "execute_result"
    }
   ],
   "source": [
    "stats.chisquare(obs_shirt, exp_shirt)"
   ]
  },
  {
   "cell_type": "code",
   "execution_count": 15,
   "id": "1041ad60",
   "metadata": {},
   "outputs": [
    {
     "name": "stdout",
     "output_type": "stream",
     "text": [
      "There is no significant difference in the Shirt sale and Shirt manufactured\n"
     ]
    }
   ],
   "source": [
    "print(\"There is no significant difference in the Shirt sale and Shirt manufactured\")"
   ]
  },
  {
   "cell_type": "code",
   "execution_count": null,
   "id": "993ddf70",
   "metadata": {},
   "outputs": [],
   "source": []
  },
  {
   "cell_type": "code",
   "execution_count": null,
   "id": "acef0247",
   "metadata": {},
   "outputs": [],
   "source": []
  },
  {
   "cell_type": "code",
   "execution_count": null,
   "id": "65a373fd",
   "metadata": {},
   "outputs": [],
   "source": []
  },
  {
   "cell_type": "markdown",
   "id": "97d79830",
   "metadata": {},
   "source": [
    "###  Example 4:\n",
    "\n",
    "A1 airlines operated daily flights to several Indian cities. The operations manager believes that 30% of their passengers prefer vegan food, 45% prefer vegetarian food , 20% prefer non-veg food 5% request for Jain food. \n",
    "\n",
    "A sample of 500 passengers was chosen to analyse the food preferences and the data is shown in the following table:\n",
    "\n",
    "|               | Food type | Vegan | Vegetarian | Non-Vegetarian | Jain |\n",
    "| ------------------------- | ---- | ---- | ----- | ---- | ---- |\n",
    "|Number of passengers |  | 190 | 185 | 90 | 35 |\n",
    "\n",
    "At 5% level of significance, can you confirm that the meal preference is as per the belief of the operations manager?"
   ]
  },
  {
   "cell_type": "code",
   "execution_count": 16,
   "id": "b2017caf",
   "metadata": {},
   "outputs": [
    {
     "name": "stdout",
     "output_type": "stream",
     "text": [
      "\n",
      "Ho: Meal preferences are same between perceived vs actual\n",
      "Ha: Meal preferences are different between perceived vs actual\n"
     ]
    }
   ],
   "source": [
    "print(\"\"\"\n",
    "Ho: Meal preferences are same between perceived vs actual\n",
    "Ha: Meal preferences are different between perceived vs actual\"\"\")"
   ]
  },
  {
   "cell_type": "code",
   "execution_count": 17,
   "id": "fdcbfb58",
   "metadata": {},
   "outputs": [
    {
     "name": "stdout",
     "output_type": "stream",
     "text": [
      "\n",
      "Significance: alpha is choosen as 0.05\n"
     ]
    }
   ],
   "source": [
    "print(\"\"\"\n",
    "Significance: alpha is choosen as 0.05\"\"\")"
   ]
  },
  {
   "cell_type": "code",
   "execution_count": 18,
   "id": "e7d036e6",
   "metadata": {},
   "outputs": [
    {
     "name": "stdout",
     "output_type": "stream",
     "text": [
      "\n",
      "The test statistic we will use Chi-Square goodness of fit\n"
     ]
    }
   ],
   "source": [
    "print(\"\"\"\n",
    "The test statistic we will use Chi-Square goodness of fit\"\"\")"
   ]
  },
  {
   "cell_type": "code",
   "execution_count": 19,
   "id": "87842d1b",
   "metadata": {},
   "outputs": [
    {
     "data": {
      "text/plain": [
       "array([150., 225., 100.,  25.])"
      ]
     },
     "execution_count": 19,
     "metadata": {},
     "output_type": "execute_result"
    }
   ],
   "source": [
    "observed_values = np.array([190, 185, 90, 35])\n",
    "\n",
    "total_samples = observed_values.sum()\n",
    "\n",
    "expected_values = np.array([total_samples*.3, total_samples*.45, total_samples*.2, total_samples*.05])\n",
    "expected_values"
   ]
  },
  {
   "cell_type": "code",
   "execution_count": 20,
   "id": "966af60b",
   "metadata": {},
   "outputs": [],
   "source": [
    "chi_sq_stat, p_value = stats.chisquare(f_obs=observed_values, f_exp=expected_values)"
   ]
  },
  {
   "cell_type": "code",
   "execution_count": 21,
   "id": "293328ed",
   "metadata": {},
   "outputs": [
    {
     "name": "stdout",
     "output_type": "stream",
     "text": [
      "4.492718590376291e-05\n"
     ]
    }
   ],
   "source": [
    "print(p_value)"
   ]
  },
  {
   "cell_type": "code",
   "execution_count": 22,
   "id": "e9a67929",
   "metadata": {},
   "outputs": [
    {
     "name": "stdout",
     "output_type": "stream",
     "text": [
      "\n",
      "Observation: p-value is 4.492718590376291e-05 is less than 0.05.  Reject the Ho in favour of Ha\n",
      "\n",
      "There is a difference between the observed values to the Predicted values by manager on the food choices\n"
     ]
    }
   ],
   "source": [
    "print(f\"\"\"\n",
    "Observation: p-value is {p_value} is less than 0.05.  Reject the Ho in favour of Ha\n",
    "\n",
    "There is a difference between the observed values to the Predicted values by manager on the food choices\"\"\")"
   ]
  },
  {
   "cell_type": "markdown",
   "id": "867d8d6b",
   "metadata": {},
   "source": [
    "### Practice Exercise 2\n",
    "Refer to the above example 1. Here the operations manager changes his belief and now believes that 28% of their passengers prefer vegan food, 42% prefer vegetarian food , 25% prefer non-veg food 5% request for Jain food. \n",
    "\n",
    "At 5% level of significance, can you confirm that the meal preference is as per the belief of the operations manager?"
   ]
  },
  {
   "cell_type": "code",
   "execution_count": 23,
   "id": "a936340e",
   "metadata": {},
   "outputs": [
    {
     "data": {
      "text/plain": [
       "array([140., 210., 125.,  25.])"
      ]
     },
     "execution_count": 23,
     "metadata": {},
     "output_type": "execute_result"
    }
   ],
   "source": [
    "observed_values = np.array([190, 185, 90, 35])\n",
    "total_samples = observed_values.sum()\n",
    "expected_values = np.array([total_samples*.28, total_samples* .42, total_samples* .25, total_samples* .05])\n",
    "expected_values"
   ]
  },
  {
   "cell_type": "code",
   "execution_count": 24,
   "id": "25ec4867",
   "metadata": {},
   "outputs": [
    {
     "data": {
      "text/plain": [
       "1.4561004918754443e-07"
      ]
     },
     "execution_count": 24,
     "metadata": {},
     "output_type": "execute_result"
    }
   ],
   "source": [
    "chi_sq_stat, p_value = stats.chisquare(f_obs=observed_values, f_exp=expected_values)\n",
    "p_value"
   ]
  },
  {
   "cell_type": "code",
   "execution_count": 25,
   "id": "eb061833",
   "metadata": {},
   "outputs": [
    {
     "name": "stdout",
     "output_type": "stream",
     "text": [
      "\n",
      "Observation: p-value is 1.4561004918754443e-07 is less than 0.05. Reject the Ho in favour of Ha\n",
      "\n",
      "There is a difference between the observed values to the Predicted values by manager on the food choices\n"
     ]
    }
   ],
   "source": [
    "print(f\"\"\"\n",
    "Observation: p-value is {p_value} is less than 0.05. Reject the Ho in favour of Ha\n",
    "\n",
    "There is a difference between the observed values to the Predicted values by manager on the food choices\"\"\")"
   ]
  },
  {
   "cell_type": "code",
   "execution_count": null,
   "id": "220c6bde",
   "metadata": {},
   "outputs": [],
   "source": []
  },
  {
   "cell_type": "code",
   "execution_count": null,
   "id": "cd3dcf30",
   "metadata": {},
   "outputs": [],
   "source": []
  }
 ],
 "metadata": {
  "kernelspec": {
   "display_name": "Python 3",
   "language": "python",
   "name": "python3"
  },
  "language_info": {
   "codemirror_mode": {
    "name": "ipython",
    "version": 3
   },
   "file_extension": ".py",
   "mimetype": "text/x-python",
   "name": "python",
   "nbconvert_exporter": "python",
   "pygments_lexer": "ipython3",
   "version": "3.9.4"
  }
 },
 "nbformat": 4,
 "nbformat_minor": 5
}
