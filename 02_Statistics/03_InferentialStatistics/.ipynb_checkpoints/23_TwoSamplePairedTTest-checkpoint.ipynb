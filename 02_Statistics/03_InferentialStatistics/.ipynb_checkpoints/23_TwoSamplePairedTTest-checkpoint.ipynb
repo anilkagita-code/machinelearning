{
 "cells": [
  {
   "cell_type": "markdown",
   "id": "ea9d3c0d",
   "metadata": {},
   "source": [
    "# Two Sample T-Test"
   ]
  },
  {
   "cell_type": "markdown",
   "id": "90a5f480",
   "metadata": {},
   "source": [
    "Two-sample tests are appropriate for comparing two samples, typically experimental and control samples from a scientifically controlled experiment.\n",
    "\n",
    "https://en.wikipedia.org/wiki/Test_statistic"
   ]
  },
  {
   "cell_type": "code",
   "execution_count": null,
   "id": "da6b76ef",
   "metadata": {},
   "outputs": [],
   "source": []
  },
  {
   "attachments": {
    "image.png": {
     "image/png": "[encoded data removed]"
    }
   },
   "cell_type": "markdown",
   "id": "56543b64",
   "metadata": {},
   "source": [
    "### Dependent t-test for paired samples\n",
    "\n",
    "This test is used when the samples are dependent; that is, when there is only one sample that has been tested twice (repeated measures) or when there are two samples that have been matched or \"paired\". This is an example of a paired difference test. The t statistic is calculated as\n",
    "\n",
    "![image.png](attachment:image.png)\n",
    "\n",
    "where {\\displaystyle {\\bar {X}}_{D}}{\\displaystyle {\\bar {X}}_{D}} and {\\displaystyle s_{D}}{\\displaystyle s_{D}} are the average and standard deviation of the differences between all pairs. The pairs are e.g. either one person's pre-test and post-test scores or between-pairs of persons matched into meaningful groups (for instance drawn from the same family or age group: see table). The constant μ0 is zero if we want to test whether the average of the difference is significantly different. The degree of freedom used is n − 1, where n represents the number of pairs.\n"
   ]
  },
  {
   "cell_type": "code",
   "execution_count": 1,
   "id": "0b461dc5",
   "metadata": {},
   "outputs": [],
   "source": [
    "import numpy as np\n",
    "from scipy.stats import ttest_1samp, ttest_ind, mannwhitneyu, levene, shapiro\n",
    "from statsmodels.stats.power import ttest_power\n",
    "from statsmodels.stats import weightstats\n",
    "import scipy.stats as stats\n",
    "import pandas as pd\n",
    "import matplotlib.pyplot as plt\n",
    "import seaborn as sns"
   ]
  },
  {
   "cell_type": "markdown",
   "id": "22c48ca2",
   "metadata": {},
   "source": [
    "#### Example 1: \n",
    "\n",
    "Before and after medicine BP was measured. Is there a difference at 95% confidence level?\n"
   ]
  },
  {
   "cell_type": "code",
   "execution_count": 2,
   "id": "a2683bfe",
   "metadata": {},
   "outputs": [],
   "source": [
    "bp_before = [120, 122, 143, 100, 109]\n",
    "bp_after = [122, 120, 141, 109, 109]"
   ]
  },
  {
   "cell_type": "code",
   "execution_count": 8,
   "id": "ca971c25",
   "metadata": {},
   "outputs": [],
   "source": [
    "t_stat, p_value = stats.ttest_rel(a=bp_before, b=bp_after, alternative='two-sided')"
   ]
  },
  {
   "cell_type": "code",
   "execution_count": 9,
   "id": "478abdd0",
   "metadata": {},
   "outputs": [
    {
     "name": "stdout",
     "output_type": "stream",
     "text": [
      "\n",
      "The Z-Statistic is: -0.6864064729836442\n",
      "The p-value is: 0.5301776477578163 \n",
      "\n",
      "Failed to reject Ho\n"
     ]
    }
   ],
   "source": [
    "print(f\"\"\"\n",
    "The Z-Statistic is: {t_stat}\n",
    "The p-value is: {p_value} \\n\"\"\"  )\n",
    "\n",
    "if p_value<0.05:\n",
    "    print(f\"Ho is rejected in favour of Ha\")\n",
    "else:\n",
    "    print(\"Failed to reject Ho\")"
   ]
  },
  {
   "cell_type": "code",
   "execution_count": null,
   "id": "3f86f269",
   "metadata": {},
   "outputs": [],
   "source": []
  },
  {
   "cell_type": "markdown",
   "id": "350b1db2",
   "metadata": {},
   "source": [
    "### Example\n",
    "Pre and Post surgery energy intake"
   ]
  },
  {
   "cell_type": "code",
   "execution_count": 10,
   "id": "7baf6cb2",
   "metadata": {},
   "outputs": [],
   "source": [
    "# pre and post-surgery energy intake\n",
    "intake = np.array([\n",
    "[5260, 3910],\n",
    "[5470, 4220],\n",
    "[5640, 3885],\n",
    "[6180, 5160],\n",
    "[6390, 5645],\n",
    "[6515, 4680],\n",
    "[6805, 5265],\n",
    "[7515, 5975],\n",
    "[7515, 6790],\n",
    "[8230, 6900],\n",
    "[8770, 7335],\n",
    "])"
   ]
  },
  {
   "cell_type": "code",
   "execution_count": 11,
   "id": "c1aa3ba7",
   "metadata": {},
   "outputs": [
    {
     "data": {
      "text/plain": [
       "(array([5260, 5470, 5640, 6180, 6390, 6515, 6805, 7515, 7515, 8230, 8770]),\n",
       " array([3910, 4220, 3885, 5160, 5645, 4680, 5265, 5975, 6790, 6900, 7335]))"
      ]
     },
     "execution_count": 11,
     "metadata": {},
     "output_type": "execute_result"
    }
   ],
   "source": [
    "# Seperating data into 2 groups\n",
    "pre = intake[:, 0]\n",
    "post = intake[:, 1]\n",
    "pre, post"
   ]
  },
  {
   "cell_type": "code",
   "execution_count": 12,
   "id": "62247685",
   "metadata": {},
   "outputs": [
    {
     "name": "stdout",
     "output_type": "stream",
     "text": [
      "-11.941392877647603 3.059020942934875e-07\n"
     ]
    }
   ],
   "source": [
    "# Paired t-test: doing two measurements on the same experiment unit\n",
    "t_stat_paired, p_value_paired = ttest_1samp(post - pre, popmean=0)\n",
    "print(t_stat_paired, p_value_paired)"
   ]
  },
  {
   "cell_type": "code",
   "execution_count": 13,
   "id": "b6b3d5b3",
   "metadata": {},
   "outputs": [
    {
     "name": "stdout",
     "output_type": "stream",
     "text": [
      "paired t-test p-value= 3.059020942934875e-07\n",
      "This is much less than alpha, so Ho is rejected. There is a significant difference between patient intake before and after sugery\n"
     ]
    }
   ],
   "source": [
    "# p < 0.05 => alternative hypothesis:\n",
    "# the difference in mean is not equal to 0\n",
    "print (\"paired t-test p-value=\", p_value_paired)\n",
    "print('This is much less than alpha, so Ho is rejected. There is a significant difference between patient \\\n",
    "intake before and after sugery')"
   ]
  },
  {
   "cell_type": "code",
   "execution_count": null,
   "id": "d0a9845d",
   "metadata": {},
   "outputs": [],
   "source": [
    "#print(ttest_power(0.587, nobs=22, alpha=0.10, alternative='two-sided'))"
   ]
  },
  {
   "cell_type": "code",
   "execution_count": 14,
   "id": "d5f229c5",
   "metadata": {},
   "outputs": [],
   "source": [
    "t_stat, p_value = stats.ttest_rel(a=pre, b=post, alternative='two-sided')"
   ]
  },
  {
   "cell_type": "code",
   "execution_count": 15,
   "id": "5c6023ec",
   "metadata": {},
   "outputs": [
    {
     "name": "stdout",
     "output_type": "stream",
     "text": [
      "\n",
      "The t-Statistic is: 11.941392877647603\n",
      "The p-value is: 3.059020942934875e-07 \n",
      "\n",
      "Ho is rejected in favour of Ha\n"
     ]
    }
   ],
   "source": [
    "print(f\"\"\"\n",
    "The t-Statistic is: {t_stat}\n",
    "The p-value is: {p_value} \\n\"\"\"  )\n",
    "\n",
    "if p_value<0.05:\n",
    "    print(f\"Ho is rejected in favour of Ha\")\n",
    "else:\n",
    "    print(\"Failed to reject Ho\")"
   ]
  },
  {
   "cell_type": "code",
   "execution_count": null,
   "id": "d3b371d3",
   "metadata": {},
   "outputs": [],
   "source": []
  },
  {
   "cell_type": "code",
   "execution_count": null,
   "id": "31e08a4b",
   "metadata": {},
   "outputs": [],
   "source": []
  }
 ],
 "metadata": {
  "kernelspec": {
   "display_name": "Python 3",
   "language": "python",
   "name": "python3"
  },
  "language_info": {
   "codemirror_mode": {
    "name": "ipython",
    "version": 3
   },
   "file_extension": ".py",
   "mimetype": "text/x-python",
   "name": "python",
   "nbconvert_exporter": "python",
   "pygments_lexer": "ipython3",
   "version": "3.9.4"
  }
 },
 "nbformat": 4,
 "nbformat_minor": 5
}
