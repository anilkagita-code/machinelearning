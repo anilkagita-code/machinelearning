{
 "cells": [
  {
   "cell_type": "markdown",
   "id": "41705cfb",
   "metadata": {},
   "source": [
    "# Chi-square test"
   ]
  },
  {
   "cell_type": "markdown",
   "id": "91f28f02",
   "metadata": {},
   "source": [
    "## Test for Goodness of Fit"
   ]
  },
  {
   "cell_type": "markdown",
   "id": "7d968631",
   "metadata": {},
   "source": [
    "###  Example 1\n",
    "\n",
    "A1 airlines operated daily flights to several Indian cities. The operations manager believes that 30% of their passengers prefer vegan food, 45% prefer vegetarian food , 20% prefer non-veg food 5% request for Jain food. \n",
    "\n",
    "A sample of 500 passengers was chosen to analyse the food preferences and the data is shown in the following table:\n",
    "\n",
    "|               | Food type | Vegan | Vegetarian | Non-Vegetarian | Jain |\n",
    "| ------------------------- | ---- | ---- | ----- | ---- | ---- |\n",
    "|Number of passengers |  | 190 | 185 | 90 | 35 |\n",
    "\n",
    "At 5% level of significance, can you confirm that the meal preference is as per the belief of the operations manager?"
   ]
  },
  {
   "cell_type": "code",
   "execution_count": 3,
   "id": "36068b5a",
   "metadata": {},
   "outputs": [
    {
     "name": "stdout",
     "output_type": "stream",
     "text": [
      "\n",
      "Ho: Meal preferences are same between perceived vs actual\n",
      "Ha: Meal preferences are different between perceived vs actual\n"
     ]
    }
   ],
   "source": [
    "print(\"\"\"\n",
    "Ho: Meal preferences are same between perceived vs actual\n",
    "Ha: Meal preferences are different between perceived vs actual\"\"\")"
   ]
  },
  {
   "cell_type": "code",
   "execution_count": 4,
   "id": "9564dfba",
   "metadata": {},
   "outputs": [
    {
     "name": "stdout",
     "output_type": "stream",
     "text": [
      "\n",
      "Significance: alpha is choosen as 0.05\n"
     ]
    }
   ],
   "source": [
    "print(\"\"\"\n",
    "Significance: alpha is choosen as 0.05\"\"\")"
   ]
  },
  {
   "cell_type": "code",
   "execution_count": 5,
   "id": "ed304e60",
   "metadata": {},
   "outputs": [
    {
     "name": "stdout",
     "output_type": "stream",
     "text": [
      "\n",
      "The test statistic we will use Chi-Square goodness of fit\n"
     ]
    }
   ],
   "source": [
    "print(\"\"\"\n",
    "The test statistic we will use Chi-Square goodness of fit\"\"\")"
   ]
  },
  {
   "cell_type": "code",
   "execution_count": 8,
   "id": "84e196a5",
   "metadata": {},
   "outputs": [],
   "source": [
    "# Calculate p-Value\n",
    "\n",
    "import scipy.stats as stats\n",
    "import scipy\n",
    "import numpy as np\n",
    "import pandas as pd"
   ]
  },
  {
   "cell_type": "code",
   "execution_count": 9,
   "id": "9b233d07",
   "metadata": {},
   "outputs": [
    {
     "data": {
      "text/plain": [
       "array([150., 225., 100.,  25.])"
      ]
     },
     "execution_count": 9,
     "metadata": {},
     "output_type": "execute_result"
    }
   ],
   "source": [
    "observed_values = np.array([190, 185, 90, 35])\n",
    "\n",
    "total_samples = observed_values.sum()\n",
    "\n",
    "expected_values = np.array([total_samples*.3, total_samples*.45, total_samples*.2, total_samples*.05])\n",
    "expected_values"
   ]
  },
  {
   "cell_type": "code",
   "execution_count": 10,
   "id": "4d4c02ba",
   "metadata": {},
   "outputs": [],
   "source": [
    "chi_sq_stat, p_value = stats.chisquare(f_obs=observed_values, f_exp=expected_values)"
   ]
  },
  {
   "cell_type": "code",
   "execution_count": 12,
   "id": "71258449",
   "metadata": {},
   "outputs": [
    {
     "name": "stdout",
     "output_type": "stream",
     "text": [
      "4.492718590376291e-05\n"
     ]
    }
   ],
   "source": [
    "print(p_value)"
   ]
  },
  {
   "cell_type": "code",
   "execution_count": 13,
   "id": "331e8aeb",
   "metadata": {},
   "outputs": [
    {
     "name": "stdout",
     "output_type": "stream",
     "text": [
      "\n",
      "Observation: Reject the Ho in favour of Ha\n",
      "\n",
      "There is a difference between the observed values to the Predicted values by manager on the food choices\n"
     ]
    }
   ],
   "source": [
    "print(f\"\"\"\n",
    "Observation: p-value is {p_value} is less than 0.05.  Reject the Ho in favour of Ha\n",
    "\n",
    "There is a difference between the observed values to the Predicted values by manager on the food choices\"\"\")"
   ]
  },
  {
   "cell_type": "markdown",
   "id": "bae7afbb",
   "metadata": {},
   "source": [
    "### Practice Exercise 2\n",
    "Refer to the above example 1. Here the operations manager changes his belief and now believes that 28% of their passengers prefer vegan food, 42% prefer vegetarian food , 25% prefer non-veg food 5% request for Jain food. \n",
    "\n",
    "At 5% level of significance, can you confirm that the meal preference is as per the belief of the operations manager?"
   ]
  },
  {
   "cell_type": "code",
   "execution_count": 15,
   "id": "474ebf86",
   "metadata": {},
   "outputs": [
    {
     "data": {
      "text/plain": [
       "array([140., 210., 125.,  25.])"
      ]
     },
     "execution_count": 15,
     "metadata": {},
     "output_type": "execute_result"
    }
   ],
   "source": [
    "observed_values = np.array([190, 185, 90, 35])\n",
    "total_samples = observed_values.sum()\n",
    "expected_values = np.array([total_samples*.28, total_samples* .42, total_samples* .25, total_samples* .05])\n",
    "expected_values"
   ]
  },
  {
   "cell_type": "code",
   "execution_count": 16,
   "id": "ed25658d",
   "metadata": {},
   "outputs": [
    {
     "data": {
      "text/plain": [
       "1.4561004918754443e-07"
      ]
     },
     "execution_count": 16,
     "metadata": {},
     "output_type": "execute_result"
    }
   ],
   "source": [
    "chi_sq_stat, p_value = stats.chisquare(f_obs=observed_values, f_exp=expected_values)\n",
    "p_value"
   ]
  },
  {
   "cell_type": "code",
   "execution_count": 17,
   "id": "b96d1c69",
   "metadata": {},
   "outputs": [
    {
     "name": "stdout",
     "output_type": "stream",
     "text": [
      "\n",
      "Observation: p-value is 1.4561004918754443e-07 is less than 0.05. Reject the Ho in favour of Ha\n",
      "\n",
      "There is a difference between the observed values to the Predicted values by manager on the food choices\n"
     ]
    }
   ],
   "source": [
    "print(f\"\"\"\n",
    "Observation: p-value is {p_value} is less than 0.05. Reject the Ho in favour of Ha\n",
    "\n",
    "There is a difference between the observed values to the Predicted values by manager on the food choices\"\"\")"
   ]
  },
  {
   "cell_type": "code",
   "execution_count": null,
   "id": "d09f8c47",
   "metadata": {},
   "outputs": [],
   "source": []
  },
  {
   "cell_type": "markdown",
   "id": "003d6444",
   "metadata": {},
   "source": [
    "## Test of Independence"
   ]
  },
  {
   "cell_type": "markdown",
   "id": "559c64c5",
   "metadata": {},
   "source": [
    "### Example Ind_1 \n",
    "\n",
    "The table below contains the number of perfect, satisfactory and defective products are manufactured by both male and female.\n",
    "\n",
    "| Gender  | Perfect | Satisfactory | Defective |\n",
    "| ------- | ---- | --------- | -------- |\n",
    "| Male    | 138 | 83 | 64 |\n",
    "| Female  | 64 | 67 | 84 |\n",
    "\n",
    "\n",
    "Do these data provide sufficient evidence at the 5% significance level to infer that there are differences in quality among genders (Male and Female)?"
   ]
  },
  {
   "cell_type": "code",
   "execution_count": 19,
   "id": "9e85a4f1",
   "metadata": {},
   "outputs": [
    {
     "name": "stdout",
     "output_type": "stream",
     "text": [
      "\n",
      "Ho: There is no difference between the parts manufactured by Male or Female\n",
      "\n",
      "Ha: There is difference between the parts manufactured by Male or Female\n"
     ]
    }
   ],
   "source": [
    "print(\"\"\"\n",
    "Ho: There is no difference between the parts manufactured by Male or Female\n",
    "\n",
    "Ha: There is difference between the parts manufactured by Male or Female\"\"\")"
   ]
  },
  {
   "cell_type": "code",
   "execution_count": 20,
   "id": "5df28337",
   "metadata": {},
   "outputs": [
    {
     "name": "stdout",
     "output_type": "stream",
     "text": [
      "\n",
      "Significance alpha: 0.05\n"
     ]
    }
   ],
   "source": [
    "print(\"\"\"\n",
    "Significance alpha: 0.05\"\"\")"
   ]
  },
  {
   "cell_type": "code",
   "execution_count": 21,
   "id": "c6569bb4",
   "metadata": {},
   "outputs": [],
   "source": [
    "quality_array = np.array([[138, 83, 64], [64, 67, 84]])\n",
    "chi_sq_ind_stat, p_value, deg_free, exp_freq = stats.chi2_contingency(quality_array)"
   ]
  },
  {
   "cell_type": "code",
   "execution_count": 22,
   "id": "823c861f",
   "metadata": {},
   "outputs": [
    {
     "name": "stdout",
     "output_type": "stream",
     "text": [
      "\n",
      "We reject the Ho since 1.547578021398957e-05 is < 0.05\n"
     ]
    }
   ],
   "source": [
    "print(f\"\"\"\n",
    "We reject the Ho since {p_value} is < 0.05\"\"\")"
   ]
  },
  {
   "cell_type": "code",
   "execution_count": 25,
   "id": "8c23c32f",
   "metadata": {},
   "outputs": [
    {
     "name": "stdout",
     "output_type": "stream",
     "text": [
      "22.152468645918482\n"
     ]
    }
   ],
   "source": [
    "print(chi_sq_ind_stat)"
   ]
  },
  {
   "cell_type": "code",
   "execution_count": null,
   "id": "9960eab2",
   "metadata": {},
   "outputs": [],
   "source": []
  }
 ],
 "metadata": {
  "kernelspec": {
   "display_name": "Python 3",
   "language": "python",
   "name": "python3"
  },
  "language_info": {
   "codemirror_mode": {
    "name": "ipython",
    "version": 3
   },
   "file_extension": ".py",
   "mimetype": "text/x-python",
   "name": "python",
   "nbconvert_exporter": "python",
   "pygments_lexer": "ipython3",
   "version": "3.9.4"
  }
 },
 "nbformat": 4,
 "nbformat_minor": 5
}
