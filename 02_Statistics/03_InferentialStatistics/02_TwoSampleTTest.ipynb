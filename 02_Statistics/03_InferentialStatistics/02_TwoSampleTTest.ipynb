{
 "cells": [
  {
   "cell_type": "markdown",
   "id": "ea9d3c0d",
   "metadata": {},
   "source": [
    "# Two Sample T-Test"
   ]
  },
  {
   "cell_type": "markdown",
   "id": "90a5f480",
   "metadata": {},
   "source": [
    "Two-sample tests are appropriate for comparing two samples, typically experimental and control samples from a scientifically controlled experiment.\n",
    "\n",
    "https://en.wikipedia.org/wiki/Test_statistic"
   ]
  },
  {
   "attachments": {
    "image.png": {
     "image/png": "[encoded data removed]"
    }
   },
   "cell_type": "markdown",
   "id": "4ef48b39",
   "metadata": {},
   "source": [
    "Two-sample z-test\t\n",
    "\n",
    "![image.png](attachment:image.png)\n",
    "\n",
    "Normal population and independent observations and σ1 and σ2 are known"
   ]
  },
  {
   "cell_type": "code",
   "execution_count": 2,
   "id": "0b461dc5",
   "metadata": {},
   "outputs": [],
   "source": [
    "import numpy as np\n",
    "from scipy.stats import ttest_1samp, ttest_ind, mannwhitneyu, levene, shapiro\n",
    "from statsmodels.stats.power import ttest_power"
   ]
  },
  {
   "cell_type": "markdown",
   "id": "d139b668",
   "metadata": {},
   "source": [
    "### Example 1\n",
    "Energy intake in mJ (millijoule) and wether obese or not (0=obese, 1=lean)"
   ]
  },
  {
   "attachments": {
    "image-2.png": {
     "image/png": "[encoded data removed]"
    },
    "image-3.png": {
     "image/png": "[encoded data removed]"
    },
    "image-4.png": {
     "image/png": "[encoded data removed]"
    },
    "image-5.png": {
     "image/png": "[encoded data removed]"
    },
    "image.png": {
     "image/png": "[encoded data removed]"
    }
   },
   "cell_type": "markdown",
   "id": "bf71e5cb",
   "metadata": {},
   "source": [
    "### Independent Two-Sample t-test\n",
    "\n",
    "Equal sample sizes and variance\n",
    "Given two groups (1, 2), this test is only applicable when:\n",
    "\n",
    "the two sample sizes (that is, the number n of participants of each group) are equal;\n",
    "it can be assumed that the two distributions have the same variance;\n",
    "Violations of these assumptions are discussed below.\n",
    "\n",
    "The t statistic to test whether the means are different can be calculated as follows:\n",
    "![image.png](attachment:image.png)\n",
    "\n",
    "where\n",
    "![image-2.png](attachment:image-2.png)\n",
    "\n",
    "Here sp is the pooled standard deviation for n = n1 = n2 and s 2\n",
    "X1 and s 2\n",
    "X2 are the unbiased estimators of the variances of the two samples. The denominator of t is the standard error of the difference between two means.\n",
    "\n",
    "For significance testing, the degrees of freedom for this test is 2n − 2 where n is the number of participants in each group.\n",
    "\n",
    "Equal or unequal sample sizes, similar variances (sX1 > 2sX2 or sX2 > 2sX1)\n",
    "\n",
    "This test is used only when it can be assumed that the two distributions have the same variance. (When this assumption is violated, see below.) The previous formulae are a special case of the formulae below, one recovers them when both samples are equal in size: n = n1 = n2.\n",
    "\n",
    "The t statistic to test whether the means are different can be calculated as follows:\n",
    "![image.png](attachment:image.png)\n",
    "where\n",
    "![image-2.png](attachment:image-2.png)\n",
    "\n",
    "is an estimator of the pooled standard deviation of the two samples: it is defined in this way so that its square is an unbiased estimator of the common variance whether or not the population means are the same. In these formulae, ni − 1 is the number of degrees of freedom for each group, and the total sample size minus two (that is, n1 + n2 − 2) is the total number of degrees of freedom, which is used in significance testing.\n",
    "\n",
    "Equal or unequal sample sizes, unequal variances (sX1 > 2sX2 or sX2 > 2sX1)\n",
    "Main article: Welch's t-test\n",
    "This test, also known as Welch's t-test, is used only when the two population variances are not assumed to be equal (the two sample sizes may or may not be equal) and hence must be estimated separately. The t statistic to test whether the population means are different is calculated as:\n",
    "![image-3.png](attachment:image-3.png)\n",
    "\n",
    "where\n",
    "![image-4.png](attachment:image-4.png)\n",
    "\n",
    "Here si2 is the unbiased estimator of the variance of each of the two samples with ni = number of participants in group i (1 or 2). In this case {\\textstyle (s_{\\bar {\\Delta }})^{2}}{\\textstyle (s_{\\bar {\\Delta }})^{2}} is not a pooled variance. For use in significance testing, the distribution of the test statistic is approximated as an ordinary Student's t-distribution with the degrees of freedom calculated using\n",
    "![image-5.png](attachment:image-5.png)\n",
    "\n",
    "This is known as the Welch–Satterthwaite equation. The true distribution of the test statistic actually depends (slightly) on the two unknown population variances (see Behrens–Fisher problem).\n"
   ]
  },
  {
   "cell_type": "code",
   "execution_count": 3,
   "id": "20c5fd7e",
   "metadata": {},
   "outputs": [],
   "source": [
    "energ = np.array([\n",
    "[9.21, 0],\n",
    "[7.53, 1],\n",
    "[7.48, 1],\n",
    "[8.08, 1],\n",
    "[8.09, 1],\n",
    "[10.15, 1],\n",
    "[8.40, 1],\n",
    "[10.88, 1],\n",
    "[6.13, 1],\n",
    "[7.90, 1],\n",
    "[11.51, 0],\n",
    "[12.79, 0],\n",
    "[7.05, 1],\n",
    "[11.85, 0],\n",
    "[9.97, 0],\n",
    "[7.48, 1],\n",
    "[8.79, 0],\n",
    "[9.69, 0],\n",
    "[9.68, 0],\n",
    "[7.58, 1],\n",
    "[9.19, 0],\n",
    "[8.11, 1]])"
   ]
  },
  {
   "cell_type": "code",
   "execution_count": 8,
   "id": "313f616d",
   "metadata": {},
   "outputs": [
    {
     "data": {
      "text/plain": [
       "(array([ 7.53,  7.48,  8.08,  8.09, 10.15,  8.4 , 10.88,  6.13,  7.9 ,\n",
       "         7.05,  7.48,  7.58,  8.11]),\n",
       " array([ 9.21, 11.51, 12.79, 11.85,  9.97,  8.79,  9.69,  9.68,  9.19]))"
      ]
     },
     "execution_count": 8,
     "metadata": {},
     "output_type": "execute_result"
    }
   ],
   "source": [
    "# Seperating the data into 2 groups\n",
    "gp1 = energ[ energ[:, 1] == 1][:,0]\n",
    "gp2 = energ[ energ[:, 1] == 0][:, 0]\n",
    "gp1, gp2"
   ]
  },
  {
   "cell_type": "code",
   "execution_count": 10,
   "id": "04bd029e",
   "metadata": {},
   "outputs": [
    {
     "name": "stdout",
     "output_type": "stream",
     "text": [
      "-3.9455649161549835 0.0007989982111700593\n"
     ]
    }
   ],
   "source": [
    "# two-sample t-test\n",
    "# null hypothesis: the two groups have the same mean\n",
    "# this test assumes the two groups have the same variance...\n",
    "# (can be checked with tests for equal variance - Levene)\n",
    "# independent groups: e.g., how boys and girls fare at an exam\n",
    "# dependent groups: e.g., how the same class fare at 2 different exams\n",
    "t_stat, p_value = ttest_ind(gp1, gp2)\n",
    "print(t_stat, p_value)"
   ]
  },
  {
   "cell_type": "code",
   "execution_count": 11,
   "id": "71a682b3",
   "metadata": {},
   "outputs": [
    {
     "name": "stdout",
     "output_type": "stream",
     "text": [
      "two-sample t-test p-value= 0.0007989982111700593\n"
     ]
    }
   ],
   "source": [
    "# p_value < 0.05 => alternative hypothesis:\n",
    "# they don't have the same mean at the 5% significance level\n",
    "print (\"two-sample t-test p-value=\", p_value)"
   ]
  },
  {
   "cell_type": "code",
   "execution_count": null,
   "id": "da6b76ef",
   "metadata": {},
   "outputs": [],
   "source": []
  },
  {
   "attachments": {
    "image.png": {
     "image/png": "[encoded data removed]"
    }
   },
   "cell_type": "markdown",
   "id": "56543b64",
   "metadata": {},
   "source": [
    "### Dependent t-test for paired samples\n",
    "\n",
    "This test is used when the samples are dependent; that is, when there is only one sample that has been tested twice (repeated measures) or when there are two samples that have been matched or \"paired\". This is an example of a paired difference test. The t statistic is calculated as\n",
    "\n",
    "![image.png](attachment:image.png)\n",
    "\n",
    "where {\\displaystyle {\\bar {X}}_{D}}{\\displaystyle {\\bar {X}}_{D}} and {\\displaystyle s_{D}}{\\displaystyle s_{D}} are the average and standard deviation of the differences between all pairs. The pairs are e.g. either one person's pre-test and post-test scores or between-pairs of persons matched into meaningful groups (for instance drawn from the same family or age group: see table). The constant μ0 is zero if we want to test whether the average of the difference is significantly different. The degree of freedom used is n − 1, where n represents the number of pairs.\n"
   ]
  },
  {
   "cell_type": "markdown",
   "id": "350b1db2",
   "metadata": {},
   "source": [
    "### Example\n",
    "Pre and Post surgery energy intake"
   ]
  },
  {
   "cell_type": "code",
   "execution_count": 13,
   "id": "7baf6cb2",
   "metadata": {},
   "outputs": [],
   "source": [
    "# pre and post-surgery energy intake\n",
    "intake = np.array([\n",
    "[5260, 3910],\n",
    "[5470, 4220],\n",
    "[5640, 3885],\n",
    "[6180, 5160],\n",
    "[6390, 5645],\n",
    "[6515, 4680],\n",
    "[6805, 5265],\n",
    "[7515, 5975],\n",
    "[7515, 6790],\n",
    "[8230, 6900],\n",
    "[8770, 7335],\n",
    "])"
   ]
  },
  {
   "cell_type": "code",
   "execution_count": 14,
   "id": "c1aa3ba7",
   "metadata": {},
   "outputs": [],
   "source": [
    "# Seperating data into 2 groups\n",
    "pre = intake[:, 0]\n",
    "post = intake[:, 1]"
   ]
  },
  {
   "cell_type": "code",
   "execution_count": 15,
   "id": "62247685",
   "metadata": {},
   "outputs": [
    {
     "name": "stdout",
     "output_type": "stream",
     "text": [
      "-11.941392877647603 3.059020942934875e-07\n"
     ]
    }
   ],
   "source": [
    "# Paired t-test: doing two measurements on the same experiment unit\n",
    "t_stat_paired, p_value_paired = ttest_1samp(post - pre, popmean=0)\n",
    "print(t_stat_paired, p_value_paired)"
   ]
  },
  {
   "cell_type": "code",
   "execution_count": 20,
   "id": "b6b3d5b3",
   "metadata": {},
   "outputs": [
    {
     "name": "stdout",
     "output_type": "stream",
     "text": [
      "paired t-test p-value= 3.059020942934875e-07\n",
      "This is much less than alpha, so Ho is rejected. There is a significant difference between patient intake before and after sugery\n"
     ]
    }
   ],
   "source": [
    "# p < 0.05 => alternative hypothesis:\n",
    "# the difference in mean is not equal to 0\n",
    "print (\"paired t-test p-value=\", p_value_paired)\n",
    "print('This is much less than alpha, so Ho is rejected. There is a significant difference between patient \\\n",
    "intake before and after sugery')"
   ]
  },
  {
   "cell_type": "code",
   "execution_count": null,
   "id": "d0a9845d",
   "metadata": {},
   "outputs": [],
   "source": [
    "#print(ttest_power(0.587, nobs=22, alpha=0.10, alternative='two-sided'))"
   ]
  },
  {
   "cell_type": "code",
   "execution_count": null,
   "id": "d5f229c5",
   "metadata": {},
   "outputs": [],
   "source": []
  },
  {
   "cell_type": "code",
   "execution_count": null,
   "id": "5c6023ec",
   "metadata": {},
   "outputs": [],
   "source": []
  },
  {
   "cell_type": "markdown",
   "id": "f4298684",
   "metadata": {},
   "source": [
    "## Test of Proportions"
   ]
  },
  {
   "cell_type": "markdown",
   "id": "42bf2c04",
   "metadata": {},
   "source": [
    "Tests of proportions are analogous to tests of means (the 50% proportion).\n"
   ]
  },
  {
   "cell_type": "code",
   "execution_count": 22,
   "id": "12b9e425",
   "metadata": {},
   "outputs": [],
   "source": [
    "from scipy.stats import f\n",
    "import matplotlib.pyplot as plt\n",
    "import pandas as pd"
   ]
  },
  {
   "cell_type": "code",
   "execution_count": 23,
   "id": "523f2d54",
   "metadata": {},
   "outputs": [],
   "source": [
    "smokers_df = pd.read_csv('data/insurance.csv')"
   ]
  },
  {
   "cell_type": "code",
   "execution_count": 24,
   "id": "aee8de8b",
   "metadata": {},
   "outputs": [
    {
     "data": {
      "text/html": [
       "<div>\n",
       "<style scoped>\n",
       "    .dataframe tbody tr th:only-of-type {\n",
       "        vertical-align: middle;\n",
       "    }\n",
       "\n",
       "    .dataframe tbody tr th {\n",
       "        vertical-align: top;\n",
       "    }\n",
       "\n",
       "    .dataframe thead th {\n",
       "        text-align: right;\n",
       "    }\n",
       "</style>\n",
       "<table border=\"1\" class=\"dataframe\">\n",
       "  <thead>\n",
       "    <tr style=\"text-align: right;\">\n",
       "      <th></th>\n",
       "      <th>age</th>\n",
       "      <th>sex</th>\n",
       "      <th>bmi</th>\n",
       "      <th>children</th>\n",
       "      <th>smoker</th>\n",
       "      <th>region</th>\n",
       "      <th>charges</th>\n",
       "    </tr>\n",
       "  </thead>\n",
       "  <tbody>\n",
       "    <tr>\n",
       "      <th>1208</th>\n",
       "      <td>37</td>\n",
       "      <td>female</td>\n",
       "      <td>25.555</td>\n",
       "      <td>1</td>\n",
       "      <td>yes</td>\n",
       "      <td>northeast</td>\n",
       "      <td>20296.86345</td>\n",
       "    </tr>\n",
       "    <tr>\n",
       "      <th>1332</th>\n",
       "      <td>52</td>\n",
       "      <td>female</td>\n",
       "      <td>44.700</td>\n",
       "      <td>3</td>\n",
       "      <td>no</td>\n",
       "      <td>southwest</td>\n",
       "      <td>11411.68500</td>\n",
       "    </tr>\n",
       "    <tr>\n",
       "      <th>799</th>\n",
       "      <td>33</td>\n",
       "      <td>male</td>\n",
       "      <td>24.795</td>\n",
       "      <td>0</td>\n",
       "      <td>yes</td>\n",
       "      <td>northeast</td>\n",
       "      <td>17904.52705</td>\n",
       "    </tr>\n",
       "    <tr>\n",
       "      <th>329</th>\n",
       "      <td>52</td>\n",
       "      <td>male</td>\n",
       "      <td>36.700</td>\n",
       "      <td>0</td>\n",
       "      <td>no</td>\n",
       "      <td>southwest</td>\n",
       "      <td>9144.56500</td>\n",
       "    </tr>\n",
       "    <tr>\n",
       "      <th>886</th>\n",
       "      <td>57</td>\n",
       "      <td>male</td>\n",
       "      <td>28.975</td>\n",
       "      <td>0</td>\n",
       "      <td>yes</td>\n",
       "      <td>northeast</td>\n",
       "      <td>27218.43725</td>\n",
       "    </tr>\n",
       "  </tbody>\n",
       "</table>\n",
       "</div>"
      ],
      "text/plain": [
       "      age     sex     bmi  children smoker     region      charges\n",
       "1208   37  female  25.555         1    yes  northeast  20296.86345\n",
       "1332   52  female  44.700         3     no  southwest  11411.68500\n",
       "799    33    male  24.795         0    yes  northeast  17904.52705\n",
       "329    52    male  36.700         0     no  southwest   9144.56500\n",
       "886    57    male  28.975         0    yes  northeast  27218.43725"
      ]
     },
     "execution_count": 24,
     "metadata": {},
     "output_type": "execute_result"
    }
   ],
   "source": [
    "smokers_df.sample(5)"
   ]
  },
  {
   "cell_type": "code",
   "execution_count": 25,
   "id": "6cf445f2",
   "metadata": {},
   "outputs": [],
   "source": [
    "# Test of proportions\n",
    "# 'sex' and 'smoker' are two categorical variables\n",
    "# We want to see if the proportion of smokers in the female population is significantly less than it is in the male population\n",
    "# Ho = The proportions are equal\n",
    "# Ha = The two proportions are not equal"
   ]
  },
  {
   "cell_type": "code",
   "execution_count": 43,
   "id": "21eec42d",
   "metadata": {},
   "outputs": [],
   "source": [
    "n_female_smokers = smokers_df.loc[(smokers_df['sex']=='female') & (smokers_df['smoker']=='yes')].shape[0]\n",
    "n_male_smokers = smokers_df.loc[(smokers_df['sex']=='male') & (smokers_df['smoker']=='yes')].shape[0]\n",
    "n_females = smokers_df[smokers_df['sex']=='female'].shape[0]\n",
    "n_males = smokers_df[smokers_df['sex']=='male'].shape[0]"
   ]
  },
  {
   "cell_type": "code",
   "execution_count": 46,
   "id": "c79e979a",
   "metadata": {},
   "outputs": [
    {
     "name": "stdout",
     "output_type": "stream",
     "text": [
      "[115, 159] [662, 676]\n",
      " Proportion of smokers in females, males = 0.17%,       0.24% respectively\n"
     ]
    }
   ],
   "source": [
    "print([n_female_smokers, n_male_smokers] , [n_females, n_males])\n",
    "print(f' Proportion of smokers in females, males = {round(n_female_smokers/n_females,2)}%, \\\n",
    "      {round(n_male_smokers/n_males,2)}% respectively')"
   ]
  },
  {
   "cell_type": "code",
   "execution_count": 47,
   "id": "b235db22",
   "metadata": {},
   "outputs": [],
   "source": [
    "from statsmodels.stats.proportion import proportions_ztest\n",
    "\n"
   ]
  },
  {
   "cell_type": "code",
   "execution_count": 49,
   "id": "40bf3391",
   "metadata": {},
   "outputs": [],
   "source": [
    "stat, p_value_prop = proportions_ztest([n_female_smokers, n_male_smokers], [n_females, n_males])"
   ]
  },
  {
   "cell_type": "code",
   "execution_count": 51,
   "id": "56739682",
   "metadata": {},
   "outputs": [
    {
     "name": "stdout",
     "output_type": "stream",
     "text": [
      "With a p-value of 0.0053 the difference is significant. aka |We reject the null|\n"
     ]
    }
   ],
   "source": [
    "if p_value_prop < 0.05:\n",
    "    print(f'With a p-value of {round(p_value_prop,4)} the difference is significant. aka |We reject the null|')\n",
    "else:\n",
    "    print(f'With a p-value of {round(p_value_prop,4)} the difference is not significant. aka |We fail to reject the null|')"
   ]
  },
  {
   "cell_type": "code",
   "execution_count": null,
   "id": "31e08a4b",
   "metadata": {},
   "outputs": [],
   "source": []
  }
 ],
 "metadata": {
  "kernelspec": {
   "display_name": "Python 3",
   "language": "python",
   "name": "python3"
  },
  "language_info": {
   "codemirror_mode": {
    "name": "ipython",
    "version": 3
   },
   "file_extension": ".py",
   "mimetype": "text/x-python",
   "name": "python",
   "nbconvert_exporter": "python",
   "pygments_lexer": "ipython3",
   "version": "3.9.4"
  }
 },
 "nbformat": 4,
 "nbformat_minor": 5
}
