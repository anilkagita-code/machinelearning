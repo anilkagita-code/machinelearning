{
 "cells": [
  {
   "cell_type": "markdown",
   "id": "ea9d3c0d",
   "metadata": {},
   "source": [
    "# Two Sample Z-Test"
   ]
  },
  {
   "cell_type": "markdown",
   "id": "90a5f480",
   "metadata": {},
   "source": [
    "Two-sample tests are appropriate for comparing two samples, typically experimental and control samples from a scientifically controlled experiment.\n",
    "\n",
    "https://en.wikipedia.org/wiki/Test_statistic"
   ]
  },
  {
   "attachments": {
    "image.png": {
     "image/png": "[encoded data removed]"
    }
   },
   "cell_type": "markdown",
   "id": "4ef48b39",
   "metadata": {},
   "source": [
    "Two-sample z-test\t\n",
    "\n",
    "![image.png](attachment:image.png)\n",
    "\n",
    "Normal population and independent observations and σ1 and σ2 are known"
   ]
  },
  {
   "cell_type": "code",
   "execution_count": 4,
   "id": "0b461dc5",
   "metadata": {},
   "outputs": [],
   "source": [
    "import numpy as np\n",
    "from scipy.stats import ttest_1samp, ttest_ind, mannwhitneyu, levene, shapiro\n",
    "from statsmodels.stats.power import ttest_power\n",
    "from statsmodels.stats import weightstats\n",
    "import scipy.stats as stats\n",
    "import pandas as pd\n",
    "import matplotlib.pyplot as plt\n",
    "import seaborn as sns"
   ]
  },
  {
   "cell_type": "markdown",
   "id": "94075338",
   "metadata": {},
   "source": [
    "\t\tb. Two Sample\n",
    "\t\t\ti. Two sample z test\n",
    "\t\t\t\t1) Related to mean\n",
    "\t\t\t\t2) Conditions for z-test \n",
    "\t\t\t\t\ta) Random samples \n",
    "\t\t\t\t\tb) Each observation should be independent of other\n",
    "\t\t\t\t\t\ti) Sampling with replacement\n",
    "\t\t\t\t\t\tii) If sampling without replacement, the sample size should not be more than 10% of the population\n",
    "\t\t\t\t\tc) Sampling distribution approximates Normal Distribution\n",
    "\t\t\t\t\t\ti) Population is Normally distributed and the population standard deviation is known *** OR ***\n",
    "\t\t\t\t\t\tii) Sample size 30\n"
   ]
  },
  {
   "cell_type": "code",
   "execution_count": 2,
   "id": "1fd17f7a",
   "metadata": {},
   "outputs": [],
   "source": [
    "# Two sample Z-Test or One sample Z-test is not part of scipy library\n",
    "# We need to use statsmodels to compute this\n",
    "# We can compare the data with t-test using scipy library, this will be the same since the sample size is large"
   ]
  },
  {
   "cell_type": "markdown",
   "id": "4cdb32fe",
   "metadata": {},
   "source": [
    "#### Problem 1:\n",
    "\n",
    "Example: From two machines 100 samples each were drawn.\n",
    "Is there difference in these two machines. Check at 95% confidence level.\n"
   ]
  },
  {
   "cell_type": "code",
   "execution_count": 8,
   "id": "823e7096",
   "metadata": {},
   "outputs": [
    {
     "data": {
      "text/html": [
       "<div>\n",
       "<style scoped>\n",
       "    .dataframe tbody tr th:only-of-type {\n",
       "        vertical-align: middle;\n",
       "    }\n",
       "\n",
       "    .dataframe tbody tr th {\n",
       "        vertical-align: top;\n",
       "    }\n",
       "\n",
       "    .dataframe thead th {\n",
       "        text-align: right;\n",
       "    }\n",
       "</style>\n",
       "<table border=\"1\" class=\"dataframe\">\n",
       "  <thead>\n",
       "    <tr style=\"text-align: right;\">\n",
       "      <th></th>\n",
       "      <th>Volume</th>\n",
       "      <th>Machine</th>\n",
       "    </tr>\n",
       "  </thead>\n",
       "  <tbody>\n",
       "    <tr>\n",
       "      <th>0</th>\n",
       "      <td>154.27</td>\n",
       "      <td>Machine 1</td>\n",
       "    </tr>\n",
       "    <tr>\n",
       "      <th>1</th>\n",
       "      <td>150.03</td>\n",
       "      <td>Machine 1</td>\n",
       "    </tr>\n",
       "    <tr>\n",
       "      <th>2</th>\n",
       "      <td>151.14</td>\n",
       "      <td>Machine 1</td>\n",
       "    </tr>\n",
       "    <tr>\n",
       "      <th>3</th>\n",
       "      <td>145.47</td>\n",
       "      <td>Machine 1</td>\n",
       "    </tr>\n",
       "    <tr>\n",
       "      <th>4</th>\n",
       "      <td>149.71</td>\n",
       "      <td>Machine 1</td>\n",
       "    </tr>\n",
       "    <tr>\n",
       "      <th>...</th>\n",
       "      <td>...</td>\n",
       "      <td>...</td>\n",
       "    </tr>\n",
       "    <tr>\n",
       "      <th>195</th>\n",
       "      <td>152.05</td>\n",
       "      <td>Machine 2</td>\n",
       "    </tr>\n",
       "    <tr>\n",
       "      <th>196</th>\n",
       "      <td>151.41</td>\n",
       "      <td>Machine 2</td>\n",
       "    </tr>\n",
       "    <tr>\n",
       "      <th>197</th>\n",
       "      <td>153.76</td>\n",
       "      <td>Machine 2</td>\n",
       "    </tr>\n",
       "    <tr>\n",
       "      <th>198</th>\n",
       "      <td>150.75</td>\n",
       "      <td>Machine 2</td>\n",
       "    </tr>\n",
       "    <tr>\n",
       "      <th>199</th>\n",
       "      <td>147.80</td>\n",
       "      <td>Machine 2</td>\n",
       "    </tr>\n",
       "  </tbody>\n",
       "</table>\n",
       "<p>200 rows × 2 columns</p>\n",
       "</div>"
      ],
      "text/plain": [
       "     Volume    Machine\n",
       "0    154.27  Machine 1\n",
       "1    150.03  Machine 1\n",
       "2    151.14  Machine 1\n",
       "3    145.47  Machine 1\n",
       "4    149.71  Machine 1\n",
       "..      ...        ...\n",
       "195  152.05  Machine 2\n",
       "196  151.41  Machine 2\n",
       "197  153.76  Machine 2\n",
       "198  150.75  Machine 2\n",
       "199  147.80  Machine 2\n",
       "\n",
       "[200 rows x 2 columns]"
      ]
     },
     "execution_count": 8,
     "metadata": {},
     "output_type": "execute_result"
    }
   ],
   "source": [
    "df_two_machine = pd.read_csv('data/Two Machines.csv')\n",
    "df_two_machine"
   ]
  },
  {
   "cell_type": "code",
   "execution_count": 11,
   "id": "a14aab8d",
   "metadata": {},
   "outputs": [
    {
     "data": {
      "text/plain": [
       "Machine 1    100\n",
       "Machine 2    100\n",
       "Name: Machine, dtype: int64"
      ]
     },
     "execution_count": 11,
     "metadata": {},
     "output_type": "execute_result"
    }
   ],
   "source": [
    "df_two_machine['Machine'].value_counts()"
   ]
  },
  {
   "cell_type": "code",
   "execution_count": 12,
   "id": "7996d533",
   "metadata": {},
   "outputs": [
    {
     "name": "stdout",
     "output_type": "stream",
     "text": [
      "<class 'pandas.core.frame.DataFrame'>\n",
      "RangeIndex: 200 entries, 0 to 199\n",
      "Data columns (total 2 columns):\n",
      " #   Column   Non-Null Count  Dtype  \n",
      "---  ------   --------------  -----  \n",
      " 0   Volume   200 non-null    float64\n",
      " 1   Machine  200 non-null    object \n",
      "dtypes: float64(1), object(1)\n",
      "memory usage: 3.2+ KB\n"
     ]
    }
   ],
   "source": [
    "df_two_machine.info()"
   ]
  },
  {
   "cell_type": "code",
   "execution_count": 13,
   "id": "404f92ff",
   "metadata": {},
   "outputs": [
    {
     "data": {
      "text/plain": [
       "<seaborn.axisgrid.FacetGrid at 0x18eb26fc190>"
      ]
     },
     "execution_count": 13,
     "metadata": {},
     "output_type": "execute_result"
    },
    {
     "data": {
      "image/png": "[encoded data removed]",
      "text/plain": [
       "<Figure size 360x360 with 1 Axes>"
      ]
     },
     "metadata": {
      "needs_background": "light"
     },
     "output_type": "display_data"
    }
   ],
   "source": [
    "sns.catplot(data=df_two_machine, x='Machine', y='Volume', kind='box')"
   ]
  },
  {
   "cell_type": "code",
   "execution_count": 16,
   "id": "2fbdae61",
   "metadata": {},
   "outputs": [],
   "source": [
    "m1 = df_two_machine[df_two_machine['Machine'] == 'Machine 1']['Volume']\n",
    "m2 = df_two_machine[df_two_machine['Machine'] == 'Machine 2']['Volume']\n"
   ]
  },
  {
   "cell_type": "code",
   "execution_count": 18,
   "id": "6312c564",
   "metadata": {},
   "outputs": [],
   "source": [
    "z_stat, p_value = weightstats.ztest(x1=m1, x2=m2)"
   ]
  },
  {
   "cell_type": "code",
   "execution_count": 19,
   "id": "c6f47b33",
   "metadata": {},
   "outputs": [
    {
     "name": "stdout",
     "output_type": "stream",
     "text": [
      "\n",
      "The Z-Statistic is: -2.189406040190184\n",
      "The p-value is: 0.028567341032618248 \n",
      "\n",
      "Ho is rejected in favour of Ha\n"
     ]
    }
   ],
   "source": [
    "print(f\"\"\"\n",
    "The Z-Statistic is: {z_stat}\n",
    "The p-value is: {p_value} \\n\"\"\"  )\n",
    "\n",
    "if p_value<0.05:\n",
    "    print(f\"Ho is rejected in favour of Ha\")\n",
    "else:\n",
    "    print(\"Failed to reject Ho\")"
   ]
  },
  {
   "cell_type": "code",
   "execution_count": 22,
   "id": "98bcc103",
   "metadata": {},
   "outputs": [],
   "source": [
    "# Computing the two sample t-statistic\n",
    "t_stat, p_value = stats.ttest_ind(a=m1, b=m2, equal_var=True)"
   ]
  },
  {
   "cell_type": "code",
   "execution_count": 23,
   "id": "ace574b8",
   "metadata": {},
   "outputs": [
    {
     "name": "stdout",
     "output_type": "stream",
     "text": [
      "\n",
      "The Z-Statistic is: -2.189406040190184\n",
      "The p-value is: 0.029736299645472124 \n",
      "\n",
      "Ho is rejected in favour of Ha\n"
     ]
    }
   ],
   "source": [
    "print(f\"\"\"\n",
    "The Z-Statistic is: {t_stat}\n",
    "The p-value is: {p_value} \\n\"\"\"  )\n",
    "\n",
    "if p_value<0.05:\n",
    "    print(f\"Ho is rejected in favour of Ha\")\n",
    "else:\n",
    "    print(\"Failed to reject Ho\")"
   ]
  },
  {
   "cell_type": "code",
   "execution_count": null,
   "id": "0ffab348",
   "metadata": {},
   "outputs": [],
   "source": []
  },
  {
   "cell_type": "markdown",
   "id": "5478261d",
   "metadata": {},
   "source": [
    "#### Problem 2:\n",
    "Checking the tips data\n",
    "\n",
    "Is there are difference of tips given by Male or Female\n",
    "\n",
    "Is there a difference of tips in the Dinner vs Lunch"
   ]
  },
  {
   "cell_type": "code",
   "execution_count": 25,
   "id": "951520c7",
   "metadata": {},
   "outputs": [
    {
     "data": {
      "text/plain": [
       "['anagrams',\n",
       " 'anscombe',\n",
       " 'attention',\n",
       " 'brain_networks',\n",
       " 'car_crashes',\n",
       " 'diamonds',\n",
       " 'dots',\n",
       " 'exercise',\n",
       " 'flights',\n",
       " 'fmri',\n",
       " 'gammas',\n",
       " 'geyser',\n",
       " 'iris',\n",
       " 'mpg',\n",
       " 'penguins',\n",
       " 'planets',\n",
       " 'tips',\n",
       " 'titanic']"
      ]
     },
     "execution_count": 25,
     "metadata": {},
     "output_type": "execute_result"
    }
   ],
   "source": [
    "sns.get_dataset_names()"
   ]
  },
  {
   "cell_type": "code",
   "execution_count": 26,
   "id": "9cf63af4",
   "metadata": {},
   "outputs": [
    {
     "data": {
      "text/html": [
       "<div>\n",
       "<style scoped>\n",
       "    .dataframe tbody tr th:only-of-type {\n",
       "        vertical-align: middle;\n",
       "    }\n",
       "\n",
       "    .dataframe tbody tr th {\n",
       "        vertical-align: top;\n",
       "    }\n",
       "\n",
       "    .dataframe thead th {\n",
       "        text-align: right;\n",
       "    }\n",
       "</style>\n",
       "<table border=\"1\" class=\"dataframe\">\n",
       "  <thead>\n",
       "    <tr style=\"text-align: right;\">\n",
       "      <th></th>\n",
       "      <th>total_bill</th>\n",
       "      <th>tip</th>\n",
       "      <th>sex</th>\n",
       "      <th>smoker</th>\n",
       "      <th>day</th>\n",
       "      <th>time</th>\n",
       "      <th>size</th>\n",
       "    </tr>\n",
       "  </thead>\n",
       "  <tbody>\n",
       "    <tr>\n",
       "      <th>0</th>\n",
       "      <td>16.99</td>\n",
       "      <td>1.01</td>\n",
       "      <td>Female</td>\n",
       "      <td>No</td>\n",
       "      <td>Sun</td>\n",
       "      <td>Dinner</td>\n",
       "      <td>2</td>\n",
       "    </tr>\n",
       "    <tr>\n",
       "      <th>1</th>\n",
       "      <td>10.34</td>\n",
       "      <td>1.66</td>\n",
       "      <td>Male</td>\n",
       "      <td>No</td>\n",
       "      <td>Sun</td>\n",
       "      <td>Dinner</td>\n",
       "      <td>3</td>\n",
       "    </tr>\n",
       "    <tr>\n",
       "      <th>2</th>\n",
       "      <td>21.01</td>\n",
       "      <td>3.50</td>\n",
       "      <td>Male</td>\n",
       "      <td>No</td>\n",
       "      <td>Sun</td>\n",
       "      <td>Dinner</td>\n",
       "      <td>3</td>\n",
       "    </tr>\n",
       "    <tr>\n",
       "      <th>3</th>\n",
       "      <td>23.68</td>\n",
       "      <td>3.31</td>\n",
       "      <td>Male</td>\n",
       "      <td>No</td>\n",
       "      <td>Sun</td>\n",
       "      <td>Dinner</td>\n",
       "      <td>2</td>\n",
       "    </tr>\n",
       "    <tr>\n",
       "      <th>4</th>\n",
       "      <td>24.59</td>\n",
       "      <td>3.61</td>\n",
       "      <td>Female</td>\n",
       "      <td>No</td>\n",
       "      <td>Sun</td>\n",
       "      <td>Dinner</td>\n",
       "      <td>4</td>\n",
       "    </tr>\n",
       "    <tr>\n",
       "      <th>...</th>\n",
       "      <td>...</td>\n",
       "      <td>...</td>\n",
       "      <td>...</td>\n",
       "      <td>...</td>\n",
       "      <td>...</td>\n",
       "      <td>...</td>\n",
       "      <td>...</td>\n",
       "    </tr>\n",
       "    <tr>\n",
       "      <th>239</th>\n",
       "      <td>29.03</td>\n",
       "      <td>5.92</td>\n",
       "      <td>Male</td>\n",
       "      <td>No</td>\n",
       "      <td>Sat</td>\n",
       "      <td>Dinner</td>\n",
       "      <td>3</td>\n",
       "    </tr>\n",
       "    <tr>\n",
       "      <th>240</th>\n",
       "      <td>27.18</td>\n",
       "      <td>2.00</td>\n",
       "      <td>Female</td>\n",
       "      <td>Yes</td>\n",
       "      <td>Sat</td>\n",
       "      <td>Dinner</td>\n",
       "      <td>2</td>\n",
       "    </tr>\n",
       "    <tr>\n",
       "      <th>241</th>\n",
       "      <td>22.67</td>\n",
       "      <td>2.00</td>\n",
       "      <td>Male</td>\n",
       "      <td>Yes</td>\n",
       "      <td>Sat</td>\n",
       "      <td>Dinner</td>\n",
       "      <td>2</td>\n",
       "    </tr>\n",
       "    <tr>\n",
       "      <th>242</th>\n",
       "      <td>17.82</td>\n",
       "      <td>1.75</td>\n",
       "      <td>Male</td>\n",
       "      <td>No</td>\n",
       "      <td>Sat</td>\n",
       "      <td>Dinner</td>\n",
       "      <td>2</td>\n",
       "    </tr>\n",
       "    <tr>\n",
       "      <th>243</th>\n",
       "      <td>18.78</td>\n",
       "      <td>3.00</td>\n",
       "      <td>Female</td>\n",
       "      <td>No</td>\n",
       "      <td>Thur</td>\n",
       "      <td>Dinner</td>\n",
       "      <td>2</td>\n",
       "    </tr>\n",
       "  </tbody>\n",
       "</table>\n",
       "<p>244 rows × 7 columns</p>\n",
       "</div>"
      ],
      "text/plain": [
       "     total_bill   tip     sex smoker   day    time  size\n",
       "0         16.99  1.01  Female     No   Sun  Dinner     2\n",
       "1         10.34  1.66    Male     No   Sun  Dinner     3\n",
       "2         21.01  3.50    Male     No   Sun  Dinner     3\n",
       "3         23.68  3.31    Male     No   Sun  Dinner     2\n",
       "4         24.59  3.61  Female     No   Sun  Dinner     4\n",
       "..          ...   ...     ...    ...   ...     ...   ...\n",
       "239       29.03  5.92    Male     No   Sat  Dinner     3\n",
       "240       27.18  2.00  Female    Yes   Sat  Dinner     2\n",
       "241       22.67  2.00    Male    Yes   Sat  Dinner     2\n",
       "242       17.82  1.75    Male     No   Sat  Dinner     2\n",
       "243       18.78  3.00  Female     No  Thur  Dinner     2\n",
       "\n",
       "[244 rows x 7 columns]"
      ]
     },
     "execution_count": 26,
     "metadata": {},
     "output_type": "execute_result"
    }
   ],
   "source": [
    "df_tips = sns.load_dataset(name='tips')\n",
    "df_tips"
   ]
  },
  {
   "cell_type": "code",
   "execution_count": 27,
   "id": "0693c65b",
   "metadata": {},
   "outputs": [
    {
     "data": {
      "text/html": [
       "<div>\n",
       "<style scoped>\n",
       "    .dataframe tbody tr th:only-of-type {\n",
       "        vertical-align: middle;\n",
       "    }\n",
       "\n",
       "    .dataframe tbody tr th {\n",
       "        vertical-align: top;\n",
       "    }\n",
       "\n",
       "    .dataframe thead th {\n",
       "        text-align: right;\n",
       "    }\n",
       "</style>\n",
       "<table border=\"1\" class=\"dataframe\">\n",
       "  <thead>\n",
       "    <tr style=\"text-align: right;\">\n",
       "      <th></th>\n",
       "      <th>total_bill</th>\n",
       "      <th>tip</th>\n",
       "      <th>size</th>\n",
       "    </tr>\n",
       "  </thead>\n",
       "  <tbody>\n",
       "    <tr>\n",
       "      <th>count</th>\n",
       "      <td>244.000000</td>\n",
       "      <td>244.000000</td>\n",
       "      <td>244.000000</td>\n",
       "    </tr>\n",
       "    <tr>\n",
       "      <th>mean</th>\n",
       "      <td>19.785943</td>\n",
       "      <td>2.998279</td>\n",
       "      <td>2.569672</td>\n",
       "    </tr>\n",
       "    <tr>\n",
       "      <th>std</th>\n",
       "      <td>8.902412</td>\n",
       "      <td>1.383638</td>\n",
       "      <td>0.951100</td>\n",
       "    </tr>\n",
       "    <tr>\n",
       "      <th>min</th>\n",
       "      <td>3.070000</td>\n",
       "      <td>1.000000</td>\n",
       "      <td>1.000000</td>\n",
       "    </tr>\n",
       "    <tr>\n",
       "      <th>25%</th>\n",
       "      <td>13.347500</td>\n",
       "      <td>2.000000</td>\n",
       "      <td>2.000000</td>\n",
       "    </tr>\n",
       "    <tr>\n",
       "      <th>50%</th>\n",
       "      <td>17.795000</td>\n",
       "      <td>2.900000</td>\n",
       "      <td>2.000000</td>\n",
       "    </tr>\n",
       "    <tr>\n",
       "      <th>75%</th>\n",
       "      <td>24.127500</td>\n",
       "      <td>3.562500</td>\n",
       "      <td>3.000000</td>\n",
       "    </tr>\n",
       "    <tr>\n",
       "      <th>max</th>\n",
       "      <td>50.810000</td>\n",
       "      <td>10.000000</td>\n",
       "      <td>6.000000</td>\n",
       "    </tr>\n",
       "  </tbody>\n",
       "</table>\n",
       "</div>"
      ],
      "text/plain": [
       "       total_bill         tip        size\n",
       "count  244.000000  244.000000  244.000000\n",
       "mean    19.785943    2.998279    2.569672\n",
       "std      8.902412    1.383638    0.951100\n",
       "min      3.070000    1.000000    1.000000\n",
       "25%     13.347500    2.000000    2.000000\n",
       "50%     17.795000    2.900000    2.000000\n",
       "75%     24.127500    3.562500    3.000000\n",
       "max     50.810000   10.000000    6.000000"
      ]
     },
     "execution_count": 27,
     "metadata": {},
     "output_type": "execute_result"
    }
   ],
   "source": [
    "df_tips.describe()"
   ]
  },
  {
   "cell_type": "code",
   "execution_count": 28,
   "id": "8158e046",
   "metadata": {},
   "outputs": [
    {
     "data": {
      "text/plain": [
       "<seaborn.axisgrid.FacetGrid at 0x18efe5a66d0>"
      ]
     },
     "execution_count": 28,
     "metadata": {},
     "output_type": "execute_result"
    },
    {
     "data": {
      "image/png": "[encoded data removed]",
      "text/plain": [
       "<Figure size 360x360 with 1 Axes>"
      ]
     },
     "metadata": {
      "needs_background": "light"
     },
     "output_type": "display_data"
    }
   ],
   "source": [
    "sns.catplot(data=df_tips, x='sex', y='tip', kind='box')"
   ]
  },
  {
   "cell_type": "code",
   "execution_count": 29,
   "id": "c0cfb4e7",
   "metadata": {},
   "outputs": [
    {
     "data": {
      "text/plain": [
       "<seaborn.axisgrid.FacetGrid at 0x18eb2a770d0>"
      ]
     },
     "execution_count": 29,
     "metadata": {},
     "output_type": "execute_result"
    },
    {
     "data": {
      "image/png": "[encoded data removed]",
      "text/plain": [
       "<Figure size 433.75x360 with 1 Axes>"
      ]
     },
     "metadata": {
      "needs_background": "light"
     },
     "output_type": "display_data"
    }
   ],
   "source": [
    "sns.catplot(data=df_tips, x='sex', y='tip', hue='time', kind='box')"
   ]
  },
  {
   "cell_type": "code",
   "execution_count": 32,
   "id": "8112f20b",
   "metadata": {},
   "outputs": [],
   "source": [
    "tip_male = df_tips[df_tips['sex']=='Male']['tip']\n",
    "tip_female = df_tips[df_tips['sex']=='Female']['tip']"
   ]
  },
  {
   "cell_type": "code",
   "execution_count": 34,
   "id": "115cd9ea",
   "metadata": {},
   "outputs": [],
   "source": [
    "z_stat, p_value = weightstats.ztest(x1=tip_male, x2=tip_female, alternative='two-sided')"
   ]
  },
  {
   "cell_type": "code",
   "execution_count": 35,
   "id": "a7cde942",
   "metadata": {},
   "outputs": [
    {
     "name": "stdout",
     "output_type": "stream",
     "text": [
      "\n",
      "The Z-Statistic is: 1.3878597054212687\n",
      "The p-value is: 0.1651797698624794 \n",
      "\n",
      "Failed to reject Ho\n"
     ]
    }
   ],
   "source": [
    "print(f\"\"\"\n",
    "The Z-Statistic is: {z_stat}\n",
    "The p-value is: {p_value} \\n\"\"\"  )\n",
    "\n",
    "if p_value<0.05:\n",
    "    print(f\"Ho is rejected in favour of Ha\")\n",
    "else:\n",
    "    print(\"Failed to reject Ho\")"
   ]
  },
  {
   "cell_type": "code",
   "execution_count": 38,
   "id": "0dc39606",
   "metadata": {},
   "outputs": [],
   "source": [
    "t_stat, p_value = stats.ttest_ind(a=tip_male, b=tip_female, alternative='two-sided', equal_var=True)"
   ]
  },
  {
   "cell_type": "code",
   "execution_count": 39,
   "id": "c99d447e",
   "metadata": {},
   "outputs": [
    {
     "name": "stdout",
     "output_type": "stream",
     "text": [
      "\n",
      "The Z-Statistic is: 1.3878597054212687\n",
      "The p-value is: 0.16645623503456763 \n",
      "\n",
      "Failed to reject Ho\n"
     ]
    }
   ],
   "source": [
    "print(f\"\"\"\n",
    "The Z-Statistic is: {t_stat}\n",
    "The p-value is: {p_value} \\n\"\"\"  )\n",
    "\n",
    "if p_value<0.05:\n",
    "    print(f\"Ho is rejected in favour of Ha\")\n",
    "else:\n",
    "    print(\"Failed to reject Ho\")"
   ]
  },
  {
   "cell_type": "code",
   "execution_count": null,
   "id": "4b86c766",
   "metadata": {},
   "outputs": [],
   "source": []
  },
  {
   "cell_type": "code",
   "execution_count": null,
   "id": "be5e1742",
   "metadata": {},
   "outputs": [],
   "source": []
  },
  {
   "cell_type": "code",
   "execution_count": null,
   "id": "df06124b",
   "metadata": {},
   "outputs": [],
   "source": []
  },
  {
   "cell_type": "code",
   "execution_count": null,
   "id": "cd4987be",
   "metadata": {},
   "outputs": [],
   "source": []
  }
 ],
 "metadata": {
  "kernelspec": {
   "display_name": "Python 3",
   "language": "python",
   "name": "python3"
  },
  "language_info": {
   "codemirror_mode": {
    "name": "ipython",
    "version": 3
   },
   "file_extension": ".py",
   "mimetype": "text/x-python",
   "name": "python",
   "nbconvert_exporter": "python",
   "pygments_lexer": "ipython3",
   "version": "3.9.4"
  }
 },
 "nbformat": 4,
 "nbformat_minor": 5
}
