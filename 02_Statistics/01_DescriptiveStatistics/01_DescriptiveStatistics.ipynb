{
 "cells": [
  {
   "cell_type": "code",
   "execution_count": 1,
   "id": "01d1e3c5",
   "metadata": {},
   "outputs": [],
   "source": [
    "import numpy as np\n",
    "import pandas as pd\n",
    "import matplotlib.pyplot as plt"
   ]
  },
  {
   "cell_type": "code",
   "execution_count": 38,
   "id": "c97cea32",
   "metadata": {},
   "outputs": [],
   "source": [
    "import statistics as st"
   ]
  },
  {
   "attachments": {},
   "cell_type": "raw",
   "id": "07afe5b7",
   "metadata": {},
   "source": [
    "Descriptive Statistics\n",
    "\t• Measures of Central Tendency\n",
    "\t\t○ Mean\n",
    "\t\t○ Mode\n",
    "\t\t○ Median\n",
    "\t• Measures of Dispersionsure \n",
    "\t\t○ Range\n",
    "\t\t○ Standard Deviation\n",
    "\t\t○ Variance\n",
    "\t\t○ Inter Quartile Range (IQR)\n"
   ]
  },
  {
   "cell_type": "markdown",
   "id": "d4564916",
   "metadata": {},
   "source": [
    "## Measures of Central Tendency"
   ]
  },
  {
   "cell_type": "code",
   "execution_count": 5,
   "id": "ee841d3e",
   "metadata": {},
   "outputs": [
    {
     "data": {
      "text/plain": [
       "array([49, 60,  6, 95, 57, 72, 20, 75, 57, 92])"
      ]
     },
     "execution_count": 5,
     "metadata": {},
     "output_type": "execute_result"
    }
   ],
   "source": [
    "rand_num_arr = np.random.randint(0, high=100, size=10, dtype=np.int)\n",
    "rand_num_arr"
   ]
  },
  {
   "cell_type": "code",
   "execution_count": 37,
   "id": "3e097650",
   "metadata": {},
   "outputs": [
    {
     "data": {
      "text/plain": [
       "58.3"
      ]
     },
     "execution_count": 37,
     "metadata": {},
     "output_type": "execute_result"
    }
   ],
   "source": [
    "# Mean\n",
    "sum(rand_num_arr)/len(rand_num_arr)"
   ]
  },
  {
   "cell_type": "code",
   "execution_count": 6,
   "id": "2f23589d",
   "metadata": {},
   "outputs": [
    {
     "data": {
      "text/plain": [
       "58.3"
      ]
     },
     "execution_count": 6,
     "metadata": {},
     "output_type": "execute_result"
    }
   ],
   "source": [
    "# Mean\n",
    "rand_num_arr.mean()"
   ]
  },
  {
   "cell_type": "code",
   "execution_count": 39,
   "id": "b697508b",
   "metadata": {},
   "outputs": [
    {
     "data": {
      "text/plain": [
       "58"
      ]
     },
     "execution_count": 39,
     "metadata": {},
     "output_type": "execute_result"
    }
   ],
   "source": [
    "st.mean(rand_num_arr)"
   ]
  },
  {
   "cell_type": "code",
   "execution_count": 40,
   "id": "18b86763",
   "metadata": {},
   "outputs": [
    {
     "data": {
      "text/plain": [
       "58.3"
      ]
     },
     "execution_count": 40,
     "metadata": {},
     "output_type": "execute_result"
    }
   ],
   "source": [
    "st.fmean(rand_num_arr)"
   ]
  },
  {
   "cell_type": "code",
   "execution_count": 7,
   "id": "09bdb390",
   "metadata": {},
   "outputs": [
    {
     "data": {
      "text/plain": [
       "58.3"
      ]
     },
     "execution_count": 7,
     "metadata": {},
     "output_type": "execute_result"
    }
   ],
   "source": [
    "# Mean\n",
    "np.mean(rand_num_arr)"
   ]
  },
  {
   "cell_type": "code",
   "execution_count": 8,
   "id": "e07fa220",
   "metadata": {},
   "outputs": [
    {
     "data": {
      "text/plain": [
       "58.5"
      ]
     },
     "execution_count": 8,
     "metadata": {},
     "output_type": "execute_result"
    }
   ],
   "source": [
    "# Median\n",
    "np.median( rand_num_arr)"
   ]
  },
  {
   "cell_type": "code",
   "execution_count": 41,
   "id": "d5fac4e3",
   "metadata": {},
   "outputs": [
    {
     "data": {
      "text/plain": [
       "58.5"
      ]
     },
     "execution_count": 41,
     "metadata": {},
     "output_type": "execute_result"
    }
   ],
   "source": [
    "st.median(rand_num_arr)"
   ]
  },
  {
   "cell_type": "code",
   "execution_count": 17,
   "id": "e1af0c7b",
   "metadata": {},
   "outputs": [
    {
     "name": "stdout",
     "output_type": "stream",
     "text": [
      "Sorted order [ 6 20 49 57 57 60 72 75 92 95] and the median is 58.5\n"
     ]
    }
   ],
   "source": [
    "# Proof for median\n",
    "rand_num_arr.sort()\n",
    "if len(rand_num_arr) % 2 ==0:\n",
    "    med = (rand_num_arr[(len(rand_num_arr)-1)//2] + rand_num_arr[len(rand_num_arr)//2])/2\n",
    "else:\n",
    "    med = (rand_num_arr[(len(rand_num_arr)-1)//2])/2\n",
    "\n",
    "print(f'Sorted order {rand_num_arr} and the median is {med}')\n",
    "    "
   ]
  },
  {
   "cell_type": "code",
   "execution_count": 42,
   "id": "fb3c9fa5",
   "metadata": {},
   "outputs": [
    {
     "data": {
      "text/plain": [
       "57"
      ]
     },
     "execution_count": 42,
     "metadata": {},
     "output_type": "execute_result"
    }
   ],
   "source": [
    "# Mode\n",
    "st.mode(rand_num_arr)"
   ]
  },
  {
   "cell_type": "code",
   "execution_count": null,
   "id": "43da9689",
   "metadata": {},
   "outputs": [],
   "source": []
  },
  {
   "cell_type": "markdown",
   "id": "5c665f68",
   "metadata": {},
   "source": [
    "## Measures of Dispersion"
   ]
  },
  {
   "cell_type": "code",
   "execution_count": 20,
   "id": "61cdd31f",
   "metadata": {},
   "outputs": [
    {
     "data": {
      "text/plain": [
       "89"
      ]
     },
     "execution_count": 20,
     "metadata": {},
     "output_type": "execute_result"
    }
   ],
   "source": [
    "# Range\n",
    "np.max(rand_num_arr) - np.min(rand_num_arr)"
   ]
  },
  {
   "cell_type": "code",
   "execution_count": 43,
   "id": "1611f8bd",
   "metadata": {},
   "outputs": [
    {
     "data": {
      "text/plain": [
       "89"
      ]
     },
     "execution_count": 43,
     "metadata": {},
     "output_type": "execute_result"
    }
   ],
   "source": [
    "max(rand_num_arr) - min(rand_num_arr)"
   ]
  },
  {
   "cell_type": "code",
   "execution_count": 21,
   "id": "4057afcb",
   "metadata": {},
   "outputs": [
    {
     "data": {
      "text/plain": [
       "26.91486578082826"
      ]
     },
     "execution_count": 21,
     "metadata": {},
     "output_type": "execute_result"
    }
   ],
   "source": [
    "# Standard Deviation\n",
    "np.std(rand_num_arr)"
   ]
  },
  {
   "cell_type": "code",
   "execution_count": 44,
   "id": "44a8d630",
   "metadata": {},
   "outputs": [
    {
     "data": {
      "text/plain": [
       "28.35489375751565"
      ]
     },
     "execution_count": 44,
     "metadata": {},
     "output_type": "execute_result"
    }
   ],
   "source": [
    "st.stdev(rand_num_arr)"
   ]
  },
  {
   "cell_type": "code",
   "execution_count": 22,
   "id": "0863a0d4",
   "metadata": {},
   "outputs": [
    {
     "data": {
      "text/plain": [
       "0.0"
      ]
     },
     "execution_count": 22,
     "metadata": {},
     "output_type": "execute_result"
    }
   ],
   "source": [
    "np.std([4,4,4,4,4,4])"
   ]
  },
  {
   "cell_type": "code",
   "execution_count": 23,
   "id": "0d5b3326",
   "metadata": {},
   "outputs": [
    {
     "data": {
      "text/plain": [
       "724.4100000000001"
      ]
     },
     "execution_count": 23,
     "metadata": {},
     "output_type": "execute_result"
    }
   ],
   "source": [
    "# Variance\n",
    "np.var(rand_num_arr)"
   ]
  },
  {
   "cell_type": "code",
   "execution_count": 45,
   "id": "e2737d35",
   "metadata": {},
   "outputs": [
    {
     "data": {
      "text/plain": [
       "804"
      ]
     },
     "execution_count": 45,
     "metadata": {},
     "output_type": "execute_result"
    }
   ],
   "source": [
    "st.variance(rand_num_arr)"
   ]
  },
  {
   "cell_type": "code",
   "execution_count": 46,
   "id": "ed9c8dc2",
   "metadata": {},
   "outputs": [
    {
     "name": "stdout",
     "output_type": "stream",
     "text": [
      "Std: 26.91486578082826, Variance Sqrt: 26.91486578082826, Variance: 724.4100000000001\n"
     ]
    }
   ],
   "source": [
    "# Check if Var and Standard Deviation computed are correct\n",
    "print(f'Std: {np.std(rand_num_arr)}, \\\n",
    "Variance Sqrt: {np.sqrt(np.var(rand_num_arr))}, \\\n",
    "Variance: {np.var(rand_num_arr)}')"
   ]
  },
  {
   "cell_type": "code",
   "execution_count": 53,
   "id": "6ff8a82b",
   "metadata": {},
   "outputs": [
    {
     "name": "stdout",
     "output_type": "stream",
     "text": [
      "Std: 28.370759595047858, Variance Sqrt: 28.370759595047858, Variance: 804.9000000000001\n"
     ]
    }
   ],
   "source": [
    "# Check if Var and Standard Deviation computed are correct\n",
    "print(f'Std: {np.std(rand_num_arr, ddof=1)}, \\\n",
    "Variance Sqrt: {np.sqrt(np.var(rand_num_arr, ddof=1))}, \\\n",
    "Variance: {np.var(rand_num_arr, ddof=1)}')"
   ]
  },
  {
   "cell_type": "code",
   "execution_count": 47,
   "id": "a36c976d",
   "metadata": {},
   "outputs": [
    {
     "name": "stdout",
     "output_type": "stream",
     "text": [
      "Std: 28.35489375751565, Variance Sqrt: 28.35489375751565, Variance: 804\n"
     ]
    }
   ],
   "source": [
    "# Check if Var and Standard Deviation computed are correct\n",
    "print(f'Std: {st.stdev(rand_num_arr)}, \\\n",
    "Variance Sqrt: {st.sqrt(st.variance(rand_num_arr))}, \\\n",
    "Variance: {st.variance(rand_num_arr)}')"
   ]
  },
  {
   "cell_type": "markdown",
   "id": "87734b22",
   "metadata": {},
   "source": [
    "#### There is a clear difference between np.std(rand_num_arr) and st.stdev(rand_num_arr) since the degrees of freedom are not considered. Once we give np.std(rand_num_arr, ddof=1) then both are equal"
   ]
  },
  {
   "cell_type": "code",
   "execution_count": 36,
   "id": "e6ea7054",
   "metadata": {},
   "outputs": [
    {
     "name": "stdout",
     "output_type": "stream",
     "text": [
      "Q0: 6\n",
      "       Q1: 51.0\n",
      "       Q2: 58.5\n",
      "       Q3: 74.25\n",
      "       Q4: 95\n",
      "\n"
     ]
    }
   ],
   "source": [
    "# IQR\n",
    "print( f'Q0: {np.quantile(rand_num_arr, 0)}\\n \\\n",
    "      Q1: {np.quantile(rand_num_arr, .25)}\\n \\\n",
    "      Q2: {np.quantile(rand_num_arr, 0.5)}\\n \\\n",
    "      Q3: {np.quantile(rand_num_arr, 0.75)}\\n \\\n",
    "      Q4: {np.quantile(rand_num_arr, 1)}\\n')\n",
    "# print( f'Q0: {np.quantile(rand_num_arr, .1)}') #Q1: {np.quantile(.25)}\\nQ2: {np.quantile(0.5)}\\nQ3: {np.quantile(0.75)}\\nQ4: {np.quantile(.9)}\\n')"
   ]
  },
  {
   "cell_type": "code",
   "execution_count": 56,
   "id": "03718e91",
   "metadata": {},
   "outputs": [
    {
     "data": {
      "text/plain": [
       "[41.75, 58.5, 79.25]"
      ]
     },
     "execution_count": 56,
     "metadata": {},
     "output_type": "execute_result"
    }
   ],
   "source": [
    "st.quantiles(rand_num_arr)"
   ]
  },
  {
   "cell_type": "code",
   "execution_count": 57,
   "id": "03db95d6",
   "metadata": {},
   "outputs": [],
   "source": [
    "import matplotlib.pyplot as plt\n",
    "import seaborn as sns"
   ]
  },
  {
   "cell_type": "code",
   "execution_count": 59,
   "id": "3cc3adc1",
   "metadata": {},
   "outputs": [
    {
     "data": {
      "text/plain": [
       "<AxesSubplot:>"
      ]
     },
     "execution_count": 59,
     "metadata": {},
     "output_type": "execute_result"
    },
    {
     "data": {
      "image/png": "[encoded data removed]",
      "text/plain": [
       "<Figure size 432x288 with 1 Axes>"
      ]
     },
     "metadata": {
      "needs_background": "light"
     },
     "output_type": "display_data"
    }
   ],
   "source": [
    "sns.boxenplot(x=rand_num_arr)"
   ]
  },
  {
   "cell_type": "code",
   "execution_count": 62,
   "id": "c33015ca",
   "metadata": {},
   "outputs": [
    {
     "data": {
      "text/plain": [
       "<AxesSubplot:>"
      ]
     },
     "execution_count": 62,
     "metadata": {},
     "output_type": "execute_result"
    },
    {
     "data": {
      "image/png": "[encoded data removed]",
      "text/plain": [
       "<Figure size 432x288 with 1 Axes>"
      ]
     },
     "metadata": {
      "needs_background": "light"
     },
     "output_type": "display_data"
    }
   ],
   "source": [
    "sns.boxplot(x=rand_num_arr)"
   ]
  },
  {
   "cell_type": "code",
   "execution_count": 65,
   "id": "434a6f1d",
   "metadata": {},
   "outputs": [
    {
     "data": {
      "image/png": "[encoded data removed]",
      "text/plain": [
       "<Figure size 432x288 with 1 Axes>"
      ]
     },
     "metadata": {
      "needs_background": "light"
     },
     "output_type": "display_data"
    }
   ],
   "source": [
    "plt.boxplot(x=rand_num_arr)\n",
    "plt.show()"
   ]
  },
  {
   "cell_type": "code",
   "execution_count": null,
   "id": "c0c910cd",
   "metadata": {},
   "outputs": [],
   "source": []
  },
  {
   "cell_type": "code",
   "execution_count": null,
   "id": "3f616958",
   "metadata": {},
   "outputs": [],
   "source": []
  },
  {
   "cell_type": "code",
   "execution_count": null,
   "id": "dac8462f",
   "metadata": {},
   "outputs": [],
   "source": []
  },
  {
   "cell_type": "code",
   "execution_count": null,
   "id": "5771c929",
   "metadata": {},
   "outputs": [],
   "source": []
  },
  {
   "cell_type": "code",
   "execution_count": null,
   "id": "33df9044",
   "metadata": {},
   "outputs": [],
   "source": []
  },
  {
   "cell_type": "code",
   "execution_count": null,
   "id": "7decdff0",
   "metadata": {},
   "outputs": [],
   "source": []
  }
 ],
 "metadata": {
  "kernelspec": {
   "display_name": "Python 3",
   "language": "python",
   "name": "python3"
  },
  "language_info": {
   "codemirror_mode": {
    "name": "ipython",
    "version": 3
   },
   "file_extension": ".py",
   "mimetype": "text/x-python",
   "name": "python",
   "nbconvert_exporter": "python",
   "pygments_lexer": "ipython3",
   "version": "3.9.4"
  }
 },
 "nbformat": 4,
 "nbformat_minor": 5
}
